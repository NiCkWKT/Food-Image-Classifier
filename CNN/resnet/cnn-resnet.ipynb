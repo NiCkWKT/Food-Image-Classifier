{
 "cells": [
  {
   "cell_type": "markdown",
   "metadata": {
    "id": "jRDuJsGCgxCO"
   },
   "source": [
    "# STAT4012 Project\n",
    "\n",
    "- Implement residual network\n",
    "- 4-fold cross validation\n",
    "- Ensembling\n",
    "- Add lr_scheduler"
   ]
  },
  {
   "cell_type": "code",
   "execution_count": 29,
   "metadata": {
    "colab": {
     "base_uri": "https://localhost:8080/"
    },
    "execution": {
     "iopub.execute_input": "2023-04-11T12:41:06.291240Z",
     "iopub.status.busy": "2023-04-11T12:41:06.290545Z",
     "iopub.status.idle": "2023-04-11T12:41:07.280513Z",
     "shell.execute_reply": "2023-04-11T12:41:07.279388Z",
     "shell.execute_reply.started": "2023-04-11T12:41:06.291203Z"
    },
    "executionInfo": {
     "elapsed": 16,
     "status": "ok",
     "timestamp": 1681163010779,
     "user": {
      "displayName": "Nick Wu",
      "userId": "10283763741837486654"
     },
     "user_tz": -480
    },
    "id": "VOczpMHIjDie",
    "outputId": "391dfbc4-8c44-4ad1-d5ef-972059034649"
   },
   "outputs": [
    {
     "name": "stdout",
     "output_type": "stream",
     "text": [
      "GPU 0: NVIDIA GeForce RTX 3090 (UUID: GPU-72fdbd81-da45-b750-3719-ae5877e26726)\r\n"
     ]
    }
   ],
   "source": [
    "! nvidia-smi -L"
   ]
  },
  {
   "cell_type": "code",
   "execution_count": 30,
   "metadata": {
    "colab": {
     "base_uri": "https://localhost:8080/"
    },
    "execution": {
     "iopub.execute_input": "2023-04-11T12:41:13.145384Z",
     "iopub.status.busy": "2023-04-11T12:41:13.144840Z",
     "iopub.status.idle": "2023-04-11T12:41:13.157905Z",
     "shell.execute_reply": "2023-04-11T12:41:13.156774Z",
     "shell.execute_reply.started": "2023-04-11T12:41:13.145341Z"
    },
    "executionInfo": {
     "elapsed": 9,
     "status": "ok",
     "timestamp": 1681163016035,
     "user": {
      "displayName": "Nick Wu",
      "userId": "10283763741837486654"
     },
     "user_tz": -480
    },
    "id": "cmRFCYn7ng3R",
    "outputId": "cc8e0bb9-9901-46f0-d603-3fec648ffef6"
   },
   "outputs": [
    {
     "data": {
      "text/plain": [
       "12"
      ]
     },
     "execution_count": 30,
     "metadata": {},
     "output_type": "execute_result"
    }
   ],
   "source": [
    "import multiprocessing as mp\n",
    "num_cpu = mp.cpu_count()\n",
    "num_cpu"
   ]
  },
  {
   "cell_type": "code",
   "execution_count": 31,
   "metadata": {
    "execution": {
     "iopub.execute_input": "2023-04-11T12:41:23.966804Z",
     "iopub.status.busy": "2023-04-11T12:41:23.966414Z",
     "iopub.status.idle": "2023-04-11T12:41:23.971223Z",
     "shell.execute_reply": "2023-04-11T12:41:23.970243Z",
     "shell.execute_reply.started": "2023-04-11T12:41:23.966772Z"
    },
    "executionInfo": {
     "elapsed": 482,
     "status": "ok",
     "timestamp": 1681163068589,
     "user": {
      "displayName": "Nick Wu",
      "userId": "10283763741837486654"
     },
     "user_tz": -480
    },
    "id": "ay3WkYnHVaVE",
    "papermill": {
     "duration": 0.0189,
     "end_time": "2022-02-23T10:03:06.279758",
     "exception": false,
     "start_time": "2022-02-23T10:03:06.260858",
     "status": "completed"
    },
    "tags": []
   },
   "outputs": [],
   "source": [
    "_exp_name = \"CNN3\""
   ]
  },
  {
   "cell_type": "code",
   "execution_count": 32,
   "metadata": {
    "execution": {
     "iopub.execute_input": "2023-04-11T12:41:26.224108Z",
     "iopub.status.busy": "2023-04-11T12:41:26.223322Z",
     "iopub.status.idle": "2023-04-11T12:41:27.529474Z",
     "shell.execute_reply": "2023-04-11T12:41:27.528373Z",
     "shell.execute_reply.started": "2023-04-11T12:41:26.224062Z"
    },
    "executionInfo": {
     "elapsed": 3801,
     "status": "ok",
     "timestamp": 1681163072385,
     "user": {
      "displayName": "Nick Wu",
      "userId": "10283763741837486654"
     },
     "user_tz": -480
    },
    "id": "CwOGtRWHVaVF",
    "papermill": {
     "duration": 1.654263,
     "end_time": "2022-02-23T10:03:07.947242",
     "exception": false,
     "start_time": "2022-02-23T10:03:06.292979",
     "status": "completed"
    },
    "tags": []
   },
   "outputs": [],
   "source": [
    "# Import necessary packages.\n",
    "import numpy as np\n",
    "import pandas as pd\n",
    "import torch\n",
    "import os\n",
    "import torch.nn as nn\n",
    "import torchvision.transforms as transforms\n",
    "from PIL import Image\n",
    "from torch.utils.data import DataLoader, Dataset\n",
    "from torchvision.datasets import DatasetFolder, VisionDataset\n",
    "from tqdm import tqdm\n",
    "import random"
   ]
  },
  {
   "cell_type": "code",
   "execution_count": 33,
   "metadata": {},
   "outputs": [
    {
     "name": "stdout",
     "output_type": "stream",
     "text": [
      "cnn-resnet_fold1and2.ipynb  food-11  food-11.zip  __MACOSX\r\n"
     ]
    }
   ],
   "source": [
    "! ls"
   ]
  },
  {
   "cell_type": "code",
   "execution_count": 34,
   "metadata": {
    "execution": {
     "iopub.execute_input": "2023-04-11T12:41:29.044227Z",
     "iopub.status.busy": "2023-04-11T12:41:29.043119Z",
     "iopub.status.idle": "2023-04-11T12:41:29.111363Z",
     "shell.execute_reply": "2023-04-11T12:41:29.110296Z",
     "shell.execute_reply.started": "2023-04-11T12:41:29.044187Z"
    },
    "executionInfo": {
     "elapsed": 6,
     "status": "ok",
     "timestamp": 1681163072385,
     "user": {
      "displayName": "Nick Wu",
      "userId": "10283763741837486654"
     },
     "user_tz": -480
    },
    "id": "8kJm9GekVaVH",
    "papermill": {
     "duration": 0.078771,
     "end_time": "2022-02-23T10:03:08.039428",
     "exception": false,
     "start_time": "2022-02-23T10:03:07.960657",
     "status": "completed"
    },
    "tags": []
   },
   "outputs": [],
   "source": [
    "myseed = 4012  # set a random seed for reproducibility\n",
    "torch.backends.cudnn.deterministic = True\n",
    "torch.backends.cudnn.benchmark = False\n",
    "np.random.seed(myseed)\n",
    "torch.manual_seed(myseed)\n",
    "if torch.cuda.is_available():\n",
    "    torch.cuda.manual_seed_all(myseed)"
   ]
  },
  {
   "cell_type": "markdown",
   "metadata": {
    "id": "d9MVtgbSVaVH",
    "papermill": {
     "duration": 0.01289,
     "end_time": "2022-02-23T10:03:08.065357",
     "exception": false,
     "start_time": "2022-02-23T10:03:08.052467",
     "status": "completed"
    },
    "tags": []
   },
   "source": [
    "## **Transforms**\n",
    "Torchvision provides lots of useful utilities for image preprocessing, data wrapping as well as data augmentation.\n",
    "\n",
    "Please refer to PyTorch official website for details about different transforms."
   ]
  },
  {
   "cell_type": "code",
   "execution_count": 35,
   "metadata": {
    "execution": {
     "iopub.execute_input": "2023-04-11T12:41:31.984491Z",
     "iopub.status.busy": "2023-04-11T12:41:31.983886Z",
     "iopub.status.idle": "2023-04-11T12:41:31.991880Z",
     "shell.execute_reply": "2023-04-11T12:41:31.990669Z",
     "shell.execute_reply.started": "2023-04-11T12:41:31.984446Z"
    },
    "executionInfo": {
     "elapsed": 6,
     "status": "ok",
     "timestamp": 1681163072386,
     "user": {
      "displayName": "Nick Wu",
      "userId": "10283763741837486654"
     },
     "user_tz": -480
    },
    "id": "jvI3Xmq4VaVJ",
    "papermill": {
     "duration": 0.021406,
     "end_time": "2022-02-23T10:03:08.099437",
     "exception": false,
     "start_time": "2022-02-23T10:03:08.078031",
     "status": "completed"
    },
    "tags": []
   },
   "outputs": [],
   "source": [
    "test_tfm = transforms.Compose([\n",
    "    # (height = width = 128)\n",
    "    transforms.Resize((128, 128)),\n",
    "    transforms.ToTensor(),\n",
    "])\n",
    "\n",
    "train_tfm = transforms.Compose([\n",
    "    # (height = width = 128)\n",
    "    #transforms.CenterCrop()\n",
    "    transforms.RandomResizedCrop((128, 128), scale=(0.7, 1.0)),\n",
    "    #transforms.AutoAugment(transforms.AutoAugmentPolicy.IMAGENET),\n",
    "    #transforms.Normalize((0.485, 0.456, 0.406), (0.229, 0.224, 0.225)),\n",
    "    transforms.RandomHorizontalFlip(0.5),\n",
    "    transforms.RandomVerticalFlip(0.5),\n",
    "    transforms.RandomRotation(180),\n",
    "    transforms.RandomAffine(30),\n",
    "    #transforms.RandomInvert(p=0.2),\n",
    "    #transforms.RandomPosterize(bits=2),\n",
    "    #transforms.RandomSolarize(threshold=192.0, p=0.2),\n",
    "    #transforms.RandomEqualize(p=0.2),\n",
    "    transforms.RandomGrayscale(p=0.2),\n",
    "    transforms.ToTensor(),\n",
    "    #transforms.RandomApply(torch.nn.ModuleList([]))\n",
    "])\n"
   ]
  },
  {
   "cell_type": "markdown",
   "metadata": {
    "id": "D0ivMf-jVaVK",
    "papermill": {
     "duration": 0.012739,
     "end_time": "2022-02-23T10:03:08.125181",
     "exception": false,
     "start_time": "2022-02-23T10:03:08.112442",
     "status": "completed"
    },
    "tags": []
   },
   "source": [
    "## **Datasets**\n",
    "The data is labelled by the name, so we load images and label while calling '__getitem__'"
   ]
  },
  {
   "cell_type": "code",
   "execution_count": 36,
   "metadata": {
    "execution": {
     "iopub.execute_input": "2023-04-11T12:41:35.784394Z",
     "iopub.status.busy": "2023-04-11T12:41:35.783680Z",
     "iopub.status.idle": "2023-04-11T12:41:35.792482Z",
     "shell.execute_reply": "2023-04-11T12:41:35.791489Z",
     "shell.execute_reply.started": "2023-04-11T12:41:35.784357Z"
    },
    "executionInfo": {
     "elapsed": 2,
     "status": "ok",
     "timestamp": 1681163435334,
     "user": {
      "displayName": "Nick Wu",
      "userId": "10283763741837486654"
     },
     "user_tz": -480
    },
    "id": "xBdtPhKwVaVL",
    "papermill": {
     "duration": 0.023022,
     "end_time": "2022-02-23T10:03:08.160912",
     "exception": false,
     "start_time": "2022-02-23T10:03:08.13789",
     "status": "completed"
    },
    "tags": []
   },
   "outputs": [],
   "source": [
    "class FoodDataset(Dataset):\n",
    "\n",
    "    def __init__(self,path=None,tfm=test_tfm,files=None):\n",
    "        super(FoodDataset).__init__()\n",
    "        self.path = path\n",
    "        if path:\n",
    "            self.files = sorted([os.path.join(path, x) for x in os.listdir(path) if x.endswith(\".jpg\")])\n",
    "        else:\n",
    "            self.files = files\n",
    "        self.transform = tfm\n",
    "  \n",
    "    def __len__(self):\n",
    "        return len(self.files)\n",
    "  \n",
    "    def __getitem__(self,idx):\n",
    "        fname = self.files[idx]\n",
    "        im = Image.open(fname)\n",
    "        im = self.transform(im)\n",
    "        #im = self.data[idx]\n",
    "        try:\n",
    "            label = int(fname.split(\"/\")[-1].split(\"_\")[0])\n",
    "        except:\n",
    "            label = -1 # test has no label\n",
    "        return im,label"
   ]
  },
  {
   "cell_type": "code",
   "execution_count": 37,
   "metadata": {
    "execution": {
     "iopub.execute_input": "2023-04-11T12:43:00.729889Z",
     "iopub.status.busy": "2023-04-11T12:43:00.728781Z",
     "iopub.status.idle": "2023-04-11T12:43:00.747959Z",
     "shell.execute_reply": "2023-04-11T12:43:00.746833Z",
     "shell.execute_reply.started": "2023-04-11T12:43:00.729848Z"
    },
    "executionInfo": {
     "elapsed": 4,
     "status": "ok",
     "timestamp": 1681163078591,
     "user": {
      "displayName": "Nick Wu",
      "userId": "10283763741837486654"
     },
     "user_tz": -480
    },
    "id": "b_kDECOJVaVL",
    "papermill": {
     "duration": 0.0258,
     "end_time": "2022-02-23T10:03:08.199437",
     "exception": false,
     "start_time": "2022-02-23T10:03:08.173637",
     "status": "completed"
    },
    "tags": []
   },
   "outputs": [],
   "source": [
    "class Residual_Block(nn.Module):\n",
    "    def __init__(self, ic, oc, stride=1):\n",
    "        # torch.nn.Conv2d(in_channels, out_channels, kernel_size, stride, padding)\n",
    "        # torch.nn.MaxPool2d(kernel_size, stride, padding)\n",
    "        super().__init__()\n",
    "        self.conv1 = nn.Sequential(\n",
    "            nn.Conv2d(ic, oc, kernel_size=3, stride=stride, padding=1),\n",
    "            nn.BatchNorm2d(oc),\n",
    "            nn.ReLU(inplace=True)\n",
    "        )\n",
    "        \n",
    "        self.conv2 = nn.Sequential(\n",
    "            nn.Conv2d(oc, oc, kernel_size=3, stride=1, padding=1),\n",
    "            nn.BatchNorm2d(oc),\n",
    "        )\n",
    "        \n",
    "        self.relu = nn.ReLU(inplace=True)\n",
    "    \n",
    "        self.downsample = None\n",
    "        if stride != 1 or (ic != oc):\n",
    "            self.downsample = nn.Sequential(\n",
    "                nn.Conv2d(ic, oc, kernel_size=1, stride=stride),\n",
    "                nn.BatchNorm2d(oc),\n",
    "            )\n",
    "        \n",
    "    def forward(self, x):\n",
    "        residual = x\n",
    "        out = self.conv1(x)\n",
    "        out = self.conv2(out)\n",
    "        \n",
    "        if self.downsample:\n",
    "            residual = self.downsample(x)\n",
    "            \n",
    "        out += residual\n",
    "        return self.relu(out)\n",
    "\n",
    "class Classifier(nn.Module):\n",
    "    def __init__(self, block, num_layers, num_classes=11):\n",
    "        super().__init__()\n",
    "        self.preconv = nn.Sequential(\n",
    "            nn.Conv2d(3, 32, kernel_size=7, stride=2, padding=3, bias=False),\n",
    "            nn.BatchNorm2d(32),\n",
    "            nn.ReLU(inplace=True),\n",
    "        )\n",
    "        \n",
    "        self.layer0 = self.make_residual(block, 32, 64,  num_layers[0], stride=2)\n",
    "        self.layer1 = self.make_residual(block, 64, 128, num_layers[1], stride=2)\n",
    "        self.layer2 = self.make_residual(block, 128, 256, num_layers[2], stride=2)\n",
    "        self.layer3 = self.make_residual(block, 256, 512, num_layers[3], stride=2)\n",
    "        \n",
    "#         self.avgpool = nn.AvgPool2d(2)\n",
    "        \n",
    "        self.fc = nn.Sequential(            \n",
    "            nn.Dropout(0.4),\n",
    "            nn.Linear(512*4*4, 512),\n",
    "            nn.BatchNorm1d(512),\n",
    "            nn.ReLU(inplace=True),\n",
    "            nn.Dropout(0.2),\n",
    "            nn.Linear(512, 11),\n",
    "        )\n",
    "        \n",
    "        \n",
    "    def make_residual(self, block, ic, oc, num_layer, stride=1):\n",
    "        layers = []\n",
    "        layers.append(block(ic, oc, stride))\n",
    "        for i in range(1, num_layer):\n",
    "            layers.append(block(oc, oc))\n",
    "        return nn.Sequential(*layers)\n",
    "    \n",
    "    def forward(self, x):\n",
    "        # [3, 128, 128]\n",
    "        out = self.preconv(x)  # [32, 64, 64]\n",
    "        out = self.layer0(out) # [64, 32, 32]\n",
    "        out = self.layer1(out) # [128, 16, 16]\n",
    "        out = self.layer2(out) # [256, 8, 8]\n",
    "        out = self.layer3(out) # [512, 4, 4]\n",
    "#         out = self.avgpool(out) # [512, 2, 2]\n",
    "        out = self.fc(out.view(out.size(0), -1)) \n",
    "        return out"
   ]
  },
  {
   "cell_type": "code",
   "execution_count": 38,
   "metadata": {
    "execution": {
     "iopub.execute_input": "2023-04-11T12:43:06.183667Z",
     "iopub.status.busy": "2023-04-11T12:43:06.182615Z",
     "iopub.status.idle": "2023-04-11T12:43:06.190014Z",
     "shell.execute_reply": "2023-04-11T12:43:06.188866Z",
     "shell.execute_reply.started": "2023-04-11T12:43:06.183592Z"
    },
    "executionInfo": {
     "elapsed": 3,
     "status": "ok",
     "timestamp": 1681163090164,
     "user": {
      "displayName": "Nick Wu",
      "userId": "10283763741837486654"
     },
     "user_tz": -480
    },
    "id": "raSJc5-bCtqV"
   },
   "outputs": [],
   "source": [
    "batch_size = 128\n",
    "num_layers = [2, 3, 3, 1] # residual number layers\n",
    "\n",
    "n_epochs = 300\n",
    "patience = 20 # If no improvement in 'patience' epochs, early stop\n",
    "\n",
    "k_fold = 4"
   ]
  },
  {
   "cell_type": "code",
   "execution_count": 39,
   "metadata": {
    "execution": {
     "iopub.execute_input": "2023-04-11T12:43:09.734189Z",
     "iopub.status.busy": "2023-04-11T12:43:09.733174Z",
     "iopub.status.idle": "2023-04-11T12:43:09.778245Z",
     "shell.execute_reply": "2023-04-11T12:43:09.777168Z",
     "shell.execute_reply.started": "2023-04-11T12:43:09.734136Z"
    },
    "executionInfo": {
     "elapsed": 3,
     "status": "ok",
     "timestamp": 1681163295457,
     "user": {
      "displayName": "Nick Wu",
      "userId": "10283763741837486654"
     },
     "user_tz": -480
    },
    "id": "2_OeWtstVaVO",
    "papermill": {
     "duration": 0.054295,
     "end_time": "2022-02-23T10:03:08.266338",
     "exception": false,
     "start_time": "2022-02-23T10:03:08.212043",
     "status": "completed"
    },
    "tags": []
   },
   "outputs": [
    {
     "data": {
      "text/plain": [
       "13296"
      ]
     },
     "execution_count": 39,
     "metadata": {},
     "output_type": "execute_result"
    }
   ],
   "source": [
    "train_dir = \"./food-11/training\"\n",
    "val_dir = \"./food-11/validation\"\n",
    "\n",
    "train_files = [os.path.join(train_dir, x) for x in os.listdir(train_dir) if x.endswith('.jpg')]\n",
    "val_files = [os.path.join(val_dir, x) for x in os.listdir(val_dir) if x.endswith('.jpg')]\n",
    "total_files = train_files + val_files\n",
    "random.seed(myseed)\n",
    "random.shuffle(total_files)\n",
    "\n",
    "num = len(total_files) // k_fold\n",
    "len(total_files)"
   ]
  },
  {
   "cell_type": "code",
   "execution_count": 40,
   "metadata": {
    "colab": {
     "base_uri": "https://localhost:8080/"
    },
    "execution": {
     "iopub.execute_input": "2023-04-11T12:43:12.357181Z",
     "iopub.status.busy": "2023-04-11T12:43:12.356757Z"
    },
    "id": "Lp3y_ITOEUN_",
    "outputId": "3d1b7e03-d1bc-4c0f-abce-26666362f789"
   },
   "outputs": [
    {
     "name": "stdout",
     "output_type": "stream",
     "text": [
      "cuda\n",
      "\n",
      "\n",
      "Starting Fold: 1 ********************************************\n",
      "cuda:0\n"
     ]
    },
    {
     "name": "stderr",
     "output_type": "stream",
     "text": [
      "T: 001/300: 100%|█| 78/78 [00:07<00:00, 10.78it/s, lr=0.0004, b_loss=1.97, b_acc\n"
     ]
    },
    {
     "name": "stdout",
     "output_type": "stream",
     "text": [
      "[ Train | 001/300 ] loss = 2.09193, acc = 0.26191\n"
     ]
    },
    {
     "name": "stderr",
     "output_type": "stream",
     "text": [
      "V: 001/300: 100%|███████| 26/26 [00:02<00:00, 12.74it/s, v_loss=2.31, v_acc=0.2]\n"
     ]
    },
    {
     "name": "stdout",
     "output_type": "stream",
     "text": [
      "[ Valid | 001/300 ] loss = 2.30717, acc = 0.19972\n",
      "[ Valid | 001/300 ] loss = 2.30717, acc = 0.19972 -> best\n",
      "Best model found at fold 1 epoch 1, acc=0.19972, saving model\n"
     ]
    },
    {
     "name": "stderr",
     "output_type": "stream",
     "text": [
      "T: 002/300: 100%|█| 78/78 [00:06<00:00, 11.26it/s, lr=0.000398, b_loss=1.88, b_a\n"
     ]
    },
    {
     "name": "stdout",
     "output_type": "stream",
     "text": [
      "[ Train | 002/300 ] loss = 1.92850, acc = 0.31922\n"
     ]
    },
    {
     "name": "stderr",
     "output_type": "stream",
     "text": [
      "V: 002/300: 100%|█████| 26/26 [00:02<00:00, 12.81it/s, v_loss=1.92, v_acc=0.326]\n"
     ]
    },
    {
     "name": "stdout",
     "output_type": "stream",
     "text": [
      "[ Valid | 002/300 ] loss = 1.91661, acc = 0.32645\n",
      "[ Valid | 002/300 ] loss = 1.91661, acc = 0.32645 -> best\n",
      "Best model found at fold 1 epoch 2, acc=0.32645, saving model\n"
     ]
    },
    {
     "name": "stderr",
     "output_type": "stream",
     "text": [
      "T: 003/300: 100%|█| 78/78 [00:07<00:00, 10.78it/s, lr=0.00039, b_loss=1.79, b_ac\n"
     ]
    },
    {
     "name": "stdout",
     "output_type": "stream",
     "text": [
      "[ Train | 003/300 ] loss = 1.85491, acc = 0.35207\n"
     ]
    },
    {
     "name": "stderr",
     "output_type": "stream",
     "text": [
      "V: 003/300: 100%|█████| 26/26 [00:01<00:00, 14.55it/s, v_loss=1.94, v_acc=0.312]\n"
     ]
    },
    {
     "name": "stdout",
     "output_type": "stream",
     "text": [
      "[ Valid | 003/300 ] loss = 1.94452, acc = 0.31168\n",
      "[ Valid | 003/300 ] loss = 1.94452, acc = 0.31168\n"
     ]
    },
    {
     "name": "stderr",
     "output_type": "stream",
     "text": [
      "T: 004/300: 100%|█| 78/78 [00:07<00:00, 10.81it/s, lr=0.000378, b_loss=1.82, b_a\n"
     ]
    },
    {
     "name": "stdout",
     "output_type": "stream",
     "text": [
      "[ Train | 004/300 ] loss = 1.78784, acc = 0.37452\n"
     ]
    },
    {
     "name": "stderr",
     "output_type": "stream",
     "text": [
      "V: 004/300: 100%|█████| 26/26 [00:01<00:00, 14.55it/s, v_loss=2.18, v_acc=0.277]\n"
     ]
    },
    {
     "name": "stdout",
     "output_type": "stream",
     "text": [
      "[ Valid | 004/300 ] loss = 2.17729, acc = 0.27678\n",
      "[ Valid | 004/300 ] loss = 2.17729, acc = 0.27678\n"
     ]
    },
    {
     "name": "stderr",
     "output_type": "stream",
     "text": [
      "T: 005/300: 100%|█| 78/78 [00:07<00:00, 10.73it/s, lr=0.000362, b_loss=1.89, b_a\n"
     ]
    },
    {
     "name": "stdout",
     "output_type": "stream",
     "text": [
      "[ Train | 005/300 ] loss = 1.71444, acc = 0.40090\n"
     ]
    },
    {
     "name": "stderr",
     "output_type": "stream",
     "text": [
      "V: 005/300: 100%|████████| 26/26 [00:01<00:00, 14.71it/s, v_loss=3, v_acc=0.256]\n"
     ]
    },
    {
     "name": "stdout",
     "output_type": "stream",
     "text": [
      "[ Valid | 005/300 ] loss = 3.00247, acc = 0.25595\n",
      "[ Valid | 005/300 ] loss = 3.00247, acc = 0.25595\n"
     ]
    },
    {
     "name": "stderr",
     "output_type": "stream",
     "text": [
      "T: 006/300: 100%|█| 78/78 [00:07<00:00, 11.14it/s, lr=0.000341, b_loss=1.33, b_a\n"
     ]
    },
    {
     "name": "stdout",
     "output_type": "stream",
     "text": [
      "[ Train | 006/300 ] loss = 1.65358, acc = 0.42153\n"
     ]
    },
    {
     "name": "stderr",
     "output_type": "stream",
     "text": [
      "V: 006/300: 100%|█████| 26/26 [00:01<00:00, 14.88it/s, v_loss=1.57, v_acc=0.463]\n"
     ]
    },
    {
     "name": "stdout",
     "output_type": "stream",
     "text": [
      "[ Valid | 006/300 ] loss = 1.56713, acc = 0.46274\n",
      "[ Valid | 006/300 ] loss = 1.56713, acc = 0.46274 -> best\n",
      "Best model found at fold 1 epoch 6, acc=0.46274, saving model\n"
     ]
    },
    {
     "name": "stderr",
     "output_type": "stream",
     "text": [
      "T: 007/300: 100%|█| 78/78 [00:07<00:00, 10.35it/s, lr=0.000318, b_loss=1.66, b_a\n"
     ]
    },
    {
     "name": "stdout",
     "output_type": "stream",
     "text": [
      "[ Train | 007/300 ] loss = 1.58678, acc = 0.44641\n"
     ]
    },
    {
     "name": "stderr",
     "output_type": "stream",
     "text": [
      "V: 007/300: 100%|█████| 26/26 [00:01<00:00, 15.60it/s, v_loss=1.69, v_acc=0.424]\n"
     ]
    },
    {
     "name": "stdout",
     "output_type": "stream",
     "text": [
      "[ Valid | 007/300 ] loss = 1.68629, acc = 0.42422\n",
      "[ Valid | 007/300 ] loss = 1.68629, acc = 0.42422\n"
     ]
    },
    {
     "name": "stderr",
     "output_type": "stream",
     "text": [
      "T: 008/300: 100%|█| 78/78 [00:07<00:00, 10.80it/s, lr=0.000291, b_loss=1.54, b_a\n"
     ]
    },
    {
     "name": "stdout",
     "output_type": "stream",
     "text": [
      "[ Train | 008/300 ] loss = 1.53380, acc = 0.46755\n"
     ]
    },
    {
     "name": "stderr",
     "output_type": "stream",
     "text": [
      "V: 008/300: 100%|██████| 26/26 [00:01<00:00, 14.27it/s, v_loss=1.72, v_acc=0.41]\n"
     ]
    },
    {
     "name": "stdout",
     "output_type": "stream",
     "text": [
      "[ Valid | 008/300 ] loss = 1.72208, acc = 0.40983\n",
      "[ Valid | 008/300 ] loss = 1.72208, acc = 0.40983\n"
     ]
    },
    {
     "name": "stderr",
     "output_type": "stream",
     "text": [
      "T: 009/300: 100%|█| 78/78 [00:07<00:00, 10.66it/s, lr=0.000262, b_loss=1.67, b_a\n"
     ]
    },
    {
     "name": "stdout",
     "output_type": "stream",
     "text": [
      "[ Train | 009/300 ] loss = 1.48940, acc = 0.48491\n"
     ]
    },
    {
     "name": "stderr",
     "output_type": "stream",
     "text": [
      "V: 009/300: 100%|█████| 26/26 [00:01<00:00, 14.36it/s, v_loss=1.86, v_acc=0.412]\n"
     ]
    },
    {
     "name": "stdout",
     "output_type": "stream",
     "text": [
      "[ Valid | 009/300 ] loss = 1.86230, acc = 0.41164\n",
      "[ Valid | 009/300 ] loss = 1.86230, acc = 0.41164\n"
     ]
    },
    {
     "name": "stderr",
     "output_type": "stream",
     "text": [
      "T: 010/300: 100%|█| 78/78 [00:07<00:00, 10.36it/s, lr=0.000231, b_loss=1.46, b_a\n"
     ]
    },
    {
     "name": "stdout",
     "output_type": "stream",
     "text": [
      "[ Train | 010/300 ] loss = 1.41559, acc = 0.51236\n"
     ]
    },
    {
     "name": "stderr",
     "output_type": "stream",
     "text": [
      "V: 010/300: 100%|██████| 26/26 [00:01<00:00, 14.44it/s, v_loss=1.48, v_acc=0.49]\n"
     ]
    },
    {
     "name": "stdout",
     "output_type": "stream",
     "text": [
      "[ Valid | 010/300 ] loss = 1.47543, acc = 0.48996\n",
      "[ Valid | 010/300 ] loss = 1.47543, acc = 0.48996 -> best\n",
      "Best model found at fold 1 epoch 10, acc=0.48996, saving model\n"
     ]
    },
    {
     "name": "stderr",
     "output_type": "stream",
     "text": [
      "T: 011/300: 100%|█| 78/78 [00:07<00:00, 10.75it/s, lr=0.0002, b_loss=1.34, b_acc\n"
     ]
    },
    {
     "name": "stdout",
     "output_type": "stream",
     "text": [
      "[ Train | 011/300 ] loss = 1.39096, acc = 0.51483\n"
     ]
    },
    {
     "name": "stderr",
     "output_type": "stream",
     "text": [
      "V: 011/300: 100%|█████| 26/26 [00:01<00:00, 14.16it/s, v_loss=1.91, v_acc=0.387]\n"
     ]
    },
    {
     "name": "stdout",
     "output_type": "stream",
     "text": [
      "[ Valid | 011/300 ] loss = 1.90798, acc = 0.38745\n",
      "[ Valid | 011/300 ] loss = 1.90798, acc = 0.38745\n"
     ]
    },
    {
     "name": "stderr",
     "output_type": "stream",
     "text": [
      "T: 012/300: 100%|█| 78/78 [00:07<00:00, 10.85it/s, lr=0.000169, b_loss=1.32, b_a\n"
     ]
    },
    {
     "name": "stdout",
     "output_type": "stream",
     "text": [
      "[ Train | 012/300 ] loss = 1.32481, acc = 0.54555\n"
     ]
    },
    {
     "name": "stderr",
     "output_type": "stream",
     "text": [
      "V: 012/300: 100%|██████| 26/26 [00:01<00:00, 14.23it/s, v_loss=1.38, v_acc=0.52]\n"
     ]
    },
    {
     "name": "stdout",
     "output_type": "stream",
     "text": [
      "[ Valid | 012/300 ] loss = 1.38261, acc = 0.52049\n",
      "[ Valid | 012/300 ] loss = 1.38261, acc = 0.52049 -> best\n",
      "Best model found at fold 1 epoch 12, acc=0.52049, saving model\n"
     ]
    },
    {
     "name": "stderr",
     "output_type": "stream",
     "text": [
      "T: 013/300: 100%|█| 78/78 [00:07<00:00, 10.77it/s, lr=0.000138, b_loss=1.36, b_a\n"
     ]
    },
    {
     "name": "stdout",
     "output_type": "stream",
     "text": [
      "[ Train | 013/300 ] loss = 1.27252, acc = 0.55864\n"
     ]
    },
    {
     "name": "stderr",
     "output_type": "stream",
     "text": [
      "V: 013/300: 100%|█████| 26/26 [00:01<00:00, 14.69it/s, v_loss=1.32, v_acc=0.549]\n"
     ]
    },
    {
     "name": "stdout",
     "output_type": "stream",
     "text": [
      "[ Valid | 013/300 ] loss = 1.31570, acc = 0.54850\n",
      "[ Valid | 013/300 ] loss = 1.31570, acc = 0.54850 -> best\n",
      "Best model found at fold 1 epoch 13, acc=0.54850, saving model\n"
     ]
    },
    {
     "name": "stderr",
     "output_type": "stream",
     "text": [
      "T: 014/300: 100%|█| 78/78 [00:07<00:00, 11.06it/s, lr=0.000109, b_loss=1.2, b_ac\n"
     ]
    },
    {
     "name": "stdout",
     "output_type": "stream",
     "text": [
      "[ Train | 014/300 ] loss = 1.25434, acc = 0.56749\n"
     ]
    },
    {
     "name": "stderr",
     "output_type": "stream",
     "text": [
      "V: 014/300: 100%|█████| 26/26 [00:01<00:00, 13.61it/s, v_loss=1.43, v_acc=0.533]\n"
     ]
    },
    {
     "name": "stdout",
     "output_type": "stream",
     "text": [
      "[ Valid | 014/300 ] loss = 1.42901, acc = 0.53345\n",
      "[ Valid | 014/300 ] loss = 1.42901, acc = 0.53345\n"
     ]
    },
    {
     "name": "stderr",
     "output_type": "stream",
     "text": [
      "T: 015/300: 100%|█| 78/78 [00:07<00:00, 10.90it/s, lr=8.24e-5, b_loss=1.14, b_ac\n"
     ]
    },
    {
     "name": "stdout",
     "output_type": "stream",
     "text": [
      "[ Train | 015/300 ] loss = 1.20950, acc = 0.57701\n"
     ]
    },
    {
     "name": "stderr",
     "output_type": "stream",
     "text": [
      "V: 015/300: 100%|█████| 26/26 [00:01<00:00, 14.19it/s, v_loss=1.29, v_acc=0.554]\n"
     ]
    },
    {
     "name": "stdout",
     "output_type": "stream",
     "text": [
      "[ Valid | 015/300 ] loss = 1.29442, acc = 0.55380\n",
      "[ Valid | 015/300 ] loss = 1.29442, acc = 0.55380 -> best\n",
      "Best model found at fold 1 epoch 15, acc=0.55380, saving model\n"
     ]
    },
    {
     "name": "stderr",
     "output_type": "stream",
     "text": [
      "T: 016/300: 100%|█| 78/78 [00:07<00:00, 10.20it/s, lr=5.86e-5, b_loss=1.05, b_ac\n"
     ]
    },
    {
     "name": "stdout",
     "output_type": "stream",
     "text": [
      "[ Train | 016/300 ] loss = 1.17183, acc = 0.59812\n"
     ]
    },
    {
     "name": "stderr",
     "output_type": "stream",
     "text": [
      "V: 016/300: 100%|█████| 26/26 [00:01<00:00, 14.85it/s, v_loss=1.14, v_acc=0.608]\n"
     ]
    },
    {
     "name": "stdout",
     "output_type": "stream",
     "text": [
      "[ Valid | 016/300 ] loss = 1.13791, acc = 0.60770\n",
      "[ Valid | 016/300 ] loss = 1.13791, acc = 0.60770 -> best\n",
      "Best model found at fold 1 epoch 16, acc=0.60770, saving model\n"
     ]
    },
    {
     "name": "stderr",
     "output_type": "stream",
     "text": [
      "T: 017/300: 100%|█| 78/78 [00:07<00:00, 11.03it/s, lr=3.82e-5, b_loss=1.21, b_ac\n"
     ]
    },
    {
     "name": "stdout",
     "output_type": "stream",
     "text": [
      "[ Train | 017/300 ] loss = 1.13354, acc = 0.60599\n"
     ]
    },
    {
     "name": "stderr",
     "output_type": "stream",
     "text": [
      "V: 017/300: 100%|█████| 26/26 [00:01<00:00, 14.61it/s, v_loss=1.17, v_acc=0.595]\n"
     ]
    },
    {
     "name": "stdout",
     "output_type": "stream",
     "text": [
      "[ Valid | 017/300 ] loss = 1.16990, acc = 0.59545\n",
      "[ Valid | 017/300 ] loss = 1.16990, acc = 0.59545\n"
     ]
    },
    {
     "name": "stderr",
     "output_type": "stream",
     "text": [
      "T: 018/300: 100%|█| 78/78 [00:07<00:00, 10.81it/s, lr=2.18e-5, b_loss=1.04, b_ac\n"
     ]
    },
    {
     "name": "stdout",
     "output_type": "stream",
     "text": [
      "[ Train | 018/300 ] loss = 1.11882, acc = 0.61334\n"
     ]
    },
    {
     "name": "stderr",
     "output_type": "stream",
     "text": [
      "V: 018/300: 100%|██████| 26/26 [00:01<00:00, 13.65it/s, v_loss=1.1, v_acc=0.624]\n"
     ]
    },
    {
     "name": "stdout",
     "output_type": "stream",
     "text": [
      "[ Valid | 018/300 ] loss = 1.10469, acc = 0.62390\n",
      "[ Valid | 018/300 ] loss = 1.10469, acc = 0.62390 -> best\n",
      "Best model found at fold 1 epoch 18, acc=0.62390, saving model\n"
     ]
    },
    {
     "name": "stderr",
     "output_type": "stream",
     "text": [
      "T: 019/300: 100%|█| 78/78 [00:07<00:00, 10.87it/s, lr=9.79e-6, b_loss=0.964, b_a\n"
     ]
    },
    {
     "name": "stdout",
     "output_type": "stream",
     "text": [
      "[ Train | 019/300 ] loss = 1.08596, acc = 0.61899\n"
     ]
    },
    {
     "name": "stderr",
     "output_type": "stream",
     "text": [
      "V: 019/300: 100%|██████| 26/26 [00:01<00:00, 16.02it/s, v_loss=1.1, v_acc=0.624]\n"
     ]
    },
    {
     "name": "stdout",
     "output_type": "stream",
     "text": [
      "[ Valid | 019/300 ] loss = 1.10274, acc = 0.62365\n",
      "[ Valid | 019/300 ] loss = 1.10274, acc = 0.62365\n"
     ]
    },
    {
     "name": "stderr",
     "output_type": "stream",
     "text": [
      "T: 020/300: 100%|█| 78/78 [00:07<00:00, 10.98it/s, lr=2.46e-6, b_loss=1.2, b_acc\n"
     ]
    },
    {
     "name": "stdout",
     "output_type": "stream",
     "text": [
      "[ Train | 020/300 ] loss = 1.07816, acc = 0.62559\n"
     ]
    },
    {
     "name": "stderr",
     "output_type": "stream",
     "text": [
      "V: 020/300: 100%|█████| 26/26 [00:01<00:00, 15.16it/s, v_loss=1.09, v_acc=0.625]\n"
     ]
    },
    {
     "name": "stdout",
     "output_type": "stream",
     "text": [
      "[ Valid | 020/300 ] loss = 1.09358, acc = 0.62480\n",
      "[ Valid | 020/300 ] loss = 1.09358, acc = 0.62480 -> best\n",
      "Best model found at fold 1 epoch 20, acc=0.62480, saving model\n"
     ]
    },
    {
     "name": "stderr",
     "output_type": "stream",
     "text": [
      "T: 021/300: 100%|█| 78/78 [00:07<00:00, 10.92it/s, lr=0.0004, b_loss=1.23, b_acc\n"
     ]
    },
    {
     "name": "stdout",
     "output_type": "stream",
     "text": [
      "[ Train | 021/300 ] loss = 1.40906, acc = 0.51745\n"
     ]
    },
    {
     "name": "stderr",
     "output_type": "stream",
     "text": [
      "V: 021/300: 100%|█████| 26/26 [00:01<00:00, 14.56it/s, v_loss=1.77, v_acc=0.403]\n"
     ]
    },
    {
     "name": "stdout",
     "output_type": "stream",
     "text": [
      "[ Valid | 021/300 ] loss = 1.77301, acc = 0.40280\n",
      "[ Valid | 021/300 ] loss = 1.77301, acc = 0.40280\n"
     ]
    },
    {
     "name": "stderr",
     "output_type": "stream",
     "text": [
      "T: 022/300: 100%|█| 78/78 [00:07<00:00, 10.63it/s, lr=0.000398, b_loss=1.3, b_ac\n"
     ]
    },
    {
     "name": "stdout",
     "output_type": "stream",
     "text": [
      "[ Train | 022/300 ] loss = 1.32769, acc = 0.53892\n"
     ]
    },
    {
     "name": "stderr",
     "output_type": "stream",
     "text": [
      "V: 022/300: 100%|█████| 26/26 [00:01<00:00, 14.47it/s, v_loss=1.73, v_acc=0.433]\n"
     ]
    },
    {
     "name": "stdout",
     "output_type": "stream",
     "text": [
      "[ Valid | 022/300 ] loss = 1.72759, acc = 0.43321\n",
      "[ Valid | 022/300 ] loss = 1.72759, acc = 0.43321\n"
     ]
    },
    {
     "name": "stderr",
     "output_type": "stream",
     "text": [
      "T: 023/300: 100%|█| 78/78 [00:07<00:00, 10.73it/s, lr=0.00039, b_loss=1.34, b_ac\n"
     ]
    },
    {
     "name": "stdout",
     "output_type": "stream",
     "text": [
      "[ Train | 023/300 ] loss = 1.29056, acc = 0.55096\n"
     ]
    },
    {
     "name": "stderr",
     "output_type": "stream",
     "text": [
      "V: 023/300: 100%|█████| 26/26 [00:01<00:00, 13.64it/s, v_loss=1.66, v_acc=0.454]\n"
     ]
    },
    {
     "name": "stdout",
     "output_type": "stream",
     "text": [
      "[ Valid | 023/300 ] loss = 1.65625, acc = 0.45425\n",
      "[ Valid | 023/300 ] loss = 1.65625, acc = 0.45425\n"
     ]
    },
    {
     "name": "stderr",
     "output_type": "stream",
     "text": [
      "T: 024/300: 100%|█| 78/78 [00:07<00:00, 10.91it/s, lr=0.000378, b_loss=1.3, b_ac\n"
     ]
    },
    {
     "name": "stdout",
     "output_type": "stream",
     "text": [
      "[ Train | 024/300 ] loss = 1.26244, acc = 0.56491\n"
     ]
    },
    {
     "name": "stderr",
     "output_type": "stream",
     "text": [
      "V: 024/300: 100%|█████| 26/26 [00:01<00:00, 14.37it/s, v_loss=1.41, v_acc=0.535]\n"
     ]
    },
    {
     "name": "stdout",
     "output_type": "stream",
     "text": [
      "[ Valid | 024/300 ] loss = 1.41087, acc = 0.53460\n",
      "[ Valid | 024/300 ] loss = 1.41087, acc = 0.53460\n"
     ]
    },
    {
     "name": "stderr",
     "output_type": "stream",
     "text": [
      "T: 025/300: 100%|█| 78/78 [00:07<00:00, 10.91it/s, lr=0.000362, b_loss=1.21, b_a\n"
     ]
    },
    {
     "name": "stdout",
     "output_type": "stream",
     "text": [
      "[ Train | 025/300 ] loss = 1.22611, acc = 0.58120\n"
     ]
    },
    {
     "name": "stderr",
     "output_type": "stream",
     "text": [
      "V: 025/300: 100%|█████| 26/26 [00:01<00:00, 14.61it/s, v_loss=1.52, v_acc=0.498]\n"
     ]
    },
    {
     "name": "stdout",
     "output_type": "stream",
     "text": [
      "[ Valid | 025/300 ] loss = 1.51886, acc = 0.49768\n",
      "[ Valid | 025/300 ] loss = 1.51886, acc = 0.49768\n"
     ]
    },
    {
     "name": "stderr",
     "output_type": "stream",
     "text": [
      "T: 026/300: 100%|█| 78/78 [00:07<00:00, 10.86it/s, lr=0.000341, b_loss=1.3, b_ac\n"
     ]
    },
    {
     "name": "stdout",
     "output_type": "stream",
     "text": [
      "[ Train | 026/300 ] loss = 1.18997, acc = 0.59269\n"
     ]
    },
    {
     "name": "stderr",
     "output_type": "stream",
     "text": [
      "V: 026/300: 100%|█████| 26/26 [00:01<00:00, 14.89it/s, v_loss=1.36, v_acc=0.546]\n"
     ]
    },
    {
     "name": "stdout",
     "output_type": "stream",
     "text": [
      "[ Valid | 026/300 ] loss = 1.36345, acc = 0.54563\n",
      "[ Valid | 026/300 ] loss = 1.36345, acc = 0.54563\n"
     ]
    },
    {
     "name": "stderr",
     "output_type": "stream",
     "text": [
      "T: 027/300: 100%|█| 78/78 [00:07<00:00, 11.03it/s, lr=0.000318, b_loss=1.13, b_a\n"
     ]
    },
    {
     "name": "stdout",
     "output_type": "stream",
     "text": [
      "[ Train | 027/300 ] loss = 1.16802, acc = 0.59469\n"
     ]
    },
    {
     "name": "stderr",
     "output_type": "stream",
     "text": [
      "V: 027/300: 100%|█████| 26/26 [00:01<00:00, 15.52it/s, v_loss=1.21, v_acc=0.594]\n"
     ]
    },
    {
     "name": "stdout",
     "output_type": "stream",
     "text": [
      "[ Valid | 027/300 ] loss = 1.21230, acc = 0.59450\n",
      "[ Valid | 027/300 ] loss = 1.21230, acc = 0.59450\n"
     ]
    },
    {
     "name": "stderr",
     "output_type": "stream",
     "text": [
      "T: 028/300: 100%|█| 78/78 [00:07<00:00, 10.90it/s, lr=0.000291, b_loss=1.24, b_a\n"
     ]
    },
    {
     "name": "stdout",
     "output_type": "stream",
     "text": [
      "[ Train | 028/300 ] loss = 1.11667, acc = 0.61442\n"
     ]
    },
    {
     "name": "stderr",
     "output_type": "stream",
     "text": [
      "V: 028/300: 100%|██████| 26/26 [00:01<00:00, 15.26it/s, v_loss=1.41, v_acc=0.54]\n"
     ]
    },
    {
     "name": "stdout",
     "output_type": "stream",
     "text": [
      "[ Valid | 028/300 ] loss = 1.40886, acc = 0.53973\n",
      "[ Valid | 028/300 ] loss = 1.40886, acc = 0.53973\n"
     ]
    },
    {
     "name": "stderr",
     "output_type": "stream",
     "text": [
      "T: 029/300: 100%|█| 78/78 [00:07<00:00, 11.11it/s, lr=0.000262, b_loss=0.998, b_\n"
     ]
    },
    {
     "name": "stdout",
     "output_type": "stream",
     "text": [
      "[ Train | 029/300 ] loss = 1.08926, acc = 0.62600\n"
     ]
    },
    {
     "name": "stderr",
     "output_type": "stream",
     "text": [
      "V: 029/300: 100%|█████| 26/26 [00:01<00:00, 15.94it/s, v_loss=1.19, v_acc=0.604]\n"
     ]
    },
    {
     "name": "stdout",
     "output_type": "stream",
     "text": [
      "[ Valid | 029/300 ] loss = 1.18698, acc = 0.60436\n",
      "[ Valid | 029/300 ] loss = 1.18698, acc = 0.60436\n"
     ]
    },
    {
     "name": "stderr",
     "output_type": "stream",
     "text": [
      "T: 030/300: 100%|█| 78/78 [00:07<00:00, 11.03it/s, lr=0.000231, b_loss=1.09, b_a\n"
     ]
    },
    {
     "name": "stdout",
     "output_type": "stream",
     "text": [
      "[ Train | 030/300 ] loss = 1.05831, acc = 0.64158\n"
     ]
    },
    {
     "name": "stderr",
     "output_type": "stream",
     "text": [
      "V: 030/300: 100%|██████| 26/26 [00:01<00:00, 15.24it/s, v_loss=1.16, v_acc=0.61]\n"
     ]
    },
    {
     "name": "stdout",
     "output_type": "stream",
     "text": [
      "[ Valid | 030/300 ] loss = 1.15904, acc = 0.61035\n",
      "[ Valid | 030/300 ] loss = 1.15904, acc = 0.61035\n"
     ]
    },
    {
     "name": "stderr",
     "output_type": "stream",
     "text": [
      "T: 031/300: 100%|█| 78/78 [00:07<00:00, 10.90it/s, lr=0.0002, b_loss=0.902, b_ac\n"
     ]
    },
    {
     "name": "stdout",
     "output_type": "stream",
     "text": [
      "[ Train | 031/300 ] loss = 1.01384, acc = 0.64950\n"
     ]
    },
    {
     "name": "stderr",
     "output_type": "stream",
     "text": [
      "V: 031/300: 100%|█████| 26/26 [00:01<00:00, 14.81it/s, v_loss=1.15, v_acc=0.615]\n"
     ]
    },
    {
     "name": "stdout",
     "output_type": "stream",
     "text": [
      "[ Valid | 031/300 ] loss = 1.15168, acc = 0.61518\n",
      "[ Valid | 031/300 ] loss = 1.15168, acc = 0.61518\n"
     ]
    },
    {
     "name": "stderr",
     "output_type": "stream",
     "text": [
      "T: 032/300: 100%|█| 78/78 [00:06<00:00, 11.17it/s, lr=0.000169, b_loss=1.12, b_a\n"
     ]
    },
    {
     "name": "stdout",
     "output_type": "stream",
     "text": [
      "[ Train | 032/300 ] loss = 0.98765, acc = 0.66487\n"
     ]
    },
    {
     "name": "stderr",
     "output_type": "stream",
     "text": [
      "V: 032/300: 100%|█████| 26/26 [00:01<00:00, 14.34it/s, v_loss=1.05, v_acc=0.643]\n"
     ]
    },
    {
     "name": "stdout",
     "output_type": "stream",
     "text": [
      "[ Valid | 032/300 ] loss = 1.04656, acc = 0.64263\n",
      "[ Valid | 032/300 ] loss = 1.04656, acc = 0.64263 -> best\n",
      "Best model found at fold 1 epoch 32, acc=0.64263, saving model\n"
     ]
    },
    {
     "name": "stderr",
     "output_type": "stream",
     "text": [
      "T: 033/300: 100%|█| 78/78 [00:06<00:00, 11.24it/s, lr=0.000138, b_loss=0.854, b_\n"
     ]
    },
    {
     "name": "stdout",
     "output_type": "stream",
     "text": [
      "[ Train | 033/300 ] loss = 0.96201, acc = 0.66833\n"
     ]
    },
    {
     "name": "stderr",
     "output_type": "stream",
     "text": [
      "V: 033/300: 100%|█████| 26/26 [00:01<00:00, 14.46it/s, v_loss=1.09, v_acc=0.632]\n"
     ]
    },
    {
     "name": "stdout",
     "output_type": "stream",
     "text": [
      "[ Valid | 033/300 ] loss = 1.09373, acc = 0.63179\n",
      "[ Valid | 033/300 ] loss = 1.09373, acc = 0.63179\n"
     ]
    },
    {
     "name": "stderr",
     "output_type": "stream",
     "text": [
      "T: 034/300: 100%|█| 78/78 [00:07<00:00, 11.06it/s, lr=0.000109, b_loss=1.01, b_a\n"
     ]
    },
    {
     "name": "stdout",
     "output_type": "stream",
     "text": [
      "[ Train | 034/300 ] loss = 0.93898, acc = 0.67442\n"
     ]
    },
    {
     "name": "stderr",
     "output_type": "stream",
     "text": [
      "V: 034/300: 100%|█████| 26/26 [00:01<00:00, 15.12it/s, v_loss=1.01, v_acc=0.655]\n"
     ]
    },
    {
     "name": "stdout",
     "output_type": "stream",
     "text": [
      "[ Valid | 034/300 ] loss = 1.01199, acc = 0.65526\n",
      "[ Valid | 034/300 ] loss = 1.01199, acc = 0.65526 -> best\n",
      "Best model found at fold 1 epoch 34, acc=0.65526, saving model\n"
     ]
    },
    {
     "name": "stderr",
     "output_type": "stream",
     "text": [
      "T: 035/300: 100%|█| 78/78 [00:07<00:00, 11.02it/s, lr=8.24e-5, b_loss=0.884, b_a\n"
     ]
    },
    {
     "name": "stdout",
     "output_type": "stream",
     "text": [
      "[ Train | 035/300 ] loss = 0.90136, acc = 0.69257\n"
     ]
    },
    {
     "name": "stderr",
     "output_type": "stream",
     "text": [
      "V: 035/300: 100%|████| 26/26 [00:01<00:00, 16.34it/s, v_loss=0.989, v_acc=0.663]\n"
     ]
    },
    {
     "name": "stdout",
     "output_type": "stream",
     "text": [
      "[ Valid | 035/300 ] loss = 0.98900, acc = 0.66300\n",
      "[ Valid | 035/300 ] loss = 0.98900, acc = 0.66300 -> best\n",
      "Best model found at fold 1 epoch 35, acc=0.66300, saving model\n"
     ]
    },
    {
     "name": "stderr",
     "output_type": "stream",
     "text": [
      "T: 036/300: 100%|█| 78/78 [00:07<00:00, 10.73it/s, lr=5.86e-5, b_loss=0.771, b_a\n"
     ]
    },
    {
     "name": "stdout",
     "output_type": "stream",
     "text": [
      "[ Train | 036/300 ] loss = 0.89294, acc = 0.69350\n"
     ]
    },
    {
     "name": "stderr",
     "output_type": "stream",
     "text": [
      "V: 036/300: 100%|████| 26/26 [00:02<00:00, 12.52it/s, v_loss=0.921, v_acc=0.691]\n"
     ]
    },
    {
     "name": "stdout",
     "output_type": "stream",
     "text": [
      "[ Valid | 036/300 ] loss = 0.92130, acc = 0.69072\n",
      "[ Valid | 036/300 ] loss = 0.92130, acc = 0.69072 -> best\n",
      "Best model found at fold 1 epoch 36, acc=0.69072, saving model\n"
     ]
    },
    {
     "name": "stderr",
     "output_type": "stream",
     "text": [
      "T: 037/300: 100%|█| 78/78 [00:07<00:00, 10.75it/s, lr=3.82e-5, b_loss=0.72, b_ac\n"
     ]
    },
    {
     "name": "stdout",
     "output_type": "stream",
     "text": [
      "[ Train | 037/300 ] loss = 0.86063, acc = 0.70235\n"
     ]
    },
    {
     "name": "stderr",
     "output_type": "stream",
     "text": [
      "V: 037/300: 100%|████| 26/26 [00:01<00:00, 14.47it/s, v_loss=0.932, v_acc=0.691]\n"
     ]
    },
    {
     "name": "stdout",
     "output_type": "stream",
     "text": [
      "[ Valid | 037/300 ] loss = 0.93237, acc = 0.69131\n",
      "[ Valid | 037/300 ] loss = 0.93237, acc = 0.69131 -> best\n",
      "Best model found at fold 1 epoch 37, acc=0.69131, saving model\n"
     ]
    },
    {
     "name": "stderr",
     "output_type": "stream",
     "text": [
      "T: 038/300: 100%|█| 78/78 [00:07<00:00, 10.83it/s, lr=2.18e-5, b_loss=0.739, b_a\n"
     ]
    },
    {
     "name": "stdout",
     "output_type": "stream",
     "text": [
      "[ Train | 038/300 ] loss = 0.82832, acc = 0.71543\n"
     ]
    },
    {
     "name": "stderr",
     "output_type": "stream",
     "text": [
      "V: 038/300: 100%|████| 26/26 [00:01<00:00, 13.60it/s, v_loss=0.893, v_acc=0.697]\n"
     ]
    },
    {
     "name": "stdout",
     "output_type": "stream",
     "text": [
      "[ Valid | 038/300 ] loss = 0.89335, acc = 0.69706\n",
      "[ Valid | 038/300 ] loss = 0.89335, acc = 0.69706 -> best\n",
      "Best model found at fold 1 epoch 38, acc=0.69706, saving model\n"
     ]
    },
    {
     "name": "stderr",
     "output_type": "stream",
     "text": [
      "T: 039/300: 100%|█| 78/78 [00:07<00:00, 10.86it/s, lr=9.79e-6, b_loss=0.784, b_a\n"
     ]
    },
    {
     "name": "stdout",
     "output_type": "stream",
     "text": [
      "[ Train | 039/300 ] loss = 0.83400, acc = 0.70912\n"
     ]
    },
    {
     "name": "stderr",
     "output_type": "stream",
     "text": [
      "V: 039/300: 100%|████| 26/26 [00:01<00:00, 15.50it/s, v_loss=0.899, v_acc=0.697]\n"
     ]
    },
    {
     "name": "stdout",
     "output_type": "stream",
     "text": [
      "[ Valid | 039/300 ] loss = 0.89861, acc = 0.69737\n",
      "[ Valid | 039/300 ] loss = 0.89861, acc = 0.69737 -> best\n",
      "Best model found at fold 1 epoch 39, acc=0.69737, saving model\n"
     ]
    },
    {
     "name": "stderr",
     "output_type": "stream",
     "text": [
      "T: 040/300: 100%|█| 78/78 [00:07<00:00, 10.82it/s, lr=2.46e-6, b_loss=0.876, b_a\n"
     ]
    },
    {
     "name": "stdout",
     "output_type": "stream",
     "text": [
      "[ Train | 040/300 ] loss = 0.82613, acc = 0.71784\n"
     ]
    },
    {
     "name": "stderr",
     "output_type": "stream",
     "text": [
      "V: 040/300: 100%|█████| 26/26 [00:01<00:00, 14.38it/s, v_loss=0.89, v_acc=0.698]\n"
     ]
    },
    {
     "name": "stdout",
     "output_type": "stream",
     "text": [
      "[ Valid | 040/300 ] loss = 0.89024, acc = 0.69839\n",
      "[ Valid | 040/300 ] loss = 0.89024, acc = 0.69839 -> best\n",
      "Best model found at fold 1 epoch 40, acc=0.69839, saving model\n"
     ]
    },
    {
     "name": "stderr",
     "output_type": "stream",
     "text": [
      "T: 041/300: 100%|█| 78/78 [00:07<00:00, 10.58it/s, lr=0.0004, b_loss=1.23, b_acc\n"
     ]
    },
    {
     "name": "stdout",
     "output_type": "stream",
     "text": [
      "[ Train | 041/300 ] loss = 1.08826, acc = 0.62500\n"
     ]
    },
    {
     "name": "stderr",
     "output_type": "stream",
     "text": [
      "V: 041/300: 100%|█████| 26/26 [00:01<00:00, 15.45it/s, v_loss=1.23, v_acc=0.595]\n"
     ]
    },
    {
     "name": "stdout",
     "output_type": "stream",
     "text": [
      "[ Valid | 041/300 ] loss = 1.22901, acc = 0.59473\n",
      "[ Valid | 041/300 ] loss = 1.22901, acc = 0.59473\n"
     ]
    },
    {
     "name": "stderr",
     "output_type": "stream",
     "text": [
      "T: 042/300: 100%|█| 78/78 [00:07<00:00, 10.99it/s, lr=0.000398, b_loss=1.07, b_a\n"
     ]
    },
    {
     "name": "stdout",
     "output_type": "stream",
     "text": [
      "[ Train | 042/300 ] loss = 1.06980, acc = 0.62545\n"
     ]
    },
    {
     "name": "stderr",
     "output_type": "stream",
     "text": [
      "V: 042/300: 100%|█████| 26/26 [00:01<00:00, 16.85it/s, v_loss=1.11, v_acc=0.628]\n"
     ]
    },
    {
     "name": "stdout",
     "output_type": "stream",
     "text": [
      "[ Valid | 042/300 ] loss = 1.10690, acc = 0.62783\n",
      "[ Valid | 042/300 ] loss = 1.10690, acc = 0.62783\n"
     ]
    },
    {
     "name": "stderr",
     "output_type": "stream",
     "text": [
      "T: 043/300: 100%|█| 78/78 [00:07<00:00, 11.07it/s, lr=0.00039, b_loss=0.945, b_a\n"
     ]
    },
    {
     "name": "stdout",
     "output_type": "stream",
     "text": [
      "[ Train | 043/300 ] loss = 1.05274, acc = 0.63643\n"
     ]
    },
    {
     "name": "stderr",
     "output_type": "stream",
     "text": [
      "V: 043/300: 100%|█████| 26/26 [00:01<00:00, 15.05it/s, v_loss=1.17, v_acc=0.604]\n"
     ]
    },
    {
     "name": "stdout",
     "output_type": "stream",
     "text": [
      "[ Valid | 043/300 ] loss = 1.16728, acc = 0.60387\n",
      "[ Valid | 043/300 ] loss = 1.16728, acc = 0.60387\n"
     ]
    },
    {
     "name": "stderr",
     "output_type": "stream",
     "text": [
      "T: 044/300: 100%|█| 78/78 [00:07<00:00, 10.82it/s, lr=0.000378, b_loss=1.09, b_a\n"
     ]
    },
    {
     "name": "stdout",
     "output_type": "stream",
     "text": [
      "[ Train | 044/300 ] loss = 1.03824, acc = 0.64587\n"
     ]
    },
    {
     "name": "stderr",
     "output_type": "stream",
     "text": [
      "V: 044/300: 100%|█████| 26/26 [00:01<00:00, 13.57it/s, v_loss=1.27, v_acc=0.575]\n"
     ]
    },
    {
     "name": "stdout",
     "output_type": "stream",
     "text": [
      "[ Valid | 044/300 ] loss = 1.27475, acc = 0.57464\n",
      "[ Valid | 044/300 ] loss = 1.27475, acc = 0.57464\n"
     ]
    },
    {
     "name": "stderr",
     "output_type": "stream",
     "text": [
      "T: 045/300: 100%|█| 78/78 [00:07<00:00, 11.00it/s, lr=0.000362, b_loss=1.13, b_a\n"
     ]
    },
    {
     "name": "stdout",
     "output_type": "stream",
     "text": [
      "[ Train | 045/300 ] loss = 0.99443, acc = 0.65378\n"
     ]
    },
    {
     "name": "stderr",
     "output_type": "stream",
     "text": [
      "V: 045/300: 100%|█████| 26/26 [00:01<00:00, 15.64it/s, v_loss=1.37, v_acc=0.554]\n"
     ]
    },
    {
     "name": "stdout",
     "output_type": "stream",
     "text": [
      "[ Valid | 045/300 ] loss = 1.36986, acc = 0.55423\n",
      "[ Valid | 045/300 ] loss = 1.36986, acc = 0.55423\n"
     ]
    },
    {
     "name": "stderr",
     "output_type": "stream",
     "text": [
      "T: 046/300: 100%|█| 78/78 [00:07<00:00, 11.06it/s, lr=0.000341, b_loss=1.02, b_a\n"
     ]
    },
    {
     "name": "stdout",
     "output_type": "stream",
     "text": [
      "[ Train | 046/300 ] loss = 0.98827, acc = 0.66170\n"
     ]
    },
    {
     "name": "stderr",
     "output_type": "stream",
     "text": [
      "V: 046/300: 100%|██████| 26/26 [00:01<00:00, 16.48it/s, v_loss=1.32, v_acc=0.57]\n"
     ]
    },
    {
     "name": "stdout",
     "output_type": "stream",
     "text": [
      "[ Valid | 046/300 ] loss = 1.32103, acc = 0.57043\n",
      "[ Valid | 046/300 ] loss = 1.32103, acc = 0.57043\n"
     ]
    },
    {
     "name": "stderr",
     "output_type": "stream",
     "text": [
      "T: 047/300: 100%|█| 78/78 [00:07<00:00, 11.04it/s, lr=0.000318, b_loss=0.931, b_\n"
     ]
    },
    {
     "name": "stdout",
     "output_type": "stream",
     "text": [
      "[ Train | 047/300 ] loss = 0.95359, acc = 0.67239\n"
     ]
    },
    {
     "name": "stderr",
     "output_type": "stream",
     "text": [
      "V: 047/300: 100%|█████| 26/26 [00:01<00:00, 15.90it/s, v_loss=1.01, v_acc=0.656]\n"
     ]
    },
    {
     "name": "stdout",
     "output_type": "stream",
     "text": [
      "[ Valid | 047/300 ] loss = 1.01491, acc = 0.65616\n",
      "[ Valid | 047/300 ] loss = 1.01491, acc = 0.65616\n"
     ]
    },
    {
     "name": "stderr",
     "output_type": "stream",
     "text": [
      "T: 048/300: 100%|█| 78/78 [00:07<00:00, 10.87it/s, lr=0.000291, b_loss=1.06, b_a\n"
     ]
    },
    {
     "name": "stdout",
     "output_type": "stream",
     "text": [
      "[ Train | 048/300 ] loss = 0.92613, acc = 0.67746\n"
     ]
    },
    {
     "name": "stderr",
     "output_type": "stream",
     "text": [
      "V: 048/300: 100%|█████| 26/26 [00:01<00:00, 14.59it/s, v_loss=1.08, v_acc=0.636]\n"
     ]
    },
    {
     "name": "stdout",
     "output_type": "stream",
     "text": [
      "[ Valid | 048/300 ] loss = 1.07908, acc = 0.63572\n",
      "[ Valid | 048/300 ] loss = 1.07908, acc = 0.63572\n"
     ]
    },
    {
     "name": "stderr",
     "output_type": "stream",
     "text": [
      "T: 049/300: 100%|█| 78/78 [00:07<00:00, 10.79it/s, lr=0.000262, b_loss=0.782, b_\n"
     ]
    },
    {
     "name": "stdout",
     "output_type": "stream",
     "text": [
      "[ Train | 049/300 ] loss = 0.89071, acc = 0.69320\n"
     ]
    },
    {
     "name": "stderr",
     "output_type": "stream",
     "text": [
      "V: 049/300: 100%|█████| 26/26 [00:01<00:00, 15.43it/s, v_loss=1.01, v_acc=0.662]\n"
     ]
    },
    {
     "name": "stdout",
     "output_type": "stream",
     "text": [
      "[ Valid | 049/300 ] loss = 1.00549, acc = 0.66188\n",
      "[ Valid | 049/300 ] loss = 1.00549, acc = 0.66188\n"
     ]
    },
    {
     "name": "stderr",
     "output_type": "stream",
     "text": [
      "T: 050/300: 100%|█| 78/78 [00:07<00:00, 10.99it/s, lr=0.000231, b_loss=0.88, b_a\n"
     ]
    },
    {
     "name": "stdout",
     "output_type": "stream",
     "text": [
      "[ Train | 050/300 ] loss = 0.88351, acc = 0.69053\n"
     ]
    },
    {
     "name": "stderr",
     "output_type": "stream",
     "text": [
      "V: 050/300: 100%|████| 26/26 [00:01<00:00, 15.22it/s, v_loss=0.965, v_acc=0.682]\n"
     ]
    },
    {
     "name": "stdout",
     "output_type": "stream",
     "text": [
      "[ Valid | 050/300 ] loss = 0.96520, acc = 0.68198\n",
      "[ Valid | 050/300 ] loss = 0.96520, acc = 0.68198\n"
     ]
    },
    {
     "name": "stderr",
     "output_type": "stream",
     "text": [
      "T: 051/300: 100%|█| 78/78 [00:07<00:00, 10.96it/s, lr=0.0002, b_loss=0.73, b_acc\n"
     ]
    },
    {
     "name": "stdout",
     "output_type": "stream",
     "text": [
      "[ Train | 051/300 ] loss = 0.83162, acc = 0.71843\n"
     ]
    },
    {
     "name": "stderr",
     "output_type": "stream",
     "text": [
      "V: 051/300: 100%|████| 26/26 [00:01<00:00, 14.50it/s, v_loss=0.971, v_acc=0.671]\n"
     ]
    },
    {
     "name": "stdout",
     "output_type": "stream",
     "text": [
      "[ Valid | 051/300 ] loss = 0.97051, acc = 0.67148\n",
      "[ Valid | 051/300 ] loss = 0.97051, acc = 0.67148\n"
     ]
    },
    {
     "name": "stderr",
     "output_type": "stream",
     "text": [
      "T: 052/300: 100%|█| 78/78 [00:07<00:00, 10.96it/s, lr=0.000169, b_loss=0.774, b_\n"
     ]
    },
    {
     "name": "stdout",
     "output_type": "stream",
     "text": [
      "[ Train | 052/300 ] loss = 0.81402, acc = 0.72020\n"
     ]
    },
    {
     "name": "stderr",
     "output_type": "stream",
     "text": [
      "V: 052/300: 100%|█████| 26/26 [00:01<00:00, 15.52it/s, v_loss=0.96, v_acc=0.681]\n"
     ]
    },
    {
     "name": "stdout",
     "output_type": "stream",
     "text": [
      "[ Valid | 052/300 ] loss = 0.95991, acc = 0.68104\n",
      "[ Valid | 052/300 ] loss = 0.95991, acc = 0.68104\n"
     ]
    },
    {
     "name": "stderr",
     "output_type": "stream",
     "text": [
      "T: 053/300: 100%|█| 78/78 [00:06<00:00, 11.18it/s, lr=0.000138, b_loss=0.74, b_a\n"
     ]
    },
    {
     "name": "stdout",
     "output_type": "stream",
     "text": [
      "[ Train | 053/300 ] loss = 0.79536, acc = 0.73020\n"
     ]
    },
    {
     "name": "stderr",
     "output_type": "stream",
     "text": [
      "V: 053/300: 100%|████| 26/26 [00:01<00:00, 16.03it/s, v_loss=0.925, v_acc=0.688]\n"
     ]
    },
    {
     "name": "stdout",
     "output_type": "stream",
     "text": [
      "[ Valid | 053/300 ] loss = 0.92525, acc = 0.68795\n",
      "[ Valid | 053/300 ] loss = 0.92525, acc = 0.68795\n"
     ]
    },
    {
     "name": "stderr",
     "output_type": "stream",
     "text": [
      "T: 054/300: 100%|█| 78/78 [00:07<00:00, 10.85it/s, lr=0.000109, b_loss=0.71, b_a\n"
     ]
    },
    {
     "name": "stdout",
     "output_type": "stream",
     "text": [
      "[ Train | 054/300 ] loss = 0.77576, acc = 0.73316\n"
     ]
    },
    {
     "name": "stderr",
     "output_type": "stream",
     "text": [
      "V: 054/300: 100%|█████| 26/26 [00:01<00:00, 15.08it/s, v_loss=0.876, v_acc=0.71]\n"
     ]
    },
    {
     "name": "stdout",
     "output_type": "stream",
     "text": [
      "[ Valid | 054/300 ] loss = 0.87647, acc = 0.70963\n",
      "[ Valid | 054/300 ] loss = 0.87647, acc = 0.70963 -> best\n",
      "Best model found at fold 1 epoch 54, acc=0.70963, saving model\n"
     ]
    },
    {
     "name": "stderr",
     "output_type": "stream",
     "text": [
      "T: 055/300: 100%|█| 78/78 [00:07<00:00, 10.83it/s, lr=8.24e-5, b_loss=0.65, b_ac\n"
     ]
    },
    {
     "name": "stdout",
     "output_type": "stream",
     "text": [
      "[ Train | 055/300 ] loss = 0.73845, acc = 0.74629\n"
     ]
    },
    {
     "name": "stderr",
     "output_type": "stream",
     "text": [
      "V: 055/300: 100%|████| 26/26 [00:01<00:00, 14.73it/s, v_loss=0.835, v_acc=0.723]\n"
     ]
    },
    {
     "name": "stdout",
     "output_type": "stream",
     "text": [
      "[ Valid | 055/300 ] loss = 0.83484, acc = 0.72269\n",
      "[ Valid | 055/300 ] loss = 0.83484, acc = 0.72269 -> best\n",
      "Best model found at fold 1 epoch 55, acc=0.72269, saving model\n"
     ]
    },
    {
     "name": "stderr",
     "output_type": "stream",
     "text": [
      "T: 056/300: 100%|█| 78/78 [00:07<00:00, 10.89it/s, lr=5.86e-5, b_loss=0.67, b_ac\n"
     ]
    },
    {
     "name": "stdout",
     "output_type": "stream",
     "text": [
      "[ Train | 056/300 ] loss = 0.72265, acc = 0.74650\n"
     ]
    },
    {
     "name": "stderr",
     "output_type": "stream",
     "text": [
      "V: 056/300: 100%|████| 26/26 [00:01<00:00, 15.73it/s, v_loss=0.827, v_acc=0.722]\n"
     ]
    },
    {
     "name": "stdout",
     "output_type": "stream",
     "text": [
      "[ Valid | 056/300 ] loss = 0.82704, acc = 0.72200\n",
      "[ Valid | 056/300 ] loss = 0.82704, acc = 0.72200\n"
     ]
    },
    {
     "name": "stderr",
     "output_type": "stream",
     "text": [
      "T: 057/300: 100%|█| 78/78 [00:07<00:00, 10.94it/s, lr=3.82e-5, b_loss=0.459, b_a\n"
     ]
    },
    {
     "name": "stdout",
     "output_type": "stream",
     "text": [
      "[ Train | 057/300 ] loss = 0.71187, acc = 0.75662\n"
     ]
    },
    {
     "name": "stderr",
     "output_type": "stream",
     "text": [
      "V: 057/300: 100%|████| 26/26 [00:01<00:00, 16.25it/s, v_loss=0.817, v_acc=0.729]\n"
     ]
    },
    {
     "name": "stdout",
     "output_type": "stream",
     "text": [
      "[ Valid | 057/300 ] loss = 0.81682, acc = 0.72923\n",
      "[ Valid | 057/300 ] loss = 0.81682, acc = 0.72923 -> best\n",
      "Best model found at fold 1 epoch 57, acc=0.72923, saving model\n"
     ]
    },
    {
     "name": "stderr",
     "output_type": "stream",
     "text": [
      "T: 058/300: 100%|█| 78/78 [00:07<00:00, 10.91it/s, lr=2.18e-5, b_loss=0.571, b_a\n"
     ]
    },
    {
     "name": "stdout",
     "output_type": "stream",
     "text": [
      "[ Train | 058/300 ] loss = 0.67596, acc = 0.77087\n"
     ]
    },
    {
     "name": "stderr",
     "output_type": "stream",
     "text": [
      "V: 058/300: 100%|████| 26/26 [00:01<00:00, 14.53it/s, v_loss=0.806, v_acc=0.735]\n"
     ]
    },
    {
     "name": "stdout",
     "output_type": "stream",
     "text": [
      "[ Valid | 058/300 ] loss = 0.80591, acc = 0.73527\n",
      "[ Valid | 058/300 ] loss = 0.80591, acc = 0.73527 -> best\n",
      "Best model found at fold 1 epoch 58, acc=0.73527, saving model\n"
     ]
    },
    {
     "name": "stderr",
     "output_type": "stream",
     "text": [
      "T: 059/300: 100%|█| 78/78 [00:07<00:00, 10.92it/s, lr=9.79e-6, b_loss=0.694, b_a\n"
     ]
    },
    {
     "name": "stdout",
     "output_type": "stream",
     "text": [
      "[ Train | 059/300 ] loss = 0.66577, acc = 0.77133\n"
     ]
    },
    {
     "name": "stderr",
     "output_type": "stream",
     "text": [
      "V: 059/300: 100%|██████| 26/26 [00:01<00:00, 15.23it/s, v_loss=0.8, v_acc=0.733]\n"
     ]
    },
    {
     "name": "stdout",
     "output_type": "stream",
     "text": [
      "[ Valid | 059/300 ] loss = 0.79951, acc = 0.73316\n",
      "[ Valid | 059/300 ] loss = 0.79951, acc = 0.73316\n"
     ]
    },
    {
     "name": "stderr",
     "output_type": "stream",
     "text": [
      "T: 060/300: 100%|█| 78/78 [00:07<00:00, 10.82it/s, lr=2.46e-6, b_loss=0.811, b_a\n"
     ]
    },
    {
     "name": "stdout",
     "output_type": "stream",
     "text": [
      "[ Train | 060/300 ] loss = 0.67449, acc = 0.76913\n"
     ]
    },
    {
     "name": "stderr",
     "output_type": "stream",
     "text": [
      "V: 060/300: 100%|██████| 26/26 [00:01<00:00, 15.10it/s, v_loss=0.8, v_acc=0.733]\n"
     ]
    },
    {
     "name": "stdout",
     "output_type": "stream",
     "text": [
      "[ Valid | 060/300 ] loss = 0.80004, acc = 0.73289\n",
      "[ Valid | 060/300 ] loss = 0.80004, acc = 0.73289\n"
     ]
    },
    {
     "name": "stderr",
     "output_type": "stream",
     "text": [
      "T: 061/300: 100%|█| 78/78 [00:07<00:00, 10.91it/s, lr=0.0004, b_loss=0.884, b_ac\n"
     ]
    },
    {
     "name": "stdout",
     "output_type": "stream",
     "text": [
      "[ Train | 061/300 ] loss = 0.90631, acc = 0.68533\n"
     ]
    },
    {
     "name": "stderr",
     "output_type": "stream",
     "text": [
      "V: 061/300: 100%|█████| 26/26 [00:01<00:00, 14.00it/s, v_loss=1.25, v_acc=0.602]\n"
     ]
    },
    {
     "name": "stdout",
     "output_type": "stream",
     "text": [
      "[ Valid | 061/300 ] loss = 1.24513, acc = 0.60232\n",
      "[ Valid | 061/300 ] loss = 1.24513, acc = 0.60232\n"
     ]
    },
    {
     "name": "stderr",
     "output_type": "stream",
     "text": [
      "T: 062/300: 100%|█| 78/78 [00:07<00:00, 10.82it/s, lr=0.000398, b_loss=0.899, b_\n"
     ]
    },
    {
     "name": "stdout",
     "output_type": "stream",
     "text": [
      "[ Train | 062/300 ] loss = 0.91656, acc = 0.68585\n"
     ]
    },
    {
     "name": "stderr",
     "output_type": "stream",
     "text": [
      "V: 062/300: 100%|█████| 26/26 [00:01<00:00, 13.91it/s, v_loss=1.14, v_acc=0.632]\n"
     ]
    },
    {
     "name": "stdout",
     "output_type": "stream",
     "text": [
      "[ Valid | 062/300 ] loss = 1.14143, acc = 0.63179\n",
      "[ Valid | 062/300 ] loss = 1.14143, acc = 0.63179\n"
     ]
    },
    {
     "name": "stderr",
     "output_type": "stream",
     "text": [
      "T: 063/300: 100%|█| 78/78 [00:07<00:00, 10.74it/s, lr=0.00039, b_loss=0.941, b_a\n"
     ]
    },
    {
     "name": "stdout",
     "output_type": "stream",
     "text": [
      "[ Train | 063/300 ] loss = 0.89778, acc = 0.69197\n"
     ]
    },
    {
     "name": "stderr",
     "output_type": "stream",
     "text": [
      "V: 063/300: 100%|██████| 26/26 [00:01<00:00, 14.71it/s, v_loss=1.2, v_acc=0.605]\n"
     ]
    },
    {
     "name": "stdout",
     "output_type": "stream",
     "text": [
      "[ Valid | 063/300 ] loss = 1.20369, acc = 0.60472\n",
      "[ Valid | 063/300 ] loss = 1.20369, acc = 0.60472\n"
     ]
    },
    {
     "name": "stderr",
     "output_type": "stream",
     "text": [
      "T: 064/300: 100%|█| 78/78 [00:07<00:00, 10.80it/s, lr=0.000378, b_loss=0.856, b_\n"
     ]
    },
    {
     "name": "stdout",
     "output_type": "stream",
     "text": [
      "[ Train | 064/300 ] loss = 0.87441, acc = 0.69803\n"
     ]
    },
    {
     "name": "stderr",
     "output_type": "stream",
     "text": [
      "V: 064/300: 100%|█████| 26/26 [00:01<00:00, 15.65it/s, v_loss=1.12, v_acc=0.634]\n"
     ]
    },
    {
     "name": "stdout",
     "output_type": "stream",
     "text": [
      "[ Valid | 064/300 ] loss = 1.12337, acc = 0.63414\n",
      "[ Valid | 064/300 ] loss = 1.12337, acc = 0.63414\n"
     ]
    },
    {
     "name": "stderr",
     "output_type": "stream",
     "text": [
      "T: 065/300: 100%|█| 78/78 [00:07<00:00, 10.92it/s, lr=0.000362, b_loss=0.846, b_\n"
     ]
    },
    {
     "name": "stdout",
     "output_type": "stream",
     "text": [
      "[ Train | 065/300 ] loss = 0.87119, acc = 0.70096\n"
     ]
    },
    {
     "name": "stderr",
     "output_type": "stream",
     "text": [
      "V: 065/300: 100%|█████| 26/26 [00:01<00:00, 15.51it/s, v_loss=1.24, v_acc=0.613]\n"
     ]
    },
    {
     "name": "stdout",
     "output_type": "stream",
     "text": [
      "[ Valid | 065/300 ] loss = 1.23920, acc = 0.61257\n",
      "[ Valid | 065/300 ] loss = 1.23920, acc = 0.61257\n"
     ]
    },
    {
     "name": "stderr",
     "output_type": "stream",
     "text": [
      "T: 066/300: 100%|█| 78/78 [00:07<00:00, 10.74it/s, lr=0.000341, b_loss=0.842, b_\n"
     ]
    },
    {
     "name": "stdout",
     "output_type": "stream",
     "text": [
      "[ Train | 066/300 ] loss = 0.83762, acc = 0.70760\n"
     ]
    },
    {
     "name": "stderr",
     "output_type": "stream",
     "text": [
      "V: 066/300: 100%|████| 26/26 [00:01<00:00, 14.34it/s, v_loss=0.974, v_acc=0.688]\n"
     ]
    },
    {
     "name": "stdout",
     "output_type": "stream",
     "text": [
      "[ Valid | 066/300 ] loss = 0.97396, acc = 0.68775\n",
      "[ Valid | 066/300 ] loss = 0.97396, acc = 0.68775\n"
     ]
    },
    {
     "name": "stderr",
     "output_type": "stream",
     "text": [
      "T: 067/300: 100%|█| 78/78 [00:07<00:00, 11.03it/s, lr=0.000318, b_loss=0.789, b_\n"
     ]
    },
    {
     "name": "stdout",
     "output_type": "stream",
     "text": [
      "[ Train | 067/300 ] loss = 0.81923, acc = 0.71745\n"
     ]
    },
    {
     "name": "stderr",
     "output_type": "stream",
     "text": [
      "V: 067/300: 100%|█████| 26/26 [00:01<00:00, 14.30it/s, v_loss=1.05, v_acc=0.664]\n"
     ]
    },
    {
     "name": "stdout",
     "output_type": "stream",
     "text": [
      "[ Valid | 067/300 ] loss = 1.04884, acc = 0.66392\n",
      "[ Valid | 067/300 ] loss = 1.04884, acc = 0.66392\n"
     ]
    },
    {
     "name": "stderr",
     "output_type": "stream",
     "text": [
      "T: 068/300: 100%|█| 78/78 [00:07<00:00, 10.82it/s, lr=0.000291, b_loss=0.695, b_\n"
     ]
    },
    {
     "name": "stdout",
     "output_type": "stream",
     "text": [
      "[ Train | 068/300 ] loss = 0.77843, acc = 0.73269\n"
     ]
    },
    {
     "name": "stderr",
     "output_type": "stream",
     "text": [
      "V: 068/300: 100%|████| 26/26 [00:01<00:00, 14.03it/s, v_loss=0.974, v_acc=0.677]\n"
     ]
    },
    {
     "name": "stdout",
     "output_type": "stream",
     "text": [
      "[ Valid | 068/300 ] loss = 0.97366, acc = 0.67750\n",
      "[ Valid | 068/300 ] loss = 0.97366, acc = 0.67750\n"
     ]
    },
    {
     "name": "stderr",
     "output_type": "stream",
     "text": [
      "T: 069/300: 100%|█| 78/78 [00:07<00:00, 10.84it/s, lr=0.000262, b_loss=0.915, b_\n"
     ]
    },
    {
     "name": "stdout",
     "output_type": "stream",
     "text": [
      "[ Train | 069/300 ] loss = 0.78494, acc = 0.72767\n"
     ]
    },
    {
     "name": "stderr",
     "output_type": "stream",
     "text": [
      "V: 069/300: 100%|█████| 26/26 [00:01<00:00, 13.74it/s, v_loss=1.08, v_acc=0.647]\n"
     ]
    },
    {
     "name": "stdout",
     "output_type": "stream",
     "text": [
      "[ Valid | 069/300 ] loss = 1.08188, acc = 0.64674\n",
      "[ Valid | 069/300 ] loss = 1.08188, acc = 0.64674\n"
     ]
    },
    {
     "name": "stderr",
     "output_type": "stream",
     "text": [
      "T: 070/300: 100%|█| 78/78 [00:07<00:00, 11.09it/s, lr=0.000231, b_loss=0.87, b_a\n"
     ]
    },
    {
     "name": "stdout",
     "output_type": "stream",
     "text": [
      "[ Train | 070/300 ] loss = 0.75425, acc = 0.73754\n"
     ]
    },
    {
     "name": "stderr",
     "output_type": "stream",
     "text": [
      "V: 070/300: 100%|████| 26/26 [00:01<00:00, 15.26it/s, v_loss=0.932, v_acc=0.689]\n"
     ]
    },
    {
     "name": "stdout",
     "output_type": "stream",
     "text": [
      "[ Valid | 070/300 ] loss = 0.93235, acc = 0.68891\n",
      "[ Valid | 070/300 ] loss = 0.93235, acc = 0.68891\n"
     ]
    },
    {
     "name": "stderr",
     "output_type": "stream",
     "text": [
      "T: 071/300: 100%|█| 78/78 [00:07<00:00, 10.87it/s, lr=0.0002, b_loss=0.682, b_ac\n"
     ]
    },
    {
     "name": "stdout",
     "output_type": "stream",
     "text": [
      "[ Train | 071/300 ] loss = 0.72016, acc = 0.74930\n"
     ]
    },
    {
     "name": "stderr",
     "output_type": "stream",
     "text": [
      "V: 071/300: 100%|████| 26/26 [00:01<00:00, 16.71it/s, v_loss=0.876, v_acc=0.708]\n"
     ]
    },
    {
     "name": "stdout",
     "output_type": "stream",
     "text": [
      "[ Valid | 071/300 ] loss = 0.87574, acc = 0.70788\n",
      "[ Valid | 071/300 ] loss = 0.87574, acc = 0.70788\n"
     ]
    },
    {
     "name": "stderr",
     "output_type": "stream",
     "text": [
      "T: 072/300: 100%|█| 78/78 [00:07<00:00, 11.08it/s, lr=0.000169, b_loss=0.711, b_\n"
     ]
    },
    {
     "name": "stdout",
     "output_type": "stream",
     "text": [
      "[ Train | 072/300 ] loss = 0.70091, acc = 0.75681\n"
     ]
    },
    {
     "name": "stderr",
     "output_type": "stream",
     "text": [
      "V: 072/300: 100%|████| 26/26 [00:01<00:00, 14.00it/s, v_loss=0.892, v_acc=0.711]\n"
     ]
    },
    {
     "name": "stdout",
     "output_type": "stream",
     "text": [
      "[ Valid | 072/300 ] loss = 0.89220, acc = 0.71059\n",
      "[ Valid | 072/300 ] loss = 0.89220, acc = 0.71059\n"
     ]
    },
    {
     "name": "stderr",
     "output_type": "stream",
     "text": [
      "T: 073/300: 100%|█| 78/78 [00:07<00:00, 10.94it/s, lr=0.000138, b_loss=0.627, b_\n"
     ]
    },
    {
     "name": "stdout",
     "output_type": "stream",
     "text": [
      "[ Train | 073/300 ] loss = 0.66097, acc = 0.77249\n"
     ]
    },
    {
     "name": "stderr",
     "output_type": "stream",
     "text": [
      "V: 073/300: 100%|████| 26/26 [00:01<00:00, 13.83it/s, v_loss=0.826, v_acc=0.729]\n"
     ]
    },
    {
     "name": "stdout",
     "output_type": "stream",
     "text": [
      "[ Valid | 073/300 ] loss = 0.82596, acc = 0.72862\n",
      "[ Valid | 073/300 ] loss = 0.82596, acc = 0.72862\n"
     ]
    },
    {
     "name": "stderr",
     "output_type": "stream",
     "text": [
      "T: 074/300: 100%|█| 78/78 [00:07<00:00, 10.91it/s, lr=0.000109, b_loss=0.651, b_\n"
     ]
    },
    {
     "name": "stdout",
     "output_type": "stream",
     "text": [
      "[ Train | 074/300 ] loss = 0.64057, acc = 0.78060\n"
     ]
    },
    {
     "name": "stderr",
     "output_type": "stream",
     "text": [
      "V: 074/300: 100%|█████| 26/26 [00:01<00:00, 16.19it/s, v_loss=0.819, v_acc=0.73]\n"
     ]
    },
    {
     "name": "stdout",
     "output_type": "stream",
     "text": [
      "[ Valid | 074/300 ] loss = 0.81937, acc = 0.72977\n",
      "[ Valid | 074/300 ] loss = 0.81937, acc = 0.72977\n"
     ]
    },
    {
     "name": "stderr",
     "output_type": "stream",
     "text": [
      "T: 075/300: 100%|█| 78/78 [00:07<00:00, 10.54it/s, lr=8.24e-5, b_loss=0.689, b_a\n"
     ]
    },
    {
     "name": "stdout",
     "output_type": "stream",
     "text": [
      "[ Train | 075/300 ] loss = 0.61759, acc = 0.78741\n"
     ]
    },
    {
     "name": "stderr",
     "output_type": "stream",
     "text": [
      "V: 075/300: 100%|████| 26/26 [00:01<00:00, 15.12it/s, v_loss=0.836, v_acc=0.733]\n"
     ]
    },
    {
     "name": "stdout",
     "output_type": "stream",
     "text": [
      "[ Valid | 075/300 ] loss = 0.83600, acc = 0.73344\n",
      "[ Valid | 075/300 ] loss = 0.83600, acc = 0.73344\n"
     ]
    },
    {
     "name": "stderr",
     "output_type": "stream",
     "text": [
      "T: 076/300: 100%|█| 78/78 [00:07<00:00, 11.13it/s, lr=5.86e-5, b_loss=0.631, b_a\n"
     ]
    },
    {
     "name": "stdout",
     "output_type": "stream",
     "text": [
      "[ Train | 076/300 ] loss = 0.60611, acc = 0.79152\n"
     ]
    },
    {
     "name": "stderr",
     "output_type": "stream",
     "text": [
      "V: 076/300: 100%|████| 26/26 [00:01<00:00, 15.60it/s, v_loss=0.784, v_acc=0.747]\n"
     ]
    },
    {
     "name": "stdout",
     "output_type": "stream",
     "text": [
      "[ Valid | 076/300 ] loss = 0.78362, acc = 0.74732\n",
      "[ Valid | 076/300 ] loss = 0.78362, acc = 0.74732 -> best\n",
      "Best model found at fold 1 epoch 76, acc=0.74732, saving model\n"
     ]
    },
    {
     "name": "stderr",
     "output_type": "stream",
     "text": [
      "T: 077/300: 100%|█| 78/78 [00:07<00:00, 10.88it/s, lr=3.82e-5, b_loss=0.502, b_a\n"
     ]
    },
    {
     "name": "stdout",
     "output_type": "stream",
     "text": [
      "[ Train | 077/300 ] loss = 0.58923, acc = 0.79959\n"
     ]
    },
    {
     "name": "stderr",
     "output_type": "stream",
     "text": [
      "V: 077/300: 100%|████| 26/26 [00:01<00:00, 14.73it/s, v_loss=0.757, v_acc=0.754]\n"
     ]
    },
    {
     "name": "stdout",
     "output_type": "stream",
     "text": [
      "[ Valid | 077/300 ] loss = 0.75722, acc = 0.75390\n",
      "[ Valid | 077/300 ] loss = 0.75722, acc = 0.75390 -> best\n",
      "Best model found at fold 1 epoch 77, acc=0.75390, saving model\n"
     ]
    },
    {
     "name": "stderr",
     "output_type": "stream",
     "text": [
      "T: 078/300: 100%|█| 78/78 [00:07<00:00, 10.77it/s, lr=2.18e-5, b_loss=0.532, b_a\n"
     ]
    },
    {
     "name": "stdout",
     "output_type": "stream",
     "text": [
      "[ Train | 078/300 ] loss = 0.56835, acc = 0.80443\n"
     ]
    },
    {
     "name": "stderr",
     "output_type": "stream",
     "text": [
      "V: 078/300: 100%|████| 26/26 [00:01<00:00, 14.63it/s, v_loss=0.761, v_acc=0.751]\n"
     ]
    },
    {
     "name": "stdout",
     "output_type": "stream",
     "text": [
      "[ Valid | 078/300 ] loss = 0.76090, acc = 0.75087\n",
      "[ Valid | 078/300 ] loss = 0.76090, acc = 0.75087\n"
     ]
    },
    {
     "name": "stderr",
     "output_type": "stream",
     "text": [
      "T: 079/300: 100%|█| 78/78 [00:07<00:00, 10.84it/s, lr=9.79e-6, b_loss=0.567, b_a\n"
     ]
    },
    {
     "name": "stdout",
     "output_type": "stream",
     "text": [
      "[ Train | 079/300 ] loss = 0.55637, acc = 0.81099\n"
     ]
    },
    {
     "name": "stderr",
     "output_type": "stream",
     "text": [
      "V: 079/300: 100%|████| 26/26 [00:01<00:00, 13.42it/s, v_loss=0.752, v_acc=0.755]\n"
     ]
    },
    {
     "name": "stdout",
     "output_type": "stream",
     "text": [
      "[ Valid | 079/300 ] loss = 0.75244, acc = 0.75507\n",
      "[ Valid | 079/300 ] loss = 0.75244, acc = 0.75507 -> best\n",
      "Best model found at fold 1 epoch 79, acc=0.75507, saving model\n"
     ]
    },
    {
     "name": "stderr",
     "output_type": "stream",
     "text": [
      "T: 080/300: 100%|█| 78/78 [00:07<00:00, 10.87it/s, lr=2.46e-6, b_loss=0.589, b_a\n"
     ]
    },
    {
     "name": "stdout",
     "output_type": "stream",
     "text": [
      "[ Train | 080/300 ] loss = 0.55691, acc = 0.80997\n"
     ]
    },
    {
     "name": "stderr",
     "output_type": "stream",
     "text": [
      "V: 080/300: 100%|████| 26/26 [00:01<00:00, 14.29it/s, v_loss=0.754, v_acc=0.753]\n"
     ]
    },
    {
     "name": "stdout",
     "output_type": "stream",
     "text": [
      "[ Valid | 080/300 ] loss = 0.75376, acc = 0.75300\n",
      "[ Valid | 080/300 ] loss = 0.75376, acc = 0.75300\n"
     ]
    },
    {
     "name": "stderr",
     "output_type": "stream",
     "text": [
      "T: 081/300: 100%|█| 78/78 [00:07<00:00, 10.69it/s, lr=0.0004, b_loss=0.847, b_ac\n"
     ]
    },
    {
     "name": "stdout",
     "output_type": "stream",
     "text": [
      "[ Train | 081/300 ] loss = 0.80814, acc = 0.71778\n"
     ]
    },
    {
     "name": "stderr",
     "output_type": "stream",
     "text": [
      "V: 081/300: 100%|█████| 26/26 [00:01<00:00, 13.11it/s, v_loss=1.34, v_acc=0.601]\n"
     ]
    },
    {
     "name": "stdout",
     "output_type": "stream",
     "text": [
      "[ Valid | 081/300 ] loss = 1.33779, acc = 0.60060\n",
      "[ Valid | 081/300 ] loss = 1.33779, acc = 0.60060\n"
     ]
    },
    {
     "name": "stderr",
     "output_type": "stream",
     "text": [
      "T: 082/300: 100%|█| 78/78 [00:07<00:00, 10.89it/s, lr=0.000398, b_loss=0.7, b_ac\n"
     ]
    },
    {
     "name": "stdout",
     "output_type": "stream",
     "text": [
      "[ Train | 082/300 ] loss = 0.80110, acc = 0.72448\n"
     ]
    },
    {
     "name": "stderr",
     "output_type": "stream",
     "text": [
      "V: 082/300: 100%|██████| 26/26 [00:01<00:00, 14.40it/s, v_loss=1.1, v_acc=0.651]\n"
     ]
    },
    {
     "name": "stdout",
     "output_type": "stream",
     "text": [
      "[ Valid | 082/300 ] loss = 1.10062, acc = 0.65101\n",
      "[ Valid | 082/300 ] loss = 1.10062, acc = 0.65101\n"
     ]
    },
    {
     "name": "stderr",
     "output_type": "stream",
     "text": [
      "T: 083/300: 100%|█| 78/78 [00:07<00:00, 10.71it/s, lr=0.00039, b_loss=0.948, b_a\n"
     ]
    },
    {
     "name": "stdout",
     "output_type": "stream",
     "text": [
      "[ Train | 083/300 ] loss = 0.80890, acc = 0.72021\n"
     ]
    },
    {
     "name": "stderr",
     "output_type": "stream",
     "text": [
      "V: 083/300: 100%|█████| 26/26 [00:01<00:00, 14.89it/s, v_loss=1.04, v_acc=0.657]\n"
     ]
    },
    {
     "name": "stdout",
     "output_type": "stream",
     "text": [
      "[ Valid | 083/300 ] loss = 1.04340, acc = 0.65674\n",
      "[ Valid | 083/300 ] loss = 1.04340, acc = 0.65674\n"
     ]
    },
    {
     "name": "stderr",
     "output_type": "stream",
     "text": [
      "T: 084/300: 100%|█| 78/78 [00:07<00:00, 10.89it/s, lr=0.000378, b_loss=0.642, b_\n"
     ]
    },
    {
     "name": "stdout",
     "output_type": "stream",
     "text": [
      "[ Train | 084/300 ] loss = 0.75443, acc = 0.74127\n"
     ]
    },
    {
     "name": "stderr",
     "output_type": "stream",
     "text": [
      "V: 084/300: 100%|██████| 26/26 [00:01<00:00, 14.13it/s, v_loss=1.27, v_acc=0.61]\n"
     ]
    },
    {
     "name": "stdout",
     "output_type": "stream",
     "text": [
      "[ Valid | 084/300 ] loss = 1.27224, acc = 0.61036\n",
      "[ Valid | 084/300 ] loss = 1.27224, acc = 0.61036\n"
     ]
    },
    {
     "name": "stderr",
     "output_type": "stream",
     "text": [
      "T: 085/300: 100%|█| 78/78 [00:07<00:00, 10.99it/s, lr=0.000362, b_loss=0.66, b_a\n"
     ]
    },
    {
     "name": "stdout",
     "output_type": "stream",
     "text": [
      "[ Train | 085/300 ] loss = 0.77926, acc = 0.73363\n"
     ]
    },
    {
     "name": "stderr",
     "output_type": "stream",
     "text": [
      "V: 085/300: 100%|█████| 26/26 [00:01<00:00, 15.49it/s, v_loss=1.83, v_acc=0.471]\n"
     ]
    },
    {
     "name": "stdout",
     "output_type": "stream",
     "text": [
      "[ Valid | 085/300 ] loss = 1.82542, acc = 0.47112\n",
      "[ Valid | 085/300 ] loss = 1.82542, acc = 0.47112\n"
     ]
    },
    {
     "name": "stderr",
     "output_type": "stream",
     "text": [
      "T: 086/300: 100%|█| 78/78 [00:06<00:00, 11.22it/s, lr=0.000341, b_loss=0.891, b_\n"
     ]
    },
    {
     "name": "stdout",
     "output_type": "stream",
     "text": [
      "[ Train | 086/300 ] loss = 0.74653, acc = 0.74120\n"
     ]
    },
    {
     "name": "stderr",
     "output_type": "stream",
     "text": [
      "V: 086/300: 100%|█████| 26/26 [00:01<00:00, 14.86it/s, v_loss=1.05, v_acc=0.658]\n"
     ]
    },
    {
     "name": "stdout",
     "output_type": "stream",
     "text": [
      "[ Valid | 086/300 ] loss = 1.04955, acc = 0.65800\n",
      "[ Valid | 086/300 ] loss = 1.04955, acc = 0.65800\n"
     ]
    },
    {
     "name": "stderr",
     "output_type": "stream",
     "text": [
      "T: 087/300: 100%|█| 78/78 [00:07<00:00, 11.00it/s, lr=0.000318, b_loss=0.767, b_\n"
     ]
    },
    {
     "name": "stdout",
     "output_type": "stream",
     "text": [
      "[ Train | 087/300 ] loss = 0.71321, acc = 0.74999\n"
     ]
    },
    {
     "name": "stderr",
     "output_type": "stream",
     "text": [
      "V: 087/300: 100%|██████| 26/26 [00:01<00:00, 14.83it/s, v_loss=1.12, v_acc=0.65]\n"
     ]
    },
    {
     "name": "stdout",
     "output_type": "stream",
     "text": [
      "[ Valid | 087/300 ] loss = 1.12147, acc = 0.65041\n",
      "[ Valid | 087/300 ] loss = 1.12147, acc = 0.65041\n"
     ]
    },
    {
     "name": "stderr",
     "output_type": "stream",
     "text": [
      "T: 088/300: 100%|█| 78/78 [00:06<00:00, 11.19it/s, lr=0.000291, b_loss=0.555, b_\n"
     ]
    },
    {
     "name": "stdout",
     "output_type": "stream",
     "text": [
      "[ Train | 088/300 ] loss = 0.69030, acc = 0.76301\n"
     ]
    },
    {
     "name": "stderr",
     "output_type": "stream",
     "text": [
      "V: 088/300: 100%|████| 26/26 [00:01<00:00, 15.36it/s, v_loss=0.936, v_acc=0.682]\n"
     ]
    },
    {
     "name": "stdout",
     "output_type": "stream",
     "text": [
      "[ Valid | 088/300 ] loss = 0.93583, acc = 0.68201\n",
      "[ Valid | 088/300 ] loss = 0.93583, acc = 0.68201\n"
     ]
    },
    {
     "name": "stderr",
     "output_type": "stream",
     "text": [
      "T: 089/300: 100%|█| 78/78 [00:07<00:00, 11.05it/s, lr=0.000262, b_loss=0.664, b_\n"
     ]
    },
    {
     "name": "stdout",
     "output_type": "stream",
     "text": [
      "[ Train | 089/300 ] loss = 0.66074, acc = 0.77061\n"
     ]
    },
    {
     "name": "stderr",
     "output_type": "stream",
     "text": [
      "V: 089/300: 100%|█████| 26/26 [00:01<00:00, 13.56it/s, v_loss=0.92, v_acc=0.704]\n"
     ]
    },
    {
     "name": "stdout",
     "output_type": "stream",
     "text": [
      "[ Valid | 089/300 ] loss = 0.91982, acc = 0.70372\n",
      "[ Valid | 089/300 ] loss = 0.91982, acc = 0.70372\n"
     ]
    },
    {
     "name": "stderr",
     "output_type": "stream",
     "text": [
      "T: 090/300: 100%|█| 78/78 [00:07<00:00, 11.00it/s, lr=0.000231, b_loss=0.759, b_\n"
     ]
    },
    {
     "name": "stdout",
     "output_type": "stream",
     "text": [
      "[ Train | 090/300 ] loss = 0.66157, acc = 0.76744\n"
     ]
    },
    {
     "name": "stderr",
     "output_type": "stream",
     "text": [
      "V: 090/300: 100%|████| 26/26 [00:01<00:00, 15.06it/s, v_loss=0.911, v_acc=0.702]\n"
     ]
    },
    {
     "name": "stdout",
     "output_type": "stream",
     "text": [
      "[ Valid | 090/300 ] loss = 0.91082, acc = 0.70242\n",
      "[ Valid | 090/300 ] loss = 0.91082, acc = 0.70242\n"
     ]
    },
    {
     "name": "stderr",
     "output_type": "stream",
     "text": [
      "T: 091/300: 100%|█| 78/78 [00:07<00:00, 11.01it/s, lr=0.0002, b_loss=0.901, b_ac\n"
     ]
    },
    {
     "name": "stdout",
     "output_type": "stream",
     "text": [
      "[ Train | 091/300 ] loss = 0.62612, acc = 0.78331\n"
     ]
    },
    {
     "name": "stderr",
     "output_type": "stream",
     "text": [
      "V: 091/300: 100%|████| 26/26 [00:01<00:00, 15.04it/s, v_loss=0.906, v_acc=0.709]\n"
     ]
    },
    {
     "name": "stdout",
     "output_type": "stream",
     "text": [
      "[ Valid | 091/300 ] loss = 0.90625, acc = 0.70908\n",
      "[ Valid | 091/300 ] loss = 0.90625, acc = 0.70908\n"
     ]
    },
    {
     "name": "stderr",
     "output_type": "stream",
     "text": [
      "T: 092/300: 100%|█| 78/78 [00:07<00:00, 10.81it/s, lr=0.000169, b_loss=0.54, b_a\n"
     ]
    },
    {
     "name": "stdout",
     "output_type": "stream",
     "text": [
      "[ Train | 092/300 ] loss = 0.60397, acc = 0.79170\n"
     ]
    },
    {
     "name": "stderr",
     "output_type": "stream",
     "text": [
      "V: 092/300: 100%|████| 26/26 [00:01<00:00, 16.55it/s, v_loss=0.837, v_acc=0.727]\n"
     ]
    },
    {
     "name": "stdout",
     "output_type": "stream",
     "text": [
      "[ Valid | 092/300 ] loss = 0.83683, acc = 0.72683\n",
      "[ Valid | 092/300 ] loss = 0.83683, acc = 0.72683\n"
     ]
    },
    {
     "name": "stderr",
     "output_type": "stream",
     "text": [
      "T: 093/300: 100%|█| 78/78 [00:07<00:00, 11.01it/s, lr=0.000138, b_loss=0.579, b_\n"
     ]
    },
    {
     "name": "stdout",
     "output_type": "stream",
     "text": [
      "[ Train | 093/300 ] loss = 0.57439, acc = 0.80072\n"
     ]
    },
    {
     "name": "stderr",
     "output_type": "stream",
     "text": [
      "V: 093/300: 100%|█████| 26/26 [00:01<00:00, 13.66it/s, v_loss=0.795, v_acc=0.75]\n"
     ]
    },
    {
     "name": "stdout",
     "output_type": "stream",
     "text": [
      "[ Valid | 093/300 ] loss = 0.79539, acc = 0.75031\n",
      "[ Valid | 093/300 ] loss = 0.79539, acc = 0.75031\n"
     ]
    },
    {
     "name": "stderr",
     "output_type": "stream",
     "text": [
      "T: 094/300: 100%|█| 78/78 [00:07<00:00, 10.98it/s, lr=0.000109, b_loss=0.422, b_\n"
     ]
    },
    {
     "name": "stdout",
     "output_type": "stream",
     "text": [
      "[ Train | 094/300 ] loss = 0.54822, acc = 0.81241\n"
     ]
    },
    {
     "name": "stderr",
     "output_type": "stream",
     "text": [
      "V: 094/300: 100%|████| 26/26 [00:01<00:00, 16.63it/s, v_loss=0.777, v_acc=0.756]\n"
     ]
    },
    {
     "name": "stdout",
     "output_type": "stream",
     "text": [
      "[ Valid | 094/300 ] loss = 0.77665, acc = 0.75570\n",
      "[ Valid | 094/300 ] loss = 0.77665, acc = 0.75570 -> best\n",
      "Best model found at fold 1 epoch 94, acc=0.75570, saving model\n"
     ]
    },
    {
     "name": "stderr",
     "output_type": "stream",
     "text": [
      "T: 095/300: 100%|█| 78/78 [00:07<00:00, 10.80it/s, lr=8.24e-5, b_loss=0.511, b_a\n"
     ]
    },
    {
     "name": "stdout",
     "output_type": "stream",
     "text": [
      "[ Train | 095/300 ] loss = 0.53373, acc = 0.81770\n"
     ]
    },
    {
     "name": "stderr",
     "output_type": "stream",
     "text": [
      "V: 095/300: 100%|████| 26/26 [00:01<00:00, 13.68it/s, v_loss=0.796, v_acc=0.746]\n"
     ]
    },
    {
     "name": "stdout",
     "output_type": "stream",
     "text": [
      "[ Valid | 095/300 ] loss = 0.79643, acc = 0.74571\n",
      "[ Valid | 095/300 ] loss = 0.79643, acc = 0.74571\n"
     ]
    },
    {
     "name": "stderr",
     "output_type": "stream",
     "text": [
      "T: 096/300: 100%|█| 78/78 [00:07<00:00, 11.13it/s, lr=5.86e-5, b_loss=0.406, b_a\n"
     ]
    },
    {
     "name": "stdout",
     "output_type": "stream",
     "text": [
      "[ Train | 096/300 ] loss = 0.50368, acc = 0.82866\n"
     ]
    },
    {
     "name": "stderr",
     "output_type": "stream",
     "text": [
      "V: 096/300: 100%|████| 26/26 [00:01<00:00, 14.75it/s, v_loss=0.758, v_acc=0.761]\n"
     ]
    },
    {
     "name": "stdout",
     "output_type": "stream",
     "text": [
      "[ Valid | 096/300 ] loss = 0.75795, acc = 0.76059\n",
      "[ Valid | 096/300 ] loss = 0.75795, acc = 0.76059 -> best\n",
      "Best model found at fold 1 epoch 96, acc=0.76059, saving model\n"
     ]
    },
    {
     "name": "stderr",
     "output_type": "stream",
     "text": [
      "T: 097/300: 100%|█| 78/78 [00:07<00:00, 10.97it/s, lr=3.82e-5, b_loss=0.441, b_a\n"
     ]
    },
    {
     "name": "stdout",
     "output_type": "stream",
     "text": [
      "[ Train | 097/300 ] loss = 0.49880, acc = 0.82611\n"
     ]
    },
    {
     "name": "stderr",
     "output_type": "stream",
     "text": [
      "V: 097/300: 100%|████| 26/26 [00:01<00:00, 14.04it/s, v_loss=0.736, v_acc=0.765]\n"
     ]
    },
    {
     "name": "stdout",
     "output_type": "stream",
     "text": [
      "[ Valid | 097/300 ] loss = 0.73553, acc = 0.76475\n",
      "[ Valid | 097/300 ] loss = 0.73553, acc = 0.76475 -> best\n",
      "Best model found at fold 1 epoch 97, acc=0.76475, saving model\n"
     ]
    },
    {
     "name": "stderr",
     "output_type": "stream",
     "text": [
      "T: 098/300: 100%|█| 78/78 [00:07<00:00, 10.81it/s, lr=2.18e-5, b_loss=0.612, b_a\n"
     ]
    },
    {
     "name": "stdout",
     "output_type": "stream",
     "text": [
      "[ Train | 098/300 ] loss = 0.49203, acc = 0.82969\n"
     ]
    },
    {
     "name": "stderr",
     "output_type": "stream",
     "text": [
      "V: 098/300: 100%|████| 26/26 [00:01<00:00, 15.66it/s, v_loss=0.736, v_acc=0.762]\n"
     ]
    },
    {
     "name": "stdout",
     "output_type": "stream",
     "text": [
      "[ Valid | 098/300 ] loss = 0.73626, acc = 0.76198\n",
      "[ Valid | 098/300 ] loss = 0.73626, acc = 0.76198\n"
     ]
    },
    {
     "name": "stderr",
     "output_type": "stream",
     "text": [
      "T: 099/300: 100%|█| 78/78 [00:07<00:00, 10.96it/s, lr=9.79e-6, b_loss=0.574, b_a\n"
     ]
    },
    {
     "name": "stdout",
     "output_type": "stream",
     "text": [
      "[ Train | 099/300 ] loss = 0.47195, acc = 0.83397\n"
     ]
    },
    {
     "name": "stderr",
     "output_type": "stream",
     "text": [
      "V: 099/300: 100%|████| 26/26 [00:01<00:00, 16.47it/s, v_loss=0.735, v_acc=0.767]\n"
     ]
    },
    {
     "name": "stdout",
     "output_type": "stream",
     "text": [
      "[ Valid | 099/300 ] loss = 0.73549, acc = 0.76654\n",
      "[ Valid | 099/300 ] loss = 0.73549, acc = 0.76654 -> best\n",
      "Best model found at fold 1 epoch 99, acc=0.76654, saving model\n"
     ]
    },
    {
     "name": "stderr",
     "output_type": "stream",
     "text": [
      "T: 100/300: 100%|█| 78/78 [00:07<00:00, 10.88it/s, lr=2.46e-6, b_loss=0.419, b_a\n"
     ]
    },
    {
     "name": "stdout",
     "output_type": "stream",
     "text": [
      "[ Train | 100/300 ] loss = 0.46818, acc = 0.84188\n"
     ]
    },
    {
     "name": "stderr",
     "output_type": "stream",
     "text": [
      "V: 100/300: 100%|████| 26/26 [00:01<00:00, 14.93it/s, v_loss=0.736, v_acc=0.765]\n"
     ]
    },
    {
     "name": "stdout",
     "output_type": "stream",
     "text": [
      "[ Valid | 100/300 ] loss = 0.73579, acc = 0.76474\n",
      "[ Valid | 100/300 ] loss = 0.73579, acc = 0.76474\n"
     ]
    },
    {
     "name": "stderr",
     "output_type": "stream",
     "text": [
      "T: 101/300: 100%|█| 78/78 [00:07<00:00, 11.07it/s, lr=0.0004, b_loss=0.802, b_ac\n"
     ]
    },
    {
     "name": "stdout",
     "output_type": "stream",
     "text": [
      "[ Train | 101/300 ] loss = 0.71891, acc = 0.75193\n"
     ]
    },
    {
     "name": "stderr",
     "output_type": "stream",
     "text": [
      "V: 101/300: 100%|█████| 26/26 [00:01<00:00, 15.44it/s, v_loss=1.36, v_acc=0.625]\n"
     ]
    },
    {
     "name": "stdout",
     "output_type": "stream",
     "text": [
      "[ Valid | 101/300 ] loss = 1.35572, acc = 0.62542\n",
      "[ Valid | 101/300 ] loss = 1.35572, acc = 0.62542\n"
     ]
    },
    {
     "name": "stderr",
     "output_type": "stream",
     "text": [
      "T: 102/300: 100%|█| 78/78 [00:07<00:00, 11.13it/s, lr=0.000398, b_loss=0.887, b_\n"
     ]
    },
    {
     "name": "stdout",
     "output_type": "stream",
     "text": [
      "[ Train | 102/300 ] loss = 0.72998, acc = 0.74431\n"
     ]
    },
    {
     "name": "stderr",
     "output_type": "stream",
     "text": [
      "V: 102/300: 100%|█████| 26/26 [00:01<00:00, 16.23it/s, v_loss=1.13, v_acc=0.645]\n"
     ]
    },
    {
     "name": "stdout",
     "output_type": "stream",
     "text": [
      "[ Valid | 102/300 ] loss = 1.12841, acc = 0.64506\n",
      "[ Valid | 102/300 ] loss = 1.12841, acc = 0.64506\n"
     ]
    },
    {
     "name": "stderr",
     "output_type": "stream",
     "text": [
      "T: 103/300: 100%|█| 78/78 [00:07<00:00, 11.02it/s, lr=0.00039, b_loss=0.77, b_ac\n"
     ]
    },
    {
     "name": "stdout",
     "output_type": "stream",
     "text": [
      "[ Train | 103/300 ] loss = 0.69602, acc = 0.75840\n"
     ]
    },
    {
     "name": "stderr",
     "output_type": "stream",
     "text": [
      "V: 103/300: 100%|████| 26/26 [00:01<00:00, 14.79it/s, v_loss=0.994, v_acc=0.683]\n"
     ]
    },
    {
     "name": "stdout",
     "output_type": "stream",
     "text": [
      "[ Valid | 103/300 ] loss = 0.99397, acc = 0.68290\n",
      "[ Valid | 103/300 ] loss = 0.99397, acc = 0.68290\n"
     ]
    },
    {
     "name": "stderr",
     "output_type": "stream",
     "text": [
      "T: 104/300: 100%|█| 78/78 [00:06<00:00, 11.15it/s, lr=0.000378, b_loss=0.808, b_\n"
     ]
    },
    {
     "name": "stdout",
     "output_type": "stream",
     "text": [
      "[ Train | 104/300 ] loss = 0.66712, acc = 0.77224\n"
     ]
    },
    {
     "name": "stderr",
     "output_type": "stream",
     "text": [
      "V: 104/300: 100%|██████| 26/26 [00:01<00:00, 15.85it/s, v_loss=1.32, v_acc=0.61]\n"
     ]
    },
    {
     "name": "stdout",
     "output_type": "stream",
     "text": [
      "[ Valid | 104/300 ] loss = 1.31956, acc = 0.60953\n",
      "[ Valid | 104/300 ] loss = 1.31956, acc = 0.60953\n"
     ]
    },
    {
     "name": "stderr",
     "output_type": "stream",
     "text": [
      "T: 105/300: 100%|█| 78/78 [00:07<00:00, 10.85it/s, lr=0.000362, b_loss=0.547, b_\n"
     ]
    },
    {
     "name": "stdout",
     "output_type": "stream",
     "text": [
      "[ Train | 105/300 ] loss = 0.67990, acc = 0.76183\n"
     ]
    },
    {
     "name": "stderr",
     "output_type": "stream",
     "text": [
      "V: 105/300: 100%|█████| 26/26 [00:02<00:00, 12.18it/s, v_loss=1.08, v_acc=0.651]\n"
     ]
    },
    {
     "name": "stdout",
     "output_type": "stream",
     "text": [
      "[ Valid | 105/300 ] loss = 1.08260, acc = 0.65075\n",
      "[ Valid | 105/300 ] loss = 1.08260, acc = 0.65075\n"
     ]
    },
    {
     "name": "stderr",
     "output_type": "stream",
     "text": [
      "T: 106/300: 100%|█| 78/78 [00:07<00:00, 11.09it/s, lr=0.000341, b_loss=0.439, b_\n"
     ]
    },
    {
     "name": "stdout",
     "output_type": "stream",
     "text": [
      "[ Train | 106/300 ] loss = 0.64471, acc = 0.77874\n"
     ]
    },
    {
     "name": "stderr",
     "output_type": "stream",
     "text": [
      "V: 106/300: 100%|█████| 26/26 [00:01<00:00, 16.65it/s, v_loss=1.26, v_acc=0.624]\n"
     ]
    },
    {
     "name": "stdout",
     "output_type": "stream",
     "text": [
      "[ Valid | 106/300 ] loss = 1.26329, acc = 0.62421\n",
      "[ Valid | 106/300 ] loss = 1.26329, acc = 0.62421\n"
     ]
    },
    {
     "name": "stderr",
     "output_type": "stream",
     "text": [
      "T: 107/300: 100%|█| 78/78 [00:07<00:00, 10.92it/s, lr=0.000318, b_loss=0.514, b_\n"
     ]
    },
    {
     "name": "stdout",
     "output_type": "stream",
     "text": [
      "[ Train | 107/300 ] loss = 0.62455, acc = 0.78417\n"
     ]
    },
    {
     "name": "stderr",
     "output_type": "stream",
     "text": [
      "V: 107/300: 100%|█████| 26/26 [00:01<00:00, 14.25it/s, v_loss=1.02, v_acc=0.689]\n"
     ]
    },
    {
     "name": "stdout",
     "output_type": "stream",
     "text": [
      "[ Valid | 107/300 ] loss = 1.02376, acc = 0.68923\n",
      "[ Valid | 107/300 ] loss = 1.02376, acc = 0.68923\n"
     ]
    },
    {
     "name": "stderr",
     "output_type": "stream",
     "text": [
      "T: 108/300: 100%|█| 78/78 [00:07<00:00, 11.11it/s, lr=0.000291, b_loss=0.556, b_\n"
     ]
    },
    {
     "name": "stdout",
     "output_type": "stream",
     "text": [
      "[ Train | 108/300 ] loss = 0.60551, acc = 0.78943\n"
     ]
    },
    {
     "name": "stderr",
     "output_type": "stream",
     "text": [
      "V: 108/300: 100%|█████| 26/26 [00:01<00:00, 15.36it/s, v_loss=1.28, v_acc=0.625]\n"
     ]
    },
    {
     "name": "stdout",
     "output_type": "stream",
     "text": [
      "[ Valid | 108/300 ] loss = 1.28103, acc = 0.62453\n",
      "[ Valid | 108/300 ] loss = 1.28103, acc = 0.62453\n"
     ]
    },
    {
     "name": "stderr",
     "output_type": "stream",
     "text": [
      "T: 109/300: 100%|█| 78/78 [00:07<00:00, 10.70it/s, lr=0.000262, b_loss=0.752, b_\n"
     ]
    },
    {
     "name": "stdout",
     "output_type": "stream",
     "text": [
      "[ Train | 109/300 ] loss = 0.58989, acc = 0.79918\n"
     ]
    },
    {
     "name": "stderr",
     "output_type": "stream",
     "text": [
      "V: 109/300: 100%|████| 26/26 [00:01<00:00, 15.52it/s, v_loss=0.813, v_acc=0.748]\n"
     ]
    },
    {
     "name": "stdout",
     "output_type": "stream",
     "text": [
      "[ Valid | 109/300 ] loss = 0.81272, acc = 0.74826\n",
      "[ Valid | 109/300 ] loss = 0.81272, acc = 0.74826\n"
     ]
    },
    {
     "name": "stderr",
     "output_type": "stream",
     "text": [
      "T: 110/300: 100%|█| 78/78 [00:07<00:00, 11.02it/s, lr=0.000231, b_loss=0.588, b_\n"
     ]
    },
    {
     "name": "stdout",
     "output_type": "stream",
     "text": [
      "[ Train | 110/300 ] loss = 0.54588, acc = 0.80915\n"
     ]
    },
    {
     "name": "stderr",
     "output_type": "stream",
     "text": [
      "V: 110/300: 100%|████| 26/26 [00:01<00:00, 16.32it/s, v_loss=0.821, v_acc=0.738]\n"
     ]
    },
    {
     "name": "stdout",
     "output_type": "stream",
     "text": [
      "[ Valid | 110/300 ] loss = 0.82144, acc = 0.73770\n",
      "[ Valid | 110/300 ] loss = 0.82144, acc = 0.73770\n"
     ]
    },
    {
     "name": "stderr",
     "output_type": "stream",
     "text": [
      "T: 111/300: 100%|█| 78/78 [00:07<00:00, 10.99it/s, lr=0.0002, b_loss=0.65, b_acc\n"
     ]
    },
    {
     "name": "stdout",
     "output_type": "stream",
     "text": [
      "[ Train | 111/300 ] loss = 0.53440, acc = 0.81777\n"
     ]
    },
    {
     "name": "stderr",
     "output_type": "stream",
     "text": [
      "V: 111/300: 100%|████| 26/26 [00:01<00:00, 15.26it/s, v_loss=0.865, v_acc=0.733]\n"
     ]
    },
    {
     "name": "stdout",
     "output_type": "stream",
     "text": [
      "[ Valid | 111/300 ] loss = 0.86471, acc = 0.73287\n",
      "[ Valid | 111/300 ] loss = 0.86471, acc = 0.73287\n"
     ]
    },
    {
     "name": "stderr",
     "output_type": "stream",
     "text": [
      "T: 112/300: 100%|█| 78/78 [00:07<00:00, 10.96it/s, lr=0.000169, b_loss=0.544, b_\n"
     ]
    },
    {
     "name": "stdout",
     "output_type": "stream",
     "text": [
      "[ Train | 112/300 ] loss = 0.50634, acc = 0.82567\n"
     ]
    },
    {
     "name": "stderr",
     "output_type": "stream",
     "text": [
      "V: 112/300: 100%|██████| 26/26 [00:01<00:00, 15.33it/s, v_loss=0.79, v_acc=0.75]\n"
     ]
    },
    {
     "name": "stdout",
     "output_type": "stream",
     "text": [
      "[ Valid | 112/300 ] loss = 0.79014, acc = 0.74972\n",
      "[ Valid | 112/300 ] loss = 0.79014, acc = 0.74972\n"
     ]
    },
    {
     "name": "stderr",
     "output_type": "stream",
     "text": [
      "T: 113/300: 100%|█| 78/78 [00:07<00:00, 11.01it/s, lr=0.000138, b_loss=0.481, b_\n"
     ]
    },
    {
     "name": "stdout",
     "output_type": "stream",
     "text": [
      "[ Train | 113/300 ] loss = 0.49867, acc = 0.82832\n"
     ]
    },
    {
     "name": "stderr",
     "output_type": "stream",
     "text": [
      "V: 113/300: 100%|████| 26/26 [00:01<00:00, 15.56it/s, v_loss=0.831, v_acc=0.744]\n"
     ]
    },
    {
     "name": "stdout",
     "output_type": "stream",
     "text": [
      "[ Valid | 113/300 ] loss = 0.83143, acc = 0.74365\n",
      "[ Valid | 113/300 ] loss = 0.83143, acc = 0.74365\n"
     ]
    },
    {
     "name": "stderr",
     "output_type": "stream",
     "text": [
      "T: 114/300: 100%|█| 78/78 [00:06<00:00, 11.20it/s, lr=0.000109, b_loss=0.517, b_\n"
     ]
    },
    {
     "name": "stdout",
     "output_type": "stream",
     "text": [
      "[ Train | 114/300 ] loss = 0.45639, acc = 0.83994\n"
     ]
    },
    {
     "name": "stderr",
     "output_type": "stream",
     "text": [
      "V: 114/300: 100%|████| 26/26 [00:01<00:00, 13.71it/s, v_loss=0.772, v_acc=0.758]\n"
     ]
    },
    {
     "name": "stdout",
     "output_type": "stream",
     "text": [
      "[ Valid | 114/300 ] loss = 0.77249, acc = 0.75784\n",
      "[ Valid | 114/300 ] loss = 0.77249, acc = 0.75784\n"
     ]
    },
    {
     "name": "stderr",
     "output_type": "stream",
     "text": [
      "T: 115/300: 100%|█| 78/78 [00:06<00:00, 11.15it/s, lr=8.24e-5, b_loss=0.374, b_a\n"
     ]
    },
    {
     "name": "stdout",
     "output_type": "stream",
     "text": [
      "[ Train | 115/300 ] loss = 0.44478, acc = 0.84942\n"
     ]
    },
    {
     "name": "stderr",
     "output_type": "stream",
     "text": [
      "V: 115/300: 100%|████| 26/26 [00:01<00:00, 15.69it/s, v_loss=0.748, v_acc=0.767]\n"
     ]
    },
    {
     "name": "stdout",
     "output_type": "stream",
     "text": [
      "[ Valid | 115/300 ] loss = 0.74784, acc = 0.76713\n",
      "[ Valid | 115/300 ] loss = 0.74784, acc = 0.76713 -> best\n",
      "Best model found at fold 1 epoch 115, acc=0.76713, saving model\n"
     ]
    },
    {
     "name": "stderr",
     "output_type": "stream",
     "text": [
      "T: 116/300: 100%|█| 78/78 [00:07<00:00, 10.82it/s, lr=5.86e-5, b_loss=0.516, b_a\n"
     ]
    },
    {
     "name": "stdout",
     "output_type": "stream",
     "text": [
      "[ Train | 116/300 ] loss = 0.42166, acc = 0.85220\n"
     ]
    },
    {
     "name": "stderr",
     "output_type": "stream",
     "text": [
      "V: 116/300: 100%|████| 26/26 [00:01<00:00, 14.61it/s, v_loss=0.759, v_acc=0.772]\n"
     ]
    },
    {
     "name": "stdout",
     "output_type": "stream",
     "text": [
      "[ Valid | 116/300 ] loss = 0.75859, acc = 0.77250\n",
      "[ Valid | 116/300 ] loss = 0.75859, acc = 0.77250 -> best\n",
      "Best model found at fold 1 epoch 116, acc=0.77250, saving model\n"
     ]
    },
    {
     "name": "stderr",
     "output_type": "stream",
     "text": [
      "T: 117/300: 100%|█| 78/78 [00:07<00:00, 10.93it/s, lr=3.82e-5, b_loss=0.344, b_a\n"
     ]
    },
    {
     "name": "stdout",
     "output_type": "stream",
     "text": [
      "[ Train | 117/300 ] loss = 0.42408, acc = 0.85662\n"
     ]
    },
    {
     "name": "stderr",
     "output_type": "stream",
     "text": [
      "V: 117/300: 100%|████| 26/26 [00:01<00:00, 16.21it/s, v_loss=0.734, v_acc=0.774]\n"
     ]
    },
    {
     "name": "stdout",
     "output_type": "stream",
     "text": [
      "[ Valid | 117/300 ] loss = 0.73427, acc = 0.77373\n",
      "[ Valid | 117/300 ] loss = 0.73427, acc = 0.77373 -> best\n",
      "Best model found at fold 1 epoch 117, acc=0.77373, saving model\n"
     ]
    },
    {
     "name": "stderr",
     "output_type": "stream",
     "text": [
      "T: 118/300: 100%|█| 78/78 [00:07<00:00, 11.05it/s, lr=2.18e-5, b_loss=0.49, b_ac\n"
     ]
    },
    {
     "name": "stdout",
     "output_type": "stream",
     "text": [
      "[ Train | 118/300 ] loss = 0.40435, acc = 0.85637\n"
     ]
    },
    {
     "name": "stderr",
     "output_type": "stream",
     "text": [
      "V: 118/300: 100%|████| 26/26 [00:01<00:00, 13.58it/s, v_loss=0.744, v_acc=0.768]\n"
     ]
    },
    {
     "name": "stdout",
     "output_type": "stream",
     "text": [
      "[ Valid | 118/300 ] loss = 0.74382, acc = 0.76812\n",
      "[ Valid | 118/300 ] loss = 0.74382, acc = 0.76812\n"
     ]
    },
    {
     "name": "stderr",
     "output_type": "stream",
     "text": [
      "T: 119/300: 100%|█| 78/78 [00:07<00:00, 10.78it/s, lr=9.79e-6, b_loss=0.471, b_a\n"
     ]
    },
    {
     "name": "stdout",
     "output_type": "stream",
     "text": [
      "[ Train | 119/300 ] loss = 0.39838, acc = 0.86229\n"
     ]
    },
    {
     "name": "stderr",
     "output_type": "stream",
     "text": [
      "V: 119/300: 100%|████| 26/26 [00:01<00:00, 14.15it/s, v_loss=0.738, v_acc=0.775]\n"
     ]
    },
    {
     "name": "stdout",
     "output_type": "stream",
     "text": [
      "[ Valid | 119/300 ] loss = 0.73762, acc = 0.77523\n",
      "[ Valid | 119/300 ] loss = 0.73762, acc = 0.77523 -> best\n",
      "Best model found at fold 1 epoch 119, acc=0.77523, saving model\n"
     ]
    },
    {
     "name": "stderr",
     "output_type": "stream",
     "text": [
      "T: 120/300: 100%|█| 78/78 [00:07<00:00, 11.00it/s, lr=2.46e-6, b_loss=0.385, b_a\n"
     ]
    },
    {
     "name": "stdout",
     "output_type": "stream",
     "text": [
      "[ Train | 120/300 ] loss = 0.39302, acc = 0.86795\n"
     ]
    },
    {
     "name": "stderr",
     "output_type": "stream",
     "text": [
      "V: 120/300: 100%|████| 26/26 [00:01<00:00, 15.41it/s, v_loss=0.735, v_acc=0.776]\n"
     ]
    },
    {
     "name": "stdout",
     "output_type": "stream",
     "text": [
      "[ Valid | 120/300 ] loss = 0.73475, acc = 0.77559\n",
      "[ Valid | 120/300 ] loss = 0.73475, acc = 0.77559 -> best\n",
      "Best model found at fold 1 epoch 120, acc=0.77559, saving model\n"
     ]
    },
    {
     "name": "stderr",
     "output_type": "stream",
     "text": [
      "T: 121/300: 100%|█| 78/78 [00:07<00:00, 10.91it/s, lr=0.0004, b_loss=0.638, b_ac\n"
     ]
    },
    {
     "name": "stdout",
     "output_type": "stream",
     "text": [
      "[ Train | 121/300 ] loss = 0.63240, acc = 0.78256\n"
     ]
    },
    {
     "name": "stderr",
     "output_type": "stream",
     "text": [
      "V: 121/300: 100%|█████| 26/26 [00:01<00:00, 16.27it/s, v_loss=1.14, v_acc=0.663]\n"
     ]
    },
    {
     "name": "stdout",
     "output_type": "stream",
     "text": [
      "[ Valid | 121/300 ] loss = 1.13965, acc = 0.66308\n",
      "[ Valid | 121/300 ] loss = 1.13965, acc = 0.66308\n"
     ]
    },
    {
     "name": "stderr",
     "output_type": "stream",
     "text": [
      "T: 122/300: 100%|█| 78/78 [00:07<00:00, 10.91it/s, lr=0.000398, b_loss=0.897, b_\n"
     ]
    },
    {
     "name": "stdout",
     "output_type": "stream",
     "text": [
      "[ Train | 122/300 ] loss = 0.63892, acc = 0.78059\n"
     ]
    },
    {
     "name": "stderr",
     "output_type": "stream",
     "text": [
      "V: 122/300: 100%|██████| 26/26 [00:01<00:00, 13.44it/s, v_loss=1.3, v_acc=0.629]\n"
     ]
    },
    {
     "name": "stdout",
     "output_type": "stream",
     "text": [
      "[ Valid | 122/300 ] loss = 1.29939, acc = 0.62937\n",
      "[ Valid | 122/300 ] loss = 1.29939, acc = 0.62937\n"
     ]
    },
    {
     "name": "stderr",
     "output_type": "stream",
     "text": [
      "T: 123/300: 100%|█| 78/78 [00:07<00:00, 10.76it/s, lr=0.00039, b_loss=0.735, b_a\n"
     ]
    },
    {
     "name": "stdout",
     "output_type": "stream",
     "text": [
      "[ Train | 123/300 ] loss = 0.63793, acc = 0.77945\n"
     ]
    },
    {
     "name": "stderr",
     "output_type": "stream",
     "text": [
      "V: 123/300: 100%|████| 26/26 [00:01<00:00, 15.99it/s, v_loss=0.965, v_acc=0.704]\n"
     ]
    },
    {
     "name": "stdout",
     "output_type": "stream",
     "text": [
      "[ Valid | 123/300 ] loss = 0.96529, acc = 0.70392\n",
      "[ Valid | 123/300 ] loss = 0.96529, acc = 0.70392\n"
     ]
    },
    {
     "name": "stderr",
     "output_type": "stream",
     "text": [
      "T: 124/300: 100%|█| 78/78 [00:07<00:00, 11.11it/s, lr=0.000378, b_loss=0.615, b_\n"
     ]
    },
    {
     "name": "stdout",
     "output_type": "stream",
     "text": [
      "[ Train | 124/300 ] loss = 0.60466, acc = 0.79045\n"
     ]
    },
    {
     "name": "stderr",
     "output_type": "stream",
     "text": [
      "V: 124/300: 100%|████| 26/26 [00:01<00:00, 14.15it/s, v_loss=0.947, v_acc=0.713]\n"
     ]
    },
    {
     "name": "stdout",
     "output_type": "stream",
     "text": [
      "[ Valid | 124/300 ] loss = 0.94740, acc = 0.71330\n",
      "[ Valid | 124/300 ] loss = 0.94740, acc = 0.71330\n"
     ]
    },
    {
     "name": "stderr",
     "output_type": "stream",
     "text": [
      "T: 125/300: 100%|█| 78/78 [00:06<00:00, 11.19it/s, lr=0.000362, b_loss=0.783, b_\n"
     ]
    },
    {
     "name": "stdout",
     "output_type": "stream",
     "text": [
      "[ Train | 125/300 ] loss = 0.58959, acc = 0.79383\n"
     ]
    },
    {
     "name": "stderr",
     "output_type": "stream",
     "text": [
      "V: 125/300: 100%|█████| 26/26 [00:01<00:00, 15.63it/s, v_loss=1.01, v_acc=0.697]\n"
     ]
    },
    {
     "name": "stdout",
     "output_type": "stream",
     "text": [
      "[ Valid | 125/300 ] loss = 1.01074, acc = 0.69682\n",
      "[ Valid | 125/300 ] loss = 1.01074, acc = 0.69682\n"
     ]
    },
    {
     "name": "stderr",
     "output_type": "stream",
     "text": [
      "T: 126/300: 100%|█| 78/78 [00:07<00:00, 10.99it/s, lr=0.000341, b_loss=0.389, b_\n"
     ]
    },
    {
     "name": "stdout",
     "output_type": "stream",
     "text": [
      "[ Train | 126/300 ] loss = 0.57824, acc = 0.80073\n"
     ]
    },
    {
     "name": "stderr",
     "output_type": "stream",
     "text": [
      "V: 126/300: 100%|████| 26/26 [00:01<00:00, 15.12it/s, v_loss=0.909, v_acc=0.716]\n"
     ]
    },
    {
     "name": "stdout",
     "output_type": "stream",
     "text": [
      "[ Valid | 126/300 ] loss = 0.90925, acc = 0.71622\n",
      "[ Valid | 126/300 ] loss = 0.90925, acc = 0.71622\n"
     ]
    },
    {
     "name": "stderr",
     "output_type": "stream",
     "text": [
      "T: 127/300: 100%|█| 78/78 [00:07<00:00, 10.89it/s, lr=0.000318, b_loss=0.648, b_\n"
     ]
    },
    {
     "name": "stdout",
     "output_type": "stream",
     "text": [
      "[ Train | 127/300 ] loss = 0.55201, acc = 0.80773\n"
     ]
    },
    {
     "name": "stderr",
     "output_type": "stream",
     "text": [
      "V: 127/300: 100%|████| 26/26 [00:01<00:00, 15.61it/s, v_loss=0.928, v_acc=0.713]\n"
     ]
    },
    {
     "name": "stdout",
     "output_type": "stream",
     "text": [
      "[ Valid | 127/300 ] loss = 0.92839, acc = 0.71333\n",
      "[ Valid | 127/300 ] loss = 0.92839, acc = 0.71333\n"
     ]
    },
    {
     "name": "stderr",
     "output_type": "stream",
     "text": [
      "T: 128/300: 100%|█| 78/78 [00:06<00:00, 11.16it/s, lr=0.000291, b_loss=0.568, b_\n"
     ]
    },
    {
     "name": "stdout",
     "output_type": "stream",
     "text": [
      "[ Train | 128/300 ] loss = 0.52385, acc = 0.81996\n"
     ]
    },
    {
     "name": "stderr",
     "output_type": "stream",
     "text": [
      "V: 128/300: 100%|████| 26/26 [00:01<00:00, 14.96it/s, v_loss=0.974, v_acc=0.715]\n"
     ]
    },
    {
     "name": "stdout",
     "output_type": "stream",
     "text": [
      "[ Valid | 128/300 ] loss = 0.97398, acc = 0.71511\n",
      "[ Valid | 128/300 ] loss = 0.97398, acc = 0.71511\n"
     ]
    },
    {
     "name": "stderr",
     "output_type": "stream",
     "text": [
      "T: 129/300: 100%|█| 78/78 [00:07<00:00, 10.89it/s, lr=0.000262, b_loss=0.438, b_\n"
     ]
    },
    {
     "name": "stdout",
     "output_type": "stream",
     "text": [
      "[ Train | 129/300 ] loss = 0.50576, acc = 0.82566\n"
     ]
    },
    {
     "name": "stderr",
     "output_type": "stream",
     "text": [
      "V: 129/300: 100%|█████| 26/26 [00:01<00:00, 15.51it/s, v_loss=0.859, v_acc=0.74]\n"
     ]
    },
    {
     "name": "stdout",
     "output_type": "stream",
     "text": [
      "[ Valid | 129/300 ] loss = 0.85858, acc = 0.74012\n",
      "[ Valid | 129/300 ] loss = 0.85858, acc = 0.74012\n"
     ]
    },
    {
     "name": "stderr",
     "output_type": "stream",
     "text": [
      "T: 130/300: 100%|█| 78/78 [00:07<00:00, 11.09it/s, lr=0.000231, b_loss=0.489, b_\n"
     ]
    },
    {
     "name": "stdout",
     "output_type": "stream",
     "text": [
      "[ Train | 130/300 ] loss = 0.49858, acc = 0.82745\n"
     ]
    },
    {
     "name": "stderr",
     "output_type": "stream",
     "text": [
      "V: 130/300: 100%|████| 26/26 [00:01<00:00, 15.86it/s, v_loss=0.877, v_acc=0.739]\n"
     ]
    },
    {
     "name": "stdout",
     "output_type": "stream",
     "text": [
      "[ Valid | 130/300 ] loss = 0.87665, acc = 0.73920\n",
      "[ Valid | 130/300 ] loss = 0.87665, acc = 0.73920\n"
     ]
    },
    {
     "name": "stderr",
     "output_type": "stream",
     "text": [
      "T: 131/300: 100%|█| 78/78 [00:06<00:00, 11.28it/s, lr=0.0002, b_loss=0.517, b_ac\n"
     ]
    },
    {
     "name": "stdout",
     "output_type": "stream",
     "text": [
      "[ Train | 131/300 ] loss = 0.45011, acc = 0.84474\n"
     ]
    },
    {
     "name": "stderr",
     "output_type": "stream",
     "text": [
      "V: 131/300: 100%|█████| 26/26 [00:01<00:00, 16.65it/s, v_loss=0.825, v_acc=0.75]\n"
     ]
    },
    {
     "name": "stdout",
     "output_type": "stream",
     "text": [
      "[ Valid | 131/300 ] loss = 0.82507, acc = 0.75004\n",
      "[ Valid | 131/300 ] loss = 0.82507, acc = 0.75004\n"
     ]
    },
    {
     "name": "stderr",
     "output_type": "stream",
     "text": [
      "T: 132/300: 100%|█| 78/78 [00:07<00:00, 11.01it/s, lr=0.000169, b_loss=0.355, b_\n"
     ]
    },
    {
     "name": "stdout",
     "output_type": "stream",
     "text": [
      "[ Train | 132/300 ] loss = 0.44592, acc = 0.84473\n"
     ]
    },
    {
     "name": "stderr",
     "output_type": "stream",
     "text": [
      "V: 132/300: 100%|████| 26/26 [00:01<00:00, 16.52it/s, v_loss=0.775, v_acc=0.762]\n"
     ]
    },
    {
     "name": "stdout",
     "output_type": "stream",
     "text": [
      "[ Valid | 132/300 ] loss = 0.77517, acc = 0.76200\n",
      "[ Valid | 132/300 ] loss = 0.77517, acc = 0.76200\n"
     ]
    },
    {
     "name": "stderr",
     "output_type": "stream",
     "text": [
      "T: 133/300: 100%|█| 78/78 [00:06<00:00, 11.32it/s, lr=0.000138, b_loss=0.442, b_\n"
     ]
    },
    {
     "name": "stdout",
     "output_type": "stream",
     "text": [
      "[ Train | 133/300 ] loss = 0.41404, acc = 0.85761\n"
     ]
    },
    {
     "name": "stderr",
     "output_type": "stream",
     "text": [
      "V: 133/300: 100%|█████| 26/26 [00:01<00:00, 17.52it/s, v_loss=0.787, v_acc=0.76]\n"
     ]
    },
    {
     "name": "stdout",
     "output_type": "stream",
     "text": [
      "[ Valid | 133/300 ] loss = 0.78659, acc = 0.75970\n",
      "[ Valid | 133/300 ] loss = 0.78659, acc = 0.75970\n"
     ]
    },
    {
     "name": "stderr",
     "output_type": "stream",
     "text": [
      "T: 134/300: 100%|█| 78/78 [00:06<00:00, 11.39it/s, lr=0.000109, b_loss=0.318, b_\n"
     ]
    },
    {
     "name": "stdout",
     "output_type": "stream",
     "text": [
      "[ Train | 134/300 ] loss = 0.39722, acc = 0.86229\n"
     ]
    },
    {
     "name": "stderr",
     "output_type": "stream",
     "text": [
      "V: 134/300: 100%|████| 26/26 [00:01<00:00, 17.14it/s, v_loss=0.767, v_acc=0.763]\n"
     ]
    },
    {
     "name": "stdout",
     "output_type": "stream",
     "text": [
      "[ Valid | 134/300 ] loss = 0.76677, acc = 0.76260\n",
      "[ Valid | 134/300 ] loss = 0.76677, acc = 0.76260\n"
     ]
    },
    {
     "name": "stderr",
     "output_type": "stream",
     "text": [
      "T: 135/300: 100%|█| 78/78 [00:06<00:00, 11.15it/s, lr=8.24e-5, b_loss=0.371, b_a\n"
     ]
    },
    {
     "name": "stdout",
     "output_type": "stream",
     "text": [
      "[ Train | 135/300 ] loss = 0.37808, acc = 0.86971\n"
     ]
    },
    {
     "name": "stderr",
     "output_type": "stream",
     "text": [
      "V: 135/300: 100%|████| 26/26 [00:01<00:00, 16.71it/s, v_loss=0.757, v_acc=0.773]\n"
     ]
    },
    {
     "name": "stdout",
     "output_type": "stream",
     "text": [
      "[ Valid | 135/300 ] loss = 0.75690, acc = 0.77341\n",
      "[ Valid | 135/300 ] loss = 0.75690, acc = 0.77341\n"
     ]
    },
    {
     "name": "stderr",
     "output_type": "stream",
     "text": [
      "T: 136/300: 100%|█| 78/78 [00:07<00:00, 10.91it/s, lr=5.86e-5, b_loss=0.463, b_a\n"
     ]
    },
    {
     "name": "stdout",
     "output_type": "stream",
     "text": [
      "[ Train | 136/300 ] loss = 0.37365, acc = 0.87500\n"
     ]
    },
    {
     "name": "stderr",
     "output_type": "stream",
     "text": [
      "V: 136/300: 100%|████| 26/26 [00:01<00:00, 14.77it/s, v_loss=0.746, v_acc=0.775]\n"
     ]
    },
    {
     "name": "stdout",
     "output_type": "stream",
     "text": [
      "[ Valid | 136/300 ] loss = 0.74579, acc = 0.77491\n",
      "[ Valid | 136/300 ] loss = 0.74579, acc = 0.77491\n"
     ]
    },
    {
     "name": "stderr",
     "output_type": "stream",
     "text": [
      "T: 137/300: 100%|█| 78/78 [00:06<00:00, 11.26it/s, lr=3.82e-5, b_loss=0.302, b_a\n"
     ]
    },
    {
     "name": "stdout",
     "output_type": "stream",
     "text": [
      "[ Train | 137/300 ] loss = 0.34143, acc = 0.88203\n"
     ]
    },
    {
     "name": "stderr",
     "output_type": "stream",
     "text": [
      "V: 137/300: 100%|████| 26/26 [00:01<00:00, 17.96it/s, v_loss=0.719, v_acc=0.779]\n"
     ]
    },
    {
     "name": "stdout",
     "output_type": "stream",
     "text": [
      "[ Valid | 137/300 ] loss = 0.71869, acc = 0.77948\n",
      "[ Valid | 137/300 ] loss = 0.71869, acc = 0.77948 -> best\n",
      "Best model found at fold 1 epoch 137, acc=0.77948, saving model\n"
     ]
    },
    {
     "name": "stderr",
     "output_type": "stream",
     "text": [
      "T: 138/300: 100%|█| 78/78 [00:06<00:00, 11.35it/s, lr=2.18e-5, b_loss=0.338, b_a\n"
     ]
    },
    {
     "name": "stdout",
     "output_type": "stream",
     "text": [
      "[ Train | 138/300 ] loss = 0.34224, acc = 0.88599\n"
     ]
    },
    {
     "name": "stderr",
     "output_type": "stream",
     "text": [
      "V: 138/300: 100%|████| 26/26 [00:01<00:00, 17.36it/s, v_loss=0.724, v_acc=0.779]\n"
     ]
    },
    {
     "name": "stdout",
     "output_type": "stream",
     "text": [
      "[ Valid | 138/300 ] loss = 0.72436, acc = 0.77853\n",
      "[ Valid | 138/300 ] loss = 0.72436, acc = 0.77853\n"
     ]
    },
    {
     "name": "stderr",
     "output_type": "stream",
     "text": [
      "T: 139/300: 100%|█| 78/78 [00:06<00:00, 11.20it/s, lr=9.79e-6, b_loss=0.301, b_a\n"
     ]
    },
    {
     "name": "stdout",
     "output_type": "stream",
     "text": [
      "[ Train | 139/300 ] loss = 0.34317, acc = 0.88212\n"
     ]
    },
    {
     "name": "stderr",
     "output_type": "stream",
     "text": [
      "V: 139/300: 100%|█████| 26/26 [00:01<00:00, 14.38it/s, v_loss=0.728, v_acc=0.78]\n"
     ]
    },
    {
     "name": "stdout",
     "output_type": "stream",
     "text": [
      "[ Valid | 139/300 ] loss = 0.72789, acc = 0.77952\n",
      "[ Valid | 139/300 ] loss = 0.72789, acc = 0.77952 -> best\n",
      "Best model found at fold 1 epoch 139, acc=0.77952, saving model\n"
     ]
    },
    {
     "name": "stderr",
     "output_type": "stream",
     "text": [
      "T: 140/300: 100%|█| 78/78 [00:06<00:00, 11.61it/s, lr=2.46e-6, b_loss=0.272, b_a\n"
     ]
    },
    {
     "name": "stdout",
     "output_type": "stream",
     "text": [
      "[ Train | 140/300 ] loss = 0.32828, acc = 0.88732\n"
     ]
    },
    {
     "name": "stderr",
     "output_type": "stream",
     "text": [
      "V: 140/300: 100%|████| 26/26 [00:01<00:00, 16.39it/s, v_loss=0.724, v_acc=0.782]\n"
     ]
    },
    {
     "name": "stdout",
     "output_type": "stream",
     "text": [
      "[ Valid | 140/300 ] loss = 0.72368, acc = 0.78163\n",
      "[ Valid | 140/300 ] loss = 0.72368, acc = 0.78163 -> best\n",
      "Best model found at fold 1 epoch 140, acc=0.78163, saving model\n"
     ]
    },
    {
     "name": "stderr",
     "output_type": "stream",
     "text": [
      "T: 141/300: 100%|█| 78/78 [00:06<00:00, 11.30it/s, lr=0.0004, b_loss=0.52, b_acc\n"
     ]
    },
    {
     "name": "stdout",
     "output_type": "stream",
     "text": [
      "[ Train | 141/300 ] loss = 0.56503, acc = 0.80312\n"
     ]
    },
    {
     "name": "stderr",
     "output_type": "stream",
     "text": [
      "V: 141/300: 100%|█████| 26/26 [00:01<00:00, 15.69it/s, v_loss=1.36, v_acc=0.627]\n"
     ]
    },
    {
     "name": "stdout",
     "output_type": "stream",
     "text": [
      "[ Valid | 141/300 ] loss = 1.35739, acc = 0.62665\n",
      "[ Valid | 141/300 ] loss = 1.35739, acc = 0.62665\n"
     ]
    },
    {
     "name": "stderr",
     "output_type": "stream",
     "text": [
      "T: 142/300: 100%|█| 78/78 [00:07<00:00, 11.14it/s, lr=0.000398, b_loss=0.547, b_\n"
     ]
    },
    {
     "name": "stdout",
     "output_type": "stream",
     "text": [
      "[ Train | 142/300 ] loss = 0.58945, acc = 0.79594\n"
     ]
    },
    {
     "name": "stderr",
     "output_type": "stream",
     "text": [
      "V: 142/300: 100%|█████| 26/26 [00:01<00:00, 14.88it/s, v_loss=1.13, v_acc=0.678]\n"
     ]
    },
    {
     "name": "stdout",
     "output_type": "stream",
     "text": [
      "[ Valid | 142/300 ] loss = 1.13299, acc = 0.67751\n",
      "[ Valid | 142/300 ] loss = 1.13299, acc = 0.67751\n"
     ]
    },
    {
     "name": "stderr",
     "output_type": "stream",
     "text": [
      "T: 143/300: 100%|█| 78/78 [00:07<00:00, 11.00it/s, lr=0.00039, b_loss=0.562, b_a\n"
     ]
    },
    {
     "name": "stdout",
     "output_type": "stream",
     "text": [
      "[ Train | 143/300 ] loss = 0.54340, acc = 0.80823\n"
     ]
    },
    {
     "name": "stderr",
     "output_type": "stream",
     "text": [
      "V: 143/300: 100%|████| 26/26 [00:01<00:00, 16.13it/s, v_loss=0.992, v_acc=0.717]\n"
     ]
    },
    {
     "name": "stdout",
     "output_type": "stream",
     "text": [
      "[ Valid | 143/300 ] loss = 0.99206, acc = 0.71664\n",
      "[ Valid | 143/300 ] loss = 0.99206, acc = 0.71664\n"
     ]
    },
    {
     "name": "stderr",
     "output_type": "stream",
     "text": [
      "T: 144/300: 100%|█| 78/78 [00:06<00:00, 11.18it/s, lr=0.000378, b_loss=0.548, b_\n"
     ]
    },
    {
     "name": "stdout",
     "output_type": "stream",
     "text": [
      "[ Train | 144/300 ] loss = 0.55724, acc = 0.80466\n"
     ]
    },
    {
     "name": "stderr",
     "output_type": "stream",
     "text": [
      "V: 144/300: 100%|████████| 26/26 [00:01<00:00, 15.65it/s, v_loss=1, v_acc=0.705]\n"
     ]
    },
    {
     "name": "stdout",
     "output_type": "stream",
     "text": [
      "[ Valid | 144/300 ] loss = 1.00114, acc = 0.70545\n",
      "[ Valid | 144/300 ] loss = 1.00114, acc = 0.70545\n"
     ]
    },
    {
     "name": "stderr",
     "output_type": "stream",
     "text": [
      "T: 145/300: 100%|█| 78/78 [00:07<00:00, 11.09it/s, lr=0.000362, b_loss=0.469, b_\n"
     ]
    },
    {
     "name": "stdout",
     "output_type": "stream",
     "text": [
      "[ Train | 145/300 ] loss = 0.51792, acc = 0.81600\n"
     ]
    },
    {
     "name": "stderr",
     "output_type": "stream",
     "text": [
      "V: 145/300: 100%|████████| 26/26 [00:01<00:00, 15.81it/s, v_loss=1, v_acc=0.688]\n"
     ]
    },
    {
     "name": "stdout",
     "output_type": "stream",
     "text": [
      "[ Valid | 145/300 ] loss = 1.00276, acc = 0.68801\n",
      "[ Valid | 145/300 ] loss = 1.00276, acc = 0.68801\n"
     ]
    },
    {
     "name": "stderr",
     "output_type": "stream",
     "text": [
      "T: 146/300: 100%|█| 78/78 [00:07<00:00, 11.03it/s, lr=0.000341, b_loss=0.573, b_\n"
     ]
    },
    {
     "name": "stdout",
     "output_type": "stream",
     "text": [
      "[ Train | 146/300 ] loss = 0.49599, acc = 0.82522\n"
     ]
    },
    {
     "name": "stderr",
     "output_type": "stream",
     "text": [
      "V: 146/300: 100%|█████| 26/26 [00:01<00:00, 13.72it/s, v_loss=0.952, v_acc=0.71]\n"
     ]
    },
    {
     "name": "stdout",
     "output_type": "stream",
     "text": [
      "[ Valid | 146/300 ] loss = 0.95248, acc = 0.71036\n",
      "[ Valid | 146/300 ] loss = 0.95248, acc = 0.71036\n"
     ]
    },
    {
     "name": "stderr",
     "output_type": "stream",
     "text": [
      "T: 147/300: 100%|█| 78/78 [00:07<00:00, 11.04it/s, lr=0.000318, b_loss=0.501, b_\n"
     ]
    },
    {
     "name": "stdout",
     "output_type": "stream",
     "text": [
      "[ Train | 147/300 ] loss = 0.50030, acc = 0.82842\n"
     ]
    },
    {
     "name": "stderr",
     "output_type": "stream",
     "text": [
      "V: 147/300: 100%|█████| 26/26 [00:01<00:00, 16.78it/s, v_loss=1.01, v_acc=0.705]\n"
     ]
    },
    {
     "name": "stdout",
     "output_type": "stream",
     "text": [
      "[ Valid | 147/300 ] loss = 1.00950, acc = 0.70491\n",
      "[ Valid | 147/300 ] loss = 1.00950, acc = 0.70491\n"
     ]
    },
    {
     "name": "stderr",
     "output_type": "stream",
     "text": [
      "T: 148/300: 100%|█| 78/78 [00:07<00:00, 11.09it/s, lr=0.000291, b_loss=0.438, b_\n"
     ]
    },
    {
     "name": "stdout",
     "output_type": "stream",
     "text": [
      "[ Train | 148/300 ] loss = 0.46894, acc = 0.83736\n"
     ]
    },
    {
     "name": "stderr",
     "output_type": "stream",
     "text": [
      "V: 148/300: 100%|████| 26/26 [00:01<00:00, 16.60it/s, v_loss=0.865, v_acc=0.735]\n"
     ]
    },
    {
     "name": "stdout",
     "output_type": "stream",
     "text": [
      "[ Valid | 148/300 ] loss = 0.86476, acc = 0.73525\n",
      "[ Valid | 148/300 ] loss = 0.86476, acc = 0.73525\n"
     ]
    },
    {
     "name": "stderr",
     "output_type": "stream",
     "text": [
      "T: 149/300: 100%|█| 78/78 [00:06<00:00, 11.16it/s, lr=0.000262, b_loss=0.366, b_\n"
     ]
    },
    {
     "name": "stdout",
     "output_type": "stream",
     "text": [
      "[ Train | 149/300 ] loss = 0.43918, acc = 0.84702\n"
     ]
    },
    {
     "name": "stderr",
     "output_type": "stream",
     "text": [
      "V: 149/300: 100%|██████| 26/26 [00:01<00:00, 17.16it/s, v_loss=0.87, v_acc=0.74]\n"
     ]
    },
    {
     "name": "stdout",
     "output_type": "stream",
     "text": [
      "[ Valid | 149/300 ] loss = 0.86988, acc = 0.74032\n",
      "[ Valid | 149/300 ] loss = 0.86988, acc = 0.74032\n"
     ]
    },
    {
     "name": "stderr",
     "output_type": "stream",
     "text": [
      "T: 150/300: 100%|█| 78/78 [00:06<00:00, 11.26it/s, lr=0.000231, b_loss=0.449, b_\n"
     ]
    },
    {
     "name": "stdout",
     "output_type": "stream",
     "text": [
      "[ Train | 150/300 ] loss = 0.43312, acc = 0.84811\n"
     ]
    },
    {
     "name": "stderr",
     "output_type": "stream",
     "text": [
      "V: 150/300: 100%|████| 26/26 [00:01<00:00, 13.60it/s, v_loss=0.836, v_acc=0.753]\n"
     ]
    },
    {
     "name": "stdout",
     "output_type": "stream",
     "text": [
      "[ Valid | 150/300 ] loss = 0.83572, acc = 0.75331\n",
      "[ Valid | 150/300 ] loss = 0.83572, acc = 0.75331\n"
     ]
    },
    {
     "name": "stderr",
     "output_type": "stream",
     "text": [
      "T: 151/300: 100%|█| 78/78 [00:07<00:00, 11.04it/s, lr=0.0002, b_loss=0.329, b_ac\n"
     ]
    },
    {
     "name": "stdout",
     "output_type": "stream",
     "text": [
      "[ Train | 151/300 ] loss = 0.39826, acc = 0.86257\n"
     ]
    },
    {
     "name": "stderr",
     "output_type": "stream",
     "text": [
      "V: 151/300: 100%|████| 26/26 [00:01<00:00, 17.02it/s, v_loss=0.876, v_acc=0.752]\n"
     ]
    },
    {
     "name": "stdout",
     "output_type": "stream",
     "text": [
      "[ Valid | 151/300 ] loss = 0.87585, acc = 0.75178\n",
      "[ Valid | 151/300 ] loss = 0.87585, acc = 0.75178\n"
     ]
    },
    {
     "name": "stderr",
     "output_type": "stream",
     "text": [
      "T: 152/300: 100%|█| 78/78 [00:06<00:00, 11.24it/s, lr=0.000169, b_loss=0.321, b_\n"
     ]
    },
    {
     "name": "stdout",
     "output_type": "stream",
     "text": [
      "[ Train | 152/300 ] loss = 0.37299, acc = 0.86957\n"
     ]
    },
    {
     "name": "stderr",
     "output_type": "stream",
     "text": [
      "V: 152/300: 100%|██████| 26/26 [00:01<00:00, 14.09it/s, v_loss=0.82, v_acc=0.76]\n"
     ]
    },
    {
     "name": "stdout",
     "output_type": "stream",
     "text": [
      "[ Valid | 152/300 ] loss = 0.81987, acc = 0.75967\n",
      "[ Valid | 152/300 ] loss = 0.81987, acc = 0.75967\n"
     ]
    },
    {
     "name": "stderr",
     "output_type": "stream",
     "text": [
      "T: 153/300: 100%|█| 78/78 [00:06<00:00, 11.39it/s, lr=0.000138, b_loss=0.285, b_\n"
     ]
    },
    {
     "name": "stdout",
     "output_type": "stream",
     "text": [
      "[ Train | 153/300 ] loss = 0.35246, acc = 0.87547\n"
     ]
    },
    {
     "name": "stderr",
     "output_type": "stream",
     "text": [
      "V: 153/300: 100%|████| 26/26 [00:01<00:00, 16.52it/s, v_loss=0.846, v_acc=0.768]\n"
     ]
    },
    {
     "name": "stdout",
     "output_type": "stream",
     "text": [
      "[ Valid | 153/300 ] loss = 0.84550, acc = 0.76839\n",
      "[ Valid | 153/300 ] loss = 0.84550, acc = 0.76839\n"
     ]
    },
    {
     "name": "stderr",
     "output_type": "stream",
     "text": [
      "T: 154/300: 100%|█| 78/78 [00:06<00:00, 11.27it/s, lr=0.000109, b_loss=0.257, b_\n"
     ]
    },
    {
     "name": "stdout",
     "output_type": "stream",
     "text": [
      "[ Train | 154/300 ] loss = 0.33864, acc = 0.88370\n"
     ]
    },
    {
     "name": "stderr",
     "output_type": "stream",
     "text": [
      "V: 154/300: 100%|████| 26/26 [00:01<00:00, 17.10it/s, v_loss=0.803, v_acc=0.767]\n"
     ]
    },
    {
     "name": "stdout",
     "output_type": "stream",
     "text": [
      "[ Valid | 154/300 ] loss = 0.80304, acc = 0.76654\n",
      "[ Valid | 154/300 ] loss = 0.80304, acc = 0.76654\n"
     ]
    },
    {
     "name": "stderr",
     "output_type": "stream",
     "text": [
      "T: 155/300: 100%|█| 78/78 [00:07<00:00, 10.98it/s, lr=8.24e-5, b_loss=0.345, b_a\n"
     ]
    },
    {
     "name": "stdout",
     "output_type": "stream",
     "text": [
      "[ Train | 155/300 ] loss = 0.32103, acc = 0.89202\n"
     ]
    },
    {
     "name": "stderr",
     "output_type": "stream",
     "text": [
      "V: 155/300: 100%|█████| 26/26 [00:01<00:00, 17.01it/s, v_loss=0.778, v_acc=0.77]\n"
     ]
    },
    {
     "name": "stdout",
     "output_type": "stream",
     "text": [
      "[ Valid | 155/300 ] loss = 0.77780, acc = 0.77008\n",
      "[ Valid | 155/300 ] loss = 0.77780, acc = 0.77008\n"
     ]
    },
    {
     "name": "stderr",
     "output_type": "stream",
     "text": [
      "T: 156/300: 100%|█| 78/78 [00:06<00:00, 11.48it/s, lr=5.86e-5, b_loss=0.337, b_a\n"
     ]
    },
    {
     "name": "stdout",
     "output_type": "stream",
     "text": [
      "[ Train | 156/300 ] loss = 0.31688, acc = 0.89140\n"
     ]
    },
    {
     "name": "stderr",
     "output_type": "stream",
     "text": [
      "V: 156/300: 100%|████| 26/26 [00:01<00:00, 17.93it/s, v_loss=0.777, v_acc=0.781]\n"
     ]
    },
    {
     "name": "stdout",
     "output_type": "stream",
     "text": [
      "[ Valid | 156/300 ] loss = 0.77673, acc = 0.78068\n",
      "[ Valid | 156/300 ] loss = 0.77673, acc = 0.78068\n"
     ]
    },
    {
     "name": "stderr",
     "output_type": "stream",
     "text": [
      "T: 157/300: 100%|█| 78/78 [00:06<00:00, 11.38it/s, lr=3.82e-5, b_loss=0.352, b_a\n"
     ]
    },
    {
     "name": "stdout",
     "output_type": "stream",
     "text": [
      "[ Train | 157/300 ] loss = 0.29747, acc = 0.89825\n"
     ]
    },
    {
     "name": "stderr",
     "output_type": "stream",
     "text": [
      "V: 157/300: 100%|████| 26/26 [00:01<00:00, 15.90it/s, v_loss=0.762, v_acc=0.785]\n"
     ]
    },
    {
     "name": "stdout",
     "output_type": "stream",
     "text": [
      "[ Valid | 157/300 ] loss = 0.76237, acc = 0.78488\n",
      "[ Valid | 157/300 ] loss = 0.76237, acc = 0.78488 -> best\n",
      "Best model found at fold 1 epoch 157, acc=0.78488, saving model\n"
     ]
    },
    {
     "name": "stderr",
     "output_type": "stream",
     "text": [
      "T: 158/300: 100%|█| 78/78 [00:07<00:00, 11.13it/s, lr=2.18e-5, b_loss=0.247, b_a\n"
     ]
    },
    {
     "name": "stdout",
     "output_type": "stream",
     "text": [
      "[ Train | 158/300 ] loss = 0.27965, acc = 0.90416\n"
     ]
    },
    {
     "name": "stderr",
     "output_type": "stream",
     "text": [
      "V: 158/300: 100%|████| 26/26 [00:01<00:00, 17.47it/s, v_loss=0.767, v_acc=0.783]\n"
     ]
    },
    {
     "name": "stdout",
     "output_type": "stream",
     "text": [
      "[ Valid | 158/300 ] loss = 0.76716, acc = 0.78251\n",
      "[ Valid | 158/300 ] loss = 0.76716, acc = 0.78251\n"
     ]
    },
    {
     "name": "stderr",
     "output_type": "stream",
     "text": [
      "T: 159/300: 100%|█| 78/78 [00:07<00:00, 11.14it/s, lr=9.79e-6, b_loss=0.256, b_a\n"
     ]
    },
    {
     "name": "stdout",
     "output_type": "stream",
     "text": [
      "[ Train | 159/300 ] loss = 0.28420, acc = 0.90552\n"
     ]
    },
    {
     "name": "stderr",
     "output_type": "stream",
     "text": [
      "V: 159/300: 100%|████| 26/26 [00:01<00:00, 16.40it/s, v_loss=0.756, v_acc=0.785]\n"
     ]
    },
    {
     "name": "stdout",
     "output_type": "stream",
     "text": [
      "[ Valid | 159/300 ] loss = 0.75568, acc = 0.78494\n",
      "[ Valid | 159/300 ] loss = 0.75568, acc = 0.78494 -> best\n",
      "Best model found at fold 1 epoch 159, acc=0.78494, saving model\n"
     ]
    },
    {
     "name": "stderr",
     "output_type": "stream",
     "text": [
      "T: 160/300: 100%|█| 78/78 [00:06<00:00, 11.21it/s, lr=2.46e-6, b_loss=0.251, b_a\n"
     ]
    },
    {
     "name": "stdout",
     "output_type": "stream",
     "text": [
      "[ Train | 160/300 ] loss = 0.27429, acc = 0.90756\n"
     ]
    },
    {
     "name": "stderr",
     "output_type": "stream",
     "text": [
      "V: 160/300: 100%|████| 26/26 [00:01<00:00, 14.73it/s, v_loss=0.764, v_acc=0.785]\n"
     ]
    },
    {
     "name": "stdout",
     "output_type": "stream",
     "text": [
      "[ Valid | 160/300 ] loss = 0.76352, acc = 0.78462\n",
      "[ Valid | 160/300 ] loss = 0.76352, acc = 0.78462\n"
     ]
    },
    {
     "name": "stderr",
     "output_type": "stream",
     "text": [
      "T: 161/300: 100%|█| 78/78 [00:06<00:00, 11.19it/s, lr=0.0004, b_loss=0.418, b_ac\n"
     ]
    },
    {
     "name": "stdout",
     "output_type": "stream",
     "text": [
      "[ Train | 161/300 ] loss = 0.52038, acc = 0.81922\n"
     ]
    },
    {
     "name": "stderr",
     "output_type": "stream",
     "text": [
      "V: 161/300: 100%|███████| 26/26 [00:01<00:00, 17.55it/s, v_loss=1.09, v_acc=0.7]\n"
     ]
    },
    {
     "name": "stdout",
     "output_type": "stream",
     "text": [
      "[ Valid | 161/300 ] loss = 1.09291, acc = 0.69973\n",
      "[ Valid | 161/300 ] loss = 1.09291, acc = 0.69973\n"
     ]
    },
    {
     "name": "stderr",
     "output_type": "stream",
     "text": [
      "T: 162/300: 100%|█| 78/78 [00:06<00:00, 11.18it/s, lr=0.000398, b_loss=0.52, b_a\n"
     ]
    },
    {
     "name": "stdout",
     "output_type": "stream",
     "text": [
      "[ Train | 162/300 ] loss = 0.54203, acc = 0.80798\n"
     ]
    },
    {
     "name": "stderr",
     "output_type": "stream",
     "text": [
      "V: 162/300: 100%|██████| 26/26 [00:01<00:00, 18.22it/s, v_loss=1.33, v_acc=0.66]\n"
     ]
    },
    {
     "name": "stdout",
     "output_type": "stream",
     "text": [
      "[ Valid | 162/300 ] loss = 1.32865, acc = 0.66007\n",
      "[ Valid | 162/300 ] loss = 1.32865, acc = 0.66007\n"
     ]
    },
    {
     "name": "stderr",
     "output_type": "stream",
     "text": [
      "T: 163/300: 100%|█| 78/78 [00:06<00:00, 11.43it/s, lr=0.00039, b_loss=0.481, b_a\n"
     ]
    },
    {
     "name": "stdout",
     "output_type": "stream",
     "text": [
      "[ Train | 163/300 ] loss = 0.49619, acc = 0.82665\n"
     ]
    },
    {
     "name": "stderr",
     "output_type": "stream",
     "text": [
      "V: 163/300: 100%|████| 26/26 [00:01<00:00, 18.51it/s, v_loss=0.939, v_acc=0.727]\n"
     ]
    },
    {
     "name": "stdout",
     "output_type": "stream",
     "text": [
      "[ Valid | 163/300 ] loss = 0.93913, acc = 0.72737\n",
      "[ Valid | 163/300 ] loss = 0.93913, acc = 0.72737\n"
     ]
    },
    {
     "name": "stderr",
     "output_type": "stream",
     "text": [
      "T: 164/300: 100%|█| 78/78 [00:06<00:00, 11.48it/s, lr=0.000378, b_loss=0.438, b_\n"
     ]
    },
    {
     "name": "stdout",
     "output_type": "stream",
     "text": [
      "[ Train | 164/300 ] loss = 0.48746, acc = 0.83366\n"
     ]
    },
    {
     "name": "stderr",
     "output_type": "stream",
     "text": [
      "V: 164/300: 100%|██████| 26/26 [00:01<00:00, 16.25it/s, v_loss=0.9, v_acc=0.738]\n"
     ]
    },
    {
     "name": "stdout",
     "output_type": "stream",
     "text": [
      "[ Valid | 164/300 ] loss = 0.89972, acc = 0.73798\n",
      "[ Valid | 164/300 ] loss = 0.89972, acc = 0.73798\n"
     ]
    },
    {
     "name": "stderr",
     "output_type": "stream",
     "text": [
      "T: 165/300: 100%|█| 78/78 [00:07<00:00, 11.08it/s, lr=0.000362, b_loss=0.33, b_a\n"
     ]
    },
    {
     "name": "stdout",
     "output_type": "stream",
     "text": [
      "[ Train | 165/300 ] loss = 0.45347, acc = 0.83743\n"
     ]
    },
    {
     "name": "stderr",
     "output_type": "stream",
     "text": [
      "V: 165/300: 100%|██████| 26/26 [00:01<00:00, 16.59it/s, v_loss=1.07, v_acc=0.71]\n"
     ]
    },
    {
     "name": "stdout",
     "output_type": "stream",
     "text": [
      "[ Valid | 165/300 ] loss = 1.07463, acc = 0.71039\n",
      "[ Valid | 165/300 ] loss = 1.07463, acc = 0.71039\n"
     ]
    },
    {
     "name": "stderr",
     "output_type": "stream",
     "text": [
      "T: 166/300: 100%|█| 78/78 [00:06<00:00, 11.32it/s, lr=0.000341, b_loss=0.438, b_\n"
     ]
    },
    {
     "name": "stdout",
     "output_type": "stream",
     "text": [
      "[ Train | 166/300 ] loss = 0.45659, acc = 0.84174\n"
     ]
    },
    {
     "name": "stderr",
     "output_type": "stream",
     "text": [
      "V: 166/300: 100%|█████| 26/26 [00:01<00:00, 14.83it/s, v_loss=1.02, v_acc=0.717]\n"
     ]
    },
    {
     "name": "stdout",
     "output_type": "stream",
     "text": [
      "[ Valid | 166/300 ] loss = 1.01961, acc = 0.71725\n",
      "[ Valid | 166/300 ] loss = 1.01961, acc = 0.71725\n"
     ]
    },
    {
     "name": "stderr",
     "output_type": "stream",
     "text": [
      "T: 167/300: 100%|█| 78/78 [00:07<00:00, 11.13it/s, lr=0.000318, b_loss=0.451, b_\n"
     ]
    },
    {
     "name": "stdout",
     "output_type": "stream",
     "text": [
      "[ Train | 167/300 ] loss = 0.43263, acc = 0.84900\n"
     ]
    },
    {
     "name": "stderr",
     "output_type": "stream",
     "text": [
      "V: 167/300: 100%|████| 26/26 [00:01<00:00, 17.31it/s, v_loss=0.963, v_acc=0.723]\n"
     ]
    },
    {
     "name": "stdout",
     "output_type": "stream",
     "text": [
      "[ Valid | 167/300 ] loss = 0.96327, acc = 0.72272\n",
      "[ Valid | 167/300 ] loss = 0.96327, acc = 0.72272\n"
     ]
    },
    {
     "name": "stderr",
     "output_type": "stream",
     "text": [
      "T: 168/300: 100%|█| 78/78 [00:06<00:00, 11.35it/s, lr=0.000291, b_loss=0.596, b_\n"
     ]
    },
    {
     "name": "stdout",
     "output_type": "stream",
     "text": [
      "[ Train | 168/300 ] loss = 0.42524, acc = 0.84819\n"
     ]
    },
    {
     "name": "stderr",
     "output_type": "stream",
     "text": [
      "V: 168/300: 100%|████| 26/26 [00:01<00:00, 16.15it/s, v_loss=0.993, v_acc=0.716]\n"
     ]
    },
    {
     "name": "stdout",
     "output_type": "stream",
     "text": [
      "[ Valid | 168/300 ] loss = 0.99291, acc = 0.71631\n",
      "[ Valid | 168/300 ] loss = 0.99291, acc = 0.71631\n"
     ]
    },
    {
     "name": "stderr",
     "output_type": "stream",
     "text": [
      "T: 169/300: 100%|█| 78/78 [00:06<00:00, 11.26it/s, lr=0.000262, b_loss=0.536, b_\n"
     ]
    },
    {
     "name": "stdout",
     "output_type": "stream",
     "text": [
      "[ Train | 169/300 ] loss = 0.40831, acc = 0.85917\n"
     ]
    },
    {
     "name": "stderr",
     "output_type": "stream",
     "text": [
      "V: 169/300: 100%|████| 26/26 [00:01<00:00, 16.81it/s, v_loss=0.879, v_acc=0.749]\n"
     ]
    },
    {
     "name": "stdout",
     "output_type": "stream",
     "text": [
      "[ Valid | 169/300 ] loss = 0.87886, acc = 0.74873\n",
      "[ Valid | 169/300 ] loss = 0.87886, acc = 0.74873\n"
     ]
    },
    {
     "name": "stderr",
     "output_type": "stream",
     "text": [
      "T: 170/300: 100%|█| 78/78 [00:06<00:00, 11.32it/s, lr=0.000231, b_loss=0.32, b_a\n"
     ]
    },
    {
     "name": "stdout",
     "output_type": "stream",
     "text": [
      "[ Train | 170/300 ] loss = 0.37582, acc = 0.86904\n"
     ]
    },
    {
     "name": "stderr",
     "output_type": "stream",
     "text": [
      "V: 170/300: 100%|████| 26/26 [00:01<00:00, 16.77it/s, v_loss=0.877, v_acc=0.758]\n"
     ]
    },
    {
     "name": "stdout",
     "output_type": "stream",
     "text": [
      "[ Valid | 170/300 ] loss = 0.87747, acc = 0.75780\n",
      "[ Valid | 170/300 ] loss = 0.87747, acc = 0.75780\n"
     ]
    },
    {
     "name": "stderr",
     "output_type": "stream",
     "text": [
      "T: 171/300: 100%|█| 78/78 [00:06<00:00, 11.34it/s, lr=0.0002, b_loss=0.371, b_ac\n"
     ]
    },
    {
     "name": "stdout",
     "output_type": "stream",
     "text": [
      "[ Train | 171/300 ] loss = 0.36113, acc = 0.87270\n"
     ]
    },
    {
     "name": "stderr",
     "output_type": "stream",
     "text": [
      "V: 171/300: 100%|████| 26/26 [00:01<00:00, 14.16it/s, v_loss=0.818, v_acc=0.771]\n"
     ]
    },
    {
     "name": "stdout",
     "output_type": "stream",
     "text": [
      "[ Valid | 171/300 ] loss = 0.81766, acc = 0.77102\n",
      "[ Valid | 171/300 ] loss = 0.81766, acc = 0.77102\n"
     ]
    },
    {
     "name": "stderr",
     "output_type": "stream",
     "text": [
      "T: 172/300: 100%|█| 78/78 [00:06<00:00, 11.43it/s, lr=0.000169, b_loss=0.346, b_\n"
     ]
    },
    {
     "name": "stdout",
     "output_type": "stream",
     "text": [
      "[ Train | 172/300 ] loss = 0.33307, acc = 0.88278\n"
     ]
    },
    {
     "name": "stderr",
     "output_type": "stream",
     "text": [
      "V: 172/300: 100%|████| 26/26 [00:01<00:00, 16.62it/s, v_loss=0.836, v_acc=0.766]\n"
     ]
    },
    {
     "name": "stdout",
     "output_type": "stream",
     "text": [
      "[ Valid | 172/300 ] loss = 0.83585, acc = 0.76564\n",
      "[ Valid | 172/300 ] loss = 0.83585, acc = 0.76564\n"
     ]
    },
    {
     "name": "stderr",
     "output_type": "stream",
     "text": [
      "T: 173/300: 100%|█| 78/78 [00:07<00:00, 11.13it/s, lr=0.000138, b_loss=0.246, b_\n"
     ]
    },
    {
     "name": "stdout",
     "output_type": "stream",
     "text": [
      "[ Train | 173/300 ] loss = 0.31452, acc = 0.89073\n"
     ]
    },
    {
     "name": "stderr",
     "output_type": "stream",
     "text": [
      "V: 173/300: 100%|████| 26/26 [00:01<00:00, 17.12it/s, v_loss=0.804, v_acc=0.774]\n"
     ]
    },
    {
     "name": "stdout",
     "output_type": "stream",
     "text": [
      "[ Valid | 173/300 ] loss = 0.80387, acc = 0.77369\n",
      "[ Valid | 173/300 ] loss = 0.80387, acc = 0.77369\n"
     ]
    },
    {
     "name": "stderr",
     "output_type": "stream",
     "text": [
      "T: 174/300: 100%|█| 78/78 [00:07<00:00, 11.10it/s, lr=0.000109, b_loss=0.307, b_\n"
     ]
    },
    {
     "name": "stdout",
     "output_type": "stream",
     "text": [
      "[ Train | 174/300 ] loss = 0.28924, acc = 0.90053\n"
     ]
    },
    {
     "name": "stderr",
     "output_type": "stream",
     "text": [
      "V: 174/300: 100%|████| 26/26 [00:01<00:00, 17.73it/s, v_loss=0.825, v_acc=0.775]\n"
     ]
    },
    {
     "name": "stdout",
     "output_type": "stream",
     "text": [
      "[ Valid | 174/300 ] loss = 0.82526, acc = 0.77533\n",
      "[ Valid | 174/300 ] loss = 0.82526, acc = 0.77533\n"
     ]
    },
    {
     "name": "stderr",
     "output_type": "stream",
     "text": [
      "T: 175/300: 100%|█| 78/78 [00:07<00:00, 11.07it/s, lr=8.24e-5, b_loss=0.31, b_ac\n"
     ]
    },
    {
     "name": "stdout",
     "output_type": "stream",
     "text": [
      "[ Train | 175/300 ] loss = 0.27153, acc = 0.90459\n"
     ]
    },
    {
     "name": "stderr",
     "output_type": "stream",
     "text": [
      "V: 175/300: 100%|████| 26/26 [00:01<00:00, 15.08it/s, v_loss=0.802, v_acc=0.781]\n"
     ]
    },
    {
     "name": "stdout",
     "output_type": "stream",
     "text": [
      "[ Valid | 175/300 ] loss = 0.80242, acc = 0.78102\n",
      "[ Valid | 175/300 ] loss = 0.80242, acc = 0.78102\n"
     ]
    },
    {
     "name": "stderr",
     "output_type": "stream",
     "text": [
      "T: 176/300: 100%|█| 78/78 [00:07<00:00, 11.11it/s, lr=5.86e-5, b_loss=0.225, b_a\n"
     ]
    },
    {
     "name": "stdout",
     "output_type": "stream",
     "text": [
      "[ Train | 176/300 ] loss = 0.25719, acc = 0.91074\n"
     ]
    },
    {
     "name": "stderr",
     "output_type": "stream",
     "text": [
      "V: 176/300: 100%|████| 26/26 [00:01<00:00, 16.75it/s, v_loss=0.781, v_acc=0.785]\n"
     ]
    },
    {
     "name": "stdout",
     "output_type": "stream",
     "text": [
      "[ Valid | 176/300 ] loss = 0.78124, acc = 0.78549\n",
      "[ Valid | 176/300 ] loss = 0.78124, acc = 0.78549 -> best\n",
      "Best model found at fold 1 epoch 176, acc=0.78549, saving model\n"
     ]
    },
    {
     "name": "stderr",
     "output_type": "stream",
     "text": [
      "T: 177/300: 100%|█| 78/78 [00:06<00:00, 11.23it/s, lr=3.82e-5, b_loss=0.245, b_a\n"
     ]
    },
    {
     "name": "stdout",
     "output_type": "stream",
     "text": [
      "[ Train | 177/300 ] loss = 0.25618, acc = 0.91655\n"
     ]
    },
    {
     "name": "stderr",
     "output_type": "stream",
     "text": [
      "V: 177/300: 100%|████| 26/26 [00:01<00:00, 17.05it/s, v_loss=0.784, v_acc=0.784]\n"
     ]
    },
    {
     "name": "stdout",
     "output_type": "stream",
     "text": [
      "[ Valid | 177/300 ] loss = 0.78369, acc = 0.78402\n",
      "[ Valid | 177/300 ] loss = 0.78369, acc = 0.78402\n"
     ]
    },
    {
     "name": "stderr",
     "output_type": "stream",
     "text": [
      "T: 178/300: 100%|█| 78/78 [00:07<00:00, 11.00it/s, lr=2.18e-5, b_loss=0.259, b_a\n"
     ]
    },
    {
     "name": "stdout",
     "output_type": "stream",
     "text": [
      "[ Train | 178/300 ] loss = 0.24756, acc = 0.91996\n"
     ]
    },
    {
     "name": "stderr",
     "output_type": "stream",
     "text": [
      "V: 178/300: 100%|████| 26/26 [00:01<00:00, 17.88it/s, v_loss=0.776, v_acc=0.788]\n"
     ]
    },
    {
     "name": "stdout",
     "output_type": "stream",
     "text": [
      "[ Valid | 178/300 ] loss = 0.77607, acc = 0.78825\n",
      "[ Valid | 178/300 ] loss = 0.77607, acc = 0.78825 -> best\n",
      "Best model found at fold 1 epoch 178, acc=0.78825, saving model\n"
     ]
    },
    {
     "name": "stderr",
     "output_type": "stream",
     "text": [
      "T: 179/300: 100%|█| 78/78 [00:06<00:00, 11.37it/s, lr=9.79e-6, b_loss=0.249, b_a\n"
     ]
    },
    {
     "name": "stdout",
     "output_type": "stream",
     "text": [
      "[ Train | 179/300 ] loss = 0.24121, acc = 0.91645\n"
     ]
    },
    {
     "name": "stderr",
     "output_type": "stream",
     "text": [
      "V: 179/300: 100%|████| 26/26 [00:01<00:00, 16.37it/s, v_loss=0.767, v_acc=0.791]\n"
     ]
    },
    {
     "name": "stdout",
     "output_type": "stream",
     "text": [
      "[ Valid | 179/300 ] loss = 0.76697, acc = 0.79062\n",
      "[ Valid | 179/300 ] loss = 0.76697, acc = 0.79062 -> best\n",
      "Best model found at fold 1 epoch 179, acc=0.79062, saving model\n"
     ]
    },
    {
     "name": "stderr",
     "output_type": "stream",
     "text": [
      "T: 180/300: 100%|█| 78/78 [00:06<00:00, 11.57it/s, lr=2.46e-6, b_loss=0.191, b_a\n"
     ]
    },
    {
     "name": "stdout",
     "output_type": "stream",
     "text": [
      "[ Train | 180/300 ] loss = 0.24142, acc = 0.91919\n"
     ]
    },
    {
     "name": "stderr",
     "output_type": "stream",
     "text": [
      "V: 180/300: 100%|████| 26/26 [00:01<00:00, 17.64it/s, v_loss=0.776, v_acc=0.791]\n"
     ]
    },
    {
     "name": "stdout",
     "output_type": "stream",
     "text": [
      "[ Valid | 180/300 ] loss = 0.77569, acc = 0.79126\n",
      "[ Valid | 180/300 ] loss = 0.77569, acc = 0.79126 -> best\n",
      "Best model found at fold 1 epoch 180, acc=0.79126, saving model\n"
     ]
    },
    {
     "name": "stderr",
     "output_type": "stream",
     "text": [
      "T: 181/300: 100%|█| 78/78 [00:06<00:00, 11.27it/s, lr=0.0004, b_loss=0.465, b_ac\n"
     ]
    },
    {
     "name": "stdout",
     "output_type": "stream",
     "text": [
      "[ Train | 181/300 ] loss = 0.45434, acc = 0.84226\n"
     ]
    },
    {
     "name": "stderr",
     "output_type": "stream",
     "text": [
      "V: 181/300: 100%|█████| 26/26 [00:01<00:00, 16.85it/s, v_loss=1.46, v_acc=0.656]\n"
     ]
    },
    {
     "name": "stdout",
     "output_type": "stream",
     "text": [
      "[ Valid | 181/300 ] loss = 1.45759, acc = 0.65554\n",
      "[ Valid | 181/300 ] loss = 1.45759, acc = 0.65554\n"
     ]
    },
    {
     "name": "stderr",
     "output_type": "stream",
     "text": [
      "T: 182/300: 100%|█| 78/78 [00:06<00:00, 11.61it/s, lr=0.000398, b_loss=0.326, b_\n"
     ]
    },
    {
     "name": "stdout",
     "output_type": "stream",
     "text": [
      "[ Train | 182/300 ] loss = 0.48815, acc = 0.82941\n"
     ]
    },
    {
     "name": "stderr",
     "output_type": "stream",
     "text": [
      "V: 182/300: 100%|███████| 26/26 [00:01<00:00, 16.04it/s, v_loss=1.06, v_acc=0.7]\n"
     ]
    },
    {
     "name": "stdout",
     "output_type": "stream",
     "text": [
      "[ Valid | 182/300 ] loss = 1.05564, acc = 0.69968\n",
      "[ Valid | 182/300 ] loss = 1.05564, acc = 0.69968\n"
     ]
    },
    {
     "name": "stderr",
     "output_type": "stream",
     "text": [
      "T: 183/300: 100%|█| 78/78 [00:06<00:00, 11.16it/s, lr=0.00039, b_loss=0.479, b_a\n"
     ]
    },
    {
     "name": "stdout",
     "output_type": "stream",
     "text": [
      "[ Train | 183/300 ] loss = 0.45704, acc = 0.84224\n"
     ]
    },
    {
     "name": "stderr",
     "output_type": "stream",
     "text": [
      "V: 183/300: 100%|█████| 26/26 [00:01<00:00, 14.96it/s, v_loss=1.01, v_acc=0.721]\n"
     ]
    },
    {
     "name": "stdout",
     "output_type": "stream",
     "text": [
      "[ Valid | 183/300 ] loss = 1.01215, acc = 0.72105\n",
      "[ Valid | 183/300 ] loss = 1.01215, acc = 0.72105\n"
     ]
    },
    {
     "name": "stderr",
     "output_type": "stream",
     "text": [
      "T: 184/300: 100%|█| 78/78 [00:07<00:00, 11.01it/s, lr=0.000378, b_loss=0.505, b_\n"
     ]
    },
    {
     "name": "stdout",
     "output_type": "stream",
     "text": [
      "[ Train | 184/300 ] loss = 0.44059, acc = 0.84392\n"
     ]
    },
    {
     "name": "stderr",
     "output_type": "stream",
     "text": [
      "V: 184/300: 100%|████| 26/26 [00:01<00:00, 16.81it/s, v_loss=0.979, v_acc=0.727]\n"
     ]
    },
    {
     "name": "stdout",
     "output_type": "stream",
     "text": [
      "[ Valid | 184/300 ] loss = 0.97894, acc = 0.72660\n",
      "[ Valid | 184/300 ] loss = 0.97894, acc = 0.72660\n"
     ]
    },
    {
     "name": "stderr",
     "output_type": "stream",
     "text": [
      "T: 185/300: 100%|█| 78/78 [00:06<00:00, 11.23it/s, lr=0.000362, b_loss=0.449, b_\n"
     ]
    },
    {
     "name": "stdout",
     "output_type": "stream",
     "text": [
      "[ Train | 185/300 ] loss = 0.41643, acc = 0.85596\n"
     ]
    },
    {
     "name": "stderr",
     "output_type": "stream",
     "text": [
      "V: 185/300: 100%|█████| 26/26 [00:01<00:00, 13.69it/s, v_loss=0.95, v_acc=0.736]\n"
     ]
    },
    {
     "name": "stdout",
     "output_type": "stream",
     "text": [
      "[ Valid | 185/300 ] loss = 0.95005, acc = 0.73608\n",
      "[ Valid | 185/300 ] loss = 0.95005, acc = 0.73608\n"
     ]
    },
    {
     "name": "stderr",
     "output_type": "stream",
     "text": [
      "T: 186/300: 100%|█| 78/78 [00:07<00:00, 11.04it/s, lr=0.000341, b_loss=0.341, b_\n"
     ]
    },
    {
     "name": "stdout",
     "output_type": "stream",
     "text": [
      "[ Train | 186/300 ] loss = 0.40641, acc = 0.86049\n"
     ]
    },
    {
     "name": "stderr",
     "output_type": "stream",
     "text": [
      "V: 186/300: 100%|█████| 26/26 [00:01<00:00, 15.38it/s, v_loss=1.04, v_acc=0.706]\n"
     ]
    },
    {
     "name": "stdout",
     "output_type": "stream",
     "text": [
      "[ Valid | 186/300 ] loss = 1.04098, acc = 0.70639\n",
      "[ Valid | 186/300 ] loss = 1.04098, acc = 0.70639\n"
     ]
    },
    {
     "name": "stderr",
     "output_type": "stream",
     "text": [
      "T: 187/300: 100%|█| 78/78 [00:06<00:00, 11.20it/s, lr=0.000318, b_loss=0.361, b_\n"
     ]
    },
    {
     "name": "stdout",
     "output_type": "stream",
     "text": [
      "[ Train | 187/300 ] loss = 0.40002, acc = 0.86256\n"
     ]
    },
    {
     "name": "stderr",
     "output_type": "stream",
     "text": [
      "V: 187/300: 100%|█████| 26/26 [00:01<00:00, 15.30it/s, v_loss=1.01, v_acc=0.729]\n"
     ]
    },
    {
     "name": "stdout",
     "output_type": "stream",
     "text": [
      "[ Valid | 187/300 ] loss = 1.00698, acc = 0.72855\n",
      "[ Valid | 187/300 ] loss = 1.00698, acc = 0.72855\n"
     ]
    },
    {
     "name": "stderr",
     "output_type": "stream",
     "text": [
      "T: 188/300: 100%|█| 78/78 [00:07<00:00, 11.02it/s, lr=0.000291, b_loss=0.48, b_a\n"
     ]
    },
    {
     "name": "stdout",
     "output_type": "stream",
     "text": [
      "[ Train | 188/300 ] loss = 0.38114, acc = 0.86948\n"
     ]
    },
    {
     "name": "stderr",
     "output_type": "stream",
     "text": [
      "V: 188/300: 100%|████| 26/26 [00:01<00:00, 17.49it/s, v_loss=0.945, v_acc=0.747]\n"
     ]
    },
    {
     "name": "stdout",
     "output_type": "stream",
     "text": [
      "[ Valid | 188/300 ] loss = 0.94461, acc = 0.74669\n",
      "[ Valid | 188/300 ] loss = 0.94461, acc = 0.74669\n"
     ]
    },
    {
     "name": "stderr",
     "output_type": "stream",
     "text": [
      "T: 189/300: 100%|█| 78/78 [00:06<00:00, 11.39it/s, lr=0.000262, b_loss=0.189, b_\n"
     ]
    },
    {
     "name": "stdout",
     "output_type": "stream",
     "text": [
      "[ Train | 189/300 ] loss = 0.34349, acc = 0.88176\n"
     ]
    },
    {
     "name": "stderr",
     "output_type": "stream",
     "text": [
      "V: 189/300: 100%|████| 26/26 [00:01<00:00, 15.20it/s, v_loss=0.828, v_acc=0.771]\n"
     ]
    },
    {
     "name": "stdout",
     "output_type": "stream",
     "text": [
      "[ Valid | 189/300 ] loss = 0.82825, acc = 0.77136\n",
      "[ Valid | 189/300 ] loss = 0.82825, acc = 0.77136\n"
     ]
    },
    {
     "name": "stderr",
     "output_type": "stream",
     "text": [
      "T: 190/300: 100%|█| 78/78 [00:07<00:00, 11.06it/s, lr=0.000231, b_loss=0.301, b_\n"
     ]
    },
    {
     "name": "stdout",
     "output_type": "stream",
     "text": [
      "[ Train | 190/300 ] loss = 0.31630, acc = 0.89531\n"
     ]
    },
    {
     "name": "stderr",
     "output_type": "stream",
     "text": [
      "V: 190/300: 100%|████| 26/26 [00:01<00:00, 17.62it/s, v_loss=0.853, v_acc=0.768]\n"
     ]
    },
    {
     "name": "stdout",
     "output_type": "stream",
     "text": [
      "[ Valid | 190/300 ] loss = 0.85335, acc = 0.76806\n",
      "[ Valid | 190/300 ] loss = 0.85335, acc = 0.76806\n"
     ]
    },
    {
     "name": "stderr",
     "output_type": "stream",
     "text": [
      "T: 191/300: 100%|█| 78/78 [00:07<00:00, 10.93it/s, lr=0.0002, b_loss=0.461, b_ac\n"
     ]
    },
    {
     "name": "stdout",
     "output_type": "stream",
     "text": [
      "[ Train | 191/300 ] loss = 0.29712, acc = 0.89633\n"
     ]
    },
    {
     "name": "stderr",
     "output_type": "stream",
     "text": [
      "V: 191/300: 100%|████| 26/26 [00:01<00:00, 18.42it/s, v_loss=0.896, v_acc=0.766]\n"
     ]
    },
    {
     "name": "stdout",
     "output_type": "stream",
     "text": [
      "[ Valid | 191/300 ] loss = 0.89586, acc = 0.76631\n",
      "[ Valid | 191/300 ] loss = 0.89586, acc = 0.76631\n"
     ]
    },
    {
     "name": "stderr",
     "output_type": "stream",
     "text": [
      "T: 192/300: 100%|█| 78/78 [00:07<00:00, 11.10it/s, lr=0.000169, b_loss=0.214, b_\n"
     ]
    },
    {
     "name": "stdout",
     "output_type": "stream",
     "text": [
      "[ Train | 192/300 ] loss = 0.28671, acc = 0.90166\n"
     ]
    },
    {
     "name": "stderr",
     "output_type": "stream",
     "text": [
      "V: 192/300: 100%|█████| 26/26 [00:01<00:00, 18.04it/s, v_loss=0.89, v_acc=0.769]\n"
     ]
    },
    {
     "name": "stdout",
     "output_type": "stream",
     "text": [
      "[ Valid | 192/300 ] loss = 0.89001, acc = 0.76863\n",
      "[ Valid | 192/300 ] loss = 0.89001, acc = 0.76863\n"
     ]
    },
    {
     "name": "stderr",
     "output_type": "stream",
     "text": [
      "T: 193/300: 100%|█| 78/78 [00:06<00:00, 11.32it/s, lr=0.000138, b_loss=0.279, b_\n"
     ]
    },
    {
     "name": "stdout",
     "output_type": "stream",
     "text": [
      "[ Train | 193/300 ] loss = 0.27148, acc = 0.91121\n"
     ]
    },
    {
     "name": "stderr",
     "output_type": "stream",
     "text": [
      "V: 193/300: 100%|████| 26/26 [00:01<00:00, 17.88it/s, v_loss=0.829, v_acc=0.782]\n"
     ]
    },
    {
     "name": "stdout",
     "output_type": "stream",
     "text": [
      "[ Valid | 193/300 ] loss = 0.82872, acc = 0.78222\n",
      "[ Valid | 193/300 ] loss = 0.82872, acc = 0.78222\n"
     ]
    },
    {
     "name": "stderr",
     "output_type": "stream",
     "text": [
      "T: 194/300: 100%|█| 78/78 [00:06<00:00, 11.41it/s, lr=0.000109, b_loss=0.419, b_\n"
     ]
    },
    {
     "name": "stdout",
     "output_type": "stream",
     "text": [
      "[ Train | 194/300 ] loss = 0.26994, acc = 0.90679\n"
     ]
    },
    {
     "name": "stderr",
     "output_type": "stream",
     "text": [
      "V: 194/300: 100%|████| 26/26 [00:01<00:00, 17.10it/s, v_loss=0.819, v_acc=0.778]\n"
     ]
    },
    {
     "name": "stdout",
     "output_type": "stream",
     "text": [
      "[ Valid | 194/300 ] loss = 0.81918, acc = 0.77794\n",
      "[ Valid | 194/300 ] loss = 0.81918, acc = 0.77794\n"
     ]
    },
    {
     "name": "stderr",
     "output_type": "stream",
     "text": [
      "T: 195/300: 100%|█| 78/78 [00:06<00:00, 11.16it/s, lr=8.24e-5, b_loss=0.178, b_a\n"
     ]
    },
    {
     "name": "stdout",
     "output_type": "stream",
     "text": [
      "[ Train | 195/300 ] loss = 0.24172, acc = 0.91578\n"
     ]
    },
    {
     "name": "stderr",
     "output_type": "stream",
     "text": [
      "V: 195/300: 100%|████| 26/26 [00:01<00:00, 15.25it/s, v_loss=0.796, v_acc=0.783]\n"
     ]
    },
    {
     "name": "stdout",
     "output_type": "stream",
     "text": [
      "[ Valid | 195/300 ] loss = 0.79551, acc = 0.78254\n",
      "[ Valid | 195/300 ] loss = 0.79551, acc = 0.78254\n"
     ]
    },
    {
     "name": "stderr",
     "output_type": "stream",
     "text": [
      "T: 196/300: 100%|█| 78/78 [00:07<00:00, 10.80it/s, lr=5.86e-5, b_loss=0.222, b_a\n"
     ]
    },
    {
     "name": "stdout",
     "output_type": "stream",
     "text": [
      "[ Train | 196/300 ] loss = 0.22239, acc = 0.92451\n"
     ]
    },
    {
     "name": "stderr",
     "output_type": "stream",
     "text": [
      "V: 196/300: 100%|████| 26/26 [00:01<00:00, 17.58it/s, v_loss=0.787, v_acc=0.788]\n"
     ]
    },
    {
     "name": "stdout",
     "output_type": "stream",
     "text": [
      "[ Valid | 196/300 ] loss = 0.78698, acc = 0.78845\n",
      "[ Valid | 196/300 ] loss = 0.78698, acc = 0.78845\n"
     ]
    },
    {
     "name": "stderr",
     "output_type": "stream",
     "text": [
      "T: 197/300: 100%|█| 78/78 [00:07<00:00, 10.90it/s, lr=3.82e-5, b_loss=0.24, b_ac\n"
     ]
    },
    {
     "name": "stdout",
     "output_type": "stream",
     "text": [
      "[ Train | 197/300 ] loss = 0.21988, acc = 0.92711\n"
     ]
    },
    {
     "name": "stderr",
     "output_type": "stream",
     "text": [
      "V: 197/300: 100%|████| 26/26 [00:01<00:00, 16.95it/s, v_loss=0.791, v_acc=0.788]\n"
     ]
    },
    {
     "name": "stdout",
     "output_type": "stream",
     "text": [
      "[ Valid | 197/300 ] loss = 0.79107, acc = 0.78817\n",
      "[ Valid | 197/300 ] loss = 0.79107, acc = 0.78817\n"
     ]
    },
    {
     "name": "stderr",
     "output_type": "stream",
     "text": [
      "T: 198/300: 100%|█| 78/78 [00:06<00:00, 11.23it/s, lr=2.18e-5, b_loss=0.266, b_a\n"
     ]
    },
    {
     "name": "stdout",
     "output_type": "stream",
     "text": [
      "[ Train | 198/300 ] loss = 0.21679, acc = 0.92679\n"
     ]
    },
    {
     "name": "stderr",
     "output_type": "stream",
     "text": [
      "V: 198/300: 100%|█████| 26/26 [00:01<00:00, 16.32it/s, v_loss=0.782, v_acc=0.79]\n"
     ]
    },
    {
     "name": "stdout",
     "output_type": "stream",
     "text": [
      "[ Valid | 198/300 ] loss = 0.78194, acc = 0.78974\n",
      "[ Valid | 198/300 ] loss = 0.78194, acc = 0.78974\n"
     ]
    },
    {
     "name": "stderr",
     "output_type": "stream",
     "text": [
      "T: 199/300: 100%|█| 78/78 [00:07<00:00, 11.09it/s, lr=9.79e-6, b_loss=0.262, b_a\n"
     ]
    },
    {
     "name": "stdout",
     "output_type": "stream",
     "text": [
      "[ Train | 199/300 ] loss = 0.21171, acc = 0.92687\n"
     ]
    },
    {
     "name": "stderr",
     "output_type": "stream",
     "text": [
      "V: 199/300: 100%|████| 26/26 [00:01<00:00, 15.92it/s, v_loss=0.782, v_acc=0.788]\n"
     ]
    },
    {
     "name": "stdout",
     "output_type": "stream",
     "text": [
      "[ Valid | 199/300 ] loss = 0.78154, acc = 0.78846\n",
      "[ Valid | 199/300 ] loss = 0.78154, acc = 0.78846\n"
     ]
    },
    {
     "name": "stderr",
     "output_type": "stream",
     "text": [
      "T: 200/300: 100%|█| 78/78 [00:07<00:00, 10.95it/s, lr=2.46e-6, b_loss=0.22, b_ac\n"
     ]
    },
    {
     "name": "stdout",
     "output_type": "stream",
     "text": [
      "[ Train | 200/300 ] loss = 0.20600, acc = 0.93118\n"
     ]
    },
    {
     "name": "stderr",
     "output_type": "stream",
     "text": [
      "V: 200/300: 100%|████| 26/26 [00:01<00:00, 16.08it/s, v_loss=0.786, v_acc=0.789]\n"
     ]
    },
    {
     "name": "stdout",
     "output_type": "stream",
     "text": [
      "[ Valid | 200/300 ] loss = 0.78603, acc = 0.78876\n",
      "[ Valid | 200/300 ] loss = 0.78603, acc = 0.78876\n"
     ]
    },
    {
     "name": "stderr",
     "output_type": "stream",
     "text": [
      "T: 201/300: 100%|█| 78/78 [00:06<00:00, 11.30it/s, lr=0.0004, b_loss=0.382, b_ac\n"
     ]
    },
    {
     "name": "stdout",
     "output_type": "stream",
     "text": [
      "[ Train | 201/300 ] loss = 0.41945, acc = 0.85642\n"
     ]
    },
    {
     "name": "stderr",
     "output_type": "stream",
     "text": [
      "V: 201/300: 100%|█████| 26/26 [00:01<00:00, 16.76it/s, v_loss=1.29, v_acc=0.684]\n"
     ]
    },
    {
     "name": "stdout",
     "output_type": "stream",
     "text": [
      "[ Valid | 201/300 ] loss = 1.28983, acc = 0.68359\n",
      "[ Valid | 201/300 ] loss = 1.28983, acc = 0.68359\n",
      "No improvment 20 consecutive epochs, early stopping\n",
      "\n",
      "\n",
      "Starting Fold: 2 ********************************************\n",
      "cuda:0\n"
     ]
    },
    {
     "name": "stderr",
     "output_type": "stream",
     "text": [
      "T: 001/300: 100%|█| 78/78 [00:06<00:00, 11.18it/s, lr=0.0004, b_loss=1.9, b_acc=\n"
     ]
    },
    {
     "name": "stdout",
     "output_type": "stream",
     "text": [
      "[ Train | 001/300 ] loss = 2.09449, acc = 0.25746\n"
     ]
    },
    {
     "name": "stderr",
     "output_type": "stream",
     "text": [
      "V: 001/300: 100%|█████| 26/26 [00:01<00:00, 18.28it/s, v_loss=2.02, v_acc=0.297]\n"
     ]
    },
    {
     "name": "stdout",
     "output_type": "stream",
     "text": [
      "[ Valid | 001/300 ] loss = 2.01506, acc = 0.29667\n",
      "[ Valid | 001/300 ] loss = 2.01506, acc = 0.29667 -> best\n",
      "Best model found at fold 2 epoch 1, acc=0.29667, saving model\n"
     ]
    },
    {
     "name": "stderr",
     "output_type": "stream",
     "text": [
      "T: 002/300: 100%|█| 78/78 [00:06<00:00, 11.22it/s, lr=0.000398, b_loss=2.01, b_a\n"
     ]
    },
    {
     "name": "stdout",
     "output_type": "stream",
     "text": [
      "[ Train | 002/300 ] loss = 1.93586, acc = 0.31868\n"
     ]
    },
    {
     "name": "stderr",
     "output_type": "stream",
     "text": [
      "V: 002/300: 100%|█████| 26/26 [00:01<00:00, 18.23it/s, v_loss=1.86, v_acc=0.341]\n"
     ]
    },
    {
     "name": "stdout",
     "output_type": "stream",
     "text": [
      "[ Valid | 002/300 ] loss = 1.85924, acc = 0.34146\n",
      "[ Valid | 002/300 ] loss = 1.85924, acc = 0.34146 -> best\n",
      "Best model found at fold 2 epoch 2, acc=0.34146, saving model\n"
     ]
    },
    {
     "name": "stderr",
     "output_type": "stream",
     "text": [
      "T: 003/300: 100%|█| 78/78 [00:06<00:00, 11.33it/s, lr=0.00039, b_loss=1.85, b_ac\n"
     ]
    },
    {
     "name": "stdout",
     "output_type": "stream",
     "text": [
      "[ Train | 003/300 ] loss = 1.87629, acc = 0.34770\n"
     ]
    },
    {
     "name": "stderr",
     "output_type": "stream",
     "text": [
      "V: 003/300: 100%|█████| 26/26 [00:01<00:00, 18.88it/s, v_loss=2.25, v_acc=0.286]\n"
     ]
    },
    {
     "name": "stdout",
     "output_type": "stream",
     "text": [
      "[ Valid | 003/300 ] loss = 2.24841, acc = 0.28582\n",
      "[ Valid | 003/300 ] loss = 2.24841, acc = 0.28582\n"
     ]
    },
    {
     "name": "stderr",
     "output_type": "stream",
     "text": [
      "T: 004/300: 100%|█| 78/78 [00:06<00:00, 11.20it/s, lr=0.000378, b_loss=1.88, b_a\n"
     ]
    },
    {
     "name": "stdout",
     "output_type": "stream",
     "text": [
      "[ Train | 004/300 ] loss = 1.78151, acc = 0.37913\n"
     ]
    },
    {
     "name": "stderr",
     "output_type": "stream",
     "text": [
      "V: 004/300: 100%|██████| 26/26 [00:01<00:00, 17.14it/s, v_loss=1.96, v_acc=0.32]\n"
     ]
    },
    {
     "name": "stdout",
     "output_type": "stream",
     "text": [
      "[ Valid | 004/300 ] loss = 1.95646, acc = 0.32042\n",
      "[ Valid | 004/300 ] loss = 1.95646, acc = 0.32042\n"
     ]
    },
    {
     "name": "stderr",
     "output_type": "stream",
     "text": [
      "T: 005/300: 100%|█| 78/78 [00:07<00:00, 10.96it/s, lr=0.000362, b_loss=1.6, b_ac\n"
     ]
    },
    {
     "name": "stdout",
     "output_type": "stream",
     "text": [
      "[ Train | 005/300 ] loss = 1.70511, acc = 0.40326\n"
     ]
    },
    {
     "name": "stderr",
     "output_type": "stream",
     "text": [
      "V: 005/300: 100%|██████| 26/26 [00:01<00:00, 17.97it/s, v_loss=1.7, v_acc=0.412]\n"
     ]
    },
    {
     "name": "stdout",
     "output_type": "stream",
     "text": [
      "[ Valid | 005/300 ] loss = 1.70226, acc = 0.41156\n",
      "[ Valid | 005/300 ] loss = 1.70226, acc = 0.41156 -> best\n",
      "Best model found at fold 2 epoch 5, acc=0.41156, saving model\n"
     ]
    },
    {
     "name": "stderr",
     "output_type": "stream",
     "text": [
      "T: 006/300: 100%|█| 78/78 [00:06<00:00, 11.41it/s, lr=0.000341, b_loss=1.59, b_a\n"
     ]
    },
    {
     "name": "stdout",
     "output_type": "stream",
     "text": [
      "[ Train | 006/300 ] loss = 1.64023, acc = 0.42752\n"
     ]
    },
    {
     "name": "stderr",
     "output_type": "stream",
     "text": [
      "V: 006/300: 100%|█████| 26/26 [00:01<00:00, 19.92it/s, v_loss=1.92, v_acc=0.356]\n"
     ]
    },
    {
     "name": "stdout",
     "output_type": "stream",
     "text": [
      "[ Valid | 006/300 ] loss = 1.92026, acc = 0.35586\n",
      "[ Valid | 006/300 ] loss = 1.92026, acc = 0.35586\n"
     ]
    },
    {
     "name": "stderr",
     "output_type": "stream",
     "text": [
      "T: 007/300: 100%|█| 78/78 [00:06<00:00, 11.17it/s, lr=0.000318, b_loss=1.64, b_a\n"
     ]
    },
    {
     "name": "stdout",
     "output_type": "stream",
     "text": [
      "[ Train | 007/300 ] loss = 1.57590, acc = 0.44819\n"
     ]
    },
    {
     "name": "stderr",
     "output_type": "stream",
     "text": [
      "V: 007/300: 100%|█████| 26/26 [00:01<00:00, 18.85it/s, v_loss=1.59, v_acc=0.456]\n"
     ]
    },
    {
     "name": "stdout",
     "output_type": "stream",
     "text": [
      "[ Valid | 007/300 ] loss = 1.58731, acc = 0.45613\n",
      "[ Valid | 007/300 ] loss = 1.58731, acc = 0.45613 -> best\n",
      "Best model found at fold 2 epoch 7, acc=0.45613, saving model\n"
     ]
    },
    {
     "name": "stderr",
     "output_type": "stream",
     "text": [
      "T: 008/300: 100%|█| 78/78 [00:07<00:00, 11.01it/s, lr=0.000291, b_loss=1.58, b_a\n"
     ]
    },
    {
     "name": "stdout",
     "output_type": "stream",
     "text": [
      "[ Train | 008/300 ] loss = 1.51513, acc = 0.47980\n"
     ]
    },
    {
     "name": "stderr",
     "output_type": "stream",
     "text": [
      "V: 008/300: 100%|█████| 26/26 [00:01<00:00, 19.74it/s, v_loss=1.55, v_acc=0.462]\n"
     ]
    },
    {
     "name": "stdout",
     "output_type": "stream",
     "text": [
      "[ Valid | 008/300 ] loss = 1.54946, acc = 0.46178\n",
      "[ Valid | 008/300 ] loss = 1.54946, acc = 0.46178 -> best\n",
      "Best model found at fold 2 epoch 8, acc=0.46178, saving model\n"
     ]
    },
    {
     "name": "stderr",
     "output_type": "stream",
     "text": [
      "T: 009/300: 100%|█| 78/78 [00:06<00:00, 11.24it/s, lr=0.000262, b_loss=1.44, b_a\n"
     ]
    },
    {
     "name": "stdout",
     "output_type": "stream",
     "text": [
      "[ Train | 009/300 ] loss = 1.47467, acc = 0.49006\n"
     ]
    },
    {
     "name": "stderr",
     "output_type": "stream",
     "text": [
      "V: 009/300: 100%|██████| 26/26 [00:01<00:00, 18.43it/s, v_loss=1.6, v_acc=0.466]\n"
     ]
    },
    {
     "name": "stdout",
     "output_type": "stream",
     "text": [
      "[ Valid | 009/300 ] loss = 1.60368, acc = 0.46601\n",
      "[ Valid | 009/300 ] loss = 1.60368, acc = 0.46601 -> best\n",
      "Best model found at fold 2 epoch 9, acc=0.46601, saving model\n"
     ]
    },
    {
     "name": "stderr",
     "output_type": "stream",
     "text": [
      "T: 010/300: 100%|█| 78/78 [00:07<00:00, 11.03it/s, lr=0.000231, b_loss=1.46, b_a\n"
     ]
    },
    {
     "name": "stdout",
     "output_type": "stream",
     "text": [
      "[ Train | 010/300 ] loss = 1.41924, acc = 0.51205\n"
     ]
    },
    {
     "name": "stderr",
     "output_type": "stream",
     "text": [
      "V: 010/300: 100%|██████| 26/26 [00:01<00:00, 18.69it/s, v_loss=1.5, v_acc=0.477]\n"
     ]
    },
    {
     "name": "stdout",
     "output_type": "stream",
     "text": [
      "[ Valid | 010/300 ] loss = 1.50210, acc = 0.47716\n",
      "[ Valid | 010/300 ] loss = 1.50210, acc = 0.47716 -> best\n",
      "Best model found at fold 2 epoch 10, acc=0.47716, saving model\n"
     ]
    },
    {
     "name": "stderr",
     "output_type": "stream",
     "text": [
      "T: 011/300: 100%|█| 78/78 [00:06<00:00, 11.18it/s, lr=0.0002, b_loss=1.25, b_acc\n"
     ]
    },
    {
     "name": "stdout",
     "output_type": "stream",
     "text": [
      "[ Train | 011/300 ] loss = 1.35203, acc = 0.53758\n"
     ]
    },
    {
     "name": "stderr",
     "output_type": "stream",
     "text": [
      "V: 011/300: 100%|█████| 26/26 [00:01<00:00, 19.16it/s, v_loss=1.55, v_acc=0.481]\n"
     ]
    },
    {
     "name": "stdout",
     "output_type": "stream",
     "text": [
      "[ Valid | 011/300 ] loss = 1.55403, acc = 0.48070\n",
      "[ Valid | 011/300 ] loss = 1.55403, acc = 0.48070 -> best\n",
      "Best model found at fold 2 epoch 11, acc=0.48070, saving model\n"
     ]
    },
    {
     "name": "stderr",
     "output_type": "stream",
     "text": [
      "T: 012/300: 100%|█| 78/78 [00:06<00:00, 11.26it/s, lr=0.000169, b_loss=1.41, b_a\n"
     ]
    },
    {
     "name": "stdout",
     "output_type": "stream",
     "text": [
      "[ Train | 012/300 ] loss = 1.30782, acc = 0.54538\n"
     ]
    },
    {
     "name": "stderr",
     "output_type": "stream",
     "text": [
      "V: 012/300: 100%|█████| 26/26 [00:01<00:00, 18.46it/s, v_loss=1.31, v_acc=0.558]\n"
     ]
    },
    {
     "name": "stdout",
     "output_type": "stream",
     "text": [
      "[ Valid | 012/300 ] loss = 1.31412, acc = 0.55839\n",
      "[ Valid | 012/300 ] loss = 1.31412, acc = 0.55839 -> best\n",
      "Best model found at fold 2 epoch 12, acc=0.55839, saving model\n"
     ]
    },
    {
     "name": "stderr",
     "output_type": "stream",
     "text": [
      "T: 013/300: 100%|█| 78/78 [00:06<00:00, 11.18it/s, lr=0.000138, b_loss=1.19, b_a\n"
     ]
    },
    {
     "name": "stdout",
     "output_type": "stream",
     "text": [
      "[ Train | 013/300 ] loss = 1.25934, acc = 0.56478\n"
     ]
    },
    {
     "name": "stderr",
     "output_type": "stream",
     "text": [
      "V: 013/300: 100%|█████| 26/26 [00:01<00:00, 18.19it/s, v_loss=1.24, v_acc=0.571]\n"
     ]
    },
    {
     "name": "stdout",
     "output_type": "stream",
     "text": [
      "[ Valid | 013/300 ] loss = 1.24136, acc = 0.57122\n",
      "[ Valid | 013/300 ] loss = 1.24136, acc = 0.57122 -> best\n",
      "Best model found at fold 2 epoch 13, acc=0.57122, saving model\n"
     ]
    },
    {
     "name": "stderr",
     "output_type": "stream",
     "text": [
      "T: 014/300: 100%|█| 78/78 [00:07<00:00, 10.99it/s, lr=0.000109, b_loss=1.25, b_a\n"
     ]
    },
    {
     "name": "stdout",
     "output_type": "stream",
     "text": [
      "[ Train | 014/300 ] loss = 1.22413, acc = 0.57570\n"
     ]
    },
    {
     "name": "stderr",
     "output_type": "stream",
     "text": [
      "V: 014/300: 100%|█████| 26/26 [00:01<00:00, 16.53it/s, v_loss=1.24, v_acc=0.572]\n"
     ]
    },
    {
     "name": "stdout",
     "output_type": "stream",
     "text": [
      "[ Valid | 014/300 ] loss = 1.24296, acc = 0.57189\n",
      "[ Valid | 014/300 ] loss = 1.24296, acc = 0.57189 -> best\n",
      "Best model found at fold 2 epoch 14, acc=0.57189, saving model\n"
     ]
    },
    {
     "name": "stderr",
     "output_type": "stream",
     "text": [
      "T: 015/300: 100%|█| 78/78 [00:07<00:00, 11.12it/s, lr=8.24e-5, b_loss=1.05, b_ac\n"
     ]
    },
    {
     "name": "stdout",
     "output_type": "stream",
     "text": [
      "[ Train | 015/300 ] loss = 1.19481, acc = 0.58843\n"
     ]
    },
    {
     "name": "stderr",
     "output_type": "stream",
     "text": [
      "V: 015/300: 100%|█████| 26/26 [00:01<00:00, 18.97it/s, v_loss=1.18, v_acc=0.599]\n"
     ]
    },
    {
     "name": "stdout",
     "output_type": "stream",
     "text": [
      "[ Valid | 015/300 ] loss = 1.17886, acc = 0.59902\n",
      "[ Valid | 015/300 ] loss = 1.17886, acc = 0.59902 -> best\n",
      "Best model found at fold 2 epoch 15, acc=0.59902, saving model\n"
     ]
    },
    {
     "name": "stderr",
     "output_type": "stream",
     "text": [
      "T: 016/300: 100%|█| 78/78 [00:07<00:00, 10.95it/s, lr=5.86e-5, b_loss=1.11, b_ac\n"
     ]
    },
    {
     "name": "stdout",
     "output_type": "stream",
     "text": [
      "[ Train | 016/300 ] loss = 1.14246, acc = 0.60436\n"
     ]
    },
    {
     "name": "stderr",
     "output_type": "stream",
     "text": [
      "V: 016/300: 100%|██████| 26/26 [00:01<00:00, 18.81it/s, v_loss=1.1, v_acc=0.628]\n"
     ]
    },
    {
     "name": "stdout",
     "output_type": "stream",
     "text": [
      "[ Valid | 016/300 ] loss = 1.09964, acc = 0.62817\n",
      "[ Valid | 016/300 ] loss = 1.09964, acc = 0.62817 -> best\n",
      "Best model found at fold 2 epoch 16, acc=0.62817, saving model\n"
     ]
    },
    {
     "name": "stderr",
     "output_type": "stream",
     "text": [
      "T: 017/300: 100%|█| 78/78 [00:06<00:00, 11.21it/s, lr=3.82e-5, b_loss=1.15, b_ac\n"
     ]
    },
    {
     "name": "stdout",
     "output_type": "stream",
     "text": [
      "[ Train | 017/300 ] loss = 1.13094, acc = 0.60719\n"
     ]
    },
    {
     "name": "stderr",
     "output_type": "stream",
     "text": [
      "V: 017/300: 100%|█████| 26/26 [00:01<00:00, 17.45it/s, v_loss=1.08, v_acc=0.641]\n"
     ]
    },
    {
     "name": "stdout",
     "output_type": "stream",
     "text": [
      "[ Valid | 017/300 ] loss = 1.07551, acc = 0.64075\n",
      "[ Valid | 017/300 ] loss = 1.07551, acc = 0.64075 -> best\n",
      "Best model found at fold 2 epoch 17, acc=0.64075, saving model\n"
     ]
    },
    {
     "name": "stderr",
     "output_type": "stream",
     "text": [
      "T: 018/300: 100%|█| 78/78 [00:07<00:00, 11.05it/s, lr=2.18e-5, b_loss=1.08, b_ac\n"
     ]
    },
    {
     "name": "stdout",
     "output_type": "stream",
     "text": [
      "[ Train | 018/300 ] loss = 1.09007, acc = 0.62470\n"
     ]
    },
    {
     "name": "stderr",
     "output_type": "stream",
     "text": [
      "V: 018/300: 100%|█████| 26/26 [00:01<00:00, 17.63it/s, v_loss=1.05, v_acc=0.641]\n"
     ]
    },
    {
     "name": "stdout",
     "output_type": "stream",
     "text": [
      "[ Valid | 018/300 ] loss = 1.05003, acc = 0.64086\n",
      "[ Valid | 018/300 ] loss = 1.05003, acc = 0.64086 -> best\n",
      "Best model found at fold 2 epoch 18, acc=0.64086, saving model\n"
     ]
    },
    {
     "name": "stderr",
     "output_type": "stream",
     "text": [
      "T: 019/300: 100%|█| 78/78 [00:07<00:00, 11.00it/s, lr=9.79e-6, b_loss=1.08, b_ac\n"
     ]
    },
    {
     "name": "stdout",
     "output_type": "stream",
     "text": [
      "[ Train | 019/300 ] loss = 1.08388, acc = 0.62442\n"
     ]
    },
    {
     "name": "stderr",
     "output_type": "stream",
     "text": [
      "V: 019/300: 100%|█████| 26/26 [00:01<00:00, 17.25it/s, v_loss=1.03, v_acc=0.646]\n"
     ]
    },
    {
     "name": "stdout",
     "output_type": "stream",
     "text": [
      "[ Valid | 019/300 ] loss = 1.03019, acc = 0.64645\n",
      "[ Valid | 019/300 ] loss = 1.03019, acc = 0.64645 -> best\n",
      "Best model found at fold 2 epoch 19, acc=0.64645, saving model\n"
     ]
    },
    {
     "name": "stderr",
     "output_type": "stream",
     "text": [
      "T: 020/300: 100%|█| 78/78 [00:07<00:00, 11.13it/s, lr=2.46e-6, b_loss=1.1, b_acc\n"
     ]
    },
    {
     "name": "stdout",
     "output_type": "stream",
     "text": [
      "[ Train | 020/300 ] loss = 1.08360, acc = 0.62361\n"
     ]
    },
    {
     "name": "stderr",
     "output_type": "stream",
     "text": [
      "V: 020/300: 100%|█████| 26/26 [00:01<00:00, 17.73it/s, v_loss=1.03, v_acc=0.648]\n"
     ]
    },
    {
     "name": "stdout",
     "output_type": "stream",
     "text": [
      "[ Valid | 020/300 ] loss = 1.03049, acc = 0.64824\n",
      "[ Valid | 020/300 ] loss = 1.03049, acc = 0.64824 -> best\n",
      "Best model found at fold 2 epoch 20, acc=0.64824, saving model\n"
     ]
    },
    {
     "name": "stderr",
     "output_type": "stream",
     "text": [
      "T: 021/300: 100%|█| 78/78 [00:07<00:00, 11.00it/s, lr=0.0004, b_loss=1.32, b_acc\n"
     ]
    },
    {
     "name": "stdout",
     "output_type": "stream",
     "text": [
      "[ Train | 021/300 ] loss = 1.36299, acc = 0.53109\n"
     ]
    },
    {
     "name": "stderr",
     "output_type": "stream",
     "text": [
      "V: 021/300: 100%|█████| 26/26 [00:01<00:00, 17.09it/s, v_loss=1.61, v_acc=0.463]\n"
     ]
    },
    {
     "name": "stdout",
     "output_type": "stream",
     "text": [
      "[ Valid | 021/300 ] loss = 1.60891, acc = 0.46305\n",
      "[ Valid | 021/300 ] loss = 1.60891, acc = 0.46305\n"
     ]
    },
    {
     "name": "stderr",
     "output_type": "stream",
     "text": [
      "T: 022/300: 100%|█| 78/78 [00:06<00:00, 11.23it/s, lr=0.000398, b_loss=1.3, b_ac\n"
     ]
    },
    {
     "name": "stdout",
     "output_type": "stream",
     "text": [
      "[ Train | 022/300 ] loss = 1.32244, acc = 0.54203\n"
     ]
    },
    {
     "name": "stderr",
     "output_type": "stream",
     "text": [
      "V: 022/300: 100%|█████| 26/26 [00:01<00:00, 17.50it/s, v_loss=1.56, v_acc=0.503]\n"
     ]
    },
    {
     "name": "stdout",
     "output_type": "stream",
     "text": [
      "[ Valid | 022/300 ] loss = 1.55974, acc = 0.50270\n",
      "[ Valid | 022/300 ] loss = 1.55974, acc = 0.50270\n"
     ]
    },
    {
     "name": "stderr",
     "output_type": "stream",
     "text": [
      "T: 023/300: 100%|█| 78/78 [00:06<00:00, 11.25it/s, lr=0.00039, b_loss=1.47, b_ac\n"
     ]
    },
    {
     "name": "stdout",
     "output_type": "stream",
     "text": [
      "[ Train | 023/300 ] loss = 1.26466, acc = 0.56270\n"
     ]
    },
    {
     "name": "stderr",
     "output_type": "stream",
     "text": [
      "V: 023/300: 100%|█████| 26/26 [00:01<00:00, 19.08it/s, v_loss=1.65, v_acc=0.493]\n"
     ]
    },
    {
     "name": "stdout",
     "output_type": "stream",
     "text": [
      "[ Valid | 023/300 ] loss = 1.65420, acc = 0.49321\n",
      "[ Valid | 023/300 ] loss = 1.65420, acc = 0.49321\n"
     ]
    },
    {
     "name": "stderr",
     "output_type": "stream",
     "text": [
      "T: 024/300: 100%|█| 78/78 [00:07<00:00, 10.86it/s, lr=0.000378, b_loss=1.24, b_a\n"
     ]
    },
    {
     "name": "stdout",
     "output_type": "stream",
     "text": [
      "[ Train | 024/300 ] loss = 1.24521, acc = 0.56807\n"
     ]
    },
    {
     "name": "stderr",
     "output_type": "stream",
     "text": [
      "V: 024/300: 100%|█████| 26/26 [00:01<00:00, 16.82it/s, v_loss=1.25, v_acc=0.585]\n"
     ]
    },
    {
     "name": "stdout",
     "output_type": "stream",
     "text": [
      "[ Valid | 024/300 ] loss = 1.24878, acc = 0.58480\n",
      "[ Valid | 024/300 ] loss = 1.24878, acc = 0.58480\n"
     ]
    },
    {
     "name": "stderr",
     "output_type": "stream",
     "text": [
      "T: 025/300: 100%|█| 78/78 [00:07<00:00, 11.01it/s, lr=0.000362, b_loss=1.45, b_a\n"
     ]
    },
    {
     "name": "stdout",
     "output_type": "stream",
     "text": [
      "[ Train | 025/300 ] loss = 1.20399, acc = 0.57929\n"
     ]
    },
    {
     "name": "stderr",
     "output_type": "stream",
     "text": [
      "V: 025/300: 100%|█████| 26/26 [00:01<00:00, 20.31it/s, v_loss=1.39, v_acc=0.531]\n"
     ]
    },
    {
     "name": "stdout",
     "output_type": "stream",
     "text": [
      "[ Valid | 025/300 ] loss = 1.38840, acc = 0.53121\n",
      "[ Valid | 025/300 ] loss = 1.38840, acc = 0.53121\n"
     ]
    },
    {
     "name": "stderr",
     "output_type": "stream",
     "text": [
      "T: 026/300: 100%|█| 78/78 [00:07<00:00, 10.92it/s, lr=0.000341, b_loss=1.29, b_a\n"
     ]
    },
    {
     "name": "stdout",
     "output_type": "stream",
     "text": [
      "[ Train | 026/300 ] loss = 1.17351, acc = 0.59400\n"
     ]
    },
    {
     "name": "stderr",
     "output_type": "stream",
     "text": [
      "V: 026/300: 100%|█████| 26/26 [00:01<00:00, 17.59it/s, v_loss=1.34, v_acc=0.556]\n"
     ]
    },
    {
     "name": "stdout",
     "output_type": "stream",
     "text": [
      "[ Valid | 026/300 ] loss = 1.33948, acc = 0.55592\n",
      "[ Valid | 026/300 ] loss = 1.33948, acc = 0.55592\n"
     ]
    },
    {
     "name": "stderr",
     "output_type": "stream",
     "text": [
      "T: 027/300: 100%|█| 78/78 [00:06<00:00, 11.31it/s, lr=0.000318, b_loss=1.04, b_a\n"
     ]
    },
    {
     "name": "stdout",
     "output_type": "stream",
     "text": [
      "[ Train | 027/300 ] loss = 1.14804, acc = 0.60448\n"
     ]
    },
    {
     "name": "stderr",
     "output_type": "stream",
     "text": [
      "V: 027/300: 100%|█████| 26/26 [00:01<00:00, 18.95it/s, v_loss=1.18, v_acc=0.606]\n"
     ]
    },
    {
     "name": "stdout",
     "output_type": "stream",
     "text": [
      "[ Valid | 027/300 ] loss = 1.17726, acc = 0.60581\n",
      "[ Valid | 027/300 ] loss = 1.17726, acc = 0.60581\n"
     ]
    },
    {
     "name": "stderr",
     "output_type": "stream",
     "text": [
      "T: 028/300: 100%|█| 78/78 [00:07<00:00, 11.11it/s, lr=0.000291, b_loss=1.02, b_a\n"
     ]
    },
    {
     "name": "stdout",
     "output_type": "stream",
     "text": [
      "[ Train | 028/300 ] loss = 1.11003, acc = 0.61649\n"
     ]
    },
    {
     "name": "stderr",
     "output_type": "stream",
     "text": [
      "V: 028/300: 100%|██████| 26/26 [00:01<00:00, 18.19it/s, v_loss=1.4, v_acc=0.545]\n"
     ]
    },
    {
     "name": "stdout",
     "output_type": "stream",
     "text": [
      "[ Valid | 028/300 ] loss = 1.40111, acc = 0.54481\n",
      "[ Valid | 028/300 ] loss = 1.40111, acc = 0.54481\n"
     ]
    },
    {
     "name": "stderr",
     "output_type": "stream",
     "text": [
      "T: 029/300: 100%|█| 78/78 [00:07<00:00, 11.02it/s, lr=0.000262, b_loss=1.18, b_a\n"
     ]
    },
    {
     "name": "stdout",
     "output_type": "stream",
     "text": [
      "[ Train | 029/300 ] loss = 1.08116, acc = 0.62903\n"
     ]
    },
    {
     "name": "stderr",
     "output_type": "stream",
     "text": [
      "V: 029/300: 100%|█████| 26/26 [00:01<00:00, 19.80it/s, v_loss=1.18, v_acc=0.604]\n"
     ]
    },
    {
     "name": "stdout",
     "output_type": "stream",
     "text": [
      "[ Valid | 029/300 ] loss = 1.17803, acc = 0.60403\n",
      "[ Valid | 029/300 ] loss = 1.17803, acc = 0.60403\n"
     ]
    },
    {
     "name": "stderr",
     "output_type": "stream",
     "text": [
      "T: 030/300: 100%|█| 78/78 [00:07<00:00, 11.06it/s, lr=0.000231, b_loss=1.11, b_a\n"
     ]
    },
    {
     "name": "stdout",
     "output_type": "stream",
     "text": [
      "[ Train | 030/300 ] loss = 1.03948, acc = 0.64308\n"
     ]
    },
    {
     "name": "stderr",
     "output_type": "stream",
     "text": [
      "V: 030/300: 100%|█████| 26/26 [00:01<00:00, 18.40it/s, v_loss=1.12, v_acc=0.613]\n"
     ]
    },
    {
     "name": "stdout",
     "output_type": "stream",
     "text": [
      "[ Valid | 030/300 ] loss = 1.12467, acc = 0.61256\n",
      "[ Valid | 030/300 ] loss = 1.12467, acc = 0.61256\n"
     ]
    },
    {
     "name": "stderr",
     "output_type": "stream",
     "text": [
      "T: 031/300: 100%|█| 78/78 [00:07<00:00, 11.01it/s, lr=0.0002, b_loss=1, b_acc=0.\n"
     ]
    },
    {
     "name": "stdout",
     "output_type": "stream",
     "text": [
      "[ Train | 031/300 ] loss = 1.00533, acc = 0.65274\n"
     ]
    },
    {
     "name": "stderr",
     "output_type": "stream",
     "text": [
      "V: 031/300: 100%|█████| 26/26 [00:01<00:00, 18.19it/s, v_loss=1.09, v_acc=0.631]\n"
     ]
    },
    {
     "name": "stdout",
     "output_type": "stream",
     "text": [
      "[ Valid | 031/300 ] loss = 1.09119, acc = 0.63052\n",
      "[ Valid | 031/300 ] loss = 1.09119, acc = 0.63052\n"
     ]
    },
    {
     "name": "stderr",
     "output_type": "stream",
     "text": [
      "T: 032/300: 100%|█| 78/78 [00:07<00:00, 11.11it/s, lr=0.000169, b_loss=0.962, b_\n"
     ]
    },
    {
     "name": "stdout",
     "output_type": "stream",
     "text": [
      "[ Train | 032/300 ] loss = 0.97732, acc = 0.66016\n"
     ]
    },
    {
     "name": "stderr",
     "output_type": "stream",
     "text": [
      "V: 032/300: 100%|█████| 26/26 [00:01<00:00, 17.44it/s, v_loss=1.01, v_acc=0.666]\n"
     ]
    },
    {
     "name": "stdout",
     "output_type": "stream",
     "text": [
      "[ Valid | 032/300 ] loss = 1.00671, acc = 0.66582\n",
      "[ Valid | 032/300 ] loss = 1.00671, acc = 0.66582 -> best\n",
      "Best model found at fold 2 epoch 32, acc=0.66582, saving model\n"
     ]
    },
    {
     "name": "stderr",
     "output_type": "stream",
     "text": [
      "T: 033/300: 100%|█| 78/78 [00:06<00:00, 11.22it/s, lr=0.000138, b_loss=1.1, b_ac\n"
     ]
    },
    {
     "name": "stdout",
     "output_type": "stream",
     "text": [
      "[ Train | 033/300 ] loss = 0.96846, acc = 0.66531\n"
     ]
    },
    {
     "name": "stderr",
     "output_type": "stream",
     "text": [
      "V: 033/300: 100%|█████| 26/26 [00:01<00:00, 18.71it/s, v_loss=1.03, v_acc=0.658]\n"
     ]
    },
    {
     "name": "stdout",
     "output_type": "stream",
     "text": [
      "[ Valid | 033/300 ] loss = 1.03354, acc = 0.65763\n",
      "[ Valid | 033/300 ] loss = 1.03354, acc = 0.65763\n"
     ]
    },
    {
     "name": "stderr",
     "output_type": "stream",
     "text": [
      "T: 034/300: 100%|█| 78/78 [00:06<00:00, 11.30it/s, lr=0.000109, b_loss=0.714, b_\n"
     ]
    },
    {
     "name": "stdout",
     "output_type": "stream",
     "text": [
      "[ Train | 034/300 ] loss = 0.92463, acc = 0.67977\n"
     ]
    },
    {
     "name": "stderr",
     "output_type": "stream",
     "text": [
      "V: 034/300: 100%|████| 26/26 [00:01<00:00, 17.78it/s, v_loss=0.952, v_acc=0.675]\n"
     ]
    },
    {
     "name": "stdout",
     "output_type": "stream",
     "text": [
      "[ Valid | 034/300 ] loss = 0.95212, acc = 0.67502\n",
      "[ Valid | 034/300 ] loss = 0.95212, acc = 0.67502 -> best\n",
      "Best model found at fold 2 epoch 34, acc=0.67502, saving model\n"
     ]
    },
    {
     "name": "stderr",
     "output_type": "stream",
     "text": [
      "T: 035/300: 100%|█| 78/78 [00:06<00:00, 11.19it/s, lr=8.24e-5, b_loss=0.929, b_a\n"
     ]
    },
    {
     "name": "stdout",
     "output_type": "stream",
     "text": [
      "[ Train | 035/300 ] loss = 0.89695, acc = 0.69391\n"
     ]
    },
    {
     "name": "stderr",
     "output_type": "stream",
     "text": [
      "V: 035/300: 100%|████| 26/26 [00:01<00:00, 19.13it/s, v_loss=0.907, v_acc=0.696]\n"
     ]
    },
    {
     "name": "stdout",
     "output_type": "stream",
     "text": [
      "[ Valid | 035/300 ] loss = 0.90708, acc = 0.69639\n",
      "[ Valid | 035/300 ] loss = 0.90708, acc = 0.69639 -> best\n",
      "Best model found at fold 2 epoch 35, acc=0.69639, saving model\n"
     ]
    },
    {
     "name": "stderr",
     "output_type": "stream",
     "text": [
      "T: 036/300: 100%|█| 78/78 [00:07<00:00, 11.09it/s, lr=5.86e-5, b_loss=0.846, b_a\n"
     ]
    },
    {
     "name": "stdout",
     "output_type": "stream",
     "text": [
      "[ Train | 036/300 ] loss = 0.87101, acc = 0.69888\n"
     ]
    },
    {
     "name": "stderr",
     "output_type": "stream",
     "text": [
      "V: 036/300: 100%|████| 26/26 [00:01<00:00, 17.15it/s, v_loss=0.873, v_acc=0.714]\n"
     ]
    },
    {
     "name": "stdout",
     "output_type": "stream",
     "text": [
      "[ Valid | 036/300 ] loss = 0.87340, acc = 0.71391\n",
      "[ Valid | 036/300 ] loss = 0.87340, acc = 0.71391 -> best\n",
      "Best model found at fold 2 epoch 36, acc=0.71391, saving model\n"
     ]
    },
    {
     "name": "stderr",
     "output_type": "stream",
     "text": [
      "T: 037/300: 100%|█| 78/78 [00:07<00:00, 11.09it/s, lr=3.82e-5, b_loss=0.831, b_a\n"
     ]
    },
    {
     "name": "stdout",
     "output_type": "stream",
     "text": [
      "[ Train | 037/300 ] loss = 0.85622, acc = 0.70515\n"
     ]
    },
    {
     "name": "stderr",
     "output_type": "stream",
     "text": [
      "V: 037/300: 100%|████| 26/26 [00:01<00:00, 18.60it/s, v_loss=0.864, v_acc=0.713]\n"
     ]
    },
    {
     "name": "stdout",
     "output_type": "stream",
     "text": [
      "[ Valid | 037/300 ] loss = 0.86397, acc = 0.71297\n",
      "[ Valid | 037/300 ] loss = 0.86397, acc = 0.71297\n"
     ]
    },
    {
     "name": "stderr",
     "output_type": "stream",
     "text": [
      "T: 038/300: 100%|█| 78/78 [00:06<00:00, 11.18it/s, lr=2.18e-5, b_loss=0.989, b_a\n"
     ]
    },
    {
     "name": "stdout",
     "output_type": "stream",
     "text": [
      "[ Train | 038/300 ] loss = 0.83762, acc = 0.71303\n"
     ]
    },
    {
     "name": "stderr",
     "output_type": "stream",
     "text": [
      "V: 038/300: 100%|████| 26/26 [00:01<00:00, 19.09it/s, v_loss=0.853, v_acc=0.714]\n"
     ]
    },
    {
     "name": "stdout",
     "output_type": "stream",
     "text": [
      "[ Valid | 038/300 ] loss = 0.85278, acc = 0.71357\n",
      "[ Valid | 038/300 ] loss = 0.85278, acc = 0.71357\n"
     ]
    },
    {
     "name": "stderr",
     "output_type": "stream",
     "text": [
      "T: 039/300: 100%|█| 78/78 [00:07<00:00, 11.03it/s, lr=9.79e-6, b_loss=0.888, b_a\n"
     ]
    },
    {
     "name": "stdout",
     "output_type": "stream",
     "text": [
      "[ Train | 039/300 ] loss = 0.81774, acc = 0.71898\n"
     ]
    },
    {
     "name": "stderr",
     "output_type": "stream",
     "text": [
      "V: 039/300: 100%|█████| 26/26 [00:01<00:00, 17.85it/s, v_loss=0.84, v_acc=0.719]\n"
     ]
    },
    {
     "name": "stdout",
     "output_type": "stream",
     "text": [
      "[ Valid | 039/300 ] loss = 0.84008, acc = 0.71878\n",
      "[ Valid | 039/300 ] loss = 0.84008, acc = 0.71878 -> best\n",
      "Best model found at fold 2 epoch 39, acc=0.71878, saving model\n"
     ]
    },
    {
     "name": "stderr",
     "output_type": "stream",
     "text": [
      "T: 040/300: 100%|█| 78/78 [00:06<00:00, 11.20it/s, lr=2.46e-6, b_loss=0.851, b_a\n"
     ]
    },
    {
     "name": "stdout",
     "output_type": "stream",
     "text": [
      "[ Train | 040/300 ] loss = 0.81630, acc = 0.71932\n"
     ]
    },
    {
     "name": "stderr",
     "output_type": "stream",
     "text": [
      "V: 040/300: 100%|████| 26/26 [00:01<00:00, 18.59it/s, v_loss=0.836, v_acc=0.722]\n"
     ]
    },
    {
     "name": "stdout",
     "output_type": "stream",
     "text": [
      "[ Valid | 040/300 ] loss = 0.83572, acc = 0.72172\n",
      "[ Valid | 040/300 ] loss = 0.83572, acc = 0.72172 -> best\n",
      "Best model found at fold 2 epoch 40, acc=0.72172, saving model\n"
     ]
    },
    {
     "name": "stderr",
     "output_type": "stream",
     "text": [
      "T: 041/300: 100%|█| 78/78 [00:07<00:00, 11.10it/s, lr=0.0004, b_loss=1.26, b_acc\n"
     ]
    },
    {
     "name": "stdout",
     "output_type": "stream",
     "text": [
      "[ Train | 041/300 ] loss = 1.07505, acc = 0.62454\n"
     ]
    },
    {
     "name": "stderr",
     "output_type": "stream",
     "text": [
      "V: 041/300: 100%|█████| 26/26 [00:01<00:00, 17.38it/s, v_loss=1.83, v_acc=0.436]\n"
     ]
    },
    {
     "name": "stdout",
     "output_type": "stream",
     "text": [
      "[ Valid | 041/300 ] loss = 1.82969, acc = 0.43617\n",
      "[ Valid | 041/300 ] loss = 1.82969, acc = 0.43617\n"
     ]
    },
    {
     "name": "stderr",
     "output_type": "stream",
     "text": [
      "T: 042/300: 100%|█| 78/78 [00:06<00:00, 11.20it/s, lr=0.000398, b_loss=1.02, b_a\n"
     ]
    },
    {
     "name": "stdout",
     "output_type": "stream",
     "text": [
      "[ Train | 042/300 ] loss = 1.06536, acc = 0.63580\n"
     ]
    },
    {
     "name": "stderr",
     "output_type": "stream",
     "text": [
      "V: 042/300: 100%|█████| 26/26 [00:01<00:00, 18.57it/s, v_loss=1.54, v_acc=0.517]\n"
     ]
    },
    {
     "name": "stdout",
     "output_type": "stream",
     "text": [
      "[ Valid | 042/300 ] loss = 1.54083, acc = 0.51712\n",
      "[ Valid | 042/300 ] loss = 1.54083, acc = 0.51712\n"
     ]
    },
    {
     "name": "stderr",
     "output_type": "stream",
     "text": [
      "T: 043/300: 100%|█| 78/78 [00:06<00:00, 11.35it/s, lr=0.00039, b_loss=0.894, b_a\n"
     ]
    },
    {
     "name": "stdout",
     "output_type": "stream",
     "text": [
      "[ Train | 043/300 ] loss = 1.05229, acc = 0.63664\n"
     ]
    },
    {
     "name": "stderr",
     "output_type": "stream",
     "text": [
      "V: 043/300: 100%|█████| 26/26 [00:01<00:00, 19.37it/s, v_loss=1.17, v_acc=0.604]\n"
     ]
    },
    {
     "name": "stdout",
     "output_type": "stream",
     "text": [
      "[ Valid | 043/300 ] loss = 1.16702, acc = 0.60441\n",
      "[ Valid | 043/300 ] loss = 1.16702, acc = 0.60441\n"
     ]
    },
    {
     "name": "stderr",
     "output_type": "stream",
     "text": [
      "T: 044/300: 100%|█| 78/78 [00:07<00:00, 11.07it/s, lr=0.000378, b_loss=0.897, b_\n"
     ]
    },
    {
     "name": "stdout",
     "output_type": "stream",
     "text": [
      "[ Train | 044/300 ] loss = 1.01432, acc = 0.64590\n"
     ]
    },
    {
     "name": "stderr",
     "output_type": "stream",
     "text": [
      "V: 044/300: 100%|█████| 26/26 [00:01<00:00, 18.97it/s, v_loss=1.23, v_acc=0.603]\n"
     ]
    },
    {
     "name": "stdout",
     "output_type": "stream",
     "text": [
      "[ Valid | 044/300 ] loss = 1.22687, acc = 0.60284\n",
      "[ Valid | 044/300 ] loss = 1.22687, acc = 0.60284\n"
     ]
    },
    {
     "name": "stderr",
     "output_type": "stream",
     "text": [
      "T: 045/300: 100%|█| 78/78 [00:06<00:00, 11.20it/s, lr=0.000362, b_loss=1.11, b_a\n"
     ]
    },
    {
     "name": "stdout",
     "output_type": "stream",
     "text": [
      "[ Train | 045/300 ] loss = 0.98939, acc = 0.66526\n"
     ]
    },
    {
     "name": "stderr",
     "output_type": "stream",
     "text": [
      "V: 045/300: 100%|█████| 26/26 [00:01<00:00, 18.66it/s, v_loss=1.27, v_acc=0.576]\n"
     ]
    },
    {
     "name": "stdout",
     "output_type": "stream",
     "text": [
      "[ Valid | 045/300 ] loss = 1.26686, acc = 0.57617\n",
      "[ Valid | 045/300 ] loss = 1.26686, acc = 0.57617\n"
     ]
    },
    {
     "name": "stderr",
     "output_type": "stream",
     "text": [
      "T: 046/300: 100%|█| 78/78 [00:07<00:00, 11.09it/s, lr=0.000341, b_loss=0.911, b_\n"
     ]
    },
    {
     "name": "stdout",
     "output_type": "stream",
     "text": [
      "[ Train | 046/300 ] loss = 0.97005, acc = 0.66639\n"
     ]
    },
    {
     "name": "stderr",
     "output_type": "stream",
     "text": [
      "V: 046/300: 100%|█████| 26/26 [00:01<00:00, 17.93it/s, v_loss=1.04, v_acc=0.648]\n"
     ]
    },
    {
     "name": "stdout",
     "output_type": "stream",
     "text": [
      "[ Valid | 046/300 ] loss = 1.03967, acc = 0.64774\n",
      "[ Valid | 046/300 ] loss = 1.03967, acc = 0.64774\n"
     ]
    },
    {
     "name": "stderr",
     "output_type": "stream",
     "text": [
      "T: 047/300: 100%|█| 78/78 [00:07<00:00, 11.11it/s, lr=0.000318, b_loss=0.985, b_\n"
     ]
    },
    {
     "name": "stdout",
     "output_type": "stream",
     "text": [
      "[ Train | 047/300 ] loss = 0.94633, acc = 0.67387\n"
     ]
    },
    {
     "name": "stderr",
     "output_type": "stream",
     "text": [
      "V: 047/300: 100%|█████| 26/26 [00:01<00:00, 18.30it/s, v_loss=1.11, v_acc=0.625]\n"
     ]
    },
    {
     "name": "stdout",
     "output_type": "stream",
     "text": [
      "[ Valid | 047/300 ] loss = 1.10746, acc = 0.62453\n",
      "[ Valid | 047/300 ] loss = 1.10746, acc = 0.62453\n"
     ]
    },
    {
     "name": "stderr",
     "output_type": "stream",
     "text": [
      "T: 048/300: 100%|█| 78/78 [00:07<00:00, 11.13it/s, lr=0.000291, b_loss=0.984, b_\n"
     ]
    },
    {
     "name": "stdout",
     "output_type": "stream",
     "text": [
      "[ Train | 048/300 ] loss = 0.92504, acc = 0.68420\n"
     ]
    },
    {
     "name": "stderr",
     "output_type": "stream",
     "text": [
      "V: 048/300: 100%|█████| 26/26 [00:01<00:00, 19.58it/s, v_loss=1.06, v_acc=0.656]\n"
     ]
    },
    {
     "name": "stdout",
     "output_type": "stream",
     "text": [
      "[ Valid | 048/300 ] loss = 1.05653, acc = 0.65555\n",
      "[ Valid | 048/300 ] loss = 1.05653, acc = 0.65555\n"
     ]
    },
    {
     "name": "stderr",
     "output_type": "stream",
     "text": [
      "T: 049/300: 100%|█| 78/78 [00:07<00:00, 10.86it/s, lr=0.000262, b_loss=0.78, b_a\n"
     ]
    },
    {
     "name": "stdout",
     "output_type": "stream",
     "text": [
      "[ Train | 049/300 ] loss = 0.88647, acc = 0.68917\n"
     ]
    },
    {
     "name": "stderr",
     "output_type": "stream",
     "text": [
      "V: 049/300: 100%|█████| 26/26 [00:01<00:00, 19.19it/s, v_loss=1.05, v_acc=0.653]\n"
     ]
    },
    {
     "name": "stdout",
     "output_type": "stream",
     "text": [
      "[ Valid | 049/300 ] loss = 1.04893, acc = 0.65257\n",
      "[ Valid | 049/300 ] loss = 1.04893, acc = 0.65257\n"
     ]
    },
    {
     "name": "stderr",
     "output_type": "stream",
     "text": [
      "T: 050/300: 100%|█| 78/78 [00:07<00:00, 11.06it/s, lr=0.000231, b_loss=0.757, b_\n"
     ]
    },
    {
     "name": "stdout",
     "output_type": "stream",
     "text": [
      "[ Train | 050/300 ] loss = 0.85606, acc = 0.70898\n"
     ]
    },
    {
     "name": "stderr",
     "output_type": "stream",
     "text": [
      "V: 050/300: 100%|██████| 26/26 [00:01<00:00, 19.27it/s, v_loss=0.905, v_acc=0.7]\n"
     ]
    },
    {
     "name": "stdout",
     "output_type": "stream",
     "text": [
      "[ Valid | 050/300 ] loss = 0.90497, acc = 0.70041\n",
      "[ Valid | 050/300 ] loss = 0.90497, acc = 0.70041\n"
     ]
    },
    {
     "name": "stderr",
     "output_type": "stream",
     "text": [
      "T: 051/300: 100%|█| 78/78 [00:06<00:00, 11.29it/s, lr=0.0002, b_loss=0.957, b_ac\n"
     ]
    },
    {
     "name": "stdout",
     "output_type": "stream",
     "text": [
      "[ Train | 051/300 ] loss = 0.83461, acc = 0.71135\n"
     ]
    },
    {
     "name": "stderr",
     "output_type": "stream",
     "text": [
      "V: 051/300: 100%|█████| 26/26 [00:01<00:00, 18.86it/s, v_loss=1.01, v_acc=0.673]\n"
     ]
    },
    {
     "name": "stdout",
     "output_type": "stream",
     "text": [
      "[ Valid | 051/300 ] loss = 1.01390, acc = 0.67324\n",
      "[ Valid | 051/300 ] loss = 1.01390, acc = 0.67324\n"
     ]
    },
    {
     "name": "stderr",
     "output_type": "stream",
     "text": [
      "T: 052/300: 100%|█| 78/78 [00:06<00:00, 11.31it/s, lr=0.000169, b_loss=0.905, b_\n"
     ]
    },
    {
     "name": "stdout",
     "output_type": "stream",
     "text": [
      "[ Train | 052/300 ] loss = 0.80913, acc = 0.71981\n"
     ]
    },
    {
     "name": "stderr",
     "output_type": "stream",
     "text": [
      "V: 052/300: 100%|████| 26/26 [00:01<00:00, 16.55it/s, v_loss=0.889, v_acc=0.703]\n"
     ]
    },
    {
     "name": "stdout",
     "output_type": "stream",
     "text": [
      "[ Valid | 052/300 ] loss = 0.88882, acc = 0.70301\n",
      "[ Valid | 052/300 ] loss = 0.88882, acc = 0.70301\n"
     ]
    },
    {
     "name": "stderr",
     "output_type": "stream",
     "text": [
      "T: 053/300: 100%|█| 78/78 [00:07<00:00, 11.08it/s, lr=0.000138, b_loss=0.74, b_a\n"
     ]
    },
    {
     "name": "stdout",
     "output_type": "stream",
     "text": [
      "[ Train | 053/300 ] loss = 0.77846, acc = 0.72684\n"
     ]
    },
    {
     "name": "stderr",
     "output_type": "stream",
     "text": [
      "V: 053/300: 100%|████| 26/26 [00:01<00:00, 19.04it/s, v_loss=0.899, v_acc=0.703]\n"
     ]
    },
    {
     "name": "stdout",
     "output_type": "stream",
     "text": [
      "[ Valid | 053/300 ] loss = 0.89898, acc = 0.70303\n",
      "[ Valid | 053/300 ] loss = 0.89898, acc = 0.70303\n"
     ]
    },
    {
     "name": "stderr",
     "output_type": "stream",
     "text": [
      "T: 054/300: 100%|█| 78/78 [00:07<00:00, 11.14it/s, lr=0.000109, b_loss=0.702, b_\n"
     ]
    },
    {
     "name": "stdout",
     "output_type": "stream",
     "text": [
      "[ Train | 054/300 ] loss = 0.75601, acc = 0.73880\n"
     ]
    },
    {
     "name": "stderr",
     "output_type": "stream",
     "text": [
      "V: 054/300: 100%|████| 26/26 [00:01<00:00, 19.06it/s, v_loss=0.826, v_acc=0.728]\n"
     ]
    },
    {
     "name": "stdout",
     "output_type": "stream",
     "text": [
      "[ Valid | 054/300 ] loss = 0.82612, acc = 0.72838\n",
      "[ Valid | 054/300 ] loss = 0.82612, acc = 0.72838 -> best\n",
      "Best model found at fold 2 epoch 54, acc=0.72838, saving model\n"
     ]
    },
    {
     "name": "stderr",
     "output_type": "stream",
     "text": [
      "T: 055/300: 100%|█| 78/78 [00:06<00:00, 11.41it/s, lr=8.24e-5, b_loss=0.856, b_a\n"
     ]
    },
    {
     "name": "stdout",
     "output_type": "stream",
     "text": [
      "[ Train | 055/300 ] loss = 0.72509, acc = 0.75057\n"
     ]
    },
    {
     "name": "stderr",
     "output_type": "stream",
     "text": [
      "V: 055/300: 100%|████| 26/26 [00:01<00:00, 19.00it/s, v_loss=0.824, v_acc=0.733]\n"
     ]
    },
    {
     "name": "stdout",
     "output_type": "stream",
     "text": [
      "[ Valid | 055/300 ] loss = 0.82406, acc = 0.73313\n",
      "[ Valid | 055/300 ] loss = 0.82406, acc = 0.73313 -> best\n",
      "Best model found at fold 2 epoch 55, acc=0.73313, saving model\n"
     ]
    },
    {
     "name": "stderr",
     "output_type": "stream",
     "text": [
      "T: 056/300: 100%|█| 78/78 [00:07<00:00, 11.11it/s, lr=5.86e-5, b_loss=0.765, b_a\n"
     ]
    },
    {
     "name": "stdout",
     "output_type": "stream",
     "text": [
      "[ Train | 056/300 ] loss = 0.70790, acc = 0.75626\n"
     ]
    },
    {
     "name": "stderr",
     "output_type": "stream",
     "text": [
      "V: 056/300: 100%|████| 26/26 [00:01<00:00, 18.41it/s, v_loss=0.812, v_acc=0.732]\n"
     ]
    },
    {
     "name": "stdout",
     "output_type": "stream",
     "text": [
      "[ Valid | 056/300 ] loss = 0.81187, acc = 0.73218\n",
      "[ Valid | 056/300 ] loss = 0.81187, acc = 0.73218\n"
     ]
    },
    {
     "name": "stderr",
     "output_type": "stream",
     "text": [
      "T: 057/300: 100%|█| 78/78 [00:06<00:00, 11.35it/s, lr=3.82e-5, b_loss=0.686, b_a\n"
     ]
    },
    {
     "name": "stdout",
     "output_type": "stream",
     "text": [
      "[ Train | 057/300 ] loss = 0.69059, acc = 0.76403\n"
     ]
    },
    {
     "name": "stderr",
     "output_type": "stream",
     "text": [
      "V: 057/300: 100%|████| 26/26 [00:01<00:00, 17.64it/s, v_loss=0.784, v_acc=0.747]\n"
     ]
    },
    {
     "name": "stdout",
     "output_type": "stream",
     "text": [
      "[ Valid | 057/300 ] loss = 0.78437, acc = 0.74732\n",
      "[ Valid | 057/300 ] loss = 0.78437, acc = 0.74732 -> best\n",
      "Best model found at fold 2 epoch 57, acc=0.74732, saving model\n"
     ]
    },
    {
     "name": "stderr",
     "output_type": "stream",
     "text": [
      "T: 058/300: 100%|█| 78/78 [00:06<00:00, 11.23it/s, lr=2.18e-5, b_loss=0.437, b_a\n"
     ]
    },
    {
     "name": "stdout",
     "output_type": "stream",
     "text": [
      "[ Train | 058/300 ] loss = 0.67413, acc = 0.76757\n"
     ]
    },
    {
     "name": "stderr",
     "output_type": "stream",
     "text": [
      "V: 058/300: 100%|█████| 26/26 [00:01<00:00, 18.05it/s, v_loss=0.78, v_acc=0.749]\n"
     ]
    },
    {
     "name": "stdout",
     "output_type": "stream",
     "text": [
      "[ Valid | 058/300 ] loss = 0.77966, acc = 0.74937\n",
      "[ Valid | 058/300 ] loss = 0.77966, acc = 0.74937 -> best\n",
      "Best model found at fold 2 epoch 58, acc=0.74937, saving model\n"
     ]
    },
    {
     "name": "stderr",
     "output_type": "stream",
     "text": [
      "T: 059/300: 100%|█| 78/78 [00:07<00:00, 11.09it/s, lr=9.79e-6, b_loss=0.601, b_a\n"
     ]
    },
    {
     "name": "stdout",
     "output_type": "stream",
     "text": [
      "[ Train | 059/300 ] loss = 0.66479, acc = 0.77177\n"
     ]
    },
    {
     "name": "stderr",
     "output_type": "stream",
     "text": [
      "V: 059/300: 100%|█████| 26/26 [00:01<00:00, 16.90it/s, v_loss=0.774, v_acc=0.75]\n"
     ]
    },
    {
     "name": "stdout",
     "output_type": "stream",
     "text": [
      "[ Valid | 059/300 ] loss = 0.77444, acc = 0.75006\n",
      "[ Valid | 059/300 ] loss = 0.77444, acc = 0.75006 -> best\n",
      "Best model found at fold 2 epoch 59, acc=0.75006, saving model\n"
     ]
    },
    {
     "name": "stderr",
     "output_type": "stream",
     "text": [
      "T: 060/300: 100%|█| 78/78 [00:07<00:00, 11.01it/s, lr=2.46e-6, b_loss=0.617, b_a\n"
     ]
    },
    {
     "name": "stdout",
     "output_type": "stream",
     "text": [
      "[ Train | 060/300 ] loss = 0.66114, acc = 0.77097\n"
     ]
    },
    {
     "name": "stderr",
     "output_type": "stream",
     "text": [
      "V: 060/300: 100%|█████| 26/26 [00:01<00:00, 16.30it/s, v_loss=0.774, v_acc=0.75]\n"
     ]
    },
    {
     "name": "stdout",
     "output_type": "stream",
     "text": [
      "[ Valid | 060/300 ] loss = 0.77356, acc = 0.75026\n",
      "[ Valid | 060/300 ] loss = 0.77356, acc = 0.75026 -> best\n",
      "Best model found at fold 2 epoch 60, acc=0.75026, saving model\n"
     ]
    },
    {
     "name": "stderr",
     "output_type": "stream",
     "text": [
      "T: 061/300: 100%|█| 78/78 [00:07<00:00, 11.02it/s, lr=0.0004, b_loss=0.916, b_ac\n"
     ]
    },
    {
     "name": "stdout",
     "output_type": "stream",
     "text": [
      "[ Train | 061/300 ] loss = 0.92621, acc = 0.68133\n"
     ]
    },
    {
     "name": "stderr",
     "output_type": "stream",
     "text": [
      "V: 061/300: 100%|█████| 26/26 [00:01<00:00, 18.27it/s, v_loss=1.15, v_acc=0.618]\n"
     ]
    },
    {
     "name": "stdout",
     "output_type": "stream",
     "text": [
      "[ Valid | 061/300 ] loss = 1.14656, acc = 0.61825\n",
      "[ Valid | 061/300 ] loss = 1.14656, acc = 0.61825\n"
     ]
    },
    {
     "name": "stderr",
     "output_type": "stream",
     "text": [
      "T: 062/300: 100%|█| 78/78 [00:06<00:00, 11.20it/s, lr=0.000398, b_loss=0.955, b_\n"
     ]
    },
    {
     "name": "stdout",
     "output_type": "stream",
     "text": [
      "[ Train | 062/300 ] loss = 0.91583, acc = 0.67994\n"
     ]
    },
    {
     "name": "stderr",
     "output_type": "stream",
     "text": [
      "V: 062/300: 100%|█████| 26/26 [00:01<00:00, 16.82it/s, v_loss=1.16, v_acc=0.623]\n"
     ]
    },
    {
     "name": "stdout",
     "output_type": "stream",
     "text": [
      "[ Valid | 062/300 ] loss = 1.15901, acc = 0.62275\n",
      "[ Valid | 062/300 ] loss = 1.15901, acc = 0.62275\n"
     ]
    },
    {
     "name": "stderr",
     "output_type": "stream",
     "text": [
      "T: 063/300: 100%|█| 78/78 [00:07<00:00, 11.01it/s, lr=0.00039, b_loss=1.05, b_ac\n"
     ]
    },
    {
     "name": "stdout",
     "output_type": "stream",
     "text": [
      "[ Train | 063/300 ] loss = 0.90161, acc = 0.68792\n"
     ]
    },
    {
     "name": "stderr",
     "output_type": "stream",
     "text": [
      "V: 063/300: 100%|█████| 26/26 [00:01<00:00, 18.20it/s, v_loss=1.21, v_acc=0.616]\n"
     ]
    },
    {
     "name": "stdout",
     "output_type": "stream",
     "text": [
      "[ Valid | 063/300 ] loss = 1.20515, acc = 0.61609\n",
      "[ Valid | 063/300 ] loss = 1.20515, acc = 0.61609\n"
     ]
    },
    {
     "name": "stderr",
     "output_type": "stream",
     "text": [
      "T: 064/300: 100%|█| 78/78 [00:07<00:00, 11.07it/s, lr=0.000378, b_loss=1.11, b_a\n"
     ]
    },
    {
     "name": "stdout",
     "output_type": "stream",
     "text": [
      "[ Train | 064/300 ] loss = 0.87310, acc = 0.69598\n"
     ]
    },
    {
     "name": "stderr",
     "output_type": "stream",
     "text": [
      "V: 064/300: 100%|█████| 26/26 [00:01<00:00, 17.84it/s, v_loss=1.19, v_acc=0.605]\n"
     ]
    },
    {
     "name": "stdout",
     "output_type": "stream",
     "text": [
      "[ Valid | 064/300 ] loss = 1.18834, acc = 0.60472\n",
      "[ Valid | 064/300 ] loss = 1.18834, acc = 0.60472\n"
     ]
    },
    {
     "name": "stderr",
     "output_type": "stream",
     "text": [
      "T: 065/300: 100%|█| 78/78 [00:06<00:00, 11.38it/s, lr=0.000362, b_loss=0.755, b_\n"
     ]
    },
    {
     "name": "stdout",
     "output_type": "stream",
     "text": [
      "[ Train | 065/300 ] loss = 0.84027, acc = 0.71122\n"
     ]
    },
    {
     "name": "stderr",
     "output_type": "stream",
     "text": [
      "V: 065/300: 100%|█████| 26/26 [00:01<00:00, 17.36it/s, v_loss=1.03, v_acc=0.656]\n"
     ]
    },
    {
     "name": "stdout",
     "output_type": "stream",
     "text": [
      "[ Valid | 065/300 ] loss = 1.02822, acc = 0.65616\n",
      "[ Valid | 065/300 ] loss = 1.02822, acc = 0.65616\n"
     ]
    },
    {
     "name": "stderr",
     "output_type": "stream",
     "text": [
      "T: 066/300: 100%|█| 78/78 [00:07<00:00, 11.02it/s, lr=0.000341, b_loss=0.785, b_\n"
     ]
    },
    {
     "name": "stdout",
     "output_type": "stream",
     "text": [
      "[ Train | 066/300 ] loss = 0.81411, acc = 0.71853\n"
     ]
    },
    {
     "name": "stderr",
     "output_type": "stream",
     "text": [
      "V: 066/300: 100%|████| 26/26 [00:01<00:00, 18.84it/s, v_loss=0.973, v_acc=0.681]\n"
     ]
    },
    {
     "name": "stdout",
     "output_type": "stream",
     "text": [
      "[ Valid | 066/300 ] loss = 0.97271, acc = 0.68076\n",
      "[ Valid | 066/300 ] loss = 0.97271, acc = 0.68076\n"
     ]
    },
    {
     "name": "stderr",
     "output_type": "stream",
     "text": [
      "T: 067/300: 100%|█| 78/78 [00:07<00:00, 10.99it/s, lr=0.000318, b_loss=0.824, b_\n"
     ]
    },
    {
     "name": "stdout",
     "output_type": "stream",
     "text": [
      "[ Train | 067/300 ] loss = 0.81023, acc = 0.71868\n"
     ]
    },
    {
     "name": "stderr",
     "output_type": "stream",
     "text": [
      "V: 067/300: 100%|█████| 26/26 [00:01<00:00, 19.08it/s, v_loss=1.02, v_acc=0.672]\n"
     ]
    },
    {
     "name": "stdout",
     "output_type": "stream",
     "text": [
      "[ Valid | 067/300 ] loss = 1.01802, acc = 0.67246\n",
      "[ Valid | 067/300 ] loss = 1.01802, acc = 0.67246\n"
     ]
    },
    {
     "name": "stderr",
     "output_type": "stream",
     "text": [
      "T: 068/300: 100%|█| 78/78 [00:07<00:00, 11.11it/s, lr=0.000291, b_loss=0.837, b_\n"
     ]
    },
    {
     "name": "stdout",
     "output_type": "stream",
     "text": [
      "[ Train | 068/300 ] loss = 0.77415, acc = 0.72997\n"
     ]
    },
    {
     "name": "stderr",
     "output_type": "stream",
     "text": [
      "V: 068/300: 100%|██████| 26/26 [00:01<00:00, 19.10it/s, v_loss=1.04, v_acc=0.67]\n"
     ]
    },
    {
     "name": "stdout",
     "output_type": "stream",
     "text": [
      "[ Valid | 068/300 ] loss = 1.03716, acc = 0.66976\n",
      "[ Valid | 068/300 ] loss = 1.03716, acc = 0.66976\n"
     ]
    },
    {
     "name": "stderr",
     "output_type": "stream",
     "text": [
      "T: 069/300: 100%|█| 78/78 [00:07<00:00, 11.03it/s, lr=0.000262, b_loss=0.734, b_\n"
     ]
    },
    {
     "name": "stdout",
     "output_type": "stream",
     "text": [
      "[ Train | 069/300 ] loss = 0.76028, acc = 0.74018\n"
     ]
    },
    {
     "name": "stderr",
     "output_type": "stream",
     "text": [
      "V: 069/300: 100%|████| 26/26 [00:01<00:00, 18.57it/s, v_loss=0.933, v_acc=0.694]\n"
     ]
    },
    {
     "name": "stdout",
     "output_type": "stream",
     "text": [
      "[ Valid | 069/300 ] loss = 0.93253, acc = 0.69380\n",
      "[ Valid | 069/300 ] loss = 0.93253, acc = 0.69380\n"
     ]
    },
    {
     "name": "stderr",
     "output_type": "stream",
     "text": [
      "T: 070/300: 100%|█| 78/78 [00:06<00:00, 11.34it/s, lr=0.000231, b_loss=0.57, b_a\n"
     ]
    },
    {
     "name": "stdout",
     "output_type": "stream",
     "text": [
      "[ Train | 070/300 ] loss = 0.73398, acc = 0.74658\n"
     ]
    },
    {
     "name": "stderr",
     "output_type": "stream",
     "text": [
      "V: 070/300: 100%|████| 26/26 [00:01<00:00, 19.09it/s, v_loss=0.905, v_acc=0.706]\n"
     ]
    },
    {
     "name": "stdout",
     "output_type": "stream",
     "text": [
      "[ Valid | 070/300 ] loss = 0.90473, acc = 0.70607\n",
      "[ Valid | 070/300 ] loss = 0.90473, acc = 0.70607\n"
     ]
    },
    {
     "name": "stderr",
     "output_type": "stream",
     "text": [
      "T: 071/300: 100%|█| 78/78 [00:07<00:00, 11.12it/s, lr=0.0002, b_loss=0.704, b_ac\n"
     ]
    },
    {
     "name": "stdout",
     "output_type": "stream",
     "text": [
      "[ Train | 071/300 ] loss = 0.70744, acc = 0.76017\n"
     ]
    },
    {
     "name": "stderr",
     "output_type": "stream",
     "text": [
      "V: 071/300: 100%|████| 26/26 [00:01<00:00, 19.79it/s, v_loss=0.872, v_acc=0.727]\n"
     ]
    },
    {
     "name": "stdout",
     "output_type": "stream",
     "text": [
      "[ Valid | 071/300 ] loss = 0.87193, acc = 0.72711\n",
      "[ Valid | 071/300 ] loss = 0.87193, acc = 0.72711\n"
     ]
    },
    {
     "name": "stderr",
     "output_type": "stream",
     "text": [
      "T: 072/300: 100%|█| 78/78 [00:06<00:00, 11.28it/s, lr=0.000169, b_loss=0.739, b_\n"
     ]
    },
    {
     "name": "stdout",
     "output_type": "stream",
     "text": [
      "[ Train | 072/300 ] loss = 0.68320, acc = 0.75838\n"
     ]
    },
    {
     "name": "stderr",
     "output_type": "stream",
     "text": [
      "V: 072/300: 100%|████| 26/26 [00:01<00:00, 17.51it/s, v_loss=0.841, v_acc=0.725]\n"
     ]
    },
    {
     "name": "stdout",
     "output_type": "stream",
     "text": [
      "[ Valid | 072/300 ] loss = 0.84130, acc = 0.72509\n",
      "[ Valid | 072/300 ] loss = 0.84130, acc = 0.72509\n"
     ]
    },
    {
     "name": "stderr",
     "output_type": "stream",
     "text": [
      "T: 073/300: 100%|█| 78/78 [00:07<00:00, 11.09it/s, lr=0.000138, b_loss=0.677, b_\n"
     ]
    },
    {
     "name": "stdout",
     "output_type": "stream",
     "text": [
      "[ Train | 073/300 ] loss = 0.64865, acc = 0.77687\n"
     ]
    },
    {
     "name": "stderr",
     "output_type": "stream",
     "text": [
      "V: 073/300: 100%|████| 26/26 [00:01<00:00, 19.54it/s, v_loss=0.794, v_acc=0.737]\n"
     ]
    },
    {
     "name": "stdout",
     "output_type": "stream",
     "text": [
      "[ Valid | 073/300 ] loss = 0.79352, acc = 0.73704\n",
      "[ Valid | 073/300 ] loss = 0.79352, acc = 0.73704\n"
     ]
    },
    {
     "name": "stderr",
     "output_type": "stream",
     "text": [
      "T: 074/300: 100%|█| 78/78 [00:07<00:00, 11.06it/s, lr=0.000109, b_loss=0.678, b_\n"
     ]
    },
    {
     "name": "stdout",
     "output_type": "stream",
     "text": [
      "[ Train | 074/300 ] loss = 0.63540, acc = 0.77965\n"
     ]
    },
    {
     "name": "stderr",
     "output_type": "stream",
     "text": [
      "V: 074/300: 100%|████| 26/26 [00:01<00:00, 18.28it/s, v_loss=0.764, v_acc=0.751]\n"
     ]
    },
    {
     "name": "stdout",
     "output_type": "stream",
     "text": [
      "[ Valid | 074/300 ] loss = 0.76444, acc = 0.75063\n",
      "[ Valid | 074/300 ] loss = 0.76444, acc = 0.75063 -> best\n",
      "Best model found at fold 2 epoch 74, acc=0.75063, saving model\n"
     ]
    },
    {
     "name": "stderr",
     "output_type": "stream",
     "text": [
      "T: 075/300: 100%|█| 78/78 [00:06<00:00, 11.35it/s, lr=8.24e-5, b_loss=0.699, b_a\n"
     ]
    },
    {
     "name": "stdout",
     "output_type": "stream",
     "text": [
      "[ Train | 075/300 ] loss = 0.60086, acc = 0.79013\n"
     ]
    },
    {
     "name": "stderr",
     "output_type": "stream",
     "text": [
      "V: 075/300: 100%|████| 26/26 [00:01<00:00, 18.24it/s, v_loss=0.776, v_acc=0.751]\n"
     ]
    },
    {
     "name": "stdout",
     "output_type": "stream",
     "text": [
      "[ Valid | 075/300 ] loss = 0.77642, acc = 0.75095\n",
      "[ Valid | 075/300 ] loss = 0.77642, acc = 0.75095 -> best\n",
      "Best model found at fold 2 epoch 75, acc=0.75095, saving model\n"
     ]
    },
    {
     "name": "stderr",
     "output_type": "stream",
     "text": [
      "T: 076/300: 100%|█| 78/78 [00:07<00:00, 11.04it/s, lr=5.86e-5, b_loss=0.659, b_a\n"
     ]
    },
    {
     "name": "stdout",
     "output_type": "stream",
     "text": [
      "[ Train | 076/300 ] loss = 0.59685, acc = 0.79660\n"
     ]
    },
    {
     "name": "stderr",
     "output_type": "stream",
     "text": [
      "V: 076/300: 100%|█████| 26/26 [00:01<00:00, 17.79it/s, v_loss=0.773, v_acc=0.75]\n"
     ]
    },
    {
     "name": "stdout",
     "output_type": "stream",
     "text": [
      "[ Valid | 076/300 ] loss = 0.77348, acc = 0.75027\n",
      "[ Valid | 076/300 ] loss = 0.77348, acc = 0.75027\n"
     ]
    },
    {
     "name": "stderr",
     "output_type": "stream",
     "text": [
      "T: 077/300: 100%|█| 78/78 [00:07<00:00, 10.95it/s, lr=3.82e-5, b_loss=0.65, b_ac\n"
     ]
    },
    {
     "name": "stdout",
     "output_type": "stream",
     "text": [
      "[ Train | 077/300 ] loss = 0.57504, acc = 0.79793\n"
     ]
    },
    {
     "name": "stderr",
     "output_type": "stream",
     "text": [
      "V: 077/300: 100%|████| 26/26 [00:01<00:00, 18.01it/s, v_loss=0.759, v_acc=0.758]\n"
     ]
    },
    {
     "name": "stdout",
     "output_type": "stream",
     "text": [
      "[ Valid | 077/300 ] loss = 0.75883, acc = 0.75809\n",
      "[ Valid | 077/300 ] loss = 0.75883, acc = 0.75809 -> best\n",
      "Best model found at fold 2 epoch 77, acc=0.75809, saving model\n"
     ]
    },
    {
     "name": "stderr",
     "output_type": "stream",
     "text": [
      "T: 078/300: 100%|█| 78/78 [00:07<00:00, 11.06it/s, lr=2.18e-5, b_loss=0.455, b_a\n"
     ]
    },
    {
     "name": "stdout",
     "output_type": "stream",
     "text": [
      "[ Train | 078/300 ] loss = 0.56005, acc = 0.80689\n"
     ]
    },
    {
     "name": "stderr",
     "output_type": "stream",
     "text": [
      "V: 078/300: 100%|████| 26/26 [00:01<00:00, 19.51it/s, v_loss=0.745, v_acc=0.761]\n"
     ]
    },
    {
     "name": "stdout",
     "output_type": "stream",
     "text": [
      "[ Valid | 078/300 ] loss = 0.74492, acc = 0.76116\n",
      "[ Valid | 078/300 ] loss = 0.74492, acc = 0.76116 -> best\n",
      "Best model found at fold 2 epoch 78, acc=0.76116, saving model\n"
     ]
    },
    {
     "name": "stderr",
     "output_type": "stream",
     "text": [
      "T: 079/300: 100%|█| 78/78 [00:07<00:00, 11.06it/s, lr=9.79e-6, b_loss=0.685, b_a\n"
     ]
    },
    {
     "name": "stdout",
     "output_type": "stream",
     "text": [
      "[ Train | 079/300 ] loss = 0.55661, acc = 0.80727\n"
     ]
    },
    {
     "name": "stderr",
     "output_type": "stream",
     "text": [
      "V: 079/300: 100%|████| 26/26 [00:01<00:00, 18.71it/s, v_loss=0.735, v_acc=0.768]\n"
     ]
    },
    {
     "name": "stdout",
     "output_type": "stream",
     "text": [
      "[ Valid | 079/300 ] loss = 0.73492, acc = 0.76774\n",
      "[ Valid | 079/300 ] loss = 0.73492, acc = 0.76774 -> best\n",
      "Best model found at fold 2 epoch 79, acc=0.76774, saving model\n"
     ]
    },
    {
     "name": "stderr",
     "output_type": "stream",
     "text": [
      "T: 080/300: 100%|█| 78/78 [00:07<00:00, 10.94it/s, lr=2.46e-6, b_loss=0.441, b_a\n"
     ]
    },
    {
     "name": "stdout",
     "output_type": "stream",
     "text": [
      "[ Train | 080/300 ] loss = 0.55118, acc = 0.81326\n"
     ]
    },
    {
     "name": "stderr",
     "output_type": "stream",
     "text": [
      "V: 080/300: 100%|█████| 26/26 [00:01<00:00, 19.68it/s, v_loss=0.73, v_acc=0.765]\n"
     ]
    },
    {
     "name": "stdout",
     "output_type": "stream",
     "text": [
      "[ Valid | 080/300 ] loss = 0.72970, acc = 0.76504\n",
      "[ Valid | 080/300 ] loss = 0.72970, acc = 0.76504\n"
     ]
    },
    {
     "name": "stderr",
     "output_type": "stream",
     "text": [
      "T: 081/300: 100%|█| 78/78 [00:07<00:00, 10.79it/s, lr=0.0004, b_loss=0.808, b_ac\n"
     ]
    },
    {
     "name": "stdout",
     "output_type": "stream",
     "text": [
      "[ Train | 081/300 ] loss = 0.78392, acc = 0.73311\n"
     ]
    },
    {
     "name": "stderr",
     "output_type": "stream",
     "text": [
      "V: 081/300: 100%|██████| 26/26 [00:01<00:00, 17.48it/s, v_loss=1.02, v_acc=0.67]\n"
     ]
    },
    {
     "name": "stdout",
     "output_type": "stream",
     "text": [
      "[ Valid | 081/300 ] loss = 1.02198, acc = 0.66984\n",
      "[ Valid | 081/300 ] loss = 1.02198, acc = 0.66984\n"
     ]
    },
    {
     "name": "stderr",
     "output_type": "stream",
     "text": [
      "T: 082/300: 100%|█| 78/78 [00:07<00:00, 11.00it/s, lr=0.000398, b_loss=0.832, b_\n"
     ]
    },
    {
     "name": "stdout",
     "output_type": "stream",
     "text": [
      "[ Train | 082/300 ] loss = 0.80056, acc = 0.72238\n"
     ]
    },
    {
     "name": "stderr",
     "output_type": "stream",
     "text": [
      "V: 082/300: 100%|████| 26/26 [00:01<00:00, 18.98it/s, v_loss=0.965, v_acc=0.692]\n"
     ]
    },
    {
     "name": "stdout",
     "output_type": "stream",
     "text": [
      "[ Valid | 082/300 ] loss = 0.96518, acc = 0.69163\n",
      "[ Valid | 082/300 ] loss = 0.96518, acc = 0.69163\n"
     ]
    },
    {
     "name": "stderr",
     "output_type": "stream",
     "text": [
      "T: 083/300: 100%|█| 78/78 [00:07<00:00, 10.97it/s, lr=0.00039, b_loss=0.696, b_a\n"
     ]
    },
    {
     "name": "stdout",
     "output_type": "stream",
     "text": [
      "[ Train | 083/300 ] loss = 0.77734, acc = 0.72996\n"
     ]
    },
    {
     "name": "stderr",
     "output_type": "stream",
     "text": [
      "V: 083/300: 100%|████| 26/26 [00:01<00:00, 16.82it/s, v_loss=0.891, v_acc=0.702]\n"
     ]
    },
    {
     "name": "stdout",
     "output_type": "stream",
     "text": [
      "[ Valid | 083/300 ] loss = 0.89147, acc = 0.70218\n",
      "[ Valid | 083/300 ] loss = 0.89147, acc = 0.70218\n"
     ]
    },
    {
     "name": "stderr",
     "output_type": "stream",
     "text": [
      "T: 084/300: 100%|█| 78/78 [00:07<00:00, 11.03it/s, lr=0.000378, b_loss=0.669, b_\n"
     ]
    },
    {
     "name": "stdout",
     "output_type": "stream",
     "text": [
      "[ Train | 084/300 ] loss = 0.76883, acc = 0.73078\n"
     ]
    },
    {
     "name": "stderr",
     "output_type": "stream",
     "text": [
      "V: 084/300: 100%|████| 26/26 [00:01<00:00, 17.21it/s, v_loss=0.978, v_acc=0.683]\n"
     ]
    },
    {
     "name": "stdout",
     "output_type": "stream",
     "text": [
      "[ Valid | 084/300 ] loss = 0.97778, acc = 0.68269\n",
      "[ Valid | 084/300 ] loss = 0.97778, acc = 0.68269\n"
     ]
    },
    {
     "name": "stderr",
     "output_type": "stream",
     "text": [
      "T: 085/300: 100%|█| 78/78 [00:06<00:00, 11.19it/s, lr=0.000362, b_loss=0.691, b_\n"
     ]
    },
    {
     "name": "stdout",
     "output_type": "stream",
     "text": [
      "[ Train | 085/300 ] loss = 0.74088, acc = 0.74445\n"
     ]
    },
    {
     "name": "stderr",
     "output_type": "stream",
     "text": [
      "V: 085/300: 100%|█████| 26/26 [00:01<00:00, 19.11it/s, v_loss=1.01, v_acc=0.665]\n"
     ]
    },
    {
     "name": "stdout",
     "output_type": "stream",
     "text": [
      "[ Valid | 085/300 ] loss = 1.01482, acc = 0.66517\n",
      "[ Valid | 085/300 ] loss = 1.01482, acc = 0.66517\n"
     ]
    },
    {
     "name": "stderr",
     "output_type": "stream",
     "text": [
      "T: 086/300: 100%|█| 78/78 [00:07<00:00, 11.10it/s, lr=0.000341, b_loss=0.677, b_\n"
     ]
    },
    {
     "name": "stdout",
     "output_type": "stream",
     "text": [
      "[ Train | 086/300 ] loss = 0.72214, acc = 0.74867\n"
     ]
    },
    {
     "name": "stderr",
     "output_type": "stream",
     "text": [
      "V: 086/300: 100%|████| 26/26 [00:01<00:00, 17.43it/s, v_loss=0.892, v_acc=0.713]\n"
     ]
    },
    {
     "name": "stdout",
     "output_type": "stream",
     "text": [
      "[ Valid | 086/300 ] loss = 0.89218, acc = 0.71272\n",
      "[ Valid | 086/300 ] loss = 0.89218, acc = 0.71272\n"
     ]
    },
    {
     "name": "stderr",
     "output_type": "stream",
     "text": [
      "T: 087/300: 100%|█| 78/78 [00:07<00:00, 11.09it/s, lr=0.000318, b_loss=0.728, b_\n"
     ]
    },
    {
     "name": "stdout",
     "output_type": "stream",
     "text": [
      "[ Train | 087/300 ] loss = 0.72426, acc = 0.75108\n"
     ]
    },
    {
     "name": "stderr",
     "output_type": "stream",
     "text": [
      "V: 087/300: 100%|████| 26/26 [00:01<00:00, 17.96it/s, v_loss=0.985, v_acc=0.689]\n"
     ]
    },
    {
     "name": "stdout",
     "output_type": "stream",
     "text": [
      "[ Valid | 087/300 ] loss = 0.98538, acc = 0.68892\n",
      "[ Valid | 087/300 ] loss = 0.98538, acc = 0.68892\n"
     ]
    },
    {
     "name": "stderr",
     "output_type": "stream",
     "text": [
      "T: 088/300: 100%|█| 78/78 [00:07<00:00, 10.72it/s, lr=0.000291, b_loss=0.628, b_\n"
     ]
    },
    {
     "name": "stdout",
     "output_type": "stream",
     "text": [
      "[ Train | 088/300 ] loss = 0.68116, acc = 0.76223\n"
     ]
    },
    {
     "name": "stderr",
     "output_type": "stream",
     "text": [
      "V: 088/300: 100%|████| 26/26 [00:01<00:00, 20.75it/s, v_loss=0.889, v_acc=0.707]\n"
     ]
    },
    {
     "name": "stdout",
     "output_type": "stream",
     "text": [
      "[ Valid | 088/300 ] loss = 0.88926, acc = 0.70667\n",
      "[ Valid | 088/300 ] loss = 0.88926, acc = 0.70667\n"
     ]
    },
    {
     "name": "stderr",
     "output_type": "stream",
     "text": [
      "T: 089/300: 100%|█| 78/78 [00:06<00:00, 11.18it/s, lr=0.000262, b_loss=0.637, b_\n"
     ]
    },
    {
     "name": "stdout",
     "output_type": "stream",
     "text": [
      "[ Train | 089/300 ] loss = 0.66956, acc = 0.76774\n"
     ]
    },
    {
     "name": "stderr",
     "output_type": "stream",
     "text": [
      "V: 089/300: 100%|████| 26/26 [00:01<00:00, 17.86it/s, v_loss=0.814, v_acc=0.733]\n"
     ]
    },
    {
     "name": "stdout",
     "output_type": "stream",
     "text": [
      "[ Valid | 089/300 ] loss = 0.81377, acc = 0.73345\n",
      "[ Valid | 089/300 ] loss = 0.81377, acc = 0.73345\n"
     ]
    },
    {
     "name": "stderr",
     "output_type": "stream",
     "text": [
      "T: 090/300: 100%|█| 78/78 [00:07<00:00, 10.84it/s, lr=0.000231, b_loss=0.624, b_\n"
     ]
    },
    {
     "name": "stdout",
     "output_type": "stream",
     "text": [
      "[ Train | 090/300 ] loss = 0.62983, acc = 0.78428\n"
     ]
    },
    {
     "name": "stderr",
     "output_type": "stream",
     "text": [
      "V: 090/300: 100%|█████| 26/26 [00:01<00:00, 17.58it/s, v_loss=0.86, v_acc=0.723]\n"
     ]
    },
    {
     "name": "stdout",
     "output_type": "stream",
     "text": [
      "[ Valid | 090/300 ] loss = 0.85956, acc = 0.72263\n",
      "[ Valid | 090/300 ] loss = 0.85956, acc = 0.72263\n"
     ]
    },
    {
     "name": "stderr",
     "output_type": "stream",
     "text": [
      "T: 091/300: 100%|█| 78/78 [00:06<00:00, 11.15it/s, lr=0.0002, b_loss=0.742, b_ac\n"
     ]
    },
    {
     "name": "stdout",
     "output_type": "stream",
     "text": [
      "[ Train | 091/300 ] loss = 0.61202, acc = 0.78678\n"
     ]
    },
    {
     "name": "stderr",
     "output_type": "stream",
     "text": [
      "V: 091/300: 100%|█████| 26/26 [00:01<00:00, 19.09it/s, v_loss=0.851, v_acc=0.73]\n"
     ]
    },
    {
     "name": "stdout",
     "output_type": "stream",
     "text": [
      "[ Valid | 091/300 ] loss = 0.85059, acc = 0.73034\n",
      "[ Valid | 091/300 ] loss = 0.85059, acc = 0.73034\n"
     ]
    },
    {
     "name": "stderr",
     "output_type": "stream",
     "text": [
      "T: 092/300: 100%|█| 78/78 [00:06<00:00, 11.20it/s, lr=0.000169, b_loss=0.58, b_a\n"
     ]
    },
    {
     "name": "stdout",
     "output_type": "stream",
     "text": [
      "[ Train | 092/300 ] loss = 0.58698, acc = 0.80053\n"
     ]
    },
    {
     "name": "stderr",
     "output_type": "stream",
     "text": [
      "V: 092/300: 100%|████| 26/26 [00:01<00:00, 19.52it/s, v_loss=0.779, v_acc=0.754]\n"
     ]
    },
    {
     "name": "stdout",
     "output_type": "stream",
     "text": [
      "[ Valid | 092/300 ] loss = 0.77913, acc = 0.75412\n",
      "[ Valid | 092/300 ] loss = 0.77913, acc = 0.75412\n"
     ]
    },
    {
     "name": "stderr",
     "output_type": "stream",
     "text": [
      "T: 093/300: 100%|█| 78/78 [00:06<00:00, 11.38it/s, lr=0.000138, b_loss=0.625, b_\n"
     ]
    },
    {
     "name": "stdout",
     "output_type": "stream",
     "text": [
      "[ Train | 093/300 ] loss = 0.55010, acc = 0.81282\n"
     ]
    },
    {
     "name": "stderr",
     "output_type": "stream",
     "text": [
      "V: 093/300: 100%|████| 26/26 [00:01<00:00, 18.38it/s, v_loss=0.758, v_acc=0.755]\n"
     ]
    },
    {
     "name": "stdout",
     "output_type": "stream",
     "text": [
      "[ Valid | 093/300 ] loss = 0.75812, acc = 0.75514\n",
      "[ Valid | 093/300 ] loss = 0.75812, acc = 0.75514\n"
     ]
    },
    {
     "name": "stderr",
     "output_type": "stream",
     "text": [
      "T: 094/300: 100%|█| 78/78 [00:07<00:00, 11.04it/s, lr=0.000109, b_loss=0.631, b_\n"
     ]
    },
    {
     "name": "stdout",
     "output_type": "stream",
     "text": [
      "[ Train | 094/300 ] loss = 0.53940, acc = 0.81072\n"
     ]
    },
    {
     "name": "stderr",
     "output_type": "stream",
     "text": [
      "V: 094/300: 100%|████| 26/26 [00:01<00:00, 18.95it/s, v_loss=0.815, v_acc=0.745]\n"
     ]
    },
    {
     "name": "stdout",
     "output_type": "stream",
     "text": [
      "[ Valid | 094/300 ] loss = 0.81516, acc = 0.74487\n",
      "[ Valid | 094/300 ] loss = 0.81516, acc = 0.74487\n"
     ]
    },
    {
     "name": "stderr",
     "output_type": "stream",
     "text": [
      "T: 095/300: 100%|█| 78/78 [00:07<00:00, 11.11it/s, lr=8.24e-5, b_loss=0.547, b_a\n"
     ]
    },
    {
     "name": "stdout",
     "output_type": "stream",
     "text": [
      "[ Train | 095/300 ] loss = 0.51775, acc = 0.82017\n"
     ]
    },
    {
     "name": "stderr",
     "output_type": "stream",
     "text": [
      "V: 095/300: 100%|████| 26/26 [00:01<00:00, 18.01it/s, v_loss=0.735, v_acc=0.768]\n"
     ]
    },
    {
     "name": "stdout",
     "output_type": "stream",
     "text": [
      "[ Valid | 095/300 ] loss = 0.73464, acc = 0.76777\n",
      "[ Valid | 095/300 ] loss = 0.73464, acc = 0.76777 -> best\n",
      "Best model found at fold 2 epoch 95, acc=0.76777, saving model\n"
     ]
    },
    {
     "name": "stderr",
     "output_type": "stream",
     "text": [
      "T: 096/300: 100%|█| 78/78 [00:07<00:00, 10.74it/s, lr=5.86e-5, b_loss=0.507, b_a\n"
     ]
    },
    {
     "name": "stdout",
     "output_type": "stream",
     "text": [
      "[ Train | 096/300 ] loss = 0.49572, acc = 0.83067\n"
     ]
    },
    {
     "name": "stderr",
     "output_type": "stream",
     "text": [
      "V: 096/300: 100%|████| 26/26 [00:01<00:00, 17.88it/s, v_loss=0.746, v_acc=0.767]\n"
     ]
    },
    {
     "name": "stdout",
     "output_type": "stream",
     "text": [
      "[ Valid | 096/300 ] loss = 0.74616, acc = 0.76735\n",
      "[ Valid | 096/300 ] loss = 0.74616, acc = 0.76735\n"
     ]
    },
    {
     "name": "stderr",
     "output_type": "stream",
     "text": [
      "T: 097/300: 100%|█| 78/78 [00:06<00:00, 11.25it/s, lr=3.82e-5, b_loss=0.558, b_a\n"
     ]
    },
    {
     "name": "stdout",
     "output_type": "stream",
     "text": [
      "[ Train | 097/300 ] loss = 0.48093, acc = 0.83320\n"
     ]
    },
    {
     "name": "stderr",
     "output_type": "stream",
     "text": [
      "V: 097/300: 100%|████| 26/26 [00:01<00:00, 17.66it/s, v_loss=0.708, v_acc=0.775]\n"
     ]
    },
    {
     "name": "stdout",
     "output_type": "stream",
     "text": [
      "[ Valid | 097/300 ] loss = 0.70813, acc = 0.77524\n",
      "[ Valid | 097/300 ] loss = 0.70813, acc = 0.77524 -> best\n",
      "Best model found at fold 2 epoch 97, acc=0.77524, saving model\n"
     ]
    },
    {
     "name": "stderr",
     "output_type": "stream",
     "text": [
      "T: 098/300: 100%|█| 78/78 [00:07<00:00, 11.06it/s, lr=2.18e-5, b_loss=0.466, b_a\n"
     ]
    },
    {
     "name": "stdout",
     "output_type": "stream",
     "text": [
      "[ Train | 098/300 ] loss = 0.46348, acc = 0.84136\n"
     ]
    },
    {
     "name": "stderr",
     "output_type": "stream",
     "text": [
      "V: 098/300: 100%|█████| 26/26 [00:01<00:00, 19.72it/s, v_loss=0.716, v_acc=0.78]\n"
     ]
    },
    {
     "name": "stdout",
     "output_type": "stream",
     "text": [
      "[ Valid | 098/300 ] loss = 0.71595, acc = 0.77980\n",
      "[ Valid | 098/300 ] loss = 0.71595, acc = 0.77980 -> best\n",
      "Best model found at fold 2 epoch 98, acc=0.77980, saving model\n"
     ]
    },
    {
     "name": "stderr",
     "output_type": "stream",
     "text": [
      "T: 099/300: 100%|█| 78/78 [00:07<00:00, 11.04it/s, lr=9.79e-6, b_loss=0.581, b_a\n"
     ]
    },
    {
     "name": "stdout",
     "output_type": "stream",
     "text": [
      "[ Train | 099/300 ] loss = 0.45601, acc = 0.84305\n"
     ]
    },
    {
     "name": "stderr",
     "output_type": "stream",
     "text": [
      "V: 099/300: 100%|████| 26/26 [00:01<00:00, 17.51it/s, v_loss=0.711, v_acc=0.778]\n"
     ]
    },
    {
     "name": "stdout",
     "output_type": "stream",
     "text": [
      "[ Valid | 099/300 ] loss = 0.71147, acc = 0.77795\n",
      "[ Valid | 099/300 ] loss = 0.71147, acc = 0.77795\n"
     ]
    },
    {
     "name": "stderr",
     "output_type": "stream",
     "text": [
      "T: 100/300: 100%|█| 78/78 [00:07<00:00, 11.09it/s, lr=2.46e-6, b_loss=0.44, b_ac\n"
     ]
    },
    {
     "name": "stdout",
     "output_type": "stream",
     "text": [
      "[ Train | 100/300 ] loss = 0.45808, acc = 0.84255\n"
     ]
    },
    {
     "name": "stderr",
     "output_type": "stream",
     "text": [
      "V: 100/300: 100%|████| 26/26 [00:01<00:00, 17.70it/s, v_loss=0.704, v_acc=0.782]\n"
     ]
    },
    {
     "name": "stdout",
     "output_type": "stream",
     "text": [
      "[ Valid | 100/300 ] loss = 0.70373, acc = 0.78161\n",
      "[ Valid | 100/300 ] loss = 0.70373, acc = 0.78161 -> best\n",
      "Best model found at fold 2 epoch 100, acc=0.78161, saving model\n"
     ]
    },
    {
     "name": "stderr",
     "output_type": "stream",
     "text": [
      "T: 101/300: 100%|█| 78/78 [00:07<00:00, 11.08it/s, lr=0.0004, b_loss=0.804, b_ac\n"
     ]
    },
    {
     "name": "stdout",
     "output_type": "stream",
     "text": [
      "[ Train | 101/300 ] loss = 0.70253, acc = 0.75601\n"
     ]
    },
    {
     "name": "stderr",
     "output_type": "stream",
     "text": [
      "V: 101/300: 100%|████████| 26/26 [00:01<00:00, 18.24it/s, v_loss=1, v_acc=0.687]\n"
     ]
    },
    {
     "name": "stdout",
     "output_type": "stream",
     "text": [
      "[ Valid | 101/300 ] loss = 1.00204, acc = 0.68694\n",
      "[ Valid | 101/300 ] loss = 1.00204, acc = 0.68694\n"
     ]
    },
    {
     "name": "stderr",
     "output_type": "stream",
     "text": [
      "T: 102/300: 100%|█| 78/78 [00:07<00:00, 11.03it/s, lr=0.000398, b_loss=0.688, b_\n"
     ]
    },
    {
     "name": "stdout",
     "output_type": "stream",
     "text": [
      "[ Train | 102/300 ] loss = 0.69939, acc = 0.75774\n"
     ]
    },
    {
     "name": "stderr",
     "output_type": "stream",
     "text": [
      "V: 102/300: 100%|█████| 26/26 [00:01<00:00, 19.09it/s, v_loss=0.96, v_acc=0.701]\n"
     ]
    },
    {
     "name": "stdout",
     "output_type": "stream",
     "text": [
      "[ Valid | 102/300 ] loss = 0.96021, acc = 0.70067\n",
      "[ Valid | 102/300 ] loss = 0.96021, acc = 0.70067\n"
     ]
    },
    {
     "name": "stderr",
     "output_type": "stream",
     "text": [
      "T: 103/300: 100%|█| 78/78 [00:06<00:00, 11.26it/s, lr=0.00039, b_loss=0.879, b_a\n"
     ]
    },
    {
     "name": "stdout",
     "output_type": "stream",
     "text": [
      "[ Train | 103/300 ] loss = 0.69650, acc = 0.75909\n"
     ]
    },
    {
     "name": "stderr",
     "output_type": "stream",
     "text": [
      "V: 103/300: 100%|██████| 26/26 [00:01<00:00, 19.14it/s, v_loss=1.07, v_acc=0.67]\n"
     ]
    },
    {
     "name": "stdout",
     "output_type": "stream",
     "text": [
      "[ Valid | 103/300 ] loss = 1.07231, acc = 0.67022\n",
      "[ Valid | 103/300 ] loss = 1.07231, acc = 0.67022\n"
     ]
    },
    {
     "name": "stderr",
     "output_type": "stream",
     "text": [
      "T: 104/300: 100%|█| 78/78 [00:06<00:00, 11.22it/s, lr=0.000378, b_loss=0.669, b_\n"
     ]
    },
    {
     "name": "stdout",
     "output_type": "stream",
     "text": [
      "[ Train | 104/300 ] loss = 0.67644, acc = 0.76646\n"
     ]
    },
    {
     "name": "stderr",
     "output_type": "stream",
     "text": [
      "V: 104/300: 100%|█████| 26/26 [00:01<00:00, 18.12it/s, v_loss=0.87, v_acc=0.723]\n"
     ]
    },
    {
     "name": "stdout",
     "output_type": "stream",
     "text": [
      "[ Valid | 104/300 ] loss = 0.86957, acc = 0.72318\n",
      "[ Valid | 104/300 ] loss = 0.86957, acc = 0.72318\n"
     ]
    },
    {
     "name": "stderr",
     "output_type": "stream",
     "text": [
      "T: 105/300: 100%|█| 78/78 [00:06<00:00, 11.33it/s, lr=0.000362, b_loss=0.665, b_\n"
     ]
    },
    {
     "name": "stdout",
     "output_type": "stream",
     "text": [
      "[ Train | 105/300 ] loss = 0.64649, acc = 0.77600\n"
     ]
    },
    {
     "name": "stderr",
     "output_type": "stream",
     "text": [
      "V: 105/300: 100%|██████| 26/26 [00:01<00:00, 17.82it/s, v_loss=1.1, v_acc=0.658]\n"
     ]
    },
    {
     "name": "stdout",
     "output_type": "stream",
     "text": [
      "[ Valid | 105/300 ] loss = 1.09694, acc = 0.65768\n",
      "[ Valid | 105/300 ] loss = 1.09694, acc = 0.65768\n"
     ]
    },
    {
     "name": "stderr",
     "output_type": "stream",
     "text": [
      "T: 106/300: 100%|█| 78/78 [00:06<00:00, 11.30it/s, lr=0.000341, b_loss=0.884, b_\n"
     ]
    },
    {
     "name": "stdout",
     "output_type": "stream",
     "text": [
      "[ Train | 106/300 ] loss = 0.63474, acc = 0.78179\n"
     ]
    },
    {
     "name": "stderr",
     "output_type": "stream",
     "text": [
      "V: 106/300: 100%|████| 26/26 [00:01<00:00, 17.02it/s, v_loss=0.828, v_acc=0.727]\n"
     ]
    },
    {
     "name": "stdout",
     "output_type": "stream",
     "text": [
      "[ Valid | 106/300 ] loss = 0.82816, acc = 0.72723\n",
      "[ Valid | 106/300 ] loss = 0.82816, acc = 0.72723\n"
     ]
    },
    {
     "name": "stderr",
     "output_type": "stream",
     "text": [
      "T: 107/300: 100%|█| 78/78 [00:06<00:00, 11.14it/s, lr=0.000318, b_loss=0.674, b_\n"
     ]
    },
    {
     "name": "stdout",
     "output_type": "stream",
     "text": [
      "[ Train | 107/300 ] loss = 0.62283, acc = 0.78079\n"
     ]
    },
    {
     "name": "stderr",
     "output_type": "stream",
     "text": [
      "V: 107/300: 100%|████| 26/26 [00:01<00:00, 18.93it/s, v_loss=0.902, v_acc=0.712]\n"
     ]
    },
    {
     "name": "stdout",
     "output_type": "stream",
     "text": [
      "[ Valid | 107/300 ] loss = 0.90224, acc = 0.71230\n",
      "[ Valid | 107/300 ] loss = 0.90224, acc = 0.71230\n"
     ]
    },
    {
     "name": "stderr",
     "output_type": "stream",
     "text": [
      "T: 108/300: 100%|█| 78/78 [00:07<00:00, 10.84it/s, lr=0.000291, b_loss=0.618, b_\n"
     ]
    },
    {
     "name": "stdout",
     "output_type": "stream",
     "text": [
      "[ Train | 108/300 ] loss = 0.59200, acc = 0.79342\n"
     ]
    },
    {
     "name": "stderr",
     "output_type": "stream",
     "text": [
      "V: 108/300: 100%|████| 26/26 [00:01<00:00, 17.48it/s, v_loss=0.914, v_acc=0.715]\n"
     ]
    },
    {
     "name": "stdout",
     "output_type": "stream",
     "text": [
      "[ Valid | 108/300 ] loss = 0.91397, acc = 0.71539\n",
      "[ Valid | 108/300 ] loss = 0.91397, acc = 0.71539\n"
     ]
    },
    {
     "name": "stderr",
     "output_type": "stream",
     "text": [
      "T: 109/300: 100%|█| 78/78 [00:07<00:00, 10.99it/s, lr=0.000262, b_loss=0.544, b_\n"
     ]
    },
    {
     "name": "stdout",
     "output_type": "stream",
     "text": [
      "[ Train | 109/300 ] loss = 0.56717, acc = 0.79976\n"
     ]
    },
    {
     "name": "stderr",
     "output_type": "stream",
     "text": [
      "V: 109/300: 100%|█████| 26/26 [00:01<00:00, 17.77it/s, v_loss=0.87, v_acc=0.728]\n"
     ]
    },
    {
     "name": "stdout",
     "output_type": "stream",
     "text": [
      "[ Valid | 109/300 ] loss = 0.87024, acc = 0.72806\n",
      "[ Valid | 109/300 ] loss = 0.87024, acc = 0.72806\n"
     ]
    },
    {
     "name": "stderr",
     "output_type": "stream",
     "text": [
      "T: 110/300: 100%|█| 78/78 [00:06<00:00, 11.38it/s, lr=0.000231, b_loss=0.485, b_\n"
     ]
    },
    {
     "name": "stdout",
     "output_type": "stream",
     "text": [
      "[ Train | 110/300 ] loss = 0.55054, acc = 0.80790\n"
     ]
    },
    {
     "name": "stderr",
     "output_type": "stream",
     "text": [
      "V: 110/300: 100%|████| 26/26 [00:01<00:00, 20.05it/s, v_loss=0.927, v_acc=0.724]\n"
     ]
    },
    {
     "name": "stdout",
     "output_type": "stream",
     "text": [
      "[ Valid | 110/300 ] loss = 0.92671, acc = 0.72442\n",
      "[ Valid | 110/300 ] loss = 0.92671, acc = 0.72442\n"
     ]
    },
    {
     "name": "stderr",
     "output_type": "stream",
     "text": [
      "T: 111/300: 100%|█| 78/78 [00:07<00:00, 11.08it/s, lr=0.0002, b_loss=0.42, b_acc\n"
     ]
    },
    {
     "name": "stdout",
     "output_type": "stream",
     "text": [
      "[ Train | 111/300 ] loss = 0.51843, acc = 0.82078\n"
     ]
    },
    {
     "name": "stderr",
     "output_type": "stream",
     "text": [
      "V: 111/300: 100%|████| 26/26 [00:01<00:00, 17.82it/s, v_loss=0.867, v_acc=0.733]\n"
     ]
    },
    {
     "name": "stdout",
     "output_type": "stream",
     "text": [
      "[ Valid | 111/300 ] loss = 0.86667, acc = 0.73339\n",
      "[ Valid | 111/300 ] loss = 0.86667, acc = 0.73339\n"
     ]
    },
    {
     "name": "stderr",
     "output_type": "stream",
     "text": [
      "T: 112/300: 100%|█| 78/78 [00:07<00:00, 11.13it/s, lr=0.000169, b_loss=0.466, b_\n"
     ]
    },
    {
     "name": "stdout",
     "output_type": "stream",
     "text": [
      "[ Train | 112/300 ] loss = 0.49134, acc = 0.82975\n"
     ]
    },
    {
     "name": "stderr",
     "output_type": "stream",
     "text": [
      "V: 112/300: 100%|█████| 26/26 [00:01<00:00, 18.78it/s, v_loss=0.85, v_acc=0.744]\n"
     ]
    },
    {
     "name": "stdout",
     "output_type": "stream",
     "text": [
      "[ Valid | 112/300 ] loss = 0.84999, acc = 0.74419\n",
      "[ Valid | 112/300 ] loss = 0.84999, acc = 0.74419\n"
     ]
    },
    {
     "name": "stderr",
     "output_type": "stream",
     "text": [
      "T: 113/300: 100%|█| 78/78 [00:07<00:00, 11.07it/s, lr=0.000138, b_loss=0.431, b_\n"
     ]
    },
    {
     "name": "stdout",
     "output_type": "stream",
     "text": [
      "[ Train | 113/300 ] loss = 0.47516, acc = 0.83956\n"
     ]
    },
    {
     "name": "stderr",
     "output_type": "stream",
     "text": [
      "V: 113/300: 100%|████| 26/26 [00:01<00:00, 18.27it/s, v_loss=0.789, v_acc=0.764]\n"
     ]
    },
    {
     "name": "stdout",
     "output_type": "stream",
     "text": [
      "[ Valid | 113/300 ] loss = 0.78885, acc = 0.76388\n",
      "[ Valid | 113/300 ] loss = 0.78885, acc = 0.76388\n"
     ]
    },
    {
     "name": "stderr",
     "output_type": "stream",
     "text": [
      "T: 114/300: 100%|█| 78/78 [00:07<00:00, 11.11it/s, lr=0.000109, b_loss=0.479, b_\n"
     ]
    },
    {
     "name": "stdout",
     "output_type": "stream",
     "text": [
      "[ Train | 114/300 ] loss = 0.44808, acc = 0.84831\n"
     ]
    },
    {
     "name": "stderr",
     "output_type": "stream",
     "text": [
      "V: 114/300: 100%|████| 26/26 [00:01<00:00, 19.92it/s, v_loss=0.762, v_acc=0.767]\n"
     ]
    },
    {
     "name": "stdout",
     "output_type": "stream",
     "text": [
      "[ Valid | 114/300 ] loss = 0.76172, acc = 0.76709\n",
      "[ Valid | 114/300 ] loss = 0.76172, acc = 0.76709\n"
     ]
    },
    {
     "name": "stderr",
     "output_type": "stream",
     "text": [
      "T: 115/300: 100%|█| 78/78 [00:07<00:00, 10.74it/s, lr=8.24e-5, b_loss=0.368, b_a\n"
     ]
    },
    {
     "name": "stdout",
     "output_type": "stream",
     "text": [
      "[ Train | 115/300 ] loss = 0.43571, acc = 0.84901\n"
     ]
    },
    {
     "name": "stderr",
     "output_type": "stream",
     "text": [
      "V: 115/300: 100%|█████| 26/26 [00:01<00:00, 17.35it/s, v_loss=0.76, v_acc=0.764]\n"
     ]
    },
    {
     "name": "stdout",
     "output_type": "stream",
     "text": [
      "[ Valid | 115/300 ] loss = 0.76015, acc = 0.76358\n",
      "[ Valid | 115/300 ] loss = 0.76015, acc = 0.76358\n"
     ]
    },
    {
     "name": "stderr",
     "output_type": "stream",
     "text": [
      "T: 116/300: 100%|█| 78/78 [00:07<00:00, 11.07it/s, lr=5.86e-5, b_loss=0.327, b_a\n"
     ]
    },
    {
     "name": "stdout",
     "output_type": "stream",
     "text": [
      "[ Train | 116/300 ] loss = 0.41989, acc = 0.85624\n"
     ]
    },
    {
     "name": "stderr",
     "output_type": "stream",
     "text": [
      "V: 116/300: 100%|█████| 26/26 [00:01<00:00, 18.83it/s, v_loss=0.728, v_acc=0.78]\n"
     ]
    },
    {
     "name": "stdout",
     "output_type": "stream",
     "text": [
      "[ Valid | 116/300 ] loss = 0.72799, acc = 0.78036\n",
      "[ Valid | 116/300 ] loss = 0.72799, acc = 0.78036\n"
     ]
    },
    {
     "name": "stderr",
     "output_type": "stream",
     "text": [
      "T: 117/300: 100%|█| 78/78 [00:06<00:00, 11.24it/s, lr=3.82e-5, b_loss=0.382, b_a\n"
     ]
    },
    {
     "name": "stdout",
     "output_type": "stream",
     "text": [
      "[ Train | 117/300 ] loss = 0.39783, acc = 0.86551\n"
     ]
    },
    {
     "name": "stderr",
     "output_type": "stream",
     "text": [
      "V: 117/300: 100%|████| 26/26 [00:01<00:00, 19.67it/s, v_loss=0.728, v_acc=0.776]\n"
     ]
    },
    {
     "name": "stdout",
     "output_type": "stream",
     "text": [
      "[ Valid | 117/300 ] loss = 0.72834, acc = 0.77598\n",
      "[ Valid | 117/300 ] loss = 0.72834, acc = 0.77598\n"
     ]
    },
    {
     "name": "stderr",
     "output_type": "stream",
     "text": [
      "T: 118/300: 100%|█| 78/78 [00:07<00:00, 10.98it/s, lr=2.18e-5, b_loss=0.45, b_ac\n"
     ]
    },
    {
     "name": "stdout",
     "output_type": "stream",
     "text": [
      "[ Train | 118/300 ] loss = 0.38684, acc = 0.86758\n"
     ]
    },
    {
     "name": "stderr",
     "output_type": "stream",
     "text": [
      "V: 118/300: 100%|█████| 26/26 [00:01<00:00, 18.88it/s, v_loss=0.714, v_acc=0.78]\n"
     ]
    },
    {
     "name": "stdout",
     "output_type": "stream",
     "text": [
      "[ Valid | 118/300 ] loss = 0.71384, acc = 0.77975\n",
      "[ Valid | 118/300 ] loss = 0.71384, acc = 0.77975\n"
     ]
    },
    {
     "name": "stderr",
     "output_type": "stream",
     "text": [
      "T: 119/300: 100%|█| 78/78 [00:07<00:00, 11.07it/s, lr=9.79e-6, b_loss=0.397, b_a\n"
     ]
    },
    {
     "name": "stdout",
     "output_type": "stream",
     "text": [
      "[ Train | 119/300 ] loss = 0.38117, acc = 0.86633\n"
     ]
    },
    {
     "name": "stderr",
     "output_type": "stream",
     "text": [
      "V: 119/300: 100%|████| 26/26 [00:01<00:00, 17.37it/s, v_loss=0.721, v_acc=0.781]\n"
     ]
    },
    {
     "name": "stdout",
     "output_type": "stream",
     "text": [
      "[ Valid | 119/300 ] loss = 0.72060, acc = 0.78067\n",
      "[ Valid | 119/300 ] loss = 0.72060, acc = 0.78067\n"
     ]
    },
    {
     "name": "stderr",
     "output_type": "stream",
     "text": [
      "T: 120/300: 100%|█| 78/78 [00:06<00:00, 11.28it/s, lr=2.46e-6, b_loss=0.535, b_a\n"
     ]
    },
    {
     "name": "stdout",
     "output_type": "stream",
     "text": [
      "[ Train | 120/300 ] loss = 0.39220, acc = 0.86450\n"
     ]
    },
    {
     "name": "stderr",
     "output_type": "stream",
     "text": [
      "V: 120/300: 100%|█████| 26/26 [00:01<00:00, 17.88it/s, v_loss=0.716, v_acc=0.78]\n"
     ]
    },
    {
     "name": "stdout",
     "output_type": "stream",
     "text": [
      "[ Valid | 120/300 ] loss = 0.71647, acc = 0.78042\n",
      "[ Valid | 120/300 ] loss = 0.71647, acc = 0.78042\n"
     ]
    },
    {
     "name": "stderr",
     "output_type": "stream",
     "text": [
      "T: 121/300: 100%|█| 78/78 [00:07<00:00, 10.60it/s, lr=0.0004, b_loss=0.853, b_ac\n"
     ]
    },
    {
     "name": "stdout",
     "output_type": "stream",
     "text": [
      "[ Train | 121/300 ] loss = 0.62078, acc = 0.78992\n"
     ]
    },
    {
     "name": "stderr",
     "output_type": "stream",
     "text": [
      "V: 121/300: 100%|█████| 26/26 [00:01<00:00, 18.85it/s, v_loss=1.21, v_acc=0.663]\n"
     ]
    },
    {
     "name": "stdout",
     "output_type": "stream",
     "text": [
      "[ Valid | 121/300 ] loss = 1.20937, acc = 0.66272\n",
      "[ Valid | 121/300 ] loss = 1.20937, acc = 0.66272\n",
      "No improvment 20 consecutive epochs, early stopping\n",
      "\n",
      "\n",
      "Starting Fold: 3 ********************************************\n",
      "cuda:0\n"
     ]
    },
    {
     "name": "stderr",
     "output_type": "stream",
     "text": [
      "T: 001/300: 100%|█| 78/78 [00:07<00:00, 11.10it/s, lr=0.0004, b_loss=2.01, b_acc\n"
     ]
    },
    {
     "name": "stdout",
     "output_type": "stream",
     "text": [
      "[ Train | 001/300 ] loss = 2.12737, acc = 0.25024\n"
     ]
    },
    {
     "name": "stderr",
     "output_type": "stream",
     "text": [
      "V: 001/300: 100%|████████| 26/26 [00:01<00:00, 17.63it/s, v_loss=2, v_acc=0.311]\n"
     ]
    },
    {
     "name": "stdout",
     "output_type": "stream",
     "text": [
      "[ Valid | 001/300 ] loss = 2.00350, acc = 0.31128\n",
      "[ Valid | 001/300 ] loss = 2.00350, acc = 0.31128 -> best\n",
      "Best model found at fold 3 epoch 1, acc=0.31128, saving model\n"
     ]
    },
    {
     "name": "stderr",
     "output_type": "stream",
     "text": [
      "T: 002/300: 100%|█| 78/78 [00:07<00:00, 11.12it/s, lr=0.000398, b_loss=1.84, b_a\n"
     ]
    },
    {
     "name": "stdout",
     "output_type": "stream",
     "text": [
      "[ Train | 002/300 ] loss = 1.95643, acc = 0.30524\n"
     ]
    },
    {
     "name": "stderr",
     "output_type": "stream",
     "text": [
      "V: 002/300: 100%|██████| 26/26 [00:01<00:00, 17.01it/s, v_loss=1.9, v_acc=0.335]\n"
     ]
    },
    {
     "name": "stdout",
     "output_type": "stream",
     "text": [
      "[ Valid | 002/300 ] loss = 1.90015, acc = 0.33484\n",
      "[ Valid | 002/300 ] loss = 1.90015, acc = 0.33484 -> best\n",
      "Best model found at fold 3 epoch 2, acc=0.33484, saving model\n"
     ]
    },
    {
     "name": "stderr",
     "output_type": "stream",
     "text": [
      "T: 003/300: 100%|█| 78/78 [00:06<00:00, 11.21it/s, lr=0.00039, b_loss=2, b_acc=0\n"
     ]
    },
    {
     "name": "stdout",
     "output_type": "stream",
     "text": [
      "[ Train | 003/300 ] loss = 1.85517, acc = 0.34397\n"
     ]
    },
    {
     "name": "stderr",
     "output_type": "stream",
     "text": [
      "V: 003/300: 100%|█████| 26/26 [00:01<00:00, 17.77it/s, v_loss=1.95, v_acc=0.335]\n"
     ]
    },
    {
     "name": "stdout",
     "output_type": "stream",
     "text": [
      "[ Valid | 003/300 ] loss = 1.94846, acc = 0.33477\n",
      "[ Valid | 003/300 ] loss = 1.94846, acc = 0.33477\n"
     ]
    },
    {
     "name": "stderr",
     "output_type": "stream",
     "text": [
      "T: 004/300: 100%|█| 78/78 [00:07<00:00, 11.08it/s, lr=0.000378, b_loss=1.84, b_a\n"
     ]
    },
    {
     "name": "stdout",
     "output_type": "stream",
     "text": [
      "[ Train | 004/300 ] loss = 1.78890, acc = 0.37034\n"
     ]
    },
    {
     "name": "stderr",
     "output_type": "stream",
     "text": [
      "V: 004/300: 100%|█████| 26/26 [00:01<00:00, 16.94it/s, v_loss=2.47, v_acc=0.268]\n"
     ]
    },
    {
     "name": "stdout",
     "output_type": "stream",
     "text": [
      "[ Valid | 004/300 ] loss = 2.46858, acc = 0.26839\n",
      "[ Valid | 004/300 ] loss = 2.46858, acc = 0.26839\n"
     ]
    },
    {
     "name": "stderr",
     "output_type": "stream",
     "text": [
      "T: 005/300: 100%|█| 78/78 [00:07<00:00, 10.91it/s, lr=0.000362, b_loss=1.83, b_a\n"
     ]
    },
    {
     "name": "stdout",
     "output_type": "stream",
     "text": [
      "[ Train | 005/300 ] loss = 1.71782, acc = 0.39597\n"
     ]
    },
    {
     "name": "stderr",
     "output_type": "stream",
     "text": [
      "V: 005/300: 100%|█████| 26/26 [00:01<00:00, 16.21it/s, v_loss=1.77, v_acc=0.396]\n"
     ]
    },
    {
     "name": "stdout",
     "output_type": "stream",
     "text": [
      "[ Valid | 005/300 ] loss = 1.77466, acc = 0.39567\n",
      "[ Valid | 005/300 ] loss = 1.77466, acc = 0.39567 -> best\n",
      "Best model found at fold 3 epoch 5, acc=0.39567, saving model\n"
     ]
    },
    {
     "name": "stderr",
     "output_type": "stream",
     "text": [
      "T: 006/300: 100%|█| 78/78 [00:07<00:00, 11.00it/s, lr=0.000341, b_loss=1.73, b_a\n"
     ]
    },
    {
     "name": "stdout",
     "output_type": "stream",
     "text": [
      "[ Train | 006/300 ] loss = 1.63626, acc = 0.42518\n"
     ]
    },
    {
     "name": "stderr",
     "output_type": "stream",
     "text": [
      "V: 006/300: 100%|█████| 26/26 [00:01<00:00, 17.15it/s, v_loss=1.76, v_acc=0.408]\n"
     ]
    },
    {
     "name": "stdout",
     "output_type": "stream",
     "text": [
      "[ Valid | 006/300 ] loss = 1.76436, acc = 0.40769\n",
      "[ Valid | 006/300 ] loss = 1.76436, acc = 0.40769 -> best\n",
      "Best model found at fold 3 epoch 6, acc=0.40769, saving model\n"
     ]
    },
    {
     "name": "stderr",
     "output_type": "stream",
     "text": [
      "T: 007/300: 100%|█| 78/78 [00:06<00:00, 11.30it/s, lr=0.000318, b_loss=1.63, b_a\n"
     ]
    },
    {
     "name": "stdout",
     "output_type": "stream",
     "text": [
      "[ Train | 007/300 ] loss = 1.59622, acc = 0.44376\n"
     ]
    },
    {
     "name": "stderr",
     "output_type": "stream",
     "text": [
      "V: 007/300: 100%|█████| 26/26 [00:01<00:00, 17.46it/s, v_loss=1.64, v_acc=0.449]\n"
     ]
    },
    {
     "name": "stdout",
     "output_type": "stream",
     "text": [
      "[ Valid | 007/300 ] loss = 1.63923, acc = 0.44943\n",
      "[ Valid | 007/300 ] loss = 1.63923, acc = 0.44943 -> best\n",
      "Best model found at fold 3 epoch 7, acc=0.44943, saving model\n"
     ]
    },
    {
     "name": "stderr",
     "output_type": "stream",
     "text": [
      "T: 008/300: 100%|█| 78/78 [00:07<00:00, 11.01it/s, lr=0.000291, b_loss=1.42, b_a\n"
     ]
    },
    {
     "name": "stdout",
     "output_type": "stream",
     "text": [
      "[ Train | 008/300 ] loss = 1.53574, acc = 0.46416\n"
     ]
    },
    {
     "name": "stderr",
     "output_type": "stream",
     "text": [
      "V: 008/300: 100%|█████| 26/26 [00:01<00:00, 15.74it/s, v_loss=1.77, v_acc=0.421]\n"
     ]
    },
    {
     "name": "stdout",
     "output_type": "stream",
     "text": [
      "[ Valid | 008/300 ] loss = 1.77435, acc = 0.42059\n",
      "[ Valid | 008/300 ] loss = 1.77435, acc = 0.42059\n"
     ]
    },
    {
     "name": "stderr",
     "output_type": "stream",
     "text": [
      "T: 009/300: 100%|█| 78/78 [00:07<00:00, 11.08it/s, lr=0.000262, b_loss=1.47, b_a\n"
     ]
    },
    {
     "name": "stdout",
     "output_type": "stream",
     "text": [
      "[ Train | 009/300 ] loss = 1.47168, acc = 0.48948\n"
     ]
    },
    {
     "name": "stderr",
     "output_type": "stream",
     "text": [
      "V: 009/300: 100%|█████| 26/26 [00:01<00:00, 17.12it/s, v_loss=1.54, v_acc=0.464]\n"
     ]
    },
    {
     "name": "stdout",
     "output_type": "stream",
     "text": [
      "[ Valid | 009/300 ] loss = 1.54165, acc = 0.46390\n",
      "[ Valid | 009/300 ] loss = 1.54165, acc = 0.46390 -> best\n",
      "Best model found at fold 3 epoch 9, acc=0.46390, saving model\n"
     ]
    },
    {
     "name": "stderr",
     "output_type": "stream",
     "text": [
      "T: 010/300: 100%|█| 78/78 [00:07<00:00, 11.04it/s, lr=0.000231, b_loss=1.33, b_a\n"
     ]
    },
    {
     "name": "stdout",
     "output_type": "stream",
     "text": [
      "[ Train | 010/300 ] loss = 1.42841, acc = 0.50336\n"
     ]
    },
    {
     "name": "stderr",
     "output_type": "stream",
     "text": [
      "V: 010/300: 100%|█████| 26/26 [00:01<00:00, 16.85it/s, v_loss=1.51, v_acc=0.492]\n"
     ]
    },
    {
     "name": "stdout",
     "output_type": "stream",
     "text": [
      "[ Valid | 010/300 ] loss = 1.50544, acc = 0.49181\n",
      "[ Valid | 010/300 ] loss = 1.50544, acc = 0.49181 -> best\n",
      "Best model found at fold 3 epoch 10, acc=0.49181, saving model\n"
     ]
    },
    {
     "name": "stderr",
     "output_type": "stream",
     "text": [
      "T: 011/300: 100%|█| 78/78 [00:06<00:00, 11.16it/s, lr=0.0002, b_loss=1.26, b_acc\n"
     ]
    },
    {
     "name": "stdout",
     "output_type": "stream",
     "text": [
      "[ Train | 011/300 ] loss = 1.36258, acc = 0.52761\n"
     ]
    },
    {
     "name": "stderr",
     "output_type": "stream",
     "text": [
      "V: 011/300: 100%|█████| 26/26 [00:01<00:00, 17.04it/s, v_loss=1.59, v_acc=0.473]\n"
     ]
    },
    {
     "name": "stdout",
     "output_type": "stream",
     "text": [
      "[ Valid | 011/300 ] loss = 1.59108, acc = 0.47322\n",
      "[ Valid | 011/300 ] loss = 1.59108, acc = 0.47322\n"
     ]
    },
    {
     "name": "stderr",
     "output_type": "stream",
     "text": [
      "T: 012/300: 100%|█| 78/78 [00:06<00:00, 11.16it/s, lr=0.000169, b_loss=1.11, b_a\n"
     ]
    },
    {
     "name": "stdout",
     "output_type": "stream",
     "text": [
      "[ Train | 012/300 ] loss = 1.30995, acc = 0.54344\n"
     ]
    },
    {
     "name": "stderr",
     "output_type": "stream",
     "text": [
      "V: 012/300: 100%|██████| 26/26 [00:01<00:00, 17.91it/s, v_loss=1.42, v_acc=0.52]\n"
     ]
    },
    {
     "name": "stdout",
     "output_type": "stream",
     "text": [
      "[ Valid | 012/300 ] loss = 1.42162, acc = 0.52044\n",
      "[ Valid | 012/300 ] loss = 1.42162, acc = 0.52044 -> best\n",
      "Best model found at fold 3 epoch 12, acc=0.52044, saving model\n"
     ]
    },
    {
     "name": "stderr",
     "output_type": "stream",
     "text": [
      "T: 013/300: 100%|█| 78/78 [00:07<00:00, 11.01it/s, lr=0.000138, b_loss=1.37, b_a\n"
     ]
    },
    {
     "name": "stdout",
     "output_type": "stream",
     "text": [
      "[ Train | 013/300 ] loss = 1.27254, acc = 0.55709\n"
     ]
    },
    {
     "name": "stderr",
     "output_type": "stream",
     "text": [
      "V: 013/300: 100%|█████| 26/26 [00:01<00:00, 18.35it/s, v_loss=1.25, v_acc=0.581]\n"
     ]
    },
    {
     "name": "stdout",
     "output_type": "stream",
     "text": [
      "[ Valid | 013/300 ] loss = 1.25267, acc = 0.58065\n",
      "[ Valid | 013/300 ] loss = 1.25267, acc = 0.58065 -> best\n",
      "Best model found at fold 3 epoch 13, acc=0.58065, saving model\n"
     ]
    },
    {
     "name": "stderr",
     "output_type": "stream",
     "text": [
      "T: 014/300: 100%|█| 78/78 [00:07<00:00, 11.04it/s, lr=0.000109, b_loss=1.36, b_a\n"
     ]
    },
    {
     "name": "stdout",
     "output_type": "stream",
     "text": [
      "[ Train | 014/300 ] loss = 1.22677, acc = 0.57753\n"
     ]
    },
    {
     "name": "stderr",
     "output_type": "stream",
     "text": [
      "V: 014/300: 100%|██████| 26/26 [00:01<00:00, 17.15it/s, v_loss=1.2, v_acc=0.584]\n"
     ]
    },
    {
     "name": "stdout",
     "output_type": "stream",
     "text": [
      "[ Valid | 014/300 ] loss = 1.19931, acc = 0.58362\n",
      "[ Valid | 014/300 ] loss = 1.19931, acc = 0.58362 -> best\n",
      "Best model found at fold 3 epoch 14, acc=0.58362, saving model\n"
     ]
    },
    {
     "name": "stderr",
     "output_type": "stream",
     "text": [
      "T: 015/300: 100%|█| 78/78 [00:06<00:00, 11.37it/s, lr=8.24e-5, b_loss=1.09, b_ac\n"
     ]
    },
    {
     "name": "stdout",
     "output_type": "stream",
     "text": [
      "[ Train | 015/300 ] loss = 1.16403, acc = 0.60089\n"
     ]
    },
    {
     "name": "stderr",
     "output_type": "stream",
     "text": [
      "V: 015/300: 100%|█████| 26/26 [00:01<00:00, 16.82it/s, v_loss=1.15, v_acc=0.607]\n"
     ]
    },
    {
     "name": "stdout",
     "output_type": "stream",
     "text": [
      "[ Valid | 015/300 ] loss = 1.15081, acc = 0.60703\n",
      "[ Valid | 015/300 ] loss = 1.15081, acc = 0.60703 -> best\n",
      "Best model found at fold 3 epoch 15, acc=0.60703, saving model\n"
     ]
    },
    {
     "name": "stderr",
     "output_type": "stream",
     "text": [
      "T: 016/300: 100%|█| 78/78 [00:07<00:00, 10.97it/s, lr=5.86e-5, b_loss=1.12, b_ac\n"
     ]
    },
    {
     "name": "stdout",
     "output_type": "stream",
     "text": [
      "[ Train | 016/300 ] loss = 1.14825, acc = 0.60485\n"
     ]
    },
    {
     "name": "stderr",
     "output_type": "stream",
     "text": [
      "V: 016/300: 100%|█████| 26/26 [00:01<00:00, 16.01it/s, v_loss=1.14, v_acc=0.605]\n"
     ]
    },
    {
     "name": "stdout",
     "output_type": "stream",
     "text": [
      "[ Valid | 016/300 ] loss = 1.13652, acc = 0.60502\n",
      "[ Valid | 016/300 ] loss = 1.13652, acc = 0.60502\n"
     ]
    },
    {
     "name": "stderr",
     "output_type": "stream",
     "text": [
      "T: 017/300: 100%|█| 78/78 [00:07<00:00, 11.03it/s, lr=3.82e-5, b_loss=1.12, b_ac\n"
     ]
    },
    {
     "name": "stdout",
     "output_type": "stream",
     "text": [
      "[ Train | 017/300 ] loss = 1.11446, acc = 0.61846\n"
     ]
    },
    {
     "name": "stderr",
     "output_type": "stream",
     "text": [
      "V: 017/300: 100%|██████| 26/26 [00:01<00:00, 17.62it/s, v_loss=1.1, v_acc=0.624]\n"
     ]
    },
    {
     "name": "stdout",
     "output_type": "stream",
     "text": [
      "[ Valid | 017/300 ] loss = 1.10276, acc = 0.62368\n",
      "[ Valid | 017/300 ] loss = 1.10276, acc = 0.62368 -> best\n",
      "Best model found at fold 3 epoch 17, acc=0.62368, saving model\n"
     ]
    },
    {
     "name": "stderr",
     "output_type": "stream",
     "text": [
      "T: 018/300: 100%|█| 78/78 [00:06<00:00, 11.24it/s, lr=2.18e-5, b_loss=1.11, b_ac\n"
     ]
    },
    {
     "name": "stdout",
     "output_type": "stream",
     "text": [
      "[ Train | 018/300 ] loss = 1.08054, acc = 0.62386\n"
     ]
    },
    {
     "name": "stderr",
     "output_type": "stream",
     "text": [
      "V: 018/300: 100%|█████| 26/26 [00:01<00:00, 17.68it/s, v_loss=1.07, v_acc=0.633]\n"
     ]
    },
    {
     "name": "stdout",
     "output_type": "stream",
     "text": [
      "[ Valid | 018/300 ] loss = 1.06819, acc = 0.63265\n",
      "[ Valid | 018/300 ] loss = 1.06819, acc = 0.63265 -> best\n",
      "Best model found at fold 3 epoch 18, acc=0.63265, saving model\n"
     ]
    },
    {
     "name": "stderr",
     "output_type": "stream",
     "text": [
      "T: 019/300: 100%|█| 78/78 [00:06<00:00, 11.23it/s, lr=9.79e-6, b_loss=1.15, b_ac\n"
     ]
    },
    {
     "name": "stdout",
     "output_type": "stream",
     "text": [
      "[ Train | 019/300 ] loss = 1.07400, acc = 0.63033\n"
     ]
    },
    {
     "name": "stderr",
     "output_type": "stream",
     "text": [
      "V: 019/300: 100%|█████| 26/26 [00:01<00:00, 16.99it/s, v_loss=1.07, v_acc=0.634]\n"
     ]
    },
    {
     "name": "stdout",
     "output_type": "stream",
     "text": [
      "[ Valid | 019/300 ] loss = 1.06586, acc = 0.63450\n",
      "[ Valid | 019/300 ] loss = 1.06586, acc = 0.63450 -> best\n",
      "Best model found at fold 3 epoch 19, acc=0.63450, saving model\n"
     ]
    },
    {
     "name": "stderr",
     "output_type": "stream",
     "text": [
      "T: 020/300: 100%|█| 78/78 [00:06<00:00, 11.20it/s, lr=2.46e-6, b_loss=1.01, b_ac\n"
     ]
    },
    {
     "name": "stdout",
     "output_type": "stream",
     "text": [
      "[ Train | 020/300 ] loss = 1.06614, acc = 0.63550\n"
     ]
    },
    {
     "name": "stderr",
     "output_type": "stream",
     "text": [
      "V: 020/300: 100%|█████| 26/26 [00:01<00:00, 18.35it/s, v_loss=1.06, v_acc=0.634]\n"
     ]
    },
    {
     "name": "stdout",
     "output_type": "stream",
     "text": [
      "[ Valid | 020/300 ] loss = 1.06166, acc = 0.63449\n",
      "[ Valid | 020/300 ] loss = 1.06166, acc = 0.63449\n"
     ]
    },
    {
     "name": "stderr",
     "output_type": "stream",
     "text": [
      "T: 021/300: 100%|█| 78/78 [00:07<00:00, 11.01it/s, lr=0.0004, b_loss=1.28, b_acc\n"
     ]
    },
    {
     "name": "stdout",
     "output_type": "stream",
     "text": [
      "[ Train | 021/300 ] loss = 1.35295, acc = 0.54096\n"
     ]
    },
    {
     "name": "stderr",
     "output_type": "stream",
     "text": [
      "V: 021/300: 100%|█████| 26/26 [00:01<00:00, 15.45it/s, v_loss=2.14, v_acc=0.375]\n"
     ]
    },
    {
     "name": "stdout",
     "output_type": "stream",
     "text": [
      "[ Valid | 021/300 ] loss = 2.14218, acc = 0.37460\n",
      "[ Valid | 021/300 ] loss = 2.14218, acc = 0.37460\n"
     ]
    },
    {
     "name": "stderr",
     "output_type": "stream",
     "text": [
      "T: 022/300: 100%|█| 78/78 [00:07<00:00, 10.68it/s, lr=0.000398, b_loss=1.37, b_a\n"
     ]
    },
    {
     "name": "stdout",
     "output_type": "stream",
     "text": [
      "[ Train | 022/300 ] loss = 1.31108, acc = 0.54654\n"
     ]
    },
    {
     "name": "stderr",
     "output_type": "stream",
     "text": [
      "V: 022/300: 100%|█████| 26/26 [00:01<00:00, 17.16it/s, v_loss=1.54, v_acc=0.495]\n"
     ]
    },
    {
     "name": "stdout",
     "output_type": "stream",
     "text": [
      "[ Valid | 022/300 ] loss = 1.54229, acc = 0.49482\n",
      "[ Valid | 022/300 ] loss = 1.54229, acc = 0.49482\n"
     ]
    },
    {
     "name": "stderr",
     "output_type": "stream",
     "text": [
      "T: 023/300: 100%|█| 78/78 [00:07<00:00, 11.13it/s, lr=0.00039, b_loss=1.27, b_ac\n"
     ]
    },
    {
     "name": "stdout",
     "output_type": "stream",
     "text": [
      "[ Train | 023/300 ] loss = 1.26564, acc = 0.56396\n"
     ]
    },
    {
     "name": "stderr",
     "output_type": "stream",
     "text": [
      "V: 023/300: 100%|██████| 26/26 [00:01<00:00, 17.95it/s, v_loss=1.43, v_acc=0.52]\n"
     ]
    },
    {
     "name": "stdout",
     "output_type": "stream",
     "text": [
      "[ Valid | 023/300 ] loss = 1.43166, acc = 0.52037\n",
      "[ Valid | 023/300 ] loss = 1.43166, acc = 0.52037\n"
     ]
    },
    {
     "name": "stderr",
     "output_type": "stream",
     "text": [
      "T: 024/300: 100%|█| 78/78 [00:06<00:00, 11.17it/s, lr=0.000378, b_loss=1.02, b_a\n"
     ]
    },
    {
     "name": "stdout",
     "output_type": "stream",
     "text": [
      "[ Train | 024/300 ] loss = 1.22302, acc = 0.58092\n"
     ]
    },
    {
     "name": "stderr",
     "output_type": "stream",
     "text": [
      "V: 024/300: 100%|██████| 26/26 [00:01<00:00, 18.52it/s, v_loss=1.31, v_acc=0.55]\n"
     ]
    },
    {
     "name": "stdout",
     "output_type": "stream",
     "text": [
      "[ Valid | 024/300 ] loss = 1.31327, acc = 0.54957\n",
      "[ Valid | 024/300 ] loss = 1.31327, acc = 0.54957\n"
     ]
    },
    {
     "name": "stderr",
     "output_type": "stream",
     "text": [
      "T: 025/300: 100%|█| 78/78 [00:07<00:00, 11.11it/s, lr=0.000362, b_loss=1.63, b_a\n"
     ]
    },
    {
     "name": "stdout",
     "output_type": "stream",
     "text": [
      "[ Train | 025/300 ] loss = 1.19589, acc = 0.59045\n"
     ]
    },
    {
     "name": "stderr",
     "output_type": "stream",
     "text": [
      "V: 025/300: 100%|█████| 26/26 [00:01<00:00, 18.75it/s, v_loss=1.25, v_acc=0.581]\n"
     ]
    },
    {
     "name": "stdout",
     "output_type": "stream",
     "text": [
      "[ Valid | 025/300 ] loss = 1.25079, acc = 0.58149\n",
      "[ Valid | 025/300 ] loss = 1.25079, acc = 0.58149\n"
     ]
    },
    {
     "name": "stderr",
     "output_type": "stream",
     "text": [
      "T: 026/300: 100%|█| 78/78 [00:06<00:00, 11.22it/s, lr=0.000341, b_loss=1.04, b_a\n"
     ]
    },
    {
     "name": "stdout",
     "output_type": "stream",
     "text": [
      "[ Train | 026/300 ] loss = 1.17894, acc = 0.59484\n"
     ]
    },
    {
     "name": "stderr",
     "output_type": "stream",
     "text": [
      "V: 026/300: 100%|█████| 26/26 [00:01<00:00, 16.82it/s, v_loss=1.28, v_acc=0.573]\n"
     ]
    },
    {
     "name": "stdout",
     "output_type": "stream",
     "text": [
      "[ Valid | 026/300 ] loss = 1.27591, acc = 0.57304\n",
      "[ Valid | 026/300 ] loss = 1.27591, acc = 0.57304\n"
     ]
    },
    {
     "name": "stderr",
     "output_type": "stream",
     "text": [
      "T: 027/300: 100%|█| 78/78 [00:07<00:00, 10.88it/s, lr=0.000318, b_loss=1.15, b_a\n"
     ]
    },
    {
     "name": "stdout",
     "output_type": "stream",
     "text": [
      "[ Train | 027/300 ] loss = 1.14019, acc = 0.60446\n"
     ]
    },
    {
     "name": "stderr",
     "output_type": "stream",
     "text": [
      "V: 027/300: 100%|█████| 26/26 [00:01<00:00, 17.42it/s, v_loss=1.26, v_acc=0.587]\n"
     ]
    },
    {
     "name": "stdout",
     "output_type": "stream",
     "text": [
      "[ Valid | 027/300 ] loss = 1.25510, acc = 0.58695\n",
      "[ Valid | 027/300 ] loss = 1.25510, acc = 0.58695\n"
     ]
    },
    {
     "name": "stderr",
     "output_type": "stream",
     "text": [
      "T: 028/300: 100%|█| 78/78 [00:07<00:00, 11.00it/s, lr=0.000291, b_loss=1.36, b_a\n"
     ]
    },
    {
     "name": "stdout",
     "output_type": "stream",
     "text": [
      "[ Train | 028/300 ] loss = 1.09486, acc = 0.61863\n"
     ]
    },
    {
     "name": "stderr",
     "output_type": "stream",
     "text": [
      "V: 028/300: 100%|█████| 26/26 [00:01<00:00, 17.26it/s, v_loss=1.34, v_acc=0.568]\n"
     ]
    },
    {
     "name": "stdout",
     "output_type": "stream",
     "text": [
      "[ Valid | 028/300 ] loss = 1.33946, acc = 0.56772\n",
      "[ Valid | 028/300 ] loss = 1.33946, acc = 0.56772\n"
     ]
    },
    {
     "name": "stderr",
     "output_type": "stream",
     "text": [
      "T: 029/300: 100%|█| 78/78 [00:07<00:00, 10.95it/s, lr=0.000262, b_loss=1.02, b_a\n"
     ]
    },
    {
     "name": "stdout",
     "output_type": "stream",
     "text": [
      "[ Train | 029/300 ] loss = 1.06525, acc = 0.63123\n"
     ]
    },
    {
     "name": "stderr",
     "output_type": "stream",
     "text": [
      "V: 029/300: 100%|█████| 26/26 [00:01<00:00, 18.58it/s, v_loss=1.13, v_acc=0.612]\n"
     ]
    },
    {
     "name": "stdout",
     "output_type": "stream",
     "text": [
      "[ Valid | 029/300 ] loss = 1.12928, acc = 0.61248\n",
      "[ Valid | 029/300 ] loss = 1.12928, acc = 0.61248\n"
     ]
    },
    {
     "name": "stderr",
     "output_type": "stream",
     "text": [
      "T: 030/300: 100%|█| 78/78 [00:06<00:00, 11.15it/s, lr=0.000231, b_loss=1.1, b_ac\n"
     ]
    },
    {
     "name": "stdout",
     "output_type": "stream",
     "text": [
      "[ Train | 030/300 ] loss = 1.05102, acc = 0.63842\n"
     ]
    },
    {
     "name": "stderr",
     "output_type": "stream",
     "text": [
      "V: 030/300: 100%|█████| 26/26 [00:01<00:00, 17.58it/s, v_loss=1.08, v_acc=0.628]\n"
     ]
    },
    {
     "name": "stdout",
     "output_type": "stream",
     "text": [
      "[ Valid | 030/300 ] loss = 1.07793, acc = 0.62846\n",
      "[ Valid | 030/300 ] loss = 1.07793, acc = 0.62846\n"
     ]
    },
    {
     "name": "stderr",
     "output_type": "stream",
     "text": [
      "T: 031/300: 100%|█| 78/78 [00:07<00:00, 10.87it/s, lr=0.0002, b_loss=1.11, b_acc\n"
     ]
    },
    {
     "name": "stdout",
     "output_type": "stream",
     "text": [
      "[ Train | 031/300 ] loss = 1.00358, acc = 0.65330\n"
     ]
    },
    {
     "name": "stderr",
     "output_type": "stream",
     "text": [
      "V: 031/300: 100%|█████| 26/26 [00:01<00:00, 18.88it/s, v_loss=1.18, v_acc=0.589]\n"
     ]
    },
    {
     "name": "stdout",
     "output_type": "stream",
     "text": [
      "[ Valid | 031/300 ] loss = 1.18488, acc = 0.58929\n",
      "[ Valid | 031/300 ] loss = 1.18488, acc = 0.58929\n"
     ]
    },
    {
     "name": "stderr",
     "output_type": "stream",
     "text": [
      "T: 032/300: 100%|█| 78/78 [00:06<00:00, 11.27it/s, lr=0.000169, b_loss=0.97, b_a\n"
     ]
    },
    {
     "name": "stdout",
     "output_type": "stream",
     "text": [
      "[ Train | 032/300 ] loss = 0.98256, acc = 0.66148\n"
     ]
    },
    {
     "name": "stderr",
     "output_type": "stream",
     "text": [
      "V: 032/300: 100%|█████| 26/26 [00:01<00:00, 16.21it/s, v_loss=0.981, v_acc=0.66]\n"
     ]
    },
    {
     "name": "stdout",
     "output_type": "stream",
     "text": [
      "[ Valid | 032/300 ] loss = 0.98150, acc = 0.66031\n",
      "[ Valid | 032/300 ] loss = 0.98150, acc = 0.66031 -> best\n",
      "Best model found at fold 3 epoch 32, acc=0.66031, saving model\n"
     ]
    },
    {
     "name": "stderr",
     "output_type": "stream",
     "text": [
      "T: 033/300: 100%|█| 78/78 [00:06<00:00, 11.40it/s, lr=0.000138, b_loss=0.808, b_\n"
     ]
    },
    {
     "name": "stdout",
     "output_type": "stream",
     "text": [
      "[ Train | 033/300 ] loss = 0.95267, acc = 0.67210\n"
     ]
    },
    {
     "name": "stderr",
     "output_type": "stream",
     "text": [
      "V: 033/300: 100%|████| 26/26 [00:01<00:00, 17.53it/s, v_loss=0.988, v_acc=0.653]\n"
     ]
    },
    {
     "name": "stdout",
     "output_type": "stream",
     "text": [
      "[ Valid | 033/300 ] loss = 0.98795, acc = 0.65342\n",
      "[ Valid | 033/300 ] loss = 0.98795, acc = 0.65342\n"
     ]
    },
    {
     "name": "stderr",
     "output_type": "stream",
     "text": [
      "T: 034/300: 100%|█| 78/78 [00:06<00:00, 11.18it/s, lr=0.000109, b_loss=0.821, b_\n"
     ]
    },
    {
     "name": "stdout",
     "output_type": "stream",
     "text": [
      "[ Train | 034/300 ] loss = 0.90348, acc = 0.68775\n"
     ]
    },
    {
     "name": "stderr",
     "output_type": "stream",
     "text": [
      "V: 034/300: 100%|████| 26/26 [00:01<00:00, 19.17it/s, v_loss=0.966, v_acc=0.662]\n"
     ]
    },
    {
     "name": "stdout",
     "output_type": "stream",
     "text": [
      "[ Valid | 034/300 ] loss = 0.96628, acc = 0.66190\n",
      "[ Valid | 034/300 ] loss = 0.96628, acc = 0.66190 -> best\n",
      "Best model found at fold 3 epoch 34, acc=0.66190, saving model\n"
     ]
    },
    {
     "name": "stderr",
     "output_type": "stream",
     "text": [
      "T: 035/300: 100%|█| 78/78 [00:06<00:00, 11.28it/s, lr=8.24e-5, b_loss=0.929, b_a\n"
     ]
    },
    {
     "name": "stdout",
     "output_type": "stream",
     "text": [
      "[ Train | 035/300 ] loss = 0.89301, acc = 0.69579\n"
     ]
    },
    {
     "name": "stderr",
     "output_type": "stream",
     "text": [
      "V: 035/300: 100%|████| 26/26 [00:01<00:00, 16.17it/s, v_loss=0.895, v_acc=0.698]\n"
     ]
    },
    {
     "name": "stdout",
     "output_type": "stream",
     "text": [
      "[ Valid | 035/300 ] loss = 0.89510, acc = 0.69800\n",
      "[ Valid | 035/300 ] loss = 0.89510, acc = 0.69800 -> best\n",
      "Best model found at fold 3 epoch 35, acc=0.69800, saving model\n"
     ]
    },
    {
     "name": "stderr",
     "output_type": "stream",
     "text": [
      "T: 036/300: 100%|█| 78/78 [00:07<00:00, 11.04it/s, lr=5.86e-5, b_loss=1.13, b_ac\n"
     ]
    },
    {
     "name": "stdout",
     "output_type": "stream",
     "text": [
      "[ Train | 036/300 ] loss = 0.86768, acc = 0.70207\n"
     ]
    },
    {
     "name": "stderr",
     "output_type": "stream",
     "text": [
      "V: 036/300: 100%|█████| 26/26 [00:01<00:00, 17.83it/s, v_loss=0.91, v_acc=0.688]\n"
     ]
    },
    {
     "name": "stdout",
     "output_type": "stream",
     "text": [
      "[ Valid | 036/300 ] loss = 0.91017, acc = 0.68835\n",
      "[ Valid | 036/300 ] loss = 0.91017, acc = 0.68835\n"
     ]
    },
    {
     "name": "stderr",
     "output_type": "stream",
     "text": [
      "T: 037/300: 100%|█| 78/78 [00:06<00:00, 11.17it/s, lr=3.82e-5, b_loss=0.914, b_a\n"
     ]
    },
    {
     "name": "stdout",
     "output_type": "stream",
     "text": [
      "[ Train | 037/300 ] loss = 0.83243, acc = 0.71635\n"
     ]
    },
    {
     "name": "stderr",
     "output_type": "stream",
     "text": [
      "V: 037/300: 100%|████| 26/26 [00:01<00:00, 19.24it/s, v_loss=0.865, v_acc=0.705]\n"
     ]
    },
    {
     "name": "stdout",
     "output_type": "stream",
     "text": [
      "[ Valid | 037/300 ] loss = 0.86541, acc = 0.70486\n",
      "[ Valid | 037/300 ] loss = 0.86541, acc = 0.70486 -> best\n",
      "Best model found at fold 3 epoch 37, acc=0.70486, saving model\n"
     ]
    },
    {
     "name": "stderr",
     "output_type": "stream",
     "text": [
      "T: 038/300: 100%|█| 78/78 [00:06<00:00, 11.29it/s, lr=2.18e-5, b_loss=0.8, b_acc\n"
     ]
    },
    {
     "name": "stdout",
     "output_type": "stream",
     "text": [
      "[ Train | 038/300 ] loss = 0.81842, acc = 0.71642\n"
     ]
    },
    {
     "name": "stderr",
     "output_type": "stream",
     "text": [
      "V: 038/300: 100%|████| 26/26 [00:01<00:00, 18.85it/s, v_loss=0.864, v_acc=0.705]\n"
     ]
    },
    {
     "name": "stdout",
     "output_type": "stream",
     "text": [
      "[ Valid | 038/300 ] loss = 0.86413, acc = 0.70480\n",
      "[ Valid | 038/300 ] loss = 0.86413, acc = 0.70480\n"
     ]
    },
    {
     "name": "stderr",
     "output_type": "stream",
     "text": [
      "T: 039/300: 100%|█| 78/78 [00:07<00:00, 11.13it/s, lr=9.79e-6, b_loss=0.623, b_a\n"
     ]
    },
    {
     "name": "stdout",
     "output_type": "stream",
     "text": [
      "[ Train | 039/300 ] loss = 0.81560, acc = 0.71979\n"
     ]
    },
    {
     "name": "stderr",
     "output_type": "stream",
     "text": [
      "V: 039/300: 100%|████| 26/26 [00:01<00:00, 18.85it/s, v_loss=0.854, v_acc=0.705]\n"
     ]
    },
    {
     "name": "stdout",
     "output_type": "stream",
     "text": [
      "[ Valid | 039/300 ] loss = 0.85365, acc = 0.70484\n",
      "[ Valid | 039/300 ] loss = 0.85365, acc = 0.70484\n"
     ]
    },
    {
     "name": "stderr",
     "output_type": "stream",
     "text": [
      "T: 040/300: 100%|█| 78/78 [00:06<00:00, 11.31it/s, lr=2.46e-6, b_loss=0.819, b_a\n"
     ]
    },
    {
     "name": "stdout",
     "output_type": "stream",
     "text": [
      "[ Train | 040/300 ] loss = 0.81642, acc = 0.71491\n"
     ]
    },
    {
     "name": "stderr",
     "output_type": "stream",
     "text": [
      "V: 040/300: 100%|████| 26/26 [00:01<00:00, 17.52it/s, v_loss=0.849, v_acc=0.709]\n"
     ]
    },
    {
     "name": "stdout",
     "output_type": "stream",
     "text": [
      "[ Valid | 040/300 ] loss = 0.84937, acc = 0.70850\n",
      "[ Valid | 040/300 ] loss = 0.84937, acc = 0.70850 -> best\n",
      "Best model found at fold 3 epoch 40, acc=0.70850, saving model\n"
     ]
    },
    {
     "name": "stderr",
     "output_type": "stream",
     "text": [
      "T: 041/300: 100%|█| 78/78 [00:07<00:00, 11.07it/s, lr=0.0004, b_loss=1.09, b_acc\n"
     ]
    },
    {
     "name": "stdout",
     "output_type": "stream",
     "text": [
      "[ Train | 041/300 ] loss = 1.07317, acc = 0.63184\n"
     ]
    },
    {
     "name": "stderr",
     "output_type": "stream",
     "text": [
      "V: 041/300: 100%|██████| 26/26 [00:01<00:00, 18.70it/s, v_loss=1.46, v_acc=0.54]\n"
     ]
    },
    {
     "name": "stdout",
     "output_type": "stream",
     "text": [
      "[ Valid | 041/300 ] loss = 1.45764, acc = 0.54033\n",
      "[ Valid | 041/300 ] loss = 1.45764, acc = 0.54033\n"
     ]
    },
    {
     "name": "stderr",
     "output_type": "stream",
     "text": [
      "T: 042/300: 100%|█| 78/78 [00:06<00:00, 11.15it/s, lr=0.000398, b_loss=1.14, b_a\n"
     ]
    },
    {
     "name": "stdout",
     "output_type": "stream",
     "text": [
      "[ Train | 042/300 ] loss = 1.07021, acc = 0.62995\n"
     ]
    },
    {
     "name": "stderr",
     "output_type": "stream",
     "text": [
      "V: 042/300: 100%|█████| 26/26 [00:01<00:00, 17.51it/s, v_loss=1.12, v_acc=0.622]\n"
     ]
    },
    {
     "name": "stdout",
     "output_type": "stream",
     "text": [
      "[ Valid | 042/300 ] loss = 1.11968, acc = 0.62154\n",
      "[ Valid | 042/300 ] loss = 1.11968, acc = 0.62154\n"
     ]
    },
    {
     "name": "stderr",
     "output_type": "stream",
     "text": [
      "T: 043/300: 100%|█| 78/78 [00:06<00:00, 11.30it/s, lr=0.00039, b_loss=1.27, b_ac\n"
     ]
    },
    {
     "name": "stdout",
     "output_type": "stream",
     "text": [
      "[ Train | 043/300 ] loss = 1.03594, acc = 0.64173\n"
     ]
    },
    {
     "name": "stderr",
     "output_type": "stream",
     "text": [
      "V: 043/300: 100%|█████| 26/26 [00:01<00:00, 18.18it/s, v_loss=1.12, v_acc=0.615]\n"
     ]
    },
    {
     "name": "stdout",
     "output_type": "stream",
     "text": [
      "[ Valid | 043/300 ] loss = 1.12071, acc = 0.61458\n",
      "[ Valid | 043/300 ] loss = 1.12071, acc = 0.61458\n"
     ]
    },
    {
     "name": "stderr",
     "output_type": "stream",
     "text": [
      "T: 044/300: 100%|█| 78/78 [00:06<00:00, 11.27it/s, lr=0.000378, b_loss=1.08, b_a\n"
     ]
    },
    {
     "name": "stdout",
     "output_type": "stream",
     "text": [
      "[ Train | 044/300 ] loss = 1.01053, acc = 0.65340\n"
     ]
    },
    {
     "name": "stderr",
     "output_type": "stream",
     "text": [
      "V: 044/300: 100%|█████| 26/26 [00:01<00:00, 16.65it/s, v_loss=1.26, v_acc=0.593]\n"
     ]
    },
    {
     "name": "stdout",
     "output_type": "stream",
     "text": [
      "[ Valid | 044/300 ] loss = 1.25958, acc = 0.59294\n",
      "[ Valid | 044/300 ] loss = 1.25958, acc = 0.59294\n"
     ]
    },
    {
     "name": "stderr",
     "output_type": "stream",
     "text": [
      "T: 045/300: 100%|█| 78/78 [00:06<00:00, 11.46it/s, lr=0.000362, b_loss=1.15, b_a\n"
     ]
    },
    {
     "name": "stdout",
     "output_type": "stream",
     "text": [
      "[ Train | 045/300 ] loss = 1.00073, acc = 0.65599\n"
     ]
    },
    {
     "name": "stderr",
     "output_type": "stream",
     "text": [
      "V: 045/300: 100%|█████| 26/26 [00:01<00:00, 17.43it/s, v_loss=1.19, v_acc=0.597]\n"
     ]
    },
    {
     "name": "stdout",
     "output_type": "stream",
     "text": [
      "[ Valid | 045/300 ] loss = 1.18948, acc = 0.59695\n",
      "[ Valid | 045/300 ] loss = 1.18948, acc = 0.59695\n"
     ]
    },
    {
     "name": "stderr",
     "output_type": "stream",
     "text": [
      "T: 046/300: 100%|█| 78/78 [00:06<00:00, 11.29it/s, lr=0.000341, b_loss=0.799, b_\n"
     ]
    },
    {
     "name": "stdout",
     "output_type": "stream",
     "text": [
      "[ Train | 046/300 ] loss = 0.97906, acc = 0.66502\n"
     ]
    },
    {
     "name": "stderr",
     "output_type": "stream",
     "text": [
      "V: 046/300: 100%|█████| 26/26 [00:01<00:00, 16.23it/s, v_loss=1.42, v_acc=0.564]\n"
     ]
    },
    {
     "name": "stdout",
     "output_type": "stream",
     "text": [
      "[ Valid | 046/300 ] loss = 1.41725, acc = 0.56432\n",
      "[ Valid | 046/300 ] loss = 1.41725, acc = 0.56432\n"
     ]
    },
    {
     "name": "stderr",
     "output_type": "stream",
     "text": [
      "T: 047/300: 100%|█| 78/78 [00:06<00:00, 11.35it/s, lr=0.000318, b_loss=0.819, b_\n"
     ]
    },
    {
     "name": "stdout",
     "output_type": "stream",
     "text": [
      "[ Train | 047/300 ] loss = 0.95136, acc = 0.67342\n"
     ]
    },
    {
     "name": "stderr",
     "output_type": "stream",
     "text": [
      "V: 047/300: 100%|██████| 26/26 [00:01<00:00, 18.05it/s, v_loss=1.14, v_acc=0.62]\n"
     ]
    },
    {
     "name": "stdout",
     "output_type": "stream",
     "text": [
      "[ Valid | 047/300 ] loss = 1.14115, acc = 0.61980\n",
      "[ Valid | 047/300 ] loss = 1.14115, acc = 0.61980\n"
     ]
    },
    {
     "name": "stderr",
     "output_type": "stream",
     "text": [
      "T: 048/300: 100%|█| 78/78 [00:06<00:00, 11.35it/s, lr=0.000291, b_loss=0.971, b_\n"
     ]
    },
    {
     "name": "stdout",
     "output_type": "stream",
     "text": [
      "[ Train | 048/300 ] loss = 0.90932, acc = 0.68889\n"
     ]
    },
    {
     "name": "stderr",
     "output_type": "stream",
     "text": [
      "V: 048/300: 100%|█████| 26/26 [00:01<00:00, 18.05it/s, v_loss=1.05, v_acc=0.641]\n"
     ]
    },
    {
     "name": "stdout",
     "output_type": "stream",
     "text": [
      "[ Valid | 048/300 ] loss = 1.05362, acc = 0.64138\n",
      "[ Valid | 048/300 ] loss = 1.05362, acc = 0.64138\n"
     ]
    },
    {
     "name": "stderr",
     "output_type": "stream",
     "text": [
      "T: 049/300: 100%|█| 78/78 [00:06<00:00, 11.25it/s, lr=0.000262, b_loss=0.707, b_\n"
     ]
    },
    {
     "name": "stdout",
     "output_type": "stream",
     "text": [
      "[ Train | 049/300 ] loss = 0.87468, acc = 0.69794\n"
     ]
    },
    {
     "name": "stderr",
     "output_type": "stream",
     "text": [
      "V: 049/300: 100%|████| 26/26 [00:01<00:00, 18.95it/s, v_loss=0.938, v_acc=0.678]\n"
     ]
    },
    {
     "name": "stdout",
     "output_type": "stream",
     "text": [
      "[ Valid | 049/300 ] loss = 0.93784, acc = 0.67775\n",
      "[ Valid | 049/300 ] loss = 0.93784, acc = 0.67775\n"
     ]
    },
    {
     "name": "stderr",
     "output_type": "stream",
     "text": [
      "T: 050/300: 100%|█| 78/78 [00:06<00:00, 11.31it/s, lr=0.000231, b_loss=1.04, b_a\n"
     ]
    },
    {
     "name": "stdout",
     "output_type": "stream",
     "text": [
      "[ Train | 050/300 ] loss = 0.85176, acc = 0.70825\n"
     ]
    },
    {
     "name": "stderr",
     "output_type": "stream",
     "text": [
      "V: 050/300: 100%|████████| 26/26 [00:01<00:00, 18.18it/s, v_loss=1, v_acc=0.667]\n"
     ]
    },
    {
     "name": "stdout",
     "output_type": "stream",
     "text": [
      "[ Valid | 050/300 ] loss = 0.99977, acc = 0.66694\n",
      "[ Valid | 050/300 ] loss = 0.99977, acc = 0.66694\n"
     ]
    },
    {
     "name": "stderr",
     "output_type": "stream",
     "text": [
      "T: 051/300: 100%|█| 78/78 [00:06<00:00, 11.19it/s, lr=0.0002, b_loss=0.807, b_ac\n"
     ]
    },
    {
     "name": "stdout",
     "output_type": "stream",
     "text": [
      "[ Train | 051/300 ] loss = 0.83135, acc = 0.71202\n"
     ]
    },
    {
     "name": "stderr",
     "output_type": "stream",
     "text": [
      "V: 051/300: 100%|█████| 26/26 [00:01<00:00, 18.99it/s, v_loss=1.11, v_acc=0.632]\n"
     ]
    },
    {
     "name": "stdout",
     "output_type": "stream",
     "text": [
      "[ Valid | 051/300 ] loss = 1.10987, acc = 0.63208\n",
      "[ Valid | 051/300 ] loss = 1.10987, acc = 0.63208\n"
     ]
    },
    {
     "name": "stderr",
     "output_type": "stream",
     "text": [
      "T: 052/300: 100%|█| 78/78 [00:06<00:00, 11.27it/s, lr=0.000169, b_loss=0.785, b_\n"
     ]
    },
    {
     "name": "stdout",
     "output_type": "stream",
     "text": [
      "[ Train | 052/300 ] loss = 0.79721, acc = 0.71918\n"
     ]
    },
    {
     "name": "stderr",
     "output_type": "stream",
     "text": [
      "V: 052/300: 100%|████| 26/26 [00:01<00:00, 18.52it/s, v_loss=0.886, v_acc=0.702]\n"
     ]
    },
    {
     "name": "stdout",
     "output_type": "stream",
     "text": [
      "[ Valid | 052/300 ] loss = 0.88597, acc = 0.70218\n",
      "[ Valid | 052/300 ] loss = 0.88597, acc = 0.70218\n"
     ]
    },
    {
     "name": "stderr",
     "output_type": "stream",
     "text": [
      "T: 053/300: 100%|█| 78/78 [00:06<00:00, 11.37it/s, lr=0.000138, b_loss=0.801, b_\n"
     ]
    },
    {
     "name": "stdout",
     "output_type": "stream",
     "text": [
      "[ Train | 053/300 ] loss = 0.76767, acc = 0.73744\n"
     ]
    },
    {
     "name": "stderr",
     "output_type": "stream",
     "text": [
      "V: 053/300: 100%|████| 26/26 [00:01<00:00, 16.51it/s, v_loss=0.859, v_acc=0.705]\n"
     ]
    },
    {
     "name": "stdout",
     "output_type": "stream",
     "text": [
      "[ Valid | 053/300 ] loss = 0.85929, acc = 0.70458\n",
      "[ Valid | 053/300 ] loss = 0.85929, acc = 0.70458\n"
     ]
    },
    {
     "name": "stderr",
     "output_type": "stream",
     "text": [
      "T: 054/300: 100%|█| 78/78 [00:07<00:00, 11.14it/s, lr=0.000109, b_loss=0.689, b_\n"
     ]
    },
    {
     "name": "stdout",
     "output_type": "stream",
     "text": [
      "[ Train | 054/300 ] loss = 0.74904, acc = 0.73821\n"
     ]
    },
    {
     "name": "stderr",
     "output_type": "stream",
     "text": [
      "V: 054/300: 100%|█████| 26/26 [00:01<00:00, 18.25it/s, v_loss=0.88, v_acc=0.708]\n"
     ]
    },
    {
     "name": "stdout",
     "output_type": "stream",
     "text": [
      "[ Valid | 054/300 ] loss = 0.88015, acc = 0.70761\n",
      "[ Valid | 054/300 ] loss = 0.88015, acc = 0.70761\n"
     ]
    },
    {
     "name": "stderr",
     "output_type": "stream",
     "text": [
      "T: 055/300: 100%|█| 78/78 [00:07<00:00, 11.04it/s, lr=8.24e-5, b_loss=0.782, b_a\n"
     ]
    },
    {
     "name": "stdout",
     "output_type": "stream",
     "text": [
      "[ Train | 055/300 ] loss = 0.72634, acc = 0.74932\n"
     ]
    },
    {
     "name": "stderr",
     "output_type": "stream",
     "text": [
      "V: 055/300: 100%|████| 26/26 [00:01<00:00, 17.93it/s, v_loss=0.833, v_acc=0.719]\n"
     ]
    },
    {
     "name": "stdout",
     "output_type": "stream",
     "text": [
      "[ Valid | 055/300 ] loss = 0.83268, acc = 0.71923\n",
      "[ Valid | 055/300 ] loss = 0.83268, acc = 0.71923 -> best\n",
      "Best model found at fold 3 epoch 55, acc=0.71923, saving model\n"
     ]
    },
    {
     "name": "stderr",
     "output_type": "stream",
     "text": [
      "T: 056/300: 100%|█| 78/78 [00:06<00:00, 11.20it/s, lr=5.86e-5, b_loss=0.566, b_a\n"
     ]
    },
    {
     "name": "stdout",
     "output_type": "stream",
     "text": [
      "[ Train | 056/300 ] loss = 0.70961, acc = 0.75143\n"
     ]
    },
    {
     "name": "stderr",
     "output_type": "stream",
     "text": [
      "V: 056/300: 100%|████| 26/26 [00:01<00:00, 18.09it/s, v_loss=0.787, v_acc=0.729]\n"
     ]
    },
    {
     "name": "stdout",
     "output_type": "stream",
     "text": [
      "[ Valid | 056/300 ] loss = 0.78687, acc = 0.72923\n",
      "[ Valid | 056/300 ] loss = 0.78687, acc = 0.72923 -> best\n",
      "Best model found at fold 3 epoch 56, acc=0.72923, saving model\n"
     ]
    },
    {
     "name": "stderr",
     "output_type": "stream",
     "text": [
      "T: 057/300: 100%|█| 78/78 [00:06<00:00, 11.33it/s, lr=3.82e-5, b_loss=0.738, b_a\n"
     ]
    },
    {
     "name": "stdout",
     "output_type": "stream",
     "text": [
      "[ Train | 057/300 ] loss = 0.69492, acc = 0.76320\n"
     ]
    },
    {
     "name": "stderr",
     "output_type": "stream",
     "text": [
      "V: 057/300: 100%|████| 26/26 [00:01<00:00, 16.75it/s, v_loss=0.795, v_acc=0.732]\n"
     ]
    },
    {
     "name": "stdout",
     "output_type": "stream",
     "text": [
      "[ Valid | 057/300 ] loss = 0.79452, acc = 0.73195\n",
      "[ Valid | 057/300 ] loss = 0.79452, acc = 0.73195 -> best\n",
      "Best model found at fold 3 epoch 57, acc=0.73195, saving model\n"
     ]
    },
    {
     "name": "stderr",
     "output_type": "stream",
     "text": [
      "T: 058/300: 100%|█| 78/78 [00:07<00:00, 11.01it/s, lr=2.18e-5, b_loss=0.55, b_ac\n"
     ]
    },
    {
     "name": "stdout",
     "output_type": "stream",
     "text": [
      "[ Train | 058/300 ] loss = 0.66662, acc = 0.76920\n"
     ]
    },
    {
     "name": "stderr",
     "output_type": "stream",
     "text": [
      "V: 058/300: 100%|█████| 26/26 [00:01<00:00, 16.58it/s, v_loss=0.78, v_acc=0.733]\n"
     ]
    },
    {
     "name": "stdout",
     "output_type": "stream",
     "text": [
      "[ Valid | 058/300 ] loss = 0.77980, acc = 0.73315\n",
      "[ Valid | 058/300 ] loss = 0.77980, acc = 0.73315 -> best\n",
      "Best model found at fold 3 epoch 58, acc=0.73315, saving model\n"
     ]
    },
    {
     "name": "stderr",
     "output_type": "stream",
     "text": [
      "T: 059/300: 100%|█| 78/78 [00:07<00:00, 11.13it/s, lr=9.79e-6, b_loss=0.658, b_a\n"
     ]
    },
    {
     "name": "stdout",
     "output_type": "stream",
     "text": [
      "[ Train | 059/300 ] loss = 0.66629, acc = 0.76831\n"
     ]
    },
    {
     "name": "stderr",
     "output_type": "stream",
     "text": [
      "V: 059/300: 100%|████| 26/26 [00:01<00:00, 18.28it/s, v_loss=0.768, v_acc=0.739]\n"
     ]
    },
    {
     "name": "stdout",
     "output_type": "stream",
     "text": [
      "[ Valid | 059/300 ] loss = 0.76798, acc = 0.73920\n",
      "[ Valid | 059/300 ] loss = 0.76798, acc = 0.73920 -> best\n",
      "Best model found at fold 3 epoch 59, acc=0.73920, saving model\n"
     ]
    },
    {
     "name": "stderr",
     "output_type": "stream",
     "text": [
      "T: 060/300: 100%|█| 78/78 [00:06<00:00, 11.26it/s, lr=2.46e-6, b_loss=0.734, b_a\n"
     ]
    },
    {
     "name": "stdout",
     "output_type": "stream",
     "text": [
      "[ Train | 060/300 ] loss = 0.65200, acc = 0.77280\n"
     ]
    },
    {
     "name": "stderr",
     "output_type": "stream",
     "text": [
      "V: 060/300: 100%|████| 26/26 [00:01<00:00, 17.43it/s, v_loss=0.773, v_acc=0.739]\n"
     ]
    },
    {
     "name": "stdout",
     "output_type": "stream",
     "text": [
      "[ Valid | 060/300 ] loss = 0.77315, acc = 0.73856\n",
      "[ Valid | 060/300 ] loss = 0.77315, acc = 0.73856\n"
     ]
    },
    {
     "name": "stderr",
     "output_type": "stream",
     "text": [
      "T: 061/300: 100%|█| 78/78 [00:06<00:00, 11.34it/s, lr=0.0004, b_loss=1.02, b_acc\n"
     ]
    },
    {
     "name": "stdout",
     "output_type": "stream",
     "text": [
      "[ Train | 061/300 ] loss = 0.90636, acc = 0.68409\n"
     ]
    },
    {
     "name": "stderr",
     "output_type": "stream",
     "text": [
      "V: 061/300: 100%|█████| 26/26 [00:01<00:00, 17.82it/s, v_loss=1.26, v_acc=0.591]\n"
     ]
    },
    {
     "name": "stdout",
     "output_type": "stream",
     "text": [
      "[ Valid | 061/300 ] loss = 1.25638, acc = 0.59147\n",
      "[ Valid | 061/300 ] loss = 1.25638, acc = 0.59147\n"
     ]
    },
    {
     "name": "stderr",
     "output_type": "stream",
     "text": [
      "T: 062/300: 100%|█| 78/78 [00:07<00:00, 10.97it/s, lr=0.000398, b_loss=1.17, b_a\n"
     ]
    },
    {
     "name": "stdout",
     "output_type": "stream",
     "text": [
      "[ Train | 062/300 ] loss = 0.92769, acc = 0.68188\n"
     ]
    },
    {
     "name": "stderr",
     "output_type": "stream",
     "text": [
      "V: 062/300: 100%|█████| 26/26 [00:01<00:00, 15.09it/s, v_loss=1.12, v_acc=0.635]\n"
     ]
    },
    {
     "name": "stdout",
     "output_type": "stream",
     "text": [
      "[ Valid | 062/300 ] loss = 1.11625, acc = 0.63550\n",
      "[ Valid | 062/300 ] loss = 1.11625, acc = 0.63550\n"
     ]
    },
    {
     "name": "stderr",
     "output_type": "stream",
     "text": [
      "T: 063/300: 100%|█| 78/78 [00:07<00:00, 11.14it/s, lr=0.00039, b_loss=0.871, b_a\n"
     ]
    },
    {
     "name": "stdout",
     "output_type": "stream",
     "text": [
      "[ Train | 063/300 ] loss = 0.87810, acc = 0.69756\n"
     ]
    },
    {
     "name": "stderr",
     "output_type": "stream",
     "text": [
      "V: 063/300: 100%|█████| 26/26 [00:01<00:00, 16.73it/s, v_loss=1.23, v_acc=0.597]\n"
     ]
    },
    {
     "name": "stdout",
     "output_type": "stream",
     "text": [
      "[ Valid | 063/300 ] loss = 1.22544, acc = 0.59721\n",
      "[ Valid | 063/300 ] loss = 1.22544, acc = 0.59721\n"
     ]
    },
    {
     "name": "stderr",
     "output_type": "stream",
     "text": [
      "T: 064/300: 100%|█| 78/78 [00:07<00:00, 11.08it/s, lr=0.000378, b_loss=0.854, b_\n"
     ]
    },
    {
     "name": "stdout",
     "output_type": "stream",
     "text": [
      "[ Train | 064/300 ] loss = 0.86735, acc = 0.70099\n"
     ]
    },
    {
     "name": "stderr",
     "output_type": "stream",
     "text": [
      "V: 064/300: 100%|█████| 26/26 [00:01<00:00, 16.80it/s, v_loss=1.15, v_acc=0.622]\n"
     ]
    },
    {
     "name": "stdout",
     "output_type": "stream",
     "text": [
      "[ Valid | 064/300 ] loss = 1.14750, acc = 0.62240\n",
      "[ Valid | 064/300 ] loss = 1.14750, acc = 0.62240\n"
     ]
    },
    {
     "name": "stderr",
     "output_type": "stream",
     "text": [
      "T: 065/300: 100%|█| 78/78 [00:07<00:00, 11.10it/s, lr=0.000362, b_loss=0.838, b_\n"
     ]
    },
    {
     "name": "stdout",
     "output_type": "stream",
     "text": [
      "[ Train | 065/300 ] loss = 0.83461, acc = 0.71307\n"
     ]
    },
    {
     "name": "stderr",
     "output_type": "stream",
     "text": [
      "V: 065/300: 100%|████| 26/26 [00:01<00:00, 16.99it/s, v_loss=0.981, v_acc=0.673]\n"
     ]
    },
    {
     "name": "stdout",
     "output_type": "stream",
     "text": [
      "[ Valid | 065/300 ] loss = 0.98110, acc = 0.67330\n",
      "[ Valid | 065/300 ] loss = 0.98110, acc = 0.67330\n"
     ]
    },
    {
     "name": "stderr",
     "output_type": "stream",
     "text": [
      "T: 066/300: 100%|█| 78/78 [00:06<00:00, 11.27it/s, lr=0.000341, b_loss=0.886, b_\n"
     ]
    },
    {
     "name": "stdout",
     "output_type": "stream",
     "text": [
      "[ Train | 066/300 ] loss = 0.83439, acc = 0.70639\n"
     ]
    },
    {
     "name": "stderr",
     "output_type": "stream",
     "text": [
      "V: 066/300: 100%|█████| 26/26 [00:01<00:00, 16.87it/s, v_loss=1.01, v_acc=0.672]\n"
     ]
    },
    {
     "name": "stdout",
     "output_type": "stream",
     "text": [
      "[ Valid | 066/300 ] loss = 1.00502, acc = 0.67155\n",
      "[ Valid | 066/300 ] loss = 1.00502, acc = 0.67155\n"
     ]
    },
    {
     "name": "stderr",
     "output_type": "stream",
     "text": [
      "T: 067/300: 100%|█| 78/78 [00:06<00:00, 11.29it/s, lr=0.000318, b_loss=0.659, b_\n"
     ]
    },
    {
     "name": "stdout",
     "output_type": "stream",
     "text": [
      "[ Train | 067/300 ] loss = 0.80125, acc = 0.72409\n"
     ]
    },
    {
     "name": "stderr",
     "output_type": "stream",
     "text": [
      "V: 067/300: 100%|████| 26/26 [00:01<00:00, 17.26it/s, v_loss=0.907, v_acc=0.692]\n"
     ]
    },
    {
     "name": "stdout",
     "output_type": "stream",
     "text": [
      "[ Valid | 067/300 ] loss = 0.90722, acc = 0.69219\n",
      "[ Valid | 067/300 ] loss = 0.90722, acc = 0.69219\n"
     ]
    },
    {
     "name": "stderr",
     "output_type": "stream",
     "text": [
      "T: 068/300: 100%|█| 78/78 [00:06<00:00, 11.16it/s, lr=0.000291, b_loss=0.606, b_\n"
     ]
    },
    {
     "name": "stdout",
     "output_type": "stream",
     "text": [
      "[ Train | 068/300 ] loss = 0.76956, acc = 0.73215\n"
     ]
    },
    {
     "name": "stderr",
     "output_type": "stream",
     "text": [
      "V: 068/300: 100%|█████| 26/26 [00:01<00:00, 17.17it/s, v_loss=0.91, v_acc=0.691]\n"
     ]
    },
    {
     "name": "stdout",
     "output_type": "stream",
     "text": [
      "[ Valid | 068/300 ] loss = 0.91046, acc = 0.69099\n",
      "[ Valid | 068/300 ] loss = 0.91046, acc = 0.69099\n"
     ]
    },
    {
     "name": "stderr",
     "output_type": "stream",
     "text": [
      "T: 069/300: 100%|█| 78/78 [00:06<00:00, 11.31it/s, lr=0.000262, b_loss=0.788, b_\n"
     ]
    },
    {
     "name": "stdout",
     "output_type": "stream",
     "text": [
      "[ Train | 069/300 ] loss = 0.74911, acc = 0.74130\n"
     ]
    },
    {
     "name": "stderr",
     "output_type": "stream",
     "text": [
      "V: 069/300: 100%|█████| 26/26 [00:01<00:00, 17.70it/s, v_loss=1.08, v_acc=0.664]\n"
     ]
    },
    {
     "name": "stdout",
     "output_type": "stream",
     "text": [
      "[ Valid | 069/300 ] loss = 1.08431, acc = 0.66427\n",
      "[ Valid | 069/300 ] loss = 1.08431, acc = 0.66427\n"
     ]
    },
    {
     "name": "stderr",
     "output_type": "stream",
     "text": [
      "T: 070/300: 100%|█| 78/78 [00:06<00:00, 11.38it/s, lr=0.000231, b_loss=0.969, b_\n"
     ]
    },
    {
     "name": "stdout",
     "output_type": "stream",
     "text": [
      "[ Train | 070/300 ] loss = 0.73070, acc = 0.74467\n"
     ]
    },
    {
     "name": "stderr",
     "output_type": "stream",
     "text": [
      "V: 070/300: 100%|████| 26/26 [00:01<00:00, 18.92it/s, v_loss=0.865, v_acc=0.714]\n"
     ]
    },
    {
     "name": "stdout",
     "output_type": "stream",
     "text": [
      "[ Valid | 070/300 ] loss = 0.86456, acc = 0.71400\n",
      "[ Valid | 070/300 ] loss = 0.86456, acc = 0.71400\n"
     ]
    },
    {
     "name": "stderr",
     "output_type": "stream",
     "text": [
      "T: 071/300: 100%|█| 78/78 [00:06<00:00, 11.34it/s, lr=0.0002, b_loss=0.92, b_acc\n"
     ]
    },
    {
     "name": "stdout",
     "output_type": "stream",
     "text": [
      "[ Train | 071/300 ] loss = 0.69705, acc = 0.76205\n"
     ]
    },
    {
     "name": "stderr",
     "output_type": "stream",
     "text": [
      "V: 071/300: 100%|████| 26/26 [00:01<00:00, 18.19it/s, v_loss=0.912, v_acc=0.703]\n"
     ]
    },
    {
     "name": "stdout",
     "output_type": "stream",
     "text": [
      "[ Valid | 071/300 ] loss = 0.91157, acc = 0.70347\n",
      "[ Valid | 071/300 ] loss = 0.91157, acc = 0.70347\n"
     ]
    },
    {
     "name": "stderr",
     "output_type": "stream",
     "text": [
      "T: 072/300: 100%|█| 78/78 [00:06<00:00, 11.22it/s, lr=0.000169, b_loss=0.825, b_\n"
     ]
    },
    {
     "name": "stdout",
     "output_type": "stream",
     "text": [
      "[ Train | 072/300 ] loss = 0.67837, acc = 0.76883\n"
     ]
    },
    {
     "name": "stderr",
     "output_type": "stream",
     "text": [
      "V: 072/300: 100%|████| 26/26 [00:01<00:00, 17.31it/s, v_loss=0.842, v_acc=0.721]\n"
     ]
    },
    {
     "name": "stdout",
     "output_type": "stream",
     "text": [
      "[ Valid | 072/300 ] loss = 0.84176, acc = 0.72102\n",
      "[ Valid | 072/300 ] loss = 0.84176, acc = 0.72102\n"
     ]
    },
    {
     "name": "stderr",
     "output_type": "stream",
     "text": [
      "T: 073/300: 100%|█| 78/78 [00:06<00:00, 11.21it/s, lr=0.000138, b_loss=0.731, b_\n"
     ]
    },
    {
     "name": "stdout",
     "output_type": "stream",
     "text": [
      "[ Train | 073/300 ] loss = 0.65846, acc = 0.77202\n"
     ]
    },
    {
     "name": "stderr",
     "output_type": "stream",
     "text": [
      "V: 073/300: 100%|████| 26/26 [00:01<00:00, 17.74it/s, v_loss=0.763, v_acc=0.749]\n"
     ]
    },
    {
     "name": "stdout",
     "output_type": "stream",
     "text": [
      "[ Valid | 073/300 ] loss = 0.76265, acc = 0.74911\n",
      "[ Valid | 073/300 ] loss = 0.76265, acc = 0.74911 -> best\n",
      "Best model found at fold 3 epoch 73, acc=0.74911, saving model\n"
     ]
    },
    {
     "name": "stderr",
     "output_type": "stream",
     "text": [
      "T: 074/300: 100%|█| 78/78 [00:06<00:00, 11.25it/s, lr=0.000109, b_loss=0.71, b_a\n"
     ]
    },
    {
     "name": "stdout",
     "output_type": "stream",
     "text": [
      "[ Train | 074/300 ] loss = 0.62446, acc = 0.78204\n"
     ]
    },
    {
     "name": "stderr",
     "output_type": "stream",
     "text": [
      "V: 074/300: 100%|████| 26/26 [00:01<00:00, 17.05it/s, v_loss=0.834, v_acc=0.726]\n"
     ]
    },
    {
     "name": "stdout",
     "output_type": "stream",
     "text": [
      "[ Valid | 074/300 ] loss = 0.83405, acc = 0.72593\n",
      "[ Valid | 074/300 ] loss = 0.83405, acc = 0.72593\n"
     ]
    },
    {
     "name": "stderr",
     "output_type": "stream",
     "text": [
      "T: 075/300: 100%|█| 78/78 [00:06<00:00, 11.23it/s, lr=8.24e-5, b_loss=0.637, b_a\n"
     ]
    },
    {
     "name": "stdout",
     "output_type": "stream",
     "text": [
      "[ Train | 075/300 ] loss = 0.61030, acc = 0.79108\n"
     ]
    },
    {
     "name": "stderr",
     "output_type": "stream",
     "text": [
      "V: 075/300: 100%|█████| 26/26 [00:01<00:00, 17.13it/s, v_loss=0.768, v_acc=0.74]\n"
     ]
    },
    {
     "name": "stdout",
     "output_type": "stream",
     "text": [
      "[ Valid | 075/300 ] loss = 0.76838, acc = 0.74038\n",
      "[ Valid | 075/300 ] loss = 0.76838, acc = 0.74038\n"
     ]
    },
    {
     "name": "stderr",
     "output_type": "stream",
     "text": [
      "T: 076/300: 100%|█| 78/78 [00:07<00:00, 10.94it/s, lr=5.86e-5, b_loss=0.648, b_a\n"
     ]
    },
    {
     "name": "stdout",
     "output_type": "stream",
     "text": [
      "[ Train | 076/300 ] loss = 0.59716, acc = 0.79591\n"
     ]
    },
    {
     "name": "stderr",
     "output_type": "stream",
     "text": [
      "V: 076/300: 100%|████| 26/26 [00:01<00:00, 17.83it/s, v_loss=0.745, v_acc=0.757]\n"
     ]
    },
    {
     "name": "stdout",
     "output_type": "stream",
     "text": [
      "[ Valid | 076/300 ] loss = 0.74512, acc = 0.75718\n",
      "[ Valid | 076/300 ] loss = 0.74512, acc = 0.75718 -> best\n",
      "Best model found at fold 3 epoch 76, acc=0.75718, saving model\n"
     ]
    },
    {
     "name": "stderr",
     "output_type": "stream",
     "text": [
      "T: 077/300: 100%|█| 78/78 [00:07<00:00, 11.05it/s, lr=3.82e-5, b_loss=0.636, b_a\n"
     ]
    },
    {
     "name": "stdout",
     "output_type": "stream",
     "text": [
      "[ Train | 077/300 ] loss = 0.57084, acc = 0.80084\n"
     ]
    },
    {
     "name": "stderr",
     "output_type": "stream",
     "text": [
      "V: 077/300: 100%|████| 26/26 [00:01<00:00, 17.73it/s, v_loss=0.728, v_acc=0.758]\n"
     ]
    },
    {
     "name": "stdout",
     "output_type": "stream",
     "text": [
      "[ Valid | 077/300 ] loss = 0.72833, acc = 0.75776\n",
      "[ Valid | 077/300 ] loss = 0.72833, acc = 0.75776 -> best\n",
      "Best model found at fold 3 epoch 77, acc=0.75776, saving model\n"
     ]
    },
    {
     "name": "stderr",
     "output_type": "stream",
     "text": [
      "T: 078/300: 100%|█| 78/78 [00:07<00:00, 11.07it/s, lr=2.18e-5, b_loss=0.558, b_a\n"
     ]
    },
    {
     "name": "stdout",
     "output_type": "stream",
     "text": [
      "[ Train | 078/300 ] loss = 0.56136, acc = 0.80425\n"
     ]
    },
    {
     "name": "stderr",
     "output_type": "stream",
     "text": [
      "V: 078/300: 100%|████| 26/26 [00:01<00:00, 17.42it/s, v_loss=0.728, v_acc=0.758]\n"
     ]
    },
    {
     "name": "stdout",
     "output_type": "stream",
     "text": [
      "[ Valid | 078/300 ] loss = 0.72849, acc = 0.75842\n",
      "[ Valid | 078/300 ] loss = 0.72849, acc = 0.75842 -> best\n",
      "Best model found at fold 3 epoch 78, acc=0.75842, saving model\n"
     ]
    },
    {
     "name": "stderr",
     "output_type": "stream",
     "text": [
      "T: 079/300: 100%|█| 78/78 [00:07<00:00, 11.12it/s, lr=9.79e-6, b_loss=0.675, b_a\n"
     ]
    },
    {
     "name": "stdout",
     "output_type": "stream",
     "text": [
      "[ Train | 079/300 ] loss = 0.54373, acc = 0.80763\n"
     ]
    },
    {
     "name": "stderr",
     "output_type": "stream",
     "text": [
      "V: 079/300: 100%|████| 26/26 [00:01<00:00, 18.68it/s, v_loss=0.728, v_acc=0.761]\n"
     ]
    },
    {
     "name": "stdout",
     "output_type": "stream",
     "text": [
      "[ Valid | 079/300 ] loss = 0.72799, acc = 0.76051\n",
      "[ Valid | 079/300 ] loss = 0.72799, acc = 0.76051 -> best\n",
      "Best model found at fold 3 epoch 79, acc=0.76051, saving model\n"
     ]
    },
    {
     "name": "stderr",
     "output_type": "stream",
     "text": [
      "T: 080/300: 100%|█| 78/78 [00:07<00:00, 10.84it/s, lr=2.46e-6, b_loss=0.578, b_a\n"
     ]
    },
    {
     "name": "stdout",
     "output_type": "stream",
     "text": [
      "[ Train | 080/300 ] loss = 0.54942, acc = 0.81045\n"
     ]
    },
    {
     "name": "stderr",
     "output_type": "stream",
     "text": [
      "V: 080/300: 100%|█████| 26/26 [00:01<00:00, 18.77it/s, v_loss=0.729, v_acc=0.76]\n"
     ]
    },
    {
     "name": "stdout",
     "output_type": "stream",
     "text": [
      "[ Valid | 080/300 ] loss = 0.72946, acc = 0.75992\n",
      "[ Valid | 080/300 ] loss = 0.72946, acc = 0.75992\n"
     ]
    },
    {
     "name": "stderr",
     "output_type": "stream",
     "text": [
      "T: 081/300: 100%|█| 78/78 [00:06<00:00, 11.19it/s, lr=0.0004, b_loss=0.849, b_ac\n"
     ]
    },
    {
     "name": "stdout",
     "output_type": "stream",
     "text": [
      "[ Train | 081/300 ] loss = 0.78985, acc = 0.72568\n"
     ]
    },
    {
     "name": "stderr",
     "output_type": "stream",
     "text": [
      "V: 081/300: 100%|█████| 26/26 [00:01<00:00, 17.42it/s, v_loss=1.17, v_acc=0.627]\n"
     ]
    },
    {
     "name": "stdout",
     "output_type": "stream",
     "text": [
      "[ Valid | 081/300 ] loss = 1.16724, acc = 0.62663\n",
      "[ Valid | 081/300 ] loss = 1.16724, acc = 0.62663\n"
     ]
    },
    {
     "name": "stderr",
     "output_type": "stream",
     "text": [
      "T: 082/300: 100%|█| 78/78 [00:06<00:00, 11.36it/s, lr=0.000398, b_loss=0.851, b_\n"
     ]
    },
    {
     "name": "stdout",
     "output_type": "stream",
     "text": [
      "[ Train | 082/300 ] loss = 0.78813, acc = 0.72859\n"
     ]
    },
    {
     "name": "stderr",
     "output_type": "stream",
     "text": [
      "V: 082/300: 100%|████| 26/26 [00:01<00:00, 16.94it/s, v_loss=0.926, v_acc=0.694]\n"
     ]
    },
    {
     "name": "stdout",
     "output_type": "stream",
     "text": [
      "[ Valid | 082/300 ] loss = 0.92613, acc = 0.69442\n",
      "[ Valid | 082/300 ] loss = 0.92613, acc = 0.69442\n"
     ]
    },
    {
     "name": "stderr",
     "output_type": "stream",
     "text": [
      "T: 083/300: 100%|█| 78/78 [00:06<00:00, 11.33it/s, lr=0.00039, b_loss=0.764, b_a\n"
     ]
    },
    {
     "name": "stdout",
     "output_type": "stream",
     "text": [
      "[ Train | 083/300 ] loss = 0.76610, acc = 0.73754\n"
     ]
    },
    {
     "name": "stderr",
     "output_type": "stream",
     "text": [
      "V: 083/300: 100%|█████| 26/26 [00:01<00:00, 15.70it/s, v_loss=1.25, v_acc=0.636]\n"
     ]
    },
    {
     "name": "stdout",
     "output_type": "stream",
     "text": [
      "[ Valid | 083/300 ] loss = 1.25087, acc = 0.63596\n",
      "[ Valid | 083/300 ] loss = 1.25087, acc = 0.63596\n"
     ]
    },
    {
     "name": "stderr",
     "output_type": "stream",
     "text": [
      "T: 084/300: 100%|█| 78/78 [00:06<00:00, 11.22it/s, lr=0.000378, b_loss=0.936, b_\n"
     ]
    },
    {
     "name": "stdout",
     "output_type": "stream",
     "text": [
      "[ Train | 084/300 ] loss = 0.76539, acc = 0.73479\n"
     ]
    },
    {
     "name": "stderr",
     "output_type": "stream",
     "text": [
      "V: 084/300: 100%|█████| 26/26 [00:01<00:00, 17.58it/s, v_loss=1.23, v_acc=0.624]\n"
     ]
    },
    {
     "name": "stdout",
     "output_type": "stream",
     "text": [
      "[ Valid | 084/300 ] loss = 1.22633, acc = 0.62352\n",
      "[ Valid | 084/300 ] loss = 1.22633, acc = 0.62352\n"
     ]
    },
    {
     "name": "stderr",
     "output_type": "stream",
     "text": [
      "T: 085/300: 100%|█| 78/78 [00:07<00:00, 11.01it/s, lr=0.000362, b_loss=0.674, b_\n"
     ]
    },
    {
     "name": "stdout",
     "output_type": "stream",
     "text": [
      "[ Train | 085/300 ] loss = 0.75128, acc = 0.74060\n"
     ]
    },
    {
     "name": "stderr",
     "output_type": "stream",
     "text": [
      "V: 085/300: 100%|█████| 26/26 [00:01<00:00, 16.51it/s, v_loss=1.08, v_acc=0.655]\n"
     ]
    },
    {
     "name": "stdout",
     "output_type": "stream",
     "text": [
      "[ Valid | 085/300 ] loss = 1.07852, acc = 0.65527\n",
      "[ Valid | 085/300 ] loss = 1.07852, acc = 0.65527\n"
     ]
    },
    {
     "name": "stderr",
     "output_type": "stream",
     "text": [
      "T: 086/300: 100%|█| 78/78 [00:07<00:00, 10.91it/s, lr=0.000341, b_loss=0.897, b_\n"
     ]
    },
    {
     "name": "stdout",
     "output_type": "stream",
     "text": [
      "[ Train | 086/300 ] loss = 0.72288, acc = 0.74679\n"
     ]
    },
    {
     "name": "stderr",
     "output_type": "stream",
     "text": [
      "V: 086/300: 100%|████| 26/26 [00:01<00:00, 18.20it/s, v_loss=0.961, v_acc=0.687]\n"
     ]
    },
    {
     "name": "stdout",
     "output_type": "stream",
     "text": [
      "[ Valid | 086/300 ] loss = 0.96144, acc = 0.68657\n",
      "[ Valid | 086/300 ] loss = 0.96144, acc = 0.68657\n"
     ]
    },
    {
     "name": "stderr",
     "output_type": "stream",
     "text": [
      "T: 087/300: 100%|█| 78/78 [00:06<00:00, 11.15it/s, lr=0.000318, b_loss=0.76, b_a\n"
     ]
    },
    {
     "name": "stdout",
     "output_type": "stream",
     "text": [
      "[ Train | 087/300 ] loss = 0.69837, acc = 0.75356\n"
     ]
    },
    {
     "name": "stderr",
     "output_type": "stream",
     "text": [
      "V: 087/300: 100%|██████| 26/26 [00:01<00:00, 16.31it/s, v_loss=1.03, v_acc=0.68]\n"
     ]
    },
    {
     "name": "stdout",
     "output_type": "stream",
     "text": [
      "[ Valid | 087/300 ] loss = 1.03243, acc = 0.67957\n",
      "[ Valid | 087/300 ] loss = 1.03243, acc = 0.67957\n"
     ]
    },
    {
     "name": "stderr",
     "output_type": "stream",
     "text": [
      "T: 088/300: 100%|█| 78/78 [00:07<00:00, 10.93it/s, lr=0.000291, b_loss=0.759, b_\n"
     ]
    },
    {
     "name": "stdout",
     "output_type": "stream",
     "text": [
      "[ Train | 088/300 ] loss = 0.67190, acc = 0.76712\n"
     ]
    },
    {
     "name": "stderr",
     "output_type": "stream",
     "text": [
      "V: 088/300: 100%|████| 26/26 [00:01<00:00, 18.18it/s, v_loss=0.927, v_acc=0.705]\n"
     ]
    },
    {
     "name": "stdout",
     "output_type": "stream",
     "text": [
      "[ Valid | 088/300 ] loss = 0.92680, acc = 0.70457\n",
      "[ Valid | 088/300 ] loss = 0.92680, acc = 0.70457\n"
     ]
    },
    {
     "name": "stderr",
     "output_type": "stream",
     "text": [
      "T: 089/300: 100%|█| 78/78 [00:07<00:00, 11.09it/s, lr=0.000262, b_loss=0.695, b_\n"
     ]
    },
    {
     "name": "stdout",
     "output_type": "stream",
     "text": [
      "[ Train | 089/300 ] loss = 0.67146, acc = 0.76875\n"
     ]
    },
    {
     "name": "stderr",
     "output_type": "stream",
     "text": [
      "V: 089/300: 100%|████| 26/26 [00:01<00:00, 17.71it/s, v_loss=0.802, v_acc=0.737]\n"
     ]
    },
    {
     "name": "stdout",
     "output_type": "stream",
     "text": [
      "[ Valid | 089/300 ] loss = 0.80211, acc = 0.73712\n",
      "[ Valid | 089/300 ] loss = 0.80211, acc = 0.73712\n"
     ]
    },
    {
     "name": "stderr",
     "output_type": "stream",
     "text": [
      "T: 090/300: 100%|█| 78/78 [00:06<00:00, 11.28it/s, lr=0.000231, b_loss=0.754, b_\n"
     ]
    },
    {
     "name": "stdout",
     "output_type": "stream",
     "text": [
      "[ Train | 090/300 ] loss = 0.63171, acc = 0.77660\n"
     ]
    },
    {
     "name": "stderr",
     "output_type": "stream",
     "text": [
      "V: 090/300: 100%|████| 26/26 [00:01<00:00, 17.98it/s, v_loss=0.839, v_acc=0.731]\n"
     ]
    },
    {
     "name": "stdout",
     "output_type": "stream",
     "text": [
      "[ Valid | 090/300 ] loss = 0.83928, acc = 0.73143\n",
      "[ Valid | 090/300 ] loss = 0.83928, acc = 0.73143\n"
     ]
    },
    {
     "name": "stderr",
     "output_type": "stream",
     "text": [
      "T: 091/300: 100%|█| 78/78 [00:06<00:00, 11.30it/s, lr=0.0002, b_loss=0.44, b_acc\n"
     ]
    },
    {
     "name": "stdout",
     "output_type": "stream",
     "text": [
      "[ Train | 091/300 ] loss = 0.59478, acc = 0.79632\n"
     ]
    },
    {
     "name": "stderr",
     "output_type": "stream",
     "text": [
      "V: 091/300: 100%|████| 26/26 [00:01<00:00, 17.73it/s, v_loss=0.843, v_acc=0.727]\n"
     ]
    },
    {
     "name": "stdout",
     "output_type": "stream",
     "text": [
      "[ Valid | 091/300 ] loss = 0.84275, acc = 0.72692\n",
      "[ Valid | 091/300 ] loss = 0.84275, acc = 0.72692\n"
     ]
    },
    {
     "name": "stderr",
     "output_type": "stream",
     "text": [
      "T: 092/300: 100%|█| 78/78 [00:07<00:00, 11.08it/s, lr=0.000169, b_loss=0.485, b_\n"
     ]
    },
    {
     "name": "stdout",
     "output_type": "stream",
     "text": [
      "[ Train | 092/300 ] loss = 0.56566, acc = 0.80548\n"
     ]
    },
    {
     "name": "stderr",
     "output_type": "stream",
     "text": [
      "V: 092/300: 100%|█████| 26/26 [00:01<00:00, 16.48it/s, v_loss=0.81, v_acc=0.748]\n"
     ]
    },
    {
     "name": "stdout",
     "output_type": "stream",
     "text": [
      "[ Valid | 092/300 ] loss = 0.81021, acc = 0.74755\n",
      "[ Valid | 092/300 ] loss = 0.81021, acc = 0.74755\n"
     ]
    },
    {
     "name": "stderr",
     "output_type": "stream",
     "text": [
      "T: 093/300: 100%|█| 78/78 [00:06<00:00, 11.21it/s, lr=0.000138, b_loss=0.533, b_\n"
     ]
    },
    {
     "name": "stdout",
     "output_type": "stream",
     "text": [
      "[ Train | 093/300 ] loss = 0.55795, acc = 0.80826\n"
     ]
    },
    {
     "name": "stderr",
     "output_type": "stream",
     "text": [
      "V: 093/300: 100%|████| 26/26 [00:01<00:00, 17.37it/s, v_loss=0.777, v_acc=0.748]\n"
     ]
    },
    {
     "name": "stdout",
     "output_type": "stream",
     "text": [
      "[ Valid | 093/300 ] loss = 0.77677, acc = 0.74819\n",
      "[ Valid | 093/300 ] loss = 0.77677, acc = 0.74819\n"
     ]
    },
    {
     "name": "stderr",
     "output_type": "stream",
     "text": [
      "T: 094/300: 100%|█| 78/78 [00:07<00:00, 11.09it/s, lr=0.000109, b_loss=0.708, b_\n"
     ]
    },
    {
     "name": "stdout",
     "output_type": "stream",
     "text": [
      "[ Train | 094/300 ] loss = 0.53795, acc = 0.81696\n"
     ]
    },
    {
     "name": "stderr",
     "output_type": "stream",
     "text": [
      "V: 094/300: 100%|████| 26/26 [00:01<00:00, 17.13it/s, v_loss=0.784, v_acc=0.749]\n"
     ]
    },
    {
     "name": "stdout",
     "output_type": "stream",
     "text": [
      "[ Valid | 094/300 ] loss = 0.78376, acc = 0.74908\n",
      "[ Valid | 094/300 ] loss = 0.78376, acc = 0.74908\n"
     ]
    },
    {
     "name": "stderr",
     "output_type": "stream",
     "text": [
      "T: 095/300: 100%|█| 78/78 [00:07<00:00, 11.09it/s, lr=8.24e-5, b_loss=0.577, b_a\n"
     ]
    },
    {
     "name": "stdout",
     "output_type": "stream",
     "text": [
      "[ Train | 095/300 ] loss = 0.51818, acc = 0.82075\n"
     ]
    },
    {
     "name": "stderr",
     "output_type": "stream",
     "text": [
      "V: 095/300: 100%|████| 26/26 [00:01<00:00, 19.14it/s, v_loss=0.757, v_acc=0.748]\n"
     ]
    },
    {
     "name": "stdout",
     "output_type": "stream",
     "text": [
      "[ Valid | 095/300 ] loss = 0.75653, acc = 0.74819\n",
      "[ Valid | 095/300 ] loss = 0.75653, acc = 0.74819\n"
     ]
    },
    {
     "name": "stderr",
     "output_type": "stream",
     "text": [
      "T: 096/300: 100%|█| 78/78 [00:06<00:00, 11.15it/s, lr=5.86e-5, b_loss=0.496, b_a\n"
     ]
    },
    {
     "name": "stdout",
     "output_type": "stream",
     "text": [
      "[ Train | 096/300 ] loss = 0.49400, acc = 0.83011\n"
     ]
    },
    {
     "name": "stderr",
     "output_type": "stream",
     "text": [
      "V: 096/300: 100%|████| 26/26 [00:01<00:00, 16.70it/s, v_loss=0.747, v_acc=0.755]\n"
     ]
    },
    {
     "name": "stdout",
     "output_type": "stream",
     "text": [
      "[ Valid | 096/300 ] loss = 0.74684, acc = 0.75511\n",
      "[ Valid | 096/300 ] loss = 0.74684, acc = 0.75511\n"
     ]
    },
    {
     "name": "stderr",
     "output_type": "stream",
     "text": [
      "T: 097/300: 100%|█| 78/78 [00:06<00:00, 11.28it/s, lr=3.82e-5, b_loss=0.405, b_a\n"
     ]
    },
    {
     "name": "stdout",
     "output_type": "stream",
     "text": [
      "[ Train | 097/300 ] loss = 0.48607, acc = 0.83306\n"
     ]
    },
    {
     "name": "stderr",
     "output_type": "stream",
     "text": [
      "V: 097/300: 100%|████| 26/26 [00:01<00:00, 18.01it/s, v_loss=0.724, v_acc=0.766]\n"
     ]
    },
    {
     "name": "stdout",
     "output_type": "stream",
     "text": [
      "[ Valid | 097/300 ] loss = 0.72426, acc = 0.76589\n",
      "[ Valid | 097/300 ] loss = 0.72426, acc = 0.76589 -> best\n",
      "Best model found at fold 3 epoch 97, acc=0.76589, saving model\n"
     ]
    },
    {
     "name": "stderr",
     "output_type": "stream",
     "text": [
      "T: 098/300: 100%|█| 78/78 [00:07<00:00, 11.06it/s, lr=2.18e-5, b_loss=0.606, b_a\n"
     ]
    },
    {
     "name": "stdout",
     "output_type": "stream",
     "text": [
      "[ Train | 098/300 ] loss = 0.46287, acc = 0.83967\n"
     ]
    },
    {
     "name": "stderr",
     "output_type": "stream",
     "text": [
      "V: 098/300: 100%|████| 26/26 [00:01<00:00, 19.05it/s, v_loss=0.716, v_acc=0.769]\n"
     ]
    },
    {
     "name": "stdout",
     "output_type": "stream",
     "text": [
      "[ Valid | 098/300 ] loss = 0.71618, acc = 0.76868\n",
      "[ Valid | 098/300 ] loss = 0.71618, acc = 0.76868 -> best\n",
      "Best model found at fold 3 epoch 98, acc=0.76868, saving model\n"
     ]
    },
    {
     "name": "stderr",
     "output_type": "stream",
     "text": [
      "T: 099/300: 100%|█| 78/78 [00:07<00:00, 11.06it/s, lr=9.79e-6, b_loss=0.451, b_a\n"
     ]
    },
    {
     "name": "stdout",
     "output_type": "stream",
     "text": [
      "[ Train | 099/300 ] loss = 0.46000, acc = 0.84344\n"
     ]
    },
    {
     "name": "stderr",
     "output_type": "stream",
     "text": [
      "V: 099/300: 100%|████| 26/26 [00:01<00:00, 17.06it/s, v_loss=0.713, v_acc=0.767]\n"
     ]
    },
    {
     "name": "stdout",
     "output_type": "stream",
     "text": [
      "[ Valid | 099/300 ] loss = 0.71282, acc = 0.76682\n",
      "[ Valid | 099/300 ] loss = 0.71282, acc = 0.76682\n"
     ]
    },
    {
     "name": "stderr",
     "output_type": "stream",
     "text": [
      "T: 100/300: 100%|█| 78/78 [00:06<00:00, 11.29it/s, lr=2.46e-6, b_loss=0.5, b_acc\n"
     ]
    },
    {
     "name": "stdout",
     "output_type": "stream",
     "text": [
      "[ Train | 100/300 ] loss = 0.45702, acc = 0.83976\n"
     ]
    },
    {
     "name": "stderr",
     "output_type": "stream",
     "text": [
      "V: 100/300: 100%|████| 26/26 [00:01<00:00, 18.24it/s, v_loss=0.709, v_acc=0.767]\n"
     ]
    },
    {
     "name": "stdout",
     "output_type": "stream",
     "text": [
      "[ Valid | 100/300 ] loss = 0.70924, acc = 0.76660\n",
      "[ Valid | 100/300 ] loss = 0.70924, acc = 0.76660\n"
     ]
    },
    {
     "name": "stderr",
     "output_type": "stream",
     "text": [
      "T: 101/300: 100%|█| 78/78 [00:06<00:00, 11.16it/s, lr=0.0004, b_loss=0.702, b_ac\n"
     ]
    },
    {
     "name": "stdout",
     "output_type": "stream",
     "text": [
      "[ Train | 101/300 ] loss = 0.68559, acc = 0.76154\n"
     ]
    },
    {
     "name": "stderr",
     "output_type": "stream",
     "text": [
      "V: 101/300: 100%|█████| 26/26 [00:01<00:00, 17.33it/s, v_loss=1.11, v_acc=0.671]\n"
     ]
    },
    {
     "name": "stdout",
     "output_type": "stream",
     "text": [
      "[ Valid | 101/300 ] loss = 1.10832, acc = 0.67057\n",
      "[ Valid | 101/300 ] loss = 1.10832, acc = 0.67057\n"
     ]
    },
    {
     "name": "stderr",
     "output_type": "stream",
     "text": [
      "T: 102/300: 100%|█| 78/78 [00:07<00:00, 11.02it/s, lr=0.000398, b_loss=0.646, b_\n"
     ]
    },
    {
     "name": "stdout",
     "output_type": "stream",
     "text": [
      "[ Train | 102/300 ] loss = 0.71239, acc = 0.75175\n"
     ]
    },
    {
     "name": "stderr",
     "output_type": "stream",
     "text": [
      "V: 102/300: 100%|█████| 26/26 [00:01<00:00, 17.22it/s, v_loss=1.23, v_acc=0.608]\n"
     ]
    },
    {
     "name": "stdout",
     "output_type": "stream",
     "text": [
      "[ Valid | 102/300 ] loss = 1.23181, acc = 0.60766\n",
      "[ Valid | 102/300 ] loss = 1.23181, acc = 0.60766\n"
     ]
    },
    {
     "name": "stderr",
     "output_type": "stream",
     "text": [
      "T: 103/300: 100%|█| 78/78 [00:06<00:00, 11.34it/s, lr=0.00039, b_loss=0.527, b_a\n"
     ]
    },
    {
     "name": "stdout",
     "output_type": "stream",
     "text": [
      "[ Train | 103/300 ] loss = 0.69232, acc = 0.76180\n"
     ]
    },
    {
     "name": "stderr",
     "output_type": "stream",
     "text": [
      "V: 103/300: 100%|█████| 26/26 [00:01<00:00, 18.96it/s, v_loss=1.12, v_acc=0.643]\n"
     ]
    },
    {
     "name": "stdout",
     "output_type": "stream",
     "text": [
      "[ Valid | 103/300 ] loss = 1.12265, acc = 0.64259\n",
      "[ Valid | 103/300 ] loss = 1.12265, acc = 0.64259\n"
     ]
    },
    {
     "name": "stderr",
     "output_type": "stream",
     "text": [
      "T: 104/300: 100%|█| 78/78 [00:06<00:00, 11.36it/s, lr=0.000378, b_loss=0.679, b_\n"
     ]
    },
    {
     "name": "stdout",
     "output_type": "stream",
     "text": [
      "[ Train | 104/300 ] loss = 0.67173, acc = 0.77226\n"
     ]
    },
    {
     "name": "stderr",
     "output_type": "stream",
     "text": [
      "V: 104/300: 100%|████████| 26/26 [00:01<00:00, 17.05it/s, v_loss=1, v_acc=0.685]\n"
     ]
    },
    {
     "name": "stdout",
     "output_type": "stream",
     "text": [
      "[ Valid | 104/300 ] loss = 1.00216, acc = 0.68526\n",
      "[ Valid | 104/300 ] loss = 1.00216, acc = 0.68526\n"
     ]
    },
    {
     "name": "stderr",
     "output_type": "stream",
     "text": [
      "T: 105/300: 100%|█| 78/78 [00:06<00:00, 11.22it/s, lr=0.000362, b_loss=0.662, b_\n"
     ]
    },
    {
     "name": "stdout",
     "output_type": "stream",
     "text": [
      "[ Train | 105/300 ] loss = 0.66005, acc = 0.76612\n"
     ]
    },
    {
     "name": "stderr",
     "output_type": "stream",
     "text": [
      "V: 105/300: 100%|████| 26/26 [00:01<00:00, 15.15it/s, v_loss=0.905, v_acc=0.697]\n"
     ]
    },
    {
     "name": "stdout",
     "output_type": "stream",
     "text": [
      "[ Valid | 105/300 ] loss = 0.90459, acc = 0.69675\n",
      "[ Valid | 105/300 ] loss = 0.90459, acc = 0.69675\n"
     ]
    },
    {
     "name": "stderr",
     "output_type": "stream",
     "text": [
      "T: 106/300: 100%|█| 78/78 [00:07<00:00, 11.10it/s, lr=0.000341, b_loss=0.842, b_\n"
     ]
    },
    {
     "name": "stdout",
     "output_type": "stream",
     "text": [
      "[ Train | 106/300 ] loss = 0.64419, acc = 0.77114\n"
     ]
    },
    {
     "name": "stderr",
     "output_type": "stream",
     "text": [
      "V: 106/300: 100%|████| 26/26 [00:01<00:00, 18.61it/s, v_loss=0.815, v_acc=0.728]\n"
     ]
    },
    {
     "name": "stdout",
     "output_type": "stream",
     "text": [
      "[ Valid | 106/300 ] loss = 0.81499, acc = 0.72833\n",
      "[ Valid | 106/300 ] loss = 0.81499, acc = 0.72833\n"
     ]
    },
    {
     "name": "stderr",
     "output_type": "stream",
     "text": [
      "T: 107/300: 100%|█| 78/78 [00:06<00:00, 11.17it/s, lr=0.000318, b_loss=0.526, b_\n"
     ]
    },
    {
     "name": "stdout",
     "output_type": "stream",
     "text": [
      "[ Train | 107/300 ] loss = 0.61707, acc = 0.78632\n"
     ]
    },
    {
     "name": "stderr",
     "output_type": "stream",
     "text": [
      "V: 107/300: 100%|████| 26/26 [00:01<00:00, 17.27it/s, v_loss=0.922, v_acc=0.721]\n"
     ]
    },
    {
     "name": "stdout",
     "output_type": "stream",
     "text": [
      "[ Valid | 107/300 ] loss = 0.92219, acc = 0.72112\n",
      "[ Valid | 107/300 ] loss = 0.92219, acc = 0.72112\n"
     ]
    },
    {
     "name": "stderr",
     "output_type": "stream",
     "text": [
      "T: 108/300: 100%|█| 78/78 [00:06<00:00, 11.23it/s, lr=0.000291, b_loss=0.655, b_\n"
     ]
    },
    {
     "name": "stdout",
     "output_type": "stream",
     "text": [
      "[ Train | 108/300 ] loss = 0.59638, acc = 0.79199\n"
     ]
    },
    {
     "name": "stderr",
     "output_type": "stream",
     "text": [
      "V: 108/300: 100%|████| 26/26 [00:01<00:00, 16.75it/s, v_loss=0.938, v_acc=0.703]\n"
     ]
    },
    {
     "name": "stdout",
     "output_type": "stream",
     "text": [
      "[ Valid | 108/300 ] loss = 0.93836, acc = 0.70276\n",
      "[ Valid | 108/300 ] loss = 0.93836, acc = 0.70276\n"
     ]
    },
    {
     "name": "stderr",
     "output_type": "stream",
     "text": [
      "T: 109/300: 100%|█| 78/78 [00:06<00:00, 11.29it/s, lr=0.000262, b_loss=0.553, b_\n"
     ]
    },
    {
     "name": "stdout",
     "output_type": "stream",
     "text": [
      "[ Train | 109/300 ] loss = 0.57036, acc = 0.80283\n"
     ]
    },
    {
     "name": "stderr",
     "output_type": "stream",
     "text": [
      "V: 109/300: 100%|████| 26/26 [00:01<00:00, 18.40it/s, v_loss=0.797, v_acc=0.737]\n"
     ]
    },
    {
     "name": "stdout",
     "output_type": "stream",
     "text": [
      "[ Valid | 109/300 ] loss = 0.79683, acc = 0.73716\n",
      "[ Valid | 109/300 ] loss = 0.79683, acc = 0.73716\n"
     ]
    },
    {
     "name": "stderr",
     "output_type": "stream",
     "text": [
      "T: 110/300: 100%|█| 78/78 [00:06<00:00, 11.28it/s, lr=0.000231, b_loss=0.829, b_\n"
     ]
    },
    {
     "name": "stdout",
     "output_type": "stream",
     "text": [
      "[ Train | 110/300 ] loss = 0.55102, acc = 0.80525\n"
     ]
    },
    {
     "name": "stderr",
     "output_type": "stream",
     "text": [
      "V: 110/300: 100%|████| 26/26 [00:01<00:00, 17.12it/s, v_loss=0.792, v_acc=0.745]\n"
     ]
    },
    {
     "name": "stdout",
     "output_type": "stream",
     "text": [
      "[ Valid | 110/300 ] loss = 0.79179, acc = 0.74462\n",
      "[ Valid | 110/300 ] loss = 0.79179, acc = 0.74462\n"
     ]
    },
    {
     "name": "stderr",
     "output_type": "stream",
     "text": [
      "T: 111/300: 100%|█| 78/78 [00:06<00:00, 11.25it/s, lr=0.0002, b_loss=0.546, b_ac\n"
     ]
    },
    {
     "name": "stdout",
     "output_type": "stream",
     "text": [
      "[ Train | 111/300 ] loss = 0.51328, acc = 0.82410\n"
     ]
    },
    {
     "name": "stderr",
     "output_type": "stream",
     "text": [
      "V: 111/300: 100%|████| 26/26 [00:01<00:00, 17.73it/s, v_loss=0.797, v_acc=0.753]\n"
     ]
    },
    {
     "name": "stdout",
     "output_type": "stream",
     "text": [
      "[ Valid | 111/300 ] loss = 0.79659, acc = 0.75327\n",
      "[ Valid | 111/300 ] loss = 0.79659, acc = 0.75327\n"
     ]
    },
    {
     "name": "stderr",
     "output_type": "stream",
     "text": [
      "T: 112/300: 100%|█| 78/78 [00:07<00:00, 11.01it/s, lr=0.000169, b_loss=0.508, b_\n"
     ]
    },
    {
     "name": "stdout",
     "output_type": "stream",
     "text": [
      "[ Train | 112/300 ] loss = 0.50381, acc = 0.82614\n"
     ]
    },
    {
     "name": "stderr",
     "output_type": "stream",
     "text": [
      "V: 112/300: 100%|█████| 26/26 [00:01<00:00, 17.78it/s, v_loss=0.83, v_acc=0.748]\n"
     ]
    },
    {
     "name": "stdout",
     "output_type": "stream",
     "text": [
      "[ Valid | 112/300 ] loss = 0.83030, acc = 0.74814\n",
      "[ Valid | 112/300 ] loss = 0.83030, acc = 0.74814\n"
     ]
    },
    {
     "name": "stderr",
     "output_type": "stream",
     "text": [
      "T: 113/300: 100%|█| 78/78 [00:07<00:00, 10.96it/s, lr=0.000138, b_loss=0.438, b_\n"
     ]
    },
    {
     "name": "stdout",
     "output_type": "stream",
     "text": [
      "[ Train | 113/300 ] loss = 0.47133, acc = 0.83595\n"
     ]
    },
    {
     "name": "stderr",
     "output_type": "stream",
     "text": [
      "V: 113/300: 100%|████| 26/26 [00:01<00:00, 17.43it/s, v_loss=0.744, v_acc=0.768]\n"
     ]
    },
    {
     "name": "stdout",
     "output_type": "stream",
     "text": [
      "[ Valid | 113/300 ] loss = 0.74428, acc = 0.76800\n",
      "[ Valid | 113/300 ] loss = 0.74428, acc = 0.76800\n"
     ]
    },
    {
     "name": "stderr",
     "output_type": "stream",
     "text": [
      "T: 114/300: 100%|█| 78/78 [00:06<00:00, 11.23it/s, lr=0.000109, b_loss=0.423, b_\n"
     ]
    },
    {
     "name": "stdout",
     "output_type": "stream",
     "text": [
      "[ Train | 114/300 ] loss = 0.44989, acc = 0.84151\n"
     ]
    },
    {
     "name": "stderr",
     "output_type": "stream",
     "text": [
      "V: 114/300: 100%|████| 26/26 [00:01<00:00, 17.11it/s, v_loss=0.752, v_acc=0.767]\n"
     ]
    },
    {
     "name": "stdout",
     "output_type": "stream",
     "text": [
      "[ Valid | 114/300 ] loss = 0.75231, acc = 0.76690\n",
      "[ Valid | 114/300 ] loss = 0.75231, acc = 0.76690\n"
     ]
    },
    {
     "name": "stderr",
     "output_type": "stream",
     "text": [
      "T: 115/300: 100%|█| 78/78 [00:06<00:00, 11.25it/s, lr=8.24e-5, b_loss=0.527, b_a\n"
     ]
    },
    {
     "name": "stdout",
     "output_type": "stream",
     "text": [
      "[ Train | 115/300 ] loss = 0.41909, acc = 0.85224\n"
     ]
    },
    {
     "name": "stderr",
     "output_type": "stream",
     "text": [
      "V: 115/300: 100%|████| 26/26 [00:01<00:00, 18.33it/s, v_loss=0.755, v_acc=0.764]\n"
     ]
    },
    {
     "name": "stdout",
     "output_type": "stream",
     "text": [
      "[ Valid | 115/300 ] loss = 0.75507, acc = 0.76445\n",
      "[ Valid | 115/300 ] loss = 0.75507, acc = 0.76445\n"
     ]
    },
    {
     "name": "stderr",
     "output_type": "stream",
     "text": [
      "T: 116/300: 100%|█| 78/78 [00:06<00:00, 11.36it/s, lr=5.86e-5, b_loss=0.356, b_a\n"
     ]
    },
    {
     "name": "stdout",
     "output_type": "stream",
     "text": [
      "[ Train | 116/300 ] loss = 0.41514, acc = 0.86093\n"
     ]
    },
    {
     "name": "stderr",
     "output_type": "stream",
     "text": [
      "V: 116/300: 100%|████| 26/26 [00:01<00:00, 17.11it/s, v_loss=0.722, v_acc=0.774]\n"
     ]
    },
    {
     "name": "stdout",
     "output_type": "stream",
     "text": [
      "[ Valid | 116/300 ] loss = 0.72204, acc = 0.77389\n",
      "[ Valid | 116/300 ] loss = 0.72204, acc = 0.77389 -> best\n",
      "Best model found at fold 3 epoch 116, acc=0.77389, saving model\n"
     ]
    },
    {
     "name": "stderr",
     "output_type": "stream",
     "text": [
      "T: 117/300: 100%|█| 78/78 [00:07<00:00, 11.06it/s, lr=3.82e-5, b_loss=0.462, b_a\n"
     ]
    },
    {
     "name": "stdout",
     "output_type": "stream",
     "text": [
      "[ Train | 117/300 ] loss = 0.39579, acc = 0.86276\n"
     ]
    },
    {
     "name": "stderr",
     "output_type": "stream",
     "text": [
      "V: 117/300: 100%|████| 26/26 [00:01<00:00, 18.09it/s, v_loss=0.734, v_acc=0.775]\n"
     ]
    },
    {
     "name": "stdout",
     "output_type": "stream",
     "text": [
      "[ Valid | 117/300 ] loss = 0.73414, acc = 0.77492\n",
      "[ Valid | 117/300 ] loss = 0.73414, acc = 0.77492 -> best\n",
      "Best model found at fold 3 epoch 117, acc=0.77492, saving model\n"
     ]
    },
    {
     "name": "stderr",
     "output_type": "stream",
     "text": [
      "T: 118/300: 100%|█| 78/78 [00:06<00:00, 11.29it/s, lr=2.18e-5, b_loss=0.341, b_a\n"
     ]
    },
    {
     "name": "stdout",
     "output_type": "stream",
     "text": [
      "[ Train | 118/300 ] loss = 0.40213, acc = 0.85835\n"
     ]
    },
    {
     "name": "stderr",
     "output_type": "stream",
     "text": [
      "V: 118/300: 100%|████| 26/26 [00:01<00:00, 17.02it/s, v_loss=0.713, v_acc=0.778]\n"
     ]
    },
    {
     "name": "stdout",
     "output_type": "stream",
     "text": [
      "[ Valid | 118/300 ] loss = 0.71295, acc = 0.77767\n",
      "[ Valid | 118/300 ] loss = 0.71295, acc = 0.77767 -> best\n",
      "Best model found at fold 3 epoch 118, acc=0.77767, saving model\n"
     ]
    },
    {
     "name": "stderr",
     "output_type": "stream",
     "text": [
      "T: 119/300: 100%|█| 78/78 [00:07<00:00, 10.98it/s, lr=9.79e-6, b_loss=0.515, b_a\n"
     ]
    },
    {
     "name": "stdout",
     "output_type": "stream",
     "text": [
      "[ Train | 119/300 ] loss = 0.38531, acc = 0.86654\n"
     ]
    },
    {
     "name": "stderr",
     "output_type": "stream",
     "text": [
      "V: 119/300: 100%|████| 26/26 [00:01<00:00, 18.96it/s, v_loss=0.711, v_acc=0.778]\n"
     ]
    },
    {
     "name": "stdout",
     "output_type": "stream",
     "text": [
      "[ Valid | 119/300 ] loss = 0.71137, acc = 0.77825\n",
      "[ Valid | 119/300 ] loss = 0.71137, acc = 0.77825 -> best\n",
      "Best model found at fold 3 epoch 119, acc=0.77825, saving model\n"
     ]
    },
    {
     "name": "stderr",
     "output_type": "stream",
     "text": [
      "T: 120/300: 100%|█| 78/78 [00:06<00:00, 11.27it/s, lr=2.46e-6, b_loss=0.414, b_a\n"
     ]
    },
    {
     "name": "stdout",
     "output_type": "stream",
     "text": [
      "[ Train | 120/300 ] loss = 0.38178, acc = 0.86863\n"
     ]
    },
    {
     "name": "stderr",
     "output_type": "stream",
     "text": [
      "V: 120/300: 100%|████| 26/26 [00:01<00:00, 16.93it/s, v_loss=0.715, v_acc=0.778]\n"
     ]
    },
    {
     "name": "stdout",
     "output_type": "stream",
     "text": [
      "[ Valid | 120/300 ] loss = 0.71491, acc = 0.77762\n",
      "[ Valid | 120/300 ] loss = 0.71491, acc = 0.77762\n"
     ]
    },
    {
     "name": "stderr",
     "output_type": "stream",
     "text": [
      "T: 121/300: 100%|█| 78/78 [00:06<00:00, 11.20it/s, lr=0.0004, b_loss=0.62, b_acc\n"
     ]
    },
    {
     "name": "stdout",
     "output_type": "stream",
     "text": [
      "[ Train | 121/300 ] loss = 0.62590, acc = 0.78239\n"
     ]
    },
    {
     "name": "stderr",
     "output_type": "stream",
     "text": [
      "V: 121/300: 100%|█████| 26/26 [00:01<00:00, 17.17it/s, v_loss=1.03, v_acc=0.678]\n"
     ]
    },
    {
     "name": "stdout",
     "output_type": "stream",
     "text": [
      "[ Valid | 121/300 ] loss = 1.03449, acc = 0.67841\n",
      "[ Valid | 121/300 ] loss = 1.03449, acc = 0.67841\n"
     ]
    },
    {
     "name": "stderr",
     "output_type": "stream",
     "text": [
      "T: 122/300: 100%|█| 78/78 [00:07<00:00, 10.98it/s, lr=0.000398, b_loss=0.537, b_\n"
     ]
    },
    {
     "name": "stdout",
     "output_type": "stream",
     "text": [
      "[ Train | 122/300 ] loss = 0.64041, acc = 0.77653\n"
     ]
    },
    {
     "name": "stderr",
     "output_type": "stream",
     "text": [
      "V: 122/300: 100%|█████| 26/26 [00:01<00:00, 16.95it/s, v_loss=1.06, v_acc=0.691]\n"
     ]
    },
    {
     "name": "stdout",
     "output_type": "stream",
     "text": [
      "[ Valid | 122/300 ] loss = 1.06413, acc = 0.69102\n",
      "[ Valid | 122/300 ] loss = 1.06413, acc = 0.69102\n"
     ]
    },
    {
     "name": "stderr",
     "output_type": "stream",
     "text": [
      "T: 123/300: 100%|█| 78/78 [00:06<00:00, 11.22it/s, lr=0.00039, b_loss=0.554, b_a\n"
     ]
    },
    {
     "name": "stdout",
     "output_type": "stream",
     "text": [
      "[ Train | 123/300 ] loss = 0.62945, acc = 0.77930\n"
     ]
    },
    {
     "name": "stderr",
     "output_type": "stream",
     "text": [
      "V: 123/300: 100%|█████| 26/26 [00:01<00:00, 17.65it/s, v_loss=0.969, v_acc=0.71]\n"
     ]
    },
    {
     "name": "stdout",
     "output_type": "stream",
     "text": [
      "[ Valid | 123/300 ] loss = 0.96896, acc = 0.70992\n",
      "[ Valid | 123/300 ] loss = 0.96896, acc = 0.70992\n"
     ]
    },
    {
     "name": "stderr",
     "output_type": "stream",
     "text": [
      "T: 124/300: 100%|█| 78/78 [00:07<00:00, 10.98it/s, lr=0.000378, b_loss=0.629, b_\n"
     ]
    },
    {
     "name": "stdout",
     "output_type": "stream",
     "text": [
      "[ Train | 124/300 ] loss = 0.60060, acc = 0.78637\n"
     ]
    },
    {
     "name": "stderr",
     "output_type": "stream",
     "text": [
      "V: 124/300: 100%|████| 26/26 [00:01<00:00, 17.11it/s, v_loss=0.979, v_acc=0.703]\n"
     ]
    },
    {
     "name": "stdout",
     "output_type": "stream",
     "text": [
      "[ Valid | 124/300 ] loss = 0.97916, acc = 0.70338\n",
      "[ Valid | 124/300 ] loss = 0.97916, acc = 0.70338\n"
     ]
    },
    {
     "name": "stderr",
     "output_type": "stream",
     "text": [
      "T: 125/300: 100%|█| 78/78 [00:07<00:00, 11.02it/s, lr=0.000362, b_loss=0.658, b_\n"
     ]
    },
    {
     "name": "stdout",
     "output_type": "stream",
     "text": [
      "[ Train | 125/300 ] loss = 0.57380, acc = 0.80229\n"
     ]
    },
    {
     "name": "stderr",
     "output_type": "stream",
     "text": [
      "V: 125/300: 100%|████████| 26/26 [00:01<00:00, 15.91it/s, v_loss=1, v_acc=0.698]\n"
     ]
    },
    {
     "name": "stdout",
     "output_type": "stream",
     "text": [
      "[ Valid | 125/300 ] loss = 1.00124, acc = 0.69829\n",
      "[ Valid | 125/300 ] loss = 1.00124, acc = 0.69829\n"
     ]
    },
    {
     "name": "stderr",
     "output_type": "stream",
     "text": [
      "T: 126/300: 100%|█| 78/78 [00:06<00:00, 11.22it/s, lr=0.000341, b_loss=0.56, b_a\n"
     ]
    },
    {
     "name": "stdout",
     "output_type": "stream",
     "text": [
      "[ Train | 126/300 ] loss = 0.53279, acc = 0.81638\n"
     ]
    },
    {
     "name": "stderr",
     "output_type": "stream",
     "text": [
      "V: 126/300: 100%|████| 26/26 [00:01<00:00, 18.61it/s, v_loss=0.948, v_acc=0.717]\n"
     ]
    },
    {
     "name": "stdout",
     "output_type": "stream",
     "text": [
      "[ Valid | 126/300 ] loss = 0.94756, acc = 0.71657\n",
      "[ Valid | 126/300 ] loss = 0.94756, acc = 0.71657\n"
     ]
    },
    {
     "name": "stderr",
     "output_type": "stream",
     "text": [
      "T: 127/300: 100%|█| 78/78 [00:06<00:00, 11.22it/s, lr=0.000318, b_loss=0.622, b_\n"
     ]
    },
    {
     "name": "stdout",
     "output_type": "stream",
     "text": [
      "[ Train | 127/300 ] loss = 0.54857, acc = 0.80721\n"
     ]
    },
    {
     "name": "stderr",
     "output_type": "stream",
     "text": [
      "V: 127/300: 100%|████| 26/26 [00:01<00:00, 17.59it/s, v_loss=0.962, v_acc=0.701]\n"
     ]
    },
    {
     "name": "stdout",
     "output_type": "stream",
     "text": [
      "[ Valid | 127/300 ] loss = 0.96216, acc = 0.70139\n",
      "[ Valid | 127/300 ] loss = 0.96216, acc = 0.70139\n"
     ]
    },
    {
     "name": "stderr",
     "output_type": "stream",
     "text": [
      "T: 128/300: 100%|█| 78/78 [00:06<00:00, 11.25it/s, lr=0.000291, b_loss=0.478, b_\n"
     ]
    },
    {
     "name": "stdout",
     "output_type": "stream",
     "text": [
      "[ Train | 128/300 ] loss = 0.50204, acc = 0.82469\n"
     ]
    },
    {
     "name": "stderr",
     "output_type": "stream",
     "text": [
      "V: 128/300: 100%|████| 26/26 [00:01<00:00, 16.41it/s, v_loss=0.887, v_acc=0.729]\n"
     ]
    },
    {
     "name": "stdout",
     "output_type": "stream",
     "text": [
      "[ Valid | 128/300 ] loss = 0.88677, acc = 0.72890\n",
      "[ Valid | 128/300 ] loss = 0.88677, acc = 0.72890\n"
     ]
    },
    {
     "name": "stderr",
     "output_type": "stream",
     "text": [
      "T: 129/300: 100%|█| 78/78 [00:06<00:00, 11.28it/s, lr=0.000262, b_loss=0.561, b_\n"
     ]
    },
    {
     "name": "stdout",
     "output_type": "stream",
     "text": [
      "[ Train | 129/300 ] loss = 0.50582, acc = 0.82278\n"
     ]
    },
    {
     "name": "stderr",
     "output_type": "stream",
     "text": [
      "V: 129/300: 100%|████| 26/26 [00:01<00:00, 16.23it/s, v_loss=0.831, v_acc=0.749]\n"
     ]
    },
    {
     "name": "stdout",
     "output_type": "stream",
     "text": [
      "[ Valid | 129/300 ] loss = 0.83109, acc = 0.74883\n",
      "[ Valid | 129/300 ] loss = 0.83109, acc = 0.74883\n"
     ]
    },
    {
     "name": "stderr",
     "output_type": "stream",
     "text": [
      "T: 130/300: 100%|█| 78/78 [00:06<00:00, 11.15it/s, lr=0.000231, b_loss=0.561, b_\n"
     ]
    },
    {
     "name": "stdout",
     "output_type": "stream",
     "text": [
      "[ Train | 130/300 ] loss = 0.47786, acc = 0.83470\n"
     ]
    },
    {
     "name": "stderr",
     "output_type": "stream",
     "text": [
      "V: 130/300: 100%|████| 26/26 [00:01<00:00, 17.53it/s, v_loss=0.912, v_acc=0.733]\n"
     ]
    },
    {
     "name": "stdout",
     "output_type": "stream",
     "text": [
      "[ Valid | 130/300 ] loss = 0.91166, acc = 0.73319\n",
      "[ Valid | 130/300 ] loss = 0.91166, acc = 0.73319\n"
     ]
    },
    {
     "name": "stderr",
     "output_type": "stream",
     "text": [
      "T: 131/300: 100%|█| 78/78 [00:06<00:00, 11.31it/s, lr=0.0002, b_loss=0.464, b_ac\n"
     ]
    },
    {
     "name": "stdout",
     "output_type": "stream",
     "text": [
      "[ Train | 131/300 ] loss = 0.45512, acc = 0.84213\n"
     ]
    },
    {
     "name": "stderr",
     "output_type": "stream",
     "text": [
      "V: 131/300: 100%|████| 26/26 [00:01<00:00, 19.11it/s, v_loss=0.772, v_acc=0.768]\n"
     ]
    },
    {
     "name": "stdout",
     "output_type": "stream",
     "text": [
      "[ Valid | 131/300 ] loss = 0.77170, acc = 0.76841\n",
      "[ Valid | 131/300 ] loss = 0.77170, acc = 0.76841\n"
     ]
    },
    {
     "name": "stderr",
     "output_type": "stream",
     "text": [
      "T: 132/300: 100%|█| 78/78 [00:06<00:00, 11.18it/s, lr=0.000169, b_loss=0.419, b_\n"
     ]
    },
    {
     "name": "stdout",
     "output_type": "stream",
     "text": [
      "[ Train | 132/300 ] loss = 0.44050, acc = 0.85168\n"
     ]
    },
    {
     "name": "stderr",
     "output_type": "stream",
     "text": [
      "V: 132/300: 100%|████| 26/26 [00:01<00:00, 18.18it/s, v_loss=0.779, v_acc=0.763]\n"
     ]
    },
    {
     "name": "stdout",
     "output_type": "stream",
     "text": [
      "[ Valid | 132/300 ] loss = 0.77894, acc = 0.76256\n",
      "[ Valid | 132/300 ] loss = 0.77894, acc = 0.76256\n"
     ]
    },
    {
     "name": "stderr",
     "output_type": "stream",
     "text": [
      "T: 133/300: 100%|█| 78/78 [00:07<00:00, 11.01it/s, lr=0.000138, b_loss=0.332, b_\n"
     ]
    },
    {
     "name": "stdout",
     "output_type": "stream",
     "text": [
      "[ Train | 133/300 ] loss = 0.39819, acc = 0.86135\n"
     ]
    },
    {
     "name": "stderr",
     "output_type": "stream",
     "text": [
      "V: 133/300: 100%|████| 26/26 [00:01<00:00, 16.37it/s, v_loss=0.756, v_acc=0.768]\n"
     ]
    },
    {
     "name": "stdout",
     "output_type": "stream",
     "text": [
      "[ Valid | 133/300 ] loss = 0.75619, acc = 0.76802\n",
      "[ Valid | 133/300 ] loss = 0.75619, acc = 0.76802\n"
     ]
    },
    {
     "name": "stderr",
     "output_type": "stream",
     "text": [
      "T: 134/300: 100%|█| 78/78 [00:07<00:00, 11.11it/s, lr=0.000109, b_loss=0.429, b_\n"
     ]
    },
    {
     "name": "stdout",
     "output_type": "stream",
     "text": [
      "[ Train | 134/300 ] loss = 0.37834, acc = 0.86890\n"
     ]
    },
    {
     "name": "stderr",
     "output_type": "stream",
     "text": [
      "V: 134/300: 100%|████| 26/26 [00:01<00:00, 17.72it/s, v_loss=0.817, v_acc=0.759]\n"
     ]
    },
    {
     "name": "stdout",
     "output_type": "stream",
     "text": [
      "[ Valid | 134/300 ] loss = 0.81733, acc = 0.75875\n",
      "[ Valid | 134/300 ] loss = 0.81733, acc = 0.75875\n"
     ]
    },
    {
     "name": "stderr",
     "output_type": "stream",
     "text": [
      "T: 135/300: 100%|█| 78/78 [00:07<00:00, 10.72it/s, lr=8.24e-5, b_loss=0.383, b_a\n"
     ]
    },
    {
     "name": "stdout",
     "output_type": "stream",
     "text": [
      "[ Train | 135/300 ] loss = 0.36883, acc = 0.87215\n"
     ]
    },
    {
     "name": "stderr",
     "output_type": "stream",
     "text": [
      "V: 135/300: 100%|█████| 26/26 [00:01<00:00, 17.59it/s, v_loss=0.737, v_acc=0.78]\n"
     ]
    },
    {
     "name": "stdout",
     "output_type": "stream",
     "text": [
      "[ Valid | 135/300 ] loss = 0.73678, acc = 0.78003\n",
      "[ Valid | 135/300 ] loss = 0.73678, acc = 0.78003 -> best\n",
      "Best model found at fold 3 epoch 135, acc=0.78003, saving model\n"
     ]
    },
    {
     "name": "stderr",
     "output_type": "stream",
     "text": [
      "T: 136/300: 100%|█| 78/78 [00:07<00:00, 11.09it/s, lr=5.86e-5, b_loss=0.402, b_a\n"
     ]
    },
    {
     "name": "stdout",
     "output_type": "stream",
     "text": [
      "[ Train | 136/300 ] loss = 0.35371, acc = 0.88053\n"
     ]
    },
    {
     "name": "stderr",
     "output_type": "stream",
     "text": [
      "V: 136/300: 100%|████| 26/26 [00:01<00:00, 18.21it/s, v_loss=0.724, v_acc=0.777]\n"
     ]
    },
    {
     "name": "stdout",
     "output_type": "stream",
     "text": [
      "[ Valid | 136/300 ] loss = 0.72364, acc = 0.77735\n",
      "[ Valid | 136/300 ] loss = 0.72364, acc = 0.77735\n"
     ]
    },
    {
     "name": "stderr",
     "output_type": "stream",
     "text": [
      "T: 137/300: 100%|█| 78/78 [00:07<00:00, 11.04it/s, lr=3.82e-5, b_loss=0.374, b_a\n"
     ]
    },
    {
     "name": "stdout",
     "output_type": "stream",
     "text": [
      "[ Train | 137/300 ] loss = 0.33645, acc = 0.88248\n"
     ]
    },
    {
     "name": "stderr",
     "output_type": "stream",
     "text": [
      "V: 137/300: 100%|████| 26/26 [00:01<00:00, 16.51it/s, v_loss=0.711, v_acc=0.783]\n"
     ]
    },
    {
     "name": "stdout",
     "output_type": "stream",
     "text": [
      "[ Valid | 137/300 ] loss = 0.71145, acc = 0.78278\n",
      "[ Valid | 137/300 ] loss = 0.71145, acc = 0.78278 -> best\n",
      "Best model found at fold 3 epoch 137, acc=0.78278, saving model\n"
     ]
    },
    {
     "name": "stderr",
     "output_type": "stream",
     "text": [
      "T: 138/300: 100%|█| 78/78 [00:07<00:00, 11.12it/s, lr=2.18e-5, b_loss=0.245, b_a\n"
     ]
    },
    {
     "name": "stdout",
     "output_type": "stream",
     "text": [
      "[ Train | 138/300 ] loss = 0.32783, acc = 0.88722\n"
     ]
    },
    {
     "name": "stderr",
     "output_type": "stream",
     "text": [
      "V: 138/300: 100%|████| 26/26 [00:01<00:00, 15.52it/s, v_loss=0.716, v_acc=0.787]\n"
     ]
    },
    {
     "name": "stdout",
     "output_type": "stream",
     "text": [
      "[ Valid | 138/300 ] loss = 0.71608, acc = 0.78730\n",
      "[ Valid | 138/300 ] loss = 0.71608, acc = 0.78730 -> best\n",
      "Best model found at fold 3 epoch 138, acc=0.78730, saving model\n"
     ]
    },
    {
     "name": "stderr",
     "output_type": "stream",
     "text": [
      "T: 139/300: 100%|█| 78/78 [00:06<00:00, 11.16it/s, lr=9.79e-6, b_loss=0.313, b_a\n"
     ]
    },
    {
     "name": "stdout",
     "output_type": "stream",
     "text": [
      "[ Train | 139/300 ] loss = 0.31687, acc = 0.89289\n"
     ]
    },
    {
     "name": "stderr",
     "output_type": "stream",
     "text": [
      "V: 139/300: 100%|████| 26/26 [00:01<00:00, 15.90it/s, v_loss=0.708, v_acc=0.783]\n"
     ]
    },
    {
     "name": "stdout",
     "output_type": "stream",
     "text": [
      "[ Valid | 139/300 ] loss = 0.70826, acc = 0.78315\n",
      "[ Valid | 139/300 ] loss = 0.70826, acc = 0.78315\n"
     ]
    },
    {
     "name": "stderr",
     "output_type": "stream",
     "text": [
      "T: 140/300: 100%|█| 78/78 [00:06<00:00, 11.15it/s, lr=2.46e-6, b_loss=0.229, b_a\n"
     ]
    },
    {
     "name": "stdout",
     "output_type": "stream",
     "text": [
      "[ Train | 140/300 ] loss = 0.32177, acc = 0.89094\n"
     ]
    },
    {
     "name": "stderr",
     "output_type": "stream",
     "text": [
      "V: 140/300: 100%|████| 26/26 [00:01<00:00, 16.70it/s, v_loss=0.715, v_acc=0.785]\n"
     ]
    },
    {
     "name": "stdout",
     "output_type": "stream",
     "text": [
      "[ Valid | 140/300 ] loss = 0.71535, acc = 0.78494\n",
      "[ Valid | 140/300 ] loss = 0.71535, acc = 0.78494\n"
     ]
    },
    {
     "name": "stderr",
     "output_type": "stream",
     "text": [
      "T: 141/300: 100%|█| 78/78 [00:06<00:00, 11.27it/s, lr=0.0004, b_loss=0.56, b_acc\n"
     ]
    },
    {
     "name": "stdout",
     "output_type": "stream",
     "text": [
      "[ Train | 141/300 ] loss = 0.57330, acc = 0.80206\n"
     ]
    },
    {
     "name": "stderr",
     "output_type": "stream",
     "text": [
      "V: 141/300: 100%|████| 26/26 [00:01<00:00, 18.50it/s, v_loss=0.919, v_acc=0.724]\n"
     ]
    },
    {
     "name": "stdout",
     "output_type": "stream",
     "text": [
      "[ Valid | 141/300 ] loss = 0.91868, acc = 0.72355\n",
      "[ Valid | 141/300 ] loss = 0.91868, acc = 0.72355\n"
     ]
    },
    {
     "name": "stderr",
     "output_type": "stream",
     "text": [
      "T: 142/300: 100%|█| 78/78 [00:06<00:00, 11.31it/s, lr=0.000398, b_loss=0.671, b_\n"
     ]
    },
    {
     "name": "stdout",
     "output_type": "stream",
     "text": [
      "[ Train | 142/300 ] loss = 0.56354, acc = 0.80245\n"
     ]
    },
    {
     "name": "stderr",
     "output_type": "stream",
     "text": [
      "V: 142/300: 100%|██████| 26/26 [00:01<00:00, 18.05it/s, v_loss=1.1, v_acc=0.683]\n"
     ]
    },
    {
     "name": "stdout",
     "output_type": "stream",
     "text": [
      "[ Valid | 142/300 ] loss = 1.09745, acc = 0.68293\n",
      "[ Valid | 142/300 ] loss = 1.09745, acc = 0.68293\n"
     ]
    },
    {
     "name": "stderr",
     "output_type": "stream",
     "text": [
      "T: 143/300: 100%|█| 78/78 [00:06<00:00, 11.48it/s, lr=0.00039, b_loss=0.68, b_ac\n"
     ]
    },
    {
     "name": "stdout",
     "output_type": "stream",
     "text": [
      "[ Train | 143/300 ] loss = 0.52808, acc = 0.81360\n"
     ]
    },
    {
     "name": "stderr",
     "output_type": "stream",
     "text": [
      "V: 143/300: 100%|██████| 26/26 [00:01<00:00, 18.60it/s, v_loss=1.2, v_acc=0.673]\n"
     ]
    },
    {
     "name": "stdout",
     "output_type": "stream",
     "text": [
      "[ Valid | 143/300 ] loss = 1.19968, acc = 0.67327\n",
      "[ Valid | 143/300 ] loss = 1.19968, acc = 0.67327\n"
     ]
    },
    {
     "name": "stderr",
     "output_type": "stream",
     "text": [
      "T: 144/300: 100%|█| 78/78 [00:06<00:00, 11.25it/s, lr=0.000378, b_loss=0.549, b_\n"
     ]
    },
    {
     "name": "stdout",
     "output_type": "stream",
     "text": [
      "[ Train | 144/300 ] loss = 0.53348, acc = 0.81518\n"
     ]
    },
    {
     "name": "stderr",
     "output_type": "stream",
     "text": [
      "V: 144/300: 100%|██████| 26/26 [00:01<00:00, 16.89it/s, v_loss=1.14, v_acc=0.68]\n"
     ]
    },
    {
     "name": "stdout",
     "output_type": "stream",
     "text": [
      "[ Valid | 144/300 ] loss = 1.14231, acc = 0.68017\n",
      "[ Valid | 144/300 ] loss = 1.14231, acc = 0.68017\n"
     ]
    },
    {
     "name": "stderr",
     "output_type": "stream",
     "text": [
      "T: 145/300: 100%|█| 78/78 [00:06<00:00, 11.18it/s, lr=0.000362, b_loss=0.596, b_\n"
     ]
    },
    {
     "name": "stdout",
     "output_type": "stream",
     "text": [
      "[ Train | 145/300 ] loss = 0.50711, acc = 0.82259\n"
     ]
    },
    {
     "name": "stderr",
     "output_type": "stream",
     "text": [
      "V: 145/300: 100%|█████| 26/26 [00:01<00:00, 17.10it/s, v_loss=0.865, v_acc=0.74]\n"
     ]
    },
    {
     "name": "stdout",
     "output_type": "stream",
     "text": [
      "[ Valid | 145/300 ] loss = 0.86482, acc = 0.73980\n",
      "[ Valid | 145/300 ] loss = 0.86482, acc = 0.73980\n"
     ]
    },
    {
     "name": "stderr",
     "output_type": "stream",
     "text": [
      "T: 146/300: 100%|█| 78/78 [00:07<00:00, 11.07it/s, lr=0.000341, b_loss=0.472, b_\n"
     ]
    },
    {
     "name": "stdout",
     "output_type": "stream",
     "text": [
      "[ Train | 146/300 ] loss = 0.50218, acc = 0.82358\n"
     ]
    },
    {
     "name": "stderr",
     "output_type": "stream",
     "text": [
      "V: 146/300: 100%|███████| 26/26 [00:01<00:00, 19.28it/s, v_loss=1.07, v_acc=0.7]\n"
     ]
    },
    {
     "name": "stdout",
     "output_type": "stream",
     "text": [
      "[ Valid | 146/300 ] loss = 1.07332, acc = 0.70040\n",
      "[ Valid | 146/300 ] loss = 1.07332, acc = 0.70040\n"
     ]
    },
    {
     "name": "stderr",
     "output_type": "stream",
     "text": [
      "T: 147/300: 100%|█| 78/78 [00:07<00:00, 11.00it/s, lr=0.000318, b_loss=0.376, b_\n"
     ]
    },
    {
     "name": "stdout",
     "output_type": "stream",
     "text": [
      "[ Train | 147/300 ] loss = 0.47320, acc = 0.83697\n"
     ]
    },
    {
     "name": "stderr",
     "output_type": "stream",
     "text": [
      "V: 147/300: 100%|████| 26/26 [00:01<00:00, 16.27it/s, v_loss=0.966, v_acc=0.724]\n"
     ]
    },
    {
     "name": "stdout",
     "output_type": "stream",
     "text": [
      "[ Valid | 147/300 ] loss = 0.96639, acc = 0.72412\n",
      "[ Valid | 147/300 ] loss = 0.96639, acc = 0.72412\n"
     ]
    },
    {
     "name": "stderr",
     "output_type": "stream",
     "text": [
      "T: 148/300: 100%|█| 78/78 [00:06<00:00, 11.19it/s, lr=0.000291, b_loss=0.408, b_\n"
     ]
    },
    {
     "name": "stdout",
     "output_type": "stream",
     "text": [
      "[ Train | 148/300 ] loss = 0.45170, acc = 0.84381\n"
     ]
    },
    {
     "name": "stderr",
     "output_type": "stream",
     "text": [
      "V: 148/300: 100%|████| 26/26 [00:01<00:00, 17.06it/s, v_loss=0.829, v_acc=0.752]\n"
     ]
    },
    {
     "name": "stdout",
     "output_type": "stream",
     "text": [
      "[ Valid | 148/300 ] loss = 0.82851, acc = 0.75156\n",
      "[ Valid | 148/300 ] loss = 0.82851, acc = 0.75156\n"
     ]
    },
    {
     "name": "stderr",
     "output_type": "stream",
     "text": [
      "T: 149/300: 100%|█| 78/78 [00:07<00:00, 11.13it/s, lr=0.000262, b_loss=0.355, b_\n"
     ]
    },
    {
     "name": "stdout",
     "output_type": "stream",
     "text": [
      "[ Train | 149/300 ] loss = 0.43304, acc = 0.84767\n"
     ]
    },
    {
     "name": "stderr",
     "output_type": "stream",
     "text": [
      "V: 149/300: 100%|████| 26/26 [00:01<00:00, 16.70it/s, v_loss=0.919, v_acc=0.727]\n"
     ]
    },
    {
     "name": "stdout",
     "output_type": "stream",
     "text": [
      "[ Valid | 149/300 ] loss = 0.91927, acc = 0.72715\n",
      "[ Valid | 149/300 ] loss = 0.91927, acc = 0.72715\n"
     ]
    },
    {
     "name": "stderr",
     "output_type": "stream",
     "text": [
      "T: 150/300: 100%|█| 78/78 [00:06<00:00, 11.29it/s, lr=0.000231, b_loss=0.36, b_a\n"
     ]
    },
    {
     "name": "stdout",
     "output_type": "stream",
     "text": [
      "[ Train | 150/300 ] loss = 0.40319, acc = 0.85518\n"
     ]
    },
    {
     "name": "stderr",
     "output_type": "stream",
     "text": [
      "V: 150/300: 100%|████| 26/26 [00:01<00:00, 17.56it/s, v_loss=0.999, v_acc=0.724]\n"
     ]
    },
    {
     "name": "stdout",
     "output_type": "stream",
     "text": [
      "[ Valid | 150/300 ] loss = 0.99947, acc = 0.72355\n",
      "[ Valid | 150/300 ] loss = 0.99947, acc = 0.72355\n"
     ]
    },
    {
     "name": "stderr",
     "output_type": "stream",
     "text": [
      "T: 151/300: 100%|█| 78/78 [00:06<00:00, 11.23it/s, lr=0.0002, b_loss=0.377, b_ac\n"
     ]
    },
    {
     "name": "stdout",
     "output_type": "stream",
     "text": [
      "[ Train | 151/300 ] loss = 0.39778, acc = 0.86001\n"
     ]
    },
    {
     "name": "stderr",
     "output_type": "stream",
     "text": [
      "V: 151/300: 100%|████| 26/26 [00:01<00:00, 15.94it/s, v_loss=0.831, v_acc=0.754]\n"
     ]
    },
    {
     "name": "stdout",
     "output_type": "stream",
     "text": [
      "[ Valid | 151/300 ] loss = 0.83148, acc = 0.75422\n",
      "[ Valid | 151/300 ] loss = 0.83148, acc = 0.75422\n"
     ]
    },
    {
     "name": "stderr",
     "output_type": "stream",
     "text": [
      "T: 152/300: 100%|█| 78/78 [00:07<00:00, 11.11it/s, lr=0.000169, b_loss=0.457, b_\n"
     ]
    },
    {
     "name": "stdout",
     "output_type": "stream",
     "text": [
      "[ Train | 152/300 ] loss = 0.37848, acc = 0.86527\n"
     ]
    },
    {
     "name": "stderr",
     "output_type": "stream",
     "text": [
      "V: 152/300: 100%|████| 26/26 [00:01<00:00, 17.10it/s, v_loss=0.833, v_acc=0.761]\n"
     ]
    },
    {
     "name": "stdout",
     "output_type": "stream",
     "text": [
      "[ Valid | 152/300 ] loss = 0.83260, acc = 0.76058\n",
      "[ Valid | 152/300 ] loss = 0.83260, acc = 0.76058\n"
     ]
    },
    {
     "name": "stderr",
     "output_type": "stream",
     "text": [
      "T: 153/300: 100%|█| 78/78 [00:06<00:00, 11.35it/s, lr=0.000138, b_loss=0.53, b_a\n"
     ]
    },
    {
     "name": "stdout",
     "output_type": "stream",
     "text": [
      "[ Train | 153/300 ] loss = 0.35454, acc = 0.87564\n"
     ]
    },
    {
     "name": "stderr",
     "output_type": "stream",
     "text": [
      "V: 153/300: 100%|████| 26/26 [00:01<00:00, 17.57it/s, v_loss=0.799, v_acc=0.772]\n"
     ]
    },
    {
     "name": "stdout",
     "output_type": "stream",
     "text": [
      "[ Valid | 153/300 ] loss = 0.79922, acc = 0.77161\n",
      "[ Valid | 153/300 ] loss = 0.79922, acc = 0.77161\n"
     ]
    },
    {
     "name": "stderr",
     "output_type": "stream",
     "text": [
      "T: 154/300: 100%|█| 78/78 [00:06<00:00, 11.26it/s, lr=0.000109, b_loss=0.24, b_a\n"
     ]
    },
    {
     "name": "stdout",
     "output_type": "stream",
     "text": [
      "[ Train | 154/300 ] loss = 0.32345, acc = 0.88631\n"
     ]
    },
    {
     "name": "stderr",
     "output_type": "stream",
     "text": [
      "V: 154/300: 100%|█████| 26/26 [00:01<00:00, 16.91it/s, v_loss=0.783, v_acc=0.78]\n"
     ]
    },
    {
     "name": "stdout",
     "output_type": "stream",
     "text": [
      "[ Valid | 154/300 ] loss = 0.78269, acc = 0.78038\n",
      "[ Valid | 154/300 ] loss = 0.78269, acc = 0.78038\n"
     ]
    },
    {
     "name": "stderr",
     "output_type": "stream",
     "text": [
      "T: 155/300: 100%|█| 78/78 [00:07<00:00, 11.09it/s, lr=8.24e-5, b_loss=0.336, b_a\n"
     ]
    },
    {
     "name": "stdout",
     "output_type": "stream",
     "text": [
      "[ Train | 155/300 ] loss = 0.31505, acc = 0.88976\n"
     ]
    },
    {
     "name": "stderr",
     "output_type": "stream",
     "text": [
      "V: 155/300: 100%|████| 26/26 [00:01<00:00, 18.78it/s, v_loss=0.749, v_acc=0.787]\n"
     ]
    },
    {
     "name": "stdout",
     "output_type": "stream",
     "text": [
      "[ Valid | 155/300 ] loss = 0.74950, acc = 0.78728\n",
      "[ Valid | 155/300 ] loss = 0.74950, acc = 0.78728\n"
     ]
    },
    {
     "name": "stderr",
     "output_type": "stream",
     "text": [
      "T: 156/300: 100%|█| 78/78 [00:06<00:00, 11.25it/s, lr=5.86e-5, b_loss=0.321, b_a\n"
     ]
    },
    {
     "name": "stdout",
     "output_type": "stream",
     "text": [
      "[ Train | 156/300 ] loss = 0.28986, acc = 0.90008\n"
     ]
    },
    {
     "name": "stderr",
     "output_type": "stream",
     "text": [
      "V: 156/300: 100%|████| 26/26 [00:01<00:00, 16.66it/s, v_loss=0.752, v_acc=0.788]\n"
     ]
    },
    {
     "name": "stdout",
     "output_type": "stream",
     "text": [
      "[ Valid | 156/300 ] loss = 0.75168, acc = 0.78797\n",
      "[ Valid | 156/300 ] loss = 0.75168, acc = 0.78797 -> best\n",
      "Best model found at fold 3 epoch 156, acc=0.78797, saving model\n"
     ]
    },
    {
     "name": "stderr",
     "output_type": "stream",
     "text": [
      "T: 157/300: 100%|█| 78/78 [00:07<00:00, 11.05it/s, lr=3.82e-5, b_loss=0.4, b_acc\n"
     ]
    },
    {
     "name": "stdout",
     "output_type": "stream",
     "text": [
      "[ Train | 157/300 ] loss = 0.28274, acc = 0.90329\n"
     ]
    },
    {
     "name": "stderr",
     "output_type": "stream",
     "text": [
      "V: 157/300: 100%|█████| 26/26 [00:01<00:00, 18.63it/s, v_loss=0.754, v_acc=0.79]\n"
     ]
    },
    {
     "name": "stdout",
     "output_type": "stream",
     "text": [
      "[ Valid | 157/300 ] loss = 0.75424, acc = 0.78970\n",
      "[ Valid | 157/300 ] loss = 0.75424, acc = 0.78970 -> best\n",
      "Best model found at fold 3 epoch 157, acc=0.78970, saving model\n"
     ]
    },
    {
     "name": "stderr",
     "output_type": "stream",
     "text": [
      "T: 158/300: 100%|█| 78/78 [00:06<00:00, 11.30it/s, lr=2.18e-5, b_loss=0.228, b_a\n"
     ]
    },
    {
     "name": "stdout",
     "output_type": "stream",
     "text": [
      "[ Train | 158/300 ] loss = 0.27656, acc = 0.90437\n"
     ]
    },
    {
     "name": "stderr",
     "output_type": "stream",
     "text": [
      "V: 158/300: 100%|████| 26/26 [00:01<00:00, 16.09it/s, v_loss=0.746, v_acc=0.792]\n"
     ]
    },
    {
     "name": "stdout",
     "output_type": "stream",
     "text": [
      "[ Valid | 158/300 ] loss = 0.74567, acc = 0.79183\n",
      "[ Valid | 158/300 ] loss = 0.74567, acc = 0.79183 -> best\n",
      "Best model found at fold 3 epoch 158, acc=0.79183, saving model\n"
     ]
    },
    {
     "name": "stderr",
     "output_type": "stream",
     "text": [
      "T: 159/300: 100%|█| 78/78 [00:06<00:00, 11.23it/s, lr=9.79e-6, b_loss=0.245, b_a\n"
     ]
    },
    {
     "name": "stdout",
     "output_type": "stream",
     "text": [
      "[ Train | 159/300 ] loss = 0.27256, acc = 0.90845\n"
     ]
    },
    {
     "name": "stderr",
     "output_type": "stream",
     "text": [
      "V: 159/300: 100%|████| 26/26 [00:01<00:00, 18.34it/s, v_loss=0.738, v_acc=0.795]\n"
     ]
    },
    {
     "name": "stdout",
     "output_type": "stream",
     "text": [
      "[ Valid | 159/300 ] loss = 0.73781, acc = 0.79458\n",
      "[ Valid | 159/300 ] loss = 0.73781, acc = 0.79458 -> best\n",
      "Best model found at fold 3 epoch 159, acc=0.79458, saving model\n"
     ]
    },
    {
     "name": "stderr",
     "output_type": "stream",
     "text": [
      "T: 160/300: 100%|█| 78/78 [00:06<00:00, 11.16it/s, lr=2.46e-6, b_loss=0.33, b_ac\n"
     ]
    },
    {
     "name": "stdout",
     "output_type": "stream",
     "text": [
      "[ Train | 160/300 ] loss = 0.27735, acc = 0.90517\n"
     ]
    },
    {
     "name": "stderr",
     "output_type": "stream",
     "text": [
      "V: 160/300: 100%|████| 26/26 [00:01<00:00, 17.97it/s, v_loss=0.742, v_acc=0.793]\n"
     ]
    },
    {
     "name": "stdout",
     "output_type": "stream",
     "text": [
      "[ Valid | 160/300 ] loss = 0.74166, acc = 0.79296\n",
      "[ Valid | 160/300 ] loss = 0.74166, acc = 0.79296\n"
     ]
    },
    {
     "name": "stderr",
     "output_type": "stream",
     "text": [
      "T: 161/300: 100%|█| 78/78 [00:06<00:00, 11.24it/s, lr=0.0004, b_loss=0.446, b_ac\n"
     ]
    },
    {
     "name": "stdout",
     "output_type": "stream",
     "text": [
      "[ Train | 161/300 ] loss = 0.48365, acc = 0.83466\n"
     ]
    },
    {
     "name": "stderr",
     "output_type": "stream",
     "text": [
      "V: 161/300: 100%|█████| 26/26 [00:01<00:00, 18.90it/s, v_loss=1.06, v_acc=0.714]\n"
     ]
    },
    {
     "name": "stdout",
     "output_type": "stream",
     "text": [
      "[ Valid | 161/300 ] loss = 1.06151, acc = 0.71391\n",
      "[ Valid | 161/300 ] loss = 1.06151, acc = 0.71391\n"
     ]
    },
    {
     "name": "stderr",
     "output_type": "stream",
     "text": [
      "T: 162/300: 100%|█| 78/78 [00:07<00:00, 11.13it/s, lr=0.000398, b_loss=0.557, b_\n"
     ]
    },
    {
     "name": "stdout",
     "output_type": "stream",
     "text": [
      "[ Train | 162/300 ] loss = 0.51939, acc = 0.81659\n"
     ]
    },
    {
     "name": "stderr",
     "output_type": "stream",
     "text": [
      "V: 162/300: 100%|█████| 26/26 [00:01<00:00, 17.60it/s, v_loss=1.02, v_acc=0.701]\n"
     ]
    },
    {
     "name": "stdout",
     "output_type": "stream",
     "text": [
      "[ Valid | 162/300 ] loss = 1.01965, acc = 0.70064\n",
      "[ Valid | 162/300 ] loss = 1.01965, acc = 0.70064\n"
     ]
    },
    {
     "name": "stderr",
     "output_type": "stream",
     "text": [
      "T: 163/300: 100%|█| 78/78 [00:07<00:00, 10.88it/s, lr=0.00039, b_loss=0.739, b_a\n"
     ]
    },
    {
     "name": "stdout",
     "output_type": "stream",
     "text": [
      "[ Train | 163/300 ] loss = 0.50413, acc = 0.82211\n"
     ]
    },
    {
     "name": "stderr",
     "output_type": "stream",
     "text": [
      "V: 163/300: 100%|████| 26/26 [00:01<00:00, 15.84it/s, v_loss=0.897, v_acc=0.727]\n"
     ]
    },
    {
     "name": "stdout",
     "output_type": "stream",
     "text": [
      "[ Valid | 163/300 ] loss = 0.89658, acc = 0.72658\n",
      "[ Valid | 163/300 ] loss = 0.89658, acc = 0.72658\n"
     ]
    },
    {
     "name": "stderr",
     "output_type": "stream",
     "text": [
      "T: 164/300: 100%|█| 78/78 [00:07<00:00, 11.11it/s, lr=0.000378, b_loss=0.679, b_\n"
     ]
    },
    {
     "name": "stdout",
     "output_type": "stream",
     "text": [
      "[ Train | 164/300 ] loss = 0.47367, acc = 0.83608\n"
     ]
    },
    {
     "name": "stderr",
     "output_type": "stream",
     "text": [
      "V: 164/300: 100%|████| 26/26 [00:01<00:00, 18.38it/s, v_loss=0.974, v_acc=0.731]\n"
     ]
    },
    {
     "name": "stdout",
     "output_type": "stream",
     "text": [
      "[ Valid | 164/300 ] loss = 0.97398, acc = 0.73099\n",
      "[ Valid | 164/300 ] loss = 0.97398, acc = 0.73099\n"
     ]
    },
    {
     "name": "stderr",
     "output_type": "stream",
     "text": [
      "T: 165/300: 100%|█| 78/78 [00:06<00:00, 11.35it/s, lr=0.000362, b_loss=0.43, b_a\n"
     ]
    },
    {
     "name": "stdout",
     "output_type": "stream",
     "text": [
      "[ Train | 165/300 ] loss = 0.46032, acc = 0.83954\n"
     ]
    },
    {
     "name": "stderr",
     "output_type": "stream",
     "text": [
      "V: 165/300: 100%|████| 26/26 [00:01<00:00, 18.51it/s, v_loss=0.882, v_acc=0.742]\n"
     ]
    },
    {
     "name": "stdout",
     "output_type": "stream",
     "text": [
      "[ Valid | 165/300 ] loss = 0.88238, acc = 0.74246\n",
      "[ Valid | 165/300 ] loss = 0.88238, acc = 0.74246\n"
     ]
    },
    {
     "name": "stderr",
     "output_type": "stream",
     "text": [
      "T: 166/300: 100%|█| 78/78 [00:06<00:00, 11.42it/s, lr=0.000341, b_loss=0.351, b_\n"
     ]
    },
    {
     "name": "stdout",
     "output_type": "stream",
     "text": [
      "[ Train | 166/300 ] loss = 0.43852, acc = 0.84968\n"
     ]
    },
    {
     "name": "stderr",
     "output_type": "stream",
     "text": [
      "V: 166/300: 100%|██████| 26/26 [00:01<00:00, 17.57it/s, v_loss=1.31, v_acc=0.66]\n"
     ]
    },
    {
     "name": "stdout",
     "output_type": "stream",
     "text": [
      "[ Valid | 166/300 ] loss = 1.30572, acc = 0.66009\n",
      "[ Valid | 166/300 ] loss = 1.30572, acc = 0.66009\n"
     ]
    },
    {
     "name": "stderr",
     "output_type": "stream",
     "text": [
      "T: 167/300: 100%|█| 78/78 [00:07<00:00, 11.09it/s, lr=0.000318, b_loss=0.368, b_\n"
     ]
    },
    {
     "name": "stdout",
     "output_type": "stream",
     "text": [
      "[ Train | 167/300 ] loss = 0.44150, acc = 0.84208\n"
     ]
    },
    {
     "name": "stderr",
     "output_type": "stream",
     "text": [
      "V: 167/300: 100%|████| 26/26 [00:01<00:00, 15.88it/s, v_loss=0.807, v_acc=0.764]\n"
     ]
    },
    {
     "name": "stdout",
     "output_type": "stream",
     "text": [
      "[ Valid | 167/300 ] loss = 0.80659, acc = 0.76391\n",
      "[ Valid | 167/300 ] loss = 0.80659, acc = 0.76391\n"
     ]
    },
    {
     "name": "stderr",
     "output_type": "stream",
     "text": [
      "T: 168/300: 100%|█| 78/78 [00:07<00:00, 11.08it/s, lr=0.000291, b_loss=0.58, b_a\n"
     ]
    },
    {
     "name": "stdout",
     "output_type": "stream",
     "text": [
      "[ Train | 168/300 ] loss = 0.40299, acc = 0.85620\n"
     ]
    },
    {
     "name": "stderr",
     "output_type": "stream",
     "text": [
      "V: 168/300: 100%|████| 26/26 [00:01<00:00, 16.61it/s, v_loss=0.933, v_acc=0.735]\n"
     ]
    },
    {
     "name": "stdout",
     "output_type": "stream",
     "text": [
      "[ Valid | 168/300 ] loss = 0.93280, acc = 0.73522\n",
      "[ Valid | 168/300 ] loss = 0.93280, acc = 0.73522\n"
     ]
    },
    {
     "name": "stderr",
     "output_type": "stream",
     "text": [
      "T: 169/300: 100%|█| 78/78 [00:07<00:00, 11.12it/s, lr=0.000262, b_loss=0.379, b_\n"
     ]
    },
    {
     "name": "stdout",
     "output_type": "stream",
     "text": [
      "[ Train | 169/300 ] loss = 0.37172, acc = 0.87343\n"
     ]
    },
    {
     "name": "stderr",
     "output_type": "stream",
     "text": [
      "V: 169/300: 100%|████| 26/26 [00:01<00:00, 17.10it/s, v_loss=0.872, v_acc=0.766]\n"
     ]
    },
    {
     "name": "stdout",
     "output_type": "stream",
     "text": [
      "[ Valid | 169/300 ] loss = 0.87170, acc = 0.76562\n",
      "[ Valid | 169/300 ] loss = 0.87170, acc = 0.76562\n"
     ]
    },
    {
     "name": "stderr",
     "output_type": "stream",
     "text": [
      "T: 170/300: 100%|█| 78/78 [00:06<00:00, 11.22it/s, lr=0.000231, b_loss=0.38, b_a\n"
     ]
    },
    {
     "name": "stdout",
     "output_type": "stream",
     "text": [
      "[ Train | 170/300 ] loss = 0.36784, acc = 0.87104\n"
     ]
    },
    {
     "name": "stderr",
     "output_type": "stream",
     "text": [
      "V: 170/300: 100%|████| 26/26 [00:01<00:00, 17.45it/s, v_loss=0.858, v_acc=0.755]\n"
     ]
    },
    {
     "name": "stdout",
     "output_type": "stream",
     "text": [
      "[ Valid | 170/300 ] loss = 0.85760, acc = 0.75453\n",
      "[ Valid | 170/300 ] loss = 0.85760, acc = 0.75453\n"
     ]
    },
    {
     "name": "stderr",
     "output_type": "stream",
     "text": [
      "T: 171/300: 100%|█| 78/78 [00:07<00:00, 11.01it/s, lr=0.0002, b_loss=0.375, b_ac\n"
     ]
    },
    {
     "name": "stdout",
     "output_type": "stream",
     "text": [
      "[ Train | 171/300 ] loss = 0.34528, acc = 0.87955\n"
     ]
    },
    {
     "name": "stderr",
     "output_type": "stream",
     "text": [
      "V: 171/300: 100%|████| 26/26 [00:01<00:00, 15.92it/s, v_loss=0.862, v_acc=0.767]\n"
     ]
    },
    {
     "name": "stdout",
     "output_type": "stream",
     "text": [
      "[ Valid | 171/300 ] loss = 0.86242, acc = 0.76713\n",
      "[ Valid | 171/300 ] loss = 0.86242, acc = 0.76713\n"
     ]
    },
    {
     "name": "stderr",
     "output_type": "stream",
     "text": [
      "T: 172/300: 100%|█| 78/78 [00:07<00:00, 11.07it/s, lr=0.000169, b_loss=0.251, b_\n"
     ]
    },
    {
     "name": "stdout",
     "output_type": "stream",
     "text": [
      "[ Train | 172/300 ] loss = 0.31195, acc = 0.89144\n"
     ]
    },
    {
     "name": "stderr",
     "output_type": "stream",
     "text": [
      "V: 172/300: 100%|████| 26/26 [00:01<00:00, 17.34it/s, v_loss=0.802, v_acc=0.776]\n"
     ]
    },
    {
     "name": "stdout",
     "output_type": "stream",
     "text": [
      "[ Valid | 172/300 ] loss = 0.80229, acc = 0.77647\n",
      "[ Valid | 172/300 ] loss = 0.80229, acc = 0.77647\n"
     ]
    },
    {
     "name": "stderr",
     "output_type": "stream",
     "text": [
      "T: 173/300: 100%|█| 78/78 [00:07<00:00, 11.04it/s, lr=0.000138, b_loss=0.276, b_\n"
     ]
    },
    {
     "name": "stdout",
     "output_type": "stream",
     "text": [
      "[ Train | 173/300 ] loss = 0.29411, acc = 0.89941\n"
     ]
    },
    {
     "name": "stderr",
     "output_type": "stream",
     "text": [
      "V: 173/300: 100%|████| 26/26 [00:01<00:00, 18.47it/s, v_loss=0.805, v_acc=0.778]\n"
     ]
    },
    {
     "name": "stdout",
     "output_type": "stream",
     "text": [
      "[ Valid | 173/300 ] loss = 0.80490, acc = 0.77824\n",
      "[ Valid | 173/300 ] loss = 0.80490, acc = 0.77824\n"
     ]
    },
    {
     "name": "stderr",
     "output_type": "stream",
     "text": [
      "T: 174/300: 100%|█| 78/78 [00:07<00:00, 11.09it/s, lr=0.000109, b_loss=0.375, b_\n"
     ]
    },
    {
     "name": "stdout",
     "output_type": "stream",
     "text": [
      "[ Train | 174/300 ] loss = 0.27930, acc = 0.90268\n"
     ]
    },
    {
     "name": "stderr",
     "output_type": "stream",
     "text": [
      "V: 174/300: 100%|█████| 26/26 [00:01<00:00, 17.55it/s, v_loss=0.79, v_acc=0.784]\n"
     ]
    },
    {
     "name": "stdout",
     "output_type": "stream",
     "text": [
      "[ Valid | 174/300 ] loss = 0.78988, acc = 0.78401\n",
      "[ Valid | 174/300 ] loss = 0.78988, acc = 0.78401\n"
     ]
    },
    {
     "name": "stderr",
     "output_type": "stream",
     "text": [
      "T: 175/300: 100%|█| 78/78 [00:07<00:00, 11.13it/s, lr=8.24e-5, b_loss=0.317, b_a\n"
     ]
    },
    {
     "name": "stdout",
     "output_type": "stream",
     "text": [
      "[ Train | 175/300 ] loss = 0.27026, acc = 0.90625\n"
     ]
    },
    {
     "name": "stderr",
     "output_type": "stream",
     "text": [
      "V: 175/300: 100%|████| 26/26 [00:01<00:00, 16.72it/s, v_loss=0.793, v_acc=0.786]\n"
     ]
    },
    {
     "name": "stdout",
     "output_type": "stream",
     "text": [
      "[ Valid | 175/300 ] loss = 0.79334, acc = 0.78551\n",
      "[ Valid | 175/300 ] loss = 0.79334, acc = 0.78551\n"
     ]
    },
    {
     "name": "stderr",
     "output_type": "stream",
     "text": [
      "T: 176/300: 100%|█| 78/78 [00:06<00:00, 11.21it/s, lr=5.86e-5, b_loss=0.33, b_ac\n"
     ]
    },
    {
     "name": "stdout",
     "output_type": "stream",
     "text": [
      "[ Train | 176/300 ] loss = 0.26147, acc = 0.91071\n"
     ]
    },
    {
     "name": "stderr",
     "output_type": "stream",
     "text": [
      "V: 176/300: 100%|████| 26/26 [00:01<00:00, 17.69it/s, v_loss=0.793, v_acc=0.783]\n"
     ]
    },
    {
     "name": "stdout",
     "output_type": "stream",
     "text": [
      "[ Valid | 176/300 ] loss = 0.79255, acc = 0.78304\n",
      "[ Valid | 176/300 ] loss = 0.79255, acc = 0.78304\n"
     ]
    },
    {
     "name": "stderr",
     "output_type": "stream",
     "text": [
      "T: 177/300: 100%|█| 78/78 [00:07<00:00, 10.97it/s, lr=3.82e-5, b_loss=0.257, b_a\n"
     ]
    },
    {
     "name": "stdout",
     "output_type": "stream",
     "text": [
      "[ Train | 177/300 ] loss = 0.24109, acc = 0.91724\n"
     ]
    },
    {
     "name": "stderr",
     "output_type": "stream",
     "text": [
      "V: 177/300: 100%|█████| 26/26 [00:01<00:00, 17.47it/s, v_loss=0.77, v_acc=0.792]\n"
     ]
    },
    {
     "name": "stdout",
     "output_type": "stream",
     "text": [
      "[ Valid | 177/300 ] loss = 0.76973, acc = 0.79151\n",
      "[ Valid | 177/300 ] loss = 0.76973, acc = 0.79151\n"
     ]
    },
    {
     "name": "stderr",
     "output_type": "stream",
     "text": [
      "T: 178/300: 100%|█| 78/78 [00:07<00:00, 10.71it/s, lr=2.18e-5, b_loss=0.192, b_a\n"
     ]
    },
    {
     "name": "stdout",
     "output_type": "stream",
     "text": [
      "[ Train | 178/300 ] loss = 0.22476, acc = 0.92710\n"
     ]
    },
    {
     "name": "stderr",
     "output_type": "stream",
     "text": [
      "V: 178/300: 100%|████| 26/26 [00:01<00:00, 14.50it/s, v_loss=0.769, v_acc=0.791]\n"
     ]
    },
    {
     "name": "stdout",
     "output_type": "stream",
     "text": [
      "[ Valid | 178/300 ] loss = 0.76892, acc = 0.79117\n",
      "[ Valid | 178/300 ] loss = 0.76892, acc = 0.79117\n"
     ]
    },
    {
     "name": "stderr",
     "output_type": "stream",
     "text": [
      "T: 179/300: 100%|█| 78/78 [00:07<00:00, 10.78it/s, lr=9.79e-6, b_loss=0.241, b_a\n"
     ]
    },
    {
     "name": "stdout",
     "output_type": "stream",
     "text": [
      "[ Train | 179/300 ] loss = 0.23709, acc = 0.92098\n"
     ]
    },
    {
     "name": "stderr",
     "output_type": "stream",
     "text": [
      "V: 179/300: 100%|████| 26/26 [00:01<00:00, 17.28it/s, v_loss=0.763, v_acc=0.791]\n"
     ]
    },
    {
     "name": "stdout",
     "output_type": "stream",
     "text": [
      "[ Valid | 179/300 ] loss = 0.76282, acc = 0.79097\n",
      "[ Valid | 179/300 ] loss = 0.76282, acc = 0.79097\n"
     ]
    },
    {
     "name": "stderr",
     "output_type": "stream",
     "text": [
      "T: 180/300: 100%|█| 78/78 [00:07<00:00, 10.45it/s, lr=2.46e-6, b_loss=0.181, b_a\n"
     ]
    },
    {
     "name": "stdout",
     "output_type": "stream",
     "text": [
      "[ Train | 180/300 ] loss = 0.21712, acc = 0.92762\n"
     ]
    },
    {
     "name": "stderr",
     "output_type": "stream",
     "text": [
      "V: 180/300: 100%|█████| 26/26 [00:01<00:00, 14.76it/s, v_loss=0.77, v_acc=0.789]\n"
     ]
    },
    {
     "name": "stdout",
     "output_type": "stream",
     "text": [
      "[ Valid | 180/300 ] loss = 0.77011, acc = 0.78879\n",
      "[ Valid | 180/300 ] loss = 0.77011, acc = 0.78879\n",
      "No improvment 20 consecutive epochs, early stopping\n",
      "\n",
      "\n",
      "Starting Fold: 4 ********************************************\n",
      "cuda:0\n"
     ]
    },
    {
     "name": "stderr",
     "output_type": "stream",
     "text": [
      "T: 001/300: 100%|█| 78/78 [00:07<00:00, 10.20it/s, lr=0.0004, b_loss=1.9, b_acc=\n"
     ]
    },
    {
     "name": "stdout",
     "output_type": "stream",
     "text": [
      "[ Train | 001/300 ] loss = 2.08198, acc = 0.26350\n"
     ]
    },
    {
     "name": "stderr",
     "output_type": "stream",
     "text": [
      "V: 001/300: 100%|█████| 26/26 [00:01<00:00, 15.58it/s, v_loss=1.98, v_acc=0.311]\n"
     ]
    },
    {
     "name": "stdout",
     "output_type": "stream",
     "text": [
      "[ Valid | 001/300 ] loss = 1.97580, acc = 0.31106\n",
      "[ Valid | 001/300 ] loss = 1.97580, acc = 0.31106 -> best\n",
      "Best model found at fold 4 epoch 1, acc=0.31106, saving model\n"
     ]
    },
    {
     "name": "stderr",
     "output_type": "stream",
     "text": [
      "T: 002/300: 100%|█| 78/78 [00:07<00:00, 10.54it/s, lr=0.000398, b_loss=2.02, b_a\n"
     ]
    },
    {
     "name": "stdout",
     "output_type": "stream",
     "text": [
      "[ Train | 002/300 ] loss = 1.93805, acc = 0.32178\n"
     ]
    },
    {
     "name": "stderr",
     "output_type": "stream",
     "text": [
      "V: 002/300: 100%|█████| 26/26 [00:01<00:00, 14.26it/s, v_loss=1.92, v_acc=0.317]\n"
     ]
    },
    {
     "name": "stdout",
     "output_type": "stream",
     "text": [
      "[ Valid | 002/300 ] loss = 1.91642, acc = 0.31703\n",
      "[ Valid | 002/300 ] loss = 1.91642, acc = 0.31703 -> best\n",
      "Best model found at fold 4 epoch 2, acc=0.31703, saving model\n"
     ]
    },
    {
     "name": "stderr",
     "output_type": "stream",
     "text": [
      "T: 003/300: 100%|█| 78/78 [00:07<00:00, 10.80it/s, lr=0.00039, b_loss=1.88, b_ac\n"
     ]
    },
    {
     "name": "stdout",
     "output_type": "stream",
     "text": [
      "[ Train | 003/300 ] loss = 1.85018, acc = 0.35168\n"
     ]
    },
    {
     "name": "stderr",
     "output_type": "stream",
     "text": [
      "V: 003/300: 100%|█████| 26/26 [00:01<00:00, 14.58it/s, v_loss=2.51, v_acc=0.197]\n"
     ]
    },
    {
     "name": "stdout",
     "output_type": "stream",
     "text": [
      "[ Valid | 003/300 ] loss = 2.50559, acc = 0.19735\n",
      "[ Valid | 003/300 ] loss = 2.50559, acc = 0.19735\n"
     ]
    },
    {
     "name": "stderr",
     "output_type": "stream",
     "text": [
      "T: 004/300: 100%|█| 78/78 [00:07<00:00, 10.81it/s, lr=0.000378, b_loss=1.94, b_a\n"
     ]
    },
    {
     "name": "stdout",
     "output_type": "stream",
     "text": [
      "[ Train | 004/300 ] loss = 1.77615, acc = 0.37665\n"
     ]
    },
    {
     "name": "stderr",
     "output_type": "stream",
     "text": [
      "V: 004/300: 100%|█████| 26/26 [00:01<00:00, 13.72it/s, v_loss=1.99, v_acc=0.341]\n"
     ]
    },
    {
     "name": "stdout",
     "output_type": "stream",
     "text": [
      "[ Valid | 004/300 ] loss = 1.99368, acc = 0.34145\n",
      "[ Valid | 004/300 ] loss = 1.99368, acc = 0.34145 -> best\n",
      "Best model found at fold 4 epoch 4, acc=0.34145, saving model\n"
     ]
    },
    {
     "name": "stderr",
     "output_type": "stream",
     "text": [
      "T: 005/300: 100%|█| 78/78 [00:07<00:00, 10.88it/s, lr=0.000362, b_loss=1.56, b_a\n"
     ]
    },
    {
     "name": "stdout",
     "output_type": "stream",
     "text": [
      "[ Train | 005/300 ] loss = 1.73110, acc = 0.39607\n"
     ]
    },
    {
     "name": "stderr",
     "output_type": "stream",
     "text": [
      "V: 005/300: 100%|█████| 26/26 [00:01<00:00, 14.93it/s, v_loss=1.75, v_acc=0.398]\n"
     ]
    },
    {
     "name": "stdout",
     "output_type": "stream",
     "text": [
      "[ Valid | 005/300 ] loss = 1.74752, acc = 0.39825\n",
      "[ Valid | 005/300 ] loss = 1.74752, acc = 0.39825 -> best\n",
      "Best model found at fold 4 epoch 5, acc=0.39825, saving model\n"
     ]
    },
    {
     "name": "stderr",
     "output_type": "stream",
     "text": [
      "T: 006/300: 100%|█| 78/78 [00:07<00:00, 10.83it/s, lr=0.000341, b_loss=1.7, b_ac\n"
     ]
    },
    {
     "name": "stdout",
     "output_type": "stream",
     "text": [
      "[ Train | 006/300 ] loss = 1.65188, acc = 0.42238\n"
     ]
    },
    {
     "name": "stderr",
     "output_type": "stream",
     "text": [
      "V: 006/300: 100%|█████| 26/26 [00:01<00:00, 14.23it/s, v_loss=1.91, v_acc=0.361]\n"
     ]
    },
    {
     "name": "stdout",
     "output_type": "stream",
     "text": [
      "[ Valid | 006/300 ] loss = 1.90894, acc = 0.36103\n",
      "[ Valid | 006/300 ] loss = 1.90894, acc = 0.36103\n"
     ]
    },
    {
     "name": "stderr",
     "output_type": "stream",
     "text": [
      "T: 007/300: 100%|█| 78/78 [00:07<00:00, 11.09it/s, lr=0.000318, b_loss=1.61, b_a\n"
     ]
    },
    {
     "name": "stdout",
     "output_type": "stream",
     "text": [
      "[ Train | 007/300 ] loss = 1.59136, acc = 0.44345\n"
     ]
    },
    {
     "name": "stderr",
     "output_type": "stream",
     "text": [
      "V: 007/300: 100%|█████| 26/26 [00:01<00:00, 15.43it/s, v_loss=1.69, v_acc=0.427]\n"
     ]
    },
    {
     "name": "stdout",
     "output_type": "stream",
     "text": [
      "[ Valid | 007/300 ] loss = 1.69130, acc = 0.42749\n",
      "[ Valid | 007/300 ] loss = 1.69130, acc = 0.42749 -> best\n",
      "Best model found at fold 4 epoch 7, acc=0.42749, saving model\n"
     ]
    },
    {
     "name": "stderr",
     "output_type": "stream",
     "text": [
      "T: 008/300: 100%|█| 78/78 [00:07<00:00, 10.94it/s, lr=0.000291, b_loss=1.46, b_a\n"
     ]
    },
    {
     "name": "stdout",
     "output_type": "stream",
     "text": [
      "[ Train | 008/300 ] loss = 1.53364, acc = 0.47206\n"
     ]
    },
    {
     "name": "stderr",
     "output_type": "stream",
     "text": [
      "V: 008/300: 100%|█████| 26/26 [00:01<00:00, 14.96it/s, v_loss=1.59, v_acc=0.458]\n"
     ]
    },
    {
     "name": "stdout",
     "output_type": "stream",
     "text": [
      "[ Valid | 008/300 ] loss = 1.58864, acc = 0.45823\n",
      "[ Valid | 008/300 ] loss = 1.58864, acc = 0.45823 -> best\n",
      "Best model found at fold 4 epoch 8, acc=0.45823, saving model\n"
     ]
    },
    {
     "name": "stderr",
     "output_type": "stream",
     "text": [
      "T: 009/300: 100%|█| 78/78 [00:07<00:00, 10.65it/s, lr=0.000262, b_loss=1.36, b_a\n"
     ]
    },
    {
     "name": "stdout",
     "output_type": "stream",
     "text": [
      "[ Train | 009/300 ] loss = 1.48283, acc = 0.48573\n"
     ]
    },
    {
     "name": "stderr",
     "output_type": "stream",
     "text": [
      "V: 009/300: 100%|█████| 26/26 [00:01<00:00, 15.60it/s, v_loss=1.58, v_acc=0.456]\n"
     ]
    },
    {
     "name": "stdout",
     "output_type": "stream",
     "text": [
      "[ Valid | 009/300 ] loss = 1.58416, acc = 0.45617\n",
      "[ Valid | 009/300 ] loss = 1.58416, acc = 0.45617\n"
     ]
    },
    {
     "name": "stderr",
     "output_type": "stream",
     "text": [
      "T: 010/300: 100%|█| 78/78 [00:07<00:00, 10.54it/s, lr=0.000231, b_loss=1.38, b_a\n"
     ]
    },
    {
     "name": "stdout",
     "output_type": "stream",
     "text": [
      "[ Train | 010/300 ] loss = 1.42962, acc = 0.50219\n"
     ]
    },
    {
     "name": "stderr",
     "output_type": "stream",
     "text": [
      "V: 010/300: 100%|█████| 26/26 [00:01<00:00, 15.39it/s, v_loss=1.49, v_acc=0.492]\n"
     ]
    },
    {
     "name": "stdout",
     "output_type": "stream",
     "text": [
      "[ Valid | 010/300 ] loss = 1.49017, acc = 0.49186\n",
      "[ Valid | 010/300 ] loss = 1.49017, acc = 0.49186 -> best\n",
      "Best model found at fold 4 epoch 10, acc=0.49186, saving model\n"
     ]
    },
    {
     "name": "stderr",
     "output_type": "stream",
     "text": [
      "T: 011/300: 100%|█| 78/78 [00:07<00:00, 10.76it/s, lr=0.0002, b_loss=1.31, b_acc\n"
     ]
    },
    {
     "name": "stdout",
     "output_type": "stream",
     "text": [
      "[ Train | 011/300 ] loss = 1.38083, acc = 0.51771\n"
     ]
    },
    {
     "name": "stderr",
     "output_type": "stream",
     "text": [
      "V: 011/300: 100%|█████| 26/26 [00:01<00:00, 14.14it/s, v_loss=1.56, v_acc=0.476]\n"
     ]
    },
    {
     "name": "stdout",
     "output_type": "stream",
     "text": [
      "[ Valid | 011/300 ] loss = 1.55641, acc = 0.47567\n",
      "[ Valid | 011/300 ] loss = 1.55641, acc = 0.47567\n"
     ]
    },
    {
     "name": "stderr",
     "output_type": "stream",
     "text": [
      "T: 012/300: 100%|█| 78/78 [00:07<00:00, 10.86it/s, lr=0.000169, b_loss=1.43, b_a\n"
     ]
    },
    {
     "name": "stdout",
     "output_type": "stream",
     "text": [
      "[ Train | 012/300 ] loss = 1.34518, acc = 0.53503\n"
     ]
    },
    {
     "name": "stderr",
     "output_type": "stream",
     "text": [
      "V: 012/300: 100%|██████| 26/26 [00:01<00:00, 16.36it/s, v_loss=1.4, v_acc=0.522]\n"
     ]
    },
    {
     "name": "stdout",
     "output_type": "stream",
     "text": [
      "[ Valid | 012/300 ] loss = 1.40135, acc = 0.52162\n",
      "[ Valid | 012/300 ] loss = 1.40135, acc = 0.52162 -> best\n",
      "Best model found at fold 4 epoch 12, acc=0.52162, saving model\n"
     ]
    },
    {
     "name": "stderr",
     "output_type": "stream",
     "text": [
      "T: 013/300: 100%|█| 78/78 [00:07<00:00, 10.96it/s, lr=0.000138, b_loss=1.05, b_a\n"
     ]
    },
    {
     "name": "stdout",
     "output_type": "stream",
     "text": [
      "[ Train | 013/300 ] loss = 1.27761, acc = 0.55546\n"
     ]
    },
    {
     "name": "stderr",
     "output_type": "stream",
     "text": [
      "V: 013/300: 100%|█████| 26/26 [00:01<00:00, 16.58it/s, v_loss=1.44, v_acc=0.501]\n"
     ]
    },
    {
     "name": "stdout",
     "output_type": "stream",
     "text": [
      "[ Valid | 013/300 ] loss = 1.44480, acc = 0.50114\n",
      "[ Valid | 013/300 ] loss = 1.44480, acc = 0.50114\n"
     ]
    },
    {
     "name": "stderr",
     "output_type": "stream",
     "text": [
      "T: 014/300: 100%|█| 78/78 [00:07<00:00, 10.81it/s, lr=0.000109, b_loss=1.14, b_a\n"
     ]
    },
    {
     "name": "stdout",
     "output_type": "stream",
     "text": [
      "[ Train | 014/300 ] loss = 1.24205, acc = 0.56745\n"
     ]
    },
    {
     "name": "stderr",
     "output_type": "stream",
     "text": [
      "V: 014/300: 100%|██████| 26/26 [00:01<00:00, 16.19it/s, v_loss=1.4, v_acc=0.525]\n"
     ]
    },
    {
     "name": "stdout",
     "output_type": "stream",
     "text": [
      "[ Valid | 014/300 ] loss = 1.39532, acc = 0.52502\n",
      "[ Valid | 014/300 ] loss = 1.39532, acc = 0.52502 -> best\n",
      "Best model found at fold 4 epoch 14, acc=0.52502, saving model\n"
     ]
    },
    {
     "name": "stderr",
     "output_type": "stream",
     "text": [
      "T: 015/300: 100%|█| 78/78 [00:07<00:00, 11.03it/s, lr=8.24e-5, b_loss=1.07, b_ac\n"
     ]
    },
    {
     "name": "stdout",
     "output_type": "stream",
     "text": [
      "[ Train | 015/300 ] loss = 1.19209, acc = 0.58661\n"
     ]
    },
    {
     "name": "stderr",
     "output_type": "stream",
     "text": [
      "V: 015/300: 100%|█████| 26/26 [00:01<00:00, 15.29it/s, v_loss=1.25, v_acc=0.567]\n"
     ]
    },
    {
     "name": "stdout",
     "output_type": "stream",
     "text": [
      "[ Valid | 015/300 ] loss = 1.24743, acc = 0.56714\n",
      "[ Valid | 015/300 ] loss = 1.24743, acc = 0.56714 -> best\n",
      "Best model found at fold 4 epoch 15, acc=0.56714, saving model\n"
     ]
    },
    {
     "name": "stderr",
     "output_type": "stream",
     "text": [
      "T: 016/300: 100%|█| 78/78 [00:07<00:00, 11.07it/s, lr=5.86e-5, b_loss=1.13, b_ac\n"
     ]
    },
    {
     "name": "stdout",
     "output_type": "stream",
     "text": [
      "[ Train | 016/300 ] loss = 1.15819, acc = 0.59256\n"
     ]
    },
    {
     "name": "stderr",
     "output_type": "stream",
     "text": [
      "V: 016/300: 100%|█████| 26/26 [00:01<00:00, 16.09it/s, v_loss=1.16, v_acc=0.601]\n"
     ]
    },
    {
     "name": "stdout",
     "output_type": "stream",
     "text": [
      "[ Valid | 016/300 ] loss = 1.16191, acc = 0.60145\n",
      "[ Valid | 016/300 ] loss = 1.16191, acc = 0.60145 -> best\n",
      "Best model found at fold 4 epoch 16, acc=0.60145, saving model\n"
     ]
    },
    {
     "name": "stderr",
     "output_type": "stream",
     "text": [
      "T: 017/300: 100%|█| 78/78 [00:07<00:00, 10.69it/s, lr=3.82e-5, b_loss=1.31, b_ac\n"
     ]
    },
    {
     "name": "stdout",
     "output_type": "stream",
     "text": [
      "[ Train | 017/300 ] loss = 1.12634, acc = 0.60677\n"
     ]
    },
    {
     "name": "stderr",
     "output_type": "stream",
     "text": [
      "V: 017/300: 100%|█████| 26/26 [00:01<00:00, 14.22it/s, v_loss=1.14, v_acc=0.609]\n"
     ]
    },
    {
     "name": "stdout",
     "output_type": "stream",
     "text": [
      "[ Valid | 017/300 ] loss = 1.13605, acc = 0.60920\n",
      "[ Valid | 017/300 ] loss = 1.13605, acc = 0.60920 -> best\n",
      "Best model found at fold 4 epoch 17, acc=0.60920, saving model\n"
     ]
    },
    {
     "name": "stderr",
     "output_type": "stream",
     "text": [
      "T: 018/300: 100%|█| 78/78 [00:07<00:00, 10.81it/s, lr=2.18e-5, b_loss=1.16, b_ac\n"
     ]
    },
    {
     "name": "stdout",
     "output_type": "stream",
     "text": [
      "[ Train | 018/300 ] loss = 1.10581, acc = 0.61582\n"
     ]
    },
    {
     "name": "stderr",
     "output_type": "stream",
     "text": [
      "V: 018/300: 100%|█████| 26/26 [00:01<00:00, 16.27it/s, v_loss=1.11, v_acc=0.614]\n"
     ]
    },
    {
     "name": "stdout",
     "output_type": "stream",
     "text": [
      "[ Valid | 018/300 ] loss = 1.10888, acc = 0.61392\n",
      "[ Valid | 018/300 ] loss = 1.10888, acc = 0.61392 -> best\n",
      "Best model found at fold 4 epoch 18, acc=0.61392, saving model\n"
     ]
    },
    {
     "name": "stderr",
     "output_type": "stream",
     "text": [
      "T: 019/300: 100%|█| 78/78 [00:07<00:00, 10.92it/s, lr=9.79e-6, b_loss=1.13, b_ac\n"
     ]
    },
    {
     "name": "stdout",
     "output_type": "stream",
     "text": [
      "[ Train | 019/300 ] loss = 1.08319, acc = 0.62412\n"
     ]
    },
    {
     "name": "stderr",
     "output_type": "stream",
     "text": [
      "V: 019/300: 100%|██████| 26/26 [00:01<00:00, 15.93it/s, v_loss=1.1, v_acc=0.617]\n"
     ]
    },
    {
     "name": "stdout",
     "output_type": "stream",
     "text": [
      "[ Valid | 019/300 ] loss = 1.10064, acc = 0.61676\n",
      "[ Valid | 019/300 ] loss = 1.10064, acc = 0.61676 -> best\n",
      "Best model found at fold 4 epoch 19, acc=0.61676, saving model\n"
     ]
    },
    {
     "name": "stderr",
     "output_type": "stream",
     "text": [
      "T: 020/300: 100%|█| 78/78 [00:07<00:00, 10.48it/s, lr=2.46e-6, b_loss=1.06, b_ac\n"
     ]
    },
    {
     "name": "stdout",
     "output_type": "stream",
     "text": [
      "[ Train | 020/300 ] loss = 1.07844, acc = 0.63083\n"
     ]
    },
    {
     "name": "stderr",
     "output_type": "stream",
     "text": [
      "V: 020/300: 100%|█████| 26/26 [00:02<00:00, 12.62it/s, v_loss=1.08, v_acc=0.622]\n"
     ]
    },
    {
     "name": "stdout",
     "output_type": "stream",
     "text": [
      "[ Valid | 020/300 ] loss = 1.08493, acc = 0.62245\n",
      "[ Valid | 020/300 ] loss = 1.08493, acc = 0.62245 -> best\n",
      "Best model found at fold 4 epoch 20, acc=0.62245, saving model\n"
     ]
    },
    {
     "name": "stderr",
     "output_type": "stream",
     "text": [
      "T: 021/300: 100%|█| 78/78 [00:07<00:00, 10.67it/s, lr=0.0004, b_loss=1.52, b_acc\n"
     ]
    },
    {
     "name": "stdout",
     "output_type": "stream",
     "text": [
      "[ Train | 021/300 ] loss = 1.36456, acc = 0.52792\n"
     ]
    },
    {
     "name": "stderr",
     "output_type": "stream",
     "text": [
      "V: 021/300: 100%|██████| 26/26 [00:01<00:00, 16.23it/s, v_loss=1.48, v_acc=0.49]\n"
     ]
    },
    {
     "name": "stdout",
     "output_type": "stream",
     "text": [
      "[ Valid | 021/300 ] loss = 1.48370, acc = 0.49038\n",
      "[ Valid | 021/300 ] loss = 1.48370, acc = 0.49038\n"
     ]
    },
    {
     "name": "stderr",
     "output_type": "stream",
     "text": [
      "T: 022/300: 100%|█| 78/78 [00:07<00:00, 10.71it/s, lr=0.000398, b_loss=1.19, b_a\n"
     ]
    },
    {
     "name": "stdout",
     "output_type": "stream",
     "text": [
      "[ Train | 022/300 ] loss = 1.34769, acc = 0.53491\n"
     ]
    },
    {
     "name": "stderr",
     "output_type": "stream",
     "text": [
      "V: 022/300: 100%|█████| 26/26 [00:01<00:00, 15.80it/s, v_loss=1.55, v_acc=0.487]\n"
     ]
    },
    {
     "name": "stdout",
     "output_type": "stream",
     "text": [
      "[ Valid | 022/300 ] loss = 1.54739, acc = 0.48723\n",
      "[ Valid | 022/300 ] loss = 1.54739, acc = 0.48723\n"
     ]
    },
    {
     "name": "stderr",
     "output_type": "stream",
     "text": [
      "T: 023/300: 100%|█| 78/78 [00:07<00:00, 10.84it/s, lr=0.00039, b_loss=1.27, b_ac\n"
     ]
    },
    {
     "name": "stdout",
     "output_type": "stream",
     "text": [
      "[ Train | 023/300 ] loss = 1.27513, acc = 0.55826\n"
     ]
    },
    {
     "name": "stderr",
     "output_type": "stream",
     "text": [
      "V: 023/300: 100%|██████| 26/26 [00:01<00:00, 16.26it/s, v_loss=1.5, v_acc=0.509]\n"
     ]
    },
    {
     "name": "stdout",
     "output_type": "stream",
     "text": [
      "[ Valid | 023/300 ] loss = 1.49517, acc = 0.50868\n",
      "[ Valid | 023/300 ] loss = 1.49517, acc = 0.50868\n"
     ]
    },
    {
     "name": "stderr",
     "output_type": "stream",
     "text": [
      "T: 024/300: 100%|█| 78/78 [00:07<00:00, 11.00it/s, lr=0.000378, b_loss=1.14, b_a\n"
     ]
    },
    {
     "name": "stdout",
     "output_type": "stream",
     "text": [
      "[ Train | 024/300 ] loss = 1.25304, acc = 0.56632\n"
     ]
    },
    {
     "name": "stderr",
     "output_type": "stream",
     "text": [
      "V: 024/300: 100%|█████| 26/26 [00:01<00:00, 16.36it/s, v_loss=1.41, v_acc=0.516]\n"
     ]
    },
    {
     "name": "stdout",
     "output_type": "stream",
     "text": [
      "[ Valid | 024/300 ] loss = 1.41136, acc = 0.51626\n",
      "[ Valid | 024/300 ] loss = 1.41136, acc = 0.51626\n"
     ]
    },
    {
     "name": "stderr",
     "output_type": "stream",
     "text": [
      "T: 025/300: 100%|█| 78/78 [00:07<00:00, 10.69it/s, lr=0.000362, b_loss=1.03, b_a\n"
     ]
    },
    {
     "name": "stdout",
     "output_type": "stream",
     "text": [
      "[ Train | 025/300 ] loss = 1.22192, acc = 0.57510\n"
     ]
    },
    {
     "name": "stderr",
     "output_type": "stream",
     "text": [
      "V: 025/300: 100%|█████| 26/26 [00:01<00:00, 15.34it/s, v_loss=1.71, v_acc=0.454]\n"
     ]
    },
    {
     "name": "stdout",
     "output_type": "stream",
     "text": [
      "[ Valid | 025/300 ] loss = 1.71048, acc = 0.45406\n",
      "[ Valid | 025/300 ] loss = 1.71048, acc = 0.45406\n"
     ]
    },
    {
     "name": "stderr",
     "output_type": "stream",
     "text": [
      "T: 026/300: 100%|█| 78/78 [00:07<00:00, 10.48it/s, lr=0.000341, b_loss=1.12, b_a\n"
     ]
    },
    {
     "name": "stdout",
     "output_type": "stream",
     "text": [
      "[ Train | 026/300 ] loss = 1.20329, acc = 0.58387\n"
     ]
    },
    {
     "name": "stderr",
     "output_type": "stream",
     "text": [
      "V: 026/300: 100%|█████| 26/26 [00:01<00:00, 16.55it/s, v_loss=1.28, v_acc=0.548]\n"
     ]
    },
    {
     "name": "stdout",
     "output_type": "stream",
     "text": [
      "[ Valid | 026/300 ] loss = 1.27854, acc = 0.54846\n",
      "[ Valid | 026/300 ] loss = 1.27854, acc = 0.54846\n"
     ]
    },
    {
     "name": "stderr",
     "output_type": "stream",
     "text": [
      "T: 027/300: 100%|█| 78/78 [00:07<00:00, 10.87it/s, lr=0.000318, b_loss=1.2, b_ac\n"
     ]
    },
    {
     "name": "stdout",
     "output_type": "stream",
     "text": [
      "[ Train | 027/300 ] loss = 1.14379, acc = 0.60287\n"
     ]
    },
    {
     "name": "stderr",
     "output_type": "stream",
     "text": [
      "V: 027/300: 100%|█████| 26/26 [00:01<00:00, 13.78it/s, v_loss=1.69, v_acc=0.468]\n"
     ]
    },
    {
     "name": "stdout",
     "output_type": "stream",
     "text": [
      "[ Valid | 027/300 ] loss = 1.68990, acc = 0.46820\n",
      "[ Valid | 027/300 ] loss = 1.68990, acc = 0.46820\n"
     ]
    },
    {
     "name": "stderr",
     "output_type": "stream",
     "text": [
      "T: 028/300: 100%|█| 78/78 [00:07<00:00, 11.05it/s, lr=0.000291, b_loss=0.965, b_\n"
     ]
    },
    {
     "name": "stdout",
     "output_type": "stream",
     "text": [
      "[ Train | 028/300 ] loss = 1.12739, acc = 0.60754\n"
     ]
    },
    {
     "name": "stderr",
     "output_type": "stream",
     "text": [
      "V: 028/300: 100%|█████| 26/26 [00:01<00:00, 15.66it/s, v_loss=1.48, v_acc=0.508]\n"
     ]
    },
    {
     "name": "stdout",
     "output_type": "stream",
     "text": [
      "[ Valid | 028/300 ] loss = 1.47613, acc = 0.50767\n",
      "[ Valid | 028/300 ] loss = 1.47613, acc = 0.50767\n"
     ]
    },
    {
     "name": "stderr",
     "output_type": "stream",
     "text": [
      "T: 029/300: 100%|█| 78/78 [00:07<00:00, 11.05it/s, lr=0.000262, b_loss=1.03, b_a\n"
     ]
    },
    {
     "name": "stdout",
     "output_type": "stream",
     "text": [
      "[ Train | 029/300 ] loss = 1.09571, acc = 0.61964\n"
     ]
    },
    {
     "name": "stderr",
     "output_type": "stream",
     "text": [
      "V: 029/300: 100%|█████| 26/26 [00:01<00:00, 15.17it/s, v_loss=1.41, v_acc=0.536]\n"
     ]
    },
    {
     "name": "stdout",
     "output_type": "stream",
     "text": [
      "[ Valid | 029/300 ] loss = 1.40960, acc = 0.53552\n",
      "[ Valid | 029/300 ] loss = 1.40960, acc = 0.53552\n"
     ]
    },
    {
     "name": "stderr",
     "output_type": "stream",
     "text": [
      "T: 030/300: 100%|█| 78/78 [00:07<00:00, 10.61it/s, lr=0.000231, b_loss=0.925, b_\n"
     ]
    },
    {
     "name": "stdout",
     "output_type": "stream",
     "text": [
      "[ Train | 030/300 ] loss = 1.04903, acc = 0.63724\n"
     ]
    },
    {
     "name": "stderr",
     "output_type": "stream",
     "text": [
      "V: 030/300: 100%|██████| 26/26 [00:01<00:00, 16.93it/s, v_loss=1.1, v_acc=0.625]\n"
     ]
    },
    {
     "name": "stdout",
     "output_type": "stream",
     "text": [
      "[ Valid | 030/300 ] loss = 1.10247, acc = 0.62491\n",
      "[ Valid | 030/300 ] loss = 1.10247, acc = 0.62491 -> best\n",
      "Best model found at fold 4 epoch 30, acc=0.62491, saving model\n"
     ]
    },
    {
     "name": "stderr",
     "output_type": "stream",
     "text": [
      "T: 031/300: 100%|█| 78/78 [00:07<00:00, 10.99it/s, lr=0.0002, b_loss=0.974, b_ac\n"
     ]
    },
    {
     "name": "stdout",
     "output_type": "stream",
     "text": [
      "[ Train | 031/300 ] loss = 1.02416, acc = 0.64898\n"
     ]
    },
    {
     "name": "stderr",
     "output_type": "stream",
     "text": [
      "V: 031/300: 100%|██████| 26/26 [00:01<00:00, 16.22it/s, v_loss=1.3, v_acc=0.571]\n"
     ]
    },
    {
     "name": "stdout",
     "output_type": "stream",
     "text": [
      "[ Valid | 031/300 ] loss = 1.29851, acc = 0.57072\n",
      "[ Valid | 031/300 ] loss = 1.29851, acc = 0.57072\n"
     ]
    },
    {
     "name": "stderr",
     "output_type": "stream",
     "text": [
      "T: 032/300: 100%|█| 78/78 [00:07<00:00, 10.69it/s, lr=0.000169, b_loss=1.08, b_a\n"
     ]
    },
    {
     "name": "stdout",
     "output_type": "stream",
     "text": [
      "[ Train | 032/300 ] loss = 1.00041, acc = 0.65226\n"
     ]
    },
    {
     "name": "stderr",
     "output_type": "stream",
     "text": [
      "V: 032/300: 100%|█████| 26/26 [00:01<00:00, 15.53it/s, v_loss=1.08, v_acc=0.627]\n"
     ]
    },
    {
     "name": "stdout",
     "output_type": "stream",
     "text": [
      "[ Valid | 032/300 ] loss = 1.07571, acc = 0.62720\n",
      "[ Valid | 032/300 ] loss = 1.07571, acc = 0.62720 -> best\n",
      "Best model found at fold 4 epoch 32, acc=0.62720, saving model\n"
     ]
    },
    {
     "name": "stderr",
     "output_type": "stream",
     "text": [
      "T: 033/300: 100%|█| 78/78 [00:07<00:00, 10.95it/s, lr=0.000138, b_loss=1.11, b_a\n"
     ]
    },
    {
     "name": "stdout",
     "output_type": "stream",
     "text": [
      "[ Train | 033/300 ] loss = 0.96758, acc = 0.66627\n"
     ]
    },
    {
     "name": "stderr",
     "output_type": "stream",
     "text": [
      "V: 033/300: 100%|█████| 26/26 [00:01<00:00, 15.93it/s, v_loss=1.12, v_acc=0.628]\n"
     ]
    },
    {
     "name": "stdout",
     "output_type": "stream",
     "text": [
      "[ Valid | 033/300 ] loss = 1.11545, acc = 0.62766\n",
      "[ Valid | 033/300 ] loss = 1.11545, acc = 0.62766 -> best\n",
      "Best model found at fold 4 epoch 33, acc=0.62766, saving model\n"
     ]
    },
    {
     "name": "stderr",
     "output_type": "stream",
     "text": [
      "T: 034/300: 100%|█| 78/78 [00:07<00:00, 10.69it/s, lr=0.000109, b_loss=0.928, b_\n"
     ]
    },
    {
     "name": "stdout",
     "output_type": "stream",
     "text": [
      "[ Train | 034/300 ] loss = 0.93675, acc = 0.67146\n"
     ]
    },
    {
     "name": "stderr",
     "output_type": "stream",
     "text": [
      "V: 034/300: 100%|█████| 26/26 [00:01<00:00, 13.13it/s, v_loss=1.11, v_acc=0.629]\n"
     ]
    },
    {
     "name": "stdout",
     "output_type": "stream",
     "text": [
      "[ Valid | 034/300 ] loss = 1.10603, acc = 0.62880\n",
      "[ Valid | 034/300 ] loss = 1.10603, acc = 0.62880 -> best\n",
      "Best model found at fold 4 epoch 34, acc=0.62880, saving model\n"
     ]
    },
    {
     "name": "stderr",
     "output_type": "stream",
     "text": [
      "T: 035/300: 100%|█| 78/78 [00:07<00:00, 10.87it/s, lr=8.24e-5, b_loss=0.961, b_a\n"
     ]
    },
    {
     "name": "stdout",
     "output_type": "stream",
     "text": [
      "[ Train | 035/300 ] loss = 0.90471, acc = 0.68845\n"
     ]
    },
    {
     "name": "stderr",
     "output_type": "stream",
     "text": [
      "V: 035/300: 100%|████| 26/26 [00:01<00:00, 16.10it/s, v_loss=0.977, v_acc=0.666]\n"
     ]
    },
    {
     "name": "stdout",
     "output_type": "stream",
     "text": [
      "[ Valid | 035/300 ] loss = 0.97666, acc = 0.66637\n",
      "[ Valid | 035/300 ] loss = 0.97666, acc = 0.66637 -> best\n",
      "Best model found at fold 4 epoch 35, acc=0.66637, saving model\n"
     ]
    },
    {
     "name": "stderr",
     "output_type": "stream",
     "text": [
      "T: 036/300: 100%|█| 78/78 [00:07<00:00, 10.64it/s, lr=5.86e-5, b_loss=0.84, b_ac\n"
     ]
    },
    {
     "name": "stdout",
     "output_type": "stream",
     "text": [
      "[ Train | 036/300 ] loss = 0.87200, acc = 0.69664\n"
     ]
    },
    {
     "name": "stderr",
     "output_type": "stream",
     "text": [
      "V: 036/300: 100%|█████| 26/26 [00:01<00:00, 14.49it/s, v_loss=0.94, v_acc=0.684]\n"
     ]
    },
    {
     "name": "stdout",
     "output_type": "stream",
     "text": [
      "[ Valid | 036/300 ] loss = 0.93999, acc = 0.68442\n",
      "[ Valid | 036/300 ] loss = 0.93999, acc = 0.68442 -> best\n",
      "Best model found at fold 4 epoch 36, acc=0.68442, saving model\n"
     ]
    },
    {
     "name": "stderr",
     "output_type": "stream",
     "text": [
      "T: 037/300: 100%|█| 78/78 [00:07<00:00, 11.12it/s, lr=3.82e-5, b_loss=0.874, b_a\n"
     ]
    },
    {
     "name": "stdout",
     "output_type": "stream",
     "text": [
      "[ Train | 037/300 ] loss = 0.85223, acc = 0.70226\n"
     ]
    },
    {
     "name": "stderr",
     "output_type": "stream",
     "text": [
      "V: 037/300: 100%|████| 26/26 [00:01<00:00, 15.27it/s, v_loss=0.921, v_acc=0.689]\n"
     ]
    },
    {
     "name": "stdout",
     "output_type": "stream",
     "text": [
      "[ Valid | 037/300 ] loss = 0.92070, acc = 0.68917\n",
      "[ Valid | 037/300 ] loss = 0.92070, acc = 0.68917 -> best\n",
      "Best model found at fold 4 epoch 37, acc=0.68917, saving model\n"
     ]
    },
    {
     "name": "stderr",
     "output_type": "stream",
     "text": [
      "T: 038/300: 100%|█| 78/78 [00:07<00:00, 11.06it/s, lr=2.18e-5, b_loss=0.862, b_a\n"
     ]
    },
    {
     "name": "stdout",
     "output_type": "stream",
     "text": [
      "[ Train | 038/300 ] loss = 0.83771, acc = 0.71283\n"
     ]
    },
    {
     "name": "stderr",
     "output_type": "stream",
     "text": [
      "V: 038/300: 100%|████| 26/26 [00:01<00:00, 14.19it/s, v_loss=0.908, v_acc=0.693]\n"
     ]
    },
    {
     "name": "stdout",
     "output_type": "stream",
     "text": [
      "[ Valid | 038/300 ] loss = 0.90794, acc = 0.69282\n",
      "[ Valid | 038/300 ] loss = 0.90794, acc = 0.69282 -> best\n",
      "Best model found at fold 4 epoch 38, acc=0.69282, saving model\n"
     ]
    },
    {
     "name": "stderr",
     "output_type": "stream",
     "text": [
      "T: 039/300: 100%|█| 78/78 [00:07<00:00, 10.73it/s, lr=9.79e-6, b_loss=0.717, b_a\n"
     ]
    },
    {
     "name": "stdout",
     "output_type": "stream",
     "text": [
      "[ Train | 039/300 ] loss = 0.82887, acc = 0.71222\n"
     ]
    },
    {
     "name": "stderr",
     "output_type": "stream",
     "text": [
      "V: 039/300: 100%|████| 26/26 [00:01<00:00, 15.50it/s, v_loss=0.897, v_acc=0.697]\n"
     ]
    },
    {
     "name": "stdout",
     "output_type": "stream",
     "text": [
      "[ Valid | 039/300 ] loss = 0.89709, acc = 0.69707\n",
      "[ Valid | 039/300 ] loss = 0.89709, acc = 0.69707 -> best\n",
      "Best model found at fold 4 epoch 39, acc=0.69707, saving model\n"
     ]
    },
    {
     "name": "stderr",
     "output_type": "stream",
     "text": [
      "T: 040/300: 100%|█| 78/78 [00:07<00:00, 10.71it/s, lr=2.46e-6, b_loss=1.17, b_ac\n"
     ]
    },
    {
     "name": "stdout",
     "output_type": "stream",
     "text": [
      "[ Train | 040/300 ] loss = 0.81536, acc = 0.72049\n"
     ]
    },
    {
     "name": "stderr",
     "output_type": "stream",
     "text": [
      "V: 040/300: 100%|████| 26/26 [00:01<00:00, 15.59it/s, v_loss=0.891, v_acc=0.701]\n"
     ]
    },
    {
     "name": "stdout",
     "output_type": "stream",
     "text": [
      "[ Valid | 040/300 ] loss = 0.89068, acc = 0.70064\n",
      "[ Valid | 040/300 ] loss = 0.89068, acc = 0.70064 -> best\n",
      "Best model found at fold 4 epoch 40, acc=0.70064, saving model\n"
     ]
    },
    {
     "name": "stderr",
     "output_type": "stream",
     "text": [
      "T: 041/300: 100%|█| 78/78 [00:07<00:00, 10.87it/s, lr=0.0004, b_loss=0.929, b_ac\n"
     ]
    },
    {
     "name": "stdout",
     "output_type": "stream",
     "text": [
      "[ Train | 041/300 ] loss = 1.09026, acc = 0.62612\n"
     ]
    },
    {
     "name": "stderr",
     "output_type": "stream",
     "text": [
      "V: 041/300: 100%|██████| 26/26 [00:01<00:00, 14.92it/s, v_loss=1.39, v_acc=0.55]\n"
     ]
    },
    {
     "name": "stdout",
     "output_type": "stream",
     "text": [
      "[ Valid | 041/300 ] loss = 1.39296, acc = 0.54994\n",
      "[ Valid | 041/300 ] loss = 1.39296, acc = 0.54994\n"
     ]
    },
    {
     "name": "stderr",
     "output_type": "stream",
     "text": [
      "T: 042/300: 100%|█| 78/78 [00:07<00:00, 11.08it/s, lr=0.000398, b_loss=1.07, b_a\n"
     ]
    },
    {
     "name": "stdout",
     "output_type": "stream",
     "text": [
      "[ Train | 042/300 ] loss = 1.08855, acc = 0.61993\n"
     ]
    },
    {
     "name": "stderr",
     "output_type": "stream",
     "text": [
      "V: 042/300: 100%|█████| 26/26 [00:01<00:00, 14.62it/s, v_loss=1.57, v_acc=0.505]\n"
     ]
    },
    {
     "name": "stdout",
     "output_type": "stream",
     "text": [
      "[ Valid | 042/300 ] loss = 1.57011, acc = 0.50542\n",
      "[ Valid | 042/300 ] loss = 1.57011, acc = 0.50542\n"
     ]
    },
    {
     "name": "stderr",
     "output_type": "stream",
     "text": [
      "T: 043/300: 100%|█| 78/78 [00:07<00:00, 10.76it/s, lr=0.00039, b_loss=1.08, b_ac\n"
     ]
    },
    {
     "name": "stdout",
     "output_type": "stream",
     "text": [
      "[ Train | 043/300 ] loss = 1.05645, acc = 0.63617\n"
     ]
    },
    {
     "name": "stderr",
     "output_type": "stream",
     "text": [
      "V: 043/300: 100%|█████| 26/26 [00:01<00:00, 16.70it/s, v_loss=1.18, v_acc=0.604]\n"
     ]
    },
    {
     "name": "stdout",
     "output_type": "stream",
     "text": [
      "[ Valid | 043/300 ] loss = 1.17975, acc = 0.60414\n",
      "[ Valid | 043/300 ] loss = 1.17975, acc = 0.60414\n"
     ]
    },
    {
     "name": "stderr",
     "output_type": "stream",
     "text": [
      "T: 044/300: 100%|█| 78/78 [00:07<00:00, 10.94it/s, lr=0.000378, b_loss=1.05, b_a\n"
     ]
    },
    {
     "name": "stdout",
     "output_type": "stream",
     "text": [
      "[ Train | 044/300 ] loss = 1.02361, acc = 0.64782\n"
     ]
    },
    {
     "name": "stderr",
     "output_type": "stream",
     "text": [
      "V: 044/300: 100%|█████| 26/26 [00:01<00:00, 15.56it/s, v_loss=1.28, v_acc=0.582]\n"
     ]
    },
    {
     "name": "stdout",
     "output_type": "stream",
     "text": [
      "[ Valid | 044/300 ] loss = 1.27884, acc = 0.58232\n",
      "[ Valid | 044/300 ] loss = 1.27884, acc = 0.58232\n"
     ]
    },
    {
     "name": "stderr",
     "output_type": "stream",
     "text": [
      "T: 045/300: 100%|█| 78/78 [00:07<00:00, 10.73it/s, lr=0.000362, b_loss=0.989, b_\n"
     ]
    },
    {
     "name": "stdout",
     "output_type": "stream",
     "text": [
      "[ Train | 045/300 ] loss = 1.00927, acc = 0.64774\n"
     ]
    },
    {
     "name": "stderr",
     "output_type": "stream",
     "text": [
      "V: 045/300: 100%|█████| 26/26 [00:01<00:00, 15.94it/s, v_loss=1.36, v_acc=0.558]\n"
     ]
    },
    {
     "name": "stdout",
     "output_type": "stream",
     "text": [
      "[ Valid | 045/300 ] loss = 1.36225, acc = 0.55772\n",
      "[ Valid | 045/300 ] loss = 1.36225, acc = 0.55772\n"
     ]
    },
    {
     "name": "stderr",
     "output_type": "stream",
     "text": [
      "T: 046/300: 100%|█| 78/78 [00:07<00:00, 10.76it/s, lr=0.000341, b_loss=1.17, b_a\n"
     ]
    },
    {
     "name": "stdout",
     "output_type": "stream",
     "text": [
      "[ Train | 046/300 ] loss = 0.98966, acc = 0.65663\n"
     ]
    },
    {
     "name": "stderr",
     "output_type": "stream",
     "text": [
      "V: 046/300: 100%|█████| 26/26 [00:01<00:00, 13.47it/s, v_loss=1.34, v_acc=0.564]\n"
     ]
    },
    {
     "name": "stdout",
     "output_type": "stream",
     "text": [
      "[ Valid | 046/300 ] loss = 1.33902, acc = 0.56383\n",
      "[ Valid | 046/300 ] loss = 1.33902, acc = 0.56383\n"
     ]
    },
    {
     "name": "stderr",
     "output_type": "stream",
     "text": [
      "T: 047/300: 100%|█| 78/78 [00:07<00:00, 10.73it/s, lr=0.000318, b_loss=1.07, b_a\n"
     ]
    },
    {
     "name": "stdout",
     "output_type": "stream",
     "text": [
      "[ Train | 047/300 ] loss = 0.96096, acc = 0.66621\n"
     ]
    },
    {
     "name": "stderr",
     "output_type": "stream",
     "text": [
      "V: 047/300: 100%|█████| 26/26 [00:01<00:00, 15.67it/s, v_loss=1.06, v_acc=0.646]\n"
     ]
    },
    {
     "name": "stdout",
     "output_type": "stream",
     "text": [
      "[ Valid | 047/300 ] loss = 1.06403, acc = 0.64593\n",
      "[ Valid | 047/300 ] loss = 1.06403, acc = 0.64593\n"
     ]
    },
    {
     "name": "stderr",
     "output_type": "stream",
     "text": [
      "T: 048/300: 100%|█| 78/78 [00:07<00:00, 11.12it/s, lr=0.000291, b_loss=0.87, b_a\n"
     ]
    },
    {
     "name": "stdout",
     "output_type": "stream",
     "text": [
      "[ Train | 048/300 ] loss = 0.92933, acc = 0.68051\n"
     ]
    },
    {
     "name": "stderr",
     "output_type": "stream",
     "text": [
      "V: 048/300: 100%|█████| 26/26 [00:01<00:00, 13.60it/s, v_loss=1.25, v_acc=0.598]\n"
     ]
    },
    {
     "name": "stdout",
     "output_type": "stream",
     "text": [
      "[ Valid | 048/300 ] loss = 1.25099, acc = 0.59812\n",
      "[ Valid | 048/300 ] loss = 1.25099, acc = 0.59812\n"
     ]
    },
    {
     "name": "stderr",
     "output_type": "stream",
     "text": [
      "T: 049/300: 100%|█| 78/78 [00:07<00:00, 10.82it/s, lr=0.000262, b_loss=0.841, b_\n"
     ]
    },
    {
     "name": "stdout",
     "output_type": "stream",
     "text": [
      "[ Train | 049/300 ] loss = 0.88634, acc = 0.69626\n"
     ]
    },
    {
     "name": "stderr",
     "output_type": "stream",
     "text": [
      "V: 049/300: 100%|█████| 26/26 [00:01<00:00, 15.33it/s, v_loss=1.02, v_acc=0.661]\n"
     ]
    },
    {
     "name": "stdout",
     "output_type": "stream",
     "text": [
      "[ Valid | 049/300 ] loss = 1.01555, acc = 0.66096\n",
      "[ Valid | 049/300 ] loss = 1.01555, acc = 0.66096\n"
     ]
    },
    {
     "name": "stderr",
     "output_type": "stream",
     "text": [
      "T: 050/300: 100%|█| 78/78 [00:07<00:00, 10.87it/s, lr=0.000231, b_loss=0.948, b_\n"
     ]
    },
    {
     "name": "stdout",
     "output_type": "stream",
     "text": [
      "[ Train | 050/300 ] loss = 0.87334, acc = 0.69751\n"
     ]
    },
    {
     "name": "stderr",
     "output_type": "stream",
     "text": [
      "V: 050/300: 100%|████| 26/26 [00:01<00:00, 14.70it/s, v_loss=0.977, v_acc=0.672]\n"
     ]
    },
    {
     "name": "stdout",
     "output_type": "stream",
     "text": [
      "[ Valid | 050/300 ] loss = 0.97696, acc = 0.67242\n",
      "[ Valid | 050/300 ] loss = 0.97696, acc = 0.67242\n"
     ]
    },
    {
     "name": "stderr",
     "output_type": "stream",
     "text": [
      "T: 051/300: 100%|█| 78/78 [00:07<00:00, 10.92it/s, lr=0.0002, b_loss=0.799, b_ac\n"
     ]
    },
    {
     "name": "stdout",
     "output_type": "stream",
     "text": [
      "[ Train | 051/300 ] loss = 0.84006, acc = 0.70656\n"
     ]
    },
    {
     "name": "stderr",
     "output_type": "stream",
     "text": [
      "V: 051/300: 100%|█████| 26/26 [00:01<00:00, 15.63it/s, v_loss=0.97, v_acc=0.684]\n"
     ]
    },
    {
     "name": "stdout",
     "output_type": "stream",
     "text": [
      "[ Valid | 051/300 ] loss = 0.96994, acc = 0.68441\n",
      "[ Valid | 051/300 ] loss = 0.96994, acc = 0.68441\n"
     ]
    },
    {
     "name": "stderr",
     "output_type": "stream",
     "text": [
      "T: 052/300: 100%|█| 78/78 [00:07<00:00, 10.97it/s, lr=0.000169, b_loss=0.963, b_\n"
     ]
    },
    {
     "name": "stdout",
     "output_type": "stream",
     "text": [
      "[ Train | 052/300 ] loss = 0.81410, acc = 0.72016\n"
     ]
    },
    {
     "name": "stderr",
     "output_type": "stream",
     "text": [
      "V: 052/300: 100%|████| 26/26 [00:01<00:00, 16.03it/s, v_loss=0.971, v_acc=0.671]\n"
     ]
    },
    {
     "name": "stdout",
     "output_type": "stream",
     "text": [
      "[ Valid | 052/300 ] loss = 0.97103, acc = 0.67122\n",
      "[ Valid | 052/300 ] loss = 0.97103, acc = 0.67122\n"
     ]
    },
    {
     "name": "stderr",
     "output_type": "stream",
     "text": [
      "T: 053/300: 100%|█| 78/78 [00:07<00:00, 10.97it/s, lr=0.000138, b_loss=0.811, b_\n"
     ]
    },
    {
     "name": "stdout",
     "output_type": "stream",
     "text": [
      "[ Train | 053/300 ] loss = 0.78885, acc = 0.72699\n"
     ]
    },
    {
     "name": "stderr",
     "output_type": "stream",
     "text": [
      "V: 053/300: 100%|████| 26/26 [00:01<00:00, 14.38it/s, v_loss=0.938, v_acc=0.691]\n"
     ]
    },
    {
     "name": "stdout",
     "output_type": "stream",
     "text": [
      "[ Valid | 053/300 ] loss = 0.93823, acc = 0.69138\n",
      "[ Valid | 053/300 ] loss = 0.93823, acc = 0.69138\n"
     ]
    },
    {
     "name": "stderr",
     "output_type": "stream",
     "text": [
      "T: 054/300: 100%|█| 78/78 [00:07<00:00, 10.88it/s, lr=0.000109, b_loss=0.82, b_a\n"
     ]
    },
    {
     "name": "stdout",
     "output_type": "stream",
     "text": [
      "[ Train | 054/300 ] loss = 0.75913, acc = 0.73873\n"
     ]
    },
    {
     "name": "stderr",
     "output_type": "stream",
     "text": [
      "V: 054/300: 100%|██████| 26/26 [00:01<00:00, 15.22it/s, v_loss=0.9, v_acc=0.695]\n"
     ]
    },
    {
     "name": "stdout",
     "output_type": "stream",
     "text": [
      "[ Valid | 054/300 ] loss = 0.90016, acc = 0.69500\n",
      "[ Valid | 054/300 ] loss = 0.90016, acc = 0.69500\n"
     ]
    },
    {
     "name": "stderr",
     "output_type": "stream",
     "text": [
      "T: 055/300: 100%|█| 78/78 [00:07<00:00, 10.85it/s, lr=8.24e-5, b_loss=0.857, b_a\n"
     ]
    },
    {
     "name": "stdout",
     "output_type": "stream",
     "text": [
      "[ Train | 055/300 ] loss = 0.73365, acc = 0.74447\n"
     ]
    },
    {
     "name": "stderr",
     "output_type": "stream",
     "text": [
      "V: 055/300: 100%|████| 26/26 [00:01<00:00, 14.51it/s, v_loss=0.864, v_acc=0.712]\n"
     ]
    },
    {
     "name": "stdout",
     "output_type": "stream",
     "text": [
      "[ Valid | 055/300 ] loss = 0.86431, acc = 0.71174\n",
      "[ Valid | 055/300 ] loss = 0.86431, acc = 0.71174 -> best\n",
      "Best model found at fold 4 epoch 55, acc=0.71174, saving model\n"
     ]
    },
    {
     "name": "stderr",
     "output_type": "stream",
     "text": [
      "T: 056/300: 100%|█| 78/78 [00:07<00:00, 10.70it/s, lr=5.86e-5, b_loss=0.819, b_a\n"
     ]
    },
    {
     "name": "stdout",
     "output_type": "stream",
     "text": [
      "[ Train | 056/300 ] loss = 0.71277, acc = 0.75448\n"
     ]
    },
    {
     "name": "stderr",
     "output_type": "stream",
     "text": [
      "V: 056/300: 100%|████| 26/26 [00:01<00:00, 15.70it/s, v_loss=0.881, v_acc=0.707]\n"
     ]
    },
    {
     "name": "stdout",
     "output_type": "stream",
     "text": [
      "[ Valid | 056/300 ] loss = 0.88148, acc = 0.70699\n",
      "[ Valid | 056/300 ] loss = 0.88148, acc = 0.70699\n"
     ]
    },
    {
     "name": "stderr",
     "output_type": "stream",
     "text": [
      "T: 057/300: 100%|█| 78/78 [00:07<00:00, 10.93it/s, lr=3.82e-5, b_loss=0.698, b_a\n"
     ]
    },
    {
     "name": "stdout",
     "output_type": "stream",
     "text": [
      "[ Train | 057/300 ] loss = 0.69877, acc = 0.75947\n"
     ]
    },
    {
     "name": "stderr",
     "output_type": "stream",
     "text": [
      "V: 057/300: 100%|████| 26/26 [00:01<00:00, 15.59it/s, v_loss=0.813, v_acc=0.729]\n"
     ]
    },
    {
     "name": "stdout",
     "output_type": "stream",
     "text": [
      "[ Valid | 057/300 ] loss = 0.81337, acc = 0.72926\n",
      "[ Valid | 057/300 ] loss = 0.81337, acc = 0.72926 -> best\n",
      "Best model found at fold 4 epoch 57, acc=0.72926, saving model\n"
     ]
    },
    {
     "name": "stderr",
     "output_type": "stream",
     "text": [
      "T: 058/300: 100%|█| 78/78 [00:07<00:00, 10.73it/s, lr=2.18e-5, b_loss=0.937, b_a\n"
     ]
    },
    {
     "name": "stdout",
     "output_type": "stream",
     "text": [
      "[ Train | 058/300 ] loss = 0.67479, acc = 0.76554\n"
     ]
    },
    {
     "name": "stderr",
     "output_type": "stream",
     "text": [
      "V: 058/300: 100%|████| 26/26 [00:01<00:00, 15.22it/s, v_loss=0.823, v_acc=0.723]\n"
     ]
    },
    {
     "name": "stdout",
     "output_type": "stream",
     "text": [
      "[ Valid | 058/300 ] loss = 0.82272, acc = 0.72322\n",
      "[ Valid | 058/300 ] loss = 0.82272, acc = 0.72322\n"
     ]
    },
    {
     "name": "stderr",
     "output_type": "stream",
     "text": [
      "T: 059/300: 100%|█| 78/78 [00:06<00:00, 11.29it/s, lr=9.79e-6, b_loss=0.635, b_a\n"
     ]
    },
    {
     "name": "stdout",
     "output_type": "stream",
     "text": [
      "[ Train | 059/300 ] loss = 0.66532, acc = 0.76719\n"
     ]
    },
    {
     "name": "stderr",
     "output_type": "stream",
     "text": [
      "V: 059/300: 100%|████| 26/26 [00:01<00:00, 13.98it/s, v_loss=0.809, v_acc=0.729]\n"
     ]
    },
    {
     "name": "stdout",
     "output_type": "stream",
     "text": [
      "[ Valid | 059/300 ] loss = 0.80851, acc = 0.72931\n",
      "[ Valid | 059/300 ] loss = 0.80851, acc = 0.72931 -> best\n",
      "Best model found at fold 4 epoch 59, acc=0.72931, saving model\n"
     ]
    },
    {
     "name": "stderr",
     "output_type": "stream",
     "text": [
      "T: 060/300: 100%|█| 78/78 [00:07<00:00, 10.90it/s, lr=2.46e-6, b_loss=0.714, b_a\n"
     ]
    },
    {
     "name": "stdout",
     "output_type": "stream",
     "text": [
      "[ Train | 060/300 ] loss = 0.67195, acc = 0.76508\n"
     ]
    },
    {
     "name": "stderr",
     "output_type": "stream",
     "text": [
      "V: 060/300: 100%|████| 26/26 [00:01<00:00, 15.69it/s, v_loss=0.809, v_acc=0.728]\n"
     ]
    },
    {
     "name": "stdout",
     "output_type": "stream",
     "text": [
      "[ Valid | 060/300 ] loss = 0.80886, acc = 0.72839\n",
      "[ Valid | 060/300 ] loss = 0.80886, acc = 0.72839\n"
     ]
    },
    {
     "name": "stderr",
     "output_type": "stream",
     "text": [
      "T: 061/300: 100%|█| 78/78 [00:07<00:00, 10.94it/s, lr=0.0004, b_loss=0.783, b_ac\n"
     ]
    },
    {
     "name": "stdout",
     "output_type": "stream",
     "text": [
      "[ Train | 061/300 ] loss = 0.93701, acc = 0.67820\n"
     ]
    },
    {
     "name": "stderr",
     "output_type": "stream",
     "text": [
      "V: 061/300: 100%|█████| 26/26 [00:01<00:00, 15.23it/s, v_loss=1.46, v_acc=0.549]\n"
     ]
    },
    {
     "name": "stdout",
     "output_type": "stream",
     "text": [
      "[ Valid | 061/300 ] loss = 1.45887, acc = 0.54882\n",
      "[ Valid | 061/300 ] loss = 1.45887, acc = 0.54882\n"
     ]
    },
    {
     "name": "stderr",
     "output_type": "stream",
     "text": [
      "T: 062/300: 100%|█| 78/78 [00:07<00:00, 10.80it/s, lr=0.000398, b_loss=0.823, b_\n"
     ]
    },
    {
     "name": "stdout",
     "output_type": "stream",
     "text": [
      "[ Train | 062/300 ] loss = 0.93088, acc = 0.67616\n"
     ]
    },
    {
     "name": "stderr",
     "output_type": "stream",
     "text": [
      "V: 062/300: 100%|█████| 26/26 [00:01<00:00, 13.98it/s, v_loss=1.29, v_acc=0.598]\n"
     ]
    },
    {
     "name": "stdout",
     "output_type": "stream",
     "text": [
      "[ Valid | 062/300 ] loss = 1.29240, acc = 0.59844\n",
      "[ Valid | 062/300 ] loss = 1.29240, acc = 0.59844\n"
     ]
    },
    {
     "name": "stderr",
     "output_type": "stream",
     "text": [
      "T: 063/300: 100%|█| 78/78 [00:07<00:00, 11.01it/s, lr=0.00039, b_loss=0.881, b_a\n"
     ]
    },
    {
     "name": "stdout",
     "output_type": "stream",
     "text": [
      "[ Train | 063/300 ] loss = 0.89436, acc = 0.69386\n"
     ]
    },
    {
     "name": "stderr",
     "output_type": "stream",
     "text": [
      "V: 063/300: 100%|█████| 26/26 [00:02<00:00, 12.40it/s, v_loss=1.01, v_acc=0.665]\n"
     ]
    },
    {
     "name": "stdout",
     "output_type": "stream",
     "text": [
      "[ Valid | 063/300 ] loss = 1.00828, acc = 0.66511\n",
      "[ Valid | 063/300 ] loss = 1.00828, acc = 0.66511\n"
     ]
    },
    {
     "name": "stderr",
     "output_type": "stream",
     "text": [
      "T: 064/300: 100%|█| 78/78 [00:07<00:00, 10.79it/s, lr=0.000378, b_loss=0.837, b_\n"
     ]
    },
    {
     "name": "stdout",
     "output_type": "stream",
     "text": [
      "[ Train | 064/300 ] loss = 0.89365, acc = 0.69143\n"
     ]
    },
    {
     "name": "stderr",
     "output_type": "stream",
     "text": [
      "V: 064/300: 100%|█████| 26/26 [00:01<00:00, 15.03it/s, v_loss=1.28, v_acc=0.573]\n"
     ]
    },
    {
     "name": "stdout",
     "output_type": "stream",
     "text": [
      "[ Valid | 064/300 ] loss = 1.27820, acc = 0.57318\n",
      "[ Valid | 064/300 ] loss = 1.27820, acc = 0.57318\n"
     ]
    },
    {
     "name": "stderr",
     "output_type": "stream",
     "text": [
      "T: 065/300: 100%|█| 78/78 [00:07<00:00, 10.85it/s, lr=0.000362, b_loss=0.9, b_ac\n"
     ]
    },
    {
     "name": "stdout",
     "output_type": "stream",
     "text": [
      "[ Train | 065/300 ] loss = 0.85212, acc = 0.70165\n"
     ]
    },
    {
     "name": "stderr",
     "output_type": "stream",
     "text": [
      "V: 065/300: 100%|█████| 26/26 [00:01<00:00, 15.87it/s, v_loss=1.12, v_acc=0.634]\n"
     ]
    },
    {
     "name": "stdout",
     "output_type": "stream",
     "text": [
      "[ Valid | 065/300 ] loss = 1.12071, acc = 0.63389\n",
      "[ Valid | 065/300 ] loss = 1.12071, acc = 0.63389\n"
     ]
    },
    {
     "name": "stderr",
     "output_type": "stream",
     "text": [
      "T: 066/300: 100%|█| 78/78 [00:07<00:00, 10.85it/s, lr=0.000341, b_loss=0.704, b_\n"
     ]
    },
    {
     "name": "stdout",
     "output_type": "stream",
     "text": [
      "[ Train | 066/300 ] loss = 0.83953, acc = 0.70780\n"
     ]
    },
    {
     "name": "stderr",
     "output_type": "stream",
     "text": [
      "V: 066/300: 100%|█████| 26/26 [00:01<00:00, 16.97it/s, v_loss=1.52, v_acc=0.547]\n"
     ]
    },
    {
     "name": "stdout",
     "output_type": "stream",
     "text": [
      "[ Valid | 066/300 ] loss = 1.51765, acc = 0.54719\n",
      "[ Valid | 066/300 ] loss = 1.51765, acc = 0.54719\n"
     ]
    },
    {
     "name": "stderr",
     "output_type": "stream",
     "text": [
      "T: 067/300: 100%|█| 78/78 [00:07<00:00, 11.07it/s, lr=0.000318, b_loss=0.725, b_\n"
     ]
    },
    {
     "name": "stdout",
     "output_type": "stream",
     "text": [
      "[ Train | 067/300 ] loss = 0.81432, acc = 0.71786\n"
     ]
    },
    {
     "name": "stderr",
     "output_type": "stream",
     "text": [
      "V: 067/300: 100%|█████| 26/26 [00:01<00:00, 14.61it/s, v_loss=1.03, v_acc=0.668]\n"
     ]
    },
    {
     "name": "stdout",
     "output_type": "stream",
     "text": [
      "[ Valid | 067/300 ] loss = 1.03081, acc = 0.66794\n",
      "[ Valid | 067/300 ] loss = 1.03081, acc = 0.66794\n"
     ]
    },
    {
     "name": "stderr",
     "output_type": "stream",
     "text": [
      "T: 068/300: 100%|█| 78/78 [00:07<00:00, 11.01it/s, lr=0.000291, b_loss=0.947, b_\n"
     ]
    },
    {
     "name": "stdout",
     "output_type": "stream",
     "text": [
      "[ Train | 068/300 ] loss = 0.79693, acc = 0.72838\n"
     ]
    },
    {
     "name": "stderr",
     "output_type": "stream",
     "text": [
      "V: 068/300: 100%|██████| 26/26 [00:01<00:00, 15.92it/s, v_loss=1.02, v_acc=0.67]\n"
     ]
    },
    {
     "name": "stdout",
     "output_type": "stream",
     "text": [
      "[ Valid | 068/300 ] loss = 1.02329, acc = 0.67004\n",
      "[ Valid | 068/300 ] loss = 1.02329, acc = 0.67004\n"
     ]
    },
    {
     "name": "stderr",
     "output_type": "stream",
     "text": [
      "T: 069/300: 100%|█| 78/78 [00:07<00:00, 10.94it/s, lr=0.000262, b_loss=0.582, b_\n"
     ]
    },
    {
     "name": "stdout",
     "output_type": "stream",
     "text": [
      "[ Train | 069/300 ] loss = 0.77071, acc = 0.73536\n"
     ]
    },
    {
     "name": "stderr",
     "output_type": "stream",
     "text": [
      "V: 069/300: 100%|████| 26/26 [00:01<00:00, 14.06it/s, v_loss=0.996, v_acc=0.669]\n"
     ]
    },
    {
     "name": "stdout",
     "output_type": "stream",
     "text": [
      "[ Valid | 069/300 ] loss = 0.99643, acc = 0.66872\n",
      "[ Valid | 069/300 ] loss = 0.99643, acc = 0.66872\n"
     ]
    },
    {
     "name": "stderr",
     "output_type": "stream",
     "text": [
      "T: 070/300: 100%|█| 78/78 [00:07<00:00, 10.86it/s, lr=0.000231, b_loss=0.752, b_\n"
     ]
    },
    {
     "name": "stdout",
     "output_type": "stream",
     "text": [
      "[ Train | 070/300 ] loss = 0.74180, acc = 0.73990\n"
     ]
    },
    {
     "name": "stderr",
     "output_type": "stream",
     "text": [
      "V: 070/300: 100%|████| 26/26 [00:01<00:00, 15.77it/s, v_loss=0.936, v_acc=0.691]\n"
     ]
    },
    {
     "name": "stdout",
     "output_type": "stream",
     "text": [
      "[ Valid | 070/300 ] loss = 0.93592, acc = 0.69098\n",
      "[ Valid | 070/300 ] loss = 0.93592, acc = 0.69098\n"
     ]
    },
    {
     "name": "stderr",
     "output_type": "stream",
     "text": [
      "T: 071/300: 100%|█| 78/78 [00:07<00:00, 10.43it/s, lr=0.0002, b_loss=0.83, b_acc\n"
     ]
    },
    {
     "name": "stdout",
     "output_type": "stream",
     "text": [
      "[ Train | 071/300 ] loss = 0.70937, acc = 0.75527\n"
     ]
    },
    {
     "name": "stderr",
     "output_type": "stream",
     "text": [
      "V: 071/300: 100%|████| 26/26 [00:01<00:00, 14.76it/s, v_loss=0.886, v_acc=0.702]\n"
     ]
    },
    {
     "name": "stdout",
     "output_type": "stream",
     "text": [
      "[ Valid | 071/300 ] loss = 0.88603, acc = 0.70218\n",
      "[ Valid | 071/300 ] loss = 0.88603, acc = 0.70218\n"
     ]
    },
    {
     "name": "stderr",
     "output_type": "stream",
     "text": [
      "T: 072/300: 100%|█| 78/78 [00:07<00:00, 10.60it/s, lr=0.000169, b_loss=0.72, b_a\n"
     ]
    },
    {
     "name": "stdout",
     "output_type": "stream",
     "text": [
      "[ Train | 072/300 ] loss = 0.69003, acc = 0.76142\n"
     ]
    },
    {
     "name": "stderr",
     "output_type": "stream",
     "text": [
      "V: 072/300: 100%|████| 26/26 [00:01<00:00, 16.23it/s, v_loss=0.882, v_acc=0.703]\n"
     ]
    },
    {
     "name": "stdout",
     "output_type": "stream",
     "text": [
      "[ Valid | 072/300 ] loss = 0.88164, acc = 0.70307\n",
      "[ Valid | 072/300 ] loss = 0.88164, acc = 0.70307\n"
     ]
    },
    {
     "name": "stderr",
     "output_type": "stream",
     "text": [
      "T: 073/300: 100%|█| 78/78 [00:07<00:00, 10.90it/s, lr=0.000138, b_loss=0.703, b_\n"
     ]
    },
    {
     "name": "stdout",
     "output_type": "stream",
     "text": [
      "[ Train | 073/300 ] loss = 0.66814, acc = 0.76845\n"
     ]
    },
    {
     "name": "stderr",
     "output_type": "stream",
     "text": [
      "V: 073/300: 100%|████| 26/26 [00:01<00:00, 16.12it/s, v_loss=0.894, v_acc=0.705]\n"
     ]
    },
    {
     "name": "stdout",
     "output_type": "stream",
     "text": [
      "[ Valid | 073/300 ] loss = 0.89366, acc = 0.70456\n",
      "[ Valid | 073/300 ] loss = 0.89366, acc = 0.70456\n"
     ]
    },
    {
     "name": "stderr",
     "output_type": "stream",
     "text": [
      "T: 074/300: 100%|█| 78/78 [00:07<00:00, 11.12it/s, lr=0.000109, b_loss=0.528, b_\n"
     ]
    },
    {
     "name": "stdout",
     "output_type": "stream",
     "text": [
      "[ Train | 074/300 ] loss = 0.64408, acc = 0.77479\n"
     ]
    },
    {
     "name": "stderr",
     "output_type": "stream",
     "text": [
      "V: 074/300: 100%|██████| 26/26 [00:01<00:00, 14.57it/s, v_loss=0.8, v_acc=0.736]\n"
     ]
    },
    {
     "name": "stdout",
     "output_type": "stream",
     "text": [
      "[ Valid | 074/300 ] loss = 0.80028, acc = 0.73644\n",
      "[ Valid | 074/300 ] loss = 0.80028, acc = 0.73644 -> best\n",
      "Best model found at fold 4 epoch 74, acc=0.73644, saving model\n"
     ]
    },
    {
     "name": "stderr",
     "output_type": "stream",
     "text": [
      "T: 075/300: 100%|█| 78/78 [00:07<00:00, 11.05it/s, lr=8.24e-5, b_loss=0.613, b_a\n"
     ]
    },
    {
     "name": "stdout",
     "output_type": "stream",
     "text": [
      "[ Train | 075/300 ] loss = 0.63191, acc = 0.77987\n"
     ]
    },
    {
     "name": "stderr",
     "output_type": "stream",
     "text": [
      "V: 075/300: 100%|████| 26/26 [00:01<00:00, 15.71it/s, v_loss=0.867, v_acc=0.729]\n"
     ]
    },
    {
     "name": "stdout",
     "output_type": "stream",
     "text": [
      "[ Valid | 075/300 ] loss = 0.86698, acc = 0.72899\n",
      "[ Valid | 075/300 ] loss = 0.86698, acc = 0.72899\n"
     ]
    },
    {
     "name": "stderr",
     "output_type": "stream",
     "text": [
      "T: 076/300: 100%|█| 78/78 [00:07<00:00, 10.99it/s, lr=5.86e-5, b_loss=0.813, b_a\n"
     ]
    },
    {
     "name": "stdout",
     "output_type": "stream",
     "text": [
      "[ Train | 076/300 ] loss = 0.60558, acc = 0.79315\n"
     ]
    },
    {
     "name": "stderr",
     "output_type": "stream",
     "text": [
      "V: 076/300: 100%|████| 26/26 [00:01<00:00, 16.44it/s, v_loss=0.783, v_acc=0.744]\n"
     ]
    },
    {
     "name": "stdout",
     "output_type": "stream",
     "text": [
      "[ Valid | 076/300 ] loss = 0.78287, acc = 0.74403\n",
      "[ Valid | 076/300 ] loss = 0.78287, acc = 0.74403 -> best\n",
      "Best model found at fold 4 epoch 76, acc=0.74403, saving model\n"
     ]
    },
    {
     "name": "stderr",
     "output_type": "stream",
     "text": [
      "T: 077/300: 100%|█| 78/78 [00:07<00:00, 10.88it/s, lr=3.82e-5, b_loss=0.594, b_a\n"
     ]
    },
    {
     "name": "stdout",
     "output_type": "stream",
     "text": [
      "[ Train | 077/300 ] loss = 0.58415, acc = 0.79738\n"
     ]
    },
    {
     "name": "stderr",
     "output_type": "stream",
     "text": [
      "V: 077/300: 100%|████| 26/26 [00:01<00:00, 14.45it/s, v_loss=0.781, v_acc=0.746]\n"
     ]
    },
    {
     "name": "stdout",
     "output_type": "stream",
     "text": [
      "[ Valid | 077/300 ] loss = 0.78102, acc = 0.74614\n",
      "[ Valid | 077/300 ] loss = 0.78102, acc = 0.74614 -> best\n",
      "Best model found at fold 4 epoch 77, acc=0.74614, saving model\n"
     ]
    },
    {
     "name": "stderr",
     "output_type": "stream",
     "text": [
      "T: 078/300: 100%|█| 78/78 [00:07<00:00, 10.89it/s, lr=2.18e-5, b_loss=0.469, b_a\n"
     ]
    },
    {
     "name": "stdout",
     "output_type": "stream",
     "text": [
      "[ Train | 078/300 ] loss = 0.55553, acc = 0.81135\n"
     ]
    },
    {
     "name": "stderr",
     "output_type": "stream",
     "text": [
      "V: 078/300: 100%|████| 26/26 [00:01<00:00, 15.07it/s, v_loss=0.776, v_acc=0.748]\n"
     ]
    },
    {
     "name": "stdout",
     "output_type": "stream",
     "text": [
      "[ Valid | 078/300 ] loss = 0.77646, acc = 0.74824\n",
      "[ Valid | 078/300 ] loss = 0.77646, acc = 0.74824 -> best\n",
      "Best model found at fold 4 epoch 78, acc=0.74824, saving model\n"
     ]
    },
    {
     "name": "stderr",
     "output_type": "stream",
     "text": [
      "T: 079/300: 100%|█| 78/78 [00:07<00:00, 10.56it/s, lr=9.79e-6, b_loss=0.443, b_a\n"
     ]
    },
    {
     "name": "stdout",
     "output_type": "stream",
     "text": [
      "[ Train | 079/300 ] loss = 0.54387, acc = 0.81080\n"
     ]
    },
    {
     "name": "stderr",
     "output_type": "stream",
     "text": [
      "V: 079/300: 100%|████| 26/26 [00:01<00:00, 14.84it/s, v_loss=0.773, v_acc=0.751]\n"
     ]
    },
    {
     "name": "stdout",
     "output_type": "stream",
     "text": [
      "[ Valid | 079/300 ] loss = 0.77277, acc = 0.75117\n",
      "[ Valid | 079/300 ] loss = 0.77277, acc = 0.75117 -> best\n",
      "Best model found at fold 4 epoch 79, acc=0.75117, saving model\n"
     ]
    },
    {
     "name": "stderr",
     "output_type": "stream",
     "text": [
      "T: 080/300: 100%|█| 78/78 [00:07<00:00, 11.04it/s, lr=2.46e-6, b_loss=0.531, b_a\n"
     ]
    },
    {
     "name": "stdout",
     "output_type": "stream",
     "text": [
      "[ Train | 080/300 ] loss = 0.54529, acc = 0.81533\n"
     ]
    },
    {
     "name": "stderr",
     "output_type": "stream",
     "text": [
      "V: 080/300: 100%|████| 26/26 [00:01<00:00, 15.44it/s, v_loss=0.771, v_acc=0.752]\n"
     ]
    },
    {
     "name": "stdout",
     "output_type": "stream",
     "text": [
      "[ Valid | 080/300 ] loss = 0.77096, acc = 0.75206\n",
      "[ Valid | 080/300 ] loss = 0.77096, acc = 0.75206 -> best\n",
      "Best model found at fold 4 epoch 80, acc=0.75206, saving model\n"
     ]
    },
    {
     "name": "stderr",
     "output_type": "stream",
     "text": [
      "T: 081/300: 100%|█| 78/78 [00:07<00:00, 10.84it/s, lr=0.0004, b_loss=1.03, b_acc\n"
     ]
    },
    {
     "name": "stdout",
     "output_type": "stream",
     "text": [
      "[ Train | 081/300 ] loss = 0.79702, acc = 0.72159\n"
     ]
    },
    {
     "name": "stderr",
     "output_type": "stream",
     "text": [
      "V: 081/300: 100%|█████| 26/26 [00:01<00:00, 16.22it/s, v_loss=1.43, v_acc=0.578]\n"
     ]
    },
    {
     "name": "stdout",
     "output_type": "stream",
     "text": [
      "[ Valid | 081/300 ] loss = 1.43223, acc = 0.57754\n",
      "[ Valid | 081/300 ] loss = 1.43223, acc = 0.57754\n"
     ]
    },
    {
     "name": "stderr",
     "output_type": "stream",
     "text": [
      "T: 082/300: 100%|█| 78/78 [00:07<00:00, 10.86it/s, lr=0.000398, b_loss=0.746, b_\n"
     ]
    },
    {
     "name": "stdout",
     "output_type": "stream",
     "text": [
      "[ Train | 082/300 ] loss = 0.81451, acc = 0.71367\n"
     ]
    },
    {
     "name": "stderr",
     "output_type": "stream",
     "text": [
      "V: 082/300: 100%|█████| 26/26 [00:01<00:00, 14.46it/s, v_loss=1.09, v_acc=0.647]\n"
     ]
    },
    {
     "name": "stdout",
     "output_type": "stream",
     "text": [
      "[ Valid | 082/300 ] loss = 1.09044, acc = 0.64749\n",
      "[ Valid | 082/300 ] loss = 1.09044, acc = 0.64749\n"
     ]
    },
    {
     "name": "stderr",
     "output_type": "stream",
     "text": [
      "T: 083/300: 100%|█| 78/78 [00:07<00:00, 10.71it/s, lr=0.00039, b_loss=0.815, b_a\n"
     ]
    },
    {
     "name": "stdout",
     "output_type": "stream",
     "text": [
      "[ Train | 083/300 ] loss = 0.78057, acc = 0.72340\n"
     ]
    },
    {
     "name": "stderr",
     "output_type": "stream",
     "text": [
      "V: 083/300: 100%|█████| 26/26 [00:01<00:00, 14.19it/s, v_loss=1.01, v_acc=0.675]\n"
     ]
    },
    {
     "name": "stdout",
     "output_type": "stream",
     "text": [
      "[ Valid | 083/300 ] loss = 1.01005, acc = 0.67542\n",
      "[ Valid | 083/300 ] loss = 1.01005, acc = 0.67542\n"
     ]
    },
    {
     "name": "stderr",
     "output_type": "stream",
     "text": [
      "T: 084/300: 100%|█| 78/78 [00:07<00:00, 10.61it/s, lr=0.000378, b_loss=0.873, b_\n"
     ]
    },
    {
     "name": "stdout",
     "output_type": "stream",
     "text": [
      "[ Train | 084/300 ] loss = 0.77248, acc = 0.73525\n"
     ]
    },
    {
     "name": "stderr",
     "output_type": "stream",
     "text": [
      "V: 084/300: 100%|█████| 26/26 [00:01<00:00, 13.29it/s, v_loss=1.06, v_acc=0.662]\n"
     ]
    },
    {
     "name": "stdout",
     "output_type": "stream",
     "text": [
      "[ Valid | 084/300 ] loss = 1.05731, acc = 0.66220\n",
      "[ Valid | 084/300 ] loss = 1.05731, acc = 0.66220\n"
     ]
    },
    {
     "name": "stderr",
     "output_type": "stream",
     "text": [
      "T: 085/300: 100%|█| 78/78 [00:07<00:00, 10.83it/s, lr=0.000362, b_loss=0.562, b_\n"
     ]
    },
    {
     "name": "stdout",
     "output_type": "stream",
     "text": [
      "[ Train | 085/300 ] loss = 0.75600, acc = 0.73639\n"
     ]
    },
    {
     "name": "stderr",
     "output_type": "stream",
     "text": [
      "V: 085/300: 100%|█████| 26/26 [00:01<00:00, 15.60it/s, v_loss=1.13, v_acc=0.648]\n"
     ]
    },
    {
     "name": "stdout",
     "output_type": "stream",
     "text": [
      "[ Valid | 085/300 ] loss = 1.12557, acc = 0.64770\n",
      "[ Valid | 085/300 ] loss = 1.12557, acc = 0.64770\n"
     ]
    },
    {
     "name": "stderr",
     "output_type": "stream",
     "text": [
      "T: 086/300: 100%|█| 78/78 [00:07<00:00, 10.78it/s, lr=0.000341, b_loss=0.905, b_\n"
     ]
    },
    {
     "name": "stdout",
     "output_type": "stream",
     "text": [
      "[ Train | 086/300 ] loss = 0.72937, acc = 0.74848\n"
     ]
    },
    {
     "name": "stderr",
     "output_type": "stream",
     "text": [
      "V: 086/300: 100%|██████| 26/26 [00:01<00:00, 15.70it/s, v_loss=1.05, v_acc=0.67]\n"
     ]
    },
    {
     "name": "stdout",
     "output_type": "stream",
     "text": [
      "[ Valid | 086/300 ] loss = 1.04957, acc = 0.67006\n",
      "[ Valid | 086/300 ] loss = 1.04957, acc = 0.67006\n"
     ]
    },
    {
     "name": "stderr",
     "output_type": "stream",
     "text": [
      "T: 087/300: 100%|█| 78/78 [00:07<00:00, 10.88it/s, lr=0.000318, b_loss=0.709, b_\n"
     ]
    },
    {
     "name": "stdout",
     "output_type": "stream",
     "text": [
      "[ Train | 087/300 ] loss = 0.71551, acc = 0.75024\n"
     ]
    },
    {
     "name": "stderr",
     "output_type": "stream",
     "text": [
      "V: 087/300: 100%|█████| 26/26 [00:01<00:00, 14.80it/s, v_loss=1.02, v_acc=0.669]\n"
     ]
    },
    {
     "name": "stdout",
     "output_type": "stream",
     "text": [
      "[ Valid | 087/300 ] loss = 1.02004, acc = 0.66888\n",
      "[ Valid | 087/300 ] loss = 1.02004, acc = 0.66888\n"
     ]
    },
    {
     "name": "stderr",
     "output_type": "stream",
     "text": [
      "T: 088/300: 100%|█| 78/78 [00:07<00:00, 10.76it/s, lr=0.000291, b_loss=0.771, b_\n"
     ]
    },
    {
     "name": "stdout",
     "output_type": "stream",
     "text": [
      "[ Train | 088/300 ] loss = 0.69638, acc = 0.75783\n"
     ]
    },
    {
     "name": "stderr",
     "output_type": "stream",
     "text": [
      "V: 088/300: 100%|█████| 26/26 [00:01<00:00, 15.37it/s, v_loss=0.85, v_acc=0.721]\n"
     ]
    },
    {
     "name": "stdout",
     "output_type": "stream",
     "text": [
      "[ Valid | 088/300 ] loss = 0.84992, acc = 0.72137\n",
      "[ Valid | 088/300 ] loss = 0.84992, acc = 0.72137\n"
     ]
    },
    {
     "name": "stderr",
     "output_type": "stream",
     "text": [
      "T: 089/300: 100%|█| 78/78 [00:07<00:00, 10.76it/s, lr=0.000262, b_loss=0.876, b_\n"
     ]
    },
    {
     "name": "stdout",
     "output_type": "stream",
     "text": [
      "[ Train | 089/300 ] loss = 0.66784, acc = 0.76612\n"
     ]
    },
    {
     "name": "stderr",
     "output_type": "stream",
     "text": [
      "V: 089/300: 100%|█████| 26/26 [00:01<00:00, 15.87it/s, v_loss=1.01, v_acc=0.682]\n"
     ]
    },
    {
     "name": "stdout",
     "output_type": "stream",
     "text": [
      "[ Valid | 089/300 ] loss = 1.01218, acc = 0.68168\n",
      "[ Valid | 089/300 ] loss = 1.01218, acc = 0.68168\n"
     ]
    },
    {
     "name": "stderr",
     "output_type": "stream",
     "text": [
      "T: 090/300: 100%|█| 78/78 [00:07<00:00, 10.92it/s, lr=0.000231, b_loss=0.66, b_a\n"
     ]
    },
    {
     "name": "stdout",
     "output_type": "stream",
     "text": [
      "[ Train | 090/300 ] loss = 0.64030, acc = 0.77950\n"
     ]
    },
    {
     "name": "stderr",
     "output_type": "stream",
     "text": [
      "V: 090/300: 100%|█████| 26/26 [00:01<00:00, 14.36it/s, v_loss=1.02, v_acc=0.696]\n"
     ]
    },
    {
     "name": "stdout",
     "output_type": "stream",
     "text": [
      "[ Valid | 090/300 ] loss = 1.02023, acc = 0.69616\n",
      "[ Valid | 090/300 ] loss = 1.02023, acc = 0.69616\n"
     ]
    },
    {
     "name": "stderr",
     "output_type": "stream",
     "text": [
      "T: 091/300: 100%|█| 78/78 [00:07<00:00, 11.01it/s, lr=0.0002, b_loss=0.48, b_acc\n"
     ]
    },
    {
     "name": "stdout",
     "output_type": "stream",
     "text": [
      "[ Train | 091/300 ] loss = 0.62179, acc = 0.78133\n"
     ]
    },
    {
     "name": "stderr",
     "output_type": "stream",
     "text": [
      "V: 091/300: 100%|████| 26/26 [00:01<00:00, 14.92it/s, v_loss=0.876, v_acc=0.715]\n"
     ]
    },
    {
     "name": "stdout",
     "output_type": "stream",
     "text": [
      "[ Valid | 091/300 ] loss = 0.87644, acc = 0.71483\n",
      "[ Valid | 091/300 ] loss = 0.87644, acc = 0.71483\n"
     ]
    },
    {
     "name": "stderr",
     "output_type": "stream",
     "text": [
      "T: 092/300: 100%|█| 78/78 [00:07<00:00, 10.77it/s, lr=0.000169, b_loss=0.564, b_\n"
     ]
    },
    {
     "name": "stdout",
     "output_type": "stream",
     "text": [
      "[ Train | 092/300 ] loss = 0.59679, acc = 0.79169\n"
     ]
    },
    {
     "name": "stderr",
     "output_type": "stream",
     "text": [
      "V: 092/300: 100%|████| 26/26 [00:01<00:00, 17.50it/s, v_loss=0.816, v_acc=0.734]\n"
     ]
    },
    {
     "name": "stdout",
     "output_type": "stream",
     "text": [
      "[ Valid | 092/300 ] loss = 0.81575, acc = 0.73377\n",
      "[ Valid | 092/300 ] loss = 0.81575, acc = 0.73377\n"
     ]
    },
    {
     "name": "stderr",
     "output_type": "stream",
     "text": [
      "T: 093/300: 100%|█| 78/78 [00:07<00:00, 11.09it/s, lr=0.000138, b_loss=0.637, b_\n"
     ]
    },
    {
     "name": "stdout",
     "output_type": "stream",
     "text": [
      "[ Train | 093/300 ] loss = 0.57360, acc = 0.79991\n"
     ]
    },
    {
     "name": "stderr",
     "output_type": "stream",
     "text": [
      "V: 093/300: 100%|████| 26/26 [00:01<00:00, 16.08it/s, v_loss=0.904, v_acc=0.719]\n"
     ]
    },
    {
     "name": "stdout",
     "output_type": "stream",
     "text": [
      "[ Valid | 093/300 ] loss = 0.90426, acc = 0.71904\n",
      "[ Valid | 093/300 ] loss = 0.90426, acc = 0.71904\n"
     ]
    },
    {
     "name": "stderr",
     "output_type": "stream",
     "text": [
      "T: 094/300: 100%|█| 78/78 [00:07<00:00, 11.08it/s, lr=0.000109, b_loss=0.613, b_\n"
     ]
    },
    {
     "name": "stdout",
     "output_type": "stream",
     "text": [
      "[ Train | 094/300 ] loss = 0.54765, acc = 0.81087\n"
     ]
    },
    {
     "name": "stderr",
     "output_type": "stream",
     "text": [
      "V: 094/300: 100%|█████| 26/26 [00:01<00:00, 16.35it/s, v_loss=0.79, v_acc=0.752]\n"
     ]
    },
    {
     "name": "stdout",
     "output_type": "stream",
     "text": [
      "[ Valid | 094/300 ] loss = 0.78951, acc = 0.75177\n",
      "[ Valid | 094/300 ] loss = 0.78951, acc = 0.75177\n"
     ]
    },
    {
     "name": "stderr",
     "output_type": "stream",
     "text": [
      "T: 095/300: 100%|█| 78/78 [00:07<00:00, 10.87it/s, lr=8.24e-5, b_loss=0.42, b_ac\n"
     ]
    },
    {
     "name": "stdout",
     "output_type": "stream",
     "text": [
      "[ Train | 095/300 ] loss = 0.51928, acc = 0.82196\n"
     ]
    },
    {
     "name": "stderr",
     "output_type": "stream",
     "text": [
      "V: 095/300: 100%|████| 26/26 [00:01<00:00, 15.49it/s, v_loss=0.785, v_acc=0.757]\n"
     ]
    },
    {
     "name": "stdout",
     "output_type": "stream",
     "text": [
      "[ Valid | 095/300 ] loss = 0.78543, acc = 0.75657\n",
      "[ Valid | 095/300 ] loss = 0.78543, acc = 0.75657 -> best\n",
      "Best model found at fold 4 epoch 95, acc=0.75657, saving model\n"
     ]
    },
    {
     "name": "stderr",
     "output_type": "stream",
     "text": [
      "T: 096/300: 100%|█| 78/78 [00:07<00:00, 10.89it/s, lr=5.86e-5, b_loss=0.495, b_a\n"
     ]
    },
    {
     "name": "stdout",
     "output_type": "stream",
     "text": [
      "[ Train | 096/300 ] loss = 0.50337, acc = 0.83019\n"
     ]
    },
    {
     "name": "stderr",
     "output_type": "stream",
     "text": [
      "V: 096/300: 100%|████| 26/26 [00:01<00:00, 15.09it/s, v_loss=0.797, v_acc=0.753]\n"
     ]
    },
    {
     "name": "stdout",
     "output_type": "stream",
     "text": [
      "[ Valid | 096/300 ] loss = 0.79715, acc = 0.75272\n",
      "[ Valid | 096/300 ] loss = 0.79715, acc = 0.75272\n"
     ]
    },
    {
     "name": "stderr",
     "output_type": "stream",
     "text": [
      "T: 097/300: 100%|█| 78/78 [00:07<00:00, 10.74it/s, lr=3.82e-5, b_loss=0.57, b_ac\n"
     ]
    },
    {
     "name": "stdout",
     "output_type": "stream",
     "text": [
      "[ Train | 097/300 ] loss = 0.49759, acc = 0.82664\n"
     ]
    },
    {
     "name": "stderr",
     "output_type": "stream",
     "text": [
      "V: 097/300: 100%|████| 26/26 [00:01<00:00, 13.52it/s, v_loss=0.795, v_acc=0.755]\n"
     ]
    },
    {
     "name": "stdout",
     "output_type": "stream",
     "text": [
      "[ Valid | 097/300 ] loss = 0.79526, acc = 0.75481\n",
      "[ Valid | 097/300 ] loss = 0.79526, acc = 0.75481\n"
     ]
    },
    {
     "name": "stderr",
     "output_type": "stream",
     "text": [
      "T: 098/300: 100%|█| 78/78 [00:07<00:00, 10.73it/s, lr=2.18e-5, b_loss=0.396, b_a\n"
     ]
    },
    {
     "name": "stdout",
     "output_type": "stream",
     "text": [
      "[ Train | 098/300 ] loss = 0.46660, acc = 0.84072\n"
     ]
    },
    {
     "name": "stderr",
     "output_type": "stream",
     "text": [
      "V: 098/300: 100%|████| 26/26 [00:01<00:00, 14.50it/s, v_loss=0.761, v_acc=0.763]\n"
     ]
    },
    {
     "name": "stdout",
     "output_type": "stream",
     "text": [
      "[ Valid | 098/300 ] loss = 0.76100, acc = 0.76328\n",
      "[ Valid | 098/300 ] loss = 0.76100, acc = 0.76328 -> best\n",
      "Best model found at fold 4 epoch 98, acc=0.76328, saving model\n"
     ]
    },
    {
     "name": "stderr",
     "output_type": "stream",
     "text": [
      "T: 099/300: 100%|█| 78/78 [00:07<00:00, 10.78it/s, lr=9.79e-6, b_loss=0.509, b_a\n"
     ]
    },
    {
     "name": "stdout",
     "output_type": "stream",
     "text": [
      "[ Train | 099/300 ] loss = 0.47515, acc = 0.83604\n"
     ]
    },
    {
     "name": "stderr",
     "output_type": "stream",
     "text": [
      "V: 099/300: 100%|████| 26/26 [00:01<00:00, 16.98it/s, v_loss=0.765, v_acc=0.763]\n"
     ]
    },
    {
     "name": "stdout",
     "output_type": "stream",
     "text": [
      "[ Valid | 099/300 ] loss = 0.76485, acc = 0.76301\n",
      "[ Valid | 099/300 ] loss = 0.76485, acc = 0.76301\n"
     ]
    },
    {
     "name": "stderr",
     "output_type": "stream",
     "text": [
      "T: 100/300: 100%|█| 78/78 [00:07<00:00, 10.80it/s, lr=2.46e-6, b_loss=0.472, b_a\n"
     ]
    },
    {
     "name": "stdout",
     "output_type": "stream",
     "text": [
      "[ Train | 100/300 ] loss = 0.45890, acc = 0.84476\n"
     ]
    },
    {
     "name": "stderr",
     "output_type": "stream",
     "text": [
      "V: 100/300: 100%|████| 26/26 [00:01<00:00, 15.92it/s, v_loss=0.763, v_acc=0.762]\n"
     ]
    },
    {
     "name": "stdout",
     "output_type": "stream",
     "text": [
      "[ Valid | 100/300 ] loss = 0.76325, acc = 0.76201\n",
      "[ Valid | 100/300 ] loss = 0.76325, acc = 0.76201\n"
     ]
    },
    {
     "name": "stderr",
     "output_type": "stream",
     "text": [
      "T: 101/300: 100%|█| 78/78 [00:07<00:00, 10.91it/s, lr=0.0004, b_loss=0.731, b_ac\n"
     ]
    },
    {
     "name": "stdout",
     "output_type": "stream",
     "text": [
      "[ Train | 101/300 ] loss = 0.70118, acc = 0.75813\n"
     ]
    },
    {
     "name": "stderr",
     "output_type": "stream",
     "text": [
      "V: 101/300: 100%|█████| 26/26 [00:01<00:00, 14.65it/s, v_loss=1.04, v_acc=0.681]\n"
     ]
    },
    {
     "name": "stdout",
     "output_type": "stream",
     "text": [
      "[ Valid | 101/300 ] loss = 1.03963, acc = 0.68054\n",
      "[ Valid | 101/300 ] loss = 1.03963, acc = 0.68054\n"
     ]
    },
    {
     "name": "stderr",
     "output_type": "stream",
     "text": [
      "T: 102/300: 100%|█| 78/78 [00:07<00:00, 10.69it/s, lr=0.000398, b_loss=0.758, b_\n"
     ]
    },
    {
     "name": "stdout",
     "output_type": "stream",
     "text": [
      "[ Train | 102/300 ] loss = 0.71597, acc = 0.74828\n"
     ]
    },
    {
     "name": "stderr",
     "output_type": "stream",
     "text": [
      "V: 102/300: 100%|█████| 26/26 [00:01<00:00, 15.05it/s, v_loss=1.23, v_acc=0.643]\n"
     ]
    },
    {
     "name": "stdout",
     "output_type": "stream",
     "text": [
      "[ Valid | 102/300 ] loss = 1.22993, acc = 0.64348\n",
      "[ Valid | 102/300 ] loss = 1.22993, acc = 0.64348\n"
     ]
    },
    {
     "name": "stderr",
     "output_type": "stream",
     "text": [
      "T: 103/300: 100%|█| 78/78 [00:07<00:00, 10.92it/s, lr=0.00039, b_loss=0.733, b_a\n"
     ]
    },
    {
     "name": "stdout",
     "output_type": "stream",
     "text": [
      "[ Train | 103/300 ] loss = 0.70404, acc = 0.75690\n"
     ]
    },
    {
     "name": "stderr",
     "output_type": "stream",
     "text": [
      "V: 103/300: 100%|█████| 26/26 [00:01<00:00, 15.27it/s, v_loss=1.02, v_acc=0.682]\n"
     ]
    },
    {
     "name": "stdout",
     "output_type": "stream",
     "text": [
      "[ Valid | 103/300 ] loss = 1.01868, acc = 0.68238\n",
      "[ Valid | 103/300 ] loss = 1.01868, acc = 0.68238\n"
     ]
    },
    {
     "name": "stderr",
     "output_type": "stream",
     "text": [
      "T: 104/300: 100%|█| 78/78 [00:07<00:00, 10.93it/s, lr=0.000378, b_loss=0.604, b_\n"
     ]
    },
    {
     "name": "stdout",
     "output_type": "stream",
     "text": [
      "[ Train | 104/300 ] loss = 0.68565, acc = 0.76426\n"
     ]
    },
    {
     "name": "stderr",
     "output_type": "stream",
     "text": [
      "V: 104/300: 100%|█████| 26/26 [00:01<00:00, 16.28it/s, v_loss=1.02, v_acc=0.695]\n"
     ]
    },
    {
     "name": "stdout",
     "output_type": "stream",
     "text": [
      "[ Valid | 104/300 ] loss = 1.02050, acc = 0.69526\n",
      "[ Valid | 104/300 ] loss = 1.02050, acc = 0.69526\n"
     ]
    },
    {
     "name": "stderr",
     "output_type": "stream",
     "text": [
      "T: 105/300: 100%|█| 78/78 [00:07<00:00, 10.71it/s, lr=0.000362, b_loss=0.524, b_\n"
     ]
    },
    {
     "name": "stdout",
     "output_type": "stream",
     "text": [
      "[ Train | 105/300 ] loss = 0.66863, acc = 0.76272\n"
     ]
    },
    {
     "name": "stderr",
     "output_type": "stream",
     "text": [
      "V: 105/300: 100%|█████| 26/26 [00:01<00:00, 15.08it/s, v_loss=1.01, v_acc=0.691]\n"
     ]
    },
    {
     "name": "stdout",
     "output_type": "stream",
     "text": [
      "[ Valid | 105/300 ] loss = 1.01320, acc = 0.69105\n",
      "[ Valid | 105/300 ] loss = 1.01320, acc = 0.69105\n"
     ]
    },
    {
     "name": "stderr",
     "output_type": "stream",
     "text": [
      "T: 106/300: 100%|█| 78/78 [00:07<00:00, 10.90it/s, lr=0.000341, b_loss=0.741, b_\n"
     ]
    },
    {
     "name": "stdout",
     "output_type": "stream",
     "text": [
      "[ Train | 106/300 ] loss = 0.64657, acc = 0.77274\n"
     ]
    },
    {
     "name": "stderr",
     "output_type": "stream",
     "text": [
      "V: 106/300: 100%|█████| 26/26 [00:01<00:00, 13.50it/s, v_loss=1.18, v_acc=0.638]\n"
     ]
    },
    {
     "name": "stdout",
     "output_type": "stream",
     "text": [
      "[ Valid | 106/300 ] loss = 1.17810, acc = 0.63772\n",
      "[ Valid | 106/300 ] loss = 1.17810, acc = 0.63772\n"
     ]
    },
    {
     "name": "stderr",
     "output_type": "stream",
     "text": [
      "T: 107/300: 100%|█| 78/78 [00:07<00:00, 10.91it/s, lr=0.000318, b_loss=0.57, b_a\n"
     ]
    },
    {
     "name": "stdout",
     "output_type": "stream",
     "text": [
      "[ Train | 107/300 ] loss = 0.62228, acc = 0.78374\n"
     ]
    },
    {
     "name": "stderr",
     "output_type": "stream",
     "text": [
      "V: 107/300: 100%|████| 26/26 [00:01<00:00, 15.32it/s, v_loss=0.926, v_acc=0.712]\n"
     ]
    },
    {
     "name": "stdout",
     "output_type": "stream",
     "text": [
      "[ Valid | 107/300 ] loss = 0.92557, acc = 0.71198\n",
      "[ Valid | 107/300 ] loss = 0.92557, acc = 0.71198\n"
     ]
    },
    {
     "name": "stderr",
     "output_type": "stream",
     "text": [
      "T: 108/300: 100%|█| 78/78 [00:07<00:00, 10.82it/s, lr=0.000291, b_loss=0.839, b_\n"
     ]
    },
    {
     "name": "stdout",
     "output_type": "stream",
     "text": [
      "[ Train | 108/300 ] loss = 0.61059, acc = 0.78802\n"
     ]
    },
    {
     "name": "stderr",
     "output_type": "stream",
     "text": [
      "V: 108/300: 100%|██████████| 26/26 [00:01<00:00, 16.16it/s, v_loss=1, v_acc=0.7]\n"
     ]
    },
    {
     "name": "stdout",
     "output_type": "stream",
     "text": [
      "[ Valid | 108/300 ] loss = 1.00488, acc = 0.69951\n",
      "[ Valid | 108/300 ] loss = 1.00488, acc = 0.69951\n"
     ]
    },
    {
     "name": "stderr",
     "output_type": "stream",
     "text": [
      "T: 109/300: 100%|█| 78/78 [00:07<00:00, 10.84it/s, lr=0.000262, b_loss=0.608, b_\n"
     ]
    },
    {
     "name": "stdout",
     "output_type": "stream",
     "text": [
      "[ Train | 109/300 ] loss = 0.57618, acc = 0.80016\n"
     ]
    },
    {
     "name": "stderr",
     "output_type": "stream",
     "text": [
      "V: 109/300: 100%|█████| 26/26 [00:01<00:00, 14.64it/s, v_loss=1.05, v_acc=0.687]\n"
     ]
    },
    {
     "name": "stdout",
     "output_type": "stream",
     "text": [
      "[ Valid | 109/300 ] loss = 1.04581, acc = 0.68741\n",
      "[ Valid | 109/300 ] loss = 1.04581, acc = 0.68741\n"
     ]
    },
    {
     "name": "stderr",
     "output_type": "stream",
     "text": [
      "T: 110/300: 100%|█| 78/78 [00:07<00:00, 10.82it/s, lr=0.000231, b_loss=0.615, b_\n"
     ]
    },
    {
     "name": "stdout",
     "output_type": "stream",
     "text": [
      "[ Train | 110/300 ] loss = 0.54552, acc = 0.81109\n"
     ]
    },
    {
     "name": "stderr",
     "output_type": "stream",
     "text": [
      "V: 110/300: 100%|████| 26/26 [00:01<00:00, 15.92it/s, v_loss=0.874, v_acc=0.735]\n"
     ]
    },
    {
     "name": "stdout",
     "output_type": "stream",
     "text": [
      "[ Valid | 110/300 ] loss = 0.87374, acc = 0.73498\n",
      "[ Valid | 110/300 ] loss = 0.87374, acc = 0.73498\n"
     ]
    },
    {
     "name": "stderr",
     "output_type": "stream",
     "text": [
      "T: 111/300: 100%|█| 78/78 [00:07<00:00, 10.86it/s, lr=0.0002, b_loss=0.55, b_acc\n"
     ]
    },
    {
     "name": "stdout",
     "output_type": "stream",
     "text": [
      "[ Train | 111/300 ] loss = 0.53524, acc = 0.80973\n"
     ]
    },
    {
     "name": "stderr",
     "output_type": "stream",
     "text": [
      "V: 111/300: 100%|████| 26/26 [00:01<00:00, 16.62it/s, v_loss=0.856, v_acc=0.737]\n"
     ]
    },
    {
     "name": "stdout",
     "output_type": "stream",
     "text": [
      "[ Valid | 111/300 ] loss = 0.85554, acc = 0.73741\n",
      "[ Valid | 111/300 ] loss = 0.85554, acc = 0.73741\n"
     ]
    },
    {
     "name": "stderr",
     "output_type": "stream",
     "text": [
      "T: 112/300: 100%|█| 78/78 [00:07<00:00, 11.04it/s, lr=0.000169, b_loss=0.406, b_\n"
     ]
    },
    {
     "name": "stdout",
     "output_type": "stream",
     "text": [
      "[ Train | 112/300 ] loss = 0.51316, acc = 0.82466\n"
     ]
    },
    {
     "name": "stderr",
     "output_type": "stream",
     "text": [
      "V: 112/300: 100%|████| 26/26 [00:01<00:00, 13.83it/s, v_loss=0.816, v_acc=0.742]\n"
     ]
    },
    {
     "name": "stdout",
     "output_type": "stream",
     "text": [
      "[ Valid | 112/300 ] loss = 0.81591, acc = 0.74240\n",
      "[ Valid | 112/300 ] loss = 0.81591, acc = 0.74240\n"
     ]
    },
    {
     "name": "stderr",
     "output_type": "stream",
     "text": [
      "T: 113/300: 100%|█| 78/78 [00:07<00:00, 10.92it/s, lr=0.000138, b_loss=0.527, b_\n"
     ]
    },
    {
     "name": "stdout",
     "output_type": "stream",
     "text": [
      "[ Train | 113/300 ] loss = 0.49731, acc = 0.82349\n"
     ]
    },
    {
     "name": "stderr",
     "output_type": "stream",
     "text": [
      "V: 113/300: 100%|████| 26/26 [00:01<00:00, 16.57it/s, v_loss=0.828, v_acc=0.754]\n"
     ]
    },
    {
     "name": "stdout",
     "output_type": "stream",
     "text": [
      "[ Valid | 113/300 ] loss = 0.82768, acc = 0.75360\n",
      "[ Valid | 113/300 ] loss = 0.82768, acc = 0.75360\n"
     ]
    },
    {
     "name": "stderr",
     "output_type": "stream",
     "text": [
      "T: 114/300: 100%|█| 78/78 [00:07<00:00, 10.71it/s, lr=0.000109, b_loss=0.394, b_\n"
     ]
    },
    {
     "name": "stdout",
     "output_type": "stream",
     "text": [
      "[ Train | 114/300 ] loss = 0.46534, acc = 0.83961\n"
     ]
    },
    {
     "name": "stderr",
     "output_type": "stream",
     "text": [
      "V: 114/300: 100%|█████| 26/26 [00:01<00:00, 15.83it/s, v_loss=0.81, v_acc=0.754]\n"
     ]
    },
    {
     "name": "stdout",
     "output_type": "stream",
     "text": [
      "[ Valid | 114/300 ] loss = 0.81043, acc = 0.75396\n",
      "[ Valid | 114/300 ] loss = 0.81043, acc = 0.75396\n"
     ]
    },
    {
     "name": "stderr",
     "output_type": "stream",
     "text": [
      "T: 115/300: 100%|█| 78/78 [00:07<00:00, 10.84it/s, lr=8.24e-5, b_loss=0.416, b_a\n"
     ]
    },
    {
     "name": "stdout",
     "output_type": "stream",
     "text": [
      "[ Train | 115/300 ] loss = 0.43662, acc = 0.85250\n"
     ]
    },
    {
     "name": "stderr",
     "output_type": "stream",
     "text": [
      "V: 115/300: 100%|████| 26/26 [00:01<00:00, 14.33it/s, v_loss=0.787, v_acc=0.762]\n"
     ]
    },
    {
     "name": "stdout",
     "output_type": "stream",
     "text": [
      "[ Valid | 115/300 ] loss = 0.78668, acc = 0.76245\n",
      "[ Valid | 115/300 ] loss = 0.78668, acc = 0.76245\n"
     ]
    },
    {
     "name": "stderr",
     "output_type": "stream",
     "text": [
      "T: 116/300: 100%|█| 78/78 [00:07<00:00, 10.99it/s, lr=5.86e-5, b_loss=0.534, b_a\n"
     ]
    },
    {
     "name": "stdout",
     "output_type": "stream",
     "text": [
      "[ Train | 116/300 ] loss = 0.43173, acc = 0.85219\n"
     ]
    },
    {
     "name": "stderr",
     "output_type": "stream",
     "text": [
      "V: 116/300: 100%|████| 26/26 [00:01<00:00, 16.48it/s, v_loss=0.747, v_acc=0.774]\n"
     ]
    },
    {
     "name": "stdout",
     "output_type": "stream",
     "text": [
      "[ Valid | 116/300 ] loss = 0.74745, acc = 0.77407\n",
      "[ Valid | 116/300 ] loss = 0.74745, acc = 0.77407 -> best\n",
      "Best model found at fold 4 epoch 116, acc=0.77407, saving model\n"
     ]
    },
    {
     "name": "stderr",
     "output_type": "stream",
     "text": [
      "T: 117/300: 100%|█| 78/78 [00:07<00:00, 10.92it/s, lr=3.82e-5, b_loss=0.339, b_a\n"
     ]
    },
    {
     "name": "stdout",
     "output_type": "stream",
     "text": [
      "[ Train | 117/300 ] loss = 0.42388, acc = 0.85815\n"
     ]
    },
    {
     "name": "stderr",
     "output_type": "stream",
     "text": [
      "V: 117/300: 100%|████| 26/26 [00:01<00:00, 16.74it/s, v_loss=0.749, v_acc=0.769]\n"
     ]
    },
    {
     "name": "stdout",
     "output_type": "stream",
     "text": [
      "[ Valid | 117/300 ] loss = 0.74921, acc = 0.76889\n",
      "[ Valid | 117/300 ] loss = 0.74921, acc = 0.76889\n"
     ]
    },
    {
     "name": "stderr",
     "output_type": "stream",
     "text": [
      "T: 118/300: 100%|█| 78/78 [00:07<00:00, 10.98it/s, lr=2.18e-5, b_loss=0.586, b_a\n"
     ]
    },
    {
     "name": "stdout",
     "output_type": "stream",
     "text": [
      "[ Train | 118/300 ] loss = 0.40303, acc = 0.86105\n"
     ]
    },
    {
     "name": "stderr",
     "output_type": "stream",
     "text": [
      "V: 118/300: 100%|████| 26/26 [00:01<00:00, 15.76it/s, v_loss=0.748, v_acc=0.775]\n"
     ]
    },
    {
     "name": "stdout",
     "output_type": "stream",
     "text": [
      "[ Valid | 118/300 ] loss = 0.74770, acc = 0.77526\n",
      "[ Valid | 118/300 ] loss = 0.74770, acc = 0.77526 -> best\n",
      "Best model found at fold 4 epoch 118, acc=0.77526, saving model\n"
     ]
    },
    {
     "name": "stderr",
     "output_type": "stream",
     "text": [
      "T: 119/300: 100%|█| 78/78 [00:07<00:00, 11.14it/s, lr=9.79e-6, b_loss=0.397, b_a\n"
     ]
    },
    {
     "name": "stdout",
     "output_type": "stream",
     "text": [
      "[ Train | 119/300 ] loss = 0.39235, acc = 0.86742\n"
     ]
    },
    {
     "name": "stderr",
     "output_type": "stream",
     "text": [
      "V: 119/300: 100%|████| 26/26 [00:01<00:00, 14.25it/s, v_loss=0.745, v_acc=0.774]\n"
     ]
    },
    {
     "name": "stdout",
     "output_type": "stream",
     "text": [
      "[ Valid | 119/300 ] loss = 0.74456, acc = 0.77381\n",
      "[ Valid | 119/300 ] loss = 0.74456, acc = 0.77381\n"
     ]
    },
    {
     "name": "stderr",
     "output_type": "stream",
     "text": [
      "T: 120/300: 100%|█| 78/78 [00:07<00:00, 10.98it/s, lr=2.46e-6, b_loss=0.405, b_a\n"
     ]
    },
    {
     "name": "stdout",
     "output_type": "stream",
     "text": [
      "[ Train | 120/300 ] loss = 0.39309, acc = 0.86544\n"
     ]
    },
    {
     "name": "stderr",
     "output_type": "stream",
     "text": [
      "V: 120/300: 100%|████| 26/26 [00:01<00:00, 16.51it/s, v_loss=0.753, v_acc=0.773]\n"
     ]
    },
    {
     "name": "stdout",
     "output_type": "stream",
     "text": [
      "[ Valid | 120/300 ] loss = 0.75327, acc = 0.77261\n",
      "[ Valid | 120/300 ] loss = 0.75327, acc = 0.77261\n"
     ]
    },
    {
     "name": "stderr",
     "output_type": "stream",
     "text": [
      "T: 121/300: 100%|█| 78/78 [00:07<00:00, 10.83it/s, lr=0.0004, b_loss=0.777, b_ac\n"
     ]
    },
    {
     "name": "stdout",
     "output_type": "stream",
     "text": [
      "[ Train | 121/300 ] loss = 0.64762, acc = 0.77419\n"
     ]
    },
    {
     "name": "stderr",
     "output_type": "stream",
     "text": [
      "V: 121/300: 100%|█████| 26/26 [00:01<00:00, 14.61it/s, v_loss=1.44, v_acc=0.611]\n"
     ]
    },
    {
     "name": "stdout",
     "output_type": "stream",
     "text": [
      "[ Valid | 121/300 ] loss = 1.44293, acc = 0.61075\n",
      "[ Valid | 121/300 ] loss = 1.44293, acc = 0.61075\n"
     ]
    },
    {
     "name": "stderr",
     "output_type": "stream",
     "text": [
      "T: 122/300: 100%|█| 78/78 [00:07<00:00, 10.93it/s, lr=0.000398, b_loss=0.578, b_\n"
     ]
    },
    {
     "name": "stdout",
     "output_type": "stream",
     "text": [
      "[ Train | 122/300 ] loss = 0.64052, acc = 0.77918\n"
     ]
    },
    {
     "name": "stderr",
     "output_type": "stream",
     "text": [
      "V: 122/300: 100%|█████| 26/26 [00:01<00:00, 13.53it/s, v_loss=1.25, v_acc=0.641]\n"
     ]
    },
    {
     "name": "stdout",
     "output_type": "stream",
     "text": [
      "[ Valid | 122/300 ] loss = 1.25026, acc = 0.64131\n",
      "[ Valid | 122/300 ] loss = 1.25026, acc = 0.64131\n"
     ]
    },
    {
     "name": "stderr",
     "output_type": "stream",
     "text": [
      "T: 123/300: 100%|█| 78/78 [00:07<00:00, 10.79it/s, lr=0.00039, b_loss=0.793, b_a\n"
     ]
    },
    {
     "name": "stdout",
     "output_type": "stream",
     "text": [
      "[ Train | 123/300 ] loss = 0.62798, acc = 0.77952\n"
     ]
    },
    {
     "name": "stderr",
     "output_type": "stream",
     "text": [
      "V: 123/300: 100%|█████| 26/26 [00:01<00:00, 15.40it/s, v_loss=1.11, v_acc=0.668]\n"
     ]
    },
    {
     "name": "stdout",
     "output_type": "stream",
     "text": [
      "[ Valid | 123/300 ] loss = 1.10506, acc = 0.66764\n",
      "[ Valid | 123/300 ] loss = 1.10506, acc = 0.66764\n"
     ]
    },
    {
     "name": "stderr",
     "output_type": "stream",
     "text": [
      "T: 124/300: 100%|█| 78/78 [00:07<00:00, 10.82it/s, lr=0.000378, b_loss=0.692, b_\n"
     ]
    },
    {
     "name": "stdout",
     "output_type": "stream",
     "text": [
      "[ Train | 124/300 ] loss = 0.60480, acc = 0.79134\n"
     ]
    },
    {
     "name": "stderr",
     "output_type": "stream",
     "text": [
      "V: 124/300: 100%|████| 26/26 [00:01<00:00, 15.01it/s, v_loss=0.957, v_acc=0.708]\n"
     ]
    },
    {
     "name": "stdout",
     "output_type": "stream",
     "text": [
      "[ Valid | 124/300 ] loss = 0.95669, acc = 0.70844\n",
      "[ Valid | 124/300 ] loss = 0.95669, acc = 0.70844\n"
     ]
    },
    {
     "name": "stderr",
     "output_type": "stream",
     "text": [
      "T: 125/300: 100%|█| 78/78 [00:07<00:00, 10.95it/s, lr=0.000362, b_loss=0.549, b_\n"
     ]
    },
    {
     "name": "stdout",
     "output_type": "stream",
     "text": [
      "[ Train | 125/300 ] loss = 0.58609, acc = 0.79403\n"
     ]
    },
    {
     "name": "stderr",
     "output_type": "stream",
     "text": [
      "V: 125/300: 100%|████| 26/26 [00:01<00:00, 13.88it/s, v_loss=0.915, v_acc=0.709]\n"
     ]
    },
    {
     "name": "stdout",
     "output_type": "stream",
     "text": [
      "[ Valid | 125/300 ] loss = 0.91500, acc = 0.70937\n",
      "[ Valid | 125/300 ] loss = 0.91500, acc = 0.70937\n"
     ]
    },
    {
     "name": "stderr",
     "output_type": "stream",
     "text": [
      "T: 126/300: 100%|█| 78/78 [00:07<00:00, 10.99it/s, lr=0.000341, b_loss=0.554, b_\n"
     ]
    },
    {
     "name": "stdout",
     "output_type": "stream",
     "text": [
      "[ Train | 126/300 ] loss = 0.57223, acc = 0.79833\n"
     ]
    },
    {
     "name": "stderr",
     "output_type": "stream",
     "text": [
      "V: 126/300: 100%|█████| 26/26 [00:01<00:00, 15.48it/s, v_loss=0.93, v_acc=0.723]\n"
     ]
    },
    {
     "name": "stdout",
     "output_type": "stream",
     "text": [
      "[ Valid | 126/300 ] loss = 0.92976, acc = 0.72286\n",
      "[ Valid | 126/300 ] loss = 0.92976, acc = 0.72286\n"
     ]
    },
    {
     "name": "stderr",
     "output_type": "stream",
     "text": [
      "T: 127/300: 100%|█| 78/78 [00:07<00:00, 11.11it/s, lr=0.000318, b_loss=0.552, b_\n"
     ]
    },
    {
     "name": "stdout",
     "output_type": "stream",
     "text": [
      "[ Train | 127/300 ] loss = 0.54205, acc = 0.80915\n"
     ]
    },
    {
     "name": "stderr",
     "output_type": "stream",
     "text": [
      "V: 127/300: 100%|████| 26/26 [00:01<00:00, 15.26it/s, v_loss=0.943, v_acc=0.717]\n"
     ]
    },
    {
     "name": "stdout",
     "output_type": "stream",
     "text": [
      "[ Valid | 127/300 ] loss = 0.94261, acc = 0.71684\n",
      "[ Valid | 127/300 ] loss = 0.94261, acc = 0.71684\n"
     ]
    },
    {
     "name": "stderr",
     "output_type": "stream",
     "text": [
      "T: 128/300: 100%|█| 78/78 [00:07<00:00, 11.11it/s, lr=0.000291, b_loss=0.481, b_\n"
     ]
    },
    {
     "name": "stdout",
     "output_type": "stream",
     "text": [
      "[ Train | 128/300 ] loss = 0.52595, acc = 0.81919\n"
     ]
    },
    {
     "name": "stderr",
     "output_type": "stream",
     "text": [
      "V: 128/300: 100%|████| 26/26 [00:01<00:00, 14.50it/s, v_loss=0.883, v_acc=0.729]\n"
     ]
    },
    {
     "name": "stdout",
     "output_type": "stream",
     "text": [
      "[ Valid | 128/300 ] loss = 0.88347, acc = 0.72950\n",
      "[ Valid | 128/300 ] loss = 0.88347, acc = 0.72950\n"
     ]
    },
    {
     "name": "stderr",
     "output_type": "stream",
     "text": [
      "T: 129/300: 100%|█| 78/78 [00:07<00:00, 10.73it/s, lr=0.000262, b_loss=0.49, b_a\n"
     ]
    },
    {
     "name": "stdout",
     "output_type": "stream",
     "text": [
      "[ Train | 129/300 ] loss = 0.50834, acc = 0.82108\n"
     ]
    },
    {
     "name": "stderr",
     "output_type": "stream",
     "text": [
      "V: 129/300: 100%|████| 26/26 [00:01<00:00, 14.43it/s, v_loss=0.956, v_acc=0.728]\n"
     ]
    },
    {
     "name": "stdout",
     "output_type": "stream",
     "text": [
      "[ Valid | 129/300 ] loss = 0.95604, acc = 0.72805\n",
      "[ Valid | 129/300 ] loss = 0.95604, acc = 0.72805\n"
     ]
    },
    {
     "name": "stderr",
     "output_type": "stream",
     "text": [
      "T: 130/300: 100%|█| 78/78 [00:07<00:00, 10.87it/s, lr=0.000231, b_loss=0.535, b_\n"
     ]
    },
    {
     "name": "stdout",
     "output_type": "stream",
     "text": [
      "[ Train | 130/300 ] loss = 0.46871, acc = 0.83961\n"
     ]
    },
    {
     "name": "stderr",
     "output_type": "stream",
     "text": [
      "V: 130/300: 100%|████| 26/26 [00:01<00:00, 16.13it/s, v_loss=0.874, v_acc=0.742]\n"
     ]
    },
    {
     "name": "stdout",
     "output_type": "stream",
     "text": [
      "[ Valid | 130/300 ] loss = 0.87423, acc = 0.74245\n",
      "[ Valid | 130/300 ] loss = 0.87423, acc = 0.74245\n"
     ]
    },
    {
     "name": "stderr",
     "output_type": "stream",
     "text": [
      "T: 131/300: 100%|█| 78/78 [00:07<00:00, 10.96it/s, lr=0.0002, b_loss=0.526, b_ac\n"
     ]
    },
    {
     "name": "stdout",
     "output_type": "stream",
     "text": [
      "[ Train | 131/300 ] loss = 0.46207, acc = 0.84213\n"
     ]
    },
    {
     "name": "stderr",
     "output_type": "stream",
     "text": [
      "V: 131/300: 100%|████| 26/26 [00:01<00:00, 15.75it/s, v_loss=0.929, v_acc=0.732]\n"
     ]
    },
    {
     "name": "stdout",
     "output_type": "stream",
     "text": [
      "[ Valid | 131/300 ] loss = 0.92896, acc = 0.73193\n",
      "[ Valid | 131/300 ] loss = 0.92896, acc = 0.73193\n"
     ]
    },
    {
     "name": "stderr",
     "output_type": "stream",
     "text": [
      "T: 132/300: 100%|█| 78/78 [00:07<00:00, 10.78it/s, lr=0.000169, b_loss=0.563, b_\n"
     ]
    },
    {
     "name": "stdout",
     "output_type": "stream",
     "text": [
      "[ Train | 132/300 ] loss = 0.44930, acc = 0.84417\n"
     ]
    },
    {
     "name": "stderr",
     "output_type": "stream",
     "text": [
      "V: 132/300: 100%|████| 26/26 [00:01<00:00, 15.44it/s, v_loss=0.811, v_acc=0.763]\n"
     ]
    },
    {
     "name": "stdout",
     "output_type": "stream",
     "text": [
      "[ Valid | 132/300 ] loss = 0.81051, acc = 0.76267\n",
      "[ Valid | 132/300 ] loss = 0.81051, acc = 0.76267\n"
     ]
    },
    {
     "name": "stderr",
     "output_type": "stream",
     "text": [
      "T: 133/300: 100%|█| 78/78 [00:07<00:00, 10.99it/s, lr=0.000138, b_loss=0.305, b_\n"
     ]
    },
    {
     "name": "stdout",
     "output_type": "stream",
     "text": [
      "[ Train | 133/300 ] loss = 0.41963, acc = 0.85627\n"
     ]
    },
    {
     "name": "stderr",
     "output_type": "stream",
     "text": [
      "V: 133/300: 100%|████| 26/26 [00:01<00:00, 15.41it/s, v_loss=0.849, v_acc=0.751]\n"
     ]
    },
    {
     "name": "stdout",
     "output_type": "stream",
     "text": [
      "[ Valid | 133/300 ] loss = 0.84911, acc = 0.75092\n",
      "[ Valid | 133/300 ] loss = 0.84911, acc = 0.75092\n"
     ]
    },
    {
     "name": "stderr",
     "output_type": "stream",
     "text": [
      "T: 134/300: 100%|█| 78/78 [00:07<00:00, 10.98it/s, lr=0.000109, b_loss=0.348, b_\n"
     ]
    },
    {
     "name": "stdout",
     "output_type": "stream",
     "text": [
      "[ Train | 134/300 ] loss = 0.38349, acc = 0.87055\n"
     ]
    },
    {
     "name": "stderr",
     "output_type": "stream",
     "text": [
      "V: 134/300: 100%|████| 26/26 [00:01<00:00, 16.36it/s, v_loss=0.802, v_acc=0.769]\n"
     ]
    },
    {
     "name": "stdout",
     "output_type": "stream",
     "text": [
      "[ Valid | 134/300 ] loss = 0.80156, acc = 0.76929\n",
      "[ Valid | 134/300 ] loss = 0.80156, acc = 0.76929\n"
     ]
    },
    {
     "name": "stderr",
     "output_type": "stream",
     "text": [
      "T: 135/300: 100%|█| 78/78 [00:07<00:00, 11.05it/s, lr=8.24e-5, b_loss=0.326, b_a\n"
     ]
    },
    {
     "name": "stdout",
     "output_type": "stream",
     "text": [
      "[ Train | 135/300 ] loss = 0.37805, acc = 0.87154\n"
     ]
    },
    {
     "name": "stderr",
     "output_type": "stream",
     "text": [
      "V: 135/300: 100%|█████| 26/26 [00:01<00:00, 15.58it/s, v_loss=0.81, v_acc=0.769]\n"
     ]
    },
    {
     "name": "stdout",
     "output_type": "stream",
     "text": [
      "[ Valid | 135/300 ] loss = 0.80998, acc = 0.76889\n",
      "[ Valid | 135/300 ] loss = 0.80998, acc = 0.76889\n"
     ]
    },
    {
     "name": "stderr",
     "output_type": "stream",
     "text": [
      "T: 136/300: 100%|█| 78/78 [00:07<00:00, 10.89it/s, lr=5.86e-5, b_loss=0.345, b_a\n"
     ]
    },
    {
     "name": "stdout",
     "output_type": "stream",
     "text": [
      "[ Train | 136/300 ] loss = 0.35954, acc = 0.88079\n"
     ]
    },
    {
     "name": "stderr",
     "output_type": "stream",
     "text": [
      "V: 136/300: 100%|████| 26/26 [00:01<00:00, 14.74it/s, v_loss=0.784, v_acc=0.775]\n"
     ]
    },
    {
     "name": "stdout",
     "output_type": "stream",
     "text": [
      "[ Valid | 136/300 ] loss = 0.78373, acc = 0.77532\n",
      "[ Valid | 136/300 ] loss = 0.78373, acc = 0.77532 -> best\n",
      "Best model found at fold 4 epoch 136, acc=0.77532, saving model\n"
     ]
    },
    {
     "name": "stderr",
     "output_type": "stream",
     "text": [
      "T: 137/300: 100%|█| 78/78 [00:07<00:00, 10.83it/s, lr=3.82e-5, b_loss=0.187, b_a\n"
     ]
    },
    {
     "name": "stdout",
     "output_type": "stream",
     "text": [
      "[ Train | 137/300 ] loss = 0.34689, acc = 0.88252\n"
     ]
    },
    {
     "name": "stderr",
     "output_type": "stream",
     "text": [
      "V: 137/300: 100%|████| 26/26 [00:01<00:00, 16.95it/s, v_loss=0.773, v_acc=0.782]\n"
     ]
    },
    {
     "name": "stdout",
     "output_type": "stream",
     "text": [
      "[ Valid | 137/300 ] loss = 0.77252, acc = 0.78190\n",
      "[ Valid | 137/300 ] loss = 0.77252, acc = 0.78190 -> best\n",
      "Best model found at fold 4 epoch 137, acc=0.78190, saving model\n"
     ]
    },
    {
     "name": "stderr",
     "output_type": "stream",
     "text": [
      "T: 138/300: 100%|█| 78/78 [00:07<00:00, 11.04it/s, lr=2.18e-5, b_loss=0.389, b_a\n"
     ]
    },
    {
     "name": "stdout",
     "output_type": "stream",
     "text": [
      "[ Train | 138/300 ] loss = 0.34316, acc = 0.88196\n"
     ]
    },
    {
     "name": "stderr",
     "output_type": "stream",
     "text": [
      "V: 138/300: 100%|█████| 26/26 [00:01<00:00, 15.69it/s, v_loss=0.78, v_acc=0.783]\n"
     ]
    },
    {
     "name": "stdout",
     "output_type": "stream",
     "text": [
      "[ Valid | 138/300 ] loss = 0.78003, acc = 0.78311\n",
      "[ Valid | 138/300 ] loss = 0.78003, acc = 0.78311 -> best\n",
      "Best model found at fold 4 epoch 138, acc=0.78311, saving model\n"
     ]
    },
    {
     "name": "stderr",
     "output_type": "stream",
     "text": [
      "T: 139/300: 100%|█| 78/78 [00:07<00:00, 10.96it/s, lr=9.79e-6, b_loss=0.4, b_acc\n"
     ]
    },
    {
     "name": "stdout",
     "output_type": "stream",
     "text": [
      "[ Train | 139/300 ] loss = 0.33435, acc = 0.88813\n"
     ]
    },
    {
     "name": "stderr",
     "output_type": "stream",
     "text": [
      "V: 139/300: 100%|████| 26/26 [00:01<00:00, 16.10it/s, v_loss=0.778, v_acc=0.784]\n"
     ]
    },
    {
     "name": "stdout",
     "output_type": "stream",
     "text": [
      "[ Valid | 139/300 ] loss = 0.77777, acc = 0.78402\n",
      "[ Valid | 139/300 ] loss = 0.77777, acc = 0.78402 -> best\n",
      "Best model found at fold 4 epoch 139, acc=0.78402, saving model\n"
     ]
    },
    {
     "name": "stderr",
     "output_type": "stream",
     "text": [
      "T: 140/300: 100%|█| 78/78 [00:07<00:00, 10.74it/s, lr=2.46e-6, b_loss=0.312, b_a\n"
     ]
    },
    {
     "name": "stdout",
     "output_type": "stream",
     "text": [
      "[ Train | 140/300 ] loss = 0.33287, acc = 0.88453\n"
     ]
    },
    {
     "name": "stderr",
     "output_type": "stream",
     "text": [
      "V: 140/300: 100%|████| 26/26 [00:01<00:00, 15.75it/s, v_loss=0.776, v_acc=0.781]\n"
     ]
    },
    {
     "name": "stdout",
     "output_type": "stream",
     "text": [
      "[ Valid | 140/300 ] loss = 0.77555, acc = 0.78100\n",
      "[ Valid | 140/300 ] loss = 0.77555, acc = 0.78100\n"
     ]
    },
    {
     "name": "stderr",
     "output_type": "stream",
     "text": [
      "T: 141/300: 100%|█| 78/78 [00:07<00:00, 10.84it/s, lr=0.0004, b_loss=0.613, b_ac\n"
     ]
    },
    {
     "name": "stdout",
     "output_type": "stream",
     "text": [
      "[ Train | 141/300 ] loss = 0.58080, acc = 0.79888\n"
     ]
    },
    {
     "name": "stderr",
     "output_type": "stream",
     "text": [
      "V: 141/300: 100%|█████| 26/26 [00:01<00:00, 16.51it/s, v_loss=1.66, v_acc=0.602]\n"
     ]
    },
    {
     "name": "stdout",
     "output_type": "stream",
     "text": [
      "[ Valid | 141/300 ] loss = 1.65950, acc = 0.60170\n",
      "[ Valid | 141/300 ] loss = 1.65950, acc = 0.60170\n"
     ]
    },
    {
     "name": "stderr",
     "output_type": "stream",
     "text": [
      "T: 142/300: 100%|█| 78/78 [00:07<00:00, 10.79it/s, lr=0.000398, b_loss=0.597, b_\n"
     ]
    },
    {
     "name": "stdout",
     "output_type": "stream",
     "text": [
      "[ Train | 142/300 ] loss = 0.59122, acc = 0.79423\n"
     ]
    },
    {
     "name": "stderr",
     "output_type": "stream",
     "text": [
      "V: 142/300: 100%|█████| 26/26 [00:01<00:00, 14.24it/s, v_loss=1.22, v_acc=0.671]\n"
     ]
    },
    {
     "name": "stdout",
     "output_type": "stream",
     "text": [
      "[ Valid | 142/300 ] loss = 1.21882, acc = 0.67125\n",
      "[ Valid | 142/300 ] loss = 1.21882, acc = 0.67125\n"
     ]
    },
    {
     "name": "stderr",
     "output_type": "stream",
     "text": [
      "T: 143/300: 100%|█| 78/78 [00:07<00:00, 10.84it/s, lr=0.00039, b_loss=0.594, b_a\n"
     ]
    },
    {
     "name": "stdout",
     "output_type": "stream",
     "text": [
      "[ Train | 143/300 ] loss = 0.55913, acc = 0.80466\n"
     ]
    },
    {
     "name": "stderr",
     "output_type": "stream",
     "text": [
      "V: 143/300: 100%|█████| 26/26 [00:01<00:00, 15.71it/s, v_loss=0.986, v_acc=0.71]\n"
     ]
    },
    {
     "name": "stdout",
     "output_type": "stream",
     "text": [
      "[ Valid | 143/300 ] loss = 0.98615, acc = 0.71020\n",
      "[ Valid | 143/300 ] loss = 0.98615, acc = 0.71020\n"
     ]
    },
    {
     "name": "stderr",
     "output_type": "stream",
     "text": [
      "T: 144/300: 100%|█| 78/78 [00:07<00:00, 10.86it/s, lr=0.000378, b_loss=0.491, b_\n"
     ]
    },
    {
     "name": "stdout",
     "output_type": "stream",
     "text": [
      "[ Train | 144/300 ] loss = 0.52589, acc = 0.81540\n"
     ]
    },
    {
     "name": "stderr",
     "output_type": "stream",
     "text": [
      "V: 144/300: 100%|█████| 26/26 [00:01<00:00, 15.01it/s, v_loss=1.35, v_acc=0.639]\n"
     ]
    },
    {
     "name": "stdout",
     "output_type": "stream",
     "text": [
      "[ Valid | 144/300 ] loss = 1.34957, acc = 0.63898\n",
      "[ Valid | 144/300 ] loss = 1.34957, acc = 0.63898\n"
     ]
    },
    {
     "name": "stderr",
     "output_type": "stream",
     "text": [
      "T: 145/300: 100%|█| 78/78 [00:07<00:00, 10.94it/s, lr=0.000362, b_loss=0.694, b_\n"
     ]
    },
    {
     "name": "stdout",
     "output_type": "stream",
     "text": [
      "[ Train | 145/300 ] loss = 0.53425, acc = 0.81467\n"
     ]
    },
    {
     "name": "stderr",
     "output_type": "stream",
     "text": [
      "V: 145/300: 100%|████| 26/26 [00:01<00:00, 14.95it/s, v_loss=0.992, v_acc=0.711]\n"
     ]
    },
    {
     "name": "stdout",
     "output_type": "stream",
     "text": [
      "[ Valid | 145/300 ] loss = 0.99236, acc = 0.71119\n",
      "[ Valid | 145/300 ] loss = 0.99236, acc = 0.71119\n"
     ]
    },
    {
     "name": "stderr",
     "output_type": "stream",
     "text": [
      "T: 146/300: 100%|█| 78/78 [00:07<00:00, 11.02it/s, lr=0.000341, b_loss=0.429, b_\n"
     ]
    },
    {
     "name": "stdout",
     "output_type": "stream",
     "text": [
      "[ Train | 146/300 ] loss = 0.49642, acc = 0.82562\n"
     ]
    },
    {
     "name": "stderr",
     "output_type": "stream",
     "text": [
      "V: 146/300: 100%|█████| 26/26 [00:01<00:00, 16.28it/s, v_loss=1.14, v_acc=0.704]\n"
     ]
    },
    {
     "name": "stdout",
     "output_type": "stream",
     "text": [
      "[ Valid | 146/300 ] loss = 1.14368, acc = 0.70385\n",
      "[ Valid | 146/300 ] loss = 1.14368, acc = 0.70385\n"
     ]
    },
    {
     "name": "stderr",
     "output_type": "stream",
     "text": [
      "T: 147/300: 100%|█| 78/78 [00:07<00:00, 10.79it/s, lr=0.000318, b_loss=0.501, b_\n"
     ]
    },
    {
     "name": "stdout",
     "output_type": "stream",
     "text": [
      "[ Train | 147/300 ] loss = 0.49208, acc = 0.82872\n"
     ]
    },
    {
     "name": "stderr",
     "output_type": "stream",
     "text": [
      "V: 147/300: 100%|█████| 26/26 [00:01<00:00, 14.30it/s, v_loss=1.06, v_acc=0.689]\n"
     ]
    },
    {
     "name": "stdout",
     "output_type": "stream",
     "text": [
      "[ Valid | 147/300 ] loss = 1.05640, acc = 0.68929\n",
      "[ Valid | 147/300 ] loss = 1.05640, acc = 0.68929\n"
     ]
    },
    {
     "name": "stderr",
     "output_type": "stream",
     "text": [
      "T: 148/300: 100%|█| 78/78 [00:07<00:00, 11.02it/s, lr=0.000291, b_loss=0.678, b_\n"
     ]
    },
    {
     "name": "stdout",
     "output_type": "stream",
     "text": [
      "[ Train | 148/300 ] loss = 0.46285, acc = 0.83699\n"
     ]
    },
    {
     "name": "stderr",
     "output_type": "stream",
     "text": [
      "V: 148/300: 100%|█████| 26/26 [00:01<00:00, 15.95it/s, v_loss=1.06, v_acc=0.705]\n"
     ]
    },
    {
     "name": "stdout",
     "output_type": "stream",
     "text": [
      "[ Valid | 148/300 ] loss = 1.06142, acc = 0.70528\n",
      "[ Valid | 148/300 ] loss = 1.06142, acc = 0.70528\n"
     ]
    },
    {
     "name": "stderr",
     "output_type": "stream",
     "text": [
      "T: 149/300: 100%|█| 78/78 [00:07<00:00, 10.67it/s, lr=0.000262, b_loss=0.497, b_\n"
     ]
    },
    {
     "name": "stdout",
     "output_type": "stream",
     "text": [
      "[ Train | 149/300 ] loss = 0.42771, acc = 0.85063\n"
     ]
    },
    {
     "name": "stderr",
     "output_type": "stream",
     "text": [
      "V: 149/300: 100%|█████| 26/26 [00:01<00:00, 15.73it/s, v_loss=1.35, v_acc=0.646]\n"
     ]
    },
    {
     "name": "stdout",
     "output_type": "stream",
     "text": [
      "[ Valid | 149/300 ] loss = 1.35393, acc = 0.64565\n",
      "[ Valid | 149/300 ] loss = 1.35393, acc = 0.64565\n"
     ]
    },
    {
     "name": "stderr",
     "output_type": "stream",
     "text": [
      "T: 150/300: 100%|█| 78/78 [00:07<00:00, 10.79it/s, lr=0.000231, b_loss=0.463, b_\n"
     ]
    },
    {
     "name": "stdout",
     "output_type": "stream",
     "text": [
      "[ Train | 150/300 ] loss = 0.43237, acc = 0.85198\n"
     ]
    },
    {
     "name": "stderr",
     "output_type": "stream",
     "text": [
      "V: 150/300: 100%|████| 26/26 [00:01<00:00, 14.10it/s, v_loss=0.882, v_acc=0.749]\n"
     ]
    },
    {
     "name": "stdout",
     "output_type": "stream",
     "text": [
      "[ Valid | 150/300 ] loss = 0.88179, acc = 0.74936\n",
      "[ Valid | 150/300 ] loss = 0.88179, acc = 0.74936\n"
     ]
    },
    {
     "name": "stderr",
     "output_type": "stream",
     "text": [
      "T: 151/300: 100%|█| 78/78 [00:07<00:00, 10.87it/s, lr=0.0002, b_loss=0.389, b_ac\n"
     ]
    },
    {
     "name": "stdout",
     "output_type": "stream",
     "text": [
      "[ Train | 151/300 ] loss = 0.40405, acc = 0.86033\n"
     ]
    },
    {
     "name": "stderr",
     "output_type": "stream",
     "text": [
      "V: 151/300: 100%|████| 26/26 [00:01<00:00, 15.60it/s, v_loss=0.806, v_acc=0.762]\n"
     ]
    },
    {
     "name": "stdout",
     "output_type": "stream",
     "text": [
      "[ Valid | 151/300 ] loss = 0.80637, acc = 0.76238\n",
      "[ Valid | 151/300 ] loss = 0.80637, acc = 0.76238\n"
     ]
    },
    {
     "name": "stderr",
     "output_type": "stream",
     "text": [
      "T: 152/300: 100%|█| 78/78 [00:07<00:00, 11.03it/s, lr=0.000169, b_loss=0.28, b_a\n"
     ]
    },
    {
     "name": "stdout",
     "output_type": "stream",
     "text": [
      "[ Train | 152/300 ] loss = 0.38072, acc = 0.86452\n"
     ]
    },
    {
     "name": "stderr",
     "output_type": "stream",
     "text": [
      "V: 152/300: 100%|████| 26/26 [00:01<00:00, 17.02it/s, v_loss=0.814, v_acc=0.763]\n"
     ]
    },
    {
     "name": "stdout",
     "output_type": "stream",
     "text": [
      "[ Valid | 152/300 ] loss = 0.81431, acc = 0.76264\n",
      "[ Valid | 152/300 ] loss = 0.81431, acc = 0.76264\n"
     ]
    },
    {
     "name": "stderr",
     "output_type": "stream",
     "text": [
      "T: 153/300: 100%|█| 78/78 [00:07<00:00, 10.89it/s, lr=0.000138, b_loss=0.364, b_\n"
     ]
    },
    {
     "name": "stdout",
     "output_type": "stream",
     "text": [
      "[ Train | 153/300 ] loss = 0.36337, acc = 0.87838\n"
     ]
    },
    {
     "name": "stderr",
     "output_type": "stream",
     "text": [
      "V: 153/300: 100%|████| 26/26 [00:01<00:00, 13.61it/s, v_loss=0.839, v_acc=0.759]\n"
     ]
    },
    {
     "name": "stdout",
     "output_type": "stream",
     "text": [
      "[ Valid | 153/300 ] loss = 0.83915, acc = 0.75900\n",
      "[ Valid | 153/300 ] loss = 0.83915, acc = 0.75900\n"
     ]
    },
    {
     "name": "stderr",
     "output_type": "stream",
     "text": [
      "T: 154/300: 100%|█| 78/78 [00:07<00:00, 10.86it/s, lr=0.000109, b_loss=0.31, b_a\n"
     ]
    },
    {
     "name": "stdout",
     "output_type": "stream",
     "text": [
      "[ Train | 154/300 ] loss = 0.33733, acc = 0.88412\n"
     ]
    },
    {
     "name": "stderr",
     "output_type": "stream",
     "text": [
      "V: 154/300: 100%|█████| 26/26 [00:01<00:00, 15.25it/s, v_loss=0.788, v_acc=0.78]\n"
     ]
    },
    {
     "name": "stdout",
     "output_type": "stream",
     "text": [
      "[ Valid | 154/300 ] loss = 0.78837, acc = 0.78004\n",
      "[ Valid | 154/300 ] loss = 0.78837, acc = 0.78004\n"
     ]
    },
    {
     "name": "stderr",
     "output_type": "stream",
     "text": [
      "T: 155/300: 100%|█| 78/78 [00:07<00:00, 10.84it/s, lr=8.24e-5, b_loss=0.329, b_a\n"
     ]
    },
    {
     "name": "stdout",
     "output_type": "stream",
     "text": [
      "[ Train | 155/300 ] loss = 0.32549, acc = 0.88610\n"
     ]
    },
    {
     "name": "stderr",
     "output_type": "stream",
     "text": [
      "V: 155/300: 100%|████| 26/26 [00:01<00:00, 14.73it/s, v_loss=0.757, v_acc=0.784]\n"
     ]
    },
    {
     "name": "stdout",
     "output_type": "stream",
     "text": [
      "[ Valid | 155/300 ] loss = 0.75662, acc = 0.78394\n",
      "[ Valid | 155/300 ] loss = 0.75662, acc = 0.78394\n"
     ]
    },
    {
     "name": "stderr",
     "output_type": "stream",
     "text": [
      "T: 156/300: 100%|█| 78/78 [00:07<00:00, 10.90it/s, lr=5.86e-5, b_loss=0.196, b_a\n"
     ]
    },
    {
     "name": "stdout",
     "output_type": "stream",
     "text": [
      "[ Train | 156/300 ] loss = 0.30887, acc = 0.89466\n"
     ]
    },
    {
     "name": "stderr",
     "output_type": "stream",
     "text": [
      "V: 156/300: 100%|████| 26/26 [00:01<00:00, 14.96it/s, v_loss=0.767, v_acc=0.785]\n"
     ]
    },
    {
     "name": "stdout",
     "output_type": "stream",
     "text": [
      "[ Valid | 156/300 ] loss = 0.76679, acc = 0.78459\n",
      "[ Valid | 156/300 ] loss = 0.76679, acc = 0.78459 -> best\n",
      "Best model found at fold 4 epoch 156, acc=0.78459, saving model\n"
     ]
    },
    {
     "name": "stderr",
     "output_type": "stream",
     "text": [
      "T: 157/300: 100%|█| 78/78 [00:06<00:00, 11.18it/s, lr=3.82e-5, b_loss=0.315, b_a\n"
     ]
    },
    {
     "name": "stdout",
     "output_type": "stream",
     "text": [
      "[ Train | 157/300 ] loss = 0.30127, acc = 0.89591\n"
     ]
    },
    {
     "name": "stderr",
     "output_type": "stream",
     "text": [
      "V: 157/300: 100%|████| 26/26 [00:01<00:00, 15.26it/s, v_loss=0.773, v_acc=0.789]\n"
     ]
    },
    {
     "name": "stdout",
     "output_type": "stream",
     "text": [
      "[ Valid | 157/300 ] loss = 0.77301, acc = 0.78940\n",
      "[ Valid | 157/300 ] loss = 0.77301, acc = 0.78940 -> best\n",
      "Best model found at fold 4 epoch 157, acc=0.78940, saving model\n"
     ]
    },
    {
     "name": "stderr",
     "output_type": "stream",
     "text": [
      "T: 158/300: 100%|█| 78/78 [00:07<00:00, 10.97it/s, lr=2.18e-5, b_loss=0.214, b_a\n"
     ]
    },
    {
     "name": "stdout",
     "output_type": "stream",
     "text": [
      "[ Train | 158/300 ] loss = 0.28381, acc = 0.90649\n"
     ]
    },
    {
     "name": "stderr",
     "output_type": "stream",
     "text": [
      "V: 158/300: 100%|█████| 26/26 [00:01<00:00, 15.95it/s, v_loss=0.77, v_acc=0.793]\n"
     ]
    },
    {
     "name": "stdout",
     "output_type": "stream",
     "text": [
      "[ Valid | 158/300 ] loss = 0.76996, acc = 0.79264\n",
      "[ Valid | 158/300 ] loss = 0.76996, acc = 0.79264 -> best\n",
      "Best model found at fold 4 epoch 158, acc=0.79264, saving model\n"
     ]
    },
    {
     "name": "stderr",
     "output_type": "stream",
     "text": [
      "T: 159/300: 100%|█| 78/78 [00:07<00:00, 10.71it/s, lr=9.79e-6, b_loss=0.189, b_a\n"
     ]
    },
    {
     "name": "stdout",
     "output_type": "stream",
     "text": [
      "[ Train | 159/300 ] loss = 0.27890, acc = 0.90357\n"
     ]
    },
    {
     "name": "stderr",
     "output_type": "stream",
     "text": [
      "V: 159/300: 100%|████| 26/26 [00:01<00:00, 15.04it/s, v_loss=0.763, v_acc=0.793]\n"
     ]
    },
    {
     "name": "stdout",
     "output_type": "stream",
     "text": [
      "[ Valid | 159/300 ] loss = 0.76340, acc = 0.79304\n",
      "[ Valid | 159/300 ] loss = 0.76340, acc = 0.79304 -> best\n",
      "Best model found at fold 4 epoch 159, acc=0.79304, saving model\n"
     ]
    },
    {
     "name": "stderr",
     "output_type": "stream",
     "text": [
      "T: 160/300: 100%|█| 78/78 [00:07<00:00, 11.01it/s, lr=2.46e-6, b_loss=0.212, b_a\n"
     ]
    },
    {
     "name": "stdout",
     "output_type": "stream",
     "text": [
      "[ Train | 160/300 ] loss = 0.27474, acc = 0.90509\n"
     ]
    },
    {
     "name": "stderr",
     "output_type": "stream",
     "text": [
      "V: 160/300: 100%|████| 26/26 [00:01<00:00, 14.59it/s, v_loss=0.768, v_acc=0.792]\n"
     ]
    },
    {
     "name": "stdout",
     "output_type": "stream",
     "text": [
      "[ Valid | 160/300 ] loss = 0.76826, acc = 0.79186\n",
      "[ Valid | 160/300 ] loss = 0.76826, acc = 0.79186\n"
     ]
    },
    {
     "name": "stderr",
     "output_type": "stream",
     "text": [
      "T: 161/300: 100%|█| 78/78 [00:07<00:00, 10.90it/s, lr=0.0004, b_loss=0.468, b_ac\n"
     ]
    },
    {
     "name": "stdout",
     "output_type": "stream",
     "text": [
      "[ Train | 161/300 ] loss = 0.49633, acc = 0.82634\n"
     ]
    },
    {
     "name": "stderr",
     "output_type": "stream",
     "text": [
      "V: 161/300: 100%|█████| 26/26 [00:01<00:00, 16.12it/s, v_loss=1.02, v_acc=0.705]\n"
     ]
    },
    {
     "name": "stdout",
     "output_type": "stream",
     "text": [
      "[ Valid | 161/300 ] loss = 1.02480, acc = 0.70488\n",
      "[ Valid | 161/300 ] loss = 1.02480, acc = 0.70488\n"
     ]
    },
    {
     "name": "stderr",
     "output_type": "stream",
     "text": [
      "T: 162/300: 100%|█| 78/78 [00:07<00:00, 10.63it/s, lr=0.000398, b_loss=0.437, b_\n"
     ]
    },
    {
     "name": "stdout",
     "output_type": "stream",
     "text": [
      "[ Train | 162/300 ] loss = 0.54872, acc = 0.80871\n"
     ]
    },
    {
     "name": "stderr",
     "output_type": "stream",
     "text": [
      "V: 162/300: 100%|█████| 26/26 [00:01<00:00, 14.43it/s, v_loss=1.01, v_acc=0.715]\n"
     ]
    },
    {
     "name": "stdout",
     "output_type": "stream",
     "text": [
      "[ Valid | 162/300 ] loss = 1.00938, acc = 0.71539\n",
      "[ Valid | 162/300 ] loss = 1.00938, acc = 0.71539\n"
     ]
    },
    {
     "name": "stderr",
     "output_type": "stream",
     "text": [
      "T: 163/300: 100%|█| 78/78 [00:07<00:00, 10.98it/s, lr=0.00039, b_loss=0.589, b_a\n"
     ]
    },
    {
     "name": "stdout",
     "output_type": "stream",
     "text": [
      "[ Train | 163/300 ] loss = 0.50446, acc = 0.82266\n"
     ]
    },
    {
     "name": "stderr",
     "output_type": "stream",
     "text": [
      "V: 163/300: 100%|████| 26/26 [00:01<00:00, 14.50it/s, v_loss=0.933, v_acc=0.728]\n"
     ]
    },
    {
     "name": "stdout",
     "output_type": "stream",
     "text": [
      "[ Valid | 163/300 ] loss = 0.93299, acc = 0.72806\n",
      "[ Valid | 163/300 ] loss = 0.93299, acc = 0.72806\n"
     ]
    },
    {
     "name": "stderr",
     "output_type": "stream",
     "text": [
      "T: 164/300: 100%|█| 78/78 [00:07<00:00, 10.97it/s, lr=0.000378, b_loss=0.436, b_\n"
     ]
    },
    {
     "name": "stdout",
     "output_type": "stream",
     "text": [
      "[ Train | 164/300 ] loss = 0.50351, acc = 0.82372\n"
     ]
    },
    {
     "name": "stderr",
     "output_type": "stream",
     "text": [
      "V: 164/300: 100%|█████| 26/26 [00:01<00:00, 14.48it/s, v_loss=1.07, v_acc=0.695]\n"
     ]
    },
    {
     "name": "stdout",
     "output_type": "stream",
     "text": [
      "[ Valid | 164/300 ] loss = 1.06665, acc = 0.69463\n",
      "[ Valid | 164/300 ] loss = 1.06665, acc = 0.69463\n"
     ]
    },
    {
     "name": "stderr",
     "output_type": "stream",
     "text": [
      "T: 165/300: 100%|█| 78/78 [00:07<00:00, 10.71it/s, lr=0.000362, b_loss=0.482, b_\n"
     ]
    },
    {
     "name": "stdout",
     "output_type": "stream",
     "text": [
      "[ Train | 165/300 ] loss = 0.45810, acc = 0.84156\n"
     ]
    },
    {
     "name": "stderr",
     "output_type": "stream",
     "text": [
      "V: 165/300: 100%|█████| 26/26 [00:01<00:00, 14.85it/s, v_loss=1.05, v_acc=0.714]\n"
     ]
    },
    {
     "name": "stdout",
     "output_type": "stream",
     "text": [
      "[ Valid | 165/300 ] loss = 1.04811, acc = 0.71446\n",
      "[ Valid | 165/300 ] loss = 1.04811, acc = 0.71446\n"
     ]
    },
    {
     "name": "stderr",
     "output_type": "stream",
     "text": [
      "T: 166/300: 100%|█| 78/78 [00:07<00:00, 10.84it/s, lr=0.000341, b_loss=0.525, b_\n"
     ]
    },
    {
     "name": "stdout",
     "output_type": "stream",
     "text": [
      "[ Train | 166/300 ] loss = 0.45642, acc = 0.84237\n"
     ]
    },
    {
     "name": "stderr",
     "output_type": "stream",
     "text": [
      "V: 166/300: 100%|████| 26/26 [00:01<00:00, 15.77it/s, v_loss=0.904, v_acc=0.732]\n"
     ]
    },
    {
     "name": "stdout",
     "output_type": "stream",
     "text": [
      "[ Valid | 166/300 ] loss = 0.90423, acc = 0.73162\n",
      "[ Valid | 166/300 ] loss = 0.90423, acc = 0.73162\n"
     ]
    },
    {
     "name": "stderr",
     "output_type": "stream",
     "text": [
      "T: 167/300: 100%|█| 78/78 [00:07<00:00, 10.89it/s, lr=0.000318, b_loss=0.416, b_\n"
     ]
    },
    {
     "name": "stdout",
     "output_type": "stream",
     "text": [
      "[ Train | 167/300 ] loss = 0.43423, acc = 0.84427\n"
     ]
    },
    {
     "name": "stderr",
     "output_type": "stream",
     "text": [
      "V: 167/300: 100%|████| 26/26 [00:01<00:00, 15.64it/s, v_loss=0.947, v_acc=0.733]\n"
     ]
    },
    {
     "name": "stdout",
     "output_type": "stream",
     "text": [
      "[ Valid | 167/300 ] loss = 0.94737, acc = 0.73346\n",
      "[ Valid | 167/300 ] loss = 0.94737, acc = 0.73346\n"
     ]
    },
    {
     "name": "stderr",
     "output_type": "stream",
     "text": [
      "T: 168/300: 100%|█| 78/78 [00:07<00:00, 10.95it/s, lr=0.000291, b_loss=0.418, b_\n"
     ]
    },
    {
     "name": "stdout",
     "output_type": "stream",
     "text": [
      "[ Train | 168/300 ] loss = 0.40112, acc = 0.85881\n"
     ]
    },
    {
     "name": "stderr",
     "output_type": "stream",
     "text": [
      "V: 168/300: 100%|████████| 26/26 [00:01<00:00, 13.94it/s, v_loss=1, v_acc=0.728]\n"
     ]
    },
    {
     "name": "stdout",
     "output_type": "stream",
     "text": [
      "[ Valid | 168/300 ] loss = 1.00087, acc = 0.72807\n",
      "[ Valid | 168/300 ] loss = 1.00087, acc = 0.72807\n"
     ]
    },
    {
     "name": "stderr",
     "output_type": "stream",
     "text": [
      "T: 169/300: 100%|█| 78/78 [00:07<00:00, 10.69it/s, lr=0.000262, b_loss=0.423, b_\n"
     ]
    },
    {
     "name": "stdout",
     "output_type": "stream",
     "text": [
      "[ Train | 169/300 ] loss = 0.39351, acc = 0.86218\n"
     ]
    },
    {
     "name": "stderr",
     "output_type": "stream",
     "text": [
      "V: 169/300: 100%|████| 26/26 [00:01<00:00, 13.30it/s, v_loss=0.915, v_acc=0.754]\n"
     ]
    },
    {
     "name": "stdout",
     "output_type": "stream",
     "text": [
      "[ Valid | 169/300 ] loss = 0.91527, acc = 0.75427\n",
      "[ Valid | 169/300 ] loss = 0.91527, acc = 0.75427\n"
     ]
    },
    {
     "name": "stderr",
     "output_type": "stream",
     "text": [
      "T: 170/300: 100%|█| 78/78 [00:07<00:00, 10.93it/s, lr=0.000231, b_loss=0.444, b_\n"
     ]
    },
    {
     "name": "stdout",
     "output_type": "stream",
     "text": [
      "[ Train | 170/300 ] loss = 0.36191, acc = 0.87661\n"
     ]
    },
    {
     "name": "stderr",
     "output_type": "stream",
     "text": [
      "V: 170/300: 100%|████| 26/26 [00:01<00:00, 15.15it/s, v_loss=0.888, v_acc=0.759]\n"
     ]
    },
    {
     "name": "stdout",
     "output_type": "stream",
     "text": [
      "[ Valid | 170/300 ] loss = 0.88756, acc = 0.75907\n",
      "[ Valid | 170/300 ] loss = 0.88756, acc = 0.75907\n"
     ]
    },
    {
     "name": "stderr",
     "output_type": "stream",
     "text": [
      "T: 171/300: 100%|█| 78/78 [00:07<00:00, 11.06it/s, lr=0.0002, b_loss=0.364, b_ac\n"
     ]
    },
    {
     "name": "stdout",
     "output_type": "stream",
     "text": [
      "[ Train | 171/300 ] loss = 0.34735, acc = 0.87950\n"
     ]
    },
    {
     "name": "stderr",
     "output_type": "stream",
     "text": [
      "V: 171/300: 100%|█████| 26/26 [00:01<00:00, 16.22it/s, v_loss=0.87, v_acc=0.756]\n"
     ]
    },
    {
     "name": "stdout",
     "output_type": "stream",
     "text": [
      "[ Valid | 171/300 ] loss = 0.87021, acc = 0.75631\n",
      "[ Valid | 171/300 ] loss = 0.87021, acc = 0.75631\n"
     ]
    },
    {
     "name": "stderr",
     "output_type": "stream",
     "text": [
      "T: 172/300: 100%|█| 78/78 [00:07<00:00, 11.14it/s, lr=0.000169, b_loss=0.34, b_a\n"
     ]
    },
    {
     "name": "stdout",
     "output_type": "stream",
     "text": [
      "[ Train | 172/300 ] loss = 0.33415, acc = 0.88421\n"
     ]
    },
    {
     "name": "stderr",
     "output_type": "stream",
     "text": [
      "V: 172/300: 100%|████| 26/26 [00:01<00:00, 15.26it/s, v_loss=0.859, v_acc=0.759]\n"
     ]
    },
    {
     "name": "stdout",
     "output_type": "stream",
     "text": [
      "[ Valid | 172/300 ] loss = 0.85947, acc = 0.75898\n",
      "[ Valid | 172/300 ] loss = 0.85947, acc = 0.75898\n"
     ]
    },
    {
     "name": "stderr",
     "output_type": "stream",
     "text": [
      "T: 173/300: 100%|█| 78/78 [00:07<00:00, 10.72it/s, lr=0.000138, b_loss=0.355, b_\n"
     ]
    },
    {
     "name": "stdout",
     "output_type": "stream",
     "text": [
      "[ Train | 173/300 ] loss = 0.31466, acc = 0.89060\n"
     ]
    },
    {
     "name": "stderr",
     "output_type": "stream",
     "text": [
      "V: 173/300: 100%|████| 26/26 [00:01<00:00, 14.09it/s, v_loss=0.851, v_acc=0.769]\n"
     ]
    },
    {
     "name": "stdout",
     "output_type": "stream",
     "text": [
      "[ Valid | 173/300 ] loss = 0.85069, acc = 0.76886\n",
      "[ Valid | 173/300 ] loss = 0.85069, acc = 0.76886\n"
     ]
    },
    {
     "name": "stderr",
     "output_type": "stream",
     "text": [
      "T: 174/300: 100%|█| 78/78 [00:07<00:00, 11.06it/s, lr=0.000109, b_loss=0.279, b_\n"
     ]
    },
    {
     "name": "stdout",
     "output_type": "stream",
     "text": [
      "[ Train | 174/300 ] loss = 0.28247, acc = 0.90302\n"
     ]
    },
    {
     "name": "stderr",
     "output_type": "stream",
     "text": [
      "V: 174/300: 100%|█████| 26/26 [00:01<00:00, 15.59it/s, v_loss=0.86, v_acc=0.772]\n"
     ]
    },
    {
     "name": "stdout",
     "output_type": "stream",
     "text": [
      "[ Valid | 174/300 ] loss = 0.85985, acc = 0.77230\n",
      "[ Valid | 174/300 ] loss = 0.85985, acc = 0.77230\n"
     ]
    },
    {
     "name": "stderr",
     "output_type": "stream",
     "text": [
      "T: 175/300: 100%|█| 78/78 [00:07<00:00, 10.82it/s, lr=8.24e-5, b_loss=0.184, b_a\n"
     ]
    },
    {
     "name": "stdout",
     "output_type": "stream",
     "text": [
      "[ Train | 175/300 ] loss = 0.27887, acc = 0.90389\n"
     ]
    },
    {
     "name": "stderr",
     "output_type": "stream",
     "text": [
      "V: 175/300: 100%|████| 26/26 [00:01<00:00, 13.86it/s, v_loss=0.815, v_acc=0.779]\n"
     ]
    },
    {
     "name": "stdout",
     "output_type": "stream",
     "text": [
      "[ Valid | 175/300 ] loss = 0.81533, acc = 0.77863\n",
      "[ Valid | 175/300 ] loss = 0.81533, acc = 0.77863\n"
     ]
    },
    {
     "name": "stderr",
     "output_type": "stream",
     "text": [
      "T: 176/300: 100%|█| 78/78 [00:07<00:00, 11.13it/s, lr=5.86e-5, b_loss=0.209, b_a\n"
     ]
    },
    {
     "name": "stdout",
     "output_type": "stream",
     "text": [
      "[ Train | 176/300 ] loss = 0.25883, acc = 0.91138\n"
     ]
    },
    {
     "name": "stderr",
     "output_type": "stream",
     "text": [
      "V: 176/300: 100%|████| 26/26 [00:01<00:00, 15.55it/s, v_loss=0.845, v_acc=0.773]\n"
     ]
    },
    {
     "name": "stdout",
     "output_type": "stream",
     "text": [
      "[ Valid | 176/300 ] loss = 0.84503, acc = 0.77314\n",
      "[ Valid | 176/300 ] loss = 0.84503, acc = 0.77314\n"
     ]
    },
    {
     "name": "stderr",
     "output_type": "stream",
     "text": [
      "T: 177/300: 100%|█| 78/78 [00:07<00:00, 10.89it/s, lr=3.82e-5, b_loss=0.231, b_a\n"
     ]
    },
    {
     "name": "stdout",
     "output_type": "stream",
     "text": [
      "[ Train | 177/300 ] loss = 0.24606, acc = 0.91814\n"
     ]
    },
    {
     "name": "stderr",
     "output_type": "stream",
     "text": [
      "V: 177/300: 100%|████| 26/26 [00:01<00:00, 14.62it/s, v_loss=0.819, v_acc=0.785]\n"
     ]
    },
    {
     "name": "stdout",
     "output_type": "stream",
     "text": [
      "[ Valid | 177/300 ] loss = 0.81904, acc = 0.78484\n",
      "[ Valid | 177/300 ] loss = 0.81904, acc = 0.78484\n"
     ]
    },
    {
     "name": "stderr",
     "output_type": "stream",
     "text": [
      "T: 178/300: 100%|█| 78/78 [00:07<00:00, 10.80it/s, lr=2.18e-5, b_loss=0.26, b_ac\n"
     ]
    },
    {
     "name": "stdout",
     "output_type": "stream",
     "text": [
      "[ Train | 178/300 ] loss = 0.24581, acc = 0.91665\n"
     ]
    },
    {
     "name": "stderr",
     "output_type": "stream",
     "text": [
      "V: 178/300: 100%|████| 26/26 [00:01<00:00, 13.68it/s, v_loss=0.822, v_acc=0.782]\n"
     ]
    },
    {
     "name": "stdout",
     "output_type": "stream",
     "text": [
      "[ Valid | 178/300 ] loss = 0.82199, acc = 0.78248\n",
      "[ Valid | 178/300 ] loss = 0.82199, acc = 0.78248\n"
     ]
    },
    {
     "name": "stderr",
     "output_type": "stream",
     "text": [
      "T: 179/300: 100%|█| 78/78 [00:07<00:00, 10.91it/s, lr=9.79e-6, b_loss=0.337, b_a\n"
     ]
    },
    {
     "name": "stdout",
     "output_type": "stream",
     "text": [
      "[ Train | 179/300 ] loss = 0.22953, acc = 0.92164\n"
     ]
    },
    {
     "name": "stderr",
     "output_type": "stream",
     "text": [
      "V: 179/300: 100%|████| 26/26 [00:01<00:00, 15.47it/s, v_loss=0.814, v_acc=0.785]\n"
     ]
    },
    {
     "name": "stdout",
     "output_type": "stream",
     "text": [
      "[ Valid | 179/300 ] loss = 0.81366, acc = 0.78516\n",
      "[ Valid | 179/300 ] loss = 0.81366, acc = 0.78516\n"
     ]
    },
    {
     "name": "stderr",
     "output_type": "stream",
     "text": [
      "T: 180/300: 100%|█| 78/78 [00:07<00:00, 10.61it/s, lr=2.46e-6, b_loss=0.293, b_a\n"
     ]
    },
    {
     "name": "stdout",
     "output_type": "stream",
     "text": [
      "[ Train | 180/300 ] loss = 0.22450, acc = 0.92323\n"
     ]
    },
    {
     "name": "stderr",
     "output_type": "stream",
     "text": [
      "V: 180/300: 100%|████| 26/26 [00:01<00:00, 15.09it/s, v_loss=0.837, v_acc=0.782]"
     ]
    },
    {
     "name": "stdout",
     "output_type": "stream",
     "text": [
      "[ Valid | 180/300 ] loss = 0.83661, acc = 0.78247\n",
      "[ Valid | 180/300 ] loss = 0.83661, acc = 0.78247\n",
      "No improvment 20 consecutive epochs, early stopping\n"
     ]
    },
    {
     "name": "stderr",
     "output_type": "stream",
     "text": [
      "\n"
     ]
    }
   ],
   "source": [
    "# \"cuda\" only when GPUs are available.\n",
    "device = \"cuda\" if torch.cuda.is_available() else \"cpu\"\n",
    "print(device)\n",
    "\n",
    "test_fold = k_fold\n",
    "\n",
    "for i in range(test_fold):\n",
    "    fold = i+1\n",
    "    print(f'\\n\\nStarting Fold: {fold} ********************************************')\n",
    "    model = Classifier(Residual_Block, num_layers).to(device)\n",
    "    print(next(model.parameters()).device)\n",
    "    criterion = nn.CrossEntropyLoss()\n",
    "    optimizer = torch.optim.Adam(model.parameters(), lr=0.0004, weight_decay=1e-5) \n",
    "    scheduler = torch.optim.lr_scheduler.CosineAnnealingWarmRestarts(optimizer, T_0=20, T_mult=1)\n",
    "    stale = 0\n",
    "    best_acc = 0\n",
    "    \n",
    "    val_data = total_files[i*num: (i+1)*num]\n",
    "    train_data = total_files[:i*num] + total_files[(i+1)*num:]\n",
    "    \n",
    "    train_set = FoodDataset(tfm=train_tfm, files=train_data)\n",
    "    train_loader = DataLoader(train_set, batch_size=batch_size, shuffle=True, num_workers=num_cpu, pin_memory=True)\n",
    "    \n",
    "    valid_set = FoodDataset(tfm=test_tfm, files=val_data)\n",
    "    valid_loader = DataLoader(valid_set, batch_size=batch_size, shuffle=True, num_workers=num_cpu, pin_memory=True)\n",
    "    \n",
    "    for epoch in range(n_epochs):\n",
    "    \n",
    "        # ---------- Training ----------\n",
    "        # Make sure the model is in train mode before training.\n",
    "        model.train()\n",
    "    \n",
    "        # These are used to record information in training.\n",
    "        train_loss = []\n",
    "        train_accs = []\n",
    "        lr = optimizer.param_groups[0][\"lr\"]\n",
    "        \n",
    "        pbar = tqdm(train_loader)\n",
    "        pbar.set_description(f'T: {epoch+1:03d}/{n_epochs:03d}')\n",
    "        for batch in pbar:\n",
    "    \n",
    "            # A batch consists of image data and corresponding labels.\n",
    "            imgs, labels = batch\n",
    "            #imgs = imgs.half()\n",
    "            #print(imgs.shape,labels.shape)\n",
    "    \n",
    "            # Forward the data. (Make sure data and model are on the same device.)\n",
    "            logits = model(imgs.to(device))\n",
    "    \n",
    "            # Calculate the cross-entropy loss.\n",
    "            # We don't need to apply softmax before computing cross-entropy as it is done automatically.\n",
    "            loss = criterion(logits, labels.to(device))\n",
    "    \n",
    "            # Gradients stored in the parameters in the previous step should be cleared out first.\n",
    "            optimizer.zero_grad()\n",
    "    \n",
    "            # Compute the gradients for parameters.\n",
    "            loss.backward()\n",
    "    \n",
    "            # Clip the gradient norms for stable training.\n",
    "            grad_norm = nn.utils.clip_grad_norm_(model.parameters(), max_norm=10)\n",
    "    \n",
    "            # Update the parameters with computed gradients.\n",
    "            optimizer.step()\n",
    "    \n",
    "            # Compute the accuracy for current batch.\n",
    "            acc = (logits.argmax(dim=-1) == labels.to(device)).float().mean()\n",
    "    \n",
    "            # Record the loss and accuracy.\n",
    "            train_loss.append(loss.item())\n",
    "            train_accs.append(acc)\n",
    "            pbar.set_postfix({'lr':lr, 'b_loss':loss.item(), 'b_acc':acc.item(),\n",
    "                    'loss':sum(train_loss)/len(train_loss), 'acc': sum(train_accs).item()/len(train_accs)})\n",
    "            \n",
    "        train_loss = sum(train_loss) / len(train_loss)\n",
    "        train_acc = sum(train_accs) / len(train_accs)\n",
    "        # Print the information.\n",
    "        print(f\"[ Train | {epoch + 1:03d}/{n_epochs:03d} ] loss = {train_loss:.5f}, acc = {train_acc:.5f}\")\n",
    "        scheduler.step()\n",
    "        \n",
    "        \n",
    "        # Make sure the model is in eval mode so that some modules like dropout are disabled and work normally.\n",
    "        model.eval()\n",
    "    \n",
    "        # These are used to record information in validation.\n",
    "        valid_loss = []\n",
    "        valid_accs = []\n",
    "    \n",
    "        # Iterate the validation set by batches.\n",
    "        pbar = tqdm(valid_loader)\n",
    "        pbar.set_description(f'V: {epoch+1:03d}/{n_epochs:03d}')\n",
    "        for batch in pbar:\n",
    "\n",
    "            # A batch consists of image data and corresponding labels.\n",
    "            imgs, labels = batch\n",
    "            #imgs = imgs.half()\n",
    "    \n",
    "            # We don't need gradient in validation.\n",
    "            # Using torch.no_grad() accelerates the forward process.\n",
    "            with torch.no_grad():\n",
    "                logits = model(imgs.to(device))\n",
    "    \n",
    "            # We can still compute the loss (but not the gradient).\n",
    "            loss = criterion(logits, labels.to(device))\n",
    "    \n",
    "            # Compute the accuracy for current batch.\n",
    "            acc = (logits.argmax(dim=-1) == labels.to(device)).float().mean()\n",
    "    \n",
    "            # Record the loss and accuracy.\n",
    "            valid_loss.append(loss.item())\n",
    "            valid_accs.append(acc)\n",
    "            pbar.set_postfix({'v_loss':sum(valid_loss)/len(valid_loss), \n",
    "                              'v_acc': sum(valid_accs).item()/len(valid_accs)})\n",
    "        \n",
    "            #break\n",
    "    \n",
    "        # The average loss and accuracy for entire validation set is the average of the recorded values.\n",
    "        valid_loss = sum(valid_loss) / len(valid_loss)\n",
    "        valid_acc = sum(valid_accs) / len(valid_accs)\n",
    "\n",
    "        # Print the information.\n",
    "        print(f\"[ Valid | {epoch + 1:03d}/{n_epochs:03d} ] loss = {valid_loss:.5f}, acc = {valid_acc:.5f}\")\n",
    "\n",
    "        # update logs\n",
    "        if valid_acc > best_acc:\n",
    "            with open(f\"{_exp_name}_fold_{fold}_log.txt\",\"a\") as f:\n",
    "                newline = '\\n'\n",
    "                item = f\"[ Valid | {epoch + 1:03d}/{n_epochs:03d} ] loss = {valid_loss:.5f}, acc = {valid_acc:.5f} -> best{newline}\"\n",
    "                f.write(item)\n",
    "                print(f\"[ Valid | {epoch + 1:03d}/{n_epochs:03d} ] loss = {valid_loss:.5f}, acc = {valid_acc:.5f} -> best\")\n",
    "        else:\n",
    "            with open(f\"{_exp_name}_fold_{fold}_log.txt\",\"a\") as f:\n",
    "                newline = '\\n'\n",
    "                item = f\"[ Valid | {epoch + 1:03d}/{n_epochs:03d} ] loss = {valid_loss:.5f}, acc = {valid_acc:.5f}{newline}\"\n",
    "                f.write(item)\n",
    "                print(f\"[ Valid | {epoch + 1:03d}/{n_epochs:03d} ] loss = {valid_loss:.5f}, acc = {valid_acc:.5f}\")\n",
    "    \n",
    "        # save models\n",
    "        if valid_acc > best_acc:\n",
    "            print(f\"Best model found at fold {fold} epoch {epoch+1}, acc={valid_acc:.5f}, saving model\")\n",
    "            torch.save(model.state_dict(), f\"Fold_{fold}_best.ckpt\")\n",
    "            # only save best to prevent output memory exceed error\n",
    "            best_acc = valid_acc\n",
    "            stale = 0\n",
    "        else:\n",
    "            stale += 1\n",
    "            if stale > patience:\n",
    "                print(f\"No improvment {patience} consecutive epochs, early stopping\")\n",
    "                break"
   ]
  },
  {
   "cell_type": "code",
   "execution_count": 41,
   "metadata": {
    "colab": {
     "base_uri": "https://localhost:8080/"
    },
    "executionInfo": {
     "elapsed": 16,
     "status": "ok",
     "timestamp": 1681160711111,
     "user": {
      "displayName": "Nick Wu",
      "userId": "10283763741837486654"
     },
     "user_tz": -480
    },
    "id": "B9QNdHIXVaVP",
    "outputId": "0d0024e1-07b4-498f-9a3b-ea1815319f95",
    "papermill": {
     "duration": 0.493644,
     "end_time": "2022-02-23T19:10:19.985992",
     "exception": false,
     "start_time": "2022-02-23T19:10:19.492348",
     "status": "completed"
    },
    "tags": []
   },
   "outputs": [],
   "source": [
    "test_dir = \"./food-11/test\"\n",
    "test_set = FoodDataset(test_dir, tfm=test_tfm)\n",
    "test_loader = DataLoader(test_set, batch_size=batch_size, shuffle=False, num_workers=num_cpu, pin_memory=True)"
   ]
  },
  {
   "cell_type": "markdown",
   "metadata": {
    "id": "G31uyjpvVaVP",
    "papermill": {
     "duration": 0.498773,
     "end_time": "2022-02-23T19:10:20.961802",
     "exception": false,
     "start_time": "2022-02-23T19:10:20.463029",
     "status": "completed"
    },
    "tags": []
   },
   "source": [
    "# Testing and generate prediction CSV"
   ]
  },
  {
   "cell_type": "code",
   "execution_count": 42,
   "metadata": {
    "colab": {
     "base_uri": "https://localhost:8080/"
    },
    "executionInfo": {
     "elapsed": 6246,
     "status": "ok",
     "timestamp": 1681160717352,
     "user": {
      "displayName": "Nick Wu",
      "userId": "10283763741837486654"
     },
     "user_tz": -480
    },
    "id": "bpLtxx5FVaVP",
    "outputId": "bf66ac1c-27e3-4097-ac23-457dc0b7ba36",
    "papermill": {
     "duration": 49.157727,
     "end_time": "2022-02-23T19:11:10.61523",
     "exception": false,
     "start_time": "2022-02-23T19:10:21.457503",
     "status": "completed"
    },
    "tags": []
   },
   "outputs": [],
   "source": [
    "models = []\n",
    "for i in range(test_fold):\n",
    "    fold = i + 1\n",
    "    model_best = Classifier(Residual_Block, num_layers).to(device)\n",
    "    model_best.load_state_dict(torch.load(f\"Fold_{fold}_best.ckpt\"))\n",
    "    model_best.eval()\n",
    "    models.append(model_best)\n",
    "\n",
    "prediction = []            \n",
    "with torch.no_grad():\n",
    "    for data,_ in test_loader:\n",
    "        test_preds = [] \n",
    "        for model_best in models:\n",
    "            test_preds.append(model_best(data.to(device)).cpu().data.numpy())\n",
    "        test_preds = sum(test_preds)\n",
    "        test_label = np.argmax(test_preds, axis=1)\n",
    "        prediction += test_label.squeeze().tolist()"
   ]
  },
  {
   "cell_type": "code",
   "execution_count": 43,
   "metadata": {
    "id": "fKupB3VUVaVQ",
    "papermill": {
     "duration": 0.554276,
     "end_time": "2022-02-23T19:11:11.870035",
     "exception": false,
     "start_time": "2022-02-23T19:11:11.315759",
     "status": "completed"
    },
    "tags": []
   },
   "outputs": [],
   "source": [
    "#create test csv\n",
    "def pad4(i):\n",
    "    return \"0\"*(4-len(str(i)))+str(i)\n",
    "df = pd.DataFrame()\n",
    "df[\"Id\"] = [pad4(i) for i in range(1,len(test_set)+1)]\n",
    "df[\"Category\"] = prediction\n",
    "df.to_csv(\"prediction_CNN3.csv\",index = False)"
   ]
  }
 ],
 "metadata": {
  "accelerator": "GPU",
  "colab": {
   "machine_shape": "hm",
   "provenance": [
    {
     "file_id": "15hMu9YiYjE_6HY99UXon2vKGk2KwugWu",
     "timestamp": 1681142933591
    }
   ]
  },
  "gpuClass": "premium",
  "kernelspec": {
   "display_name": "Python 3 (ipykernel)",
   "language": "python",
   "name": "python3"
  },
  "language_info": {
   "codemirror_mode": {
    "name": "ipython",
    "version": 3
   },
   "file_extension": ".py",
   "mimetype": "text/x-python",
   "name": "python",
   "nbconvert_exporter": "python",
   "pygments_lexer": "ipython3",
   "version": "3.7.16"
  }
 },
 "nbformat": 4,
 "nbformat_minor": 4
}
