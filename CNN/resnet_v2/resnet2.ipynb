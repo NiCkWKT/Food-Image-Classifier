{
 "cells": [
  {
   "cell_type": "markdown",
   "metadata": {
    "id": "jRDuJsGCgxCO"
   },
   "source": [
    "# STAT4012 Project\n",
    "\n",
    "- Implement residual network\n",
    "- 4-fold cross validation\n",
    "- Ensembling\n",
    "- Add lr_scheduler"
   ]
  },
  {
   "cell_type": "code",
   "execution_count": 1,
   "metadata": {
    "colab": {
     "base_uri": "https://localhost:8080/"
    },
    "execution": {
     "iopub.execute_input": "2023-04-11T12:41:06.291240Z",
     "iopub.status.busy": "2023-04-11T12:41:06.290545Z",
     "iopub.status.idle": "2023-04-11T12:41:07.280513Z",
     "shell.execute_reply": "2023-04-11T12:41:07.279388Z",
     "shell.execute_reply.started": "2023-04-11T12:41:06.291203Z"
    },
    "executionInfo": {
     "elapsed": 16,
     "status": "ok",
     "timestamp": 1681163010779,
     "user": {
      "displayName": "Nick Wu",
      "userId": "10283763741837486654"
     },
     "user_tz": -480
    },
    "id": "VOczpMHIjDie",
    "outputId": "391dfbc4-8c44-4ad1-d5ef-972059034649"
   },
   "outputs": [
    {
     "name": "stdout",
     "output_type": "stream",
     "text": [
      "GPU 0: NVIDIA GeForce RTX 3090 (UUID: GPU-72fdbd81-da45-b750-3719-ae5877e26726)\r\n"
     ]
    }
   ],
   "source": [
    "! nvidia-smi -L"
   ]
  },
  {
   "cell_type": "code",
   "execution_count": 2,
   "metadata": {
    "colab": {
     "base_uri": "https://localhost:8080/"
    },
    "execution": {
     "iopub.execute_input": "2023-04-11T12:41:13.145384Z",
     "iopub.status.busy": "2023-04-11T12:41:13.144840Z",
     "iopub.status.idle": "2023-04-11T12:41:13.157905Z",
     "shell.execute_reply": "2023-04-11T12:41:13.156774Z",
     "shell.execute_reply.started": "2023-04-11T12:41:13.145341Z"
    },
    "executionInfo": {
     "elapsed": 9,
     "status": "ok",
     "timestamp": 1681163016035,
     "user": {
      "displayName": "Nick Wu",
      "userId": "10283763741837486654"
     },
     "user_tz": -480
    },
    "id": "cmRFCYn7ng3R",
    "outputId": "cc8e0bb9-9901-46f0-d603-3fec648ffef6"
   },
   "outputs": [
    {
     "data": {
      "text/plain": [
       "12"
      ]
     },
     "execution_count": 2,
     "metadata": {},
     "output_type": "execute_result"
    }
   ],
   "source": [
    "import multiprocessing as mp\n",
    "num_cpu = mp.cpu_count()\n",
    "num_cpu"
   ]
  },
  {
   "cell_type": "code",
   "execution_count": 3,
   "metadata": {
    "execution": {
     "iopub.execute_input": "2023-04-11T12:41:23.966804Z",
     "iopub.status.busy": "2023-04-11T12:41:23.966414Z",
     "iopub.status.idle": "2023-04-11T12:41:23.971223Z",
     "shell.execute_reply": "2023-04-11T12:41:23.970243Z",
     "shell.execute_reply.started": "2023-04-11T12:41:23.966772Z"
    },
    "executionInfo": {
     "elapsed": 482,
     "status": "ok",
     "timestamp": 1681163068589,
     "user": {
      "displayName": "Nick Wu",
      "userId": "10283763741837486654"
     },
     "user_tz": -480
    },
    "id": "ay3WkYnHVaVE",
    "papermill": {
     "duration": 0.0189,
     "end_time": "2022-02-23T10:03:06.279758",
     "exception": false,
     "start_time": "2022-02-23T10:03:06.260858",
     "status": "completed"
    },
    "tags": []
   },
   "outputs": [],
   "source": [
    "_exp_name = \"resnet\""
   ]
  },
  {
   "cell_type": "code",
   "execution_count": 4,
   "metadata": {
    "execution": {
     "iopub.execute_input": "2023-04-11T12:41:26.224108Z",
     "iopub.status.busy": "2023-04-11T12:41:26.223322Z",
     "iopub.status.idle": "2023-04-11T12:41:27.529474Z",
     "shell.execute_reply": "2023-04-11T12:41:27.528373Z",
     "shell.execute_reply.started": "2023-04-11T12:41:26.224062Z"
    },
    "executionInfo": {
     "elapsed": 3801,
     "status": "ok",
     "timestamp": 1681163072385,
     "user": {
      "displayName": "Nick Wu",
      "userId": "10283763741837486654"
     },
     "user_tz": -480
    },
    "id": "CwOGtRWHVaVF",
    "papermill": {
     "duration": 1.654263,
     "end_time": "2022-02-23T10:03:07.947242",
     "exception": false,
     "start_time": "2022-02-23T10:03:06.292979",
     "status": "completed"
    },
    "tags": []
   },
   "outputs": [],
   "source": [
    "# Import necessary packages.\n",
    "import numpy as np\n",
    "import pandas as pd\n",
    "import torch\n",
    "import os\n",
    "import torch.nn as nn\n",
    "import torchvision.transforms as transforms\n",
    "from PIL import Image\n",
    "from torch.utils.data import DataLoader, Dataset\n",
    "from tqdm import tqdm\n",
    "import random\n",
    "import wandb"
   ]
  },
  {
   "cell_type": "code",
   "execution_count": 5,
   "metadata": {
    "execution": {
     "iopub.execute_input": "2023-04-11T12:41:29.044227Z",
     "iopub.status.busy": "2023-04-11T12:41:29.043119Z",
     "iopub.status.idle": "2023-04-11T12:41:29.111363Z",
     "shell.execute_reply": "2023-04-11T12:41:29.110296Z",
     "shell.execute_reply.started": "2023-04-11T12:41:29.044187Z"
    },
    "executionInfo": {
     "elapsed": 6,
     "status": "ok",
     "timestamp": 1681163072385,
     "user": {
      "displayName": "Nick Wu",
      "userId": "10283763741837486654"
     },
     "user_tz": -480
    },
    "id": "8kJm9GekVaVH",
    "papermill": {
     "duration": 0.078771,
     "end_time": "2022-02-23T10:03:08.039428",
     "exception": false,
     "start_time": "2022-02-23T10:03:07.960657",
     "status": "completed"
    },
    "tags": []
   },
   "outputs": [],
   "source": [
    "myseed = 4012  # set a random seed for reproducibility\n",
    "torch.backends.cudnn.deterministic = True\n",
    "torch.backends.cudnn.benchmark = False\n",
    "np.random.seed(myseed)\n",
    "torch.manual_seed(myseed)\n",
    "if torch.cuda.is_available():\n",
    "    torch.cuda.manual_seed_all(myseed)"
   ]
  },
  {
   "cell_type": "markdown",
   "metadata": {
    "id": "d9MVtgbSVaVH",
    "papermill": {
     "duration": 0.01289,
     "end_time": "2022-02-23T10:03:08.065357",
     "exception": false,
     "start_time": "2022-02-23T10:03:08.052467",
     "status": "completed"
    },
    "tags": []
   },
   "source": [
    "## **Transforms**\n",
    "Torchvision provides lots of useful utilities for image preprocessing, data wrapping as well as data augmentation.\n",
    "\n",
    "Please refer to PyTorch official website for details about different transforms."
   ]
  },
  {
   "cell_type": "code",
   "execution_count": 6,
   "metadata": {
    "execution": {
     "iopub.execute_input": "2023-04-11T12:41:31.984491Z",
     "iopub.status.busy": "2023-04-11T12:41:31.983886Z",
     "iopub.status.idle": "2023-04-11T12:41:31.991880Z",
     "shell.execute_reply": "2023-04-11T12:41:31.990669Z",
     "shell.execute_reply.started": "2023-04-11T12:41:31.984446Z"
    },
    "executionInfo": {
     "elapsed": 6,
     "status": "ok",
     "timestamp": 1681163072386,
     "user": {
      "displayName": "Nick Wu",
      "userId": "10283763741837486654"
     },
     "user_tz": -480
    },
    "id": "jvI3Xmq4VaVJ",
    "papermill": {
     "duration": 0.021406,
     "end_time": "2022-02-23T10:03:08.099437",
     "exception": false,
     "start_time": "2022-02-23T10:03:08.078031",
     "status": "completed"
    },
    "tags": []
   },
   "outputs": [],
   "source": [
    "test_tfm = transforms.Compose([\n",
    "    # (height = width = 128)\n",
    "    transforms.Resize((128, 128)),\n",
    "    transforms.ToTensor(),\n",
    "])\n",
    "\n",
    "train_tfm = transforms.Compose([\n",
    "    # (height = width = 128)\n",
    "    #transforms.CenterCrop()\n",
    "    transforms.RandomResizedCrop((128, 128), scale=(0.7, 1.0)),\n",
    "    #transforms.AutoAugment(transforms.AutoAugmentPolicy.IMAGENET),\n",
    "    #transforms.Normalize((0.485, 0.456, 0.406), (0.229, 0.224, 0.225)),\n",
    "    transforms.RandomHorizontalFlip(0.5),\n",
    "    transforms.RandomVerticalFlip(0.5),\n",
    "    transforms.RandomRotation(180),\n",
    "    transforms.RandomAffine(30),\n",
    "    #transforms.RandomInvert(p=0.2),\n",
    "    #transforms.RandomPosterize(bits=2),\n",
    "    #transforms.RandomSolarize(threshold=192.0, p=0.2),\n",
    "    #transforms.RandomEqualize(p=0.2),\n",
    "    transforms.RandomGrayscale(p=0.2),\n",
    "    transforms.ToTensor(),\n",
    "    #transforms.RandomApply(torch.nn.ModuleList([]))\n",
    "])\n"
   ]
  },
  {
   "cell_type": "markdown",
   "metadata": {
    "id": "D0ivMf-jVaVK",
    "papermill": {
     "duration": 0.012739,
     "end_time": "2022-02-23T10:03:08.125181",
     "exception": false,
     "start_time": "2022-02-23T10:03:08.112442",
     "status": "completed"
    },
    "tags": []
   },
   "source": [
    "## **Datasets**\n",
    "The data is labelled by the name, so we load images and label while calling '__getitem__'"
   ]
  },
  {
   "cell_type": "code",
   "execution_count": 7,
   "metadata": {
    "execution": {
     "iopub.execute_input": "2023-04-11T12:41:35.784394Z",
     "iopub.status.busy": "2023-04-11T12:41:35.783680Z",
     "iopub.status.idle": "2023-04-11T12:41:35.792482Z",
     "shell.execute_reply": "2023-04-11T12:41:35.791489Z",
     "shell.execute_reply.started": "2023-04-11T12:41:35.784357Z"
    },
    "executionInfo": {
     "elapsed": 2,
     "status": "ok",
     "timestamp": 1681163435334,
     "user": {
      "displayName": "Nick Wu",
      "userId": "10283763741837486654"
     },
     "user_tz": -480
    },
    "id": "xBdtPhKwVaVL",
    "papermill": {
     "duration": 0.023022,
     "end_time": "2022-02-23T10:03:08.160912",
     "exception": false,
     "start_time": "2022-02-23T10:03:08.13789",
     "status": "completed"
    },
    "tags": []
   },
   "outputs": [],
   "source": [
    "class FoodDataset(Dataset):\n",
    "\n",
    "    def __init__(self,path=None,tfm=test_tfm,files=None):\n",
    "        super(FoodDataset).__init__()\n",
    "        self.path = path\n",
    "        if path:\n",
    "            self.files = sorted([os.path.join(path, x) for x in os.listdir(path) if x.endswith(\".jpg\")])\n",
    "        else:\n",
    "            self.files = files\n",
    "        self.transform = tfm\n",
    "  \n",
    "    def __len__(self):\n",
    "        return len(self.files)\n",
    "  \n",
    "    def __getitem__(self,idx):\n",
    "        fname = self.files[idx]\n",
    "        im = Image.open(fname)\n",
    "        im = self.transform(im)\n",
    "        #im = self.data[idx]\n",
    "        try:\n",
    "            label = int(fname.split(\"/\")[-1].split(\"_\")[0])\n",
    "        except:\n",
    "            label = -1 # test has no label\n",
    "        return im,label"
   ]
  },
  {
   "cell_type": "code",
   "execution_count": 8,
   "metadata": {
    "execution": {
     "iopub.execute_input": "2023-04-11T12:43:00.729889Z",
     "iopub.status.busy": "2023-04-11T12:43:00.728781Z",
     "iopub.status.idle": "2023-04-11T12:43:00.747959Z",
     "shell.execute_reply": "2023-04-11T12:43:00.746833Z",
     "shell.execute_reply.started": "2023-04-11T12:43:00.729848Z"
    },
    "executionInfo": {
     "elapsed": 4,
     "status": "ok",
     "timestamp": 1681163078591,
     "user": {
      "displayName": "Nick Wu",
      "userId": "10283763741837486654"
     },
     "user_tz": -480
    },
    "id": "b_kDECOJVaVL",
    "papermill": {
     "duration": 0.0258,
     "end_time": "2022-02-23T10:03:08.199437",
     "exception": false,
     "start_time": "2022-02-23T10:03:08.173637",
     "status": "completed"
    },
    "tags": []
   },
   "outputs": [],
   "source": [
    "class Residual_Block(nn.Module):\n",
    "    def __init__(self, ic, oc, stride=1):\n",
    "        # torch.nn.Conv2d(in_channels, out_channels, kernel_size, stride, padding)\n",
    "        # torch.nn.MaxPool2d(kernel_size, stride, padding)\n",
    "        super().__init__()\n",
    "        self.conv1 = nn.Sequential(\n",
    "            nn.Conv2d(ic, oc, kernel_size=3, stride=stride, padding=1),\n",
    "            nn.BatchNorm2d(oc),\n",
    "            nn.ReLU(inplace=True)\n",
    "        )\n",
    "        \n",
    "        self.conv2 = nn.Sequential(\n",
    "            nn.Conv2d(oc, oc, kernel_size=3, stride=1, padding=1),\n",
    "            nn.BatchNorm2d(oc),\n",
    "        )\n",
    "        \n",
    "        self.relu = nn.ReLU(inplace=True)\n",
    "    \n",
    "        self.downsample = None\n",
    "        if stride != 1 or (ic != oc):\n",
    "            self.downsample = nn.Sequential(\n",
    "                nn.Conv2d(ic, oc, kernel_size=1, stride=stride),\n",
    "                nn.BatchNorm2d(oc),\n",
    "            )\n",
    "        \n",
    "    def forward(self, x):\n",
    "        residual = x\n",
    "        out = self.conv1(x)\n",
    "        out = self.conv2(out)\n",
    "        \n",
    "        if self.downsample:\n",
    "            residual = self.downsample(x)\n",
    "            \n",
    "        out += residual\n",
    "        return self.relu(out)\n",
    "\n",
    "class Classifier(nn.Module):\n",
    "    def __init__(self, block, num_layers, num_classes=11):\n",
    "        super().__init__()\n",
    "        self.preconv = nn.Sequential(\n",
    "            nn.Conv2d(3, 32, kernel_size=7, stride=2, padding=3, bias=False),\n",
    "            nn.BatchNorm2d(32),\n",
    "            nn.ReLU(inplace=True),\n",
    "        )\n",
    "        \n",
    "        self.layer0 = self.make_residual(block, 32, 64,  num_layers[0], stride=2)\n",
    "        self.layer1 = self.make_residual(block, 64, 128, num_layers[1], stride=2)\n",
    "        self.layer2 = self.make_residual(block, 128, 256, num_layers[2], stride=2)\n",
    "        self.layer3 = self.make_residual(block, 256, 512, num_layers[3], stride=2)\n",
    "        \n",
    "#         self.avgpool = nn.AvgPool2d(2)\n",
    "        \n",
    "        self.fc = nn.Sequential(            \n",
    "            nn.Dropout(0.4),\n",
    "            nn.Linear(512*4*4, 512),\n",
    "            nn.BatchNorm1d(512),\n",
    "            nn.ReLU(inplace=True),\n",
    "            nn.Dropout(0.2),\n",
    "            nn.Linear(512, 11),\n",
    "        )\n",
    "        \n",
    "        \n",
    "    def make_residual(self, block, ic, oc, num_layer, stride=1):\n",
    "        layers = []\n",
    "        layers.append(block(ic, oc, stride))\n",
    "        for i in range(1, num_layer):\n",
    "            layers.append(block(oc, oc))\n",
    "        return nn.Sequential(*layers)\n",
    "    \n",
    "    def forward(self, x):\n",
    "        # [3, 128, 128]\n",
    "        out = self.preconv(x)  # [32, 64, 64]\n",
    "        out = self.layer0(out) # [64, 32, 32]\n",
    "        out = self.layer1(out) # [128, 16, 16]\n",
    "        out = self.layer2(out) # [256, 8, 8]\n",
    "        out = self.layer3(out) # [512, 4, 4]\n",
    "#         out = self.avgpool(out) # [512, 2, 2]\n",
    "        out = self.fc(out.view(out.size(0), -1)) \n",
    "        return out"
   ]
  },
  {
   "cell_type": "code",
   "execution_count": 9,
   "metadata": {
    "execution": {
     "iopub.execute_input": "2023-04-11T12:43:06.183667Z",
     "iopub.status.busy": "2023-04-11T12:43:06.182615Z",
     "iopub.status.idle": "2023-04-11T12:43:06.190014Z",
     "shell.execute_reply": "2023-04-11T12:43:06.188866Z",
     "shell.execute_reply.started": "2023-04-11T12:43:06.183592Z"
    },
    "executionInfo": {
     "elapsed": 3,
     "status": "ok",
     "timestamp": 1681163090164,
     "user": {
      "displayName": "Nick Wu",
      "userId": "10283763741837486654"
     },
     "user_tz": -480
    },
    "id": "raSJc5-bCtqV"
   },
   "outputs": [],
   "source": [
    "batch_size = 128\n",
    "num_layers = [2, 3, 3, 1] # residual number layers\n",
    "\n",
    "n_epochs = 300\n",
    "patience = 20 # If no improvement in 'patience' epochs, early stop\n",
    "\n",
    "k_fold = 4"
   ]
  },
  {
   "cell_type": "code",
   "execution_count": 10,
   "metadata": {
    "execution": {
     "iopub.execute_input": "2023-04-11T12:43:09.734189Z",
     "iopub.status.busy": "2023-04-11T12:43:09.733174Z",
     "iopub.status.idle": "2023-04-11T12:43:09.778245Z",
     "shell.execute_reply": "2023-04-11T12:43:09.777168Z",
     "shell.execute_reply.started": "2023-04-11T12:43:09.734136Z"
    },
    "executionInfo": {
     "elapsed": 3,
     "status": "ok",
     "timestamp": 1681163295457,
     "user": {
      "displayName": "Nick Wu",
      "userId": "10283763741837486654"
     },
     "user_tz": -480
    },
    "id": "2_OeWtstVaVO",
    "papermill": {
     "duration": 0.054295,
     "end_time": "2022-02-23T10:03:08.266338",
     "exception": false,
     "start_time": "2022-02-23T10:03:08.212043",
     "status": "completed"
    },
    "tags": []
   },
   "outputs": [
    {
     "data": {
      "text/plain": [
       "13296"
      ]
     },
     "execution_count": 10,
     "metadata": {},
     "output_type": "execute_result"
    }
   ],
   "source": [
    "train_dir = \"./food-11/training\"\n",
    "val_dir = \"./food-11/validation\"\n",
    "\n",
    "train_files = [os.path.join(train_dir, x) for x in os.listdir(train_dir) if x.endswith('.jpg')]\n",
    "val_files = [os.path.join(val_dir, x) for x in os.listdir(val_dir) if x.endswith('.jpg')]\n",
    "total_files = train_files + val_files\n",
    "random.seed(myseed)\n",
    "random.shuffle(total_files)\n",
    "\n",
    "num = len(total_files) // k_fold\n",
    "len(total_files)"
   ]
  },
  {
   "cell_type": "code",
   "execution_count": 11,
   "metadata": {
    "colab": {
     "base_uri": "https://localhost:8080/"
    },
    "execution": {
     "iopub.execute_input": "2023-04-11T12:43:12.357181Z",
     "iopub.status.busy": "2023-04-11T12:43:12.356757Z"
    },
    "id": "Lp3y_ITOEUN_",
    "outputId": "3d1b7e03-d1bc-4c0f-abce-26666362f789"
   },
   "outputs": [
    {
     "name": "stdout",
     "output_type": "stream",
     "text": [
      "cuda\n",
      "\n",
      "\n",
      "Starting Fold: 1 ********************************************\n",
      "cuda:0\n"
     ]
    },
    {
     "name": "stderr",
     "output_type": "stream",
     "text": [
      "Failed to detect the name of this notebook, you can set it manually with the WANDB_NOTEBOOK_NAME environment variable to enable code saving.\n",
      "\u001b[34m\u001b[1mwandb\u001b[0m: W&B API key is configured. Use \u001b[1m`wandb login --relogin`\u001b[0m to force relogin\n"
     ]
    },
    {
     "data": {
      "application/vnd.jupyter.widget-view+json": {
       "model_id": "ec5135387d574c80afabfb174712d4f8",
       "version_major": 2,
       "version_minor": 0
      },
      "text/plain": [
       "VBox(children=(Label(value='Waiting for wandb.init()...\\r'), FloatProgress(value=0.01666868954974537, max=1.0)…"
      ]
     },
     "metadata": {},
     "output_type": "display_data"
    },
    {
     "data": {
      "text/html": [
       "Tracking run with wandb version 0.14.2"
      ],
      "text/plain": [
       "<IPython.core.display.HTML object>"
      ]
     },
     "metadata": {},
     "output_type": "display_data"
    },
    {
     "data": {
      "text/html": [
       "Run data is saved locally in <code>/home/user/jupyter_file/wandb/run-20230414_140006-an2afdwj</code>"
      ],
      "text/plain": [
       "<IPython.core.display.HTML object>"
      ]
     },
     "metadata": {},
     "output_type": "display_data"
    },
    {
     "data": {
      "text/html": [
       "Syncing run <strong><a href='https://wandb.ai/nickwkt/Food-11/runs/an2afdwj' target=\"_blank\">earnest-wave-17</a></strong> to <a href='https://wandb.ai/nickwkt/Food-11' target=\"_blank\">Weights & Biases</a> (<a href='https://wandb.me/run' target=\"_blank\">docs</a>)<br/>"
      ],
      "text/plain": [
       "<IPython.core.display.HTML object>"
      ]
     },
     "metadata": {},
     "output_type": "display_data"
    },
    {
     "data": {
      "text/html": [
       " View project at <a href='https://wandb.ai/nickwkt/Food-11' target=\"_blank\">https://wandb.ai/nickwkt/Food-11</a>"
      ],
      "text/plain": [
       "<IPython.core.display.HTML object>"
      ]
     },
     "metadata": {},
     "output_type": "display_data"
    },
    {
     "data": {
      "text/html": [
       " View run at <a href='https://wandb.ai/nickwkt/Food-11/runs/an2afdwj' target=\"_blank\">https://wandb.ai/nickwkt/Food-11/runs/an2afdwj</a>"
      ],
      "text/plain": [
       "<IPython.core.display.HTML object>"
      ]
     },
     "metadata": {},
     "output_type": "display_data"
    },
    {
     "name": "stderr",
     "output_type": "stream",
     "text": [
      "T: 001/300: 100%|█| 78/78 [00:07<00:00,  9.76it/s, lr=0.0004, b_loss=1.97, b_acc\n"
     ]
    },
    {
     "name": "stdout",
     "output_type": "stream",
     "text": [
      "[ Train | 001/300 ] loss = 2.09193, acc = 0.26191\n"
     ]
    },
    {
     "name": "stderr",
     "output_type": "stream",
     "text": [
      "V: 001/300: 100%|███████| 26/26 [00:02<00:00, 12.05it/s, v_loss=2.31, v_acc=0.2]\n"
     ]
    },
    {
     "name": "stdout",
     "output_type": "stream",
     "text": [
      "[ Valid | 001/300 ] loss = 2.30717, acc = 0.19972\n",
      "[ Valid | 001/300 ] loss = 2.30717, acc = 0.19972 -> best\n",
      "Best model found at fold 1 epoch 1, acc=0.19972, saving model\n"
     ]
    },
    {
     "name": "stderr",
     "output_type": "stream",
     "text": [
      "T: 002/300: 100%|█| 78/78 [00:07<00:00, 10.46it/s, lr=0.000362, b_loss=1.9, b_ac\n"
     ]
    },
    {
     "name": "stdout",
     "output_type": "stream",
     "text": [
      "[ Train | 002/300 ] loss = 1.92494, acc = 0.32358\n"
     ]
    },
    {
     "name": "stderr",
     "output_type": "stream",
     "text": [
      "V: 002/300: 100%|█████| 26/26 [00:02<00:00, 11.51it/s, v_loss=1.87, v_acc=0.338]\n"
     ]
    },
    {
     "name": "stdout",
     "output_type": "stream",
     "text": [
      "[ Valid | 002/300 ] loss = 1.87200, acc = 0.33786\n",
      "[ Valid | 002/300 ] loss = 1.87200, acc = 0.33786 -> best\n",
      "Best model found at fold 1 epoch 2, acc=0.33786, saving model\n"
     ]
    },
    {
     "name": "stderr",
     "output_type": "stream",
     "text": [
      "T: 003/300: 100%|█| 78/78 [00:07<00:00, 10.14it/s, lr=0.000262, b_loss=1.76, b_a\n"
     ]
    },
    {
     "name": "stdout",
     "output_type": "stream",
     "text": [
      "[ Train | 003/300 ] loss = 1.82487, acc = 0.35949\n"
     ]
    },
    {
     "name": "stderr",
     "output_type": "stream",
     "text": [
      "V: 003/300: 100%|█████| 26/26 [00:01<00:00, 13.75it/s, v_loss=1.88, v_acc=0.332]\n"
     ]
    },
    {
     "name": "stdout",
     "output_type": "stream",
     "text": [
      "[ Valid | 003/300 ] loss = 1.87729, acc = 0.33246\n",
      "[ Valid | 003/300 ] loss = 1.87729, acc = 0.33246\n"
     ]
    },
    {
     "name": "stderr",
     "output_type": "stream",
     "text": [
      "T: 004/300: 100%|█| 78/78 [00:07<00:00, 10.15it/s, lr=0.000138, b_loss=1.72, b_a\n"
     ]
    },
    {
     "name": "stdout",
     "output_type": "stream",
     "text": [
      "[ Train | 004/300 ] loss = 1.72907, acc = 0.39332\n"
     ]
    },
    {
     "name": "stderr",
     "output_type": "stream",
     "text": [
      "V: 004/300: 100%|██████| 26/26 [00:02<00:00, 11.69it/s, v_loss=1.7, v_acc=0.413]\n"
     ]
    },
    {
     "name": "stdout",
     "output_type": "stream",
     "text": [
      "[ Valid | 004/300 ] loss = 1.69759, acc = 0.41344\n",
      "[ Valid | 004/300 ] loss = 1.69759, acc = 0.41344 -> best\n",
      "Best model found at fold 1 epoch 4, acc=0.41344, saving model\n"
     ]
    },
    {
     "name": "stderr",
     "output_type": "stream",
     "text": [
      "T: 005/300: 100%|█| 78/78 [00:07<00:00, 10.13it/s, lr=3.82e-5, b_loss=1.79, b_ac\n"
     ]
    },
    {
     "name": "stdout",
     "output_type": "stream",
     "text": [
      "[ Train | 005/300 ] loss = 1.62711, acc = 0.43441\n"
     ]
    },
    {
     "name": "stderr",
     "output_type": "stream",
     "text": [
      "V: 005/300: 100%|█████| 26/26 [00:02<00:00, 11.95it/s, v_loss=1.53, v_acc=0.465]\n"
     ]
    },
    {
     "name": "stdout",
     "output_type": "stream",
     "text": [
      "[ Valid | 005/300 ] loss = 1.53081, acc = 0.46480\n",
      "[ Valid | 005/300 ] loss = 1.53081, acc = 0.46480 -> best\n",
      "Best model found at fold 1 epoch 5, acc=0.46480, saving model\n"
     ]
    },
    {
     "name": "stderr",
     "output_type": "stream",
     "text": [
      "T: 006/300: 100%|█| 78/78 [00:07<00:00, 10.00it/s, lr=0.0004, b_loss=1.54, b_acc\n"
     ]
    },
    {
     "name": "stdout",
     "output_type": "stream",
     "text": [
      "[ Train | 006/300 ] loss = 1.77232, acc = 0.38649\n"
     ]
    },
    {
     "name": "stderr",
     "output_type": "stream",
     "text": [
      "V: 006/300: 100%|█████| 26/26 [00:02<00:00, 12.56it/s, v_loss=1.73, v_acc=0.396]\n"
     ]
    },
    {
     "name": "stdout",
     "output_type": "stream",
     "text": [
      "[ Valid | 006/300 ] loss = 1.73256, acc = 0.39593\n",
      "[ Valid | 006/300 ] loss = 1.73256, acc = 0.39593\n"
     ]
    },
    {
     "name": "stderr",
     "output_type": "stream",
     "text": [
      "T: 007/300: 100%|█| 78/78 [00:07<00:00, 10.26it/s, lr=0.00039, b_loss=1.75, b_ac\n"
     ]
    },
    {
     "name": "stdout",
     "output_type": "stream",
     "text": [
      "[ Train | 007/300 ] loss = 1.69749, acc = 0.40666\n"
     ]
    },
    {
     "name": "stderr",
     "output_type": "stream",
     "text": [
      "V: 007/300: 100%|█████| 26/26 [00:02<00:00, 11.74it/s, v_loss=1.73, v_acc=0.391]\n"
     ]
    },
    {
     "name": "stdout",
     "output_type": "stream",
     "text": [
      "[ Valid | 007/300 ] loss = 1.73400, acc = 0.39140\n",
      "[ Valid | 007/300 ] loss = 1.73400, acc = 0.39140\n"
     ]
    },
    {
     "name": "stderr",
     "output_type": "stream",
     "text": [
      "T: 008/300: 100%|█| 78/78 [00:07<00:00, 10.15it/s, lr=0.000362, b_loss=1.69, b_a\n"
     ]
    },
    {
     "name": "stdout",
     "output_type": "stream",
     "text": [
      "[ Train | 008/300 ] loss = 1.63393, acc = 0.43453\n"
     ]
    },
    {
     "name": "stderr",
     "output_type": "stream",
     "text": [
      "V: 008/300: 100%|█████| 26/26 [00:01<00:00, 13.26it/s, v_loss=1.83, v_acc=0.375]\n"
     ]
    },
    {
     "name": "stdout",
     "output_type": "stream",
     "text": [
      "[ Valid | 008/300 ] loss = 1.83493, acc = 0.37460\n",
      "[ Valid | 008/300 ] loss = 1.83493, acc = 0.37460\n"
     ]
    },
    {
     "name": "stderr",
     "output_type": "stream",
     "text": [
      "T: 009/300: 100%|█| 78/78 [00:07<00:00, 10.32it/s, lr=0.000318, b_loss=1.76, b_a\n"
     ]
    },
    {
     "name": "stdout",
     "output_type": "stream",
     "text": [
      "[ Train | 009/300 ] loss = 1.56334, acc = 0.45394\n"
     ]
    },
    {
     "name": "stderr",
     "output_type": "stream",
     "text": [
      "V: 009/300: 100%|█████| 26/26 [00:01<00:00, 14.08it/s, v_loss=1.93, v_acc=0.392]\n"
     ]
    },
    {
     "name": "stdout",
     "output_type": "stream",
     "text": [
      "[ Valid | 009/300 ] loss = 1.92789, acc = 0.39172\n",
      "[ Valid | 009/300 ] loss = 1.92789, acc = 0.39172\n"
     ]
    },
    {
     "name": "stderr",
     "output_type": "stream",
     "text": [
      "T: 010/300: 100%|█| 78/78 [00:07<00:00, 10.22it/s, lr=0.000262, b_loss=1.53, b_a\n"
     ]
    },
    {
     "name": "stdout",
     "output_type": "stream",
     "text": [
      "[ Train | 010/300 ] loss = 1.48531, acc = 0.48468\n"
     ]
    },
    {
     "name": "stderr",
     "output_type": "stream",
     "text": [
      "V: 010/300: 100%|█████| 26/26 [00:02<00:00, 12.37it/s, v_loss=1.77, v_acc=0.399]\n"
     ]
    },
    {
     "name": "stdout",
     "output_type": "stream",
     "text": [
      "[ Valid | 010/300 ] loss = 1.76590, acc = 0.39916\n",
      "[ Valid | 010/300 ] loss = 1.76590, acc = 0.39916\n"
     ]
    },
    {
     "name": "stderr",
     "output_type": "stream",
     "text": [
      "T: 011/300: 100%|█| 78/78 [00:07<00:00, 10.03it/s, lr=0.0002, b_loss=1.37, b_acc\n"
     ]
    },
    {
     "name": "stdout",
     "output_type": "stream",
     "text": [
      "[ Train | 011/300 ] loss = 1.43067, acc = 0.50070\n"
     ]
    },
    {
     "name": "stderr",
     "output_type": "stream",
     "text": [
      "V: 011/300: 100%|█████| 26/26 [00:02<00:00, 12.91it/s, v_loss=1.49, v_acc=0.499]\n"
     ]
    },
    {
     "name": "stdout",
     "output_type": "stream",
     "text": [
      "[ Valid | 011/300 ] loss = 1.49334, acc = 0.49933\n",
      "[ Valid | 011/300 ] loss = 1.49334, acc = 0.49933 -> best\n",
      "Best model found at fold 1 epoch 11, acc=0.49933, saving model\n"
     ]
    },
    {
     "name": "stderr",
     "output_type": "stream",
     "text": [
      "T: 012/300:   0%|                                        | 0/78 [00:00<?, ?it/s]wandb: Network error (ConnectTimeout), entering retry loop.\n",
      "T: 012/300: 100%|█| 78/78 [00:07<00:00, 10.11it/s, lr=0.000138, b_loss=1.37, b_a\n"
     ]
    },
    {
     "name": "stdout",
     "output_type": "stream",
     "text": [
      "[ Train | 012/300 ] loss = 1.34853, acc = 0.53212\n"
     ]
    },
    {
     "name": "stderr",
     "output_type": "stream",
     "text": [
      "V: 012/300: 100%|█████| 26/26 [00:02<00:00, 11.19it/s, v_loss=1.34, v_acc=0.525]\n"
     ]
    },
    {
     "name": "stdout",
     "output_type": "stream",
     "text": [
      "[ Valid | 012/300 ] loss = 1.34247, acc = 0.52531\n",
      "[ Valid | 012/300 ] loss = 1.34247, acc = 0.52531 -> best\n",
      "Best model found at fold 1 epoch 12, acc=0.52531, saving model\n"
     ]
    },
    {
     "name": "stderr",
     "output_type": "stream",
     "text": [
      "T: 013/300: 100%|█| 78/78 [00:07<00:00, 10.56it/s, lr=8.24e-5, b_loss=1.38, b_ac\n"
     ]
    },
    {
     "name": "stdout",
     "output_type": "stream",
     "text": [
      "[ Train | 013/300 ] loss = 1.28662, acc = 0.55622\n"
     ]
    },
    {
     "name": "stderr",
     "output_type": "stream",
     "text": [
      "V: 013/300: 100%|█████| 26/26 [00:02<00:00, 12.12it/s, v_loss=1.37, v_acc=0.524]\n"
     ]
    },
    {
     "name": "stdout",
     "output_type": "stream",
     "text": [
      "[ Valid | 013/300 ] loss = 1.37485, acc = 0.52442\n",
      "[ Valid | 013/300 ] loss = 1.37485, acc = 0.52442\n"
     ]
    },
    {
     "name": "stderr",
     "output_type": "stream",
     "text": [
      "T: 014/300: 100%|█| 78/78 [00:07<00:00, 10.25it/s, lr=3.82e-5, b_loss=1.17, b_ac\n"
     ]
    },
    {
     "name": "stdout",
     "output_type": "stream",
     "text": [
      "[ Train | 014/300 ] loss = 1.24964, acc = 0.56681\n"
     ]
    },
    {
     "name": "stderr",
     "output_type": "stream",
     "text": [
      "V: 014/300: 100%|█████| 26/26 [00:01<00:00, 13.28it/s, v_loss=1.23, v_acc=0.579]\n"
     ]
    },
    {
     "name": "stdout",
     "output_type": "stream",
     "text": [
      "[ Valid | 014/300 ] loss = 1.22618, acc = 0.57949\n",
      "[ Valid | 014/300 ] loss = 1.22618, acc = 0.57949 -> best\n",
      "Best model found at fold 1 epoch 14, acc=0.57949, saving model\n"
     ]
    },
    {
     "name": "stderr",
     "output_type": "stream",
     "text": [
      "T: 015/300: 100%|█| 78/78 [00:07<00:00, 10.23it/s, lr=9.79e-6, b_loss=1.17, b_ac\n"
     ]
    },
    {
     "name": "stdout",
     "output_type": "stream",
     "text": [
      "[ Train | 015/300 ] loss = 1.21088, acc = 0.58042\n"
     ]
    },
    {
     "name": "stderr",
     "output_type": "stream",
     "text": [
      "V: 015/300: 100%|█████| 26/26 [00:01<00:00, 14.03it/s, v_loss=1.17, v_acc=0.589]\n"
     ]
    },
    {
     "name": "stdout",
     "output_type": "stream",
     "text": [
      "[ Valid | 015/300 ] loss = 1.17272, acc = 0.58896\n",
      "[ Valid | 015/300 ] loss = 1.17272, acc = 0.58896 -> best\n",
      "Best model found at fold 1 epoch 15, acc=0.58896, saving model\n"
     ]
    },
    {
     "name": "stderr",
     "output_type": "stream",
     "text": [
      "T: 016/300: 100%|█| 78/78 [00:07<00:00, 10.55it/s, lr=0.0004, b_loss=1.36, b_acc\n"
     ]
    },
    {
     "name": "stdout",
     "output_type": "stream",
     "text": [
      "[ Train | 016/300 ] loss = 1.43168, acc = 0.50632\n"
     ]
    },
    {
     "name": "stderr",
     "output_type": "stream",
     "text": [
      "V: 016/300: 100%|█████| 26/26 [00:01<00:00, 13.37it/s, v_loss=1.68, v_acc=0.427]\n"
     ]
    },
    {
     "name": "stdout",
     "output_type": "stream",
     "text": [
      "[ Valid | 016/300 ] loss = 1.68242, acc = 0.42654\n",
      "[ Valid | 016/300 ] loss = 1.68242, acc = 0.42654\n"
     ]
    },
    {
     "name": "stderr",
     "output_type": "stream",
     "text": [
      "T: 017/300: 100%|█| 78/78 [00:07<00:00, 10.33it/s, lr=0.000398, b_loss=1.45, b_a\n"
     ]
    },
    {
     "name": "stdout",
     "output_type": "stream",
     "text": [
      "[ Train | 017/300 ] loss = 1.40856, acc = 0.51057\n"
     ]
    },
    {
     "name": "stderr",
     "output_type": "stream",
     "text": [
      "V: 017/300: 100%|█████| 26/26 [00:02<00:00, 12.93it/s, v_loss=1.62, v_acc=0.452]\n"
     ]
    },
    {
     "name": "stdout",
     "output_type": "stream",
     "text": [
      "[ Valid | 017/300 ] loss = 1.62366, acc = 0.45165\n",
      "[ Valid | 017/300 ] loss = 1.62366, acc = 0.45165\n"
     ]
    },
    {
     "name": "stderr",
     "output_type": "stream",
     "text": [
      "T: 018/300: 100%|█| 78/78 [00:07<00:00, 10.21it/s, lr=0.00039, b_loss=1.24, b_ac\n"
     ]
    },
    {
     "name": "stdout",
     "output_type": "stream",
     "text": [
      "[ Train | 018/300 ] loss = 1.36921, acc = 0.52391\n"
     ]
    },
    {
     "name": "stderr",
     "output_type": "stream",
     "text": [
      "V: 018/300: 100%|██████| 26/26 [00:02<00:00, 11.31it/s, v_loss=1.7, v_acc=0.446]\n"
     ]
    },
    {
     "name": "stdout",
     "output_type": "stream",
     "text": [
      "[ Valid | 018/300 ] loss = 1.69753, acc = 0.44587\n",
      "[ Valid | 018/300 ] loss = 1.69753, acc = 0.44587\n"
     ]
    },
    {
     "name": "stderr",
     "output_type": "stream",
     "text": [
      "T: 019/300: 100%|█| 78/78 [00:07<00:00, 10.44it/s, lr=0.000378, b_loss=1.42, b_a\n"
     ]
    },
    {
     "name": "stdout",
     "output_type": "stream",
     "text": [
      "[ Train | 019/300 ] loss = 1.31689, acc = 0.54453\n"
     ]
    },
    {
     "name": "stderr",
     "output_type": "stream",
     "text": [
      "V: 019/300: 100%|██████| 26/26 [00:02<00:00, 12.54it/s, v_loss=1.53, v_acc=0.48]\n"
     ]
    },
    {
     "name": "stdout",
     "output_type": "stream",
     "text": [
      "[ Valid | 019/300 ] loss = 1.53114, acc = 0.47954\n",
      "[ Valid | 019/300 ] loss = 1.53114, acc = 0.47954\n"
     ]
    },
    {
     "name": "stderr",
     "output_type": "stream",
     "text": [
      "T: 020/300: 100%|█| 78/78 [00:07<00:00, 10.10it/s, lr=0.000362, b_loss=1.43, b_a\n"
     ]
    },
    {
     "name": "stdout",
     "output_type": "stream",
     "text": [
      "[ Train | 020/300 ] loss = 1.27749, acc = 0.56067\n"
     ]
    },
    {
     "name": "stderr",
     "output_type": "stream",
     "text": [
      "V: 020/300: 100%|█████| 26/26 [00:02<00:00, 12.60it/s, v_loss=1.28, v_acc=0.557]\n"
     ]
    },
    {
     "name": "stdout",
     "output_type": "stream",
     "text": [
      "[ Valid | 020/300 ] loss = 1.28217, acc = 0.55685\n",
      "[ Valid | 020/300 ] loss = 1.28217, acc = 0.55685\n"
     ]
    },
    {
     "name": "stderr",
     "output_type": "stream",
     "text": [
      "T: 021/300: 100%|█| 78/78 [00:07<00:00,  9.99it/s, lr=0.000341, b_loss=1.09, b_a\n"
     ]
    },
    {
     "name": "stdout",
     "output_type": "stream",
     "text": [
      "[ Train | 021/300 ] loss = 1.23158, acc = 0.57516\n"
     ]
    },
    {
     "name": "stderr",
     "output_type": "stream",
     "text": [
      "V: 021/300: 100%|█████| 26/26 [00:01<00:00, 13.81it/s, v_loss=1.42, v_acc=0.521]\n"
     ]
    },
    {
     "name": "stdout",
     "output_type": "stream",
     "text": [
      "[ Valid | 021/300 ] loss = 1.42088, acc = 0.52134\n",
      "[ Valid | 021/300 ] loss = 1.42088, acc = 0.52134\n"
     ]
    },
    {
     "name": "stderr",
     "output_type": "stream",
     "text": [
      "T: 022/300: 100%|█| 78/78 [00:07<00:00, 10.38it/s, lr=0.000318, b_loss=1.07, b_a\n"
     ]
    },
    {
     "name": "stdout",
     "output_type": "stream",
     "text": [
      "[ Train | 022/300 ] loss = 1.19007, acc = 0.59021\n"
     ]
    },
    {
     "name": "stderr",
     "output_type": "stream",
     "text": [
      "V: 022/300: 100%|█████| 26/26 [00:01<00:00, 14.13it/s, v_loss=1.47, v_acc=0.517]\n"
     ]
    },
    {
     "name": "stdout",
     "output_type": "stream",
     "text": [
      "[ Valid | 022/300 ] loss = 1.46667, acc = 0.51744\n",
      "[ Valid | 022/300 ] loss = 1.46667, acc = 0.51744\n"
     ]
    },
    {
     "name": "stderr",
     "output_type": "stream",
     "text": [
      "T: 023/300: 100%|█| 78/78 [00:07<00:00, 10.27it/s, lr=0.000291, b_loss=1.2, b_ac\n"
     ]
    },
    {
     "name": "stdout",
     "output_type": "stream",
     "text": [
      "[ Train | 023/300 ] loss = 1.15218, acc = 0.59950\n"
     ]
    },
    {
     "name": "stderr",
     "output_type": "stream",
     "text": [
      "V: 023/300: 100%|█████| 26/26 [00:02<00:00, 12.46it/s, v_loss=1.39, v_acc=0.535]\n"
     ]
    },
    {
     "name": "stdout",
     "output_type": "stream",
     "text": [
      "[ Valid | 023/300 ] loss = 1.39462, acc = 0.53457\n",
      "[ Valid | 023/300 ] loss = 1.39462, acc = 0.53457\n"
     ]
    },
    {
     "name": "stderr",
     "output_type": "stream",
     "text": [
      "T: 024/300: 100%|█| 78/78 [00:07<00:00, 10.05it/s, lr=0.000262, b_loss=1.07, b_a\n"
     ]
    },
    {
     "name": "stdout",
     "output_type": "stream",
     "text": [
      "[ Train | 024/300 ] loss = 1.11876, acc = 0.61686\n"
     ]
    },
    {
     "name": "stderr",
     "output_type": "stream",
     "text": [
      "V: 024/300: 100%|█████| 26/26 [00:02<00:00, 11.25it/s, v_loss=1.16, v_acc=0.611]\n"
     ]
    },
    {
     "name": "stdout",
     "output_type": "stream",
     "text": [
      "[ Valid | 024/300 ] loss = 1.16306, acc = 0.61073\n",
      "[ Valid | 024/300 ] loss = 1.16306, acc = 0.61073 -> best\n",
      "Best model found at fold 1 epoch 24, acc=0.61073, saving model\n"
     ]
    },
    {
     "name": "stderr",
     "output_type": "stream",
     "text": [
      "T: 025/300: 100%|█| 78/78 [00:07<00:00, 10.17it/s, lr=0.000231, b_loss=1.03, b_a\n"
     ]
    },
    {
     "name": "stdout",
     "output_type": "stream",
     "text": [
      "[ Train | 025/300 ] loss = 1.08511, acc = 0.62523\n"
     ]
    },
    {
     "name": "stderr",
     "output_type": "stream",
     "text": [
      "V: 025/300: 100%|██████| 26/26 [00:01<00:00, 13.28it/s, v_loss=1.37, v_acc=0.53]\n"
     ]
    },
    {
     "name": "stdout",
     "output_type": "stream",
     "text": [
      "[ Valid | 025/300 ] loss = 1.36654, acc = 0.53043\n",
      "[ Valid | 025/300 ] loss = 1.36654, acc = 0.53043\n"
     ]
    },
    {
     "name": "stderr",
     "output_type": "stream",
     "text": [
      "T: 026/300: 100%|█| 78/78 [00:07<00:00, 10.35it/s, lr=0.0002, b_loss=1.1, b_acc=\n"
     ]
    },
    {
     "name": "stdout",
     "output_type": "stream",
     "text": [
      "[ Train | 026/300 ] loss = 1.04931, acc = 0.63614\n"
     ]
    },
    {
     "name": "stderr",
     "output_type": "stream",
     "text": [
      "V: 026/300: 100%|█████| 26/26 [00:02<00:00, 12.95it/s, v_loss=1.28, v_acc=0.573]\n"
     ]
    },
    {
     "name": "stdout",
     "output_type": "stream",
     "text": [
      "[ Valid | 026/300 ] loss = 1.27565, acc = 0.57336\n",
      "[ Valid | 026/300 ] loss = 1.27565, acc = 0.57336\n"
     ]
    },
    {
     "name": "stderr",
     "output_type": "stream",
     "text": [
      "T: 027/300: 100%|█| 78/78 [00:07<00:00, 10.15it/s, lr=0.000169, b_loss=1.03, b_a\n"
     ]
    },
    {
     "name": "stdout",
     "output_type": "stream",
     "text": [
      "[ Train | 027/300 ] loss = 1.03228, acc = 0.64626\n"
     ]
    },
    {
     "name": "stderr",
     "output_type": "stream",
     "text": [
      "V: 027/300: 100%|█████| 26/26 [00:01<00:00, 13.41it/s, v_loss=1.14, v_acc=0.621]\n"
     ]
    },
    {
     "name": "stdout",
     "output_type": "stream",
     "text": [
      "[ Valid | 027/300 ] loss = 1.14373, acc = 0.62060\n",
      "[ Valid | 027/300 ] loss = 1.14373, acc = 0.62060 -> best\n",
      "Best model found at fold 1 epoch 27, acc=0.62060, saving model\n"
     ]
    },
    {
     "name": "stderr",
     "output_type": "stream",
     "text": [
      "T: 028/300: 100%|█| 78/78 [00:07<00:00, 10.26it/s, lr=0.000138, b_loss=1.13, b_a\n"
     ]
    },
    {
     "name": "stdout",
     "output_type": "stream",
     "text": [
      "[ Train | 028/300 ] loss = 0.98616, acc = 0.65911\n"
     ]
    },
    {
     "name": "stderr",
     "output_type": "stream",
     "text": [
      "V: 028/300: 100%|██████| 26/26 [00:02<00:00, 12.01it/s, v_loss=1.1, v_acc=0.632]\n"
     ]
    },
    {
     "name": "stdout",
     "output_type": "stream",
     "text": [
      "[ Valid | 028/300 ] loss = 1.09774, acc = 0.63202\n",
      "[ Valid | 028/300 ] loss = 1.09774, acc = 0.63202 -> best\n",
      "Best model found at fold 1 epoch 28, acc=0.63202, saving model\n"
     ]
    },
    {
     "name": "stderr",
     "output_type": "stream",
     "text": [
      "T: 029/300: 100%|█| 78/78 [00:07<00:00, 10.21it/s, lr=0.000109, b_loss=0.903, b_\n"
     ]
    },
    {
     "name": "stdout",
     "output_type": "stream",
     "text": [
      "[ Train | 029/300 ] loss = 0.96479, acc = 0.66921\n"
     ]
    },
    {
     "name": "stderr",
     "output_type": "stream",
     "text": [
      "V: 029/300: 100%|████████| 26/26 [00:01<00:00, 13.48it/s, v_loss=1, v_acc=0.661]\n"
     ]
    },
    {
     "name": "stdout",
     "output_type": "stream",
     "text": [
      "[ Valid | 029/300 ] loss = 1.00230, acc = 0.66120\n",
      "[ Valid | 029/300 ] loss = 1.00230, acc = 0.66120 -> best\n",
      "Best model found at fold 1 epoch 29, acc=0.66120, saving model\n"
     ]
    },
    {
     "name": "stderr",
     "output_type": "stream",
     "text": [
      "T: 030/300: 100%|█| 78/78 [00:07<00:00, 10.40it/s, lr=8.24e-5, b_loss=0.944, b_a\n"
     ]
    },
    {
     "name": "stdout",
     "output_type": "stream",
     "text": [
      "[ Train | 030/300 ] loss = 0.93280, acc = 0.68315\n"
     ]
    },
    {
     "name": "stderr",
     "output_type": "stream",
     "text": [
      "V: 030/300: 100%|████| 26/26 [00:02<00:00, 12.25it/s, v_loss=0.951, v_acc=0.682]\n"
     ]
    },
    {
     "name": "stdout",
     "output_type": "stream",
     "text": [
      "[ Valid | 030/300 ] loss = 0.95081, acc = 0.68199\n",
      "[ Valid | 030/300 ] loss = 0.95081, acc = 0.68199 -> best\n",
      "Best model found at fold 1 epoch 30, acc=0.68199, saving model\n"
     ]
    },
    {
     "name": "stderr",
     "output_type": "stream",
     "text": [
      "T: 031/300: 100%|█| 78/78 [00:07<00:00, 10.12it/s, lr=5.86e-5, b_loss=0.797, b_a\n"
     ]
    },
    {
     "name": "stdout",
     "output_type": "stream",
     "text": [
      "[ Train | 031/300 ] loss = 0.90257, acc = 0.68849\n"
     ]
    },
    {
     "name": "stderr",
     "output_type": "stream",
     "text": [
      "V: 031/300: 100%|████| 26/26 [00:01<00:00, 13.13it/s, v_loss=0.942, v_acc=0.679]\n"
     ]
    },
    {
     "name": "stdout",
     "output_type": "stream",
     "text": [
      "[ Valid | 031/300 ] loss = 0.94214, acc = 0.67898\n",
      "[ Valid | 031/300 ] loss = 0.94214, acc = 0.67898\n"
     ]
    },
    {
     "name": "stderr",
     "output_type": "stream",
     "text": [
      "T: 032/300: 100%|█| 78/78 [00:07<00:00, 10.41it/s, lr=3.82e-5, b_loss=0.936, b_a\n"
     ]
    },
    {
     "name": "stdout",
     "output_type": "stream",
     "text": [
      "[ Train | 032/300 ] loss = 0.88219, acc = 0.69621\n"
     ]
    },
    {
     "name": "stderr",
     "output_type": "stream",
     "text": [
      "V: 032/300: 100%|████| 26/26 [00:02<00:00, 11.99it/s, v_loss=0.926, v_acc=0.693]\n"
     ]
    },
    {
     "name": "stdout",
     "output_type": "stream",
     "text": [
      "[ Valid | 032/300 ] loss = 0.92577, acc = 0.69258\n",
      "[ Valid | 032/300 ] loss = 0.92577, acc = 0.69258 -> best\n",
      "Best model found at fold 1 epoch 32, acc=0.69258, saving model\n"
     ]
    },
    {
     "name": "stderr",
     "output_type": "stream",
     "text": [
      "T: 033/300: 100%|█| 78/78 [00:07<00:00, 10.45it/s, lr=2.18e-5, b_loss=0.738, b_a\n"
     ]
    },
    {
     "name": "stdout",
     "output_type": "stream",
     "text": [
      "[ Train | 033/300 ] loss = 0.87063, acc = 0.70381\n"
     ]
    },
    {
     "name": "stderr",
     "output_type": "stream",
     "text": [
      "V: 033/300: 100%|████| 26/26 [00:02<00:00, 11.56it/s, v_loss=0.908, v_acc=0.691]\n"
     ]
    },
    {
     "name": "stdout",
     "output_type": "stream",
     "text": [
      "[ Valid | 033/300 ] loss = 0.90837, acc = 0.69137\n",
      "[ Valid | 033/300 ] loss = 0.90837, acc = 0.69137\n"
     ]
    },
    {
     "name": "stderr",
     "output_type": "stream",
     "text": [
      "T: 034/300: 100%|█| 78/78 [00:07<00:00, 10.40it/s, lr=9.79e-6, b_loss=0.909, b_a\n"
     ]
    },
    {
     "name": "stdout",
     "output_type": "stream",
     "text": [
      "[ Train | 034/300 ] loss = 0.86158, acc = 0.70084\n"
     ]
    },
    {
     "name": "stderr",
     "output_type": "stream",
     "text": [
      "V: 034/300: 100%|██████| 26/26 [00:01<00:00, 13.14it/s, v_loss=0.901, v_acc=0.7]\n"
     ]
    },
    {
     "name": "stdout",
     "output_type": "stream",
     "text": [
      "[ Valid | 034/300 ] loss = 0.90060, acc = 0.69977\n",
      "[ Valid | 034/300 ] loss = 0.90060, acc = 0.69977 -> best\n",
      "Best model found at fold 1 epoch 34, acc=0.69977, saving model\n"
     ]
    },
    {
     "name": "stderr",
     "output_type": "stream",
     "text": [
      "T: 035/300: 100%|█| 78/78 [00:07<00:00, 10.48it/s, lr=2.46e-6, b_loss=0.853, b_a\n"
     ]
    },
    {
     "name": "stdout",
     "output_type": "stream",
     "text": [
      "[ Train | 035/300 ] loss = 0.84954, acc = 0.70808\n"
     ]
    },
    {
     "name": "stderr",
     "output_type": "stream",
     "text": [
      "V: 035/300: 100%|████| 26/26 [00:01<00:00, 14.46it/s, v_loss=0.895, v_acc=0.702]\n"
     ]
    },
    {
     "name": "stdout",
     "output_type": "stream",
     "text": [
      "[ Valid | 035/300 ] loss = 0.89466, acc = 0.70216\n",
      "[ Valid | 035/300 ] loss = 0.89466, acc = 0.70216 -> best\n",
      "Best model found at fold 1 epoch 35, acc=0.70216, saving model\n"
     ]
    },
    {
     "name": "stderr",
     "output_type": "stream",
     "text": [
      "T: 036/300: 100%|█| 78/78 [00:07<00:00, 10.31it/s, lr=0.0004, b_loss=1.12, b_acc\n"
     ]
    },
    {
     "name": "stdout",
     "output_type": "stream",
     "text": [
      "[ Train | 036/300 ] loss = 1.11939, acc = 0.61338\n"
     ]
    },
    {
     "name": "stderr",
     "output_type": "stream",
     "text": [
      "V: 036/300: 100%|██████| 26/26 [00:02<00:00, 12.79it/s, v_loss=1.9, v_acc=0.439]\n"
     ]
    },
    {
     "name": "stdout",
     "output_type": "stream",
     "text": [
      "[ Valid | 036/300 ] loss = 1.89551, acc = 0.43922\n",
      "[ Valid | 036/300 ] loss = 1.89551, acc = 0.43922\n"
     ]
    },
    {
     "name": "stderr",
     "output_type": "stream",
     "text": [
      "T: 037/300: 100%|█| 78/78 [00:07<00:00, 10.22it/s, lr=0.000399, b_loss=1.04, b_a\n"
     ]
    },
    {
     "name": "stdout",
     "output_type": "stream",
     "text": [
      "[ Train | 037/300 ] loss = 1.09601, acc = 0.62629\n"
     ]
    },
    {
     "name": "stderr",
     "output_type": "stream",
     "text": [
      "V: 037/300: 100%|█████| 26/26 [00:01<00:00, 13.13it/s, v_loss=1.32, v_acc=0.548]\n"
     ]
    },
    {
     "name": "stdout",
     "output_type": "stream",
     "text": [
      "[ Valid | 037/300 ] loss = 1.31944, acc = 0.54751\n",
      "[ Valid | 037/300 ] loss = 1.31944, acc = 0.54751\n"
     ]
    },
    {
     "name": "stderr",
     "output_type": "stream",
     "text": [
      "T: 038/300: 100%|█| 78/78 [00:07<00:00, 10.56it/s, lr=0.000398, b_loss=1.07, b_a\n"
     ]
    },
    {
     "name": "stdout",
     "output_type": "stream",
     "text": [
      "[ Train | 038/300 ] loss = 1.07509, acc = 0.63084\n"
     ]
    },
    {
     "name": "stderr",
     "output_type": "stream",
     "text": [
      "V: 038/300: 100%|█████| 26/26 [00:02<00:00, 11.57it/s, v_loss=1.19, v_acc=0.607]\n"
     ]
    },
    {
     "name": "stdout",
     "output_type": "stream",
     "text": [
      "[ Valid | 038/300 ] loss = 1.18749, acc = 0.60737\n",
      "[ Valid | 038/300 ] loss = 1.18749, acc = 0.60737\n"
     ]
    },
    {
     "name": "stderr",
     "output_type": "stream",
     "text": [
      "T: 039/300: 100%|█| 78/78 [00:07<00:00, 10.57it/s, lr=0.000394, b_loss=1.05, b_a\n"
     ]
    },
    {
     "name": "stdout",
     "output_type": "stream",
     "text": [
      "[ Train | 039/300 ] loss = 1.05487, acc = 0.63113\n"
     ]
    },
    {
     "name": "stderr",
     "output_type": "stream",
     "text": [
      "V: 039/300: 100%|█████| 26/26 [00:02<00:00, 12.67it/s, v_loss=1.11, v_acc=0.624]\n"
     ]
    },
    {
     "name": "stdout",
     "output_type": "stream",
     "text": [
      "[ Valid | 039/300 ] loss = 1.10575, acc = 0.62434\n",
      "[ Valid | 039/300 ] loss = 1.10575, acc = 0.62434\n"
     ]
    },
    {
     "name": "stderr",
     "output_type": "stream",
     "text": [
      "T: 040/300: 100%|█| 78/78 [00:07<00:00, 10.18it/s, lr=0.00039, b_loss=1.04, b_ac\n"
     ]
    },
    {
     "name": "stdout",
     "output_type": "stream",
     "text": [
      "[ Train | 040/300 ] loss = 1.04252, acc = 0.64384\n"
     ]
    },
    {
     "name": "stderr",
     "output_type": "stream",
     "text": [
      "V: 040/300: 100%|█████| 26/26 [00:02<00:00, 11.61it/s, v_loss=1.34, v_acc=0.568]\n"
     ]
    },
    {
     "name": "stdout",
     "output_type": "stream",
     "text": [
      "[ Valid | 040/300 ] loss = 1.33609, acc = 0.56804\n",
      "[ Valid | 040/300 ] loss = 1.33609, acc = 0.56804\n"
     ]
    },
    {
     "name": "stderr",
     "output_type": "stream",
     "text": [
      "T: 041/300: 100%|█| 78/78 [00:07<00:00, 10.04it/s, lr=0.000385, b_loss=1.22, b_a\n"
     ]
    },
    {
     "name": "stdout",
     "output_type": "stream",
     "text": [
      "[ Train | 041/300 ] loss = 1.02881, acc = 0.63953\n"
     ]
    },
    {
     "name": "stderr",
     "output_type": "stream",
     "text": [
      "V: 041/300: 100%|█████| 26/26 [00:02<00:00, 12.78it/s, v_loss=1.28, v_acc=0.585]\n"
     ]
    },
    {
     "name": "stdout",
     "output_type": "stream",
     "text": [
      "[ Valid | 041/300 ] loss = 1.28379, acc = 0.58454\n",
      "[ Valid | 041/300 ] loss = 1.28379, acc = 0.58454\n"
     ]
    },
    {
     "name": "stderr",
     "output_type": "stream",
     "text": [
      "T: 042/300: 100%|█| 78/78 [00:07<00:00, 10.22it/s, lr=0.000378, b_loss=1.03, b_a\n"
     ]
    },
    {
     "name": "stdout",
     "output_type": "stream",
     "text": [
      "[ Train | 042/300 ] loss = 0.99942, acc = 0.65353\n"
     ]
    },
    {
     "name": "stderr",
     "output_type": "stream",
     "text": [
      "V: 042/300: 100%|█████| 26/26 [00:01<00:00, 13.73it/s, v_loss=1.14, v_acc=0.618]\n"
     ]
    },
    {
     "name": "stdout",
     "output_type": "stream",
     "text": [
      "[ Valid | 042/300 ] loss = 1.13918, acc = 0.61821\n",
      "[ Valid | 042/300 ] loss = 1.13918, acc = 0.61821\n"
     ]
    },
    {
     "name": "stderr",
     "output_type": "stream",
     "text": [
      "T: 043/300: 100%|█| 78/78 [00:07<00:00, 10.48it/s, lr=0.000371, b_loss=0.933, b_\n"
     ]
    },
    {
     "name": "stdout",
     "output_type": "stream",
     "text": [
      "[ Train | 043/300 ] loss = 0.98229, acc = 0.66478\n"
     ]
    },
    {
     "name": "stderr",
     "output_type": "stream",
     "text": [
      "V: 043/300: 100%|█████| 26/26 [00:02<00:00, 12.42it/s, v_loss=1.13, v_acc=0.619]\n"
     ]
    },
    {
     "name": "stdout",
     "output_type": "stream",
     "text": [
      "[ Valid | 043/300 ] loss = 1.13361, acc = 0.61880\n",
      "[ Valid | 043/300 ] loss = 1.13361, acc = 0.61880\n"
     ]
    },
    {
     "name": "stderr",
     "output_type": "stream",
     "text": [
      "T: 044/300: 100%|█| 78/78 [00:07<00:00, 10.40it/s, lr=0.000362, b_loss=1, b_acc=\n"
     ]
    },
    {
     "name": "stdout",
     "output_type": "stream",
     "text": [
      "[ Train | 044/300 ] loss = 0.95799, acc = 0.66996\n"
     ]
    },
    {
     "name": "stderr",
     "output_type": "stream",
     "text": [
      "V: 044/300: 100%|██████| 26/26 [00:02<00:00, 10.27it/s, v_loss=1.03, v_acc=0.65]\n"
     ]
    },
    {
     "name": "stdout",
     "output_type": "stream",
     "text": [
      "[ Valid | 044/300 ] loss = 1.02883, acc = 0.64957\n",
      "[ Valid | 044/300 ] loss = 1.02883, acc = 0.64957\n"
     ]
    },
    {
     "name": "stderr",
     "output_type": "stream",
     "text": [
      "T: 045/300: 100%|█| 78/78 [00:07<00:00, 10.49it/s, lr=0.000352, b_loss=1.15, b_a\n"
     ]
    },
    {
     "name": "stdout",
     "output_type": "stream",
     "text": [
      "[ Train | 045/300 ] loss = 0.94668, acc = 0.66850\n"
     ]
    },
    {
     "name": "stderr",
     "output_type": "stream",
     "text": [
      "V: 045/300: 100%|█████| 26/26 [00:02<00:00, 12.43it/s, v_loss=1.71, v_acc=0.496]\n"
     ]
    },
    {
     "name": "stdout",
     "output_type": "stream",
     "text": [
      "[ Valid | 045/300 ] loss = 1.71489, acc = 0.49647\n",
      "[ Valid | 045/300 ] loss = 1.71489, acc = 0.49647\n"
     ]
    },
    {
     "name": "stderr",
     "output_type": "stream",
     "text": [
      "T: 046/300: 100%|█| 78/78 [00:07<00:00, 10.54it/s, lr=0.000341, b_loss=0.931, b_\n"
     ]
    },
    {
     "name": "stdout",
     "output_type": "stream",
     "text": [
      "[ Train | 046/300 ] loss = 0.93715, acc = 0.68116\n"
     ]
    },
    {
     "name": "stderr",
     "output_type": "stream",
     "text": [
      "V: 046/300: 100%|█████| 26/26 [00:02<00:00, 12.82it/s, v_loss=1.17, v_acc=0.609]\n"
     ]
    },
    {
     "name": "stdout",
     "output_type": "stream",
     "text": [
      "[ Valid | 046/300 ] loss = 1.17419, acc = 0.60864\n",
      "[ Valid | 046/300 ] loss = 1.17419, acc = 0.60864\n"
     ]
    },
    {
     "name": "stderr",
     "output_type": "stream",
     "text": [
      "T: 047/300: 100%|█| 78/78 [00:07<00:00, 10.41it/s, lr=0.00033, b_loss=0.895, b_a\n"
     ]
    },
    {
     "name": "stdout",
     "output_type": "stream",
     "text": [
      "[ Train | 047/300 ] loss = 0.90707, acc = 0.68823\n"
     ]
    },
    {
     "name": "stderr",
     "output_type": "stream",
     "text": [
      "V: 047/300: 100%|████| 26/26 [00:01<00:00, 13.97it/s, v_loss=0.974, v_acc=0.676]\n"
     ]
    },
    {
     "name": "stdout",
     "output_type": "stream",
     "text": [
      "[ Valid | 047/300 ] loss = 0.97400, acc = 0.67599\n",
      "[ Valid | 047/300 ] loss = 0.97400, acc = 0.67599\n"
     ]
    },
    {
     "name": "stderr",
     "output_type": "stream",
     "text": [
      "T: 048/300: 100%|█| 78/78 [00:07<00:00, 10.17it/s, lr=0.000318, b_loss=0.959, b_\n"
     ]
    },
    {
     "name": "stdout",
     "output_type": "stream",
     "text": [
      "[ Train | 048/300 ] loss = 0.90370, acc = 0.68757\n"
     ]
    },
    {
     "name": "stderr",
     "output_type": "stream",
     "text": [
      "V: 048/300: 100%|█████| 26/26 [00:02<00:00, 12.51it/s, v_loss=1.17, v_acc=0.619]\n"
     ]
    },
    {
     "name": "stdout",
     "output_type": "stream",
     "text": [
      "[ Valid | 048/300 ] loss = 1.16678, acc = 0.61916\n",
      "[ Valid | 048/300 ] loss = 1.16678, acc = 0.61916\n"
     ]
    },
    {
     "name": "stderr",
     "output_type": "stream",
     "text": [
      "T: 049/300: 100%|█| 78/78 [00:07<00:00, 10.37it/s, lr=0.000304, b_loss=0.723, b_\n"
     ]
    },
    {
     "name": "stdout",
     "output_type": "stream",
     "text": [
      "[ Train | 049/300 ] loss = 0.86867, acc = 0.70086\n"
     ]
    },
    {
     "name": "stderr",
     "output_type": "stream",
     "text": [
      "V: 049/300: 100%|████| 26/26 [00:02<00:00, 12.97it/s, v_loss=0.955, v_acc=0.673]\n"
     ]
    },
    {
     "name": "stdout",
     "output_type": "stream",
     "text": [
      "[ Valid | 049/300 ] loss = 0.95510, acc = 0.67266\n",
      "[ Valid | 049/300 ] loss = 0.95510, acc = 0.67266\n"
     ]
    },
    {
     "name": "stderr",
     "output_type": "stream",
     "text": [
      "T: 050/300: 100%|█| 78/78 [00:07<00:00, 10.05it/s, lr=0.000291, b_loss=0.865, b_\n"
     ]
    },
    {
     "name": "stdout",
     "output_type": "stream",
     "text": [
      "[ Train | 050/300 ] loss = 0.86370, acc = 0.70165\n"
     ]
    },
    {
     "name": "stderr",
     "output_type": "stream",
     "text": [
      "V: 050/300: 100%|█████| 26/26 [00:02<00:00, 12.27it/s, v_loss=1.02, v_acc=0.666]\n"
     ]
    },
    {
     "name": "stdout",
     "output_type": "stream",
     "text": [
      "[ Valid | 050/300 ] loss = 1.01655, acc = 0.66600\n",
      "[ Valid | 050/300 ] loss = 1.01655, acc = 0.66600\n"
     ]
    },
    {
     "name": "stderr",
     "output_type": "stream",
     "text": [
      "T: 051/300: 100%|█| 78/78 [00:07<00:00, 10.10it/s, lr=0.000277, b_loss=0.764, b_\n"
     ]
    },
    {
     "name": "stdout",
     "output_type": "stream",
     "text": [
      "[ Train | 051/300 ] loss = 0.83602, acc = 0.71543\n"
     ]
    },
    {
     "name": "stderr",
     "output_type": "stream",
     "text": [
      "V: 051/300: 100%|█████| 26/26 [00:02<00:00, 12.34it/s, v_loss=1.05, v_acc=0.647]\n"
     ]
    },
    {
     "name": "stdout",
     "output_type": "stream",
     "text": [
      "[ Valid | 051/300 ] loss = 1.05431, acc = 0.64708\n",
      "[ Valid | 051/300 ] loss = 1.05431, acc = 0.64708\n"
     ]
    },
    {
     "name": "stderr",
     "output_type": "stream",
     "text": [
      "T: 052/300: 100%|█| 78/78 [00:07<00:00, 10.10it/s, lr=0.000262, b_loss=0.86, b_a\n"
     ]
    },
    {
     "name": "stdout",
     "output_type": "stream",
     "text": [
      "[ Train | 052/300 ] loss = 0.82382, acc = 0.71859\n"
     ]
    },
    {
     "name": "stderr",
     "output_type": "stream",
     "text": [
      "V: 052/300: 100%|█████| 26/26 [00:01<00:00, 13.11it/s, v_loss=1.25, v_acc=0.602]\n"
     ]
    },
    {
     "name": "stdout",
     "output_type": "stream",
     "text": [
      "[ Valid | 052/300 ] loss = 1.25140, acc = 0.60159\n",
      "[ Valid | 052/300 ] loss = 1.25140, acc = 0.60159\n"
     ]
    },
    {
     "name": "stderr",
     "output_type": "stream",
     "text": [
      "T: 053/300: 100%|█| 78/78 [00:07<00:00, 10.15it/s, lr=0.000247, b_loss=0.848, b_\n"
     ]
    },
    {
     "name": "stdout",
     "output_type": "stream",
     "text": [
      "[ Train | 053/300 ] loss = 0.81673, acc = 0.72121\n"
     ]
    },
    {
     "name": "stderr",
     "output_type": "stream",
     "text": [
      "V: 053/300: 100%|█████| 26/26 [00:02<00:00, 12.34it/s, v_loss=1.01, v_acc=0.663]\n"
     ]
    },
    {
     "name": "stdout",
     "output_type": "stream",
     "text": [
      "[ Valid | 053/300 ] loss = 1.00525, acc = 0.66262\n",
      "[ Valid | 053/300 ] loss = 1.00525, acc = 0.66262\n"
     ]
    },
    {
     "name": "stderr",
     "output_type": "stream",
     "text": [
      "T: 054/300: 100%|█| 78/78 [00:07<00:00,  9.82it/s, lr=0.000231, b_loss=0.754, b_\n"
     ]
    },
    {
     "name": "stdout",
     "output_type": "stream",
     "text": [
      "[ Train | 054/300 ] loss = 0.80014, acc = 0.72755\n"
     ]
    },
    {
     "name": "stderr",
     "output_type": "stream",
     "text": [
      "V: 054/300: 100%|█████| 26/26 [00:02<00:00, 12.78it/s, v_loss=1.02, v_acc=0.667]\n"
     ]
    },
    {
     "name": "stdout",
     "output_type": "stream",
     "text": [
      "[ Valid | 054/300 ] loss = 1.02294, acc = 0.66716\n",
      "[ Valid | 054/300 ] loss = 1.02294, acc = 0.66716\n"
     ]
    },
    {
     "name": "stderr",
     "output_type": "stream",
     "text": [
      "T: 055/300: 100%|█| 78/78 [00:07<00:00, 10.44it/s, lr=0.000216, b_loss=0.636, b_\n"
     ]
    },
    {
     "name": "stdout",
     "output_type": "stream",
     "text": [
      "[ Train | 055/300 ] loss = 0.77391, acc = 0.73314\n"
     ]
    },
    {
     "name": "stderr",
     "output_type": "stream",
     "text": [
      "V: 055/300: 100%|████| 26/26 [00:02<00:00, 11.89it/s, v_loss=0.875, v_acc=0.715]\n"
     ]
    },
    {
     "name": "stdout",
     "output_type": "stream",
     "text": [
      "[ Valid | 055/300 ] loss = 0.87548, acc = 0.71452\n",
      "[ Valid | 055/300 ] loss = 0.87548, acc = 0.71452 -> best\n",
      "Best model found at fold 1 epoch 55, acc=0.71452, saving model\n"
     ]
    },
    {
     "name": "stderr",
     "output_type": "stream",
     "text": [
      "T: 056/300: 100%|█| 78/78 [00:07<00:00, 10.31it/s, lr=0.0002, b_loss=0.707, b_ac\n"
     ]
    },
    {
     "name": "stdout",
     "output_type": "stream",
     "text": [
      "[ Train | 056/300 ] loss = 0.76757, acc = 0.73526\n"
     ]
    },
    {
     "name": "stderr",
     "output_type": "stream",
     "text": [
      "V: 056/300: 100%|████| 26/26 [00:02<00:00, 12.28it/s, v_loss=0.902, v_acc=0.708]\n"
     ]
    },
    {
     "name": "stdout",
     "output_type": "stream",
     "text": [
      "[ Valid | 056/300 ] loss = 0.90225, acc = 0.70756\n",
      "[ Valid | 056/300 ] loss = 0.90225, acc = 0.70756\n"
     ]
    },
    {
     "name": "stderr",
     "output_type": "stream",
     "text": [
      "T: 057/300: 100%|█| 78/78 [00:07<00:00, 10.43it/s, lr=0.000184, b_loss=0.453, b_\n"
     ]
    },
    {
     "name": "stdout",
     "output_type": "stream",
     "text": [
      "[ Train | 057/300 ] loss = 0.75657, acc = 0.73612\n"
     ]
    },
    {
     "name": "stderr",
     "output_type": "stream",
     "text": [
      "V: 057/300: 100%|████████| 26/26 [00:01<00:00, 14.26it/s, v_loss=1, v_acc=0.668]\n"
     ]
    },
    {
     "name": "stdout",
     "output_type": "stream",
     "text": [
      "[ Valid | 057/300 ] loss = 1.00439, acc = 0.66846\n",
      "[ Valid | 057/300 ] loss = 1.00439, acc = 0.66846\n"
     ]
    },
    {
     "name": "stderr",
     "output_type": "stream",
     "text": [
      "T: 058/300: 100%|█| 78/78 [00:07<00:00, 10.27it/s, lr=0.000169, b_loss=0.646, b_\n"
     ]
    },
    {
     "name": "stdout",
     "output_type": "stream",
     "text": [
      "[ Train | 058/300 ] loss = 0.71870, acc = 0.75593\n"
     ]
    },
    {
     "name": "stderr",
     "output_type": "stream",
     "text": [
      "V: 058/300: 100%|█████| 26/26 [00:02<00:00, 12.09it/s, v_loss=0.886, v_acc=0.71]\n"
     ]
    },
    {
     "name": "stdout",
     "output_type": "stream",
     "text": [
      "[ Valid | 058/300 ] loss = 0.88630, acc = 0.70998\n",
      "[ Valid | 058/300 ] loss = 0.88630, acc = 0.70998\n"
     ]
    },
    {
     "name": "stderr",
     "output_type": "stream",
     "text": [
      "T: 059/300: 100%|█| 78/78 [00:07<00:00, 10.13it/s, lr=0.000153, b_loss=0.747, b_\n"
     ]
    },
    {
     "name": "stdout",
     "output_type": "stream",
     "text": [
      "[ Train | 059/300 ] loss = 0.70276, acc = 0.75508\n"
     ]
    },
    {
     "name": "stderr",
     "output_type": "stream",
     "text": [
      "V: 059/300: 100%|████| 26/26 [00:02<00:00, 12.91it/s, v_loss=0.886, v_acc=0.713]\n"
     ]
    },
    {
     "name": "stdout",
     "output_type": "stream",
     "text": [
      "[ Valid | 059/300 ] loss = 0.88609, acc = 0.71328\n",
      "[ Valid | 059/300 ] loss = 0.88609, acc = 0.71328\n"
     ]
    },
    {
     "name": "stderr",
     "output_type": "stream",
     "text": [
      "T: 060/300: 100%|█| 78/78 [00:07<00:00, 10.18it/s, lr=0.000138, b_loss=0.857, b_\n"
     ]
    },
    {
     "name": "stdout",
     "output_type": "stream",
     "text": [
      "[ Train | 060/300 ] loss = 0.69146, acc = 0.76180\n"
     ]
    },
    {
     "name": "stderr",
     "output_type": "stream",
     "text": [
      "V: 060/300: 100%|████| 26/26 [00:02<00:00, 12.81it/s, v_loss=0.839, v_acc=0.716]\n"
     ]
    },
    {
     "name": "stdout",
     "output_type": "stream",
     "text": [
      "[ Valid | 060/300 ] loss = 0.83896, acc = 0.71604\n",
      "[ Valid | 060/300 ] loss = 0.83896, acc = 0.71604 -> best\n",
      "Best model found at fold 1 epoch 60, acc=0.71604, saving model\n"
     ]
    },
    {
     "name": "stderr",
     "output_type": "stream",
     "text": [
      "T: 061/300: 100%|█| 78/78 [00:08<00:00,  8.97it/s, lr=0.000123, b_loss=0.707, b_\n"
     ]
    },
    {
     "name": "stdout",
     "output_type": "stream",
     "text": [
      "[ Train | 061/300 ] loss = 0.65634, acc = 0.77593\n"
     ]
    },
    {
     "name": "stderr",
     "output_type": "stream",
     "text": [
      "V: 061/300: 100%|████| 26/26 [00:02<00:00, 11.02it/s, v_loss=0.817, v_acc=0.728]\n"
     ]
    },
    {
     "name": "stdout",
     "output_type": "stream",
     "text": [
      "[ Valid | 061/300 ] loss = 0.81732, acc = 0.72773\n",
      "[ Valid | 061/300 ] loss = 0.81732, acc = 0.72773 -> best\n",
      "Best model found at fold 1 epoch 61, acc=0.72773, saving model\n"
     ]
    },
    {
     "name": "stderr",
     "output_type": "stream",
     "text": [
      "T: 062/300: 100%|█| 78/78 [00:08<00:00,  8.97it/s, lr=0.000109, b_loss=0.759, b_\n"
     ]
    },
    {
     "name": "stdout",
     "output_type": "stream",
     "text": [
      "[ Train | 062/300 ] loss = 0.66081, acc = 0.77542\n"
     ]
    },
    {
     "name": "stderr",
     "output_type": "stream",
     "text": [
      "V: 062/300: 100%|████| 26/26 [00:02<00:00,  9.85it/s, v_loss=0.819, v_acc=0.731]\n"
     ]
    },
    {
     "name": "stdout",
     "output_type": "stream",
     "text": [
      "[ Valid | 062/300 ] loss = 0.81922, acc = 0.73109\n",
      "[ Valid | 062/300 ] loss = 0.81922, acc = 0.73109 -> best\n",
      "Best model found at fold 1 epoch 62, acc=0.73109, saving model\n"
     ]
    },
    {
     "name": "stderr",
     "output_type": "stream",
     "text": [
      "T: 063/300: 100%|█| 78/78 [00:08<00:00,  9.20it/s, lr=9.55e-5, b_loss=0.688, b_a\n"
     ]
    },
    {
     "name": "stdout",
     "output_type": "stream",
     "text": [
      "[ Train | 063/300 ] loss = 0.64359, acc = 0.77667\n"
     ]
    },
    {
     "name": "stderr",
     "output_type": "stream",
     "text": [
      "V: 063/300: 100%|█████| 26/26 [00:02<00:00, 11.22it/s, v_loss=0.82, v_acc=0.734]\n"
     ]
    },
    {
     "name": "stdout",
     "output_type": "stream",
     "text": [
      "[ Valid | 063/300 ] loss = 0.82010, acc = 0.73409\n",
      "[ Valid | 063/300 ] loss = 0.82010, acc = 0.73409 -> best\n",
      "Best model found at fold 1 epoch 63, acc=0.73409, saving model\n"
     ]
    },
    {
     "name": "stderr",
     "output_type": "stream",
     "text": [
      "T: 064/300: 100%|█| 78/78 [00:08<00:00,  9.32it/s, lr=8.24e-5, b_loss=0.668, b_a\n"
     ]
    },
    {
     "name": "stdout",
     "output_type": "stream",
     "text": [
      "[ Train | 064/300 ] loss = 0.63021, acc = 0.77838\n"
     ]
    },
    {
     "name": "stderr",
     "output_type": "stream",
     "text": [
      "V: 064/300: 100%|████| 26/26 [00:02<00:00, 12.73it/s, v_loss=0.803, v_acc=0.735]\n"
     ]
    },
    {
     "name": "stdout",
     "output_type": "stream",
     "text": [
      "[ Valid | 064/300 ] loss = 0.80305, acc = 0.73489\n",
      "[ Valid | 064/300 ] loss = 0.80305, acc = 0.73489 -> best\n",
      "Best model found at fold 1 epoch 64, acc=0.73489, saving model\n"
     ]
    },
    {
     "name": "stderr",
     "output_type": "stream",
     "text": [
      "T: 065/300: 100%|█| 78/78 [00:07<00:00, 10.30it/s, lr=7.01e-5, b_loss=0.559, b_a\n"
     ]
    },
    {
     "name": "stdout",
     "output_type": "stream",
     "text": [
      "[ Train | 065/300 ] loss = 0.62067, acc = 0.78673\n"
     ]
    },
    {
     "name": "stderr",
     "output_type": "stream",
     "text": [
      "V: 065/300: 100%|████| 26/26 [00:01<00:00, 13.73it/s, v_loss=0.769, v_acc=0.745]\n"
     ]
    },
    {
     "name": "stdout",
     "output_type": "stream",
     "text": [
      "[ Valid | 065/300 ] loss = 0.76917, acc = 0.74490\n",
      "[ Valid | 065/300 ] loss = 0.76917, acc = 0.74490 -> best\n",
      "Best model found at fold 1 epoch 65, acc=0.74490, saving model\n"
     ]
    },
    {
     "name": "stderr",
     "output_type": "stream",
     "text": [
      "T: 066/300: 100%|█| 78/78 [00:07<00:00, 10.31it/s, lr=5.86e-5, b_loss=0.61, b_ac\n"
     ]
    },
    {
     "name": "stdout",
     "output_type": "stream",
     "text": [
      "[ Train | 066/300 ] loss = 0.60230, acc = 0.79014\n"
     ]
    },
    {
     "name": "stderr",
     "output_type": "stream",
     "text": [
      "V: 066/300: 100%|█████| 26/26 [00:02<00:00, 12.96it/s, v_loss=0.78, v_acc=0.743]\n"
     ]
    },
    {
     "name": "stdout",
     "output_type": "stream",
     "text": [
      "[ Valid | 066/300 ] loss = 0.78037, acc = 0.74299\n",
      "[ Valid | 066/300 ] loss = 0.78037, acc = 0.74299\n"
     ]
    },
    {
     "name": "stderr",
     "output_type": "stream",
     "text": [
      "T: 067/300: 100%|█| 78/78 [00:07<00:00,  9.90it/s, lr=4.79e-5, b_loss=0.624, b_a\n"
     ]
    },
    {
     "name": "stdout",
     "output_type": "stream",
     "text": [
      "[ Train | 067/300 ] loss = 0.59513, acc = 0.79329\n"
     ]
    },
    {
     "name": "stderr",
     "output_type": "stream",
     "text": [
      "V: 067/300: 100%|█████| 26/26 [00:01<00:00, 13.26it/s, v_loss=0.782, v_acc=0.75]\n"
     ]
    },
    {
     "name": "stdout",
     "output_type": "stream",
     "text": [
      "[ Valid | 067/300 ] loss = 0.78215, acc = 0.74999\n",
      "[ Valid | 067/300 ] loss = 0.78215, acc = 0.74999 -> best\n",
      "Best model found at fold 1 epoch 67, acc=0.74999, saving model\n"
     ]
    },
    {
     "name": "stderr",
     "output_type": "stream",
     "text": [
      "T: 068/300: 100%|█| 78/78 [00:07<00:00, 10.52it/s, lr=3.82e-5, b_loss=0.52, b_ac\n"
     ]
    },
    {
     "name": "stdout",
     "output_type": "stream",
     "text": [
      "[ Train | 068/300 ] loss = 0.57354, acc = 0.80638\n"
     ]
    },
    {
     "name": "stderr",
     "output_type": "stream",
     "text": [
      "V: 068/300: 100%|████| 26/26 [00:02<00:00, 11.79it/s, v_loss=0.758, v_acc=0.753]\n"
     ]
    },
    {
     "name": "stdout",
     "output_type": "stream",
     "text": [
      "[ Valid | 068/300 ] loss = 0.75756, acc = 0.75337\n",
      "[ Valid | 068/300 ] loss = 0.75756, acc = 0.75337 -> best\n",
      "Best model found at fold 1 epoch 68, acc=0.75337, saving model\n"
     ]
    },
    {
     "name": "stderr",
     "output_type": "stream",
     "text": [
      "T: 069/300: 100%|█| 78/78 [00:07<00:00, 10.20it/s, lr=2.95e-5, b_loss=0.596, b_a\n"
     ]
    },
    {
     "name": "stdout",
     "output_type": "stream",
     "text": [
      "[ Train | 069/300 ] loss = 0.57438, acc = 0.80195\n"
     ]
    },
    {
     "name": "stderr",
     "output_type": "stream",
     "text": [
      "V: 069/300: 100%|████| 26/26 [00:02<00:00, 11.84it/s, v_loss=0.769, v_acc=0.752]\n"
     ]
    },
    {
     "name": "stdout",
     "output_type": "stream",
     "text": [
      "[ Valid | 069/300 ] loss = 0.76873, acc = 0.75237\n",
      "[ Valid | 069/300 ] loss = 0.76873, acc = 0.75237\n"
     ]
    },
    {
     "name": "stderr",
     "output_type": "stream",
     "text": [
      "T: 070/300: 100%|█| 78/78 [00:07<00:00, 10.05it/s, lr=2.18e-5, b_loss=0.632, b_a\n"
     ]
    },
    {
     "name": "stdout",
     "output_type": "stream",
     "text": [
      "[ Train | 070/300 ] loss = 0.55963, acc = 0.80227\n"
     ]
    },
    {
     "name": "stderr",
     "output_type": "stream",
     "text": [
      "V: 070/300: 100%|█████| 26/26 [00:01<00:00, 13.16it/s, v_loss=0.759, v_acc=0.75]\n"
     ]
    },
    {
     "name": "stdout",
     "output_type": "stream",
     "text": [
      "[ Valid | 070/300 ] loss = 0.75898, acc = 0.75026\n",
      "[ Valid | 070/300 ] loss = 0.75898, acc = 0.75026\n"
     ]
    },
    {
     "name": "stderr",
     "output_type": "stream",
     "text": [
      "T: 071/300: 100%|█| 78/78 [00:07<00:00, 10.28it/s, lr=1.52e-5, b_loss=0.536, b_a\n"
     ]
    },
    {
     "name": "stdout",
     "output_type": "stream",
     "text": [
      "[ Train | 071/300 ] loss = 0.55991, acc = 0.80784\n"
     ]
    },
    {
     "name": "stderr",
     "output_type": "stream",
     "text": [
      "V: 071/300: 100%|████| 26/26 [00:02<00:00, 12.65it/s, v_loss=0.756, v_acc=0.752]\n"
     ]
    },
    {
     "name": "stdout",
     "output_type": "stream",
     "text": [
      "[ Valid | 071/300 ] loss = 0.75645, acc = 0.75182\n",
      "[ Valid | 071/300 ] loss = 0.75645, acc = 0.75182\n"
     ]
    },
    {
     "name": "stderr",
     "output_type": "stream",
     "text": [
      "T: 072/300: 100%|█| 78/78 [00:07<00:00, 10.32it/s, lr=9.79e-6, b_loss=0.515, b_a\n"
     ]
    },
    {
     "name": "stdout",
     "output_type": "stream",
     "text": [
      "[ Train | 072/300 ] loss = 0.54605, acc = 0.81259\n"
     ]
    },
    {
     "name": "stderr",
     "output_type": "stream",
     "text": [
      "V: 072/300: 100%|████| 26/26 [00:02<00:00, 12.82it/s, v_loss=0.743, v_acc=0.755]\n"
     ]
    },
    {
     "name": "stdout",
     "output_type": "stream",
     "text": [
      "[ Valid | 072/300 ] loss = 0.74287, acc = 0.75540\n",
      "[ Valid | 072/300 ] loss = 0.74287, acc = 0.75540 -> best\n",
      "Best model found at fold 1 epoch 72, acc=0.75540, saving model\n"
     ]
    },
    {
     "name": "stderr",
     "output_type": "stream",
     "text": [
      "T: 073/300: 100%|█| 78/78 [00:07<00:00, 10.37it/s, lr=5.53e-6, b_loss=0.502, b_a\n"
     ]
    },
    {
     "name": "stdout",
     "output_type": "stream",
     "text": [
      "[ Train | 073/300 ] loss = 0.53646, acc = 0.81208\n"
     ]
    },
    {
     "name": "stderr",
     "output_type": "stream",
     "text": [
      "V: 073/300: 100%|████| 26/26 [00:02<00:00, 11.02it/s, v_loss=0.747, v_acc=0.757]\n"
     ]
    },
    {
     "name": "stdout",
     "output_type": "stream",
     "text": [
      "[ Valid | 073/300 ] loss = 0.74724, acc = 0.75661\n",
      "[ Valid | 073/300 ] loss = 0.74724, acc = 0.75661 -> best\n",
      "Best model found at fold 1 epoch 73, acc=0.75661, saving model\n"
     ]
    },
    {
     "name": "stderr",
     "output_type": "stream",
     "text": [
      "T: 074/300: 100%|█| 78/78 [00:07<00:00, 10.41it/s, lr=2.46e-6, b_loss=0.542, b_a\n"
     ]
    },
    {
     "name": "stdout",
     "output_type": "stream",
     "text": [
      "[ Train | 074/300 ] loss = 0.55035, acc = 0.80963\n"
     ]
    },
    {
     "name": "stderr",
     "output_type": "stream",
     "text": [
      "V: 074/300: 100%|████| 26/26 [00:01<00:00, 13.09it/s, v_loss=0.743, v_acc=0.757]\n"
     ]
    },
    {
     "name": "stdout",
     "output_type": "stream",
     "text": [
      "[ Valid | 074/300 ] loss = 0.74286, acc = 0.75717\n",
      "[ Valid | 074/300 ] loss = 0.74286, acc = 0.75717 -> best\n",
      "Best model found at fold 1 epoch 74, acc=0.75717, saving model\n"
     ]
    },
    {
     "name": "stderr",
     "output_type": "stream",
     "text": [
      "T: 075/300: 100%|█| 78/78 [00:07<00:00, 10.09it/s, lr=6.17e-7, b_loss=0.556, b_a\n"
     ]
    },
    {
     "name": "stdout",
     "output_type": "stream",
     "text": [
      "[ Train | 075/300 ] loss = 0.53623, acc = 0.81701\n"
     ]
    },
    {
     "name": "stderr",
     "output_type": "stream",
     "text": [
      "V: 075/300: 100%|████| 26/26 [00:02<00:00, 12.86it/s, v_loss=0.748, v_acc=0.756]\n"
     ]
    },
    {
     "name": "stdout",
     "output_type": "stream",
     "text": [
      "[ Valid | 075/300 ] loss = 0.74772, acc = 0.75628\n",
      "[ Valid | 075/300 ] loss = 0.74772, acc = 0.75628\n"
     ]
    },
    {
     "name": "stderr",
     "output_type": "stream",
     "text": [
      "T: 076/300: 100%|█| 78/78 [00:07<00:00, 10.59it/s, lr=0.0004, b_loss=0.974, b_ac\n"
     ]
    },
    {
     "name": "stdout",
     "output_type": "stream",
     "text": [
      "[ Train | 076/300 ] loss = 0.83265, acc = 0.71719\n"
     ]
    },
    {
     "name": "stderr",
     "output_type": "stream",
     "text": [
      "V: 076/300: 100%|█████| 26/26 [00:02<00:00, 12.13it/s, v_loss=1.39, v_acc=0.586]\n"
     ]
    },
    {
     "name": "stdout",
     "output_type": "stream",
     "text": [
      "[ Valid | 076/300 ] loss = 1.39340, acc = 0.58635\n",
      "[ Valid | 076/300 ] loss = 1.39340, acc = 0.58635\n"
     ]
    },
    {
     "name": "stderr",
     "output_type": "stream",
     "text": [
      "T: 077/300: 100%|█| 78/78 [00:07<00:00, 10.18it/s, lr=0.0004, b_loss=0.894, b_ac\n"
     ]
    },
    {
     "name": "stdout",
     "output_type": "stream",
     "text": [
      "[ Train | 077/300 ] loss = 0.83878, acc = 0.71081\n"
     ]
    },
    {
     "name": "stderr",
     "output_type": "stream",
     "text": [
      "V: 077/300: 100%|█████| 26/26 [00:02<00:00, 11.89it/s, v_loss=1.74, v_acc=0.504]\n"
     ]
    },
    {
     "name": "stdout",
     "output_type": "stream",
     "text": [
      "[ Valid | 077/300 ] loss = 1.74203, acc = 0.50394\n",
      "[ Valid | 077/300 ] loss = 1.74203, acc = 0.50394\n"
     ]
    },
    {
     "name": "stderr",
     "output_type": "stream",
     "text": [
      "T: 078/300: 100%|█| 78/78 [00:07<00:00,  9.87it/s, lr=0.000399, b_loss=0.812, b_\n"
     ]
    },
    {
     "name": "stdout",
     "output_type": "stream",
     "text": [
      "[ Train | 078/300 ] loss = 0.80834, acc = 0.71780\n"
     ]
    },
    {
     "name": "stderr",
     "output_type": "stream",
     "text": [
      "V: 078/300: 100%|██████| 26/26 [00:02<00:00, 12.03it/s, v_loss=1.1, v_acc=0.643]\n"
     ]
    },
    {
     "name": "stdout",
     "output_type": "stream",
     "text": [
      "[ Valid | 078/300 ] loss = 1.10445, acc = 0.64347\n",
      "[ Valid | 078/300 ] loss = 1.10445, acc = 0.64347\n"
     ]
    },
    {
     "name": "stderr",
     "output_type": "stream",
     "text": [
      "T: 079/300: 100%|█| 78/78 [00:07<00:00, 10.23it/s, lr=0.000399, b_loss=0.788, b_\n"
     ]
    },
    {
     "name": "stdout",
     "output_type": "stream",
     "text": [
      "[ Train | 079/300 ] loss = 0.79390, acc = 0.72629\n"
     ]
    },
    {
     "name": "stderr",
     "output_type": "stream",
     "text": [
      "V: 079/300: 100%|█████| 26/26 [00:02<00:00, 12.05it/s, v_loss=1.38, v_acc=0.584]\n"
     ]
    },
    {
     "name": "stdout",
     "output_type": "stream",
     "text": [
      "[ Valid | 079/300 ] loss = 1.38390, acc = 0.58445\n",
      "[ Valid | 079/300 ] loss = 1.38390, acc = 0.58445\n"
     ]
    },
    {
     "name": "stderr",
     "output_type": "stream",
     "text": [
      "T: 080/300: 100%|█| 78/78 [00:07<00:00,  9.93it/s, lr=0.000398, b_loss=0.918, b_\n"
     ]
    },
    {
     "name": "stdout",
     "output_type": "stream",
     "text": [
      "[ Train | 080/300 ] loss = 0.78612, acc = 0.72853\n"
     ]
    },
    {
     "name": "stderr",
     "output_type": "stream",
     "text": [
      "V: 080/300: 100%|████| 26/26 [00:02<00:00, 12.11it/s, v_loss=0.977, v_acc=0.687]\n"
     ]
    },
    {
     "name": "stdout",
     "output_type": "stream",
     "text": [
      "[ Valid | 080/300 ] loss = 0.97743, acc = 0.68678\n",
      "[ Valid | 080/300 ] loss = 0.97743, acc = 0.68678\n"
     ]
    },
    {
     "name": "stderr",
     "output_type": "stream",
     "text": [
      "T: 081/300: 100%|█| 78/78 [00:07<00:00, 10.18it/s, lr=0.000396, b_loss=0.782, b_\n"
     ]
    },
    {
     "name": "stdout",
     "output_type": "stream",
     "text": [
      "[ Train | 081/300 ] loss = 0.77802, acc = 0.72882\n"
     ]
    },
    {
     "name": "stderr",
     "output_type": "stream",
     "text": [
      "V: 081/300: 100%|██████| 26/26 [00:02<00:00, 12.62it/s, v_loss=1.09, v_acc=0.66]\n"
     ]
    },
    {
     "name": "stdout",
     "output_type": "stream",
     "text": [
      "[ Valid | 081/300 ] loss = 1.09046, acc = 0.66043\n",
      "[ Valid | 081/300 ] loss = 1.09046, acc = 0.66043\n"
     ]
    },
    {
     "name": "stderr",
     "output_type": "stream",
     "text": [
      "T: 082/300: 100%|█| 78/78 [00:07<00:00, 10.16it/s, lr=0.000394, b_loss=0.714, b_\n"
     ]
    },
    {
     "name": "stdout",
     "output_type": "stream",
     "text": [
      "[ Train | 082/300 ] loss = 0.76176, acc = 0.73925\n"
     ]
    },
    {
     "name": "stderr",
     "output_type": "stream",
     "text": [
      "V: 082/300: 100%|████| 26/26 [00:02<00:00, 12.87it/s, v_loss=0.971, v_acc=0.683]\n"
     ]
    },
    {
     "name": "stdout",
     "output_type": "stream",
     "text": [
      "[ Valid | 082/300 ] loss = 0.97073, acc = 0.68290\n",
      "[ Valid | 082/300 ] loss = 0.97073, acc = 0.68290\n"
     ]
    },
    {
     "name": "stderr",
     "output_type": "stream",
     "text": [
      "T: 083/300: 100%|█| 78/78 [00:07<00:00, 10.16it/s, lr=0.000392, b_loss=0.908, b_\n"
     ]
    },
    {
     "name": "stdout",
     "output_type": "stream",
     "text": [
      "[ Train | 083/300 ] loss = 0.75777, acc = 0.73878\n"
     ]
    },
    {
     "name": "stderr",
     "output_type": "stream",
     "text": [
      "V: 083/300: 100%|████| 26/26 [00:02<00:00, 11.49it/s, v_loss=0.975, v_acc=0.681]\n"
     ]
    },
    {
     "name": "stdout",
     "output_type": "stream",
     "text": [
      "[ Valid | 083/300 ] loss = 0.97472, acc = 0.68138\n",
      "[ Valid | 083/300 ] loss = 0.97472, acc = 0.68138\n"
     ]
    },
    {
     "name": "stderr",
     "output_type": "stream",
     "text": [
      "T: 084/300: 100%|█| 78/78 [00:07<00:00, 10.11it/s, lr=0.00039, b_loss=0.57, b_ac\n"
     ]
    },
    {
     "name": "stdout",
     "output_type": "stream",
     "text": [
      "[ Train | 084/300 ] loss = 0.74370, acc = 0.74024\n"
     ]
    },
    {
     "name": "stderr",
     "output_type": "stream",
     "text": [
      "V: 084/300: 100%|█████| 26/26 [00:02<00:00, 11.38it/s, v_loss=1.21, v_acc=0.623]\n"
     ]
    },
    {
     "name": "stdout",
     "output_type": "stream",
     "text": [
      "[ Valid | 084/300 ] loss = 1.21010, acc = 0.62301\n",
      "[ Valid | 084/300 ] loss = 1.21010, acc = 0.62301\n"
     ]
    },
    {
     "name": "stderr",
     "output_type": "stream",
     "text": [
      "T: 085/300: 100%|█| 78/78 [00:07<00:00,  9.99it/s, lr=0.000388, b_loss=0.647, b_\n"
     ]
    },
    {
     "name": "stdout",
     "output_type": "stream",
     "text": [
      "[ Train | 085/300 ] loss = 0.74910, acc = 0.74018\n"
     ]
    },
    {
     "name": "stderr",
     "output_type": "stream",
     "text": [
      "V: 085/300: 100%|█████| 26/26 [00:02<00:00, 11.23it/s, v_loss=1.26, v_acc=0.608]\n"
     ]
    },
    {
     "name": "stdout",
     "output_type": "stream",
     "text": [
      "[ Valid | 085/300 ] loss = 1.25515, acc = 0.60762\n",
      "[ Valid | 085/300 ] loss = 1.25515, acc = 0.60762\n"
     ]
    },
    {
     "name": "stderr",
     "output_type": "stream",
     "text": [
      "T: 086/300: 100%|█| 78/78 [00:07<00:00,  9.91it/s, lr=0.000385, b_loss=0.877, b_\n"
     ]
    },
    {
     "name": "stdout",
     "output_type": "stream",
     "text": [
      "[ Train | 086/300 ] loss = 0.73460, acc = 0.74816\n"
     ]
    },
    {
     "name": "stderr",
     "output_type": "stream",
     "text": [
      "V: 086/300: 100%|██████| 26/26 [00:01<00:00, 13.00it/s, v_loss=1.3, v_acc=0.603]\n"
     ]
    },
    {
     "name": "stdout",
     "output_type": "stream",
     "text": [
      "[ Valid | 086/300 ] loss = 1.29704, acc = 0.60349\n",
      "[ Valid | 086/300 ] loss = 1.29704, acc = 0.60349\n"
     ]
    },
    {
     "name": "stderr",
     "output_type": "stream",
     "text": [
      "T: 087/300: 100%|█| 78/78 [00:07<00:00, 10.24it/s, lr=0.000382, b_loss=0.8, b_ac\n"
     ]
    },
    {
     "name": "stdout",
     "output_type": "stream",
     "text": [
      "[ Train | 087/300 ] loss = 0.71399, acc = 0.75490\n"
     ]
    },
    {
     "name": "stderr",
     "output_type": "stream",
     "text": [
      "V: 087/300: 100%|█████| 26/26 [00:01<00:00, 13.41it/s, v_loss=1.13, v_acc=0.648]\n"
     ]
    },
    {
     "name": "stdout",
     "output_type": "stream",
     "text": [
      "[ Valid | 087/300 ] loss = 1.13432, acc = 0.64772\n",
      "[ Valid | 087/300 ] loss = 1.13432, acc = 0.64772\n"
     ]
    },
    {
     "name": "stderr",
     "output_type": "stream",
     "text": [
      "T: 088/300: 100%|█| 78/78 [00:07<00:00, 10.28it/s, lr=0.000378, b_loss=0.644, b_\n"
     ]
    },
    {
     "name": "stdout",
     "output_type": "stream",
     "text": [
      "[ Train | 088/300 ] loss = 0.70031, acc = 0.76276\n"
     ]
    },
    {
     "name": "stderr",
     "output_type": "stream",
     "text": [
      "V: 088/300: 100%|████| 26/26 [00:01<00:00, 13.19it/s, v_loss=0.845, v_acc=0.718]\n"
     ]
    },
    {
     "name": "stdout",
     "output_type": "stream",
     "text": [
      "[ Valid | 088/300 ] loss = 0.84470, acc = 0.71784\n",
      "[ Valid | 088/300 ] loss = 0.84470, acc = 0.71784\n"
     ]
    },
    {
     "name": "stderr",
     "output_type": "stream",
     "text": [
      "T: 089/300: 100%|█| 78/78 [00:07<00:00, 10.38it/s, lr=0.000374, b_loss=0.732, b_\n"
     ]
    },
    {
     "name": "stdout",
     "output_type": "stream",
     "text": [
      "[ Train | 089/300 ] loss = 0.69403, acc = 0.76279\n"
     ]
    },
    {
     "name": "stderr",
     "output_type": "stream",
     "text": [
      "V: 089/300: 100%|███████| 26/26 [00:02<00:00, 12.16it/s, v_loss=1.2, v_acc=0.63]\n"
     ]
    },
    {
     "name": "stdout",
     "output_type": "stream",
     "text": [
      "[ Valid | 089/300 ] loss = 1.20342, acc = 0.63001\n",
      "[ Valid | 089/300 ] loss = 1.20342, acc = 0.63001\n"
     ]
    },
    {
     "name": "stderr",
     "output_type": "stream",
     "text": [
      "T: 090/300: 100%|█| 78/78 [00:07<00:00, 10.14it/s, lr=0.000371, b_loss=0.796, b_\n"
     ]
    },
    {
     "name": "stdout",
     "output_type": "stream",
     "text": [
      "[ Train | 090/300 ] loss = 0.70326, acc = 0.75529\n"
     ]
    },
    {
     "name": "stderr",
     "output_type": "stream",
     "text": [
      "V: 090/300: 100%|████| 26/26 [00:02<00:00, 12.29it/s, v_loss=0.995, v_acc=0.682]\n"
     ]
    },
    {
     "name": "stdout",
     "output_type": "stream",
     "text": [
      "[ Valid | 090/300 ] loss = 0.99459, acc = 0.68233\n",
      "[ Valid | 090/300 ] loss = 0.99459, acc = 0.68233\n"
     ]
    },
    {
     "name": "stderr",
     "output_type": "stream",
     "text": [
      "T: 091/300: 100%|█| 78/78 [00:07<00:00, 10.07it/s, lr=0.000366, b_loss=0.918, b_\n"
     ]
    },
    {
     "name": "stdout",
     "output_type": "stream",
     "text": [
      "[ Train | 091/300 ] loss = 0.68491, acc = 0.76545\n"
     ]
    },
    {
     "name": "stderr",
     "output_type": "stream",
     "text": [
      "V: 091/300: 100%|████| 26/26 [00:02<00:00, 12.13it/s, v_loss=0.912, v_acc=0.712]\n"
     ]
    },
    {
     "name": "stdout",
     "output_type": "stream",
     "text": [
      "[ Valid | 091/300 ] loss = 0.91154, acc = 0.71181\n",
      "[ Valid | 091/300 ] loss = 0.91154, acc = 0.71181\n"
     ]
    },
    {
     "name": "stderr",
     "output_type": "stream",
     "text": [
      "T: 092/300: 100%|█| 78/78 [00:07<00:00, 10.30it/s, lr=0.000362, b_loss=0.653, b_\n"
     ]
    },
    {
     "name": "stdout",
     "output_type": "stream",
     "text": [
      "[ Train | 092/300 ] loss = 0.67776, acc = 0.76857\n"
     ]
    },
    {
     "name": "stderr",
     "output_type": "stream",
     "text": [
      "V: 092/300: 100%|████| 26/26 [00:02<00:00, 12.92it/s, v_loss=0.971, v_acc=0.692]\n"
     ]
    },
    {
     "name": "stdout",
     "output_type": "stream",
     "text": [
      "[ Valid | 092/300 ] loss = 0.97130, acc = 0.69200\n",
      "[ Valid | 092/300 ] loss = 0.97130, acc = 0.69200\n"
     ]
    },
    {
     "name": "stderr",
     "output_type": "stream",
     "text": [
      "T: 093/300: 100%|█| 78/78 [00:07<00:00, 10.15it/s, lr=0.000357, b_loss=0.678, b_\n"
     ]
    },
    {
     "name": "stdout",
     "output_type": "stream",
     "text": [
      "[ Train | 093/300 ] loss = 0.66231, acc = 0.76686\n"
     ]
    },
    {
     "name": "stderr",
     "output_type": "stream",
     "text": [
      "V: 093/300: 100%|█████| 26/26 [00:02<00:00, 12.67it/s, v_loss=1.03, v_acc=0.678]\n"
     ]
    },
    {
     "name": "stdout",
     "output_type": "stream",
     "text": [
      "[ Valid | 093/300 ] loss = 1.03426, acc = 0.67814\n",
      "[ Valid | 093/300 ] loss = 1.03426, acc = 0.67814\n"
     ]
    },
    {
     "name": "stderr",
     "output_type": "stream",
     "text": [
      "T: 094/300: 100%|█| 78/78 [00:07<00:00, 10.31it/s, lr=0.000352, b_loss=0.593, b_\n"
     ]
    },
    {
     "name": "stdout",
     "output_type": "stream",
     "text": [
      "[ Train | 094/300 ] loss = 0.64824, acc = 0.77742\n"
     ]
    },
    {
     "name": "stderr",
     "output_type": "stream",
     "text": [
      "V: 094/300: 100%|████| 26/26 [00:01<00:00, 14.18it/s, v_loss=0.989, v_acc=0.693]\n"
     ]
    },
    {
     "name": "stdout",
     "output_type": "stream",
     "text": [
      "[ Valid | 094/300 ] loss = 0.98930, acc = 0.69314\n",
      "[ Valid | 094/300 ] loss = 0.98930, acc = 0.69314\n"
     ]
    },
    {
     "name": "stderr",
     "output_type": "stream",
     "text": [
      "T: 095/300: 100%|█| 78/78 [00:07<00:00, 10.52it/s, lr=0.000347, b_loss=0.655, b_\n"
     ]
    },
    {
     "name": "stdout",
     "output_type": "stream",
     "text": [
      "[ Train | 095/300 ] loss = 0.64688, acc = 0.77747\n"
     ]
    },
    {
     "name": "stderr",
     "output_type": "stream",
     "text": [
      "V: 095/300: 100%|█████| 26/26 [00:02<00:00, 12.72it/s, v_loss=1.05, v_acc=0.677]"
     ]
    },
    {
     "name": "stdout",
     "output_type": "stream",
     "text": [
      "[ Valid | 095/300 ] loss = 1.05045, acc = 0.67661\n",
      "[ Valid | 095/300 ] loss = 1.05045, acc = 0.67661\n",
      "No improvment 20 consecutive epochs, early stopping\n"
     ]
    },
    {
     "name": "stderr",
     "output_type": "stream",
     "text": [
      "\n"
     ]
    },
    {
     "data": {
      "text/html": [
       "Waiting for W&B process to finish... <strong style=\"color:green\">(success).</strong>"
      ],
      "text/plain": [
       "<IPython.core.display.HTML object>"
      ]
     },
     "metadata": {},
     "output_type": "display_data"
    },
    {
     "data": {
      "text/html": [
       "<style>\n",
       "    table.wandb td:nth-child(1) { padding: 0 10px; text-align: left ; width: auto;} td:nth-child(2) {text-align: left ; width: 100%}\n",
       "    .wandb-row { display: flex; flex-direction: row; flex-wrap: wrap; justify-content: flex-start; width: 100% }\n",
       "    .wandb-col { display: flex; flex-direction: column; flex-basis: 100%; flex: 1; padding: 10px; }\n",
       "    </style>\n",
       "<div class=\"wandb-row\"><div class=\"wandb-col\"><h3>Run history:</h3><br/><table class=\"wandb\"><tr><td>average_training_loss</td><td>█▇▆▆▅▄▄▅▄▄▃▃▃▃▂▄▃▃▃▃▂▂▂▂▂▂▁▁▁▁▁▁▂▂▂▂▂▂▂▁</td></tr><tr><td>average_validation_loss</td><td>█▆▅▆▆▄▃▅▃▄▄▃▂▂▂▄▃▃▂▃▂▂▂▂▂▁▁▁▁▁▁▁▃▂▂▃▃▂▂▂</td></tr><tr><td>learning rate</td><td>█▆▂▇▆▂▁█▇▇▅▄▃▂▁███▇▇▆▆▅▄▄▃▃▂▂▁▁▁█████▇▇▇</td></tr><tr><td>step_training_accuracy</td><td>▁▁▂▂▃▄▅▄▄▅▅▅▅▄▆▅▅▅▆▆▅▆▇▆▆▇▆▇█▇▇▇▆▆▆▆▆▇▇▇</td></tr><tr><td>step_training_loss</td><td>██▇▇▆▅▅▆▅▄▅▃▄▃▃▄▄▃▃▃▄▃▂▃▂▂▃▂▁▂▂▁▃▃▂▃▃▂▂▁</td></tr><tr><td>step_validation_accuracy</td><td>▁▂▃▁▂▃▅▂▄▄▄▅▆▇▆▄▄▆▄▅▅▅▆▆▆▇▇█▇▇▇▅▄▆▆▆▇▆▆▆</td></tr><tr><td>step_validation_loss</td><td>██▅█▇▅▄▇▄▅▅▃▂▂▂▅▅▃▇▃▄▄▃▂▃▂▁▁▁▁▂▅▄▃▂▄▂▃▄▂</td></tr></table><br/></div><div class=\"wandb-col\"><h3>Run summary:</h3><br/><table class=\"wandb\"><tr><td>average_training_loss</td><td>0.64688</td></tr><tr><td>average_validation_loss</td><td>1.05045</td></tr><tr><td>learning rate</td><td>0.00035</td></tr><tr><td>step_training_accuracy</td><td>0.77586</td></tr><tr><td>step_training_loss</td><td>0.65482</td></tr><tr><td>step_validation_accuracy</td><td>0.68548</td></tr><tr><td>step_validation_loss</td><td>1.14971</td></tr></table><br/></div></div>"
      ],
      "text/plain": [
       "<IPython.core.display.HTML object>"
      ]
     },
     "metadata": {},
     "output_type": "display_data"
    },
    {
     "data": {
      "text/html": [
       " View run <strong style=\"color:#cdcd00\">earnest-wave-17</strong> at: <a href='https://wandb.ai/nickwkt/Food-11/runs/an2afdwj' target=\"_blank\">https://wandb.ai/nickwkt/Food-11/runs/an2afdwj</a><br/>Synced 6 W&B file(s), 0 media file(s), 0 artifact file(s) and 0 other file(s)"
      ],
      "text/plain": [
       "<IPython.core.display.HTML object>"
      ]
     },
     "metadata": {},
     "output_type": "display_data"
    },
    {
     "data": {
      "text/html": [
       "Find logs at: <code>./wandb/run-20230414_140006-an2afdwj/logs</code>"
      ],
      "text/plain": [
       "<IPython.core.display.HTML object>"
      ]
     },
     "metadata": {},
     "output_type": "display_data"
    },
    {
     "name": "stdout",
     "output_type": "stream",
     "text": [
      "\n",
      "\n",
      "Starting Fold: 2 ********************************************\n",
      "cuda:0\n"
     ]
    },
    {
     "data": {
      "application/vnd.jupyter.widget-view+json": {
       "model_id": "a9408db78c9d4035b5f9a33dc96d9629",
       "version_major": 2,
       "version_minor": 0
      },
      "text/plain": [
       "VBox(children=(Label(value='Waiting for wandb.init()...\\r'), FloatProgress(value=0.016668470650135228, max=1.0…"
      ]
     },
     "metadata": {},
     "output_type": "display_data"
    },
    {
     "data": {
      "text/html": [
       "Tracking run with wandb version 0.14.2"
      ],
      "text/plain": [
       "<IPython.core.display.HTML object>"
      ]
     },
     "metadata": {},
     "output_type": "display_data"
    },
    {
     "data": {
      "text/html": [
       "Run data is saved locally in <code>/home/user/jupyter_file/wandb/run-20230414_141554-iihbwcn8</code>"
      ],
      "text/plain": [
       "<IPython.core.display.HTML object>"
      ]
     },
     "metadata": {},
     "output_type": "display_data"
    },
    {
     "data": {
      "text/html": [
       "Syncing run <strong><a href='https://wandb.ai/nickwkt/Food-11/runs/iihbwcn8' target=\"_blank\">youthful-violet-18</a></strong> to <a href='https://wandb.ai/nickwkt/Food-11' target=\"_blank\">Weights & Biases</a> (<a href='https://wandb.me/run' target=\"_blank\">docs</a>)<br/>"
      ],
      "text/plain": [
       "<IPython.core.display.HTML object>"
      ]
     },
     "metadata": {},
     "output_type": "display_data"
    },
    {
     "data": {
      "text/html": [
       " View project at <a href='https://wandb.ai/nickwkt/Food-11' target=\"_blank\">https://wandb.ai/nickwkt/Food-11</a>"
      ],
      "text/plain": [
       "<IPython.core.display.HTML object>"
      ]
     },
     "metadata": {},
     "output_type": "display_data"
    },
    {
     "data": {
      "text/html": [
       " View run at <a href='https://wandb.ai/nickwkt/Food-11/runs/iihbwcn8' target=\"_blank\">https://wandb.ai/nickwkt/Food-11/runs/iihbwcn8</a>"
      ],
      "text/plain": [
       "<IPython.core.display.HTML object>"
      ]
     },
     "metadata": {},
     "output_type": "display_data"
    },
    {
     "name": "stderr",
     "output_type": "stream",
     "text": [
      "T: 001/300: 100%|█| 78/78 [00:07<00:00, 10.38it/s, lr=0.0004, b_loss=1.93, b_acc\n"
     ]
    },
    {
     "name": "stdout",
     "output_type": "stream",
     "text": [
      "[ Train | 001/300 ] loss = 2.11480, acc = 0.25339\n"
     ]
    },
    {
     "name": "stderr",
     "output_type": "stream",
     "text": [
      "V: 001/300: 100%|█████| 26/26 [00:01<00:00, 13.09it/s, v_loss=1.99, v_acc=0.302]\n"
     ]
    },
    {
     "name": "stdout",
     "output_type": "stream",
     "text": [
      "[ Valid | 001/300 ] loss = 1.98533, acc = 0.30185\n",
      "[ Valid | 001/300 ] loss = 1.98533, acc = 0.30185 -> best\n",
      "Best model found at fold 2 epoch 1, acc=0.30185, saving model\n"
     ]
    },
    {
     "name": "stderr",
     "output_type": "stream",
     "text": [
      "T: 002/300: 100%|█| 78/78 [00:07<00:00,  9.90it/s, lr=0.000362, b_loss=1.78, b_a\n"
     ]
    },
    {
     "name": "stdout",
     "output_type": "stream",
     "text": [
      "[ Train | 002/300 ] loss = 1.93803, acc = 0.32135\n"
     ]
    },
    {
     "name": "stderr",
     "output_type": "stream",
     "text": [
      "V: 002/300: 100%|█████| 26/26 [00:01<00:00, 13.11it/s, v_loss=1.89, v_acc=0.339]\n"
     ]
    },
    {
     "name": "stdout",
     "output_type": "stream",
     "text": [
      "[ Valid | 002/300 ] loss = 1.89441, acc = 0.33872\n",
      "[ Valid | 002/300 ] loss = 1.89441, acc = 0.33872 -> best\n",
      "Best model found at fold 2 epoch 2, acc=0.33872, saving model\n"
     ]
    },
    {
     "name": "stderr",
     "output_type": "stream",
     "text": [
      "T: 003/300: 100%|█| 78/78 [00:07<00:00, 10.15it/s, lr=0.000262, b_loss=1.75, b_a\n"
     ]
    },
    {
     "name": "stdout",
     "output_type": "stream",
     "text": [
      "[ Train | 003/300 ] loss = 1.83085, acc = 0.35640\n"
     ]
    },
    {
     "name": "stderr",
     "output_type": "stream",
     "text": [
      "V: 003/300: 100%|█████| 26/26 [00:01<00:00, 14.06it/s, v_loss=1.81, v_acc=0.373]\n"
     ]
    },
    {
     "name": "stdout",
     "output_type": "stream",
     "text": [
      "[ Valid | 003/300 ] loss = 1.80757, acc = 0.37345\n",
      "[ Valid | 003/300 ] loss = 1.80757, acc = 0.37345 -> best\n",
      "Best model found at fold 2 epoch 3, acc=0.37345, saving model\n"
     ]
    },
    {
     "name": "stderr",
     "output_type": "stream",
     "text": [
      "T: 004/300: 100%|█| 78/78 [00:07<00:00,  9.99it/s, lr=0.000138, b_loss=1.9, b_ac\n"
     ]
    },
    {
     "name": "stdout",
     "output_type": "stream",
     "text": [
      "[ Train | 004/300 ] loss = 1.72337, acc = 0.40097\n"
     ]
    },
    {
     "name": "stderr",
     "output_type": "stream",
     "text": [
      "V: 004/300: 100%|███████| 26/26 [00:01<00:00, 13.91it/s, v_loss=1.7, v_acc=0.42]\n"
     ]
    },
    {
     "name": "stdout",
     "output_type": "stream",
     "text": [
      "[ Valid | 004/300 ] loss = 1.69959, acc = 0.42035\n",
      "[ Valid | 004/300 ] loss = 1.69959, acc = 0.42035 -> best\n",
      "Best model found at fold 2 epoch 4, acc=0.42035, saving model\n"
     ]
    },
    {
     "name": "stderr",
     "output_type": "stream",
     "text": [
      "T: 005/300: 100%|█| 78/78 [00:07<00:00, 10.18it/s, lr=3.82e-5, b_loss=1.66, b_ac\n"
     ]
    },
    {
     "name": "stdout",
     "output_type": "stream",
     "text": [
      "[ Train | 005/300 ] loss = 1.62099, acc = 0.43577\n"
     ]
    },
    {
     "name": "stderr",
     "output_type": "stream",
     "text": [
      "V: 005/300: 100%|█████| 26/26 [00:01<00:00, 13.45it/s, v_loss=1.56, v_acc=0.467]\n"
     ]
    },
    {
     "name": "stdout",
     "output_type": "stream",
     "text": [
      "[ Valid | 005/300 ] loss = 1.55814, acc = 0.46666\n",
      "[ Valid | 005/300 ] loss = 1.55814, acc = 0.46666 -> best\n",
      "Best model found at fold 2 epoch 5, acc=0.46666, saving model\n"
     ]
    },
    {
     "name": "stderr",
     "output_type": "stream",
     "text": [
      "T: 006/300: 100%|█| 78/78 [00:07<00:00, 10.06it/s, lr=0.0004, b_loss=1.66, b_acc\n"
     ]
    },
    {
     "name": "stdout",
     "output_type": "stream",
     "text": [
      "[ Train | 006/300 ] loss = 1.76327, acc = 0.37949\n"
     ]
    },
    {
     "name": "stderr",
     "output_type": "stream",
     "text": [
      "V: 006/300: 100%|█████| 26/26 [00:01<00:00, 14.60it/s, v_loss=2.01, v_acc=0.321]\n"
     ]
    },
    {
     "name": "stdout",
     "output_type": "stream",
     "text": [
      "[ Valid | 006/300 ] loss = 2.01156, acc = 0.32131\n",
      "[ Valid | 006/300 ] loss = 2.01156, acc = 0.32131\n"
     ]
    },
    {
     "name": "stderr",
     "output_type": "stream",
     "text": [
      "T: 007/300: 100%|█| 78/78 [00:07<00:00, 10.30it/s, lr=0.00039, b_loss=1.57, b_ac\n"
     ]
    },
    {
     "name": "stdout",
     "output_type": "stream",
     "text": [
      "[ Train | 007/300 ] loss = 1.67518, acc = 0.41709\n"
     ]
    },
    {
     "name": "stderr",
     "output_type": "stream",
     "text": [
      "V: 007/300: 100%|█████| 26/26 [00:01<00:00, 14.07it/s, v_loss=1.88, v_acc=0.376]\n"
     ]
    },
    {
     "name": "stdout",
     "output_type": "stream",
     "text": [
      "[ Valid | 007/300 ] loss = 1.88356, acc = 0.37609\n",
      "[ Valid | 007/300 ] loss = 1.88356, acc = 0.37609\n"
     ]
    },
    {
     "name": "stderr",
     "output_type": "stream",
     "text": [
      "T: 008/300: 100%|█| 78/78 [00:07<00:00,  9.99it/s, lr=0.000362, b_loss=1.44, b_a\n"
     ]
    },
    {
     "name": "stdout",
     "output_type": "stream",
     "text": [
      "[ Train | 008/300 ] loss = 1.60691, acc = 0.43978\n"
     ]
    },
    {
     "name": "stderr",
     "output_type": "stream",
     "text": [
      "V: 008/300: 100%|█████| 26/26 [00:01<00:00, 13.99it/s, v_loss=1.72, v_acc=0.437]\n"
     ]
    },
    {
     "name": "stdout",
     "output_type": "stream",
     "text": [
      "[ Valid | 008/300 ] loss = 1.72004, acc = 0.43657\n",
      "[ Valid | 008/300 ] loss = 1.72004, acc = 0.43657\n"
     ]
    },
    {
     "name": "stderr",
     "output_type": "stream",
     "text": [
      "T: 009/300: 100%|█| 78/78 [00:07<00:00, 10.03it/s, lr=0.000318, b_loss=1.43, b_a\n"
     ]
    },
    {
     "name": "stdout",
     "output_type": "stream",
     "text": [
      "[ Train | 009/300 ] loss = 1.55820, acc = 0.45407\n"
     ]
    },
    {
     "name": "stderr",
     "output_type": "stream",
     "text": [
      "V: 009/300: 100%|█████| 26/26 [00:01<00:00, 13.16it/s, v_loss=1.85, v_acc=0.394]\n"
     ]
    },
    {
     "name": "stdout",
     "output_type": "stream",
     "text": [
      "[ Valid | 009/300 ] loss = 1.84882, acc = 0.39380\n",
      "[ Valid | 009/300 ] loss = 1.84882, acc = 0.39380\n"
     ]
    },
    {
     "name": "stderr",
     "output_type": "stream",
     "text": [
      "T: 010/300: 100%|█| 78/78 [00:07<00:00,  9.99it/s, lr=0.000262, b_loss=1.48, b_a\n"
     ]
    },
    {
     "name": "stdout",
     "output_type": "stream",
     "text": [
      "[ Train | 010/300 ] loss = 1.49039, acc = 0.48427\n"
     ]
    },
    {
     "name": "stderr",
     "output_type": "stream",
     "text": [
      "V: 010/300: 100%|█████| 26/26 [00:01<00:00, 14.12it/s, v_loss=2.31, v_acc=0.299]\n"
     ]
    },
    {
     "name": "stdout",
     "output_type": "stream",
     "text": [
      "[ Valid | 010/300 ] loss = 2.31091, acc = 0.29904\n",
      "[ Valid | 010/300 ] loss = 2.31091, acc = 0.29904\n"
     ]
    },
    {
     "name": "stderr",
     "output_type": "stream",
     "text": [
      "T: 011/300: 100%|█| 78/78 [00:07<00:00, 10.14it/s, lr=0.0002, b_loss=1.49, b_acc\n"
     ]
    },
    {
     "name": "stdout",
     "output_type": "stream",
     "text": [
      "[ Train | 011/300 ] loss = 1.42384, acc = 0.50654\n"
     ]
    },
    {
     "name": "stderr",
     "output_type": "stream",
     "text": [
      "V: 011/300: 100%|██████| 26/26 [00:01<00:00, 13.92it/s, v_loss=1.45, v_acc=0.51]\n"
     ]
    },
    {
     "name": "stdout",
     "output_type": "stream",
     "text": [
      "[ Valid | 011/300 ] loss = 1.44748, acc = 0.51031\n",
      "[ Valid | 011/300 ] loss = 1.44748, acc = 0.51031 -> best\n",
      "Best model found at fold 2 epoch 11, acc=0.51031, saving model\n"
     ]
    },
    {
     "name": "stderr",
     "output_type": "stream",
     "text": [
      "T: 012/300: 100%|█| 78/78 [00:07<00:00, 10.04it/s, lr=0.000138, b_loss=1.32, b_a\n"
     ]
    },
    {
     "name": "stdout",
     "output_type": "stream",
     "text": [
      "[ Train | 012/300 ] loss = 1.35465, acc = 0.53315\n"
     ]
    },
    {
     "name": "stderr",
     "output_type": "stream",
     "text": [
      "V: 012/300: 100%|█████| 26/26 [00:01<00:00, 13.53it/s, v_loss=1.37, v_acc=0.532]\n"
     ]
    },
    {
     "name": "stdout",
     "output_type": "stream",
     "text": [
      "[ Valid | 012/300 ] loss = 1.36678, acc = 0.53159\n",
      "[ Valid | 012/300 ] loss = 1.36678, acc = 0.53159 -> best\n",
      "Best model found at fold 2 epoch 12, acc=0.53159, saving model\n"
     ]
    },
    {
     "name": "stderr",
     "output_type": "stream",
     "text": [
      "T: 013/300: 100%|█| 78/78 [00:07<00:00, 10.13it/s, lr=8.24e-5, b_loss=1.18, b_ac\n"
     ]
    },
    {
     "name": "stdout",
     "output_type": "stream",
     "text": [
      "[ Train | 013/300 ] loss = 1.31056, acc = 0.54991\n"
     ]
    },
    {
     "name": "stderr",
     "output_type": "stream",
     "text": [
      "V: 013/300: 100%|█████| 26/26 [00:01<00:00, 14.10it/s, v_loss=1.31, v_acc=0.554]\n"
     ]
    },
    {
     "name": "stdout",
     "output_type": "stream",
     "text": [
      "[ Valid | 013/300 ] loss = 1.31169, acc = 0.55373\n",
      "[ Valid | 013/300 ] loss = 1.31169, acc = 0.55373 -> best\n",
      "Best model found at fold 2 epoch 13, acc=0.55373, saving model\n"
     ]
    },
    {
     "name": "stderr",
     "output_type": "stream",
     "text": [
      "T: 014/300: 100%|█| 78/78 [00:07<00:00,  9.86it/s, lr=3.82e-5, b_loss=1.11, b_ac\n"
     ]
    },
    {
     "name": "stdout",
     "output_type": "stream",
     "text": [
      "[ Train | 014/300 ] loss = 1.25048, acc = 0.56961\n"
     ]
    },
    {
     "name": "stderr",
     "output_type": "stream",
     "text": [
      "V: 014/300: 100%|██████| 26/26 [00:01<00:00, 14.24it/s, v_loss=1.2, v_acc=0.588]\n"
     ]
    },
    {
     "name": "stdout",
     "output_type": "stream",
     "text": [
      "[ Valid | 014/300 ] loss = 1.19682, acc = 0.58813\n",
      "[ Valid | 014/300 ] loss = 1.19682, acc = 0.58813 -> best\n",
      "Best model found at fold 2 epoch 14, acc=0.58813, saving model\n"
     ]
    },
    {
     "name": "stderr",
     "output_type": "stream",
     "text": [
      "T: 015/300: 100%|█| 78/78 [00:07<00:00, 10.07it/s, lr=9.79e-6, b_loss=1.19, b_ac\n"
     ]
    },
    {
     "name": "stdout",
     "output_type": "stream",
     "text": [
      "[ Train | 015/300 ] loss = 1.22068, acc = 0.57801\n"
     ]
    },
    {
     "name": "stderr",
     "output_type": "stream",
     "text": [
      "V: 015/300: 100%|█████| 26/26 [00:02<00:00, 12.59it/s, v_loss=1.19, v_acc=0.592]\n"
     ]
    },
    {
     "name": "stdout",
     "output_type": "stream",
     "text": [
      "[ Valid | 015/300 ] loss = 1.18942, acc = 0.59208\n",
      "[ Valid | 015/300 ] loss = 1.18942, acc = 0.59208 -> best\n",
      "Best model found at fold 2 epoch 15, acc=0.59208, saving model\n"
     ]
    },
    {
     "name": "stderr",
     "output_type": "stream",
     "text": [
      "T: 016/300: 100%|█| 78/78 [00:08<00:00,  9.61it/s, lr=0.0004, b_loss=1.42, b_acc\n"
     ]
    },
    {
     "name": "stdout",
     "output_type": "stream",
     "text": [
      "[ Train | 016/300 ] loss = 1.44906, acc = 0.50233\n"
     ]
    },
    {
     "name": "stderr",
     "output_type": "stream",
     "text": [
      "V: 016/300: 100%|█████| 26/26 [00:02<00:00, 12.72it/s, v_loss=1.53, v_acc=0.482]\n"
     ]
    },
    {
     "name": "stdout",
     "output_type": "stream",
     "text": [
      "[ Valid | 016/300 ] loss = 1.53235, acc = 0.48228\n",
      "[ Valid | 016/300 ] loss = 1.53235, acc = 0.48228\n"
     ]
    },
    {
     "name": "stderr",
     "output_type": "stream",
     "text": [
      "T: 017/300: 100%|█| 78/78 [00:07<00:00,  9.95it/s, lr=0.000398, b_loss=1.39, b_a\n"
     ]
    },
    {
     "name": "stdout",
     "output_type": "stream",
     "text": [
      "[ Train | 017/300 ] loss = 1.41840, acc = 0.50661\n"
     ]
    },
    {
     "name": "stderr",
     "output_type": "stream",
     "text": [
      "V: 017/300: 100%|█████| 26/26 [00:01<00:00, 13.38it/s, v_loss=1.65, v_acc=0.461]\n"
     ]
    },
    {
     "name": "stdout",
     "output_type": "stream",
     "text": [
      "[ Valid | 017/300 ] loss = 1.64996, acc = 0.46089\n",
      "[ Valid | 017/300 ] loss = 1.64996, acc = 0.46089\n"
     ]
    },
    {
     "name": "stderr",
     "output_type": "stream",
     "text": [
      "T: 018/300: 100%|█| 78/78 [00:08<00:00,  9.71it/s, lr=0.00039, b_loss=1.31, b_ac\n"
     ]
    },
    {
     "name": "stdout",
     "output_type": "stream",
     "text": [
      "[ Train | 018/300 ] loss = 1.37039, acc = 0.52765\n"
     ]
    },
    {
     "name": "stderr",
     "output_type": "stream",
     "text": [
      "V: 018/300: 100%|█████| 26/26 [00:01<00:00, 13.23it/s, v_loss=1.37, v_acc=0.534]\n"
     ]
    },
    {
     "name": "stdout",
     "output_type": "stream",
     "text": [
      "[ Valid | 018/300 ] loss = 1.36837, acc = 0.53400\n",
      "[ Valid | 018/300 ] loss = 1.36837, acc = 0.53400\n"
     ]
    },
    {
     "name": "stderr",
     "output_type": "stream",
     "text": [
      "T: 019/300: 100%|█| 78/78 [00:07<00:00, 10.00it/s, lr=0.000378, b_loss=1.18, b_a\n"
     ]
    },
    {
     "name": "stdout",
     "output_type": "stream",
     "text": [
      "[ Train | 019/300 ] loss = 1.34195, acc = 0.54375\n"
     ]
    },
    {
     "name": "stderr",
     "output_type": "stream",
     "text": [
      "V: 019/300: 100%|█████| 26/26 [00:01<00:00, 13.30it/s, v_loss=1.46, v_acc=0.505]\n"
     ]
    },
    {
     "name": "stdout",
     "output_type": "stream",
     "text": [
      "[ Valid | 019/300 ] loss = 1.45946, acc = 0.50486\n",
      "[ Valid | 019/300 ] loss = 1.45946, acc = 0.50486\n"
     ]
    },
    {
     "name": "stderr",
     "output_type": "stream",
     "text": [
      "T: 020/300: 100%|█| 78/78 [00:07<00:00, 10.18it/s, lr=0.000362, b_loss=1.44, b_a\n"
     ]
    },
    {
     "name": "stdout",
     "output_type": "stream",
     "text": [
      "[ Train | 020/300 ] loss = 1.28685, acc = 0.55635\n"
     ]
    },
    {
     "name": "stderr",
     "output_type": "stream",
     "text": [
      "V: 020/300: 100%|█████| 26/26 [00:01<00:00, 13.80it/s, v_loss=1.33, v_acc=0.552]\n"
     ]
    },
    {
     "name": "stdout",
     "output_type": "stream",
     "text": [
      "[ Valid | 020/300 ] loss = 1.33200, acc = 0.55212\n",
      "[ Valid | 020/300 ] loss = 1.33200, acc = 0.55212\n"
     ]
    },
    {
     "name": "stderr",
     "output_type": "stream",
     "text": [
      "T: 021/300: 100%|█| 78/78 [00:07<00:00, 10.09it/s, lr=0.000341, b_loss=1.16, b_a\n"
     ]
    },
    {
     "name": "stdout",
     "output_type": "stream",
     "text": [
      "[ Train | 021/300 ] loss = 1.27680, acc = 0.55776\n"
     ]
    },
    {
     "name": "stderr",
     "output_type": "stream",
     "text": [
      "V: 021/300: 100%|█████| 26/26 [00:01<00:00, 13.69it/s, v_loss=1.42, v_acc=0.519]\n"
     ]
    },
    {
     "name": "stdout",
     "output_type": "stream",
     "text": [
      "[ Valid | 021/300 ] loss = 1.41885, acc = 0.51904\n",
      "[ Valid | 021/300 ] loss = 1.41885, acc = 0.51904\n"
     ]
    },
    {
     "name": "stderr",
     "output_type": "stream",
     "text": [
      "T: 022/300: 100%|█| 78/78 [00:07<00:00, 10.01it/s, lr=0.000318, b_loss=1.32, b_a\n"
     ]
    },
    {
     "name": "stdout",
     "output_type": "stream",
     "text": [
      "[ Train | 022/300 ] loss = 1.22049, acc = 0.57546\n"
     ]
    },
    {
     "name": "stderr",
     "output_type": "stream",
     "text": [
      "V: 022/300: 100%|████████| 26/26 [00:01<00:00, 13.08it/s, v_loss=1.9, v_acc=0.4]\n"
     ]
    },
    {
     "name": "stdout",
     "output_type": "stream",
     "text": [
      "[ Valid | 022/300 ] loss = 1.89536, acc = 0.40010\n",
      "[ Valid | 022/300 ] loss = 1.89536, acc = 0.40010\n"
     ]
    },
    {
     "name": "stderr",
     "output_type": "stream",
     "text": [
      "T: 023/300: 100%|█| 78/78 [00:07<00:00, 10.14it/s, lr=0.000291, b_loss=1.12, b_a\n"
     ]
    },
    {
     "name": "stdout",
     "output_type": "stream",
     "text": [
      "[ Train | 023/300 ] loss = 1.17783, acc = 0.59091\n"
     ]
    },
    {
     "name": "stderr",
     "output_type": "stream",
     "text": [
      "V: 023/300: 100%|█████| 26/26 [00:01<00:00, 14.06it/s, v_loss=1.26, v_acc=0.578]\n"
     ]
    },
    {
     "name": "stdout",
     "output_type": "stream",
     "text": [
      "[ Valid | 023/300 ] loss = 1.25940, acc = 0.57784\n",
      "[ Valid | 023/300 ] loss = 1.25940, acc = 0.57784\n"
     ]
    },
    {
     "name": "stderr",
     "output_type": "stream",
     "text": [
      "T: 024/300: 100%|█| 78/78 [00:07<00:00, 10.19it/s, lr=0.000262, b_loss=1.15, b_a\n"
     ]
    },
    {
     "name": "stdout",
     "output_type": "stream",
     "text": [
      "[ Train | 024/300 ] loss = 1.15423, acc = 0.60006\n"
     ]
    },
    {
     "name": "stderr",
     "output_type": "stream",
     "text": [
      "V: 024/300: 100%|█████| 26/26 [00:01<00:00, 14.13it/s, v_loss=1.38, v_acc=0.549]\n"
     ]
    },
    {
     "name": "stdout",
     "output_type": "stream",
     "text": [
      "[ Valid | 024/300 ] loss = 1.38466, acc = 0.54940\n",
      "[ Valid | 024/300 ] loss = 1.38466, acc = 0.54940\n"
     ]
    },
    {
     "name": "stderr",
     "output_type": "stream",
     "text": [
      "T: 025/300: 100%|█| 78/78 [00:07<00:00, 10.17it/s, lr=0.000231, b_loss=1.25, b_a\n"
     ]
    },
    {
     "name": "stdout",
     "output_type": "stream",
     "text": [
      "[ Train | 025/300 ] loss = 1.11521, acc = 0.61170\n"
     ]
    },
    {
     "name": "stderr",
     "output_type": "stream",
     "text": [
      "V: 025/300: 100%|█████| 26/26 [00:01<00:00, 13.34it/s, v_loss=1.17, v_acc=0.611]\n"
     ]
    },
    {
     "name": "stdout",
     "output_type": "stream",
     "text": [
      "[ Valid | 025/300 ] loss = 1.16691, acc = 0.61136\n",
      "[ Valid | 025/300 ] loss = 1.16691, acc = 0.61136 -> best\n",
      "Best model found at fold 2 epoch 25, acc=0.61136, saving model\n"
     ]
    },
    {
     "name": "stderr",
     "output_type": "stream",
     "text": [
      "T: 026/300: 100%|█| 78/78 [00:07<00:00, 10.05it/s, lr=0.0002, b_loss=1.18, b_acc\n"
     ]
    },
    {
     "name": "stdout",
     "output_type": "stream",
     "text": [
      "[ Train | 026/300 ] loss = 1.08326, acc = 0.62210\n"
     ]
    },
    {
     "name": "stderr",
     "output_type": "stream",
     "text": [
      "V: 026/300: 100%|█████| 26/26 [00:01<00:00, 13.17it/s, v_loss=1.09, v_acc=0.621]\n"
     ]
    },
    {
     "name": "stdout",
     "output_type": "stream",
     "text": [
      "[ Valid | 026/300 ] loss = 1.09352, acc = 0.62105\n",
      "[ Valid | 026/300 ] loss = 1.09352, acc = 0.62105 -> best\n",
      "Best model found at fold 2 epoch 26, acc=0.62105, saving model\n"
     ]
    },
    {
     "name": "stderr",
     "output_type": "stream",
     "text": [
      "T: 027/300: 100%|█| 78/78 [00:07<00:00, 10.42it/s, lr=0.000169, b_loss=0.972, b_\n"
     ]
    },
    {
     "name": "stdout",
     "output_type": "stream",
     "text": [
      "[ Train | 027/300 ] loss = 1.05109, acc = 0.63554\n"
     ]
    },
    {
     "name": "stderr",
     "output_type": "stream",
     "text": [
      "V: 027/300: 100%|█████| 26/26 [00:01<00:00, 13.81it/s, v_loss=1.11, v_acc=0.628]\n"
     ]
    },
    {
     "name": "stdout",
     "output_type": "stream",
     "text": [
      "[ Valid | 027/300 ] loss = 1.11298, acc = 0.62755\n",
      "[ Valid | 027/300 ] loss = 1.11298, acc = 0.62755 -> best\n",
      "Best model found at fold 2 epoch 27, acc=0.62755, saving model\n"
     ]
    },
    {
     "name": "stderr",
     "output_type": "stream",
     "text": [
      "T: 028/300: 100%|█| 78/78 [00:07<00:00, 10.11it/s, lr=0.000138, b_loss=0.923, b_\n"
     ]
    },
    {
     "name": "stdout",
     "output_type": "stream",
     "text": [
      "[ Train | 028/300 ] loss = 1.01889, acc = 0.65053\n"
     ]
    },
    {
     "name": "stderr",
     "output_type": "stream",
     "text": [
      "V: 028/300: 100%|█████| 26/26 [00:01<00:00, 14.65it/s, v_loss=1.07, v_acc=0.638]\n"
     ]
    },
    {
     "name": "stdout",
     "output_type": "stream",
     "text": [
      "[ Valid | 028/300 ] loss = 1.07231, acc = 0.63776\n",
      "[ Valid | 028/300 ] loss = 1.07231, acc = 0.63776 -> best\n",
      "Best model found at fold 2 epoch 28, acc=0.63776, saving model\n"
     ]
    },
    {
     "name": "stderr",
     "output_type": "stream",
     "text": [
      "T: 029/300: 100%|█| 78/78 [00:07<00:00,  9.89it/s, lr=0.000109, b_loss=0.941, b_\n"
     ]
    },
    {
     "name": "stdout",
     "output_type": "stream",
     "text": [
      "[ Train | 029/300 ] loss = 0.99468, acc = 0.65915\n"
     ]
    },
    {
     "name": "stderr",
     "output_type": "stream",
     "text": [
      "V: 029/300: 100%|█████| 26/26 [00:01<00:00, 13.78it/s, v_loss=1.11, v_acc=0.629]\n"
     ]
    },
    {
     "name": "stdout",
     "output_type": "stream",
     "text": [
      "[ Valid | 029/300 ] loss = 1.11465, acc = 0.62932\n",
      "[ Valid | 029/300 ] loss = 1.11465, acc = 0.62932\n"
     ]
    },
    {
     "name": "stderr",
     "output_type": "stream",
     "text": [
      "T: 030/300: 100%|█| 78/78 [00:07<00:00, 10.26it/s, lr=8.24e-5, b_loss=1.02, b_ac\n"
     ]
    },
    {
     "name": "stdout",
     "output_type": "stream",
     "text": [
      "[ Train | 030/300 ] loss = 0.96601, acc = 0.66627\n"
     ]
    },
    {
     "name": "stderr",
     "output_type": "stream",
     "text": [
      "V: 030/300: 100%|█████| 26/26 [00:01<00:00, 14.13it/s, v_loss=1.02, v_acc=0.653]\n"
     ]
    },
    {
     "name": "stdout",
     "output_type": "stream",
     "text": [
      "[ Valid | 030/300 ] loss = 1.02248, acc = 0.65252\n",
      "[ Valid | 030/300 ] loss = 1.02248, acc = 0.65252 -> best\n",
      "Best model found at fold 2 epoch 30, acc=0.65252, saving model\n"
     ]
    },
    {
     "name": "stderr",
     "output_type": "stream",
     "text": [
      "T: 031/300: 100%|█| 78/78 [00:07<00:00, 10.08it/s, lr=5.86e-5, b_loss=1.13, b_ac\n"
     ]
    },
    {
     "name": "stdout",
     "output_type": "stream",
     "text": [
      "[ Train | 031/300 ] loss = 0.93950, acc = 0.68040\n"
     ]
    },
    {
     "name": "stderr",
     "output_type": "stream",
     "text": [
      "V: 031/300: 100%|████| 26/26 [00:02<00:00, 12.90it/s, v_loss=0.954, v_acc=0.677]\n"
     ]
    },
    {
     "name": "stdout",
     "output_type": "stream",
     "text": [
      "[ Valid | 031/300 ] loss = 0.95382, acc = 0.67665\n",
      "[ Valid | 031/300 ] loss = 0.95382, acc = 0.67665 -> best\n",
      "Best model found at fold 2 epoch 31, acc=0.67665, saving model\n"
     ]
    },
    {
     "name": "stderr",
     "output_type": "stream",
     "text": [
      "T: 032/300: 100%|█| 78/78 [00:07<00:00, 10.07it/s, lr=3.82e-5, b_loss=0.848, b_a\n"
     ]
    },
    {
     "name": "stdout",
     "output_type": "stream",
     "text": [
      "[ Train | 032/300 ] loss = 0.90421, acc = 0.68880\n"
     ]
    },
    {
     "name": "stderr",
     "output_type": "stream",
     "text": [
      "V: 032/300: 100%|████| 26/26 [00:01<00:00, 14.21it/s, v_loss=0.948, v_acc=0.678]\n"
     ]
    },
    {
     "name": "stdout",
     "output_type": "stream",
     "text": [
      "[ Valid | 032/300 ] loss = 0.94812, acc = 0.67775\n",
      "[ Valid | 032/300 ] loss = 0.94812, acc = 0.67775 -> best\n",
      "Best model found at fold 2 epoch 32, acc=0.67775, saving model\n"
     ]
    },
    {
     "name": "stderr",
     "output_type": "stream",
     "text": [
      "T: 033/300: 100%|█| 78/78 [00:07<00:00, 10.25it/s, lr=2.18e-5, b_loss=0.924, b_a\n"
     ]
    },
    {
     "name": "stdout",
     "output_type": "stream",
     "text": [
      "[ Train | 033/300 ] loss = 0.89620, acc = 0.68929\n"
     ]
    },
    {
     "name": "stderr",
     "output_type": "stream",
     "text": [
      "V: 033/300: 100%|█████| 26/26 [00:01<00:00, 14.42it/s, v_loss=0.93, v_acc=0.688]\n"
     ]
    },
    {
     "name": "stdout",
     "output_type": "stream",
     "text": [
      "[ Valid | 033/300 ] loss = 0.92970, acc = 0.68827\n",
      "[ Valid | 033/300 ] loss = 0.92970, acc = 0.68827 -> best\n",
      "Best model found at fold 2 epoch 33, acc=0.68827, saving model\n"
     ]
    },
    {
     "name": "stderr",
     "output_type": "stream",
     "text": [
      "T: 034/300: 100%|█| 78/78 [00:07<00:00, 10.42it/s, lr=9.79e-6, b_loss=1.02, b_ac\n"
     ]
    },
    {
     "name": "stdout",
     "output_type": "stream",
     "text": [
      "[ Train | 034/300 ] loss = 0.88502, acc = 0.69597\n"
     ]
    },
    {
     "name": "stderr",
     "output_type": "stream",
     "text": [
      "V: 034/300: 100%|████| 26/26 [00:02<00:00, 12.56it/s, v_loss=0.906, v_acc=0.696]\n"
     ]
    },
    {
     "name": "stdout",
     "output_type": "stream",
     "text": [
      "[ Valid | 034/300 ] loss = 0.90556, acc = 0.69588\n",
      "[ Valid | 034/300 ] loss = 0.90556, acc = 0.69588 -> best\n",
      "Best model found at fold 2 epoch 34, acc=0.69588, saving model\n"
     ]
    },
    {
     "name": "stderr",
     "output_type": "stream",
     "text": [
      "T: 035/300: 100%|█| 78/78 [00:07<00:00, 10.33it/s, lr=2.46e-6, b_loss=1.03, b_ac\n"
     ]
    },
    {
     "name": "stdout",
     "output_type": "stream",
     "text": [
      "[ Train | 035/300 ] loss = 0.87245, acc = 0.70355\n"
     ]
    },
    {
     "name": "stderr",
     "output_type": "stream",
     "text": [
      "V: 035/300: 100%|████| 26/26 [00:01<00:00, 14.03it/s, v_loss=0.909, v_acc=0.696]\n"
     ]
    },
    {
     "name": "stdout",
     "output_type": "stream",
     "text": [
      "[ Valid | 035/300 ] loss = 0.90906, acc = 0.69584\n",
      "[ Valid | 035/300 ] loss = 0.90906, acc = 0.69584\n"
     ]
    },
    {
     "name": "stderr",
     "output_type": "stream",
     "text": [
      "T: 036/300: 100%|█| 78/78 [00:08<00:00,  9.58it/s, lr=0.0004, b_loss=1.5, b_acc=\n"
     ]
    },
    {
     "name": "stdout",
     "output_type": "stream",
     "text": [
      "[ Train | 036/300 ] loss = 1.15711, acc = 0.60158\n"
     ]
    },
    {
     "name": "stderr",
     "output_type": "stream",
     "text": [
      "V: 036/300: 100%|█████| 26/26 [00:01<00:00, 14.88it/s, v_loss=1.42, v_acc=0.533]\n"
     ]
    },
    {
     "name": "stdout",
     "output_type": "stream",
     "text": [
      "[ Valid | 036/300 ] loss = 1.41719, acc = 0.53280\n",
      "[ Valid | 036/300 ] loss = 1.41719, acc = 0.53280\n"
     ]
    },
    {
     "name": "stderr",
     "output_type": "stream",
     "text": [
      "T: 037/300: 100%|█| 78/78 [00:07<00:00,  9.86it/s, lr=0.000399, b_loss=1.16, b_a\n"
     ]
    },
    {
     "name": "stdout",
     "output_type": "stream",
     "text": [
      "[ Train | 037/300 ] loss = 1.14353, acc = 0.60598\n"
     ]
    },
    {
     "name": "stderr",
     "output_type": "stream",
     "text": [
      "V: 037/300: 100%|█████| 26/26 [00:01<00:00, 15.27it/s, v_loss=1.31, v_acc=0.563]\n"
     ]
    },
    {
     "name": "stdout",
     "output_type": "stream",
     "text": [
      "[ Valid | 037/300 ] loss = 1.30956, acc = 0.56308\n",
      "[ Valid | 037/300 ] loss = 1.30956, acc = 0.56308\n"
     ]
    },
    {
     "name": "stderr",
     "output_type": "stream",
     "text": [
      "T: 038/300: 100%|█| 78/78 [00:07<00:00, 10.27it/s, lr=0.000398, b_loss=1.11, b_a\n"
     ]
    },
    {
     "name": "stdout",
     "output_type": "stream",
     "text": [
      "[ Train | 038/300 ] loss = 1.10667, acc = 0.62236\n"
     ]
    },
    {
     "name": "stderr",
     "output_type": "stream",
     "text": [
      "V: 038/300: 100%|█████| 26/26 [00:01<00:00, 13.40it/s, v_loss=1.34, v_acc=0.565]\n"
     ]
    },
    {
     "name": "stdout",
     "output_type": "stream",
     "text": [
      "[ Valid | 038/300 ] loss = 1.34037, acc = 0.56532\n",
      "[ Valid | 038/300 ] loss = 1.34037, acc = 0.56532\n"
     ]
    },
    {
     "name": "stderr",
     "output_type": "stream",
     "text": [
      "T: 039/300: 100%|█| 78/78 [00:07<00:00,  9.83it/s, lr=0.000394, b_loss=1.33, b_a\n"
     ]
    },
    {
     "name": "stdout",
     "output_type": "stream",
     "text": [
      "[ Train | 039/300 ] loss = 1.08554, acc = 0.61622\n"
     ]
    },
    {
     "name": "stderr",
     "output_type": "stream",
     "text": [
      "V: 039/300: 100%|█████| 26/26 [00:01<00:00, 13.12it/s, v_loss=1.22, v_acc=0.591]\n"
     ]
    },
    {
     "name": "stdout",
     "output_type": "stream",
     "text": [
      "[ Valid | 039/300 ] loss = 1.22278, acc = 0.59147\n",
      "[ Valid | 039/300 ] loss = 1.22278, acc = 0.59147\n"
     ]
    },
    {
     "name": "stderr",
     "output_type": "stream",
     "text": [
      "T: 040/300: 100%|█| 78/78 [00:07<00:00, 10.36it/s, lr=0.00039, b_loss=1.13, b_ac\n"
     ]
    },
    {
     "name": "stdout",
     "output_type": "stream",
     "text": [
      "[ Train | 040/300 ] loss = 1.06151, acc = 0.62988\n"
     ]
    },
    {
     "name": "stderr",
     "output_type": "stream",
     "text": [
      "V: 040/300: 100%|███████| 26/26 [00:01<00:00, 13.19it/s, v_loss=1.55, v_acc=0.5]\n"
     ]
    },
    {
     "name": "stdout",
     "output_type": "stream",
     "text": [
      "[ Valid | 040/300 ] loss = 1.54639, acc = 0.50026\n",
      "[ Valid | 040/300 ] loss = 1.54639, acc = 0.50026\n"
     ]
    },
    {
     "name": "stderr",
     "output_type": "stream",
     "text": [
      "T: 041/300: 100%|█| 78/78 [00:07<00:00, 10.01it/s, lr=0.000385, b_loss=1.06, b_a\n"
     ]
    },
    {
     "name": "stdout",
     "output_type": "stream",
     "text": [
      "[ Train | 041/300 ] loss = 1.06495, acc = 0.63140\n"
     ]
    },
    {
     "name": "stderr",
     "output_type": "stream",
     "text": [
      "V: 041/300: 100%|█████| 26/26 [00:01<00:00, 14.83it/s, v_loss=1.24, v_acc=0.585]\n"
     ]
    },
    {
     "name": "stdout",
     "output_type": "stream",
     "text": [
      "[ Valid | 041/300 ] loss = 1.23913, acc = 0.58451\n",
      "[ Valid | 041/300 ] loss = 1.23913, acc = 0.58451\n"
     ]
    },
    {
     "name": "stderr",
     "output_type": "stream",
     "text": [
      "T: 042/300: 100%|█| 78/78 [00:07<00:00, 10.24it/s, lr=0.000378, b_loss=1.15, b_a\n"
     ]
    },
    {
     "name": "stdout",
     "output_type": "stream",
     "text": [
      "[ Train | 042/300 ] loss = 1.02715, acc = 0.65128\n"
     ]
    },
    {
     "name": "stderr",
     "output_type": "stream",
     "text": [
      "V: 042/300: 100%|█████| 26/26 [00:01<00:00, 13.29it/s, v_loss=1.18, v_acc=0.622]\n"
     ]
    },
    {
     "name": "stdout",
     "output_type": "stream",
     "text": [
      "[ Valid | 042/300 ] loss = 1.18120, acc = 0.62247\n",
      "[ Valid | 042/300 ] loss = 1.18120, acc = 0.62247\n"
     ]
    },
    {
     "name": "stderr",
     "output_type": "stream",
     "text": [
      "T: 043/300: 100%|█| 78/78 [00:07<00:00, 10.19it/s, lr=0.000371, b_loss=1.09, b_a\n"
     ]
    },
    {
     "name": "stdout",
     "output_type": "stream",
     "text": [
      "[ Train | 043/300 ] loss = 1.00360, acc = 0.65191\n"
     ]
    },
    {
     "name": "stderr",
     "output_type": "stream",
     "text": [
      "V: 043/300: 100%|█████| 26/26 [00:01<00:00, 14.11it/s, v_loss=1.16, v_acc=0.617]\n"
     ]
    },
    {
     "name": "stdout",
     "output_type": "stream",
     "text": [
      "[ Valid | 043/300 ] loss = 1.16033, acc = 0.61721\n",
      "[ Valid | 043/300 ] loss = 1.16033, acc = 0.61721\n"
     ]
    },
    {
     "name": "stderr",
     "output_type": "stream",
     "text": [
      "T: 044/300: 100%|█| 78/78 [00:07<00:00, 10.45it/s, lr=0.000362, b_loss=1, b_acc=\n"
     ]
    },
    {
     "name": "stdout",
     "output_type": "stream",
     "text": [
      "[ Train | 044/300 ] loss = 0.97847, acc = 0.66319\n"
     ]
    },
    {
     "name": "stderr",
     "output_type": "stream",
     "text": [
      "V: 044/300: 100%|█████| 26/26 [00:01<00:00, 14.90it/s, v_loss=1.08, v_acc=0.655]\n"
     ]
    },
    {
     "name": "stdout",
     "output_type": "stream",
     "text": [
      "[ Valid | 044/300 ] loss = 1.08399, acc = 0.65521\n",
      "[ Valid | 044/300 ] loss = 1.08399, acc = 0.65521\n"
     ]
    },
    {
     "name": "stderr",
     "output_type": "stream",
     "text": [
      "T: 045/300: 100%|█| 78/78 [00:07<00:00, 10.23it/s, lr=0.000352, b_loss=0.952, b_\n"
     ]
    },
    {
     "name": "stdout",
     "output_type": "stream",
     "text": [
      "[ Train | 045/300 ] loss = 0.97528, acc = 0.66457\n"
     ]
    },
    {
     "name": "stderr",
     "output_type": "stream",
     "text": [
      "V: 045/300: 100%|█████| 26/26 [00:01<00:00, 14.20it/s, v_loss=1.21, v_acc=0.606]\n"
     ]
    },
    {
     "name": "stdout",
     "output_type": "stream",
     "text": [
      "[ Valid | 045/300 ] loss = 1.20548, acc = 0.60584\n",
      "[ Valid | 045/300 ] loss = 1.20548, acc = 0.60584\n"
     ]
    },
    {
     "name": "stderr",
     "output_type": "stream",
     "text": [
      "T: 046/300: 100%|█| 78/78 [00:07<00:00, 10.04it/s, lr=0.000341, b_loss=1.04, b_a\n"
     ]
    },
    {
     "name": "stdout",
     "output_type": "stream",
     "text": [
      "[ Train | 046/300 ] loss = 0.96165, acc = 0.67084\n"
     ]
    },
    {
     "name": "stderr",
     "output_type": "stream",
     "text": [
      "V: 046/300: 100%|██████| 26/26 [00:02<00:00, 12.71it/s, v_loss=1.01, v_acc=0.65]\n"
     ]
    },
    {
     "name": "stdout",
     "output_type": "stream",
     "text": [
      "[ Valid | 046/300 ] loss = 1.01226, acc = 0.65034\n",
      "[ Valid | 046/300 ] loss = 1.01226, acc = 0.65034\n"
     ]
    },
    {
     "name": "stderr",
     "output_type": "stream",
     "text": [
      "T: 047/300: 100%|█| 78/78 [00:07<00:00, 10.18it/s, lr=0.00033, b_loss=1.13, b_ac\n"
     ]
    },
    {
     "name": "stdout",
     "output_type": "stream",
     "text": [
      "[ Train | 047/300 ] loss = 0.92559, acc = 0.67812\n"
     ]
    },
    {
     "name": "stderr",
     "output_type": "stream",
     "text": [
      "V: 047/300: 100%|████| 26/26 [00:01<00:00, 13.83it/s, v_loss=0.964, v_acc=0.675]\n"
     ]
    },
    {
     "name": "stdout",
     "output_type": "stream",
     "text": [
      "[ Valid | 047/300 ] loss = 0.96412, acc = 0.67503\n",
      "[ Valid | 047/300 ] loss = 0.96412, acc = 0.67503\n"
     ]
    },
    {
     "name": "stderr",
     "output_type": "stream",
     "text": [
      "T: 048/300: 100%|█| 78/78 [00:07<00:00, 10.04it/s, lr=0.000318, b_loss=0.825, b_\n"
     ]
    },
    {
     "name": "stdout",
     "output_type": "stream",
     "text": [
      "[ Train | 048/300 ] loss = 0.93160, acc = 0.67606\n"
     ]
    },
    {
     "name": "stderr",
     "output_type": "stream",
     "text": [
      "V: 048/300: 100%|█████| 26/26 [00:01<00:00, 14.09it/s, v_loss=1.23, v_acc=0.596]\n"
     ]
    },
    {
     "name": "stdout",
     "output_type": "stream",
     "text": [
      "[ Valid | 048/300 ] loss = 1.22953, acc = 0.59597\n",
      "[ Valid | 048/300 ] loss = 1.22953, acc = 0.59597\n"
     ]
    },
    {
     "name": "stderr",
     "output_type": "stream",
     "text": [
      "T: 049/300: 100%|█| 78/78 [00:07<00:00, 10.04it/s, lr=0.000304, b_loss=1.06, b_a\n"
     ]
    },
    {
     "name": "stdout",
     "output_type": "stream",
     "text": [
      "[ Train | 049/300 ] loss = 0.91040, acc = 0.68466\n"
     ]
    },
    {
     "name": "stderr",
     "output_type": "stream",
     "text": [
      "V: 049/300: 100%|█████| 26/26 [00:01<00:00, 14.18it/s, v_loss=1.09, v_acc=0.638]\n"
     ]
    },
    {
     "name": "stdout",
     "output_type": "stream",
     "text": [
      "[ Valid | 049/300 ] loss = 1.08942, acc = 0.63838\n",
      "[ Valid | 049/300 ] loss = 1.08942, acc = 0.63838\n"
     ]
    },
    {
     "name": "stderr",
     "output_type": "stream",
     "text": [
      "T: 050/300: 100%|█| 78/78 [00:07<00:00,  9.97it/s, lr=0.000291, b_loss=0.718, b_\n"
     ]
    },
    {
     "name": "stdout",
     "output_type": "stream",
     "text": [
      "[ Train | 050/300 ] loss = 0.87140, acc = 0.69911\n"
     ]
    },
    {
     "name": "stderr",
     "output_type": "stream",
     "text": [
      "V: 050/300: 100%|█████| 26/26 [00:01<00:00, 15.35it/s, v_loss=1.12, v_acc=0.632]\n"
     ]
    },
    {
     "name": "stdout",
     "output_type": "stream",
     "text": [
      "[ Valid | 050/300 ] loss = 1.12064, acc = 0.63152\n",
      "[ Valid | 050/300 ] loss = 1.12064, acc = 0.63152\n"
     ]
    },
    {
     "name": "stderr",
     "output_type": "stream",
     "text": [
      "T: 051/300: 100%|█| 78/78 [00:08<00:00,  9.61it/s, lr=0.000277, b_loss=0.673, b_\n"
     ]
    },
    {
     "name": "stdout",
     "output_type": "stream",
     "text": [
      "[ Train | 051/300 ] loss = 0.86413, acc = 0.70082\n"
     ]
    },
    {
     "name": "stderr",
     "output_type": "stream",
     "text": [
      "V: 051/300: 100%|█████| 26/26 [00:01<00:00, 13.62it/s, v_loss=1.05, v_acc=0.651]\n"
     ]
    },
    {
     "name": "stdout",
     "output_type": "stream",
     "text": [
      "[ Valid | 051/300 ] loss = 1.04783, acc = 0.65104\n",
      "[ Valid | 051/300 ] loss = 1.04783, acc = 0.65104\n"
     ]
    },
    {
     "name": "stderr",
     "output_type": "stream",
     "text": [
      "T: 052/300: 100%|█| 78/78 [00:07<00:00, 10.33it/s, lr=0.000262, b_loss=0.852, b_\n"
     ]
    },
    {
     "name": "stdout",
     "output_type": "stream",
     "text": [
      "[ Train | 052/300 ] loss = 0.85242, acc = 0.70636\n"
     ]
    },
    {
     "name": "stderr",
     "output_type": "stream",
     "text": [
      "V: 052/300: 100%|██████| 26/26 [00:01<00:00, 14.23it/s, v_loss=1.6, v_acc=0.511]\n"
     ]
    },
    {
     "name": "stdout",
     "output_type": "stream",
     "text": [
      "[ Valid | 052/300 ] loss = 1.60330, acc = 0.51081\n",
      "[ Valid | 052/300 ] loss = 1.60330, acc = 0.51081\n"
     ]
    },
    {
     "name": "stderr",
     "output_type": "stream",
     "text": [
      "T: 053/300: 100%|█| 78/78 [00:07<00:00, 10.12it/s, lr=0.000247, b_loss=0.865, b_\n"
     ]
    },
    {
     "name": "stdout",
     "output_type": "stream",
     "text": [
      "[ Train | 053/300 ] loss = 0.84275, acc = 0.70775\n"
     ]
    },
    {
     "name": "stderr",
     "output_type": "stream",
     "text": [
      "V: 053/300: 100%|█████| 26/26 [00:01<00:00, 14.44it/s, v_loss=1.14, v_acc=0.637]\n"
     ]
    },
    {
     "name": "stdout",
     "output_type": "stream",
     "text": [
      "[ Valid | 053/300 ] loss = 1.13743, acc = 0.63749\n",
      "[ Valid | 053/300 ] loss = 1.13743, acc = 0.63749\n"
     ]
    },
    {
     "name": "stderr",
     "output_type": "stream",
     "text": [
      "T: 054/300: 100%|█| 78/78 [00:07<00:00, 10.02it/s, lr=0.000231, b_loss=0.83, b_a\n"
     ]
    },
    {
     "name": "stdout",
     "output_type": "stream",
     "text": [
      "[ Train | 054/300 ] loss = 0.81627, acc = 0.71752\n"
     ]
    },
    {
     "name": "stderr",
     "output_type": "stream",
     "text": [
      "V: 054/300: 100%|████| 26/26 [00:02<00:00, 12.98it/s, v_loss=0.984, v_acc=0.679]\n"
     ]
    },
    {
     "name": "stdout",
     "output_type": "stream",
     "text": [
      "[ Valid | 054/300 ] loss = 0.98368, acc = 0.67904\n",
      "[ Valid | 054/300 ] loss = 0.98368, acc = 0.67904\n"
     ]
    },
    {
     "name": "stderr",
     "output_type": "stream",
     "text": [
      "T: 055/300: 100%|█| 78/78 [00:08<00:00,  9.58it/s, lr=0.000216, b_loss=0.855, b_\n"
     ]
    },
    {
     "name": "stdout",
     "output_type": "stream",
     "text": [
      "[ Train | 055/300 ] loss = 0.80122, acc = 0.72343\n"
     ]
    },
    {
     "name": "stderr",
     "output_type": "stream",
     "text": [
      "V: 055/300: 100%|████| 26/26 [00:01<00:00, 13.64it/s, v_loss=0.976, v_acc=0.679]"
     ]
    },
    {
     "name": "stdout",
     "output_type": "stream",
     "text": [
      "[ Valid | 055/300 ] loss = 0.97630, acc = 0.67866\n",
      "[ Valid | 055/300 ] loss = 0.97630, acc = 0.67866\n",
      "No improvment 20 consecutive epochs, early stopping\n"
     ]
    },
    {
     "name": "stderr",
     "output_type": "stream",
     "text": [
      "\n"
     ]
    },
    {
     "data": {
      "text/html": [
       "Waiting for W&B process to finish... <strong style=\"color:green\">(success).</strong>"
      ],
      "text/plain": [
       "<IPython.core.display.HTML object>"
      ]
     },
     "metadata": {},
     "output_type": "display_data"
    },
    {
     "data": {
      "application/vnd.jupyter.widget-view+json": {
       "model_id": "4838fe3647c74723bdf9abcafc1970cb",
       "version_major": 2,
       "version_minor": 0
      },
      "text/plain": [
       "VBox(children=(Label(value='0.002 MB of 0.002 MB uploaded (0.000 MB deduped)\\r'), FloatProgress(value=1.0, max…"
      ]
     },
     "metadata": {},
     "output_type": "display_data"
    },
    {
     "data": {
      "text/html": [
       "<style>\n",
       "    table.wandb td:nth-child(1) { padding: 0 10px; text-align: left ; width: auto;} td:nth-child(2) {text-align: left ; width: 100%}\n",
       "    .wandb-row { display: flex; flex-direction: row; flex-wrap: wrap; justify-content: flex-start; width: 100% }\n",
       "    .wandb-col { display: flex; flex-direction: column; flex-basis: 100%; flex: 1; padding: 10px; }\n",
       "    </style>\n",
       "<div class=\"wandb-row\"><div class=\"wandb-col\"><h3>Run history:</h3><br/><table class=\"wandb\"><tr><td>average_training_loss</td><td>█▇▆▅▆▆▅▅▄▄▃▄▄▄▄▄▃▃▃▂▂▂▂▂▁▁▃▃▃▂▂▂▂▂▂▂▁▁▁▁</td></tr><tr><td>average_validation_loss</td><td>▆▆▅▄▇▆▆█▃▃▂▄▅▄▃▄▃▃▂▂▂▂▁▁▁▁▃▃▃▃▂▂▂▂▃▂▂▄▂▁</td></tr><tr><td>learning rate</td><td>█▇▆▂██▇▆▃▂▂███▇▇▆▆▅▄▃▂▂▂▁▁█████▇▇▇▇▆▆▆▅▅</td></tr><tr><td>step_training_accuracy</td><td>▁▁▂▂▃▄▄▄▅▅▅▃▄▆▅▅▅▆▇▆▅▇██▇▅▆▆▇▇▇▇▇▆▇▇▇▇▇▇</td></tr><tr><td>step_training_loss</td><td>█▇▇▇▆▅▅▅▄▃▃▅▄▃▄▃▃▃▂▃▃▁▁▁▁▃▂▃▂▂▃▁▂▂▂▁▂▂▁▁</td></tr><tr><td>step_validation_accuracy</td><td>▁▁▃▄▃▅▂▁▅▅▆▅▄▄▅▅▄▆▆▇▇▇█▇▇▆▆▆▄▆▇▇▇█▇▆▆▅▇█</td></tr><tr><td>step_validation_loss</td><td>▆▅▅▄▄▃▅█▃▃▂▄▄▃▃▃▃▃▂▂▂▂▁▂▂▃▂▃▄▂▂▃▂▁▂▂▂▃▂▂</td></tr></table><br/></div><div class=\"wandb-col\"><h3>Run summary:</h3><br/><table class=\"wandb\"><tr><td>average_training_loss</td><td>0.80122</td></tr><tr><td>average_validation_loss</td><td>0.9763</td></tr><tr><td>learning rate</td><td>0.00022</td></tr><tr><td>step_training_accuracy</td><td>0.72414</td></tr><tr><td>step_training_loss</td><td>0.85526</td></tr><tr><td>step_validation_accuracy</td><td>0.64516</td></tr><tr><td>step_validation_loss</td><td>0.99806</td></tr></table><br/></div></div>"
      ],
      "text/plain": [
       "<IPython.core.display.HTML object>"
      ]
     },
     "metadata": {},
     "output_type": "display_data"
    },
    {
     "data": {
      "text/html": [
       " View run <strong style=\"color:#cdcd00\">youthful-violet-18</strong> at: <a href='https://wandb.ai/nickwkt/Food-11/runs/iihbwcn8' target=\"_blank\">https://wandb.ai/nickwkt/Food-11/runs/iihbwcn8</a><br/>Synced 6 W&B file(s), 0 media file(s), 0 artifact file(s) and 0 other file(s)"
      ],
      "text/plain": [
       "<IPython.core.display.HTML object>"
      ]
     },
     "metadata": {},
     "output_type": "display_data"
    },
    {
     "data": {
      "text/html": [
       "Find logs at: <code>./wandb/run-20230414_141554-iihbwcn8/logs</code>"
      ],
      "text/plain": [
       "<IPython.core.display.HTML object>"
      ]
     },
     "metadata": {},
     "output_type": "display_data"
    },
    {
     "name": "stdout",
     "output_type": "stream",
     "text": [
      "\n",
      "\n",
      "Starting Fold: 3 ********************************************\n",
      "cuda:0\n"
     ]
    },
    {
     "data": {
      "application/vnd.jupyter.widget-view+json": {
       "model_id": "13cb89b7f03247fd955c0444e4fb4655",
       "version_major": 2,
       "version_minor": 0
      },
      "text/plain": [
       "VBox(children=(Label(value='Waiting for wandb.init()...\\r'), FloatProgress(value=0.01666843243341039, max=1.0)…"
      ]
     },
     "metadata": {},
     "output_type": "display_data"
    },
    {
     "data": {
      "text/html": [
       "Tracking run with wandb version 0.14.2"
      ],
      "text/plain": [
       "<IPython.core.display.HTML object>"
      ]
     },
     "metadata": {},
     "output_type": "display_data"
    },
    {
     "data": {
      "text/html": [
       "Run data is saved locally in <code>/home/user/jupyter_file/wandb/run-20230414_142457-prrwks9q</code>"
      ],
      "text/plain": [
       "<IPython.core.display.HTML object>"
      ]
     },
     "metadata": {},
     "output_type": "display_data"
    },
    {
     "data": {
      "text/html": [
       "Syncing run <strong><a href='https://wandb.ai/nickwkt/Food-11/runs/prrwks9q' target=\"_blank\">glowing-galaxy-19</a></strong> to <a href='https://wandb.ai/nickwkt/Food-11' target=\"_blank\">Weights & Biases</a> (<a href='https://wandb.me/run' target=\"_blank\">docs</a>)<br/>"
      ],
      "text/plain": [
       "<IPython.core.display.HTML object>"
      ]
     },
     "metadata": {},
     "output_type": "display_data"
    },
    {
     "data": {
      "text/html": [
       " View project at <a href='https://wandb.ai/nickwkt/Food-11' target=\"_blank\">https://wandb.ai/nickwkt/Food-11</a>"
      ],
      "text/plain": [
       "<IPython.core.display.HTML object>"
      ]
     },
     "metadata": {},
     "output_type": "display_data"
    },
    {
     "data": {
      "text/html": [
       " View run at <a href='https://wandb.ai/nickwkt/Food-11/runs/prrwks9q' target=\"_blank\">https://wandb.ai/nickwkt/Food-11/runs/prrwks9q</a>"
      ],
      "text/plain": [
       "<IPython.core.display.HTML object>"
      ]
     },
     "metadata": {},
     "output_type": "display_data"
    },
    {
     "name": "stderr",
     "output_type": "stream",
     "text": [
      "T: 001/300: 100%|█| 78/78 [00:07<00:00, 10.08it/s, lr=0.0004, b_loss=1.89, b_acc\n"
     ]
    },
    {
     "name": "stdout",
     "output_type": "stream",
     "text": [
      "[ Train | 001/300 ] loss = 2.08079, acc = 0.25988\n"
     ]
    },
    {
     "name": "stderr",
     "output_type": "stream",
     "text": [
      "V: 001/300: 100%|█████| 26/26 [00:02<00:00, 12.68it/s, v_loss=2.08, v_acc=0.266]\n"
     ]
    },
    {
     "name": "stdout",
     "output_type": "stream",
     "text": [
      "[ Valid | 001/300 ] loss = 2.08126, acc = 0.26629\n",
      "[ Valid | 001/300 ] loss = 2.08126, acc = 0.26629 -> best\n",
      "Best model found at fold 3 epoch 1, acc=0.26629, saving model\n"
     ]
    },
    {
     "name": "stderr",
     "output_type": "stream",
     "text": [
      "T: 002/300: 100%|█| 78/78 [00:07<00:00, 10.05it/s, lr=0.000362, b_loss=1.94, b_a\n"
     ]
    },
    {
     "name": "stdout",
     "output_type": "stream",
     "text": [
      "[ Train | 002/300 ] loss = 1.91012, acc = 0.32267\n"
     ]
    },
    {
     "name": "stderr",
     "output_type": "stream",
     "text": [
      "V: 002/300: 100%|██████| 26/26 [00:02<00:00, 12.83it/s, v_loss=1.9, v_acc=0.329]\n"
     ]
    },
    {
     "name": "stdout",
     "output_type": "stream",
     "text": [
      "[ Valid | 002/300 ] loss = 1.90060, acc = 0.32935\n",
      "[ Valid | 002/300 ] loss = 1.90060, acc = 0.32935 -> best\n",
      "Best model found at fold 3 epoch 2, acc=0.32935, saving model\n"
     ]
    },
    {
     "name": "stderr",
     "output_type": "stream",
     "text": [
      "T: 003/300: 100%|█| 78/78 [00:07<00:00, 10.46it/s, lr=0.000262, b_loss=1.79, b_a\n"
     ]
    },
    {
     "name": "stdout",
     "output_type": "stream",
     "text": [
      "[ Train | 003/300 ] loss = 1.80842, acc = 0.35659\n"
     ]
    },
    {
     "name": "stderr",
     "output_type": "stream",
     "text": [
      "V: 003/300: 100%|█████| 26/26 [00:01<00:00, 13.76it/s, v_loss=1.86, v_acc=0.348]\n"
     ]
    },
    {
     "name": "stdout",
     "output_type": "stream",
     "text": [
      "[ Valid | 003/300 ] loss = 1.86165, acc = 0.34766\n",
      "[ Valid | 003/300 ] loss = 1.86165, acc = 0.34766 -> best\n",
      "Best model found at fold 3 epoch 3, acc=0.34766, saving model\n"
     ]
    },
    {
     "name": "stderr",
     "output_type": "stream",
     "text": [
      "T: 004/300: 100%|█| 78/78 [00:07<00:00, 10.33it/s, lr=0.000138, b_loss=1.6, b_ac\n"
     ]
    },
    {
     "name": "stdout",
     "output_type": "stream",
     "text": [
      "[ Train | 004/300 ] loss = 1.71246, acc = 0.39889\n"
     ]
    },
    {
     "name": "stderr",
     "output_type": "stream",
     "text": [
      "V: 004/300: 100%|█████| 26/26 [00:01<00:00, 13.38it/s, v_loss=1.65, v_acc=0.436]\n"
     ]
    },
    {
     "name": "stdout",
     "output_type": "stream",
     "text": [
      "[ Valid | 004/300 ] loss = 1.65256, acc = 0.43592\n",
      "[ Valid | 004/300 ] loss = 1.65256, acc = 0.43592 -> best\n",
      "Best model found at fold 3 epoch 4, acc=0.43592, saving model\n"
     ]
    },
    {
     "name": "stderr",
     "output_type": "stream",
     "text": [
      "T: 005/300: 100%|█| 78/78 [00:07<00:00,  9.96it/s, lr=3.82e-5, b_loss=1.66, b_ac\n"
     ]
    },
    {
     "name": "stdout",
     "output_type": "stream",
     "text": [
      "[ Train | 005/300 ] loss = 1.62166, acc = 0.43090\n"
     ]
    },
    {
     "name": "stderr",
     "output_type": "stream",
     "text": [
      "V: 005/300: 100%|█████| 26/26 [00:01<00:00, 13.92it/s, v_loss=1.55, v_acc=0.468]\n"
     ]
    },
    {
     "name": "stdout",
     "output_type": "stream",
     "text": [
      "[ Valid | 005/300 ] loss = 1.55436, acc = 0.46806\n",
      "[ Valid | 005/300 ] loss = 1.55436, acc = 0.46806 -> best\n",
      "Best model found at fold 3 epoch 5, acc=0.46806, saving model\n"
     ]
    },
    {
     "name": "stderr",
     "output_type": "stream",
     "text": [
      "T: 006/300: 100%|█| 78/78 [00:07<00:00, 10.16it/s, lr=0.0004, b_loss=1.65, b_acc\n"
     ]
    },
    {
     "name": "stdout",
     "output_type": "stream",
     "text": [
      "[ Train | 006/300 ] loss = 1.75933, acc = 0.38809\n"
     ]
    },
    {
     "name": "stderr",
     "output_type": "stream",
     "text": [
      "V: 006/300: 100%|█████| 26/26 [00:01<00:00, 14.32it/s, v_loss=1.95, v_acc=0.349]\n"
     ]
    },
    {
     "name": "stdout",
     "output_type": "stream",
     "text": [
      "[ Valid | 006/300 ] loss = 1.95394, acc = 0.34899\n",
      "[ Valid | 006/300 ] loss = 1.95394, acc = 0.34899\n"
     ]
    },
    {
     "name": "stderr",
     "output_type": "stream",
     "text": [
      "T: 007/300: 100%|█| 78/78 [00:07<00:00, 10.26it/s, lr=0.00039, b_loss=1.54, b_ac\n"
     ]
    },
    {
     "name": "stdout",
     "output_type": "stream",
     "text": [
      "[ Train | 007/300 ] loss = 1.67730, acc = 0.41562\n"
     ]
    },
    {
     "name": "stderr",
     "output_type": "stream",
     "text": [
      "V: 007/300: 100%|██████| 26/26 [00:02<00:00, 12.76it/s, v_loss=1.7, v_acc=0.419]\n"
     ]
    },
    {
     "name": "stdout",
     "output_type": "stream",
     "text": [
      "[ Valid | 007/300 ] loss = 1.70098, acc = 0.41868\n",
      "[ Valid | 007/300 ] loss = 1.70098, acc = 0.41868\n"
     ]
    },
    {
     "name": "stderr",
     "output_type": "stream",
     "text": [
      "T: 008/300: 100%|█| 78/78 [00:07<00:00, 10.17it/s, lr=0.000362, b_loss=1.49, b_a\n"
     ]
    },
    {
     "name": "stdout",
     "output_type": "stream",
     "text": [
      "[ Train | 008/300 ] loss = 1.60746, acc = 0.43723\n"
     ]
    },
    {
     "name": "stderr",
     "output_type": "stream",
     "text": [
      "V: 008/300: 100%|█████| 26/26 [00:02<00:00, 12.95it/s, v_loss=1.66, v_acc=0.429]\n"
     ]
    },
    {
     "name": "stdout",
     "output_type": "stream",
     "text": [
      "[ Valid | 008/300 ] loss = 1.66089, acc = 0.42867\n",
      "[ Valid | 008/300 ] loss = 1.66089, acc = 0.42867\n"
     ]
    },
    {
     "name": "stderr",
     "output_type": "stream",
     "text": [
      "T: 009/300: 100%|█| 78/78 [00:07<00:00, 10.05it/s, lr=0.000318, b_loss=1.51, b_a\n"
     ]
    },
    {
     "name": "stdout",
     "output_type": "stream",
     "text": [
      "[ Train | 009/300 ] loss = 1.53950, acc = 0.46249\n"
     ]
    },
    {
     "name": "stderr",
     "output_type": "stream",
     "text": [
      "V: 009/300: 100%|██████| 26/26 [00:02<00:00, 12.35it/s, v_loss=1.6, v_acc=0.455]\n"
     ]
    },
    {
     "name": "stdout",
     "output_type": "stream",
     "text": [
      "[ Valid | 009/300 ] loss = 1.60014, acc = 0.45511\n",
      "[ Valid | 009/300 ] loss = 1.60014, acc = 0.45511\n"
     ]
    },
    {
     "name": "stderr",
     "output_type": "stream",
     "text": [
      "T: 010/300: 100%|█| 78/78 [00:07<00:00, 10.17it/s, lr=0.000262, b_loss=1.34, b_a\n"
     ]
    },
    {
     "name": "stdout",
     "output_type": "stream",
     "text": [
      "[ Train | 010/300 ] loss = 1.45403, acc = 0.49214\n"
     ]
    },
    {
     "name": "stderr",
     "output_type": "stream",
     "text": [
      "V: 010/300: 100%|██████| 26/26 [00:01<00:00, 13.63it/s, v_loss=1.5, v_acc=0.493]\n"
     ]
    },
    {
     "name": "stdout",
     "output_type": "stream",
     "text": [
      "[ Valid | 010/300 ] loss = 1.50160, acc = 0.49311\n",
      "[ Valid | 010/300 ] loss = 1.50160, acc = 0.49311 -> best\n",
      "Best model found at fold 3 epoch 10, acc=0.49311, saving model\n"
     ]
    },
    {
     "name": "stderr",
     "output_type": "stream",
     "text": [
      "T: 011/300: 100%|█| 78/78 [00:07<00:00, 10.24it/s, lr=0.0002, b_loss=1.3, b_acc=\n"
     ]
    },
    {
     "name": "stdout",
     "output_type": "stream",
     "text": [
      "[ Train | 011/300 ] loss = 1.41951, acc = 0.50694\n"
     ]
    },
    {
     "name": "stderr",
     "output_type": "stream",
     "text": [
      "V: 011/300: 100%|███████| 26/26 [00:02<00:00, 12.78it/s, v_loss=1.45, v_acc=0.5]\n"
     ]
    },
    {
     "name": "stdout",
     "output_type": "stream",
     "text": [
      "[ Valid | 011/300 ] loss = 1.45150, acc = 0.50026\n",
      "[ Valid | 011/300 ] loss = 1.45150, acc = 0.50026 -> best\n",
      "Best model found at fold 3 epoch 11, acc=0.50026, saving model\n"
     ]
    },
    {
     "name": "stderr",
     "output_type": "stream",
     "text": [
      "T: 012/300: 100%|█| 78/78 [00:07<00:00, 10.08it/s, lr=0.000138, b_loss=1.35, b_a\n"
     ]
    },
    {
     "name": "stdout",
     "output_type": "stream",
     "text": [
      "[ Train | 012/300 ] loss = 1.34871, acc = 0.52819\n"
     ]
    },
    {
     "name": "stderr",
     "output_type": "stream",
     "text": [
      "V: 012/300: 100%|█████| 26/26 [00:02<00:00, 12.69it/s, v_loss=1.52, v_acc=0.489]\n"
     ]
    },
    {
     "name": "stdout",
     "output_type": "stream",
     "text": [
      "[ Valid | 012/300 ] loss = 1.51562, acc = 0.48944\n",
      "[ Valid | 012/300 ] loss = 1.51562, acc = 0.48944\n"
     ]
    },
    {
     "name": "stderr",
     "output_type": "stream",
     "text": [
      "T: 013/300: 100%|█| 78/78 [00:07<00:00,  9.93it/s, lr=8.24e-5, b_loss=1.17, b_ac\n"
     ]
    },
    {
     "name": "stdout",
     "output_type": "stream",
     "text": [
      "[ Train | 013/300 ] loss = 1.28880, acc = 0.55021\n"
     ]
    },
    {
     "name": "stderr",
     "output_type": "stream",
     "text": [
      "V: 013/300: 100%|██████| 26/26 [00:01<00:00, 13.56it/s, v_loss=1.29, v_acc=0.56]\n"
     ]
    },
    {
     "name": "stdout",
     "output_type": "stream",
     "text": [
      "[ Valid | 013/300 ] loss = 1.28960, acc = 0.55993\n",
      "[ Valid | 013/300 ] loss = 1.28960, acc = 0.55993 -> best\n",
      "Best model found at fold 3 epoch 13, acc=0.55993, saving model\n"
     ]
    },
    {
     "name": "stderr",
     "output_type": "stream",
     "text": [
      "T: 014/300: 100%|█| 78/78 [00:07<00:00, 10.21it/s, lr=3.82e-5, b_loss=1.1, b_acc\n"
     ]
    },
    {
     "name": "stdout",
     "output_type": "stream",
     "text": [
      "[ Train | 014/300 ] loss = 1.23141, acc = 0.57487\n"
     ]
    },
    {
     "name": "stderr",
     "output_type": "stream",
     "text": [
      "V: 014/300: 100%|███████| 26/26 [00:02<00:00, 12.94it/s, v_loss=1.2, v_acc=0.59]\n"
     ]
    },
    {
     "name": "stdout",
     "output_type": "stream",
     "text": [
      "[ Valid | 014/300 ] loss = 1.20203, acc = 0.59016\n",
      "[ Valid | 014/300 ] loss = 1.20203, acc = 0.59016 -> best\n",
      "Best model found at fold 3 epoch 14, acc=0.59016, saving model\n"
     ]
    },
    {
     "name": "stderr",
     "output_type": "stream",
     "text": [
      "T: 015/300: 100%|█| 78/78 [00:07<00:00,  9.91it/s, lr=9.79e-6, b_loss=1.36, b_ac\n"
     ]
    },
    {
     "name": "stdout",
     "output_type": "stream",
     "text": [
      "[ Train | 015/300 ] loss = 1.20377, acc = 0.58123\n"
     ]
    },
    {
     "name": "stderr",
     "output_type": "stream",
     "text": [
      "V: 015/300: 100%|███████| 26/26 [00:01<00:00, 13.64it/s, v_loss=1.2, v_acc=0.59]\n"
     ]
    },
    {
     "name": "stdout",
     "output_type": "stream",
     "text": [
      "[ Valid | 015/300 ] loss = 1.20168, acc = 0.59030\n",
      "[ Valid | 015/300 ] loss = 1.20168, acc = 0.59030 -> best\n",
      "Best model found at fold 3 epoch 15, acc=0.59030, saving model\n"
     ]
    },
    {
     "name": "stderr",
     "output_type": "stream",
     "text": [
      "T: 016/300: 100%|█| 78/78 [00:07<00:00,  9.93it/s, lr=0.0004, b_loss=1.56, b_acc\n"
     ]
    },
    {
     "name": "stdout",
     "output_type": "stream",
     "text": [
      "[ Train | 016/300 ] loss = 1.45693, acc = 0.49666\n"
     ]
    },
    {
     "name": "stderr",
     "output_type": "stream",
     "text": [
      "V: 016/300: 100%|█████| 26/26 [00:01<00:00, 13.84it/s, v_loss=2.35, v_acc=0.311]\n"
     ]
    },
    {
     "name": "stdout",
     "output_type": "stream",
     "text": [
      "[ Valid | 016/300 ] loss = 2.34942, acc = 0.31102\n",
      "[ Valid | 016/300 ] loss = 2.34942, acc = 0.31102\n"
     ]
    },
    {
     "name": "stderr",
     "output_type": "stream",
     "text": [
      "T: 017/300: 100%|█| 78/78 [00:07<00:00,  9.85it/s, lr=0.000398, b_loss=1.45, b_a\n"
     ]
    },
    {
     "name": "stdout",
     "output_type": "stream",
     "text": [
      "[ Train | 017/300 ] loss = 1.39643, acc = 0.51874\n"
     ]
    },
    {
     "name": "stderr",
     "output_type": "stream",
     "text": [
      "V: 017/300: 100%|█████| 26/26 [00:02<00:00, 12.37it/s, v_loss=1.59, v_acc=0.466]\n"
     ]
    },
    {
     "name": "stdout",
     "output_type": "stream",
     "text": [
      "[ Valid | 017/300 ] loss = 1.58723, acc = 0.46550\n",
      "[ Valid | 017/300 ] loss = 1.58723, acc = 0.46550\n"
     ]
    },
    {
     "name": "stderr",
     "output_type": "stream",
     "text": [
      "T: 018/300: 100%|█| 78/78 [00:07<00:00, 10.14it/s, lr=0.00039, b_loss=1.37, b_ac\n"
     ]
    },
    {
     "name": "stdout",
     "output_type": "stream",
     "text": [
      "[ Train | 018/300 ] loss = 1.36336, acc = 0.52297\n"
     ]
    },
    {
     "name": "stderr",
     "output_type": "stream",
     "text": [
      "V: 018/300: 100%|██████| 26/26 [00:01<00:00, 14.36it/s, v_loss=1.49, v_acc=0.49]\n"
     ]
    },
    {
     "name": "stdout",
     "output_type": "stream",
     "text": [
      "[ Valid | 018/300 ] loss = 1.49443, acc = 0.49008\n",
      "[ Valid | 018/300 ] loss = 1.49443, acc = 0.49008\n"
     ]
    },
    {
     "name": "stderr",
     "output_type": "stream",
     "text": [
      "T: 019/300: 100%|█| 78/78 [00:07<00:00,  9.81it/s, lr=0.000378, b_loss=1.3, b_ac\n"
     ]
    },
    {
     "name": "stdout",
     "output_type": "stream",
     "text": [
      "[ Train | 019/300 ] loss = 1.32044, acc = 0.54895\n"
     ]
    },
    {
     "name": "stderr",
     "output_type": "stream",
     "text": [
      "V: 019/300: 100%|█████| 26/26 [00:01<00:00, 13.68it/s, v_loss=1.47, v_acc=0.518]\n"
     ]
    },
    {
     "name": "stdout",
     "output_type": "stream",
     "text": [
      "[ Valid | 019/300 ] loss = 1.47489, acc = 0.51790\n",
      "[ Valid | 019/300 ] loss = 1.47489, acc = 0.51790\n"
     ]
    },
    {
     "name": "stderr",
     "output_type": "stream",
     "text": [
      "T: 020/300: 100%|█| 78/78 [00:07<00:00, 10.16it/s, lr=0.000362, b_loss=1.27, b_a\n"
     ]
    },
    {
     "name": "stdout",
     "output_type": "stream",
     "text": [
      "[ Train | 020/300 ] loss = 1.27653, acc = 0.55270\n"
     ]
    },
    {
     "name": "stderr",
     "output_type": "stream",
     "text": [
      "V: 020/300: 100%|█████| 26/26 [00:02<00:00, 12.44it/s, v_loss=1.62, v_acc=0.472]\n"
     ]
    },
    {
     "name": "stdout",
     "output_type": "stream",
     "text": [
      "[ Valid | 020/300 ] loss = 1.62185, acc = 0.47203\n",
      "[ Valid | 020/300 ] loss = 1.62185, acc = 0.47203\n"
     ]
    },
    {
     "name": "stderr",
     "output_type": "stream",
     "text": [
      "T: 021/300: 100%|█| 78/78 [00:08<00:00,  9.67it/s, lr=0.000341, b_loss=1.21, b_a\n"
     ]
    },
    {
     "name": "stdout",
     "output_type": "stream",
     "text": [
      "[ Train | 021/300 ] loss = 1.25543, acc = 0.55649\n"
     ]
    },
    {
     "name": "stderr",
     "output_type": "stream",
     "text": [
      "V: 021/300: 100%|███████| 26/26 [00:02<00:00, 11.17it/s, v_loss=1.47, v_acc=0.5]\n"
     ]
    },
    {
     "name": "stdout",
     "output_type": "stream",
     "text": [
      "[ Valid | 021/300 ] loss = 1.47066, acc = 0.49980\n",
      "[ Valid | 021/300 ] loss = 1.47066, acc = 0.49980\n"
     ]
    },
    {
     "name": "stderr",
     "output_type": "stream",
     "text": [
      "T: 022/300: 100%|█| 78/78 [00:07<00:00,  9.80it/s, lr=0.000318, b_loss=1.21, b_a\n"
     ]
    },
    {
     "name": "stdout",
     "output_type": "stream",
     "text": [
      "[ Train | 022/300 ] loss = 1.20579, acc = 0.58006\n"
     ]
    },
    {
     "name": "stderr",
     "output_type": "stream",
     "text": [
      "V: 022/300: 100%|██████| 26/26 [00:02<00:00, 11.67it/s, v_loss=1.37, v_acc=0.54]\n"
     ]
    },
    {
     "name": "stdout",
     "output_type": "stream",
     "text": [
      "[ Valid | 022/300 ] loss = 1.37329, acc = 0.54006\n",
      "[ Valid | 022/300 ] loss = 1.37329, acc = 0.54006\n"
     ]
    },
    {
     "name": "stderr",
     "output_type": "stream",
     "text": [
      "T: 023/300: 100%|█| 78/78 [00:08<00:00,  9.59it/s, lr=0.000291, b_loss=1.08, b_a\n"
     ]
    },
    {
     "name": "stdout",
     "output_type": "stream",
     "text": [
      "[ Train | 023/300 ] loss = 1.19326, acc = 0.58672\n"
     ]
    },
    {
     "name": "stderr",
     "output_type": "stream",
     "text": [
      "V: 023/300: 100%|█████| 26/26 [00:01<00:00, 13.45it/s, v_loss=1.31, v_acc=0.553]\n"
     ]
    },
    {
     "name": "stdout",
     "output_type": "stream",
     "text": [
      "[ Valid | 023/300 ] loss = 1.30588, acc = 0.55317\n",
      "[ Valid | 023/300 ] loss = 1.30588, acc = 0.55317\n"
     ]
    },
    {
     "name": "stderr",
     "output_type": "stream",
     "text": [
      "T: 024/300: 100%|█| 78/78 [00:08<00:00,  9.52it/s, lr=0.000262, b_loss=1.06, b_a\n"
     ]
    },
    {
     "name": "stdout",
     "output_type": "stream",
     "text": [
      "[ Train | 024/300 ] loss = 1.14358, acc = 0.60626\n"
     ]
    },
    {
     "name": "stderr",
     "output_type": "stream",
     "text": [
      "V: 024/300: 100%|█████| 26/26 [00:02<00:00, 12.64it/s, v_loss=1.14, v_acc=0.612]\n"
     ]
    },
    {
     "name": "stdout",
     "output_type": "stream",
     "text": [
      "[ Valid | 024/300 ] loss = 1.13742, acc = 0.61168\n",
      "[ Valid | 024/300 ] loss = 1.13742, acc = 0.61168 -> best\n",
      "Best model found at fold 3 epoch 24, acc=0.61168, saving model\n"
     ]
    },
    {
     "name": "stderr",
     "output_type": "stream",
     "text": [
      "T: 025/300: 100%|█| 78/78 [00:07<00:00,  9.79it/s, lr=0.000231, b_loss=1.14, b_a\n"
     ]
    },
    {
     "name": "stdout",
     "output_type": "stream",
     "text": [
      "[ Train | 025/300 ] loss = 1.10997, acc = 0.61734\n"
     ]
    },
    {
     "name": "stderr",
     "output_type": "stream",
     "text": [
      "V: 025/300: 100%|█████| 26/26 [00:01<00:00, 13.86it/s, v_loss=1.24, v_acc=0.586]\n"
     ]
    },
    {
     "name": "stdout",
     "output_type": "stream",
     "text": [
      "[ Valid | 025/300 ] loss = 1.23543, acc = 0.58623\n",
      "[ Valid | 025/300 ] loss = 1.23543, acc = 0.58623\n"
     ]
    },
    {
     "name": "stderr",
     "output_type": "stream",
     "text": [
      "T: 026/300: 100%|█| 78/78 [00:07<00:00,  9.97it/s, lr=0.0002, b_loss=1.1, b_acc=\n"
     ]
    },
    {
     "name": "stdout",
     "output_type": "stream",
     "text": [
      "[ Train | 026/300 ] loss = 1.08129, acc = 0.62617\n"
     ]
    },
    {
     "name": "stderr",
     "output_type": "stream",
     "text": [
      "V: 026/300: 100%|█████| 26/26 [00:02<00:00, 12.28it/s, v_loss=1.12, v_acc=0.623]\n"
     ]
    },
    {
     "name": "stdout",
     "output_type": "stream",
     "text": [
      "[ Valid | 026/300 ] loss = 1.12044, acc = 0.62300\n",
      "[ Valid | 026/300 ] loss = 1.12044, acc = 0.62300 -> best\n",
      "Best model found at fold 3 epoch 26, acc=0.62300, saving model\n"
     ]
    },
    {
     "name": "stderr",
     "output_type": "stream",
     "text": [
      "T: 027/300: 100%|█| 78/78 [00:07<00:00, 10.20it/s, lr=0.000169, b_loss=0.829, b_\n"
     ]
    },
    {
     "name": "stdout",
     "output_type": "stream",
     "text": [
      "[ Train | 027/300 ] loss = 1.03178, acc = 0.64106\n"
     ]
    },
    {
     "name": "stderr",
     "output_type": "stream",
     "text": [
      "V: 027/300: 100%|█████| 26/26 [00:01<00:00, 13.95it/s, v_loss=1.11, v_acc=0.631]\n"
     ]
    },
    {
     "name": "stdout",
     "output_type": "stream",
     "text": [
      "[ Valid | 027/300 ] loss = 1.11473, acc = 0.63057\n",
      "[ Valid | 027/300 ] loss = 1.11473, acc = 0.63057 -> best\n",
      "Best model found at fold 3 epoch 27, acc=0.63057, saving model\n"
     ]
    },
    {
     "name": "stderr",
     "output_type": "stream",
     "text": [
      "T: 028/300: 100%|█| 78/78 [00:07<00:00, 10.06it/s, lr=0.000138, b_loss=1.12, b_a\n"
     ]
    },
    {
     "name": "stdout",
     "output_type": "stream",
     "text": [
      "[ Train | 028/300 ] loss = 1.01388, acc = 0.64711\n"
     ]
    },
    {
     "name": "stderr",
     "output_type": "stream",
     "text": [
      "V: 028/300: 100%|██████| 26/26 [00:02<00:00, 12.64it/s, v_loss=1.06, v_acc=0.64]\n"
     ]
    },
    {
     "name": "stdout",
     "output_type": "stream",
     "text": [
      "[ Valid | 028/300 ] loss = 1.06328, acc = 0.64017\n",
      "[ Valid | 028/300 ] loss = 1.06328, acc = 0.64017 -> best\n",
      "Best model found at fold 3 epoch 28, acc=0.64017, saving model\n"
     ]
    },
    {
     "name": "stderr",
     "output_type": "stream",
     "text": [
      "T: 029/300: 100%|█| 78/78 [00:07<00:00, 10.00it/s, lr=0.000109, b_loss=0.987, b_\n"
     ]
    },
    {
     "name": "stdout",
     "output_type": "stream",
     "text": [
      "[ Train | 029/300 ] loss = 0.98103, acc = 0.65854\n"
     ]
    },
    {
     "name": "stderr",
     "output_type": "stream",
     "text": [
      "V: 029/300: 100%|████| 26/26 [00:01<00:00, 14.22it/s, v_loss=0.989, v_acc=0.666]\n"
     ]
    },
    {
     "name": "stdout",
     "output_type": "stream",
     "text": [
      "[ Valid | 029/300 ] loss = 0.98871, acc = 0.66606\n",
      "[ Valid | 029/300 ] loss = 0.98871, acc = 0.66606 -> best\n",
      "Best model found at fold 3 epoch 29, acc=0.66606, saving model\n"
     ]
    },
    {
     "name": "stderr",
     "output_type": "stream",
     "text": [
      "T: 030/300: 100%|█| 78/78 [00:07<00:00, 10.11it/s, lr=8.24e-5, b_loss=1.08, b_ac\n"
     ]
    },
    {
     "name": "stdout",
     "output_type": "stream",
     "text": [
      "[ Train | 030/300 ] loss = 0.96454, acc = 0.66935\n"
     ]
    },
    {
     "name": "stderr",
     "output_type": "stream",
     "text": [
      "V: 030/300: 100%|████| 26/26 [00:01<00:00, 13.48it/s, v_loss=0.992, v_acc=0.666]\n"
     ]
    },
    {
     "name": "stdout",
     "output_type": "stream",
     "text": [
      "[ Valid | 030/300 ] loss = 0.99180, acc = 0.66604\n",
      "[ Valid | 030/300 ] loss = 0.99180, acc = 0.66604\n"
     ]
    },
    {
     "name": "stderr",
     "output_type": "stream",
     "text": [
      "T: 031/300: 100%|█| 78/78 [00:07<00:00, 10.08it/s, lr=5.86e-5, b_loss=0.791, b_a\n"
     ]
    },
    {
     "name": "stdout",
     "output_type": "stream",
     "text": [
      "[ Train | 031/300 ] loss = 0.92735, acc = 0.67822\n"
     ]
    },
    {
     "name": "stderr",
     "output_type": "stream",
     "text": [
      "V: 031/300: 100%|█████| 26/26 [00:01<00:00, 13.80it/s, v_loss=0.998, v_acc=0.66]\n"
     ]
    },
    {
     "name": "stdout",
     "output_type": "stream",
     "text": [
      "[ Valid | 031/300 ] loss = 0.99838, acc = 0.66042\n",
      "[ Valid | 031/300 ] loss = 0.99838, acc = 0.66042\n"
     ]
    },
    {
     "name": "stderr",
     "output_type": "stream",
     "text": [
      "T: 032/300: 100%|█| 78/78 [00:07<00:00, 10.12it/s, lr=3.82e-5, b_loss=0.871, b_a\n"
     ]
    },
    {
     "name": "stdout",
     "output_type": "stream",
     "text": [
      "[ Train | 032/300 ] loss = 0.92284, acc = 0.67992\n"
     ]
    },
    {
     "name": "stderr",
     "output_type": "stream",
     "text": [
      "V: 032/300: 100%|█████| 26/26 [00:02<00:00, 12.77it/s, v_loss=0.93, v_acc=0.684]\n"
     ]
    },
    {
     "name": "stdout",
     "output_type": "stream",
     "text": [
      "[ Valid | 032/300 ] loss = 0.93018, acc = 0.68387\n",
      "[ Valid | 032/300 ] loss = 0.93018, acc = 0.68387 -> best\n",
      "Best model found at fold 3 epoch 32, acc=0.68387, saving model\n"
     ]
    },
    {
     "name": "stderr",
     "output_type": "stream",
     "text": [
      "T: 033/300: 100%|█| 78/78 [00:07<00:00, 10.11it/s, lr=2.18e-5, b_loss=0.953, b_a\n"
     ]
    },
    {
     "name": "stdout",
     "output_type": "stream",
     "text": [
      "[ Train | 033/300 ] loss = 0.89596, acc = 0.68934\n"
     ]
    },
    {
     "name": "stderr",
     "output_type": "stream",
     "text": [
      "V: 033/300: 100%|█████| 26/26 [00:02<00:00, 12.35it/s, v_loss=0.924, v_acc=0.68]\n"
     ]
    },
    {
     "name": "stdout",
     "output_type": "stream",
     "text": [
      "[ Valid | 033/300 ] loss = 0.92382, acc = 0.67959\n",
      "[ Valid | 033/300 ] loss = 0.92382, acc = 0.67959\n"
     ]
    },
    {
     "name": "stderr",
     "output_type": "stream",
     "text": [
      "T: 034/300: 100%|█| 78/78 [00:07<00:00, 10.02it/s, lr=9.79e-6, b_loss=0.817, b_a\n"
     ]
    },
    {
     "name": "stdout",
     "output_type": "stream",
     "text": [
      "[ Train | 034/300 ] loss = 0.88174, acc = 0.69601\n"
     ]
    },
    {
     "name": "stderr",
     "output_type": "stream",
     "text": [
      "V: 034/300: 100%|█████| 26/26 [00:02<00:00, 11.86it/s, v_loss=0.904, v_acc=0.69]\n"
     ]
    },
    {
     "name": "stdout",
     "output_type": "stream",
     "text": [
      "[ Valid | 034/300 ] loss = 0.90386, acc = 0.69013\n",
      "[ Valid | 034/300 ] loss = 0.90386, acc = 0.69013 -> best\n",
      "Best model found at fold 3 epoch 34, acc=0.69013, saving model\n"
     ]
    },
    {
     "name": "stderr",
     "output_type": "stream",
     "text": [
      "T: 035/300: 100%|█| 78/78 [00:07<00:00,  9.78it/s, lr=2.46e-6, b_loss=0.883, b_a\n"
     ]
    },
    {
     "name": "stdout",
     "output_type": "stream",
     "text": [
      "[ Train | 035/300 ] loss = 0.88062, acc = 0.69694\n"
     ]
    },
    {
     "name": "stderr",
     "output_type": "stream",
     "text": [
      "V: 035/300: 100%|█████| 26/26 [00:01<00:00, 13.85it/s, v_loss=0.902, v_acc=0.69]\n"
     ]
    },
    {
     "name": "stdout",
     "output_type": "stream",
     "text": [
      "[ Valid | 035/300 ] loss = 0.90171, acc = 0.69018\n",
      "[ Valid | 035/300 ] loss = 0.90171, acc = 0.69018 -> best\n",
      "Best model found at fold 3 epoch 35, acc=0.69018, saving model\n"
     ]
    },
    {
     "name": "stderr",
     "output_type": "stream",
     "text": [
      "T: 036/300: 100%|█| 78/78 [00:07<00:00, 10.02it/s, lr=0.0004, b_loss=0.904, b_ac\n"
     ]
    },
    {
     "name": "stdout",
     "output_type": "stream",
     "text": [
      "[ Train | 036/300 ] loss = 1.14132, acc = 0.60136\n"
     ]
    },
    {
     "name": "stderr",
     "output_type": "stream",
     "text": [
      "V: 036/300: 100%|█████| 26/26 [00:01<00:00, 13.42it/s, v_loss=1.31, v_acc=0.557]\n"
     ]
    },
    {
     "name": "stdout",
     "output_type": "stream",
     "text": [
      "[ Valid | 036/300 ] loss = 1.31068, acc = 0.55680\n",
      "[ Valid | 036/300 ] loss = 1.31068, acc = 0.55680\n"
     ]
    },
    {
     "name": "stderr",
     "output_type": "stream",
     "text": [
      "T: 037/300: 100%|█| 78/78 [00:07<00:00, 10.38it/s, lr=0.000399, b_loss=1.05, b_a\n"
     ]
    },
    {
     "name": "stdout",
     "output_type": "stream",
     "text": [
      "[ Train | 037/300 ] loss = 1.11960, acc = 0.61305\n"
     ]
    },
    {
     "name": "stderr",
     "output_type": "stream",
     "text": [
      "V: 037/300: 100%|█████| 26/26 [00:02<00:00, 12.80it/s, v_loss=1.25, v_acc=0.576]\n"
     ]
    },
    {
     "name": "stdout",
     "output_type": "stream",
     "text": [
      "[ Valid | 037/300 ] loss = 1.25073, acc = 0.57646\n",
      "[ Valid | 037/300 ] loss = 1.25073, acc = 0.57646\n"
     ]
    },
    {
     "name": "stderr",
     "output_type": "stream",
     "text": [
      "T: 038/300: 100%|█| 78/78 [00:07<00:00, 10.12it/s, lr=0.000398, b_loss=1.1, b_ac\n"
     ]
    },
    {
     "name": "stdout",
     "output_type": "stream",
     "text": [
      "[ Train | 038/300 ] loss = 1.10326, acc = 0.62240\n"
     ]
    },
    {
     "name": "stderr",
     "output_type": "stream",
     "text": [
      "V: 038/300: 100%|█████| 26/26 [00:01<00:00, 13.10it/s, v_loss=1.17, v_acc=0.603]\n"
     ]
    },
    {
     "name": "stdout",
     "output_type": "stream",
     "text": [
      "[ Valid | 038/300 ] loss = 1.17326, acc = 0.60262\n",
      "[ Valid | 038/300 ] loss = 1.17326, acc = 0.60262\n"
     ]
    },
    {
     "name": "stderr",
     "output_type": "stream",
     "text": [
      "T: 039/300: 100%|█| 78/78 [00:07<00:00, 10.37it/s, lr=0.000394, b_loss=1.17, b_a\n"
     ]
    },
    {
     "name": "stdout",
     "output_type": "stream",
     "text": [
      "[ Train | 039/300 ] loss = 1.06428, acc = 0.63169\n"
     ]
    },
    {
     "name": "stderr",
     "output_type": "stream",
     "text": [
      "V: 039/300: 100%|█████| 26/26 [00:01<00:00, 13.50it/s, v_loss=1.25, v_acc=0.593]\n"
     ]
    },
    {
     "name": "stdout",
     "output_type": "stream",
     "text": [
      "[ Valid | 039/300 ] loss = 1.25035, acc = 0.59296\n",
      "[ Valid | 039/300 ] loss = 1.25035, acc = 0.59296\n"
     ]
    },
    {
     "name": "stderr",
     "output_type": "stream",
     "text": [
      "T: 040/300: 100%|█| 78/78 [00:07<00:00, 10.21it/s, lr=0.00039, b_loss=1.3, b_acc\n"
     ]
    },
    {
     "name": "stdout",
     "output_type": "stream",
     "text": [
      "[ Train | 040/300 ] loss = 1.07588, acc = 0.63209\n"
     ]
    },
    {
     "name": "stderr",
     "output_type": "stream",
     "text": [
      "V: 040/300: 100%|█████| 26/26 [00:02<00:00, 12.90it/s, v_loss=1.41, v_acc=0.538]\n"
     ]
    },
    {
     "name": "stdout",
     "output_type": "stream",
     "text": [
      "[ Valid | 040/300 ] loss = 1.40975, acc = 0.53844\n",
      "[ Valid | 040/300 ] loss = 1.40975, acc = 0.53844\n"
     ]
    },
    {
     "name": "stderr",
     "output_type": "stream",
     "text": [
      "T: 041/300: 100%|█| 78/78 [00:07<00:00, 10.01it/s, lr=0.000385, b_loss=0.982, b_\n"
     ]
    },
    {
     "name": "stdout",
     "output_type": "stream",
     "text": [
      "[ Train | 041/300 ] loss = 1.03223, acc = 0.64614\n"
     ]
    },
    {
     "name": "stderr",
     "output_type": "stream",
     "text": [
      "V: 041/300: 100%|██████| 26/26 [00:01<00:00, 13.94it/s, v_loss=1.3, v_acc=0.572]\n"
     ]
    },
    {
     "name": "stdout",
     "output_type": "stream",
     "text": [
      "[ Valid | 041/300 ] loss = 1.30190, acc = 0.57230\n",
      "[ Valid | 041/300 ] loss = 1.30190, acc = 0.57230\n"
     ]
    },
    {
     "name": "stderr",
     "output_type": "stream",
     "text": [
      "T: 042/300: 100%|█| 78/78 [00:07<00:00, 10.05it/s, lr=0.000378, b_loss=0.997, b_\n"
     ]
    },
    {
     "name": "stdout",
     "output_type": "stream",
     "text": [
      "[ Train | 042/300 ] loss = 1.03361, acc = 0.64664\n"
     ]
    },
    {
     "name": "stderr",
     "output_type": "stream",
     "text": [
      "V: 042/300: 100%|██████| 26/26 [00:02<00:00, 12.84it/s, v_loss=1.1, v_acc=0.647]\n"
     ]
    },
    {
     "name": "stdout",
     "output_type": "stream",
     "text": [
      "[ Valid | 042/300 ] loss = 1.10243, acc = 0.64668\n",
      "[ Valid | 042/300 ] loss = 1.10243, acc = 0.64668\n"
     ]
    },
    {
     "name": "stderr",
     "output_type": "stream",
     "text": [
      "T: 043/300: 100%|█| 78/78 [00:07<00:00,  9.97it/s, lr=0.000371, b_loss=1.11, b_a\n"
     ]
    },
    {
     "name": "stdout",
     "output_type": "stream",
     "text": [
      "[ Train | 043/300 ] loss = 0.99649, acc = 0.65852\n"
     ]
    },
    {
     "name": "stderr",
     "output_type": "stream",
     "text": [
      "V: 043/300: 100%|██████| 26/26 [00:01<00:00, 14.16it/s, v_loss=1.2, v_acc=0.605]\n"
     ]
    },
    {
     "name": "stdout",
     "output_type": "stream",
     "text": [
      "[ Valid | 043/300 ] loss = 1.19879, acc = 0.60505\n",
      "[ Valid | 043/300 ] loss = 1.19879, acc = 0.60505\n"
     ]
    },
    {
     "name": "stderr",
     "output_type": "stream",
     "text": [
      "T: 044/300: 100%|█| 78/78 [00:07<00:00,  9.75it/s, lr=0.000362, b_loss=0.986, b_\n"
     ]
    },
    {
     "name": "stdout",
     "output_type": "stream",
     "text": [
      "[ Train | 044/300 ] loss = 0.97539, acc = 0.65972\n"
     ]
    },
    {
     "name": "stderr",
     "output_type": "stream",
     "text": [
      "V: 044/300: 100%|██████| 26/26 [00:02<00:00, 12.82it/s, v_loss=1.2, v_acc=0.612]\n"
     ]
    },
    {
     "name": "stdout",
     "output_type": "stream",
     "text": [
      "[ Valid | 044/300 ] loss = 1.20498, acc = 0.61184\n",
      "[ Valid | 044/300 ] loss = 1.20498, acc = 0.61184\n"
     ]
    },
    {
     "name": "stderr",
     "output_type": "stream",
     "text": [
      "T: 045/300: 100%|█| 78/78 [00:07<00:00, 10.36it/s, lr=0.000352, b_loss=1.01, b_a\n"
     ]
    },
    {
     "name": "stdout",
     "output_type": "stream",
     "text": [
      "[ Train | 045/300 ] loss = 0.95988, acc = 0.67095\n"
     ]
    },
    {
     "name": "stderr",
     "output_type": "stream",
     "text": [
      "V: 045/300: 100%|██████| 26/26 [00:01<00:00, 14.89it/s, v_loss=1.13, v_acc=0.62]\n"
     ]
    },
    {
     "name": "stdout",
     "output_type": "stream",
     "text": [
      "[ Valid | 045/300 ] loss = 1.13491, acc = 0.62035\n",
      "[ Valid | 045/300 ] loss = 1.13491, acc = 0.62035\n"
     ]
    },
    {
     "name": "stderr",
     "output_type": "stream",
     "text": [
      "T: 046/300: 100%|█| 78/78 [00:07<00:00, 10.10it/s, lr=0.000341, b_loss=0.977, b_\n"
     ]
    },
    {
     "name": "stdout",
     "output_type": "stream",
     "text": [
      "[ Train | 046/300 ] loss = 0.93718, acc = 0.67514\n"
     ]
    },
    {
     "name": "stderr",
     "output_type": "stream",
     "text": [
      "V: 046/300: 100%|█████| 26/26 [00:02<00:00, 11.95it/s, v_loss=1.09, v_acc=0.638]\n"
     ]
    },
    {
     "name": "stdout",
     "output_type": "stream",
     "text": [
      "[ Valid | 046/300 ] loss = 1.08621, acc = 0.63804\n",
      "[ Valid | 046/300 ] loss = 1.08621, acc = 0.63804\n"
     ]
    },
    {
     "name": "stderr",
     "output_type": "stream",
     "text": [
      "T: 047/300: 100%|█| 78/78 [00:07<00:00, 10.21it/s, lr=0.00033, b_loss=0.982, b_a\n"
     ]
    },
    {
     "name": "stdout",
     "output_type": "stream",
     "text": [
      "[ Train | 047/300 ] loss = 0.92144, acc = 0.68230\n"
     ]
    },
    {
     "name": "stderr",
     "output_type": "stream",
     "text": [
      "V: 047/300: 100%|██████| 26/26 [00:01<00:00, 13.07it/s, v_loss=1.12, v_acc=0.64]\n"
     ]
    },
    {
     "name": "stdout",
     "output_type": "stream",
     "text": [
      "[ Valid | 047/300 ] loss = 1.12208, acc = 0.63996\n",
      "[ Valid | 047/300 ] loss = 1.12208, acc = 0.63996\n"
     ]
    },
    {
     "name": "stderr",
     "output_type": "stream",
     "text": [
      "T: 048/300: 100%|█| 78/78 [00:07<00:00,  9.91it/s, lr=0.000318, b_loss=1.14, b_a\n"
     ]
    },
    {
     "name": "stdout",
     "output_type": "stream",
     "text": [
      "[ Train | 048/300 ] loss = 0.92929, acc = 0.68169\n"
     ]
    },
    {
     "name": "stderr",
     "output_type": "stream",
     "text": [
      "V: 048/300: 100%|█████| 26/26 [00:01<00:00, 13.54it/s, v_loss=1.18, v_acc=0.618]\n"
     ]
    },
    {
     "name": "stdout",
     "output_type": "stream",
     "text": [
      "[ Valid | 048/300 ] loss = 1.18297, acc = 0.61797\n",
      "[ Valid | 048/300 ] loss = 1.18297, acc = 0.61797\n"
     ]
    },
    {
     "name": "stderr",
     "output_type": "stream",
     "text": [
      "T: 049/300: 100%|█| 78/78 [00:07<00:00, 10.34it/s, lr=0.000304, b_loss=0.882, b_\n"
     ]
    },
    {
     "name": "stdout",
     "output_type": "stream",
     "text": [
      "[ Train | 049/300 ] loss = 0.91007, acc = 0.68500\n"
     ]
    },
    {
     "name": "stderr",
     "output_type": "stream",
     "text": [
      "V: 049/300: 100%|█████| 26/26 [00:01<00:00, 14.37it/s, v_loss=1.56, v_acc=0.517]\n"
     ]
    },
    {
     "name": "stdout",
     "output_type": "stream",
     "text": [
      "[ Valid | 049/300 ] loss = 1.56223, acc = 0.51652\n",
      "[ Valid | 049/300 ] loss = 1.56223, acc = 0.51652\n"
     ]
    },
    {
     "name": "stderr",
     "output_type": "stream",
     "text": [
      "T: 050/300: 100%|█| 78/78 [00:07<00:00, 10.41it/s, lr=0.000291, b_loss=0.792, b_\n"
     ]
    },
    {
     "name": "stdout",
     "output_type": "stream",
     "text": [
      "[ Train | 050/300 ] loss = 0.87054, acc = 0.69997\n"
     ]
    },
    {
     "name": "stderr",
     "output_type": "stream",
     "text": [
      "V: 050/300: 100%|█████| 26/26 [00:01<00:00, 14.53it/s, v_loss=1.06, v_acc=0.642]\n"
     ]
    },
    {
     "name": "stdout",
     "output_type": "stream",
     "text": [
      "[ Valid | 050/300 ] loss = 1.06454, acc = 0.64176\n",
      "[ Valid | 050/300 ] loss = 1.06454, acc = 0.64176\n"
     ]
    },
    {
     "name": "stderr",
     "output_type": "stream",
     "text": [
      "T: 051/300: 100%|█| 78/78 [00:07<00:00, 10.28it/s, lr=0.000277, b_loss=0.799, b_\n"
     ]
    },
    {
     "name": "stdout",
     "output_type": "stream",
     "text": [
      "[ Train | 051/300 ] loss = 0.85395, acc = 0.70237\n"
     ]
    },
    {
     "name": "stderr",
     "output_type": "stream",
     "text": [
      "V: 051/300: 100%|█████| 26/26 [00:01<00:00, 13.25it/s, v_loss=1.19, v_acc=0.618]\n"
     ]
    },
    {
     "name": "stdout",
     "output_type": "stream",
     "text": [
      "[ Valid | 051/300 ] loss = 1.19059, acc = 0.61830\n",
      "[ Valid | 051/300 ] loss = 1.19059, acc = 0.61830\n"
     ]
    },
    {
     "name": "stderr",
     "output_type": "stream",
     "text": [
      "T: 052/300: 100%|█| 78/78 [00:07<00:00,  9.98it/s, lr=0.000262, b_loss=0.705, b_\n"
     ]
    },
    {
     "name": "stdout",
     "output_type": "stream",
     "text": [
      "[ Train | 052/300 ] loss = 0.85693, acc = 0.70130\n"
     ]
    },
    {
     "name": "stderr",
     "output_type": "stream",
     "text": [
      "V: 052/300: 100%|█████| 26/26 [00:01<00:00, 13.99it/s, v_loss=1.08, v_acc=0.643]\n"
     ]
    },
    {
     "name": "stdout",
     "output_type": "stream",
     "text": [
      "[ Valid | 052/300 ] loss = 1.07505, acc = 0.64325\n",
      "[ Valid | 052/300 ] loss = 1.07505, acc = 0.64325\n"
     ]
    },
    {
     "name": "stderr",
     "output_type": "stream",
     "text": [
      "T: 053/300: 100%|█| 78/78 [00:07<00:00, 10.17it/s, lr=0.000247, b_loss=0.794, b_\n"
     ]
    },
    {
     "name": "stdout",
     "output_type": "stream",
     "text": [
      "[ Train | 053/300 ] loss = 0.83970, acc = 0.70780\n"
     ]
    },
    {
     "name": "stderr",
     "output_type": "stream",
     "text": [
      "V: 053/300: 100%|████| 26/26 [00:01<00:00, 13.36it/s, v_loss=0.993, v_acc=0.663]\n"
     ]
    },
    {
     "name": "stdout",
     "output_type": "stream",
     "text": [
      "[ Valid | 053/300 ] loss = 0.99251, acc = 0.66301\n",
      "[ Valid | 053/300 ] loss = 0.99251, acc = 0.66301\n"
     ]
    },
    {
     "name": "stderr",
     "output_type": "stream",
     "text": [
      "T: 054/300: 100%|█| 78/78 [00:07<00:00,  9.95it/s, lr=0.000231, b_loss=0.775, b_\n"
     ]
    },
    {
     "name": "stdout",
     "output_type": "stream",
     "text": [
      "[ Train | 054/300 ] loss = 0.81796, acc = 0.71684\n"
     ]
    },
    {
     "name": "stderr",
     "output_type": "stream",
     "text": [
      "V: 054/300: 100%|█████| 26/26 [00:01<00:00, 14.40it/s, v_loss=1.01, v_acc=0.662]\n"
     ]
    },
    {
     "name": "stdout",
     "output_type": "stream",
     "text": [
      "[ Valid | 054/300 ] loss = 1.00912, acc = 0.66243\n",
      "[ Valid | 054/300 ] loss = 1.00912, acc = 0.66243\n"
     ]
    },
    {
     "name": "stderr",
     "output_type": "stream",
     "text": [
      "T: 055/300: 100%|█| 78/78 [00:07<00:00, 10.33it/s, lr=0.000216, b_loss=0.912, b_\n"
     ]
    },
    {
     "name": "stdout",
     "output_type": "stream",
     "text": [
      "[ Train | 055/300 ] loss = 0.80549, acc = 0.72323\n"
     ]
    },
    {
     "name": "stderr",
     "output_type": "stream",
     "text": [
      "V: 055/300: 100%|█████| 26/26 [00:02<00:00, 12.70it/s, v_loss=0.94, v_acc=0.686]\n"
     ]
    },
    {
     "name": "stdout",
     "output_type": "stream",
     "text": [
      "[ Valid | 055/300 ] loss = 0.93960, acc = 0.68594\n",
      "[ Valid | 055/300 ] loss = 0.93960, acc = 0.68594\n"
     ]
    },
    {
     "name": "stderr",
     "output_type": "stream",
     "text": [
      "T: 056/300: 100%|█| 78/78 [00:07<00:00, 10.14it/s, lr=0.0002, b_loss=0.731, b_ac\n"
     ]
    },
    {
     "name": "stdout",
     "output_type": "stream",
     "text": [
      "[ Train | 056/300 ] loss = 0.77469, acc = 0.73056\n"
     ]
    },
    {
     "name": "stderr",
     "output_type": "stream",
     "text": [
      "V: 056/300: 100%|████| 26/26 [00:02<00:00, 12.16it/s, v_loss=0.951, v_acc=0.689]"
     ]
    },
    {
     "name": "stdout",
     "output_type": "stream",
     "text": [
      "[ Valid | 056/300 ] loss = 0.95120, acc = 0.68889\n",
      "[ Valid | 056/300 ] loss = 0.95120, acc = 0.68889\n",
      "No improvment 20 consecutive epochs, early stopping\n"
     ]
    },
    {
     "name": "stderr",
     "output_type": "stream",
     "text": [
      "\n"
     ]
    },
    {
     "data": {
      "text/html": [
       "Waiting for W&B process to finish... <strong style=\"color:green\">(success).</strong>"
      ],
      "text/plain": [
       "<IPython.core.display.HTML object>"
      ]
     },
     "metadata": {},
     "output_type": "display_data"
    },
    {
     "data": {
      "application/vnd.jupyter.widget-view+json": {
       "model_id": "cc7980c94faa40fd900b71bc6b7a7606",
       "version_major": 2,
       "version_minor": 0
      },
      "text/plain": [
       "VBox(children=(Label(value='0.002 MB of 0.002 MB uploaded (0.000 MB deduped)\\r'), FloatProgress(value=1.0, max…"
      ]
     },
     "metadata": {},
     "output_type": "display_data"
    },
    {
     "data": {
      "text/html": [
       "<style>\n",
       "    table.wandb td:nth-child(1) { padding: 0 10px; text-align: left ; width: auto;} td:nth-child(2) {text-align: left ; width: 100%}\n",
       "    .wandb-row { display: flex; flex-direction: row; flex-wrap: wrap; justify-content: flex-start; width: 100% }\n",
       "    .wandb-col { display: flex; flex-direction: column; flex-basis: 100%; flex: 1; padding: 10px; }\n",
       "    </style>\n",
       "<div class=\"wandb-row\"><div class=\"wandb-col\"><h3>Run history:</h3><br/><table class=\"wandb\"><tr><td>average_training_loss</td><td>█▇▇▆▆▅▅▅▄▄▃▅▄▄▄▃▃▃▃▂▂▂▂▂▂▃▃▃▃▂▂▂▂▂▂▂▁▁▁▁</td></tr><tr><td>average_validation_loss</td><td>▇▆▆▄▆▅▄▄▄▃▂█▄▄▄▃▃▂▂▂▁▁▁▁▁▃▃▃▃▃▂▂▂▂▂▂▂▁▂▁</td></tr><tr><td>learning rate</td><td>█▇▆▂█▇▇▆▃▂▁███▇▇▆▆▄▄▃▂▂▁▁█████▇▇▇▇▇▆▆▅▅▄</td></tr><tr><td>step_training_accuracy</td><td>▁▁▂▄▃▃▅▅▃▇▆▅▆▆▅▅▅▆▆▇▇▇█▇▆▅▆▆▇▇▆▇▇█▇█▇▇██</td></tr><tr><td>step_training_loss</td><td>▇█▇▆▆▆▄▄▅▃▄▅▄▄▄▄▄▄▂▂▃▂▂▂▃▄▃▃▃▂▃▂▂▁▂▁▂▂▁▁</td></tr><tr><td>step_validation_accuracy</td><td>▂▃▄▄▄▃▅▅▄▆▇▁▄▄▅▇▅▆▆▇█▇▇▇█▆▆▇▄▇▅▆▇▆▄█▇▆█▆</td></tr><tr><td>step_validation_loss</td><td>▆▆▅▄▄▄▃▃▄▃▂█▄▄▄▂▄▃▂▂▁▂▁▂▁▃▃▂▄▂▃▂▂▃▄▁▁▂▁▂</td></tr></table><br/></div><div class=\"wandb-col\"><h3>Run summary:</h3><br/><table class=\"wandb\"><tr><td>average_training_loss</td><td>0.77469</td></tr><tr><td>average_validation_loss</td><td>0.9512</td></tr><tr><td>learning rate</td><td>0.0002</td></tr><tr><td>step_training_accuracy</td><td>0.74138</td></tr><tr><td>step_training_loss</td><td>0.73109</td></tr><tr><td>step_validation_accuracy</td><td>0.65323</td></tr><tr><td>step_validation_loss</td><td>1.01214</td></tr></table><br/></div></div>"
      ],
      "text/plain": [
       "<IPython.core.display.HTML object>"
      ]
     },
     "metadata": {},
     "output_type": "display_data"
    },
    {
     "data": {
      "text/html": [
       " View run <strong style=\"color:#cdcd00\">glowing-galaxy-19</strong> at: <a href='https://wandb.ai/nickwkt/Food-11/runs/prrwks9q' target=\"_blank\">https://wandb.ai/nickwkt/Food-11/runs/prrwks9q</a><br/>Synced 6 W&B file(s), 0 media file(s), 0 artifact file(s) and 0 other file(s)"
      ],
      "text/plain": [
       "<IPython.core.display.HTML object>"
      ]
     },
     "metadata": {},
     "output_type": "display_data"
    },
    {
     "data": {
      "text/html": [
       "Find logs at: <code>./wandb/run-20230414_142457-prrwks9q/logs</code>"
      ],
      "text/plain": [
       "<IPython.core.display.HTML object>"
      ]
     },
     "metadata": {},
     "output_type": "display_data"
    },
    {
     "name": "stdout",
     "output_type": "stream",
     "text": [
      "\n",
      "\n",
      "Starting Fold: 4 ********************************************\n",
      "cuda:0\n"
     ]
    },
    {
     "data": {
      "application/vnd.jupyter.widget-view+json": {
       "model_id": "619978b23c7146a0997576c886a63034",
       "version_major": 2,
       "version_minor": 0
      },
      "text/plain": [
       "VBox(children=(Label(value='Waiting for wandb.init()...\\r'), FloatProgress(value=0.01666862770022514, max=1.0)…"
      ]
     },
     "metadata": {},
     "output_type": "display_data"
    },
    {
     "data": {
      "text/html": [
       "Tracking run with wandb version 0.14.2"
      ],
      "text/plain": [
       "<IPython.core.display.HTML object>"
      ]
     },
     "metadata": {},
     "output_type": "display_data"
    },
    {
     "data": {
      "text/html": [
       "Run data is saved locally in <code>/home/user/jupyter_file/wandb/run-20230414_143416-5v7q49e2</code>"
      ],
      "text/plain": [
       "<IPython.core.display.HTML object>"
      ]
     },
     "metadata": {},
     "output_type": "display_data"
    },
    {
     "data": {
      "text/html": [
       "Syncing run <strong><a href='https://wandb.ai/nickwkt/Food-11/runs/5v7q49e2' target=\"_blank\">exalted-eon-20</a></strong> to <a href='https://wandb.ai/nickwkt/Food-11' target=\"_blank\">Weights & Biases</a> (<a href='https://wandb.me/run' target=\"_blank\">docs</a>)<br/>"
      ],
      "text/plain": [
       "<IPython.core.display.HTML object>"
      ]
     },
     "metadata": {},
     "output_type": "display_data"
    },
    {
     "data": {
      "text/html": [
       " View project at <a href='https://wandb.ai/nickwkt/Food-11' target=\"_blank\">https://wandb.ai/nickwkt/Food-11</a>"
      ],
      "text/plain": [
       "<IPython.core.display.HTML object>"
      ]
     },
     "metadata": {},
     "output_type": "display_data"
    },
    {
     "data": {
      "text/html": [
       " View run at <a href='https://wandb.ai/nickwkt/Food-11/runs/5v7q49e2' target=\"_blank\">https://wandb.ai/nickwkt/Food-11/runs/5v7q49e2</a>"
      ],
      "text/plain": [
       "<IPython.core.display.HTML object>"
      ]
     },
     "metadata": {},
     "output_type": "display_data"
    },
    {
     "name": "stderr",
     "output_type": "stream",
     "text": [
      "T: 001/300: 100%|█| 78/78 [00:07<00:00, 10.35it/s, lr=0.0004, b_loss=1.94, b_acc\n"
     ]
    },
    {
     "name": "stdout",
     "output_type": "stream",
     "text": [
      "[ Train | 001/300 ] loss = 2.10839, acc = 0.26291\n"
     ]
    },
    {
     "name": "stderr",
     "output_type": "stream",
     "text": [
      "V: 001/300: 100%|█████| 26/26 [00:02<00:00, 12.37it/s, v_loss=2.07, v_acc=0.276]\n"
     ]
    },
    {
     "name": "stdout",
     "output_type": "stream",
     "text": [
      "[ Valid | 001/300 ] loss = 2.07448, acc = 0.27619\n",
      "[ Valid | 001/300 ] loss = 2.07448, acc = 0.27619 -> best\n",
      "Best model found at fold 4 epoch 1, acc=0.27619, saving model\n"
     ]
    },
    {
     "name": "stderr",
     "output_type": "stream",
     "text": [
      "T: 002/300: 100%|█| 78/78 [00:07<00:00, 10.40it/s, lr=0.000362, b_loss=2.03, b_a\n"
     ]
    },
    {
     "name": "stdout",
     "output_type": "stream",
     "text": [
      "[ Train | 002/300 ] loss = 1.94263, acc = 0.31492\n"
     ]
    },
    {
     "name": "stderr",
     "output_type": "stream",
     "text": [
      "V: 002/300: 100%|█████| 26/26 [00:01<00:00, 13.77it/s, v_loss=1.91, v_acc=0.333]\n"
     ]
    },
    {
     "name": "stdout",
     "output_type": "stream",
     "text": [
      "[ Valid | 002/300 ] loss = 1.91110, acc = 0.33336\n",
      "[ Valid | 002/300 ] loss = 1.91110, acc = 0.33336 -> best\n",
      "Best model found at fold 4 epoch 2, acc=0.33336, saving model\n"
     ]
    },
    {
     "name": "stderr",
     "output_type": "stream",
     "text": [
      "T: 003/300: 100%|█| 78/78 [00:07<00:00, 10.11it/s, lr=0.000262, b_loss=1.67, b_a\n"
     ]
    },
    {
     "name": "stdout",
     "output_type": "stream",
     "text": [
      "[ Train | 003/300 ] loss = 1.83166, acc = 0.36434\n"
     ]
    },
    {
     "name": "stderr",
     "output_type": "stream",
     "text": [
      "V: 003/300: 100%|█████| 26/26 [00:02<00:00, 12.55it/s, v_loss=1.85, v_acc=0.342]\n"
     ]
    },
    {
     "name": "stdout",
     "output_type": "stream",
     "text": [
      "[ Valid | 003/300 ] loss = 1.85391, acc = 0.34168\n",
      "[ Valid | 003/300 ] loss = 1.85391, acc = 0.34168 -> best\n",
      "Best model found at fold 4 epoch 3, acc=0.34168, saving model\n"
     ]
    },
    {
     "name": "stderr",
     "output_type": "stream",
     "text": [
      "T: 004/300: 100%|█| 78/78 [00:07<00:00, 10.08it/s, lr=0.000138, b_loss=1.66, b_a\n"
     ]
    },
    {
     "name": "stdout",
     "output_type": "stream",
     "text": [
      "[ Train | 004/300 ] loss = 1.73859, acc = 0.38995\n"
     ]
    },
    {
     "name": "stderr",
     "output_type": "stream",
     "text": [
      "V: 004/300: 100%|█████| 26/26 [00:02<00:00, 12.55it/s, v_loss=1.75, v_acc=0.382]\n"
     ]
    },
    {
     "name": "stdout",
     "output_type": "stream",
     "text": [
      "[ Valid | 004/300 ] loss = 1.75403, acc = 0.38241\n",
      "[ Valid | 004/300 ] loss = 1.75403, acc = 0.38241 -> best\n",
      "Best model found at fold 4 epoch 4, acc=0.38241, saving model\n"
     ]
    },
    {
     "name": "stderr",
     "output_type": "stream",
     "text": [
      "T: 005/300: 100%|█| 78/78 [00:07<00:00, 10.02it/s, lr=3.82e-5, b_loss=1.49, b_ac\n"
     ]
    },
    {
     "name": "stdout",
     "output_type": "stream",
     "text": [
      "[ Train | 005/300 ] loss = 1.63717, acc = 0.42859\n"
     ]
    },
    {
     "name": "stderr",
     "output_type": "stream",
     "text": [
      "V: 005/300: 100%|█████| 26/26 [00:02<00:00, 11.36it/s, v_loss=1.57, v_acc=0.462]\n"
     ]
    },
    {
     "name": "stdout",
     "output_type": "stream",
     "text": [
      "[ Valid | 005/300 ] loss = 1.56871, acc = 0.46152\n",
      "[ Valid | 005/300 ] loss = 1.56871, acc = 0.46152 -> best\n",
      "Best model found at fold 4 epoch 5, acc=0.46152, saving model\n"
     ]
    },
    {
     "name": "stderr",
     "output_type": "stream",
     "text": [
      "T: 006/300: 100%|█| 78/78 [00:07<00:00, 10.19it/s, lr=0.0004, b_loss=1.73, b_acc\n"
     ]
    },
    {
     "name": "stdout",
     "output_type": "stream",
     "text": [
      "[ Train | 006/300 ] loss = 1.78312, acc = 0.37987\n"
     ]
    },
    {
     "name": "stderr",
     "output_type": "stream",
     "text": [
      "V: 006/300: 100%|█████| 26/26 [00:01<00:00, 13.39it/s, v_loss=1.87, v_acc=0.371]\n"
     ]
    },
    {
     "name": "stdout",
     "output_type": "stream",
     "text": [
      "[ Valid | 006/300 ] loss = 1.87283, acc = 0.37125\n",
      "[ Valid | 006/300 ] loss = 1.87283, acc = 0.37125\n"
     ]
    },
    {
     "name": "stderr",
     "output_type": "stream",
     "text": [
      "T: 007/300: 100%|█| 78/78 [00:07<00:00, 10.14it/s, lr=0.00039, b_loss=1.84, b_ac\n"
     ]
    },
    {
     "name": "stdout",
     "output_type": "stream",
     "text": [
      "[ Train | 007/300 ] loss = 1.68353, acc = 0.41586\n"
     ]
    },
    {
     "name": "stderr",
     "output_type": "stream",
     "text": [
      "V: 007/300: 100%|█████| 26/26 [00:01<00:00, 13.21it/s, v_loss=1.69, v_acc=0.412]\n"
     ]
    },
    {
     "name": "stdout",
     "output_type": "stream",
     "text": [
      "[ Valid | 007/300 ] loss = 1.69162, acc = 0.41237\n",
      "[ Valid | 007/300 ] loss = 1.69162, acc = 0.41237\n"
     ]
    },
    {
     "name": "stderr",
     "output_type": "stream",
     "text": [
      "T: 008/300: 100%|█| 78/78 [00:07<00:00, 10.08it/s, lr=0.000362, b_loss=1.49, b_a\n"
     ]
    },
    {
     "name": "stdout",
     "output_type": "stream",
     "text": [
      "[ Train | 008/300 ] loss = 1.61455, acc = 0.44020\n"
     ]
    },
    {
     "name": "stderr",
     "output_type": "stream",
     "text": [
      "V: 008/300: 100%|█████| 26/26 [00:02<00:00, 12.51it/s, v_loss=1.71, v_acc=0.409]\n"
     ]
    },
    {
     "name": "stdout",
     "output_type": "stream",
     "text": [
      "[ Valid | 008/300 ] loss = 1.70834, acc = 0.40923\n",
      "[ Valid | 008/300 ] loss = 1.70834, acc = 0.40923\n"
     ]
    },
    {
     "name": "stderr",
     "output_type": "stream",
     "text": [
      "T: 009/300: 100%|█| 78/78 [00:07<00:00,  9.96it/s, lr=0.000318, b_loss=1.45, b_a\n"
     ]
    },
    {
     "name": "stdout",
     "output_type": "stream",
     "text": [
      "[ Train | 009/300 ] loss = 1.53968, acc = 0.46540\n"
     ]
    },
    {
     "name": "stderr",
     "output_type": "stream",
     "text": [
      "V: 009/300: 100%|█████| 26/26 [00:02<00:00, 12.38it/s, v_loss=1.76, v_acc=0.401]\n"
     ]
    },
    {
     "name": "stdout",
     "output_type": "stream",
     "text": [
      "[ Valid | 009/300 ] loss = 1.76280, acc = 0.40074\n",
      "[ Valid | 009/300 ] loss = 1.76280, acc = 0.40074\n"
     ]
    },
    {
     "name": "stderr",
     "output_type": "stream",
     "text": [
      "T: 010/300: 100%|█| 78/78 [00:07<00:00, 10.15it/s, lr=0.000262, b_loss=1.58, b_a\n"
     ]
    },
    {
     "name": "stdout",
     "output_type": "stream",
     "text": [
      "[ Train | 010/300 ] loss = 1.48315, acc = 0.48293\n"
     ]
    },
    {
     "name": "stderr",
     "output_type": "stream",
     "text": [
      "V: 010/300: 100%|████████| 26/26 [00:02<00:00, 11.68it/s, v_loss=2, v_acc=0.358]\n"
     ]
    },
    {
     "name": "stdout",
     "output_type": "stream",
     "text": [
      "[ Valid | 010/300 ] loss = 1.99694, acc = 0.35765\n",
      "[ Valid | 010/300 ] loss = 1.99694, acc = 0.35765\n"
     ]
    },
    {
     "name": "stderr",
     "output_type": "stream",
     "text": [
      "T: 011/300: 100%|█| 78/78 [00:07<00:00, 10.20it/s, lr=0.0002, b_loss=1.48, b_acc\n"
     ]
    },
    {
     "name": "stdout",
     "output_type": "stream",
     "text": [
      "[ Train | 011/300 ] loss = 1.39152, acc = 0.51546\n"
     ]
    },
    {
     "name": "stderr",
     "output_type": "stream",
     "text": [
      "V: 011/300: 100%|█████| 26/26 [00:02<00:00, 12.31it/s, v_loss=1.42, v_acc=0.504]\n"
     ]
    },
    {
     "name": "stdout",
     "output_type": "stream",
     "text": [
      "[ Valid | 011/300 ] loss = 1.42215, acc = 0.50357\n",
      "[ Valid | 011/300 ] loss = 1.42215, acc = 0.50357 -> best\n",
      "Best model found at fold 4 epoch 11, acc=0.50357, saving model\n"
     ]
    },
    {
     "name": "stderr",
     "output_type": "stream",
     "text": [
      "T: 012/300: 100%|█| 78/78 [00:07<00:00, 10.41it/s, lr=0.000138, b_loss=1.35, b_a\n"
     ]
    },
    {
     "name": "stdout",
     "output_type": "stream",
     "text": [
      "[ Train | 012/300 ] loss = 1.34355, acc = 0.53326\n"
     ]
    },
    {
     "name": "stderr",
     "output_type": "stream",
     "text": [
      "V: 012/300: 100%|█████| 26/26 [00:02<00:00, 12.52it/s, v_loss=1.31, v_acc=0.559]\n"
     ]
    },
    {
     "name": "stdout",
     "output_type": "stream",
     "text": [
      "[ Valid | 012/300 ] loss = 1.30507, acc = 0.55900\n",
      "[ Valid | 012/300 ] loss = 1.30507, acc = 0.55900 -> best\n",
      "Best model found at fold 4 epoch 12, acc=0.55900, saving model\n"
     ]
    },
    {
     "name": "stderr",
     "output_type": "stream",
     "text": [
      "T: 013/300: 100%|█| 78/78 [00:07<00:00, 10.30it/s, lr=8.24e-5, b_loss=1.29, b_ac\n"
     ]
    },
    {
     "name": "stdout",
     "output_type": "stream",
     "text": [
      "[ Train | 013/300 ] loss = 1.27793, acc = 0.55211\n"
     ]
    },
    {
     "name": "stderr",
     "output_type": "stream",
     "text": [
      "V: 013/300: 100%|█████| 26/26 [00:01<00:00, 13.91it/s, v_loss=1.37, v_acc=0.543]\n"
     ]
    },
    {
     "name": "stdout",
     "output_type": "stream",
     "text": [
      "[ Valid | 013/300 ] loss = 1.37032, acc = 0.54279\n",
      "[ Valid | 013/300 ] loss = 1.37032, acc = 0.54279\n"
     ]
    },
    {
     "name": "stderr",
     "output_type": "stream",
     "text": [
      "T: 014/300: 100%|█| 78/78 [00:07<00:00, 10.21it/s, lr=3.82e-5, b_loss=1.21, b_ac\n"
     ]
    },
    {
     "name": "stdout",
     "output_type": "stream",
     "text": [
      "[ Train | 014/300 ] loss = 1.21766, acc = 0.57926\n"
     ]
    },
    {
     "name": "stderr",
     "output_type": "stream",
     "text": [
      "V: 014/300: 100%|█████| 26/26 [00:02<00:00, 12.78it/s, v_loss=1.19, v_acc=0.599]\n"
     ]
    },
    {
     "name": "stdout",
     "output_type": "stream",
     "text": [
      "[ Valid | 014/300 ] loss = 1.18697, acc = 0.59904\n",
      "[ Valid | 014/300 ] loss = 1.18697, acc = 0.59904 -> best\n",
      "Best model found at fold 4 epoch 14, acc=0.59904, saving model\n"
     ]
    },
    {
     "name": "stderr",
     "output_type": "stream",
     "text": [
      "T: 015/300: 100%|█| 78/78 [00:07<00:00, 10.12it/s, lr=9.79e-6, b_loss=1.27, b_ac\n"
     ]
    },
    {
     "name": "stdout",
     "output_type": "stream",
     "text": [
      "[ Train | 015/300 ] loss = 1.18329, acc = 0.58862\n"
     ]
    },
    {
     "name": "stderr",
     "output_type": "stream",
     "text": [
      "V: 015/300: 100%|█████| 26/26 [00:02<00:00, 12.61it/s, v_loss=1.17, v_acc=0.601]\n"
     ]
    },
    {
     "name": "stdout",
     "output_type": "stream",
     "text": [
      "[ Valid | 015/300 ] loss = 1.16758, acc = 0.60074\n",
      "[ Valid | 015/300 ] loss = 1.16758, acc = 0.60074 -> best\n",
      "Best model found at fold 4 epoch 15, acc=0.60074, saving model\n"
     ]
    },
    {
     "name": "stderr",
     "output_type": "stream",
     "text": [
      "T: 016/300: 100%|█| 78/78 [00:07<00:00, 10.18it/s, lr=0.0004, b_loss=1.43, b_acc\n"
     ]
    },
    {
     "name": "stdout",
     "output_type": "stream",
     "text": [
      "[ Train | 016/300 ] loss = 1.43095, acc = 0.50333\n"
     ]
    },
    {
     "name": "stderr",
     "output_type": "stream",
     "text": [
      "V: 016/300: 100%|█████| 26/26 [00:02<00:00, 11.93it/s, v_loss=1.93, v_acc=0.368]\n"
     ]
    },
    {
     "name": "stdout",
     "output_type": "stream",
     "text": [
      "[ Valid | 016/300 ] loss = 1.92550, acc = 0.36821\n",
      "[ Valid | 016/300 ] loss = 1.92550, acc = 0.36821\n"
     ]
    },
    {
     "name": "stderr",
     "output_type": "stream",
     "text": [
      "T: 017/300: 100%|█| 78/78 [00:07<00:00, 10.09it/s, lr=0.000398, b_loss=1.5, b_ac\n"
     ]
    },
    {
     "name": "stdout",
     "output_type": "stream",
     "text": [
      "[ Train | 017/300 ] loss = 1.38920, acc = 0.51423\n"
     ]
    },
    {
     "name": "stderr",
     "output_type": "stream",
     "text": [
      "V: 017/300: 100%|█████| 26/26 [00:02<00:00, 12.23it/s, v_loss=1.88, v_acc=0.388]\n"
     ]
    },
    {
     "name": "stdout",
     "output_type": "stream",
     "text": [
      "[ Valid | 017/300 ] loss = 1.87514, acc = 0.38757\n",
      "[ Valid | 017/300 ] loss = 1.87514, acc = 0.38757\n"
     ]
    },
    {
     "name": "stderr",
     "output_type": "stream",
     "text": [
      "T: 018/300: 100%|█| 78/78 [00:07<00:00, 10.08it/s, lr=0.00039, b_loss=1.17, b_ac\n"
     ]
    },
    {
     "name": "stdout",
     "output_type": "stream",
     "text": [
      "[ Train | 018/300 ] loss = 1.34075, acc = 0.54001\n"
     ]
    },
    {
     "name": "stderr",
     "output_type": "stream",
     "text": [
      "V: 018/300: 100%|█████| 26/26 [00:01<00:00, 13.10it/s, v_loss=1.42, v_acc=0.519]\n"
     ]
    },
    {
     "name": "stdout",
     "output_type": "stream",
     "text": [
      "[ Valid | 018/300 ] loss = 1.41899, acc = 0.51930\n",
      "[ Valid | 018/300 ] loss = 1.41899, acc = 0.51930\n"
     ]
    },
    {
     "name": "stderr",
     "output_type": "stream",
     "text": [
      "T: 019/300: 100%|█| 78/78 [00:07<00:00, 10.20it/s, lr=0.000378, b_loss=1.36, b_a\n"
     ]
    },
    {
     "name": "stdout",
     "output_type": "stream",
     "text": [
      "[ Train | 019/300 ] loss = 1.30588, acc = 0.54884\n"
     ]
    },
    {
     "name": "stderr",
     "output_type": "stream",
     "text": [
      "V: 019/300: 100%|█████| 26/26 [00:01<00:00, 13.01it/s, v_loss=1.79, v_acc=0.454]\n"
     ]
    },
    {
     "name": "stdout",
     "output_type": "stream",
     "text": [
      "[ Valid | 019/300 ] loss = 1.78910, acc = 0.45376\n",
      "[ Valid | 019/300 ] loss = 1.78910, acc = 0.45376\n"
     ]
    },
    {
     "name": "stderr",
     "output_type": "stream",
     "text": [
      "T: 020/300: 100%|█| 78/78 [00:07<00:00, 10.03it/s, lr=0.000362, b_loss=1.22, b_a\n"
     ]
    },
    {
     "name": "stdout",
     "output_type": "stream",
     "text": [
      "[ Train | 020/300 ] loss = 1.27977, acc = 0.55766\n"
     ]
    },
    {
     "name": "stderr",
     "output_type": "stream",
     "text": [
      "V: 020/300: 100%|█████| 26/26 [00:02<00:00, 11.97it/s, v_loss=1.39, v_acc=0.528]\n"
     ]
    },
    {
     "name": "stdout",
     "output_type": "stream",
     "text": [
      "[ Valid | 020/300 ] loss = 1.39230, acc = 0.52797\n",
      "[ Valid | 020/300 ] loss = 1.39230, acc = 0.52797\n"
     ]
    },
    {
     "name": "stderr",
     "output_type": "stream",
     "text": [
      "T: 021/300: 100%|█| 78/78 [00:07<00:00, 10.23it/s, lr=0.000341, b_loss=1.07, b_a\n"
     ]
    },
    {
     "name": "stdout",
     "output_type": "stream",
     "text": [
      "[ Train | 021/300 ] loss = 1.22047, acc = 0.57378\n"
     ]
    },
    {
     "name": "stderr",
     "output_type": "stream",
     "text": [
      "V: 021/300: 100%|█████| 26/26 [00:02<00:00, 11.88it/s, v_loss=1.51, v_acc=0.513]\n"
     ]
    },
    {
     "name": "stdout",
     "output_type": "stream",
     "text": [
      "[ Valid | 021/300 ] loss = 1.50689, acc = 0.51334\n",
      "[ Valid | 021/300 ] loss = 1.50689, acc = 0.51334\n"
     ]
    },
    {
     "name": "stderr",
     "output_type": "stream",
     "text": [
      "T: 022/300: 100%|█| 78/78 [00:07<00:00, 10.04it/s, lr=0.000318, b_loss=1.16, b_a\n"
     ]
    },
    {
     "name": "stdout",
     "output_type": "stream",
     "text": [
      "[ Train | 022/300 ] loss = 1.19247, acc = 0.58657\n"
     ]
    },
    {
     "name": "stderr",
     "output_type": "stream",
     "text": [
      "V: 022/300: 100%|█████| 26/26 [00:02<00:00, 11.10it/s, v_loss=1.25, v_acc=0.582]\n"
     ]
    },
    {
     "name": "stdout",
     "output_type": "stream",
     "text": [
      "[ Valid | 022/300 ] loss = 1.24900, acc = 0.58152\n",
      "[ Valid | 022/300 ] loss = 1.24900, acc = 0.58152\n"
     ]
    },
    {
     "name": "stderr",
     "output_type": "stream",
     "text": [
      "T: 023/300: 100%|█| 78/78 [00:07<00:00, 10.28it/s, lr=0.000291, b_loss=1.14, b_a\n"
     ]
    },
    {
     "name": "stdout",
     "output_type": "stream",
     "text": [
      "[ Train | 023/300 ] loss = 1.16463, acc = 0.59854\n"
     ]
    },
    {
     "name": "stderr",
     "output_type": "stream",
     "text": [
      "V: 023/300: 100%|██████| 26/26 [00:02<00:00, 12.44it/s, v_loss=1.6, v_acc=0.476]\n"
     ]
    },
    {
     "name": "stdout",
     "output_type": "stream",
     "text": [
      "[ Valid | 023/300 ] loss = 1.59793, acc = 0.47621\n",
      "[ Valid | 023/300 ] loss = 1.59793, acc = 0.47621\n"
     ]
    },
    {
     "name": "stderr",
     "output_type": "stream",
     "text": [
      "T: 024/300: 100%|█| 78/78 [00:07<00:00, 10.20it/s, lr=0.000262, b_loss=1.14, b_a\n"
     ]
    },
    {
     "name": "stdout",
     "output_type": "stream",
     "text": [
      "[ Train | 024/300 ] loss = 1.12327, acc = 0.61149\n"
     ]
    },
    {
     "name": "stderr",
     "output_type": "stream",
     "text": [
      "V: 024/300: 100%|███████| 26/26 [00:02<00:00, 12.52it/s, v_loss=1.22, v_acc=0.6]\n"
     ]
    },
    {
     "name": "stdout",
     "output_type": "stream",
     "text": [
      "[ Valid | 024/300 ] loss = 1.22116, acc = 0.60019\n",
      "[ Valid | 024/300 ] loss = 1.22116, acc = 0.60019\n"
     ]
    },
    {
     "name": "stderr",
     "output_type": "stream",
     "text": [
      "T: 025/300: 100%|█| 78/78 [00:07<00:00, 10.10it/s, lr=0.000231, b_loss=0.965, b_\n"
     ]
    },
    {
     "name": "stdout",
     "output_type": "stream",
     "text": [
      "[ Train | 025/300 ] loss = 1.09282, acc = 0.62533\n"
     ]
    },
    {
     "name": "stderr",
     "output_type": "stream",
     "text": [
      "V: 025/300: 100%|█████| 26/26 [00:02<00:00, 12.76it/s, v_loss=1.27, v_acc=0.581]\n"
     ]
    },
    {
     "name": "stdout",
     "output_type": "stream",
     "text": [
      "[ Valid | 025/300 ] loss = 1.27407, acc = 0.58129\n",
      "[ Valid | 025/300 ] loss = 1.27407, acc = 0.58129\n"
     ]
    },
    {
     "name": "stderr",
     "output_type": "stream",
     "text": [
      "T: 026/300: 100%|█| 78/78 [00:07<00:00, 10.22it/s, lr=0.0002, b_loss=1.16, b_acc\n"
     ]
    },
    {
     "name": "stdout",
     "output_type": "stream",
     "text": [
      "[ Train | 026/300 ] loss = 1.06382, acc = 0.63256\n"
     ]
    },
    {
     "name": "stderr",
     "output_type": "stream",
     "text": [
      "V: 026/300: 100%|█████| 26/26 [00:01<00:00, 13.21it/s, v_loss=1.19, v_acc=0.595]\n"
     ]
    },
    {
     "name": "stdout",
     "output_type": "stream",
     "text": [
      "[ Valid | 026/300 ] loss = 1.18508, acc = 0.59480\n",
      "[ Valid | 026/300 ] loss = 1.18508, acc = 0.59480\n"
     ]
    },
    {
     "name": "stderr",
     "output_type": "stream",
     "text": [
      "T: 027/300: 100%|█| 78/78 [00:07<00:00, 10.08it/s, lr=0.000169, b_loss=0.988, b_\n"
     ]
    },
    {
     "name": "stdout",
     "output_type": "stream",
     "text": [
      "[ Train | 027/300 ] loss = 1.02184, acc = 0.64654\n"
     ]
    },
    {
     "name": "stderr",
     "output_type": "stream",
     "text": [
      "V: 027/300: 100%|█████| 26/26 [00:02<00:00, 11.92it/s, v_loss=1.12, v_acc=0.614]\n"
     ]
    },
    {
     "name": "stdout",
     "output_type": "stream",
     "text": [
      "[ Valid | 027/300 ] loss = 1.12495, acc = 0.61383\n",
      "[ Valid | 027/300 ] loss = 1.12495, acc = 0.61383 -> best\n",
      "Best model found at fold 4 epoch 27, acc=0.61383, saving model\n"
     ]
    },
    {
     "name": "stderr",
     "output_type": "stream",
     "text": [
      "T: 028/300: 100%|█| 78/78 [00:07<00:00, 10.21it/s, lr=0.000138, b_loss=1.03, b_a\n"
     ]
    },
    {
     "name": "stdout",
     "output_type": "stream",
     "text": [
      "[ Train | 028/300 ] loss = 1.00827, acc = 0.64633\n"
     ]
    },
    {
     "name": "stderr",
     "output_type": "stream",
     "text": [
      "V: 028/300: 100%|█████| 26/26 [00:01<00:00, 13.05it/s, v_loss=1.12, v_acc=0.633]\n"
     ]
    },
    {
     "name": "stdout",
     "output_type": "stream",
     "text": [
      "[ Valid | 028/300 ] loss = 1.12433, acc = 0.63301\n",
      "[ Valid | 028/300 ] loss = 1.12433, acc = 0.63301 -> best\n",
      "Best model found at fold 4 epoch 28, acc=0.63301, saving model\n"
     ]
    },
    {
     "name": "stderr",
     "output_type": "stream",
     "text": [
      "T: 029/300: 100%|█| 78/78 [00:07<00:00,  9.90it/s, lr=0.000109, b_loss=0.979, b_\n"
     ]
    },
    {
     "name": "stdout",
     "output_type": "stream",
     "text": [
      "[ Train | 029/300 ] loss = 0.96758, acc = 0.67078\n"
     ]
    },
    {
     "name": "stderr",
     "output_type": "stream",
     "text": [
      "V: 029/300: 100%|█████| 26/26 [00:02<00:00, 12.70it/s, v_loss=1.21, v_acc=0.604]\n"
     ]
    },
    {
     "name": "stdout",
     "output_type": "stream",
     "text": [
      "[ Valid | 029/300 ] loss = 1.20723, acc = 0.60447\n",
      "[ Valid | 029/300 ] loss = 1.20723, acc = 0.60447\n"
     ]
    },
    {
     "name": "stderr",
     "output_type": "stream",
     "text": [
      "T: 030/300: 100%|█| 78/78 [00:07<00:00, 10.07it/s, lr=8.24e-5, b_loss=1.07, b_ac\n"
     ]
    },
    {
     "name": "stdout",
     "output_type": "stream",
     "text": [
      "[ Train | 030/300 ] loss = 0.95288, acc = 0.66744\n"
     ]
    },
    {
     "name": "stderr",
     "output_type": "stream",
     "text": [
      "V: 030/300: 100%|█████| 26/26 [00:02<00:00, 11.56it/s, v_loss=1.03, v_acc=0.654]\n"
     ]
    },
    {
     "name": "stdout",
     "output_type": "stream",
     "text": [
      "[ Valid | 030/300 ] loss = 1.02733, acc = 0.65438\n",
      "[ Valid | 030/300 ] loss = 1.02733, acc = 0.65438 -> best\n",
      "Best model found at fold 4 epoch 30, acc=0.65438, saving model\n"
     ]
    },
    {
     "name": "stderr",
     "output_type": "stream",
     "text": [
      "T: 031/300: 100%|█| 78/78 [00:07<00:00, 10.13it/s, lr=5.86e-5, b_loss=0.736, b_a\n"
     ]
    },
    {
     "name": "stdout",
     "output_type": "stream",
     "text": [
      "[ Train | 031/300 ] loss = 0.92273, acc = 0.67675\n"
     ]
    },
    {
     "name": "stderr",
     "output_type": "stream",
     "text": [
      "V: 031/300: 100%|████| 26/26 [00:02<00:00, 12.84it/s, v_loss=0.956, v_acc=0.671]\n"
     ]
    },
    {
     "name": "stdout",
     "output_type": "stream",
     "text": [
      "[ Valid | 031/300 ] loss = 0.95570, acc = 0.67114\n",
      "[ Valid | 031/300 ] loss = 0.95570, acc = 0.67114 -> best\n",
      "Best model found at fold 4 epoch 31, acc=0.67114, saving model\n"
     ]
    },
    {
     "name": "stderr",
     "output_type": "stream",
     "text": [
      "T: 032/300: 100%|█| 78/78 [00:07<00:00, 10.16it/s, lr=3.82e-5, b_loss=0.841, b_a\n"
     ]
    },
    {
     "name": "stdout",
     "output_type": "stream",
     "text": [
      "[ Train | 032/300 ] loss = 0.89947, acc = 0.68956\n"
     ]
    },
    {
     "name": "stderr",
     "output_type": "stream",
     "text": [
      "V: 032/300: 100%|████| 26/26 [00:02<00:00, 12.62it/s, v_loss=0.922, v_acc=0.694]\n"
     ]
    },
    {
     "name": "stdout",
     "output_type": "stream",
     "text": [
      "[ Valid | 032/300 ] loss = 0.92174, acc = 0.69437\n",
      "[ Valid | 032/300 ] loss = 0.92174, acc = 0.69437 -> best\n",
      "Best model found at fold 4 epoch 32, acc=0.69437, saving model\n"
     ]
    },
    {
     "name": "stderr",
     "output_type": "stream",
     "text": [
      "T: 033/300: 100%|█| 78/78 [00:07<00:00, 10.24it/s, lr=2.18e-5, b_loss=0.809, b_a\n"
     ]
    },
    {
     "name": "stdout",
     "output_type": "stream",
     "text": [
      "[ Train | 033/300 ] loss = 0.88160, acc = 0.69365\n"
     ]
    },
    {
     "name": "stderr",
     "output_type": "stream",
     "text": [
      "V: 033/300: 100%|█████| 26/26 [00:02<00:00, 12.69it/s, v_loss=0.93, v_acc=0.691]\n"
     ]
    },
    {
     "name": "stdout",
     "output_type": "stream",
     "text": [
      "[ Valid | 033/300 ] loss = 0.93048, acc = 0.69105\n",
      "[ Valid | 033/300 ] loss = 0.93048, acc = 0.69105\n"
     ]
    },
    {
     "name": "stderr",
     "output_type": "stream",
     "text": [
      "T: 034/300: 100%|█| 78/78 [00:07<00:00, 10.16it/s, lr=9.79e-6, b_loss=0.837, b_a\n"
     ]
    },
    {
     "name": "stdout",
     "output_type": "stream",
     "text": [
      "[ Train | 034/300 ] loss = 0.85470, acc = 0.70461\n"
     ]
    },
    {
     "name": "stderr",
     "output_type": "stream",
     "text": [
      "V: 034/300: 100%|████| 26/26 [00:02<00:00, 12.56it/s, v_loss=0.914, v_acc=0.695]\n"
     ]
    },
    {
     "name": "stdout",
     "output_type": "stream",
     "text": [
      "[ Valid | 034/300 ] loss = 0.91436, acc = 0.69460\n",
      "[ Valid | 034/300 ] loss = 0.91436, acc = 0.69460 -> best\n",
      "Best model found at fold 4 epoch 34, acc=0.69460, saving model\n"
     ]
    },
    {
     "name": "stderr",
     "output_type": "stream",
     "text": [
      "T: 035/300: 100%|█| 78/78 [00:07<00:00, 10.21it/s, lr=2.46e-6, b_loss=0.793, b_a\n"
     ]
    },
    {
     "name": "stdout",
     "output_type": "stream",
     "text": [
      "[ Train | 035/300 ] loss = 0.86867, acc = 0.69669\n"
     ]
    },
    {
     "name": "stderr",
     "output_type": "stream",
     "text": [
      "V: 035/300: 100%|████| 26/26 [00:02<00:00, 12.60it/s, v_loss=0.913, v_acc=0.693]\n"
     ]
    },
    {
     "name": "stdout",
     "output_type": "stream",
     "text": [
      "[ Valid | 035/300 ] loss = 0.91288, acc = 0.69288\n",
      "[ Valid | 035/300 ] loss = 0.91288, acc = 0.69288\n"
     ]
    },
    {
     "name": "stderr",
     "output_type": "stream",
     "text": [
      "T: 036/300: 100%|█| 78/78 [00:07<00:00, 10.03it/s, lr=0.0004, b_loss=1.15, b_acc\n"
     ]
    },
    {
     "name": "stdout",
     "output_type": "stream",
     "text": [
      "[ Train | 036/300 ] loss = 1.11716, acc = 0.61542\n"
     ]
    },
    {
     "name": "stderr",
     "output_type": "stream",
     "text": [
      "V: 036/300: 100%|█████| 26/26 [00:01<00:00, 13.58it/s, v_loss=1.33, v_acc=0.557]\n"
     ]
    },
    {
     "name": "stdout",
     "output_type": "stream",
     "text": [
      "[ Valid | 036/300 ] loss = 1.32511, acc = 0.55743\n",
      "[ Valid | 036/300 ] loss = 1.32511, acc = 0.55743\n"
     ]
    },
    {
     "name": "stderr",
     "output_type": "stream",
     "text": [
      "T: 037/300: 100%|█| 78/78 [00:07<00:00, 10.23it/s, lr=0.000399, b_loss=0.963, b_\n"
     ]
    },
    {
     "name": "stdout",
     "output_type": "stream",
     "text": [
      "[ Train | 037/300 ] loss = 1.10259, acc = 0.61429\n"
     ]
    },
    {
     "name": "stderr",
     "output_type": "stream",
     "text": [
      "V: 037/300: 100%|███████| 26/26 [00:02<00:00, 12.65it/s, v_loss=1.4, v_acc=0.53]\n"
     ]
    },
    {
     "name": "stdout",
     "output_type": "stream",
     "text": [
      "[ Valid | 037/300 ] loss = 1.39712, acc = 0.53040\n",
      "[ Valid | 037/300 ] loss = 1.39712, acc = 0.53040\n"
     ]
    },
    {
     "name": "stderr",
     "output_type": "stream",
     "text": [
      "T: 038/300: 100%|█| 78/78 [00:07<00:00, 10.18it/s, lr=0.000398, b_loss=1.02, b_a\n"
     ]
    },
    {
     "name": "stdout",
     "output_type": "stream",
     "text": [
      "[ Train | 038/300 ] loss = 1.09812, acc = 0.62521\n"
     ]
    },
    {
     "name": "stderr",
     "output_type": "stream",
     "text": [
      "V: 038/300: 100%|█████| 26/26 [00:02<00:00, 11.37it/s, v_loss=1.19, v_acc=0.608]\n"
     ]
    },
    {
     "name": "stdout",
     "output_type": "stream",
     "text": [
      "[ Valid | 038/300 ] loss = 1.18574, acc = 0.60827\n",
      "[ Valid | 038/300 ] loss = 1.18574, acc = 0.60827\n"
     ]
    },
    {
     "name": "stderr",
     "output_type": "stream",
     "text": [
      "T: 039/300: 100%|█| 78/78 [00:07<00:00, 10.17it/s, lr=0.000394, b_loss=0.82, b_a\n"
     ]
    },
    {
     "name": "stdout",
     "output_type": "stream",
     "text": [
      "[ Train | 039/300 ] loss = 1.06158, acc = 0.63227\n"
     ]
    },
    {
     "name": "stderr",
     "output_type": "stream",
     "text": [
      "V: 039/300: 100%|█████| 26/26 [00:01<00:00, 13.26it/s, v_loss=1.14, v_acc=0.615]\n"
     ]
    },
    {
     "name": "stdout",
     "output_type": "stream",
     "text": [
      "[ Valid | 039/300 ] loss = 1.13930, acc = 0.61497\n",
      "[ Valid | 039/300 ] loss = 1.13930, acc = 0.61497\n"
     ]
    },
    {
     "name": "stderr",
     "output_type": "stream",
     "text": [
      "T: 040/300: 100%|█| 78/78 [00:07<00:00,  9.89it/s, lr=0.00039, b_loss=1.11, b_ac\n"
     ]
    },
    {
     "name": "stdout",
     "output_type": "stream",
     "text": [
      "[ Train | 040/300 ] loss = 1.03826, acc = 0.63645\n"
     ]
    },
    {
     "name": "stderr",
     "output_type": "stream",
     "text": [
      "V: 040/300: 100%|█████| 26/26 [00:02<00:00, 12.98it/s, v_loss=1.34, v_acc=0.582]\n"
     ]
    },
    {
     "name": "stdout",
     "output_type": "stream",
     "text": [
      "[ Valid | 040/300 ] loss = 1.34422, acc = 0.58245\n",
      "[ Valid | 040/300 ] loss = 1.34422, acc = 0.58245\n"
     ]
    },
    {
     "name": "stderr",
     "output_type": "stream",
     "text": [
      "T: 041/300: 100%|█| 78/78 [00:07<00:00, 10.40it/s, lr=0.000385, b_loss=1.07, b_a\n"
     ]
    },
    {
     "name": "stdout",
     "output_type": "stream",
     "text": [
      "[ Train | 041/300 ] loss = 1.02440, acc = 0.64738\n"
     ]
    },
    {
     "name": "stderr",
     "output_type": "stream",
     "text": [
      "V: 041/300: 100%|█████| 26/26 [00:02<00:00, 12.95it/s, v_loss=1.17, v_acc=0.606]\n"
     ]
    },
    {
     "name": "stdout",
     "output_type": "stream",
     "text": [
      "[ Valid | 041/300 ] loss = 1.17166, acc = 0.60562\n",
      "[ Valid | 041/300 ] loss = 1.17166, acc = 0.60562\n"
     ]
    },
    {
     "name": "stderr",
     "output_type": "stream",
     "text": [
      "T: 042/300: 100%|█| 78/78 [00:07<00:00, 10.08it/s, lr=0.000378, b_loss=0.953, b_\n"
     ]
    },
    {
     "name": "stdout",
     "output_type": "stream",
     "text": [
      "[ Train | 042/300 ] loss = 1.00185, acc = 0.65434\n"
     ]
    },
    {
     "name": "stderr",
     "output_type": "stream",
     "text": [
      "V: 042/300: 100%|█████| 26/26 [00:02<00:00, 11.63it/s, v_loss=1.17, v_acc=0.613]\n"
     ]
    },
    {
     "name": "stdout",
     "output_type": "stream",
     "text": [
      "[ Valid | 042/300 ] loss = 1.17384, acc = 0.61310\n",
      "[ Valid | 042/300 ] loss = 1.17384, acc = 0.61310\n"
     ]
    },
    {
     "name": "stderr",
     "output_type": "stream",
     "text": [
      "T: 043/300: 100%|█| 78/78 [00:07<00:00, 10.10it/s, lr=0.000371, b_loss=0.956, b_\n"
     ]
    },
    {
     "name": "stdout",
     "output_type": "stream",
     "text": [
      "[ Train | 043/300 ] loss = 0.96983, acc = 0.66279\n"
     ]
    },
    {
     "name": "stderr",
     "output_type": "stream",
     "text": [
      "V: 043/300: 100%|█████| 26/26 [00:01<00:00, 13.01it/s, v_loss=1.11, v_acc=0.638]\n"
     ]
    },
    {
     "name": "stdout",
     "output_type": "stream",
     "text": [
      "[ Valid | 043/300 ] loss = 1.10832, acc = 0.63751\n",
      "[ Valid | 043/300 ] loss = 1.10832, acc = 0.63751\n"
     ]
    },
    {
     "name": "stderr",
     "output_type": "stream",
     "text": [
      "T: 044/300: 100%|█| 78/78 [00:07<00:00, 10.01it/s, lr=0.000362, b_loss=0.868, b_\n"
     ]
    },
    {
     "name": "stdout",
     "output_type": "stream",
     "text": [
      "[ Train | 044/300 ] loss = 0.97908, acc = 0.66186\n"
     ]
    },
    {
     "name": "stderr",
     "output_type": "stream",
     "text": [
      "V: 044/300: 100%|██████| 26/26 [00:02<00:00, 12.61it/s, v_loss=1.1, v_acc=0.637]\n"
     ]
    },
    {
     "name": "stdout",
     "output_type": "stream",
     "text": [
      "[ Valid | 044/300 ] loss = 1.09824, acc = 0.63680\n",
      "[ Valid | 044/300 ] loss = 1.09824, acc = 0.63680\n"
     ]
    },
    {
     "name": "stderr",
     "output_type": "stream",
     "text": [
      "T: 045/300: 100%|█| 78/78 [00:07<00:00,  9.84it/s, lr=0.000352, b_loss=0.838, b_\n"
     ]
    },
    {
     "name": "stdout",
     "output_type": "stream",
     "text": [
      "[ Train | 045/300 ] loss = 0.93413, acc = 0.67771\n"
     ]
    },
    {
     "name": "stderr",
     "output_type": "stream",
     "text": [
      "V: 045/300: 100%|█████| 26/26 [00:02<00:00, 12.01it/s, v_loss=1.04, v_acc=0.651]\n"
     ]
    },
    {
     "name": "stdout",
     "output_type": "stream",
     "text": [
      "[ Valid | 045/300 ] loss = 1.04270, acc = 0.65098\n",
      "[ Valid | 045/300 ] loss = 1.04270, acc = 0.65098\n"
     ]
    },
    {
     "name": "stderr",
     "output_type": "stream",
     "text": [
      "T: 046/300: 100%|█| 78/78 [00:07<00:00,  9.80it/s, lr=0.000341, b_loss=1, b_acc=\n"
     ]
    },
    {
     "name": "stdout",
     "output_type": "stream",
     "text": [
      "[ Train | 046/300 ] loss = 0.92961, acc = 0.67628\n"
     ]
    },
    {
     "name": "stderr",
     "output_type": "stream",
     "text": [
      "V: 046/300: 100%|█████| 26/26 [00:02<00:00, 12.71it/s, v_loss=1.01, v_acc=0.667]\n"
     ]
    },
    {
     "name": "stdout",
     "output_type": "stream",
     "text": [
      "[ Valid | 046/300 ] loss = 1.01219, acc = 0.66690\n",
      "[ Valid | 046/300 ] loss = 1.01219, acc = 0.66690\n"
     ]
    },
    {
     "name": "stderr",
     "output_type": "stream",
     "text": [
      "T: 047/300: 100%|█| 78/78 [00:07<00:00, 10.22it/s, lr=0.00033, b_loss=1.05, b_ac\n"
     ]
    },
    {
     "name": "stdout",
     "output_type": "stream",
     "text": [
      "[ Train | 047/300 ] loss = 0.90137, acc = 0.68905\n"
     ]
    },
    {
     "name": "stderr",
     "output_type": "stream",
     "text": [
      "V: 047/300: 100%|█████| 26/26 [00:01<00:00, 13.61it/s, v_loss=1.06, v_acc=0.648]\n"
     ]
    },
    {
     "name": "stdout",
     "output_type": "stream",
     "text": [
      "[ Valid | 047/300 ] loss = 1.06394, acc = 0.64842\n",
      "[ Valid | 047/300 ] loss = 1.06394, acc = 0.64842\n"
     ]
    },
    {
     "name": "stderr",
     "output_type": "stream",
     "text": [
      "T: 048/300: 100%|█| 78/78 [00:07<00:00, 10.26it/s, lr=0.000318, b_loss=0.931, b_\n"
     ]
    },
    {
     "name": "stdout",
     "output_type": "stream",
     "text": [
      "[ Train | 048/300 ] loss = 0.88831, acc = 0.69711\n"
     ]
    },
    {
     "name": "stderr",
     "output_type": "stream",
     "text": [
      "V: 048/300: 100%|█████| 26/26 [00:02<00:00, 12.59it/s, v_loss=1.01, v_acc=0.661]\n"
     ]
    },
    {
     "name": "stdout",
     "output_type": "stream",
     "text": [
      "[ Valid | 048/300 ] loss = 1.01230, acc = 0.66145\n",
      "[ Valid | 048/300 ] loss = 1.01230, acc = 0.66145\n"
     ]
    },
    {
     "name": "stderr",
     "output_type": "stream",
     "text": [
      "T: 049/300: 100%|█| 78/78 [00:07<00:00,  9.98it/s, lr=0.000304, b_loss=0.824, b_\n"
     ]
    },
    {
     "name": "stdout",
     "output_type": "stream",
     "text": [
      "[ Train | 049/300 ] loss = 0.87276, acc = 0.69724\n"
     ]
    },
    {
     "name": "stderr",
     "output_type": "stream",
     "text": [
      "V: 049/300: 100%|█████| 26/26 [00:01<00:00, 13.23it/s, v_loss=1.07, v_acc=0.638]\n"
     ]
    },
    {
     "name": "stdout",
     "output_type": "stream",
     "text": [
      "[ Valid | 049/300 ] loss = 1.07440, acc = 0.63776\n",
      "[ Valid | 049/300 ] loss = 1.07440, acc = 0.63776\n"
     ]
    },
    {
     "name": "stderr",
     "output_type": "stream",
     "text": [
      "T: 050/300: 100%|█| 78/78 [00:08<00:00,  9.61it/s, lr=0.000291, b_loss=0.825, b_\n"
     ]
    },
    {
     "name": "stdout",
     "output_type": "stream",
     "text": [
      "[ Train | 050/300 ] loss = 0.87461, acc = 0.69479\n"
     ]
    },
    {
     "name": "stderr",
     "output_type": "stream",
     "text": [
      "V: 050/300: 100%|█████| 26/26 [00:02<00:00, 12.59it/s, v_loss=1.05, v_acc=0.658]\n"
     ]
    },
    {
     "name": "stdout",
     "output_type": "stream",
     "text": [
      "[ Valid | 050/300 ] loss = 1.04547, acc = 0.65789\n",
      "[ Valid | 050/300 ] loss = 1.04547, acc = 0.65789\n"
     ]
    },
    {
     "name": "stderr",
     "output_type": "stream",
     "text": [
      "T: 051/300: 100%|█| 78/78 [00:07<00:00, 10.14it/s, lr=0.000277, b_loss=1.03, b_a\n"
     ]
    },
    {
     "name": "stdout",
     "output_type": "stream",
     "text": [
      "[ Train | 051/300 ] loss = 0.84359, acc = 0.70656\n"
     ]
    },
    {
     "name": "stderr",
     "output_type": "stream",
     "text": [
      "V: 051/300: 100%|█████| 26/26 [00:02<00:00, 12.66it/s, v_loss=1.26, v_acc=0.611]\n"
     ]
    },
    {
     "name": "stdout",
     "output_type": "stream",
     "text": [
      "[ Valid | 051/300 ] loss = 1.25613, acc = 0.61132\n",
      "[ Valid | 051/300 ] loss = 1.25613, acc = 0.61132\n"
     ]
    },
    {
     "name": "stderr",
     "output_type": "stream",
     "text": [
      "T: 052/300: 100%|█| 78/78 [00:07<00:00, 10.06it/s, lr=0.000262, b_loss=0.849, b_\n"
     ]
    },
    {
     "name": "stdout",
     "output_type": "stream",
     "text": [
      "[ Train | 052/300 ] loss = 0.81788, acc = 0.71185\n"
     ]
    },
    {
     "name": "stderr",
     "output_type": "stream",
     "text": [
      "V: 052/300: 100%|█████| 26/26 [00:02<00:00, 12.97it/s, v_loss=1.07, v_acc=0.665]\n"
     ]
    },
    {
     "name": "stdout",
     "output_type": "stream",
     "text": [
      "[ Valid | 052/300 ] loss = 1.06673, acc = 0.66480\n",
      "[ Valid | 052/300 ] loss = 1.06673, acc = 0.66480\n"
     ]
    },
    {
     "name": "stderr",
     "output_type": "stream",
     "text": [
      "T: 053/300: 100%|█| 78/78 [00:07<00:00,  9.93it/s, lr=0.000247, b_loss=0.645, b_\n"
     ]
    },
    {
     "name": "stdout",
     "output_type": "stream",
     "text": [
      "[ Train | 053/300 ] loss = 0.79640, acc = 0.72049\n"
     ]
    },
    {
     "name": "stderr",
     "output_type": "stream",
     "text": [
      "V: 053/300: 100%|█████| 26/26 [00:02<00:00, 11.39it/s, v_loss=1.05, v_acc=0.668]\n"
     ]
    },
    {
     "name": "stdout",
     "output_type": "stream",
     "text": [
      "[ Valid | 053/300 ] loss = 1.04657, acc = 0.66816\n",
      "[ Valid | 053/300 ] loss = 1.04657, acc = 0.66816\n"
     ]
    },
    {
     "name": "stderr",
     "output_type": "stream",
     "text": [
      "T: 054/300: 100%|█| 78/78 [00:07<00:00, 10.18it/s, lr=0.000231, b_loss=0.936, b_\n"
     ]
    },
    {
     "name": "stdout",
     "output_type": "stream",
     "text": [
      "[ Train | 054/300 ] loss = 0.80774, acc = 0.72047\n"
     ]
    },
    {
     "name": "stderr",
     "output_type": "stream",
     "text": [
      "V: 054/300: 100%|████| 26/26 [00:02<00:00, 11.97it/s, v_loss=0.914, v_acc=0.706]\n"
     ]
    },
    {
     "name": "stdout",
     "output_type": "stream",
     "text": [
      "[ Valid | 054/300 ] loss = 0.91352, acc = 0.70609\n",
      "[ Valid | 054/300 ] loss = 0.91352, acc = 0.70609 -> best\n",
      "Best model found at fold 4 epoch 54, acc=0.70609, saving model\n"
     ]
    },
    {
     "name": "stderr",
     "output_type": "stream",
     "text": [
      "T: 055/300: 100%|█| 78/78 [00:07<00:00, 10.01it/s, lr=0.000216, b_loss=0.759, b_\n"
     ]
    },
    {
     "name": "stdout",
     "output_type": "stream",
     "text": [
      "[ Train | 055/300 ] loss = 0.77923, acc = 0.72955\n"
     ]
    },
    {
     "name": "stderr",
     "output_type": "stream",
     "text": [
      "V: 055/300: 100%|████| 26/26 [00:02<00:00, 11.17it/s, v_loss=0.959, v_acc=0.689]\n"
     ]
    },
    {
     "name": "stdout",
     "output_type": "stream",
     "text": [
      "[ Valid | 055/300 ] loss = 0.95913, acc = 0.68870\n",
      "[ Valid | 055/300 ] loss = 0.95913, acc = 0.68870\n"
     ]
    },
    {
     "name": "stderr",
     "output_type": "stream",
     "text": [
      "T: 056/300: 100%|█| 78/78 [00:07<00:00, 10.11it/s, lr=0.0002, b_loss=0.855, b_ac\n"
     ]
    },
    {
     "name": "stdout",
     "output_type": "stream",
     "text": [
      "[ Train | 056/300 ] loss = 0.75908, acc = 0.73445\n"
     ]
    },
    {
     "name": "stderr",
     "output_type": "stream",
     "text": [
      "V: 056/300: 100%|████| 26/26 [00:02<00:00, 11.70it/s, v_loss=0.913, v_acc=0.699]\n"
     ]
    },
    {
     "name": "stdout",
     "output_type": "stream",
     "text": [
      "[ Valid | 056/300 ] loss = 0.91299, acc = 0.69907\n",
      "[ Valid | 056/300 ] loss = 0.91299, acc = 0.69907\n"
     ]
    },
    {
     "name": "stderr",
     "output_type": "stream",
     "text": [
      "T: 057/300: 100%|█| 78/78 [00:07<00:00,  9.99it/s, lr=0.000184, b_loss=0.787, b_\n"
     ]
    },
    {
     "name": "stdout",
     "output_type": "stream",
     "text": [
      "[ Train | 057/300 ] loss = 0.74236, acc = 0.73974\n"
     ]
    },
    {
     "name": "stderr",
     "output_type": "stream",
     "text": [
      "V: 057/300: 100%|████| 26/26 [00:02<00:00, 12.31it/s, v_loss=0.983, v_acc=0.694]\n"
     ]
    },
    {
     "name": "stdout",
     "output_type": "stream",
     "text": [
      "[ Valid | 057/300 ] loss = 0.98281, acc = 0.69397\n",
      "[ Valid | 057/300 ] loss = 0.98281, acc = 0.69397\n"
     ]
    },
    {
     "name": "stderr",
     "output_type": "stream",
     "text": [
      "T: 058/300: 100%|█| 78/78 [00:07<00:00,  9.96it/s, lr=0.000169, b_loss=0.816, b_\n"
     ]
    },
    {
     "name": "stdout",
     "output_type": "stream",
     "text": [
      "[ Train | 058/300 ] loss = 0.71848, acc = 0.74777\n"
     ]
    },
    {
     "name": "stderr",
     "output_type": "stream",
     "text": [
      "V: 058/300: 100%|████| 26/26 [00:02<00:00, 12.03it/s, v_loss=0.863, v_acc=0.727]\n"
     ]
    },
    {
     "name": "stdout",
     "output_type": "stream",
     "text": [
      "[ Valid | 058/300 ] loss = 0.86309, acc = 0.72675\n",
      "[ Valid | 058/300 ] loss = 0.86309, acc = 0.72675 -> best\n",
      "Best model found at fold 4 epoch 58, acc=0.72675, saving model\n"
     ]
    },
    {
     "name": "stderr",
     "output_type": "stream",
     "text": [
      "T: 059/300: 100%|█| 78/78 [00:07<00:00, 10.13it/s, lr=0.000153, b_loss=0.937, b_\n"
     ]
    },
    {
     "name": "stdout",
     "output_type": "stream",
     "text": [
      "[ Train | 059/300 ] loss = 0.70239, acc = 0.76014\n"
     ]
    },
    {
     "name": "stderr",
     "output_type": "stream",
     "text": [
      "V: 059/300: 100%|██████| 26/26 [00:02<00:00, 11.51it/s, v_loss=0.942, v_acc=0.7]\n"
     ]
    },
    {
     "name": "stdout",
     "output_type": "stream",
     "text": [
      "[ Valid | 059/300 ] loss = 0.94173, acc = 0.69970\n",
      "[ Valid | 059/300 ] loss = 0.94173, acc = 0.69970\n"
     ]
    },
    {
     "name": "stderr",
     "output_type": "stream",
     "text": [
      "T: 060/300: 100%|█| 78/78 [00:07<00:00, 10.09it/s, lr=0.000138, b_loss=0.864, b_\n"
     ]
    },
    {
     "name": "stdout",
     "output_type": "stream",
     "text": [
      "[ Train | 060/300 ] loss = 0.70646, acc = 0.75755\n"
     ]
    },
    {
     "name": "stderr",
     "output_type": "stream",
     "text": [
      "V: 060/300: 100%|████| 26/26 [00:02<00:00, 12.07it/s, v_loss=0.885, v_acc=0.711]\n"
     ]
    },
    {
     "name": "stdout",
     "output_type": "stream",
     "text": [
      "[ Valid | 060/300 ] loss = 0.88485, acc = 0.71118\n",
      "[ Valid | 060/300 ] loss = 0.88485, acc = 0.71118\n"
     ]
    },
    {
     "name": "stderr",
     "output_type": "stream",
     "text": [
      "T: 061/300: 100%|█| 78/78 [00:07<00:00,  9.99it/s, lr=0.000123, b_loss=0.645, b_\n"
     ]
    },
    {
     "name": "stdout",
     "output_type": "stream",
     "text": [
      "[ Train | 061/300 ] loss = 0.68399, acc = 0.75862\n"
     ]
    },
    {
     "name": "stderr",
     "output_type": "stream",
     "text": [
      "V: 061/300: 100%|████| 26/26 [00:02<00:00, 12.83it/s, v_loss=0.835, v_acc=0.736]\n"
     ]
    },
    {
     "name": "stdout",
     "output_type": "stream",
     "text": [
      "[ Valid | 061/300 ] loss = 0.83507, acc = 0.73595\n",
      "[ Valid | 061/300 ] loss = 0.83507, acc = 0.73595 -> best\n",
      "Best model found at fold 4 epoch 61, acc=0.73595, saving model\n"
     ]
    },
    {
     "name": "stderr",
     "output_type": "stream",
     "text": [
      "T: 062/300: 100%|█| 78/78 [00:07<00:00,  9.95it/s, lr=0.000109, b_loss=0.652, b_\n"
     ]
    },
    {
     "name": "stdout",
     "output_type": "stream",
     "text": [
      "[ Train | 062/300 ] loss = 0.65696, acc = 0.77208\n"
     ]
    },
    {
     "name": "stderr",
     "output_type": "stream",
     "text": [
      "V: 062/300: 100%|████| 26/26 [00:01<00:00, 13.36it/s, v_loss=0.859, v_acc=0.723]\n"
     ]
    },
    {
     "name": "stdout",
     "output_type": "stream",
     "text": [
      "[ Valid | 062/300 ] loss = 0.85911, acc = 0.72283\n",
      "[ Valid | 062/300 ] loss = 0.85911, acc = 0.72283\n"
     ]
    },
    {
     "name": "stderr",
     "output_type": "stream",
     "text": [
      "T: 063/300: 100%|█| 78/78 [00:07<00:00, 10.62it/s, lr=9.55e-5, b_loss=0.622, b_a\n"
     ]
    },
    {
     "name": "stdout",
     "output_type": "stream",
     "text": [
      "[ Train | 063/300 ] loss = 0.65014, acc = 0.77897\n"
     ]
    },
    {
     "name": "stderr",
     "output_type": "stream",
     "text": [
      "V: 063/300: 100%|████| 26/26 [00:01<00:00, 14.17it/s, v_loss=0.865, v_acc=0.726]\n"
     ]
    },
    {
     "name": "stdout",
     "output_type": "stream",
     "text": [
      "[ Valid | 063/300 ] loss = 0.86495, acc = 0.72558\n",
      "[ Valid | 063/300 ] loss = 0.86495, acc = 0.72558\n"
     ]
    },
    {
     "name": "stderr",
     "output_type": "stream",
     "text": [
      "T: 064/300: 100%|█| 78/78 [00:07<00:00, 10.16it/s, lr=8.24e-5, b_loss=0.532, b_a\n"
     ]
    },
    {
     "name": "stdout",
     "output_type": "stream",
     "text": [
      "[ Train | 064/300 ] loss = 0.63198, acc = 0.77929\n"
     ]
    },
    {
     "name": "stderr",
     "output_type": "stream",
     "text": [
      "V: 064/300: 100%|████| 26/26 [00:02<00:00, 12.80it/s, v_loss=0.805, v_acc=0.738]\n"
     ]
    },
    {
     "name": "stdout",
     "output_type": "stream",
     "text": [
      "[ Valid | 064/300 ] loss = 0.80514, acc = 0.73795\n",
      "[ Valid | 064/300 ] loss = 0.80514, acc = 0.73795 -> best\n",
      "Best model found at fold 4 epoch 64, acc=0.73795, saving model\n"
     ]
    },
    {
     "name": "stderr",
     "output_type": "stream",
     "text": [
      "T: 065/300: 100%|█| 78/78 [00:07<00:00,  9.90it/s, lr=7.01e-5, b_loss=0.699, b_a\n"
     ]
    },
    {
     "name": "stdout",
     "output_type": "stream",
     "text": [
      "[ Train | 065/300 ] loss = 0.61491, acc = 0.78816\n"
     ]
    },
    {
     "name": "stderr",
     "output_type": "stream",
     "text": [
      "V: 065/300: 100%|████| 26/26 [00:01<00:00, 13.09it/s, v_loss=0.825, v_acc=0.734]\n"
     ]
    },
    {
     "name": "stdout",
     "output_type": "stream",
     "text": [
      "[ Valid | 065/300 ] loss = 0.82502, acc = 0.73441\n",
      "[ Valid | 065/300 ] loss = 0.82502, acc = 0.73441\n"
     ]
    },
    {
     "name": "stderr",
     "output_type": "stream",
     "text": [
      "T: 066/300: 100%|█| 78/78 [00:07<00:00,  9.77it/s, lr=5.86e-5, b_loss=0.565, b_a\n"
     ]
    },
    {
     "name": "stdout",
     "output_type": "stream",
     "text": [
      "[ Train | 066/300 ] loss = 0.59838, acc = 0.79171\n"
     ]
    },
    {
     "name": "stderr",
     "output_type": "stream",
     "text": [
      "V: 066/300: 100%|████| 26/26 [00:01<00:00, 13.81it/s, v_loss=0.834, v_acc=0.732]\n"
     ]
    },
    {
     "name": "stdout",
     "output_type": "stream",
     "text": [
      "[ Valid | 066/300 ] loss = 0.83430, acc = 0.73198\n",
      "[ Valid | 066/300 ] loss = 0.83430, acc = 0.73198\n"
     ]
    },
    {
     "name": "stderr",
     "output_type": "stream",
     "text": [
      "T: 067/300: 100%|█| 78/78 [00:07<00:00, 10.24it/s, lr=4.79e-5, b_loss=0.597, b_a\n"
     ]
    },
    {
     "name": "stdout",
     "output_type": "stream",
     "text": [
      "[ Train | 067/300 ] loss = 0.60192, acc = 0.78922\n"
     ]
    },
    {
     "name": "stderr",
     "output_type": "stream",
     "text": [
      "V: 067/300: 100%|████| 26/26 [00:02<00:00, 12.21it/s, v_loss=0.823, v_acc=0.742]\n"
     ]
    },
    {
     "name": "stdout",
     "output_type": "stream",
     "text": [
      "[ Valid | 067/300 ] loss = 0.82312, acc = 0.74160\n",
      "[ Valid | 067/300 ] loss = 0.82312, acc = 0.74160 -> best\n",
      "Best model found at fold 4 epoch 67, acc=0.74160, saving model\n"
     ]
    },
    {
     "name": "stderr",
     "output_type": "stream",
     "text": [
      "T: 068/300: 100%|█| 78/78 [00:07<00:00, 10.26it/s, lr=3.82e-5, b_loss=0.565, b_a\n"
     ]
    },
    {
     "name": "stdout",
     "output_type": "stream",
     "text": [
      "[ Train | 068/300 ] loss = 0.57694, acc = 0.80087\n"
     ]
    },
    {
     "name": "stderr",
     "output_type": "stream",
     "text": [
      "V: 068/300: 100%|████| 26/26 [00:02<00:00, 11.86it/s, v_loss=0.791, v_acc=0.751]\n"
     ]
    },
    {
     "name": "stdout",
     "output_type": "stream",
     "text": [
      "[ Valid | 068/300 ] loss = 0.79122, acc = 0.75147\n",
      "[ Valid | 068/300 ] loss = 0.79122, acc = 0.75147 -> best\n",
      "Best model found at fold 4 epoch 68, acc=0.75147, saving model\n"
     ]
    },
    {
     "name": "stderr",
     "output_type": "stream",
     "text": [
      "T: 069/300: 100%|█| 78/78 [00:07<00:00, 10.11it/s, lr=2.95e-5, b_loss=0.706, b_a\n"
     ]
    },
    {
     "name": "stdout",
     "output_type": "stream",
     "text": [
      "[ Train | 069/300 ] loss = 0.58129, acc = 0.80064\n"
     ]
    },
    {
     "name": "stderr",
     "output_type": "stream",
     "text": [
      "V: 069/300: 100%|████| 26/26 [00:02<00:00, 11.71it/s, v_loss=0.795, v_acc=0.752]\n"
     ]
    },
    {
     "name": "stdout",
     "output_type": "stream",
     "text": [
      "[ Valid | 069/300 ] loss = 0.79477, acc = 0.75240\n",
      "[ Valid | 069/300 ] loss = 0.79477, acc = 0.75240 -> best\n",
      "Best model found at fold 4 epoch 69, acc=0.75240, saving model\n"
     ]
    },
    {
     "name": "stderr",
     "output_type": "stream",
     "text": [
      "T: 070/300: 100%|█| 78/78 [00:07<00:00, 10.34it/s, lr=2.18e-5, b_loss=0.631, b_a\n"
     ]
    },
    {
     "name": "stdout",
     "output_type": "stream",
     "text": [
      "[ Train | 070/300 ] loss = 0.57525, acc = 0.79949\n"
     ]
    },
    {
     "name": "stderr",
     "output_type": "stream",
     "text": [
      "V: 070/300: 100%|████| 26/26 [00:02<00:00, 12.78it/s, v_loss=0.775, v_acc=0.755]\n"
     ]
    },
    {
     "name": "stdout",
     "output_type": "stream",
     "text": [
      "[ Valid | 070/300 ] loss = 0.77534, acc = 0.75540\n",
      "[ Valid | 070/300 ] loss = 0.77534, acc = 0.75540 -> best\n",
      "Best model found at fold 4 epoch 70, acc=0.75540, saving model\n"
     ]
    },
    {
     "name": "stderr",
     "output_type": "stream",
     "text": [
      "T: 071/300: 100%|█| 78/78 [00:07<00:00, 10.06it/s, lr=1.52e-5, b_loss=0.589, b_a\n"
     ]
    },
    {
     "name": "stdout",
     "output_type": "stream",
     "text": [
      "[ Train | 071/300 ] loss = 0.56212, acc = 0.80821\n"
     ]
    },
    {
     "name": "stderr",
     "output_type": "stream",
     "text": [
      "V: 071/300: 100%|████| 26/26 [00:02<00:00, 11.62it/s, v_loss=0.773, v_acc=0.756]\n"
     ]
    },
    {
     "name": "stdout",
     "output_type": "stream",
     "text": [
      "[ Valid | 071/300 ] loss = 0.77343, acc = 0.75636\n",
      "[ Valid | 071/300 ] loss = 0.77343, acc = 0.75636 -> best\n",
      "Best model found at fold 4 epoch 71, acc=0.75636, saving model\n"
     ]
    },
    {
     "name": "stderr",
     "output_type": "stream",
     "text": [
      "T: 072/300: 100%|█| 78/78 [00:07<00:00, 10.34it/s, lr=9.79e-6, b_loss=0.756, b_a\n"
     ]
    },
    {
     "name": "stdout",
     "output_type": "stream",
     "text": [
      "[ Train | 072/300 ] loss = 0.55240, acc = 0.80805\n"
     ]
    },
    {
     "name": "stderr",
     "output_type": "stream",
     "text": [
      "V: 072/300: 100%|████| 26/26 [00:01<00:00, 14.04it/s, v_loss=0.781, v_acc=0.756]\n"
     ]
    },
    {
     "name": "stdout",
     "output_type": "stream",
     "text": [
      "[ Valid | 072/300 ] loss = 0.78142, acc = 0.75558\n",
      "[ Valid | 072/300 ] loss = 0.78142, acc = 0.75558\n"
     ]
    },
    {
     "name": "stderr",
     "output_type": "stream",
     "text": [
      "T: 073/300: 100%|█| 78/78 [00:07<00:00, 10.23it/s, lr=5.53e-6, b_loss=0.621, b_a\n"
     ]
    },
    {
     "name": "stdout",
     "output_type": "stream",
     "text": [
      "[ Train | 073/300 ] loss = 0.54413, acc = 0.81453\n"
     ]
    },
    {
     "name": "stderr",
     "output_type": "stream",
     "text": [
      "V: 073/300: 100%|████| 26/26 [00:01<00:00, 13.39it/s, v_loss=0.775, v_acc=0.756]\n"
     ]
    },
    {
     "name": "stdout",
     "output_type": "stream",
     "text": [
      "[ Valid | 073/300 ] loss = 0.77547, acc = 0.75573\n",
      "[ Valid | 073/300 ] loss = 0.77547, acc = 0.75573\n"
     ]
    },
    {
     "name": "stderr",
     "output_type": "stream",
     "text": [
      "T: 074/300: 100%|█| 78/78 [00:07<00:00, 10.02it/s, lr=2.46e-6, b_loss=0.626, b_a\n"
     ]
    },
    {
     "name": "stdout",
     "output_type": "stream",
     "text": [
      "[ Train | 074/300 ] loss = 0.54274, acc = 0.81736\n"
     ]
    },
    {
     "name": "stderr",
     "output_type": "stream",
     "text": [
      "V: 074/300: 100%|████| 26/26 [00:02<00:00, 12.33it/s, v_loss=0.775, v_acc=0.757]\n"
     ]
    },
    {
     "name": "stdout",
     "output_type": "stream",
     "text": [
      "[ Valid | 074/300 ] loss = 0.77461, acc = 0.75669\n",
      "[ Valid | 074/300 ] loss = 0.77461, acc = 0.75669 -> best\n",
      "Best model found at fold 4 epoch 74, acc=0.75669, saving model\n"
     ]
    },
    {
     "name": "stderr",
     "output_type": "stream",
     "text": [
      "T: 075/300: 100%|█| 78/78 [00:07<00:00,  9.85it/s, lr=6.17e-7, b_loss=0.551, b_a\n"
     ]
    },
    {
     "name": "stdout",
     "output_type": "stream",
     "text": [
      "[ Train | 075/300 ] loss = 0.53856, acc = 0.81470\n"
     ]
    },
    {
     "name": "stderr",
     "output_type": "stream",
     "text": [
      "V: 075/300: 100%|████| 26/26 [00:02<00:00, 12.80it/s, v_loss=0.774, v_acc=0.759]\n"
     ]
    },
    {
     "name": "stdout",
     "output_type": "stream",
     "text": [
      "[ Valid | 075/300 ] loss = 0.77440, acc = 0.75930\n",
      "[ Valid | 075/300 ] loss = 0.77440, acc = 0.75930 -> best\n",
      "Best model found at fold 4 epoch 75, acc=0.75930, saving model\n"
     ]
    },
    {
     "name": "stderr",
     "output_type": "stream",
     "text": [
      "T: 076/300: 100%|█| 78/78 [00:07<00:00, 10.17it/s, lr=0.0004, b_loss=0.837, b_ac\n"
     ]
    },
    {
     "name": "stdout",
     "output_type": "stream",
     "text": [
      "[ Train | 076/300 ] loss = 0.82066, acc = 0.71520\n"
     ]
    },
    {
     "name": "stderr",
     "output_type": "stream",
     "text": [
      "V: 076/300: 100%|█████| 26/26 [00:02<00:00, 10.71it/s, v_loss=1.04, v_acc=0.657]\n"
     ]
    },
    {
     "name": "stdout",
     "output_type": "stream",
     "text": [
      "[ Valid | 076/300 ] loss = 1.03743, acc = 0.65671\n",
      "[ Valid | 076/300 ] loss = 1.03743, acc = 0.65671\n"
     ]
    },
    {
     "name": "stderr",
     "output_type": "stream",
     "text": [
      "T: 077/300: 100%|█| 78/78 [00:07<00:00, 10.17it/s, lr=0.0004, b_loss=0.84, b_acc\n"
     ]
    },
    {
     "name": "stdout",
     "output_type": "stream",
     "text": [
      "[ Train | 077/300 ] loss = 0.82733, acc = 0.71364\n"
     ]
    },
    {
     "name": "stderr",
     "output_type": "stream",
     "text": [
      "V: 077/300: 100%|█████| 26/26 [00:02<00:00, 11.31it/s, v_loss=1.13, v_acc=0.636]\n"
     ]
    },
    {
     "name": "stdout",
     "output_type": "stream",
     "text": [
      "[ Valid | 077/300 ] loss = 1.12861, acc = 0.63618\n",
      "[ Valid | 077/300 ] loss = 1.12861, acc = 0.63618\n"
     ]
    },
    {
     "name": "stderr",
     "output_type": "stream",
     "text": [
      "T: 078/300: 100%|█| 78/78 [00:07<00:00,  9.91it/s, lr=0.000399, b_loss=0.956, b_\n"
     ]
    },
    {
     "name": "stdout",
     "output_type": "stream",
     "text": [
      "[ Train | 078/300 ] loss = 0.81832, acc = 0.71766\n"
     ]
    },
    {
     "name": "stderr",
     "output_type": "stream",
     "text": [
      "V: 078/300: 100%|█████| 26/26 [00:02<00:00, 11.07it/s, v_loss=1.11, v_acc=0.625]\n"
     ]
    },
    {
     "name": "stdout",
     "output_type": "stream",
     "text": [
      "[ Valid | 078/300 ] loss = 1.10777, acc = 0.62460\n",
      "[ Valid | 078/300 ] loss = 1.10777, acc = 0.62460\n"
     ]
    },
    {
     "name": "stderr",
     "output_type": "stream",
     "text": [
      "T: 079/300: 100%|█| 78/78 [00:07<00:00,  9.83it/s, lr=0.000399, b_loss=0.815, b_\n"
     ]
    },
    {
     "name": "stdout",
     "output_type": "stream",
     "text": [
      "[ Train | 079/300 ] loss = 0.79089, acc = 0.72661\n"
     ]
    },
    {
     "name": "stderr",
     "output_type": "stream",
     "text": [
      "V: 079/300: 100%|█████| 26/26 [00:02<00:00, 12.64it/s, v_loss=1.05, v_acc=0.658]\n"
     ]
    },
    {
     "name": "stdout",
     "output_type": "stream",
     "text": [
      "[ Valid | 079/300 ] loss = 1.05323, acc = 0.65769\n",
      "[ Valid | 079/300 ] loss = 1.05323, acc = 0.65769\n"
     ]
    },
    {
     "name": "stderr",
     "output_type": "stream",
     "text": [
      "T: 080/300: 100%|█| 78/78 [00:07<00:00,  9.95it/s, lr=0.000398, b_loss=0.796, b_\n"
     ]
    },
    {
     "name": "stdout",
     "output_type": "stream",
     "text": [
      "[ Train | 080/300 ] loss = 0.78705, acc = 0.72892\n"
     ]
    },
    {
     "name": "stderr",
     "output_type": "stream",
     "text": [
      "V: 080/300: 100%|█████| 26/26 [00:02<00:00, 12.13it/s, v_loss=1.01, v_acc=0.676]\n"
     ]
    },
    {
     "name": "stdout",
     "output_type": "stream",
     "text": [
      "[ Valid | 080/300 ] loss = 1.00653, acc = 0.67603\n",
      "[ Valid | 080/300 ] loss = 1.00653, acc = 0.67603\n"
     ]
    },
    {
     "name": "stderr",
     "output_type": "stream",
     "text": [
      "T: 081/300: 100%|█| 78/78 [00:07<00:00,  9.99it/s, lr=0.000396, b_loss=0.882, b_\n"
     ]
    },
    {
     "name": "stdout",
     "output_type": "stream",
     "text": [
      "[ Train | 081/300 ] loss = 0.77993, acc = 0.72577\n"
     ]
    },
    {
     "name": "stderr",
     "output_type": "stream",
     "text": [
      "V: 081/300: 100%|█████| 26/26 [00:02<00:00, 11.79it/s, v_loss=1.07, v_acc=0.655]\n"
     ]
    },
    {
     "name": "stdout",
     "output_type": "stream",
     "text": [
      "[ Valid | 081/300 ] loss = 1.06678, acc = 0.65491\n",
      "[ Valid | 081/300 ] loss = 1.06678, acc = 0.65491\n"
     ]
    },
    {
     "name": "stderr",
     "output_type": "stream",
     "text": [
      "T: 082/300: 100%|█| 78/78 [00:07<00:00,  9.81it/s, lr=0.000394, b_loss=0.892, b_\n"
     ]
    },
    {
     "name": "stdout",
     "output_type": "stream",
     "text": [
      "[ Train | 082/300 ] loss = 0.75799, acc = 0.73511\n"
     ]
    },
    {
     "name": "stderr",
     "output_type": "stream",
     "text": [
      "V: 082/300: 100%|██████| 26/26 [00:02<00:00, 11.30it/s, v_loss=1.08, v_acc=0.66]\n"
     ]
    },
    {
     "name": "stdout",
     "output_type": "stream",
     "text": [
      "[ Valid | 082/300 ] loss = 1.08150, acc = 0.65976\n",
      "[ Valid | 082/300 ] loss = 1.08150, acc = 0.65976\n"
     ]
    },
    {
     "name": "stderr",
     "output_type": "stream",
     "text": [
      "T: 083/300: 100%|█| 78/78 [00:07<00:00,  9.81it/s, lr=0.000392, b_loss=0.654, b_\n"
     ]
    },
    {
     "name": "stdout",
     "output_type": "stream",
     "text": [
      "[ Train | 083/300 ] loss = 0.74222, acc = 0.74145\n"
     ]
    },
    {
     "name": "stderr",
     "output_type": "stream",
     "text": [
      "V: 083/300: 100%|█████| 26/26 [00:02<00:00, 12.67it/s, v_loss=1.01, v_acc=0.695]\n"
     ]
    },
    {
     "name": "stdout",
     "output_type": "stream",
     "text": [
      "[ Valid | 083/300 ] loss = 1.00615, acc = 0.69523\n",
      "[ Valid | 083/300 ] loss = 1.00615, acc = 0.69523\n"
     ]
    },
    {
     "name": "stderr",
     "output_type": "stream",
     "text": [
      "T: 084/300: 100%|█| 78/78 [00:07<00:00,  9.90it/s, lr=0.00039, b_loss=0.751, b_a\n"
     ]
    },
    {
     "name": "stdout",
     "output_type": "stream",
     "text": [
      "[ Train | 084/300 ] loss = 0.74002, acc = 0.74618\n"
     ]
    },
    {
     "name": "stderr",
     "output_type": "stream",
     "text": [
      "V: 084/300: 100%|████| 26/26 [00:02<00:00, 12.49it/s, v_loss=0.961, v_acc=0.685]\n"
     ]
    },
    {
     "name": "stdout",
     "output_type": "stream",
     "text": [
      "[ Valid | 084/300 ] loss = 0.96090, acc = 0.68496\n",
      "[ Valid | 084/300 ] loss = 0.96090, acc = 0.68496\n"
     ]
    },
    {
     "name": "stderr",
     "output_type": "stream",
     "text": [
      "T: 085/300: 100%|█| 78/78 [00:07<00:00,  9.98it/s, lr=0.000388, b_loss=0.667, b_\n"
     ]
    },
    {
     "name": "stdout",
     "output_type": "stream",
     "text": [
      "[ Train | 085/300 ] loss = 0.73330, acc = 0.74654\n"
     ]
    },
    {
     "name": "stderr",
     "output_type": "stream",
     "text": [
      "V: 085/300: 100%|█████| 26/26 [00:02<00:00, 12.21it/s, v_loss=1.19, v_acc=0.637]\n"
     ]
    },
    {
     "name": "stdout",
     "output_type": "stream",
     "text": [
      "[ Valid | 085/300 ] loss = 1.19325, acc = 0.63684\n",
      "[ Valid | 085/300 ] loss = 1.19325, acc = 0.63684\n"
     ]
    },
    {
     "name": "stderr",
     "output_type": "stream",
     "text": [
      "T: 086/300: 100%|█| 78/78 [00:07<00:00, 10.06it/s, lr=0.000385, b_loss=0.848, b_\n"
     ]
    },
    {
     "name": "stdout",
     "output_type": "stream",
     "text": [
      "[ Train | 086/300 ] loss = 0.71593, acc = 0.74815\n"
     ]
    },
    {
     "name": "stderr",
     "output_type": "stream",
     "text": [
      "V: 086/300: 100%|█████| 26/26 [00:02<00:00, 12.75it/s, v_loss=1.18, v_acc=0.648]\n"
     ]
    },
    {
     "name": "stdout",
     "output_type": "stream",
     "text": [
      "[ Valid | 086/300 ] loss = 1.18472, acc = 0.64838\n",
      "[ Valid | 086/300 ] loss = 1.18472, acc = 0.64838\n"
     ]
    },
    {
     "name": "stderr",
     "output_type": "stream",
     "text": [
      "T: 087/300: 100%|█| 78/78 [00:08<00:00,  9.63it/s, lr=0.000382, b_loss=0.802, b_\n"
     ]
    },
    {
     "name": "stdout",
     "output_type": "stream",
     "text": [
      "[ Train | 087/300 ] loss = 0.72098, acc = 0.75335\n"
     ]
    },
    {
     "name": "stderr",
     "output_type": "stream",
     "text": [
      "V: 087/300: 100%|█████| 26/26 [00:02<00:00, 12.51it/s, v_loss=1.07, v_acc=0.663]\n"
     ]
    },
    {
     "name": "stdout",
     "output_type": "stream",
     "text": [
      "[ Valid | 087/300 ] loss = 1.07328, acc = 0.66338\n",
      "[ Valid | 087/300 ] loss = 1.07328, acc = 0.66338\n"
     ]
    },
    {
     "name": "stderr",
     "output_type": "stream",
     "text": [
      "T: 088/300: 100%|█| 78/78 [00:07<00:00,  9.90it/s, lr=0.000378, b_loss=0.863, b_\n"
     ]
    },
    {
     "name": "stdout",
     "output_type": "stream",
     "text": [
      "[ Train | 088/300 ] loss = 0.70219, acc = 0.75559\n"
     ]
    },
    {
     "name": "stderr",
     "output_type": "stream",
     "text": [
      "V: 088/300: 100%|████| 26/26 [00:01<00:00, 13.31it/s, v_loss=0.941, v_acc=0.691]\n"
     ]
    },
    {
     "name": "stdout",
     "output_type": "stream",
     "text": [
      "[ Valid | 088/300 ] loss = 0.94064, acc = 0.69069\n",
      "[ Valid | 088/300 ] loss = 0.94064, acc = 0.69069\n"
     ]
    },
    {
     "name": "stderr",
     "output_type": "stream",
     "text": [
      "T: 089/300: 100%|█| 78/78 [00:07<00:00,  9.86it/s, lr=0.000374, b_loss=0.783, b_\n"
     ]
    },
    {
     "name": "stdout",
     "output_type": "stream",
     "text": [
      "[ Train | 089/300 ] loss = 0.69160, acc = 0.76083\n"
     ]
    },
    {
     "name": "stderr",
     "output_type": "stream",
     "text": [
      "V: 089/300: 100%|█████| 26/26 [00:01<00:00, 13.37it/s, v_loss=1.02, v_acc=0.675]\n"
     ]
    },
    {
     "name": "stdout",
     "output_type": "stream",
     "text": [
      "[ Valid | 089/300 ] loss = 1.01575, acc = 0.67509\n",
      "[ Valid | 089/300 ] loss = 1.01575, acc = 0.67509\n"
     ]
    },
    {
     "name": "stderr",
     "output_type": "stream",
     "text": [
      "T: 090/300: 100%|█| 78/78 [00:07<00:00, 10.06it/s, lr=0.000371, b_loss=0.711, b_\n"
     ]
    },
    {
     "name": "stdout",
     "output_type": "stream",
     "text": [
      "[ Train | 090/300 ] loss = 0.68906, acc = 0.76181\n"
     ]
    },
    {
     "name": "stderr",
     "output_type": "stream",
     "text": [
      "V: 090/300: 100%|█████| 26/26 [00:02<00:00, 12.44it/s, v_loss=1.14, v_acc=0.649]\n"
     ]
    },
    {
     "name": "stdout",
     "output_type": "stream",
     "text": [
      "[ Valid | 090/300 ] loss = 1.13732, acc = 0.64946\n",
      "[ Valid | 090/300 ] loss = 1.13732, acc = 0.64946\n"
     ]
    },
    {
     "name": "stderr",
     "output_type": "stream",
     "text": [
      "T: 091/300: 100%|█| 78/78 [00:07<00:00,  9.95it/s, lr=0.000366, b_loss=0.666, b_\n"
     ]
    },
    {
     "name": "stdout",
     "output_type": "stream",
     "text": [
      "[ Train | 091/300 ] loss = 0.69598, acc = 0.75886\n"
     ]
    },
    {
     "name": "stderr",
     "output_type": "stream",
     "text": [
      "V: 091/300: 100%|█████| 26/26 [00:02<00:00, 11.74it/s, v_loss=1.09, v_acc=0.671]\n"
     ]
    },
    {
     "name": "stdout",
     "output_type": "stream",
     "text": [
      "[ Valid | 091/300 ] loss = 1.09239, acc = 0.67061\n",
      "[ Valid | 091/300 ] loss = 1.09239, acc = 0.67061\n"
     ]
    },
    {
     "name": "stderr",
     "output_type": "stream",
     "text": [
      "T: 092/300: 100%|█| 78/78 [00:07<00:00,  9.82it/s, lr=0.000362, b_loss=0.738, b_\n"
     ]
    },
    {
     "name": "stdout",
     "output_type": "stream",
     "text": [
      "[ Train | 092/300 ] loss = 0.67381, acc = 0.76558\n"
     ]
    },
    {
     "name": "stderr",
     "output_type": "stream",
     "text": [
      "V: 092/300: 100%|██████| 26/26 [00:02<00:00, 12.56it/s, v_loss=0.991, v_acc=0.7]\n"
     ]
    },
    {
     "name": "stdout",
     "output_type": "stream",
     "text": [
      "[ Valid | 092/300 ] loss = 0.99100, acc = 0.70032\n",
      "[ Valid | 092/300 ] loss = 0.99100, acc = 0.70032\n"
     ]
    },
    {
     "name": "stderr",
     "output_type": "stream",
     "text": [
      "T: 093/300: 100%|█| 78/78 [00:07<00:00, 10.25it/s, lr=0.000357, b_loss=0.801, b_\n"
     ]
    },
    {
     "name": "stdout",
     "output_type": "stream",
     "text": [
      "[ Train | 093/300 ] loss = 0.65963, acc = 0.77462\n"
     ]
    },
    {
     "name": "stderr",
     "output_type": "stream",
     "text": [
      "V: 093/300: 100%|████| 26/26 [00:01<00:00, 13.99it/s, v_loss=0.939, v_acc=0.703]\n"
     ]
    },
    {
     "name": "stdout",
     "output_type": "stream",
     "text": [
      "[ Valid | 093/300 ] loss = 0.93914, acc = 0.70334\n",
      "[ Valid | 093/300 ] loss = 0.93914, acc = 0.70334\n"
     ]
    },
    {
     "name": "stderr",
     "output_type": "stream",
     "text": [
      "T: 094/300: 100%|█| 78/78 [00:07<00:00, 10.15it/s, lr=0.000352, b_loss=0.671, b_\n"
     ]
    },
    {
     "name": "stdout",
     "output_type": "stream",
     "text": [
      "[ Train | 094/300 ] loss = 0.65293, acc = 0.77866\n"
     ]
    },
    {
     "name": "stderr",
     "output_type": "stream",
     "text": [
      "V: 094/300: 100%|██████| 26/26 [00:01<00:00, 13.08it/s, v_loss=1.08, v_acc=0.66]\n"
     ]
    },
    {
     "name": "stdout",
     "output_type": "stream",
     "text": [
      "[ Valid | 094/300 ] loss = 1.07878, acc = 0.66007\n",
      "[ Valid | 094/300 ] loss = 1.07878, acc = 0.66007\n"
     ]
    },
    {
     "name": "stderr",
     "output_type": "stream",
     "text": [
      "T: 095/300: 100%|█| 78/78 [00:07<00:00,  9.82it/s, lr=0.000347, b_loss=0.649, b_\n"
     ]
    },
    {
     "name": "stdout",
     "output_type": "stream",
     "text": [
      "[ Train | 095/300 ] loss = 0.64380, acc = 0.77939\n"
     ]
    },
    {
     "name": "stderr",
     "output_type": "stream",
     "text": [
      "V: 095/300: 100%|████| 26/26 [00:02<00:00, 11.88it/s, v_loss=0.894, v_acc=0.717]\n"
     ]
    },
    {
     "name": "stdout",
     "output_type": "stream",
     "text": [
      "[ Valid | 095/300 ] loss = 0.89421, acc = 0.71689\n",
      "[ Valid | 095/300 ] loss = 0.89421, acc = 0.71689\n"
     ]
    },
    {
     "name": "stderr",
     "output_type": "stream",
     "text": [
      "T: 096/300: 100%|█| 78/78 [00:07<00:00,  9.80it/s, lr=0.000341, b_loss=0.587, b_\n"
     ]
    },
    {
     "name": "stdout",
     "output_type": "stream",
     "text": [
      "[ Train | 096/300 ] loss = 0.63248, acc = 0.78035\n"
     ]
    },
    {
     "name": "stderr",
     "output_type": "stream",
     "text": [
      "V: 096/300: 100%|█████| 26/26 [00:02<00:00, 11.13it/s, v_loss=0.886, v_acc=0.73]"
     ]
    },
    {
     "name": "stdout",
     "output_type": "stream",
     "text": [
      "[ Valid | 096/300 ] loss = 0.88637, acc = 0.73044\n",
      "[ Valid | 096/300 ] loss = 0.88637, acc = 0.73044\n",
      "No improvment 20 consecutive epochs, early stopping\n"
     ]
    },
    {
     "name": "stderr",
     "output_type": "stream",
     "text": [
      "\n"
     ]
    },
    {
     "data": {
      "text/html": [
       "Waiting for W&B process to finish... <strong style=\"color:green\">(success).</strong>"
      ],
      "text/plain": [
       "<IPython.core.display.HTML object>"
      ]
     },
     "metadata": {},
     "output_type": "display_data"
    },
    {
     "data": {
      "application/vnd.jupyter.widget-view+json": {
       "model_id": "8cdf4ebd721d415fa116d72ec780960d",
       "version_major": 2,
       "version_minor": 0
      },
      "text/plain": [
       "VBox(children=(Label(value='0.002 MB of 0.002 MB uploaded (0.000 MB deduped)\\r'), FloatProgress(value=1.0, max…"
      ]
     },
     "metadata": {},
     "output_type": "display_data"
    },
    {
     "data": {
      "text/html": [
       "<style>\n",
       "    table.wandb td:nth-child(1) { padding: 0 10px; text-align: left ; width: auto;} td:nth-child(2) {text-align: left ; width: 100%}\n",
       "    .wandb-row { display: flex; flex-direction: row; flex-wrap: wrap; justify-content: flex-start; width: 100% }\n",
       "    .wandb-col { display: flex; flex-direction: column; flex-basis: 100%; flex: 1; padding: 10px; }\n",
       "    </style>\n",
       "<div class=\"wandb-row\"><div class=\"wandb-col\"><h3>Run history:</h3><br/><table class=\"wandb\"><tr><td>average_training_loss</td><td>█▇▆▆▅▄▄▅▄▄▃▃▃▃▂▄▃▃▃▃▂▂▂▂▂▂▁▁▁▁▁▂▂▂▂▂▂▂▂▁</td></tr><tr><td>average_validation_loss</td><td>█▇▅▆█▄▃▄▄▄▄▃▂▂▂▄▃▃▃▃▃▃▂▂▂▁▁▁▁▁▁▂▃▃▂▃▂▃▂▂</td></tr><tr><td>learning rate</td><td>█▆▂▇▆▂▁█▇▇▅▄▂▂▁███▇▇▆▆▅▄▄▃▂▂▁▁▁██████▇▇▇</td></tr><tr><td>step_training_accuracy</td><td>▁▂▃▃▃▅▆▅▅▅▆▅▇▇▆▆▆▆▇▇▆▇▇▇▆███▇▇█▆▇█████▇▇</td></tr><tr><td>step_training_loss</td><td>█▆▆▆▅▅▄▄▄▄▄▄▂▂▃▄▃▃▃▃▃▂▂▂▃▁▁▂▂▂▁▃▂▁▂▂▂▂▂▁</td></tr><tr><td>step_validation_accuracy</td><td>▂▁▃▂▁▅▆▅▅▄▆▅▆▇▇▄▅▆▇▆▇▇▇▅▇█▇▇██▇▆▇▆▇▇▆▇▇▇</td></tr><tr><td>step_validation_loss</td><td>▇▆▅▆█▄▃▄▄▅▄▄▃▂▂▅▄▃▂▄▂▂▂▄▂▂▂▃▂▁▂▃▂▃▃▃▃▂▂▃</td></tr></table><br/></div><div class=\"wandb-col\"><h3>Run summary:</h3><br/><table class=\"wandb\"><tr><td>average_training_loss</td><td>0.63248</td></tr><tr><td>average_validation_loss</td><td>0.88637</td></tr><tr><td>learning rate</td><td>0.00034</td></tr><tr><td>step_training_accuracy</td><td>0.75</td></tr><tr><td>step_training_loss</td><td>0.58715</td></tr><tr><td>step_validation_accuracy</td><td>0.72581</td></tr><tr><td>step_validation_loss</td><td>1.02649</td></tr></table><br/></div></div>"
      ],
      "text/plain": [
       "<IPython.core.display.HTML object>"
      ]
     },
     "metadata": {},
     "output_type": "display_data"
    },
    {
     "data": {
      "text/html": [
       " View run <strong style=\"color:#cdcd00\">exalted-eon-20</strong> at: <a href='https://wandb.ai/nickwkt/Food-11/runs/5v7q49e2' target=\"_blank\">https://wandb.ai/nickwkt/Food-11/runs/5v7q49e2</a><br/>Synced 6 W&B file(s), 0 media file(s), 0 artifact file(s) and 0 other file(s)"
      ],
      "text/plain": [
       "<IPython.core.display.HTML object>"
      ]
     },
     "metadata": {},
     "output_type": "display_data"
    },
    {
     "data": {
      "text/html": [
       "Find logs at: <code>./wandb/run-20230414_143416-5v7q49e2/logs</code>"
      ],
      "text/plain": [
       "<IPython.core.display.HTML object>"
      ]
     },
     "metadata": {},
     "output_type": "display_data"
    }
   ],
   "source": [
    "# \"cuda\" only when GPUs are available.\n",
    "device = \"cuda\" if torch.cuda.is_available() else \"cpu\"\n",
    "print(device)\n",
    "\n",
    "test_fold = k_fold\n",
    "\n",
    "for i in range(test_fold):\n",
    "    fold = i+1\n",
    "    print(f'\\n\\nStarting Fold: {fold} ********************************************')\n",
    "    model = Classifier(Residual_Block, num_layers).to(device)\n",
    "    print(next(model.parameters()).device)\n",
    "    criterion = nn.CrossEntropyLoss()\n",
    "    optimizer = torch.optim.Adam(model.parameters(), lr=0.0004, weight_decay=1e-5) \n",
    "    scheduler = torch.optim.lr_scheduler.CosineAnnealingWarmRestarts(optimizer, T_0=5, T_mult=2)\n",
    "    stale = 0\n",
    "    best_acc = 0\n",
    "    \n",
    "    val_data = total_files[i*num: (i+1)*num]\n",
    "    train_data = total_files[:i*num] + total_files[(i+1)*num:]\n",
    "    \n",
    "    train_set = FoodDataset(tfm=train_tfm, files=train_data)\n",
    "    train_loader = DataLoader(train_set, batch_size=batch_size, shuffle=True, num_workers=num_cpu, pin_memory=True)\n",
    "    \n",
    "    valid_set = FoodDataset(tfm=test_tfm, files=val_data)\n",
    "    valid_loader = DataLoader(valid_set, batch_size=batch_size, shuffle=True, num_workers=num_cpu, pin_memory=True)\n",
    "    \n",
    "    wandb.init(\n",
    "        project=\"Food-11\",\n",
    "        config={\n",
    "            \"learning rate\": 0.0004,\n",
    "            \"architecture\": \"CNN\",\n",
    "            \"epochs\": n_epochs,\n",
    "            \"batch_size\": batch_size,\n",
    "            \"image_dim\": 128,\n",
    "            \"T_0\": 5,\n",
    "            \"T_mult\": 2,\n",
    "        }\n",
    "    )\n",
    "\n",
    "    for epoch in range(n_epochs):\n",
    "    \n",
    "        # ---------- Training ----------\n",
    "        # Make sure the model is in train mode before training.\n",
    "        model.train()\n",
    "    \n",
    "        # These are used to record information in training.\n",
    "        train_loss = []\n",
    "        train_accs = []\n",
    "        lr = optimizer.param_groups[0][\"lr\"]\n",
    "        \n",
    "        pbar = tqdm(train_loader)\n",
    "        pbar.set_description(f'T: {epoch+1:03d}/{n_epochs:03d}')\n",
    "        for batch in pbar:\n",
    "    \n",
    "            # A batch consists of image data and corresponding labels.\n",
    "            imgs, labels = batch\n",
    "            #imgs = imgs.half()\n",
    "            #print(imgs.shape,labels.shape)\n",
    "    \n",
    "            # Forward the data. (Make sure data and model are on the same device.)\n",
    "            logits = model(imgs.to(device))\n",
    "    \n",
    "            # Calculate the cross-entropy loss.\n",
    "            # We don't need to apply softmax before computing cross-entropy as it is done automatically.\n",
    "            loss = criterion(logits, labels.to(device))\n",
    "    \n",
    "            # Gradients stored in the parameters in the previous step should be cleared out first.\n",
    "            optimizer.zero_grad()\n",
    "    \n",
    "            # Compute the gradients for parameters.\n",
    "            loss.backward()\n",
    "    \n",
    "            # Clip the gradient norms for stable training.\n",
    "            grad_norm = nn.utils.clip_grad_norm_(model.parameters(), max_norm=10)\n",
    "    \n",
    "            # Update the parameters with computed gradients.\n",
    "            optimizer.step()\n",
    "    \n",
    "            # Compute the accuracy for current batch.\n",
    "            acc = (logits.argmax(dim=-1) == labels.to(device)).float().mean()\n",
    "    \n",
    "            # Record the loss and accuracy.\n",
    "            wandb.log({\"step_training_loss\": loss.item()})\n",
    "            wandb.log({\"step_training_accuracy\": acc})\n",
    "            train_loss.append(loss.item())\n",
    "            train_accs.append(acc)\n",
    "            pbar.set_postfix({'lr':lr, 'b_loss':loss.item(), 'b_acc':acc.item(),\n",
    "                    'loss':sum(train_loss)/len(train_loss), 'acc': sum(train_accs).item()/len(train_accs)})\n",
    "            \n",
    "        train_loss = sum(train_loss) / len(train_loss)\n",
    "        train_acc = sum(train_accs) / len(train_accs)\n",
    "        # Print the information.\n",
    "        print(f\"[ Train | {epoch + 1:03d}/{n_epochs:03d} ] loss = {train_loss:.5f}, acc = {train_acc:.5f}\")\n",
    "\n",
    "        wandb.log({\"learning rate\": scheduler.get_last_lr()[0]})\n",
    "\n",
    "        scheduler.step()\n",
    "        \n",
    "        \n",
    "        # Make sure the model is in eval mode so that some modules like dropout are disabled and work normally.\n",
    "        model.eval()\n",
    "    \n",
    "        # These are used to record information in validation.\n",
    "        valid_loss = []\n",
    "        valid_accs = []\n",
    "    \n",
    "        # Iterate the validation set by batches.\n",
    "        pbar = tqdm(valid_loader)\n",
    "        pbar.set_description(f'V: {epoch+1:03d}/{n_epochs:03d}')\n",
    "        for batch in pbar:\n",
    "\n",
    "            # A batch consists of image data and corresponding labels.\n",
    "            imgs, labels = batch\n",
    "            #imgs = imgs.half()\n",
    "    \n",
    "            # We don't need gradient in validation.\n",
    "            # Using torch.no_grad() accelerates the forward process.\n",
    "            with torch.no_grad():\n",
    "                logits = model(imgs.to(device))\n",
    "    \n",
    "            # We can still compute the loss (but not the gradient).\n",
    "            loss = criterion(logits, labels.to(device))\n",
    "    \n",
    "            # Compute the accuracy for current batch.\n",
    "            acc = (logits.argmax(dim=-1) == labels.to(device)).float().mean()\n",
    "    \n",
    "            # Record the loss and accuracy.\n",
    "            wandb.log({\"step_validation_loss\": loss.item()})\n",
    "            wandb.log({\"step_validation_accuracy\": acc})\n",
    "            valid_loss.append(loss.item())\n",
    "            valid_accs.append(acc)\n",
    "            pbar.set_postfix({'v_loss':sum(valid_loss)/len(valid_loss), \n",
    "                              'v_acc': sum(valid_accs).item()/len(valid_accs)})\n",
    "        \n",
    "            #break\n",
    "    \n",
    "        # The average loss and accuracy for entire validation set is the average of the recorded values.\n",
    "        valid_loss = sum(valid_loss) / len(valid_loss)\n",
    "        valid_acc = sum(valid_accs) / len(valid_accs)\n",
    "\n",
    "        # Print the information.\n",
    "        print(f\"[ Valid | {epoch + 1:03d}/{n_epochs:03d} ] loss = {valid_loss:.5f}, acc = {valid_acc:.5f}\")\n",
    "\n",
    "        # update logs\n",
    "        if valid_acc > best_acc:\n",
    "            with open(f\"{_exp_name}_fold_{fold}_log.txt\",\"a\") as f:\n",
    "                newline = '\\n'\n",
    "                item = f\"[ Valid | {epoch + 1:03d}/{n_epochs:03d} ] loss = {valid_loss:.5f}, acc = {valid_acc:.5f} -> best{newline}\"\n",
    "                f.write(item)\n",
    "                print(f\"[ Valid | {epoch + 1:03d}/{n_epochs:03d} ] loss = {valid_loss:.5f}, acc = {valid_acc:.5f} -> best\")\n",
    "        else:\n",
    "            with open(f\"{_exp_name}_fold_{fold}_log.txt\",\"a\") as f:\n",
    "                newline = '\\n'\n",
    "                item = f\"[ Valid | {epoch + 1:03d}/{n_epochs:03d} ] loss = {valid_loss:.5f}, acc = {valid_acc:.5f}{newline}\"\n",
    "                f.write(item)\n",
    "                print(f\"[ Valid | {epoch + 1:03d}/{n_epochs:03d} ] loss = {valid_loss:.5f}, acc = {valid_acc:.5f}\")\n",
    "        \n",
    "        wandb.log({\n",
    "            \"average_training_loss\": train_loss,\n",
    "            \"average_validation_loss\": valid_loss,\n",
    "        })\n",
    "\n",
    "        # save models\n",
    "        if valid_acc > best_acc:\n",
    "            print(f\"Best model found at fold {fold} epoch {epoch+1}, acc={valid_acc:.5f}, saving model\")\n",
    "            torch.save(model.state_dict(), f\"Fold_{fold}_best.ckpt\")\n",
    "            # only save best to prevent output memory exceed error\n",
    "            best_acc = valid_acc\n",
    "            stale = 0\n",
    "        else:\n",
    "            stale += 1\n",
    "            if stale > patience:\n",
    "                print(f\"No improvment {patience} consecutive epochs, early stopping\")\n",
    "                break\n",
    "    wandb.finish()"
   ]
  },
  {
   "cell_type": "code",
   "execution_count": 12,
   "metadata": {
    "colab": {
     "base_uri": "https://localhost:8080/"
    },
    "executionInfo": {
     "elapsed": 16,
     "status": "ok",
     "timestamp": 1681160711111,
     "user": {
      "displayName": "Nick Wu",
      "userId": "10283763741837486654"
     },
     "user_tz": -480
    },
    "id": "B9QNdHIXVaVP",
    "outputId": "0d0024e1-07b4-498f-9a3b-ea1815319f95",
    "papermill": {
     "duration": 0.493644,
     "end_time": "2022-02-23T19:10:19.985992",
     "exception": false,
     "start_time": "2022-02-23T19:10:19.492348",
     "status": "completed"
    },
    "tags": []
   },
   "outputs": [],
   "source": [
    "test_dir = \"./food-11/test\"\n",
    "test_set = FoodDataset(test_dir, tfm=test_tfm)\n",
    "test_loader = DataLoader(test_set, batch_size=batch_size, shuffle=False, num_workers=num_cpu, pin_memory=True)"
   ]
  },
  {
   "cell_type": "markdown",
   "metadata": {
    "id": "G31uyjpvVaVP",
    "papermill": {
     "duration": 0.498773,
     "end_time": "2022-02-23T19:10:20.961802",
     "exception": false,
     "start_time": "2022-02-23T19:10:20.463029",
     "status": "completed"
    },
    "tags": []
   },
   "source": [
    "# Testing and generate prediction CSV"
   ]
  },
  {
   "cell_type": "code",
   "execution_count": 13,
   "metadata": {
    "colab": {
     "base_uri": "https://localhost:8080/"
    },
    "executionInfo": {
     "elapsed": 6246,
     "status": "ok",
     "timestamp": 1681160717352,
     "user": {
      "displayName": "Nick Wu",
      "userId": "10283763741837486654"
     },
     "user_tz": -480
    },
    "id": "bpLtxx5FVaVP",
    "outputId": "bf66ac1c-27e3-4097-ac23-457dc0b7ba36",
    "papermill": {
     "duration": 49.157727,
     "end_time": "2022-02-23T19:11:10.61523",
     "exception": false,
     "start_time": "2022-02-23T19:10:21.457503",
     "status": "completed"
    },
    "tags": []
   },
   "outputs": [
    {
     "name": "stdout",
     "output_type": "stream",
     "text": [
      "Test accurary: 0.7779452800750732\n"
     ]
    }
   ],
   "source": [
    "device = \"cuda\" if torch.cuda.is_available() else \"cpu\"\n",
    "\n",
    "test_fold = k_fold\n",
    "\n",
    "models = []\n",
    "for i in range(test_fold):\n",
    "    fold = i + 1\n",
    "    model_best = Classifier(Residual_Block, num_layers).to(device)\n",
    "    model_best.load_state_dict(torch.load(f\"Fold_{fold}_best.ckpt\"))\n",
    "    model_best.eval()\n",
    "    models.append(model_best)\n",
    "\n",
    "prediction = []\n",
    "test_accs = []\n",
    "true_labels = []\n",
    "with torch.no_grad():\n",
    "    for data, labels in test_loader:\n",
    "        test_preds = [] \n",
    "        for model_best in models:\n",
    "            test_preds.append(model_best(data.to(device)).cpu().data.numpy())\n",
    "        \n",
    "        preds = []\n",
    "        for i in range(test_fold):\n",
    "            temp_pred = np.argmax(test_preds[i], axis=1).tolist()\n",
    "            preds.append(temp_pred)\n",
    "        pred = list(zip(*preds))\n",
    "        pred = np.array(pred)\n",
    "        choice = np.apply_along_axis(lambda x: np.bincount(x).argmax(), axis=1, arr=pred)\n",
    "\n",
    "        test_preds = torch.from_numpy(choice).to(device)\n",
    "        acc = (test_preds == labels.to(device)).float().mean()\n",
    "        test_accs.append(acc)\n",
    "        prediction += choice.squeeze().tolist()\n",
    "        true_labels.extend(labels.tolist())\n",
    "\n",
    "test_acc = sum(test_accs) / len(test_accs)\n",
    "print(f\"Test accurary: {test_acc}\")"
   ]
  },
  {
   "cell_type": "code",
   "execution_count": 14,
   "metadata": {
    "id": "fKupB3VUVaVQ",
    "papermill": {
     "duration": 0.554276,
     "end_time": "2022-02-23T19:11:11.870035",
     "exception": false,
     "start_time": "2022-02-23T19:11:11.315759",
     "status": "completed"
    },
    "tags": []
   },
   "outputs": [],
   "source": [
    "#create test csv\n",
    "def pad4(i):\n",
    "    return \"0\"*(4-len(str(i)))+str(i)\n",
    "df = pd.DataFrame()\n",
    "df[\"Id\"] = [pad4(i) for i in range(1,len(test_set)+1)]\n",
    "df[\"Category\"] = prediction\n",
    "df.to_csv(\"prediction_resnet.csv\",index = False)\n",
    "\n",
    "df = pd.DataFrame()\n",
    "df[\"Id\"] = [pad4(i) for i in range(1,len(test_set)+1)]\n",
    "df[\"Category\"] = true_labels\n",
    "df.to_csv(\"true_labels.csv\",index = False)"
   ]
  }
 ],
 "metadata": {
  "accelerator": "GPU",
  "colab": {
   "machine_shape": "hm",
   "provenance": [
    {
     "file_id": "15hMu9YiYjE_6HY99UXon2vKGk2KwugWu",
     "timestamp": 1681142933591
    }
   ]
  },
  "gpuClass": "premium",
  "kernelspec": {
   "display_name": "Python 3 (ipykernel)",
   "language": "python",
   "name": "python3"
  },
  "language_info": {
   "codemirror_mode": {
    "name": "ipython",
    "version": 3
   },
   "file_extension": ".py",
   "mimetype": "text/x-python",
   "name": "python",
   "nbconvert_exporter": "python",
   "pygments_lexer": "ipython3",
   "version": "3.7.16"
  }
 },
 "nbformat": 4,
 "nbformat_minor": 4
}
