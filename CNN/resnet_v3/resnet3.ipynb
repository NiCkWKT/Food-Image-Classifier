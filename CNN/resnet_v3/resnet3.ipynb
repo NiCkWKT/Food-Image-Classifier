{
 "cells": [
  {
   "cell_type": "code",
   "execution_count": 28,
   "metadata": {
    "colab": {
     "base_uri": "https://localhost:8080/"
    },
    "execution": {
     "iopub.execute_input": "2023-04-11T12:41:06.291240Z",
     "iopub.status.busy": "2023-04-11T12:41:06.290545Z",
     "iopub.status.idle": "2023-04-11T12:41:07.280513Z",
     "shell.execute_reply": "2023-04-11T12:41:07.279388Z",
     "shell.execute_reply.started": "2023-04-11T12:41:06.291203Z"
    },
    "executionInfo": {
     "elapsed": 16,
     "status": "ok",
     "timestamp": 1681163010779,
     "user": {
      "displayName": "Nick Wu",
      "userId": "10283763741837486654"
     },
     "user_tz": -480
    },
    "id": "VOczpMHIjDie",
    "outputId": "391dfbc4-8c44-4ad1-d5ef-972059034649"
   },
   "outputs": [
    {
     "name": "stdout",
     "output_type": "stream",
     "text": [
      "GPU 0: NVIDIA GeForce RTX 3090 (UUID: GPU-72fdbd81-da45-b750-3719-ae5877e26726)\r\n"
     ]
    }
   ],
   "source": [
    "! nvidia-smi -L"
   ]
  },
  {
   "cell_type": "code",
   "execution_count": 29,
   "metadata": {
    "colab": {
     "base_uri": "https://localhost:8080/"
    },
    "execution": {
     "iopub.execute_input": "2023-04-11T12:41:13.145384Z",
     "iopub.status.busy": "2023-04-11T12:41:13.144840Z",
     "iopub.status.idle": "2023-04-11T12:41:13.157905Z",
     "shell.execute_reply": "2023-04-11T12:41:13.156774Z",
     "shell.execute_reply.started": "2023-04-11T12:41:13.145341Z"
    },
    "executionInfo": {
     "elapsed": 9,
     "status": "ok",
     "timestamp": 1681163016035,
     "user": {
      "displayName": "Nick Wu",
      "userId": "10283763741837486654"
     },
     "user_tz": -480
    },
    "id": "cmRFCYn7ng3R",
    "outputId": "cc8e0bb9-9901-46f0-d603-3fec648ffef6"
   },
   "outputs": [
    {
     "data": {
      "text/plain": [
       "12"
      ]
     },
     "execution_count": 29,
     "metadata": {},
     "output_type": "execute_result"
    }
   ],
   "source": [
    "import multiprocessing as mp\n",
    "num_cpu = mp.cpu_count()\n",
    "num_cpu"
   ]
  },
  {
   "cell_type": "code",
   "execution_count": 30,
   "metadata": {
    "execution": {
     "iopub.execute_input": "2023-04-11T12:41:23.966804Z",
     "iopub.status.busy": "2023-04-11T12:41:23.966414Z",
     "iopub.status.idle": "2023-04-11T12:41:23.971223Z",
     "shell.execute_reply": "2023-04-11T12:41:23.970243Z",
     "shell.execute_reply.started": "2023-04-11T12:41:23.966772Z"
    },
    "executionInfo": {
     "elapsed": 482,
     "status": "ok",
     "timestamp": 1681163068589,
     "user": {
      "displayName": "Nick Wu",
      "userId": "10283763741837486654"
     },
     "user_tz": -480
    },
    "id": "ay3WkYnHVaVE",
    "papermill": {
     "duration": 0.0189,
     "end_time": "2022-02-23T10:03:06.279758",
     "exception": false,
     "start_time": "2022-02-23T10:03:06.260858",
     "status": "completed"
    },
    "tags": []
   },
   "outputs": [],
   "source": [
    "_exp_name = \"resnet\""
   ]
  },
  {
   "cell_type": "code",
   "execution_count": 31,
   "metadata": {
    "execution": {
     "iopub.execute_input": "2023-04-11T12:41:26.224108Z",
     "iopub.status.busy": "2023-04-11T12:41:26.223322Z",
     "iopub.status.idle": "2023-04-11T12:41:27.529474Z",
     "shell.execute_reply": "2023-04-11T12:41:27.528373Z",
     "shell.execute_reply.started": "2023-04-11T12:41:26.224062Z"
    },
    "executionInfo": {
     "elapsed": 3801,
     "status": "ok",
     "timestamp": 1681163072385,
     "user": {
      "displayName": "Nick Wu",
      "userId": "10283763741837486654"
     },
     "user_tz": -480
    },
    "id": "CwOGtRWHVaVF",
    "papermill": {
     "duration": 1.654263,
     "end_time": "2022-02-23T10:03:07.947242",
     "exception": false,
     "start_time": "2022-02-23T10:03:06.292979",
     "status": "completed"
    },
    "tags": []
   },
   "outputs": [],
   "source": [
    "# Import necessary packages.\n",
    "import numpy as np\n",
    "import pandas as pd\n",
    "import torch\n",
    "import os\n",
    "import torch.nn as nn\n",
    "import torchvision.transforms as transforms\n",
    "from PIL import Image\n",
    "from torch.utils.data import DataLoader, Dataset\n",
    "from tqdm import tqdm\n",
    "import random\n",
    "import wandb"
   ]
  },
  {
   "cell_type": "code",
   "execution_count": 32,
   "metadata": {},
   "outputs": [
    {
     "name": "stdout",
     "output_type": "stream",
     "text": [
      "CNN1.5_best.ckpt\tCNN4_fold_1_log.txt\tprediction_CNN1_dropout.csv\r\n",
      "CNN1.5.ipynb\t\tCNN4_fold_2_log.txt\tprediction_CNN1_noBN.csv\r\n",
      "CNN1.5_log.txt\t\tCNN4_fold_3_log.txt\tprediction_CNN2.csv\r\n",
      "CNN1_dropout_best.ckpt\tCNN4_fold_4_log.txt\tprediction_CNN3.csv\r\n",
      "CNN1_dropout.ipynb\tcnn-resnet_focal.ipynb\tprediction_CNN4.csv\r\n",
      "CNN1_dropout_log.txt\tcnn-resnet.ipynb\tprediction_resnet.csv\r\n",
      "CNN1.ipynb\t\tFold_1_best.ckpt\tresnet1.ipynb\r\n",
      "CNN1_log.txt\t\tFold_2_best.ckpt\tresnet2.ipynb\r\n",
      "CNN1_noBN_best.ckpt\tFold_3_best.ckpt\tresnet_fold_1_log.txt\r\n",
      "CNN1_noBN.ipynb\t\tFold_4_best.ckpt\tresnet_fold_2_log.txt\r\n",
      "CNN2_best.ckpt\t\tfood-11\t\t\tresnet_fold_3_log.txt\r\n",
      "CNN2.ipynb\t\tfood-11.zip\t\tresnet_fold_4_log.txt\r\n",
      "CNN2_log.txt\t\tkey.txt\t\t\tresnet.ipynb\r\n",
      "CNN3_fold_1_log.txt\t__MACOSX\t\ttrue_labels.csv\r\n",
      "CNN3_fold_2_log.txt\tMLP\t\t\twandb\r\n",
      "CNN3_fold_3_log.txt\tprediction_CNN1.5.csv\txgb_gridsearch.ipynb\r\n",
      "CNN3_fold_4_log.txt\tprediction_CNN1.csv\txgb_gridsearch.py\r\n"
     ]
    }
   ],
   "source": [
    "! ls"
   ]
  },
  {
   "cell_type": "code",
   "execution_count": 33,
   "metadata": {
    "execution": {
     "iopub.execute_input": "2023-04-11T12:41:29.044227Z",
     "iopub.status.busy": "2023-04-11T12:41:29.043119Z",
     "iopub.status.idle": "2023-04-11T12:41:29.111363Z",
     "shell.execute_reply": "2023-04-11T12:41:29.110296Z",
     "shell.execute_reply.started": "2023-04-11T12:41:29.044187Z"
    },
    "executionInfo": {
     "elapsed": 6,
     "status": "ok",
     "timestamp": 1681163072385,
     "user": {
      "displayName": "Nick Wu",
      "userId": "10283763741837486654"
     },
     "user_tz": -480
    },
    "id": "8kJm9GekVaVH",
    "papermill": {
     "duration": 0.078771,
     "end_time": "2022-02-23T10:03:08.039428",
     "exception": false,
     "start_time": "2022-02-23T10:03:07.960657",
     "status": "completed"
    },
    "tags": []
   },
   "outputs": [],
   "source": [
    "myseed = 4012  # set a random seed for reproducibility\n",
    "torch.backends.cudnn.deterministic = True\n",
    "torch.backends.cudnn.benchmark = False\n",
    "np.random.seed(myseed)\n",
    "torch.manual_seed(myseed)\n",
    "if torch.cuda.is_available():\n",
    "    torch.cuda.manual_seed_all(myseed)"
   ]
  },
  {
   "attachments": {},
   "cell_type": "markdown",
   "metadata": {
    "id": "d9MVtgbSVaVH",
    "papermill": {
     "duration": 0.01289,
     "end_time": "2022-02-23T10:03:08.065357",
     "exception": false,
     "start_time": "2022-02-23T10:03:08.052467",
     "status": "completed"
    },
    "tags": []
   },
   "source": [
    "## **Transforms**\n",
    "Torchvision provides lots of useful utilities for image preprocessing, data wrapping as well as data augmentation.\n",
    "\n",
    "Please refer to PyTorch official website for details about different transforms."
   ]
  },
  {
   "cell_type": "code",
   "execution_count": 34,
   "metadata": {
    "execution": {
     "iopub.execute_input": "2023-04-11T12:41:31.984491Z",
     "iopub.status.busy": "2023-04-11T12:41:31.983886Z",
     "iopub.status.idle": "2023-04-11T12:41:31.991880Z",
     "shell.execute_reply": "2023-04-11T12:41:31.990669Z",
     "shell.execute_reply.started": "2023-04-11T12:41:31.984446Z"
    },
    "executionInfo": {
     "elapsed": 6,
     "status": "ok",
     "timestamp": 1681163072386,
     "user": {
      "displayName": "Nick Wu",
      "userId": "10283763741837486654"
     },
     "user_tz": -480
    },
    "id": "jvI3Xmq4VaVJ",
    "papermill": {
     "duration": 0.021406,
     "end_time": "2022-02-23T10:03:08.099437",
     "exception": false,
     "start_time": "2022-02-23T10:03:08.078031",
     "status": "completed"
    },
    "tags": []
   },
   "outputs": [],
   "source": [
    "test_tfm = transforms.Compose([\n",
    "    # (height = width = 128)\n",
    "    transforms.Resize((128, 128)),\n",
    "    transforms.ToTensor(),\n",
    "])\n",
    "\n",
    "train_tfm = transforms.Compose([\n",
    "    # (height = width = 128)\n",
    "    #transforms.CenterCrop()\n",
    "    transforms.RandomResizedCrop((128, 128), scale=(0.7, 1.0)),\n",
    "    #transforms.AutoAugment(transforms.AutoAugmentPolicy.IMAGENET),\n",
    "    #transforms.Normalize((0.485, 0.456, 0.406), (0.229, 0.224, 0.225)),\n",
    "    transforms.RandomHorizontalFlip(0.5),\n",
    "    transforms.RandomVerticalFlip(0.5),\n",
    "    transforms.RandomRotation(180),\n",
    "    transforms.RandomAffine(30),\n",
    "    #transforms.RandomInvert(p=0.2),\n",
    "    #transforms.RandomPosterize(bits=2),\n",
    "    #transforms.RandomSolarize(threshold=192.0, p=0.2),\n",
    "    #transforms.RandomEqualize(p=0.2),\n",
    "    transforms.RandomGrayscale(p=0.2),\n",
    "    transforms.ToTensor(),\n",
    "    #transforms.RandomApply(torch.nn.ModuleList([]))\n",
    "])\n"
   ]
  },
  {
   "attachments": {},
   "cell_type": "markdown",
   "metadata": {
    "id": "D0ivMf-jVaVK",
    "papermill": {
     "duration": 0.012739,
     "end_time": "2022-02-23T10:03:08.125181",
     "exception": false,
     "start_time": "2022-02-23T10:03:08.112442",
     "status": "completed"
    },
    "tags": []
   },
   "source": [
    "## **Datasets**\n",
    "The data is labelled by the name, so we load images and label while calling '__getitem__'"
   ]
  },
  {
   "cell_type": "code",
   "execution_count": 35,
   "metadata": {
    "execution": {
     "iopub.execute_input": "2023-04-11T12:41:35.784394Z",
     "iopub.status.busy": "2023-04-11T12:41:35.783680Z",
     "iopub.status.idle": "2023-04-11T12:41:35.792482Z",
     "shell.execute_reply": "2023-04-11T12:41:35.791489Z",
     "shell.execute_reply.started": "2023-04-11T12:41:35.784357Z"
    },
    "executionInfo": {
     "elapsed": 2,
     "status": "ok",
     "timestamp": 1681163435334,
     "user": {
      "displayName": "Nick Wu",
      "userId": "10283763741837486654"
     },
     "user_tz": -480
    },
    "id": "xBdtPhKwVaVL",
    "papermill": {
     "duration": 0.023022,
     "end_time": "2022-02-23T10:03:08.160912",
     "exception": false,
     "start_time": "2022-02-23T10:03:08.13789",
     "status": "completed"
    },
    "tags": []
   },
   "outputs": [],
   "source": [
    "class FoodDataset(Dataset):\n",
    "\n",
    "    def __init__(self,path=None,tfm=test_tfm,files=None):\n",
    "        super(FoodDataset).__init__()\n",
    "        self.path = path\n",
    "        if path:\n",
    "            self.files = sorted([os.path.join(path, x) for x in os.listdir(path) if x.endswith(\".jpg\")])\n",
    "        else:\n",
    "            self.files = files\n",
    "        self.transform = tfm\n",
    "  \n",
    "    def __len__(self):\n",
    "        return len(self.files)\n",
    "  \n",
    "    def __getitem__(self,idx):\n",
    "        fname = self.files[idx]\n",
    "        im = Image.open(fname)\n",
    "        im = self.transform(im)\n",
    "        #im = self.data[idx]\n",
    "        try:\n",
    "            label = int(fname.split(\"/\")[-1].split(\"_\")[0])\n",
    "        except:\n",
    "            label = -1 # test has no label\n",
    "        return im,label"
   ]
  },
  {
   "cell_type": "code",
   "execution_count": 36,
   "metadata": {
    "execution": {
     "iopub.execute_input": "2023-04-11T12:43:00.729889Z",
     "iopub.status.busy": "2023-04-11T12:43:00.728781Z",
     "iopub.status.idle": "2023-04-11T12:43:00.747959Z",
     "shell.execute_reply": "2023-04-11T12:43:00.746833Z",
     "shell.execute_reply.started": "2023-04-11T12:43:00.729848Z"
    },
    "executionInfo": {
     "elapsed": 4,
     "status": "ok",
     "timestamp": 1681163078591,
     "user": {
      "displayName": "Nick Wu",
      "userId": "10283763741837486654"
     },
     "user_tz": -480
    },
    "id": "b_kDECOJVaVL",
    "papermill": {
     "duration": 0.0258,
     "end_time": "2022-02-23T10:03:08.199437",
     "exception": false,
     "start_time": "2022-02-23T10:03:08.173637",
     "status": "completed"
    },
    "tags": []
   },
   "outputs": [],
   "source": [
    "class Residual_Block(nn.Module):\n",
    "    def __init__(self, ic, oc, stride=1):\n",
    "        # torch.nn.Conv2d(in_channels, out_channels, kernel_size, stride, padding)\n",
    "        # torch.nn.MaxPool2d(kernel_size, stride, padding)\n",
    "        super().__init__()\n",
    "        self.conv1 = nn.Sequential(\n",
    "            nn.Conv2d(ic, oc, kernel_size=3, stride=stride, padding=1),\n",
    "            nn.BatchNorm2d(oc),\n",
    "            nn.ReLU(inplace=True)\n",
    "        )\n",
    "        \n",
    "        self.conv2 = nn.Sequential(\n",
    "            nn.Conv2d(oc, oc, kernel_size=3, stride=1, padding=1),\n",
    "            nn.BatchNorm2d(oc),\n",
    "        )\n",
    "        \n",
    "        self.relu = nn.ReLU(inplace=True)\n",
    "    \n",
    "        self.downsample = None\n",
    "        if stride != 1 or (ic != oc):\n",
    "            self.downsample = nn.Sequential(\n",
    "                nn.Conv2d(ic, oc, kernel_size=1, stride=stride),\n",
    "                nn.BatchNorm2d(oc),\n",
    "            )\n",
    "        \n",
    "    def forward(self, x):\n",
    "        residual = x\n",
    "        out = self.conv1(x)\n",
    "        out = self.conv2(out)\n",
    "        \n",
    "        if self.downsample:\n",
    "            residual = self.downsample(x)\n",
    "            \n",
    "        out += residual\n",
    "        return self.relu(out)\n",
    "\n",
    "class Classifier(nn.Module):\n",
    "    def __init__(self, block, num_layers, num_classes=11):\n",
    "        super().__init__()\n",
    "        self.preconv = nn.Sequential(\n",
    "            nn.Conv2d(3, 32, kernel_size=7, stride=2, padding=3, bias=False),\n",
    "            nn.BatchNorm2d(32),\n",
    "            nn.ReLU(inplace=True),\n",
    "        )\n",
    "        \n",
    "        self.layer0 = self.make_residual(block, 32, 64,  num_layers[0], stride=2)\n",
    "        self.layer1 = self.make_residual(block, 64, 128, num_layers[1], stride=2)\n",
    "        self.layer2 = self.make_residual(block, 128, 256, num_layers[2], stride=2)\n",
    "        self.layer3 = self.make_residual(block, 256, 512, num_layers[3], stride=2)\n",
    "        \n",
    "#         self.avgpool = nn.AvgPool2d(2)\n",
    "        \n",
    "        self.fc = nn.Sequential(            \n",
    "            nn.Dropout(0.4),\n",
    "            nn.Linear(512*4*4, 512),\n",
    "            nn.BatchNorm1d(512),\n",
    "            nn.ReLU(inplace=True),\n",
    "            nn.Dropout(0.2),\n",
    "            nn.Linear(512, 11),\n",
    "        )\n",
    "        \n",
    "        \n",
    "    def make_residual(self, block, ic, oc, num_layer, stride=1):\n",
    "        layers = []\n",
    "        layers.append(block(ic, oc, stride))\n",
    "        for i in range(1, num_layer):\n",
    "            layers.append(block(oc, oc))\n",
    "        return nn.Sequential(*layers)\n",
    "    \n",
    "    def forward(self, x):\n",
    "        # [3, 128, 128]\n",
    "        out = self.preconv(x)  # [32, 64, 64]\n",
    "        out = self.layer0(out) # [64, 32, 32]\n",
    "        out = self.layer1(out) # [128, 16, 16]\n",
    "        out = self.layer2(out) # [256, 8, 8]\n",
    "        out = self.layer3(out) # [512, 4, 4]\n",
    "#         out = self.avgpool(out) # [512, 2, 2]\n",
    "        out = self.fc(out.view(out.size(0), -1)) \n",
    "        return out"
   ]
  },
  {
   "cell_type": "code",
   "execution_count": 37,
   "metadata": {
    "execution": {
     "iopub.execute_input": "2023-04-11T12:43:06.183667Z",
     "iopub.status.busy": "2023-04-11T12:43:06.182615Z",
     "iopub.status.idle": "2023-04-11T12:43:06.190014Z",
     "shell.execute_reply": "2023-04-11T12:43:06.188866Z",
     "shell.execute_reply.started": "2023-04-11T12:43:06.183592Z"
    },
    "executionInfo": {
     "elapsed": 3,
     "status": "ok",
     "timestamp": 1681163090164,
     "user": {
      "displayName": "Nick Wu",
      "userId": "10283763741837486654"
     },
     "user_tz": -480
    },
    "id": "raSJc5-bCtqV"
   },
   "outputs": [],
   "source": [
    "batch_size = 128\n",
    "num_layers = [2, 4, 4, 1] # residual number layers\n",
    "\n",
    "n_epochs = 300\n",
    "patience = 20 # If no improvement in 'patience' epochs, early stop\n",
    "\n",
    "k_fold = 4"
   ]
  },
  {
   "cell_type": "code",
   "execution_count": 38,
   "metadata": {
    "execution": {
     "iopub.execute_input": "2023-04-11T12:43:09.734189Z",
     "iopub.status.busy": "2023-04-11T12:43:09.733174Z",
     "iopub.status.idle": "2023-04-11T12:43:09.778245Z",
     "shell.execute_reply": "2023-04-11T12:43:09.777168Z",
     "shell.execute_reply.started": "2023-04-11T12:43:09.734136Z"
    },
    "executionInfo": {
     "elapsed": 3,
     "status": "ok",
     "timestamp": 1681163295457,
     "user": {
      "displayName": "Nick Wu",
      "userId": "10283763741837486654"
     },
     "user_tz": -480
    },
    "id": "2_OeWtstVaVO",
    "papermill": {
     "duration": 0.054295,
     "end_time": "2022-02-23T10:03:08.266338",
     "exception": false,
     "start_time": "2022-02-23T10:03:08.212043",
     "status": "completed"
    },
    "tags": []
   },
   "outputs": [
    {
     "data": {
      "text/plain": [
       "13296"
      ]
     },
     "execution_count": 38,
     "metadata": {},
     "output_type": "execute_result"
    }
   ],
   "source": [
    "train_dir = \"./food-11/training\"\n",
    "val_dir = \"./food-11/validation\"\n",
    "\n",
    "train_files = [os.path.join(train_dir, x) for x in os.listdir(train_dir) if x.endswith('.jpg')]\n",
    "val_files = [os.path.join(val_dir, x) for x in os.listdir(val_dir) if x.endswith('.jpg')]\n",
    "total_files = train_files + val_files\n",
    "random.seed(myseed)\n",
    "random.shuffle(total_files)\n",
    "\n",
    "num = len(total_files) // k_fold\n",
    "len(total_files)"
   ]
  },
  {
   "cell_type": "code",
   "execution_count": 39,
   "metadata": {
    "colab": {
     "base_uri": "https://localhost:8080/"
    },
    "execution": {
     "iopub.execute_input": "2023-04-11T12:43:12.357181Z",
     "iopub.status.busy": "2023-04-11T12:43:12.356757Z"
    },
    "id": "Lp3y_ITOEUN_",
    "outputId": "3d1b7e03-d1bc-4c0f-abce-26666362f789",
    "scrolled": true
   },
   "outputs": [
    {
     "name": "stdout",
     "output_type": "stream",
     "text": [
      "cuda\n",
      "\n",
      "\n",
      "Starting Fold: 1 ********************************************\n",
      "cuda:0\n"
     ]
    },
    {
     "data": {
      "text/html": [
       "Finishing last run (ID:q6myywz0) before initializing another..."
      ],
      "text/plain": [
       "<IPython.core.display.HTML object>"
      ]
     },
     "metadata": {},
     "output_type": "display_data"
    },
    {
     "data": {
      "text/html": [
       "Waiting for W&B process to finish... <strong style=\"color:green\">(success).</strong>"
      ],
      "text/plain": [
       "<IPython.core.display.HTML object>"
      ]
     },
     "metadata": {},
     "output_type": "display_data"
    },
    {
     "data": {
      "application/vnd.jupyter.widget-view+json": {
       "model_id": "a3fc40040200443092766bb83e99c709",
       "version_major": 2,
       "version_minor": 0
      },
      "text/plain": [
       "VBox(children=(Label(value='0.002 MB of 0.002 MB uploaded (0.000 MB deduped)\\r'), FloatProgress(value=1.0, max…"
      ]
     },
     "metadata": {},
     "output_type": "display_data"
    },
    {
     "data": {
      "text/html": [
       " View run <strong style=\"color:#cdcd00\">classic-terrain-21</strong> at: <a href='https://wandb.ai/nickwkt/Food-11/runs/q6myywz0' target=\"_blank\">https://wandb.ai/nickwkt/Food-11/runs/q6myywz0</a><br/>Synced 6 W&B file(s), 0 media file(s), 0 artifact file(s) and 0 other file(s)"
      ],
      "text/plain": [
       "<IPython.core.display.HTML object>"
      ]
     },
     "metadata": {},
     "output_type": "display_data"
    },
    {
     "data": {
      "text/html": [
       "Find logs at: <code>./wandb/run-20230414_153616-q6myywz0/logs</code>"
      ],
      "text/plain": [
       "<IPython.core.display.HTML object>"
      ]
     },
     "metadata": {},
     "output_type": "display_data"
    },
    {
     "data": {
      "text/html": [
       "Successfully finished last run (ID:q6myywz0). Initializing new run:<br/>"
      ],
      "text/plain": [
       "<IPython.core.display.HTML object>"
      ]
     },
     "metadata": {},
     "output_type": "display_data"
    },
    {
     "data": {
      "application/vnd.jupyter.widget-view+json": {
       "model_id": "7f5970e40c3a45249e482803b6c6e8d8",
       "version_major": 2,
       "version_minor": 0
      },
      "text/plain": [
       "VBox(children=(Label(value='Waiting for wandb.init()...\\r'), FloatProgress(value=0.016668540833052248, max=1.0…"
      ]
     },
     "metadata": {},
     "output_type": "display_data"
    },
    {
     "data": {
      "text/html": [
       "Tracking run with wandb version 0.14.2"
      ],
      "text/plain": [
       "<IPython.core.display.HTML object>"
      ]
     },
     "metadata": {},
     "output_type": "display_data"
    },
    {
     "data": {
      "text/html": [
       "Run data is saved locally in <code>/home/user/jupyter_file/wandb/run-20230414_153920-nfh4w54y</code>"
      ],
      "text/plain": [
       "<IPython.core.display.HTML object>"
      ]
     },
     "metadata": {},
     "output_type": "display_data"
    },
    {
     "data": {
      "text/html": [
       "Syncing run <strong><a href='https://wandb.ai/nickwkt/Food-11/runs/nfh4w54y' target=\"_blank\">celestial-fog-22</a></strong> to <a href='https://wandb.ai/nickwkt/Food-11' target=\"_blank\">Weights & Biases</a> (<a href='https://wandb.me/run' target=\"_blank\">docs</a>)<br/>"
      ],
      "text/plain": [
       "<IPython.core.display.HTML object>"
      ]
     },
     "metadata": {},
     "output_type": "display_data"
    },
    {
     "data": {
      "text/html": [
       " View project at <a href='https://wandb.ai/nickwkt/Food-11' target=\"_blank\">https://wandb.ai/nickwkt/Food-11</a>"
      ],
      "text/plain": [
       "<IPython.core.display.HTML object>"
      ]
     },
     "metadata": {},
     "output_type": "display_data"
    },
    {
     "data": {
      "text/html": [
       " View run at <a href='https://wandb.ai/nickwkt/Food-11/runs/nfh4w54y' target=\"_blank\">https://wandb.ai/nickwkt/Food-11/runs/nfh4w54y</a>"
      ],
      "text/plain": [
       "<IPython.core.display.HTML object>"
      ]
     },
     "metadata": {},
     "output_type": "display_data"
    },
    {
     "name": "stderr",
     "output_type": "stream",
     "text": [
      "T: 001/300: 100%|█| 78/78 [00:08<00:00,  8.89it/s, lr=0.0004, b_loss=2, b_acc=0.\n"
     ]
    },
    {
     "name": "stdout",
     "output_type": "stream",
     "text": [
      "[ Train | 001/300 ] loss = 2.14444, acc = 0.24079\n"
     ]
    },
    {
     "name": "stderr",
     "output_type": "stream",
     "text": [
      "V: 001/300: 100%|██████| 26/26 [00:02<00:00, 11.76it/s, v_loss=2.21, v_acc=0.27]\n"
     ]
    },
    {
     "name": "stdout",
     "output_type": "stream",
     "text": [
      "[ Valid | 001/300 ] loss = 2.20678, acc = 0.26954\n",
      "[ Valid | 001/300 ] loss = 2.20678, acc = 0.26954 -> best\n",
      "Best model found at fold 1 epoch 1, acc=0.26954, saving model\n"
     ]
    },
    {
     "name": "stderr",
     "output_type": "stream",
     "text": [
      "T: 002/300: 100%|█| 78/78 [00:08<00:00,  8.91it/s, lr=0.000398, b_loss=1.84, b_a\n"
     ]
    },
    {
     "name": "stdout",
     "output_type": "stream",
     "text": [
      "[ Train | 002/300 ] loss = 1.96700, acc = 0.30583\n"
     ]
    },
    {
     "name": "stderr",
     "output_type": "stream",
     "text": [
      "V: 002/300: 100%|█████| 26/26 [00:02<00:00, 10.80it/s, v_loss=2.12, v_acc=0.261]\n"
     ]
    },
    {
     "name": "stdout",
     "output_type": "stream",
     "text": [
      "[ Valid | 002/300 ] loss = 2.11739, acc = 0.26144\n",
      "[ Valid | 002/300 ] loss = 2.11739, acc = 0.26144\n"
     ]
    },
    {
     "name": "stderr",
     "output_type": "stream",
     "text": [
      "T: 003/300: 100%|█| 78/78 [00:08<00:00,  9.13it/s, lr=0.00039, b_loss=1.83, b_ac\n"
     ]
    },
    {
     "name": "stdout",
     "output_type": "stream",
     "text": [
      "[ Train | 003/300 ] loss = 1.90863, acc = 0.33258\n"
     ]
    },
    {
     "name": "stderr",
     "output_type": "stream",
     "text": [
      "V: 003/300: 100%|█████| 26/26 [00:02<00:00, 10.68it/s, v_loss=1.88, v_acc=0.329]\n"
     ]
    },
    {
     "name": "stdout",
     "output_type": "stream",
     "text": [
      "[ Valid | 003/300 ] loss = 1.87987, acc = 0.32854\n",
      "[ Valid | 003/300 ] loss = 1.87987, acc = 0.32854 -> best\n",
      "Best model found at fold 1 epoch 3, acc=0.32854, saving model\n"
     ]
    },
    {
     "name": "stderr",
     "output_type": "stream",
     "text": [
      "T: 004/300: 100%|█| 78/78 [00:08<00:00,  9.21it/s, lr=0.000378, b_loss=1.86, b_a\n"
     ]
    },
    {
     "name": "stdout",
     "output_type": "stream",
     "text": [
      "[ Train | 004/300 ] loss = 1.85128, acc = 0.34838\n"
     ]
    },
    {
     "name": "stderr",
     "output_type": "stream",
     "text": [
      "V: 004/300: 100%|█████| 26/26 [00:02<00:00, 11.41it/s, v_loss=2.14, v_acc=0.276]\n"
     ]
    },
    {
     "name": "stdout",
     "output_type": "stream",
     "text": [
      "[ Valid | 004/300 ] loss = 2.13743, acc = 0.27555\n",
      "[ Valid | 004/300 ] loss = 2.13743, acc = 0.27555\n"
     ]
    },
    {
     "name": "stderr",
     "output_type": "stream",
     "text": [
      "T: 005/300: 100%|█| 78/78 [00:08<00:00,  9.21it/s, lr=0.000362, b_loss=1.91, b_a\n"
     ]
    },
    {
     "name": "stdout",
     "output_type": "stream",
     "text": [
      "[ Train | 005/300 ] loss = 1.77582, acc = 0.37651\n"
     ]
    },
    {
     "name": "stderr",
     "output_type": "stream",
     "text": [
      "V: 005/300: 100%|███████| 26/26 [00:02<00:00, 11.04it/s, v_loss=1.75, v_acc=0.4]\n"
     ]
    },
    {
     "name": "stdout",
     "output_type": "stream",
     "text": [
      "[ Valid | 005/300 ] loss = 1.74996, acc = 0.40046\n",
      "[ Valid | 005/300 ] loss = 1.74996, acc = 0.40046 -> best\n",
      "Best model found at fold 1 epoch 5, acc=0.40046, saving model\n"
     ]
    },
    {
     "name": "stderr",
     "output_type": "stream",
     "text": [
      "T: 006/300: 100%|█| 78/78 [00:08<00:00,  9.14it/s, lr=0.000341, b_loss=1.52, b_a\n"
     ]
    },
    {
     "name": "stdout",
     "output_type": "stream",
     "text": [
      "[ Train | 006/300 ] loss = 1.69176, acc = 0.41118\n"
     ]
    },
    {
     "name": "stderr",
     "output_type": "stream",
     "text": [
      "V: 006/300: 100%|█████| 26/26 [00:02<00:00, 11.04it/s, v_loss=1.73, v_acc=0.398]\n"
     ]
    },
    {
     "name": "stdout",
     "output_type": "stream",
     "text": [
      "[ Valid | 006/300 ] loss = 1.72695, acc = 0.39803\n",
      "[ Valid | 006/300 ] loss = 1.72695, acc = 0.39803\n"
     ]
    },
    {
     "name": "stderr",
     "output_type": "stream",
     "text": [
      "T: 007/300: 100%|█| 78/78 [00:08<00:00,  8.79it/s, lr=0.000318, b_loss=1.66, b_a\n"
     ]
    },
    {
     "name": "stdout",
     "output_type": "stream",
     "text": [
      "[ Train | 007/300 ] loss = 1.64832, acc = 0.42416\n"
     ]
    },
    {
     "name": "stderr",
     "output_type": "stream",
     "text": [
      "V: 007/300: 100%|█████| 26/26 [00:02<00:00, 10.70it/s, v_loss=1.64, v_acc=0.435]\n"
     ]
    },
    {
     "name": "stdout",
     "output_type": "stream",
     "text": [
      "[ Valid | 007/300 ] loss = 1.64169, acc = 0.43507\n",
      "[ Valid | 007/300 ] loss = 1.64169, acc = 0.43507 -> best\n",
      "Best model found at fold 1 epoch 7, acc=0.43507, saving model\n"
     ]
    },
    {
     "name": "stderr",
     "output_type": "stream",
     "text": [
      "T: 008/300: 100%|█| 78/78 [00:08<00:00,  8.83it/s, lr=0.000291, b_loss=1.48, b_a\n"
     ]
    },
    {
     "name": "stdout",
     "output_type": "stream",
     "text": [
      "[ Train | 008/300 ] loss = 1.58938, acc = 0.44949\n"
     ]
    },
    {
     "name": "stderr",
     "output_type": "stream",
     "text": [
      "V: 008/300: 100%|██████| 26/26 [00:02<00:00, 10.72it/s, v_loss=1.75, v_acc=0.41]\n"
     ]
    },
    {
     "name": "stdout",
     "output_type": "stream",
     "text": [
      "[ Valid | 008/300 ] loss = 1.75415, acc = 0.41008\n",
      "[ Valid | 008/300 ] loss = 1.75415, acc = 0.41008\n"
     ]
    },
    {
     "name": "stderr",
     "output_type": "stream",
     "text": [
      "T: 009/300: 100%|█| 78/78 [00:08<00:00,  8.78it/s, lr=0.000262, b_loss=1.59, b_a\n"
     ]
    },
    {
     "name": "stdout",
     "output_type": "stream",
     "text": [
      "[ Train | 009/300 ] loss = 1.53003, acc = 0.46837\n"
     ]
    },
    {
     "name": "stderr",
     "output_type": "stream",
     "text": [
      "V: 009/300: 100%|█████| 26/26 [00:02<00:00, 11.16it/s, v_loss=1.94, v_acc=0.363]\n"
     ]
    },
    {
     "name": "stdout",
     "output_type": "stream",
     "text": [
      "[ Valid | 009/300 ] loss = 1.94144, acc = 0.36287\n",
      "[ Valid | 009/300 ] loss = 1.94144, acc = 0.36287\n"
     ]
    },
    {
     "name": "stderr",
     "output_type": "stream",
     "text": [
      "T: 010/300: 100%|█| 78/78 [00:08<00:00,  8.98it/s, lr=0.000231, b_loss=1.48, b_a\n"
     ]
    },
    {
     "name": "stdout",
     "output_type": "stream",
     "text": [
      "[ Train | 010/300 ] loss = 1.47674, acc = 0.48919\n"
     ]
    },
    {
     "name": "stderr",
     "output_type": "stream",
     "text": [
      "V: 010/300: 100%|██████| 26/26 [00:02<00:00, 10.31it/s, v_loss=1.5, v_acc=0.482]\n"
     ]
    },
    {
     "name": "stdout",
     "output_type": "stream",
     "text": [
      "[ Valid | 010/300 ] loss = 1.50049, acc = 0.48165\n",
      "[ Valid | 010/300 ] loss = 1.50049, acc = 0.48165 -> best\n",
      "Best model found at fold 1 epoch 10, acc=0.48165, saving model\n"
     ]
    },
    {
     "name": "stderr",
     "output_type": "stream",
     "text": [
      "T: 011/300: 100%|█| 78/78 [00:08<00:00,  8.73it/s, lr=0.0002, b_loss=1.28, b_acc\n"
     ]
    },
    {
     "name": "stdout",
     "output_type": "stream",
     "text": [
      "[ Train | 011/300 ] loss = 1.41270, acc = 0.51317\n"
     ]
    },
    {
     "name": "stderr",
     "output_type": "stream",
     "text": [
      "V: 011/300: 100%|█████| 26/26 [00:02<00:00, 11.34it/s, v_loss=1.38, v_acc=0.518]\n"
     ]
    },
    {
     "name": "stdout",
     "output_type": "stream",
     "text": [
      "[ Valid | 011/300 ] loss = 1.38181, acc = 0.51771\n",
      "[ Valid | 011/300 ] loss = 1.38181, acc = 0.51771 -> best\n",
      "Best model found at fold 1 epoch 11, acc=0.51771, saving model\n"
     ]
    },
    {
     "name": "stderr",
     "output_type": "stream",
     "text": [
      "T: 012/300: 100%|█| 78/78 [00:08<00:00,  9.09it/s, lr=0.000169, b_loss=1.27, b_a\n"
     ]
    },
    {
     "name": "stdout",
     "output_type": "stream",
     "text": [
      "[ Train | 012/300 ] loss = 1.34863, acc = 0.52499\n"
     ]
    },
    {
     "name": "stderr",
     "output_type": "stream",
     "text": [
      "V: 012/300: 100%|█████| 26/26 [00:02<00:00, 11.21it/s, v_loss=1.58, v_acc=0.461]\n"
     ]
    },
    {
     "name": "stdout",
     "output_type": "stream",
     "text": [
      "[ Valid | 012/300 ] loss = 1.58096, acc = 0.46117\n",
      "[ Valid | 012/300 ] loss = 1.58096, acc = 0.46117\n"
     ]
    },
    {
     "name": "stderr",
     "output_type": "stream",
     "text": [
      "T: 013/300: 100%|█| 78/78 [00:08<00:00,  9.05it/s, lr=0.000138, b_loss=1.16, b_a\n"
     ]
    },
    {
     "name": "stdout",
     "output_type": "stream",
     "text": [
      "[ Train | 013/300 ] loss = 1.31178, acc = 0.54368\n"
     ]
    },
    {
     "name": "stderr",
     "output_type": "stream",
     "text": [
      "V: 013/300: 100%|█████| 26/26 [00:02<00:00, 11.33it/s, v_loss=1.33, v_acc=0.538]\n"
     ]
    },
    {
     "name": "stdout",
     "output_type": "stream",
     "text": [
      "[ Valid | 013/300 ] loss = 1.33151, acc = 0.53826\n",
      "[ Valid | 013/300 ] loss = 1.33151, acc = 0.53826 -> best\n",
      "Best model found at fold 1 epoch 13, acc=0.53826, saving model\n"
     ]
    },
    {
     "name": "stderr",
     "output_type": "stream",
     "text": [
      "T: 014/300: 100%|█| 78/78 [00:08<00:00,  8.87it/s, lr=0.000109, b_loss=1.21, b_a\n"
     ]
    },
    {
     "name": "stdout",
     "output_type": "stream",
     "text": [
      "[ Train | 014/300 ] loss = 1.25086, acc = 0.56919\n"
     ]
    },
    {
     "name": "stderr",
     "output_type": "stream",
     "text": [
      "V: 014/300: 100%|██████| 26/26 [00:02<00:00, 10.51it/s, v_loss=1.25, v_acc=0.57]\n"
     ]
    },
    {
     "name": "stdout",
     "output_type": "stream",
     "text": [
      "[ Valid | 014/300 ] loss = 1.25398, acc = 0.56977\n",
      "[ Valid | 014/300 ] loss = 1.25398, acc = 0.56977 -> best\n",
      "Best model found at fold 1 epoch 14, acc=0.56977, saving model\n"
     ]
    },
    {
     "name": "stderr",
     "output_type": "stream",
     "text": [
      "T: 015/300: 100%|█| 78/78 [00:09<00:00,  8.54it/s, lr=8.24e-5, b_loss=1.16, b_ac\n"
     ]
    },
    {
     "name": "stdout",
     "output_type": "stream",
     "text": [
      "[ Train | 015/300 ] loss = 1.22218, acc = 0.58103\n"
     ]
    },
    {
     "name": "stderr",
     "output_type": "stream",
     "text": [
      "V: 015/300: 100%|██████| 26/26 [00:02<00:00, 10.36it/s, v_loss=1.23, v_acc=0.59]\n"
     ]
    },
    {
     "name": "stdout",
     "output_type": "stream",
     "text": [
      "[ Valid | 015/300 ] loss = 1.23353, acc = 0.58967\n",
      "[ Valid | 015/300 ] loss = 1.23353, acc = 0.58967 -> best\n",
      "Best model found at fold 1 epoch 15, acc=0.58967, saving model\n"
     ]
    },
    {
     "name": "stderr",
     "output_type": "stream",
     "text": [
      "T: 016/300: 100%|█| 78/78 [00:08<00:00,  8.82it/s, lr=5.86e-5, b_loss=1.31, b_ac\n"
     ]
    },
    {
     "name": "stdout",
     "output_type": "stream",
     "text": [
      "[ Train | 016/300 ] loss = 1.18133, acc = 0.58733\n"
     ]
    },
    {
     "name": "stderr",
     "output_type": "stream",
     "text": [
      "V: 016/300: 100%|█████| 26/26 [00:02<00:00, 11.45it/s, v_loss=1.17, v_acc=0.597]\n"
     ]
    },
    {
     "name": "stdout",
     "output_type": "stream",
     "text": [
      "[ Valid | 016/300 ] loss = 1.16936, acc = 0.59685\n",
      "[ Valid | 016/300 ] loss = 1.16936, acc = 0.59685 -> best\n",
      "Best model found at fold 1 epoch 16, acc=0.59685, saving model\n"
     ]
    },
    {
     "name": "stderr",
     "output_type": "stream",
     "text": [
      "T: 017/300: 100%|█| 78/78 [00:08<00:00,  8.87it/s, lr=3.82e-5, b_loss=1.15, b_ac\n"
     ]
    },
    {
     "name": "stdout",
     "output_type": "stream",
     "text": [
      "[ Train | 017/300 ] loss = 1.13848, acc = 0.60661\n"
     ]
    },
    {
     "name": "stderr",
     "output_type": "stream",
     "text": [
      "V: 017/300: 100%|█████| 26/26 [00:02<00:00, 10.73it/s, v_loss=1.15, v_acc=0.603]\n"
     ]
    },
    {
     "name": "stdout",
     "output_type": "stream",
     "text": [
      "[ Valid | 017/300 ] loss = 1.14592, acc = 0.60323\n",
      "[ Valid | 017/300 ] loss = 1.14592, acc = 0.60323 -> best\n",
      "Best model found at fold 1 epoch 17, acc=0.60323, saving model\n"
     ]
    },
    {
     "name": "stderr",
     "output_type": "stream",
     "text": [
      "T: 018/300: 100%|█| 78/78 [00:08<00:00,  8.78it/s, lr=2.18e-5, b_loss=1.12, b_ac\n"
     ]
    },
    {
     "name": "stdout",
     "output_type": "stream",
     "text": [
      "[ Train | 018/300 ] loss = 1.11500, acc = 0.61766\n"
     ]
    },
    {
     "name": "stderr",
     "output_type": "stream",
     "text": [
      "V: 018/300: 100%|██████| 26/26 [00:02<00:00, 10.14it/s, v_loss=1.1, v_acc=0.628]\n"
     ]
    },
    {
     "name": "stdout",
     "output_type": "stream",
     "text": [
      "[ Valid | 018/300 ] loss = 1.09596, acc = 0.62820\n",
      "[ Valid | 018/300 ] loss = 1.09596, acc = 0.62820 -> best\n",
      "Best model found at fold 1 epoch 18, acc=0.62820, saving model\n"
     ]
    },
    {
     "name": "stderr",
     "output_type": "stream",
     "text": [
      "T: 019/300: 100%|█| 78/78 [00:08<00:00,  8.81it/s, lr=9.79e-6, b_loss=1.03, b_ac\n"
     ]
    },
    {
     "name": "stdout",
     "output_type": "stream",
     "text": [
      "[ Train | 019/300 ] loss = 1.09553, acc = 0.62300\n"
     ]
    },
    {
     "name": "stderr",
     "output_type": "stream",
     "text": [
      "V: 019/300: 100%|██████| 26/26 [00:02<00:00, 10.30it/s, v_loss=1.1, v_acc=0.625]\n"
     ]
    },
    {
     "name": "stdout",
     "output_type": "stream",
     "text": [
      "[ Valid | 019/300 ] loss = 1.09987, acc = 0.62475\n",
      "[ Valid | 019/300 ] loss = 1.09987, acc = 0.62475\n"
     ]
    },
    {
     "name": "stderr",
     "output_type": "stream",
     "text": [
      "T: 020/300: 100%|█| 78/78 [00:08<00:00,  8.95it/s, lr=2.46e-6, b_loss=1.15, b_ac\n"
     ]
    },
    {
     "name": "stdout",
     "output_type": "stream",
     "text": [
      "[ Train | 020/300 ] loss = 1.08798, acc = 0.62295\n"
     ]
    },
    {
     "name": "stderr",
     "output_type": "stream",
     "text": [
      "V: 020/300: 100%|█████| 26/26 [00:02<00:00, 10.40it/s, v_loss=1.09, v_acc=0.626]\n"
     ]
    },
    {
     "name": "stdout",
     "output_type": "stream",
     "text": [
      "[ Valid | 020/300 ] loss = 1.09435, acc = 0.62608\n",
      "[ Valid | 020/300 ] loss = 1.09435, acc = 0.62608\n"
     ]
    },
    {
     "name": "stderr",
     "output_type": "stream",
     "text": [
      "T: 021/300: 100%|█| 78/78 [00:08<00:00,  9.12it/s, lr=0.0004, b_loss=1.44, b_acc\n"
     ]
    },
    {
     "name": "stdout",
     "output_type": "stream",
     "text": [
      "[ Train | 021/300 ] loss = 1.36782, acc = 0.52874\n"
     ]
    },
    {
     "name": "stderr",
     "output_type": "stream",
     "text": [
      "V: 021/300: 100%|██████| 26/26 [00:02<00:00, 10.62it/s, v_loss=1.51, v_acc=0.49]\n"
     ]
    },
    {
     "name": "stdout",
     "output_type": "stream",
     "text": [
      "[ Valid | 021/300 ] loss = 1.50997, acc = 0.48952\n",
      "[ Valid | 021/300 ] loss = 1.50997, acc = 0.48952\n"
     ]
    },
    {
     "name": "stderr",
     "output_type": "stream",
     "text": [
      "T: 022/300: 100%|█| 78/78 [00:08<00:00,  8.90it/s, lr=0.000398, b_loss=1.32, b_a\n"
     ]
    },
    {
     "name": "stdout",
     "output_type": "stream",
     "text": [
      "[ Train | 022/300 ] loss = 1.34429, acc = 0.53572\n"
     ]
    },
    {
     "name": "stderr",
     "output_type": "stream",
     "text": [
      "V: 022/300: 100%|█████| 26/26 [00:02<00:00, 10.82it/s, v_loss=1.63, v_acc=0.444]\n"
     ]
    },
    {
     "name": "stdout",
     "output_type": "stream",
     "text": [
      "[ Valid | 022/300 ] loss = 1.62707, acc = 0.44377\n",
      "[ Valid | 022/300 ] loss = 1.62707, acc = 0.44377\n"
     ]
    },
    {
     "name": "stderr",
     "output_type": "stream",
     "text": [
      "T: 023/300: 100%|█| 78/78 [00:08<00:00,  9.08it/s, lr=0.00039, b_loss=1.35, b_ac\n"
     ]
    },
    {
     "name": "stdout",
     "output_type": "stream",
     "text": [
      "[ Train | 023/300 ] loss = 1.28842, acc = 0.55571\n"
     ]
    },
    {
     "name": "stderr",
     "output_type": "stream",
     "text": [
      "V: 023/300: 100%|█████| 26/26 [00:02<00:00, 11.96it/s, v_loss=1.68, v_acc=0.449]\n"
     ]
    },
    {
     "name": "stdout",
     "output_type": "stream",
     "text": [
      "[ Valid | 023/300 ] loss = 1.68182, acc = 0.44944\n",
      "[ Valid | 023/300 ] loss = 1.68182, acc = 0.44944\n"
     ]
    },
    {
     "name": "stderr",
     "output_type": "stream",
     "text": [
      "T: 024/300: 100%|█| 78/78 [00:08<00:00,  9.12it/s, lr=0.000378, b_loss=1.4, b_ac\n"
     ]
    },
    {
     "name": "stdout",
     "output_type": "stream",
     "text": [
      "[ Train | 024/300 ] loss = 1.24961, acc = 0.56881\n"
     ]
    },
    {
     "name": "stderr",
     "output_type": "stream",
     "text": [
      "V: 024/300: 100%|█████| 26/26 [00:02<00:00, 10.83it/s, v_loss=1.83, v_acc=0.416]\n"
     ]
    },
    {
     "name": "stdout",
     "output_type": "stream",
     "text": [
      "[ Valid | 024/300 ] loss = 1.82725, acc = 0.41579\n",
      "[ Valid | 024/300 ] loss = 1.82725, acc = 0.41579\n"
     ]
    },
    {
     "name": "stderr",
     "output_type": "stream",
     "text": [
      "T: 025/300: 100%|█| 78/78 [00:08<00:00,  9.04it/s, lr=0.000362, b_loss=1.29, b_a\n"
     ]
    },
    {
     "name": "stdout",
     "output_type": "stream",
     "text": [
      "[ Train | 025/300 ] loss = 1.22641, acc = 0.57975\n"
     ]
    },
    {
     "name": "stderr",
     "output_type": "stream",
     "text": [
      "V: 025/300: 100%|██████| 26/26 [00:02<00:00, 11.07it/s, v_loss=1.6, v_acc=0.479]\n"
     ]
    },
    {
     "name": "stdout",
     "output_type": "stream",
     "text": [
      "[ Valid | 025/300 ] loss = 1.59978, acc = 0.47851\n",
      "[ Valid | 025/300 ] loss = 1.59978, acc = 0.47851\n"
     ]
    },
    {
     "name": "stderr",
     "output_type": "stream",
     "text": [
      "T: 026/300: 100%|█| 78/78 [00:08<00:00,  9.22it/s, lr=0.000341, b_loss=1.29, b_a\n"
     ]
    },
    {
     "name": "stdout",
     "output_type": "stream",
     "text": [
      "[ Train | 026/300 ] loss = 1.17138, acc = 0.59328\n"
     ]
    },
    {
     "name": "stderr",
     "output_type": "stream",
     "text": [
      "V: 026/300: 100%|█████| 26/26 [00:02<00:00, 11.27it/s, v_loss=1.32, v_acc=0.563]\n"
     ]
    },
    {
     "name": "stdout",
     "output_type": "stream",
     "text": [
      "[ Valid | 026/300 ] loss = 1.31712, acc = 0.56315\n",
      "[ Valid | 026/300 ] loss = 1.31712, acc = 0.56315\n"
     ]
    },
    {
     "name": "stderr",
     "output_type": "stream",
     "text": [
      "T: 027/300: 100%|█| 78/78 [00:08<00:00,  9.12it/s, lr=0.000318, b_loss=1.05, b_a\n"
     ]
    },
    {
     "name": "stdout",
     "output_type": "stream",
     "text": [
      "[ Train | 027/300 ] loss = 1.15035, acc = 0.60215\n"
     ]
    },
    {
     "name": "stderr",
     "output_type": "stream",
     "text": [
      "V: 027/300: 100%|█████| 26/26 [00:02<00:00, 12.02it/s, v_loss=1.24, v_acc=0.575]\n"
     ]
    },
    {
     "name": "stdout",
     "output_type": "stream",
     "text": [
      "[ Valid | 027/300 ] loss = 1.24383, acc = 0.57454\n",
      "[ Valid | 027/300 ] loss = 1.24383, acc = 0.57454\n"
     ]
    },
    {
     "name": "stderr",
     "output_type": "stream",
     "text": [
      "T: 028/300: 100%|█| 78/78 [00:08<00:00,  9.02it/s, lr=0.000291, b_loss=1.23, b_a\n"
     ]
    },
    {
     "name": "stdout",
     "output_type": "stream",
     "text": [
      "[ Train | 028/300 ] loss = 1.11660, acc = 0.61185\n"
     ]
    },
    {
     "name": "stderr",
     "output_type": "stream",
     "text": [
      "V: 028/300: 100%|█████| 26/26 [00:02<00:00, 11.86it/s, v_loss=1.16, v_acc=0.601]\n"
     ]
    },
    {
     "name": "stdout",
     "output_type": "stream",
     "text": [
      "[ Valid | 028/300 ] loss = 1.16054, acc = 0.60076\n",
      "[ Valid | 028/300 ] loss = 1.16054, acc = 0.60076\n"
     ]
    },
    {
     "name": "stderr",
     "output_type": "stream",
     "text": [
      "T: 029/300: 100%|█| 78/78 [00:08<00:00,  8.99it/s, lr=0.000262, b_loss=1.15, b_a\n"
     ]
    },
    {
     "name": "stdout",
     "output_type": "stream",
     "text": [
      "[ Train | 029/300 ] loss = 1.07563, acc = 0.62979\n"
     ]
    },
    {
     "name": "stderr",
     "output_type": "stream",
     "text": [
      "V: 029/300: 100%|█████| 26/26 [00:02<00:00, 10.74it/s, v_loss=1.14, v_acc=0.621]\n"
     ]
    },
    {
     "name": "stdout",
     "output_type": "stream",
     "text": [
      "[ Valid | 029/300 ] loss = 1.13823, acc = 0.62118\n",
      "[ Valid | 029/300 ] loss = 1.13823, acc = 0.62118\n"
     ]
    },
    {
     "name": "stderr",
     "output_type": "stream",
     "text": [
      "T: 030/300: 100%|█| 78/78 [00:08<00:00,  8.86it/s, lr=0.000231, b_loss=0.999, b_\n"
     ]
    },
    {
     "name": "stdout",
     "output_type": "stream",
     "text": [
      "[ Train | 030/300 ] loss = 1.04320, acc = 0.63523\n"
     ]
    },
    {
     "name": "stderr",
     "output_type": "stream",
     "text": [
      "V: 030/300: 100%|█████| 26/26 [00:02<00:00, 11.08it/s, v_loss=1.24, v_acc=0.576]\n"
     ]
    },
    {
     "name": "stdout",
     "output_type": "stream",
     "text": [
      "[ Valid | 030/300 ] loss = 1.24152, acc = 0.57573\n",
      "[ Valid | 030/300 ] loss = 1.24152, acc = 0.57573\n"
     ]
    },
    {
     "name": "stderr",
     "output_type": "stream",
     "text": [
      "T: 031/300: 100%|█| 78/78 [00:08<00:00,  8.98it/s, lr=0.0002, b_loss=1, b_acc=0.\n"
     ]
    },
    {
     "name": "stdout",
     "output_type": "stream",
     "text": [
      "[ Train | 031/300 ] loss = 1.02118, acc = 0.65336\n"
     ]
    },
    {
     "name": "stderr",
     "output_type": "stream",
     "text": [
      "V: 031/300: 100%|█████| 26/26 [00:02<00:00, 11.90it/s, v_loss=1.07, v_acc=0.639]\n"
     ]
    },
    {
     "name": "stdout",
     "output_type": "stream",
     "text": [
      "[ Valid | 031/300 ] loss = 1.07266, acc = 0.63932\n",
      "[ Valid | 031/300 ] loss = 1.07266, acc = 0.63932 -> best\n",
      "Best model found at fold 1 epoch 31, acc=0.63932, saving model\n"
     ]
    },
    {
     "name": "stderr",
     "output_type": "stream",
     "text": [
      "T: 032/300: 100%|█| 78/78 [00:08<00:00,  9.03it/s, lr=0.000169, b_loss=0.938, b_\n"
     ]
    },
    {
     "name": "stdout",
     "output_type": "stream",
     "text": [
      "[ Train | 032/300 ] loss = 1.00079, acc = 0.65622\n"
     ]
    },
    {
     "name": "stderr",
     "output_type": "stream",
     "text": [
      "V: 032/300: 100%|█████| 26/26 [00:02<00:00, 11.14it/s, v_loss=1.04, v_acc=0.645]\n"
     ]
    },
    {
     "name": "stdout",
     "output_type": "stream",
     "text": [
      "[ Valid | 032/300 ] loss = 1.04112, acc = 0.64471\n",
      "[ Valid | 032/300 ] loss = 1.04112, acc = 0.64471 -> best\n",
      "Best model found at fold 1 epoch 32, acc=0.64471, saving model\n"
     ]
    },
    {
     "name": "stderr",
     "output_type": "stream",
     "text": [
      "T: 033/300: 100%|█| 78/78 [00:08<00:00,  8.95it/s, lr=0.000138, b_loss=0.828, b_\n"
     ]
    },
    {
     "name": "stdout",
     "output_type": "stream",
     "text": [
      "[ Train | 033/300 ] loss = 0.94765, acc = 0.67568\n"
     ]
    },
    {
     "name": "stderr",
     "output_type": "stream",
     "text": [
      "V: 033/300: 100%|█████| 26/26 [00:02<00:00, 10.87it/s, v_loss=0.98, v_acc=0.664]\n"
     ]
    },
    {
     "name": "stdout",
     "output_type": "stream",
     "text": [
      "[ Valid | 033/300 ] loss = 0.98000, acc = 0.66365\n",
      "[ Valid | 033/300 ] loss = 0.98000, acc = 0.66365 -> best\n",
      "Best model found at fold 1 epoch 33, acc=0.66365, saving model\n"
     ]
    },
    {
     "name": "stderr",
     "output_type": "stream",
     "text": [
      "T: 034/300: 100%|█| 78/78 [00:08<00:00,  9.21it/s, lr=0.000109, b_loss=0.993, b_\n"
     ]
    },
    {
     "name": "stdout",
     "output_type": "stream",
     "text": [
      "[ Train | 034/300 ] loss = 0.92757, acc = 0.67997\n"
     ]
    },
    {
     "name": "stderr",
     "output_type": "stream",
     "text": [
      "V: 034/300: 100%|████| 26/26 [00:02<00:00, 12.37it/s, v_loss=0.973, v_acc=0.666]\n"
     ]
    },
    {
     "name": "stdout",
     "output_type": "stream",
     "text": [
      "[ Valid | 034/300 ] loss = 0.97343, acc = 0.66573\n",
      "[ Valid | 034/300 ] loss = 0.97343, acc = 0.66573 -> best\n",
      "Best model found at fold 1 epoch 34, acc=0.66573, saving model\n"
     ]
    },
    {
     "name": "stderr",
     "output_type": "stream",
     "text": [
      "T: 035/300: 100%|█| 78/78 [00:08<00:00,  8.76it/s, lr=8.24e-5, b_loss=0.88, b_ac\n"
     ]
    },
    {
     "name": "stdout",
     "output_type": "stream",
     "text": [
      "[ Train | 035/300 ] loss = 0.91118, acc = 0.68519\n"
     ]
    },
    {
     "name": "stderr",
     "output_type": "stream",
     "text": [
      "V: 035/300: 100%|████| 26/26 [00:02<00:00, 10.90it/s, v_loss=0.981, v_acc=0.668]\n"
     ]
    },
    {
     "name": "stdout",
     "output_type": "stream",
     "text": [
      "[ Valid | 035/300 ] loss = 0.98127, acc = 0.66757\n",
      "[ Valid | 035/300 ] loss = 0.98127, acc = 0.66757 -> best\n",
      "Best model found at fold 1 epoch 35, acc=0.66757, saving model\n"
     ]
    },
    {
     "name": "stderr",
     "output_type": "stream",
     "text": [
      "T: 036/300: 100%|█| 78/78 [00:08<00:00,  8.95it/s, lr=5.86e-5, b_loss=0.843, b_a\n"
     ]
    },
    {
     "name": "stdout",
     "output_type": "stream",
     "text": [
      "[ Train | 036/300 ] loss = 0.87331, acc = 0.69664\n"
     ]
    },
    {
     "name": "stderr",
     "output_type": "stream",
     "text": [
      "V: 036/300: 100%|████| 26/26 [00:02<00:00, 10.99it/s, v_loss=0.914, v_acc=0.696]\n"
     ]
    },
    {
     "name": "stdout",
     "output_type": "stream",
     "text": [
      "[ Valid | 036/300 ] loss = 0.91394, acc = 0.69647\n",
      "[ Valid | 036/300 ] loss = 0.91394, acc = 0.69647 -> best\n",
      "Best model found at fold 1 epoch 36, acc=0.69647, saving model\n"
     ]
    },
    {
     "name": "stderr",
     "output_type": "stream",
     "text": [
      "T: 037/300: 100%|█| 78/78 [00:08<00:00,  9.06it/s, lr=3.82e-5, b_loss=0.868, b_a\n"
     ]
    },
    {
     "name": "stdout",
     "output_type": "stream",
     "text": [
      "[ Train | 037/300 ] loss = 0.85384, acc = 0.70490\n"
     ]
    },
    {
     "name": "stderr",
     "output_type": "stream",
     "text": [
      "V: 037/300: 100%|████| 26/26 [00:02<00:00, 10.56it/s, v_loss=0.894, v_acc=0.696]\n"
     ]
    },
    {
     "name": "stdout",
     "output_type": "stream",
     "text": [
      "[ Valid | 037/300 ] loss = 0.89397, acc = 0.69616\n",
      "[ Valid | 037/300 ] loss = 0.89397, acc = 0.69616\n"
     ]
    },
    {
     "name": "stderr",
     "output_type": "stream",
     "text": [
      "T: 038/300: 100%|█| 78/78 [00:08<00:00,  8.98it/s, lr=2.18e-5, b_loss=0.827, b_a\n"
     ]
    },
    {
     "name": "stdout",
     "output_type": "stream",
     "text": [
      "[ Train | 038/300 ] loss = 0.83628, acc = 0.70787\n"
     ]
    },
    {
     "name": "stderr",
     "output_type": "stream",
     "text": [
      "V: 038/300: 100%|████| 26/26 [00:02<00:00, 10.54it/s, v_loss=0.904, v_acc=0.693]\n"
     ]
    },
    {
     "name": "stdout",
     "output_type": "stream",
     "text": [
      "[ Valid | 038/300 ] loss = 0.90438, acc = 0.69314\n",
      "[ Valid | 038/300 ] loss = 0.90438, acc = 0.69314\n"
     ]
    },
    {
     "name": "stderr",
     "output_type": "stream",
     "text": [
      "T: 039/300: 100%|█| 78/78 [00:08<00:00,  8.89it/s, lr=9.79e-6, b_loss=0.908, b_a\n"
     ]
    },
    {
     "name": "stdout",
     "output_type": "stream",
     "text": [
      "[ Train | 039/300 ] loss = 0.82059, acc = 0.71964\n"
     ]
    },
    {
     "name": "stderr",
     "output_type": "stream",
     "text": [
      "V: 039/300: 100%|████| 26/26 [00:02<00:00, 11.26it/s, v_loss=0.884, v_acc=0.704]\n"
     ]
    },
    {
     "name": "stdout",
     "output_type": "stream",
     "text": [
      "[ Valid | 039/300 ] loss = 0.88397, acc = 0.70369\n",
      "[ Valid | 039/300 ] loss = 0.88397, acc = 0.70369 -> best\n",
      "Best model found at fold 1 epoch 39, acc=0.70369, saving model\n"
     ]
    },
    {
     "name": "stderr",
     "output_type": "stream",
     "text": [
      "T: 040/300: 100%|█| 78/78 [00:08<00:00,  8.91it/s, lr=2.46e-6, b_loss=0.825, b_a\n"
     ]
    },
    {
     "name": "stdout",
     "output_type": "stream",
     "text": [
      "[ Train | 040/300 ] loss = 0.82365, acc = 0.71994\n"
     ]
    },
    {
     "name": "stderr",
     "output_type": "stream",
     "text": [
      "V: 040/300: 100%|████| 26/26 [00:02<00:00, 11.24it/s, v_loss=0.882, v_acc=0.703]\n"
     ]
    },
    {
     "name": "stdout",
     "output_type": "stream",
     "text": [
      "[ Valid | 040/300 ] loss = 0.88210, acc = 0.70280\n",
      "[ Valid | 040/300 ] loss = 0.88210, acc = 0.70280\n"
     ]
    },
    {
     "name": "stderr",
     "output_type": "stream",
     "text": [
      "T: 041/300: 100%|█| 78/78 [00:08<00:00,  8.88it/s, lr=0.0004, b_loss=1.1, b_acc=\n"
     ]
    },
    {
     "name": "stdout",
     "output_type": "stream",
     "text": [
      "[ Train | 041/300 ] loss = 1.10061, acc = 0.62442\n"
     ]
    },
    {
     "name": "stderr",
     "output_type": "stream",
     "text": [
      "V: 041/300: 100%|██████| 26/26 [00:02<00:00, 11.12it/s, v_loss=1.5, v_acc=0.514]\n"
     ]
    },
    {
     "name": "stdout",
     "output_type": "stream",
     "text": [
      "[ Valid | 041/300 ] loss = 1.50325, acc = 0.51356\n",
      "[ Valid | 041/300 ] loss = 1.50325, acc = 0.51356\n"
     ]
    },
    {
     "name": "stderr",
     "output_type": "stream",
     "text": [
      "T: 042/300: 100%|█| 78/78 [00:08<00:00,  8.88it/s, lr=0.000398, b_loss=1.17, b_a\n"
     ]
    },
    {
     "name": "stdout",
     "output_type": "stream",
     "text": [
      "[ Train | 042/300 ] loss = 1.06876, acc = 0.63107\n"
     ]
    },
    {
     "name": "stderr",
     "output_type": "stream",
     "text": [
      "V: 042/300: 100%|█████| 26/26 [00:02<00:00, 11.54it/s, v_loss=1.21, v_acc=0.608]\n"
     ]
    },
    {
     "name": "stdout",
     "output_type": "stream",
     "text": [
      "[ Valid | 042/300 ] loss = 1.21359, acc = 0.60775\n",
      "[ Valid | 042/300 ] loss = 1.21359, acc = 0.60775\n"
     ]
    },
    {
     "name": "stderr",
     "output_type": "stream",
     "text": [
      "T: 043/300: 100%|█| 78/78 [00:08<00:00,  9.08it/s, lr=0.00039, b_loss=0.96, b_ac\n"
     ]
    },
    {
     "name": "stdout",
     "output_type": "stream",
     "text": [
      "[ Train | 043/300 ] loss = 1.03487, acc = 0.65055\n"
     ]
    },
    {
     "name": "stderr",
     "output_type": "stream",
     "text": [
      "V: 043/300: 100%|█████| 26/26 [00:02<00:00, 11.07it/s, v_loss=1.32, v_acc=0.582]\n"
     ]
    },
    {
     "name": "stdout",
     "output_type": "stream",
     "text": [
      "[ Valid | 043/300 ] loss = 1.31504, acc = 0.58156\n",
      "[ Valid | 043/300 ] loss = 1.31504, acc = 0.58156\n"
     ]
    },
    {
     "name": "stderr",
     "output_type": "stream",
     "text": [
      "T: 044/300: 100%|█| 78/78 [00:08<00:00,  9.11it/s, lr=0.000378, b_loss=0.996, b_\n"
     ]
    },
    {
     "name": "stdout",
     "output_type": "stream",
     "text": [
      "[ Train | 044/300 ] loss = 1.00655, acc = 0.65746\n"
     ]
    },
    {
     "name": "stderr",
     "output_type": "stream",
     "text": [
      "V: 044/300: 100%|██████| 26/26 [00:02<00:00, 11.37it/s, v_loss=1.2, v_acc=0.604]\n"
     ]
    },
    {
     "name": "stdout",
     "output_type": "stream",
     "text": [
      "[ Valid | 044/300 ] loss = 1.19560, acc = 0.60404\n",
      "[ Valid | 044/300 ] loss = 1.19560, acc = 0.60404\n"
     ]
    },
    {
     "name": "stderr",
     "output_type": "stream",
     "text": [
      "T: 045/300: 100%|█| 78/78 [00:08<00:00,  8.83it/s, lr=0.000362, b_loss=0.907, b_\n"
     ]
    },
    {
     "name": "stdout",
     "output_type": "stream",
     "text": [
      "[ Train | 045/300 ] loss = 0.97282, acc = 0.66629\n"
     ]
    },
    {
     "name": "stderr",
     "output_type": "stream",
     "text": [
      "V: 045/300: 100%|██████| 26/26 [00:02<00:00, 11.22it/s, v_loss=1.3, v_acc=0.581]\n"
     ]
    },
    {
     "name": "stdout",
     "output_type": "stream",
     "text": [
      "[ Valid | 045/300 ] loss = 1.29542, acc = 0.58126\n",
      "[ Valid | 045/300 ] loss = 1.29542, acc = 0.58126\n"
     ]
    },
    {
     "name": "stderr",
     "output_type": "stream",
     "text": [
      "T: 046/300: 100%|█| 78/78 [00:08<00:00,  8.97it/s, lr=0.000341, b_loss=1.03, b_a\n"
     ]
    },
    {
     "name": "stdout",
     "output_type": "stream",
     "text": [
      "[ Train | 046/300 ] loss = 0.99066, acc = 0.65983\n"
     ]
    },
    {
     "name": "stderr",
     "output_type": "stream",
     "text": [
      "V: 046/300: 100%|█████| 26/26 [00:02<00:00, 10.81it/s, v_loss=1.06, v_acc=0.624]\n"
     ]
    },
    {
     "name": "stdout",
     "output_type": "stream",
     "text": [
      "[ Valid | 046/300 ] loss = 1.06160, acc = 0.62374\n",
      "[ Valid | 046/300 ] loss = 1.06160, acc = 0.62374\n"
     ]
    },
    {
     "name": "stderr",
     "output_type": "stream",
     "text": [
      "T: 047/300: 100%|█| 78/78 [00:08<00:00,  8.86it/s, lr=0.000318, b_loss=1.07, b_a\n"
     ]
    },
    {
     "name": "stdout",
     "output_type": "stream",
     "text": [
      "[ Train | 047/300 ] loss = 0.93711, acc = 0.68157\n"
     ]
    },
    {
     "name": "stderr",
     "output_type": "stream",
     "text": [
      "V: 047/300: 100%|█████| 26/26 [00:02<00:00, 12.21it/s, v_loss=1.82, v_acc=0.454]\n"
     ]
    },
    {
     "name": "stdout",
     "output_type": "stream",
     "text": [
      "[ Valid | 047/300 ] loss = 1.82057, acc = 0.45380\n",
      "[ Valid | 047/300 ] loss = 1.82057, acc = 0.45380\n"
     ]
    },
    {
     "name": "stderr",
     "output_type": "stream",
     "text": [
      "T: 048/300: 100%|█| 78/78 [00:08<00:00,  9.26it/s, lr=0.000291, b_loss=0.92, b_a\n"
     ]
    },
    {
     "name": "stdout",
     "output_type": "stream",
     "text": [
      "[ Train | 048/300 ] loss = 0.91859, acc = 0.68363\n"
     ]
    },
    {
     "name": "stderr",
     "output_type": "stream",
     "text": [
      "V: 048/300: 100%|█████| 26/26 [00:02<00:00, 10.58it/s, v_loss=1.08, v_acc=0.644]\n"
     ]
    },
    {
     "name": "stdout",
     "output_type": "stream",
     "text": [
      "[ Valid | 048/300 ] loss = 1.07581, acc = 0.64356\n",
      "[ Valid | 048/300 ] loss = 1.07581, acc = 0.64356\n"
     ]
    },
    {
     "name": "stderr",
     "output_type": "stream",
     "text": [
      "T: 049/300: 100%|█| 78/78 [00:08<00:00,  8.87it/s, lr=0.000262, b_loss=0.858, b_\n"
     ]
    },
    {
     "name": "stdout",
     "output_type": "stream",
     "text": [
      "[ Train | 049/300 ] loss = 0.89473, acc = 0.69184\n"
     ]
    },
    {
     "name": "stderr",
     "output_type": "stream",
     "text": [
      "V: 049/300: 100%|█████| 26/26 [00:02<00:00, 11.60it/s, v_loss=1.08, v_acc=0.636]\n"
     ]
    },
    {
     "name": "stdout",
     "output_type": "stream",
     "text": [
      "[ Valid | 049/300 ] loss = 1.07960, acc = 0.63570\n",
      "[ Valid | 049/300 ] loss = 1.07960, acc = 0.63570\n"
     ]
    },
    {
     "name": "stderr",
     "output_type": "stream",
     "text": [
      "T: 050/300: 100%|█| 78/78 [00:08<00:00,  9.10it/s, lr=0.000231, b_loss=0.976, b_\n"
     ]
    },
    {
     "name": "stdout",
     "output_type": "stream",
     "text": [
      "[ Train | 050/300 ] loss = 0.86838, acc = 0.69961\n"
     ]
    },
    {
     "name": "stderr",
     "output_type": "stream",
     "text": [
      "V: 050/300: 100%|█████| 26/26 [00:02<00:00, 10.29it/s, v_loss=1.05, v_acc=0.646]\n"
     ]
    },
    {
     "name": "stdout",
     "output_type": "stream",
     "text": [
      "[ Valid | 050/300 ] loss = 1.04582, acc = 0.64556\n",
      "[ Valid | 050/300 ] loss = 1.04582, acc = 0.64556\n"
     ]
    },
    {
     "name": "stderr",
     "output_type": "stream",
     "text": [
      "T: 051/300: 100%|█| 78/78 [00:08<00:00,  9.08it/s, lr=0.0002, b_loss=0.837, b_ac\n"
     ]
    },
    {
     "name": "stdout",
     "output_type": "stream",
     "text": [
      "[ Train | 051/300 ] loss = 0.83859, acc = 0.70830\n"
     ]
    },
    {
     "name": "stderr",
     "output_type": "stream",
     "text": [
      "V: 051/300: 100%|█████| 26/26 [00:02<00:00, 11.23it/s, v_loss=1.02, v_acc=0.659]\n"
     ]
    },
    {
     "name": "stdout",
     "output_type": "stream",
     "text": [
      "[ Valid | 051/300 ] loss = 1.01932, acc = 0.65885\n",
      "[ Valid | 051/300 ] loss = 1.01932, acc = 0.65885\n"
     ]
    },
    {
     "name": "stderr",
     "output_type": "stream",
     "text": [
      "T: 052/300: 100%|█| 78/78 [00:08<00:00,  8.95it/s, lr=0.000169, b_loss=0.806, b_\n"
     ]
    },
    {
     "name": "stdout",
     "output_type": "stream",
     "text": [
      "[ Train | 052/300 ] loss = 0.80703, acc = 0.72264\n"
     ]
    },
    {
     "name": "stderr",
     "output_type": "stream",
     "text": [
      "V: 052/300: 100%|█████| 26/26 [00:02<00:00, 11.43it/s, v_loss=0.937, v_acc=0.69]\n"
     ]
    },
    {
     "name": "stdout",
     "output_type": "stream",
     "text": [
      "[ Valid | 052/300 ] loss = 0.93676, acc = 0.69010\n",
      "[ Valid | 052/300 ] loss = 0.93676, acc = 0.69010\n"
     ]
    },
    {
     "name": "stderr",
     "output_type": "stream",
     "text": [
      "T: 053/300: 100%|█| 78/78 [00:08<00:00,  9.20it/s, lr=0.000138, b_loss=0.875, b_\n"
     ]
    },
    {
     "name": "stdout",
     "output_type": "stream",
     "text": [
      "[ Train | 053/300 ] loss = 0.78485, acc = 0.72769\n"
     ]
    },
    {
     "name": "stderr",
     "output_type": "stream",
     "text": [
      "V: 053/300: 100%|█████| 26/26 [00:02<00:00, 12.29it/s, v_loss=0.92, v_acc=0.684]\n"
     ]
    },
    {
     "name": "stdout",
     "output_type": "stream",
     "text": [
      "[ Valid | 053/300 ] loss = 0.92030, acc = 0.68390\n",
      "[ Valid | 053/300 ] loss = 0.92030, acc = 0.68390\n"
     ]
    },
    {
     "name": "stderr",
     "output_type": "stream",
     "text": [
      "T: 054/300: 100%|█| 78/78 [00:08<00:00,  9.08it/s, lr=0.000109, b_loss=0.94, b_a\n"
     ]
    },
    {
     "name": "stdout",
     "output_type": "stream",
     "text": [
      "[ Train | 054/300 ] loss = 0.75699, acc = 0.73848\n"
     ]
    },
    {
     "name": "stderr",
     "output_type": "stream",
     "text": [
      "V: 054/300: 100%|████| 26/26 [00:02<00:00, 11.64it/s, v_loss=0.854, v_acc=0.712]\n"
     ]
    },
    {
     "name": "stdout",
     "output_type": "stream",
     "text": [
      "[ Valid | 054/300 ] loss = 0.85433, acc = 0.71202\n",
      "[ Valid | 054/300 ] loss = 0.85433, acc = 0.71202 -> best\n",
      "Best model found at fold 1 epoch 54, acc=0.71202, saving model\n"
     ]
    },
    {
     "name": "stderr",
     "output_type": "stream",
     "text": [
      "T: 055/300: 100%|█| 78/78 [00:08<00:00,  8.90it/s, lr=8.24e-5, b_loss=0.619, b_a\n"
     ]
    },
    {
     "name": "stdout",
     "output_type": "stream",
     "text": [
      "[ Train | 055/300 ] loss = 0.72317, acc = 0.75033\n"
     ]
    },
    {
     "name": "stderr",
     "output_type": "stream",
     "text": [
      "V: 055/300: 100%|█████| 26/26 [00:02<00:00, 11.04it/s, v_loss=0.83, v_acc=0.719]\n"
     ]
    },
    {
     "name": "stdout",
     "output_type": "stream",
     "text": [
      "[ Valid | 055/300 ] loss = 0.83004, acc = 0.71936\n",
      "[ Valid | 055/300 ] loss = 0.83004, acc = 0.71936 -> best\n",
      "Best model found at fold 1 epoch 55, acc=0.71936, saving model\n"
     ]
    },
    {
     "name": "stderr",
     "output_type": "stream",
     "text": [
      "T: 056/300: 100%|█| 78/78 [00:08<00:00,  9.12it/s, lr=5.86e-5, b_loss=0.766, b_a\n"
     ]
    },
    {
     "name": "stdout",
     "output_type": "stream",
     "text": [
      "[ Train | 056/300 ] loss = 0.71452, acc = 0.75479\n"
     ]
    },
    {
     "name": "stderr",
     "output_type": "stream",
     "text": [
      "V: 056/300: 100%|████| 26/26 [00:02<00:00, 10.97it/s, v_loss=0.872, v_acc=0.714]\n"
     ]
    },
    {
     "name": "stdout",
     "output_type": "stream",
     "text": [
      "[ Valid | 056/300 ] loss = 0.87171, acc = 0.71363\n",
      "[ Valid | 056/300 ] loss = 0.87171, acc = 0.71363\n"
     ]
    },
    {
     "name": "stderr",
     "output_type": "stream",
     "text": [
      "T: 057/300: 100%|█| 78/78 [00:08<00:00,  9.12it/s, lr=3.82e-5, b_loss=0.71, b_ac\n"
     ]
    },
    {
     "name": "stdout",
     "output_type": "stream",
     "text": [
      "[ Train | 057/300 ] loss = 0.70500, acc = 0.75438\n"
     ]
    },
    {
     "name": "stderr",
     "output_type": "stream",
     "text": [
      "V: 057/300: 100%|████| 26/26 [00:02<00:00, 12.03it/s, v_loss=0.808, v_acc=0.735]\n"
     ]
    },
    {
     "name": "stdout",
     "output_type": "stream",
     "text": [
      "[ Valid | 057/300 ] loss = 0.80849, acc = 0.73528\n",
      "[ Valid | 057/300 ] loss = 0.80849, acc = 0.73528 -> best\n",
      "Best model found at fold 1 epoch 57, acc=0.73528, saving model\n"
     ]
    },
    {
     "name": "stderr",
     "output_type": "stream",
     "text": [
      "T: 058/300: 100%|█| 78/78 [00:08<00:00,  8.87it/s, lr=2.18e-5, b_loss=0.7, b_acc\n"
     ]
    },
    {
     "name": "stdout",
     "output_type": "stream",
     "text": [
      "[ Train | 058/300 ] loss = 0.67907, acc = 0.76669\n"
     ]
    },
    {
     "name": "stderr",
     "output_type": "stream",
     "text": [
      "V: 058/300: 100%|████| 26/26 [00:02<00:00, 10.78it/s, v_loss=0.807, v_acc=0.733]\n"
     ]
    },
    {
     "name": "stdout",
     "output_type": "stream",
     "text": [
      "[ Valid | 058/300 ] loss = 0.80701, acc = 0.73285\n",
      "[ Valid | 058/300 ] loss = 0.80701, acc = 0.73285\n"
     ]
    },
    {
     "name": "stderr",
     "output_type": "stream",
     "text": [
      "T: 059/300: 100%|█| 78/78 [00:08<00:00,  9.10it/s, lr=9.79e-6, b_loss=0.842, b_a\n"
     ]
    },
    {
     "name": "stdout",
     "output_type": "stream",
     "text": [
      "[ Train | 059/300 ] loss = 0.67699, acc = 0.76787\n"
     ]
    },
    {
     "name": "stderr",
     "output_type": "stream",
     "text": [
      "V: 059/300: 100%|████| 26/26 [00:02<00:00, 10.27it/s, v_loss=0.797, v_acc=0.732]\n"
     ]
    },
    {
     "name": "stdout",
     "output_type": "stream",
     "text": [
      "[ Valid | 059/300 ] loss = 0.79684, acc = 0.73203\n",
      "[ Valid | 059/300 ] loss = 0.79684, acc = 0.73203\n"
     ]
    },
    {
     "name": "stderr",
     "output_type": "stream",
     "text": [
      "T: 060/300: 100%|█| 78/78 [00:08<00:00,  8.76it/s, lr=2.46e-6, b_loss=0.707, b_a\n"
     ]
    },
    {
     "name": "stdout",
     "output_type": "stream",
     "text": [
      "[ Train | 060/300 ] loss = 0.66147, acc = 0.77103\n"
     ]
    },
    {
     "name": "stderr",
     "output_type": "stream",
     "text": [
      "V: 060/300: 100%|████| 26/26 [00:02<00:00, 11.16it/s, v_loss=0.795, v_acc=0.734]\n"
     ]
    },
    {
     "name": "stdout",
     "output_type": "stream",
     "text": [
      "[ Valid | 060/300 ] loss = 0.79503, acc = 0.73394\n",
      "[ Valid | 060/300 ] loss = 0.79503, acc = 0.73394\n"
     ]
    },
    {
     "name": "stderr",
     "output_type": "stream",
     "text": [
      "T: 061/300: 100%|█| 78/78 [00:08<00:00,  9.08it/s, lr=0.0004, b_loss=0.718, b_ac\n"
     ]
    },
    {
     "name": "stdout",
     "output_type": "stream",
     "text": [
      "[ Train | 061/300 ] loss = 0.89686, acc = 0.69401\n"
     ]
    },
    {
     "name": "stderr",
     "output_type": "stream",
     "text": [
      "V: 061/300: 100%|██████| 26/26 [00:02<00:00, 11.97it/s, v_loss=1.6, v_acc=0.555]\n"
     ]
    },
    {
     "name": "stdout",
     "output_type": "stream",
     "text": [
      "[ Valid | 061/300 ] loss = 1.59701, acc = 0.55480\n",
      "[ Valid | 061/300 ] loss = 1.59701, acc = 0.55480\n"
     ]
    },
    {
     "name": "stderr",
     "output_type": "stream",
     "text": [
      "T: 062/300: 100%|█| 78/78 [00:08<00:00,  9.11it/s, lr=0.000398, b_loss=0.883, b_\n"
     ]
    },
    {
     "name": "stdout",
     "output_type": "stream",
     "text": [
      "[ Train | 062/300 ] loss = 0.89232, acc = 0.68962\n"
     ]
    },
    {
     "name": "stderr",
     "output_type": "stream",
     "text": [
      "V: 062/300: 100%|█████| 26/26 [00:02<00:00, 10.54it/s, v_loss=1.19, v_acc=0.619]\n"
     ]
    },
    {
     "name": "stdout",
     "output_type": "stream",
     "text": [
      "[ Valid | 062/300 ] loss = 1.19018, acc = 0.61877\n",
      "[ Valid | 062/300 ] loss = 1.19018, acc = 0.61877\n"
     ]
    },
    {
     "name": "stderr",
     "output_type": "stream",
     "text": [
      "T: 063/300: 100%|█| 78/78 [00:08<00:00,  9.05it/s, lr=0.00039, b_loss=0.998, b_a\n"
     ]
    },
    {
     "name": "stdout",
     "output_type": "stream",
     "text": [
      "[ Train | 063/300 ] loss = 0.91876, acc = 0.68179\n"
     ]
    },
    {
     "name": "stderr",
     "output_type": "stream",
     "text": [
      "V: 063/300: 100%|█████| 26/26 [00:02<00:00, 11.14it/s, v_loss=1.06, v_acc=0.649]\n"
     ]
    },
    {
     "name": "stdout",
     "output_type": "stream",
     "text": [
      "[ Valid | 063/300 ] loss = 1.05533, acc = 0.64930\n",
      "[ Valid | 063/300 ] loss = 1.05533, acc = 0.64930\n"
     ]
    },
    {
     "name": "stderr",
     "output_type": "stream",
     "text": [
      "T: 064/300: 100%|█| 78/78 [00:08<00:00,  8.87it/s, lr=0.000378, b_loss=0.848, b_\n"
     ]
    },
    {
     "name": "stdout",
     "output_type": "stream",
     "text": [
      "[ Train | 064/300 ] loss = 0.87181, acc = 0.69948\n"
     ]
    },
    {
     "name": "stderr",
     "output_type": "stream",
     "text": [
      "V: 064/300: 100%|██████| 26/26 [00:02<00:00, 11.96it/s, v_loss=1.11, v_acc=0.63]\n"
     ]
    },
    {
     "name": "stdout",
     "output_type": "stream",
     "text": [
      "[ Valid | 064/300 ] loss = 1.10988, acc = 0.62961\n",
      "[ Valid | 064/300 ] loss = 1.10988, acc = 0.62961\n"
     ]
    },
    {
     "name": "stderr",
     "output_type": "stream",
     "text": [
      "T: 065/300: 100%|█| 78/78 [00:08<00:00,  9.02it/s, lr=0.000362, b_loss=0.935, b_\n"
     ]
    },
    {
     "name": "stdout",
     "output_type": "stream",
     "text": [
      "[ Train | 065/300 ] loss = 0.87380, acc = 0.70076\n"
     ]
    },
    {
     "name": "stderr",
     "output_type": "stream",
     "text": [
      "V: 065/300: 100%|████| 26/26 [00:02<00:00, 10.81it/s, v_loss=0.991, v_acc=0.672]\n"
     ]
    },
    {
     "name": "stdout",
     "output_type": "stream",
     "text": [
      "[ Valid | 065/300 ] loss = 0.99087, acc = 0.67206\n",
      "[ Valid | 065/300 ] loss = 0.99087, acc = 0.67206\n"
     ]
    },
    {
     "name": "stderr",
     "output_type": "stream",
     "text": [
      "T: 066/300: 100%|█| 78/78 [00:08<00:00,  8.91it/s, lr=0.000341, b_loss=0.86, b_a\n"
     ]
    },
    {
     "name": "stdout",
     "output_type": "stream",
     "text": [
      "[ Train | 066/300 ] loss = 0.82978, acc = 0.71392\n"
     ]
    },
    {
     "name": "stderr",
     "output_type": "stream",
     "text": [
      "V: 066/300: 100%|█████| 26/26 [00:02<00:00, 10.52it/s, v_loss=1.37, v_acc=0.568]\n"
     ]
    },
    {
     "name": "stdout",
     "output_type": "stream",
     "text": [
      "[ Valid | 066/300 ] loss = 1.36691, acc = 0.56802\n",
      "[ Valid | 066/300 ] loss = 1.36691, acc = 0.56802\n"
     ]
    },
    {
     "name": "stderr",
     "output_type": "stream",
     "text": [
      "T: 067/300: 100%|█| 78/78 [00:08<00:00,  9.00it/s, lr=0.000318, b_loss=0.942, b_\n"
     ]
    },
    {
     "name": "stdout",
     "output_type": "stream",
     "text": [
      "[ Train | 067/300 ] loss = 0.80931, acc = 0.71889\n"
     ]
    },
    {
     "name": "stderr",
     "output_type": "stream",
     "text": [
      "V: 067/300: 100%|█████| 26/26 [00:02<00:00,  9.20it/s, v_loss=0.99, v_acc=0.669]\n"
     ]
    },
    {
     "name": "stdout",
     "output_type": "stream",
     "text": [
      "[ Valid | 067/300 ] loss = 0.99041, acc = 0.66909\n",
      "[ Valid | 067/300 ] loss = 0.99041, acc = 0.66909\n"
     ]
    },
    {
     "name": "stderr",
     "output_type": "stream",
     "text": [
      "T: 068/300: 100%|█| 78/78 [00:08<00:00,  8.90it/s, lr=0.000291, b_loss=0.937, b_\n"
     ]
    },
    {
     "name": "stdout",
     "output_type": "stream",
     "text": [
      "[ Train | 068/300 ] loss = 0.80562, acc = 0.72679\n"
     ]
    },
    {
     "name": "stderr",
     "output_type": "stream",
     "text": [
      "V: 068/300: 100%|████| 26/26 [00:02<00:00,  9.85it/s, v_loss=0.941, v_acc=0.684]\n"
     ]
    },
    {
     "name": "stdout",
     "output_type": "stream",
     "text": [
      "[ Valid | 068/300 ] loss = 0.94112, acc = 0.68355\n",
      "[ Valid | 068/300 ] loss = 0.94112, acc = 0.68355\n"
     ]
    },
    {
     "name": "stderr",
     "output_type": "stream",
     "text": [
      "T: 069/300: 100%|█| 78/78 [00:08<00:00,  8.81it/s, lr=0.000262, b_loss=0.928, b_\n"
     ]
    },
    {
     "name": "stdout",
     "output_type": "stream",
     "text": [
      "[ Train | 069/300 ] loss = 0.74744, acc = 0.73838\n"
     ]
    },
    {
     "name": "stderr",
     "output_type": "stream",
     "text": [
      "V: 069/300: 100%|█████| 26/26 [00:02<00:00, 11.08it/s, v_loss=0.84, v_acc=0.718]\n"
     ]
    },
    {
     "name": "stdout",
     "output_type": "stream",
     "text": [
      "[ Valid | 069/300 ] loss = 0.84043, acc = 0.71816\n",
      "[ Valid | 069/300 ] loss = 0.84043, acc = 0.71816\n"
     ]
    },
    {
     "name": "stderr",
     "output_type": "stream",
     "text": [
      "T: 070/300: 100%|█| 78/78 [00:08<00:00,  9.01it/s, lr=0.000231, b_loss=0.628, b_\n"
     ]
    },
    {
     "name": "stdout",
     "output_type": "stream",
     "text": [
      "[ Train | 070/300 ] loss = 0.74747, acc = 0.74598\n"
     ]
    },
    {
     "name": "stderr",
     "output_type": "stream",
     "text": [
      "V: 070/300: 100%|█████| 26/26 [00:02<00:00, 11.50it/s, v_loss=0.91, v_acc=0.696]\n"
     ]
    },
    {
     "name": "stdout",
     "output_type": "stream",
     "text": [
      "[ Valid | 070/300 ] loss = 0.91013, acc = 0.69576\n",
      "[ Valid | 070/300 ] loss = 0.91013, acc = 0.69576\n"
     ]
    },
    {
     "name": "stderr",
     "output_type": "stream",
     "text": [
      "T: 071/300: 100%|█| 78/78 [00:08<00:00,  8.82it/s, lr=0.0002, b_loss=0.781, b_ac\n"
     ]
    },
    {
     "name": "stdout",
     "output_type": "stream",
     "text": [
      "[ Train | 071/300 ] loss = 0.70919, acc = 0.75064\n"
     ]
    },
    {
     "name": "stderr",
     "output_type": "stream",
     "text": [
      "V: 071/300: 100%|██████| 26/26 [00:02<00:00, 11.62it/s, v_loss=0.86, v_acc=0.72]\n"
     ]
    },
    {
     "name": "stdout",
     "output_type": "stream",
     "text": [
      "[ Valid | 071/300 ] loss = 0.85993, acc = 0.71987\n",
      "[ Valid | 071/300 ] loss = 0.85993, acc = 0.71987\n"
     ]
    },
    {
     "name": "stderr",
     "output_type": "stream",
     "text": [
      "T: 072/300: 100%|█| 78/78 [00:08<00:00,  9.07it/s, lr=0.000169, b_loss=0.664, b_\n"
     ]
    },
    {
     "name": "stdout",
     "output_type": "stream",
     "text": [
      "[ Train | 072/300 ] loss = 0.68472, acc = 0.76638\n"
     ]
    },
    {
     "name": "stderr",
     "output_type": "stream",
     "text": [
      "V: 072/300: 100%|████| 26/26 [00:02<00:00, 11.24it/s, v_loss=0.861, v_acc=0.719]\n"
     ]
    },
    {
     "name": "stdout",
     "output_type": "stream",
     "text": [
      "[ Valid | 072/300 ] loss = 0.86143, acc = 0.71898\n",
      "[ Valid | 072/300 ] loss = 0.86143, acc = 0.71898\n"
     ]
    },
    {
     "name": "stderr",
     "output_type": "stream",
     "text": [
      "T: 073/300: 100%|█| 78/78 [00:08<00:00,  9.01it/s, lr=0.000138, b_loss=0.848, b_\n"
     ]
    },
    {
     "name": "stdout",
     "output_type": "stream",
     "text": [
      "[ Train | 073/300 ] loss = 0.66274, acc = 0.77087\n"
     ]
    },
    {
     "name": "stderr",
     "output_type": "stream",
     "text": [
      "V: 073/300: 100%|████| 26/26 [00:02<00:00, 12.10it/s, v_loss=0.789, v_acc=0.736]\n"
     ]
    },
    {
     "name": "stdout",
     "output_type": "stream",
     "text": [
      "[ Valid | 073/300 ] loss = 0.78917, acc = 0.73582\n",
      "[ Valid | 073/300 ] loss = 0.78917, acc = 0.73582 -> best\n",
      "Best model found at fold 1 epoch 73, acc=0.73582, saving model\n"
     ]
    },
    {
     "name": "stderr",
     "output_type": "stream",
     "text": [
      "T: 074/300: 100%|█| 78/78 [00:08<00:00,  9.10it/s, lr=0.000109, b_loss=0.694, b_\n"
     ]
    },
    {
     "name": "stdout",
     "output_type": "stream",
     "text": [
      "[ Train | 074/300 ] loss = 0.62855, acc = 0.78225\n"
     ]
    },
    {
     "name": "stderr",
     "output_type": "stream",
     "text": [
      "V: 074/300: 100%|████| 26/26 [00:02<00:00, 10.47it/s, v_loss=0.833, v_acc=0.724]\n"
     ]
    },
    {
     "name": "stdout",
     "output_type": "stream",
     "text": [
      "[ Valid | 074/300 ] loss = 0.83318, acc = 0.72439\n",
      "[ Valid | 074/300 ] loss = 0.83318, acc = 0.72439\n"
     ]
    },
    {
     "name": "stderr",
     "output_type": "stream",
     "text": [
      "T: 075/300: 100%|█| 78/78 [00:08<00:00,  8.92it/s, lr=8.24e-5, b_loss=0.562, b_a\n"
     ]
    },
    {
     "name": "stdout",
     "output_type": "stream",
     "text": [
      "[ Train | 075/300 ] loss = 0.60608, acc = 0.79431\n"
     ]
    },
    {
     "name": "stderr",
     "output_type": "stream",
     "text": [
      "V: 075/300: 100%|████| 26/26 [00:02<00:00, 11.33it/s, v_loss=0.775, v_acc=0.743]\n"
     ]
    },
    {
     "name": "stdout",
     "output_type": "stream",
     "text": [
      "[ Valid | 075/300 ] loss = 0.77512, acc = 0.74307\n",
      "[ Valid | 075/300 ] loss = 0.77512, acc = 0.74307 -> best\n",
      "Best model found at fold 1 epoch 75, acc=0.74307, saving model\n"
     ]
    },
    {
     "name": "stderr",
     "output_type": "stream",
     "text": [
      "T: 076/300: 100%|█| 78/78 [00:08<00:00,  8.94it/s, lr=5.86e-5, b_loss=0.694, b_a\n"
     ]
    },
    {
     "name": "stdout",
     "output_type": "stream",
     "text": [
      "[ Train | 076/300 ] loss = 0.58906, acc = 0.79686\n"
     ]
    },
    {
     "name": "stderr",
     "output_type": "stream",
     "text": [
      "V: 076/300: 100%|████| 26/26 [00:02<00:00, 10.71it/s, v_loss=0.771, v_acc=0.751]\n"
     ]
    },
    {
     "name": "stdout",
     "output_type": "stream",
     "text": [
      "[ Valid | 076/300 ] loss = 0.77071, acc = 0.75068\n",
      "[ Valid | 076/300 ] loss = 0.77071, acc = 0.75068 -> best\n",
      "Best model found at fold 1 epoch 76, acc=0.75068, saving model\n"
     ]
    },
    {
     "name": "stderr",
     "output_type": "stream",
     "text": [
      "T: 077/300: 100%|█| 78/78 [00:08<00:00,  8.89it/s, lr=3.82e-5, b_loss=0.512, b_a\n"
     ]
    },
    {
     "name": "stdout",
     "output_type": "stream",
     "text": [
      "[ Train | 077/300 ] loss = 0.57063, acc = 0.80586\n"
     ]
    },
    {
     "name": "stderr",
     "output_type": "stream",
     "text": [
      "V: 077/300: 100%|████| 26/26 [00:02<00:00, 10.11it/s, v_loss=0.754, v_acc=0.753]\n"
     ]
    },
    {
     "name": "stdout",
     "output_type": "stream",
     "text": [
      "[ Valid | 077/300 ] loss = 0.75436, acc = 0.75301\n",
      "[ Valid | 077/300 ] loss = 0.75436, acc = 0.75301 -> best\n",
      "Best model found at fold 1 epoch 77, acc=0.75301, saving model\n"
     ]
    },
    {
     "name": "stderr",
     "output_type": "stream",
     "text": [
      "T: 078/300: 100%|█| 78/78 [00:08<00:00,  8.86it/s, lr=2.18e-5, b_loss=0.675, b_a\n"
     ]
    },
    {
     "name": "stdout",
     "output_type": "stream",
     "text": [
      "[ Train | 078/300 ] loss = 0.57187, acc = 0.80281\n"
     ]
    },
    {
     "name": "stderr",
     "output_type": "stream",
     "text": [
      "V: 078/300: 100%|█████| 26/26 [00:02<00:00, 10.18it/s, v_loss=0.748, v_acc=0.76]\n"
     ]
    },
    {
     "name": "stdout",
     "output_type": "stream",
     "text": [
      "[ Valid | 078/300 ] loss = 0.74759, acc = 0.75963\n",
      "[ Valid | 078/300 ] loss = 0.74759, acc = 0.75963 -> best\n",
      "Best model found at fold 1 epoch 78, acc=0.75963, saving model\n"
     ]
    },
    {
     "name": "stderr",
     "output_type": "stream",
     "text": [
      "T: 079/300: 100%|█| 78/78 [00:08<00:00,  8.93it/s, lr=9.79e-6, b_loss=0.457, b_a\n"
     ]
    },
    {
     "name": "stdout",
     "output_type": "stream",
     "text": [
      "[ Train | 079/300 ] loss = 0.55075, acc = 0.81482\n"
     ]
    },
    {
     "name": "stderr",
     "output_type": "stream",
     "text": [
      "V: 079/300: 100%|████| 26/26 [00:02<00:00, 11.02it/s, v_loss=0.743, v_acc=0.759]\n"
     ]
    },
    {
     "name": "stdout",
     "output_type": "stream",
     "text": [
      "[ Valid | 079/300 ] loss = 0.74305, acc = 0.75900\n",
      "[ Valid | 079/300 ] loss = 0.74305, acc = 0.75900\n"
     ]
    },
    {
     "name": "stderr",
     "output_type": "stream",
     "text": [
      "T: 080/300: 100%|█| 78/78 [00:08<00:00,  9.12it/s, lr=2.46e-6, b_loss=0.575, b_a\n"
     ]
    },
    {
     "name": "stdout",
     "output_type": "stream",
     "text": [
      "[ Train | 080/300 ] loss = 0.55583, acc = 0.80654\n"
     ]
    },
    {
     "name": "stderr",
     "output_type": "stream",
     "text": [
      "V: 080/300: 100%|█████| 26/26 [00:02<00:00,  8.77it/s, v_loss=0.746, v_acc=0.76]\n"
     ]
    },
    {
     "name": "stdout",
     "output_type": "stream",
     "text": [
      "[ Valid | 080/300 ] loss = 0.74575, acc = 0.75955\n",
      "[ Valid | 080/300 ] loss = 0.74575, acc = 0.75955\n"
     ]
    },
    {
     "name": "stderr",
     "output_type": "stream",
     "text": [
      "T: 081/300: 100%|█| 78/78 [00:08<00:00,  9.03it/s, lr=0.0004, b_loss=0.838, b_ac\n"
     ]
    },
    {
     "name": "stdout",
     "output_type": "stream",
     "text": [
      "[ Train | 081/300 ] loss = 0.81221, acc = 0.71987\n"
     ]
    },
    {
     "name": "stderr",
     "output_type": "stream",
     "text": [
      "V: 081/300: 100%|█████| 26/26 [00:02<00:00, 11.01it/s, v_loss=1.26, v_acc=0.602]\n"
     ]
    },
    {
     "name": "stdout",
     "output_type": "stream",
     "text": [
      "[ Valid | 081/300 ] loss = 1.26335, acc = 0.60239\n",
      "[ Valid | 081/300 ] loss = 1.26335, acc = 0.60239\n"
     ]
    },
    {
     "name": "stderr",
     "output_type": "stream",
     "text": [
      "T: 082/300: 100%|█| 78/78 [00:08<00:00,  8.98it/s, lr=0.000398, b_loss=1.05, b_a\n"
     ]
    },
    {
     "name": "stdout",
     "output_type": "stream",
     "text": [
      "[ Train | 082/300 ] loss = 0.79444, acc = 0.72430\n"
     ]
    },
    {
     "name": "stderr",
     "output_type": "stream",
     "text": [
      "V: 082/300: 100%|████| 26/26 [00:02<00:00, 11.19it/s, v_loss=0.969, v_acc=0.682]\n"
     ]
    },
    {
     "name": "stdout",
     "output_type": "stream",
     "text": [
      "[ Valid | 082/300 ] loss = 0.96874, acc = 0.68164\n",
      "[ Valid | 082/300 ] loss = 0.96874, acc = 0.68164\n"
     ]
    },
    {
     "name": "stderr",
     "output_type": "stream",
     "text": [
      "T: 083/300: 100%|█| 78/78 [00:08<00:00,  8.80it/s, lr=0.00039, b_loss=0.584, b_a\n"
     ]
    },
    {
     "name": "stdout",
     "output_type": "stream",
     "text": [
      "[ Train | 083/300 ] loss = 0.77862, acc = 0.73354\n"
     ]
    },
    {
     "name": "stderr",
     "output_type": "stream",
     "text": [
      "V: 083/300: 100%|████| 26/26 [00:02<00:00, 11.32it/s, v_loss=0.966, v_acc=0.678]\n"
     ]
    },
    {
     "name": "stdout",
     "output_type": "stream",
     "text": [
      "[ Valid | 083/300 ] loss = 0.96568, acc = 0.67811\n",
      "[ Valid | 083/300 ] loss = 0.96568, acc = 0.67811\n"
     ]
    },
    {
     "name": "stderr",
     "output_type": "stream",
     "text": [
      "T: 084/300: 100%|█| 78/78 [00:08<00:00,  8.87it/s, lr=0.000378, b_loss=0.704, b_\n"
     ]
    },
    {
     "name": "stdout",
     "output_type": "stream",
     "text": [
      "[ Train | 084/300 ] loss = 0.76053, acc = 0.73454\n"
     ]
    },
    {
     "name": "stderr",
     "output_type": "stream",
     "text": [
      "V: 084/300: 100%|█████| 26/26 [00:02<00:00, 10.58it/s, v_loss=1.01, v_acc=0.669]\n"
     ]
    },
    {
     "name": "stdout",
     "output_type": "stream",
     "text": [
      "[ Valid | 084/300 ] loss = 1.01424, acc = 0.66905\n",
      "[ Valid | 084/300 ] loss = 1.01424, acc = 0.66905\n"
     ]
    },
    {
     "name": "stderr",
     "output_type": "stream",
     "text": [
      "T: 085/300: 100%|█| 78/78 [00:08<00:00,  8.95it/s, lr=0.000362, b_loss=0.509, b_\n"
     ]
    },
    {
     "name": "stdout",
     "output_type": "stream",
     "text": [
      "[ Train | 085/300 ] loss = 0.73967, acc = 0.74608\n"
     ]
    },
    {
     "name": "stderr",
     "output_type": "stream",
     "text": [
      "V: 085/300: 100%|█████| 26/26 [00:02<00:00, 10.69it/s, v_loss=1.23, v_acc=0.629]\n"
     ]
    },
    {
     "name": "stdout",
     "output_type": "stream",
     "text": [
      "[ Valid | 085/300 ] loss = 1.23411, acc = 0.62855\n",
      "[ Valid | 085/300 ] loss = 1.23411, acc = 0.62855\n"
     ]
    },
    {
     "name": "stderr",
     "output_type": "stream",
     "text": [
      "T: 086/300: 100%|█| 78/78 [00:08<00:00,  8.84it/s, lr=0.000341, b_loss=0.516, b_\n"
     ]
    },
    {
     "name": "stdout",
     "output_type": "stream",
     "text": [
      "[ Train | 086/300 ] loss = 0.73309, acc = 0.74318\n"
     ]
    },
    {
     "name": "stderr",
     "output_type": "stream",
     "text": [
      "V: 086/300: 100%|████| 26/26 [00:02<00:00,  9.96it/s, v_loss=0.942, v_acc=0.691]\n"
     ]
    },
    {
     "name": "stdout",
     "output_type": "stream",
     "text": [
      "[ Valid | 086/300 ] loss = 0.94220, acc = 0.69137\n",
      "[ Valid | 086/300 ] loss = 0.94220, acc = 0.69137\n"
     ]
    },
    {
     "name": "stderr",
     "output_type": "stream",
     "text": [
      "T: 087/300: 100%|█| 78/78 [00:08<00:00,  8.82it/s, lr=0.000318, b_loss=0.604, b_\n"
     ]
    },
    {
     "name": "stdout",
     "output_type": "stream",
     "text": [
      "[ Train | 087/300 ] loss = 0.71433, acc = 0.75151\n"
     ]
    },
    {
     "name": "stderr",
     "output_type": "stream",
     "text": [
      "V: 087/300: 100%|████| 26/26 [00:02<00:00, 11.52it/s, v_loss=0.971, v_acc=0.685]\n"
     ]
    },
    {
     "name": "stdout",
     "output_type": "stream",
     "text": [
      "[ Valid | 087/300 ] loss = 0.97090, acc = 0.68493\n",
      "[ Valid | 087/300 ] loss = 0.97090, acc = 0.68493\n"
     ]
    },
    {
     "name": "stderr",
     "output_type": "stream",
     "text": [
      "T: 088/300: 100%|█| 78/78 [00:08<00:00,  9.26it/s, lr=0.000291, b_loss=0.689, b_\n"
     ]
    },
    {
     "name": "stdout",
     "output_type": "stream",
     "text": [
      "[ Train | 088/300 ] loss = 0.68074, acc = 0.76571\n"
     ]
    },
    {
     "name": "stderr",
     "output_type": "stream",
     "text": [
      "V: 088/300: 100%|██████| 26/26 [00:02<00:00, 10.02it/s, v_loss=0.953, v_acc=0.7]\n"
     ]
    },
    {
     "name": "stdout",
     "output_type": "stream",
     "text": [
      "[ Valid | 088/300 ] loss = 0.95269, acc = 0.70008\n",
      "[ Valid | 088/300 ] loss = 0.95269, acc = 0.70008\n"
     ]
    },
    {
     "name": "stderr",
     "output_type": "stream",
     "text": [
      "T: 089/300: 100%|█| 78/78 [00:08<00:00,  8.88it/s, lr=0.000262, b_loss=0.777, b_\n"
     ]
    },
    {
     "name": "stdout",
     "output_type": "stream",
     "text": [
      "[ Train | 089/300 ] loss = 0.66764, acc = 0.77128\n"
     ]
    },
    {
     "name": "stderr",
     "output_type": "stream",
     "text": [
      "V: 089/300: 100%|████| 26/26 [00:02<00:00, 11.73it/s, v_loss=0.865, v_acc=0.722]\n"
     ]
    },
    {
     "name": "stdout",
     "output_type": "stream",
     "text": [
      "[ Valid | 089/300 ] loss = 0.86451, acc = 0.72169\n",
      "[ Valid | 089/300 ] loss = 0.86451, acc = 0.72169\n"
     ]
    },
    {
     "name": "stderr",
     "output_type": "stream",
     "text": [
      "T: 090/300: 100%|█| 78/78 [00:08<00:00,  8.98it/s, lr=0.000231, b_loss=0.57, b_a\n"
     ]
    },
    {
     "name": "stdout",
     "output_type": "stream",
     "text": [
      "[ Train | 090/300 ] loss = 0.62909, acc = 0.78271\n"
     ]
    },
    {
     "name": "stderr",
     "output_type": "stream",
     "text": [
      "V: 090/300: 100%|█████| 26/26 [00:02<00:00, 11.16it/s, v_loss=1.01, v_acc=0.686]\n"
     ]
    },
    {
     "name": "stdout",
     "output_type": "stream",
     "text": [
      "[ Valid | 090/300 ] loss = 1.01357, acc = 0.68620\n",
      "[ Valid | 090/300 ] loss = 1.01357, acc = 0.68620\n"
     ]
    },
    {
     "name": "stderr",
     "output_type": "stream",
     "text": [
      "T: 091/300: 100%|█| 78/78 [00:08<00:00,  9.08it/s, lr=0.0002, b_loss=0.517, b_ac\n"
     ]
    },
    {
     "name": "stdout",
     "output_type": "stream",
     "text": [
      "[ Train | 091/300 ] loss = 0.62754, acc = 0.78020\n"
     ]
    },
    {
     "name": "stderr",
     "output_type": "stream",
     "text": [
      "V: 091/300: 100%|████| 26/26 [00:02<00:00, 10.23it/s, v_loss=0.857, v_acc=0.718]\n"
     ]
    },
    {
     "name": "stdout",
     "output_type": "stream",
     "text": [
      "[ Valid | 091/300 ] loss = 0.85749, acc = 0.71810\n",
      "[ Valid | 091/300 ] loss = 0.85749, acc = 0.71810\n"
     ]
    },
    {
     "name": "stderr",
     "output_type": "stream",
     "text": [
      "T: 092/300: 100%|█| 78/78 [00:08<00:00,  8.85it/s, lr=0.000169, b_loss=0.562, b_\n"
     ]
    },
    {
     "name": "stdout",
     "output_type": "stream",
     "text": [
      "[ Train | 092/300 ] loss = 0.58389, acc = 0.80274\n"
     ]
    },
    {
     "name": "stderr",
     "output_type": "stream",
     "text": [
      "V: 092/300: 100%|████| 26/26 [00:02<00:00, 10.39it/s, v_loss=0.822, v_acc=0.731]\n"
     ]
    },
    {
     "name": "stdout",
     "output_type": "stream",
     "text": [
      "[ Valid | 092/300 ] loss = 0.82233, acc = 0.73111\n",
      "[ Valid | 092/300 ] loss = 0.82233, acc = 0.73111\n"
     ]
    },
    {
     "name": "stderr",
     "output_type": "stream",
     "text": [
      "T: 093/300: 100%|█| 78/78 [00:08<00:00,  8.85it/s, lr=0.000138, b_loss=0.472, b_\n"
     ]
    },
    {
     "name": "stdout",
     "output_type": "stream",
     "text": [
      "[ Train | 093/300 ] loss = 0.55722, acc = 0.80274\n"
     ]
    },
    {
     "name": "stderr",
     "output_type": "stream",
     "text": [
      "V: 093/300: 100%|████| 26/26 [00:02<00:00, 10.32it/s, v_loss=0.787, v_acc=0.745]\n"
     ]
    },
    {
     "name": "stdout",
     "output_type": "stream",
     "text": [
      "[ Valid | 093/300 ] loss = 0.78718, acc = 0.74549\n",
      "[ Valid | 093/300 ] loss = 0.78718, acc = 0.74549\n"
     ]
    },
    {
     "name": "stderr",
     "output_type": "stream",
     "text": [
      "T: 094/300: 100%|█| 78/78 [00:08<00:00,  8.79it/s, lr=0.000109, b_loss=0.481, b_\n"
     ]
    },
    {
     "name": "stdout",
     "output_type": "stream",
     "text": [
      "[ Train | 094/300 ] loss = 0.54135, acc = 0.81138\n"
     ]
    },
    {
     "name": "stderr",
     "output_type": "stream",
     "text": [
      "V: 094/300: 100%|████| 26/26 [00:02<00:00, 10.69it/s, v_loss=0.773, v_acc=0.751]\n"
     ]
    },
    {
     "name": "stdout",
     "output_type": "stream",
     "text": [
      "[ Valid | 094/300 ] loss = 0.77337, acc = 0.75118\n",
      "[ Valid | 094/300 ] loss = 0.77337, acc = 0.75118\n"
     ]
    },
    {
     "name": "stderr",
     "output_type": "stream",
     "text": [
      "T: 095/300: 100%|█| 78/78 [00:08<00:00,  8.81it/s, lr=8.24e-5, b_loss=0.512, b_a\n"
     ]
    },
    {
     "name": "stdout",
     "output_type": "stream",
     "text": [
      "[ Train | 095/300 ] loss = 0.50594, acc = 0.82243\n"
     ]
    },
    {
     "name": "stderr",
     "output_type": "stream",
     "text": [
      "V: 095/300: 100%|█████| 26/26 [00:02<00:00, 11.82it/s, v_loss=0.752, v_acc=0.76]\n"
     ]
    },
    {
     "name": "stdout",
     "output_type": "stream",
     "text": [
      "[ Valid | 095/300 ] loss = 0.75211, acc = 0.76044\n",
      "[ Valid | 095/300 ] loss = 0.75211, acc = 0.76044 -> best\n",
      "Best model found at fold 1 epoch 95, acc=0.76044, saving model\n"
     ]
    },
    {
     "name": "stderr",
     "output_type": "stream",
     "text": [
      "T: 096/300: 100%|█| 78/78 [00:08<00:00,  9.12it/s, lr=5.86e-5, b_loss=0.656, b_a\n"
     ]
    },
    {
     "name": "stdout",
     "output_type": "stream",
     "text": [
      "[ Train | 096/300 ] loss = 0.49483, acc = 0.83008\n"
     ]
    },
    {
     "name": "stderr",
     "output_type": "stream",
     "text": [
      "V: 096/300: 100%|████| 26/26 [00:02<00:00, 11.25it/s, v_loss=0.746, v_acc=0.765]\n"
     ]
    },
    {
     "name": "stdout",
     "output_type": "stream",
     "text": [
      "[ Valid | 096/300 ] loss = 0.74613, acc = 0.76478\n",
      "[ Valid | 096/300 ] loss = 0.74613, acc = 0.76478 -> best\n",
      "Best model found at fold 1 epoch 96, acc=0.76478, saving model\n"
     ]
    },
    {
     "name": "stderr",
     "output_type": "stream",
     "text": [
      "T: 097/300: 100%|█| 78/78 [00:08<00:00,  9.14it/s, lr=3.82e-5, b_loss=0.595, b_a\n"
     ]
    },
    {
     "name": "stdout",
     "output_type": "stream",
     "text": [
      "[ Train | 097/300 ] loss = 0.48117, acc = 0.83050\n"
     ]
    },
    {
     "name": "stderr",
     "output_type": "stream",
     "text": [
      "V: 097/300: 100%|████| 26/26 [00:02<00:00,  9.51it/s, v_loss=0.739, v_acc=0.766]\n"
     ]
    },
    {
     "name": "stdout",
     "output_type": "stream",
     "text": [
      "[ Valid | 097/300 ] loss = 0.73944, acc = 0.76591\n",
      "[ Valid | 097/300 ] loss = 0.73944, acc = 0.76591 -> best\n",
      "Best model found at fold 1 epoch 97, acc=0.76591, saving model\n"
     ]
    },
    {
     "name": "stderr",
     "output_type": "stream",
     "text": [
      "T: 098/300: 100%|█| 78/78 [00:08<00:00,  8.78it/s, lr=2.18e-5, b_loss=0.551, b_a\n"
     ]
    },
    {
     "name": "stdout",
     "output_type": "stream",
     "text": [
      "[ Train | 098/300 ] loss = 0.47058, acc = 0.83833\n"
     ]
    },
    {
     "name": "stderr",
     "output_type": "stream",
     "text": [
      "V: 098/300: 100%|█████| 26/26 [00:02<00:00, 11.53it/s, v_loss=0.72, v_acc=0.772]\n"
     ]
    },
    {
     "name": "stdout",
     "output_type": "stream",
     "text": [
      "[ Valid | 098/300 ] loss = 0.72042, acc = 0.77194\n",
      "[ Valid | 098/300 ] loss = 0.72042, acc = 0.77194 -> best\n",
      "Best model found at fold 1 epoch 98, acc=0.77194, saving model\n"
     ]
    },
    {
     "name": "stderr",
     "output_type": "stream",
     "text": [
      "T: 099/300: 100%|█| 78/78 [00:08<00:00,  8.97it/s, lr=9.79e-6, b_loss=0.279, b_a\n"
     ]
    },
    {
     "name": "stdout",
     "output_type": "stream",
     "text": [
      "[ Train | 099/300 ] loss = 0.46930, acc = 0.83733\n"
     ]
    },
    {
     "name": "stderr",
     "output_type": "stream",
     "text": [
      "V: 099/300: 100%|████| 26/26 [00:02<00:00, 11.54it/s, v_loss=0.722, v_acc=0.774]\n"
     ]
    },
    {
     "name": "stdout",
     "output_type": "stream",
     "text": [
      "[ Valid | 099/300 ] loss = 0.72177, acc = 0.77399\n",
      "[ Valid | 099/300 ] loss = 0.72177, acc = 0.77399 -> best\n",
      "Best model found at fold 1 epoch 99, acc=0.77399, saving model\n"
     ]
    },
    {
     "name": "stderr",
     "output_type": "stream",
     "text": [
      "T: 100/300: 100%|█| 78/78 [00:08<00:00,  9.30it/s, lr=2.46e-6, b_loss=0.459, b_a\n"
     ]
    },
    {
     "name": "stdout",
     "output_type": "stream",
     "text": [
      "[ Train | 100/300 ] loss = 0.46044, acc = 0.83868\n"
     ]
    },
    {
     "name": "stderr",
     "output_type": "stream",
     "text": [
      "V: 100/300: 100%|████| 26/26 [00:02<00:00, 12.64it/s, v_loss=0.717, v_acc=0.773]\n"
     ]
    },
    {
     "name": "stdout",
     "output_type": "stream",
     "text": [
      "[ Valid | 100/300 ] loss = 0.71740, acc = 0.77320\n",
      "[ Valid | 100/300 ] loss = 0.71740, acc = 0.77320\n"
     ]
    },
    {
     "name": "stderr",
     "output_type": "stream",
     "text": [
      "T: 101/300: 100%|█| 78/78 [00:08<00:00,  9.23it/s, lr=0.0004, b_loss=0.746, b_ac\n"
     ]
    },
    {
     "name": "stdout",
     "output_type": "stream",
     "text": [
      "[ Train | 101/300 ] loss = 0.68360, acc = 0.76150\n"
     ]
    },
    {
     "name": "stderr",
     "output_type": "stream",
     "text": [
      "V: 101/300: 100%|█████| 26/26 [00:02<00:00, 11.81it/s, v_loss=1.58, v_acc=0.572]\n"
     ]
    },
    {
     "name": "stdout",
     "output_type": "stream",
     "text": [
      "[ Valid | 101/300 ] loss = 1.57973, acc = 0.57219\n",
      "[ Valid | 101/300 ] loss = 1.57973, acc = 0.57219\n"
     ]
    },
    {
     "name": "stderr",
     "output_type": "stream",
     "text": [
      "T: 102/300: 100%|█| 78/78 [00:08<00:00,  8.83it/s, lr=0.000398, b_loss=0.637, b_\n"
     ]
    },
    {
     "name": "stdout",
     "output_type": "stream",
     "text": [
      "[ Train | 102/300 ] loss = 0.70248, acc = 0.75723\n"
     ]
    },
    {
     "name": "stderr",
     "output_type": "stream",
     "text": [
      "V: 102/300: 100%|██████| 26/26 [00:02<00:00, 10.71it/s, v_loss=0.948, v_acc=0.7]\n"
     ]
    },
    {
     "name": "stdout",
     "output_type": "stream",
     "text": [
      "[ Valid | 102/300 ] loss = 0.94808, acc = 0.70000\n",
      "[ Valid | 102/300 ] loss = 0.94808, acc = 0.70000\n"
     ]
    },
    {
     "name": "stderr",
     "output_type": "stream",
     "text": [
      "T: 103/300: 100%|█| 78/78 [00:08<00:00,  8.89it/s, lr=0.00039, b_loss=0.56, b_ac\n"
     ]
    },
    {
     "name": "stdout",
     "output_type": "stream",
     "text": [
      "[ Train | 103/300 ] loss = 0.68883, acc = 0.75899\n"
     ]
    },
    {
     "name": "stderr",
     "output_type": "stream",
     "text": [
      "V: 103/300: 100%|██████| 26/26 [00:02<00:00, 10.82it/s, v_loss=1.01, v_acc=0.66]\n"
     ]
    },
    {
     "name": "stdout",
     "output_type": "stream",
     "text": [
      "[ Valid | 103/300 ] loss = 1.01320, acc = 0.66036\n",
      "[ Valid | 103/300 ] loss = 1.01320, acc = 0.66036\n"
     ]
    },
    {
     "name": "stderr",
     "output_type": "stream",
     "text": [
      "T: 104/300: 100%|█| 78/78 [00:08<00:00,  9.25it/s, lr=0.000378, b_loss=0.759, b_\n"
     ]
    },
    {
     "name": "stdout",
     "output_type": "stream",
     "text": [
      "[ Train | 104/300 ] loss = 0.68205, acc = 0.76716\n"
     ]
    },
    {
     "name": "stderr",
     "output_type": "stream",
     "text": [
      "V: 104/300: 100%|██████| 26/26 [00:02<00:00, 11.06it/s, v_loss=1.1, v_acc=0.656]\n"
     ]
    },
    {
     "name": "stdout",
     "output_type": "stream",
     "text": [
      "[ Valid | 104/300 ] loss = 1.09657, acc = 0.65577\n",
      "[ Valid | 104/300 ] loss = 1.09657, acc = 0.65577\n"
     ]
    },
    {
     "name": "stderr",
     "output_type": "stream",
     "text": [
      "T: 105/300: 100%|█| 78/78 [00:08<00:00,  9.17it/s, lr=0.000362, b_loss=0.664, b_\n"
     ]
    },
    {
     "name": "stdout",
     "output_type": "stream",
     "text": [
      "[ Train | 105/300 ] loss = 0.64568, acc = 0.77459\n"
     ]
    },
    {
     "name": "stderr",
     "output_type": "stream",
     "text": [
      "V: 105/300: 100%|█████| 26/26 [00:02<00:00, 11.48it/s, v_loss=1.04, v_acc=0.687]\n"
     ]
    },
    {
     "name": "stdout",
     "output_type": "stream",
     "text": [
      "[ Valid | 105/300 ] loss = 1.04053, acc = 0.68684\n",
      "[ Valid | 105/300 ] loss = 1.04053, acc = 0.68684\n"
     ]
    },
    {
     "name": "stderr",
     "output_type": "stream",
     "text": [
      "T: 106/300: 100%|█| 78/78 [00:08<00:00,  8.87it/s, lr=0.000341, b_loss=0.737, b_\n"
     ]
    },
    {
     "name": "stdout",
     "output_type": "stream",
     "text": [
      "[ Train | 106/300 ] loss = 0.63725, acc = 0.77921\n"
     ]
    },
    {
     "name": "stderr",
     "output_type": "stream",
     "text": [
      "V: 106/300: 100%|█████| 26/26 [00:02<00:00, 11.57it/s, v_loss=1.13, v_acc=0.652]\n"
     ]
    },
    {
     "name": "stdout",
     "output_type": "stream",
     "text": [
      "[ Valid | 106/300 ] loss = 1.12624, acc = 0.65160\n",
      "[ Valid | 106/300 ] loss = 1.12624, acc = 0.65160\n"
     ]
    },
    {
     "name": "stderr",
     "output_type": "stream",
     "text": [
      "T: 107/300: 100%|█| 78/78 [00:08<00:00,  9.02it/s, lr=0.000318, b_loss=0.631, b_\n"
     ]
    },
    {
     "name": "stdout",
     "output_type": "stream",
     "text": [
      "[ Train | 107/300 ] loss = 0.61705, acc = 0.78522\n"
     ]
    },
    {
     "name": "stderr",
     "output_type": "stream",
     "text": [
      "V: 107/300: 100%|█████| 26/26 [00:02<00:00, 12.22it/s, v_loss=0.96, v_acc=0.695]\n"
     ]
    },
    {
     "name": "stdout",
     "output_type": "stream",
     "text": [
      "[ Valid | 107/300 ] loss = 0.96028, acc = 0.69522\n",
      "[ Valid | 107/300 ] loss = 0.96028, acc = 0.69522\n"
     ]
    },
    {
     "name": "stderr",
     "output_type": "stream",
     "text": [
      "T: 108/300: 100%|█| 78/78 [00:08<00:00,  9.12it/s, lr=0.000291, b_loss=0.64, b_a\n"
     ]
    },
    {
     "name": "stdout",
     "output_type": "stream",
     "text": [
      "[ Train | 108/300 ] loss = 0.59967, acc = 0.79542\n"
     ]
    },
    {
     "name": "stderr",
     "output_type": "stream",
     "text": [
      "V: 108/300: 100%|████| 26/26 [00:02<00:00, 11.11it/s, v_loss=0.908, v_acc=0.717]\n"
     ]
    },
    {
     "name": "stdout",
     "output_type": "stream",
     "text": [
      "[ Valid | 108/300 ] loss = 0.90759, acc = 0.71745\n",
      "[ Valid | 108/300 ] loss = 0.90759, acc = 0.71745\n"
     ]
    },
    {
     "name": "stderr",
     "output_type": "stream",
     "text": [
      "T: 109/300: 100%|█| 78/78 [00:08<00:00,  8.95it/s, lr=0.000262, b_loss=0.553, b_\n"
     ]
    },
    {
     "name": "stdout",
     "output_type": "stream",
     "text": [
      "[ Train | 109/300 ] loss = 0.56260, acc = 0.80864\n"
     ]
    },
    {
     "name": "stderr",
     "output_type": "stream",
     "text": [
      "V: 109/300: 100%|█████| 26/26 [00:02<00:00, 11.74it/s, v_loss=0.82, v_acc=0.739]\n"
     ]
    },
    {
     "name": "stdout",
     "output_type": "stream",
     "text": [
      "[ Valid | 109/300 ] loss = 0.82033, acc = 0.73911\n",
      "[ Valid | 109/300 ] loss = 0.82033, acc = 0.73911\n"
     ]
    },
    {
     "name": "stderr",
     "output_type": "stream",
     "text": [
      "T: 110/300: 100%|█| 78/78 [00:08<00:00,  9.02it/s, lr=0.000231, b_loss=0.559, b_\n"
     ]
    },
    {
     "name": "stdout",
     "output_type": "stream",
     "text": [
      "[ Train | 110/300 ] loss = 0.53937, acc = 0.81658\n"
     ]
    },
    {
     "name": "stderr",
     "output_type": "stream",
     "text": [
      "V: 110/300: 100%|████| 26/26 [00:02<00:00, 12.21it/s, v_loss=0.834, v_acc=0.732]\n"
     ]
    },
    {
     "name": "stdout",
     "output_type": "stream",
     "text": [
      "[ Valid | 110/300 ] loss = 0.83448, acc = 0.73166\n",
      "[ Valid | 110/300 ] loss = 0.83448, acc = 0.73166\n"
     ]
    },
    {
     "name": "stderr",
     "output_type": "stream",
     "text": [
      "T: 111/300: 100%|█| 78/78 [00:08<00:00,  9.04it/s, lr=0.0002, b_loss=0.553, b_ac\n"
     ]
    },
    {
     "name": "stdout",
     "output_type": "stream",
     "text": [
      "[ Train | 111/300 ] loss = 0.51745, acc = 0.81827\n"
     ]
    },
    {
     "name": "stderr",
     "output_type": "stream",
     "text": [
      "V: 111/300: 100%|████| 26/26 [00:02<00:00,  9.90it/s, v_loss=0.821, v_acc=0.746]\n"
     ]
    },
    {
     "name": "stdout",
     "output_type": "stream",
     "text": [
      "[ Valid | 111/300 ] loss = 0.82137, acc = 0.74607\n",
      "[ Valid | 111/300 ] loss = 0.82137, acc = 0.74607\n"
     ]
    },
    {
     "name": "stderr",
     "output_type": "stream",
     "text": [
      "T: 112/300: 100%|█| 78/78 [00:08<00:00,  8.99it/s, lr=0.000169, b_loss=0.591, b_\n"
     ]
    },
    {
     "name": "stdout",
     "output_type": "stream",
     "text": [
      "[ Train | 112/300 ] loss = 0.50123, acc = 0.82751\n"
     ]
    },
    {
     "name": "stderr",
     "output_type": "stream",
     "text": [
      "V: 112/300: 100%|████| 26/26 [00:02<00:00, 10.75it/s, v_loss=0.777, v_acc=0.759]\n"
     ]
    },
    {
     "name": "stdout",
     "output_type": "stream",
     "text": [
      "[ Valid | 112/300 ] loss = 0.77657, acc = 0.75869\n",
      "[ Valid | 112/300 ] loss = 0.77657, acc = 0.75869\n"
     ]
    },
    {
     "name": "stderr",
     "output_type": "stream",
     "text": [
      "T: 113/300: 100%|█| 78/78 [00:08<00:00,  9.05it/s, lr=0.000138, b_loss=0.328, b_\n"
     ]
    },
    {
     "name": "stdout",
     "output_type": "stream",
     "text": [
      "[ Train | 113/300 ] loss = 0.46497, acc = 0.83873\n"
     ]
    },
    {
     "name": "stderr",
     "output_type": "stream",
     "text": [
      "V: 113/300: 100%|████| 26/26 [00:02<00:00, 10.34it/s, v_loss=0.752, v_acc=0.762]\n"
     ]
    },
    {
     "name": "stdout",
     "output_type": "stream",
     "text": [
      "[ Valid | 113/300 ] loss = 0.75211, acc = 0.76166\n",
      "[ Valid | 113/300 ] loss = 0.75211, acc = 0.76166\n"
     ]
    },
    {
     "name": "stderr",
     "output_type": "stream",
     "text": [
      "T: 114/300: 100%|█| 78/78 [00:08<00:00,  8.91it/s, lr=0.000109, b_loss=0.454, b_\n"
     ]
    },
    {
     "name": "stdout",
     "output_type": "stream",
     "text": [
      "[ Train | 114/300 ] loss = 0.45287, acc = 0.84320\n"
     ]
    },
    {
     "name": "stderr",
     "output_type": "stream",
     "text": [
      "V: 114/300: 100%|█████| 26/26 [00:02<00:00, 10.64it/s, v_loss=0.73, v_acc=0.771]\n"
     ]
    },
    {
     "name": "stdout",
     "output_type": "stream",
     "text": [
      "[ Valid | 114/300 ] loss = 0.72982, acc = 0.77142\n",
      "[ Valid | 114/300 ] loss = 0.72982, acc = 0.77142\n"
     ]
    },
    {
     "name": "stderr",
     "output_type": "stream",
     "text": [
      "T: 115/300: 100%|█| 78/78 [00:08<00:00,  9.31it/s, lr=8.24e-5, b_loss=0.482, b_a\n"
     ]
    },
    {
     "name": "stdout",
     "output_type": "stream",
     "text": [
      "[ Train | 115/300 ] loss = 0.44356, acc = 0.84798\n"
     ]
    },
    {
     "name": "stderr",
     "output_type": "stream",
     "text": [
      "V: 115/300: 100%|█████| 26/26 [00:02<00:00, 10.28it/s, v_loss=0.782, v_acc=0.76]\n"
     ]
    },
    {
     "name": "stdout",
     "output_type": "stream",
     "text": [
      "[ Valid | 115/300 ] loss = 0.78209, acc = 0.75970\n",
      "[ Valid | 115/300 ] loss = 0.78209, acc = 0.75970\n"
     ]
    },
    {
     "name": "stderr",
     "output_type": "stream",
     "text": [
      "T: 116/300: 100%|█| 78/78 [00:08<00:00,  8.88it/s, lr=5.86e-5, b_loss=0.552, b_a\n"
     ]
    },
    {
     "name": "stdout",
     "output_type": "stream",
     "text": [
      "[ Train | 116/300 ] loss = 0.41727, acc = 0.85552\n"
     ]
    },
    {
     "name": "stderr",
     "output_type": "stream",
     "text": [
      "V: 116/300: 100%|████| 26/26 [00:02<00:00, 10.43it/s, v_loss=0.752, v_acc=0.769]\n"
     ]
    },
    {
     "name": "stdout",
     "output_type": "stream",
     "text": [
      "[ Valid | 116/300 ] loss = 0.75190, acc = 0.76927\n",
      "[ Valid | 116/300 ] loss = 0.75190, acc = 0.76927\n"
     ]
    },
    {
     "name": "stderr",
     "output_type": "stream",
     "text": [
      "T: 117/300: 100%|█| 78/78 [00:08<00:00,  9.02it/s, lr=3.82e-5, b_loss=0.418, b_a\n"
     ]
    },
    {
     "name": "stdout",
     "output_type": "stream",
     "text": [
      "[ Train | 117/300 ] loss = 0.40393, acc = 0.85847\n"
     ]
    },
    {
     "name": "stderr",
     "output_type": "stream",
     "text": [
      "V: 117/300: 100%|██████| 26/26 [00:02<00:00, 10.28it/s, v_loss=0.71, v_acc=0.78]\n"
     ]
    },
    {
     "name": "stdout",
     "output_type": "stream",
     "text": [
      "[ Valid | 117/300 ] loss = 0.70954, acc = 0.77983\n",
      "[ Valid | 117/300 ] loss = 0.70954, acc = 0.77983 -> best\n",
      "Best model found at fold 1 epoch 117, acc=0.77983, saving model\n"
     ]
    },
    {
     "name": "stderr",
     "output_type": "stream",
     "text": [
      "T: 118/300: 100%|█| 78/78 [00:08<00:00,  9.03it/s, lr=2.18e-5, b_loss=0.511, b_a\n"
     ]
    },
    {
     "name": "stdout",
     "output_type": "stream",
     "text": [
      "[ Train | 118/300 ] loss = 0.39888, acc = 0.86311\n"
     ]
    },
    {
     "name": "stderr",
     "output_type": "stream",
     "text": [
      "V: 118/300: 100%|█████| 26/26 [00:02<00:00, 11.23it/s, v_loss=0.72, v_acc=0.778]\n"
     ]
    },
    {
     "name": "stdout",
     "output_type": "stream",
     "text": [
      "[ Valid | 118/300 ] loss = 0.72033, acc = 0.77758\n",
      "[ Valid | 118/300 ] loss = 0.72033, acc = 0.77758\n"
     ]
    },
    {
     "name": "stderr",
     "output_type": "stream",
     "text": [
      "T: 119/300: 100%|█| 78/78 [00:08<00:00,  9.04it/s, lr=9.79e-6, b_loss=0.372, b_a\n"
     ]
    },
    {
     "name": "stdout",
     "output_type": "stream",
     "text": [
      "[ Train | 119/300 ] loss = 0.39253, acc = 0.86293\n"
     ]
    },
    {
     "name": "stderr",
     "output_type": "stream",
     "text": [
      "V: 119/300: 100%|████| 26/26 [00:02<00:00, 11.90it/s, v_loss=0.707, v_acc=0.782]\n"
     ]
    },
    {
     "name": "stdout",
     "output_type": "stream",
     "text": [
      "[ Valid | 119/300 ] loss = 0.70677, acc = 0.78248\n",
      "[ Valid | 119/300 ] loss = 0.70677, acc = 0.78248 -> best\n",
      "Best model found at fold 1 epoch 119, acc=0.78248, saving model\n"
     ]
    },
    {
     "name": "stderr",
     "output_type": "stream",
     "text": [
      "T: 120/300: 100%|█| 78/78 [00:08<00:00,  9.17it/s, lr=2.46e-6, b_loss=0.408, b_a\n"
     ]
    },
    {
     "name": "stdout",
     "output_type": "stream",
     "text": [
      "[ Train | 120/300 ] loss = 0.38447, acc = 0.86551\n"
     ]
    },
    {
     "name": "stderr",
     "output_type": "stream",
     "text": [
      "V: 120/300: 100%|█████| 26/26 [00:02<00:00, 10.54it/s, v_loss=0.71, v_acc=0.781]\n"
     ]
    },
    {
     "name": "stdout",
     "output_type": "stream",
     "text": [
      "[ Valid | 120/300 ] loss = 0.70969, acc = 0.78095\n",
      "[ Valid | 120/300 ] loss = 0.70969, acc = 0.78095\n"
     ]
    },
    {
     "name": "stderr",
     "output_type": "stream",
     "text": [
      "T: 121/300: 100%|█| 78/78 [00:08<00:00,  8.88it/s, lr=0.0004, b_loss=0.654, b_ac\n"
     ]
    },
    {
     "name": "stdout",
     "output_type": "stream",
     "text": [
      "[ Train | 121/300 ] loss = 0.64613, acc = 0.77509\n"
     ]
    },
    {
     "name": "stderr",
     "output_type": "stream",
     "text": [
      "V: 121/300: 100%|█████| 26/26 [00:02<00:00, 12.00it/s, v_loss=1.05, v_acc=0.682]\n"
     ]
    },
    {
     "name": "stdout",
     "output_type": "stream",
     "text": [
      "[ Valid | 121/300 ] loss = 1.04778, acc = 0.68179\n",
      "[ Valid | 121/300 ] loss = 1.04778, acc = 0.68179\n"
     ]
    },
    {
     "name": "stderr",
     "output_type": "stream",
     "text": [
      "T: 122/300: 100%|█| 78/78 [00:08<00:00,  9.03it/s, lr=0.000398, b_loss=0.622, b_\n"
     ]
    },
    {
     "name": "stdout",
     "output_type": "stream",
     "text": [
      "[ Train | 122/300 ] loss = 0.62663, acc = 0.77979\n"
     ]
    },
    {
     "name": "stderr",
     "output_type": "stream",
     "text": [
      "V: 122/300: 100%|████| 26/26 [00:02<00:00, 11.88it/s, v_loss=0.999, v_acc=0.684]\n"
     ]
    },
    {
     "name": "stdout",
     "output_type": "stream",
     "text": [
      "[ Valid | 122/300 ] loss = 0.99861, acc = 0.68353\n",
      "[ Valid | 122/300 ] loss = 0.99861, acc = 0.68353\n"
     ]
    },
    {
     "name": "stderr",
     "output_type": "stream",
     "text": [
      "T: 123/300: 100%|█| 78/78 [00:08<00:00,  9.14it/s, lr=0.00039, b_loss=0.542, b_a\n"
     ]
    },
    {
     "name": "stdout",
     "output_type": "stream",
     "text": [
      "[ Train | 123/300 ] loss = 0.63195, acc = 0.78417\n"
     ]
    },
    {
     "name": "stderr",
     "output_type": "stream",
     "text": [
      "V: 123/300: 100%|████| 26/26 [00:02<00:00, 11.89it/s, v_loss=0.864, v_acc=0.717]\n"
     ]
    },
    {
     "name": "stdout",
     "output_type": "stream",
     "text": [
      "[ Valid | 123/300 ] loss = 0.86406, acc = 0.71667\n",
      "[ Valid | 123/300 ] loss = 0.86406, acc = 0.71667\n"
     ]
    },
    {
     "name": "stderr",
     "output_type": "stream",
     "text": [
      "T: 124/300: 100%|█| 78/78 [00:08<00:00,  9.06it/s, lr=0.000378, b_loss=0.466, b_\n"
     ]
    },
    {
     "name": "stdout",
     "output_type": "stream",
     "text": [
      "[ Train | 124/300 ] loss = 0.58952, acc = 0.79448\n"
     ]
    },
    {
     "name": "stderr",
     "output_type": "stream",
     "text": [
      "V: 124/300: 100%|████| 26/26 [00:02<00:00, 10.87it/s, v_loss=0.992, v_acc=0.697]\n"
     ]
    },
    {
     "name": "stdout",
     "output_type": "stream",
     "text": [
      "[ Valid | 124/300 ] loss = 0.99237, acc = 0.69707\n",
      "[ Valid | 124/300 ] loss = 0.99237, acc = 0.69707\n"
     ]
    },
    {
     "name": "stderr",
     "output_type": "stream",
     "text": [
      "T: 125/300: 100%|█| 78/78 [00:08<00:00,  8.96it/s, lr=0.000362, b_loss=0.557, b_\n"
     ]
    },
    {
     "name": "stdout",
     "output_type": "stream",
     "text": [
      "[ Train | 125/300 ] loss = 0.58774, acc = 0.79700\n"
     ]
    },
    {
     "name": "stderr",
     "output_type": "stream",
     "text": [
      "V: 125/300: 100%|█████| 26/26 [00:02<00:00, 10.70it/s, v_loss=1.07, v_acc=0.692]\n"
     ]
    },
    {
     "name": "stdout",
     "output_type": "stream",
     "text": [
      "[ Valid | 125/300 ] loss = 1.06887, acc = 0.69190\n",
      "[ Valid | 125/300 ] loss = 1.06887, acc = 0.69190\n"
     ]
    },
    {
     "name": "stderr",
     "output_type": "stream",
     "text": [
      "T: 126/300: 100%|█| 78/78 [00:08<00:00,  8.98it/s, lr=0.000341, b_loss=0.676, b_\n"
     ]
    },
    {
     "name": "stdout",
     "output_type": "stream",
     "text": [
      "[ Train | 126/300 ] loss = 0.57059, acc = 0.79717\n"
     ]
    },
    {
     "name": "stderr",
     "output_type": "stream",
     "text": [
      "V: 126/300: 100%|████| 26/26 [00:02<00:00, 10.36it/s, v_loss=0.946, v_acc=0.713]\n"
     ]
    },
    {
     "name": "stdout",
     "output_type": "stream",
     "text": [
      "[ Valid | 126/300 ] loss = 0.94555, acc = 0.71274\n",
      "[ Valid | 126/300 ] loss = 0.94555, acc = 0.71274\n"
     ]
    },
    {
     "name": "stderr",
     "output_type": "stream",
     "text": [
      "T: 127/300: 100%|█| 78/78 [00:08<00:00,  8.98it/s, lr=0.000318, b_loss=0.507, b_\n"
     ]
    },
    {
     "name": "stdout",
     "output_type": "stream",
     "text": [
      "[ Train | 127/300 ] loss = 0.54062, acc = 0.81237\n"
     ]
    },
    {
     "name": "stderr",
     "output_type": "stream",
     "text": [
      "V: 127/300: 100%|████| 26/26 [00:02<00:00, 10.43it/s, v_loss=0.864, v_acc=0.737]\n"
     ]
    },
    {
     "name": "stdout",
     "output_type": "stream",
     "text": [
      "[ Valid | 127/300 ] loss = 0.86393, acc = 0.73709\n",
      "[ Valid | 127/300 ] loss = 0.86393, acc = 0.73709\n"
     ]
    },
    {
     "name": "stderr",
     "output_type": "stream",
     "text": [
      "T: 128/300: 100%|█| 78/78 [00:08<00:00,  8.97it/s, lr=0.000291, b_loss=0.724, b_\n"
     ]
    },
    {
     "name": "stdout",
     "output_type": "stream",
     "text": [
      "[ Train | 128/300 ] loss = 0.53110, acc = 0.81823\n"
     ]
    },
    {
     "name": "stderr",
     "output_type": "stream",
     "text": [
      "V: 128/300: 100%|████| 26/26 [00:02<00:00, 10.56it/s, v_loss=0.827, v_acc=0.745]\n"
     ]
    },
    {
     "name": "stdout",
     "output_type": "stream",
     "text": [
      "[ Valid | 128/300 ] loss = 0.82657, acc = 0.74485\n",
      "[ Valid | 128/300 ] loss = 0.82657, acc = 0.74485\n"
     ]
    },
    {
     "name": "stderr",
     "output_type": "stream",
     "text": [
      "T: 129/300: 100%|█| 78/78 [00:08<00:00,  9.03it/s, lr=0.000262, b_loss=0.474, b_\n"
     ]
    },
    {
     "name": "stdout",
     "output_type": "stream",
     "text": [
      "[ Train | 129/300 ] loss = 0.50075, acc = 0.82334\n"
     ]
    },
    {
     "name": "stderr",
     "output_type": "stream",
     "text": [
      "V: 129/300: 100%|████| 26/26 [00:02<00:00, 10.90it/s, v_loss=0.884, v_acc=0.739]\n"
     ]
    },
    {
     "name": "stdout",
     "output_type": "stream",
     "text": [
      "[ Valid | 129/300 ] loss = 0.88399, acc = 0.73862\n",
      "[ Valid | 129/300 ] loss = 0.88399, acc = 0.73862\n"
     ]
    },
    {
     "name": "stderr",
     "output_type": "stream",
     "text": [
      "T: 130/300: 100%|█| 78/78 [00:08<00:00,  8.93it/s, lr=0.000231, b_loss=0.432, b_\n"
     ]
    },
    {
     "name": "stdout",
     "output_type": "stream",
     "text": [
      "[ Train | 130/300 ] loss = 0.47552, acc = 0.83659\n"
     ]
    },
    {
     "name": "stderr",
     "output_type": "stream",
     "text": [
      "V: 130/300: 100%|████| 26/26 [00:02<00:00, 10.62it/s, v_loss=0.799, v_acc=0.752]\n"
     ]
    },
    {
     "name": "stdout",
     "output_type": "stream",
     "text": [
      "[ Valid | 130/300 ] loss = 0.79900, acc = 0.75216\n",
      "[ Valid | 130/300 ] loss = 0.79900, acc = 0.75216\n"
     ]
    },
    {
     "name": "stderr",
     "output_type": "stream",
     "text": [
      "T: 131/300: 100%|█| 78/78 [00:08<00:00,  9.12it/s, lr=0.0002, b_loss=0.439, b_ac\n"
     ]
    },
    {
     "name": "stdout",
     "output_type": "stream",
     "text": [
      "[ Train | 131/300 ] loss = 0.45241, acc = 0.84025\n"
     ]
    },
    {
     "name": "stderr",
     "output_type": "stream",
     "text": [
      "V: 131/300: 100%|████| 26/26 [00:02<00:00, 10.94it/s, v_loss=0.811, v_acc=0.758]\n"
     ]
    },
    {
     "name": "stdout",
     "output_type": "stream",
     "text": [
      "[ Valid | 131/300 ] loss = 0.81098, acc = 0.75820\n",
      "[ Valid | 131/300 ] loss = 0.81098, acc = 0.75820\n"
     ]
    },
    {
     "name": "stderr",
     "output_type": "stream",
     "text": [
      "T: 132/300: 100%|█| 78/78 [00:08<00:00,  8.85it/s, lr=0.000169, b_loss=0.511, b_\n"
     ]
    },
    {
     "name": "stdout",
     "output_type": "stream",
     "text": [
      "[ Train | 132/300 ] loss = 0.44245, acc = 0.84624\n"
     ]
    },
    {
     "name": "stderr",
     "output_type": "stream",
     "text": [
      "V: 132/300: 100%|████| 26/26 [00:02<00:00, 10.09it/s, v_loss=0.777, v_acc=0.765]\n"
     ]
    },
    {
     "name": "stdout",
     "output_type": "stream",
     "text": [
      "[ Valid | 132/300 ] loss = 0.77670, acc = 0.76535\n",
      "[ Valid | 132/300 ] loss = 0.77670, acc = 0.76535\n"
     ]
    },
    {
     "name": "stderr",
     "output_type": "stream",
     "text": [
      "T: 133/300: 100%|█| 78/78 [00:08<00:00,  8.72it/s, lr=0.000138, b_loss=0.499, b_\n"
     ]
    },
    {
     "name": "stdout",
     "output_type": "stream",
     "text": [
      "[ Train | 133/300 ] loss = 0.40944, acc = 0.85713\n"
     ]
    },
    {
     "name": "stderr",
     "output_type": "stream",
     "text": [
      "V: 133/300: 100%|█████| 26/26 [00:02<00:00, 10.44it/s, v_loss=0.74, v_acc=0.774]\n"
     ]
    },
    {
     "name": "stdout",
     "output_type": "stream",
     "text": [
      "[ Valid | 133/300 ] loss = 0.74049, acc = 0.77436\n",
      "[ Valid | 133/300 ] loss = 0.74049, acc = 0.77436\n"
     ]
    },
    {
     "name": "stderr",
     "output_type": "stream",
     "text": [
      "T: 134/300: 100%|█| 78/78 [00:08<00:00,  9.06it/s, lr=0.000109, b_loss=0.474, b_\n"
     ]
    },
    {
     "name": "stdout",
     "output_type": "stream",
     "text": [
      "[ Train | 134/300 ] loss = 0.39886, acc = 0.86316\n"
     ]
    },
    {
     "name": "stderr",
     "output_type": "stream",
     "text": [
      "V: 134/300: 100%|████| 26/26 [00:02<00:00, 10.68it/s, v_loss=0.722, v_acc=0.782]\n"
     ]
    },
    {
     "name": "stdout",
     "output_type": "stream",
     "text": [
      "[ Valid | 134/300 ] loss = 0.72210, acc = 0.78181\n",
      "[ Valid | 134/300 ] loss = 0.72210, acc = 0.78181\n"
     ]
    },
    {
     "name": "stderr",
     "output_type": "stream",
     "text": [
      "T: 135/300: 100%|█| 78/78 [00:08<00:00,  8.97it/s, lr=8.24e-5, b_loss=0.39, b_ac\n"
     ]
    },
    {
     "name": "stdout",
     "output_type": "stream",
     "text": [
      "[ Train | 135/300 ] loss = 0.37141, acc = 0.87250\n"
     ]
    },
    {
     "name": "stderr",
     "output_type": "stream",
     "text": [
      "V: 135/300: 100%|████| 26/26 [00:02<00:00, 10.86it/s, v_loss=0.736, v_acc=0.781]\n"
     ]
    },
    {
     "name": "stdout",
     "output_type": "stream",
     "text": [
      "[ Valid | 135/300 ] loss = 0.73612, acc = 0.78099\n",
      "[ Valid | 135/300 ] loss = 0.73612, acc = 0.78099\n"
     ]
    },
    {
     "name": "stderr",
     "output_type": "stream",
     "text": [
      "T: 136/300: 100%|█| 78/78 [00:08<00:00,  9.05it/s, lr=5.86e-5, b_loss=0.485, b_a\n"
     ]
    },
    {
     "name": "stdout",
     "output_type": "stream",
     "text": [
      "[ Train | 136/300 ] loss = 0.36529, acc = 0.87378\n"
     ]
    },
    {
     "name": "stderr",
     "output_type": "stream",
     "text": [
      "V: 136/300: 100%|████| 26/26 [00:02<00:00, 11.67it/s, v_loss=0.733, v_acc=0.787]\n"
     ]
    },
    {
     "name": "stdout",
     "output_type": "stream",
     "text": [
      "[ Valid | 136/300 ] loss = 0.73303, acc = 0.78671\n",
      "[ Valid | 136/300 ] loss = 0.73303, acc = 0.78671 -> best\n",
      "Best model found at fold 1 epoch 136, acc=0.78671, saving model\n"
     ]
    },
    {
     "name": "stderr",
     "output_type": "stream",
     "text": [
      "T: 137/300: 100%|█| 78/78 [00:08<00:00,  9.04it/s, lr=3.82e-5, b_loss=0.252, b_a\n"
     ]
    },
    {
     "name": "stdout",
     "output_type": "stream",
     "text": [
      "[ Train | 137/300 ] loss = 0.34997, acc = 0.87850\n"
     ]
    },
    {
     "name": "stderr",
     "output_type": "stream",
     "text": [
      "V: 137/300: 100%|████| 26/26 [00:02<00:00, 11.41it/s, v_loss=0.716, v_acc=0.789]\n"
     ]
    },
    {
     "name": "stdout",
     "output_type": "stream",
     "text": [
      "[ Valid | 137/300 ] loss = 0.71645, acc = 0.78911\n",
      "[ Valid | 137/300 ] loss = 0.71645, acc = 0.78911 -> best\n",
      "Best model found at fold 1 epoch 137, acc=0.78911, saving model\n"
     ]
    },
    {
     "name": "stderr",
     "output_type": "stream",
     "text": [
      "T: 138/300: 100%|█| 78/78 [00:08<00:00,  9.12it/s, lr=2.18e-5, b_loss=0.425, b_a\n"
     ]
    },
    {
     "name": "stdout",
     "output_type": "stream",
     "text": [
      "[ Train | 138/300 ] loss = 0.33065, acc = 0.88770\n"
     ]
    },
    {
     "name": "stderr",
     "output_type": "stream",
     "text": [
      "V: 138/300: 100%|████| 26/26 [00:02<00:00, 10.62it/s, v_loss=0.708, v_acc=0.792]\n"
     ]
    },
    {
     "name": "stdout",
     "output_type": "stream",
     "text": [
      "[ Valid | 138/300 ] loss = 0.70783, acc = 0.79152\n",
      "[ Valid | 138/300 ] loss = 0.70783, acc = 0.79152 -> best\n",
      "Best model found at fold 1 epoch 138, acc=0.79152, saving model\n"
     ]
    },
    {
     "name": "stderr",
     "output_type": "stream",
     "text": [
      "T: 139/300: 100%|█| 78/78 [00:08<00:00,  8.95it/s, lr=9.79e-6, b_loss=0.322, b_a\n"
     ]
    },
    {
     "name": "stdout",
     "output_type": "stream",
     "text": [
      "[ Train | 139/300 ] loss = 0.33116, acc = 0.88557\n"
     ]
    },
    {
     "name": "stderr",
     "output_type": "stream",
     "text": [
      "V: 139/300: 100%|█████| 26/26 [00:02<00:00, 11.06it/s, v_loss=0.716, v_acc=0.79]\n"
     ]
    },
    {
     "name": "stdout",
     "output_type": "stream",
     "text": [
      "[ Valid | 139/300 ] loss = 0.71621, acc = 0.79040\n",
      "[ Valid | 139/300 ] loss = 0.71621, acc = 0.79040\n"
     ]
    },
    {
     "name": "stderr",
     "output_type": "stream",
     "text": [
      "T: 140/300: 100%|█| 78/78 [00:08<00:00,  8.82it/s, lr=2.46e-6, b_loss=0.336, b_a\n"
     ]
    },
    {
     "name": "stdout",
     "output_type": "stream",
     "text": [
      "[ Train | 140/300 ] loss = 0.33070, acc = 0.88528\n"
     ]
    },
    {
     "name": "stderr",
     "output_type": "stream",
     "text": [
      "V: 140/300: 100%|████| 26/26 [00:02<00:00, 11.98it/s, v_loss=0.718, v_acc=0.793]\n"
     ]
    },
    {
     "name": "stdout",
     "output_type": "stream",
     "text": [
      "[ Valid | 140/300 ] loss = 0.71842, acc = 0.79269\n",
      "[ Valid | 140/300 ] loss = 0.71842, acc = 0.79269 -> best\n",
      "Best model found at fold 1 epoch 140, acc=0.79269, saving model\n"
     ]
    },
    {
     "name": "stderr",
     "output_type": "stream",
     "text": [
      "T: 141/300: 100%|█| 78/78 [00:08<00:00,  9.01it/s, lr=0.0004, b_loss=0.555, b_ac\n"
     ]
    },
    {
     "name": "stdout",
     "output_type": "stream",
     "text": [
      "[ Train | 141/300 ] loss = 0.56391, acc = 0.80759\n"
     ]
    },
    {
     "name": "stderr",
     "output_type": "stream",
     "text": [
      "V: 141/300: 100%|█████| 26/26 [00:02<00:00, 10.79it/s, v_loss=1.29, v_acc=0.634]\n"
     ]
    },
    {
     "name": "stdout",
     "output_type": "stream",
     "text": [
      "[ Valid | 141/300 ] loss = 1.29362, acc = 0.63378\n",
      "[ Valid | 141/300 ] loss = 1.29362, acc = 0.63378\n"
     ]
    },
    {
     "name": "stderr",
     "output_type": "stream",
     "text": [
      "T: 142/300: 100%|█| 78/78 [00:08<00:00,  9.31it/s, lr=0.000398, b_loss=0.703, b_\n"
     ]
    },
    {
     "name": "stdout",
     "output_type": "stream",
     "text": [
      "[ Train | 142/300 ] loss = 0.58756, acc = 0.79559\n"
     ]
    },
    {
     "name": "stderr",
     "output_type": "stream",
     "text": [
      "V: 142/300: 100%|████| 26/26 [00:02<00:00, 11.11it/s, v_loss=0.996, v_acc=0.697]\n"
     ]
    },
    {
     "name": "stdout",
     "output_type": "stream",
     "text": [
      "[ Valid | 142/300 ] loss = 0.99613, acc = 0.69735\n",
      "[ Valid | 142/300 ] loss = 0.99613, acc = 0.69735\n"
     ]
    },
    {
     "name": "stderr",
     "output_type": "stream",
     "text": [
      "T: 143/300: 100%|█| 78/78 [00:08<00:00,  9.01it/s, lr=0.00039, b_loss=0.634, b_a\n"
     ]
    },
    {
     "name": "stdout",
     "output_type": "stream",
     "text": [
      "[ Train | 143/300 ] loss = 0.55174, acc = 0.80411\n"
     ]
    },
    {
     "name": "stderr",
     "output_type": "stream",
     "text": [
      "V: 143/300: 100%|█████| 26/26 [00:02<00:00, 10.82it/s, v_loss=0.905, v_acc=0.73]\n"
     ]
    },
    {
     "name": "stdout",
     "output_type": "stream",
     "text": [
      "[ Valid | 143/300 ] loss = 0.90467, acc = 0.72958\n",
      "[ Valid | 143/300 ] loss = 0.90467, acc = 0.72958\n"
     ]
    },
    {
     "name": "stderr",
     "output_type": "stream",
     "text": [
      "T: 144/300: 100%|█| 78/78 [00:08<00:00,  8.98it/s, lr=0.000378, b_loss=0.757, b_\n"
     ]
    },
    {
     "name": "stdout",
     "output_type": "stream",
     "text": [
      "[ Train | 144/300 ] loss = 0.53915, acc = 0.81003\n"
     ]
    },
    {
     "name": "stderr",
     "output_type": "stream",
     "text": [
      "V: 144/300: 100%|█████| 26/26 [00:02<00:00, 11.69it/s, v_loss=1.05, v_acc=0.685]\n"
     ]
    },
    {
     "name": "stdout",
     "output_type": "stream",
     "text": [
      "[ Valid | 144/300 ] loss = 1.05475, acc = 0.68475\n",
      "[ Valid | 144/300 ] loss = 1.05475, acc = 0.68475\n"
     ]
    },
    {
     "name": "stderr",
     "output_type": "stream",
     "text": [
      "T: 145/300: 100%|█| 78/78 [00:08<00:00,  9.14it/s, lr=0.000362, b_loss=0.559, b_\n"
     ]
    },
    {
     "name": "stdout",
     "output_type": "stream",
     "text": [
      "[ Train | 145/300 ] loss = 0.51677, acc = 0.82094\n"
     ]
    },
    {
     "name": "stderr",
     "output_type": "stream",
     "text": [
      "V: 145/300: 100%|█████| 26/26 [00:02<00:00, 12.21it/s, v_loss=0.97, v_acc=0.722]\n"
     ]
    },
    {
     "name": "stdout",
     "output_type": "stream",
     "text": [
      "[ Valid | 145/300 ] loss = 0.96973, acc = 0.72206\n",
      "[ Valid | 145/300 ] loss = 0.96973, acc = 0.72206\n"
     ]
    },
    {
     "name": "stderr",
     "output_type": "stream",
     "text": [
      "T: 146/300: 100%|█| 78/78 [00:08<00:00,  8.94it/s, lr=0.000341, b_loss=0.443, b_\n"
     ]
    },
    {
     "name": "stdout",
     "output_type": "stream",
     "text": [
      "[ Train | 146/300 ] loss = 0.50646, acc = 0.82331\n"
     ]
    },
    {
     "name": "stderr",
     "output_type": "stream",
     "text": [
      "V: 146/300: 100%|█████| 26/26 [00:02<00:00, 10.84it/s, v_loss=0.806, v_acc=0.75]\n"
     ]
    },
    {
     "name": "stdout",
     "output_type": "stream",
     "text": [
      "[ Valid | 146/300 ] loss = 0.80552, acc = 0.74972\n",
      "[ Valid | 146/300 ] loss = 0.80552, acc = 0.74972\n"
     ]
    },
    {
     "name": "stderr",
     "output_type": "stream",
     "text": [
      "T: 147/300: 100%|█| 78/78 [00:08<00:00,  9.02it/s, lr=0.000318, b_loss=0.548, b_\n"
     ]
    },
    {
     "name": "stdout",
     "output_type": "stream",
     "text": [
      "[ Train | 147/300 ] loss = 0.48011, acc = 0.82953\n"
     ]
    },
    {
     "name": "stderr",
     "output_type": "stream",
     "text": [
      "V: 147/300: 100%|████| 26/26 [00:02<00:00, 11.13it/s, v_loss=0.834, v_acc=0.746]\n"
     ]
    },
    {
     "name": "stdout",
     "output_type": "stream",
     "text": [
      "[ Valid | 147/300 ] loss = 0.83361, acc = 0.74639\n",
      "[ Valid | 147/300 ] loss = 0.83361, acc = 0.74639\n"
     ]
    },
    {
     "name": "stderr",
     "output_type": "stream",
     "text": [
      "T: 148/300: 100%|█| 78/78 [00:08<00:00,  8.99it/s, lr=0.000291, b_loss=0.419, b_\n"
     ]
    },
    {
     "name": "stdout",
     "output_type": "stream",
     "text": [
      "[ Train | 148/300 ] loss = 0.45822, acc = 0.84190\n"
     ]
    },
    {
     "name": "stderr",
     "output_type": "stream",
     "text": [
      "V: 148/300: 100%|████| 26/26 [00:02<00:00, 11.83it/s, v_loss=0.885, v_acc=0.732]\n"
     ]
    },
    {
     "name": "stdout",
     "output_type": "stream",
     "text": [
      "[ Valid | 148/300 ] loss = 0.88514, acc = 0.73221\n",
      "[ Valid | 148/300 ] loss = 0.88514, acc = 0.73221\n"
     ]
    },
    {
     "name": "stderr",
     "output_type": "stream",
     "text": [
      "T: 149/300: 100%|█| 78/78 [00:08<00:00,  9.07it/s, lr=0.000262, b_loss=0.488, b_\n"
     ]
    },
    {
     "name": "stdout",
     "output_type": "stream",
     "text": [
      "[ Train | 149/300 ] loss = 0.43869, acc = 0.85038\n"
     ]
    },
    {
     "name": "stderr",
     "output_type": "stream",
     "text": [
      "V: 149/300: 100%|████| 26/26 [00:02<00:00, 11.12it/s, v_loss=0.858, v_acc=0.741]\n"
     ]
    },
    {
     "name": "stdout",
     "output_type": "stream",
     "text": [
      "[ Valid | 149/300 ] loss = 0.85841, acc = 0.74069\n",
      "[ Valid | 149/300 ] loss = 0.85841, acc = 0.74069\n"
     ]
    },
    {
     "name": "stderr",
     "output_type": "stream",
     "text": [
      "T: 150/300: 100%|█| 78/78 [00:08<00:00,  9.02it/s, lr=0.000231, b_loss=0.559, b_\n"
     ]
    },
    {
     "name": "stdout",
     "output_type": "stream",
     "text": [
      "[ Train | 150/300 ] loss = 0.41383, acc = 0.85521\n"
     ]
    },
    {
     "name": "stderr",
     "output_type": "stream",
     "text": [
      "V: 150/300: 100%|████| 26/26 [00:02<00:00, 11.05it/s, v_loss=0.871, v_acc=0.744]\n"
     ]
    },
    {
     "name": "stdout",
     "output_type": "stream",
     "text": [
      "[ Valid | 150/300 ] loss = 0.87095, acc = 0.74429\n",
      "[ Valid | 150/300 ] loss = 0.87095, acc = 0.74429\n"
     ]
    },
    {
     "name": "stderr",
     "output_type": "stream",
     "text": [
      "T: 151/300: 100%|█| 78/78 [00:08<00:00,  8.91it/s, lr=0.0002, b_loss=0.47, b_acc\n"
     ]
    },
    {
     "name": "stdout",
     "output_type": "stream",
     "text": [
      "[ Train | 151/300 ] loss = 0.40637, acc = 0.85837\n"
     ]
    },
    {
     "name": "stderr",
     "output_type": "stream",
     "text": [
      "V: 151/300: 100%|█████| 26/26 [00:02<00:00, 11.20it/s, v_loss=0.81, v_acc=0.762]\n"
     ]
    },
    {
     "name": "stdout",
     "output_type": "stream",
     "text": [
      "[ Valid | 151/300 ] loss = 0.80979, acc = 0.76203\n",
      "[ Valid | 151/300 ] loss = 0.80979, acc = 0.76203\n"
     ]
    },
    {
     "name": "stderr",
     "output_type": "stream",
     "text": [
      "T: 152/300: 100%|█| 78/78 [00:08<00:00,  8.73it/s, lr=0.000169, b_loss=0.411, b_\n"
     ]
    },
    {
     "name": "stdout",
     "output_type": "stream",
     "text": [
      "[ Train | 152/300 ] loss = 0.37303, acc = 0.87122\n"
     ]
    },
    {
     "name": "stderr",
     "output_type": "stream",
     "text": [
      "V: 152/300: 100%|████| 26/26 [00:02<00:00, 11.25it/s, v_loss=0.771, v_acc=0.768]\n"
     ]
    },
    {
     "name": "stdout",
     "output_type": "stream",
     "text": [
      "[ Valid | 152/300 ] loss = 0.77086, acc = 0.76797\n",
      "[ Valid | 152/300 ] loss = 0.77086, acc = 0.76797\n"
     ]
    },
    {
     "name": "stderr",
     "output_type": "stream",
     "text": [
      "T: 153/300: 100%|█| 78/78 [00:08<00:00,  9.16it/s, lr=0.000138, b_loss=0.324, b_\n"
     ]
    },
    {
     "name": "stdout",
     "output_type": "stream",
     "text": [
      "[ Train | 153/300 ] loss = 0.35760, acc = 0.87427\n"
     ]
    },
    {
     "name": "stderr",
     "output_type": "stream",
     "text": [
      "V: 153/300: 100%|████| 26/26 [00:02<00:00, 10.41it/s, v_loss=0.792, v_acc=0.768]\n"
     ]
    },
    {
     "name": "stdout",
     "output_type": "stream",
     "text": [
      "[ Valid | 153/300 ] loss = 0.79238, acc = 0.76791\n",
      "[ Valid | 153/300 ] loss = 0.79238, acc = 0.76791\n"
     ]
    },
    {
     "name": "stderr",
     "output_type": "stream",
     "text": [
      "T: 154/300: 100%|█| 78/78 [00:08<00:00,  8.87it/s, lr=0.000109, b_loss=0.326, b_\n"
     ]
    },
    {
     "name": "stdout",
     "output_type": "stream",
     "text": [
      "[ Train | 154/300 ] loss = 0.33983, acc = 0.87784\n"
     ]
    },
    {
     "name": "stderr",
     "output_type": "stream",
     "text": [
      "V: 154/300: 100%|████| 26/26 [00:02<00:00, 10.78it/s, v_loss=0.813, v_acc=0.757]\n"
     ]
    },
    {
     "name": "stdout",
     "output_type": "stream",
     "text": [
      "[ Valid | 154/300 ] loss = 0.81290, acc = 0.75716\n",
      "[ Valid | 154/300 ] loss = 0.81290, acc = 0.75716\n"
     ]
    },
    {
     "name": "stderr",
     "output_type": "stream",
     "text": [
      "T: 155/300: 100%|█| 78/78 [00:08<00:00,  9.25it/s, lr=8.24e-5, b_loss=0.329, b_a\n"
     ]
    },
    {
     "name": "stdout",
     "output_type": "stream",
     "text": [
      "[ Train | 155/300 ] loss = 0.31715, acc = 0.89247\n"
     ]
    },
    {
     "name": "stderr",
     "output_type": "stream",
     "text": [
      "V: 155/300: 100%|█████| 26/26 [00:02<00:00,  9.49it/s, v_loss=0.745, v_acc=0.78]\n"
     ]
    },
    {
     "name": "stdout",
     "output_type": "stream",
     "text": [
      "[ Valid | 155/300 ] loss = 0.74478, acc = 0.77979\n",
      "[ Valid | 155/300 ] loss = 0.74478, acc = 0.77979\n"
     ]
    },
    {
     "name": "stderr",
     "output_type": "stream",
     "text": [
      "T: 156/300: 100%|█| 78/78 [00:08<00:00,  9.21it/s, lr=5.86e-5, b_loss=0.291, b_a\n"
     ]
    },
    {
     "name": "stdout",
     "output_type": "stream",
     "text": [
      "[ Train | 156/300 ] loss = 0.30636, acc = 0.89464\n"
     ]
    },
    {
     "name": "stderr",
     "output_type": "stream",
     "text": [
      "V: 156/300: 100%|████| 26/26 [00:02<00:00, 10.56it/s, v_loss=0.728, v_acc=0.784]\n"
     ]
    },
    {
     "name": "stdout",
     "output_type": "stream",
     "text": [
      "[ Valid | 156/300 ] loss = 0.72794, acc = 0.78366\n",
      "[ Valid | 156/300 ] loss = 0.72794, acc = 0.78366\n"
     ]
    },
    {
     "name": "stderr",
     "output_type": "stream",
     "text": [
      "T: 157/300: 100%|█| 78/78 [00:08<00:00,  9.18it/s, lr=3.82e-5, b_loss=0.309, b_a\n"
     ]
    },
    {
     "name": "stdout",
     "output_type": "stream",
     "text": [
      "[ Train | 157/300 ] loss = 0.29986, acc = 0.89689\n"
     ]
    },
    {
     "name": "stderr",
     "output_type": "stream",
     "text": [
      "V: 157/300: 100%|████| 26/26 [00:02<00:00, 10.10it/s, v_loss=0.742, v_acc=0.782]\n"
     ]
    },
    {
     "name": "stdout",
     "output_type": "stream",
     "text": [
      "[ Valid | 157/300 ] loss = 0.74179, acc = 0.78219\n",
      "[ Valid | 157/300 ] loss = 0.74179, acc = 0.78219\n"
     ]
    },
    {
     "name": "stderr",
     "output_type": "stream",
     "text": [
      "T: 158/300: 100%|█| 78/78 [00:08<00:00,  9.20it/s, lr=2.18e-5, b_loss=0.355, b_a\n"
     ]
    },
    {
     "name": "stdout",
     "output_type": "stream",
     "text": [
      "[ Train | 158/300 ] loss = 0.27942, acc = 0.90408\n"
     ]
    },
    {
     "name": "stderr",
     "output_type": "stream",
     "text": [
      "V: 158/300: 100%|█████| 26/26 [00:02<00:00, 10.71it/s, v_loss=0.721, v_acc=0.79]\n"
     ]
    },
    {
     "name": "stdout",
     "output_type": "stream",
     "text": [
      "[ Valid | 158/300 ] loss = 0.72122, acc = 0.79032\n",
      "[ Valid | 158/300 ] loss = 0.72122, acc = 0.79032\n"
     ]
    },
    {
     "name": "stderr",
     "output_type": "stream",
     "text": [
      "T: 159/300: 100%|█| 78/78 [00:08<00:00,  8.97it/s, lr=9.79e-6, b_loss=0.246, b_a\n"
     ]
    },
    {
     "name": "stdout",
     "output_type": "stream",
     "text": [
      "[ Train | 159/300 ] loss = 0.27844, acc = 0.90685\n"
     ]
    },
    {
     "name": "stderr",
     "output_type": "stream",
     "text": [
      "V: 159/300: 100%|████| 26/26 [00:02<00:00, 11.08it/s, v_loss=0.715, v_acc=0.794]\n"
     ]
    },
    {
     "name": "stdout",
     "output_type": "stream",
     "text": [
      "[ Valid | 159/300 ] loss = 0.71529, acc = 0.79395\n",
      "[ Valid | 159/300 ] loss = 0.71529, acc = 0.79395 -> best\n",
      "Best model found at fold 1 epoch 159, acc=0.79395, saving model\n"
     ]
    },
    {
     "name": "stderr",
     "output_type": "stream",
     "text": [
      "T: 160/300: 100%|█| 78/78 [00:08<00:00,  8.90it/s, lr=2.46e-6, b_loss=0.316, b_a\n"
     ]
    },
    {
     "name": "stdout",
     "output_type": "stream",
     "text": [
      "[ Train | 160/300 ] loss = 0.26700, acc = 0.91158\n"
     ]
    },
    {
     "name": "stderr",
     "output_type": "stream",
     "text": [
      "V: 160/300: 100%|████| 26/26 [00:02<00:00, 11.67it/s, v_loss=0.719, v_acc=0.789]\n"
     ]
    },
    {
     "name": "stdout",
     "output_type": "stream",
     "text": [
      "[ Valid | 160/300 ] loss = 0.71935, acc = 0.78855\n",
      "[ Valid | 160/300 ] loss = 0.71935, acc = 0.78855\n"
     ]
    },
    {
     "name": "stderr",
     "output_type": "stream",
     "text": [
      "T: 161/300: 100%|█| 78/78 [00:08<00:00,  9.14it/s, lr=0.0004, b_loss=0.631, b_ac\n"
     ]
    },
    {
     "name": "stdout",
     "output_type": "stream",
     "text": [
      "[ Train | 161/300 ] loss = 0.50091, acc = 0.82859\n"
     ]
    },
    {
     "name": "stderr",
     "output_type": "stream",
     "text": [
      "V: 161/300: 100%|████| 26/26 [00:02<00:00,  9.90it/s, v_loss=0.998, v_acc=0.709]\n"
     ]
    },
    {
     "name": "stdout",
     "output_type": "stream",
     "text": [
      "[ Valid | 161/300 ] loss = 0.99803, acc = 0.70851\n",
      "[ Valid | 161/300 ] loss = 0.99803, acc = 0.70851\n"
     ]
    },
    {
     "name": "stderr",
     "output_type": "stream",
     "text": [
      "T: 162/300: 100%|█| 78/78 [00:09<00:00,  8.58it/s, lr=0.000398, b_loss=0.431, b_\n"
     ]
    },
    {
     "name": "stdout",
     "output_type": "stream",
     "text": [
      "[ Train | 162/300 ] loss = 0.52168, acc = 0.81711\n"
     ]
    },
    {
     "name": "stderr",
     "output_type": "stream",
     "text": [
      "V: 162/300: 100%|████| 26/26 [00:02<00:00, 10.28it/s, v_loss=0.933, v_acc=0.729]\n"
     ]
    },
    {
     "name": "stdout",
     "output_type": "stream",
     "text": [
      "[ Valid | 162/300 ] loss = 0.93256, acc = 0.72863\n",
      "[ Valid | 162/300 ] loss = 0.93256, acc = 0.72863\n"
     ]
    },
    {
     "name": "stderr",
     "output_type": "stream",
     "text": [
      "T: 163/300: 100%|█| 78/78 [00:08<00:00,  8.82it/s, lr=0.00039, b_loss=0.426, b_a\n"
     ]
    },
    {
     "name": "stdout",
     "output_type": "stream",
     "text": [
      "[ Train | 163/300 ] loss = 0.47893, acc = 0.83275\n"
     ]
    },
    {
     "name": "stderr",
     "output_type": "stream",
     "text": [
      "V: 163/300: 100%|████| 26/26 [00:02<00:00, 10.69it/s, v_loss=0.992, v_acc=0.712]\n"
     ]
    },
    {
     "name": "stdout",
     "output_type": "stream",
     "text": [
      "[ Valid | 163/300 ] loss = 0.99152, acc = 0.71173\n",
      "[ Valid | 163/300 ] loss = 0.99152, acc = 0.71173\n"
     ]
    },
    {
     "name": "stderr",
     "output_type": "stream",
     "text": [
      "T: 164/300: 100%|█| 78/78 [00:08<00:00,  8.68it/s, lr=0.000378, b_loss=0.489, b_\n"
     ]
    },
    {
     "name": "stdout",
     "output_type": "stream",
     "text": [
      "[ Train | 164/300 ] loss = 0.47672, acc = 0.83062\n"
     ]
    },
    {
     "name": "stderr",
     "output_type": "stream",
     "text": [
      "V: 164/300: 100%|████| 26/26 [00:02<00:00, 12.06it/s, v_loss=0.876, v_acc=0.732]\n"
     ]
    },
    {
     "name": "stdout",
     "output_type": "stream",
     "text": [
      "[ Valid | 164/300 ] loss = 0.87641, acc = 0.73202\n",
      "[ Valid | 164/300 ] loss = 0.87641, acc = 0.73202\n"
     ]
    },
    {
     "name": "stderr",
     "output_type": "stream",
     "text": [
      "T: 165/300: 100%|█| 78/78 [00:08<00:00,  8.91it/s, lr=0.000362, b_loss=0.458, b_\n"
     ]
    },
    {
     "name": "stdout",
     "output_type": "stream",
     "text": [
      "[ Train | 165/300 ] loss = 0.45457, acc = 0.84005\n"
     ]
    },
    {
     "name": "stderr",
     "output_type": "stream",
     "text": [
      "V: 165/300: 100%|█████| 26/26 [00:02<00:00, 11.52it/s, v_loss=0.96, v_acc=0.728]\n"
     ]
    },
    {
     "name": "stdout",
     "output_type": "stream",
     "text": [
      "[ Valid | 165/300 ] loss = 0.96014, acc = 0.72775\n",
      "[ Valid | 165/300 ] loss = 0.96014, acc = 0.72775\n"
     ]
    },
    {
     "name": "stderr",
     "output_type": "stream",
     "text": [
      "T: 166/300: 100%|█| 78/78 [00:08<00:00,  8.96it/s, lr=0.000341, b_loss=0.478, b_\n"
     ]
    },
    {
     "name": "stdout",
     "output_type": "stream",
     "text": [
      "[ Train | 166/300 ] loss = 0.44067, acc = 0.84814\n"
     ]
    },
    {
     "name": "stderr",
     "output_type": "stream",
     "text": [
      "V: 166/300: 100%|█████| 26/26 [00:02<00:00, 11.87it/s, v_loss=2.16, v_acc=0.546]\n"
     ]
    },
    {
     "name": "stdout",
     "output_type": "stream",
     "text": [
      "[ Valid | 166/300 ] loss = 2.16253, acc = 0.54628\n",
      "[ Valid | 166/300 ] loss = 2.16253, acc = 0.54628\n"
     ]
    },
    {
     "name": "stderr",
     "output_type": "stream",
     "text": [
      "T: 167/300: 100%|█| 78/78 [00:08<00:00,  9.10it/s, lr=0.000318, b_loss=0.481, b_\n"
     ]
    },
    {
     "name": "stdout",
     "output_type": "stream",
     "text": [
      "[ Train | 167/300 ] loss = 0.43031, acc = 0.84966\n"
     ]
    },
    {
     "name": "stderr",
     "output_type": "stream",
     "text": [
      "V: 167/300: 100%|████| 26/26 [00:02<00:00, 10.36it/s, v_loss=0.867, v_acc=0.751]\n"
     ]
    },
    {
     "name": "stdout",
     "output_type": "stream",
     "text": [
      "[ Valid | 167/300 ] loss = 0.86675, acc = 0.75057\n",
      "[ Valid | 167/300 ] loss = 0.86675, acc = 0.75057\n"
     ]
    },
    {
     "name": "stderr",
     "output_type": "stream",
     "text": [
      "T: 168/300: 100%|█| 78/78 [00:08<00:00,  8.93it/s, lr=0.000291, b_loss=0.329, b_\n"
     ]
    },
    {
     "name": "stdout",
     "output_type": "stream",
     "text": [
      "[ Train | 168/300 ] loss = 0.40174, acc = 0.86296\n"
     ]
    },
    {
     "name": "stderr",
     "output_type": "stream",
     "text": [
      "V: 168/300: 100%|████| 26/26 [00:02<00:00, 10.69it/s, v_loss=0.836, v_acc=0.757]\n"
     ]
    },
    {
     "name": "stdout",
     "output_type": "stream",
     "text": [
      "[ Valid | 168/300 ] loss = 0.83638, acc = 0.75655\n",
      "[ Valid | 168/300 ] loss = 0.83638, acc = 0.75655\n"
     ]
    },
    {
     "name": "stderr",
     "output_type": "stream",
     "text": [
      "T: 169/300: 100%|█| 78/78 [00:09<00:00,  8.58it/s, lr=0.000262, b_loss=0.424, b_\n"
     ]
    },
    {
     "name": "stdout",
     "output_type": "stream",
     "text": [
      "[ Train | 169/300 ] loss = 0.37869, acc = 0.87039\n"
     ]
    },
    {
     "name": "stderr",
     "output_type": "stream",
     "text": [
      "V: 169/300: 100%|████| 26/26 [00:02<00:00, 11.59it/s, v_loss=0.858, v_acc=0.755]\n"
     ]
    },
    {
     "name": "stdout",
     "output_type": "stream",
     "text": [
      "[ Valid | 169/300 ] loss = 0.85775, acc = 0.75479\n",
      "[ Valid | 169/300 ] loss = 0.85775, acc = 0.75479\n"
     ]
    },
    {
     "name": "stderr",
     "output_type": "stream",
     "text": [
      "T: 170/300: 100%|█| 78/78 [00:08<00:00,  9.25it/s, lr=0.000231, b_loss=0.396, b_\n"
     ]
    },
    {
     "name": "stdout",
     "output_type": "stream",
     "text": [
      "[ Train | 170/300 ] loss = 0.36827, acc = 0.87200\n"
     ]
    },
    {
     "name": "stderr",
     "output_type": "stream",
     "text": [
      "V: 170/300: 100%|█████| 26/26 [00:02<00:00, 11.35it/s, v_loss=0.92, v_acc=0.744]\n"
     ]
    },
    {
     "name": "stdout",
     "output_type": "stream",
     "text": [
      "[ Valid | 170/300 ] loss = 0.91989, acc = 0.74427\n",
      "[ Valid | 170/300 ] loss = 0.91989, acc = 0.74427\n"
     ]
    },
    {
     "name": "stderr",
     "output_type": "stream",
     "text": [
      "T: 171/300: 100%|█| 78/78 [00:08<00:00,  8.92it/s, lr=0.0002, b_loss=0.262, b_ac\n"
     ]
    },
    {
     "name": "stdout",
     "output_type": "stream",
     "text": [
      "[ Train | 171/300 ] loss = 0.34308, acc = 0.87749\n"
     ]
    },
    {
     "name": "stderr",
     "output_type": "stream",
     "text": [
      "V: 171/300: 100%|████| 26/26 [00:02<00:00, 11.78it/s, v_loss=0.812, v_acc=0.775]\n"
     ]
    },
    {
     "name": "stdout",
     "output_type": "stream",
     "text": [
      "[ Valid | 171/300 ] loss = 0.81238, acc = 0.77530\n",
      "[ Valid | 171/300 ] loss = 0.81238, acc = 0.77530\n"
     ]
    },
    {
     "name": "stderr",
     "output_type": "stream",
     "text": [
      "T: 172/300: 100%|█| 78/78 [00:08<00:00,  8.91it/s, lr=0.000169, b_loss=0.463, b_\n"
     ]
    },
    {
     "name": "stdout",
     "output_type": "stream",
     "text": [
      "[ Train | 172/300 ] loss = 0.33388, acc = 0.88623\n"
     ]
    },
    {
     "name": "stderr",
     "output_type": "stream",
     "text": [
      "V: 172/300: 100%|████| 26/26 [00:02<00:00, 11.54it/s, v_loss=0.773, v_acc=0.776]\n"
     ]
    },
    {
     "name": "stdout",
     "output_type": "stream",
     "text": [
      "[ Valid | 172/300 ] loss = 0.77326, acc = 0.77559\n",
      "[ Valid | 172/300 ] loss = 0.77326, acc = 0.77559\n"
     ]
    },
    {
     "name": "stderr",
     "output_type": "stream",
     "text": [
      "T: 173/300: 100%|█| 78/78 [00:08<00:00,  9.19it/s, lr=0.000138, b_loss=0.355, b_\n"
     ]
    },
    {
     "name": "stdout",
     "output_type": "stream",
     "text": [
      "[ Train | 173/300 ] loss = 0.30453, acc = 0.89627\n"
     ]
    },
    {
     "name": "stderr",
     "output_type": "stream",
     "text": [
      "V: 173/300: 100%|████| 26/26 [00:02<00:00, 11.38it/s, v_loss=0.745, v_acc=0.787]\n"
     ]
    },
    {
     "name": "stdout",
     "output_type": "stream",
     "text": [
      "[ Valid | 173/300 ] loss = 0.74536, acc = 0.78734\n",
      "[ Valid | 173/300 ] loss = 0.74536, acc = 0.78734\n"
     ]
    },
    {
     "name": "stderr",
     "output_type": "stream",
     "text": [
      "T: 174/300: 100%|█| 78/78 [00:08<00:00,  9.05it/s, lr=0.000109, b_loss=0.296, b_\n"
     ]
    },
    {
     "name": "stdout",
     "output_type": "stream",
     "text": [
      "[ Train | 174/300 ] loss = 0.27082, acc = 0.91012\n"
     ]
    },
    {
     "name": "stderr",
     "output_type": "stream",
     "text": [
      "V: 174/300: 100%|████| 26/26 [00:02<00:00, 10.88it/s, v_loss=0.747, v_acc=0.789]\n"
     ]
    },
    {
     "name": "stdout",
     "output_type": "stream",
     "text": [
      "[ Valid | 174/300 ] loss = 0.74660, acc = 0.78913\n",
      "[ Valid | 174/300 ] loss = 0.74660, acc = 0.78913\n"
     ]
    },
    {
     "name": "stderr",
     "output_type": "stream",
     "text": [
      "T: 175/300: 100%|█| 78/78 [00:08<00:00,  8.97it/s, lr=8.24e-5, b_loss=0.346, b_a\n"
     ]
    },
    {
     "name": "stdout",
     "output_type": "stream",
     "text": [
      "[ Train | 175/300 ] loss = 0.26235, acc = 0.90842\n"
     ]
    },
    {
     "name": "stderr",
     "output_type": "stream",
     "text": [
      "V: 175/300: 100%|█████| 26/26 [00:02<00:00, 10.61it/s, v_loss=0.76, v_acc=0.786]\n"
     ]
    },
    {
     "name": "stdout",
     "output_type": "stream",
     "text": [
      "[ Valid | 175/300 ] loss = 0.75981, acc = 0.78640\n",
      "[ Valid | 175/300 ] loss = 0.75981, acc = 0.78640\n"
     ]
    },
    {
     "name": "stderr",
     "output_type": "stream",
     "text": [
      "T: 176/300: 100%|█| 78/78 [00:08<00:00,  8.88it/s, lr=5.86e-5, b_loss=0.19, b_ac\n"
     ]
    },
    {
     "name": "stdout",
     "output_type": "stream",
     "text": [
      "[ Train | 176/300 ] loss = 0.25749, acc = 0.91066\n"
     ]
    },
    {
     "name": "stderr",
     "output_type": "stream",
     "text": [
      "V: 176/300: 100%|████| 26/26 [00:02<00:00, 10.41it/s, v_loss=0.749, v_acc=0.786]\n"
     ]
    },
    {
     "name": "stdout",
     "output_type": "stream",
     "text": [
      "[ Valid | 176/300 ] loss = 0.74947, acc = 0.78582\n",
      "[ Valid | 176/300 ] loss = 0.74947, acc = 0.78582\n"
     ]
    },
    {
     "name": "stderr",
     "output_type": "stream",
     "text": [
      "T: 177/300: 100%|█| 78/78 [00:08<00:00,  8.90it/s, lr=3.82e-5, b_loss=0.209, b_a\n"
     ]
    },
    {
     "name": "stdout",
     "output_type": "stream",
     "text": [
      "[ Train | 177/300 ] loss = 0.25310, acc = 0.91547\n"
     ]
    },
    {
     "name": "stderr",
     "output_type": "stream",
     "text": [
      "V: 177/300: 100%|████| 26/26 [00:02<00:00, 10.77it/s, v_loss=0.742, v_acc=0.794]\n"
     ]
    },
    {
     "name": "stdout",
     "output_type": "stream",
     "text": [
      "[ Valid | 177/300 ] loss = 0.74206, acc = 0.79361\n",
      "[ Valid | 177/300 ] loss = 0.74206, acc = 0.79361\n"
     ]
    },
    {
     "name": "stderr",
     "output_type": "stream",
     "text": [
      "T: 178/300: 100%|█| 78/78 [00:08<00:00,  9.01it/s, lr=2.18e-5, b_loss=0.263, b_a\n"
     ]
    },
    {
     "name": "stdout",
     "output_type": "stream",
     "text": [
      "[ Train | 178/300 ] loss = 0.23708, acc = 0.92086\n"
     ]
    },
    {
     "name": "stderr",
     "output_type": "stream",
     "text": [
      "V: 178/300: 100%|████| 26/26 [00:02<00:00, 10.27it/s, v_loss=0.734, v_acc=0.798]\n"
     ]
    },
    {
     "name": "stdout",
     "output_type": "stream",
     "text": [
      "[ Valid | 178/300 ] loss = 0.73442, acc = 0.79755\n",
      "[ Valid | 178/300 ] loss = 0.73442, acc = 0.79755 -> best\n",
      "Best model found at fold 1 epoch 178, acc=0.79755, saving model\n"
     ]
    },
    {
     "name": "stderr",
     "output_type": "stream",
     "text": [
      "T: 179/300: 100%|█| 78/78 [00:08<00:00,  9.02it/s, lr=9.79e-6, b_loss=0.169, b_a\n"
     ]
    },
    {
     "name": "stdout",
     "output_type": "stream",
     "text": [
      "[ Train | 179/300 ] loss = 0.23878, acc = 0.91690\n"
     ]
    },
    {
     "name": "stderr",
     "output_type": "stream",
     "text": [
      "V: 179/300: 100%|████| 26/26 [00:02<00:00, 11.05it/s, v_loss=0.736, v_acc=0.794]\n"
     ]
    },
    {
     "name": "stdout",
     "output_type": "stream",
     "text": [
      "[ Valid | 179/300 ] loss = 0.73552, acc = 0.79429\n",
      "[ Valid | 179/300 ] loss = 0.73552, acc = 0.79429\n"
     ]
    },
    {
     "name": "stderr",
     "output_type": "stream",
     "text": [
      "T: 180/300: 100%|█| 78/78 [00:08<00:00,  9.03it/s, lr=2.46e-6, b_loss=0.163, b_a\n"
     ]
    },
    {
     "name": "stdout",
     "output_type": "stream",
     "text": [
      "[ Train | 180/300 ] loss = 0.22841, acc = 0.92443\n"
     ]
    },
    {
     "name": "stderr",
     "output_type": "stream",
     "text": [
      "V: 180/300: 100%|████| 26/26 [00:02<00:00, 11.83it/s, v_loss=0.734, v_acc=0.795]\n"
     ]
    },
    {
     "name": "stdout",
     "output_type": "stream",
     "text": [
      "[ Valid | 180/300 ] loss = 0.73359, acc = 0.79488\n",
      "[ Valid | 180/300 ] loss = 0.73359, acc = 0.79488\n"
     ]
    },
    {
     "name": "stderr",
     "output_type": "stream",
     "text": [
      "T: 181/300: 100%|█| 78/78 [00:08<00:00,  8.94it/s, lr=0.0004, b_loss=0.456, b_ac\n"
     ]
    },
    {
     "name": "stdout",
     "output_type": "stream",
     "text": [
      "[ Train | 181/300 ] loss = 0.44976, acc = 0.84206\n"
     ]
    },
    {
     "name": "stderr",
     "output_type": "stream",
     "text": [
      "V: 181/300: 100%|█████| 26/26 [00:02<00:00, 10.96it/s, v_loss=1.65, v_acc=0.605]\n"
     ]
    },
    {
     "name": "stdout",
     "output_type": "stream",
     "text": [
      "[ Valid | 181/300 ] loss = 1.64660, acc = 0.60535\n",
      "[ Valid | 181/300 ] loss = 1.64660, acc = 0.60535\n"
     ]
    },
    {
     "name": "stderr",
     "output_type": "stream",
     "text": [
      "T: 182/300: 100%|█| 78/78 [00:08<00:00,  8.91it/s, lr=0.000398, b_loss=0.491, b_\n"
     ]
    },
    {
     "name": "stdout",
     "output_type": "stream",
     "text": [
      "[ Train | 182/300 ] loss = 0.46999, acc = 0.83897\n"
     ]
    },
    {
     "name": "stderr",
     "output_type": "stream",
     "text": [
      "V: 182/300: 100%|█████| 26/26 [00:02<00:00, 10.84it/s, v_loss=1.22, v_acc=0.699]\n"
     ]
    },
    {
     "name": "stdout",
     "output_type": "stream",
     "text": [
      "[ Valid | 182/300 ] loss = 1.21599, acc = 0.69888\n",
      "[ Valid | 182/300 ] loss = 1.21599, acc = 0.69888\n"
     ]
    },
    {
     "name": "stderr",
     "output_type": "stream",
     "text": [
      "T: 183/300: 100%|█| 78/78 [00:08<00:00,  9.06it/s, lr=0.00039, b_loss=0.676, b_a\n"
     ]
    },
    {
     "name": "stdout",
     "output_type": "stream",
     "text": [
      "[ Train | 183/300 ] loss = 0.46157, acc = 0.83827\n"
     ]
    },
    {
     "name": "stderr",
     "output_type": "stream",
     "text": [
      "V: 183/300: 100%|█████| 26/26 [00:02<00:00, 10.80it/s, v_loss=1.01, v_acc=0.721]\n"
     ]
    },
    {
     "name": "stdout",
     "output_type": "stream",
     "text": [
      "[ Valid | 183/300 ] loss = 1.00521, acc = 0.72078\n",
      "[ Valid | 183/300 ] loss = 1.00521, acc = 0.72078\n"
     ]
    },
    {
     "name": "stderr",
     "output_type": "stream",
     "text": [
      "T: 184/300: 100%|█| 78/78 [00:09<00:00,  8.63it/s, lr=0.000378, b_loss=0.294, b_\n"
     ]
    },
    {
     "name": "stdout",
     "output_type": "stream",
     "text": [
      "[ Train | 184/300 ] loss = 0.43508, acc = 0.84872\n"
     ]
    },
    {
     "name": "stderr",
     "output_type": "stream",
     "text": [
      "V: 184/300: 100%|████| 26/26 [00:02<00:00, 11.52it/s, v_loss=0.899, v_acc=0.751]\n"
     ]
    },
    {
     "name": "stdout",
     "output_type": "stream",
     "text": [
      "[ Valid | 184/300 ] loss = 0.89916, acc = 0.75054\n",
      "[ Valid | 184/300 ] loss = 0.89916, acc = 0.75054\n"
     ]
    },
    {
     "name": "stderr",
     "output_type": "stream",
     "text": [
      "T: 185/300: 100%|█| 78/78 [00:08<00:00,  9.04it/s, lr=0.000362, b_loss=0.541, b_\n"
     ]
    },
    {
     "name": "stdout",
     "output_type": "stream",
     "text": [
      "[ Train | 185/300 ] loss = 0.41805, acc = 0.85508\n"
     ]
    },
    {
     "name": "stderr",
     "output_type": "stream",
     "text": [
      "V: 185/300: 100%|█████| 26/26 [00:02<00:00, 11.75it/s, v_loss=0.952, v_acc=0.74]\n"
     ]
    },
    {
     "name": "stdout",
     "output_type": "stream",
     "text": [
      "[ Valid | 185/300 ] loss = 0.95176, acc = 0.74013\n",
      "[ Valid | 185/300 ] loss = 0.95176, acc = 0.74013\n"
     ]
    },
    {
     "name": "stderr",
     "output_type": "stream",
     "text": [
      "T: 186/300: 100%|█| 78/78 [00:08<00:00,  8.98it/s, lr=0.000341, b_loss=0.509, b_\n"
     ]
    },
    {
     "name": "stdout",
     "output_type": "stream",
     "text": [
      "[ Train | 186/300 ] loss = 0.42074, acc = 0.85357\n"
     ]
    },
    {
     "name": "stderr",
     "output_type": "stream",
     "text": [
      "V: 186/300: 100%|█████| 26/26 [00:02<00:00, 11.44it/s, v_loss=1.05, v_acc=0.708]\n"
     ]
    },
    {
     "name": "stdout",
     "output_type": "stream",
     "text": [
      "[ Valid | 186/300 ] loss = 1.04858, acc = 0.70763\n",
      "[ Valid | 186/300 ] loss = 1.04858, acc = 0.70763\n"
     ]
    },
    {
     "name": "stderr",
     "output_type": "stream",
     "text": [
      "T: 187/300: 100%|█| 78/78 [00:08<00:00,  9.09it/s, lr=0.000318, b_loss=0.469, b_\n"
     ]
    },
    {
     "name": "stdout",
     "output_type": "stream",
     "text": [
      "[ Train | 187/300 ] loss = 0.37934, acc = 0.86503\n"
     ]
    },
    {
     "name": "stderr",
     "output_type": "stream",
     "text": [
      "V: 187/300: 100%|████| 26/26 [00:02<00:00, 10.73it/s, v_loss=0.836, v_acc=0.765]\n"
     ]
    },
    {
     "name": "stdout",
     "output_type": "stream",
     "text": [
      "[ Valid | 187/300 ] loss = 0.83647, acc = 0.76536\n",
      "[ Valid | 187/300 ] loss = 0.83647, acc = 0.76536\n"
     ]
    },
    {
     "name": "stderr",
     "output_type": "stream",
     "text": [
      "T: 188/300: 100%|█| 78/78 [00:08<00:00,  9.11it/s, lr=0.000291, b_loss=0.249, b_\n"
     ]
    },
    {
     "name": "stdout",
     "output_type": "stream",
     "text": [
      "[ Train | 188/300 ] loss = 0.36837, acc = 0.87059\n"
     ]
    },
    {
     "name": "stderr",
     "output_type": "stream",
     "text": [
      "V: 188/300: 100%|████| 26/26 [00:02<00:00, 11.48it/s, v_loss=0.912, v_acc=0.757]\n"
     ]
    },
    {
     "name": "stdout",
     "output_type": "stream",
     "text": [
      "[ Valid | 188/300 ] loss = 0.91226, acc = 0.75690\n",
      "[ Valid | 188/300 ] loss = 0.91226, acc = 0.75690\n"
     ]
    },
    {
     "name": "stderr",
     "output_type": "stream",
     "text": [
      "T: 189/300: 100%|█| 78/78 [00:08<00:00,  9.17it/s, lr=0.000262, b_loss=0.395, b_\n"
     ]
    },
    {
     "name": "stdout",
     "output_type": "stream",
     "text": [
      "[ Train | 189/300 ] loss = 0.34941, acc = 0.88030\n"
     ]
    },
    {
     "name": "stderr",
     "output_type": "stream",
     "text": [
      "V: 189/300: 100%|████| 26/26 [00:02<00:00, 10.89it/s, v_loss=0.876, v_acc=0.757]\n"
     ]
    },
    {
     "name": "stdout",
     "output_type": "stream",
     "text": [
      "[ Valid | 189/300 ] loss = 0.87576, acc = 0.75696\n",
      "[ Valid | 189/300 ] loss = 0.87576, acc = 0.75696\n"
     ]
    },
    {
     "name": "stderr",
     "output_type": "stream",
     "text": [
      "T: 190/300: 100%|█| 78/78 [00:08<00:00,  9.12it/s, lr=0.000231, b_loss=0.274, b_\n"
     ]
    },
    {
     "name": "stdout",
     "output_type": "stream",
     "text": [
      "[ Train | 190/300 ] loss = 0.33111, acc = 0.88160\n"
     ]
    },
    {
     "name": "stderr",
     "output_type": "stream",
     "text": [
      "V: 190/300: 100%|█████| 26/26 [00:02<00:00, 10.31it/s, v_loss=0.884, v_acc=0.76]\n"
     ]
    },
    {
     "name": "stdout",
     "output_type": "stream",
     "text": [
      "[ Valid | 190/300 ] loss = 0.88446, acc = 0.75958\n",
      "[ Valid | 190/300 ] loss = 0.88446, acc = 0.75958\n"
     ]
    },
    {
     "name": "stderr",
     "output_type": "stream",
     "text": [
      "T: 191/300: 100%|█| 78/78 [00:08<00:00,  8.94it/s, lr=0.0002, b_loss=0.21, b_acc\n"
     ]
    },
    {
     "name": "stdout",
     "output_type": "stream",
     "text": [
      "[ Train | 191/300 ] loss = 0.28090, acc = 0.90276\n"
     ]
    },
    {
     "name": "stderr",
     "output_type": "stream",
     "text": [
      "V: 191/300: 100%|█████| 26/26 [00:02<00:00, 10.65it/s, v_loss=0.829, v_acc=0.77]\n"
     ]
    },
    {
     "name": "stdout",
     "output_type": "stream",
     "text": [
      "[ Valid | 191/300 ] loss = 0.82887, acc = 0.76988\n",
      "[ Valid | 191/300 ] loss = 0.82887, acc = 0.76988\n"
     ]
    },
    {
     "name": "stderr",
     "output_type": "stream",
     "text": [
      "T: 192/300: 100%|█| 78/78 [00:08<00:00,  9.02it/s, lr=0.000169, b_loss=0.282, b_\n"
     ]
    },
    {
     "name": "stdout",
     "output_type": "stream",
     "text": [
      "[ Train | 192/300 ] loss = 0.28108, acc = 0.89983\n"
     ]
    },
    {
     "name": "stderr",
     "output_type": "stream",
     "text": [
      "V: 192/300: 100%|████| 26/26 [00:02<00:00, 11.37it/s, v_loss=0.844, v_acc=0.774]\n"
     ]
    },
    {
     "name": "stdout",
     "output_type": "stream",
     "text": [
      "[ Valid | 192/300 ] loss = 0.84440, acc = 0.77408\n",
      "[ Valid | 192/300 ] loss = 0.84440, acc = 0.77408\n"
     ]
    },
    {
     "name": "stderr",
     "output_type": "stream",
     "text": [
      "T: 193/300: 100%|█| 78/78 [00:08<00:00,  8.95it/s, lr=0.000138, b_loss=0.22, b_a\n"
     ]
    },
    {
     "name": "stdout",
     "output_type": "stream",
     "text": [
      "[ Train | 193/300 ] loss = 0.26299, acc = 0.90887\n"
     ]
    },
    {
     "name": "stderr",
     "output_type": "stream",
     "text": [
      "V: 193/300: 100%|████| 26/26 [00:02<00:00, 11.98it/s, v_loss=0.796, v_acc=0.782]\n"
     ]
    },
    {
     "name": "stdout",
     "output_type": "stream",
     "text": [
      "[ Valid | 193/300 ] loss = 0.79602, acc = 0.78196\n",
      "[ Valid | 193/300 ] loss = 0.79602, acc = 0.78196\n"
     ]
    },
    {
     "name": "stderr",
     "output_type": "stream",
     "text": [
      "T: 194/300: 100%|█| 78/78 [00:08<00:00,  9.27it/s, lr=0.000109, b_loss=0.192, b_\n"
     ]
    },
    {
     "name": "stdout",
     "output_type": "stream",
     "text": [
      "[ Train | 194/300 ] loss = 0.24256, acc = 0.91930\n"
     ]
    },
    {
     "name": "stderr",
     "output_type": "stream",
     "text": [
      "V: 194/300: 100%|████| 26/26 [00:02<00:00, 10.21it/s, v_loss=0.794, v_acc=0.785]\n"
     ]
    },
    {
     "name": "stdout",
     "output_type": "stream",
     "text": [
      "[ Valid | 194/300 ] loss = 0.79378, acc = 0.78498\n",
      "[ Valid | 194/300 ] loss = 0.79378, acc = 0.78498\n"
     ]
    },
    {
     "name": "stderr",
     "output_type": "stream",
     "text": [
      "T: 195/300: 100%|█| 78/78 [00:08<00:00,  9.11it/s, lr=8.24e-5, b_loss=0.209, b_a\n"
     ]
    },
    {
     "name": "stdout",
     "output_type": "stream",
     "text": [
      "[ Train | 195/300 ] loss = 0.23525, acc = 0.92139\n"
     ]
    },
    {
     "name": "stderr",
     "output_type": "stream",
     "text": [
      "V: 195/300: 100%|████| 26/26 [00:02<00:00, 11.22it/s, v_loss=0.778, v_acc=0.794]\n"
     ]
    },
    {
     "name": "stdout",
     "output_type": "stream",
     "text": [
      "[ Valid | 195/300 ] loss = 0.77776, acc = 0.79358\n",
      "[ Valid | 195/300 ] loss = 0.77776, acc = 0.79358\n"
     ]
    },
    {
     "name": "stderr",
     "output_type": "stream",
     "text": [
      "T: 196/300: 100%|█| 78/78 [00:08<00:00,  9.07it/s, lr=5.86e-5, b_loss=0.193, b_a\n"
     ]
    },
    {
     "name": "stdout",
     "output_type": "stream",
     "text": [
      "[ Train | 196/300 ] loss = 0.21726, acc = 0.92682\n"
     ]
    },
    {
     "name": "stderr",
     "output_type": "stream",
     "text": [
      "V: 196/300: 100%|████| 26/26 [00:02<00:00, 11.12it/s, v_loss=0.777, v_acc=0.792]\n"
     ]
    },
    {
     "name": "stdout",
     "output_type": "stream",
     "text": [
      "[ Valid | 196/300 ] loss = 0.77667, acc = 0.79240\n",
      "[ Valid | 196/300 ] loss = 0.77667, acc = 0.79240\n"
     ]
    },
    {
     "name": "stderr",
     "output_type": "stream",
     "text": [
      "T: 197/300: 100%|█| 78/78 [00:08<00:00,  9.15it/s, lr=3.82e-5, b_loss=0.186, b_a\n"
     ]
    },
    {
     "name": "stdout",
     "output_type": "stream",
     "text": [
      "[ Train | 197/300 ] loss = 0.20589, acc = 0.93083\n"
     ]
    },
    {
     "name": "stderr",
     "output_type": "stream",
     "text": [
      "V: 197/300: 100%|█████| 26/26 [00:02<00:00, 10.88it/s, v_loss=0.76, v_acc=0.797]\n"
     ]
    },
    {
     "name": "stdout",
     "output_type": "stream",
     "text": [
      "[ Valid | 197/300 ] loss = 0.76045, acc = 0.79657\n",
      "[ Valid | 197/300 ] loss = 0.76045, acc = 0.79657\n"
     ]
    },
    {
     "name": "stderr",
     "output_type": "stream",
     "text": [
      "T: 198/300: 100%|█| 78/78 [00:08<00:00,  8.97it/s, lr=2.18e-5, b_loss=0.185, b_a\n"
     ]
    },
    {
     "name": "stdout",
     "output_type": "stream",
     "text": [
      "[ Train | 198/300 ] loss = 0.20164, acc = 0.93440\n"
     ]
    },
    {
     "name": "stderr",
     "output_type": "stream",
     "text": [
      "V: 198/300: 100%|████| 26/26 [00:02<00:00, 11.52it/s, v_loss=0.757, v_acc=0.804]\n"
     ]
    },
    {
     "name": "stdout",
     "output_type": "stream",
     "text": [
      "[ Valid | 198/300 ] loss = 0.75683, acc = 0.80351\n",
      "[ Valid | 198/300 ] loss = 0.75683, acc = 0.80351 -> best\n",
      "Best model found at fold 1 epoch 198, acc=0.80351, saving model\n"
     ]
    },
    {
     "name": "stderr",
     "output_type": "stream",
     "text": [
      "T: 199/300: 100%|█| 78/78 [00:08<00:00,  9.00it/s, lr=9.79e-6, b_loss=0.186, b_a\n"
     ]
    },
    {
     "name": "stdout",
     "output_type": "stream",
     "text": [
      "[ Train | 199/300 ] loss = 0.20086, acc = 0.93361\n"
     ]
    },
    {
     "name": "stderr",
     "output_type": "stream",
     "text": [
      "V: 199/300: 100%|████| 26/26 [00:02<00:00, 10.71it/s, v_loss=0.755, v_acc=0.801]\n"
     ]
    },
    {
     "name": "stdout",
     "output_type": "stream",
     "text": [
      "[ Valid | 199/300 ] loss = 0.75473, acc = 0.80056\n",
      "[ Valid | 199/300 ] loss = 0.75473, acc = 0.80056\n"
     ]
    },
    {
     "name": "stderr",
     "output_type": "stream",
     "text": [
      "T: 200/300: 100%|█| 78/78 [00:08<00:00,  9.20it/s, lr=2.46e-6, b_loss=0.199, b_a\n"
     ]
    },
    {
     "name": "stdout",
     "output_type": "stream",
     "text": [
      "[ Train | 200/300 ] loss = 0.19751, acc = 0.93430\n"
     ]
    },
    {
     "name": "stderr",
     "output_type": "stream",
     "text": [
      "V: 200/300: 100%|████| 26/26 [00:02<00:00, 11.30it/s, v_loss=0.753, v_acc=0.803]\n"
     ]
    },
    {
     "name": "stdout",
     "output_type": "stream",
     "text": [
      "[ Valid | 200/300 ] loss = 0.75260, acc = 0.80263\n",
      "[ Valid | 200/300 ] loss = 0.75260, acc = 0.80263\n"
     ]
    },
    {
     "name": "stderr",
     "output_type": "stream",
     "text": [
      "T: 201/300: 100%|█| 78/78 [00:08<00:00,  9.05it/s, lr=0.0004, b_loss=0.471, b_ac\n"
     ]
    },
    {
     "name": "stdout",
     "output_type": "stream",
     "text": [
      "[ Train | 201/300 ] loss = 0.39566, acc = 0.86248\n"
     ]
    },
    {
     "name": "stderr",
     "output_type": "stream",
     "text": [
      "V: 201/300: 100%|██████| 26/26 [00:02<00:00, 11.21it/s, v_loss=1.1, v_acc=0.723]\n"
     ]
    },
    {
     "name": "stdout",
     "output_type": "stream",
     "text": [
      "[ Valid | 201/300 ] loss = 1.10360, acc = 0.72289\n",
      "[ Valid | 201/300 ] loss = 1.10360, acc = 0.72289\n"
     ]
    },
    {
     "name": "stderr",
     "output_type": "stream",
     "text": [
      "T: 202/300: 100%|█| 78/78 [00:08<00:00,  8.98it/s, lr=0.000398, b_loss=0.51, b_a\n"
     ]
    },
    {
     "name": "stdout",
     "output_type": "stream",
     "text": [
      "[ Train | 202/300 ] loss = 0.41767, acc = 0.85623\n"
     ]
    },
    {
     "name": "stderr",
     "output_type": "stream",
     "text": [
      "V: 202/300: 100%|█████| 26/26 [00:02<00:00, 10.68it/s, v_loss=1.15, v_acc=0.713]\n"
     ]
    },
    {
     "name": "stdout",
     "output_type": "stream",
     "text": [
      "[ Valid | 202/300 ] loss = 1.14857, acc = 0.71309\n",
      "[ Valid | 202/300 ] loss = 1.14857, acc = 0.71309\n"
     ]
    },
    {
     "name": "stderr",
     "output_type": "stream",
     "text": [
      "T: 203/300: 100%|█| 78/78 [00:08<00:00,  8.98it/s, lr=0.00039, b_loss=0.447, b_a\n"
     ]
    },
    {
     "name": "stdout",
     "output_type": "stream",
     "text": [
      "[ Train | 203/300 ] loss = 0.40003, acc = 0.85757\n"
     ]
    },
    {
     "name": "stderr",
     "output_type": "stream",
     "text": [
      "V: 203/300: 100%|█████| 26/26 [00:02<00:00, 10.67it/s, v_loss=1.08, v_acc=0.708]\n"
     ]
    },
    {
     "name": "stdout",
     "output_type": "stream",
     "text": [
      "[ Valid | 203/300 ] loss = 1.07607, acc = 0.70846\n",
      "[ Valid | 203/300 ] loss = 1.07607, acc = 0.70846\n"
     ]
    },
    {
     "name": "stderr",
     "output_type": "stream",
     "text": [
      "T: 204/300: 100%|█| 78/78 [00:08<00:00,  9.01it/s, lr=0.000378, b_loss=0.43, b_a\n"
     ]
    },
    {
     "name": "stdout",
     "output_type": "stream",
     "text": [
      "[ Train | 204/300 ] loss = 0.38689, acc = 0.86411\n"
     ]
    },
    {
     "name": "stderr",
     "output_type": "stream",
     "text": [
      "V: 204/300: 100%|█████| 26/26 [00:02<00:00, 10.56it/s, v_loss=1.03, v_acc=0.737]\n"
     ]
    },
    {
     "name": "stdout",
     "output_type": "stream",
     "text": [
      "[ Valid | 204/300 ] loss = 1.03004, acc = 0.73712\n",
      "[ Valid | 204/300 ] loss = 1.03004, acc = 0.73712\n"
     ]
    },
    {
     "name": "stderr",
     "output_type": "stream",
     "text": [
      "T: 205/300: 100%|█| 78/78 [00:08<00:00,  8.98it/s, lr=0.000362, b_loss=0.317, b_\n"
     ]
    },
    {
     "name": "stdout",
     "output_type": "stream",
     "text": [
      "[ Train | 205/300 ] loss = 0.37005, acc = 0.87157\n"
     ]
    },
    {
     "name": "stderr",
     "output_type": "stream",
     "text": [
      "V: 205/300: 100%|████| 26/26 [00:02<00:00, 10.83it/s, v_loss=0.913, v_acc=0.745]\n"
     ]
    },
    {
     "name": "stdout",
     "output_type": "stream",
     "text": [
      "[ Valid | 205/300 ] loss = 0.91339, acc = 0.74455\n",
      "[ Valid | 205/300 ] loss = 0.91339, acc = 0.74455\n"
     ]
    },
    {
     "name": "stderr",
     "output_type": "stream",
     "text": [
      "T: 206/300: 100%|█| 78/78 [00:08<00:00,  9.07it/s, lr=0.000341, b_loss=0.386, b_\n"
     ]
    },
    {
     "name": "stdout",
     "output_type": "stream",
     "text": [
      "[ Train | 206/300 ] loss = 0.38215, acc = 0.86386\n"
     ]
    },
    {
     "name": "stderr",
     "output_type": "stream",
     "text": [
      "V: 206/300: 100%|██████| 26/26 [00:02<00:00, 11.57it/s, v_loss=1.02, v_acc=0.74]\n"
     ]
    },
    {
     "name": "stdout",
     "output_type": "stream",
     "text": [
      "[ Valid | 206/300 ] loss = 1.02027, acc = 0.74029\n",
      "[ Valid | 206/300 ] loss = 1.02027, acc = 0.74029\n"
     ]
    },
    {
     "name": "stderr",
     "output_type": "stream",
     "text": [
      "T: 207/300: 100%|█| 78/78 [00:08<00:00,  9.08it/s, lr=0.000318, b_loss=0.309, b_\n"
     ]
    },
    {
     "name": "stdout",
     "output_type": "stream",
     "text": [
      "[ Train | 207/300 ] loss = 0.34578, acc = 0.87828\n"
     ]
    },
    {
     "name": "stderr",
     "output_type": "stream",
     "text": [
      "V: 207/300: 100%|█████| 26/26 [00:02<00:00, 10.76it/s, v_loss=1.09, v_acc=0.719]\n"
     ]
    },
    {
     "name": "stdout",
     "output_type": "stream",
     "text": [
      "[ Valid | 207/300 ] loss = 1.09319, acc = 0.71863\n",
      "[ Valid | 207/300 ] loss = 1.09319, acc = 0.71863\n"
     ]
    },
    {
     "name": "stderr",
     "output_type": "stream",
     "text": [
      "T: 208/300: 100%|█| 78/78 [00:08<00:00,  9.23it/s, lr=0.000291, b_loss=0.399, b_\n"
     ]
    },
    {
     "name": "stdout",
     "output_type": "stream",
     "text": [
      "[ Train | 208/300 ] loss = 0.33075, acc = 0.88563\n"
     ]
    },
    {
     "name": "stderr",
     "output_type": "stream",
     "text": [
      "V: 208/300: 100%|████| 26/26 [00:02<00:00, 12.08it/s, v_loss=0.948, v_acc=0.753]\n"
     ]
    },
    {
     "name": "stdout",
     "output_type": "stream",
     "text": [
      "[ Valid | 208/300 ] loss = 0.94819, acc = 0.75332\n",
      "[ Valid | 208/300 ] loss = 0.94819, acc = 0.75332\n"
     ]
    },
    {
     "name": "stderr",
     "output_type": "stream",
     "text": [
      "T: 209/300: 100%|█| 78/78 [00:08<00:00,  9.09it/s, lr=0.000262, b_loss=0.378, b_\n"
     ]
    },
    {
     "name": "stdout",
     "output_type": "stream",
     "text": [
      "[ Train | 209/300 ] loss = 0.32454, acc = 0.89107\n"
     ]
    },
    {
     "name": "stderr",
     "output_type": "stream",
     "text": [
      "V: 209/300: 100%|████| 26/26 [00:02<00:00, 11.93it/s, v_loss=0.892, v_acc=0.761]\n"
     ]
    },
    {
     "name": "stdout",
     "output_type": "stream",
     "text": [
      "[ Valid | 209/300 ] loss = 0.89216, acc = 0.76082\n",
      "[ Valid | 209/300 ] loss = 0.89216, acc = 0.76082\n"
     ]
    },
    {
     "name": "stderr",
     "output_type": "stream",
     "text": [
      "T: 210/300: 100%|█| 78/78 [00:08<00:00,  9.05it/s, lr=0.000231, b_loss=0.19, b_a\n"
     ]
    },
    {
     "name": "stdout",
     "output_type": "stream",
     "text": [
      "[ Train | 210/300 ] loss = 0.27258, acc = 0.90297\n"
     ]
    },
    {
     "name": "stderr",
     "output_type": "stream",
     "text": [
      "V: 210/300: 100%|████| 26/26 [00:02<00:00, 11.01it/s, v_loss=0.883, v_acc=0.765]\n"
     ]
    },
    {
     "name": "stdout",
     "output_type": "stream",
     "text": [
      "[ Valid | 210/300 ] loss = 0.88253, acc = 0.76475\n",
      "[ Valid | 210/300 ] loss = 0.88253, acc = 0.76475\n"
     ]
    },
    {
     "name": "stderr",
     "output_type": "stream",
     "text": [
      "T: 211/300: 100%|█| 78/78 [00:08<00:00,  9.02it/s, lr=0.0002, b_loss=0.337, b_ac\n"
     ]
    },
    {
     "name": "stdout",
     "output_type": "stream",
     "text": [
      "[ Train | 211/300 ] loss = 0.25433, acc = 0.91221\n"
     ]
    },
    {
     "name": "stderr",
     "output_type": "stream",
     "text": [
      "V: 211/300: 100%|█████| 26/26 [00:02<00:00, 10.88it/s, v_loss=0.87, v_acc=0.782]\n"
     ]
    },
    {
     "name": "stdout",
     "output_type": "stream",
     "text": [
      "[ Valid | 211/300 ] loss = 0.86965, acc = 0.78220\n",
      "[ Valid | 211/300 ] loss = 0.86965, acc = 0.78220\n"
     ]
    },
    {
     "name": "stderr",
     "output_type": "stream",
     "text": [
      "T: 212/300: 100%|█| 78/78 [00:08<00:00,  9.19it/s, lr=0.000169, b_loss=0.236, b_\n"
     ]
    },
    {
     "name": "stdout",
     "output_type": "stream",
     "text": [
      "[ Train | 212/300 ] loss = 0.24800, acc = 0.91268\n"
     ]
    },
    {
     "name": "stderr",
     "output_type": "stream",
     "text": [
      "V: 212/300: 100%|████| 26/26 [00:02<00:00, 11.23it/s, v_loss=0.894, v_acc=0.769]\n"
     ]
    },
    {
     "name": "stdout",
     "output_type": "stream",
     "text": [
      "[ Valid | 212/300 ] loss = 0.89387, acc = 0.76861\n",
      "[ Valid | 212/300 ] loss = 0.89387, acc = 0.76861\n"
     ]
    },
    {
     "name": "stderr",
     "output_type": "stream",
     "text": [
      "T: 213/300: 100%|█| 78/78 [00:08<00:00,  9.11it/s, lr=0.000138, b_loss=0.301, b_\n"
     ]
    },
    {
     "name": "stdout",
     "output_type": "stream",
     "text": [
      "[ Train | 213/300 ] loss = 0.23509, acc = 0.91722\n"
     ]
    },
    {
     "name": "stderr",
     "output_type": "stream",
     "text": [
      "V: 213/300: 100%|████| 26/26 [00:02<00:00, 11.52it/s, v_loss=0.825, v_acc=0.783]\n"
     ]
    },
    {
     "name": "stdout",
     "output_type": "stream",
     "text": [
      "[ Valid | 213/300 ] loss = 0.82499, acc = 0.78279\n",
      "[ Valid | 213/300 ] loss = 0.82499, acc = 0.78279\n"
     ]
    },
    {
     "name": "stderr",
     "output_type": "stream",
     "text": [
      "T: 214/300: 100%|█| 78/78 [00:08<00:00,  9.21it/s, lr=0.000109, b_loss=0.215, b_\n"
     ]
    },
    {
     "name": "stdout",
     "output_type": "stream",
     "text": [
      "[ Train | 214/300 ] loss = 0.20998, acc = 0.92841\n"
     ]
    },
    {
     "name": "stderr",
     "output_type": "stream",
     "text": [
      "V: 214/300: 100%|████| 26/26 [00:02<00:00, 12.16it/s, v_loss=0.846, v_acc=0.782]\n"
     ]
    },
    {
     "name": "stdout",
     "output_type": "stream",
     "text": [
      "[ Valid | 214/300 ] loss = 0.84570, acc = 0.78192\n",
      "[ Valid | 214/300 ] loss = 0.84570, acc = 0.78192\n"
     ]
    },
    {
     "name": "stderr",
     "output_type": "stream",
     "text": [
      "T: 215/300: 100%|█| 78/78 [00:08<00:00,  9.22it/s, lr=8.24e-5, b_loss=0.118, b_a\n"
     ]
    },
    {
     "name": "stdout",
     "output_type": "stream",
     "text": [
      "[ Train | 215/300 ] loss = 0.21421, acc = 0.92676\n"
     ]
    },
    {
     "name": "stderr",
     "output_type": "stream",
     "text": [
      "V: 215/300: 100%|████| 26/26 [00:02<00:00, 11.65it/s, v_loss=0.828, v_acc=0.794]\n"
     ]
    },
    {
     "name": "stdout",
     "output_type": "stream",
     "text": [
      "[ Valid | 215/300 ] loss = 0.82801, acc = 0.79447\n",
      "[ Valid | 215/300 ] loss = 0.82801, acc = 0.79447\n"
     ]
    },
    {
     "name": "stderr",
     "output_type": "stream",
     "text": [
      "T: 216/300: 100%|█| 78/78 [00:08<00:00,  8.92it/s, lr=5.86e-5, b_loss=0.143, b_a\n"
     ]
    },
    {
     "name": "stdout",
     "output_type": "stream",
     "text": [
      "[ Train | 216/300 ] loss = 0.19629, acc = 0.93379\n"
     ]
    },
    {
     "name": "stderr",
     "output_type": "stream",
     "text": [
      "V: 216/300: 100%|████| 26/26 [00:02<00:00, 11.97it/s, v_loss=0.785, v_acc=0.799]\n"
     ]
    },
    {
     "name": "stdout",
     "output_type": "stream",
     "text": [
      "[ Valid | 216/300 ] loss = 0.78462, acc = 0.79906\n",
      "[ Valid | 216/300 ] loss = 0.78462, acc = 0.79906\n"
     ]
    },
    {
     "name": "stderr",
     "output_type": "stream",
     "text": [
      "T: 217/300: 100%|█| 78/78 [00:08<00:00,  9.04it/s, lr=3.82e-5, b_loss=0.187, b_a\n"
     ]
    },
    {
     "name": "stdout",
     "output_type": "stream",
     "text": [
      "[ Train | 217/300 ] loss = 0.18696, acc = 0.93942\n"
     ]
    },
    {
     "name": "stderr",
     "output_type": "stream",
     "text": [
      "V: 217/300: 100%|█████| 26/26 [00:02<00:00, 11.12it/s, v_loss=0.78, v_acc=0.795]\n"
     ]
    },
    {
     "name": "stdout",
     "output_type": "stream",
     "text": [
      "[ Valid | 217/300 ] loss = 0.78006, acc = 0.79547\n",
      "[ Valid | 217/300 ] loss = 0.78006, acc = 0.79547\n"
     ]
    },
    {
     "name": "stderr",
     "output_type": "stream",
     "text": [
      "T: 218/300: 100%|█| 78/78 [00:08<00:00,  9.00it/s, lr=2.18e-5, b_loss=0.136, b_a\n"
     ]
    },
    {
     "name": "stdout",
     "output_type": "stream",
     "text": [
      "[ Train | 218/300 ] loss = 0.17557, acc = 0.94306\n"
     ]
    },
    {
     "name": "stderr",
     "output_type": "stream",
     "text": [
      "V: 218/300: 100%|████| 26/26 [00:02<00:00, 11.10it/s, v_loss=0.791, v_acc=0.795]\n"
     ]
    },
    {
     "name": "stdout",
     "output_type": "stream",
     "text": [
      "[ Valid | 218/300 ] loss = 0.79119, acc = 0.79543\n",
      "[ Valid | 218/300 ] loss = 0.79119, acc = 0.79543\n"
     ]
    },
    {
     "name": "stderr",
     "output_type": "stream",
     "text": [
      "T: 219/300: 100%|█| 78/78 [00:08<00:00,  9.05it/s, lr=9.79e-6, b_loss=0.253, b_a\n"
     ]
    },
    {
     "name": "stdout",
     "output_type": "stream",
     "text": [
      "[ Train | 219/300 ] loss = 0.17011, acc = 0.94353\n"
     ]
    },
    {
     "name": "stderr",
     "output_type": "stream",
     "text": [
      "V: 219/300: 100%|██████| 26/26 [00:02<00:00, 11.73it/s, v_loss=0.783, v_acc=0.8]"
     ]
    },
    {
     "name": "stdout",
     "output_type": "stream",
     "text": [
      "[ Valid | 219/300 ] loss = 0.78294, acc = 0.79966\n",
      "[ Valid | 219/300 ] loss = 0.78294, acc = 0.79966\n",
      "No improvment 20 consecutive epochs, early stopping\n"
     ]
    },
    {
     "name": "stderr",
     "output_type": "stream",
     "text": [
      "\n"
     ]
    },
    {
     "data": {
      "text/html": [
       "Waiting for W&B process to finish... <strong style=\"color:green\">(success).</strong>"
      ],
      "text/plain": [
       "<IPython.core.display.HTML object>"
      ]
     },
     "metadata": {},
     "output_type": "display_data"
    },
    {
     "name": "stderr",
     "output_type": "stream",
     "text": [
      "wandb: Network error (ReadTimeout), entering retry loop.\n"
     ]
    },
    {
     "data": {
      "text/html": [
       "<style>\n",
       "    table.wandb td:nth-child(1) { padding: 0 10px; text-align: left ; width: auto;} td:nth-child(2) {text-align: left ; width: 100%}\n",
       "    .wandb-row { display: flex; flex-direction: row; flex-wrap: wrap; justify-content: flex-start; width: 100% }\n",
       "    .wandb-col { display: flex; flex-direction: column; flex-basis: 100%; flex: 1; padding: 10px; }\n",
       "    </style>\n",
       "<div class=\"wandb-row\"><div class=\"wandb-col\"><h3>Run history:</h3><br/><table class=\"wandb\"><tr><td>average_training_loss</td><td>█▇▆▅▅▅▄▄▄▄▃▄▃▃▃▃▃▂▂▃▂▂▃▂▂▂▂▂▂▂▂▂▁▂▂▁▁▂▁▁</td></tr><tr><td>average_validation_loss</td><td>█▆▅▃▇▃▂▂▃▃▂▃▂▂▁▂▂▁▁▃▁▁▂▂▁▁▁▂▁▂▂▁▁▂▂▁▁▃▂▁</td></tr><tr><td>learning rate</td><td>█▇▄▁█▆▃▁▇▅▂█▆▃▁█▅▂▁▇▄▁█▆▃▁▇▅▂█▆▄▁█▅▃▁▇▄▁</td></tr><tr><td>step_training_accuracy</td><td>▁▁▄▄▂▄▆▅▄▄▆▅▅▅▇▅▇▇▆▆▇█▆▆█▇▇▇▇▆▇▇█▇▇█▇▇██</td></tr><tr><td>step_training_loss</td><td>██▆▅▆▅▄▄▄▄▃▃▄▃▂▄▃▂▃▃▂▂▃▃▂▂▃▂▂▃▂▂▁▂▂▁▂▂▂▁</td></tr><tr><td>step_validation_accuracy</td><td>▁▂▄▄▃▄▅▅▄▆▇▅▅▆▇▅▆▇▄▅▆█▅▆▇▇▆▇▇█▆▇▇▇▇▇▇▆▇█</td></tr><tr><td>step_validation_loss</td><td>█▆▄▄▇▄▄▃▄▂▂▄▂▂▁▃▃▂▆▄▃▁▄▂▂▂▂▂▂▁▃▂▂▃▂▂▂▄▃▁</td></tr></table><br/></div><div class=\"wandb-col\"><h3>Run summary:</h3><br/><table class=\"wandb\"><tr><td>average_training_loss</td><td>0.17011</td></tr><tr><td>average_validation_loss</td><td>0.78294</td></tr><tr><td>learning rate</td><td>1e-05</td></tr><tr><td>step_training_accuracy</td><td>0.93103</td></tr><tr><td>step_training_loss</td><td>0.25338</td></tr><tr><td>step_validation_accuracy</td><td>0.81452</td></tr><tr><td>step_validation_loss</td><td>0.52966</td></tr></table><br/></div></div>"
      ],
      "text/plain": [
       "<IPython.core.display.HTML object>"
      ]
     },
     "metadata": {},
     "output_type": "display_data"
    },
    {
     "data": {
      "text/html": [
       " View run <strong style=\"color:#cdcd00\">celestial-fog-22</strong> at: <a href='https://wandb.ai/nickwkt/Food-11/runs/nfh4w54y' target=\"_blank\">https://wandb.ai/nickwkt/Food-11/runs/nfh4w54y</a><br/>Synced 6 W&B file(s), 0 media file(s), 0 artifact file(s) and 0 other file(s)"
      ],
      "text/plain": [
       "<IPython.core.display.HTML object>"
      ]
     },
     "metadata": {},
     "output_type": "display_data"
    },
    {
     "data": {
      "text/html": [
       "Find logs at: <code>./wandb/run-20230414_153920-nfh4w54y/logs</code>"
      ],
      "text/plain": [
       "<IPython.core.display.HTML object>"
      ]
     },
     "metadata": {},
     "output_type": "display_data"
    },
    {
     "name": "stdout",
     "output_type": "stream",
     "text": [
      "\n",
      "\n",
      "Starting Fold: 2 ********************************************\n",
      "cuda:0\n"
     ]
    },
    {
     "data": {
      "application/vnd.jupyter.widget-view+json": {
       "model_id": "002d5cc8394e4d22b5133a4f9a8fcaaa",
       "version_major": 2,
       "version_minor": 0
      },
      "text/plain": [
       "VBox(children=(Label(value='Waiting for wandb.init()...\\r'), FloatProgress(value=0.01666838943347102, max=1.0)…"
      ]
     },
     "metadata": {},
     "output_type": "display_data"
    },
    {
     "data": {
      "text/html": [
       "Tracking run with wandb version 0.14.2"
      ],
      "text/plain": [
       "<IPython.core.display.HTML object>"
      ]
     },
     "metadata": {},
     "output_type": "display_data"
    },
    {
     "data": {
      "text/html": [
       "Run data is saved locally in <code>/home/user/jupyter_file/wandb/run-20230414_162714-9yf2afge</code>"
      ],
      "text/plain": [
       "<IPython.core.display.HTML object>"
      ]
     },
     "metadata": {},
     "output_type": "display_data"
    },
    {
     "data": {
      "text/html": [
       "Syncing run <strong><a href='https://wandb.ai/nickwkt/Food-11/runs/9yf2afge' target=\"_blank\">balmy-morning-23</a></strong> to <a href='https://wandb.ai/nickwkt/Food-11' target=\"_blank\">Weights & Biases</a> (<a href='https://wandb.me/run' target=\"_blank\">docs</a>)<br/>"
      ],
      "text/plain": [
       "<IPython.core.display.HTML object>"
      ]
     },
     "metadata": {},
     "output_type": "display_data"
    },
    {
     "data": {
      "text/html": [
       " View project at <a href='https://wandb.ai/nickwkt/Food-11' target=\"_blank\">https://wandb.ai/nickwkt/Food-11</a>"
      ],
      "text/plain": [
       "<IPython.core.display.HTML object>"
      ]
     },
     "metadata": {},
     "output_type": "display_data"
    },
    {
     "data": {
      "text/html": [
       " View run at <a href='https://wandb.ai/nickwkt/Food-11/runs/9yf2afge' target=\"_blank\">https://wandb.ai/nickwkt/Food-11/runs/9yf2afge</a>"
      ],
      "text/plain": [
       "<IPython.core.display.HTML object>"
      ]
     },
     "metadata": {},
     "output_type": "display_data"
    },
    {
     "name": "stderr",
     "output_type": "stream",
     "text": [
      "T: 001/300: 100%|█| 78/78 [00:08<00:00,  9.15it/s, lr=0.0004, b_loss=2.12, b_acc\n"
     ]
    },
    {
     "name": "stdout",
     "output_type": "stream",
     "text": [
      "[ Train | 001/300 ] loss = 2.11911, acc = 0.24871\n"
     ]
    },
    {
     "name": "stderr",
     "output_type": "stream",
     "text": [
      "V: 001/300: 100%|██████| 26/26 [00:02<00:00, 11.65it/s, v_loss=2.13, v_acc=0.27]\n"
     ]
    },
    {
     "name": "stdout",
     "output_type": "stream",
     "text": [
      "[ Valid | 001/300 ] loss = 2.12693, acc = 0.27039\n",
      "[ Valid | 001/300 ] loss = 2.12693, acc = 0.27039 -> best\n",
      "Best model found at fold 2 epoch 1, acc=0.27039, saving model\n"
     ]
    },
    {
     "name": "stderr",
     "output_type": "stream",
     "text": [
      "T: 002/300: 100%|█| 78/78 [00:08<00:00,  9.01it/s, lr=0.000398, b_loss=1.86, b_a\n"
     ]
    },
    {
     "name": "stdout",
     "output_type": "stream",
     "text": [
      "[ Train | 002/300 ] loss = 1.94510, acc = 0.32367\n"
     ]
    },
    {
     "name": "stderr",
     "output_type": "stream",
     "text": [
      "V: 002/300: 100%|█████| 26/26 [00:02<00:00, 10.99it/s, v_loss=2.02, v_acc=0.328]\n"
     ]
    },
    {
     "name": "stdout",
     "output_type": "stream",
     "text": [
      "[ Valid | 002/300 ] loss = 2.01864, acc = 0.32762\n",
      "[ Valid | 002/300 ] loss = 2.01864, acc = 0.32762 -> best\n",
      "Best model found at fold 2 epoch 2, acc=0.32762, saving model\n"
     ]
    },
    {
     "name": "stderr",
     "output_type": "stream",
     "text": [
      "T: 003/300: 100%|█| 78/78 [00:08<00:00,  8.87it/s, lr=0.00039, b_loss=1.8, b_acc\n"
     ]
    },
    {
     "name": "stdout",
     "output_type": "stream",
     "text": [
      "[ Train | 003/300 ] loss = 1.87363, acc = 0.34224\n"
     ]
    },
    {
     "name": "stderr",
     "output_type": "stream",
     "text": [
      "V: 003/300: 100%|█████| 26/26 [00:02<00:00, 12.99it/s, v_loss=1.99, v_acc=0.327]\n"
     ]
    },
    {
     "name": "stdout",
     "output_type": "stream",
     "text": [
      "[ Valid | 003/300 ] loss = 1.99095, acc = 0.32696\n",
      "[ Valid | 003/300 ] loss = 1.99095, acc = 0.32696\n"
     ]
    },
    {
     "name": "stderr",
     "output_type": "stream",
     "text": [
      "T: 004/300: 100%|█| 78/78 [00:08<00:00,  8.93it/s, lr=0.000378, b_loss=1.61, b_a\n"
     ]
    },
    {
     "name": "stdout",
     "output_type": "stream",
     "text": [
      "[ Train | 004/300 ] loss = 1.78856, acc = 0.37313\n"
     ]
    },
    {
     "name": "stderr",
     "output_type": "stream",
     "text": [
      "V: 004/300: 100%|██████| 26/26 [00:02<00:00, 12.60it/s, v_loss=1.8, v_acc=0.384]\n"
     ]
    },
    {
     "name": "stdout",
     "output_type": "stream",
     "text": [
      "[ Valid | 004/300 ] loss = 1.79814, acc = 0.38419\n",
      "[ Valid | 004/300 ] loss = 1.79814, acc = 0.38419 -> best\n",
      "Best model found at fold 2 epoch 4, acc=0.38419, saving model\n"
     ]
    },
    {
     "name": "stderr",
     "output_type": "stream",
     "text": [
      "T: 005/300: 100%|█| 78/78 [00:08<00:00,  9.13it/s, lr=0.000362, b_loss=1.67, b_a\n"
     ]
    },
    {
     "name": "stdout",
     "output_type": "stream",
     "text": [
      "[ Train | 005/300 ] loss = 1.71453, acc = 0.40616\n"
     ]
    },
    {
     "name": "stderr",
     "output_type": "stream",
     "text": [
      "V: 005/300: 100%|█████| 26/26 [00:02<00:00, 12.38it/s, v_loss=1.87, v_acc=0.377]\n"
     ]
    },
    {
     "name": "stdout",
     "output_type": "stream",
     "text": [
      "[ Valid | 005/300 ] loss = 1.87351, acc = 0.37687\n",
      "[ Valid | 005/300 ] loss = 1.87351, acc = 0.37687\n"
     ]
    },
    {
     "name": "stderr",
     "output_type": "stream",
     "text": [
      "T: 006/300: 100%|█| 78/78 [00:08<00:00,  8.74it/s, lr=0.000341, b_loss=1.77, b_a\n"
     ]
    },
    {
     "name": "stdout",
     "output_type": "stream",
     "text": [
      "[ Train | 006/300 ] loss = 1.67001, acc = 0.41952\n"
     ]
    },
    {
     "name": "stderr",
     "output_type": "stream",
     "text": [
      "V: 006/300: 100%|█████| 26/26 [00:02<00:00, 11.28it/s, v_loss=2.03, v_acc=0.324]\n"
     ]
    },
    {
     "name": "stdout",
     "output_type": "stream",
     "text": [
      "[ Valid | 006/300 ] loss = 2.03491, acc = 0.32399\n",
      "[ Valid | 006/300 ] loss = 2.03491, acc = 0.32399\n"
     ]
    },
    {
     "name": "stderr",
     "output_type": "stream",
     "text": [
      "T: 007/300: 100%|█| 78/78 [00:08<00:00,  8.86it/s, lr=0.000318, b_loss=1.48, b_a\n"
     ]
    },
    {
     "name": "stdout",
     "output_type": "stream",
     "text": [
      "[ Train | 007/300 ] loss = 1.61520, acc = 0.43892\n"
     ]
    },
    {
     "name": "stderr",
     "output_type": "stream",
     "text": [
      "V: 007/300: 100%|██████| 26/26 [00:02<00:00, 12.75it/s, v_loss=1.8, v_acc=0.396]\n"
     ]
    },
    {
     "name": "stdout",
     "output_type": "stream",
     "text": [
      "[ Valid | 007/300 ] loss = 1.80240, acc = 0.39650\n",
      "[ Valid | 007/300 ] loss = 1.80240, acc = 0.39650 -> best\n",
      "Best model found at fold 2 epoch 7, acc=0.39650, saving model\n"
     ]
    },
    {
     "name": "stderr",
     "output_type": "stream",
     "text": [
      "T: 008/300: 100%|█| 78/78 [00:08<00:00,  8.90it/s, lr=0.000291, b_loss=1.68, b_a\n"
     ]
    },
    {
     "name": "stdout",
     "output_type": "stream",
     "text": [
      "[ Train | 008/300 ] loss = 1.54416, acc = 0.46615\n"
     ]
    },
    {
     "name": "stderr",
     "output_type": "stream",
     "text": [
      "V: 008/300: 100%|█████| 26/26 [00:02<00:00, 12.34it/s, v_loss=1.78, v_acc=0.414]\n"
     ]
    },
    {
     "name": "stdout",
     "output_type": "stream",
     "text": [
      "[ Valid | 008/300 ] loss = 1.77503, acc = 0.41386\n",
      "[ Valid | 008/300 ] loss = 1.77503, acc = 0.41386 -> best\n",
      "Best model found at fold 2 epoch 8, acc=0.41386, saving model\n"
     ]
    },
    {
     "name": "stderr",
     "output_type": "stream",
     "text": [
      "T: 009/300: 100%|█| 78/78 [00:08<00:00,  9.08it/s, lr=0.000262, b_loss=1.58, b_a\n"
     ]
    },
    {
     "name": "stdout",
     "output_type": "stream",
     "text": [
      "[ Train | 009/300 ] loss = 1.49002, acc = 0.48362\n"
     ]
    },
    {
     "name": "stderr",
     "output_type": "stream",
     "text": [
      "V: 009/300: 100%|█████| 26/26 [00:02<00:00, 11.22it/s, v_loss=1.54, v_acc=0.463]\n"
     ]
    },
    {
     "name": "stdout",
     "output_type": "stream",
     "text": [
      "[ Valid | 009/300 ] loss = 1.54428, acc = 0.46296\n",
      "[ Valid | 009/300 ] loss = 1.54428, acc = 0.46296 -> best\n",
      "Best model found at fold 2 epoch 9, acc=0.46296, saving model\n"
     ]
    },
    {
     "name": "stderr",
     "output_type": "stream",
     "text": [
      "T: 010/300: 100%|█| 78/78 [00:08<00:00,  8.87it/s, lr=0.000231, b_loss=1.56, b_a\n"
     ]
    },
    {
     "name": "stdout",
     "output_type": "stream",
     "text": [
      "[ Train | 010/300 ] loss = 1.44222, acc = 0.49965\n"
     ]
    },
    {
     "name": "stderr",
     "output_type": "stream",
     "text": [
      "V: 010/300: 100%|█████| 26/26 [00:02<00:00, 11.43it/s, v_loss=1.47, v_acc=0.496]\n"
     ]
    },
    {
     "name": "stdout",
     "output_type": "stream",
     "text": [
      "[ Valid | 010/300 ] loss = 1.47261, acc = 0.49555\n",
      "[ Valid | 010/300 ] loss = 1.47261, acc = 0.49555 -> best\n",
      "Best model found at fold 2 epoch 10, acc=0.49555, saving model\n"
     ]
    },
    {
     "name": "stderr",
     "output_type": "stream",
     "text": [
      "T: 011/300: 100%|█| 78/78 [00:08<00:00,  8.81it/s, lr=0.0002, b_loss=1.41, b_acc\n"
     ]
    },
    {
     "name": "stdout",
     "output_type": "stream",
     "text": [
      "[ Train | 011/300 ] loss = 1.40099, acc = 0.51386\n"
     ]
    },
    {
     "name": "stderr",
     "output_type": "stream",
     "text": [
      "V: 011/300: 100%|█████| 26/26 [00:02<00:00, 11.71it/s, v_loss=1.47, v_acc=0.496]\n"
     ]
    },
    {
     "name": "stdout",
     "output_type": "stream",
     "text": [
      "[ Valid | 011/300 ] loss = 1.47090, acc = 0.49577\n",
      "[ Valid | 011/300 ] loss = 1.47090, acc = 0.49577 -> best\n",
      "Best model found at fold 2 epoch 11, acc=0.49577, saving model\n"
     ]
    },
    {
     "name": "stderr",
     "output_type": "stream",
     "text": [
      "T: 012/300: 100%|█| 78/78 [00:08<00:00,  9.09it/s, lr=0.000169, b_loss=1.24, b_a\n"
     ]
    },
    {
     "name": "stdout",
     "output_type": "stream",
     "text": [
      "[ Train | 012/300 ] loss = 1.34543, acc = 0.53605\n"
     ]
    },
    {
     "name": "stderr",
     "output_type": "stream",
     "text": [
      "V: 012/300: 100%|█████| 26/26 [00:02<00:00, 12.08it/s, v_loss=1.35, v_acc=0.536]\n"
     ]
    },
    {
     "name": "stdout",
     "output_type": "stream",
     "text": [
      "[ Valid | 012/300 ] loss = 1.34619, acc = 0.53553\n",
      "[ Valid | 012/300 ] loss = 1.34619, acc = 0.53553 -> best\n",
      "Best model found at fold 2 epoch 12, acc=0.53553, saving model\n"
     ]
    },
    {
     "name": "stderr",
     "output_type": "stream",
     "text": [
      "T: 013/300: 100%|█| 78/78 [00:08<00:00,  8.88it/s, lr=0.000138, b_loss=1.41, b_a\n"
     ]
    },
    {
     "name": "stdout",
     "output_type": "stream",
     "text": [
      "[ Train | 013/300 ] loss = 1.33241, acc = 0.53642\n"
     ]
    },
    {
     "name": "stderr",
     "output_type": "stream",
     "text": [
      "V: 013/300: 100%|██████| 26/26 [00:02<00:00, 11.95it/s, v_loss=1.32, v_acc=0.55]\n"
     ]
    },
    {
     "name": "stdout",
     "output_type": "stream",
     "text": [
      "[ Valid | 013/300 ] loss = 1.31712, acc = 0.55026\n",
      "[ Valid | 013/300 ] loss = 1.31712, acc = 0.55026 -> best\n",
      "Best model found at fold 2 epoch 13, acc=0.55026, saving model\n"
     ]
    },
    {
     "name": "stderr",
     "output_type": "stream",
     "text": [
      "T: 014/300: 100%|█| 78/78 [00:08<00:00,  8.94it/s, lr=0.000109, b_loss=1.21, b_a\n"
     ]
    },
    {
     "name": "stdout",
     "output_type": "stream",
     "text": [
      "[ Train | 014/300 ] loss = 1.25983, acc = 0.56464\n"
     ]
    },
    {
     "name": "stderr",
     "output_type": "stream",
     "text": [
      "V: 014/300: 100%|█████| 26/26 [00:01<00:00, 13.25it/s, v_loss=1.29, v_acc=0.563]\n"
     ]
    },
    {
     "name": "stdout",
     "output_type": "stream",
     "text": [
      "[ Valid | 014/300 ] loss = 1.29314, acc = 0.56281\n",
      "[ Valid | 014/300 ] loss = 1.29314, acc = 0.56281 -> best\n",
      "Best model found at fold 2 epoch 14, acc=0.56281, saving model\n"
     ]
    },
    {
     "name": "stderr",
     "output_type": "stream",
     "text": [
      "T: 015/300: 100%|█| 78/78 [00:08<00:00,  8.93it/s, lr=8.24e-5, b_loss=1.18, b_ac\n"
     ]
    },
    {
     "name": "stdout",
     "output_type": "stream",
     "text": [
      "[ Train | 015/300 ] loss = 1.22282, acc = 0.57943\n"
     ]
    },
    {
     "name": "stderr",
     "output_type": "stream",
     "text": [
      "V: 015/300: 100%|█████| 26/26 [00:02<00:00, 12.09it/s, v_loss=1.25, v_acc=0.573]\n"
     ]
    },
    {
     "name": "stdout",
     "output_type": "stream",
     "text": [
      "[ Valid | 015/300 ] loss = 1.25490, acc = 0.57342\n",
      "[ Valid | 015/300 ] loss = 1.25490, acc = 0.57342 -> best\n",
      "Best model found at fold 2 epoch 15, acc=0.57342, saving model\n"
     ]
    },
    {
     "name": "stderr",
     "output_type": "stream",
     "text": [
      "T: 016/300: 100%|█| 78/78 [00:08<00:00,  8.98it/s, lr=5.86e-5, b_loss=1.31, b_ac\n"
     ]
    },
    {
     "name": "stdout",
     "output_type": "stream",
     "text": [
      "[ Train | 016/300 ] loss = 1.17502, acc = 0.59614\n"
     ]
    },
    {
     "name": "stderr",
     "output_type": "stream",
     "text": [
      "V: 016/300: 100%|█████| 26/26 [00:02<00:00, 11.24it/s, v_loss=1.21, v_acc=0.589]\n"
     ]
    },
    {
     "name": "stdout",
     "output_type": "stream",
     "text": [
      "[ Valid | 016/300 ] loss = 1.21146, acc = 0.58879\n",
      "[ Valid | 016/300 ] loss = 1.21146, acc = 0.58879 -> best\n",
      "Best model found at fold 2 epoch 16, acc=0.58879, saving model\n"
     ]
    },
    {
     "name": "stderr",
     "output_type": "stream",
     "text": [
      "T: 017/300: 100%|█| 78/78 [00:08<00:00,  8.93it/s, lr=3.82e-5, b_loss=1.11, b_ac\n"
     ]
    },
    {
     "name": "stdout",
     "output_type": "stream",
     "text": [
      "[ Train | 017/300 ] loss = 1.15928, acc = 0.60232\n"
     ]
    },
    {
     "name": "stderr",
     "output_type": "stream",
     "text": [
      "V: 017/300: 100%|█████| 26/26 [00:02<00:00, 11.81it/s, v_loss=1.11, v_acc=0.619]\n"
     ]
    },
    {
     "name": "stdout",
     "output_type": "stream",
     "text": [
      "[ Valid | 017/300 ] loss = 1.11158, acc = 0.61856\n",
      "[ Valid | 017/300 ] loss = 1.11158, acc = 0.61856 -> best\n",
      "Best model found at fold 2 epoch 17, acc=0.61856, saving model\n"
     ]
    },
    {
     "name": "stderr",
     "output_type": "stream",
     "text": [
      "T: 018/300: 100%|█| 78/78 [00:08<00:00,  9.14it/s, lr=2.18e-5, b_loss=0.953, b_a\n"
     ]
    },
    {
     "name": "stdout",
     "output_type": "stream",
     "text": [
      "[ Train | 018/300 ] loss = 1.12510, acc = 0.60930\n"
     ]
    },
    {
     "name": "stderr",
     "output_type": "stream",
     "text": [
      "V: 018/300: 100%|█████| 26/26 [00:02<00:00, 11.91it/s, v_loss=1.11, v_acc=0.623]\n"
     ]
    },
    {
     "name": "stdout",
     "output_type": "stream",
     "text": [
      "[ Valid | 018/300 ] loss = 1.10574, acc = 0.62303\n",
      "[ Valid | 018/300 ] loss = 1.10574, acc = 0.62303 -> best\n",
      "Best model found at fold 2 epoch 18, acc=0.62303, saving model\n"
     ]
    },
    {
     "name": "stderr",
     "output_type": "stream",
     "text": [
      "T: 019/300: 100%|█| 78/78 [00:08<00:00,  8.75it/s, lr=9.79e-6, b_loss=1.16, b_ac\n"
     ]
    },
    {
     "name": "stdout",
     "output_type": "stream",
     "text": [
      "[ Train | 019/300 ] loss = 1.10653, acc = 0.61866\n"
     ]
    },
    {
     "name": "stderr",
     "output_type": "stream",
     "text": [
      "V: 019/300: 100%|█████| 26/26 [00:02<00:00, 12.64it/s, v_loss=1.09, v_acc=0.623]\n"
     ]
    },
    {
     "name": "stdout",
     "output_type": "stream",
     "text": [
      "[ Valid | 019/300 ] loss = 1.08852, acc = 0.62328\n",
      "[ Valid | 019/300 ] loss = 1.08852, acc = 0.62328 -> best\n",
      "Best model found at fold 2 epoch 19, acc=0.62328, saving model\n"
     ]
    },
    {
     "name": "stderr",
     "output_type": "stream",
     "text": [
      "T: 020/300: 100%|█| 78/78 [00:08<00:00,  8.95it/s, lr=2.46e-6, b_loss=1.11, b_ac\n"
     ]
    },
    {
     "name": "stdout",
     "output_type": "stream",
     "text": [
      "[ Train | 020/300 ] loss = 1.10075, acc = 0.61761\n"
     ]
    },
    {
     "name": "stderr",
     "output_type": "stream",
     "text": [
      "V: 020/300: 100%|██████| 26/26 [00:02<00:00, 11.90it/s, v_loss=1.08, v_acc=0.63]\n"
     ]
    },
    {
     "name": "stdout",
     "output_type": "stream",
     "text": [
      "[ Valid | 020/300 ] loss = 1.07828, acc = 0.63026\n",
      "[ Valid | 020/300 ] loss = 1.07828, acc = 0.63026 -> best\n",
      "Best model found at fold 2 epoch 20, acc=0.63026, saving model\n"
     ]
    },
    {
     "name": "stderr",
     "output_type": "stream",
     "text": [
      "T: 021/300: 100%|█| 78/78 [00:08<00:00,  8.79it/s, lr=0.0004, b_loss=1.45, b_acc\n"
     ]
    },
    {
     "name": "stdout",
     "output_type": "stream",
     "text": [
      "[ Train | 021/300 ] loss = 1.40353, acc = 0.52012\n"
     ]
    },
    {
     "name": "stderr",
     "output_type": "stream",
     "text": [
      "V: 021/300: 100%|██████| 26/26 [00:02<00:00, 12.05it/s, v_loss=1.4, v_acc=0.526]\n"
     ]
    },
    {
     "name": "stdout",
     "output_type": "stream",
     "text": [
      "[ Valid | 021/300 ] loss = 1.40062, acc = 0.52587\n",
      "[ Valid | 021/300 ] loss = 1.40062, acc = 0.52587\n"
     ]
    },
    {
     "name": "stderr",
     "output_type": "stream",
     "text": [
      "T: 022/300: 100%|█| 78/78 [00:08<00:00,  8.96it/s, lr=0.000398, b_loss=1.31, b_a\n"
     ]
    },
    {
     "name": "stdout",
     "output_type": "stream",
     "text": [
      "[ Train | 022/300 ] loss = 1.33781, acc = 0.53720\n"
     ]
    },
    {
     "name": "stderr",
     "output_type": "stream",
     "text": [
      "V: 022/300: 100%|█████| 26/26 [00:02<00:00, 11.43it/s, v_loss=2.34, v_acc=0.354]\n"
     ]
    },
    {
     "name": "stdout",
     "output_type": "stream",
     "text": [
      "[ Valid | 022/300 ] loss = 2.33797, acc = 0.35395\n",
      "[ Valid | 022/300 ] loss = 2.33797, acc = 0.35395\n"
     ]
    },
    {
     "name": "stderr",
     "output_type": "stream",
     "text": [
      "T: 023/300: 100%|█| 78/78 [00:08<00:00,  8.88it/s, lr=0.00039, b_loss=1.45, b_ac\n"
     ]
    },
    {
     "name": "stdout",
     "output_type": "stream",
     "text": [
      "[ Train | 023/300 ] loss = 1.32722, acc = 0.54112\n"
     ]
    },
    {
     "name": "stderr",
     "output_type": "stream",
     "text": [
      "V: 023/300: 100%|██████| 26/26 [00:02<00:00, 11.23it/s, v_loss=2.57, v_acc=0.31]\n"
     ]
    },
    {
     "name": "stdout",
     "output_type": "stream",
     "text": [
      "[ Valid | 023/300 ] loss = 2.56880, acc = 0.30956\n",
      "[ Valid | 023/300 ] loss = 2.56880, acc = 0.30956\n"
     ]
    },
    {
     "name": "stderr",
     "output_type": "stream",
     "text": [
      "T: 024/300: 100%|█| 78/78 [00:08<00:00,  8.86it/s, lr=0.000378, b_loss=1.28, b_a\n"
     ]
    },
    {
     "name": "stdout",
     "output_type": "stream",
     "text": [
      "[ Train | 024/300 ] loss = 1.27347, acc = 0.56087\n"
     ]
    },
    {
     "name": "stderr",
     "output_type": "stream",
     "text": [
      "V: 024/300: 100%|█████| 26/26 [00:02<00:00, 11.85it/s, v_loss=1.28, v_acc=0.559]\n"
     ]
    },
    {
     "name": "stdout",
     "output_type": "stream",
     "text": [
      "[ Valid | 024/300 ] loss = 1.27906, acc = 0.55887\n",
      "[ Valid | 024/300 ] loss = 1.27906, acc = 0.55887\n"
     ]
    },
    {
     "name": "stderr",
     "output_type": "stream",
     "text": [
      "T: 025/300: 100%|█| 78/78 [00:08<00:00,  8.97it/s, lr=0.000362, b_loss=1.2, b_ac\n"
     ]
    },
    {
     "name": "stdout",
     "output_type": "stream",
     "text": [
      "[ Train | 025/300 ] loss = 1.24628, acc = 0.57120\n"
     ]
    },
    {
     "name": "stderr",
     "output_type": "stream",
     "text": [
      "V: 025/300: 100%|█████| 26/26 [00:02<00:00, 11.11it/s, v_loss=1.34, v_acc=0.544]\n"
     ]
    },
    {
     "name": "stdout",
     "output_type": "stream",
     "text": [
      "[ Valid | 025/300 ] loss = 1.34404, acc = 0.54381\n",
      "[ Valid | 025/300 ] loss = 1.34404, acc = 0.54381\n"
     ]
    },
    {
     "name": "stderr",
     "output_type": "stream",
     "text": [
      "T: 026/300: 100%|█| 78/78 [00:08<00:00,  9.01it/s, lr=0.000341, b_loss=1.22, b_a\n"
     ]
    },
    {
     "name": "stdout",
     "output_type": "stream",
     "text": [
      "[ Train | 026/300 ] loss = 1.21377, acc = 0.57985\n"
     ]
    },
    {
     "name": "stderr",
     "output_type": "stream",
     "text": [
      "V: 026/300: 100%|█████| 26/26 [00:02<00:00, 11.96it/s, v_loss=1.58, v_acc=0.489]\n"
     ]
    },
    {
     "name": "stdout",
     "output_type": "stream",
     "text": [
      "[ Valid | 026/300 ] loss = 1.57885, acc = 0.48863\n",
      "[ Valid | 026/300 ] loss = 1.57885, acc = 0.48863\n"
     ]
    },
    {
     "name": "stderr",
     "output_type": "stream",
     "text": [
      "T: 027/300: 100%|█| 78/78 [00:08<00:00,  9.02it/s, lr=0.000318, b_loss=1.38, b_a\n"
     ]
    },
    {
     "name": "stdout",
     "output_type": "stream",
     "text": [
      "[ Train | 027/300 ] loss = 1.17138, acc = 0.60076\n"
     ]
    },
    {
     "name": "stderr",
     "output_type": "stream",
     "text": [
      "V: 027/300: 100%|█████| 26/26 [00:02<00:00, 11.50it/s, v_loss=1.22, v_acc=0.582]\n"
     ]
    },
    {
     "name": "stdout",
     "output_type": "stream",
     "text": [
      "[ Valid | 027/300 ] loss = 1.21970, acc = 0.58215\n",
      "[ Valid | 027/300 ] loss = 1.21970, acc = 0.58215\n"
     ]
    },
    {
     "name": "stderr",
     "output_type": "stream",
     "text": [
      "T: 028/300: 100%|█| 78/78 [00:08<00:00,  8.92it/s, lr=0.000291, b_loss=1.02, b_a\n"
     ]
    },
    {
     "name": "stdout",
     "output_type": "stream",
     "text": [
      "[ Train | 028/300 ] loss = 1.13472, acc = 0.61197\n"
     ]
    },
    {
     "name": "stderr",
     "output_type": "stream",
     "text": [
      "V: 028/300: 100%|█████| 26/26 [00:02<00:00, 12.18it/s, v_loss=1.19, v_acc=0.601]\n"
     ]
    },
    {
     "name": "stdout",
     "output_type": "stream",
     "text": [
      "[ Valid | 028/300 ] loss = 1.19341, acc = 0.60084\n",
      "[ Valid | 028/300 ] loss = 1.19341, acc = 0.60084\n"
     ]
    },
    {
     "name": "stderr",
     "output_type": "stream",
     "text": [
      "T: 029/300: 100%|█| 78/78 [00:08<00:00,  8.95it/s, lr=0.000262, b_loss=1.19, b_a\n"
     ]
    },
    {
     "name": "stdout",
     "output_type": "stream",
     "text": [
      "[ Train | 029/300 ] loss = 1.12170, acc = 0.61811\n"
     ]
    },
    {
     "name": "stderr",
     "output_type": "stream",
     "text": [
      "V: 029/300: 100%|███████| 26/26 [00:02<00:00, 11.79it/s, v_loss=1.17, v_acc=0.6]\n"
     ]
    },
    {
     "name": "stdout",
     "output_type": "stream",
     "text": [
      "[ Valid | 029/300 ] loss = 1.17467, acc = 0.60045\n",
      "[ Valid | 029/300 ] loss = 1.17467, acc = 0.60045\n"
     ]
    },
    {
     "name": "stderr",
     "output_type": "stream",
     "text": [
      "T: 030/300: 100%|█| 78/78 [00:08<00:00,  9.12it/s, lr=0.000231, b_loss=0.982, b_\n"
     ]
    },
    {
     "name": "stdout",
     "output_type": "stream",
     "text": [
      "[ Train | 030/300 ] loss = 1.07781, acc = 0.62939\n"
     ]
    },
    {
     "name": "stderr",
     "output_type": "stream",
     "text": [
      "V: 030/300: 100%|█████| 26/26 [00:02<00:00, 11.25it/s, v_loss=1.04, v_acc=0.646]\n"
     ]
    },
    {
     "name": "stdout",
     "output_type": "stream",
     "text": [
      "[ Valid | 030/300 ] loss = 1.03718, acc = 0.64623\n",
      "[ Valid | 030/300 ] loss = 1.03718, acc = 0.64623 -> best\n",
      "Best model found at fold 2 epoch 30, acc=0.64623, saving model\n"
     ]
    },
    {
     "name": "stderr",
     "output_type": "stream",
     "text": [
      "T: 031/300: 100%|█| 78/78 [00:08<00:00,  8.99it/s, lr=0.0002, b_loss=0.988, b_ac\n"
     ]
    },
    {
     "name": "stdout",
     "output_type": "stream",
     "text": [
      "[ Train | 031/300 ] loss = 1.03864, acc = 0.64135\n"
     ]
    },
    {
     "name": "stderr",
     "output_type": "stream",
     "text": [
      "V: 031/300: 100%|█████| 26/26 [00:02<00:00, 11.73it/s, v_loss=1.11, v_acc=0.616]\n"
     ]
    },
    {
     "name": "stdout",
     "output_type": "stream",
     "text": [
      "[ Valid | 031/300 ] loss = 1.10999, acc = 0.61613\n",
      "[ Valid | 031/300 ] loss = 1.10999, acc = 0.61613\n"
     ]
    },
    {
     "name": "stderr",
     "output_type": "stream",
     "text": [
      "T: 032/300: 100%|█| 78/78 [00:08<00:00,  8.94it/s, lr=0.000169, b_loss=1.19, b_a\n"
     ]
    },
    {
     "name": "stdout",
     "output_type": "stream",
     "text": [
      "[ Train | 032/300 ] loss = 1.00425, acc = 0.65072\n"
     ]
    },
    {
     "name": "stderr",
     "output_type": "stream",
     "text": [
      "V: 032/300: 100%|█████| 26/26 [00:02<00:00, 12.94it/s, v_loss=1.04, v_acc=0.651]\n"
     ]
    },
    {
     "name": "stdout",
     "output_type": "stream",
     "text": [
      "[ Valid | 032/300 ] loss = 1.04012, acc = 0.65128\n",
      "[ Valid | 032/300 ] loss = 1.04012, acc = 0.65128 -> best\n",
      "Best model found at fold 2 epoch 32, acc=0.65128, saving model\n"
     ]
    },
    {
     "name": "stderr",
     "output_type": "stream",
     "text": [
      "T: 033/300: 100%|█| 78/78 [00:08<00:00,  9.00it/s, lr=0.000138, b_loss=1.07, b_a\n"
     ]
    },
    {
     "name": "stdout",
     "output_type": "stream",
     "text": [
      "[ Train | 033/300 ] loss = 0.97736, acc = 0.66604\n"
     ]
    },
    {
     "name": "stderr",
     "output_type": "stream",
     "text": [
      "V: 033/300: 100%|███████| 26/26 [00:01<00:00, 13.01it/s, v_loss=1.1, v_acc=0.63]\n"
     ]
    },
    {
     "name": "stdout",
     "output_type": "stream",
     "text": [
      "[ Valid | 033/300 ] loss = 1.09784, acc = 0.62998\n",
      "[ Valid | 033/300 ] loss = 1.09784, acc = 0.62998\n"
     ]
    },
    {
     "name": "stderr",
     "output_type": "stream",
     "text": [
      "T: 034/300: 100%|█| 78/78 [00:08<00:00,  8.93it/s, lr=0.000109, b_loss=0.945, b_\n"
     ]
    },
    {
     "name": "stdout",
     "output_type": "stream",
     "text": [
      "[ Train | 034/300 ] loss = 0.96407, acc = 0.67327\n"
     ]
    },
    {
     "name": "stderr",
     "output_type": "stream",
     "text": [
      "V: 034/300: 100%|█████| 26/26 [00:02<00:00, 12.15it/s, v_loss=1.09, v_acc=0.629]\n"
     ]
    },
    {
     "name": "stdout",
     "output_type": "stream",
     "text": [
      "[ Valid | 034/300 ] loss = 1.09441, acc = 0.62930\n",
      "[ Valid | 034/300 ] loss = 1.09441, acc = 0.62930\n"
     ]
    },
    {
     "name": "stderr",
     "output_type": "stream",
     "text": [
      "T: 035/300: 100%|█| 78/78 [00:08<00:00,  8.81it/s, lr=8.24e-5, b_loss=0.858, b_a\n"
     ]
    },
    {
     "name": "stdout",
     "output_type": "stream",
     "text": [
      "[ Train | 035/300 ] loss = 0.93527, acc = 0.67749\n"
     ]
    },
    {
     "name": "stderr",
     "output_type": "stream",
     "text": [
      "V: 035/300: 100%|████| 26/26 [00:02<00:00, 11.88it/s, v_loss=0.943, v_acc=0.672]\n"
     ]
    },
    {
     "name": "stdout",
     "output_type": "stream",
     "text": [
      "[ Valid | 035/300 ] loss = 0.94306, acc = 0.67186\n",
      "[ Valid | 035/300 ] loss = 0.94306, acc = 0.67186 -> best\n",
      "Best model found at fold 2 epoch 35, acc=0.67186, saving model\n"
     ]
    },
    {
     "name": "stderr",
     "output_type": "stream",
     "text": [
      "T: 036/300: 100%|█| 78/78 [00:08<00:00,  8.90it/s, lr=5.86e-5, b_loss=1.04, b_ac\n"
     ]
    },
    {
     "name": "stdout",
     "output_type": "stream",
     "text": [
      "[ Train | 036/300 ] loss = 0.89224, acc = 0.69202\n"
     ]
    },
    {
     "name": "stderr",
     "output_type": "stream",
     "text": [
      "V: 036/300: 100%|████| 26/26 [00:02<00:00, 11.61it/s, v_loss=0.916, v_acc=0.692]\n"
     ]
    },
    {
     "name": "stdout",
     "output_type": "stream",
     "text": [
      "[ Valid | 036/300 ] loss = 0.91570, acc = 0.69200\n",
      "[ Valid | 036/300 ] loss = 0.91570, acc = 0.69200 -> best\n",
      "Best model found at fold 2 epoch 36, acc=0.69200, saving model\n"
     ]
    },
    {
     "name": "stderr",
     "output_type": "stream",
     "text": [
      "T: 037/300: 100%|█| 78/78 [00:08<00:00,  9.09it/s, lr=3.82e-5, b_loss=0.89, b_ac\n"
     ]
    },
    {
     "name": "stdout",
     "output_type": "stream",
     "text": [
      "[ Train | 037/300 ] loss = 0.87314, acc = 0.70237\n"
     ]
    },
    {
     "name": "stderr",
     "output_type": "stream",
     "text": [
      "V: 037/300: 100%|████| 26/26 [00:02<00:00, 12.33it/s, v_loss=0.894, v_acc=0.699]\n"
     ]
    },
    {
     "name": "stdout",
     "output_type": "stream",
     "text": [
      "[ Valid | 037/300 ] loss = 0.89423, acc = 0.69900\n",
      "[ Valid | 037/300 ] loss = 0.89423, acc = 0.69900 -> best\n",
      "Best model found at fold 2 epoch 37, acc=0.69900, saving model\n"
     ]
    },
    {
     "name": "stderr",
     "output_type": "stream",
     "text": [
      "T: 038/300: 100%|█| 78/78 [00:08<00:00,  9.07it/s, lr=2.18e-5, b_loss=0.917, b_a\n"
     ]
    },
    {
     "name": "stdout",
     "output_type": "stream",
     "text": [
      "[ Train | 038/300 ] loss = 0.86395, acc = 0.70096\n"
     ]
    },
    {
     "name": "stderr",
     "output_type": "stream",
     "text": [
      "V: 038/300: 100%|████| 26/26 [00:02<00:00, 11.90it/s, v_loss=0.883, v_acc=0.703]\n"
     ]
    },
    {
     "name": "stdout",
     "output_type": "stream",
     "text": [
      "[ Valid | 038/300 ] loss = 0.88327, acc = 0.70342\n",
      "[ Valid | 038/300 ] loss = 0.88327, acc = 0.70342 -> best\n",
      "Best model found at fold 2 epoch 38, acc=0.70342, saving model\n"
     ]
    },
    {
     "name": "stderr",
     "output_type": "stream",
     "text": [
      "T: 039/300: 100%|█| 78/78 [00:08<00:00,  9.05it/s, lr=9.79e-6, b_loss=0.932, b_a\n"
     ]
    },
    {
     "name": "stdout",
     "output_type": "stream",
     "text": [
      "[ Train | 039/300 ] loss = 0.85023, acc = 0.71119\n"
     ]
    },
    {
     "name": "stderr",
     "output_type": "stream",
     "text": [
      "V: 039/300: 100%|████| 26/26 [00:02<00:00, 11.20it/s, v_loss=0.876, v_acc=0.704]\n"
     ]
    },
    {
     "name": "stdout",
     "output_type": "stream",
     "text": [
      "[ Valid | 039/300 ] loss = 0.87606, acc = 0.70404\n",
      "[ Valid | 039/300 ] loss = 0.87606, acc = 0.70404 -> best\n",
      "Best model found at fold 2 epoch 39, acc=0.70404, saving model\n"
     ]
    },
    {
     "name": "stderr",
     "output_type": "stream",
     "text": [
      "T: 040/300: 100%|█| 78/78 [00:08<00:00,  8.92it/s, lr=2.46e-6, b_loss=0.763, b_a\n"
     ]
    },
    {
     "name": "stdout",
     "output_type": "stream",
     "text": [
      "[ Train | 040/300 ] loss = 0.83250, acc = 0.70820\n"
     ]
    },
    {
     "name": "stderr",
     "output_type": "stream",
     "text": [
      "V: 040/300: 100%|████| 26/26 [00:02<00:00, 12.02it/s, v_loss=0.878, v_acc=0.706]\n"
     ]
    },
    {
     "name": "stdout",
     "output_type": "stream",
     "text": [
      "[ Valid | 040/300 ] loss = 0.87847, acc = 0.70611\n",
      "[ Valid | 040/300 ] loss = 0.87847, acc = 0.70611 -> best\n",
      "Best model found at fold 2 epoch 40, acc=0.70611, saving model\n"
     ]
    },
    {
     "name": "stderr",
     "output_type": "stream",
     "text": [
      "T: 041/300: 100%|█| 78/78 [00:08<00:00,  8.87it/s, lr=0.0004, b_loss=1.1, b_acc=\n"
     ]
    },
    {
     "name": "stdout",
     "output_type": "stream",
     "text": [
      "[ Train | 041/300 ] loss = 1.09382, acc = 0.62308\n"
     ]
    },
    {
     "name": "stderr",
     "output_type": "stream",
     "text": [
      "V: 041/300: 100%|█████| 26/26 [00:02<00:00, 11.52it/s, v_loss=1.42, v_acc=0.531]\n"
     ]
    },
    {
     "name": "stdout",
     "output_type": "stream",
     "text": [
      "[ Valid | 041/300 ] loss = 1.42345, acc = 0.53068\n",
      "[ Valid | 041/300 ] loss = 1.42345, acc = 0.53068\n"
     ]
    },
    {
     "name": "stderr",
     "output_type": "stream",
     "text": [
      "T: 042/300: 100%|█| 78/78 [00:08<00:00,  8.84it/s, lr=0.000398, b_loss=0.876, b_\n"
     ]
    },
    {
     "name": "stdout",
     "output_type": "stream",
     "text": [
      "[ Train | 042/300 ] loss = 1.10042, acc = 0.61775\n"
     ]
    },
    {
     "name": "stderr",
     "output_type": "stream",
     "text": [
      "V: 042/300: 100%|█████| 26/26 [00:02<00:00, 11.13it/s, v_loss=1.43, v_acc=0.545]\n"
     ]
    },
    {
     "name": "stdout",
     "output_type": "stream",
     "text": [
      "[ Valid | 042/300 ] loss = 1.42878, acc = 0.54536\n",
      "[ Valid | 042/300 ] loss = 1.42878, acc = 0.54536\n"
     ]
    },
    {
     "name": "stderr",
     "output_type": "stream",
     "text": [
      "T: 043/300: 100%|█| 78/78 [00:08<00:00,  8.91it/s, lr=0.00039, b_loss=1.01, b_ac\n"
     ]
    },
    {
     "name": "stdout",
     "output_type": "stream",
     "text": [
      "[ Train | 043/300 ] loss = 1.08007, acc = 0.62882\n"
     ]
    },
    {
     "name": "stderr",
     "output_type": "stream",
     "text": [
      "V: 043/300: 100%|███████| 26/26 [00:02<00:00, 11.27it/s, v_loss=1.55, v_acc=0.5]\n"
     ]
    },
    {
     "name": "stdout",
     "output_type": "stream",
     "text": [
      "[ Valid | 043/300 ] loss = 1.54888, acc = 0.49966\n",
      "[ Valid | 043/300 ] loss = 1.54888, acc = 0.49966\n"
     ]
    },
    {
     "name": "stderr",
     "output_type": "stream",
     "text": [
      "T: 044/300: 100%|█| 78/78 [00:08<00:00,  8.97it/s, lr=0.000378, b_loss=1.21, b_a\n"
     ]
    },
    {
     "name": "stdout",
     "output_type": "stream",
     "text": [
      "[ Train | 044/300 ] loss = 1.03339, acc = 0.64795\n"
     ]
    },
    {
     "name": "stderr",
     "output_type": "stream",
     "text": [
      "V: 044/300: 100%|██████| 26/26 [00:02<00:00, 12.76it/s, v_loss=1.16, v_acc=0.62]\n"
     ]
    },
    {
     "name": "stdout",
     "output_type": "stream",
     "text": [
      "[ Valid | 044/300 ] loss = 1.15634, acc = 0.61982\n",
      "[ Valid | 044/300 ] loss = 1.15634, acc = 0.61982\n"
     ]
    },
    {
     "name": "stderr",
     "output_type": "stream",
     "text": [
      "T: 045/300: 100%|█| 78/78 [00:08<00:00,  8.89it/s, lr=0.000362, b_loss=0.943, b_\n"
     ]
    },
    {
     "name": "stdout",
     "output_type": "stream",
     "text": [
      "[ Train | 045/300 ] loss = 1.00854, acc = 0.65127\n"
     ]
    },
    {
     "name": "stderr",
     "output_type": "stream",
     "text": [
      "V: 045/300: 100%|█████| 26/26 [00:02<00:00, 11.82it/s, v_loss=1.08, v_acc=0.635]\n"
     ]
    },
    {
     "name": "stdout",
     "output_type": "stream",
     "text": [
      "[ Valid | 045/300 ] loss = 1.08353, acc = 0.63510\n",
      "[ Valid | 045/300 ] loss = 1.08353, acc = 0.63510\n"
     ]
    },
    {
     "name": "stderr",
     "output_type": "stream",
     "text": [
      "T: 046/300: 100%|█| 78/78 [00:08<00:00,  9.11it/s, lr=0.000341, b_loss=1.03, b_a\n"
     ]
    },
    {
     "name": "stdout",
     "output_type": "stream",
     "text": [
      "[ Train | 046/300 ] loss = 0.98945, acc = 0.65879\n"
     ]
    },
    {
     "name": "stderr",
     "output_type": "stream",
     "text": [
      "V: 046/300: 100%|█████| 26/26 [00:02<00:00, 12.61it/s, v_loss=1.06, v_acc=0.643]\n"
     ]
    },
    {
     "name": "stdout",
     "output_type": "stream",
     "text": [
      "[ Valid | 046/300 ] loss = 1.06099, acc = 0.64252\n",
      "[ Valid | 046/300 ] loss = 1.06099, acc = 0.64252\n"
     ]
    },
    {
     "name": "stderr",
     "output_type": "stream",
     "text": [
      "T: 047/300: 100%|█| 78/78 [00:08<00:00,  9.20it/s, lr=0.000318, b_loss=0.937, b_\n"
     ]
    },
    {
     "name": "stdout",
     "output_type": "stream",
     "text": [
      "[ Train | 047/300 ] loss = 0.96969, acc = 0.66446\n"
     ]
    },
    {
     "name": "stderr",
     "output_type": "stream",
     "text": [
      "V: 047/300: 100%|█████| 26/26 [00:02<00:00, 11.62it/s, v_loss=1.11, v_acc=0.632]\n"
     ]
    },
    {
     "name": "stdout",
     "output_type": "stream",
     "text": [
      "[ Valid | 047/300 ] loss = 1.10531, acc = 0.63241\n",
      "[ Valid | 047/300 ] loss = 1.10531, acc = 0.63241\n"
     ]
    },
    {
     "name": "stderr",
     "output_type": "stream",
     "text": [
      "T: 048/300: 100%|█| 78/78 [00:08<00:00,  8.76it/s, lr=0.000291, b_loss=0.973, b_\n"
     ]
    },
    {
     "name": "stdout",
     "output_type": "stream",
     "text": [
      "[ Train | 048/300 ] loss = 0.94437, acc = 0.67234\n"
     ]
    },
    {
     "name": "stderr",
     "output_type": "stream",
     "text": [
      "V: 048/300: 100%|████████| 26/26 [00:02<00:00, 11.61it/s, v_loss=1, v_acc=0.667]\n"
     ]
    },
    {
     "name": "stdout",
     "output_type": "stream",
     "text": [
      "[ Valid | 048/300 ] loss = 1.00319, acc = 0.66668\n",
      "[ Valid | 048/300 ] loss = 1.00319, acc = 0.66668\n"
     ]
    },
    {
     "name": "stderr",
     "output_type": "stream",
     "text": [
      "T: 049/300: 100%|█| 78/78 [00:08<00:00,  8.97it/s, lr=0.000262, b_loss=0.982, b_\n"
     ]
    },
    {
     "name": "stdout",
     "output_type": "stream",
     "text": [
      "[ Train | 049/300 ] loss = 0.91134, acc = 0.68519\n"
     ]
    },
    {
     "name": "stderr",
     "output_type": "stream",
     "text": [
      "V: 049/300: 100%|█████| 26/26 [00:02<00:00, 12.60it/s, v_loss=1.03, v_acc=0.664]\n"
     ]
    },
    {
     "name": "stdout",
     "output_type": "stream",
     "text": [
      "[ Valid | 049/300 ] loss = 1.02784, acc = 0.66429\n",
      "[ Valid | 049/300 ] loss = 1.02784, acc = 0.66429\n"
     ]
    },
    {
     "name": "stderr",
     "output_type": "stream",
     "text": [
      "T: 050/300: 100%|█| 78/78 [00:08<00:00,  9.11it/s, lr=0.000231, b_loss=0.883, b_\n"
     ]
    },
    {
     "name": "stdout",
     "output_type": "stream",
     "text": [
      "[ Train | 050/300 ] loss = 0.88128, acc = 0.69785\n"
     ]
    },
    {
     "name": "stderr",
     "output_type": "stream",
     "text": [
      "V: 050/300: 100%|█████| 26/26 [00:02<00:00, 11.90it/s, v_loss=0.948, v_acc=0.68]\n"
     ]
    },
    {
     "name": "stdout",
     "output_type": "stream",
     "text": [
      "[ Valid | 050/300 ] loss = 0.94835, acc = 0.68021\n",
      "[ Valid | 050/300 ] loss = 0.94835, acc = 0.68021\n"
     ]
    },
    {
     "name": "stderr",
     "output_type": "stream",
     "text": [
      "T: 051/300: 100%|█| 78/78 [00:08<00:00,  8.93it/s, lr=0.0002, b_loss=0.972, b_ac\n"
     ]
    },
    {
     "name": "stdout",
     "output_type": "stream",
     "text": [
      "[ Train | 051/300 ] loss = 0.86423, acc = 0.70481\n"
     ]
    },
    {
     "name": "stderr",
     "output_type": "stream",
     "text": [
      "V: 051/300: 100%|████| 26/26 [00:02<00:00, 12.07it/s, v_loss=0.882, v_acc=0.707]\n"
     ]
    },
    {
     "name": "stdout",
     "output_type": "stream",
     "text": [
      "[ Valid | 051/300 ] loss = 0.88222, acc = 0.70736\n",
      "[ Valid | 051/300 ] loss = 0.88222, acc = 0.70736 -> best\n",
      "Best model found at fold 2 epoch 51, acc=0.70736, saving model\n"
     ]
    },
    {
     "name": "stderr",
     "output_type": "stream",
     "text": [
      "T: 052/300: 100%|█| 78/78 [00:08<00:00,  9.12it/s, lr=0.000169, b_loss=0.987, b_\n"
     ]
    },
    {
     "name": "stdout",
     "output_type": "stream",
     "text": [
      "[ Train | 052/300 ] loss = 0.83611, acc = 0.71013\n"
     ]
    },
    {
     "name": "stderr",
     "output_type": "stream",
     "text": [
      "V: 052/300: 100%|████| 26/26 [00:02<00:00, 11.11it/s, v_loss=0.932, v_acc=0.693]\n"
     ]
    },
    {
     "name": "stdout",
     "output_type": "stream",
     "text": [
      "[ Valid | 052/300 ] loss = 0.93227, acc = 0.69252\n",
      "[ Valid | 052/300 ] loss = 0.93227, acc = 0.69252\n"
     ]
    },
    {
     "name": "stderr",
     "output_type": "stream",
     "text": [
      "T: 053/300: 100%|█| 78/78 [00:08<00:00,  8.95it/s, lr=0.000138, b_loss=0.796, b_\n"
     ]
    },
    {
     "name": "stdout",
     "output_type": "stream",
     "text": [
      "[ Train | 053/300 ] loss = 0.79615, acc = 0.72473\n"
     ]
    },
    {
     "name": "stderr",
     "output_type": "stream",
     "text": [
      "V: 053/300: 100%|████| 26/26 [00:02<00:00, 11.59it/s, v_loss=0.879, v_acc=0.709]\n"
     ]
    },
    {
     "name": "stdout",
     "output_type": "stream",
     "text": [
      "[ Valid | 053/300 ] loss = 0.87854, acc = 0.70879\n",
      "[ Valid | 053/300 ] loss = 0.87854, acc = 0.70879 -> best\n",
      "Best model found at fold 2 epoch 53, acc=0.70879, saving model\n"
     ]
    },
    {
     "name": "stderr",
     "output_type": "stream",
     "text": [
      "T: 054/300: 100%|█| 78/78 [00:08<00:00,  8.88it/s, lr=0.000109, b_loss=0.624, b_\n"
     ]
    },
    {
     "name": "stdout",
     "output_type": "stream",
     "text": [
      "[ Train | 054/300 ] loss = 0.76866, acc = 0.73803\n"
     ]
    },
    {
     "name": "stderr",
     "output_type": "stream",
     "text": [
      "V: 054/300: 100%|████| 26/26 [00:02<00:00, 12.84it/s, v_loss=0.955, v_acc=0.685]\n"
     ]
    },
    {
     "name": "stdout",
     "output_type": "stream",
     "text": [
      "[ Valid | 054/300 ] loss = 0.95540, acc = 0.68542\n",
      "[ Valid | 054/300 ] loss = 0.95540, acc = 0.68542\n"
     ]
    },
    {
     "name": "stderr",
     "output_type": "stream",
     "text": [
      "T: 055/300: 100%|█| 78/78 [00:08<00:00,  9.00it/s, lr=8.24e-5, b_loss=0.662, b_a\n"
     ]
    },
    {
     "name": "stdout",
     "output_type": "stream",
     "text": [
      "[ Train | 055/300 ] loss = 0.75452, acc = 0.73952\n"
     ]
    },
    {
     "name": "stderr",
     "output_type": "stream",
     "text": [
      "V: 055/300: 100%|█████| 26/26 [00:02<00:00, 12.40it/s, v_loss=0.873, v_acc=0.72]\n"
     ]
    },
    {
     "name": "stdout",
     "output_type": "stream",
     "text": [
      "[ Valid | 055/300 ] loss = 0.87346, acc = 0.71986\n",
      "[ Valid | 055/300 ] loss = 0.87346, acc = 0.71986 -> best\n",
      "Best model found at fold 2 epoch 55, acc=0.71986, saving model\n"
     ]
    },
    {
     "name": "stderr",
     "output_type": "stream",
     "text": [
      "T: 056/300: 100%|█| 78/78 [00:08<00:00,  8.98it/s, lr=5.86e-5, b_loss=0.714, b_a\n"
     ]
    },
    {
     "name": "stdout",
     "output_type": "stream",
     "text": [
      "[ Train | 056/300 ] loss = 0.73906, acc = 0.74302\n"
     ]
    },
    {
     "name": "stderr",
     "output_type": "stream",
     "text": [
      "V: 056/300: 100%|████| 26/26 [00:02<00:00, 12.59it/s, v_loss=0.806, v_acc=0.741]\n"
     ]
    },
    {
     "name": "stdout",
     "output_type": "stream",
     "text": [
      "[ Valid | 056/300 ] loss = 0.80571, acc = 0.74074\n",
      "[ Valid | 056/300 ] loss = 0.80571, acc = 0.74074 -> best\n",
      "Best model found at fold 2 epoch 56, acc=0.74074, saving model\n"
     ]
    },
    {
     "name": "stderr",
     "output_type": "stream",
     "text": [
      "T: 057/300: 100%|█| 78/78 [00:08<00:00,  8.72it/s, lr=3.82e-5, b_loss=0.674, b_a\n"
     ]
    },
    {
     "name": "stdout",
     "output_type": "stream",
     "text": [
      "[ Train | 057/300 ] loss = 0.72256, acc = 0.74988\n"
     ]
    },
    {
     "name": "stderr",
     "output_type": "stream",
     "text": [
      "V: 057/300: 100%|████| 26/26 [00:02<00:00, 12.22it/s, v_loss=0.798, v_acc=0.743]\n"
     ]
    },
    {
     "name": "stdout",
     "output_type": "stream",
     "text": [
      "[ Valid | 057/300 ] loss = 0.79781, acc = 0.74274\n",
      "[ Valid | 057/300 ] loss = 0.79781, acc = 0.74274 -> best\n",
      "Best model found at fold 2 epoch 57, acc=0.74274, saving model\n"
     ]
    },
    {
     "name": "stderr",
     "output_type": "stream",
     "text": [
      "T: 058/300: 100%|█| 78/78 [00:08<00:00,  9.13it/s, lr=2.18e-5, b_loss=0.705, b_a\n"
     ]
    },
    {
     "name": "stdout",
     "output_type": "stream",
     "text": [
      "[ Train | 058/300 ] loss = 0.69469, acc = 0.76184\n"
     ]
    },
    {
     "name": "stderr",
     "output_type": "stream",
     "text": [
      "V: 058/300: 100%|████| 26/26 [00:02<00:00, 12.46it/s, v_loss=0.793, v_acc=0.742]\n"
     ]
    },
    {
     "name": "stdout",
     "output_type": "stream",
     "text": [
      "[ Valid | 058/300 ] loss = 0.79337, acc = 0.74186\n",
      "[ Valid | 058/300 ] loss = 0.79337, acc = 0.74186\n"
     ]
    },
    {
     "name": "stderr",
     "output_type": "stream",
     "text": [
      "T: 059/300: 100%|█| 78/78 [00:08<00:00,  9.05it/s, lr=9.79e-6, b_loss=0.783, b_a\n"
     ]
    },
    {
     "name": "stdout",
     "output_type": "stream",
     "text": [
      "[ Train | 059/300 ] loss = 0.67880, acc = 0.76564\n"
     ]
    },
    {
     "name": "stderr",
     "output_type": "stream",
     "text": [
      "V: 059/300: 100%|████| 26/26 [00:02<00:00, 11.57it/s, v_loss=0.781, v_acc=0.745]\n"
     ]
    },
    {
     "name": "stdout",
     "output_type": "stream",
     "text": [
      "[ Valid | 059/300 ] loss = 0.78058, acc = 0.74466\n",
      "[ Valid | 059/300 ] loss = 0.78058, acc = 0.74466 -> best\n",
      "Best model found at fold 2 epoch 59, acc=0.74466, saving model\n"
     ]
    },
    {
     "name": "stderr",
     "output_type": "stream",
     "text": [
      "T: 060/300: 100%|█| 78/78 [00:08<00:00,  8.92it/s, lr=2.46e-6, b_loss=0.647, b_a\n"
     ]
    },
    {
     "name": "stdout",
     "output_type": "stream",
     "text": [
      "[ Train | 060/300 ] loss = 0.67629, acc = 0.76744\n"
     ]
    },
    {
     "name": "stderr",
     "output_type": "stream",
     "text": [
      "V: 060/300: 100%|████| 26/26 [00:02<00:00, 12.34it/s, v_loss=0.784, v_acc=0.744]\n"
     ]
    },
    {
     "name": "stdout",
     "output_type": "stream",
     "text": [
      "[ Valid | 060/300 ] loss = 0.78389, acc = 0.74449\n",
      "[ Valid | 060/300 ] loss = 0.78389, acc = 0.74449\n"
     ]
    },
    {
     "name": "stderr",
     "output_type": "stream",
     "text": [
      "T: 061/300: 100%|█| 78/78 [00:08<00:00,  9.13it/s, lr=0.0004, b_loss=0.836, b_ac\n"
     ]
    },
    {
     "name": "stdout",
     "output_type": "stream",
     "text": [
      "[ Train | 061/300 ] loss = 0.92529, acc = 0.68891\n"
     ]
    },
    {
     "name": "stderr",
     "output_type": "stream",
     "text": [
      "V: 061/300: 100%|█████| 26/26 [00:02<00:00, 11.44it/s, v_loss=1.22, v_acc=0.608]\n"
     ]
    },
    {
     "name": "stdout",
     "output_type": "stream",
     "text": [
      "[ Valid | 061/300 ] loss = 1.21902, acc = 0.60772\n",
      "[ Valid | 061/300 ] loss = 1.21902, acc = 0.60772\n"
     ]
    },
    {
     "name": "stderr",
     "output_type": "stream",
     "text": [
      "T: 062/300: 100%|█| 78/78 [00:08<00:00,  8.92it/s, lr=0.000398, b_loss=0.857, b_\n"
     ]
    },
    {
     "name": "stdout",
     "output_type": "stream",
     "text": [
      "[ Train | 062/300 ] loss = 0.93289, acc = 0.67404\n"
     ]
    },
    {
     "name": "stderr",
     "output_type": "stream",
     "text": [
      "V: 062/300: 100%|██████| 26/26 [00:02<00:00, 11.30it/s, v_loss=1.1, v_acc=0.639]\n"
     ]
    },
    {
     "name": "stdout",
     "output_type": "stream",
     "text": [
      "[ Valid | 062/300 ] loss = 1.10091, acc = 0.63893\n",
      "[ Valid | 062/300 ] loss = 1.10091, acc = 0.63893\n"
     ]
    },
    {
     "name": "stderr",
     "output_type": "stream",
     "text": [
      "T: 063/300: 100%|█| 78/78 [00:08<00:00,  8.97it/s, lr=0.00039, b_loss=0.927, b_a\n"
     ]
    },
    {
     "name": "stdout",
     "output_type": "stream",
     "text": [
      "[ Train | 063/300 ] loss = 0.92004, acc = 0.68630\n"
     ]
    },
    {
     "name": "stderr",
     "output_type": "stream",
     "text": [
      "V: 063/300: 100%|██████| 26/26 [00:02<00:00, 11.38it/s, v_loss=1.05, v_acc=0.65]\n"
     ]
    },
    {
     "name": "stdout",
     "output_type": "stream",
     "text": [
      "[ Valid | 063/300 ] loss = 1.05251, acc = 0.65041\n",
      "[ Valid | 063/300 ] loss = 1.05251, acc = 0.65041\n"
     ]
    },
    {
     "name": "stderr",
     "output_type": "stream",
     "text": [
      "T: 064/300: 100%|█| 78/78 [00:08<00:00,  9.08it/s, lr=0.000378, b_loss=0.981, b_\n"
     ]
    },
    {
     "name": "stdout",
     "output_type": "stream",
     "text": [
      "[ Train | 064/300 ] loss = 0.89130, acc = 0.68567\n"
     ]
    },
    {
     "name": "stderr",
     "output_type": "stream",
     "text": [
      "V: 064/300: 100%|█████| 26/26 [00:02<00:00, 12.69it/s, v_loss=1.05, v_acc=0.662]\n"
     ]
    },
    {
     "name": "stdout",
     "output_type": "stream",
     "text": [
      "[ Valid | 064/300 ] loss = 1.04824, acc = 0.66206\n",
      "[ Valid | 064/300 ] loss = 1.04824, acc = 0.66206\n"
     ]
    },
    {
     "name": "stderr",
     "output_type": "stream",
     "text": [
      "T: 065/300: 100%|█| 78/78 [00:08<00:00,  8.76it/s, lr=0.000362, b_loss=0.903, b_\n"
     ]
    },
    {
     "name": "stdout",
     "output_type": "stream",
     "text": [
      "[ Train | 065/300 ] loss = 0.86704, acc = 0.70071\n"
     ]
    },
    {
     "name": "stderr",
     "output_type": "stream",
     "text": [
      "V: 065/300: 100%|████| 26/26 [00:02<00:00, 12.41it/s, v_loss=0.941, v_acc=0.688]\n"
     ]
    },
    {
     "name": "stdout",
     "output_type": "stream",
     "text": [
      "[ Valid | 065/300 ] loss = 0.94146, acc = 0.68768\n",
      "[ Valid | 065/300 ] loss = 0.94146, acc = 0.68768\n"
     ]
    },
    {
     "name": "stderr",
     "output_type": "stream",
     "text": [
      "T: 066/300: 100%|█| 78/78 [00:08<00:00,  8.85it/s, lr=0.000341, b_loss=0.749, b_\n"
     ]
    },
    {
     "name": "stdout",
     "output_type": "stream",
     "text": [
      "[ Train | 066/300 ] loss = 0.83597, acc = 0.71124\n"
     ]
    },
    {
     "name": "stderr",
     "output_type": "stream",
     "text": [
      "V: 066/300: 100%|█████| 26/26 [00:02<00:00, 11.84it/s, v_loss=1.11, v_acc=0.643]\n"
     ]
    },
    {
     "name": "stdout",
     "output_type": "stream",
     "text": [
      "[ Valid | 066/300 ] loss = 1.11380, acc = 0.64284\n",
      "[ Valid | 066/300 ] loss = 1.11380, acc = 0.64284\n"
     ]
    },
    {
     "name": "stderr",
     "output_type": "stream",
     "text": [
      "T: 067/300: 100%|█| 78/78 [00:08<00:00,  9.12it/s, lr=0.000318, b_loss=0.677, b_\n"
     ]
    },
    {
     "name": "stdout",
     "output_type": "stream",
     "text": [
      "[ Train | 067/300 ] loss = 0.82957, acc = 0.71232\n"
     ]
    },
    {
     "name": "stderr",
     "output_type": "stream",
     "text": [
      "V: 067/300: 100%|██████| 26/26 [00:02<00:00, 12.94it/s, v_loss=1.1, v_acc=0.645]\n"
     ]
    },
    {
     "name": "stdout",
     "output_type": "stream",
     "text": [
      "[ Valid | 067/300 ] loss = 1.10326, acc = 0.64505\n",
      "[ Valid | 067/300 ] loss = 1.10326, acc = 0.64505\n"
     ]
    },
    {
     "name": "stderr",
     "output_type": "stream",
     "text": [
      "T: 068/300: 100%|█| 78/78 [00:08<00:00,  9.00it/s, lr=0.000291, b_loss=0.76, b_a\n"
     ]
    },
    {
     "name": "stdout",
     "output_type": "stream",
     "text": [
      "[ Train | 068/300 ] loss = 0.80052, acc = 0.72603\n"
     ]
    },
    {
     "name": "stderr",
     "output_type": "stream",
     "text": [
      "V: 068/300: 100%|█████| 26/26 [00:02<00:00, 12.15it/s, v_loss=1.01, v_acc=0.669]\n"
     ]
    },
    {
     "name": "stdout",
     "output_type": "stream",
     "text": [
      "[ Valid | 068/300 ] loss = 1.01404, acc = 0.66935\n",
      "[ Valid | 068/300 ] loss = 1.01404, acc = 0.66935\n"
     ]
    },
    {
     "name": "stderr",
     "output_type": "stream",
     "text": [
      "T: 069/300: 100%|█| 78/78 [00:08<00:00,  9.05it/s, lr=0.000262, b_loss=0.845, b_\n"
     ]
    },
    {
     "name": "stdout",
     "output_type": "stream",
     "text": [
      "[ Train | 069/300 ] loss = 0.78822, acc = 0.72655\n"
     ]
    },
    {
     "name": "stderr",
     "output_type": "stream",
     "text": [
      "V: 069/300: 100%|████| 26/26 [00:02<00:00, 12.64it/s, v_loss=0.926, v_acc=0.697]\n"
     ]
    },
    {
     "name": "stdout",
     "output_type": "stream",
     "text": [
      "[ Valid | 069/300 ] loss = 0.92626, acc = 0.69673\n",
      "[ Valid | 069/300 ] loss = 0.92626, acc = 0.69673\n"
     ]
    },
    {
     "name": "stderr",
     "output_type": "stream",
     "text": [
      "T: 070/300: 100%|█| 78/78 [00:08<00:00,  9.00it/s, lr=0.000231, b_loss=0.765, b_\n"
     ]
    },
    {
     "name": "stdout",
     "output_type": "stream",
     "text": [
      "[ Train | 070/300 ] loss = 0.76402, acc = 0.73825\n"
     ]
    },
    {
     "name": "stderr",
     "output_type": "stream",
     "text": [
      "V: 070/300: 100%|████| 26/26 [00:02<00:00, 12.98it/s, v_loss=0.937, v_acc=0.694]\n"
     ]
    },
    {
     "name": "stdout",
     "output_type": "stream",
     "text": [
      "[ Valid | 070/300 ] loss = 0.93749, acc = 0.69400\n",
      "[ Valid | 070/300 ] loss = 0.93749, acc = 0.69400\n"
     ]
    },
    {
     "name": "stderr",
     "output_type": "stream",
     "text": [
      "T: 071/300: 100%|█| 78/78 [00:08<00:00,  9.00it/s, lr=0.0002, b_loss=0.73, b_acc\n"
     ]
    },
    {
     "name": "stdout",
     "output_type": "stream",
     "text": [
      "[ Train | 071/300 ] loss = 0.72086, acc = 0.74780\n"
     ]
    },
    {
     "name": "stderr",
     "output_type": "stream",
     "text": [
      "V: 071/300: 100%|████| 26/26 [00:02<00:00, 11.75it/s, v_loss=0.941, v_acc=0.691]\n"
     ]
    },
    {
     "name": "stdout",
     "output_type": "stream",
     "text": [
      "[ Valid | 071/300 ] loss = 0.94142, acc = 0.69103\n",
      "[ Valid | 071/300 ] loss = 0.94142, acc = 0.69103\n"
     ]
    },
    {
     "name": "stderr",
     "output_type": "stream",
     "text": [
      "T: 072/300: 100%|█| 78/78 [00:08<00:00,  9.04it/s, lr=0.000169, b_loss=0.628, b_\n"
     ]
    },
    {
     "name": "stdout",
     "output_type": "stream",
     "text": [
      "[ Train | 072/300 ] loss = 0.68433, acc = 0.76276\n"
     ]
    },
    {
     "name": "stderr",
     "output_type": "stream",
     "text": [
      "V: 072/300: 100%|█████| 26/26 [00:02<00:00, 11.92it/s, v_loss=1.06, v_acc=0.652]\n"
     ]
    },
    {
     "name": "stdout",
     "output_type": "stream",
     "text": [
      "[ Valid | 072/300 ] loss = 1.06043, acc = 0.65250\n",
      "[ Valid | 072/300 ] loss = 1.06043, acc = 0.65250\n"
     ]
    },
    {
     "name": "stderr",
     "output_type": "stream",
     "text": [
      "T: 073/300: 100%|█| 78/78 [00:08<00:00,  8.96it/s, lr=0.000138, b_loss=0.752, b_\n"
     ]
    },
    {
     "name": "stdout",
     "output_type": "stream",
     "text": [
      "[ Train | 073/300 ] loss = 0.68939, acc = 0.75741\n"
     ]
    },
    {
     "name": "stderr",
     "output_type": "stream",
     "text": [
      "V: 073/300: 100%|████| 26/26 [00:02<00:00, 11.07it/s, v_loss=0.815, v_acc=0.736]\n"
     ]
    },
    {
     "name": "stdout",
     "output_type": "stream",
     "text": [
      "[ Valid | 073/300 ] loss = 0.81470, acc = 0.73644\n",
      "[ Valid | 073/300 ] loss = 0.81470, acc = 0.73644\n"
     ]
    },
    {
     "name": "stderr",
     "output_type": "stream",
     "text": [
      "T: 074/300: 100%|█| 78/78 [00:08<00:00,  9.17it/s, lr=0.000109, b_loss=0.567, b_\n"
     ]
    },
    {
     "name": "stdout",
     "output_type": "stream",
     "text": [
      "[ Train | 074/300 ] loss = 0.64640, acc = 0.77610\n"
     ]
    },
    {
     "name": "stderr",
     "output_type": "stream",
     "text": [
      "V: 074/300: 100%|████| 26/26 [00:02<00:00, 12.38it/s, v_loss=0.806, v_acc=0.737]\n"
     ]
    },
    {
     "name": "stdout",
     "output_type": "stream",
     "text": [
      "[ Valid | 074/300 ] loss = 0.80561, acc = 0.73699\n",
      "[ Valid | 074/300 ] loss = 0.80561, acc = 0.73699\n"
     ]
    },
    {
     "name": "stderr",
     "output_type": "stream",
     "text": [
      "T: 075/300: 100%|█| 78/78 [00:08<00:00,  8.93it/s, lr=8.24e-5, b_loss=0.642, b_a\n"
     ]
    },
    {
     "name": "stdout",
     "output_type": "stream",
     "text": [
      "[ Train | 075/300 ] loss = 0.63232, acc = 0.78374\n"
     ]
    },
    {
     "name": "stderr",
     "output_type": "stream",
     "text": [
      "V: 075/300: 100%|████| 26/26 [00:02<00:00, 11.55it/s, v_loss=0.764, v_acc=0.754]\n"
     ]
    },
    {
     "name": "stdout",
     "output_type": "stream",
     "text": [
      "[ Valid | 075/300 ] loss = 0.76416, acc = 0.75365\n",
      "[ Valid | 075/300 ] loss = 0.76416, acc = 0.75365 -> best\n",
      "Best model found at fold 2 epoch 75, acc=0.75365, saving model\n"
     ]
    },
    {
     "name": "stderr",
     "output_type": "stream",
     "text": [
      "T: 076/300: 100%|█| 78/78 [00:08<00:00,  8.95it/s, lr=5.86e-5, b_loss=0.603, b_a\n"
     ]
    },
    {
     "name": "stdout",
     "output_type": "stream",
     "text": [
      "[ Train | 076/300 ] loss = 0.60150, acc = 0.79167\n"
     ]
    },
    {
     "name": "stderr",
     "output_type": "stream",
     "text": [
      "V: 076/300: 100%|████| 26/26 [00:02<00:00, 12.44it/s, v_loss=0.771, v_acc=0.755]\n"
     ]
    },
    {
     "name": "stdout",
     "output_type": "stream",
     "text": [
      "[ Valid | 076/300 ] loss = 0.77092, acc = 0.75537\n",
      "[ Valid | 076/300 ] loss = 0.77092, acc = 0.75537 -> best\n",
      "Best model found at fold 2 epoch 76, acc=0.75537, saving model\n"
     ]
    },
    {
     "name": "stderr",
     "output_type": "stream",
     "text": [
      "T: 077/300: 100%|█| 78/78 [00:08<00:00,  8.98it/s, lr=3.82e-5, b_loss=0.709, b_a\n"
     ]
    },
    {
     "name": "stdout",
     "output_type": "stream",
     "text": [
      "[ Train | 077/300 ] loss = 0.58554, acc = 0.79795\n"
     ]
    },
    {
     "name": "stderr",
     "output_type": "stream",
     "text": [
      "V: 077/300: 100%|█████| 26/26 [00:02<00:00, 12.64it/s, v_loss=0.76, v_acc=0.749]\n"
     ]
    },
    {
     "name": "stdout",
     "output_type": "stream",
     "text": [
      "[ Valid | 077/300 ] loss = 0.76000, acc = 0.74910\n",
      "[ Valid | 077/300 ] loss = 0.76000, acc = 0.74910\n"
     ]
    },
    {
     "name": "stderr",
     "output_type": "stream",
     "text": [
      "T: 078/300: 100%|█| 78/78 [00:08<00:00,  9.07it/s, lr=2.18e-5, b_loss=0.589, b_a\n"
     ]
    },
    {
     "name": "stdout",
     "output_type": "stream",
     "text": [
      "[ Train | 078/300 ] loss = 0.57356, acc = 0.79867\n"
     ]
    },
    {
     "name": "stderr",
     "output_type": "stream",
     "text": [
      "V: 078/300: 100%|█████| 26/26 [00:02<00:00, 11.84it/s, v_loss=0.75, v_acc=0.759]\n"
     ]
    },
    {
     "name": "stdout",
     "output_type": "stream",
     "text": [
      "[ Valid | 078/300 ] loss = 0.74997, acc = 0.75939\n",
      "[ Valid | 078/300 ] loss = 0.74997, acc = 0.75939 -> best\n",
      "Best model found at fold 2 epoch 78, acc=0.75939, saving model\n"
     ]
    },
    {
     "name": "stderr",
     "output_type": "stream",
     "text": [
      "T: 079/300: 100%|█| 78/78 [00:08<00:00,  8.96it/s, lr=9.79e-6, b_loss=0.536, b_a\n"
     ]
    },
    {
     "name": "stdout",
     "output_type": "stream",
     "text": [
      "[ Train | 079/300 ] loss = 0.56089, acc = 0.80547\n"
     ]
    },
    {
     "name": "stderr",
     "output_type": "stream",
     "text": [
      "V: 079/300: 100%|█████| 26/26 [00:02<00:00, 11.60it/s, v_loss=0.745, v_acc=0.76]\n"
     ]
    },
    {
     "name": "stdout",
     "output_type": "stream",
     "text": [
      "[ Valid | 079/300 ] loss = 0.74531, acc = 0.75994\n",
      "[ Valid | 079/300 ] loss = 0.74531, acc = 0.75994 -> best\n",
      "Best model found at fold 2 epoch 79, acc=0.75994, saving model\n"
     ]
    },
    {
     "name": "stderr",
     "output_type": "stream",
     "text": [
      "T: 080/300: 100%|█| 78/78 [00:08<00:00,  8.80it/s, lr=2.46e-6, b_loss=0.53, b_ac\n"
     ]
    },
    {
     "name": "stdout",
     "output_type": "stream",
     "text": [
      "[ Train | 080/300 ] loss = 0.57182, acc = 0.80585\n"
     ]
    },
    {
     "name": "stderr",
     "output_type": "stream",
     "text": [
      "V: 080/300: 100%|█████| 26/26 [00:02<00:00, 12.03it/s, v_loss=0.74, v_acc=0.764]\n"
     ]
    },
    {
     "name": "stdout",
     "output_type": "stream",
     "text": [
      "[ Valid | 080/300 ] loss = 0.74041, acc = 0.76417\n",
      "[ Valid | 080/300 ] loss = 0.74041, acc = 0.76417 -> best\n",
      "Best model found at fold 2 epoch 80, acc=0.76417, saving model\n"
     ]
    },
    {
     "name": "stderr",
     "output_type": "stream",
     "text": [
      "T: 081/300: 100%|█| 78/78 [00:08<00:00,  8.81it/s, lr=0.0004, b_loss=0.893, b_ac\n"
     ]
    },
    {
     "name": "stdout",
     "output_type": "stream",
     "text": [
      "[ Train | 081/300 ] loss = 0.81726, acc = 0.71516\n"
     ]
    },
    {
     "name": "stderr",
     "output_type": "stream",
     "text": [
      "V: 081/300: 100%|██████| 26/26 [00:02<00:00, 12.93it/s, v_loss=1.2, v_acc=0.624]\n"
     ]
    },
    {
     "name": "stdout",
     "output_type": "stream",
     "text": [
      "[ Valid | 081/300 ] loss = 1.19702, acc = 0.62360\n",
      "[ Valid | 081/300 ] loss = 1.19702, acc = 0.62360\n"
     ]
    },
    {
     "name": "stderr",
     "output_type": "stream",
     "text": [
      "T: 082/300: 100%|█| 78/78 [00:08<00:00,  8.85it/s, lr=0.000398, b_loss=0.796, b_\n"
     ]
    },
    {
     "name": "stdout",
     "output_type": "stream",
     "text": [
      "[ Train | 082/300 ] loss = 0.79880, acc = 0.72144\n"
     ]
    },
    {
     "name": "stderr",
     "output_type": "stream",
     "text": [
      "V: 082/300: 100%|█████| 26/26 [00:02<00:00, 12.32it/s, v_loss=1.25, v_acc=0.621]\n"
     ]
    },
    {
     "name": "stdout",
     "output_type": "stream",
     "text": [
      "[ Valid | 082/300 ] loss = 1.25406, acc = 0.62119\n",
      "[ Valid | 082/300 ] loss = 1.25406, acc = 0.62119\n"
     ]
    },
    {
     "name": "stderr",
     "output_type": "stream",
     "text": [
      "T: 083/300: 100%|█| 78/78 [00:08<00:00,  8.88it/s, lr=0.00039, b_loss=0.911, b_a\n"
     ]
    },
    {
     "name": "stdout",
     "output_type": "stream",
     "text": [
      "[ Train | 083/300 ] loss = 0.80025, acc = 0.72150\n"
     ]
    },
    {
     "name": "stderr",
     "output_type": "stream",
     "text": [
      "V: 083/300: 100%|█████| 26/26 [00:02<00:00, 12.94it/s, v_loss=1.09, v_acc=0.658]\n"
     ]
    },
    {
     "name": "stdout",
     "output_type": "stream",
     "text": [
      "[ Valid | 083/300 ] loss = 1.08715, acc = 0.65798\n",
      "[ Valid | 083/300 ] loss = 1.08715, acc = 0.65798\n"
     ]
    },
    {
     "name": "stderr",
     "output_type": "stream",
     "text": [
      "T: 084/300: 100%|█| 78/78 [00:08<00:00,  8.99it/s, lr=0.000378, b_loss=0.747, b_\n"
     ]
    },
    {
     "name": "stdout",
     "output_type": "stream",
     "text": [
      "[ Train | 084/300 ] loss = 0.76803, acc = 0.73173\n"
     ]
    },
    {
     "name": "stderr",
     "output_type": "stream",
     "text": [
      "V: 084/300: 100%|████| 26/26 [00:02<00:00, 11.59it/s, v_loss=0.932, v_acc=0.696]\n"
     ]
    },
    {
     "name": "stdout",
     "output_type": "stream",
     "text": [
      "[ Valid | 084/300 ] loss = 0.93173, acc = 0.69584\n",
      "[ Valid | 084/300 ] loss = 0.93173, acc = 0.69584\n"
     ]
    },
    {
     "name": "stderr",
     "output_type": "stream",
     "text": [
      "T: 085/300: 100%|█| 78/78 [00:08<00:00,  8.92it/s, lr=0.000362, b_loss=0.757, b_\n"
     ]
    },
    {
     "name": "stdout",
     "output_type": "stream",
     "text": [
      "[ Train | 085/300 ] loss = 0.74350, acc = 0.74669\n"
     ]
    },
    {
     "name": "stderr",
     "output_type": "stream",
     "text": [
      "V: 085/300: 100%|████| 26/26 [00:02<00:00, 12.45it/s, v_loss=0.936, v_acc=0.701]\n"
     ]
    },
    {
     "name": "stdout",
     "output_type": "stream",
     "text": [
      "[ Valid | 085/300 ] loss = 0.93640, acc = 0.70100\n",
      "[ Valid | 085/300 ] loss = 0.93640, acc = 0.70100\n"
     ]
    },
    {
     "name": "stderr",
     "output_type": "stream",
     "text": [
      "T: 086/300: 100%|█| 78/78 [00:08<00:00,  8.87it/s, lr=0.000341, b_loss=0.71, b_a\n"
     ]
    },
    {
     "name": "stdout",
     "output_type": "stream",
     "text": [
      "[ Train | 086/300 ] loss = 0.74795, acc = 0.73977\n"
     ]
    },
    {
     "name": "stderr",
     "output_type": "stream",
     "text": [
      "V: 086/300: 100%|█████| 26/26 [00:02<00:00, 11.44it/s, v_loss=1.44, v_acc=0.556]\n"
     ]
    },
    {
     "name": "stdout",
     "output_type": "stream",
     "text": [
      "[ Valid | 086/300 ] loss = 1.44355, acc = 0.55595\n",
      "[ Valid | 086/300 ] loss = 1.44355, acc = 0.55595\n"
     ]
    },
    {
     "name": "stderr",
     "output_type": "stream",
     "text": [
      "T: 087/300: 100%|█| 78/78 [00:08<00:00,  8.97it/s, lr=0.000318, b_loss=0.591, b_\n"
     ]
    },
    {
     "name": "stdout",
     "output_type": "stream",
     "text": [
      "[ Train | 087/300 ] loss = 0.71825, acc = 0.75115\n"
     ]
    },
    {
     "name": "stderr",
     "output_type": "stream",
     "text": [
      "V: 087/300: 100%|████| 26/26 [00:02<00:00, 12.80it/s, v_loss=0.965, v_acc=0.689]\n"
     ]
    },
    {
     "name": "stdout",
     "output_type": "stream",
     "text": [
      "[ Valid | 087/300 ] loss = 0.96550, acc = 0.68950\n",
      "[ Valid | 087/300 ] loss = 0.96550, acc = 0.68950\n"
     ]
    },
    {
     "name": "stderr",
     "output_type": "stream",
     "text": [
      "T: 088/300: 100%|█| 78/78 [00:08<00:00,  8.84it/s, lr=0.000291, b_loss=0.848, b_\n"
     ]
    },
    {
     "name": "stdout",
     "output_type": "stream",
     "text": [
      "[ Train | 088/300 ] loss = 0.68832, acc = 0.76191\n"
     ]
    },
    {
     "name": "stderr",
     "output_type": "stream",
     "text": [
      "V: 088/300: 100%|█████| 26/26 [00:02<00:00, 11.71it/s, v_loss=0.972, v_acc=0.69]\n"
     ]
    },
    {
     "name": "stdout",
     "output_type": "stream",
     "text": [
      "[ Valid | 088/300 ] loss = 0.97185, acc = 0.68955\n",
      "[ Valid | 088/300 ] loss = 0.97185, acc = 0.68955\n"
     ]
    },
    {
     "name": "stderr",
     "output_type": "stream",
     "text": [
      "T: 089/300: 100%|█| 78/78 [00:08<00:00,  9.08it/s, lr=0.000262, b_loss=0.733, b_\n"
     ]
    },
    {
     "name": "stdout",
     "output_type": "stream",
     "text": [
      "[ Train | 089/300 ] loss = 0.67026, acc = 0.76363\n"
     ]
    },
    {
     "name": "stderr",
     "output_type": "stream",
     "text": [
      "V: 089/300: 100%|████| 26/26 [00:02<00:00, 12.10it/s, v_loss=0.899, v_acc=0.715]\n"
     ]
    },
    {
     "name": "stdout",
     "output_type": "stream",
     "text": [
      "[ Valid | 089/300 ] loss = 0.89950, acc = 0.71539\n",
      "[ Valid | 089/300 ] loss = 0.89950, acc = 0.71539\n"
     ]
    },
    {
     "name": "stderr",
     "output_type": "stream",
     "text": [
      "T: 090/300: 100%|█| 78/78 [00:08<00:00,  8.77it/s, lr=0.000231, b_loss=0.773, b_\n"
     ]
    },
    {
     "name": "stdout",
     "output_type": "stream",
     "text": [
      "[ Train | 090/300 ] loss = 0.64072, acc = 0.77870\n"
     ]
    },
    {
     "name": "stderr",
     "output_type": "stream",
     "text": [
      "V: 090/300: 100%|█████| 26/26 [00:02<00:00, 11.73it/s, v_loss=1.15, v_acc=0.659]\n"
     ]
    },
    {
     "name": "stdout",
     "output_type": "stream",
     "text": [
      "[ Valid | 090/300 ] loss = 1.14537, acc = 0.65922\n",
      "[ Valid | 090/300 ] loss = 1.14537, acc = 0.65922\n"
     ]
    },
    {
     "name": "stderr",
     "output_type": "stream",
     "text": [
      "T: 091/300: 100%|█| 78/78 [00:08<00:00,  9.06it/s, lr=0.0002, b_loss=0.43, b_acc\n"
     ]
    },
    {
     "name": "stdout",
     "output_type": "stream",
     "text": [
      "[ Train | 091/300 ] loss = 0.61375, acc = 0.78536\n"
     ]
    },
    {
     "name": "stderr",
     "output_type": "stream",
     "text": [
      "V: 091/300: 100%|████| 26/26 [00:02<00:00, 12.32it/s, v_loss=0.871, v_acc=0.725]\n"
     ]
    },
    {
     "name": "stdout",
     "output_type": "stream",
     "text": [
      "[ Valid | 091/300 ] loss = 0.87063, acc = 0.72532\n",
      "[ Valid | 091/300 ] loss = 0.87063, acc = 0.72532\n"
     ]
    },
    {
     "name": "stderr",
     "output_type": "stream",
     "text": [
      "T: 092/300: 100%|█| 78/78 [00:08<00:00,  9.13it/s, lr=0.000169, b_loss=0.728, b_\n"
     ]
    },
    {
     "name": "stdout",
     "output_type": "stream",
     "text": [
      "[ Train | 092/300 ] loss = 0.60781, acc = 0.78836\n"
     ]
    },
    {
     "name": "stderr",
     "output_type": "stream",
     "text": [
      "V: 092/300: 100%|████| 26/26 [00:02<00:00, 11.98it/s, v_loss=0.788, v_acc=0.742]\n"
     ]
    },
    {
     "name": "stdout",
     "output_type": "stream",
     "text": [
      "[ Valid | 092/300 ] loss = 0.78768, acc = 0.74247\n",
      "[ Valid | 092/300 ] loss = 0.78768, acc = 0.74247\n"
     ]
    },
    {
     "name": "stderr",
     "output_type": "stream",
     "text": [
      "T: 093/300: 100%|█| 78/78 [00:08<00:00,  8.93it/s, lr=0.000138, b_loss=0.565, b_\n"
     ]
    },
    {
     "name": "stdout",
     "output_type": "stream",
     "text": [
      "[ Train | 093/300 ] loss = 0.57377, acc = 0.80419\n"
     ]
    },
    {
     "name": "stderr",
     "output_type": "stream",
     "text": [
      "V: 093/300: 100%|████| 26/26 [00:02<00:00, 11.69it/s, v_loss=0.927, v_acc=0.712]\n"
     ]
    },
    {
     "name": "stdout",
     "output_type": "stream",
     "text": [
      "[ Valid | 093/300 ] loss = 0.92707, acc = 0.71231\n",
      "[ Valid | 093/300 ] loss = 0.92707, acc = 0.71231\n"
     ]
    },
    {
     "name": "stderr",
     "output_type": "stream",
     "text": [
      "T: 094/300: 100%|█| 78/78 [00:08<00:00,  8.95it/s, lr=0.000109, b_loss=0.758, b_\n"
     ]
    },
    {
     "name": "stdout",
     "output_type": "stream",
     "text": [
      "[ Train | 094/300 ] loss = 0.55489, acc = 0.80662\n"
     ]
    },
    {
     "name": "stderr",
     "output_type": "stream",
     "text": [
      "V: 094/300: 100%|████| 26/26 [00:02<00:00, 10.82it/s, v_loss=0.786, v_acc=0.744]\n"
     ]
    },
    {
     "name": "stdout",
     "output_type": "stream",
     "text": [
      "[ Valid | 094/300 ] loss = 0.78623, acc = 0.74389\n",
      "[ Valid | 094/300 ] loss = 0.78623, acc = 0.74389\n"
     ]
    },
    {
     "name": "stderr",
     "output_type": "stream",
     "text": [
      "T: 095/300: 100%|█| 78/78 [00:08<00:00,  8.98it/s, lr=8.24e-5, b_loss=0.492, b_a\n"
     ]
    },
    {
     "name": "stdout",
     "output_type": "stream",
     "text": [
      "[ Train | 095/300 ] loss = 0.53288, acc = 0.81630\n"
     ]
    },
    {
     "name": "stderr",
     "output_type": "stream",
     "text": [
      "V: 095/300: 100%|██████| 26/26 [00:02<00:00, 11.77it/s, v_loss=0.8, v_acc=0.748]\n"
     ]
    },
    {
     "name": "stdout",
     "output_type": "stream",
     "text": [
      "[ Valid | 095/300 ] loss = 0.79966, acc = 0.74843\n",
      "[ Valid | 095/300 ] loss = 0.79966, acc = 0.74843\n"
     ]
    },
    {
     "name": "stderr",
     "output_type": "stream",
     "text": [
      "T: 096/300: 100%|█| 78/78 [00:08<00:00,  8.98it/s, lr=5.86e-5, b_loss=0.434, b_a\n"
     ]
    },
    {
     "name": "stdout",
     "output_type": "stream",
     "text": [
      "[ Train | 096/300 ] loss = 0.50843, acc = 0.82113\n"
     ]
    },
    {
     "name": "stderr",
     "output_type": "stream",
     "text": [
      "V: 096/300: 100%|████| 26/26 [00:02<00:00, 11.66it/s, v_loss=0.726, v_acc=0.764]\n"
     ]
    },
    {
     "name": "stdout",
     "output_type": "stream",
     "text": [
      "[ Valid | 096/300 ] loss = 0.72563, acc = 0.76406\n",
      "[ Valid | 096/300 ] loss = 0.72563, acc = 0.76406\n"
     ]
    },
    {
     "name": "stderr",
     "output_type": "stream",
     "text": [
      "T: 097/300: 100%|█| 78/78 [00:08<00:00,  8.78it/s, lr=3.82e-5, b_loss=0.502, b_a\n"
     ]
    },
    {
     "name": "stdout",
     "output_type": "stream",
     "text": [
      "[ Train | 097/300 ] loss = 0.48930, acc = 0.83028\n"
     ]
    },
    {
     "name": "stderr",
     "output_type": "stream",
     "text": [
      "V: 097/300: 100%|████| 26/26 [00:02<00:00, 12.97it/s, v_loss=0.726, v_acc=0.769]\n"
     ]
    },
    {
     "name": "stdout",
     "output_type": "stream",
     "text": [
      "[ Valid | 097/300 ] loss = 0.72582, acc = 0.76861\n",
      "[ Valid | 097/300 ] loss = 0.72582, acc = 0.76861 -> best\n",
      "Best model found at fold 2 epoch 97, acc=0.76861, saving model\n"
     ]
    },
    {
     "name": "stderr",
     "output_type": "stream",
     "text": [
      "T: 098/300: 100%|█| 78/78 [00:08<00:00,  9.18it/s, lr=2.18e-5, b_loss=0.403, b_a\n"
     ]
    },
    {
     "name": "stdout",
     "output_type": "stream",
     "text": [
      "[ Train | 098/300 ] loss = 0.47862, acc = 0.83587\n"
     ]
    },
    {
     "name": "stderr",
     "output_type": "stream",
     "text": [
      "V: 098/300: 100%|████| 26/26 [00:02<00:00, 12.43it/s, v_loss=0.728, v_acc=0.765]\n"
     ]
    },
    {
     "name": "stdout",
     "output_type": "stream",
     "text": [
      "[ Valid | 098/300 ] loss = 0.72777, acc = 0.76502\n",
      "[ Valid | 098/300 ] loss = 0.72777, acc = 0.76502\n"
     ]
    },
    {
     "name": "stderr",
     "output_type": "stream",
     "text": [
      "T: 099/300: 100%|█| 78/78 [00:08<00:00,  8.88it/s, lr=9.79e-6, b_loss=0.695, b_a\n"
     ]
    },
    {
     "name": "stdout",
     "output_type": "stream",
     "text": [
      "[ Train | 099/300 ] loss = 0.48205, acc = 0.83641\n"
     ]
    },
    {
     "name": "stderr",
     "output_type": "stream",
     "text": [
      "V: 099/300: 100%|████| 26/26 [00:02<00:00, 12.60it/s, v_loss=0.725, v_acc=0.771]\n"
     ]
    },
    {
     "name": "stdout",
     "output_type": "stream",
     "text": [
      "[ Valid | 099/300 ] loss = 0.72491, acc = 0.77136\n",
      "[ Valid | 099/300 ] loss = 0.72491, acc = 0.77136 -> best\n",
      "Best model found at fold 2 epoch 99, acc=0.77136, saving model\n"
     ]
    },
    {
     "name": "stderr",
     "output_type": "stream",
     "text": [
      "T: 100/300: 100%|█| 78/78 [00:08<00:00,  9.19it/s, lr=2.46e-6, b_loss=0.457, b_a\n"
     ]
    },
    {
     "name": "stdout",
     "output_type": "stream",
     "text": [
      "[ Train | 100/300 ] loss = 0.46681, acc = 0.84007\n"
     ]
    },
    {
     "name": "stderr",
     "output_type": "stream",
     "text": [
      "V: 100/300: 100%|████| 26/26 [00:02<00:00, 12.94it/s, v_loss=0.723, v_acc=0.767]\n"
     ]
    },
    {
     "name": "stdout",
     "output_type": "stream",
     "text": [
      "[ Valid | 100/300 ] loss = 0.72334, acc = 0.76712\n",
      "[ Valid | 100/300 ] loss = 0.72334, acc = 0.76712\n"
     ]
    },
    {
     "name": "stderr",
     "output_type": "stream",
     "text": [
      "T: 101/300: 100%|█| 78/78 [00:08<00:00,  9.17it/s, lr=0.0004, b_loss=0.665, b_ac\n"
     ]
    },
    {
     "name": "stdout",
     "output_type": "stream",
     "text": [
      "[ Train | 101/300 ] loss = 0.69858, acc = 0.76225\n"
     ]
    },
    {
     "name": "stderr",
     "output_type": "stream",
     "text": [
      "V: 101/300: 100%|████| 26/26 [00:02<00:00, 11.43it/s, v_loss=0.987, v_acc=0.677]\n"
     ]
    },
    {
     "name": "stdout",
     "output_type": "stream",
     "text": [
      "[ Valid | 101/300 ] loss = 0.98662, acc = 0.67690\n",
      "[ Valid | 101/300 ] loss = 0.98662, acc = 0.67690\n"
     ]
    },
    {
     "name": "stderr",
     "output_type": "stream",
     "text": [
      "T: 102/300: 100%|█| 78/78 [00:08<00:00,  9.06it/s, lr=0.000398, b_loss=0.676, b_\n"
     ]
    },
    {
     "name": "stdout",
     "output_type": "stream",
     "text": [
      "[ Train | 102/300 ] loss = 0.71556, acc = 0.75202\n"
     ]
    },
    {
     "name": "stderr",
     "output_type": "stream",
     "text": [
      "V: 102/300: 100%|████| 26/26 [00:02<00:00, 11.59it/s, v_loss=0.954, v_acc=0.697]\n"
     ]
    },
    {
     "name": "stdout",
     "output_type": "stream",
     "text": [
      "[ Valid | 102/300 ] loss = 0.95430, acc = 0.69704\n",
      "[ Valid | 102/300 ] loss = 0.95430, acc = 0.69704\n"
     ]
    },
    {
     "name": "stderr",
     "output_type": "stream",
     "text": [
      "T: 103/300: 100%|█| 78/78 [00:08<00:00,  9.08it/s, lr=0.00039, b_loss=0.893, b_a\n"
     ]
    },
    {
     "name": "stdout",
     "output_type": "stream",
     "text": [
      "[ Train | 103/300 ] loss = 0.69951, acc = 0.75742\n"
     ]
    },
    {
     "name": "stderr",
     "output_type": "stream",
     "text": [
      "V: 103/300: 100%|████| 26/26 [00:02<00:00, 11.38it/s, v_loss=0.962, v_acc=0.698]\n"
     ]
    },
    {
     "name": "stdout",
     "output_type": "stream",
     "text": [
      "[ Valid | 103/300 ] loss = 0.96158, acc = 0.69773\n",
      "[ Valid | 103/300 ] loss = 0.96158, acc = 0.69773\n"
     ]
    },
    {
     "name": "stderr",
     "output_type": "stream",
     "text": [
      "T: 104/300: 100%|█| 78/78 [00:08<00:00,  8.94it/s, lr=0.000378, b_loss=0.821, b_\n"
     ]
    },
    {
     "name": "stdout",
     "output_type": "stream",
     "text": [
      "[ Train | 104/300 ] loss = 0.68550, acc = 0.76133\n"
     ]
    },
    {
     "name": "stderr",
     "output_type": "stream",
     "text": [
      "V: 104/300: 100%|████| 26/26 [00:02<00:00, 12.96it/s, v_loss=0.978, v_acc=0.699]\n"
     ]
    },
    {
     "name": "stdout",
     "output_type": "stream",
     "text": [
      "[ Valid | 104/300 ] loss = 0.97787, acc = 0.69914\n",
      "[ Valid | 104/300 ] loss = 0.97787, acc = 0.69914\n"
     ]
    },
    {
     "name": "stderr",
     "output_type": "stream",
     "text": [
      "T: 105/300: 100%|█| 78/78 [00:08<00:00,  8.94it/s, lr=0.000362, b_loss=0.706, b_\n"
     ]
    },
    {
     "name": "stdout",
     "output_type": "stream",
     "text": [
      "[ Train | 105/300 ] loss = 0.67169, acc = 0.76611\n"
     ]
    },
    {
     "name": "stderr",
     "output_type": "stream",
     "text": [
      "V: 105/300: 100%|████| 26/26 [00:02<00:00, 11.36it/s, v_loss=0.993, v_acc=0.705]\n"
     ]
    },
    {
     "name": "stdout",
     "output_type": "stream",
     "text": [
      "[ Valid | 105/300 ] loss = 0.99324, acc = 0.70520\n",
      "[ Valid | 105/300 ] loss = 0.99324, acc = 0.70520\n"
     ]
    },
    {
     "name": "stderr",
     "output_type": "stream",
     "text": [
      "T: 106/300: 100%|█| 78/78 [00:08<00:00,  8.94it/s, lr=0.000341, b_loss=0.602, b_\n"
     ]
    },
    {
     "name": "stdout",
     "output_type": "stream",
     "text": [
      "[ Train | 106/300 ] loss = 0.64892, acc = 0.77771\n"
     ]
    },
    {
     "name": "stderr",
     "output_type": "stream",
     "text": [
      "V: 106/300: 100%|█████| 26/26 [00:02<00:00, 11.27it/s, v_loss=0.972, v_acc=0.69]\n"
     ]
    },
    {
     "name": "stdout",
     "output_type": "stream",
     "text": [
      "[ Valid | 106/300 ] loss = 0.97165, acc = 0.69011\n",
      "[ Valid | 106/300 ] loss = 0.97165, acc = 0.69011\n"
     ]
    },
    {
     "name": "stderr",
     "output_type": "stream",
     "text": [
      "T: 107/300: 100%|█| 78/78 [00:08<00:00,  8.85it/s, lr=0.000318, b_loss=0.475, b_\n"
     ]
    },
    {
     "name": "stdout",
     "output_type": "stream",
     "text": [
      "[ Train | 107/300 ] loss = 0.61340, acc = 0.78486\n"
     ]
    },
    {
     "name": "stderr",
     "output_type": "stream",
     "text": [
      "V: 107/300: 100%|████| 26/26 [00:02<00:00, 12.54it/s, v_loss=0.981, v_acc=0.705]\n"
     ]
    },
    {
     "name": "stdout",
     "output_type": "stream",
     "text": [
      "[ Valid | 107/300 ] loss = 0.98073, acc = 0.70514\n",
      "[ Valid | 107/300 ] loss = 0.98073, acc = 0.70514\n"
     ]
    },
    {
     "name": "stderr",
     "output_type": "stream",
     "text": [
      "T: 108/300: 100%|█| 78/78 [00:08<00:00,  8.86it/s, lr=0.000291, b_loss=0.597, b_\n"
     ]
    },
    {
     "name": "stdout",
     "output_type": "stream",
     "text": [
      "[ Train | 108/300 ] loss = 0.60053, acc = 0.78840\n"
     ]
    },
    {
     "name": "stderr",
     "output_type": "stream",
     "text": [
      "V: 108/300: 100%|█████| 26/26 [00:02<00:00, 12.92it/s, v_loss=1.08, v_acc=0.689]\n"
     ]
    },
    {
     "name": "stdout",
     "output_type": "stream",
     "text": [
      "[ Valid | 108/300 ] loss = 1.08497, acc = 0.68924\n",
      "[ Valid | 108/300 ] loss = 1.08497, acc = 0.68924\n"
     ]
    },
    {
     "name": "stderr",
     "output_type": "stream",
     "text": [
      "T: 109/300: 100%|█| 78/78 [00:08<00:00,  9.05it/s, lr=0.000262, b_loss=0.567, b_\n"
     ]
    },
    {
     "name": "stdout",
     "output_type": "stream",
     "text": [
      "[ Train | 109/300 ] loss = 0.58593, acc = 0.79361\n"
     ]
    },
    {
     "name": "stderr",
     "output_type": "stream",
     "text": [
      "V: 109/300: 100%|████| 26/26 [00:02<00:00, 12.38it/s, v_loss=0.856, v_acc=0.736]\n"
     ]
    },
    {
     "name": "stdout",
     "output_type": "stream",
     "text": [
      "[ Valid | 109/300 ] loss = 0.85576, acc = 0.73595\n",
      "[ Valid | 109/300 ] loss = 0.85576, acc = 0.73595\n"
     ]
    },
    {
     "name": "stderr",
     "output_type": "stream",
     "text": [
      "T: 110/300: 100%|█| 78/78 [00:08<00:00,  8.97it/s, lr=0.000231, b_loss=0.683, b_\n"
     ]
    },
    {
     "name": "stdout",
     "output_type": "stream",
     "text": [
      "[ Train | 110/300 ] loss = 0.55496, acc = 0.80842\n"
     ]
    },
    {
     "name": "stderr",
     "output_type": "stream",
     "text": [
      "V: 110/300: 100%|████| 26/26 [00:01<00:00, 13.10it/s, v_loss=0.794, v_acc=0.743]\n"
     ]
    },
    {
     "name": "stdout",
     "output_type": "stream",
     "text": [
      "[ Valid | 110/300 ] loss = 0.79434, acc = 0.74279\n",
      "[ Valid | 110/300 ] loss = 0.79434, acc = 0.74279\n"
     ]
    },
    {
     "name": "stderr",
     "output_type": "stream",
     "text": [
      "T: 111/300: 100%|█| 78/78 [00:08<00:00,  8.90it/s, lr=0.0002, b_loss=0.514, b_ac\n"
     ]
    },
    {
     "name": "stdout",
     "output_type": "stream",
     "text": [
      "[ Train | 111/300 ] loss = 0.52962, acc = 0.81309\n"
     ]
    },
    {
     "name": "stderr",
     "output_type": "stream",
     "text": [
      "V: 111/300: 100%|████| 26/26 [00:02<00:00, 12.65it/s, v_loss=0.913, v_acc=0.724]\n"
     ]
    },
    {
     "name": "stdout",
     "output_type": "stream",
     "text": [
      "[ Valid | 111/300 ] loss = 0.91302, acc = 0.72377\n",
      "[ Valid | 111/300 ] loss = 0.91302, acc = 0.72377\n"
     ]
    },
    {
     "name": "stderr",
     "output_type": "stream",
     "text": [
      "T: 112/300: 100%|█| 78/78 [00:08<00:00,  9.08it/s, lr=0.000169, b_loss=0.479, b_\n"
     ]
    },
    {
     "name": "stdout",
     "output_type": "stream",
     "text": [
      "[ Train | 112/300 ] loss = 0.51142, acc = 0.81738\n"
     ]
    },
    {
     "name": "stderr",
     "output_type": "stream",
     "text": [
      "V: 112/300: 100%|█████| 26/26 [00:02<00:00, 12.02it/s, v_loss=0.82, v_acc=0.743]\n"
     ]
    },
    {
     "name": "stdout",
     "output_type": "stream",
     "text": [
      "[ Valid | 112/300 ] loss = 0.81976, acc = 0.74331\n",
      "[ Valid | 112/300 ] loss = 0.81976, acc = 0.74331\n"
     ]
    },
    {
     "name": "stderr",
     "output_type": "stream",
     "text": [
      "T: 113/300: 100%|█| 78/78 [00:08<00:00,  8.89it/s, lr=0.000138, b_loss=0.517, b_\n"
     ]
    },
    {
     "name": "stdout",
     "output_type": "stream",
     "text": [
      "[ Train | 113/300 ] loss = 0.48719, acc = 0.82952\n"
     ]
    },
    {
     "name": "stderr",
     "output_type": "stream",
     "text": [
      "V: 113/300: 100%|████| 26/26 [00:02<00:00, 11.51it/s, v_loss=0.739, v_acc=0.764]\n"
     ]
    },
    {
     "name": "stdout",
     "output_type": "stream",
     "text": [
      "[ Valid | 113/300 ] loss = 0.73874, acc = 0.76411\n",
      "[ Valid | 113/300 ] loss = 0.73874, acc = 0.76411\n"
     ]
    },
    {
     "name": "stderr",
     "output_type": "stream",
     "text": [
      "T: 114/300: 100%|█| 78/78 [00:08<00:00,  8.84it/s, lr=0.000109, b_loss=0.35, b_a\n"
     ]
    },
    {
     "name": "stdout",
     "output_type": "stream",
     "text": [
      "[ Train | 114/300 ] loss = 0.46523, acc = 0.84021\n"
     ]
    },
    {
     "name": "stderr",
     "output_type": "stream",
     "text": [
      "V: 114/300: 100%|████| 26/26 [00:02<00:00, 12.87it/s, v_loss=0.719, v_acc=0.775]\n"
     ]
    },
    {
     "name": "stdout",
     "output_type": "stream",
     "text": [
      "[ Valid | 114/300 ] loss = 0.71860, acc = 0.77471\n",
      "[ Valid | 114/300 ] loss = 0.71860, acc = 0.77471 -> best\n",
      "Best model found at fold 2 epoch 114, acc=0.77471, saving model\n"
     ]
    },
    {
     "name": "stderr",
     "output_type": "stream",
     "text": [
      "T: 115/300: 100%|█| 78/78 [00:08<00:00,  8.96it/s, lr=8.24e-5, b_loss=0.529, b_a\n"
     ]
    },
    {
     "name": "stdout",
     "output_type": "stream",
     "text": [
      "[ Train | 115/300 ] loss = 0.44438, acc = 0.84582\n"
     ]
    },
    {
     "name": "stderr",
     "output_type": "stream",
     "text": [
      "V: 115/300: 100%|█████| 26/26 [00:02<00:00, 11.73it/s, v_loss=0.76, v_acc=0.763]\n"
     ]
    },
    {
     "name": "stdout",
     "output_type": "stream",
     "text": [
      "[ Valid | 115/300 ] loss = 0.76018, acc = 0.76299\n",
      "[ Valid | 115/300 ] loss = 0.76018, acc = 0.76299\n"
     ]
    },
    {
     "name": "stderr",
     "output_type": "stream",
     "text": [
      "T: 116/300: 100%|█| 78/78 [00:08<00:00,  8.99it/s, lr=5.86e-5, b_loss=0.484, b_a\n"
     ]
    },
    {
     "name": "stdout",
     "output_type": "stream",
     "text": [
      "[ Train | 116/300 ] loss = 0.43697, acc = 0.84620\n"
     ]
    },
    {
     "name": "stderr",
     "output_type": "stream",
     "text": [
      "V: 116/300: 100%|█████| 26/26 [00:02<00:00, 11.43it/s, v_loss=0.71, v_acc=0.775]\n"
     ]
    },
    {
     "name": "stdout",
     "output_type": "stream",
     "text": [
      "[ Valid | 116/300 ] loss = 0.70960, acc = 0.77522\n",
      "[ Valid | 116/300 ] loss = 0.70960, acc = 0.77522 -> best\n",
      "Best model found at fold 2 epoch 116, acc=0.77522, saving model\n"
     ]
    },
    {
     "name": "stderr",
     "output_type": "stream",
     "text": [
      "T: 117/300: 100%|█| 78/78 [00:08<00:00,  9.17it/s, lr=3.82e-5, b_loss=0.484, b_a\n"
     ]
    },
    {
     "name": "stdout",
     "output_type": "stream",
     "text": [
      "[ Train | 117/300 ] loss = 0.41749, acc = 0.85812\n"
     ]
    },
    {
     "name": "stderr",
     "output_type": "stream",
     "text": [
      "V: 117/300: 100%|████| 26/26 [00:02<00:00, 11.87it/s, v_loss=0.712, v_acc=0.784]\n"
     ]
    },
    {
     "name": "stdout",
     "output_type": "stream",
     "text": [
      "[ Valid | 117/300 ] loss = 0.71152, acc = 0.78425\n",
      "[ Valid | 117/300 ] loss = 0.71152, acc = 0.78425 -> best\n",
      "Best model found at fold 2 epoch 117, acc=0.78425, saving model\n"
     ]
    },
    {
     "name": "stderr",
     "output_type": "stream",
     "text": [
      "T: 118/300: 100%|█| 78/78 [00:08<00:00,  9.16it/s, lr=2.18e-5, b_loss=0.443, b_a\n"
     ]
    },
    {
     "name": "stdout",
     "output_type": "stream",
     "text": [
      "[ Train | 118/300 ] loss = 0.40179, acc = 0.86029\n"
     ]
    },
    {
     "name": "stderr",
     "output_type": "stream",
     "text": [
      "V: 118/300: 100%|████| 26/26 [00:02<00:00, 11.58it/s, v_loss=0.706, v_acc=0.785]\n"
     ]
    },
    {
     "name": "stdout",
     "output_type": "stream",
     "text": [
      "[ Valid | 118/300 ] loss = 0.70639, acc = 0.78496\n",
      "[ Valid | 118/300 ] loss = 0.70639, acc = 0.78496 -> best\n",
      "Best model found at fold 2 epoch 118, acc=0.78496, saving model\n"
     ]
    },
    {
     "name": "stderr",
     "output_type": "stream",
     "text": [
      "T: 119/300: 100%|█| 78/78 [00:08<00:00,  9.04it/s, lr=9.79e-6, b_loss=0.458, b_a\n"
     ]
    },
    {
     "name": "stdout",
     "output_type": "stream",
     "text": [
      "[ Train | 119/300 ] loss = 0.39560, acc = 0.86213\n"
     ]
    },
    {
     "name": "stderr",
     "output_type": "stream",
     "text": [
      "V: 119/300: 100%|████| 26/26 [00:02<00:00, 11.72it/s, v_loss=0.705, v_acc=0.785]\n"
     ]
    },
    {
     "name": "stdout",
     "output_type": "stream",
     "text": [
      "[ Valid | 119/300 ] loss = 0.70488, acc = 0.78514\n",
      "[ Valid | 119/300 ] loss = 0.70488, acc = 0.78514 -> best\n",
      "Best model found at fold 2 epoch 119, acc=0.78514, saving model\n"
     ]
    },
    {
     "name": "stderr",
     "output_type": "stream",
     "text": [
      "T: 120/300: 100%|█| 78/78 [00:08<00:00,  9.00it/s, lr=2.46e-6, b_loss=0.455, b_a\n"
     ]
    },
    {
     "name": "stdout",
     "output_type": "stream",
     "text": [
      "[ Train | 120/300 ] loss = 0.37801, acc = 0.86897\n"
     ]
    },
    {
     "name": "stderr",
     "output_type": "stream",
     "text": [
      "V: 120/300: 100%|████| 26/26 [00:02<00:00, 11.75it/s, v_loss=0.706, v_acc=0.786]\n"
     ]
    },
    {
     "name": "stdout",
     "output_type": "stream",
     "text": [
      "[ Valid | 120/300 ] loss = 0.70596, acc = 0.78640\n",
      "[ Valid | 120/300 ] loss = 0.70596, acc = 0.78640 -> best\n",
      "Best model found at fold 2 epoch 120, acc=0.78640, saving model\n"
     ]
    },
    {
     "name": "stderr",
     "output_type": "stream",
     "text": [
      "T: 121/300: 100%|█| 78/78 [00:08<00:00,  8.87it/s, lr=0.0004, b_loss=0.59, b_acc\n"
     ]
    },
    {
     "name": "stdout",
     "output_type": "stream",
     "text": [
      "[ Train | 121/300 ] loss = 0.63660, acc = 0.78301\n"
     ]
    },
    {
     "name": "stderr",
     "output_type": "stream",
     "text": [
      "V: 121/300: 100%|██████| 26/26 [00:02<00:00, 11.46it/s, v_loss=1.29, v_acc=0.64]\n"
     ]
    },
    {
     "name": "stdout",
     "output_type": "stream",
     "text": [
      "[ Valid | 121/300 ] loss = 1.28928, acc = 0.63952\n",
      "[ Valid | 121/300 ] loss = 1.28928, acc = 0.63952\n"
     ]
    },
    {
     "name": "stderr",
     "output_type": "stream",
     "text": [
      "T: 122/300: 100%|█| 78/78 [00:08<00:00,  8.80it/s, lr=0.000398, b_loss=0.567, b_\n"
     ]
    },
    {
     "name": "stdout",
     "output_type": "stream",
     "text": [
      "[ Train | 122/300 ] loss = 0.64759, acc = 0.78021\n"
     ]
    },
    {
     "name": "stderr",
     "output_type": "stream",
     "text": [
      "V: 122/300: 100%|████| 26/26 [00:02<00:00, 12.25it/s, v_loss=0.916, v_acc=0.712]\n"
     ]
    },
    {
     "name": "stdout",
     "output_type": "stream",
     "text": [
      "[ Valid | 122/300 ] loss = 0.91644, acc = 0.71235\n",
      "[ Valid | 122/300 ] loss = 0.91644, acc = 0.71235\n"
     ]
    },
    {
     "name": "stderr",
     "output_type": "stream",
     "text": [
      "T: 123/300: 100%|█| 78/78 [00:08<00:00,  8.89it/s, lr=0.00039, b_loss=0.612, b_a\n"
     ]
    },
    {
     "name": "stdout",
     "output_type": "stream",
     "text": [
      "[ Train | 123/300 ] loss = 0.61362, acc = 0.78878\n"
     ]
    },
    {
     "name": "stderr",
     "output_type": "stream",
     "text": [
      "V: 123/300: 100%|█████| 26/26 [00:02<00:00, 11.34it/s, v_loss=2.54, v_acc=0.415]\n"
     ]
    },
    {
     "name": "stdout",
     "output_type": "stream",
     "text": [
      "[ Valid | 123/300 ] loss = 2.54254, acc = 0.41542\n",
      "[ Valid | 123/300 ] loss = 2.54254, acc = 0.41542\n"
     ]
    },
    {
     "name": "stderr",
     "output_type": "stream",
     "text": [
      "T: 124/300: 100%|█| 78/78 [00:08<00:00,  9.09it/s, lr=0.000378, b_loss=0.534, b_\n"
     ]
    },
    {
     "name": "stdout",
     "output_type": "stream",
     "text": [
      "[ Train | 124/300 ] loss = 0.59401, acc = 0.79155\n"
     ]
    },
    {
     "name": "stderr",
     "output_type": "stream",
     "text": [
      "V: 124/300: 100%|████| 26/26 [00:02<00:00, 12.23it/s, v_loss=0.938, v_acc=0.716]\n"
     ]
    },
    {
     "name": "stdout",
     "output_type": "stream",
     "text": [
      "[ Valid | 124/300 ] loss = 0.93817, acc = 0.71605\n",
      "[ Valid | 124/300 ] loss = 0.93817, acc = 0.71605\n"
     ]
    },
    {
     "name": "stderr",
     "output_type": "stream",
     "text": [
      "T: 125/300: 100%|█| 78/78 [00:08<00:00,  8.96it/s, lr=0.000362, b_loss=0.559, b_\n"
     ]
    },
    {
     "name": "stdout",
     "output_type": "stream",
     "text": [
      "[ Train | 125/300 ] loss = 0.58556, acc = 0.79735\n"
     ]
    },
    {
     "name": "stderr",
     "output_type": "stream",
     "text": [
      "V: 125/300: 100%|██████| 26/26 [00:02<00:00, 12.71it/s, v_loss=0.9, v_acc=0.719]\n"
     ]
    },
    {
     "name": "stdout",
     "output_type": "stream",
     "text": [
      "[ Valid | 125/300 ] loss = 0.89986, acc = 0.71901\n",
      "[ Valid | 125/300 ] loss = 0.89986, acc = 0.71901\n"
     ]
    },
    {
     "name": "stderr",
     "output_type": "stream",
     "text": [
      "T: 126/300: 100%|█| 78/78 [00:08<00:00,  9.19it/s, lr=0.000341, b_loss=0.553, b_\n"
     ]
    },
    {
     "name": "stdout",
     "output_type": "stream",
     "text": [
      "[ Train | 126/300 ] loss = 0.57048, acc = 0.79916\n"
     ]
    },
    {
     "name": "stderr",
     "output_type": "stream",
     "text": [
      "V: 126/300: 100%|█████| 26/26 [00:02<00:00, 11.28it/s, v_loss=1.01, v_acc=0.708]\n"
     ]
    },
    {
     "name": "stdout",
     "output_type": "stream",
     "text": [
      "[ Valid | 126/300 ] loss = 1.00516, acc = 0.70786\n",
      "[ Valid | 126/300 ] loss = 1.00516, acc = 0.70786\n"
     ]
    },
    {
     "name": "stderr",
     "output_type": "stream",
     "text": [
      "T: 127/300: 100%|█| 78/78 [00:08<00:00,  8.73it/s, lr=0.000318, b_loss=0.522, b_\n"
     ]
    },
    {
     "name": "stdout",
     "output_type": "stream",
     "text": [
      "[ Train | 127/300 ] loss = 0.54536, acc = 0.80860\n"
     ]
    },
    {
     "name": "stderr",
     "output_type": "stream",
     "text": [
      "V: 127/300: 100%|████| 26/26 [00:02<00:00, 11.55it/s, v_loss=0.922, v_acc=0.729]\n"
     ]
    },
    {
     "name": "stdout",
     "output_type": "stream",
     "text": [
      "[ Valid | 127/300 ] loss = 0.92227, acc = 0.72887\n",
      "[ Valid | 127/300 ] loss = 0.92227, acc = 0.72887\n"
     ]
    },
    {
     "name": "stderr",
     "output_type": "stream",
     "text": [
      "T: 128/300: 100%|█| 78/78 [00:08<00:00,  8.84it/s, lr=0.000291, b_loss=0.625, b_\n"
     ]
    },
    {
     "name": "stdout",
     "output_type": "stream",
     "text": [
      "[ Train | 128/300 ] loss = 0.51652, acc = 0.82087\n"
     ]
    },
    {
     "name": "stderr",
     "output_type": "stream",
     "text": [
      "V: 128/300: 100%|████| 26/26 [00:02<00:00, 12.22it/s, v_loss=0.846, v_acc=0.747]\n"
     ]
    },
    {
     "name": "stdout",
     "output_type": "stream",
     "text": [
      "[ Valid | 128/300 ] loss = 0.84643, acc = 0.74671\n",
      "[ Valid | 128/300 ] loss = 0.84643, acc = 0.74671\n"
     ]
    },
    {
     "name": "stderr",
     "output_type": "stream",
     "text": [
      "T: 129/300: 100%|█| 78/78 [00:08<00:00,  8.96it/s, lr=0.000262, b_loss=0.476, b_\n"
     ]
    },
    {
     "name": "stdout",
     "output_type": "stream",
     "text": [
      "[ Train | 129/300 ] loss = 0.51551, acc = 0.81951\n"
     ]
    },
    {
     "name": "stderr",
     "output_type": "stream",
     "text": [
      "V: 129/300: 100%|████| 26/26 [00:02<00:00, 10.88it/s, v_loss=0.834, v_acc=0.744]\n"
     ]
    },
    {
     "name": "stdout",
     "output_type": "stream",
     "text": [
      "[ Valid | 129/300 ] loss = 0.83368, acc = 0.74424\n",
      "[ Valid | 129/300 ] loss = 0.83368, acc = 0.74424\n"
     ]
    },
    {
     "name": "stderr",
     "output_type": "stream",
     "text": [
      "T: 130/300: 100%|█| 78/78 [00:08<00:00,  9.04it/s, lr=0.000231, b_loss=0.452, b_\n"
     ]
    },
    {
     "name": "stdout",
     "output_type": "stream",
     "text": [
      "[ Train | 130/300 ] loss = 0.47477, acc = 0.83895\n"
     ]
    },
    {
     "name": "stderr",
     "output_type": "stream",
     "text": [
      "V: 130/300: 100%|████| 26/26 [00:02<00:00, 12.82it/s, v_loss=0.911, v_acc=0.737]\n"
     ]
    },
    {
     "name": "stdout",
     "output_type": "stream",
     "text": [
      "[ Valid | 130/300 ] loss = 0.91141, acc = 0.73728\n",
      "[ Valid | 130/300 ] loss = 0.91141, acc = 0.73728\n"
     ]
    },
    {
     "name": "stderr",
     "output_type": "stream",
     "text": [
      "T: 131/300: 100%|█| 78/78 [00:08<00:00,  8.96it/s, lr=0.0002, b_loss=0.545, b_ac\n"
     ]
    },
    {
     "name": "stdout",
     "output_type": "stream",
     "text": [
      "[ Train | 131/300 ] loss = 0.46174, acc = 0.84160\n"
     ]
    },
    {
     "name": "stderr",
     "output_type": "stream",
     "text": [
      "V: 131/300: 100%|████| 26/26 [00:02<00:00, 12.63it/s, v_loss=0.792, v_acc=0.769]\n"
     ]
    },
    {
     "name": "stdout",
     "output_type": "stream",
     "text": [
      "[ Valid | 131/300 ] loss = 0.79209, acc = 0.76902\n",
      "[ Valid | 131/300 ] loss = 0.79209, acc = 0.76902\n"
     ]
    },
    {
     "name": "stderr",
     "output_type": "stream",
     "text": [
      "T: 132/300: 100%|█| 78/78 [00:08<00:00,  9.08it/s, lr=0.000169, b_loss=0.576, b_\n"
     ]
    },
    {
     "name": "stdout",
     "output_type": "stream",
     "text": [
      "[ Train | 132/300 ] loss = 0.45346, acc = 0.84187\n"
     ]
    },
    {
     "name": "stderr",
     "output_type": "stream",
     "text": [
      "V: 132/300: 100%|████| 26/26 [00:02<00:00, 12.08it/s, v_loss=0.726, v_acc=0.787]\n"
     ]
    },
    {
     "name": "stdout",
     "output_type": "stream",
     "text": [
      "[ Valid | 132/300 ] loss = 0.72580, acc = 0.78732\n",
      "[ Valid | 132/300 ] loss = 0.72580, acc = 0.78732 -> best\n",
      "Best model found at fold 2 epoch 132, acc=0.78732, saving model\n"
     ]
    },
    {
     "name": "stderr",
     "output_type": "stream",
     "text": [
      "T: 133/300: 100%|█| 78/78 [00:08<00:00,  8.90it/s, lr=0.000138, b_loss=0.536, b_\n"
     ]
    },
    {
     "name": "stdout",
     "output_type": "stream",
     "text": [
      "[ Train | 133/300 ] loss = 0.41358, acc = 0.85801\n"
     ]
    },
    {
     "name": "stderr",
     "output_type": "stream",
     "text": [
      "V: 133/300: 100%|████| 26/26 [00:02<00:00, 11.52it/s, v_loss=0.783, v_acc=0.764]\n"
     ]
    },
    {
     "name": "stdout",
     "output_type": "stream",
     "text": [
      "[ Valid | 133/300 ] loss = 0.78269, acc = 0.76412\n",
      "[ Valid | 133/300 ] loss = 0.78269, acc = 0.76412\n"
     ]
    },
    {
     "name": "stderr",
     "output_type": "stream",
     "text": [
      "T: 134/300: 100%|█| 78/78 [00:08<00:00,  9.25it/s, lr=0.000109, b_loss=0.471, b_\n"
     ]
    },
    {
     "name": "stdout",
     "output_type": "stream",
     "text": [
      "[ Train | 134/300 ] loss = 0.39270, acc = 0.86728\n"
     ]
    },
    {
     "name": "stderr",
     "output_type": "stream",
     "text": [
      "V: 134/300: 100%|████| 26/26 [00:02<00:00, 11.87it/s, v_loss=0.726, v_acc=0.787]\n"
     ]
    },
    {
     "name": "stdout",
     "output_type": "stream",
     "text": [
      "[ Valid | 134/300 ] loss = 0.72634, acc = 0.78695\n",
      "[ Valid | 134/300 ] loss = 0.72634, acc = 0.78695\n"
     ]
    },
    {
     "name": "stderr",
     "output_type": "stream",
     "text": [
      "T: 135/300: 100%|█| 78/78 [00:08<00:00,  8.97it/s, lr=8.24e-5, b_loss=0.442, b_a\n"
     ]
    },
    {
     "name": "stdout",
     "output_type": "stream",
     "text": [
      "[ Train | 135/300 ] loss = 0.37661, acc = 0.86997\n"
     ]
    },
    {
     "name": "stderr",
     "output_type": "stream",
     "text": [
      "V: 135/300: 100%|████| 26/26 [00:02<00:00, 11.91it/s, v_loss=0.715, v_acc=0.786]\n"
     ]
    },
    {
     "name": "stdout",
     "output_type": "stream",
     "text": [
      "[ Valid | 135/300 ] loss = 0.71499, acc = 0.78641\n",
      "[ Valid | 135/300 ] loss = 0.71499, acc = 0.78641\n"
     ]
    },
    {
     "name": "stderr",
     "output_type": "stream",
     "text": [
      "T: 136/300: 100%|█| 78/78 [00:08<00:00,  9.08it/s, lr=5.86e-5, b_loss=0.322, b_a\n"
     ]
    },
    {
     "name": "stdout",
     "output_type": "stream",
     "text": [
      "[ Train | 136/300 ] loss = 0.36638, acc = 0.87435\n"
     ]
    },
    {
     "name": "stderr",
     "output_type": "stream",
     "text": [
      "V: 136/300: 100%|████| 26/26 [00:02<00:00, 12.84it/s, v_loss=0.714, v_acc=0.793]\n"
     ]
    },
    {
     "name": "stdout",
     "output_type": "stream",
     "text": [
      "[ Valid | 136/300 ] loss = 0.71400, acc = 0.79306\n",
      "[ Valid | 136/300 ] loss = 0.71400, acc = 0.79306 -> best\n",
      "Best model found at fold 2 epoch 136, acc=0.79306, saving model\n"
     ]
    },
    {
     "name": "stderr",
     "output_type": "stream",
     "text": [
      "T: 137/300: 100%|█| 78/78 [00:08<00:00,  8.88it/s, lr=3.82e-5, b_loss=0.314, b_a\n"
     ]
    },
    {
     "name": "stdout",
     "output_type": "stream",
     "text": [
      "[ Train | 137/300 ] loss = 0.34619, acc = 0.88060\n"
     ]
    },
    {
     "name": "stderr",
     "output_type": "stream",
     "text": [
      "V: 137/300: 100%|████| 26/26 [00:02<00:00, 11.82it/s, v_loss=0.708, v_acc=0.792]\n"
     ]
    },
    {
     "name": "stdout",
     "output_type": "stream",
     "text": [
      "[ Valid | 137/300 ] loss = 0.70768, acc = 0.79210\n",
      "[ Valid | 137/300 ] loss = 0.70768, acc = 0.79210\n"
     ]
    },
    {
     "name": "stderr",
     "output_type": "stream",
     "text": [
      "T: 138/300: 100%|█| 78/78 [00:08<00:00,  9.01it/s, lr=2.18e-5, b_loss=0.423, b_a\n"
     ]
    },
    {
     "name": "stdout",
     "output_type": "stream",
     "text": [
      "[ Train | 138/300 ] loss = 0.34308, acc = 0.88306\n"
     ]
    },
    {
     "name": "stderr",
     "output_type": "stream",
     "text": [
      "V: 138/300: 100%|████| 26/26 [00:02<00:00, 12.61it/s, v_loss=0.707, v_acc=0.792]\n"
     ]
    },
    {
     "name": "stdout",
     "output_type": "stream",
     "text": [
      "[ Valid | 138/300 ] loss = 0.70733, acc = 0.79215\n",
      "[ Valid | 138/300 ] loss = 0.70733, acc = 0.79215\n"
     ]
    },
    {
     "name": "stderr",
     "output_type": "stream",
     "text": [
      "T: 139/300: 100%|█| 78/78 [00:08<00:00,  8.96it/s, lr=9.79e-6, b_loss=0.309, b_a\n"
     ]
    },
    {
     "name": "stdout",
     "output_type": "stream",
     "text": [
      "[ Train | 139/300 ] loss = 0.33095, acc = 0.88800\n"
     ]
    },
    {
     "name": "stderr",
     "output_type": "stream",
     "text": [
      "V: 139/300: 100%|████| 26/26 [00:02<00:00, 11.25it/s, v_loss=0.695, v_acc=0.795]\n"
     ]
    },
    {
     "name": "stdout",
     "output_type": "stream",
     "text": [
      "[ Valid | 139/300 ] loss = 0.69549, acc = 0.79517\n",
      "[ Valid | 139/300 ] loss = 0.69549, acc = 0.79517 -> best\n",
      "Best model found at fold 2 epoch 139, acc=0.79517, saving model\n"
     ]
    },
    {
     "name": "stderr",
     "output_type": "stream",
     "text": [
      "T: 140/300: 100%|█| 78/78 [00:08<00:00,  8.83it/s, lr=2.46e-6, b_loss=0.341, b_a\n"
     ]
    },
    {
     "name": "stdout",
     "output_type": "stream",
     "text": [
      "[ Train | 140/300 ] loss = 0.32545, acc = 0.89081\n"
     ]
    },
    {
     "name": "stderr",
     "output_type": "stream",
     "text": [
      "V: 140/300: 100%|████| 26/26 [00:02<00:00, 11.37it/s, v_loss=0.694, v_acc=0.794]\n"
     ]
    },
    {
     "name": "stdout",
     "output_type": "stream",
     "text": [
      "[ Valid | 140/300 ] loss = 0.69419, acc = 0.79389\n",
      "[ Valid | 140/300 ] loss = 0.69419, acc = 0.79389\n"
     ]
    },
    {
     "name": "stderr",
     "output_type": "stream",
     "text": [
      "T: 141/300: 100%|█| 78/78 [00:08<00:00,  8.74it/s, lr=0.0004, b_loss=0.461, b_ac\n"
     ]
    },
    {
     "name": "stdout",
     "output_type": "stream",
     "text": [
      "[ Train | 141/300 ] loss = 0.54287, acc = 0.80948\n"
     ]
    },
    {
     "name": "stderr",
     "output_type": "stream",
     "text": [
      "V: 141/300: 100%|██████| 26/26 [00:01<00:00, 13.27it/s, v_loss=1.08, v_acc=0.69]\n"
     ]
    },
    {
     "name": "stdout",
     "output_type": "stream",
     "text": [
      "[ Valid | 141/300 ] loss = 1.08238, acc = 0.68964\n",
      "[ Valid | 141/300 ] loss = 1.08238, acc = 0.68964\n"
     ]
    },
    {
     "name": "stderr",
     "output_type": "stream",
     "text": [
      "T: 142/300: 100%|█| 78/78 [00:08<00:00,  8.97it/s, lr=0.000398, b_loss=0.712, b_\n"
     ]
    },
    {
     "name": "stdout",
     "output_type": "stream",
     "text": [
      "[ Train | 142/300 ] loss = 0.58111, acc = 0.79578\n"
     ]
    },
    {
     "name": "stderr",
     "output_type": "stream",
     "text": [
      "V: 142/300: 100%|█████| 26/26 [00:02<00:00, 11.11it/s, v_loss=1.08, v_acc=0.708]\n"
     ]
    },
    {
     "name": "stdout",
     "output_type": "stream",
     "text": [
      "[ Valid | 142/300 ] loss = 1.08077, acc = 0.70825\n",
      "[ Valid | 142/300 ] loss = 1.08077, acc = 0.70825\n"
     ]
    },
    {
     "name": "stderr",
     "output_type": "stream",
     "text": [
      "T: 143/300: 100%|█| 78/78 [00:08<00:00,  8.78it/s, lr=0.00039, b_loss=0.448, b_a\n"
     ]
    },
    {
     "name": "stdout",
     "output_type": "stream",
     "text": [
      "[ Train | 143/300 ] loss = 0.55169, acc = 0.80949\n"
     ]
    },
    {
     "name": "stderr",
     "output_type": "stream",
     "text": [
      "V: 143/300: 100%|███████| 26/26 [00:02<00:00, 12.90it/s, v_loss=1.02, v_acc=0.7]\n"
     ]
    },
    {
     "name": "stdout",
     "output_type": "stream",
     "text": [
      "[ Valid | 143/300 ] loss = 1.02199, acc = 0.70009\n",
      "[ Valid | 143/300 ] loss = 1.02199, acc = 0.70009\n"
     ]
    },
    {
     "name": "stderr",
     "output_type": "stream",
     "text": [
      "T: 144/300: 100%|█| 78/78 [00:08<00:00,  8.78it/s, lr=0.000378, b_loss=0.57, b_a\n"
     ]
    },
    {
     "name": "stdout",
     "output_type": "stream",
     "text": [
      "[ Train | 144/300 ] loss = 0.54505, acc = 0.81145\n"
     ]
    },
    {
     "name": "stderr",
     "output_type": "stream",
     "text": [
      "V: 144/300: 100%|████| 26/26 [00:02<00:00, 11.60it/s, v_loss=0.936, v_acc=0.728]\n"
     ]
    },
    {
     "name": "stdout",
     "output_type": "stream",
     "text": [
      "[ Valid | 144/300 ] loss = 0.93562, acc = 0.72773\n",
      "[ Valid | 144/300 ] loss = 0.93562, acc = 0.72773\n"
     ]
    },
    {
     "name": "stderr",
     "output_type": "stream",
     "text": [
      "T: 145/300: 100%|█| 78/78 [00:08<00:00,  8.98it/s, lr=0.000362, b_loss=0.517, b_\n"
     ]
    },
    {
     "name": "stdout",
     "output_type": "stream",
     "text": [
      "[ Train | 145/300 ] loss = 0.52018, acc = 0.81640\n"
     ]
    },
    {
     "name": "stderr",
     "output_type": "stream",
     "text": [
      "V: 145/300: 100%|████| 26/26 [00:02<00:00, 12.32it/s, v_loss=0.948, v_acc=0.713]\n"
     ]
    },
    {
     "name": "stdout",
     "output_type": "stream",
     "text": [
      "[ Valid | 145/300 ] loss = 0.94850, acc = 0.71274\n",
      "[ Valid | 145/300 ] loss = 0.94850, acc = 0.71274\n"
     ]
    },
    {
     "name": "stderr",
     "output_type": "stream",
     "text": [
      "T: 146/300: 100%|█| 78/78 [00:08<00:00,  9.02it/s, lr=0.000341, b_loss=0.455, b_\n"
     ]
    },
    {
     "name": "stdout",
     "output_type": "stream",
     "text": [
      "[ Train | 146/300 ] loss = 0.51035, acc = 0.81900\n"
     ]
    },
    {
     "name": "stderr",
     "output_type": "stream",
     "text": [
      "V: 146/300: 100%|████| 26/26 [00:02<00:00, 11.47it/s, v_loss=0.845, v_acc=0.745]\n"
     ]
    },
    {
     "name": "stdout",
     "output_type": "stream",
     "text": [
      "[ Valid | 146/300 ] loss = 0.84486, acc = 0.74486\n",
      "[ Valid | 146/300 ] loss = 0.84486, acc = 0.74486\n"
     ]
    },
    {
     "name": "stderr",
     "output_type": "stream",
     "text": [
      "T: 147/300: 100%|█| 78/78 [00:08<00:00,  9.02it/s, lr=0.000318, b_loss=0.426, b_\n"
     ]
    },
    {
     "name": "stdout",
     "output_type": "stream",
     "text": [
      "[ Train | 147/300 ] loss = 0.48754, acc = 0.82573\n"
     ]
    },
    {
     "name": "stderr",
     "output_type": "stream",
     "text": [
      "V: 147/300: 100%|████| 26/26 [00:02<00:00, 12.70it/s, v_loss=0.896, v_acc=0.732]\n"
     ]
    },
    {
     "name": "stdout",
     "output_type": "stream",
     "text": [
      "[ Valid | 147/300 ] loss = 0.89634, acc = 0.73249\n",
      "[ Valid | 147/300 ] loss = 0.89634, acc = 0.73249\n"
     ]
    },
    {
     "name": "stderr",
     "output_type": "stream",
     "text": [
      "T: 148/300: 100%|█| 78/78 [00:08<00:00,  9.11it/s, lr=0.000291, b_loss=0.652, b_\n"
     ]
    },
    {
     "name": "stdout",
     "output_type": "stream",
     "text": [
      "[ Train | 148/300 ] loss = 0.46531, acc = 0.83570\n"
     ]
    },
    {
     "name": "stderr",
     "output_type": "stream",
     "text": [
      "V: 148/300: 100%|████| 26/26 [00:02<00:00, 13.00it/s, v_loss=0.829, v_acc=0.753]\n"
     ]
    },
    {
     "name": "stdout",
     "output_type": "stream",
     "text": [
      "[ Valid | 148/300 ] loss = 0.82869, acc = 0.75268\n",
      "[ Valid | 148/300 ] loss = 0.82869, acc = 0.75268\n"
     ]
    },
    {
     "name": "stderr",
     "output_type": "stream",
     "text": [
      "T: 149/300: 100%|█| 78/78 [00:08<00:00,  9.10it/s, lr=0.000262, b_loss=0.474, b_\n"
     ]
    },
    {
     "name": "stdout",
     "output_type": "stream",
     "text": [
      "[ Train | 149/300 ] loss = 0.43828, acc = 0.84436\n"
     ]
    },
    {
     "name": "stderr",
     "output_type": "stream",
     "text": [
      "V: 149/300: 100%|█████| 26/26 [00:02<00:00, 12.68it/s, v_loss=0.905, v_acc=0.74]\n"
     ]
    },
    {
     "name": "stdout",
     "output_type": "stream",
     "text": [
      "[ Valid | 149/300 ] loss = 0.90510, acc = 0.73979\n",
      "[ Valid | 149/300 ] loss = 0.90510, acc = 0.73979\n"
     ]
    },
    {
     "name": "stderr",
     "output_type": "stream",
     "text": [
      "T: 150/300: 100%|█| 78/78 [00:08<00:00,  8.87it/s, lr=0.000231, b_loss=0.481, b_\n"
     ]
    },
    {
     "name": "stdout",
     "output_type": "stream",
     "text": [
      "[ Train | 150/300 ] loss = 0.42349, acc = 0.85105\n"
     ]
    },
    {
     "name": "stderr",
     "output_type": "stream",
     "text": [
      "V: 150/300: 100%|████| 26/26 [00:02<00:00, 11.47it/s, v_loss=0.801, v_acc=0.759]\n"
     ]
    },
    {
     "name": "stdout",
     "output_type": "stream",
     "text": [
      "[ Valid | 150/300 ] loss = 0.80124, acc = 0.75876\n",
      "[ Valid | 150/300 ] loss = 0.80124, acc = 0.75876\n"
     ]
    },
    {
     "name": "stderr",
     "output_type": "stream",
     "text": [
      "T: 151/300: 100%|█| 78/78 [00:08<00:00,  8.85it/s, lr=0.0002, b_loss=0.273, b_ac\n"
     ]
    },
    {
     "name": "stdout",
     "output_type": "stream",
     "text": [
      "[ Train | 151/300 ] loss = 0.41167, acc = 0.85825\n"
     ]
    },
    {
     "name": "stderr",
     "output_type": "stream",
     "text": [
      "V: 151/300: 100%|████| 26/26 [00:02<00:00, 12.39it/s, v_loss=0.833, v_acc=0.759]\n"
     ]
    },
    {
     "name": "stdout",
     "output_type": "stream",
     "text": [
      "[ Valid | 151/300 ] loss = 0.83276, acc = 0.75868\n",
      "[ Valid | 151/300 ] loss = 0.83276, acc = 0.75868\n"
     ]
    },
    {
     "name": "stderr",
     "output_type": "stream",
     "text": [
      "T: 152/300: 100%|█| 78/78 [00:08<00:00,  8.92it/s, lr=0.000169, b_loss=0.546, b_\n"
     ]
    },
    {
     "name": "stdout",
     "output_type": "stream",
     "text": [
      "[ Train | 152/300 ] loss = 0.36280, acc = 0.87497\n"
     ]
    },
    {
     "name": "stderr",
     "output_type": "stream",
     "text": [
      "V: 152/300: 100%|████| 26/26 [00:02<00:00, 11.47it/s, v_loss=0.842, v_acc=0.766]\n"
     ]
    },
    {
     "name": "stdout",
     "output_type": "stream",
     "text": [
      "[ Valid | 152/300 ] loss = 0.84226, acc = 0.76621\n",
      "[ Valid | 152/300 ] loss = 0.84226, acc = 0.76621\n"
     ]
    },
    {
     "name": "stderr",
     "output_type": "stream",
     "text": [
      "T: 153/300: 100%|█| 78/78 [00:08<00:00,  8.99it/s, lr=0.000138, b_loss=0.357, b_\n"
     ]
    },
    {
     "name": "stdout",
     "output_type": "stream",
     "text": [
      "[ Train | 153/300 ] loss = 0.35734, acc = 0.87555\n"
     ]
    },
    {
     "name": "stderr",
     "output_type": "stream",
     "text": [
      "V: 153/300: 100%|████| 26/26 [00:02<00:00, 12.84it/s, v_loss=0.769, v_acc=0.776]\n"
     ]
    },
    {
     "name": "stdout",
     "output_type": "stream",
     "text": [
      "[ Valid | 153/300 ] loss = 0.76862, acc = 0.77646\n",
      "[ Valid | 153/300 ] loss = 0.76862, acc = 0.77646\n"
     ]
    },
    {
     "name": "stderr",
     "output_type": "stream",
     "text": [
      "T: 154/300: 100%|█| 78/78 [00:08<00:00,  9.14it/s, lr=0.000109, b_loss=0.358, b_\n"
     ]
    },
    {
     "name": "stdout",
     "output_type": "stream",
     "text": [
      "[ Train | 154/300 ] loss = 0.33993, acc = 0.87714\n"
     ]
    },
    {
     "name": "stderr",
     "output_type": "stream",
     "text": [
      "V: 154/300: 100%|████| 26/26 [00:02<00:00, 11.52it/s, v_loss=0.747, v_acc=0.791]\n"
     ]
    },
    {
     "name": "stdout",
     "output_type": "stream",
     "text": [
      "[ Valid | 154/300 ] loss = 0.74657, acc = 0.79084\n",
      "[ Valid | 154/300 ] loss = 0.74657, acc = 0.79084\n"
     ]
    },
    {
     "name": "stderr",
     "output_type": "stream",
     "text": [
      "T: 155/300: 100%|█| 78/78 [00:08<00:00,  8.90it/s, lr=8.24e-5, b_loss=0.235, b_a\n"
     ]
    },
    {
     "name": "stdout",
     "output_type": "stream",
     "text": [
      "[ Train | 155/300 ] loss = 0.32283, acc = 0.89073\n"
     ]
    },
    {
     "name": "stderr",
     "output_type": "stream",
     "text": [
      "V: 155/300: 100%|█████| 26/26 [00:02<00:00, 12.29it/s, v_loss=0.726, v_acc=0.79]\n"
     ]
    },
    {
     "name": "stdout",
     "output_type": "stream",
     "text": [
      "[ Valid | 155/300 ] loss = 0.72641, acc = 0.79032\n",
      "[ Valid | 155/300 ] loss = 0.72641, acc = 0.79032\n"
     ]
    },
    {
     "name": "stderr",
     "output_type": "stream",
     "text": [
      "T: 156/300: 100%|█| 78/78 [00:08<00:00,  9.00it/s, lr=5.86e-5, b_loss=0.263, b_a\n"
     ]
    },
    {
     "name": "stdout",
     "output_type": "stream",
     "text": [
      "[ Train | 156/300 ] loss = 0.30711, acc = 0.89295\n"
     ]
    },
    {
     "name": "stderr",
     "output_type": "stream",
     "text": [
      "V: 156/300: 100%|█████| 26/26 [00:02<00:00, 12.43it/s, v_loss=0.727, v_acc=0.79]\n"
     ]
    },
    {
     "name": "stdout",
     "output_type": "stream",
     "text": [
      "[ Valid | 156/300 ] loss = 0.72738, acc = 0.79008\n",
      "[ Valid | 156/300 ] loss = 0.72738, acc = 0.79008\n"
     ]
    },
    {
     "name": "stderr",
     "output_type": "stream",
     "text": [
      "T: 157/300: 100%|█| 78/78 [00:08<00:00,  8.92it/s, lr=3.82e-5, b_loss=0.336, b_a\n"
     ]
    },
    {
     "name": "stdout",
     "output_type": "stream",
     "text": [
      "[ Train | 157/300 ] loss = 0.29182, acc = 0.90429\n"
     ]
    },
    {
     "name": "stderr",
     "output_type": "stream",
     "text": [
      "V: 157/300: 100%|████| 26/26 [00:02<00:00, 11.69it/s, v_loss=0.736, v_acc=0.794]\n"
     ]
    },
    {
     "name": "stdout",
     "output_type": "stream",
     "text": [
      "[ Valid | 157/300 ] loss = 0.73628, acc = 0.79445\n",
      "[ Valid | 157/300 ] loss = 0.73628, acc = 0.79445\n"
     ]
    },
    {
     "name": "stderr",
     "output_type": "stream",
     "text": [
      "T: 158/300: 100%|█| 78/78 [00:08<00:00,  8.95it/s, lr=2.18e-5, b_loss=0.213, b_a\n"
     ]
    },
    {
     "name": "stdout",
     "output_type": "stream",
     "text": [
      "[ Train | 158/300 ] loss = 0.28999, acc = 0.90077\n"
     ]
    },
    {
     "name": "stderr",
     "output_type": "stream",
     "text": [
      "V: 158/300: 100%|████| 26/26 [00:02<00:00, 11.14it/s, v_loss=0.738, v_acc=0.791]\n"
     ]
    },
    {
     "name": "stdout",
     "output_type": "stream",
     "text": [
      "[ Valid | 158/300 ] loss = 0.73787, acc = 0.79122\n",
      "[ Valid | 158/300 ] loss = 0.73787, acc = 0.79122\n"
     ]
    },
    {
     "name": "stderr",
     "output_type": "stream",
     "text": [
      "T: 159/300: 100%|█| 78/78 [00:08<00:00,  8.86it/s, lr=9.79e-6, b_loss=0.223, b_a\n"
     ]
    },
    {
     "name": "stdout",
     "output_type": "stream",
     "text": [
      "[ Train | 159/300 ] loss = 0.28379, acc = 0.90166\n"
     ]
    },
    {
     "name": "stderr",
     "output_type": "stream",
     "text": [
      "V: 159/300: 100%|████| 26/26 [00:02<00:00, 11.98it/s, v_loss=0.726, v_acc=0.795]\n"
     ]
    },
    {
     "name": "stdout",
     "output_type": "stream",
     "text": [
      "[ Valid | 159/300 ] loss = 0.72553, acc = 0.79487\n",
      "[ Valid | 159/300 ] loss = 0.72553, acc = 0.79487\n"
     ]
    },
    {
     "name": "stderr",
     "output_type": "stream",
     "text": [
      "T: 160/300: 100%|█| 78/78 [00:08<00:00,  8.95it/s, lr=2.46e-6, b_loss=0.186, b_a\n"
     ]
    },
    {
     "name": "stdout",
     "output_type": "stream",
     "text": [
      "[ Train | 160/300 ] loss = 0.27727, acc = 0.90205\n"
     ]
    },
    {
     "name": "stderr",
     "output_type": "stream",
     "text": [
      "V: 160/300: 100%|████| 26/26 [00:02<00:00, 12.03it/s, v_loss=0.731, v_acc=0.793]\n"
     ]
    },
    {
     "name": "stdout",
     "output_type": "stream",
     "text": [
      "[ Valid | 160/300 ] loss = 0.73121, acc = 0.79272\n",
      "[ Valid | 160/300 ] loss = 0.73121, acc = 0.79272\n",
      "No improvment 20 consecutive epochs, early stopping\n"
     ]
    },
    {
     "data": {
      "text/html": [
       "Waiting for W&B process to finish... <strong style=\"color:green\">(success).</strong>"
      ],
      "text/plain": [
       "<IPython.core.display.HTML object>"
      ]
     },
     "metadata": {},
     "output_type": "display_data"
    },
    {
     "data": {
      "text/html": [
       "<style>\n",
       "    table.wandb td:nth-child(1) { padding: 0 10px; text-align: left ; width: auto;} td:nth-child(2) {text-align: left ; width: 100%}\n",
       "    .wandb-row { display: flex; flex-direction: row; flex-wrap: wrap; justify-content: flex-start; width: 100% }\n",
       "    .wandb-col { display: flex; flex-direction: column; flex-basis: 100%; flex: 1; padding: 10px; }\n",
       "    </style>\n",
       "<div class=\"wandb-row\"><div class=\"wandb-col\"><h3>Run history:</h3><br/><table class=\"wandb\"><tr><td>average_training_loss</td><td>█▇▆▅▅▅▅▄▄▃▄▄▄▃▃▄▃▃▃▂▃▃▃▂▂▃▃▂▂▂▃▂▂▁▁▂▂▂▁▁</td></tr><tr><td>average_validation_loss</td><td>▇▇▄▄▃█▅▂▃▂▄▃▂▂▁▃▃▂▁▁▃▄▃▁▁▂▂▁▁▁▂▂▂▁▁▃▂▁▁▁</td></tr><tr><td>learning rate</td><td>█▇▅▃▁█▇▅▃▁█▇▅▃▁█▇▅▃▁█▇▅▃▁█▇▅▃▁█▇▅▃▁█▇▅▃▁</td></tr><tr><td>step_training_accuracy</td><td>▁▃▂▃▃▃▃▄▅▅▄▅▅▆▆▅▅▅▆▆▅▆▆▆▆▆▆▆▆▇▅▇▇▆▇▆▆▆██</td></tr><tr><td>step_training_loss</td><td>█▇▆▆▅▆▆▄▄▃▅▄▄▃▃▄▄▄▂▃▃▃▃▂▂▃▃▃▂▂▃▂▂▂▁▂▂▃▁▁</td></tr><tr><td>step_validation_accuracy</td><td>▂▁▄▅▅▂▄▆▆▆▅▆▆▆▇▅▆▆▇▇▆▇█▆▇▇▇▇█▇▇▆▇█▇▆▇▇▇▇</td></tr><tr><td>step_validation_loss</td><td>▆▇▄▃▃█▄▂▂▂▄▃▂▂▂▃▃▂▂▂▃▂▁▃▂▃▂▂▁▂▂▄▂▁▂▃▂▁▂▂</td></tr></table><br/></div><div class=\"wandb-col\"><h3>Run summary:</h3><br/><table class=\"wandb\"><tr><td>average_training_loss</td><td>0.27727</td></tr><tr><td>average_validation_loss</td><td>0.73121</td></tr><tr><td>learning rate</td><td>0.0</td></tr><tr><td>step_training_accuracy</td><td>0.92241</td></tr><tr><td>step_training_loss</td><td>0.18625</td></tr><tr><td>step_validation_accuracy</td><td>0.79032</td></tr><tr><td>step_validation_loss</td><td>0.86635</td></tr></table><br/></div></div>"
      ],
      "text/plain": [
       "<IPython.core.display.HTML object>"
      ]
     },
     "metadata": {},
     "output_type": "display_data"
    },
    {
     "data": {
      "text/html": [
       " View run <strong style=\"color:#cdcd00\">balmy-morning-23</strong> at: <a href='https://wandb.ai/nickwkt/Food-11/runs/9yf2afge' target=\"_blank\">https://wandb.ai/nickwkt/Food-11/runs/9yf2afge</a><br/>Synced 6 W&B file(s), 0 media file(s), 0 artifact file(s) and 0 other file(s)"
      ],
      "text/plain": [
       "<IPython.core.display.HTML object>"
      ]
     },
     "metadata": {},
     "output_type": "display_data"
    },
    {
     "data": {
      "text/html": [
       "Find logs at: <code>./wandb/run-20230414_162714-9yf2afge/logs</code>"
      ],
      "text/plain": [
       "<IPython.core.display.HTML object>"
      ]
     },
     "metadata": {},
     "output_type": "display_data"
    },
    {
     "name": "stdout",
     "output_type": "stream",
     "text": [
      "\n",
      "\n",
      "Starting Fold: 3 ********************************************\n",
      "cuda:0\n"
     ]
    },
    {
     "data": {
      "application/vnd.jupyter.widget-view+json": {
       "model_id": "9cff1d7ced6149098f0c49f348677b59",
       "version_major": 2,
       "version_minor": 0
      },
      "text/plain": [
       "VBox(children=(Label(value='Waiting for wandb.init()...\\r'), FloatProgress(value=0.016668213700177147, max=1.0…"
      ]
     },
     "metadata": {},
     "output_type": "display_data"
    },
    {
     "data": {
      "text/html": [
       "Tracking run with wandb version 0.14.2"
      ],
      "text/plain": [
       "<IPython.core.display.HTML object>"
      ]
     },
     "metadata": {},
     "output_type": "display_data"
    },
    {
     "data": {
      "text/html": [
       "Run data is saved locally in <code>/home/user/jupyter_file/wandb/run-20230414_165632-811mzzph</code>"
      ],
      "text/plain": [
       "<IPython.core.display.HTML object>"
      ]
     },
     "metadata": {},
     "output_type": "display_data"
    },
    {
     "data": {
      "text/html": [
       "Syncing run <strong><a href='https://wandb.ai/nickwkt/Food-11/runs/811mzzph' target=\"_blank\">polished-dawn-24</a></strong> to <a href='https://wandb.ai/nickwkt/Food-11' target=\"_blank\">Weights & Biases</a> (<a href='https://wandb.me/run' target=\"_blank\">docs</a>)<br/>"
      ],
      "text/plain": [
       "<IPython.core.display.HTML object>"
      ]
     },
     "metadata": {},
     "output_type": "display_data"
    },
    {
     "data": {
      "text/html": [
       " View project at <a href='https://wandb.ai/nickwkt/Food-11' target=\"_blank\">https://wandb.ai/nickwkt/Food-11</a>"
      ],
      "text/plain": [
       "<IPython.core.display.HTML object>"
      ]
     },
     "metadata": {},
     "output_type": "display_data"
    },
    {
     "data": {
      "text/html": [
       " View run at <a href='https://wandb.ai/nickwkt/Food-11/runs/811mzzph' target=\"_blank\">https://wandb.ai/nickwkt/Food-11/runs/811mzzph</a>"
      ],
      "text/plain": [
       "<IPython.core.display.HTML object>"
      ]
     },
     "metadata": {},
     "output_type": "display_data"
    },
    {
     "name": "stderr",
     "output_type": "stream",
     "text": [
      "T: 001/300: 100%|█| 78/78 [00:08<00:00,  8.97it/s, lr=0.0004, b_loss=2.02, b_acc\n"
     ]
    },
    {
     "name": "stdout",
     "output_type": "stream",
     "text": [
      "[ Train | 001/300 ] loss = 2.12012, acc = 0.24221\n"
     ]
    },
    {
     "name": "stderr",
     "output_type": "stream",
     "text": [
      "V: 001/300: 100%|█████| 26/26 [00:02<00:00, 12.22it/s, v_loss=2.01, v_acc=0.291]\n"
     ]
    },
    {
     "name": "stdout",
     "output_type": "stream",
     "text": [
      "[ Valid | 001/300 ] loss = 2.00888, acc = 0.29062\n",
      "[ Valid | 001/300 ] loss = 2.00888, acc = 0.29062 -> best\n",
      "Best model found at fold 3 epoch 1, acc=0.29062, saving model\n"
     ]
    },
    {
     "name": "stderr",
     "output_type": "stream",
     "text": [
      "T: 002/300: 100%|█| 78/78 [00:08<00:00,  8.85it/s, lr=0.000398, b_loss=1.93, b_a\n"
     ]
    },
    {
     "name": "stdout",
     "output_type": "stream",
     "text": [
      "[ Train | 002/300 ] loss = 1.94983, acc = 0.31218\n"
     ]
    },
    {
     "name": "stderr",
     "output_type": "stream",
     "text": [
      "V: 002/300: 100%|█████| 26/26 [00:02<00:00, 11.78it/s, v_loss=1.93, v_acc=0.333]\n"
     ]
    },
    {
     "name": "stdout",
     "output_type": "stream",
     "text": [
      "[ Valid | 002/300 ] loss = 1.93447, acc = 0.33302\n",
      "[ Valid | 002/300 ] loss = 1.93447, acc = 0.33302 -> best\n",
      "Best model found at fold 3 epoch 2, acc=0.33302, saving model\n"
     ]
    },
    {
     "name": "stderr",
     "output_type": "stream",
     "text": [
      "T: 003/300: 100%|█| 78/78 [00:08<00:00,  8.98it/s, lr=0.00039, b_loss=1.81, b_ac\n"
     ]
    },
    {
     "name": "stdout",
     "output_type": "stream",
     "text": [
      "[ Train | 003/300 ] loss = 1.85191, acc = 0.34559\n"
     ]
    },
    {
     "name": "stderr",
     "output_type": "stream",
     "text": [
      "V: 003/300: 100%|██████| 26/26 [00:02<00:00, 11.68it/s, v_loss=1.8, v_acc=0.369]\n"
     ]
    },
    {
     "name": "stdout",
     "output_type": "stream",
     "text": [
      "[ Valid | 003/300 ] loss = 1.80292, acc = 0.36882\n",
      "[ Valid | 003/300 ] loss = 1.80292, acc = 0.36882 -> best\n",
      "Best model found at fold 3 epoch 3, acc=0.36882, saving model\n"
     ]
    },
    {
     "name": "stderr",
     "output_type": "stream",
     "text": [
      "T: 004/300: 100%|█| 78/78 [00:08<00:00,  9.11it/s, lr=0.000378, b_loss=1.76, b_a\n"
     ]
    },
    {
     "name": "stdout",
     "output_type": "stream",
     "text": [
      "[ Train | 004/300 ] loss = 1.78179, acc = 0.37473\n"
     ]
    },
    {
     "name": "stderr",
     "output_type": "stream",
     "text": [
      "V: 004/300: 100%|█████| 26/26 [00:02<00:00, 10.87it/s, v_loss=2.16, v_acc=0.283]\n"
     ]
    },
    {
     "name": "stdout",
     "output_type": "stream",
     "text": [
      "[ Valid | 004/300 ] loss = 2.16383, acc = 0.28338\n",
      "[ Valid | 004/300 ] loss = 2.16383, acc = 0.28338\n"
     ]
    },
    {
     "name": "stderr",
     "output_type": "stream",
     "text": [
      "T: 005/300: 100%|█| 78/78 [00:08<00:00,  8.92it/s, lr=0.000362, b_loss=1.88, b_a\n"
     ]
    },
    {
     "name": "stdout",
     "output_type": "stream",
     "text": [
      "[ Train | 005/300 ] loss = 1.71003, acc = 0.39958\n"
     ]
    },
    {
     "name": "stderr",
     "output_type": "stream",
     "text": [
      "V: 005/300: 100%|█████| 26/26 [00:02<00:00, 10.90it/s, v_loss=1.86, v_acc=0.353]\n"
     ]
    },
    {
     "name": "stdout",
     "output_type": "stream",
     "text": [
      "[ Valid | 005/300 ] loss = 1.86338, acc = 0.35292\n",
      "[ Valid | 005/300 ] loss = 1.86338, acc = 0.35292\n"
     ]
    },
    {
     "name": "stderr",
     "output_type": "stream",
     "text": [
      "T: 006/300: 100%|█| 78/78 [00:08<00:00,  8.88it/s, lr=0.000341, b_loss=1.62, b_a\n"
     ]
    },
    {
     "name": "stdout",
     "output_type": "stream",
     "text": [
      "[ Train | 006/300 ] loss = 1.66114, acc = 0.42055\n"
     ]
    },
    {
     "name": "stderr",
     "output_type": "stream",
     "text": [
      "V: 006/300: 100%|█████| 26/26 [00:02<00:00, 11.78it/s, v_loss=2.12, v_acc=0.321]\n"
     ]
    },
    {
     "name": "stdout",
     "output_type": "stream",
     "text": [
      "[ Valid | 006/300 ] loss = 2.11722, acc = 0.32070\n",
      "[ Valid | 006/300 ] loss = 2.11722, acc = 0.32070\n"
     ]
    },
    {
     "name": "stderr",
     "output_type": "stream",
     "text": [
      "T: 007/300: 100%|█| 78/78 [00:08<00:00,  9.04it/s, lr=0.000318, b_loss=1.63, b_a\n"
     ]
    },
    {
     "name": "stdout",
     "output_type": "stream",
     "text": [
      "[ Train | 007/300 ] loss = 1.60325, acc = 0.44031\n"
     ]
    },
    {
     "name": "stderr",
     "output_type": "stream",
     "text": [
      "V: 007/300: 100%|█████| 26/26 [00:02<00:00, 11.90it/s, v_loss=1.63, v_acc=0.442]\n"
     ]
    },
    {
     "name": "stdout",
     "output_type": "stream",
     "text": [
      "[ Valid | 007/300 ] loss = 1.63035, acc = 0.44234\n",
      "[ Valid | 007/300 ] loss = 1.63035, acc = 0.44234 -> best\n",
      "Best model found at fold 3 epoch 7, acc=0.44234, saving model\n"
     ]
    },
    {
     "name": "stderr",
     "output_type": "stream",
     "text": [
      "T: 008/300: 100%|█| 78/78 [00:08<00:00,  9.10it/s, lr=0.000291, b_loss=1.5, b_ac\n"
     ]
    },
    {
     "name": "stdout",
     "output_type": "stream",
     "text": [
      "[ Train | 008/300 ] loss = 1.53853, acc = 0.46033\n"
     ]
    },
    {
     "name": "stderr",
     "output_type": "stream",
     "text": [
      "V: 008/300: 100%|█████| 26/26 [00:02<00:00, 11.32it/s, v_loss=1.74, v_acc=0.412]\n"
     ]
    },
    {
     "name": "stdout",
     "output_type": "stream",
     "text": [
      "[ Valid | 008/300 ] loss = 1.74156, acc = 0.41218\n",
      "[ Valid | 008/300 ] loss = 1.74156, acc = 0.41218\n"
     ]
    },
    {
     "name": "stderr",
     "output_type": "stream",
     "text": [
      "T: 009/300: 100%|█| 78/78 [00:08<00:00,  8.92it/s, lr=0.000262, b_loss=1.54, b_a\n"
     ]
    },
    {
     "name": "stdout",
     "output_type": "stream",
     "text": [
      "[ Train | 009/300 ] loss = 1.46877, acc = 0.49040\n"
     ]
    },
    {
     "name": "stderr",
     "output_type": "stream",
     "text": [
      "V: 009/300: 100%|█████| 26/26 [00:02<00:00, 11.39it/s, v_loss=1.77, v_acc=0.426]\n"
     ]
    },
    {
     "name": "stdout",
     "output_type": "stream",
     "text": [
      "[ Valid | 009/300 ] loss = 1.77294, acc = 0.42598\n",
      "[ Valid | 009/300 ] loss = 1.77294, acc = 0.42598\n"
     ]
    },
    {
     "name": "stderr",
     "output_type": "stream",
     "text": [
      "T: 010/300: 100%|█| 78/78 [00:08<00:00,  9.04it/s, lr=0.000231, b_loss=1.29, b_a\n"
     ]
    },
    {
     "name": "stdout",
     "output_type": "stream",
     "text": [
      "[ Train | 010/300 ] loss = 1.41820, acc = 0.50583\n"
     ]
    },
    {
     "name": "stderr",
     "output_type": "stream",
     "text": [
      "V: 010/300: 100%|█████| 26/26 [00:02<00:00, 12.45it/s, v_loss=1.47, v_acc=0.492]\n"
     ]
    },
    {
     "name": "stdout",
     "output_type": "stream",
     "text": [
      "[ Valid | 010/300 ] loss = 1.47280, acc = 0.49187\n",
      "[ Valid | 010/300 ] loss = 1.47280, acc = 0.49187 -> best\n",
      "Best model found at fold 3 epoch 10, acc=0.49187, saving model\n"
     ]
    },
    {
     "name": "stderr",
     "output_type": "stream",
     "text": [
      "T: 011/300: 100%|█| 78/78 [00:08<00:00,  9.27it/s, lr=0.0002, b_loss=1.4, b_acc=\n"
     ]
    },
    {
     "name": "stdout",
     "output_type": "stream",
     "text": [
      "[ Train | 011/300 ] loss = 1.37319, acc = 0.51555\n"
     ]
    },
    {
     "name": "stderr",
     "output_type": "stream",
     "text": [
      "V: 011/300: 100%|█████| 26/26 [00:02<00:00, 12.50it/s, v_loss=1.42, v_acc=0.525]\n"
     ]
    },
    {
     "name": "stdout",
     "output_type": "stream",
     "text": [
      "[ Valid | 011/300 ] loss = 1.41817, acc = 0.52498\n",
      "[ Valid | 011/300 ] loss = 1.41817, acc = 0.52498 -> best\n",
      "Best model found at fold 3 epoch 11, acc=0.52498, saving model\n"
     ]
    },
    {
     "name": "stderr",
     "output_type": "stream",
     "text": [
      "T: 012/300: 100%|█| 78/78 [00:08<00:00,  9.14it/s, lr=0.000169, b_loss=1.26, b_a\n"
     ]
    },
    {
     "name": "stdout",
     "output_type": "stream",
     "text": [
      "[ Train | 012/300 ] loss = 1.32435, acc = 0.53766\n"
     ]
    },
    {
     "name": "stderr",
     "output_type": "stream",
     "text": [
      "V: 012/300: 100%|█████| 26/26 [00:02<00:00, 12.37it/s, v_loss=1.36, v_acc=0.535]\n"
     ]
    },
    {
     "name": "stdout",
     "output_type": "stream",
     "text": [
      "[ Valid | 012/300 ] loss = 1.35810, acc = 0.53494\n",
      "[ Valid | 012/300 ] loss = 1.35810, acc = 0.53494 -> best\n",
      "Best model found at fold 3 epoch 12, acc=0.53494, saving model\n"
     ]
    },
    {
     "name": "stderr",
     "output_type": "stream",
     "text": [
      "T: 013/300: 100%|█| 78/78 [00:08<00:00,  9.29it/s, lr=0.000138, b_loss=1.3, b_ac\n"
     ]
    },
    {
     "name": "stdout",
     "output_type": "stream",
     "text": [
      "[ Train | 013/300 ] loss = 1.27982, acc = 0.55379\n"
     ]
    },
    {
     "name": "stderr",
     "output_type": "stream",
     "text": [
      "V: 013/300: 100%|█████| 26/26 [00:02<00:00, 12.47it/s, v_loss=1.23, v_acc=0.587]\n"
     ]
    },
    {
     "name": "stdout",
     "output_type": "stream",
     "text": [
      "[ Valid | 013/300 ] loss = 1.22603, acc = 0.58690\n",
      "[ Valid | 013/300 ] loss = 1.22603, acc = 0.58690 -> best\n",
      "Best model found at fold 3 epoch 13, acc=0.58690, saving model\n"
     ]
    },
    {
     "name": "stderr",
     "output_type": "stream",
     "text": [
      "T: 014/300: 100%|█| 78/78 [00:08<00:00,  9.19it/s, lr=0.000109, b_loss=1.3, b_ac\n"
     ]
    },
    {
     "name": "stdout",
     "output_type": "stream",
     "text": [
      "[ Train | 014/300 ] loss = 1.23195, acc = 0.57513\n"
     ]
    },
    {
     "name": "stderr",
     "output_type": "stream",
     "text": [
      "V: 014/300: 100%|██████| 26/26 [00:02<00:00, 11.20it/s, v_loss=1.39, v_acc=0.53]\n"
     ]
    },
    {
     "name": "stdout",
     "output_type": "stream",
     "text": [
      "[ Valid | 014/300 ] loss = 1.38798, acc = 0.53039\n",
      "[ Valid | 014/300 ] loss = 1.38798, acc = 0.53039\n"
     ]
    },
    {
     "name": "stderr",
     "output_type": "stream",
     "text": [
      "T: 015/300: 100%|█| 78/78 [00:08<00:00,  9.06it/s, lr=8.24e-5, b_loss=1.08, b_ac\n"
     ]
    },
    {
     "name": "stdout",
     "output_type": "stream",
     "text": [
      "[ Train | 015/300 ] loss = 1.18677, acc = 0.58673\n"
     ]
    },
    {
     "name": "stderr",
     "output_type": "stream",
     "text": [
      "V: 015/300: 100%|█████| 26/26 [00:02<00:00, 11.14it/s, v_loss=1.22, v_acc=0.586]\n"
     ]
    },
    {
     "name": "stdout",
     "output_type": "stream",
     "text": [
      "[ Valid | 015/300 ] loss = 1.21740, acc = 0.58600\n",
      "[ Valid | 015/300 ] loss = 1.21740, acc = 0.58600\n"
     ]
    },
    {
     "name": "stderr",
     "output_type": "stream",
     "text": [
      "T: 016/300: 100%|█| 78/78 [00:08<00:00,  8.87it/s, lr=5.86e-5, b_loss=1.1, b_acc\n"
     ]
    },
    {
     "name": "stdout",
     "output_type": "stream",
     "text": [
      "[ Train | 016/300 ] loss = 1.16486, acc = 0.59178\n"
     ]
    },
    {
     "name": "stderr",
     "output_type": "stream",
     "text": [
      "V: 016/300: 100%|█████| 26/26 [00:02<00:00, 11.88it/s, v_loss=1.21, v_acc=0.597]\n"
     ]
    },
    {
     "name": "stdout",
     "output_type": "stream",
     "text": [
      "[ Valid | 016/300 ] loss = 1.20674, acc = 0.59654\n",
      "[ Valid | 016/300 ] loss = 1.20674, acc = 0.59654 -> best\n",
      "Best model found at fold 3 epoch 16, acc=0.59654, saving model\n"
     ]
    },
    {
     "name": "stderr",
     "output_type": "stream",
     "text": [
      "T: 017/300: 100%|█| 78/78 [00:08<00:00,  9.05it/s, lr=3.82e-5, b_loss=1.15, b_ac\n"
     ]
    },
    {
     "name": "stdout",
     "output_type": "stream",
     "text": [
      "[ Train | 017/300 ] loss = 1.12962, acc = 0.60128\n"
     ]
    },
    {
     "name": "stderr",
     "output_type": "stream",
     "text": [
      "V: 017/300: 100%|█████| 26/26 [00:02<00:00, 12.65it/s, v_loss=1.11, v_acc=0.621]\n"
     ]
    },
    {
     "name": "stdout",
     "output_type": "stream",
     "text": [
      "[ Valid | 017/300 ] loss = 1.10943, acc = 0.62064\n",
      "[ Valid | 017/300 ] loss = 1.10943, acc = 0.62064 -> best\n",
      "Best model found at fold 3 epoch 17, acc=0.62064, saving model\n"
     ]
    },
    {
     "name": "stderr",
     "output_type": "stream",
     "text": [
      "T: 018/300: 100%|█| 78/78 [00:08<00:00,  9.25it/s, lr=2.18e-5, b_loss=0.857, b_a\n"
     ]
    },
    {
     "name": "stdout",
     "output_type": "stream",
     "text": [
      "[ Train | 018/300 ] loss = 1.09730, acc = 0.61499\n"
     ]
    },
    {
     "name": "stderr",
     "output_type": "stream",
     "text": [
      "V: 018/300: 100%|█████| 26/26 [00:02<00:00, 11.77it/s, v_loss=1.09, v_acc=0.628]\n"
     ]
    },
    {
     "name": "stdout",
     "output_type": "stream",
     "text": [
      "[ Valid | 018/300 ] loss = 1.08793, acc = 0.62837\n",
      "[ Valid | 018/300 ] loss = 1.08793, acc = 0.62837 -> best\n",
      "Best model found at fold 3 epoch 18, acc=0.62837, saving model\n"
     ]
    },
    {
     "name": "stderr",
     "output_type": "stream",
     "text": [
      "T: 019/300: 100%|█| 78/78 [00:08<00:00,  8.85it/s, lr=9.79e-6, b_loss=1, b_acc=0\n"
     ]
    },
    {
     "name": "stdout",
     "output_type": "stream",
     "text": [
      "[ Train | 019/300 ] loss = 1.08495, acc = 0.62935\n"
     ]
    },
    {
     "name": "stderr",
     "output_type": "stream",
     "text": [
      "V: 019/300: 100%|██████| 26/26 [00:02<00:00, 11.23it/s, v_loss=1.07, v_acc=0.63]\n"
     ]
    },
    {
     "name": "stdout",
     "output_type": "stream",
     "text": [
      "[ Valid | 019/300 ] loss = 1.07430, acc = 0.62998\n",
      "[ Valid | 019/300 ] loss = 1.07430, acc = 0.62998 -> best\n",
      "Best model found at fold 3 epoch 19, acc=0.62998, saving model\n"
     ]
    },
    {
     "name": "stderr",
     "output_type": "stream",
     "text": [
      "T: 020/300: 100%|█| 78/78 [00:08<00:00,  9.18it/s, lr=2.46e-6, b_loss=0.976, b_a\n"
     ]
    },
    {
     "name": "stdout",
     "output_type": "stream",
     "text": [
      "[ Train | 020/300 ] loss = 1.08174, acc = 0.62689\n"
     ]
    },
    {
     "name": "stderr",
     "output_type": "stream",
     "text": [
      "V: 020/300: 100%|██████| 26/26 [00:02<00:00,  9.84it/s, v_loss=1.08, v_acc=0.63]\n"
     ]
    },
    {
     "name": "stdout",
     "output_type": "stream",
     "text": [
      "[ Valid | 020/300 ] loss = 1.07718, acc = 0.63004\n",
      "[ Valid | 020/300 ] loss = 1.07718, acc = 0.63004 -> best\n",
      "Best model found at fold 3 epoch 20, acc=0.63004, saving model\n"
     ]
    },
    {
     "name": "stderr",
     "output_type": "stream",
     "text": [
      "T: 021/300: 100%|█| 78/78 [00:08<00:00,  8.71it/s, lr=0.0004, b_loss=1.51, b_acc\n"
     ]
    },
    {
     "name": "stdout",
     "output_type": "stream",
     "text": [
      "[ Train | 021/300 ] loss = 1.37412, acc = 0.53012\n"
     ]
    },
    {
     "name": "stderr",
     "output_type": "stream",
     "text": [
      "V: 021/300: 100%|█████| 26/26 [00:02<00:00, 11.37it/s, v_loss=1.46, v_acc=0.504]\n"
     ]
    },
    {
     "name": "stdout",
     "output_type": "stream",
     "text": [
      "[ Valid | 021/300 ] loss = 1.46134, acc = 0.50450\n",
      "[ Valid | 021/300 ] loss = 1.46134, acc = 0.50450\n"
     ]
    },
    {
     "name": "stderr",
     "output_type": "stream",
     "text": [
      "T: 022/300: 100%|█| 78/78 [00:08<00:00,  8.86it/s, lr=0.000398, b_loss=1.37, b_a\n"
     ]
    },
    {
     "name": "stdout",
     "output_type": "stream",
     "text": [
      "[ Train | 022/300 ] loss = 1.33172, acc = 0.53756\n"
     ]
    },
    {
     "name": "stderr",
     "output_type": "stream",
     "text": [
      "V: 022/300: 100%|█████| 26/26 [00:02<00:00, 10.23it/s, v_loss=1.35, v_acc=0.547]\n"
     ]
    },
    {
     "name": "stdout",
     "output_type": "stream",
     "text": [
      "[ Valid | 022/300 ] loss = 1.35377, acc = 0.54651\n",
      "[ Valid | 022/300 ] loss = 1.35377, acc = 0.54651\n"
     ]
    },
    {
     "name": "stderr",
     "output_type": "stream",
     "text": [
      "T: 023/300: 100%|█| 78/78 [00:08<00:00,  9.00it/s, lr=0.00039, b_loss=1.35, b_ac\n"
     ]
    },
    {
     "name": "stdout",
     "output_type": "stream",
     "text": [
      "[ Train | 023/300 ] loss = 1.27337, acc = 0.56555\n"
     ]
    },
    {
     "name": "stderr",
     "output_type": "stream",
     "text": [
      "V: 023/300: 100%|█████| 26/26 [00:02<00:00, 11.56it/s, v_loss=1.69, v_acc=0.476]\n"
     ]
    },
    {
     "name": "stdout",
     "output_type": "stream",
     "text": [
      "[ Valid | 023/300 ] loss = 1.68843, acc = 0.47625\n",
      "[ Valid | 023/300 ] loss = 1.68843, acc = 0.47625\n"
     ]
    },
    {
     "name": "stderr",
     "output_type": "stream",
     "text": [
      "T: 024/300: 100%|█| 78/78 [00:08<00:00,  8.89it/s, lr=0.000378, b_loss=1.31, b_a\n"
     ]
    },
    {
     "name": "stdout",
     "output_type": "stream",
     "text": [
      "[ Train | 024/300 ] loss = 1.23881, acc = 0.57398\n"
     ]
    },
    {
     "name": "stderr",
     "output_type": "stream",
     "text": [
      "V: 024/300: 100%|█████| 26/26 [00:02<00:00, 10.51it/s, v_loss=1.41, v_acc=0.522]\n"
     ]
    },
    {
     "name": "stdout",
     "output_type": "stream",
     "text": [
      "[ Valid | 024/300 ] loss = 1.41371, acc = 0.52226\n",
      "[ Valid | 024/300 ] loss = 1.41371, acc = 0.52226\n"
     ]
    },
    {
     "name": "stderr",
     "output_type": "stream",
     "text": [
      "T: 025/300: 100%|█| 78/78 [00:08<00:00,  9.05it/s, lr=0.000362, b_loss=1.33, b_a\n"
     ]
    },
    {
     "name": "stdout",
     "output_type": "stream",
     "text": [
      "[ Train | 025/300 ] loss = 1.22253, acc = 0.57831\n"
     ]
    },
    {
     "name": "stderr",
     "output_type": "stream",
     "text": [
      "V: 025/300: 100%|█████| 26/26 [00:02<00:00, 11.45it/s, v_loss=1.44, v_acc=0.521]\n"
     ]
    },
    {
     "name": "stdout",
     "output_type": "stream",
     "text": [
      "[ Valid | 025/300 ] loss = 1.43543, acc = 0.52133\n",
      "[ Valid | 025/300 ] loss = 1.43543, acc = 0.52133\n"
     ]
    },
    {
     "name": "stderr",
     "output_type": "stream",
     "text": [
      "T: 026/300: 100%|█| 78/78 [00:08<00:00,  8.95it/s, lr=0.000341, b_loss=1.21, b_a\n"
     ]
    },
    {
     "name": "stdout",
     "output_type": "stream",
     "text": [
      "[ Train | 026/300 ] loss = 1.17552, acc = 0.59404\n"
     ]
    },
    {
     "name": "stderr",
     "output_type": "stream",
     "text": [
      "V: 026/300: 100%|█████| 26/26 [00:02<00:00, 11.31it/s, v_loss=1.31, v_acc=0.558]\n"
     ]
    },
    {
     "name": "stdout",
     "output_type": "stream",
     "text": [
      "[ Valid | 026/300 ] loss = 1.31105, acc = 0.55805\n",
      "[ Valid | 026/300 ] loss = 1.31105, acc = 0.55805\n"
     ]
    },
    {
     "name": "stderr",
     "output_type": "stream",
     "text": [
      "T: 027/300: 100%|█| 78/78 [00:08<00:00,  8.94it/s, lr=0.000318, b_loss=1.3, b_ac\n"
     ]
    },
    {
     "name": "stdout",
     "output_type": "stream",
     "text": [
      "[ Train | 027/300 ] loss = 1.14019, acc = 0.60774\n"
     ]
    },
    {
     "name": "stderr",
     "output_type": "stream",
     "text": [
      "V: 027/300: 100%|█████| 26/26 [00:02<00:00, 11.83it/s, v_loss=1.19, v_acc=0.598]\n"
     ]
    },
    {
     "name": "stdout",
     "output_type": "stream",
     "text": [
      "[ Valid | 027/300 ] loss = 1.18606, acc = 0.59757\n",
      "[ Valid | 027/300 ] loss = 1.18606, acc = 0.59757\n"
     ]
    },
    {
     "name": "stderr",
     "output_type": "stream",
     "text": [
      "T: 028/300: 100%|█| 78/78 [00:08<00:00,  9.00it/s, lr=0.000291, b_loss=1.05, b_a\n"
     ]
    },
    {
     "name": "stdout",
     "output_type": "stream",
     "text": [
      "[ Train | 028/300 ] loss = 1.12493, acc = 0.61324\n"
     ]
    },
    {
     "name": "stderr",
     "output_type": "stream",
     "text": [
      "V: 028/300: 100%|██████| 26/26 [00:02<00:00, 11.07it/s, v_loss=1.39, v_acc=0.53]\n"
     ]
    },
    {
     "name": "stdout",
     "output_type": "stream",
     "text": [
      "[ Valid | 028/300 ] loss = 1.39210, acc = 0.53041\n",
      "[ Valid | 028/300 ] loss = 1.39210, acc = 0.53041\n"
     ]
    },
    {
     "name": "stderr",
     "output_type": "stream",
     "text": [
      "T: 029/300: 100%|█| 78/78 [00:08<00:00,  9.04it/s, lr=0.000262, b_loss=1.08, b_a\n"
     ]
    },
    {
     "name": "stdout",
     "output_type": "stream",
     "text": [
      "[ Train | 029/300 ] loss = 1.09180, acc = 0.62837\n"
     ]
    },
    {
     "name": "stderr",
     "output_type": "stream",
     "text": [
      "V: 029/300: 100%|█████| 26/26 [00:02<00:00, 11.65it/s, v_loss=1.23, v_acc=0.593]\n"
     ]
    },
    {
     "name": "stdout",
     "output_type": "stream",
     "text": [
      "[ Valid | 029/300 ] loss = 1.23245, acc = 0.59299\n",
      "[ Valid | 029/300 ] loss = 1.23245, acc = 0.59299\n"
     ]
    },
    {
     "name": "stderr",
     "output_type": "stream",
     "text": [
      "T: 030/300: 100%|█| 78/78 [00:08<00:00,  8.98it/s, lr=0.000231, b_loss=1.06, b_a\n"
     ]
    },
    {
     "name": "stdout",
     "output_type": "stream",
     "text": [
      "[ Train | 030/300 ] loss = 1.05217, acc = 0.63858\n"
     ]
    },
    {
     "name": "stderr",
     "output_type": "stream",
     "text": [
      "V: 030/300: 100%|█████| 26/26 [00:02<00:00, 11.35it/s, v_loss=1.15, v_acc=0.609]\n"
     ]
    },
    {
     "name": "stdout",
     "output_type": "stream",
     "text": [
      "[ Valid | 030/300 ] loss = 1.15001, acc = 0.60919\n",
      "[ Valid | 030/300 ] loss = 1.15001, acc = 0.60919\n"
     ]
    },
    {
     "name": "stderr",
     "output_type": "stream",
     "text": [
      "T: 031/300: 100%|█| 78/78 [00:08<00:00,  8.79it/s, lr=0.0002, b_loss=1.05, b_acc\n"
     ]
    },
    {
     "name": "stdout",
     "output_type": "stream",
     "text": [
      "[ Train | 031/300 ] loss = 1.01785, acc = 0.65092\n"
     ]
    },
    {
     "name": "stderr",
     "output_type": "stream",
     "text": [
      "V: 031/300: 100%|█████| 26/26 [00:02<00:00, 10.88it/s, v_loss=1.08, v_acc=0.637]\n"
     ]
    },
    {
     "name": "stdout",
     "output_type": "stream",
     "text": [
      "[ Valid | 031/300 ] loss = 1.07837, acc = 0.63678\n",
      "[ Valid | 031/300 ] loss = 1.07837, acc = 0.63678 -> best\n",
      "Best model found at fold 3 epoch 31, acc=0.63678, saving model\n"
     ]
    },
    {
     "name": "stderr",
     "output_type": "stream",
     "text": [
      "T: 032/300: 100%|█| 78/78 [00:08<00:00,  9.00it/s, lr=0.000169, b_loss=1.04, b_a\n"
     ]
    },
    {
     "name": "stdout",
     "output_type": "stream",
     "text": [
      "[ Train | 032/300 ] loss = 0.99495, acc = 0.65260\n"
     ]
    },
    {
     "name": "stderr",
     "output_type": "stream",
     "text": [
      "V: 032/300: 100%|██████| 26/26 [00:02<00:00, 11.48it/s, v_loss=1.18, v_acc=0.61]\n"
     ]
    },
    {
     "name": "stdout",
     "output_type": "stream",
     "text": [
      "[ Valid | 032/300 ] loss = 1.18344, acc = 0.60972\n",
      "[ Valid | 032/300 ] loss = 1.18344, acc = 0.60972\n"
     ]
    },
    {
     "name": "stderr",
     "output_type": "stream",
     "text": [
      "T: 033/300: 100%|█| 78/78 [00:08<00:00,  8.78it/s, lr=0.000138, b_loss=0.903, b_\n"
     ]
    },
    {
     "name": "stdout",
     "output_type": "stream",
     "text": [
      "[ Train | 033/300 ] loss = 0.94858, acc = 0.67111\n"
     ]
    },
    {
     "name": "stderr",
     "output_type": "stream",
     "text": [
      "V: 033/300: 100%|█████| 26/26 [00:02<00:00, 10.74it/s, v_loss=1.14, v_acc=0.628]\n"
     ]
    },
    {
     "name": "stdout",
     "output_type": "stream",
     "text": [
      "[ Valid | 033/300 ] loss = 1.13762, acc = 0.62789\n",
      "[ Valid | 033/300 ] loss = 1.13762, acc = 0.62789\n"
     ]
    },
    {
     "name": "stderr",
     "output_type": "stream",
     "text": [
      "T: 034/300: 100%|█| 78/78 [00:08<00:00,  8.77it/s, lr=0.000109, b_loss=0.797, b_\n"
     ]
    },
    {
     "name": "stdout",
     "output_type": "stream",
     "text": [
      "[ Train | 034/300 ] loss = 0.93754, acc = 0.67675\n"
     ]
    },
    {
     "name": "stderr",
     "output_type": "stream",
     "text": [
      "V: 034/300: 100%|████| 26/26 [00:02<00:00, 11.25it/s, v_loss=0.964, v_acc=0.667]\n"
     ]
    },
    {
     "name": "stdout",
     "output_type": "stream",
     "text": [
      "[ Valid | 034/300 ] loss = 0.96370, acc = 0.66725\n",
      "[ Valid | 034/300 ] loss = 0.96370, acc = 0.66725 -> best\n",
      "Best model found at fold 3 epoch 34, acc=0.66725, saving model\n"
     ]
    },
    {
     "name": "stderr",
     "output_type": "stream",
     "text": [
      "T: 035/300: 100%|█| 78/78 [00:08<00:00,  8.95it/s, lr=8.24e-5, b_loss=0.829, b_a\n"
     ]
    },
    {
     "name": "stdout",
     "output_type": "stream",
     "text": [
      "[ Train | 035/300 ] loss = 0.90159, acc = 0.68643\n"
     ]
    },
    {
     "name": "stderr",
     "output_type": "stream",
     "text": [
      "V: 035/300: 100%|████| 26/26 [00:02<00:00, 11.15it/s, v_loss=0.933, v_acc=0.677]\n"
     ]
    },
    {
     "name": "stdout",
     "output_type": "stream",
     "text": [
      "[ Valid | 035/300 ] loss = 0.93296, acc = 0.67742\n",
      "[ Valid | 035/300 ] loss = 0.93296, acc = 0.67742 -> best\n",
      "Best model found at fold 3 epoch 35, acc=0.67742, saving model\n"
     ]
    },
    {
     "name": "stderr",
     "output_type": "stream",
     "text": [
      "T: 036/300: 100%|█| 78/78 [00:08<00:00,  8.77it/s, lr=5.86e-5, b_loss=0.842, b_a\n"
     ]
    },
    {
     "name": "stdout",
     "output_type": "stream",
     "text": [
      "[ Train | 036/300 ] loss = 0.87197, acc = 0.69911\n"
     ]
    },
    {
     "name": "stderr",
     "output_type": "stream",
     "text": [
      "V: 036/300: 100%|████| 26/26 [00:02<00:00, 12.42it/s, v_loss=0.948, v_acc=0.674]\n"
     ]
    },
    {
     "name": "stdout",
     "output_type": "stream",
     "text": [
      "[ Valid | 036/300 ] loss = 0.94830, acc = 0.67358\n",
      "[ Valid | 036/300 ] loss = 0.94830, acc = 0.67358\n"
     ]
    },
    {
     "name": "stderr",
     "output_type": "stream",
     "text": [
      "T: 037/300: 100%|█| 78/78 [00:08<00:00,  8.77it/s, lr=3.82e-5, b_loss=0.943, b_a\n"
     ]
    },
    {
     "name": "stdout",
     "output_type": "stream",
     "text": [
      "[ Train | 037/300 ] loss = 0.85389, acc = 0.70169\n"
     ]
    },
    {
     "name": "stderr",
     "output_type": "stream",
     "text": [
      "V: 037/300: 100%|████| 26/26 [00:02<00:00, 12.30it/s, v_loss=0.903, v_acc=0.697]\n"
     ]
    },
    {
     "name": "stdout",
     "output_type": "stream",
     "text": [
      "[ Valid | 037/300 ] loss = 0.90342, acc = 0.69680\n",
      "[ Valid | 037/300 ] loss = 0.90342, acc = 0.69680 -> best\n",
      "Best model found at fold 3 epoch 37, acc=0.69680, saving model\n"
     ]
    },
    {
     "name": "stderr",
     "output_type": "stream",
     "text": [
      "T: 038/300: 100%|█| 78/78 [00:08<00:00,  8.92it/s, lr=2.18e-5, b_loss=0.729, b_a\n"
     ]
    },
    {
     "name": "stdout",
     "output_type": "stream",
     "text": [
      "[ Train | 038/300 ] loss = 0.84735, acc = 0.70940\n"
     ]
    },
    {
     "name": "stderr",
     "output_type": "stream",
     "text": [
      "V: 038/300: 100%|████| 26/26 [00:02<00:00, 12.00it/s, v_loss=0.872, v_acc=0.703]\n"
     ]
    },
    {
     "name": "stdout",
     "output_type": "stream",
     "text": [
      "[ Valid | 038/300 ] loss = 0.87196, acc = 0.70274\n",
      "[ Valid | 038/300 ] loss = 0.87196, acc = 0.70274 -> best\n",
      "Best model found at fold 3 epoch 38, acc=0.70274, saving model\n"
     ]
    },
    {
     "name": "stderr",
     "output_type": "stream",
     "text": [
      "T: 039/300: 100%|█| 78/78 [00:08<00:00,  9.18it/s, lr=9.79e-6, b_loss=0.82, b_ac\n"
     ]
    },
    {
     "name": "stdout",
     "output_type": "stream",
     "text": [
      "[ Train | 039/300 ] loss = 0.81987, acc = 0.71860\n"
     ]
    },
    {
     "name": "stderr",
     "output_type": "stream",
     "text": [
      "V: 039/300: 100%|████| 26/26 [00:02<00:00, 10.86it/s, v_loss=0.871, v_acc=0.708]\n"
     ]
    },
    {
     "name": "stdout",
     "output_type": "stream",
     "text": [
      "[ Valid | 039/300 ] loss = 0.87096, acc = 0.70842\n",
      "[ Valid | 039/300 ] loss = 0.87096, acc = 0.70842 -> best\n",
      "Best model found at fold 3 epoch 39, acc=0.70842, saving model\n"
     ]
    },
    {
     "name": "stderr",
     "output_type": "stream",
     "text": [
      "T: 040/300: 100%|█| 78/78 [00:08<00:00,  8.98it/s, lr=2.46e-6, b_loss=0.901, b_a\n"
     ]
    },
    {
     "name": "stdout",
     "output_type": "stream",
     "text": [
      "[ Train | 040/300 ] loss = 0.81502, acc = 0.72220\n"
     ]
    },
    {
     "name": "stderr",
     "output_type": "stream",
     "text": [
      "V: 040/300: 100%|████| 26/26 [00:02<00:00, 11.46it/s, v_loss=0.866, v_acc=0.707]\n"
     ]
    },
    {
     "name": "stdout",
     "output_type": "stream",
     "text": [
      "[ Valid | 040/300 ] loss = 0.86623, acc = 0.70726\n",
      "[ Valid | 040/300 ] loss = 0.86623, acc = 0.70726\n"
     ]
    },
    {
     "name": "stderr",
     "output_type": "stream",
     "text": [
      "T: 041/300: 100%|█| 78/78 [00:08<00:00,  9.10it/s, lr=0.0004, b_loss=1.12, b_acc\n"
     ]
    },
    {
     "name": "stdout",
     "output_type": "stream",
     "text": [
      "[ Train | 041/300 ] loss = 1.08054, acc = 0.62579\n"
     ]
    },
    {
     "name": "stderr",
     "output_type": "stream",
     "text": [
      "V: 041/300: 100%|█████| 26/26 [00:02<00:00, 11.33it/s, v_loss=1.26, v_acc=0.589]\n"
     ]
    },
    {
     "name": "stdout",
     "output_type": "stream",
     "text": [
      "[ Valid | 041/300 ] loss = 1.25703, acc = 0.58934\n",
      "[ Valid | 041/300 ] loss = 1.25703, acc = 0.58934\n"
     ]
    },
    {
     "name": "stderr",
     "output_type": "stream",
     "text": [
      "T: 042/300: 100%|█| 78/78 [00:08<00:00,  8.88it/s, lr=0.000398, b_loss=1.25, b_a\n"
     ]
    },
    {
     "name": "stdout",
     "output_type": "stream",
     "text": [
      "[ Train | 042/300 ] loss = 1.07699, acc = 0.63090\n"
     ]
    },
    {
     "name": "stderr",
     "output_type": "stream",
     "text": [
      "V: 042/300: 100%|█████| 26/26 [00:02<00:00, 10.90it/s, v_loss=1.19, v_acc=0.604]\n"
     ]
    },
    {
     "name": "stdout",
     "output_type": "stream",
     "text": [
      "[ Valid | 042/300 ] loss = 1.19447, acc = 0.60410\n",
      "[ Valid | 042/300 ] loss = 1.19447, acc = 0.60410\n"
     ]
    },
    {
     "name": "stderr",
     "output_type": "stream",
     "text": [
      "T: 043/300: 100%|█| 78/78 [00:08<00:00,  8.99it/s, lr=0.00039, b_loss=0.948, b_a\n"
     ]
    },
    {
     "name": "stdout",
     "output_type": "stream",
     "text": [
      "[ Train | 043/300 ] loss = 1.06187, acc = 0.63568\n"
     ]
    },
    {
     "name": "stderr",
     "output_type": "stream",
     "text": [
      "V: 043/300: 100%|█████| 26/26 [00:02<00:00, 11.33it/s, v_loss=1.15, v_acc=0.616]\n"
     ]
    },
    {
     "name": "stdout",
     "output_type": "stream",
     "text": [
      "[ Valid | 043/300 ] loss = 1.14910, acc = 0.61619\n",
      "[ Valid | 043/300 ] loss = 1.14910, acc = 0.61619\n"
     ]
    },
    {
     "name": "stderr",
     "output_type": "stream",
     "text": [
      "T: 044/300: 100%|█| 78/78 [00:08<00:00,  9.04it/s, lr=0.000378, b_loss=1.28, b_a\n"
     ]
    },
    {
     "name": "stdout",
     "output_type": "stream",
     "text": [
      "[ Train | 044/300 ] loss = 1.02949, acc = 0.64190\n"
     ]
    },
    {
     "name": "stderr",
     "output_type": "stream",
     "text": [
      "V: 044/300: 100%|██████| 26/26 [00:02<00:00, 11.36it/s, v_loss=1.2, v_acc=0.591]\n"
     ]
    },
    {
     "name": "stdout",
     "output_type": "stream",
     "text": [
      "[ Valid | 044/300 ] loss = 1.20204, acc = 0.59143\n",
      "[ Valid | 044/300 ] loss = 1.20204, acc = 0.59143\n"
     ]
    },
    {
     "name": "stderr",
     "output_type": "stream",
     "text": [
      "T: 045/300: 100%|█| 78/78 [00:08<00:00,  8.87it/s, lr=0.000362, b_loss=0.857, b_\n"
     ]
    },
    {
     "name": "stdout",
     "output_type": "stream",
     "text": [
      "[ Train | 045/300 ] loss = 0.99959, acc = 0.65276\n"
     ]
    },
    {
     "name": "stderr",
     "output_type": "stream",
     "text": [
      "V: 045/300: 100%|█████| 26/26 [00:02<00:00, 12.13it/s, v_loss=1.15, v_acc=0.613]\n"
     ]
    },
    {
     "name": "stdout",
     "output_type": "stream",
     "text": [
      "[ Valid | 045/300 ] loss = 1.15024, acc = 0.61316\n",
      "[ Valid | 045/300 ] loss = 1.15024, acc = 0.61316\n"
     ]
    },
    {
     "name": "stderr",
     "output_type": "stream",
     "text": [
      "T: 046/300: 100%|█| 78/78 [00:08<00:00,  9.11it/s, lr=0.000341, b_loss=0.997, b_\n"
     ]
    },
    {
     "name": "stdout",
     "output_type": "stream",
     "text": [
      "[ Train | 046/300 ] loss = 0.99553, acc = 0.65424\n"
     ]
    },
    {
     "name": "stderr",
     "output_type": "stream",
     "text": [
      "V: 046/300: 100%|████| 26/26 [00:02<00:00, 11.06it/s, v_loss=0.959, v_acc=0.679]\n"
     ]
    },
    {
     "name": "stdout",
     "output_type": "stream",
     "text": [
      "[ Valid | 046/300 ] loss = 0.95950, acc = 0.67868\n",
      "[ Valid | 046/300 ] loss = 0.95950, acc = 0.67868\n"
     ]
    },
    {
     "name": "stderr",
     "output_type": "stream",
     "text": [
      "T: 047/300: 100%|█| 78/78 [00:08<00:00,  9.04it/s, lr=0.000318, b_loss=0.955, b_\n"
     ]
    },
    {
     "name": "stdout",
     "output_type": "stream",
     "text": [
      "[ Train | 047/300 ] loss = 0.94834, acc = 0.67183\n"
     ]
    },
    {
     "name": "stderr",
     "output_type": "stream",
     "text": [
      "V: 047/300: 100%|█████| 26/26 [00:02<00:00, 11.05it/s, v_loss=1.22, v_acc=0.603]\n"
     ]
    },
    {
     "name": "stdout",
     "output_type": "stream",
     "text": [
      "[ Valid | 047/300 ] loss = 1.22093, acc = 0.60320\n",
      "[ Valid | 047/300 ] loss = 1.22093, acc = 0.60320\n"
     ]
    },
    {
     "name": "stderr",
     "output_type": "stream",
     "text": [
      "T: 048/300: 100%|█| 78/78 [00:08<00:00,  8.87it/s, lr=0.000291, b_loss=0.96, b_a\n"
     ]
    },
    {
     "name": "stdout",
     "output_type": "stream",
     "text": [
      "[ Train | 048/300 ] loss = 0.92956, acc = 0.67818\n"
     ]
    },
    {
     "name": "stderr",
     "output_type": "stream",
     "text": [
      "V: 048/300: 100%|█████| 26/26 [00:02<00:00, 12.45it/s, v_loss=1.35, v_acc=0.573]\n"
     ]
    },
    {
     "name": "stdout",
     "output_type": "stream",
     "text": [
      "[ Valid | 048/300 ] loss = 1.35434, acc = 0.57335\n",
      "[ Valid | 048/300 ] loss = 1.35434, acc = 0.57335\n"
     ]
    },
    {
     "name": "stderr",
     "output_type": "stream",
     "text": [
      "T: 049/300: 100%|█| 78/78 [00:09<00:00,  8.64it/s, lr=0.000262, b_loss=0.989, b_\n"
     ]
    },
    {
     "name": "stdout",
     "output_type": "stream",
     "text": [
      "[ Train | 049/300 ] loss = 0.89809, acc = 0.68948\n"
     ]
    },
    {
     "name": "stderr",
     "output_type": "stream",
     "text": [
      "V: 049/300: 100%|█████| 26/26 [00:02<00:00, 11.87it/s, v_loss=1.03, v_acc=0.648]\n"
     ]
    },
    {
     "name": "stdout",
     "output_type": "stream",
     "text": [
      "[ Valid | 049/300 ] loss = 1.02906, acc = 0.64837\n",
      "[ Valid | 049/300 ] loss = 1.02906, acc = 0.64837\n"
     ]
    },
    {
     "name": "stderr",
     "output_type": "stream",
     "text": [
      "T: 050/300: 100%|█| 78/78 [00:08<00:00,  9.03it/s, lr=0.000231, b_loss=0.974, b_\n"
     ]
    },
    {
     "name": "stdout",
     "output_type": "stream",
     "text": [
      "[ Train | 050/300 ] loss = 0.87443, acc = 0.69592\n"
     ]
    },
    {
     "name": "stderr",
     "output_type": "stream",
     "text": [
      "V: 050/300: 100%|██████| 26/26 [00:02<00:00, 11.56it/s, v_loss=1.03, v_acc=0.66]\n"
     ]
    },
    {
     "name": "stdout",
     "output_type": "stream",
     "text": [
      "[ Valid | 050/300 ] loss = 1.02529, acc = 0.65996\n",
      "[ Valid | 050/300 ] loss = 1.02529, acc = 0.65996\n"
     ]
    },
    {
     "name": "stderr",
     "output_type": "stream",
     "text": [
      "T: 051/300: 100%|█| 78/78 [00:08<00:00,  9.03it/s, lr=0.0002, b_loss=0.894, b_ac\n"
     ]
    },
    {
     "name": "stdout",
     "output_type": "stream",
     "text": [
      "[ Train | 051/300 ] loss = 0.83542, acc = 0.71237\n"
     ]
    },
    {
     "name": "stderr",
     "output_type": "stream",
     "text": [
      "V: 051/300: 100%|█████| 26/26 [00:02<00:00, 12.09it/s, v_loss=1.01, v_acc=0.664]\n"
     ]
    },
    {
     "name": "stdout",
     "output_type": "stream",
     "text": [
      "[ Valid | 051/300 ] loss = 1.01138, acc = 0.66360\n",
      "[ Valid | 051/300 ] loss = 1.01138, acc = 0.66360\n"
     ]
    },
    {
     "name": "stderr",
     "output_type": "stream",
     "text": [
      "T: 052/300: 100%|█| 78/78 [00:08<00:00,  8.82it/s, lr=0.000169, b_loss=0.833, b_\n"
     ]
    },
    {
     "name": "stdout",
     "output_type": "stream",
     "text": [
      "[ Train | 052/300 ] loss = 0.82985, acc = 0.71312\n"
     ]
    },
    {
     "name": "stderr",
     "output_type": "stream",
     "text": [
      "V: 052/300: 100%|████| 26/26 [00:02<00:00, 11.49it/s, v_loss=0.921, v_acc=0.693]\n"
     ]
    },
    {
     "name": "stdout",
     "output_type": "stream",
     "text": [
      "[ Valid | 052/300 ] loss = 0.92052, acc = 0.69286\n",
      "[ Valid | 052/300 ] loss = 0.92052, acc = 0.69286\n"
     ]
    },
    {
     "name": "stderr",
     "output_type": "stream",
     "text": [
      "T: 053/300: 100%|█| 78/78 [00:08<00:00,  8.75it/s, lr=0.000138, b_loss=0.715, b_\n"
     ]
    },
    {
     "name": "stdout",
     "output_type": "stream",
     "text": [
      "[ Train | 053/300 ] loss = 0.79761, acc = 0.72669\n"
     ]
    },
    {
     "name": "stderr",
     "output_type": "stream",
     "text": [
      "V: 053/300: 100%|████| 26/26 [00:02<00:00, 11.19it/s, v_loss=0.973, v_acc=0.679]\n"
     ]
    },
    {
     "name": "stdout",
     "output_type": "stream",
     "text": [
      "[ Valid | 053/300 ] loss = 0.97349, acc = 0.67874\n",
      "[ Valid | 053/300 ] loss = 0.97349, acc = 0.67874\n"
     ]
    },
    {
     "name": "stderr",
     "output_type": "stream",
     "text": [
      "T: 054/300: 100%|█| 78/78 [00:08<00:00,  9.11it/s, lr=0.000109, b_loss=0.579, b_\n"
     ]
    },
    {
     "name": "stdout",
     "output_type": "stream",
     "text": [
      "[ Train | 054/300 ] loss = 0.75283, acc = 0.74234\n"
     ]
    },
    {
     "name": "stderr",
     "output_type": "stream",
     "text": [
      "V: 054/300: 100%|████| 26/26 [00:02<00:00, 10.36it/s, v_loss=0.839, v_acc=0.723]\n"
     ]
    },
    {
     "name": "stdout",
     "output_type": "stream",
     "text": [
      "[ Valid | 054/300 ] loss = 0.83879, acc = 0.72323\n",
      "[ Valid | 054/300 ] loss = 0.83879, acc = 0.72323 -> best\n",
      "Best model found at fold 3 epoch 54, acc=0.72323, saving model\n"
     ]
    },
    {
     "name": "stderr",
     "output_type": "stream",
     "text": [
      "T: 055/300: 100%|█| 78/78 [00:08<00:00,  8.97it/s, lr=8.24e-5, b_loss=0.856, b_a\n"
     ]
    },
    {
     "name": "stdout",
     "output_type": "stream",
     "text": [
      "[ Train | 055/300 ] loss = 0.74420, acc = 0.74464\n"
     ]
    },
    {
     "name": "stderr",
     "output_type": "stream",
     "text": [
      "V: 055/300: 100%|████| 26/26 [00:02<00:00, 11.97it/s, v_loss=0.821, v_acc=0.723]\n"
     ]
    },
    {
     "name": "stdout",
     "output_type": "stream",
     "text": [
      "[ Valid | 055/300 ] loss = 0.82068, acc = 0.72263\n",
      "[ Valid | 055/300 ] loss = 0.82068, acc = 0.72263\n"
     ]
    },
    {
     "name": "stderr",
     "output_type": "stream",
     "text": [
      "T: 056/300: 100%|█| 78/78 [00:08<00:00,  8.91it/s, lr=5.86e-5, b_loss=0.68, b_ac\n"
     ]
    },
    {
     "name": "stdout",
     "output_type": "stream",
     "text": [
      "[ Train | 056/300 ] loss = 0.72436, acc = 0.75152\n"
     ]
    },
    {
     "name": "stderr",
     "output_type": "stream",
     "text": [
      "V: 056/300: 100%|████| 26/26 [00:02<00:00, 11.28it/s, v_loss=0.852, v_acc=0.713]\n"
     ]
    },
    {
     "name": "stdout",
     "output_type": "stream",
     "text": [
      "[ Valid | 056/300 ] loss = 0.85186, acc = 0.71325\n",
      "[ Valid | 056/300 ] loss = 0.85186, acc = 0.71325\n"
     ]
    },
    {
     "name": "stderr",
     "output_type": "stream",
     "text": [
      "T: 057/300: 100%|█| 78/78 [00:08<00:00,  9.07it/s, lr=3.82e-5, b_loss=0.616, b_a\n"
     ]
    },
    {
     "name": "stdout",
     "output_type": "stream",
     "text": [
      "[ Train | 057/300 ] loss = 0.69464, acc = 0.76042\n"
     ]
    },
    {
     "name": "stderr",
     "output_type": "stream",
     "text": [
      "V: 057/300: 100%|█████| 26/26 [00:02<00:00, 11.04it/s, v_loss=0.808, v_acc=0.73]\n"
     ]
    },
    {
     "name": "stdout",
     "output_type": "stream",
     "text": [
      "[ Valid | 057/300 ] loss = 0.80819, acc = 0.73015\n",
      "[ Valid | 057/300 ] loss = 0.80819, acc = 0.73015 -> best\n",
      "Best model found at fold 3 epoch 57, acc=0.73015, saving model\n"
     ]
    },
    {
     "name": "stderr",
     "output_type": "stream",
     "text": [
      "T: 058/300: 100%|█| 78/78 [00:08<00:00,  8.91it/s, lr=2.18e-5, b_loss=0.741, b_a\n"
     ]
    },
    {
     "name": "stdout",
     "output_type": "stream",
     "text": [
      "[ Train | 058/300 ] loss = 0.69123, acc = 0.76038\n"
     ]
    },
    {
     "name": "stderr",
     "output_type": "stream",
     "text": [
      "V: 058/300: 100%|████| 26/26 [00:02<00:00, 10.97it/s, v_loss=0.785, v_acc=0.734]\n"
     ]
    },
    {
     "name": "stdout",
     "output_type": "stream",
     "text": [
      "[ Valid | 058/300 ] loss = 0.78451, acc = 0.73435\n",
      "[ Valid | 058/300 ] loss = 0.78451, acc = 0.73435 -> best\n",
      "Best model found at fold 3 epoch 58, acc=0.73435, saving model\n"
     ]
    },
    {
     "name": "stderr",
     "output_type": "stream",
     "text": [
      "T: 059/300: 100%|█| 78/78 [00:08<00:00,  9.12it/s, lr=9.79e-6, b_loss=0.654, b_a\n"
     ]
    },
    {
     "name": "stdout",
     "output_type": "stream",
     "text": [
      "[ Train | 059/300 ] loss = 0.67225, acc = 0.76824\n"
     ]
    },
    {
     "name": "stderr",
     "output_type": "stream",
     "text": [
      "V: 059/300: 100%|████| 26/26 [00:02<00:00, 11.62it/s, v_loss=0.784, v_acc=0.737]\n"
     ]
    },
    {
     "name": "stdout",
     "output_type": "stream",
     "text": [
      "[ Valid | 059/300 ] loss = 0.78370, acc = 0.73705\n",
      "[ Valid | 059/300 ] loss = 0.78370, acc = 0.73705 -> best\n",
      "Best model found at fold 3 epoch 59, acc=0.73705, saving model\n"
     ]
    },
    {
     "name": "stderr",
     "output_type": "stream",
     "text": [
      "T: 060/300: 100%|█| 78/78 [00:08<00:00,  8.87it/s, lr=2.46e-6, b_loss=0.641, b_a\n"
     ]
    },
    {
     "name": "stdout",
     "output_type": "stream",
     "text": [
      "[ Train | 060/300 ] loss = 0.67020, acc = 0.76994\n"
     ]
    },
    {
     "name": "stderr",
     "output_type": "stream",
     "text": [
      "V: 060/300: 100%|████| 26/26 [00:02<00:00, 12.30it/s, v_loss=0.786, v_acc=0.737]\n"
     ]
    },
    {
     "name": "stdout",
     "output_type": "stream",
     "text": [
      "[ Valid | 060/300 ] loss = 0.78612, acc = 0.73737\n",
      "[ Valid | 060/300 ] loss = 0.78612, acc = 0.73737 -> best\n",
      "Best model found at fold 3 epoch 60, acc=0.73737, saving model\n"
     ]
    },
    {
     "name": "stderr",
     "output_type": "stream",
     "text": [
      "T: 061/300: 100%|█| 78/78 [00:08<00:00,  8.94it/s, lr=0.0004, b_loss=0.939, b_ac\n"
     ]
    },
    {
     "name": "stdout",
     "output_type": "stream",
     "text": [
      "[ Train | 061/300 ] loss = 0.91983, acc = 0.68260\n"
     ]
    },
    {
     "name": "stderr",
     "output_type": "stream",
     "text": [
      "V: 061/300: 100%|█████| 26/26 [00:02<00:00, 11.78it/s, v_loss=1.17, v_acc=0.618]\n"
     ]
    },
    {
     "name": "stdout",
     "output_type": "stream",
     "text": [
      "[ Valid | 061/300 ] loss = 1.16862, acc = 0.61789\n",
      "[ Valid | 061/300 ] loss = 1.16862, acc = 0.61789\n"
     ]
    },
    {
     "name": "stderr",
     "output_type": "stream",
     "text": [
      "T: 062/300: 100%|█| 78/78 [00:08<00:00,  8.90it/s, lr=0.000398, b_loss=0.898, b_\n"
     ]
    },
    {
     "name": "stdout",
     "output_type": "stream",
     "text": [
      "[ Train | 062/300 ] loss = 0.94060, acc = 0.67344\n"
     ]
    },
    {
     "name": "stderr",
     "output_type": "stream",
     "text": [
      "V: 062/300: 100%|█████| 26/26 [00:02<00:00, 10.84it/s, v_loss=1.08, v_acc=0.645]\n"
     ]
    },
    {
     "name": "stdout",
     "output_type": "stream",
     "text": [
      "[ Valid | 062/300 ] loss = 1.08156, acc = 0.64503\n",
      "[ Valid | 062/300 ] loss = 1.08156, acc = 0.64503\n"
     ]
    },
    {
     "name": "stderr",
     "output_type": "stream",
     "text": [
      "T: 063/300: 100%|█| 78/78 [00:08<00:00,  8.79it/s, lr=0.00039, b_loss=1.01, b_ac\n"
     ]
    },
    {
     "name": "stdout",
     "output_type": "stream",
     "text": [
      "[ Train | 063/300 ] loss = 0.89883, acc = 0.68429\n"
     ]
    },
    {
     "name": "stderr",
     "output_type": "stream",
     "text": [
      "V: 063/300: 100%|█████| 26/26 [00:02<00:00, 12.17it/s, v_loss=1.14, v_acc=0.632]\n"
     ]
    },
    {
     "name": "stdout",
     "output_type": "stream",
     "text": [
      "[ Valid | 063/300 ] loss = 1.14062, acc = 0.63195\n",
      "[ Valid | 063/300 ] loss = 1.14062, acc = 0.63195\n"
     ]
    },
    {
     "name": "stderr",
     "output_type": "stream",
     "text": [
      "T: 064/300: 100%|█| 78/78 [00:08<00:00,  9.08it/s, lr=0.000378, b_loss=0.835, b_\n"
     ]
    },
    {
     "name": "stdout",
     "output_type": "stream",
     "text": [
      "[ Train | 064/300 ] loss = 0.87543, acc = 0.69564\n"
     ]
    },
    {
     "name": "stderr",
     "output_type": "stream",
     "text": [
      "V: 064/300: 100%|█████| 26/26 [00:02<00:00, 11.63it/s, v_loss=1.02, v_acc=0.659]\n"
     ]
    },
    {
     "name": "stdout",
     "output_type": "stream",
     "text": [
      "[ Valid | 064/300 ] loss = 1.01882, acc = 0.65888\n",
      "[ Valid | 064/300 ] loss = 1.01882, acc = 0.65888\n"
     ]
    },
    {
     "name": "stderr",
     "output_type": "stream",
     "text": [
      "T: 065/300: 100%|█| 78/78 [00:08<00:00,  8.78it/s, lr=0.000362, b_loss=0.853, b_\n"
     ]
    },
    {
     "name": "stdout",
     "output_type": "stream",
     "text": [
      "[ Train | 065/300 ] loss = 0.87734, acc = 0.69721\n"
     ]
    },
    {
     "name": "stderr",
     "output_type": "stream",
     "text": [
      "V: 065/300: 100%|████| 26/26 [00:02<00:00, 11.67it/s, v_loss=0.933, v_acc=0.687]\n"
     ]
    },
    {
     "name": "stdout",
     "output_type": "stream",
     "text": [
      "[ Valid | 065/300 ] loss = 0.93279, acc = 0.68659\n",
      "[ Valid | 065/300 ] loss = 0.93279, acc = 0.68659\n"
     ]
    },
    {
     "name": "stderr",
     "output_type": "stream",
     "text": [
      "T: 066/300: 100%|█| 78/78 [00:08<00:00,  8.88it/s, lr=0.000341, b_loss=0.797, b_\n"
     ]
    },
    {
     "name": "stdout",
     "output_type": "stream",
     "text": [
      "[ Train | 066/300 ] loss = 0.84060, acc = 0.70620\n"
     ]
    },
    {
     "name": "stderr",
     "output_type": "stream",
     "text": [
      "V: 066/300: 100%|█████| 26/26 [00:02<00:00, 10.99it/s, v_loss=1.18, v_acc=0.613]\n"
     ]
    },
    {
     "name": "stdout",
     "output_type": "stream",
     "text": [
      "[ Valid | 066/300 ] loss = 1.17500, acc = 0.61282\n",
      "[ Valid | 066/300 ] loss = 1.17500, acc = 0.61282\n"
     ]
    },
    {
     "name": "stderr",
     "output_type": "stream",
     "text": [
      "T: 067/300: 100%|█| 78/78 [00:08<00:00,  8.80it/s, lr=0.000318, b_loss=0.812, b_\n"
     ]
    },
    {
     "name": "stdout",
     "output_type": "stream",
     "text": [
      "[ Train | 067/300 ] loss = 0.81491, acc = 0.71711\n"
     ]
    },
    {
     "name": "stderr",
     "output_type": "stream",
     "text": [
      "V: 067/300: 100%|█████| 26/26 [00:02<00:00, 10.54it/s, v_loss=1.05, v_acc=0.653]\n"
     ]
    },
    {
     "name": "stdout",
     "output_type": "stream",
     "text": [
      "[ Valid | 067/300 ] loss = 1.05481, acc = 0.65260\n",
      "[ Valid | 067/300 ] loss = 1.05481, acc = 0.65260\n"
     ]
    },
    {
     "name": "stderr",
     "output_type": "stream",
     "text": [
      "T: 068/300: 100%|█| 78/78 [00:08<00:00,  8.71it/s, lr=0.000291, b_loss=0.902, b_\n"
     ]
    },
    {
     "name": "stdout",
     "output_type": "stream",
     "text": [
      "[ Train | 068/300 ] loss = 0.80563, acc = 0.71926\n"
     ]
    },
    {
     "name": "stderr",
     "output_type": "stream",
     "text": [
      "V: 068/300: 100%|████| 26/26 [00:02<00:00, 11.86it/s, v_loss=0.965, v_acc=0.687]\n"
     ]
    },
    {
     "name": "stdout",
     "output_type": "stream",
     "text": [
      "[ Valid | 068/300 ] loss = 0.96542, acc = 0.68714\n",
      "[ Valid | 068/300 ] loss = 0.96542, acc = 0.68714\n"
     ]
    },
    {
     "name": "stderr",
     "output_type": "stream",
     "text": [
      "T: 069/300: 100%|█| 78/78 [00:08<00:00,  9.16it/s, lr=0.000262, b_loss=0.733, b_\n"
     ]
    },
    {
     "name": "stdout",
     "output_type": "stream",
     "text": [
      "[ Train | 069/300 ] loss = 0.77869, acc = 0.72836\n"
     ]
    },
    {
     "name": "stderr",
     "output_type": "stream",
     "text": [
      "V: 069/300: 100%|█████| 26/26 [00:02<00:00, 11.10it/s, v_loss=0.96, v_acc=0.684]\n"
     ]
    },
    {
     "name": "stdout",
     "output_type": "stream",
     "text": [
      "[ Valid | 069/300 ] loss = 0.95992, acc = 0.68445\n",
      "[ Valid | 069/300 ] loss = 0.95992, acc = 0.68445\n"
     ]
    },
    {
     "name": "stderr",
     "output_type": "stream",
     "text": [
      "T: 070/300: 100%|█| 78/78 [00:08<00:00,  9.17it/s, lr=0.000231, b_loss=0.683, b_\n"
     ]
    },
    {
     "name": "stdout",
     "output_type": "stream",
     "text": [
      "[ Train | 070/300 ] loss = 0.76709, acc = 0.73503\n"
     ]
    },
    {
     "name": "stderr",
     "output_type": "stream",
     "text": [
      "V: 070/300: 100%|████| 26/26 [00:02<00:00, 10.63it/s, v_loss=0.959, v_acc=0.687]\n"
     ]
    },
    {
     "name": "stdout",
     "output_type": "stream",
     "text": [
      "[ Valid | 070/300 ] loss = 0.95908, acc = 0.68748\n",
      "[ Valid | 070/300 ] loss = 0.95908, acc = 0.68748\n"
     ]
    },
    {
     "name": "stderr",
     "output_type": "stream",
     "text": [
      "T: 071/300: 100%|█| 78/78 [00:08<00:00,  8.81it/s, lr=0.0002, b_loss=0.714, b_ac\n"
     ]
    },
    {
     "name": "stdout",
     "output_type": "stream",
     "text": [
      "[ Train | 071/300 ] loss = 0.73066, acc = 0.74717\n"
     ]
    },
    {
     "name": "stderr",
     "output_type": "stream",
     "text": [
      "V: 071/300: 100%|█████| 26/26 [00:02<00:00, 12.25it/s, v_loss=1.03, v_acc=0.676]\n"
     ]
    },
    {
     "name": "stdout",
     "output_type": "stream",
     "text": [
      "[ Valid | 071/300 ] loss = 1.03243, acc = 0.67631\n",
      "[ Valid | 071/300 ] loss = 1.03243, acc = 0.67631\n"
     ]
    },
    {
     "name": "stderr",
     "output_type": "stream",
     "text": [
      "T: 072/300: 100%|█| 78/78 [00:08<00:00,  9.01it/s, lr=0.000169, b_loss=0.563, b_\n"
     ]
    },
    {
     "name": "stdout",
     "output_type": "stream",
     "text": [
      "[ Train | 072/300 ] loss = 0.68826, acc = 0.76217\n"
     ]
    },
    {
     "name": "stderr",
     "output_type": "stream",
     "text": [
      "V: 072/300: 100%|████| 26/26 [00:02<00:00, 12.37it/s, v_loss=0.834, v_acc=0.725]\n"
     ]
    },
    {
     "name": "stdout",
     "output_type": "stream",
     "text": [
      "[ Valid | 072/300 ] loss = 0.83443, acc = 0.72500\n",
      "[ Valid | 072/300 ] loss = 0.83443, acc = 0.72500\n"
     ]
    },
    {
     "name": "stderr",
     "output_type": "stream",
     "text": [
      "T: 073/300: 100%|█| 78/78 [00:08<00:00,  9.11it/s, lr=0.000138, b_loss=0.766, b_\n"
     ]
    },
    {
     "name": "stdout",
     "output_type": "stream",
     "text": [
      "[ Train | 073/300 ] loss = 0.67034, acc = 0.77252\n"
     ]
    },
    {
     "name": "stderr",
     "output_type": "stream",
     "text": [
      "V: 073/300: 100%|█████| 26/26 [00:02<00:00, 11.37it/s, v_loss=0.819, v_acc=0.73]\n"
     ]
    },
    {
     "name": "stdout",
     "output_type": "stream",
     "text": [
      "[ Valid | 073/300 ] loss = 0.81871, acc = 0.73042\n",
      "[ Valid | 073/300 ] loss = 0.81871, acc = 0.73042\n"
     ]
    },
    {
     "name": "stderr",
     "output_type": "stream",
     "text": [
      "T: 074/300: 100%|█| 78/78 [00:08<00:00,  8.95it/s, lr=0.000109, b_loss=0.676, b_\n"
     ]
    },
    {
     "name": "stdout",
     "output_type": "stream",
     "text": [
      "[ Train | 074/300 ] loss = 0.63995, acc = 0.77546\n"
     ]
    },
    {
     "name": "stderr",
     "output_type": "stream",
     "text": [
      "V: 074/300: 100%|████| 26/26 [00:02<00:00, 12.27it/s, v_loss=0.823, v_acc=0.731]\n"
     ]
    },
    {
     "name": "stdout",
     "output_type": "stream",
     "text": [
      "[ Valid | 074/300 ] loss = 0.82264, acc = 0.73133\n",
      "[ Valid | 074/300 ] loss = 0.82264, acc = 0.73133\n"
     ]
    },
    {
     "name": "stderr",
     "output_type": "stream",
     "text": [
      "T: 075/300: 100%|█| 78/78 [00:08<00:00,  8.85it/s, lr=8.24e-5, b_loss=0.624, b_a\n"
     ]
    },
    {
     "name": "stdout",
     "output_type": "stream",
     "text": [
      "[ Train | 075/300 ] loss = 0.62499, acc = 0.78469\n"
     ]
    },
    {
     "name": "stderr",
     "output_type": "stream",
     "text": [
      "V: 075/300: 100%|████| 26/26 [00:02<00:00, 12.08it/s, v_loss=0.747, v_acc=0.752]\n"
     ]
    },
    {
     "name": "stdout",
     "output_type": "stream",
     "text": [
      "[ Valid | 075/300 ] loss = 0.74675, acc = 0.75183\n",
      "[ Valid | 075/300 ] loss = 0.74675, acc = 0.75183 -> best\n",
      "Best model found at fold 3 epoch 75, acc=0.75183, saving model\n"
     ]
    },
    {
     "name": "stderr",
     "output_type": "stream",
     "text": [
      "T: 076/300: 100%|█| 78/78 [00:08<00:00,  8.90it/s, lr=5.86e-5, b_loss=0.642, b_a\n"
     ]
    },
    {
     "name": "stdout",
     "output_type": "stream",
     "text": [
      "[ Train | 076/300 ] loss = 0.60465, acc = 0.79505\n"
     ]
    },
    {
     "name": "stderr",
     "output_type": "stream",
     "text": [
      "V: 076/300: 100%|████| 26/26 [00:02<00:00, 12.12it/s, v_loss=0.787, v_acc=0.745]\n"
     ]
    },
    {
     "name": "stdout",
     "output_type": "stream",
     "text": [
      "[ Valid | 076/300 ] loss = 0.78721, acc = 0.74523\n",
      "[ Valid | 076/300 ] loss = 0.78721, acc = 0.74523\n"
     ]
    },
    {
     "name": "stderr",
     "output_type": "stream",
     "text": [
      "T: 077/300: 100%|█| 78/78 [00:08<00:00,  8.80it/s, lr=3.82e-5, b_loss=0.682, b_a\n"
     ]
    },
    {
     "name": "stdout",
     "output_type": "stream",
     "text": [
      "[ Train | 077/300 ] loss = 0.58662, acc = 0.79787\n"
     ]
    },
    {
     "name": "stderr",
     "output_type": "stream",
     "text": [
      "V: 077/300: 100%|█████| 26/26 [00:02<00:00, 11.90it/s, v_loss=0.778, v_acc=0.75]\n"
     ]
    },
    {
     "name": "stdout",
     "output_type": "stream",
     "text": [
      "[ Valid | 077/300 ] loss = 0.77761, acc = 0.75002\n",
      "[ Valid | 077/300 ] loss = 0.77761, acc = 0.75002\n"
     ]
    },
    {
     "name": "stderr",
     "output_type": "stream",
     "text": [
      "T: 078/300: 100%|█| 78/78 [00:08<00:00,  8.95it/s, lr=2.18e-5, b_loss=0.624, b_a\n"
     ]
    },
    {
     "name": "stdout",
     "output_type": "stream",
     "text": [
      "[ Train | 078/300 ] loss = 0.57358, acc = 0.80543\n"
     ]
    },
    {
     "name": "stderr",
     "output_type": "stream",
     "text": [
      "V: 078/300: 100%|████| 26/26 [00:02<00:00, 11.52it/s, v_loss=0.744, v_acc=0.751]\n"
     ]
    },
    {
     "name": "stdout",
     "output_type": "stream",
     "text": [
      "[ Valid | 078/300 ] loss = 0.74356, acc = 0.75062\n",
      "[ Valid | 078/300 ] loss = 0.74356, acc = 0.75062\n"
     ]
    },
    {
     "name": "stderr",
     "output_type": "stream",
     "text": [
      "T: 079/300: 100%|█| 78/78 [00:08<00:00,  9.01it/s, lr=9.79e-6, b_loss=0.571, b_a\n"
     ]
    },
    {
     "name": "stdout",
     "output_type": "stream",
     "text": [
      "[ Train | 079/300 ] loss = 0.56910, acc = 0.80174\n"
     ]
    },
    {
     "name": "stderr",
     "output_type": "stream",
     "text": [
      "V: 079/300: 100%|████| 26/26 [00:02<00:00, 10.98it/s, v_loss=0.736, v_acc=0.753]\n"
     ]
    },
    {
     "name": "stdout",
     "output_type": "stream",
     "text": [
      "[ Valid | 079/300 ] loss = 0.73623, acc = 0.75341\n",
      "[ Valid | 079/300 ] loss = 0.73623, acc = 0.75341 -> best\n",
      "Best model found at fold 3 epoch 79, acc=0.75341, saving model\n"
     ]
    },
    {
     "name": "stderr",
     "output_type": "stream",
     "text": [
      "T: 080/300: 100%|█| 78/78 [00:08<00:00,  8.88it/s, lr=2.46e-6, b_loss=0.665, b_a\n"
     ]
    },
    {
     "name": "stdout",
     "output_type": "stream",
     "text": [
      "[ Train | 080/300 ] loss = 0.55655, acc = 0.80765\n"
     ]
    },
    {
     "name": "stderr",
     "output_type": "stream",
     "text": [
      "V: 080/300: 100%|████| 26/26 [00:02<00:00, 11.85it/s, v_loss=0.739, v_acc=0.753]\n"
     ]
    },
    {
     "name": "stdout",
     "output_type": "stream",
     "text": [
      "[ Valid | 080/300 ] loss = 0.73899, acc = 0.75274\n",
      "[ Valid | 080/300 ] loss = 0.73899, acc = 0.75274\n"
     ]
    },
    {
     "name": "stderr",
     "output_type": "stream",
     "text": [
      "T: 081/300: 100%|█| 78/78 [00:08<00:00,  8.90it/s, lr=0.0004, b_loss=0.795, b_ac\n"
     ]
    },
    {
     "name": "stdout",
     "output_type": "stream",
     "text": [
      "[ Train | 081/300 ] loss = 0.80143, acc = 0.72164\n"
     ]
    },
    {
     "name": "stderr",
     "output_type": "stream",
     "text": [
      "V: 081/300: 100%|█████| 26/26 [00:02<00:00, 11.09it/s, v_loss=1.16, v_acc=0.626]\n"
     ]
    },
    {
     "name": "stdout",
     "output_type": "stream",
     "text": [
      "[ Valid | 081/300 ] loss = 1.15955, acc = 0.62599\n",
      "[ Valid | 081/300 ] loss = 1.15955, acc = 0.62599\n"
     ]
    },
    {
     "name": "stderr",
     "output_type": "stream",
     "text": [
      "T: 082/300: 100%|█| 78/78 [00:08<00:00,  9.02it/s, lr=0.000398, b_loss=0.696, b_\n"
     ]
    },
    {
     "name": "stdout",
     "output_type": "stream",
     "text": [
      "[ Train | 082/300 ] loss = 0.80857, acc = 0.72313\n"
     ]
    },
    {
     "name": "stderr",
     "output_type": "stream",
     "text": [
      "V: 082/300: 100%|█████| 26/26 [00:02<00:00, 11.97it/s, v_loss=1.05, v_acc=0.651]\n"
     ]
    },
    {
     "name": "stdout",
     "output_type": "stream",
     "text": [
      "[ Valid | 082/300 ] loss = 1.05255, acc = 0.65072\n",
      "[ Valid | 082/300 ] loss = 1.05255, acc = 0.65072\n"
     ]
    },
    {
     "name": "stderr",
     "output_type": "stream",
     "text": [
      "T: 083/300: 100%|█| 78/78 [00:08<00:00,  9.00it/s, lr=0.00039, b_loss=0.681, b_a\n"
     ]
    },
    {
     "name": "stdout",
     "output_type": "stream",
     "text": [
      "[ Train | 083/300 ] loss = 0.78964, acc = 0.72316\n"
     ]
    },
    {
     "name": "stderr",
     "output_type": "stream",
     "text": [
      "V: 083/300: 100%|█████| 26/26 [00:02<00:00, 10.97it/s, v_loss=1.12, v_acc=0.644]\n"
     ]
    },
    {
     "name": "stdout",
     "output_type": "stream",
     "text": [
      "[ Valid | 083/300 ] loss = 1.11977, acc = 0.64418\n",
      "[ Valid | 083/300 ] loss = 1.11977, acc = 0.64418\n"
     ]
    },
    {
     "name": "stderr",
     "output_type": "stream",
     "text": [
      "T: 084/300: 100%|█| 78/78 [00:08<00:00,  8.89it/s, lr=0.000378, b_loss=0.769, b_\n"
     ]
    },
    {
     "name": "stdout",
     "output_type": "stream",
     "text": [
      "[ Train | 084/300 ] loss = 0.76982, acc = 0.73384\n"
     ]
    },
    {
     "name": "stderr",
     "output_type": "stream",
     "text": [
      "V: 084/300: 100%|█████| 26/26 [00:02<00:00, 11.86it/s, v_loss=1.05, v_acc=0.662]\n"
     ]
    },
    {
     "name": "stdout",
     "output_type": "stream",
     "text": [
      "[ Valid | 084/300 ] loss = 1.05149, acc = 0.66238\n",
      "[ Valid | 084/300 ] loss = 1.05149, acc = 0.66238\n"
     ]
    },
    {
     "name": "stderr",
     "output_type": "stream",
     "text": [
      "T: 085/300: 100%|█| 78/78 [00:08<00:00,  8.90it/s, lr=0.000362, b_loss=0.722, b_\n"
     ]
    },
    {
     "name": "stdout",
     "output_type": "stream",
     "text": [
      "[ Train | 085/300 ] loss = 0.75972, acc = 0.73429\n"
     ]
    },
    {
     "name": "stderr",
     "output_type": "stream",
     "text": [
      "V: 085/300: 100%|████| 26/26 [00:02<00:00, 11.66it/s, v_loss=0.871, v_acc=0.704]\n"
     ]
    },
    {
     "name": "stdout",
     "output_type": "stream",
     "text": [
      "[ Valid | 085/300 ] loss = 0.87062, acc = 0.70370\n",
      "[ Valid | 085/300 ] loss = 0.87062, acc = 0.70370\n"
     ]
    },
    {
     "name": "stderr",
     "output_type": "stream",
     "text": [
      "T: 086/300: 100%|█| 78/78 [00:08<00:00,  9.17it/s, lr=0.000341, b_loss=0.83, b_a\n"
     ]
    },
    {
     "name": "stdout",
     "output_type": "stream",
     "text": [
      "[ Train | 086/300 ] loss = 0.75762, acc = 0.73823\n"
     ]
    },
    {
     "name": "stderr",
     "output_type": "stream",
     "text": [
      "V: 086/300: 100%|█████| 26/26 [00:02<00:00, 11.59it/s, v_loss=1.07, v_acc=0.665]\n"
     ]
    },
    {
     "name": "stdout",
     "output_type": "stream",
     "text": [
      "[ Valid | 086/300 ] loss = 1.06973, acc = 0.66479\n",
      "[ Valid | 086/300 ] loss = 1.06973, acc = 0.66479\n"
     ]
    },
    {
     "name": "stderr",
     "output_type": "stream",
     "text": [
      "T: 087/300: 100%|█| 78/78 [00:08<00:00,  9.03it/s, lr=0.000318, b_loss=0.611, b_\n"
     ]
    },
    {
     "name": "stdout",
     "output_type": "stream",
     "text": [
      "[ Train | 087/300 ] loss = 0.71106, acc = 0.76047\n"
     ]
    },
    {
     "name": "stderr",
     "output_type": "stream",
     "text": [
      "V: 087/300: 100%|█████| 26/26 [00:02<00:00, 10.43it/s, v_loss=1.05, v_acc=0.673]\n"
     ]
    },
    {
     "name": "stdout",
     "output_type": "stream",
     "text": [
      "[ Valid | 087/300 ] loss = 1.05221, acc = 0.67295\n",
      "[ Valid | 087/300 ] loss = 1.05221, acc = 0.67295\n"
     ]
    },
    {
     "name": "stderr",
     "output_type": "stream",
     "text": [
      "T: 088/300: 100%|█| 78/78 [00:08<00:00,  9.00it/s, lr=0.000291, b_loss=0.688, b_\n"
     ]
    },
    {
     "name": "stdout",
     "output_type": "stream",
     "text": [
      "[ Train | 088/300 ] loss = 0.70702, acc = 0.75344\n"
     ]
    },
    {
     "name": "stderr",
     "output_type": "stream",
     "text": [
      "V: 088/300: 100%|████| 26/26 [00:02<00:00, 12.40it/s, v_loss=0.936, v_acc=0.702]\n"
     ]
    },
    {
     "name": "stdout",
     "output_type": "stream",
     "text": [
      "[ Valid | 088/300 ] loss = 0.93649, acc = 0.70225\n",
      "[ Valid | 088/300 ] loss = 0.93649, acc = 0.70225\n"
     ]
    },
    {
     "name": "stderr",
     "output_type": "stream",
     "text": [
      "T: 089/300: 100%|█| 78/78 [00:08<00:00,  9.01it/s, lr=0.000262, b_loss=0.716, b_\n"
     ]
    },
    {
     "name": "stdout",
     "output_type": "stream",
     "text": [
      "[ Train | 089/300 ] loss = 0.66950, acc = 0.76603\n"
     ]
    },
    {
     "name": "stderr",
     "output_type": "stream",
     "text": [
      "V: 089/300: 100%|████| 26/26 [00:02<00:00, 12.03it/s, v_loss=0.967, v_acc=0.682]\n"
     ]
    },
    {
     "name": "stdout",
     "output_type": "stream",
     "text": [
      "[ Valid | 089/300 ] loss = 0.96698, acc = 0.68181\n",
      "[ Valid | 089/300 ] loss = 0.96698, acc = 0.68181\n"
     ]
    },
    {
     "name": "stderr",
     "output_type": "stream",
     "text": [
      "T: 090/300: 100%|█| 78/78 [00:08<00:00,  8.79it/s, lr=0.000231, b_loss=0.655, b_\n"
     ]
    },
    {
     "name": "stdout",
     "output_type": "stream",
     "text": [
      "[ Train | 090/300 ] loss = 0.64184, acc = 0.77246\n"
     ]
    },
    {
     "name": "stderr",
     "output_type": "stream",
     "text": [
      "V: 090/300: 100%|█████| 26/26 [00:02<00:00, 11.76it/s, v_loss=0.887, v_acc=0.72]\n"
     ]
    },
    {
     "name": "stdout",
     "output_type": "stream",
     "text": [
      "[ Valid | 090/300 ] loss = 0.88715, acc = 0.71987\n",
      "[ Valid | 090/300 ] loss = 0.88715, acc = 0.71987\n"
     ]
    },
    {
     "name": "stderr",
     "output_type": "stream",
     "text": [
      "T: 091/300: 100%|█| 78/78 [00:08<00:00,  8.90it/s, lr=0.0002, b_loss=0.582, b_ac\n"
     ]
    },
    {
     "name": "stdout",
     "output_type": "stream",
     "text": [
      "[ Train | 091/300 ] loss = 0.62916, acc = 0.77760\n"
     ]
    },
    {
     "name": "stderr",
     "output_type": "stream",
     "text": [
      "V: 091/300: 100%|█████| 26/26 [00:02<00:00, 11.30it/s, v_loss=0.813, v_acc=0.73]\n"
     ]
    },
    {
     "name": "stdout",
     "output_type": "stream",
     "text": [
      "[ Valid | 091/300 ] loss = 0.81282, acc = 0.73021\n",
      "[ Valid | 091/300 ] loss = 0.81282, acc = 0.73021\n"
     ]
    },
    {
     "name": "stderr",
     "output_type": "stream",
     "text": [
      "T: 092/300: 100%|█| 78/78 [00:08<00:00,  9.07it/s, lr=0.000169, b_loss=0.572, b_\n"
     ]
    },
    {
     "name": "stdout",
     "output_type": "stream",
     "text": [
      "[ Train | 092/300 ] loss = 0.60536, acc = 0.79065\n"
     ]
    },
    {
     "name": "stderr",
     "output_type": "stream",
     "text": [
      "V: 092/300: 100%|████| 26/26 [00:02<00:00, 11.66it/s, v_loss=0.799, v_acc=0.737]\n"
     ]
    },
    {
     "name": "stdout",
     "output_type": "stream",
     "text": [
      "[ Valid | 092/300 ] loss = 0.79947, acc = 0.73739\n",
      "[ Valid | 092/300 ] loss = 0.79947, acc = 0.73739\n"
     ]
    },
    {
     "name": "stderr",
     "output_type": "stream",
     "text": [
      "T: 093/300: 100%|█| 78/78 [00:08<00:00,  9.05it/s, lr=0.000138, b_loss=0.649, b_\n"
     ]
    },
    {
     "name": "stdout",
     "output_type": "stream",
     "text": [
      "[ Train | 093/300 ] loss = 0.56700, acc = 0.80341\n"
     ]
    },
    {
     "name": "stderr",
     "output_type": "stream",
     "text": [
      "V: 093/300: 100%|████| 26/26 [00:02<00:00, 10.50it/s, v_loss=0.779, v_acc=0.747]\n"
     ]
    },
    {
     "name": "stdout",
     "output_type": "stream",
     "text": [
      "[ Valid | 093/300 ] loss = 0.77920, acc = 0.74734\n",
      "[ Valid | 093/300 ] loss = 0.77920, acc = 0.74734\n"
     ]
    },
    {
     "name": "stderr",
     "output_type": "stream",
     "text": [
      "T: 094/300: 100%|█| 78/78 [00:08<00:00,  9.07it/s, lr=0.000109, b_loss=0.572, b_\n"
     ]
    },
    {
     "name": "stdout",
     "output_type": "stream",
     "text": [
      "[ Train | 094/300 ] loss = 0.55217, acc = 0.81033\n"
     ]
    },
    {
     "name": "stderr",
     "output_type": "stream",
     "text": [
      "V: 094/300: 100%|████| 26/26 [00:02<00:00, 12.35it/s, v_loss=0.758, v_acc=0.749]\n"
     ]
    },
    {
     "name": "stdout",
     "output_type": "stream",
     "text": [
      "[ Valid | 094/300 ] loss = 0.75773, acc = 0.74886\n",
      "[ Valid | 094/300 ] loss = 0.75773, acc = 0.74886\n"
     ]
    },
    {
     "name": "stderr",
     "output_type": "stream",
     "text": [
      "T: 095/300: 100%|█| 78/78 [00:08<00:00,  8.76it/s, lr=8.24e-5, b_loss=0.512, b_a\n"
     ]
    },
    {
     "name": "stdout",
     "output_type": "stream",
     "text": [
      "[ Train | 095/300 ] loss = 0.52191, acc = 0.81610\n"
     ]
    },
    {
     "name": "stderr",
     "output_type": "stream",
     "text": [
      "V: 095/300: 100%|████| 26/26 [00:02<00:00, 11.89it/s, v_loss=0.755, v_acc=0.754]\n"
     ]
    },
    {
     "name": "stdout",
     "output_type": "stream",
     "text": [
      "[ Valid | 095/300 ] loss = 0.75548, acc = 0.75396\n",
      "[ Valid | 095/300 ] loss = 0.75548, acc = 0.75396 -> best\n",
      "Best model found at fold 3 epoch 95, acc=0.75396, saving model\n"
     ]
    },
    {
     "name": "stderr",
     "output_type": "stream",
     "text": [
      "T: 096/300: 100%|█| 78/78 [00:08<00:00,  8.93it/s, lr=5.86e-5, b_loss=0.342, b_a\n"
     ]
    },
    {
     "name": "stdout",
     "output_type": "stream",
     "text": [
      "[ Train | 096/300 ] loss = 0.51515, acc = 0.82181\n"
     ]
    },
    {
     "name": "stderr",
     "output_type": "stream",
     "text": [
      "V: 096/300: 100%|████| 26/26 [00:02<00:00, 11.33it/s, v_loss=0.727, v_acc=0.762]\n"
     ]
    },
    {
     "name": "stdout",
     "output_type": "stream",
     "text": [
      "[ Valid | 096/300 ] loss = 0.72668, acc = 0.76173\n",
      "[ Valid | 096/300 ] loss = 0.72668, acc = 0.76173 -> best\n",
      "Best model found at fold 3 epoch 96, acc=0.76173, saving model\n"
     ]
    },
    {
     "name": "stderr",
     "output_type": "stream",
     "text": [
      "T: 097/300: 100%|█| 78/78 [00:08<00:00,  9.07it/s, lr=3.82e-5, b_loss=0.522, b_a\n"
     ]
    },
    {
     "name": "stdout",
     "output_type": "stream",
     "text": [
      "[ Train | 097/300 ] loss = 0.49314, acc = 0.83059\n"
     ]
    },
    {
     "name": "stderr",
     "output_type": "stream",
     "text": [
      "V: 097/300: 100%|████| 26/26 [00:02<00:00, 12.13it/s, v_loss=0.722, v_acc=0.761]\n"
     ]
    },
    {
     "name": "stdout",
     "output_type": "stream",
     "text": [
      "[ Valid | 097/300 ] loss = 0.72186, acc = 0.76051\n",
      "[ Valid | 097/300 ] loss = 0.72186, acc = 0.76051\n"
     ]
    },
    {
     "name": "stderr",
     "output_type": "stream",
     "text": [
      "T: 098/300: 100%|█| 78/78 [00:08<00:00,  8.95it/s, lr=2.18e-5, b_loss=0.506, b_a\n"
     ]
    },
    {
     "name": "stdout",
     "output_type": "stream",
     "text": [
      "[ Train | 098/300 ] loss = 0.48873, acc = 0.83063\n"
     ]
    },
    {
     "name": "stderr",
     "output_type": "stream",
     "text": [
      "V: 098/300: 100%|████| 26/26 [00:02<00:00, 11.01it/s, v_loss=0.721, v_acc=0.766]\n"
     ]
    },
    {
     "name": "stdout",
     "output_type": "stream",
     "text": [
      "[ Valid | 098/300 ] loss = 0.72079, acc = 0.76629\n",
      "[ Valid | 098/300 ] loss = 0.72079, acc = 0.76629 -> best\n",
      "Best model found at fold 3 epoch 98, acc=0.76629, saving model\n"
     ]
    },
    {
     "name": "stderr",
     "output_type": "stream",
     "text": [
      "T: 099/300: 100%|█| 78/78 [00:08<00:00,  8.77it/s, lr=9.79e-6, b_loss=0.351, b_a\n"
     ]
    },
    {
     "name": "stdout",
     "output_type": "stream",
     "text": [
      "[ Train | 099/300 ] loss = 0.47298, acc = 0.83800\n"
     ]
    },
    {
     "name": "stderr",
     "output_type": "stream",
     "text": [
      "V: 099/300: 100%|████| 26/26 [00:02<00:00, 12.10it/s, v_loss=0.723, v_acc=0.767]\n"
     ]
    },
    {
     "name": "stdout",
     "output_type": "stream",
     "text": [
      "[ Valid | 099/300 ] loss = 0.72285, acc = 0.76686\n",
      "[ Valid | 099/300 ] loss = 0.72285, acc = 0.76686 -> best\n",
      "Best model found at fold 3 epoch 99, acc=0.76686, saving model\n"
     ]
    },
    {
     "name": "stderr",
     "output_type": "stream",
     "text": [
      "T: 100/300: 100%|█| 78/78 [00:08<00:00,  8.94it/s, lr=2.46e-6, b_loss=0.652, b_a\n"
     ]
    },
    {
     "name": "stdout",
     "output_type": "stream",
     "text": [
      "[ Train | 100/300 ] loss = 0.46345, acc = 0.84060\n"
     ]
    },
    {
     "name": "stderr",
     "output_type": "stream",
     "text": [
      "V: 100/300: 100%|████| 26/26 [00:02<00:00, 10.61it/s, v_loss=0.716, v_acc=0.768]\n"
     ]
    },
    {
     "name": "stdout",
     "output_type": "stream",
     "text": [
      "[ Valid | 100/300 ] loss = 0.71642, acc = 0.76831\n",
      "[ Valid | 100/300 ] loss = 0.71642, acc = 0.76831 -> best\n",
      "Best model found at fold 3 epoch 100, acc=0.76831, saving model\n"
     ]
    },
    {
     "name": "stderr",
     "output_type": "stream",
     "text": [
      "T: 101/300: 100%|█| 78/78 [00:08<00:00,  8.82it/s, lr=0.0004, b_loss=0.949, b_ac\n"
     ]
    },
    {
     "name": "stdout",
     "output_type": "stream",
     "text": [
      "[ Train | 101/300 ] loss = 0.70393, acc = 0.75726\n"
     ]
    },
    {
     "name": "stderr",
     "output_type": "stream",
     "text": [
      "V: 101/300: 100%|█████| 26/26 [00:02<00:00, 11.75it/s, v_loss=1.12, v_acc=0.653]\n"
     ]
    },
    {
     "name": "stdout",
     "output_type": "stream",
     "text": [
      "[ Valid | 101/300 ] loss = 1.12375, acc = 0.65285\n",
      "[ Valid | 101/300 ] loss = 1.12375, acc = 0.65285\n"
     ]
    },
    {
     "name": "stderr",
     "output_type": "stream",
     "text": [
      "T: 102/300: 100%|█| 78/78 [00:08<00:00,  8.92it/s, lr=0.000398, b_loss=0.631, b_\n"
     ]
    },
    {
     "name": "stdout",
     "output_type": "stream",
     "text": [
      "[ Train | 102/300 ] loss = 0.71662, acc = 0.75084\n"
     ]
    },
    {
     "name": "stderr",
     "output_type": "stream",
     "text": [
      "V: 102/300: 100%|█████| 26/26 [00:02<00:00, 10.76it/s, v_loss=1.44, v_acc=0.548]\n"
     ]
    },
    {
     "name": "stdout",
     "output_type": "stream",
     "text": [
      "[ Valid | 102/300 ] loss = 1.43816, acc = 0.54780\n",
      "[ Valid | 102/300 ] loss = 1.43816, acc = 0.54780\n"
     ]
    },
    {
     "name": "stderr",
     "output_type": "stream",
     "text": [
      "T: 103/300: 100%|█| 78/78 [00:08<00:00,  8.79it/s, lr=0.00039, b_loss=0.629, b_a\n"
     ]
    },
    {
     "name": "stdout",
     "output_type": "stream",
     "text": [
      "[ Train | 103/300 ] loss = 0.70500, acc = 0.75548\n"
     ]
    },
    {
     "name": "stderr",
     "output_type": "stream",
     "text": [
      "V: 103/300: 100%|█████| 26/26 [00:02<00:00, 11.15it/s, v_loss=1.45, v_acc=0.597]\n"
     ]
    },
    {
     "name": "stdout",
     "output_type": "stream",
     "text": [
      "[ Valid | 103/300 ] loss = 1.44622, acc = 0.59683\n",
      "[ Valid | 103/300 ] loss = 1.44622, acc = 0.59683\n"
     ]
    },
    {
     "name": "stderr",
     "output_type": "stream",
     "text": [
      "T: 104/300: 100%|█| 78/78 [00:08<00:00,  9.02it/s, lr=0.000378, b_loss=0.861, b_\n"
     ]
    },
    {
     "name": "stdout",
     "output_type": "stream",
     "text": [
      "[ Train | 104/300 ] loss = 0.71095, acc = 0.75523\n"
     ]
    },
    {
     "name": "stderr",
     "output_type": "stream",
     "text": [
      "V: 104/300: 100%|██████| 26/26 [00:02<00:00, 12.06it/s, v_loss=1.2, v_acc=0.639]\n"
     ]
    },
    {
     "name": "stdout",
     "output_type": "stream",
     "text": [
      "[ Valid | 104/300 ] loss = 1.19652, acc = 0.63892\n",
      "[ Valid | 104/300 ] loss = 1.19652, acc = 0.63892\n"
     ]
    },
    {
     "name": "stderr",
     "output_type": "stream",
     "text": [
      "T: 105/300: 100%|█| 78/78 [00:08<00:00,  8.95it/s, lr=0.000362, b_loss=0.765, b_\n"
     ]
    },
    {
     "name": "stdout",
     "output_type": "stream",
     "text": [
      "[ Train | 105/300 ] loss = 0.67276, acc = 0.76543\n"
     ]
    },
    {
     "name": "stderr",
     "output_type": "stream",
     "text": [
      "V: 105/300: 100%|████| 26/26 [00:02<00:00, 10.65it/s, v_loss=0.895, v_acc=0.708]\n"
     ]
    },
    {
     "name": "stdout",
     "output_type": "stream",
     "text": [
      "[ Valid | 105/300 ] loss = 0.89496, acc = 0.70848\n",
      "[ Valid | 105/300 ] loss = 0.89496, acc = 0.70848\n"
     ]
    },
    {
     "name": "stderr",
     "output_type": "stream",
     "text": [
      "T: 106/300: 100%|█| 78/78 [00:08<00:00,  9.05it/s, lr=0.000341, b_loss=0.587, b_\n"
     ]
    },
    {
     "name": "stdout",
     "output_type": "stream",
     "text": [
      "[ Train | 106/300 ] loss = 0.64537, acc = 0.77143\n"
     ]
    },
    {
     "name": "stderr",
     "output_type": "stream",
     "text": [
      "V: 106/300: 100%|█████| 26/26 [00:02<00:00, 10.70it/s, v_loss=1.05, v_acc=0.673]\n"
     ]
    },
    {
     "name": "stdout",
     "output_type": "stream",
     "text": [
      "[ Valid | 106/300 ] loss = 1.05191, acc = 0.67333\n",
      "[ Valid | 106/300 ] loss = 1.05191, acc = 0.67333\n"
     ]
    },
    {
     "name": "stderr",
     "output_type": "stream",
     "text": [
      "T: 107/300: 100%|█| 78/78 [00:08<00:00,  8.82it/s, lr=0.000318, b_loss=0.774, b_\n"
     ]
    },
    {
     "name": "stdout",
     "output_type": "stream",
     "text": [
      "[ Train | 107/300 ] loss = 0.61345, acc = 0.78673\n"
     ]
    },
    {
     "name": "stderr",
     "output_type": "stream",
     "text": [
      "V: 107/300: 100%|████| 26/26 [00:02<00:00, 11.42it/s, v_loss=0.936, v_acc=0.701]\n"
     ]
    },
    {
     "name": "stdout",
     "output_type": "stream",
     "text": [
      "[ Valid | 107/300 ] loss = 0.93598, acc = 0.70096\n",
      "[ Valid | 107/300 ] loss = 0.93598, acc = 0.70096\n"
     ]
    },
    {
     "name": "stderr",
     "output_type": "stream",
     "text": [
      "T: 108/300: 100%|█| 78/78 [00:08<00:00,  8.85it/s, lr=0.000291, b_loss=0.505, b_\n"
     ]
    },
    {
     "name": "stdout",
     "output_type": "stream",
     "text": [
      "[ Train | 108/300 ] loss = 0.61153, acc = 0.78368\n"
     ]
    },
    {
     "name": "stderr",
     "output_type": "stream",
     "text": [
      "V: 108/300: 100%|████| 26/26 [00:02<00:00, 10.64it/s, v_loss=0.872, v_acc=0.722]\n"
     ]
    },
    {
     "name": "stdout",
     "output_type": "stream",
     "text": [
      "[ Valid | 108/300 ] loss = 0.87157, acc = 0.72235\n",
      "[ Valid | 108/300 ] loss = 0.87157, acc = 0.72235\n"
     ]
    },
    {
     "name": "stderr",
     "output_type": "stream",
     "text": [
      "T: 109/300: 100%|█| 78/78 [00:08<00:00,  8.82it/s, lr=0.000262, b_loss=0.557, b_\n"
     ]
    },
    {
     "name": "stdout",
     "output_type": "stream",
     "text": [
      "[ Train | 109/300 ] loss = 0.58963, acc = 0.79702\n"
     ]
    },
    {
     "name": "stderr",
     "output_type": "stream",
     "text": [
      "V: 109/300: 100%|██████| 26/26 [00:02<00:00, 10.58it/s, v_loss=0.938, v_acc=0.7]\n"
     ]
    },
    {
     "name": "stdout",
     "output_type": "stream",
     "text": [
      "[ Valid | 109/300 ] loss = 0.93776, acc = 0.69974\n",
      "[ Valid | 109/300 ] loss = 0.93776, acc = 0.69974\n"
     ]
    },
    {
     "name": "stderr",
     "output_type": "stream",
     "text": [
      "T: 110/300: 100%|█| 78/78 [00:08<00:00,  8.86it/s, lr=0.000231, b_loss=0.498, b_\n"
     ]
    },
    {
     "name": "stdout",
     "output_type": "stream",
     "text": [
      "[ Train | 110/300 ] loss = 0.55640, acc = 0.80809\n"
     ]
    },
    {
     "name": "stderr",
     "output_type": "stream",
     "text": [
      "V: 110/300: 100%|████| 26/26 [00:02<00:00, 12.04it/s, v_loss=0.834, v_acc=0.733]\n"
     ]
    },
    {
     "name": "stdout",
     "output_type": "stream",
     "text": [
      "[ Valid | 110/300 ] loss = 0.83392, acc = 0.73316\n",
      "[ Valid | 110/300 ] loss = 0.83392, acc = 0.73316\n"
     ]
    },
    {
     "name": "stderr",
     "output_type": "stream",
     "text": [
      "T: 111/300: 100%|█| 78/78 [00:08<00:00,  8.90it/s, lr=0.0002, b_loss=0.501, b_ac\n"
     ]
    },
    {
     "name": "stdout",
     "output_type": "stream",
     "text": [
      "[ Train | 111/300 ] loss = 0.53849, acc = 0.81500\n"
     ]
    },
    {
     "name": "stderr",
     "output_type": "stream",
     "text": [
      "V: 111/300: 100%|████| 26/26 [00:02<00:00, 11.66it/s, v_loss=0.835, v_acc=0.738]\n"
     ]
    },
    {
     "name": "stdout",
     "output_type": "stream",
     "text": [
      "[ Valid | 111/300 ] loss = 0.83505, acc = 0.73799\n",
      "[ Valid | 111/300 ] loss = 0.83505, acc = 0.73799\n"
     ]
    },
    {
     "name": "stderr",
     "output_type": "stream",
     "text": [
      "T: 112/300: 100%|█| 78/78 [00:08<00:00,  8.94it/s, lr=0.000169, b_loss=0.529, b_\n"
     ]
    },
    {
     "name": "stdout",
     "output_type": "stream",
     "text": [
      "[ Train | 112/300 ] loss = 0.50656, acc = 0.82381\n"
     ]
    },
    {
     "name": "stderr",
     "output_type": "stream",
     "text": [
      "V: 112/300: 100%|█████| 26/26 [00:02<00:00, 11.71it/s, v_loss=0.871, v_acc=0.73]\n"
     ]
    },
    {
     "name": "stdout",
     "output_type": "stream",
     "text": [
      "[ Valid | 112/300 ] loss = 0.87116, acc = 0.72954\n",
      "[ Valid | 112/300 ] loss = 0.87116, acc = 0.72954\n"
     ]
    },
    {
     "name": "stderr",
     "output_type": "stream",
     "text": [
      "T: 113/300: 100%|█| 78/78 [00:08<00:00,  9.07it/s, lr=0.000138, b_loss=0.529, b_\n"
     ]
    },
    {
     "name": "stdout",
     "output_type": "stream",
     "text": [
      "[ Train | 113/300 ] loss = 0.48745, acc = 0.83292\n"
     ]
    },
    {
     "name": "stderr",
     "output_type": "stream",
     "text": [
      "V: 113/300: 100%|████| 26/26 [00:02<00:00, 10.92it/s, v_loss=0.774, v_acc=0.758]\n"
     ]
    },
    {
     "name": "stdout",
     "output_type": "stream",
     "text": [
      "[ Valid | 113/300 ] loss = 0.77391, acc = 0.75790\n",
      "[ Valid | 113/300 ] loss = 0.77391, acc = 0.75790\n"
     ]
    },
    {
     "name": "stderr",
     "output_type": "stream",
     "text": [
      "T: 114/300: 100%|█| 78/78 [00:08<00:00,  8.68it/s, lr=0.000109, b_loss=0.367, b_\n"
     ]
    },
    {
     "name": "stdout",
     "output_type": "stream",
     "text": [
      "[ Train | 114/300 ] loss = 0.46673, acc = 0.83660\n"
     ]
    },
    {
     "name": "stderr",
     "output_type": "stream",
     "text": [
      "V: 114/300: 100%|████| 26/26 [00:02<00:00, 11.82it/s, v_loss=0.747, v_acc=0.763]\n"
     ]
    },
    {
     "name": "stdout",
     "output_type": "stream",
     "text": [
      "[ Valid | 114/300 ] loss = 0.74696, acc = 0.76256\n",
      "[ Valid | 114/300 ] loss = 0.74696, acc = 0.76256\n"
     ]
    },
    {
     "name": "stderr",
     "output_type": "stream",
     "text": [
      "T: 115/300: 100%|█| 78/78 [00:08<00:00,  9.19it/s, lr=8.24e-5, b_loss=0.439, b_a\n"
     ]
    },
    {
     "name": "stdout",
     "output_type": "stream",
     "text": [
      "[ Train | 115/300 ] loss = 0.45491, acc = 0.84297\n"
     ]
    },
    {
     "name": "stderr",
     "output_type": "stream",
     "text": [
      "V: 115/300: 100%|████| 26/26 [00:02<00:00,  9.53it/s, v_loss=0.743, v_acc=0.772]\n"
     ]
    },
    {
     "name": "stdout",
     "output_type": "stream",
     "text": [
      "[ Valid | 115/300 ] loss = 0.74307, acc = 0.77232\n",
      "[ Valid | 115/300 ] loss = 0.74307, acc = 0.77232 -> best\n",
      "Best model found at fold 3 epoch 115, acc=0.77232, saving model\n"
     ]
    },
    {
     "name": "stderr",
     "output_type": "stream",
     "text": [
      "T: 116/300: 100%|█| 78/78 [00:08<00:00,  9.10it/s, lr=5.86e-5, b_loss=0.316, b_a\n"
     ]
    },
    {
     "name": "stdout",
     "output_type": "stream",
     "text": [
      "[ Train | 116/300 ] loss = 0.43101, acc = 0.85113\n"
     ]
    },
    {
     "name": "stderr",
     "output_type": "stream",
     "text": [
      "V: 116/300: 100%|████| 26/26 [00:02<00:00, 10.98it/s, v_loss=0.754, v_acc=0.763]\n"
     ]
    },
    {
     "name": "stdout",
     "output_type": "stream",
     "text": [
      "[ Valid | 116/300 ] loss = 0.75360, acc = 0.76261\n",
      "[ Valid | 116/300 ] loss = 0.75360, acc = 0.76261\n"
     ]
    },
    {
     "name": "stderr",
     "output_type": "stream",
     "text": [
      "T: 117/300: 100%|█| 78/78 [00:08<00:00,  8.76it/s, lr=3.82e-5, b_loss=0.43, b_ac\n"
     ]
    },
    {
     "name": "stdout",
     "output_type": "stream",
     "text": [
      "[ Train | 117/300 ] loss = 0.41479, acc = 0.85527\n"
     ]
    },
    {
     "name": "stderr",
     "output_type": "stream",
     "text": [
      "V: 117/300: 100%|████| 26/26 [00:02<00:00, 11.55it/s, v_loss=0.718, v_acc=0.773]\n"
     ]
    },
    {
     "name": "stdout",
     "output_type": "stream",
     "text": [
      "[ Valid | 117/300 ] loss = 0.71817, acc = 0.77286\n",
      "[ Valid | 117/300 ] loss = 0.71817, acc = 0.77286 -> best\n",
      "Best model found at fold 3 epoch 117, acc=0.77286, saving model\n"
     ]
    },
    {
     "name": "stderr",
     "output_type": "stream",
     "text": [
      "T: 118/300: 100%|█| 78/78 [00:08<00:00,  9.13it/s, lr=2.18e-5, b_loss=0.496, b_a\n"
     ]
    },
    {
     "name": "stdout",
     "output_type": "stream",
     "text": [
      "[ Train | 118/300 ] loss = 0.41562, acc = 0.85783\n"
     ]
    },
    {
     "name": "stderr",
     "output_type": "stream",
     "text": [
      "V: 118/300: 100%|████| 26/26 [00:02<00:00, 11.19it/s, v_loss=0.717, v_acc=0.776]\n"
     ]
    },
    {
     "name": "stdout",
     "output_type": "stream",
     "text": [
      "[ Valid | 118/300 ] loss = 0.71707, acc = 0.77637\n",
      "[ Valid | 118/300 ] loss = 0.71707, acc = 0.77637 -> best\n",
      "Best model found at fold 3 epoch 118, acc=0.77637, saving model\n"
     ]
    },
    {
     "name": "stderr",
     "output_type": "stream",
     "text": [
      "T: 119/300: 100%|█| 78/78 [00:08<00:00,  9.09it/s, lr=9.79e-6, b_loss=0.372, b_a\n"
     ]
    },
    {
     "name": "stdout",
     "output_type": "stream",
     "text": [
      "[ Train | 119/300 ] loss = 0.39261, acc = 0.86840\n"
     ]
    },
    {
     "name": "stderr",
     "output_type": "stream",
     "text": [
      "V: 119/300: 100%|████| 26/26 [00:02<00:00, 11.51it/s, v_loss=0.713, v_acc=0.776]\n"
     ]
    },
    {
     "name": "stdout",
     "output_type": "stream",
     "text": [
      "[ Valid | 119/300 ] loss = 0.71257, acc = 0.77648\n",
      "[ Valid | 119/300 ] loss = 0.71257, acc = 0.77648 -> best\n",
      "Best model found at fold 3 epoch 119, acc=0.77648, saving model\n"
     ]
    },
    {
     "name": "stderr",
     "output_type": "stream",
     "text": [
      "T: 120/300: 100%|█| 78/78 [00:08<00:00,  8.79it/s, lr=2.46e-6, b_loss=0.278, b_a\n"
     ]
    },
    {
     "name": "stdout",
     "output_type": "stream",
     "text": [
      "[ Train | 120/300 ] loss = 0.39240, acc = 0.86596\n"
     ]
    },
    {
     "name": "stderr",
     "output_type": "stream",
     "text": [
      "V: 120/300: 100%|████| 26/26 [00:02<00:00, 11.16it/s, v_loss=0.721, v_acc=0.776]\n"
     ]
    },
    {
     "name": "stdout",
     "output_type": "stream",
     "text": [
      "[ Valid | 120/300 ] loss = 0.72079, acc = 0.77560\n",
      "[ Valid | 120/300 ] loss = 0.72079, acc = 0.77560\n"
     ]
    },
    {
     "name": "stderr",
     "output_type": "stream",
     "text": [
      "T: 121/300: 100%|█| 78/78 [00:08<00:00,  8.97it/s, lr=0.0004, b_loss=0.771, b_ac\n"
     ]
    },
    {
     "name": "stdout",
     "output_type": "stream",
     "text": [
      "[ Train | 121/300 ] loss = 0.64552, acc = 0.77818\n"
     ]
    },
    {
     "name": "stderr",
     "output_type": "stream",
     "text": [
      "V: 121/300: 100%|█████| 26/26 [00:02<00:00, 11.53it/s, v_loss=1.27, v_acc=0.639]\n"
     ]
    },
    {
     "name": "stdout",
     "output_type": "stream",
     "text": [
      "[ Valid | 121/300 ] loss = 1.27482, acc = 0.63929\n",
      "[ Valid | 121/300 ] loss = 1.27482, acc = 0.63929\n"
     ]
    },
    {
     "name": "stderr",
     "output_type": "stream",
     "text": [
      "T: 122/300: 100%|█| 78/78 [00:08<00:00,  8.94it/s, lr=0.000398, b_loss=0.699, b_\n"
     ]
    },
    {
     "name": "stdout",
     "output_type": "stream",
     "text": [
      "[ Train | 122/300 ] loss = 0.63214, acc = 0.78069\n"
     ]
    },
    {
     "name": "stderr",
     "output_type": "stream",
     "text": [
      "V: 122/300: 100%|█████| 26/26 [00:02<00:00, 10.76it/s, v_loss=1.02, v_acc=0.693]\n"
     ]
    },
    {
     "name": "stdout",
     "output_type": "stream",
     "text": [
      "[ Valid | 122/300 ] loss = 1.01672, acc = 0.69321\n",
      "[ Valid | 122/300 ] loss = 1.01672, acc = 0.69321\n"
     ]
    },
    {
     "name": "stderr",
     "output_type": "stream",
     "text": [
      "T: 123/300: 100%|█| 78/78 [00:08<00:00,  9.13it/s, lr=0.00039, b_loss=0.66, b_ac\n"
     ]
    },
    {
     "name": "stdout",
     "output_type": "stream",
     "text": [
      "[ Train | 123/300 ] loss = 0.61363, acc = 0.78661\n"
     ]
    },
    {
     "name": "stderr",
     "output_type": "stream",
     "text": [
      "V: 123/300: 100%|████| 26/26 [00:02<00:00, 11.41it/s, v_loss=0.997, v_acc=0.696]\n"
     ]
    },
    {
     "name": "stdout",
     "output_type": "stream",
     "text": [
      "[ Valid | 123/300 ] loss = 0.99665, acc = 0.69615\n",
      "[ Valid | 123/300 ] loss = 0.99665, acc = 0.69615\n"
     ]
    },
    {
     "name": "stderr",
     "output_type": "stream",
     "text": [
      "T: 124/300: 100%|█| 78/78 [00:08<00:00,  8.81it/s, lr=0.000378, b_loss=0.588, b_\n"
     ]
    },
    {
     "name": "stdout",
     "output_type": "stream",
     "text": [
      "[ Train | 124/300 ] loss = 0.61259, acc = 0.78625\n"
     ]
    },
    {
     "name": "stderr",
     "output_type": "stream",
     "text": [
      "V: 124/300: 100%|█████| 26/26 [00:02<00:00, 11.81it/s, v_loss=1.02, v_acc=0.685]\n"
     ]
    },
    {
     "name": "stdout",
     "output_type": "stream",
     "text": [
      "[ Valid | 124/300 ] loss = 1.02443, acc = 0.68526\n",
      "[ Valid | 124/300 ] loss = 1.02443, acc = 0.68526\n"
     ]
    },
    {
     "name": "stderr",
     "output_type": "stream",
     "text": [
      "T: 125/300: 100%|█| 78/78 [00:08<00:00,  9.00it/s, lr=0.000362, b_loss=0.427, b_\n"
     ]
    },
    {
     "name": "stdout",
     "output_type": "stream",
     "text": [
      "[ Train | 125/300 ] loss = 0.59707, acc = 0.79392\n"
     ]
    },
    {
     "name": "stderr",
     "output_type": "stream",
     "text": [
      "V: 125/300: 100%|████| 26/26 [00:02<00:00, 11.44it/s, v_loss=0.944, v_acc=0.708]\n"
     ]
    },
    {
     "name": "stdout",
     "output_type": "stream",
     "text": [
      "[ Valid | 125/300 ] loss = 0.94439, acc = 0.70782\n",
      "[ Valid | 125/300 ] loss = 0.94439, acc = 0.70782\n"
     ]
    },
    {
     "name": "stderr",
     "output_type": "stream",
     "text": [
      "T: 126/300: 100%|█| 78/78 [00:08<00:00,  8.97it/s, lr=0.000341, b_loss=0.597, b_\n"
     ]
    },
    {
     "name": "stdout",
     "output_type": "stream",
     "text": [
      "[ Train | 126/300 ] loss = 0.57800, acc = 0.79823\n"
     ]
    },
    {
     "name": "stderr",
     "output_type": "stream",
     "text": [
      "V: 126/300: 100%|████| 26/26 [00:02<00:00, 11.77it/s, v_loss=0.956, v_acc=0.702]\n"
     ]
    },
    {
     "name": "stdout",
     "output_type": "stream",
     "text": [
      "[ Valid | 126/300 ] loss = 0.95629, acc = 0.70208\n",
      "[ Valid | 126/300 ] loss = 0.95629, acc = 0.70208\n"
     ]
    },
    {
     "name": "stderr",
     "output_type": "stream",
     "text": [
      "T: 127/300: 100%|█| 78/78 [00:08<00:00,  9.08it/s, lr=0.000318, b_loss=0.699, b_\n"
     ]
    },
    {
     "name": "stdout",
     "output_type": "stream",
     "text": [
      "[ Train | 127/300 ] loss = 0.56435, acc = 0.80559\n"
     ]
    },
    {
     "name": "stderr",
     "output_type": "stream",
     "text": [
      "V: 127/300: 100%|██████| 26/26 [00:02<00:00, 11.20it/s, v_loss=1.3, v_acc=0.634]\n"
     ]
    },
    {
     "name": "stdout",
     "output_type": "stream",
     "text": [
      "[ Valid | 127/300 ] loss = 1.30151, acc = 0.63413\n",
      "[ Valid | 127/300 ] loss = 1.30151, acc = 0.63413\n"
     ]
    },
    {
     "name": "stderr",
     "output_type": "stream",
     "text": [
      "T: 128/300: 100%|█| 78/78 [00:08<00:00,  9.05it/s, lr=0.000291, b_loss=0.507, b_\n"
     ]
    },
    {
     "name": "stdout",
     "output_type": "stream",
     "text": [
      "[ Train | 128/300 ] loss = 0.53589, acc = 0.81214\n"
     ]
    },
    {
     "name": "stderr",
     "output_type": "stream",
     "text": [
      "V: 128/300: 100%|█████| 26/26 [00:02<00:00, 11.84it/s, v_loss=1.04, v_acc=0.687]\n"
     ]
    },
    {
     "name": "stdout",
     "output_type": "stream",
     "text": [
      "[ Valid | 128/300 ] loss = 1.04060, acc = 0.68710\n",
      "[ Valid | 128/300 ] loss = 1.04060, acc = 0.68710\n"
     ]
    },
    {
     "name": "stderr",
     "output_type": "stream",
     "text": [
      "T: 129/300: 100%|█| 78/78 [00:08<00:00,  9.09it/s, lr=0.000262, b_loss=0.419, b_\n"
     ]
    },
    {
     "name": "stdout",
     "output_type": "stream",
     "text": [
      "[ Train | 129/300 ] loss = 0.50883, acc = 0.82246\n"
     ]
    },
    {
     "name": "stderr",
     "output_type": "stream",
     "text": [
      "V: 129/300: 100%|████| 26/26 [00:02<00:00, 10.70it/s, v_loss=0.855, v_acc=0.731]\n"
     ]
    },
    {
     "name": "stdout",
     "output_type": "stream",
     "text": [
      "[ Valid | 129/300 ] loss = 0.85515, acc = 0.73105\n",
      "[ Valid | 129/300 ] loss = 0.85515, acc = 0.73105\n"
     ]
    },
    {
     "name": "stderr",
     "output_type": "stream",
     "text": [
      "T: 130/300: 100%|█| 78/78 [00:08<00:00,  9.05it/s, lr=0.000231, b_loss=0.455, b_\n"
     ]
    },
    {
     "name": "stdout",
     "output_type": "stream",
     "text": [
      "[ Train | 130/300 ] loss = 0.49856, acc = 0.82384\n"
     ]
    },
    {
     "name": "stderr",
     "output_type": "stream",
     "text": [
      "V: 130/300: 100%|████| 26/26 [00:02<00:00, 10.37it/s, v_loss=0.787, v_acc=0.748]\n"
     ]
    },
    {
     "name": "stdout",
     "output_type": "stream",
     "text": [
      "[ Valid | 130/300 ] loss = 0.78710, acc = 0.74766\n",
      "[ Valid | 130/300 ] loss = 0.78710, acc = 0.74766\n"
     ]
    },
    {
     "name": "stderr",
     "output_type": "stream",
     "text": [
      "T: 131/300: 100%|█| 78/78 [00:08<00:00,  8.80it/s, lr=0.0002, b_loss=0.591, b_ac\n"
     ]
    },
    {
     "name": "stdout",
     "output_type": "stream",
     "text": [
      "[ Train | 131/300 ] loss = 0.46301, acc = 0.84018\n"
     ]
    },
    {
     "name": "stderr",
     "output_type": "stream",
     "text": [
      "V: 131/300: 100%|████| 26/26 [00:02<00:00, 11.13it/s, v_loss=0.856, v_acc=0.743]\n"
     ]
    },
    {
     "name": "stdout",
     "output_type": "stream",
     "text": [
      "[ Valid | 131/300 ] loss = 0.85626, acc = 0.74277\n",
      "[ Valid | 131/300 ] loss = 0.85626, acc = 0.74277\n"
     ]
    },
    {
     "name": "stderr",
     "output_type": "stream",
     "text": [
      "T: 132/300: 100%|█| 78/78 [00:08<00:00,  8.98it/s, lr=0.000169, b_loss=0.568, b_\n"
     ]
    },
    {
     "name": "stdout",
     "output_type": "stream",
     "text": [
      "[ Train | 132/300 ] loss = 0.45449, acc = 0.84674\n"
     ]
    },
    {
     "name": "stderr",
     "output_type": "stream",
     "text": [
      "V: 132/300: 100%|████| 26/26 [00:02<00:00, 11.31it/s, v_loss=0.798, v_acc=0.764]\n"
     ]
    },
    {
     "name": "stdout",
     "output_type": "stream",
     "text": [
      "[ Valid | 132/300 ] loss = 0.79801, acc = 0.76447\n",
      "[ Valid | 132/300 ] loss = 0.79801, acc = 0.76447\n"
     ]
    },
    {
     "name": "stderr",
     "output_type": "stream",
     "text": [
      "T: 133/300: 100%|█| 78/78 [00:08<00:00,  8.78it/s, lr=0.000138, b_loss=0.46, b_a\n"
     ]
    },
    {
     "name": "stdout",
     "output_type": "stream",
     "text": [
      "[ Train | 133/300 ] loss = 0.41010, acc = 0.85741\n"
     ]
    },
    {
     "name": "stderr",
     "output_type": "stream",
     "text": [
      "V: 133/300: 100%|████| 26/26 [00:02<00:00, 10.77it/s, v_loss=0.764, v_acc=0.773]\n"
     ]
    },
    {
     "name": "stdout",
     "output_type": "stream",
     "text": [
      "[ Valid | 133/300 ] loss = 0.76368, acc = 0.77314\n",
      "[ Valid | 133/300 ] loss = 0.76368, acc = 0.77314\n"
     ]
    },
    {
     "name": "stderr",
     "output_type": "stream",
     "text": [
      "T: 134/300: 100%|█| 78/78 [00:08<00:00,  8.94it/s, lr=0.000109, b_loss=0.314, b_\n"
     ]
    },
    {
     "name": "stdout",
     "output_type": "stream",
     "text": [
      "[ Train | 134/300 ] loss = 0.40279, acc = 0.86199\n"
     ]
    },
    {
     "name": "stderr",
     "output_type": "stream",
     "text": [
      "V: 134/300: 100%|████| 26/26 [00:02<00:00, 10.70it/s, v_loss=0.744, v_acc=0.773]\n"
     ]
    },
    {
     "name": "stdout",
     "output_type": "stream",
     "text": [
      "[ Valid | 134/300 ] loss = 0.74392, acc = 0.77348\n",
      "[ Valid | 134/300 ] loss = 0.74392, acc = 0.77348\n"
     ]
    },
    {
     "name": "stderr",
     "output_type": "stream",
     "text": [
      "T: 135/300: 100%|█| 78/78 [00:08<00:00,  8.74it/s, lr=8.24e-5, b_loss=0.477, b_a\n"
     ]
    },
    {
     "name": "stdout",
     "output_type": "stream",
     "text": [
      "[ Train | 135/300 ] loss = 0.38075, acc = 0.86939\n"
     ]
    },
    {
     "name": "stderr",
     "output_type": "stream",
     "text": [
      "V: 135/300: 100%|████| 26/26 [00:02<00:00, 10.72it/s, v_loss=0.741, v_acc=0.778]\n"
     ]
    },
    {
     "name": "stdout",
     "output_type": "stream",
     "text": [
      "[ Valid | 135/300 ] loss = 0.74124, acc = 0.77768\n",
      "[ Valid | 135/300 ] loss = 0.74124, acc = 0.77768 -> best\n",
      "Best model found at fold 3 epoch 135, acc=0.77768, saving model\n"
     ]
    },
    {
     "name": "stderr",
     "output_type": "stream",
     "text": [
      "T: 136/300: 100%|█| 78/78 [00:08<00:00,  8.83it/s, lr=5.86e-5, b_loss=0.331, b_a\n"
     ]
    },
    {
     "name": "stdout",
     "output_type": "stream",
     "text": [
      "[ Train | 136/300 ] loss = 0.36839, acc = 0.87464\n"
     ]
    },
    {
     "name": "stderr",
     "output_type": "stream",
     "text": [
      "V: 136/300: 100%|████| 26/26 [00:02<00:00, 10.72it/s, v_loss=0.738, v_acc=0.781]\n"
     ]
    },
    {
     "name": "stdout",
     "output_type": "stream",
     "text": [
      "[ Valid | 136/300 ] loss = 0.73759, acc = 0.78094\n",
      "[ Valid | 136/300 ] loss = 0.73759, acc = 0.78094 -> best\n",
      "Best model found at fold 3 epoch 136, acc=0.78094, saving model\n"
     ]
    },
    {
     "name": "stderr",
     "output_type": "stream",
     "text": [
      "T: 137/300: 100%|█| 78/78 [00:08<00:00,  8.83it/s, lr=3.82e-5, b_loss=0.273, b_a\n"
     ]
    },
    {
     "name": "stdout",
     "output_type": "stream",
     "text": [
      "[ Train | 137/300 ] loss = 0.35857, acc = 0.87680\n"
     ]
    },
    {
     "name": "stderr",
     "output_type": "stream",
     "text": [
      "V: 137/300: 100%|████| 26/26 [00:02<00:00, 11.04it/s, v_loss=0.732, v_acc=0.782]\n"
     ]
    },
    {
     "name": "stdout",
     "output_type": "stream",
     "text": [
      "[ Valid | 137/300 ] loss = 0.73172, acc = 0.78189\n",
      "[ Valid | 137/300 ] loss = 0.73172, acc = 0.78189 -> best\n",
      "Best model found at fold 3 epoch 137, acc=0.78189, saving model\n"
     ]
    },
    {
     "name": "stderr",
     "output_type": "stream",
     "text": [
      "T: 138/300: 100%|█| 78/78 [00:08<00:00,  8.75it/s, lr=2.18e-5, b_loss=0.264, b_a\n"
     ]
    },
    {
     "name": "stdout",
     "output_type": "stream",
     "text": [
      "[ Train | 138/300 ] loss = 0.33927, acc = 0.88219\n"
     ]
    },
    {
     "name": "stderr",
     "output_type": "stream",
     "text": [
      "V: 138/300: 100%|████| 26/26 [00:02<00:00, 11.61it/s, v_loss=0.727, v_acc=0.779]\n"
     ]
    },
    {
     "name": "stdout",
     "output_type": "stream",
     "text": [
      "[ Valid | 138/300 ] loss = 0.72677, acc = 0.77944\n",
      "[ Valid | 138/300 ] loss = 0.72677, acc = 0.77944\n"
     ]
    },
    {
     "name": "stderr",
     "output_type": "stream",
     "text": [
      "T: 139/300: 100%|█| 78/78 [00:08<00:00,  8.75it/s, lr=9.79e-6, b_loss=0.264, b_a\n"
     ]
    },
    {
     "name": "stdout",
     "output_type": "stream",
     "text": [
      "[ Train | 139/300 ] loss = 0.34231, acc = 0.88158\n"
     ]
    },
    {
     "name": "stderr",
     "output_type": "stream",
     "text": [
      "V: 139/300: 100%|████| 26/26 [00:02<00:00, 10.95it/s, v_loss=0.715, v_acc=0.785]\n"
     ]
    },
    {
     "name": "stdout",
     "output_type": "stream",
     "text": [
      "[ Valid | 139/300 ] loss = 0.71518, acc = 0.78495\n",
      "[ Valid | 139/300 ] loss = 0.71518, acc = 0.78495 -> best\n",
      "Best model found at fold 3 epoch 139, acc=0.78495, saving model\n"
     ]
    },
    {
     "name": "stderr",
     "output_type": "stream",
     "text": [
      "T: 140/300: 100%|█| 78/78 [00:08<00:00,  8.92it/s, lr=2.46e-6, b_loss=0.439, b_a\n"
     ]
    },
    {
     "name": "stdout",
     "output_type": "stream",
     "text": [
      "[ Train | 140/300 ] loss = 0.33156, acc = 0.88680\n"
     ]
    },
    {
     "name": "stderr",
     "output_type": "stream",
     "text": [
      "V: 140/300: 100%|█████| 26/26 [00:02<00:00, 10.76it/s, v_loss=0.72, v_acc=0.784]\n"
     ]
    },
    {
     "name": "stdout",
     "output_type": "stream",
     "text": [
      "[ Valid | 140/300 ] loss = 0.72046, acc = 0.78372\n",
      "[ Valid | 140/300 ] loss = 0.72046, acc = 0.78372\n"
     ]
    },
    {
     "name": "stderr",
     "output_type": "stream",
     "text": [
      "T: 141/300: 100%|█| 78/78 [00:08<00:00,  8.97it/s, lr=0.0004, b_loss=0.549, b_ac\n"
     ]
    },
    {
     "name": "stdout",
     "output_type": "stream",
     "text": [
      "[ Train | 141/300 ] loss = 0.57368, acc = 0.80316\n"
     ]
    },
    {
     "name": "stderr",
     "output_type": "stream",
     "text": [
      "V: 141/300: 100%|█████| 26/26 [00:02<00:00, 11.12it/s, v_loss=1.38, v_acc=0.648]\n"
     ]
    },
    {
     "name": "stdout",
     "output_type": "stream",
     "text": [
      "[ Valid | 141/300 ] loss = 1.37628, acc = 0.64797\n",
      "[ Valid | 141/300 ] loss = 1.37628, acc = 0.64797\n"
     ]
    },
    {
     "name": "stderr",
     "output_type": "stream",
     "text": [
      "T: 142/300: 100%|█| 78/78 [00:08<00:00,  8.86it/s, lr=0.000398, b_loss=0.591, b_\n"
     ]
    },
    {
     "name": "stdout",
     "output_type": "stream",
     "text": [
      "[ Train | 142/300 ] loss = 0.60151, acc = 0.79166\n"
     ]
    },
    {
     "name": "stderr",
     "output_type": "stream",
     "text": [
      "V: 142/300: 100%|██████| 26/26 [00:02<00:00, 11.16it/s, v_loss=1.1, v_acc=0.695]\n"
     ]
    },
    {
     "name": "stdout",
     "output_type": "stream",
     "text": [
      "[ Valid | 142/300 ] loss = 1.09851, acc = 0.69501\n",
      "[ Valid | 142/300 ] loss = 1.09851, acc = 0.69501\n"
     ]
    },
    {
     "name": "stderr",
     "output_type": "stream",
     "text": [
      "T: 143/300: 100%|█| 78/78 [00:08<00:00,  8.90it/s, lr=0.00039, b_loss=0.588, b_a\n"
     ]
    },
    {
     "name": "stdout",
     "output_type": "stream",
     "text": [
      "[ Train | 143/300 ] loss = 0.57442, acc = 0.80297\n"
     ]
    },
    {
     "name": "stderr",
     "output_type": "stream",
     "text": [
      "V: 143/300: 100%|████| 26/26 [00:02<00:00, 11.18it/s, v_loss=0.921, v_acc=0.726]\n"
     ]
    },
    {
     "name": "stdout",
     "output_type": "stream",
     "text": [
      "[ Valid | 143/300 ] loss = 0.92058, acc = 0.72631\n",
      "[ Valid | 143/300 ] loss = 0.92058, acc = 0.72631\n"
     ]
    },
    {
     "name": "stderr",
     "output_type": "stream",
     "text": [
      "T: 144/300: 100%|█| 78/78 [00:08<00:00,  8.87it/s, lr=0.000378, b_loss=0.366, b_\n"
     ]
    },
    {
     "name": "stdout",
     "output_type": "stream",
     "text": [
      "[ Train | 144/300 ] loss = 0.55231, acc = 0.80675\n"
     ]
    },
    {
     "name": "stderr",
     "output_type": "stream",
     "text": [
      "V: 144/300: 100%|█████| 26/26 [00:02<00:00, 10.76it/s, v_loss=1.01, v_acc=0.714]\n"
     ]
    },
    {
     "name": "stdout",
     "output_type": "stream",
     "text": [
      "[ Valid | 144/300 ] loss = 1.01315, acc = 0.71395\n",
      "[ Valid | 144/300 ] loss = 1.01315, acc = 0.71395\n"
     ]
    },
    {
     "name": "stderr",
     "output_type": "stream",
     "text": [
      "T: 145/300: 100%|█| 78/78 [00:08<00:00,  9.05it/s, lr=0.000362, b_loss=0.628, b_\n"
     ]
    },
    {
     "name": "stdout",
     "output_type": "stream",
     "text": [
      "[ Train | 145/300 ] loss = 0.51645, acc = 0.81956\n"
     ]
    },
    {
     "name": "stderr",
     "output_type": "stream",
     "text": [
      "V: 145/300: 100%|████| 26/26 [00:02<00:00, 10.68it/s, v_loss=0.948, v_acc=0.725]\n"
     ]
    },
    {
     "name": "stdout",
     "output_type": "stream",
     "text": [
      "[ Valid | 145/300 ] loss = 0.94803, acc = 0.72476\n",
      "[ Valid | 145/300 ] loss = 0.94803, acc = 0.72476\n"
     ]
    },
    {
     "name": "stderr",
     "output_type": "stream",
     "text": [
      "T: 146/300: 100%|█| 78/78 [00:08<00:00,  8.92it/s, lr=0.000341, b_loss=0.605, b_\n"
     ]
    },
    {
     "name": "stdout",
     "output_type": "stream",
     "text": [
      "[ Train | 146/300 ] loss = 0.49925, acc = 0.82533\n"
     ]
    },
    {
     "name": "stderr",
     "output_type": "stream",
     "text": [
      "V: 146/300: 100%|█████| 26/26 [00:02<00:00, 12.32it/s, v_loss=0.93, v_acc=0.729]\n"
     ]
    },
    {
     "name": "stdout",
     "output_type": "stream",
     "text": [
      "[ Valid | 146/300 ] loss = 0.92997, acc = 0.72896\n",
      "[ Valid | 146/300 ] loss = 0.92997, acc = 0.72896\n"
     ]
    },
    {
     "name": "stderr",
     "output_type": "stream",
     "text": [
      "T: 147/300: 100%|█| 78/78 [00:09<00:00,  8.63it/s, lr=0.000318, b_loss=0.577, b_\n"
     ]
    },
    {
     "name": "stdout",
     "output_type": "stream",
     "text": [
      "[ Train | 147/300 ] loss = 0.50051, acc = 0.82421\n"
     ]
    },
    {
     "name": "stderr",
     "output_type": "stream",
     "text": [
      "V: 147/300: 100%|█████| 26/26 [00:02<00:00, 10.64it/s, v_loss=0.83, v_acc=0.752]\n"
     ]
    },
    {
     "name": "stdout",
     "output_type": "stream",
     "text": [
      "[ Valid | 147/300 ] loss = 0.83008, acc = 0.75239\n",
      "[ Valid | 147/300 ] loss = 0.83008, acc = 0.75239\n"
     ]
    },
    {
     "name": "stderr",
     "output_type": "stream",
     "text": [
      "T: 148/300: 100%|█| 78/78 [00:08<00:00,  8.82it/s, lr=0.000291, b_loss=0.649, b_\n"
     ]
    },
    {
     "name": "stdout",
     "output_type": "stream",
     "text": [
      "[ Train | 148/300 ] loss = 0.48074, acc = 0.83129\n"
     ]
    },
    {
     "name": "stderr",
     "output_type": "stream",
     "text": [
      "V: 148/300: 100%|█████| 26/26 [00:02<00:00, 10.13it/s, v_loss=0.82, v_acc=0.743]\n"
     ]
    },
    {
     "name": "stdout",
     "output_type": "stream",
     "text": [
      "[ Valid | 148/300 ] loss = 0.82033, acc = 0.74278\n",
      "[ Valid | 148/300 ] loss = 0.82033, acc = 0.74278\n"
     ]
    },
    {
     "name": "stderr",
     "output_type": "stream",
     "text": [
      "T: 149/300: 100%|█| 78/78 [00:08<00:00,  8.89it/s, lr=0.000262, b_loss=0.441, b_\n"
     ]
    },
    {
     "name": "stdout",
     "output_type": "stream",
     "text": [
      "[ Train | 149/300 ] loss = 0.44169, acc = 0.84555\n"
     ]
    },
    {
     "name": "stderr",
     "output_type": "stream",
     "text": [
      "V: 149/300: 100%|█████| 26/26 [00:02<00:00,  9.99it/s, v_loss=0.916, v_acc=0.73]\n"
     ]
    },
    {
     "name": "stdout",
     "output_type": "stream",
     "text": [
      "[ Valid | 149/300 ] loss = 0.91626, acc = 0.72954\n",
      "[ Valid | 149/300 ] loss = 0.91626, acc = 0.72954\n"
     ]
    },
    {
     "name": "stderr",
     "output_type": "stream",
     "text": [
      "T: 150/300: 100%|█| 78/78 [00:08<00:00,  8.83it/s, lr=0.000231, b_loss=0.338, b_\n"
     ]
    },
    {
     "name": "stdout",
     "output_type": "stream",
     "text": [
      "[ Train | 150/300 ] loss = 0.43058, acc = 0.84785\n"
     ]
    },
    {
     "name": "stderr",
     "output_type": "stream",
     "text": [
      "V: 150/300: 100%|████| 26/26 [00:02<00:00, 10.58it/s, v_loss=0.829, v_acc=0.751]\n"
     ]
    },
    {
     "name": "stdout",
     "output_type": "stream",
     "text": [
      "[ Valid | 150/300 ] loss = 0.82886, acc = 0.75146\n",
      "[ Valid | 150/300 ] loss = 0.82886, acc = 0.75146\n"
     ]
    },
    {
     "name": "stderr",
     "output_type": "stream",
     "text": [
      "T: 151/300: 100%|█| 78/78 [00:08<00:00,  9.09it/s, lr=0.0002, b_loss=0.334, b_ac\n"
     ]
    },
    {
     "name": "stdout",
     "output_type": "stream",
     "text": [
      "[ Train | 151/300 ] loss = 0.40052, acc = 0.85956\n"
     ]
    },
    {
     "name": "stderr",
     "output_type": "stream",
     "text": [
      "V: 151/300: 100%|████| 26/26 [00:02<00:00, 10.57it/s, v_loss=0.794, v_acc=0.768]\n"
     ]
    },
    {
     "name": "stdout",
     "output_type": "stream",
     "text": [
      "[ Valid | 151/300 ] loss = 0.79356, acc = 0.76805\n",
      "[ Valid | 151/300 ] loss = 0.79356, acc = 0.76805\n"
     ]
    },
    {
     "name": "stderr",
     "output_type": "stream",
     "text": [
      "T: 152/300: 100%|█| 78/78 [00:08<00:00,  8.89it/s, lr=0.000169, b_loss=0.407, b_\n"
     ]
    },
    {
     "name": "stdout",
     "output_type": "stream",
     "text": [
      "[ Train | 152/300 ] loss = 0.38152, acc = 0.86699\n"
     ]
    },
    {
     "name": "stderr",
     "output_type": "stream",
     "text": [
      "V: 152/300: 100%|████| 26/26 [00:02<00:00, 11.16it/s, v_loss=0.826, v_acc=0.758]\n"
     ]
    },
    {
     "name": "stdout",
     "output_type": "stream",
     "text": [
      "[ Valid | 152/300 ] loss = 0.82621, acc = 0.75810\n",
      "[ Valid | 152/300 ] loss = 0.82621, acc = 0.75810\n"
     ]
    },
    {
     "name": "stderr",
     "output_type": "stream",
     "text": [
      "T: 153/300: 100%|█| 78/78 [00:08<00:00,  8.86it/s, lr=0.000138, b_loss=0.293, b_\n"
     ]
    },
    {
     "name": "stdout",
     "output_type": "stream",
     "text": [
      "[ Train | 153/300 ] loss = 0.35965, acc = 0.87437\n"
     ]
    },
    {
     "name": "stderr",
     "output_type": "stream",
     "text": [
      "V: 153/300: 100%|█████| 26/26 [00:02<00:00, 11.73it/s, v_loss=0.779, v_acc=0.77]\n"
     ]
    },
    {
     "name": "stdout",
     "output_type": "stream",
     "text": [
      "[ Valid | 153/300 ] loss = 0.77948, acc = 0.76994\n",
      "[ Valid | 153/300 ] loss = 0.77948, acc = 0.76994\n"
     ]
    },
    {
     "name": "stderr",
     "output_type": "stream",
     "text": [
      "T: 154/300: 100%|█| 78/78 [00:08<00:00,  8.75it/s, lr=0.000109, b_loss=0.411, b_\n"
     ]
    },
    {
     "name": "stdout",
     "output_type": "stream",
     "text": [
      "[ Train | 154/300 ] loss = 0.34103, acc = 0.88595\n"
     ]
    },
    {
     "name": "stderr",
     "output_type": "stream",
     "text": [
      "V: 154/300: 100%|████| 26/26 [00:02<00:00, 11.47it/s, v_loss=0.802, v_acc=0.772]\n"
     ]
    },
    {
     "name": "stdout",
     "output_type": "stream",
     "text": [
      "[ Valid | 154/300 ] loss = 0.80213, acc = 0.77167\n",
      "[ Valid | 154/300 ] loss = 0.80213, acc = 0.77167\n"
     ]
    },
    {
     "name": "stderr",
     "output_type": "stream",
     "text": [
      "T: 155/300: 100%|█| 78/78 [00:08<00:00,  9.10it/s, lr=8.24e-5, b_loss=0.365, b_a\n"
     ]
    },
    {
     "name": "stdout",
     "output_type": "stream",
     "text": [
      "[ Train | 155/300 ] loss = 0.32311, acc = 0.88997\n"
     ]
    },
    {
     "name": "stderr",
     "output_type": "stream",
     "text": [
      "V: 155/300: 100%|████| 26/26 [00:02<00:00, 10.83it/s, v_loss=0.763, v_acc=0.784]\n"
     ]
    },
    {
     "name": "stdout",
     "output_type": "stream",
     "text": [
      "[ Valid | 155/300 ] loss = 0.76263, acc = 0.78428\n",
      "[ Valid | 155/300 ] loss = 0.76263, acc = 0.78428\n"
     ]
    },
    {
     "name": "stderr",
     "output_type": "stream",
     "text": [
      "T: 156/300: 100%|█| 78/78 [00:08<00:00,  8.88it/s, lr=5.86e-5, b_loss=0.211, b_a\n"
     ]
    },
    {
     "name": "stdout",
     "output_type": "stream",
     "text": [
      "[ Train | 156/300 ] loss = 0.30704, acc = 0.89337\n"
     ]
    },
    {
     "name": "stderr",
     "output_type": "stream",
     "text": [
      "V: 156/300: 100%|████| 26/26 [00:02<00:00, 11.45it/s, v_loss=0.748, v_acc=0.783]\n"
     ]
    },
    {
     "name": "stdout",
     "output_type": "stream",
     "text": [
      "[ Valid | 156/300 ] loss = 0.74772, acc = 0.78285\n",
      "[ Valid | 156/300 ] loss = 0.74772, acc = 0.78285\n"
     ]
    },
    {
     "name": "stderr",
     "output_type": "stream",
     "text": [
      "T: 157/300: 100%|█| 78/78 [00:08<00:00,  8.93it/s, lr=3.82e-5, b_loss=0.353, b_a\n"
     ]
    },
    {
     "name": "stdout",
     "output_type": "stream",
     "text": [
      "[ Train | 157/300 ] loss = 0.29546, acc = 0.90093\n"
     ]
    },
    {
     "name": "stderr",
     "output_type": "stream",
     "text": [
      "V: 157/300: 100%|████| 26/26 [00:02<00:00, 11.52it/s, v_loss=0.753, v_acc=0.785]\n"
     ]
    },
    {
     "name": "stdout",
     "output_type": "stream",
     "text": [
      "[ Valid | 157/300 ] loss = 0.75255, acc = 0.78488\n",
      "[ Valid | 157/300 ] loss = 0.75255, acc = 0.78488\n"
     ]
    },
    {
     "name": "stderr",
     "output_type": "stream",
     "text": [
      "T: 158/300: 100%|█| 78/78 [00:08<00:00,  8.98it/s, lr=2.18e-5, b_loss=0.348, b_a\n"
     ]
    },
    {
     "name": "stdout",
     "output_type": "stream",
     "text": [
      "[ Train | 158/300 ] loss = 0.28184, acc = 0.90358\n"
     ]
    },
    {
     "name": "stderr",
     "output_type": "stream",
     "text": [
      "V: 158/300: 100%|████| 26/26 [00:02<00:00, 12.10it/s, v_loss=0.749, v_acc=0.789]\n"
     ]
    },
    {
     "name": "stdout",
     "output_type": "stream",
     "text": [
      "[ Valid | 158/300 ] loss = 0.74883, acc = 0.78938\n",
      "[ Valid | 158/300 ] loss = 0.74883, acc = 0.78938 -> best\n",
      "Best model found at fold 3 epoch 158, acc=0.78938, saving model\n"
     ]
    },
    {
     "name": "stderr",
     "output_type": "stream",
     "text": [
      "T: 159/300: 100%|█| 78/78 [00:08<00:00,  9.02it/s, lr=9.79e-6, b_loss=0.38, b_ac\n"
     ]
    },
    {
     "name": "stdout",
     "output_type": "stream",
     "text": [
      "[ Train | 159/300 ] loss = 0.27758, acc = 0.90629\n"
     ]
    },
    {
     "name": "stderr",
     "output_type": "stream",
     "text": [
      "V: 159/300: 100%|████| 26/26 [00:02<00:00, 11.39it/s, v_loss=0.743, v_acc=0.788]\n"
     ]
    },
    {
     "name": "stdout",
     "output_type": "stream",
     "text": [
      "[ Valid | 159/300 ] loss = 0.74282, acc = 0.78821\n",
      "[ Valid | 159/300 ] loss = 0.74282, acc = 0.78821\n"
     ]
    },
    {
     "name": "stderr",
     "output_type": "stream",
     "text": [
      "T: 160/300: 100%|█| 78/78 [00:08<00:00,  9.07it/s, lr=2.46e-6, b_loss=0.333, b_a\n"
     ]
    },
    {
     "name": "stdout",
     "output_type": "stream",
     "text": [
      "[ Train | 160/300 ] loss = 0.28134, acc = 0.90454\n"
     ]
    },
    {
     "name": "stderr",
     "output_type": "stream",
     "text": [
      "V: 160/300: 100%|████| 26/26 [00:02<00:00, 10.73it/s, v_loss=0.747, v_acc=0.785]\n"
     ]
    },
    {
     "name": "stdout",
     "output_type": "stream",
     "text": [
      "[ Valid | 160/300 ] loss = 0.74665, acc = 0.78524\n",
      "[ Valid | 160/300 ] loss = 0.74665, acc = 0.78524\n"
     ]
    },
    {
     "name": "stderr",
     "output_type": "stream",
     "text": [
      "T: 161/300: 100%|█| 78/78 [00:08<00:00,  8.96it/s, lr=0.0004, b_loss=0.569, b_ac\n"
     ]
    },
    {
     "name": "stdout",
     "output_type": "stream",
     "text": [
      "[ Train | 161/300 ] loss = 0.50443, acc = 0.82255\n"
     ]
    },
    {
     "name": "stderr",
     "output_type": "stream",
     "text": [
      "V: 161/300: 100%|████| 26/26 [00:02<00:00, 11.56it/s, v_loss=0.987, v_acc=0.719]\n"
     ]
    },
    {
     "name": "stdout",
     "output_type": "stream",
     "text": [
      "[ Valid | 161/300 ] loss = 0.98734, acc = 0.71907\n",
      "[ Valid | 161/300 ] loss = 0.98734, acc = 0.71907\n"
     ]
    },
    {
     "name": "stderr",
     "output_type": "stream",
     "text": [
      "T: 162/300: 100%|█| 78/78 [00:08<00:00,  9.11it/s, lr=0.000398, b_loss=0.693, b_\n"
     ]
    },
    {
     "name": "stdout",
     "output_type": "stream",
     "text": [
      "[ Train | 162/300 ] loss = 0.51595, acc = 0.82123\n"
     ]
    },
    {
     "name": "stderr",
     "output_type": "stream",
     "text": [
      "V: 162/300: 100%|█████| 26/26 [00:02<00:00, 11.83it/s, v_loss=1.13, v_acc=0.681]\n"
     ]
    },
    {
     "name": "stdout",
     "output_type": "stream",
     "text": [
      "[ Valid | 162/300 ] loss = 1.13048, acc = 0.68108\n",
      "[ Valid | 162/300 ] loss = 1.13048, acc = 0.68108\n"
     ]
    },
    {
     "name": "stderr",
     "output_type": "stream",
     "text": [
      "T: 163/300: 100%|█| 78/78 [00:08<00:00,  8.95it/s, lr=0.00039, b_loss=0.746, b_a\n"
     ]
    },
    {
     "name": "stdout",
     "output_type": "stream",
     "text": [
      "[ Train | 163/300 ] loss = 0.52866, acc = 0.81498\n"
     ]
    },
    {
     "name": "stderr",
     "output_type": "stream",
     "text": [
      "V: 163/300: 100%|█████| 26/26 [00:02<00:00, 11.28it/s, v_loss=1.41, v_acc=0.653]\n"
     ]
    },
    {
     "name": "stdout",
     "output_type": "stream",
     "text": [
      "[ Valid | 163/300 ] loss = 1.40748, acc = 0.65265\n",
      "[ Valid | 163/300 ] loss = 1.40748, acc = 0.65265\n"
     ]
    },
    {
     "name": "stderr",
     "output_type": "stream",
     "text": [
      "T: 164/300: 100%|█| 78/78 [00:08<00:00,  9.03it/s, lr=0.000378, b_loss=0.482, b_\n"
     ]
    },
    {
     "name": "stdout",
     "output_type": "stream",
     "text": [
      "[ Train | 164/300 ] loss = 0.48986, acc = 0.82639\n"
     ]
    },
    {
     "name": "stderr",
     "output_type": "stream",
     "text": [
      "V: 164/300: 100%|████| 26/26 [00:02<00:00, 11.13it/s, v_loss=0.861, v_acc=0.746]\n"
     ]
    },
    {
     "name": "stdout",
     "output_type": "stream",
     "text": [
      "[ Valid | 164/300 ] loss = 0.86093, acc = 0.74637\n",
      "[ Valid | 164/300 ] loss = 0.86093, acc = 0.74637\n"
     ]
    },
    {
     "name": "stderr",
     "output_type": "stream",
     "text": [
      "T: 165/300: 100%|█| 78/78 [00:08<00:00,  9.03it/s, lr=0.000362, b_loss=0.407, b_\n"
     ]
    },
    {
     "name": "stdout",
     "output_type": "stream",
     "text": [
      "[ Train | 165/300 ] loss = 0.45786, acc = 0.83760\n"
     ]
    },
    {
     "name": "stderr",
     "output_type": "stream",
     "text": [
      "V: 165/300: 100%|████| 26/26 [00:02<00:00, 12.00it/s, v_loss=0.803, v_acc=0.751]\n"
     ]
    },
    {
     "name": "stdout",
     "output_type": "stream",
     "text": [
      "[ Valid | 165/300 ] loss = 0.80337, acc = 0.75146\n",
      "[ Valid | 165/300 ] loss = 0.80337, acc = 0.75146\n"
     ]
    },
    {
     "name": "stderr",
     "output_type": "stream",
     "text": [
      "T: 166/300: 100%|█| 78/78 [00:09<00:00,  8.65it/s, lr=0.000341, b_loss=0.62, b_a\n"
     ]
    },
    {
     "name": "stdout",
     "output_type": "stream",
     "text": [
      "[ Train | 166/300 ] loss = 0.44686, acc = 0.84199\n"
     ]
    },
    {
     "name": "stderr",
     "output_type": "stream",
     "text": [
      "V: 166/300: 100%|████| 26/26 [00:02<00:00, 11.81it/s, v_loss=0.911, v_acc=0.742]\n"
     ]
    },
    {
     "name": "stdout",
     "output_type": "stream",
     "text": [
      "[ Valid | 166/300 ] loss = 0.91084, acc = 0.74158\n",
      "[ Valid | 166/300 ] loss = 0.91084, acc = 0.74158\n"
     ]
    },
    {
     "name": "stderr",
     "output_type": "stream",
     "text": [
      "T: 167/300: 100%|█| 78/78 [00:08<00:00,  9.20it/s, lr=0.000318, b_loss=0.522, b_\n"
     ]
    },
    {
     "name": "stdout",
     "output_type": "stream",
     "text": [
      "[ Train | 167/300 ] loss = 0.44729, acc = 0.84644\n"
     ]
    },
    {
     "name": "stderr",
     "output_type": "stream",
     "text": [
      "V: 167/300: 100%|████| 26/26 [00:02<00:00, 11.90it/s, v_loss=0.975, v_acc=0.731]\n"
     ]
    },
    {
     "name": "stdout",
     "output_type": "stream",
     "text": [
      "[ Valid | 167/300 ] loss = 0.97531, acc = 0.73078\n",
      "[ Valid | 167/300 ] loss = 0.97531, acc = 0.73078\n"
     ]
    },
    {
     "name": "stderr",
     "output_type": "stream",
     "text": [
      "T: 168/300: 100%|█| 78/78 [00:08<00:00,  9.04it/s, lr=0.000291, b_loss=0.44, b_a\n"
     ]
    },
    {
     "name": "stdout",
     "output_type": "stream",
     "text": [
      "[ Train | 168/300 ] loss = 0.41761, acc = 0.85749\n"
     ]
    },
    {
     "name": "stderr",
     "output_type": "stream",
     "text": [
      "V: 168/300: 100%|█████| 26/26 [00:02<00:00, 11.74it/s, v_loss=0.877, v_acc=0.74]\n"
     ]
    },
    {
     "name": "stdout",
     "output_type": "stream",
     "text": [
      "[ Valid | 168/300 ] loss = 0.87692, acc = 0.73977\n",
      "[ Valid | 168/300 ] loss = 0.87692, acc = 0.73977\n"
     ]
    },
    {
     "name": "stderr",
     "output_type": "stream",
     "text": [
      "T: 169/300: 100%|█| 78/78 [00:08<00:00,  8.92it/s, lr=0.000262, b_loss=0.54, b_a\n"
     ]
    },
    {
     "name": "stdout",
     "output_type": "stream",
     "text": [
      "[ Train | 169/300 ] loss = 0.39599, acc = 0.86241\n"
     ]
    },
    {
     "name": "stderr",
     "output_type": "stream",
     "text": [
      "V: 169/300: 100%|████| 26/26 [00:02<00:00, 11.30it/s, v_loss=0.912, v_acc=0.745]\n"
     ]
    },
    {
     "name": "stdout",
     "output_type": "stream",
     "text": [
      "[ Valid | 169/300 ] loss = 0.91213, acc = 0.74488\n",
      "[ Valid | 169/300 ] loss = 0.91213, acc = 0.74488\n"
     ]
    },
    {
     "name": "stderr",
     "output_type": "stream",
     "text": [
      "T: 170/300: 100%|█| 78/78 [00:08<00:00,  8.85it/s, lr=0.000231, b_loss=0.356, b_\n"
     ]
    },
    {
     "name": "stdout",
     "output_type": "stream",
     "text": [
      "[ Train | 170/300 ] loss = 0.37547, acc = 0.87076\n"
     ]
    },
    {
     "name": "stderr",
     "output_type": "stream",
     "text": [
      "V: 170/300: 100%|████| 26/26 [00:02<00:00, 11.02it/s, v_loss=0.948, v_acc=0.737]\n"
     ]
    },
    {
     "name": "stdout",
     "output_type": "stream",
     "text": [
      "[ Valid | 170/300 ] loss = 0.94809, acc = 0.73677\n",
      "[ Valid | 170/300 ] loss = 0.94809, acc = 0.73677\n"
     ]
    },
    {
     "name": "stderr",
     "output_type": "stream",
     "text": [
      "T: 171/300: 100%|█| 78/78 [00:08<00:00,  8.93it/s, lr=0.0002, b_loss=0.371, b_ac\n"
     ]
    },
    {
     "name": "stdout",
     "output_type": "stream",
     "text": [
      "[ Train | 171/300 ] loss = 0.35580, acc = 0.87774\n"
     ]
    },
    {
     "name": "stderr",
     "output_type": "stream",
     "text": [
      "V: 171/300: 100%|████| 26/26 [00:02<00:00, 10.75it/s, v_loss=0.835, v_acc=0.755]\n"
     ]
    },
    {
     "name": "stdout",
     "output_type": "stream",
     "text": [
      "[ Valid | 171/300 ] loss = 0.83451, acc = 0.75480\n",
      "[ Valid | 171/300 ] loss = 0.83451, acc = 0.75480\n"
     ]
    },
    {
     "name": "stderr",
     "output_type": "stream",
     "text": [
      "T: 172/300:  97%|▉| 76/78 [00:08<00:00, 11.41it/s, lr=0.000169, b_loss=0.293, b_wandb: Network error (ConnectionError), entering retry loop.\n",
      "T: 172/300: 100%|█| 78/78 [00:08<00:00,  8.82it/s, lr=0.000169, b_loss=0.256, b_\n"
     ]
    },
    {
     "name": "stdout",
     "output_type": "stream",
     "text": [
      "[ Train | 172/300 ] loss = 0.32842, acc = 0.88707\n"
     ]
    },
    {
     "name": "stderr",
     "output_type": "stream",
     "text": [
      "V: 172/300: 100%|████| 26/26 [00:02<00:00, 10.73it/s, v_loss=0.809, v_acc=0.772]\n"
     ]
    },
    {
     "name": "stdout",
     "output_type": "stream",
     "text": [
      "[ Valid | 172/300 ] loss = 0.80946, acc = 0.77199\n",
      "[ Valid | 172/300 ] loss = 0.80946, acc = 0.77199\n"
     ]
    },
    {
     "name": "stderr",
     "output_type": "stream",
     "text": [
      "T: 173/300: 100%|█| 78/78 [00:08<00:00,  8.67it/s, lr=0.000138, b_loss=0.296, b_\n"
     ]
    },
    {
     "name": "stdout",
     "output_type": "stream",
     "text": [
      "[ Train | 173/300 ] loss = 0.30977, acc = 0.89041\n"
     ]
    },
    {
     "name": "stderr",
     "output_type": "stream",
     "text": [
      "V: 173/300: 100%|█████| 26/26 [00:02<00:00, 10.46it/s, v_loss=0.81, v_acc=0.766]\n"
     ]
    },
    {
     "name": "stdout",
     "output_type": "stream",
     "text": [
      "[ Valid | 173/300 ] loss = 0.80963, acc = 0.76631\n",
      "[ Valid | 173/300 ] loss = 0.80963, acc = 0.76631\n"
     ]
    },
    {
     "name": "stderr",
     "output_type": "stream",
     "text": [
      "T: 174/300: 100%|█| 78/78 [00:08<00:00,  8.80it/s, lr=0.000109, b_loss=0.359, b_\n"
     ]
    },
    {
     "name": "stdout",
     "output_type": "stream",
     "text": [
      "[ Train | 174/300 ] loss = 0.29356, acc = 0.89969\n"
     ]
    },
    {
     "name": "stderr",
     "output_type": "stream",
     "text": [
      "V: 174/300: 100%|████| 26/26 [00:02<00:00, 10.75it/s, v_loss=0.801, v_acc=0.776]\n"
     ]
    },
    {
     "name": "stdout",
     "output_type": "stream",
     "text": [
      "[ Valid | 174/300 ] loss = 0.80093, acc = 0.77643\n",
      "[ Valid | 174/300 ] loss = 0.80093, acc = 0.77643\n"
     ]
    },
    {
     "name": "stderr",
     "output_type": "stream",
     "text": [
      "T: 175/300: 100%|█| 78/78 [00:08<00:00,  8.99it/s, lr=8.24e-5, b_loss=0.268, b_a\n"
     ]
    },
    {
     "name": "stdout",
     "output_type": "stream",
     "text": [
      "[ Train | 175/300 ] loss = 0.28313, acc = 0.90361\n"
     ]
    },
    {
     "name": "stderr",
     "output_type": "stream",
     "text": [
      "V: 175/300: 100%|████| 26/26 [00:02<00:00, 10.74it/s, v_loss=0.792, v_acc=0.778]\n"
     ]
    },
    {
     "name": "stdout",
     "output_type": "stream",
     "text": [
      "[ Valid | 175/300 ] loss = 0.79165, acc = 0.77838\n",
      "[ Valid | 175/300 ] loss = 0.79165, acc = 0.77838\n"
     ]
    },
    {
     "name": "stderr",
     "output_type": "stream",
     "text": [
      "T: 176/300: 100%|█| 78/78 [00:08<00:00,  9.00it/s, lr=5.86e-5, b_loss=0.305, b_a\n"
     ]
    },
    {
     "name": "stdout",
     "output_type": "stream",
     "text": [
      "[ Train | 176/300 ] loss = 0.25928, acc = 0.91233\n"
     ]
    },
    {
     "name": "stderr",
     "output_type": "stream",
     "text": [
      "V: 176/300: 100%|████| 26/26 [00:02<00:00, 11.86it/s, v_loss=0.785, v_acc=0.782]\n"
     ]
    },
    {
     "name": "stdout",
     "output_type": "stream",
     "text": [
      "[ Valid | 176/300 ] loss = 0.78530, acc = 0.78246\n",
      "[ Valid | 176/300 ] loss = 0.78530, acc = 0.78246\n"
     ]
    },
    {
     "name": "stderr",
     "output_type": "stream",
     "text": [
      "T: 177/300: 100%|█| 78/78 [00:08<00:00,  9.03it/s, lr=3.82e-5, b_loss=0.146, b_a\n"
     ]
    },
    {
     "name": "stdout",
     "output_type": "stream",
     "text": [
      "[ Train | 177/300 ] loss = 0.24656, acc = 0.91440\n"
     ]
    },
    {
     "name": "stderr",
     "output_type": "stream",
     "text": [
      "V: 177/300: 100%|████| 26/26 [00:02<00:00, 10.53it/s, v_loss=0.767, v_acc=0.788]\n"
     ]
    },
    {
     "name": "stdout",
     "output_type": "stream",
     "text": [
      "[ Valid | 177/300 ] loss = 0.76739, acc = 0.78793\n",
      "[ Valid | 177/300 ] loss = 0.76739, acc = 0.78793\n"
     ]
    },
    {
     "name": "stderr",
     "output_type": "stream",
     "text": [
      "T: 178/300: 100%|█| 78/78 [00:08<00:00,  8.98it/s, lr=2.18e-5, b_loss=0.211, b_a\n"
     ]
    },
    {
     "name": "stdout",
     "output_type": "stream",
     "text": [
      "[ Train | 178/300 ] loss = 0.23850, acc = 0.91908\n"
     ]
    },
    {
     "name": "stderr",
     "output_type": "stream",
     "text": [
      "V: 178/300: 100%|████| 26/26 [00:02<00:00, 11.52it/s, v_loss=0.754, v_acc=0.787]\n"
     ]
    },
    {
     "name": "stdout",
     "output_type": "stream",
     "text": [
      "[ Valid | 178/300 ] loss = 0.75410, acc = 0.78697\n",
      "[ Valid | 178/300 ] loss = 0.75410, acc = 0.78697\n"
     ]
    },
    {
     "name": "stderr",
     "output_type": "stream",
     "text": [
      "T: 179/300: 100%|█| 78/78 [00:08<00:00,  9.05it/s, lr=9.79e-6, b_loss=0.352, b_a\n"
     ]
    },
    {
     "name": "stdout",
     "output_type": "stream",
     "text": [
      "[ Train | 179/300 ] loss = 0.24517, acc = 0.91470\n"
     ]
    },
    {
     "name": "stderr",
     "output_type": "stream",
     "text": [
      "V: 179/300: 100%|████| 26/26 [00:02<00:00, 11.89it/s, v_loss=0.764, v_acc=0.791]\n"
     ]
    },
    {
     "name": "stdout",
     "output_type": "stream",
     "text": [
      "[ Valid | 179/300 ] loss = 0.76372, acc = 0.79065\n",
      "[ Valid | 179/300 ] loss = 0.76372, acc = 0.79065 -> best\n",
      "Best model found at fold 3 epoch 179, acc=0.79065, saving model\n"
     ]
    },
    {
     "name": "stderr",
     "output_type": "stream",
     "text": [
      "T: 180/300: 100%|█| 78/78 [00:08<00:00,  8.72it/s, lr=2.46e-6, b_loss=0.134, b_a\n"
     ]
    },
    {
     "name": "stdout",
     "output_type": "stream",
     "text": [
      "[ Train | 180/300 ] loss = 0.23176, acc = 0.92256\n"
     ]
    },
    {
     "name": "stderr",
     "output_type": "stream",
     "text": [
      "V: 180/300: 100%|█████| 26/26 [00:02<00:00, 10.90it/s, v_loss=0.75, v_acc=0.794]\n"
     ]
    },
    {
     "name": "stdout",
     "output_type": "stream",
     "text": [
      "[ Valid | 180/300 ] loss = 0.74958, acc = 0.79420\n",
      "[ Valid | 180/300 ] loss = 0.74958, acc = 0.79420 -> best\n",
      "Best model found at fold 3 epoch 180, acc=0.79420, saving model\n"
     ]
    },
    {
     "name": "stderr",
     "output_type": "stream",
     "text": [
      "T: 181/300: 100%|█| 78/78 [00:08<00:00,  9.12it/s, lr=0.0004, b_loss=0.445, b_ac\n"
     ]
    },
    {
     "name": "stdout",
     "output_type": "stream",
     "text": [
      "[ Train | 181/300 ] loss = 0.43713, acc = 0.85047\n"
     ]
    },
    {
     "name": "stderr",
     "output_type": "stream",
     "text": [
      "V: 181/300: 100%|█████| 26/26 [00:02<00:00, 10.78it/s, v_loss=1.15, v_acc=0.696]\n"
     ]
    },
    {
     "name": "stdout",
     "output_type": "stream",
     "text": [
      "[ Valid | 181/300 ] loss = 1.14922, acc = 0.69613\n",
      "[ Valid | 181/300 ] loss = 1.14922, acc = 0.69613\n"
     ]
    },
    {
     "name": "stderr",
     "output_type": "stream",
     "text": [
      "T: 182/300: 100%|█| 78/78 [00:08<00:00,  8.74it/s, lr=0.000398, b_loss=0.526, b_\n"
     ]
    },
    {
     "name": "stdout",
     "output_type": "stream",
     "text": [
      "[ Train | 182/300 ] loss = 0.50901, acc = 0.82289\n"
     ]
    },
    {
     "name": "stderr",
     "output_type": "stream",
     "text": [
      "V: 182/300: 100%|█████| 26/26 [00:02<00:00, 10.88it/s, v_loss=1.39, v_acc=0.671]\n"
     ]
    },
    {
     "name": "stdout",
     "output_type": "stream",
     "text": [
      "[ Valid | 182/300 ] loss = 1.38896, acc = 0.67053\n",
      "[ Valid | 182/300 ] loss = 1.38896, acc = 0.67053\n"
     ]
    },
    {
     "name": "stderr",
     "output_type": "stream",
     "text": [
      "T: 183/300: 100%|█| 78/78 [00:08<00:00,  8.95it/s, lr=0.00039, b_loss=0.352, b_a\n"
     ]
    },
    {
     "name": "stdout",
     "output_type": "stream",
     "text": [
      "[ Train | 183/300 ] loss = 0.46270, acc = 0.83582\n"
     ]
    },
    {
     "name": "stderr",
     "output_type": "stream",
     "text": [
      "V: 183/300: 100%|██████| 26/26 [00:02<00:00, 11.61it/s, v_loss=1.07, v_acc=0.71]\n"
     ]
    },
    {
     "name": "stdout",
     "output_type": "stream",
     "text": [
      "[ Valid | 183/300 ] loss = 1.06614, acc = 0.70962\n",
      "[ Valid | 183/300 ] loss = 1.06614, acc = 0.70962\n"
     ]
    },
    {
     "name": "stderr",
     "output_type": "stream",
     "text": [
      "T: 184/300: 100%|█| 78/78 [00:08<00:00,  9.10it/s, lr=0.000378, b_loss=0.34, b_a\n"
     ]
    },
    {
     "name": "stdout",
     "output_type": "stream",
     "text": [
      "[ Train | 184/300 ] loss = 0.45041, acc = 0.84665\n"
     ]
    },
    {
     "name": "stderr",
     "output_type": "stream",
     "text": [
      "V: 184/300: 100%|█████| 26/26 [00:02<00:00, 11.17it/s, v_loss=1.06, v_acc=0.717]\n"
     ]
    },
    {
     "name": "stdout",
     "output_type": "stream",
     "text": [
      "[ Valid | 184/300 ] loss = 1.06089, acc = 0.71686\n",
      "[ Valid | 184/300 ] loss = 1.06089, acc = 0.71686\n"
     ]
    },
    {
     "name": "stderr",
     "output_type": "stream",
     "text": [
      "T: 185/300: 100%|█| 78/78 [00:08<00:00,  8.89it/s, lr=0.000362, b_loss=0.384, b_\n"
     ]
    },
    {
     "name": "stdout",
     "output_type": "stream",
     "text": [
      "[ Train | 185/300 ] loss = 0.40923, acc = 0.85731\n"
     ]
    },
    {
     "name": "stderr",
     "output_type": "stream",
     "text": [
      "V: 185/300: 100%|████| 26/26 [00:02<00:00, 10.07it/s, v_loss=0.916, v_acc=0.739]\n"
     ]
    },
    {
     "name": "stdout",
     "output_type": "stream",
     "text": [
      "[ Valid | 185/300 ] loss = 0.91642, acc = 0.73943\n",
      "[ Valid | 185/300 ] loss = 0.91642, acc = 0.73943\n"
     ]
    },
    {
     "name": "stderr",
     "output_type": "stream",
     "text": [
      "T: 186/300: 100%|█| 78/78 [00:08<00:00,  8.74it/s, lr=0.000341, b_loss=0.435, b_\n"
     ]
    },
    {
     "name": "stdout",
     "output_type": "stream",
     "text": [
      "[ Train | 186/300 ] loss = 0.39489, acc = 0.85959\n"
     ]
    },
    {
     "name": "stderr",
     "output_type": "stream",
     "text": [
      "V: 186/300: 100%|█████| 26/26 [00:02<00:00, 11.60it/s, v_loss=1.04, v_acc=0.719]\n"
     ]
    },
    {
     "name": "stdout",
     "output_type": "stream",
     "text": [
      "[ Valid | 186/300 ] loss = 1.04286, acc = 0.71871\n",
      "[ Valid | 186/300 ] loss = 1.04286, acc = 0.71871\n"
     ]
    },
    {
     "name": "stderr",
     "output_type": "stream",
     "text": [
      "T: 187/300: 100%|█| 78/78 [00:08<00:00,  8.78it/s, lr=0.000318, b_loss=0.322, b_\n"
     ]
    },
    {
     "name": "stdout",
     "output_type": "stream",
     "text": [
      "[ Train | 187/300 ] loss = 0.40504, acc = 0.86134\n"
     ]
    },
    {
     "name": "stderr",
     "output_type": "stream",
     "text": [
      "V: 187/300: 100%|████| 26/26 [00:02<00:00, 12.16it/s, v_loss=0.961, v_acc=0.735]\n"
     ]
    },
    {
     "name": "stdout",
     "output_type": "stream",
     "text": [
      "[ Valid | 187/300 ] loss = 0.96095, acc = 0.73532\n",
      "[ Valid | 187/300 ] loss = 0.96095, acc = 0.73532\n"
     ]
    },
    {
     "name": "stderr",
     "output_type": "stream",
     "text": [
      "T: 188/300: 100%|█| 78/78 [00:08<00:00,  9.19it/s, lr=0.000291, b_loss=0.43, b_a\n"
     ]
    },
    {
     "name": "stdout",
     "output_type": "stream",
     "text": [
      "[ Train | 188/300 ] loss = 0.37624, acc = 0.87150\n"
     ]
    },
    {
     "name": "stderr",
     "output_type": "stream",
     "text": [
      "V: 188/300: 100%|████| 26/26 [00:02<00:00, 11.57it/s, v_loss=0.929, v_acc=0.746]\n"
     ]
    },
    {
     "name": "stdout",
     "output_type": "stream",
     "text": [
      "[ Valid | 188/300 ] loss = 0.92908, acc = 0.74605\n",
      "[ Valid | 188/300 ] loss = 0.92908, acc = 0.74605\n"
     ]
    },
    {
     "name": "stderr",
     "output_type": "stream",
     "text": [
      "T: 189/300: 100%|█| 78/78 [00:08<00:00,  8.87it/s, lr=0.000262, b_loss=0.305, b_\n"
     ]
    },
    {
     "name": "stdout",
     "output_type": "stream",
     "text": [
      "[ Train | 189/300 ] loss = 0.34937, acc = 0.88047\n"
     ]
    },
    {
     "name": "stderr",
     "output_type": "stream",
     "text": [
      "V: 189/300: 100%|████| 26/26 [00:02<00:00, 12.10it/s, v_loss=0.844, v_acc=0.763]\n"
     ]
    },
    {
     "name": "stdout",
     "output_type": "stream",
     "text": [
      "[ Valid | 189/300 ] loss = 0.84351, acc = 0.76315\n",
      "[ Valid | 189/300 ] loss = 0.84351, acc = 0.76315\n"
     ]
    },
    {
     "name": "stderr",
     "output_type": "stream",
     "text": [
      "T: 190/300: 100%|█| 78/78 [00:08<00:00,  8.89it/s, lr=0.000231, b_loss=0.229, b_\n"
     ]
    },
    {
     "name": "stdout",
     "output_type": "stream",
     "text": [
      "[ Train | 190/300 ] loss = 0.32235, acc = 0.88772\n"
     ]
    },
    {
     "name": "stderr",
     "output_type": "stream",
     "text": [
      "V: 190/300: 100%|█████| 26/26 [00:02<00:00, 11.88it/s, v_loss=0.872, v_acc=0.76]\n"
     ]
    },
    {
     "name": "stdout",
     "output_type": "stream",
     "text": [
      "[ Valid | 190/300 ] loss = 0.87180, acc = 0.76024\n",
      "[ Valid | 190/300 ] loss = 0.87180, acc = 0.76024\n"
     ]
    },
    {
     "name": "stderr",
     "output_type": "stream",
     "text": [
      "T: 191/300: 100%|█| 78/78 [00:08<00:00,  8.85it/s, lr=0.0002, b_loss=0.212, b_ac\n"
     ]
    },
    {
     "name": "stdout",
     "output_type": "stream",
     "text": [
      "[ Train | 191/300 ] loss = 0.30884, acc = 0.89113\n"
     ]
    },
    {
     "name": "stderr",
     "output_type": "stream",
     "text": [
      "V: 191/300: 100%|████| 26/26 [00:02<00:00, 11.15it/s, v_loss=0.844, v_acc=0.772]\n"
     ]
    },
    {
     "name": "stdout",
     "output_type": "stream",
     "text": [
      "[ Valid | 191/300 ] loss = 0.84351, acc = 0.77164\n",
      "[ Valid | 191/300 ] loss = 0.84351, acc = 0.77164\n"
     ]
    },
    {
     "name": "stderr",
     "output_type": "stream",
     "text": [
      "T: 192/300: 100%|█| 78/78 [00:08<00:00,  8.92it/s, lr=0.000169, b_loss=0.234, b_\n"
     ]
    },
    {
     "name": "stdout",
     "output_type": "stream",
     "text": [
      "[ Train | 192/300 ] loss = 0.27647, acc = 0.90422\n"
     ]
    },
    {
     "name": "stderr",
     "output_type": "stream",
     "text": [
      "V: 192/300: 100%|████| 26/26 [00:02<00:00, 11.74it/s, v_loss=0.886, v_acc=0.764]\n"
     ]
    },
    {
     "name": "stdout",
     "output_type": "stream",
     "text": [
      "[ Valid | 192/300 ] loss = 0.88569, acc = 0.76413\n",
      "[ Valid | 192/300 ] loss = 0.88569, acc = 0.76413\n"
     ]
    },
    {
     "name": "stderr",
     "output_type": "stream",
     "text": [
      "T: 193/300: 100%|█| 78/78 [00:08<00:00,  9.03it/s, lr=0.000138, b_loss=0.374, b_\n"
     ]
    },
    {
     "name": "stdout",
     "output_type": "stream",
     "text": [
      "[ Train | 193/300 ] loss = 0.27006, acc = 0.90622\n"
     ]
    },
    {
     "name": "stderr",
     "output_type": "stream",
     "text": [
      "V: 193/300: 100%|████| 26/26 [00:02<00:00, 10.98it/s, v_loss=0.819, v_acc=0.777]\n"
     ]
    },
    {
     "name": "stdout",
     "output_type": "stream",
     "text": [
      "[ Valid | 193/300 ] loss = 0.81936, acc = 0.77706\n",
      "[ Valid | 193/300 ] loss = 0.81936, acc = 0.77706\n"
     ]
    },
    {
     "name": "stderr",
     "output_type": "stream",
     "text": [
      "T: 194/300: 100%|█| 78/78 [00:08<00:00,  9.10it/s, lr=0.000109, b_loss=0.227, b_\n"
     ]
    },
    {
     "name": "stdout",
     "output_type": "stream",
     "text": [
      "[ Train | 194/300 ] loss = 0.24042, acc = 0.91647\n"
     ]
    },
    {
     "name": "stderr",
     "output_type": "stream",
     "text": [
      "V: 194/300: 100%|████| 26/26 [00:02<00:00, 11.41it/s, v_loss=0.794, v_acc=0.782]\n"
     ]
    },
    {
     "name": "stdout",
     "output_type": "stream",
     "text": [
      "[ Valid | 194/300 ] loss = 0.79364, acc = 0.78152\n",
      "[ Valid | 194/300 ] loss = 0.79364, acc = 0.78152\n"
     ]
    },
    {
     "name": "stderr",
     "output_type": "stream",
     "text": [
      "T: 195/300: 100%|█| 78/78 [00:08<00:00,  9.05it/s, lr=8.24e-5, b_loss=0.216, b_a\n"
     ]
    },
    {
     "name": "stdout",
     "output_type": "stream",
     "text": [
      "[ Train | 195/300 ] loss = 0.22905, acc = 0.91951\n"
     ]
    },
    {
     "name": "stderr",
     "output_type": "stream",
     "text": [
      "V: 195/300: 100%|████| 26/26 [00:02<00:00, 11.68it/s, v_loss=0.785, v_acc=0.786]\n"
     ]
    },
    {
     "name": "stdout",
     "output_type": "stream",
     "text": [
      "[ Valid | 195/300 ] loss = 0.78462, acc = 0.78613\n",
      "[ Valid | 195/300 ] loss = 0.78462, acc = 0.78613\n"
     ]
    },
    {
     "name": "stderr",
     "output_type": "stream",
     "text": [
      "T: 196/300: 100%|█| 78/78 [00:08<00:00,  9.02it/s, lr=5.86e-5, b_loss=0.203, b_a\n"
     ]
    },
    {
     "name": "stdout",
     "output_type": "stream",
     "text": [
      "[ Train | 196/300 ] loss = 0.22270, acc = 0.92373\n"
     ]
    },
    {
     "name": "stderr",
     "output_type": "stream",
     "text": [
      "V: 196/300: 100%|████| 26/26 [00:02<00:00, 11.27it/s, v_loss=0.771, v_acc=0.786]\n"
     ]
    },
    {
     "name": "stdout",
     "output_type": "stream",
     "text": [
      "[ Valid | 196/300 ] loss = 0.77102, acc = 0.78633\n",
      "[ Valid | 196/300 ] loss = 0.77102, acc = 0.78633\n"
     ]
    },
    {
     "name": "stderr",
     "output_type": "stream",
     "text": [
      "T: 197/300: 100%|█| 78/78 [00:08<00:00,  8.88it/s, lr=3.82e-5, b_loss=0.238, b_a\n"
     ]
    },
    {
     "name": "stdout",
     "output_type": "stream",
     "text": [
      "[ Train | 197/300 ] loss = 0.21891, acc = 0.92638\n"
     ]
    },
    {
     "name": "stderr",
     "output_type": "stream",
     "text": [
      "V: 197/300: 100%|█████| 26/26 [00:02<00:00, 10.94it/s, v_loss=0.774, v_acc=0.79]\n"
     ]
    },
    {
     "name": "stdout",
     "output_type": "stream",
     "text": [
      "[ Valid | 197/300 ] loss = 0.77449, acc = 0.78974\n",
      "[ Valid | 197/300 ] loss = 0.77449, acc = 0.78974\n"
     ]
    },
    {
     "name": "stderr",
     "output_type": "stream",
     "text": [
      "T: 198/300: 100%|█| 78/78 [00:08<00:00,  8.99it/s, lr=2.18e-5, b_loss=0.215, b_a\n"
     ]
    },
    {
     "name": "stdout",
     "output_type": "stream",
     "text": [
      "[ Train | 198/300 ] loss = 0.19983, acc = 0.93139\n"
     ]
    },
    {
     "name": "stderr",
     "output_type": "stream",
     "text": [
      "V: 198/300: 100%|████| 26/26 [00:02<00:00, 12.04it/s, v_loss=0.763, v_acc=0.792]\n"
     ]
    },
    {
     "name": "stdout",
     "output_type": "stream",
     "text": [
      "[ Valid | 198/300 ] loss = 0.76303, acc = 0.79159\n",
      "[ Valid | 198/300 ] loss = 0.76303, acc = 0.79159\n"
     ]
    },
    {
     "name": "stderr",
     "output_type": "stream",
     "text": [
      "T: 199/300: 100%|█| 78/78 [00:08<00:00,  9.04it/s, lr=9.79e-6, b_loss=0.186, b_a\n"
     ]
    },
    {
     "name": "stdout",
     "output_type": "stream",
     "text": [
      "[ Train | 199/300 ] loss = 0.20760, acc = 0.92839\n"
     ]
    },
    {
     "name": "stderr",
     "output_type": "stream",
     "text": [
      "V: 199/300: 100%|████| 26/26 [00:02<00:00, 11.19it/s, v_loss=0.764, v_acc=0.793]\n"
     ]
    },
    {
     "name": "stdout",
     "output_type": "stream",
     "text": [
      "[ Valid | 199/300 ] loss = 0.76427, acc = 0.79277\n",
      "[ Valid | 199/300 ] loss = 0.76427, acc = 0.79277\n"
     ]
    },
    {
     "name": "stderr",
     "output_type": "stream",
     "text": [
      "T: 200/300: 100%|█| 78/78 [00:08<00:00,  8.89it/s, lr=2.46e-6, b_loss=0.28, b_ac\n"
     ]
    },
    {
     "name": "stdout",
     "output_type": "stream",
     "text": [
      "[ Train | 200/300 ] loss = 0.19926, acc = 0.93498\n"
     ]
    },
    {
     "name": "stderr",
     "output_type": "stream",
     "text": [
      "V: 200/300: 100%|████| 26/26 [00:02<00:00, 11.83it/s, v_loss=0.777, v_acc=0.791]\n"
     ]
    },
    {
     "name": "stdout",
     "output_type": "stream",
     "text": [
      "[ Valid | 200/300 ] loss = 0.77717, acc = 0.79062\n",
      "[ Valid | 200/300 ] loss = 0.77717, acc = 0.79062\n"
     ]
    },
    {
     "name": "stderr",
     "output_type": "stream",
     "text": [
      "T: 201/300: 100%|█| 78/78 [00:08<00:00,  9.02it/s, lr=0.0004, b_loss=0.526, b_ac\n"
     ]
    },
    {
     "name": "stdout",
     "output_type": "stream",
     "text": [
      "[ Train | 201/300 ] loss = 0.43595, acc = 0.84762\n"
     ]
    },
    {
     "name": "stderr",
     "output_type": "stream",
     "text": [
      "V: 201/300: 100%|█████| 26/26 [00:02<00:00, 11.92it/s, v_loss=1.28, v_acc=0.683]"
     ]
    },
    {
     "name": "stdout",
     "output_type": "stream",
     "text": [
      "[ Valid | 201/300 ] loss = 1.28349, acc = 0.68322\n",
      "[ Valid | 201/300 ] loss = 1.28349, acc = 0.68322\n",
      "No improvment 20 consecutive epochs, early stopping\n"
     ]
    },
    {
     "name": "stderr",
     "output_type": "stream",
     "text": [
      "\n"
     ]
    },
    {
     "data": {
      "text/html": [
       "Waiting for W&B process to finish... <strong style=\"color:green\">(success).</strong>"
      ],
      "text/plain": [
       "<IPython.core.display.HTML object>"
      ]
     },
     "metadata": {},
     "output_type": "display_data"
    },
    {
     "data": {
      "text/html": [
       "<style>\n",
       "    table.wandb td:nth-child(1) { padding: 0 10px; text-align: left ; width: auto;} td:nth-child(2) {text-align: left ; width: 100%}\n",
       "    .wandb-row { display: flex; flex-direction: row; flex-wrap: wrap; justify-content: flex-start; width: 100% }\n",
       "    .wandb-col { display: flex; flex-direction: column; flex-basis: 100%; flex: 1; padding: 10px; }\n",
       "    </style>\n",
       "<div class=\"wandb-row\"><div class=\"wandb-col\"><h3>Run history:</h3><br/><table class=\"wandb\"><tr><td>average_training_loss</td><td>█▇▅▅▆▅▄▄▅▄▄▃▄▃▃▂▃▃▃▂▃▃▂▂▃▂▂▂▂▂▂▁▂▂▁▁▂▂▁▁</td></tr><tr><td>average_validation_loss</td><td>▇█▄▃▄▄▃▂▃▂▂▂▃▂▂▁▃▂▁▁▅▂▂▁▂▃▁▁▂▂▁▁▂▂▁▁▃▂▁▁</td></tr><tr><td>learning rate</td><td>█▇▄▂█▇▄▂█▇▄▂█▆▄▁█▆▄▁█▆▄▁█▆▃▁█▆▃▁█▆▃▁█▆▃▁</td></tr><tr><td>step_training_accuracy</td><td>▁▁▄▄▃▅▅▆▄▅▅▆▅▆▆▇▅▅▆█▆▆▇▆▇▆▇▇▇▇▇█▇▇▇█▇▇█▇</td></tr><tr><td>step_training_loss</td><td>█▇▆▅▆▅▄▃▅▄▄▃▄▃▃▂▄▄▃▂▃▃▂▂▂▂▂▂▃▂▂▁▂▂▂▁▂▂▁▂</td></tr><tr><td>step_validation_accuracy</td><td>▁▁▄▅▂▄▄▆▅▄▆▆▅▆▆▇▆▆▆▇▅▆█▇▆▆▇█▆▇▆▇▆▇▇█▆▆▇▇</td></tr><tr><td>step_validation_loss</td><td>██▆▄█▅▅▃▅▅▃▂▄▃▃▃▃▃▃▂▆▂▁▂▃▃▂▁▄▃▃▃▆▂▂▂▅▄▄▂</td></tr></table><br/></div><div class=\"wandb-col\"><h3>Run summary:</h3><br/><table class=\"wandb\"><tr><td>average_training_loss</td><td>0.43595</td></tr><tr><td>average_validation_loss</td><td>1.28349</td></tr><tr><td>learning rate</td><td>0.0004</td></tr><tr><td>step_training_accuracy</td><td>0.80172</td></tr><tr><td>step_training_loss</td><td>0.52573</td></tr><tr><td>step_validation_accuracy</td><td>0.68548</td></tr><tr><td>step_validation_loss</td><td>1.18751</td></tr></table><br/></div></div>"
      ],
      "text/plain": [
       "<IPython.core.display.HTML object>"
      ]
     },
     "metadata": {},
     "output_type": "display_data"
    },
    {
     "data": {
      "text/html": [
       " View run <strong style=\"color:#cdcd00\">polished-dawn-24</strong> at: <a href='https://wandb.ai/nickwkt/Food-11/runs/811mzzph' target=\"_blank\">https://wandb.ai/nickwkt/Food-11/runs/811mzzph</a><br/>Synced 6 W&B file(s), 0 media file(s), 0 artifact file(s) and 0 other file(s)"
      ],
      "text/plain": [
       "<IPython.core.display.HTML object>"
      ]
     },
     "metadata": {},
     "output_type": "display_data"
    },
    {
     "data": {
      "text/html": [
       "Find logs at: <code>./wandb/run-20230414_165632-811mzzph/logs</code>"
      ],
      "text/plain": [
       "<IPython.core.display.HTML object>"
      ]
     },
     "metadata": {},
     "output_type": "display_data"
    },
    {
     "name": "stdout",
     "output_type": "stream",
     "text": [
      "\n",
      "\n",
      "Starting Fold: 4 ********************************************\n",
      "cuda:0\n"
     ]
    },
    {
     "data": {
      "application/vnd.jupyter.widget-view+json": {
       "model_id": "d6fa9e868ad746249a32093f37392c93",
       "version_major": 2,
       "version_minor": 0
      },
      "text/plain": [
       "VBox(children=(Label(value='Waiting for wandb.init()...\\r'), FloatProgress(value=0.016668363582963745, max=1.0…"
      ]
     },
     "metadata": {},
     "output_type": "display_data"
    },
    {
     "data": {
      "text/html": [
       "Tracking run with wandb version 0.14.2"
      ],
      "text/plain": [
       "<IPython.core.display.HTML object>"
      ]
     },
     "metadata": {},
     "output_type": "display_data"
    },
    {
     "data": {
      "text/html": [
       "Run data is saved locally in <code>/home/user/jupyter_file/wandb/run-20230414_173345-tbrzhm91</code>"
      ],
      "text/plain": [
       "<IPython.core.display.HTML object>"
      ]
     },
     "metadata": {},
     "output_type": "display_data"
    },
    {
     "data": {
      "text/html": [
       "Syncing run <strong><a href='https://wandb.ai/nickwkt/Food-11/runs/tbrzhm91' target=\"_blank\">classic-flower-25</a></strong> to <a href='https://wandb.ai/nickwkt/Food-11' target=\"_blank\">Weights & Biases</a> (<a href='https://wandb.me/run' target=\"_blank\">docs</a>)<br/>"
      ],
      "text/plain": [
       "<IPython.core.display.HTML object>"
      ]
     },
     "metadata": {},
     "output_type": "display_data"
    },
    {
     "data": {
      "text/html": [
       " View project at <a href='https://wandb.ai/nickwkt/Food-11' target=\"_blank\">https://wandb.ai/nickwkt/Food-11</a>"
      ],
      "text/plain": [
       "<IPython.core.display.HTML object>"
      ]
     },
     "metadata": {},
     "output_type": "display_data"
    },
    {
     "data": {
      "text/html": [
       " View run at <a href='https://wandb.ai/nickwkt/Food-11/runs/tbrzhm91' target=\"_blank\">https://wandb.ai/nickwkt/Food-11/runs/tbrzhm91</a>"
      ],
      "text/plain": [
       "<IPython.core.display.HTML object>"
      ]
     },
     "metadata": {},
     "output_type": "display_data"
    },
    {
     "name": "stderr",
     "output_type": "stream",
     "text": [
      "T: 001/300: 100%|█| 78/78 [00:08<00:00,  9.09it/s, lr=0.0004, b_loss=2.08, b_acc\n"
     ]
    },
    {
     "name": "stdout",
     "output_type": "stream",
     "text": [
      "[ Train | 001/300 ] loss = 2.12840, acc = 0.24165\n"
     ]
    },
    {
     "name": "stderr",
     "output_type": "stream",
     "text": [
      "V: 001/300: 100%|█████| 26/26 [00:02<00:00, 11.57it/s, v_loss=2.22, v_acc=0.277]\n"
     ]
    },
    {
     "name": "stdout",
     "output_type": "stream",
     "text": [
      "[ Valid | 001/300 ] loss = 2.21545, acc = 0.27673\n",
      "[ Valid | 001/300 ] loss = 2.21545, acc = 0.27673 -> best\n",
      "Best model found at fold 4 epoch 1, acc=0.27673, saving model\n"
     ]
    },
    {
     "name": "stderr",
     "output_type": "stream",
     "text": [
      "T: 002/300: 100%|█| 78/78 [00:08<00:00,  8.99it/s, lr=0.000398, b_loss=1.9, b_ac\n"
     ]
    },
    {
     "name": "stdout",
     "output_type": "stream",
     "text": [
      "[ Train | 002/300 ] loss = 1.94481, acc = 0.31938\n"
     ]
    },
    {
     "name": "stderr",
     "output_type": "stream",
     "text": [
      "V: 002/300: 100%|██████| 26/26 [00:02<00:00, 11.19it/s, v_loss=2.2, v_acc=0.246]\n"
     ]
    },
    {
     "name": "stdout",
     "output_type": "stream",
     "text": [
      "[ Valid | 002/300 ] loss = 2.19891, acc = 0.24578\n",
      "[ Valid | 002/300 ] loss = 2.19891, acc = 0.24578\n"
     ]
    },
    {
     "name": "stderr",
     "output_type": "stream",
     "text": [
      "T: 003/300: 100%|█| 78/78 [00:08<00:00,  9.08it/s, lr=0.00039, b_loss=1.86, b_ac\n"
     ]
    },
    {
     "name": "stdout",
     "output_type": "stream",
     "text": [
      "[ Train | 003/300 ] loss = 1.87402, acc = 0.33930\n"
     ]
    },
    {
     "name": "stderr",
     "output_type": "stream",
     "text": [
      "V: 003/300: 100%|█████| 26/26 [00:02<00:00, 11.24it/s, v_loss=1.83, v_acc=0.354]\n"
     ]
    },
    {
     "name": "stdout",
     "output_type": "stream",
     "text": [
      "[ Valid | 003/300 ] loss = 1.83010, acc = 0.35421\n",
      "[ Valid | 003/300 ] loss = 1.83010, acc = 0.35421 -> best\n",
      "Best model found at fold 4 epoch 3, acc=0.35421, saving model\n"
     ]
    },
    {
     "name": "stderr",
     "output_type": "stream",
     "text": [
      "T: 004/300: 100%|█| 78/78 [00:08<00:00,  8.87it/s, lr=0.000378, b_loss=1.67, b_a\n"
     ]
    },
    {
     "name": "stdout",
     "output_type": "stream",
     "text": [
      "[ Train | 004/300 ] loss = 1.79840, acc = 0.36326\n"
     ]
    },
    {
     "name": "stderr",
     "output_type": "stream",
     "text": [
      "V: 004/300: 100%|██████| 26/26 [00:02<00:00, 10.98it/s, v_loss=1.8, v_acc=0.354]\n"
     ]
    },
    {
     "name": "stdout",
     "output_type": "stream",
     "text": [
      "[ Valid | 004/300 ] loss = 1.79506, acc = 0.35410\n",
      "[ Valid | 004/300 ] loss = 1.79506, acc = 0.35410\n"
     ]
    },
    {
     "name": "stderr",
     "output_type": "stream",
     "text": [
      "T: 005/300: 100%|█| 78/78 [00:08<00:00,  9.32it/s, lr=0.000362, b_loss=1.54, b_a\n"
     ]
    },
    {
     "name": "stdout",
     "output_type": "stream",
     "text": [
      "[ Train | 005/300 ] loss = 1.72271, acc = 0.39634\n"
     ]
    },
    {
     "name": "stderr",
     "output_type": "stream",
     "text": [
      "V: 005/300: 100%|████████| 26/26 [00:02<00:00,  9.75it/s, v_loss=2, v_acc=0.339]\n"
     ]
    },
    {
     "name": "stdout",
     "output_type": "stream",
     "text": [
      "[ Valid | 005/300 ] loss = 1.99806, acc = 0.33901\n",
      "[ Valid | 005/300 ] loss = 1.99806, acc = 0.33901\n"
     ]
    },
    {
     "name": "stderr",
     "output_type": "stream",
     "text": [
      "T: 006/300: 100%|█| 78/78 [00:08<00:00,  8.94it/s, lr=0.000341, b_loss=1.46, b_a\n"
     ]
    },
    {
     "name": "stdout",
     "output_type": "stream",
     "text": [
      "[ Train | 006/300 ] loss = 1.66175, acc = 0.42489\n"
     ]
    },
    {
     "name": "stderr",
     "output_type": "stream",
     "text": [
      "V: 006/300: 100%|█████| 26/26 [00:02<00:00, 10.62it/s, v_loss=1.66, v_acc=0.427]\n"
     ]
    },
    {
     "name": "stdout",
     "output_type": "stream",
     "text": [
      "[ Valid | 006/300 ] loss = 1.66013, acc = 0.42656\n",
      "[ Valid | 006/300 ] loss = 1.66013, acc = 0.42656 -> best\n",
      "Best model found at fold 4 epoch 6, acc=0.42656, saving model\n"
     ]
    },
    {
     "name": "stderr",
     "output_type": "stream",
     "text": [
      "T: 007/300: 100%|█| 78/78 [00:08<00:00,  8.93it/s, lr=0.000318, b_loss=1.48, b_a\n"
     ]
    },
    {
     "name": "stdout",
     "output_type": "stream",
     "text": [
      "[ Train | 007/300 ] loss = 1.60583, acc = 0.44687\n"
     ]
    },
    {
     "name": "stderr",
     "output_type": "stream",
     "text": [
      "V: 007/300: 100%|█████| 26/26 [00:02<00:00, 12.20it/s, v_loss=2.13, v_acc=0.286]\n"
     ]
    },
    {
     "name": "stdout",
     "output_type": "stream",
     "text": [
      "[ Valid | 007/300 ] loss = 2.12919, acc = 0.28610\n",
      "[ Valid | 007/300 ] loss = 2.12919, acc = 0.28610\n"
     ]
    },
    {
     "name": "stderr",
     "output_type": "stream",
     "text": [
      "T: 008/300: 100%|█| 78/78 [00:08<00:00,  9.00it/s, lr=0.000291, b_loss=1.53, b_a\n"
     ]
    },
    {
     "name": "stdout",
     "output_type": "stream",
     "text": [
      "[ Train | 008/300 ] loss = 1.56894, acc = 0.45364\n"
     ]
    },
    {
     "name": "stderr",
     "output_type": "stream",
     "text": [
      "V: 008/300: 100%|█████| 26/26 [00:02<00:00, 11.06it/s, v_loss=1.94, v_acc=0.344]\n"
     ]
    },
    {
     "name": "stdout",
     "output_type": "stream",
     "text": [
      "[ Valid | 008/300 ] loss = 1.94044, acc = 0.34445\n",
      "[ Valid | 008/300 ] loss = 1.94044, acc = 0.34445\n"
     ]
    },
    {
     "name": "stderr",
     "output_type": "stream",
     "text": [
      "T: 009/300: 100%|█| 78/78 [00:08<00:00,  8.94it/s, lr=0.000262, b_loss=1.49, b_a\n"
     ]
    },
    {
     "name": "stdout",
     "output_type": "stream",
     "text": [
      "[ Train | 009/300 ] loss = 1.50065, acc = 0.47947\n"
     ]
    },
    {
     "name": "stderr",
     "output_type": "stream",
     "text": [
      "V: 009/300: 100%|█████| 26/26 [00:02<00:00, 10.68it/s, v_loss=1.52, v_acc=0.474]\n"
     ]
    },
    {
     "name": "stdout",
     "output_type": "stream",
     "text": [
      "[ Valid | 009/300 ] loss = 1.52285, acc = 0.47359\n",
      "[ Valid | 009/300 ] loss = 1.52285, acc = 0.47359 -> best\n",
      "Best model found at fold 4 epoch 9, acc=0.47359, saving model\n"
     ]
    },
    {
     "name": "stderr",
     "output_type": "stream",
     "text": [
      "T: 010/300: 100%|█| 78/78 [00:08<00:00,  9.05it/s, lr=0.000231, b_loss=1.32, b_a\n"
     ]
    },
    {
     "name": "stdout",
     "output_type": "stream",
     "text": [
      "[ Train | 010/300 ] loss = 1.44903, acc = 0.49875\n"
     ]
    },
    {
     "name": "stderr",
     "output_type": "stream",
     "text": [
      "V: 010/300: 100%|█████| 26/26 [00:02<00:00, 11.72it/s, v_loss=1.52, v_acc=0.473]\n"
     ]
    },
    {
     "name": "stdout",
     "output_type": "stream",
     "text": [
      "[ Valid | 010/300 ] loss = 1.51828, acc = 0.47325\n",
      "[ Valid | 010/300 ] loss = 1.51828, acc = 0.47325\n"
     ]
    },
    {
     "name": "stderr",
     "output_type": "stream",
     "text": [
      "T: 011/300: 100%|█| 78/78 [00:08<00:00,  9.16it/s, lr=0.0002, b_loss=1.24, b_acc\n"
     ]
    },
    {
     "name": "stdout",
     "output_type": "stream",
     "text": [
      "[ Train | 011/300 ] loss = 1.39490, acc = 0.51131\n"
     ]
    },
    {
     "name": "stderr",
     "output_type": "stream",
     "text": [
      "V: 011/300: 100%|█████| 26/26 [00:02<00:00, 10.56it/s, v_loss=1.44, v_acc=0.508]\n"
     ]
    },
    {
     "name": "stdout",
     "output_type": "stream",
     "text": [
      "[ Valid | 011/300 ] loss = 1.43897, acc = 0.50845\n",
      "[ Valid | 011/300 ] loss = 1.43897, acc = 0.50845 -> best\n",
      "Best model found at fold 4 epoch 11, acc=0.50845, saving model\n"
     ]
    },
    {
     "name": "stderr",
     "output_type": "stream",
     "text": [
      "T: 012/300: 100%|█| 78/78 [00:08<00:00,  8.99it/s, lr=0.000169, b_loss=1.3, b_ac\n"
     ]
    },
    {
     "name": "stdout",
     "output_type": "stream",
     "text": [
      "[ Train | 012/300 ] loss = 1.34282, acc = 0.54104\n"
     ]
    },
    {
     "name": "stderr",
     "output_type": "stream",
     "text": [
      "V: 012/300: 100%|█████| 26/26 [00:02<00:00, 11.66it/s, v_loss=1.39, v_acc=0.531]\n"
     ]
    },
    {
     "name": "stdout",
     "output_type": "stream",
     "text": [
      "[ Valid | 012/300 ] loss = 1.39064, acc = 0.53063\n",
      "[ Valid | 012/300 ] loss = 1.39064, acc = 0.53063 -> best\n",
      "Best model found at fold 4 epoch 12, acc=0.53063, saving model\n"
     ]
    },
    {
     "name": "stderr",
     "output_type": "stream",
     "text": [
      "T: 013/300: 100%|█| 78/78 [00:08<00:00,  8.69it/s, lr=0.000138, b_loss=1.42, b_a\n"
     ]
    },
    {
     "name": "stdout",
     "output_type": "stream",
     "text": [
      "[ Train | 013/300 ] loss = 1.30133, acc = 0.54554\n"
     ]
    },
    {
     "name": "stderr",
     "output_type": "stream",
     "text": [
      "V: 013/300: 100%|█████| 26/26 [00:02<00:00,  9.73it/s, v_loss=1.27, v_acc=0.561]\n"
     ]
    },
    {
     "name": "stdout",
     "output_type": "stream",
     "text": [
      "[ Valid | 013/300 ] loss = 1.27295, acc = 0.56147\n",
      "[ Valid | 013/300 ] loss = 1.27295, acc = 0.56147 -> best\n",
      "Best model found at fold 4 epoch 13, acc=0.56147, saving model\n"
     ]
    },
    {
     "name": "stderr",
     "output_type": "stream",
     "text": [
      "T: 014/300: 100%|█| 78/78 [00:08<00:00,  9.03it/s, lr=0.000109, b_loss=1.19, b_a\n"
     ]
    },
    {
     "name": "stdout",
     "output_type": "stream",
     "text": [
      "[ Train | 014/300 ] loss = 1.26101, acc = 0.56365\n"
     ]
    },
    {
     "name": "stderr",
     "output_type": "stream",
     "text": [
      "V: 014/300: 100%|██████| 26/26 [00:02<00:00, 11.31it/s, v_loss=1.3, v_acc=0.564]\n"
     ]
    },
    {
     "name": "stdout",
     "output_type": "stream",
     "text": [
      "[ Valid | 014/300 ] loss = 1.29591, acc = 0.56405\n",
      "[ Valid | 014/300 ] loss = 1.29591, acc = 0.56405 -> best\n",
      "Best model found at fold 4 epoch 14, acc=0.56405, saving model\n"
     ]
    },
    {
     "name": "stderr",
     "output_type": "stream",
     "text": [
      "T: 015/300: 100%|█| 78/78 [00:08<00:00,  8.82it/s, lr=8.24e-5, b_loss=1.08, b_ac\n"
     ]
    },
    {
     "name": "stdout",
     "output_type": "stream",
     "text": [
      "[ Train | 015/300 ] loss = 1.21575, acc = 0.58275\n"
     ]
    },
    {
     "name": "stderr",
     "output_type": "stream",
     "text": [
      "V: 015/300: 100%|█████| 26/26 [00:02<00:00, 11.51it/s, v_loss=1.23, v_acc=0.581]\n"
     ]
    },
    {
     "name": "stdout",
     "output_type": "stream",
     "text": [
      "[ Valid | 015/300 ] loss = 1.22858, acc = 0.58095\n",
      "[ Valid | 015/300 ] loss = 1.22858, acc = 0.58095 -> best\n",
      "Best model found at fold 4 epoch 15, acc=0.58095, saving model\n"
     ]
    },
    {
     "name": "stderr",
     "output_type": "stream",
     "text": [
      "T: 016/300: 100%|█| 78/78 [00:08<00:00,  9.08it/s, lr=5.86e-5, b_loss=1.1, b_acc\n"
     ]
    },
    {
     "name": "stdout",
     "output_type": "stream",
     "text": [
      "[ Train | 016/300 ] loss = 1.17402, acc = 0.59464\n"
     ]
    },
    {
     "name": "stderr",
     "output_type": "stream",
     "text": [
      "V: 016/300: 100%|█████| 26/26 [00:02<00:00, 11.82it/s, v_loss=1.21, v_acc=0.586]\n"
     ]
    },
    {
     "name": "stdout",
     "output_type": "stream",
     "text": [
      "[ Valid | 016/300 ] loss = 1.20895, acc = 0.58608\n",
      "[ Valid | 016/300 ] loss = 1.20895, acc = 0.58608 -> best\n",
      "Best model found at fold 4 epoch 16, acc=0.58608, saving model\n"
     ]
    },
    {
     "name": "stderr",
     "output_type": "stream",
     "text": [
      "T: 017/300: 100%|█| 78/78 [00:08<00:00,  9.13it/s, lr=3.82e-5, b_loss=1.02, b_ac\n"
     ]
    },
    {
     "name": "stdout",
     "output_type": "stream",
     "text": [
      "[ Train | 017/300 ] loss = 1.14764, acc = 0.60539\n"
     ]
    },
    {
     "name": "stderr",
     "output_type": "stream",
     "text": [
      "V: 017/300: 100%|█████| 26/26 [00:02<00:00, 12.29it/s, v_loss=1.13, v_acc=0.612]\n"
     ]
    },
    {
     "name": "stdout",
     "output_type": "stream",
     "text": [
      "[ Valid | 017/300 ] loss = 1.12515, acc = 0.61186\n",
      "[ Valid | 017/300 ] loss = 1.12515, acc = 0.61186 -> best\n",
      "Best model found at fold 4 epoch 17, acc=0.61186, saving model\n"
     ]
    },
    {
     "name": "stderr",
     "output_type": "stream",
     "text": [
      "T: 018/300: 100%|█| 78/78 [00:08<00:00,  8.87it/s, lr=2.18e-5, b_loss=1.14, b_ac\n"
     ]
    },
    {
     "name": "stdout",
     "output_type": "stream",
     "text": [
      "[ Train | 018/300 ] loss = 1.11244, acc = 0.61327\n"
     ]
    },
    {
     "name": "stderr",
     "output_type": "stream",
     "text": [
      "V: 018/300: 100%|█████| 26/26 [00:02<00:00, 11.88it/s, v_loss=1.12, v_acc=0.621]\n"
     ]
    },
    {
     "name": "stdout",
     "output_type": "stream",
     "text": [
      "[ Valid | 018/300 ] loss = 1.11735, acc = 0.62121\n",
      "[ Valid | 018/300 ] loss = 1.11735, acc = 0.62121 -> best\n",
      "Best model found at fold 4 epoch 18, acc=0.62121, saving model\n"
     ]
    },
    {
     "name": "stderr",
     "output_type": "stream",
     "text": [
      "T: 019/300: 100%|█| 78/78 [00:08<00:00,  9.27it/s, lr=9.79e-6, b_loss=1.18, b_ac\n"
     ]
    },
    {
     "name": "stdout",
     "output_type": "stream",
     "text": [
      "[ Train | 019/300 ] loss = 1.10470, acc = 0.61803\n"
     ]
    },
    {
     "name": "stderr",
     "output_type": "stream",
     "text": [
      "V: 019/300: 100%|██████| 26/26 [00:02<00:00, 11.82it/s, v_loss=1.1, v_acc=0.622]\n"
     ]
    },
    {
     "name": "stdout",
     "output_type": "stream",
     "text": [
      "[ Valid | 019/300 ] loss = 1.09937, acc = 0.62193\n",
      "[ Valid | 019/300 ] loss = 1.09937, acc = 0.62193 -> best\n",
      "Best model found at fold 4 epoch 19, acc=0.62193, saving model\n"
     ]
    },
    {
     "name": "stderr",
     "output_type": "stream",
     "text": [
      "T: 020/300: 100%|█| 78/78 [00:08<00:00,  9.09it/s, lr=2.46e-6, b_loss=1.1, b_acc\n"
     ]
    },
    {
     "name": "stdout",
     "output_type": "stream",
     "text": [
      "[ Train | 020/300 ] loss = 1.10118, acc = 0.61894\n"
     ]
    },
    {
     "name": "stderr",
     "output_type": "stream",
     "text": [
      "V: 020/300: 100%|█████| 26/26 [00:02<00:00, 11.64it/s, v_loss=1.09, v_acc=0.623]\n"
     ]
    },
    {
     "name": "stdout",
     "output_type": "stream",
     "text": [
      "[ Valid | 020/300 ] loss = 1.08949, acc = 0.62260\n",
      "[ Valid | 020/300 ] loss = 1.08949, acc = 0.62260 -> best\n",
      "Best model found at fold 4 epoch 20, acc=0.62260, saving model\n"
     ]
    },
    {
     "name": "stderr",
     "output_type": "stream",
     "text": [
      "T: 021/300: 100%|█| 78/78 [00:08<00:00,  9.11it/s, lr=0.0004, b_loss=1.27, b_acc\n"
     ]
    },
    {
     "name": "stdout",
     "output_type": "stream",
     "text": [
      "[ Train | 021/300 ] loss = 1.35524, acc = 0.53014\n"
     ]
    },
    {
     "name": "stderr",
     "output_type": "stream",
     "text": [
      "V: 021/300: 100%|█████| 26/26 [00:02<00:00, 11.58it/s, v_loss=1.55, v_acc=0.481]\n"
     ]
    },
    {
     "name": "stdout",
     "output_type": "stream",
     "text": [
      "[ Valid | 021/300 ] loss = 1.55138, acc = 0.48129\n",
      "[ Valid | 021/300 ] loss = 1.55138, acc = 0.48129\n"
     ]
    },
    {
     "name": "stderr",
     "output_type": "stream",
     "text": [
      "T: 022/300: 100%|█| 78/78 [00:08<00:00,  9.05it/s, lr=0.000398, b_loss=1.37, b_a\n"
     ]
    },
    {
     "name": "stdout",
     "output_type": "stream",
     "text": [
      "[ Train | 022/300 ] loss = 1.34575, acc = 0.53250\n"
     ]
    },
    {
     "name": "stderr",
     "output_type": "stream",
     "text": [
      "V: 022/300: 100%|█████| 26/26 [00:02<00:00, 11.57it/s, v_loss=1.39, v_acc=0.528]\n"
     ]
    },
    {
     "name": "stdout",
     "output_type": "stream",
     "text": [
      "[ Valid | 022/300 ] loss = 1.38993, acc = 0.52766\n",
      "[ Valid | 022/300 ] loss = 1.38993, acc = 0.52766\n"
     ]
    },
    {
     "name": "stderr",
     "output_type": "stream",
     "text": [
      "T: 023/300: 100%|█| 78/78 [00:08<00:00,  9.06it/s, lr=0.00039, b_loss=1.36, b_ac\n"
     ]
    },
    {
     "name": "stdout",
     "output_type": "stream",
     "text": [
      "[ Train | 023/300 ] loss = 1.29402, acc = 0.55314\n"
     ]
    },
    {
     "name": "stderr",
     "output_type": "stream",
     "text": [
      "V: 023/300: 100%|█████| 26/26 [00:02<00:00, 11.36it/s, v_loss=1.35, v_acc=0.551]\n"
     ]
    },
    {
     "name": "stdout",
     "output_type": "stream",
     "text": [
      "[ Valid | 023/300 ] loss = 1.34855, acc = 0.55106\n",
      "[ Valid | 023/300 ] loss = 1.34855, acc = 0.55106\n"
     ]
    },
    {
     "name": "stderr",
     "output_type": "stream",
     "text": [
      "T: 024/300: 100%|█| 78/78 [00:08<00:00,  8.84it/s, lr=0.000378, b_loss=1.12, b_a\n"
     ]
    },
    {
     "name": "stdout",
     "output_type": "stream",
     "text": [
      "[ Train | 024/300 ] loss = 1.24159, acc = 0.57124\n"
     ]
    },
    {
     "name": "stderr",
     "output_type": "stream",
     "text": [
      "V: 024/300: 100%|█████| 26/26 [00:02<00:00, 11.88it/s, v_loss=2.95, v_acc=0.239]\n"
     ]
    },
    {
     "name": "stdout",
     "output_type": "stream",
     "text": [
      "[ Valid | 024/300 ] loss = 2.95363, acc = 0.23853\n",
      "[ Valid | 024/300 ] loss = 2.95363, acc = 0.23853\n"
     ]
    },
    {
     "name": "stderr",
     "output_type": "stream",
     "text": [
      "T: 025/300: 100%|█| 78/78 [00:08<00:00,  8.91it/s, lr=0.000362, b_loss=1.26, b_a\n"
     ]
    },
    {
     "name": "stdout",
     "output_type": "stream",
     "text": [
      "[ Train | 025/300 ] loss = 1.23549, acc = 0.57182\n"
     ]
    },
    {
     "name": "stderr",
     "output_type": "stream",
     "text": [
      "V: 025/300: 100%|█████| 26/26 [00:02<00:00, 11.77it/s, v_loss=1.61, v_acc=0.467]\n"
     ]
    },
    {
     "name": "stdout",
     "output_type": "stream",
     "text": [
      "[ Valid | 025/300 ] loss = 1.61153, acc = 0.46691\n",
      "[ Valid | 025/300 ] loss = 1.61153, acc = 0.46691\n"
     ]
    },
    {
     "name": "stderr",
     "output_type": "stream",
     "text": [
      "T: 026/300: 100%|█| 78/78 [00:08<00:00,  8.95it/s, lr=0.000341, b_loss=1.21, b_a\n"
     ]
    },
    {
     "name": "stdout",
     "output_type": "stream",
     "text": [
      "[ Train | 026/300 ] loss = 1.18643, acc = 0.58098\n"
     ]
    },
    {
     "name": "stderr",
     "output_type": "stream",
     "text": [
      "V: 026/300: 100%|█████| 26/26 [00:02<00:00, 11.22it/s, v_loss=1.26, v_acc=0.578]\n"
     ]
    },
    {
     "name": "stdout",
     "output_type": "stream",
     "text": [
      "[ Valid | 026/300 ] loss = 1.25968, acc = 0.57814\n",
      "[ Valid | 026/300 ] loss = 1.25968, acc = 0.57814\n"
     ]
    },
    {
     "name": "stderr",
     "output_type": "stream",
     "text": [
      "T: 027/300: 100%|█| 78/78 [00:08<00:00,  9.19it/s, lr=0.000318, b_loss=1.08, b_a\n"
     ]
    },
    {
     "name": "stdout",
     "output_type": "stream",
     "text": [
      "[ Train | 027/300 ] loss = 1.15835, acc = 0.59793\n"
     ]
    },
    {
     "name": "stderr",
     "output_type": "stream",
     "text": [
      "V: 027/300: 100%|█████| 26/26 [00:02<00:00, 11.88it/s, v_loss=1.31, v_acc=0.573]\n"
     ]
    },
    {
     "name": "stdout",
     "output_type": "stream",
     "text": [
      "[ Valid | 027/300 ] loss = 1.30931, acc = 0.57347\n",
      "[ Valid | 027/300 ] loss = 1.30931, acc = 0.57347\n"
     ]
    },
    {
     "name": "stderr",
     "output_type": "stream",
     "text": [
      "T: 028/300: 100%|█| 78/78 [00:08<00:00,  8.95it/s, lr=0.000291, b_loss=1.14, b_a\n"
     ]
    },
    {
     "name": "stdout",
     "output_type": "stream",
     "text": [
      "[ Train | 028/300 ] loss = 1.14263, acc = 0.60402\n"
     ]
    },
    {
     "name": "stderr",
     "output_type": "stream",
     "text": [
      "V: 028/300: 100%|██████| 26/26 [00:02<00:00, 10.72it/s, v_loss=1.32, v_acc=0.55]\n"
     ]
    },
    {
     "name": "stdout",
     "output_type": "stream",
     "text": [
      "[ Valid | 028/300 ] loss = 1.32064, acc = 0.54962\n",
      "[ Valid | 028/300 ] loss = 1.32064, acc = 0.54962\n"
     ]
    },
    {
     "name": "stderr",
     "output_type": "stream",
     "text": [
      "T: 029/300: 100%|█| 78/78 [00:08<00:00,  8.98it/s, lr=0.000262, b_loss=1.01, b_a\n"
     ]
    },
    {
     "name": "stdout",
     "output_type": "stream",
     "text": [
      "[ Train | 029/300 ] loss = 1.09617, acc = 0.62296\n"
     ]
    },
    {
     "name": "stderr",
     "output_type": "stream",
     "text": [
      "V: 029/300: 100%|██████| 26/26 [00:02<00:00, 11.48it/s, v_loss=1.2, v_acc=0.592]\n"
     ]
    },
    {
     "name": "stdout",
     "output_type": "stream",
     "text": [
      "[ Valid | 029/300 ] loss = 1.20312, acc = 0.59243\n",
      "[ Valid | 029/300 ] loss = 1.20312, acc = 0.59243\n"
     ]
    },
    {
     "name": "stderr",
     "output_type": "stream",
     "text": [
      "T: 030/300: 100%|█| 78/78 [00:08<00:00,  8.92it/s, lr=0.000231, b_loss=1.03, b_a\n"
     ]
    },
    {
     "name": "stdout",
     "output_type": "stream",
     "text": [
      "[ Train | 030/300 ] loss = 1.05752, acc = 0.63242\n"
     ]
    },
    {
     "name": "stderr",
     "output_type": "stream",
     "text": [
      "V: 030/300: 100%|█████| 26/26 [00:02<00:00, 12.82it/s, v_loss=1.43, v_acc=0.545]\n"
     ]
    },
    {
     "name": "stdout",
     "output_type": "stream",
     "text": [
      "[ Valid | 030/300 ] loss = 1.42671, acc = 0.54539\n",
      "[ Valid | 030/300 ] loss = 1.42671, acc = 0.54539\n"
     ]
    },
    {
     "name": "stderr",
     "output_type": "stream",
     "text": [
      "T: 031/300: 100%|█| 78/78 [00:08<00:00,  9.09it/s, lr=0.0002, b_loss=1.05, b_acc\n"
     ]
    },
    {
     "name": "stdout",
     "output_type": "stream",
     "text": [
      "[ Train | 031/300 ] loss = 1.01283, acc = 0.65443\n"
     ]
    },
    {
     "name": "stderr",
     "output_type": "stream",
     "text": [
      "V: 031/300: 100%|███████| 26/26 [00:02<00:00, 10.50it/s, v_loss=1.21, v_acc=0.6]\n"
     ]
    },
    {
     "name": "stdout",
     "output_type": "stream",
     "text": [
      "[ Valid | 031/300 ] loss = 1.20555, acc = 0.60019\n",
      "[ Valid | 031/300 ] loss = 1.20555, acc = 0.60019\n"
     ]
    },
    {
     "name": "stderr",
     "output_type": "stream",
     "text": [
      "T: 032/300: 100%|█| 78/78 [00:08<00:00,  9.03it/s, lr=0.000169, b_loss=1.01, b_a\n"
     ]
    },
    {
     "name": "stdout",
     "output_type": "stream",
     "text": [
      "[ Train | 032/300 ] loss = 0.99997, acc = 0.65617\n"
     ]
    },
    {
     "name": "stderr",
     "output_type": "stream",
     "text": [
      "V: 032/300: 100%|█████| 26/26 [00:02<00:00, 11.71it/s, v_loss=1.02, v_acc=0.655]\n"
     ]
    },
    {
     "name": "stdout",
     "output_type": "stream",
     "text": [
      "[ Valid | 032/300 ] loss = 1.01565, acc = 0.65470\n",
      "[ Valid | 032/300 ] loss = 1.01565, acc = 0.65470 -> best\n",
      "Best model found at fold 4 epoch 32, acc=0.65470, saving model\n"
     ]
    },
    {
     "name": "stderr",
     "output_type": "stream",
     "text": [
      "T: 033/300: 100%|█| 78/78 [00:08<00:00,  9.09it/s, lr=0.000138, b_loss=0.969, b_\n"
     ]
    },
    {
     "name": "stdout",
     "output_type": "stream",
     "text": [
      "[ Train | 033/300 ] loss = 0.96114, acc = 0.66727\n"
     ]
    },
    {
     "name": "stderr",
     "output_type": "stream",
     "text": [
      "V: 033/300: 100%|█████| 26/26 [00:02<00:00, 11.29it/s, v_loss=1.02, v_acc=0.653]\n"
     ]
    },
    {
     "name": "stdout",
     "output_type": "stream",
     "text": [
      "[ Valid | 033/300 ] loss = 1.02264, acc = 0.65279\n",
      "[ Valid | 033/300 ] loss = 1.02264, acc = 0.65279\n"
     ]
    },
    {
     "name": "stderr",
     "output_type": "stream",
     "text": [
      "T: 034/300: 100%|█| 78/78 [00:08<00:00,  9.15it/s, lr=0.000109, b_loss=1.02, b_a\n"
     ]
    },
    {
     "name": "stdout",
     "output_type": "stream",
     "text": [
      "[ Train | 034/300 ] loss = 0.95327, acc = 0.67396\n"
     ]
    },
    {
     "name": "stderr",
     "output_type": "stream",
     "text": [
      "V: 034/300: 100%|████| 26/26 [00:02<00:00, 10.64it/s, v_loss=0.994, v_acc=0.668]\n"
     ]
    },
    {
     "name": "stdout",
     "output_type": "stream",
     "text": [
      "[ Valid | 034/300 ] loss = 0.99426, acc = 0.66848\n",
      "[ Valid | 034/300 ] loss = 0.99426, acc = 0.66848 -> best\n",
      "Best model found at fold 4 epoch 34, acc=0.66848, saving model\n"
     ]
    },
    {
     "name": "stderr",
     "output_type": "stream",
     "text": [
      "T: 035/300: 100%|█| 78/78 [00:08<00:00,  9.00it/s, lr=8.24e-5, b_loss=1.09, b_ac\n"
     ]
    },
    {
     "name": "stdout",
     "output_type": "stream",
     "text": [
      "[ Train | 035/300 ] loss = 0.91568, acc = 0.68244\n"
     ]
    },
    {
     "name": "stderr",
     "output_type": "stream",
     "text": [
      "V: 035/300: 100%|████| 26/26 [00:02<00:00, 10.25it/s, v_loss=0.987, v_acc=0.668]\n"
     ]
    },
    {
     "name": "stdout",
     "output_type": "stream",
     "text": [
      "[ Valid | 035/300 ] loss = 0.98662, acc = 0.66848\n",
      "[ Valid | 035/300 ] loss = 0.98662, acc = 0.66848\n"
     ]
    },
    {
     "name": "stderr",
     "output_type": "stream",
     "text": [
      "T: 036/300: 100%|█| 78/78 [00:08<00:00,  9.14it/s, lr=5.86e-5, b_loss=0.801, b_a\n"
     ]
    },
    {
     "name": "stdout",
     "output_type": "stream",
     "text": [
      "[ Train | 036/300 ] loss = 0.88109, acc = 0.69849\n"
     ]
    },
    {
     "name": "stderr",
     "output_type": "stream",
     "text": [
      "V: 036/300: 100%|████| 26/26 [00:02<00:00, 11.58it/s, v_loss=0.952, v_acc=0.671]\n"
     ]
    },
    {
     "name": "stdout",
     "output_type": "stream",
     "text": [
      "[ Valid | 036/300 ] loss = 0.95158, acc = 0.67112\n",
      "[ Valid | 036/300 ] loss = 0.95158, acc = 0.67112 -> best\n",
      "Best model found at fold 4 epoch 36, acc=0.67112, saving model\n"
     ]
    },
    {
     "name": "stderr",
     "output_type": "stream",
     "text": [
      "T: 037/300: 100%|█| 78/78 [00:08<00:00,  8.78it/s, lr=3.82e-5, b_loss=0.806, b_a\n"
     ]
    },
    {
     "name": "stdout",
     "output_type": "stream",
     "text": [
      "[ Train | 037/300 ] loss = 0.85561, acc = 0.70869\n"
     ]
    },
    {
     "name": "stderr",
     "output_type": "stream",
     "text": [
      "V: 037/300: 100%|████| 26/26 [00:02<00:00, 11.66it/s, v_loss=0.933, v_acc=0.684]\n"
     ]
    },
    {
     "name": "stdout",
     "output_type": "stream",
     "text": [
      "[ Valid | 037/300 ] loss = 0.93276, acc = 0.68411\n",
      "[ Valid | 037/300 ] loss = 0.93276, acc = 0.68411 -> best\n",
      "Best model found at fold 4 epoch 37, acc=0.68411, saving model\n"
     ]
    },
    {
     "name": "stderr",
     "output_type": "stream",
     "text": [
      "T: 038/300: 100%|█| 78/78 [00:08<00:00,  9.07it/s, lr=2.18e-5, b_loss=0.981, b_a\n"
     ]
    },
    {
     "name": "stdout",
     "output_type": "stream",
     "text": [
      "[ Train | 038/300 ] loss = 0.83843, acc = 0.71032\n"
     ]
    },
    {
     "name": "stderr",
     "output_type": "stream",
     "text": [
      "V: 038/300: 100%|████| 26/26 [00:02<00:00, 11.56it/s, v_loss=0.911, v_acc=0.689]\n"
     ]
    },
    {
     "name": "stdout",
     "output_type": "stream",
     "text": [
      "[ Valid | 038/300 ] loss = 0.91091, acc = 0.68900\n",
      "[ Valid | 038/300 ] loss = 0.91091, acc = 0.68900 -> best\n",
      "Best model found at fold 4 epoch 38, acc=0.68900, saving model\n"
     ]
    },
    {
     "name": "stderr",
     "output_type": "stream",
     "text": [
      "T: 039/300: 100%|█| 78/78 [00:08<00:00,  9.20it/s, lr=9.79e-6, b_loss=0.952, b_a\n"
     ]
    },
    {
     "name": "stdout",
     "output_type": "stream",
     "text": [
      "[ Train | 039/300 ] loss = 0.82325, acc = 0.71693\n"
     ]
    },
    {
     "name": "stderr",
     "output_type": "stream",
     "text": [
      "V: 039/300: 100%|████| 26/26 [00:02<00:00, 10.30it/s, v_loss=0.912, v_acc=0.691]\n"
     ]
    },
    {
     "name": "stdout",
     "output_type": "stream",
     "text": [
      "[ Valid | 039/300 ] loss = 0.91174, acc = 0.69074\n",
      "[ Valid | 039/300 ] loss = 0.91174, acc = 0.69074 -> best\n",
      "Best model found at fold 4 epoch 39, acc=0.69074, saving model\n"
     ]
    },
    {
     "name": "stderr",
     "output_type": "stream",
     "text": [
      "T: 040/300: 100%|█| 78/78 [00:08<00:00,  9.01it/s, lr=2.46e-6, b_loss=0.935, b_a\n"
     ]
    },
    {
     "name": "stdout",
     "output_type": "stream",
     "text": [
      "[ Train | 040/300 ] loss = 0.82212, acc = 0.71518\n"
     ]
    },
    {
     "name": "stderr",
     "output_type": "stream",
     "text": [
      "V: 040/300: 100%|████| 26/26 [00:02<00:00, 10.72it/s, v_loss=0.902, v_acc=0.695]\n"
     ]
    },
    {
     "name": "stdout",
     "output_type": "stream",
     "text": [
      "[ Valid | 040/300 ] loss = 0.90200, acc = 0.69492\n",
      "[ Valid | 040/300 ] loss = 0.90200, acc = 0.69492 -> best\n",
      "Best model found at fold 4 epoch 40, acc=0.69492, saving model\n"
     ]
    },
    {
     "name": "stderr",
     "output_type": "stream",
     "text": [
      "T: 041/300: 100%|█| 78/78 [00:08<00:00,  8.77it/s, lr=0.0004, b_loss=1.34, b_acc\n"
     ]
    },
    {
     "name": "stdout",
     "output_type": "stream",
     "text": [
      "[ Train | 041/300 ] loss = 1.09858, acc = 0.61823\n"
     ]
    },
    {
     "name": "stderr",
     "output_type": "stream",
     "text": [
      "V: 041/300: 100%|█████| 26/26 [00:02<00:00, 10.02it/s, v_loss=1.26, v_acc=0.573]\n"
     ]
    },
    {
     "name": "stdout",
     "output_type": "stream",
     "text": [
      "[ Valid | 041/300 ] loss = 1.25985, acc = 0.57305\n",
      "[ Valid | 041/300 ] loss = 1.25985, acc = 0.57305\n"
     ]
    },
    {
     "name": "stderr",
     "output_type": "stream",
     "text": [
      "T: 042/300: 100%|█| 78/78 [00:08<00:00,  8.86it/s, lr=0.000398, b_loss=0.979, b_\n"
     ]
    },
    {
     "name": "stdout",
     "output_type": "stream",
     "text": [
      "[ Train | 042/300 ] loss = 1.08580, acc = 0.62171\n"
     ]
    },
    {
     "name": "stderr",
     "output_type": "stream",
     "text": [
      "V: 042/300: 100%|█████| 26/26 [00:02<00:00, 11.74it/s, v_loss=1.26, v_acc=0.594]\n"
     ]
    },
    {
     "name": "stdout",
     "output_type": "stream",
     "text": [
      "[ Valid | 042/300 ] loss = 1.26337, acc = 0.59421\n",
      "[ Valid | 042/300 ] loss = 1.26337, acc = 0.59421\n"
     ]
    },
    {
     "name": "stderr",
     "output_type": "stream",
     "text": [
      "T: 043/300: 100%|█| 78/78 [00:08<00:00,  9.14it/s, lr=0.00039, b_loss=1.08, b_ac\n"
     ]
    },
    {
     "name": "stdout",
     "output_type": "stream",
     "text": [
      "[ Train | 043/300 ] loss = 1.06491, acc = 0.63276\n"
     ]
    },
    {
     "name": "stderr",
     "output_type": "stream",
     "text": [
      "V: 043/300: 100%|█████| 26/26 [00:02<00:00, 11.32it/s, v_loss=1.49, v_acc=0.537]\n"
     ]
    },
    {
     "name": "stdout",
     "output_type": "stream",
     "text": [
      "[ Valid | 043/300 ] loss = 1.48808, acc = 0.53694\n",
      "[ Valid | 043/300 ] loss = 1.48808, acc = 0.53694\n"
     ]
    },
    {
     "name": "stderr",
     "output_type": "stream",
     "text": [
      "T: 044/300: 100%|█| 78/78 [00:08<00:00,  9.19it/s, lr=0.000378, b_loss=1.07, b_a\n"
     ]
    },
    {
     "name": "stdout",
     "output_type": "stream",
     "text": [
      "[ Train | 044/300 ] loss = 1.01547, acc = 0.64314\n"
     ]
    },
    {
     "name": "stderr",
     "output_type": "stream",
     "text": [
      "V: 044/300: 100%|█████| 26/26 [00:02<00:00, 11.90it/s, v_loss=1.14, v_acc=0.616]\n"
     ]
    },
    {
     "name": "stdout",
     "output_type": "stream",
     "text": [
      "[ Valid | 044/300 ] loss = 1.14270, acc = 0.61557\n",
      "[ Valid | 044/300 ] loss = 1.14270, acc = 0.61557\n"
     ]
    },
    {
     "name": "stderr",
     "output_type": "stream",
     "text": [
      "T: 045/300: 100%|█| 78/78 [00:08<00:00,  9.22it/s, lr=0.000362, b_loss=1.3, b_ac\n"
     ]
    },
    {
     "name": "stdout",
     "output_type": "stream",
     "text": [
      "[ Train | 045/300 ] loss = 0.99866, acc = 0.65172\n"
     ]
    },
    {
     "name": "stderr",
     "output_type": "stream",
     "text": [
      "V: 045/300: 100%|█████| 26/26 [00:02<00:00, 10.94it/s, v_loss=1.27, v_acc=0.575]\n"
     ]
    },
    {
     "name": "stdout",
     "output_type": "stream",
     "text": [
      "[ Valid | 045/300 ] loss = 1.27283, acc = 0.57459\n",
      "[ Valid | 045/300 ] loss = 1.27283, acc = 0.57459\n"
     ]
    },
    {
     "name": "stderr",
     "output_type": "stream",
     "text": [
      "T: 046/300: 100%|█| 78/78 [00:08<00:00,  8.96it/s, lr=0.000341, b_loss=0.852, b_\n"
     ]
    },
    {
     "name": "stdout",
     "output_type": "stream",
     "text": [
      "[ Train | 046/300 ] loss = 0.97774, acc = 0.66391\n"
     ]
    },
    {
     "name": "stderr",
     "output_type": "stream",
     "text": [
      "V: 046/300: 100%|█████| 26/26 [00:02<00:00, 11.04it/s, v_loss=1.28, v_acc=0.587]\n"
     ]
    },
    {
     "name": "stdout",
     "output_type": "stream",
     "text": [
      "[ Valid | 046/300 ] loss = 1.27897, acc = 0.58689\n",
      "[ Valid | 046/300 ] loss = 1.27897, acc = 0.58689\n"
     ]
    },
    {
     "name": "stderr",
     "output_type": "stream",
     "text": [
      "T: 047/300: 100%|█| 78/78 [00:08<00:00,  9.11it/s, lr=0.000318, b_loss=0.907, b_\n"
     ]
    },
    {
     "name": "stdout",
     "output_type": "stream",
     "text": [
      "[ Train | 047/300 ] loss = 0.95276, acc = 0.67582\n"
     ]
    },
    {
     "name": "stderr",
     "output_type": "stream",
     "text": [
      "V: 047/300: 100%|██████| 26/26 [00:02<00:00, 11.12it/s, v_loss=1.2, v_acc=0.603]\n"
     ]
    },
    {
     "name": "stdout",
     "output_type": "stream",
     "text": [
      "[ Valid | 047/300 ] loss = 1.20060, acc = 0.60312\n",
      "[ Valid | 047/300 ] loss = 1.20060, acc = 0.60312\n"
     ]
    },
    {
     "name": "stderr",
     "output_type": "stream",
     "text": [
      "T: 048/300: 100%|█| 78/78 [00:08<00:00,  8.87it/s, lr=0.000291, b_loss=0.894, b_\n"
     ]
    },
    {
     "name": "stdout",
     "output_type": "stream",
     "text": [
      "[ Train | 048/300 ] loss = 0.92172, acc = 0.68134\n"
     ]
    },
    {
     "name": "stderr",
     "output_type": "stream",
     "text": [
      "V: 048/300: 100%|█████| 26/26 [00:02<00:00, 11.16it/s, v_loss=1.27, v_acc=0.573]\n"
     ]
    },
    {
     "name": "stdout",
     "output_type": "stream",
     "text": [
      "[ Valid | 048/300 ] loss = 1.26824, acc = 0.57303\n",
      "[ Valid | 048/300 ] loss = 1.26824, acc = 0.57303\n"
     ]
    },
    {
     "name": "stderr",
     "output_type": "stream",
     "text": [
      "T: 049/300: 100%|█| 78/78 [00:08<00:00,  9.09it/s, lr=0.000262, b_loss=0.831, b_\n"
     ]
    },
    {
     "name": "stdout",
     "output_type": "stream",
     "text": [
      "[ Train | 049/300 ] loss = 0.91068, acc = 0.68224\n"
     ]
    },
    {
     "name": "stderr",
     "output_type": "stream",
     "text": [
      "V: 049/300: 100%|█████| 26/26 [00:02<00:00, 11.11it/s, v_loss=1.09, v_acc=0.639]\n"
     ]
    },
    {
     "name": "stdout",
     "output_type": "stream",
     "text": [
      "[ Valid | 049/300 ] loss = 1.09197, acc = 0.63897\n",
      "[ Valid | 049/300 ] loss = 1.09197, acc = 0.63897\n"
     ]
    },
    {
     "name": "stderr",
     "output_type": "stream",
     "text": [
      "T: 050/300: 100%|█| 78/78 [00:08<00:00,  9.10it/s, lr=0.000231, b_loss=0.959, b_\n"
     ]
    },
    {
     "name": "stdout",
     "output_type": "stream",
     "text": [
      "[ Train | 050/300 ] loss = 0.87963, acc = 0.69400\n"
     ]
    },
    {
     "name": "stderr",
     "output_type": "stream",
     "text": [
      "V: 050/300: 100%|█████| 26/26 [00:02<00:00, 11.34it/s, v_loss=1.06, v_acc=0.654]\n"
     ]
    },
    {
     "name": "stdout",
     "output_type": "stream",
     "text": [
      "[ Valid | 050/300 ] loss = 1.06036, acc = 0.65411\n",
      "[ Valid | 050/300 ] loss = 1.06036, acc = 0.65411\n"
     ]
    },
    {
     "name": "stderr",
     "output_type": "stream",
     "text": [
      "T: 051/300: 100%|█| 78/78 [00:08<00:00,  8.92it/s, lr=0.0002, b_loss=0.743, b_ac\n"
     ]
    },
    {
     "name": "stdout",
     "output_type": "stream",
     "text": [
      "[ Train | 051/300 ] loss = 0.85386, acc = 0.70690\n"
     ]
    },
    {
     "name": "stderr",
     "output_type": "stream",
     "text": [
      "V: 051/300: 100%|█████| 26/26 [00:02<00:00, 10.59it/s, v_loss=1.03, v_acc=0.661]\n"
     ]
    },
    {
     "name": "stdout",
     "output_type": "stream",
     "text": [
      "[ Valid | 051/300 ] loss = 1.02950, acc = 0.66127\n",
      "[ Valid | 051/300 ] loss = 1.02950, acc = 0.66127\n"
     ]
    },
    {
     "name": "stderr",
     "output_type": "stream",
     "text": [
      "T: 052/300: 100%|█| 78/78 [00:08<00:00,  8.84it/s, lr=0.000169, b_loss=0.707, b_\n"
     ]
    },
    {
     "name": "stdout",
     "output_type": "stream",
     "text": [
      "[ Train | 052/300 ] loss = 0.81337, acc = 0.71633\n"
     ]
    },
    {
     "name": "stderr",
     "output_type": "stream",
     "text": [
      "V: 052/300: 100%|██████| 26/26 [00:02<00:00, 11.78it/s, v_loss=1.04, v_acc=0.67]\n"
     ]
    },
    {
     "name": "stdout",
     "output_type": "stream",
     "text": [
      "[ Valid | 052/300 ] loss = 1.03614, acc = 0.67000\n",
      "[ Valid | 052/300 ] loss = 1.03614, acc = 0.67000\n"
     ]
    },
    {
     "name": "stderr",
     "output_type": "stream",
     "text": [
      "T: 053/300: 100%|█| 78/78 [00:08<00:00,  8.75it/s, lr=0.000138, b_loss=0.81, b_a\n"
     ]
    },
    {
     "name": "stdout",
     "output_type": "stream",
     "text": [
      "[ Train | 053/300 ] loss = 0.79568, acc = 0.72432\n"
     ]
    },
    {
     "name": "stderr",
     "output_type": "stream",
     "text": [
      "V: 053/300: 100%|████| 26/26 [00:02<00:00, 10.19it/s, v_loss=0.946, v_acc=0.679]\n"
     ]
    },
    {
     "name": "stdout",
     "output_type": "stream",
     "text": [
      "[ Valid | 053/300 ] loss = 0.94635, acc = 0.67928\n",
      "[ Valid | 053/300 ] loss = 0.94635, acc = 0.67928\n"
     ]
    },
    {
     "name": "stderr",
     "output_type": "stream",
     "text": [
      "T: 054/300: 100%|█| 78/78 [00:08<00:00,  8.97it/s, lr=0.000109, b_loss=0.836, b_\n"
     ]
    },
    {
     "name": "stdout",
     "output_type": "stream",
     "text": [
      "[ Train | 054/300 ] loss = 0.77075, acc = 0.73515\n"
     ]
    },
    {
     "name": "stderr",
     "output_type": "stream",
     "text": [
      "V: 054/300: 100%|████| 26/26 [00:02<00:00, 11.28it/s, v_loss=0.879, v_acc=0.701]\n"
     ]
    },
    {
     "name": "stdout",
     "output_type": "stream",
     "text": [
      "[ Valid | 054/300 ] loss = 0.87947, acc = 0.70059\n",
      "[ Valid | 054/300 ] loss = 0.87947, acc = 0.70059 -> best\n",
      "Best model found at fold 4 epoch 54, acc=0.70059, saving model\n"
     ]
    },
    {
     "name": "stderr",
     "output_type": "stream",
     "text": [
      "T: 055/300: 100%|█| 78/78 [00:08<00:00,  9.00it/s, lr=8.24e-5, b_loss=0.715, b_a\n"
     ]
    },
    {
     "name": "stdout",
     "output_type": "stream",
     "text": [
      "[ Train | 055/300 ] loss = 0.74328, acc = 0.74205\n"
     ]
    },
    {
     "name": "stderr",
     "output_type": "stream",
     "text": [
      "V: 055/300: 100%|████| 26/26 [00:02<00:00, 11.75it/s, v_loss=0.857, v_acc=0.715]\n"
     ]
    },
    {
     "name": "stdout",
     "output_type": "stream",
     "text": [
      "[ Valid | 055/300 ] loss = 0.85687, acc = 0.71544\n",
      "[ Valid | 055/300 ] loss = 0.85687, acc = 0.71544 -> best\n",
      "Best model found at fold 4 epoch 55, acc=0.71544, saving model\n"
     ]
    },
    {
     "name": "stderr",
     "output_type": "stream",
     "text": [
      "T: 056/300: 100%|█| 78/78 [00:08<00:00,  9.00it/s, lr=5.86e-5, b_loss=0.75, b_ac\n"
     ]
    },
    {
     "name": "stdout",
     "output_type": "stream",
     "text": [
      "[ Train | 056/300 ] loss = 0.73045, acc = 0.75179\n"
     ]
    },
    {
     "name": "stderr",
     "output_type": "stream",
     "text": [
      "V: 056/300: 100%|████| 26/26 [00:02<00:00, 10.85it/s, v_loss=0.836, v_acc=0.719]\n"
     ]
    },
    {
     "name": "stdout",
     "output_type": "stream",
     "text": [
      "[ Valid | 056/300 ] loss = 0.83616, acc = 0.71898\n",
      "[ Valid | 056/300 ] loss = 0.83616, acc = 0.71898 -> best\n",
      "Best model found at fold 4 epoch 56, acc=0.71898, saving model\n"
     ]
    },
    {
     "name": "stderr",
     "output_type": "stream",
     "text": [
      "T: 057/300: 100%|█| 78/78 [00:08<00:00,  8.73it/s, lr=3.82e-5, b_loss=0.672, b_a\n"
     ]
    },
    {
     "name": "stdout",
     "output_type": "stream",
     "text": [
      "[ Train | 057/300 ] loss = 0.69897, acc = 0.76011\n"
     ]
    },
    {
     "name": "stderr",
     "output_type": "stream",
     "text": [
      "V: 057/300: 100%|████| 26/26 [00:02<00:00, 10.97it/s, v_loss=0.838, v_acc=0.721]\n"
     ]
    },
    {
     "name": "stdout",
     "output_type": "stream",
     "text": [
      "[ Valid | 057/300 ] loss = 0.83846, acc = 0.72086\n",
      "[ Valid | 057/300 ] loss = 0.83846, acc = 0.72086 -> best\n",
      "Best model found at fold 4 epoch 57, acc=0.72086, saving model\n"
     ]
    },
    {
     "name": "stderr",
     "output_type": "stream",
     "text": [
      "T: 058/300: 100%|█| 78/78 [00:08<00:00,  9.01it/s, lr=2.18e-5, b_loss=0.697, b_a\n"
     ]
    },
    {
     "name": "stdout",
     "output_type": "stream",
     "text": [
      "[ Train | 058/300 ] loss = 0.70229, acc = 0.75642\n"
     ]
    },
    {
     "name": "stderr",
     "output_type": "stream",
     "text": [
      "V: 058/300: 100%|████| 26/26 [00:02<00:00, 12.22it/s, v_loss=0.845, v_acc=0.725]\n"
     ]
    },
    {
     "name": "stdout",
     "output_type": "stream",
     "text": [
      "[ Valid | 058/300 ] loss = 0.84501, acc = 0.72533\n",
      "[ Valid | 058/300 ] loss = 0.84501, acc = 0.72533 -> best\n",
      "Best model found at fold 4 epoch 58, acc=0.72533, saving model\n"
     ]
    },
    {
     "name": "stderr",
     "output_type": "stream",
     "text": [
      "T: 059/300: 100%|█| 78/78 [00:08<00:00,  9.04it/s, lr=9.79e-6, b_loss=0.751, b_a\n"
     ]
    },
    {
     "name": "stdout",
     "output_type": "stream",
     "text": [
      "[ Train | 059/300 ] loss = 0.68350, acc = 0.75928\n"
     ]
    },
    {
     "name": "stderr",
     "output_type": "stream",
     "text": [
      "V: 059/300: 100%|█████| 26/26 [00:02<00:00, 11.33it/s, v_loss=0.82, v_acc=0.734]\n"
     ]
    },
    {
     "name": "stdout",
     "output_type": "stream",
     "text": [
      "[ Valid | 059/300 ] loss = 0.81960, acc = 0.73371\n",
      "[ Valid | 059/300 ] loss = 0.81960, acc = 0.73371 -> best\n",
      "Best model found at fold 4 epoch 59, acc=0.73371, saving model\n"
     ]
    },
    {
     "name": "stderr",
     "output_type": "stream",
     "text": [
      "T: 060/300: 100%|█| 78/78 [00:08<00:00,  8.98it/s, lr=2.46e-6, b_loss=0.588, b_a\n"
     ]
    },
    {
     "name": "stdout",
     "output_type": "stream",
     "text": [
      "[ Train | 060/300 ] loss = 0.66682, acc = 0.76851\n"
     ]
    },
    {
     "name": "stderr",
     "output_type": "stream",
     "text": [
      "V: 060/300: 100%|████| 26/26 [00:02<00:00, 12.62it/s, v_loss=0.818, v_acc=0.734]\n"
     ]
    },
    {
     "name": "stdout",
     "output_type": "stream",
     "text": [
      "[ Valid | 060/300 ] loss = 0.81762, acc = 0.73407\n",
      "[ Valid | 060/300 ] loss = 0.81762, acc = 0.73407 -> best\n",
      "Best model found at fold 4 epoch 60, acc=0.73407, saving model\n"
     ]
    },
    {
     "name": "stderr",
     "output_type": "stream",
     "text": [
      "T: 061/300: 100%|█| 78/78 [00:08<00:00,  8.75it/s, lr=0.0004, b_loss=1.12, b_acc\n"
     ]
    },
    {
     "name": "stdout",
     "output_type": "stream",
     "text": [
      "[ Train | 061/300 ] loss = 0.91573, acc = 0.68106\n"
     ]
    },
    {
     "name": "stderr",
     "output_type": "stream",
     "text": [
      "V: 061/300: 100%|██████| 26/26 [00:02<00:00, 11.61it/s, v_loss=1.3, v_acc=0.588]\n"
     ]
    },
    {
     "name": "stdout",
     "output_type": "stream",
     "text": [
      "[ Valid | 061/300 ] loss = 1.29945, acc = 0.58756\n",
      "[ Valid | 061/300 ] loss = 1.29945, acc = 0.58756\n"
     ]
    },
    {
     "name": "stderr",
     "output_type": "stream",
     "text": [
      "T: 062/300: 100%|█| 78/78 [00:08<00:00,  8.98it/s, lr=0.000398, b_loss=0.77, b_a\n"
     ]
    },
    {
     "name": "stdout",
     "output_type": "stream",
     "text": [
      "[ Train | 062/300 ] loss = 0.92295, acc = 0.67614\n"
     ]
    },
    {
     "name": "stderr",
     "output_type": "stream",
     "text": [
      "V: 062/300: 100%|█████| 26/26 [00:02<00:00, 10.94it/s, v_loss=1.24, v_acc=0.605]\n"
     ]
    },
    {
     "name": "stdout",
     "output_type": "stream",
     "text": [
      "[ Valid | 062/300 ] loss = 1.23847, acc = 0.60526\n",
      "[ Valid | 062/300 ] loss = 1.23847, acc = 0.60526\n"
     ]
    },
    {
     "name": "stderr",
     "output_type": "stream",
     "text": [
      "T: 063/300: 100%|█| 78/78 [00:08<00:00,  9.24it/s, lr=0.00039, b_loss=1.08, b_ac\n"
     ]
    },
    {
     "name": "stdout",
     "output_type": "stream",
     "text": [
      "[ Train | 063/300 ] loss = 0.92006, acc = 0.68705\n"
     ]
    },
    {
     "name": "stderr",
     "output_type": "stream",
     "text": [
      "V: 063/300: 100%|█████| 26/26 [00:02<00:00, 10.04it/s, v_loss=1.12, v_acc=0.638]\n"
     ]
    },
    {
     "name": "stdout",
     "output_type": "stream",
     "text": [
      "[ Valid | 063/300 ] loss = 1.12337, acc = 0.63799\n",
      "[ Valid | 063/300 ] loss = 1.12337, acc = 0.63799\n"
     ]
    },
    {
     "name": "stderr",
     "output_type": "stream",
     "text": [
      "T: 064/300: 100%|█| 78/78 [00:08<00:00,  9.09it/s, lr=0.000378, b_loss=0.824, b_\n"
     ]
    },
    {
     "name": "stdout",
     "output_type": "stream",
     "text": [
      "[ Train | 064/300 ] loss = 0.88208, acc = 0.69475\n"
     ]
    },
    {
     "name": "stderr",
     "output_type": "stream",
     "text": [
      "V: 064/300: 100%|█████| 26/26 [00:02<00:00, 10.96it/s, v_loss=1.15, v_acc=0.644]\n"
     ]
    },
    {
     "name": "stdout",
     "output_type": "stream",
     "text": [
      "[ Valid | 064/300 ] loss = 1.15049, acc = 0.64352\n",
      "[ Valid | 064/300 ] loss = 1.15049, acc = 0.64352\n"
     ]
    },
    {
     "name": "stderr",
     "output_type": "stream",
     "text": [
      "T: 065/300: 100%|█| 78/78 [00:08<00:00,  8.97it/s, lr=0.000362, b_loss=0.91, b_a\n"
     ]
    },
    {
     "name": "stdout",
     "output_type": "stream",
     "text": [
      "[ Train | 065/300 ] loss = 0.87776, acc = 0.69221\n"
     ]
    },
    {
     "name": "stderr",
     "output_type": "stream",
     "text": [
      "V: 065/300: 100%|████| 26/26 [00:02<00:00, 11.91it/s, v_loss=0.983, v_acc=0.671]\n"
     ]
    },
    {
     "name": "stdout",
     "output_type": "stream",
     "text": [
      "[ Valid | 065/300 ] loss = 0.98265, acc = 0.67089\n",
      "[ Valid | 065/300 ] loss = 0.98265, acc = 0.67089\n"
     ]
    },
    {
     "name": "stderr",
     "output_type": "stream",
     "text": [
      "T: 066/300: 100%|█| 78/78 [00:08<00:00,  9.21it/s, lr=0.000341, b_loss=0.855, b_\n"
     ]
    },
    {
     "name": "stdout",
     "output_type": "stream",
     "text": [
      "[ Train | 066/300 ] loss = 0.84337, acc = 0.70925\n"
     ]
    },
    {
     "name": "stderr",
     "output_type": "stream",
     "text": [
      "V: 066/300: 100%|████████| 26/26 [00:02<00:00, 12.38it/s, v_loss=1, v_acc=0.671]\n"
     ]
    },
    {
     "name": "stdout",
     "output_type": "stream",
     "text": [
      "[ Valid | 066/300 ] loss = 1.00167, acc = 0.67097\n",
      "[ Valid | 066/300 ] loss = 1.00167, acc = 0.67097\n"
     ]
    },
    {
     "name": "stderr",
     "output_type": "stream",
     "text": [
      "T: 067/300: 100%|█| 78/78 [00:08<00:00,  9.07it/s, lr=0.000318, b_loss=0.613, b_\n"
     ]
    },
    {
     "name": "stdout",
     "output_type": "stream",
     "text": [
      "[ Train | 067/300 ] loss = 0.81815, acc = 0.71908\n"
     ]
    },
    {
     "name": "stderr",
     "output_type": "stream",
     "text": [
      "V: 067/300: 100%|████| 26/26 [00:02<00:00, 11.31it/s, v_loss=0.939, v_acc=0.692]\n"
     ]
    },
    {
     "name": "stdout",
     "output_type": "stream",
     "text": [
      "[ Valid | 067/300 ] loss = 0.93945, acc = 0.69195\n",
      "[ Valid | 067/300 ] loss = 0.93945, acc = 0.69195\n"
     ]
    },
    {
     "name": "stderr",
     "output_type": "stream",
     "text": [
      "T: 068/300: 100%|█| 78/78 [00:08<00:00,  8.86it/s, lr=0.000291, b_loss=0.803, b_\n"
     ]
    },
    {
     "name": "stdout",
     "output_type": "stream",
     "text": [
      "[ Train | 068/300 ] loss = 0.80233, acc = 0.72280\n"
     ]
    },
    {
     "name": "stderr",
     "output_type": "stream",
     "text": [
      "V: 068/300: 100%|█████| 26/26 [00:02<00:00, 10.96it/s, v_loss=1.59, v_acc=0.522]\n"
     ]
    },
    {
     "name": "stdout",
     "output_type": "stream",
     "text": [
      "[ Valid | 068/300 ] loss = 1.58997, acc = 0.52223\n",
      "[ Valid | 068/300 ] loss = 1.58997, acc = 0.52223\n"
     ]
    },
    {
     "name": "stderr",
     "output_type": "stream",
     "text": [
      "T: 069/300: 100%|█| 78/78 [00:08<00:00,  8.98it/s, lr=0.000262, b_loss=0.665, b_\n"
     ]
    },
    {
     "name": "stdout",
     "output_type": "stream",
     "text": [
      "[ Train | 069/300 ] loss = 0.77926, acc = 0.73118\n"
     ]
    },
    {
     "name": "stderr",
     "output_type": "stream",
     "text": [
      "V: 069/300: 100%|████| 26/26 [00:02<00:00, 11.08it/s, v_loss=0.944, v_acc=0.688]\n"
     ]
    },
    {
     "name": "stdout",
     "output_type": "stream",
     "text": [
      "[ Valid | 069/300 ] loss = 0.94389, acc = 0.68840\n",
      "[ Valid | 069/300 ] loss = 0.94389, acc = 0.68840\n"
     ]
    },
    {
     "name": "stderr",
     "output_type": "stream",
     "text": [
      "T: 070/300: 100%|█| 78/78 [00:08<00:00,  8.96it/s, lr=0.000231, b_loss=0.846, b_\n"
     ]
    },
    {
     "name": "stdout",
     "output_type": "stream",
     "text": [
      "[ Train | 070/300 ] loss = 0.73606, acc = 0.74576\n"
     ]
    },
    {
     "name": "stderr",
     "output_type": "stream",
     "text": [
      "V: 070/300: 100%|████| 26/26 [00:02<00:00, 11.37it/s, v_loss=0.871, v_acc=0.707]\n"
     ]
    },
    {
     "name": "stdout",
     "output_type": "stream",
     "text": [
      "[ Valid | 070/300 ] loss = 0.87085, acc = 0.70733\n",
      "[ Valid | 070/300 ] loss = 0.87085, acc = 0.70733\n"
     ]
    },
    {
     "name": "stderr",
     "output_type": "stream",
     "text": [
      "T: 071/300: 100%|█| 78/78 [00:08<00:00,  9.05it/s, lr=0.0002, b_loss=0.734, b_ac\n"
     ]
    },
    {
     "name": "stdout",
     "output_type": "stream",
     "text": [
      "[ Train | 071/300 ] loss = 0.72022, acc = 0.75137\n"
     ]
    },
    {
     "name": "stderr",
     "output_type": "stream",
     "text": [
      "V: 071/300: 100%|██████| 26/26 [00:02<00:00, 10.70it/s, v_loss=1.1, v_acc=0.635]\n"
     ]
    },
    {
     "name": "stdout",
     "output_type": "stream",
     "text": [
      "[ Valid | 071/300 ] loss = 1.10164, acc = 0.63544\n",
      "[ Valid | 071/300 ] loss = 1.10164, acc = 0.63544\n"
     ]
    },
    {
     "name": "stderr",
     "output_type": "stream",
     "text": [
      "T: 072/300: 100%|█| 78/78 [00:08<00:00,  8.87it/s, lr=0.000169, b_loss=0.732, b_\n"
     ]
    },
    {
     "name": "stdout",
     "output_type": "stream",
     "text": [
      "[ Train | 072/300 ] loss = 0.70417, acc = 0.75571\n"
     ]
    },
    {
     "name": "stderr",
     "output_type": "stream",
     "text": [
      "V: 072/300: 100%|████| 26/26 [00:02<00:00, 11.13it/s, v_loss=0.929, v_acc=0.704]\n"
     ]
    },
    {
     "name": "stdout",
     "output_type": "stream",
     "text": [
      "[ Valid | 072/300 ] loss = 0.92851, acc = 0.70400\n",
      "[ Valid | 072/300 ] loss = 0.92851, acc = 0.70400\n"
     ]
    },
    {
     "name": "stderr",
     "output_type": "stream",
     "text": [
      "T: 073/300: 100%|█| 78/78 [00:08<00:00,  8.74it/s, lr=0.000138, b_loss=0.601, b_\n"
     ]
    },
    {
     "name": "stdout",
     "output_type": "stream",
     "text": [
      "[ Train | 073/300 ] loss = 0.67154, acc = 0.76549\n"
     ]
    },
    {
     "name": "stderr",
     "output_type": "stream",
     "text": [
      "V: 073/300: 100%|████| 26/26 [00:02<00:00, 10.18it/s, v_loss=0.863, v_acc=0.715]\n"
     ]
    },
    {
     "name": "stdout",
     "output_type": "stream",
     "text": [
      "[ Valid | 073/300 ] loss = 0.86266, acc = 0.71512\n",
      "[ Valid | 073/300 ] loss = 0.86266, acc = 0.71512\n"
     ]
    },
    {
     "name": "stderr",
     "output_type": "stream",
     "text": [
      "T: 074/300: 100%|█| 78/78 [00:08<00:00,  8.73it/s, lr=0.000109, b_loss=0.519, b_\n"
     ]
    },
    {
     "name": "stdout",
     "output_type": "stream",
     "text": [
      "[ Train | 074/300 ] loss = 0.64656, acc = 0.77985\n"
     ]
    },
    {
     "name": "stderr",
     "output_type": "stream",
     "text": [
      "V: 074/300: 100%|█████| 26/26 [00:02<00:00, 10.42it/s, v_loss=0.82, v_acc=0.737]\n"
     ]
    },
    {
     "name": "stdout",
     "output_type": "stream",
     "text": [
      "[ Valid | 074/300 ] loss = 0.82006, acc = 0.73707\n",
      "[ Valid | 074/300 ] loss = 0.82006, acc = 0.73707 -> best\n",
      "Best model found at fold 4 epoch 74, acc=0.73707, saving model\n"
     ]
    },
    {
     "name": "stderr",
     "output_type": "stream",
     "text": [
      "T: 075/300: 100%|█| 78/78 [00:08<00:00,  8.93it/s, lr=8.24e-5, b_loss=0.531, b_a\n"
     ]
    },
    {
     "name": "stdout",
     "output_type": "stream",
     "text": [
      "[ Train | 075/300 ] loss = 0.62219, acc = 0.78374\n"
     ]
    },
    {
     "name": "stderr",
     "output_type": "stream",
     "text": [
      "V: 075/300: 100%|████| 26/26 [00:02<00:00, 10.78it/s, v_loss=0.827, v_acc=0.732]\n"
     ]
    },
    {
     "name": "stdout",
     "output_type": "stream",
     "text": [
      "[ Valid | 075/300 ] loss = 0.82701, acc = 0.73164\n",
      "[ Valid | 075/300 ] loss = 0.82701, acc = 0.73164\n"
     ]
    },
    {
     "name": "stderr",
     "output_type": "stream",
     "text": [
      "T: 076/300: 100%|█| 78/78 [00:08<00:00,  8.93it/s, lr=5.86e-5, b_loss=0.668, b_a\n"
     ]
    },
    {
     "name": "stdout",
     "output_type": "stream",
     "text": [
      "[ Train | 076/300 ] loss = 0.59824, acc = 0.79482\n"
     ]
    },
    {
     "name": "stderr",
     "output_type": "stream",
     "text": [
      "V: 076/300: 100%|████| 26/26 [00:02<00:00, 11.53it/s, v_loss=0.801, v_acc=0.734]\n"
     ]
    },
    {
     "name": "stdout",
     "output_type": "stream",
     "text": [
      "[ Valid | 076/300 ] loss = 0.80138, acc = 0.73377\n",
      "[ Valid | 076/300 ] loss = 0.80138, acc = 0.73377\n"
     ]
    },
    {
     "name": "stderr",
     "output_type": "stream",
     "text": [
      "T: 077/300: 100%|█| 78/78 [00:08<00:00,  9.07it/s, lr=3.82e-5, b_loss=0.608, b_a\n"
     ]
    },
    {
     "name": "stdout",
     "output_type": "stream",
     "text": [
      "[ Train | 077/300 ] loss = 0.58904, acc = 0.79727\n"
     ]
    },
    {
     "name": "stderr",
     "output_type": "stream",
     "text": [
      "V: 077/300: 100%|████| 26/26 [00:02<00:00, 11.37it/s, v_loss=0.791, v_acc=0.747]\n"
     ]
    },
    {
     "name": "stdout",
     "output_type": "stream",
     "text": [
      "[ Valid | 077/300 ] loss = 0.79094, acc = 0.74695\n",
      "[ Valid | 077/300 ] loss = 0.79094, acc = 0.74695 -> best\n",
      "Best model found at fold 4 epoch 77, acc=0.74695, saving model\n"
     ]
    },
    {
     "name": "stderr",
     "output_type": "stream",
     "text": [
      "T: 078/300: 100%|█| 78/78 [00:08<00:00,  8.84it/s, lr=2.18e-5, b_loss=0.567, b_a\n"
     ]
    },
    {
     "name": "stdout",
     "output_type": "stream",
     "text": [
      "[ Train | 078/300 ] loss = 0.58665, acc = 0.79549\n"
     ]
    },
    {
     "name": "stderr",
     "output_type": "stream",
     "text": [
      "V: 078/300: 100%|████| 26/26 [00:02<00:00, 11.26it/s, v_loss=0.776, v_acc=0.749]\n"
     ]
    },
    {
     "name": "stdout",
     "output_type": "stream",
     "text": [
      "[ Valid | 078/300 ] loss = 0.77599, acc = 0.74948\n",
      "[ Valid | 078/300 ] loss = 0.77599, acc = 0.74948 -> best\n",
      "Best model found at fold 4 epoch 78, acc=0.74948, saving model\n"
     ]
    },
    {
     "name": "stderr",
     "output_type": "stream",
     "text": [
      "T: 079/300: 100%|█| 78/78 [00:08<00:00,  9.02it/s, lr=9.79e-6, b_loss=0.611, b_a\n"
     ]
    },
    {
     "name": "stdout",
     "output_type": "stream",
     "text": [
      "[ Train | 079/300 ] loss = 0.56880, acc = 0.80520\n"
     ]
    },
    {
     "name": "stderr",
     "output_type": "stream",
     "text": [
      "V: 079/300: 100%|████| 26/26 [00:02<00:00, 10.65it/s, v_loss=0.779, v_acc=0.751]\n"
     ]
    },
    {
     "name": "stdout",
     "output_type": "stream",
     "text": [
      "[ Valid | 079/300 ] loss = 0.77861, acc = 0.75060\n",
      "[ Valid | 079/300 ] loss = 0.77861, acc = 0.75060 -> best\n",
      "Best model found at fold 4 epoch 79, acc=0.75060, saving model\n"
     ]
    },
    {
     "name": "stderr",
     "output_type": "stream",
     "text": [
      "T: 080/300: 100%|█| 78/78 [00:08<00:00,  9.10it/s, lr=2.46e-6, b_loss=0.508, b_a\n"
     ]
    },
    {
     "name": "stdout",
     "output_type": "stream",
     "text": [
      "[ Train | 080/300 ] loss = 0.55930, acc = 0.80790\n"
     ]
    },
    {
     "name": "stderr",
     "output_type": "stream",
     "text": [
      "V: 080/300: 100%|████| 26/26 [00:02<00:00, 10.34it/s, v_loss=0.775, v_acc=0.754]\n"
     ]
    },
    {
     "name": "stdout",
     "output_type": "stream",
     "text": [
      "[ Valid | 080/300 ] loss = 0.77509, acc = 0.75396\n",
      "[ Valid | 080/300 ] loss = 0.77509, acc = 0.75396 -> best\n",
      "Best model found at fold 4 epoch 80, acc=0.75396, saving model\n"
     ]
    },
    {
     "name": "stderr",
     "output_type": "stream",
     "text": [
      "T: 081/300: 100%|█| 78/78 [00:08<00:00,  8.99it/s, lr=0.0004, b_loss=1.11, b_acc\n"
     ]
    },
    {
     "name": "stdout",
     "output_type": "stream",
     "text": [
      "[ Train | 081/300 ] loss = 0.79195, acc = 0.72801\n"
     ]
    },
    {
     "name": "stderr",
     "output_type": "stream",
     "text": [
      "V: 081/300: 100%|█████| 26/26 [00:02<00:00, 11.05it/s, v_loss=1.64, v_acc=0.525]\n"
     ]
    },
    {
     "name": "stdout",
     "output_type": "stream",
     "text": [
      "[ Valid | 081/300 ] loss = 1.63671, acc = 0.52498\n",
      "[ Valid | 081/300 ] loss = 1.63671, acc = 0.52498\n"
     ]
    },
    {
     "name": "stderr",
     "output_type": "stream",
     "text": [
      "T: 082/300: 100%|█| 78/78 [00:08<00:00,  8.98it/s, lr=0.000398, b_loss=0.781, b_\n"
     ]
    },
    {
     "name": "stdout",
     "output_type": "stream",
     "text": [
      "[ Train | 082/300 ] loss = 0.79802, acc = 0.72311\n"
     ]
    },
    {
     "name": "stderr",
     "output_type": "stream",
     "text": [
      "V: 082/300: 100%|█████| 26/26 [00:02<00:00, 12.06it/s, v_loss=1.08, v_acc=0.649]\n"
     ]
    },
    {
     "name": "stdout",
     "output_type": "stream",
     "text": [
      "[ Valid | 082/300 ] loss = 1.08278, acc = 0.64891\n",
      "[ Valid | 082/300 ] loss = 1.08278, acc = 0.64891\n"
     ]
    },
    {
     "name": "stderr",
     "output_type": "stream",
     "text": [
      "T: 083/300: 100%|█| 78/78 [00:08<00:00,  9.18it/s, lr=0.00039, b_loss=0.927, b_a\n"
     ]
    },
    {
     "name": "stdout",
     "output_type": "stream",
     "text": [
      "[ Train | 083/300 ] loss = 0.80754, acc = 0.72437\n"
     ]
    },
    {
     "name": "stderr",
     "output_type": "stream",
     "text": [
      "V: 083/300: 100%|█████| 26/26 [00:02<00:00, 11.07it/s, v_loss=0.98, v_acc=0.685]\n"
     ]
    },
    {
     "name": "stdout",
     "output_type": "stream",
     "text": [
      "[ Valid | 083/300 ] loss = 0.98035, acc = 0.68479\n",
      "[ Valid | 083/300 ] loss = 0.98035, acc = 0.68479\n"
     ]
    },
    {
     "name": "stderr",
     "output_type": "stream",
     "text": [
      "T: 084/300: 100%|█| 78/78 [00:08<00:00,  8.89it/s, lr=0.000378, b_loss=0.811, b_\n"
     ]
    },
    {
     "name": "stdout",
     "output_type": "stream",
     "text": [
      "[ Train | 084/300 ] loss = 0.76964, acc = 0.73425\n"
     ]
    },
    {
     "name": "stderr",
     "output_type": "stream",
     "text": [
      "V: 084/300: 100%|█████| 26/26 [00:02<00:00, 11.57it/s, v_loss=1.64, v_acc=0.562]\n"
     ]
    },
    {
     "name": "stdout",
     "output_type": "stream",
     "text": [
      "[ Valid | 084/300 ] loss = 1.63974, acc = 0.56198\n",
      "[ Valid | 084/300 ] loss = 1.63974, acc = 0.56198\n"
     ]
    },
    {
     "name": "stderr",
     "output_type": "stream",
     "text": [
      "T: 085/300: 100%|█| 78/78 [00:08<00:00,  9.05it/s, lr=0.000362, b_loss=0.687, b_\n"
     ]
    },
    {
     "name": "stdout",
     "output_type": "stream",
     "text": [
      "[ Train | 085/300 ] loss = 0.74760, acc = 0.73849\n"
     ]
    },
    {
     "name": "stderr",
     "output_type": "stream",
     "text": [
      "V: 085/300: 100%|█████| 26/26 [00:02<00:00, 11.20it/s, v_loss=1.35, v_acc=0.585]\n"
     ]
    },
    {
     "name": "stdout",
     "output_type": "stream",
     "text": [
      "[ Valid | 085/300 ] loss = 1.34752, acc = 0.58544\n",
      "[ Valid | 085/300 ] loss = 1.34752, acc = 0.58544\n"
     ]
    },
    {
     "name": "stderr",
     "output_type": "stream",
     "text": [
      "T: 086/300: 100%|█| 78/78 [00:08<00:00,  9.18it/s, lr=0.000341, b_loss=0.569, b_\n"
     ]
    },
    {
     "name": "stdout",
     "output_type": "stream",
     "text": [
      "[ Train | 086/300 ] loss = 0.74075, acc = 0.74386\n"
     ]
    },
    {
     "name": "stderr",
     "output_type": "stream",
     "text": [
      "V: 086/300: 100%|█████| 26/26 [00:02<00:00, 11.31it/s, v_loss=1.04, v_acc=0.675]\n"
     ]
    },
    {
     "name": "stdout",
     "output_type": "stream",
     "text": [
      "[ Valid | 086/300 ] loss = 1.04475, acc = 0.67453\n",
      "[ Valid | 086/300 ] loss = 1.04475, acc = 0.67453\n"
     ]
    },
    {
     "name": "stderr",
     "output_type": "stream",
     "text": [
      "T: 087/300: 100%|█| 78/78 [00:08<00:00,  9.14it/s, lr=0.000318, b_loss=0.697, b_\n"
     ]
    },
    {
     "name": "stdout",
     "output_type": "stream",
     "text": [
      "[ Train | 087/300 ] loss = 0.71423, acc = 0.75262\n"
     ]
    },
    {
     "name": "stderr",
     "output_type": "stream",
     "text": [
      "V: 087/300: 100%|█████| 26/26 [00:02<00:00, 11.68it/s, v_loss=1.04, v_acc=0.686]\n"
     ]
    },
    {
     "name": "stdout",
     "output_type": "stream",
     "text": [
      "[ Valid | 087/300 ] loss = 1.03914, acc = 0.68600\n",
      "[ Valid | 087/300 ] loss = 1.03914, acc = 0.68600\n"
     ]
    },
    {
     "name": "stderr",
     "output_type": "stream",
     "text": [
      "T: 088/300: 100%|█| 78/78 [00:08<00:00,  9.14it/s, lr=0.000291, b_loss=0.573, b_\n"
     ]
    },
    {
     "name": "stdout",
     "output_type": "stream",
     "text": [
      "[ Train | 088/300 ] loss = 0.69033, acc = 0.76130\n"
     ]
    },
    {
     "name": "stderr",
     "output_type": "stream",
     "text": [
      "V: 088/300: 100%|█████| 26/26 [00:02<00:00, 11.61it/s, v_loss=0.994, v_acc=0.69]\n"
     ]
    },
    {
     "name": "stdout",
     "output_type": "stream",
     "text": [
      "[ Valid | 088/300 ] loss = 0.99426, acc = 0.68957\n",
      "[ Valid | 088/300 ] loss = 0.99426, acc = 0.68957\n"
     ]
    },
    {
     "name": "stderr",
     "output_type": "stream",
     "text": [
      "T: 089/300: 100%|█| 78/78 [00:08<00:00,  9.02it/s, lr=0.000262, b_loss=0.716, b_\n"
     ]
    },
    {
     "name": "stdout",
     "output_type": "stream",
     "text": [
      "[ Train | 089/300 ] loss = 0.66994, acc = 0.76953\n"
     ]
    },
    {
     "name": "stderr",
     "output_type": "stream",
     "text": [
      "V: 089/300: 100%|████| 26/26 [00:02<00:00, 10.46it/s, v_loss=0.908, v_acc=0.708]\n"
     ]
    },
    {
     "name": "stdout",
     "output_type": "stream",
     "text": [
      "[ Valid | 089/300 ] loss = 0.90758, acc = 0.70788\n",
      "[ Valid | 089/300 ] loss = 0.90758, acc = 0.70788\n"
     ]
    },
    {
     "name": "stderr",
     "output_type": "stream",
     "text": [
      "T: 090/300: 100%|█| 78/78 [00:08<00:00,  8.84it/s, lr=0.000231, b_loss=0.543, b_\n"
     ]
    },
    {
     "name": "stdout",
     "output_type": "stream",
     "text": [
      "[ Train | 090/300 ] loss = 0.63284, acc = 0.78262\n"
     ]
    },
    {
     "name": "stderr",
     "output_type": "stream",
     "text": [
      "V: 090/300: 100%|████████| 26/26 [00:02<00:00, 10.73it/s, v_loss=1, v_acc=0.685]\n"
     ]
    },
    {
     "name": "stdout",
     "output_type": "stream",
     "text": [
      "[ Valid | 090/300 ] loss = 1.00389, acc = 0.68539\n",
      "[ Valid | 090/300 ] loss = 1.00389, acc = 0.68539\n"
     ]
    },
    {
     "name": "stderr",
     "output_type": "stream",
     "text": [
      "T: 091/300: 100%|█| 78/78 [00:08<00:00,  9.09it/s, lr=0.0002, b_loss=0.576, b_ac\n"
     ]
    },
    {
     "name": "stdout",
     "output_type": "stream",
     "text": [
      "[ Train | 091/300 ] loss = 0.63109, acc = 0.77782\n"
     ]
    },
    {
     "name": "stderr",
     "output_type": "stream",
     "text": [
      "V: 091/300: 100%|████| 26/26 [00:02<00:00, 10.44it/s, v_loss=0.841, v_acc=0.729]\n"
     ]
    },
    {
     "name": "stdout",
     "output_type": "stream",
     "text": [
      "[ Valid | 091/300 ] loss = 0.84117, acc = 0.72869\n",
      "[ Valid | 091/300 ] loss = 0.84117, acc = 0.72869\n"
     ]
    },
    {
     "name": "stderr",
     "output_type": "stream",
     "text": [
      "T: 092/300: 100%|█| 78/78 [00:08<00:00,  8.80it/s, lr=0.000169, b_loss=0.728, b_\n"
     ]
    },
    {
     "name": "stdout",
     "output_type": "stream",
     "text": [
      "[ Train | 092/300 ] loss = 0.59906, acc = 0.79395\n"
     ]
    },
    {
     "name": "stderr",
     "output_type": "stream",
     "text": [
      "V: 092/300: 100%|████| 26/26 [00:02<00:00, 10.87it/s, v_loss=0.856, v_acc=0.731]\n"
     ]
    },
    {
     "name": "stdout",
     "output_type": "stream",
     "text": [
      "[ Valid | 092/300 ] loss = 0.85647, acc = 0.73109\n",
      "[ Valid | 092/300 ] loss = 0.85647, acc = 0.73109\n"
     ]
    },
    {
     "name": "stderr",
     "output_type": "stream",
     "text": [
      "T: 093/300: 100%|█| 78/78 [00:08<00:00,  9.10it/s, lr=0.000138, b_loss=0.575, b_\n"
     ]
    },
    {
     "name": "stdout",
     "output_type": "stream",
     "text": [
      "[ Train | 093/300 ] loss = 0.58099, acc = 0.80054\n"
     ]
    },
    {
     "name": "stderr",
     "output_type": "stream",
     "text": [
      "V: 093/300: 100%|████| 26/26 [00:02<00:00, 10.94it/s, v_loss=0.817, v_acc=0.752]\n"
     ]
    },
    {
     "name": "stdout",
     "output_type": "stream",
     "text": [
      "[ Valid | 093/300 ] loss = 0.81728, acc = 0.75178\n",
      "[ Valid | 093/300 ] loss = 0.81728, acc = 0.75178\n"
     ]
    },
    {
     "name": "stderr",
     "output_type": "stream",
     "text": [
      "T: 094/300: 100%|█| 78/78 [00:08<00:00,  9.11it/s, lr=0.000109, b_loss=0.616, b_\n"
     ]
    },
    {
     "name": "stdout",
     "output_type": "stream",
     "text": [
      "[ Train | 094/300 ] loss = 0.54289, acc = 0.81317\n"
     ]
    },
    {
     "name": "stderr",
     "output_type": "stream",
     "text": [
      "V: 094/300: 100%|█████| 26/26 [00:02<00:00, 10.33it/s, v_loss=0.898, v_acc=0.72]\n"
     ]
    },
    {
     "name": "stdout",
     "output_type": "stream",
     "text": [
      "[ Valid | 094/300 ] loss = 0.89813, acc = 0.71957\n",
      "[ Valid | 094/300 ] loss = 0.89813, acc = 0.71957\n"
     ]
    },
    {
     "name": "stderr",
     "output_type": "stream",
     "text": [
      "T: 095/300: 100%|█| 78/78 [00:08<00:00,  9.23it/s, lr=8.24e-5, b_loss=0.561, b_a\n"
     ]
    },
    {
     "name": "stdout",
     "output_type": "stream",
     "text": [
      "[ Train | 095/300 ] loss = 0.53082, acc = 0.81698\n"
     ]
    },
    {
     "name": "stderr",
     "output_type": "stream",
     "text": [
      "V: 095/300: 100%|████| 26/26 [00:02<00:00, 11.19it/s, v_loss=0.803, v_acc=0.753]\n"
     ]
    },
    {
     "name": "stdout",
     "output_type": "stream",
     "text": [
      "[ Valid | 095/300 ] loss = 0.80251, acc = 0.75326\n",
      "[ Valid | 095/300 ] loss = 0.80251, acc = 0.75326\n"
     ]
    },
    {
     "name": "stderr",
     "output_type": "stream",
     "text": [
      "T: 096/300: 100%|█| 78/78 [00:08<00:00,  9.00it/s, lr=5.86e-5, b_loss=0.586, b_a\n"
     ]
    },
    {
     "name": "stdout",
     "output_type": "stream",
     "text": [
      "[ Train | 096/300 ] loss = 0.51111, acc = 0.82742\n"
     ]
    },
    {
     "name": "stderr",
     "output_type": "stream",
     "text": [
      "V: 096/300: 100%|█████| 26/26 [00:02<00:00, 10.89it/s, v_loss=0.785, v_acc=0.76]\n"
     ]
    },
    {
     "name": "stdout",
     "output_type": "stream",
     "text": [
      "[ Valid | 096/300 ] loss = 0.78503, acc = 0.75992\n",
      "[ Valid | 096/300 ] loss = 0.78503, acc = 0.75992 -> best\n",
      "Best model found at fold 4 epoch 96, acc=0.75992, saving model\n"
     ]
    },
    {
     "name": "stderr",
     "output_type": "stream",
     "text": [
      "T: 097/300: 100%|█| 78/78 [00:08<00:00,  9.06it/s, lr=3.82e-5, b_loss=0.581, b_a\n"
     ]
    },
    {
     "name": "stdout",
     "output_type": "stream",
     "text": [
      "[ Train | 097/300 ] loss = 0.49794, acc = 0.82930\n"
     ]
    },
    {
     "name": "stderr",
     "output_type": "stream",
     "text": [
      "V: 097/300: 100%|████| 26/26 [00:02<00:00, 10.47it/s, v_loss=0.785, v_acc=0.763]\n"
     ]
    },
    {
     "name": "stdout",
     "output_type": "stream",
     "text": [
      "[ Valid | 097/300 ] loss = 0.78462, acc = 0.76319\n",
      "[ Valid | 097/300 ] loss = 0.78462, acc = 0.76319 -> best\n",
      "Best model found at fold 4 epoch 97, acc=0.76319, saving model\n"
     ]
    },
    {
     "name": "stderr",
     "output_type": "stream",
     "text": [
      "T: 098/300: 100%|█| 78/78 [00:08<00:00,  8.99it/s, lr=2.18e-5, b_loss=0.397, b_a\n"
     ]
    },
    {
     "name": "stdout",
     "output_type": "stream",
     "text": [
      "[ Train | 098/300 ] loss = 0.48693, acc = 0.83357\n"
     ]
    },
    {
     "name": "stderr",
     "output_type": "stream",
     "text": [
      "V: 098/300: 100%|████| 26/26 [00:02<00:00, 10.43it/s, v_loss=0.778, v_acc=0.762]\n"
     ]
    },
    {
     "name": "stdout",
     "output_type": "stream",
     "text": [
      "[ Valid | 098/300 ] loss = 0.77828, acc = 0.76166\n",
      "[ Valid | 098/300 ] loss = 0.77828, acc = 0.76166\n"
     ]
    },
    {
     "name": "stderr",
     "output_type": "stream",
     "text": [
      "T: 099/300: 100%|█| 78/78 [00:08<00:00,  8.93it/s, lr=9.79e-6, b_loss=0.457, b_a\n"
     ]
    },
    {
     "name": "stdout",
     "output_type": "stream",
     "text": [
      "[ Train | 099/300 ] loss = 0.47787, acc = 0.83304\n"
     ]
    },
    {
     "name": "stderr",
     "output_type": "stream",
     "text": [
      "V: 099/300: 100%|█████| 26/26 [00:02<00:00, 11.04it/s, v_loss=0.778, v_acc=0.76]\n"
     ]
    },
    {
     "name": "stdout",
     "output_type": "stream",
     "text": [
      "[ Valid | 099/300 ] loss = 0.77768, acc = 0.75965\n",
      "[ Valid | 099/300 ] loss = 0.77768, acc = 0.75965\n"
     ]
    },
    {
     "name": "stderr",
     "output_type": "stream",
     "text": [
      "T: 100/300: 100%|█| 78/78 [00:08<00:00,  8.89it/s, lr=2.46e-6, b_loss=0.408, b_a\n"
     ]
    },
    {
     "name": "stdout",
     "output_type": "stream",
     "text": [
      "[ Train | 100/300 ] loss = 0.46952, acc = 0.84392\n"
     ]
    },
    {
     "name": "stderr",
     "output_type": "stream",
     "text": [
      "V: 100/300: 100%|████| 26/26 [00:02<00:00, 11.70it/s, v_loss=0.774, v_acc=0.764]\n"
     ]
    },
    {
     "name": "stdout",
     "output_type": "stream",
     "text": [
      "[ Valid | 100/300 ] loss = 0.77423, acc = 0.76352\n",
      "[ Valid | 100/300 ] loss = 0.77423, acc = 0.76352 -> best\n",
      "Best model found at fold 4 epoch 100, acc=0.76352, saving model\n"
     ]
    },
    {
     "name": "stderr",
     "output_type": "stream",
     "text": [
      "T: 101/300: 100%|█| 78/78 [00:08<00:00,  9.19it/s, lr=0.0004, b_loss=0.951, b_ac\n"
     ]
    },
    {
     "name": "stdout",
     "output_type": "stream",
     "text": [
      "[ Train | 101/300 ] loss = 0.71152, acc = 0.75729\n"
     ]
    },
    {
     "name": "stderr",
     "output_type": "stream",
     "text": [
      "V: 101/300: 100%|█████| 26/26 [00:02<00:00, 12.23it/s, v_loss=1.04, v_acc=0.671]\n"
     ]
    },
    {
     "name": "stdout",
     "output_type": "stream",
     "text": [
      "[ Valid | 101/300 ] loss = 1.03638, acc = 0.67119\n",
      "[ Valid | 101/300 ] loss = 1.03638, acc = 0.67119\n"
     ]
    },
    {
     "name": "stderr",
     "output_type": "stream",
     "text": [
      "T: 102/300: 100%|█| 78/78 [00:08<00:00,  9.22it/s, lr=0.000398, b_loss=0.75, b_a\n"
     ]
    },
    {
     "name": "stdout",
     "output_type": "stream",
     "text": [
      "[ Train | 102/300 ] loss = 0.71287, acc = 0.75231\n"
     ]
    },
    {
     "name": "stderr",
     "output_type": "stream",
     "text": [
      "V: 102/300: 100%|█████| 26/26 [00:02<00:00, 11.88it/s, v_loss=1.11, v_acc=0.683]\n"
     ]
    },
    {
     "name": "stdout",
     "output_type": "stream",
     "text": [
      "[ Valid | 102/300 ] loss = 1.11323, acc = 0.68299\n",
      "[ Valid | 102/300 ] loss = 1.11323, acc = 0.68299\n"
     ]
    },
    {
     "name": "stderr",
     "output_type": "stream",
     "text": [
      "T: 103/300: 100%|█| 78/78 [00:08<00:00,  9.09it/s, lr=0.00039, b_loss=0.655, b_a\n"
     ]
    },
    {
     "name": "stdout",
     "output_type": "stream",
     "text": [
      "[ Train | 103/300 ] loss = 0.70228, acc = 0.75777\n"
     ]
    },
    {
     "name": "stderr",
     "output_type": "stream",
     "text": [
      "V: 103/300: 100%|█████| 26/26 [00:02<00:00, 11.53it/s, v_loss=1.27, v_acc=0.622]\n"
     ]
    },
    {
     "name": "stdout",
     "output_type": "stream",
     "text": [
      "[ Valid | 103/300 ] loss = 1.26564, acc = 0.62182\n",
      "[ Valid | 103/300 ] loss = 1.26564, acc = 0.62182\n"
     ]
    },
    {
     "name": "stderr",
     "output_type": "stream",
     "text": [
      "T: 104/300: 100%|█| 78/78 [00:08<00:00,  9.33it/s, lr=0.000378, b_loss=0.541, b_\n"
     ]
    },
    {
     "name": "stdout",
     "output_type": "stream",
     "text": [
      "[ Train | 104/300 ] loss = 0.68725, acc = 0.76209\n"
     ]
    },
    {
     "name": "stderr",
     "output_type": "stream",
     "text": [
      "V: 104/300: 100%|█████| 26/26 [00:02<00:00, 10.36it/s, v_loss=1.27, v_acc=0.625]\n"
     ]
    },
    {
     "name": "stdout",
     "output_type": "stream",
     "text": [
      "[ Valid | 104/300 ] loss = 1.26671, acc = 0.62547\n",
      "[ Valid | 104/300 ] loss = 1.26671, acc = 0.62547\n"
     ]
    },
    {
     "name": "stderr",
     "output_type": "stream",
     "text": [
      "T: 105/300: 100%|█| 78/78 [00:08<00:00,  9.00it/s, lr=0.000362, b_loss=0.551, b_\n"
     ]
    },
    {
     "name": "stdout",
     "output_type": "stream",
     "text": [
      "[ Train | 105/300 ] loss = 0.67460, acc = 0.76277\n"
     ]
    },
    {
     "name": "stderr",
     "output_type": "stream",
     "text": [
      "V: 105/300: 100%|████| 26/26 [00:02<00:00, 10.64it/s, v_loss=0.977, v_acc=0.701]\n"
     ]
    },
    {
     "name": "stdout",
     "output_type": "stream",
     "text": [
      "[ Valid | 105/300 ] loss = 0.97736, acc = 0.70054\n",
      "[ Valid | 105/300 ] loss = 0.97736, acc = 0.70054\n"
     ]
    },
    {
     "name": "stderr",
     "output_type": "stream",
     "text": [
      "T: 106/300: 100%|█| 78/78 [00:08<00:00,  9.00it/s, lr=0.000341, b_loss=0.572, b_\n"
     ]
    },
    {
     "name": "stdout",
     "output_type": "stream",
     "text": [
      "[ Train | 106/300 ] loss = 0.65546, acc = 0.77431\n"
     ]
    },
    {
     "name": "stderr",
     "output_type": "stream",
     "text": [
      "V: 106/300: 100%|██████| 26/26 [00:02<00:00, 10.88it/s, v_loss=1.01, v_acc=0.68]\n"
     ]
    },
    {
     "name": "stdout",
     "output_type": "stream",
     "text": [
      "[ Valid | 106/300 ] loss = 1.01377, acc = 0.68020\n",
      "[ Valid | 106/300 ] loss = 1.01377, acc = 0.68020\n"
     ]
    },
    {
     "name": "stderr",
     "output_type": "stream",
     "text": [
      "T: 107/300: 100%|█| 78/78 [00:08<00:00,  9.16it/s, lr=0.000318, b_loss=0.785, b_\n"
     ]
    },
    {
     "name": "stdout",
     "output_type": "stream",
     "text": [
      "[ Train | 107/300 ] loss = 0.63531, acc = 0.78097\n"
     ]
    },
    {
     "name": "stderr",
     "output_type": "stream",
     "text": [
      "V: 107/300: 100%|█████| 26/26 [00:02<00:00, 11.39it/s, v_loss=1.37, v_acc=0.595]\n"
     ]
    },
    {
     "name": "stdout",
     "output_type": "stream",
     "text": [
      "[ Valid | 107/300 ] loss = 1.37397, acc = 0.59478\n",
      "[ Valid | 107/300 ] loss = 1.37397, acc = 0.59478\n"
     ]
    },
    {
     "name": "stderr",
     "output_type": "stream",
     "text": [
      "T: 108/300: 100%|█| 78/78 [00:08<00:00,  8.99it/s, lr=0.000291, b_loss=0.538, b_\n"
     ]
    },
    {
     "name": "stdout",
     "output_type": "stream",
     "text": [
      "[ Train | 108/300 ] loss = 0.61346, acc = 0.78748\n"
     ]
    },
    {
     "name": "stderr",
     "output_type": "stream",
     "text": [
      "V: 108/300: 100%|████| 26/26 [00:02<00:00, 11.99it/s, v_loss=0.902, v_acc=0.719]\n"
     ]
    },
    {
     "name": "stdout",
     "output_type": "stream",
     "text": [
      "[ Valid | 108/300 ] loss = 0.90172, acc = 0.71891\n",
      "[ Valid | 108/300 ] loss = 0.90172, acc = 0.71891\n"
     ]
    },
    {
     "name": "stderr",
     "output_type": "stream",
     "text": [
      "T: 109/300: 100%|█| 78/78 [00:08<00:00,  9.14it/s, lr=0.000262, b_loss=0.566, b_\n"
     ]
    },
    {
     "name": "stdout",
     "output_type": "stream",
     "text": [
      "[ Train | 109/300 ] loss = 0.58769, acc = 0.79245\n"
     ]
    },
    {
     "name": "stderr",
     "output_type": "stream",
     "text": [
      "V: 109/300: 100%|█████| 26/26 [00:02<00:00, 10.93it/s, v_loss=0.942, v_acc=0.72]\n"
     ]
    },
    {
     "name": "stdout",
     "output_type": "stream",
     "text": [
      "[ Valid | 109/300 ] loss = 0.94189, acc = 0.71967\n",
      "[ Valid | 109/300 ] loss = 0.94189, acc = 0.71967\n"
     ]
    },
    {
     "name": "stderr",
     "output_type": "stream",
     "text": [
      "T: 110/300: 100%|█| 78/78 [00:08<00:00,  9.15it/s, lr=0.000231, b_loss=0.387, b_\n"
     ]
    },
    {
     "name": "stdout",
     "output_type": "stream",
     "text": [
      "[ Train | 110/300 ] loss = 0.56044, acc = 0.80768\n"
     ]
    },
    {
     "name": "stderr",
     "output_type": "stream",
     "text": [
      "V: 110/300: 100%|████| 26/26 [00:02<00:00, 12.13it/s, v_loss=0.853, v_acc=0.736]\n"
     ]
    },
    {
     "name": "stdout",
     "output_type": "stream",
     "text": [
      "[ Valid | 110/300 ] loss = 0.85260, acc = 0.73560\n",
      "[ Valid | 110/300 ] loss = 0.85260, acc = 0.73560\n"
     ]
    },
    {
     "name": "stderr",
     "output_type": "stream",
     "text": [
      "T: 111/300: 100%|█| 78/78 [00:08<00:00,  9.05it/s, lr=0.0002, b_loss=0.519, b_ac\n"
     ]
    },
    {
     "name": "stdout",
     "output_type": "stream",
     "text": [
      "[ Train | 111/300 ] loss = 0.53756, acc = 0.81296\n"
     ]
    },
    {
     "name": "stderr",
     "output_type": "stream",
     "text": [
      "V: 111/300: 100%|████| 26/26 [00:02<00:00,  9.81it/s, v_loss=0.901, v_acc=0.725]\n"
     ]
    },
    {
     "name": "stdout",
     "output_type": "stream",
     "text": [
      "[ Valid | 111/300 ] loss = 0.90060, acc = 0.72538\n",
      "[ Valid | 111/300 ] loss = 0.90060, acc = 0.72538\n"
     ]
    },
    {
     "name": "stderr",
     "output_type": "stream",
     "text": [
      "T: 112/300: 100%|█| 78/78 [00:08<00:00,  8.98it/s, lr=0.000169, b_loss=0.672, b_\n"
     ]
    },
    {
     "name": "stdout",
     "output_type": "stream",
     "text": [
      "[ Train | 112/300 ] loss = 0.52155, acc = 0.81952\n"
     ]
    },
    {
     "name": "stderr",
     "output_type": "stream",
     "text": [
      "V: 112/300: 100%|█████| 26/26 [00:02<00:00, 11.53it/s, v_loss=0.83, v_acc=0.754]\n"
     ]
    },
    {
     "name": "stdout",
     "output_type": "stream",
     "text": [
      "[ Valid | 112/300 ] loss = 0.82991, acc = 0.75394\n",
      "[ Valid | 112/300 ] loss = 0.82991, acc = 0.75394\n"
     ]
    },
    {
     "name": "stderr",
     "output_type": "stream",
     "text": [
      "T: 113/300: 100%|█| 78/78 [00:08<00:00,  8.93it/s, lr=0.000138, b_loss=0.542, b_\n"
     ]
    },
    {
     "name": "stdout",
     "output_type": "stream",
     "text": [
      "[ Train | 113/300 ] loss = 0.48473, acc = 0.83363\n"
     ]
    },
    {
     "name": "stderr",
     "output_type": "stream",
     "text": [
      "V: 113/300: 100%|████| 26/26 [00:02<00:00, 11.15it/s, v_loss=0.857, v_acc=0.742]\n"
     ]
    },
    {
     "name": "stdout",
     "output_type": "stream",
     "text": [
      "[ Valid | 113/300 ] loss = 0.85666, acc = 0.74220\n",
      "[ Valid | 113/300 ] loss = 0.85666, acc = 0.74220\n"
     ]
    },
    {
     "name": "stderr",
     "output_type": "stream",
     "text": [
      "T: 114/300: 100%|█| 78/78 [00:08<00:00,  8.81it/s, lr=0.000109, b_loss=0.552, b_\n"
     ]
    },
    {
     "name": "stdout",
     "output_type": "stream",
     "text": [
      "[ Train | 114/300 ] loss = 0.46744, acc = 0.83904\n"
     ]
    },
    {
     "name": "stderr",
     "output_type": "stream",
     "text": [
      "V: 114/300: 100%|████| 26/26 [00:02<00:00, 10.99it/s, v_loss=0.876, v_acc=0.746]\n"
     ]
    },
    {
     "name": "stdout",
     "output_type": "stream",
     "text": [
      "[ Valid | 114/300 ] loss = 0.87583, acc = 0.74560\n",
      "[ Valid | 114/300 ] loss = 0.87583, acc = 0.74560\n"
     ]
    },
    {
     "name": "stderr",
     "output_type": "stream",
     "text": [
      "T: 115/300: 100%|█| 78/78 [00:08<00:00,  8.81it/s, lr=8.24e-5, b_loss=0.543, b_a\n"
     ]
    },
    {
     "name": "stdout",
     "output_type": "stream",
     "text": [
      "[ Train | 115/300 ] loss = 0.46916, acc = 0.83861\n"
     ]
    },
    {
     "name": "stderr",
     "output_type": "stream",
     "text": [
      "V: 115/300: 100%|█████| 26/26 [00:02<00:00, 10.83it/s, v_loss=0.82, v_acc=0.751]\n"
     ]
    },
    {
     "name": "stdout",
     "output_type": "stream",
     "text": [
      "[ Valid | 115/300 ] loss = 0.81983, acc = 0.75143\n",
      "[ Valid | 115/300 ] loss = 0.81983, acc = 0.75143\n"
     ]
    },
    {
     "name": "stderr",
     "output_type": "stream",
     "text": [
      "T: 116/300: 100%|█| 78/78 [00:08<00:00,  9.01it/s, lr=5.86e-5, b_loss=0.489, b_a\n"
     ]
    },
    {
     "name": "stdout",
     "output_type": "stream",
     "text": [
      "[ Train | 116/300 ] loss = 0.42462, acc = 0.85225\n"
     ]
    },
    {
     "name": "stderr",
     "output_type": "stream",
     "text": [
      "V: 116/300: 100%|████| 26/26 [00:02<00:00, 11.99it/s, v_loss=0.777, v_acc=0.763]\n"
     ]
    },
    {
     "name": "stdout",
     "output_type": "stream",
     "text": [
      "[ Valid | 116/300 ] loss = 0.77731, acc = 0.76325\n",
      "[ Valid | 116/300 ] loss = 0.77731, acc = 0.76325\n"
     ]
    },
    {
     "name": "stderr",
     "output_type": "stream",
     "text": [
      "T: 117/300: 100%|█| 78/78 [00:08<00:00,  8.99it/s, lr=3.82e-5, b_loss=0.372, b_a\n"
     ]
    },
    {
     "name": "stdout",
     "output_type": "stream",
     "text": [
      "[ Train | 117/300 ] loss = 0.41926, acc = 0.85775\n"
     ]
    },
    {
     "name": "stderr",
     "output_type": "stream",
     "text": [
      "V: 117/300: 100%|████| 26/26 [00:02<00:00, 12.32it/s, v_loss=0.767, v_acc=0.765]\n"
     ]
    },
    {
     "name": "stdout",
     "output_type": "stream",
     "text": [
      "[ Valid | 117/300 ] loss = 0.76714, acc = 0.76537\n",
      "[ Valid | 117/300 ] loss = 0.76714, acc = 0.76537 -> best\n",
      "Best model found at fold 4 epoch 117, acc=0.76537, saving model\n"
     ]
    },
    {
     "name": "stderr",
     "output_type": "stream",
     "text": [
      "T: 118/300: 100%|█| 78/78 [00:08<00:00,  9.08it/s, lr=2.18e-5, b_loss=0.465, b_a\n"
     ]
    },
    {
     "name": "stdout",
     "output_type": "stream",
     "text": [
      "[ Train | 118/300 ] loss = 0.41392, acc = 0.85710\n"
     ]
    },
    {
     "name": "stderr",
     "output_type": "stream",
     "text": [
      "V: 118/300: 100%|████| 26/26 [00:02<00:00, 10.60it/s, v_loss=0.764, v_acc=0.769]\n"
     ]
    },
    {
     "name": "stdout",
     "output_type": "stream",
     "text": [
      "[ Valid | 118/300 ] loss = 0.76400, acc = 0.76892\n",
      "[ Valid | 118/300 ] loss = 0.76400, acc = 0.76892 -> best\n",
      "Best model found at fold 4 epoch 118, acc=0.76892, saving model\n"
     ]
    },
    {
     "name": "stderr",
     "output_type": "stream",
     "text": [
      "T: 119/300: 100%|█| 78/78 [00:08<00:00,  8.87it/s, lr=9.79e-6, b_loss=0.35, b_ac\n"
     ]
    },
    {
     "name": "stdout",
     "output_type": "stream",
     "text": [
      "[ Train | 119/300 ] loss = 0.39386, acc = 0.86535\n"
     ]
    },
    {
     "name": "stderr",
     "output_type": "stream",
     "text": [
      "V: 119/300: 100%|█████| 26/26 [00:02<00:00, 11.99it/s, v_loss=0.76, v_acc=0.772]\n"
     ]
    },
    {
     "name": "stdout",
     "output_type": "stream",
     "text": [
      "[ Valid | 119/300 ] loss = 0.76012, acc = 0.77222\n",
      "[ Valid | 119/300 ] loss = 0.76012, acc = 0.77222 -> best\n",
      "Best model found at fold 4 epoch 119, acc=0.77222, saving model\n"
     ]
    },
    {
     "name": "stderr",
     "output_type": "stream",
     "text": [
      "T: 120/300: 100%|█| 78/78 [00:08<00:00,  9.02it/s, lr=2.46e-6, b_loss=0.434, b_a\n"
     ]
    },
    {
     "name": "stdout",
     "output_type": "stream",
     "text": [
      "[ Train | 120/300 ] loss = 0.39520, acc = 0.86075\n"
     ]
    },
    {
     "name": "stderr",
     "output_type": "stream",
     "text": [
      "V: 120/300: 100%|████| 26/26 [00:02<00:00, 11.05it/s, v_loss=0.759, v_acc=0.775]\n"
     ]
    },
    {
     "name": "stdout",
     "output_type": "stream",
     "text": [
      "[ Valid | 120/300 ] loss = 0.75921, acc = 0.77523\n",
      "[ Valid | 120/300 ] loss = 0.75921, acc = 0.77523 -> best\n",
      "Best model found at fold 4 epoch 120, acc=0.77523, saving model\n"
     ]
    },
    {
     "name": "stderr",
     "output_type": "stream",
     "text": [
      "T: 121/300: 100%|█| 78/78 [00:08<00:00,  9.00it/s, lr=0.0004, b_loss=0.688, b_ac\n"
     ]
    },
    {
     "name": "stdout",
     "output_type": "stream",
     "text": [
      "[ Train | 121/300 ] loss = 0.63059, acc = 0.78625\n"
     ]
    },
    {
     "name": "stderr",
     "output_type": "stream",
     "text": [
      "V: 121/300: 100%|█████| 26/26 [00:02<00:00, 12.12it/s, v_loss=1.08, v_acc=0.675]\n"
     ]
    },
    {
     "name": "stdout",
     "output_type": "stream",
     "text": [
      "[ Valid | 121/300 ] loss = 1.08391, acc = 0.67531\n",
      "[ Valid | 121/300 ] loss = 1.08391, acc = 0.67531\n"
     ]
    },
    {
     "name": "stderr",
     "output_type": "stream",
     "text": [
      "T: 122/300: 100%|█| 78/78 [00:08<00:00,  9.28it/s, lr=0.000398, b_loss=0.607, b_\n"
     ]
    },
    {
     "name": "stdout",
     "output_type": "stream",
     "text": [
      "[ Train | 122/300 ] loss = 0.65077, acc = 0.77992\n"
     ]
    },
    {
     "name": "stderr",
     "output_type": "stream",
     "text": [
      "V: 122/300: 100%|████| 26/26 [00:02<00:00, 10.02it/s, v_loss=0.976, v_acc=0.699]\n"
     ]
    },
    {
     "name": "stdout",
     "output_type": "stream",
     "text": [
      "[ Valid | 122/300 ] loss = 0.97645, acc = 0.69884\n",
      "[ Valid | 122/300 ] loss = 0.97645, acc = 0.69884\n"
     ]
    },
    {
     "name": "stderr",
     "output_type": "stream",
     "text": [
      "T: 123/300: 100%|█| 78/78 [00:08<00:00,  9.13it/s, lr=0.00039, b_loss=0.613, b_a\n"
     ]
    },
    {
     "name": "stdout",
     "output_type": "stream",
     "text": [
      "[ Train | 123/300 ] loss = 0.62656, acc = 0.77929\n"
     ]
    },
    {
     "name": "stderr",
     "output_type": "stream",
     "text": [
      "V: 123/300: 100%|██████| 26/26 [00:02<00:00, 11.91it/s, v_loss=1.13, v_acc=0.67]\n"
     ]
    },
    {
     "name": "stdout",
     "output_type": "stream",
     "text": [
      "[ Valid | 123/300 ] loss = 1.13188, acc = 0.67033\n",
      "[ Valid | 123/300 ] loss = 1.13188, acc = 0.67033\n"
     ]
    },
    {
     "name": "stderr",
     "output_type": "stream",
     "text": [
      "T: 124/300: 100%|█| 78/78 [00:08<00:00,  9.17it/s, lr=0.000378, b_loss=0.648, b_\n"
     ]
    },
    {
     "name": "stdout",
     "output_type": "stream",
     "text": [
      "[ Train | 124/300 ] loss = 0.62693, acc = 0.78472\n"
     ]
    },
    {
     "name": "stderr",
     "output_type": "stream",
     "text": [
      "V: 124/300: 100%|██████| 26/26 [00:02<00:00, 10.37it/s, v_loss=0.976, v_acc=0.7]\n"
     ]
    },
    {
     "name": "stdout",
     "output_type": "stream",
     "text": [
      "[ Valid | 124/300 ] loss = 0.97553, acc = 0.69979\n",
      "[ Valid | 124/300 ] loss = 0.97553, acc = 0.69979\n"
     ]
    },
    {
     "name": "stderr",
     "output_type": "stream",
     "text": [
      "T: 125/300: 100%|█| 78/78 [00:08<00:00,  9.05it/s, lr=0.000362, b_loss=0.551, b_\n"
     ]
    },
    {
     "name": "stdout",
     "output_type": "stream",
     "text": [
      "[ Train | 125/300 ] loss = 0.59942, acc = 0.78882\n"
     ]
    },
    {
     "name": "stderr",
     "output_type": "stream",
     "text": [
      "V: 125/300: 100%|████| 26/26 [00:02<00:00, 11.55it/s, v_loss=0.998, v_acc=0.707]\n"
     ]
    },
    {
     "name": "stdout",
     "output_type": "stream",
     "text": [
      "[ Valid | 125/300 ] loss = 0.99789, acc = 0.70729\n",
      "[ Valid | 125/300 ] loss = 0.99789, acc = 0.70729\n"
     ]
    },
    {
     "name": "stderr",
     "output_type": "stream",
     "text": [
      "T: 126/300: 100%|█| 78/78 [00:08<00:00,  9.08it/s, lr=0.000341, b_loss=0.611, b_\n"
     ]
    },
    {
     "name": "stdout",
     "output_type": "stream",
     "text": [
      "[ Train | 126/300 ] loss = 0.58779, acc = 0.79541\n"
     ]
    },
    {
     "name": "stderr",
     "output_type": "stream",
     "text": [
      "V: 126/300: 100%|█████| 26/26 [00:02<00:00, 12.54it/s, v_loss=0.91, v_acc=0.732]\n"
     ]
    },
    {
     "name": "stdout",
     "output_type": "stream",
     "text": [
      "[ Valid | 126/300 ] loss = 0.91009, acc = 0.73190\n",
      "[ Valid | 126/300 ] loss = 0.91009, acc = 0.73190\n"
     ]
    },
    {
     "name": "stderr",
     "output_type": "stream",
     "text": [
      "T: 127/300: 100%|█| 78/78 [00:08<00:00,  9.11it/s, lr=0.000318, b_loss=0.428, b_\n"
     ]
    },
    {
     "name": "stdout",
     "output_type": "stream",
     "text": [
      "[ Train | 127/300 ] loss = 0.55336, acc = 0.80864\n"
     ]
    },
    {
     "name": "stderr",
     "output_type": "stream",
     "text": [
      "V: 127/300: 100%|████| 26/26 [00:02<00:00, 11.83it/s, v_loss=0.979, v_acc=0.713]\n"
     ]
    },
    {
     "name": "stdout",
     "output_type": "stream",
     "text": [
      "[ Valid | 127/300 ] loss = 0.97864, acc = 0.71294\n",
      "[ Valid | 127/300 ] loss = 0.97864, acc = 0.71294\n"
     ]
    },
    {
     "name": "stderr",
     "output_type": "stream",
     "text": [
      "T: 128/300: 100%|█| 78/78 [00:08<00:00,  9.18it/s, lr=0.000291, b_loss=0.418, b_\n"
     ]
    },
    {
     "name": "stdout",
     "output_type": "stream",
     "text": [
      "[ Train | 128/300 ] loss = 0.54561, acc = 0.81051\n"
     ]
    },
    {
     "name": "stderr",
     "output_type": "stream",
     "text": [
      "V: 128/300: 100%|████| 26/26 [00:02<00:00, 10.98it/s, v_loss=0.909, v_acc=0.728]\n"
     ]
    },
    {
     "name": "stdout",
     "output_type": "stream",
     "text": [
      "[ Valid | 128/300 ] loss = 0.90937, acc = 0.72833\n",
      "[ Valid | 128/300 ] loss = 0.90937, acc = 0.72833\n"
     ]
    },
    {
     "name": "stderr",
     "output_type": "stream",
     "text": [
      "T: 129/300: 100%|█| 78/78 [00:08<00:00,  9.46it/s, lr=0.000262, b_loss=0.399, b_\n"
     ]
    },
    {
     "name": "stdout",
     "output_type": "stream",
     "text": [
      "[ Train | 129/300 ] loss = 0.52060, acc = 0.81907\n"
     ]
    },
    {
     "name": "stderr",
     "output_type": "stream",
     "text": [
      "V: 129/300: 100%|████| 26/26 [00:02<00:00, 11.05it/s, v_loss=0.909, v_acc=0.732]\n"
     ]
    },
    {
     "name": "stdout",
     "output_type": "stream",
     "text": [
      "[ Valid | 129/300 ] loss = 0.90914, acc = 0.73248\n",
      "[ Valid | 129/300 ] loss = 0.90914, acc = 0.73248\n"
     ]
    },
    {
     "name": "stderr",
     "output_type": "stream",
     "text": [
      "T: 130/300: 100%|█| 78/78 [00:08<00:00,  9.22it/s, lr=0.000231, b_loss=0.502, b_\n"
     ]
    },
    {
     "name": "stdout",
     "output_type": "stream",
     "text": [
      "[ Train | 130/300 ] loss = 0.48408, acc = 0.83349\n"
     ]
    },
    {
     "name": "stderr",
     "output_type": "stream",
     "text": [
      "V: 130/300: 100%|████| 26/26 [00:02<00:00, 11.88it/s, v_loss=0.873, v_acc=0.743]\n"
     ]
    },
    {
     "name": "stdout",
     "output_type": "stream",
     "text": [
      "[ Valid | 130/300 ] loss = 0.87265, acc = 0.74252\n",
      "[ Valid | 130/300 ] loss = 0.87265, acc = 0.74252\n"
     ]
    },
    {
     "name": "stderr",
     "output_type": "stream",
     "text": [
      "T: 131/300: 100%|█| 78/78 [00:08<00:00,  9.31it/s, lr=0.0002, b_loss=0.422, b_ac\n"
     ]
    },
    {
     "name": "stdout",
     "output_type": "stream",
     "text": [
      "[ Train | 131/300 ] loss = 0.47689, acc = 0.83515\n"
     ]
    },
    {
     "name": "stderr",
     "output_type": "stream",
     "text": [
      "V: 131/300: 100%|████| 26/26 [00:02<00:00, 11.57it/s, v_loss=0.927, v_acc=0.734]\n"
     ]
    },
    {
     "name": "stdout",
     "output_type": "stream",
     "text": [
      "[ Valid | 131/300 ] loss = 0.92686, acc = 0.73375\n",
      "[ Valid | 131/300 ] loss = 0.92686, acc = 0.73375\n"
     ]
    },
    {
     "name": "stderr",
     "output_type": "stream",
     "text": [
      "T: 132/300: 100%|█| 78/78 [00:08<00:00,  9.32it/s, lr=0.000169, b_loss=0.443, b_\n"
     ]
    },
    {
     "name": "stdout",
     "output_type": "stream",
     "text": [
      "[ Train | 132/300 ] loss = 0.44949, acc = 0.84246\n"
     ]
    },
    {
     "name": "stderr",
     "output_type": "stream",
     "text": [
      "V: 132/300: 100%|████| 26/26 [00:02<00:00, 11.31it/s, v_loss=0.856, v_acc=0.752]\n"
     ]
    },
    {
     "name": "stdout",
     "output_type": "stream",
     "text": [
      "[ Valid | 132/300 ] loss = 0.85568, acc = 0.75185\n",
      "[ Valid | 132/300 ] loss = 0.85568, acc = 0.75185\n"
     ]
    },
    {
     "name": "stderr",
     "output_type": "stream",
     "text": [
      "T: 133/300: 100%|█| 78/78 [00:08<00:00,  9.40it/s, lr=0.000138, b_loss=0.63, b_a\n"
     ]
    },
    {
     "name": "stdout",
     "output_type": "stream",
     "text": [
      "[ Train | 133/300 ] loss = 0.42285, acc = 0.85283\n"
     ]
    },
    {
     "name": "stderr",
     "output_type": "stream",
     "text": [
      "V: 133/300: 100%|████| 26/26 [00:02<00:00, 11.54it/s, v_loss=0.896, v_acc=0.745]\n"
     ]
    },
    {
     "name": "stdout",
     "output_type": "stream",
     "text": [
      "[ Valid | 133/300 ] loss = 0.89625, acc = 0.74543\n",
      "[ Valid | 133/300 ] loss = 0.89625, acc = 0.74543\n"
     ]
    },
    {
     "name": "stderr",
     "output_type": "stream",
     "text": [
      "T: 134/300: 100%|█| 78/78 [00:08<00:00,  9.10it/s, lr=0.000109, b_loss=0.349, b_\n"
     ]
    },
    {
     "name": "stdout",
     "output_type": "stream",
     "text": [
      "[ Train | 134/300 ] loss = 0.41382, acc = 0.85572\n"
     ]
    },
    {
     "name": "stderr",
     "output_type": "stream",
     "text": [
      "V: 134/300: 100%|████| 26/26 [00:02<00:00, 12.58it/s, v_loss=0.828, v_acc=0.761]\n"
     ]
    },
    {
     "name": "stdout",
     "output_type": "stream",
     "text": [
      "[ Valid | 134/300 ] loss = 0.82771, acc = 0.76110\n",
      "[ Valid | 134/300 ] loss = 0.82771, acc = 0.76110\n"
     ]
    },
    {
     "name": "stderr",
     "output_type": "stream",
     "text": [
      "T: 135/300: 100%|█| 78/78 [00:08<00:00,  9.36it/s, lr=8.24e-5, b_loss=0.363, b_a\n"
     ]
    },
    {
     "name": "stdout",
     "output_type": "stream",
     "text": [
      "[ Train | 135/300 ] loss = 0.38054, acc = 0.86956\n"
     ]
    },
    {
     "name": "stderr",
     "output_type": "stream",
     "text": [
      "V: 135/300: 100%|████| 26/26 [00:02<00:00, 12.87it/s, v_loss=0.785, v_acc=0.766]\n"
     ]
    },
    {
     "name": "stdout",
     "output_type": "stream",
     "text": [
      "[ Valid | 135/300 ] loss = 0.78497, acc = 0.76624\n",
      "[ Valid | 135/300 ] loss = 0.78497, acc = 0.76624\n"
     ]
    },
    {
     "name": "stderr",
     "output_type": "stream",
     "text": [
      "T: 136/300: 100%|█| 78/78 [00:08<00:00,  9.21it/s, lr=5.86e-5, b_loss=0.319, b_a\n"
     ]
    },
    {
     "name": "stdout",
     "output_type": "stream",
     "text": [
      "[ Train | 136/300 ] loss = 0.36738, acc = 0.87325\n"
     ]
    },
    {
     "name": "stderr",
     "output_type": "stream",
     "text": [
      "V: 136/300: 100%|████| 26/26 [00:02<00:00, 11.87it/s, v_loss=0.802, v_acc=0.769]\n"
     ]
    },
    {
     "name": "stdout",
     "output_type": "stream",
     "text": [
      "[ Valid | 136/300 ] loss = 0.80239, acc = 0.76929\n",
      "[ Valid | 136/300 ] loss = 0.80239, acc = 0.76929\n"
     ]
    },
    {
     "name": "stderr",
     "output_type": "stream",
     "text": [
      "T: 137/300: 100%|█| 78/78 [00:08<00:00,  9.11it/s, lr=3.82e-5, b_loss=0.317, b_a\n"
     ]
    },
    {
     "name": "stdout",
     "output_type": "stream",
     "text": [
      "[ Train | 137/300 ] loss = 0.35420, acc = 0.87818\n"
     ]
    },
    {
     "name": "stderr",
     "output_type": "stream",
     "text": [
      "V: 137/300: 100%|████| 26/26 [00:02<00:00, 11.35it/s, v_loss=0.799, v_acc=0.778]\n"
     ]
    },
    {
     "name": "stdout",
     "output_type": "stream",
     "text": [
      "[ Valid | 137/300 ] loss = 0.79872, acc = 0.77770\n",
      "[ Valid | 137/300 ] loss = 0.79872, acc = 0.77770 -> best\n",
      "Best model found at fold 4 epoch 137, acc=0.77770, saving model\n"
     ]
    },
    {
     "name": "stderr",
     "output_type": "stream",
     "text": [
      "T: 138/300: 100%|█| 78/78 [00:08<00:00,  9.29it/s, lr=2.18e-5, b_loss=0.245, b_a\n"
     ]
    },
    {
     "name": "stdout",
     "output_type": "stream",
     "text": [
      "[ Train | 138/300 ] loss = 0.34724, acc = 0.87982\n"
     ]
    },
    {
     "name": "stderr",
     "output_type": "stream",
     "text": [
      "V: 138/300: 100%|████| 26/26 [00:02<00:00, 11.20it/s, v_loss=0.791, v_acc=0.779]\n"
     ]
    },
    {
     "name": "stdout",
     "output_type": "stream",
     "text": [
      "[ Valid | 138/300 ] loss = 0.79147, acc = 0.77855\n",
      "[ Valid | 138/300 ] loss = 0.79147, acc = 0.77855 -> best\n",
      "Best model found at fold 4 epoch 138, acc=0.77855, saving model\n"
     ]
    },
    {
     "name": "stderr",
     "output_type": "stream",
     "text": [
      "T: 139/300: 100%|█| 78/78 [00:08<00:00,  9.23it/s, lr=9.79e-6, b_loss=0.499, b_a\n"
     ]
    },
    {
     "name": "stdout",
     "output_type": "stream",
     "text": [
      "[ Train | 139/300 ] loss = 0.34458, acc = 0.87951\n"
     ]
    },
    {
     "name": "stderr",
     "output_type": "stream",
     "text": [
      "V: 139/300: 100%|████| 26/26 [00:02<00:00, 11.44it/s, v_loss=0.787, v_acc=0.773]\n"
     ]
    },
    {
     "name": "stdout",
     "output_type": "stream",
     "text": [
      "[ Valid | 139/300 ] loss = 0.78685, acc = 0.77277\n",
      "[ Valid | 139/300 ] loss = 0.78685, acc = 0.77277\n"
     ]
    },
    {
     "name": "stderr",
     "output_type": "stream",
     "text": [
      "T: 140/300: 100%|█| 78/78 [00:08<00:00,  9.06it/s, lr=2.46e-6, b_loss=0.264, b_a\n"
     ]
    },
    {
     "name": "stdout",
     "output_type": "stream",
     "text": [
      "[ Train | 140/300 ] loss = 0.33951, acc = 0.88541\n"
     ]
    },
    {
     "name": "stderr",
     "output_type": "stream",
     "text": [
      "V: 140/300: 100%|████| 26/26 [00:02<00:00, 11.70it/s, v_loss=0.793, v_acc=0.776]\n"
     ]
    },
    {
     "name": "stdout",
     "output_type": "stream",
     "text": [
      "[ Valid | 140/300 ] loss = 0.79277, acc = 0.77581\n",
      "[ Valid | 140/300 ] loss = 0.79277, acc = 0.77581\n"
     ]
    },
    {
     "name": "stderr",
     "output_type": "stream",
     "text": [
      "T: 141/300: 100%|█| 78/78 [00:08<00:00,  9.34it/s, lr=0.0004, b_loss=0.657, b_ac\n"
     ]
    },
    {
     "name": "stdout",
     "output_type": "stream",
     "text": [
      "[ Train | 141/300 ] loss = 0.57835, acc = 0.79817\n"
     ]
    },
    {
     "name": "stderr",
     "output_type": "stream",
     "text": [
      "V: 141/300: 100%|█████| 26/26 [00:02<00:00, 12.08it/s, v_loss=1.07, v_acc=0.696]\n"
     ]
    },
    {
     "name": "stdout",
     "output_type": "stream",
     "text": [
      "[ Valid | 141/300 ] loss = 1.07434, acc = 0.69555\n",
      "[ Valid | 141/300 ] loss = 1.07434, acc = 0.69555\n"
     ]
    },
    {
     "name": "stderr",
     "output_type": "stream",
     "text": [
      "T: 142/300: 100%|█| 78/78 [00:08<00:00,  9.13it/s, lr=0.000398, b_loss=0.761, b_\n"
     ]
    },
    {
     "name": "stdout",
     "output_type": "stream",
     "text": [
      "[ Train | 142/300 ] loss = 0.59904, acc = 0.79276\n"
     ]
    },
    {
     "name": "stderr",
     "output_type": "stream",
     "text": [
      "V: 142/300: 100%|█████| 26/26 [00:02<00:00, 11.84it/s, v_loss=1.07, v_acc=0.699]\n"
     ]
    },
    {
     "name": "stdout",
     "output_type": "stream",
     "text": [
      "[ Valid | 142/300 ] loss = 1.07459, acc = 0.69860\n",
      "[ Valid | 142/300 ] loss = 1.07459, acc = 0.69860\n"
     ]
    },
    {
     "name": "stderr",
     "output_type": "stream",
     "text": [
      "T: 143/300: 100%|█| 78/78 [00:08<00:00,  9.41it/s, lr=0.00039, b_loss=0.666, b_a\n"
     ]
    },
    {
     "name": "stdout",
     "output_type": "stream",
     "text": [
      "[ Train | 143/300 ] loss = 0.58377, acc = 0.79755\n"
     ]
    },
    {
     "name": "stderr",
     "output_type": "stream",
     "text": [
      "V: 143/300: 100%|█████| 26/26 [00:02<00:00, 11.53it/s, v_loss=1.13, v_acc=0.683]\n"
     ]
    },
    {
     "name": "stdout",
     "output_type": "stream",
     "text": [
      "[ Valid | 143/300 ] loss = 1.12609, acc = 0.68264\n",
      "[ Valid | 143/300 ] loss = 1.12609, acc = 0.68264\n"
     ]
    },
    {
     "name": "stderr",
     "output_type": "stream",
     "text": [
      "T: 144/300: 100%|█| 78/78 [00:08<00:00,  9.37it/s, lr=0.000378, b_loss=0.537, b_\n"
     ]
    },
    {
     "name": "stdout",
     "output_type": "stream",
     "text": [
      "[ Train | 144/300 ] loss = 0.56651, acc = 0.80486\n"
     ]
    },
    {
     "name": "stderr",
     "output_type": "stream",
     "text": [
      "V: 144/300: 100%|█████| 26/26 [00:02<00:00, 11.41it/s, v_loss=1.87, v_acc=0.529]\n"
     ]
    },
    {
     "name": "stdout",
     "output_type": "stream",
     "text": [
      "[ Valid | 144/300 ] loss = 1.87460, acc = 0.52857\n",
      "[ Valid | 144/300 ] loss = 1.87460, acc = 0.52857\n"
     ]
    },
    {
     "name": "stderr",
     "output_type": "stream",
     "text": [
      "T: 145/300: 100%|█| 78/78 [00:08<00:00,  9.25it/s, lr=0.000362, b_loss=0.552, b_\n"
     ]
    },
    {
     "name": "stdout",
     "output_type": "stream",
     "text": [
      "[ Train | 145/300 ] loss = 0.53152, acc = 0.81336\n"
     ]
    },
    {
     "name": "stderr",
     "output_type": "stream",
     "text": [
      "V: 145/300: 100%|█████| 26/26 [00:02<00:00, 10.93it/s, v_loss=1.29, v_acc=0.639]\n"
     ]
    },
    {
     "name": "stdout",
     "output_type": "stream",
     "text": [
      "[ Valid | 145/300 ] loss = 1.28675, acc = 0.63871\n",
      "[ Valid | 145/300 ] loss = 1.28675, acc = 0.63871\n"
     ]
    },
    {
     "name": "stderr",
     "output_type": "stream",
     "text": [
      "T: 146/300: 100%|█| 78/78 [00:08<00:00,  9.12it/s, lr=0.000341, b_loss=0.373, b_\n"
     ]
    },
    {
     "name": "stdout",
     "output_type": "stream",
     "text": [
      "[ Train | 146/300 ] loss = 0.52102, acc = 0.81907\n"
     ]
    },
    {
     "name": "stderr",
     "output_type": "stream",
     "text": [
      "V: 146/300: 100%|█████| 26/26 [00:02<00:00, 11.97it/s, v_loss=1.42, v_acc=0.618]\n"
     ]
    },
    {
     "name": "stdout",
     "output_type": "stream",
     "text": [
      "[ Valid | 146/300 ] loss = 1.42284, acc = 0.61789\n",
      "[ Valid | 146/300 ] loss = 1.42284, acc = 0.61789\n"
     ]
    },
    {
     "name": "stderr",
     "output_type": "stream",
     "text": [
      "T: 147/300: 100%|█| 78/78 [00:08<00:00,  9.31it/s, lr=0.000318, b_loss=0.627, b_\n"
     ]
    },
    {
     "name": "stdout",
     "output_type": "stream",
     "text": [
      "[ Train | 147/300 ] loss = 0.49699, acc = 0.82754\n"
     ]
    },
    {
     "name": "stderr",
     "output_type": "stream",
     "text": [
      "V: 147/300: 100%|█████| 26/26 [00:02<00:00, 11.59it/s, v_loss=1.07, v_acc=0.698]\n"
     ]
    },
    {
     "name": "stdout",
     "output_type": "stream",
     "text": [
      "[ Valid | 147/300 ] loss = 1.06829, acc = 0.69765\n",
      "[ Valid | 147/300 ] loss = 1.06829, acc = 0.69765\n"
     ]
    },
    {
     "name": "stderr",
     "output_type": "stream",
     "text": [
      "T: 148/300: 100%|█| 78/78 [00:08<00:00,  9.12it/s, lr=0.000291, b_loss=0.494, b_\n"
     ]
    },
    {
     "name": "stdout",
     "output_type": "stream",
     "text": [
      "[ Train | 148/300 ] loss = 0.46465, acc = 0.83867\n"
     ]
    },
    {
     "name": "stderr",
     "output_type": "stream",
     "text": [
      "V: 148/300: 100%|█████| 26/26 [00:02<00:00, 12.32it/s, v_loss=1.01, v_acc=0.711]\n"
     ]
    },
    {
     "name": "stdout",
     "output_type": "stream",
     "text": [
      "[ Valid | 148/300 ] loss = 1.01065, acc = 0.71083\n",
      "[ Valid | 148/300 ] loss = 1.01065, acc = 0.71083\n"
     ]
    },
    {
     "name": "stderr",
     "output_type": "stream",
     "text": [
      "T: 149/300: 100%|█| 78/78 [00:08<00:00,  9.12it/s, lr=0.000262, b_loss=0.314, b_\n"
     ]
    },
    {
     "name": "stdout",
     "output_type": "stream",
     "text": [
      "[ Train | 149/300 ] loss = 0.45230, acc = 0.84179\n"
     ]
    },
    {
     "name": "stderr",
     "output_type": "stream",
     "text": [
      "V: 149/300: 100%|████| 26/26 [00:02<00:00, 11.03it/s, v_loss=0.813, v_acc=0.765]\n"
     ]
    },
    {
     "name": "stdout",
     "output_type": "stream",
     "text": [
      "[ Valid | 149/300 ] loss = 0.81280, acc = 0.76470\n",
      "[ Valid | 149/300 ] loss = 0.81280, acc = 0.76470\n"
     ]
    },
    {
     "name": "stderr",
     "output_type": "stream",
     "text": [
      "T: 150/300: 100%|█| 78/78 [00:08<00:00,  9.21it/s, lr=0.000231, b_loss=0.516, b_\n"
     ]
    },
    {
     "name": "stdout",
     "output_type": "stream",
     "text": [
      "[ Train | 150/300 ] loss = 0.43617, acc = 0.84853\n"
     ]
    },
    {
     "name": "stderr",
     "output_type": "stream",
     "text": [
      "V: 150/300: 100%|████| 26/26 [00:02<00:00, 10.46it/s, v_loss=0.911, v_acc=0.736]\n"
     ]
    },
    {
     "name": "stdout",
     "output_type": "stream",
     "text": [
      "[ Valid | 150/300 ] loss = 0.91109, acc = 0.73554\n",
      "[ Valid | 150/300 ] loss = 0.91109, acc = 0.73554\n"
     ]
    },
    {
     "name": "stderr",
     "output_type": "stream",
     "text": [
      "T: 151/300: 100%|█| 78/78 [00:08<00:00,  9.12it/s, lr=0.0002, b_loss=0.364, b_ac\n"
     ]
    },
    {
     "name": "stdout",
     "output_type": "stream",
     "text": [
      "[ Train | 151/300 ] loss = 0.41238, acc = 0.85823\n"
     ]
    },
    {
     "name": "stderr",
     "output_type": "stream",
     "text": [
      "V: 151/300: 100%|████| 26/26 [00:02<00:00, 10.92it/s, v_loss=0.841, v_acc=0.757]\n"
     ]
    },
    {
     "name": "stdout",
     "output_type": "stream",
     "text": [
      "[ Valid | 151/300 ] loss = 0.84124, acc = 0.75721\n",
      "[ Valid | 151/300 ] loss = 0.84124, acc = 0.75721\n"
     ]
    },
    {
     "name": "stderr",
     "output_type": "stream",
     "text": [
      "T: 152/300: 100%|█| 78/78 [00:08<00:00,  9.04it/s, lr=0.000169, b_loss=0.453, b_\n"
     ]
    },
    {
     "name": "stdout",
     "output_type": "stream",
     "text": [
      "[ Train | 152/300 ] loss = 0.39253, acc = 0.86805\n"
     ]
    },
    {
     "name": "stderr",
     "output_type": "stream",
     "text": [
      "V: 152/300: 100%|████| 26/26 [00:02<00:00, 12.42it/s, v_loss=0.852, v_acc=0.759]\n"
     ]
    },
    {
     "name": "stdout",
     "output_type": "stream",
     "text": [
      "[ Valid | 152/300 ] loss = 0.85173, acc = 0.75933\n",
      "[ Valid | 152/300 ] loss = 0.85173, acc = 0.75933\n"
     ]
    },
    {
     "name": "stderr",
     "output_type": "stream",
     "text": [
      "T: 153/300: 100%|█| 78/78 [00:08<00:00,  9.10it/s, lr=0.000138, b_loss=0.479, b_\n"
     ]
    },
    {
     "name": "stdout",
     "output_type": "stream",
     "text": [
      "[ Train | 153/300 ] loss = 0.37582, acc = 0.87197\n"
     ]
    },
    {
     "name": "stderr",
     "output_type": "stream",
     "text": [
      "V: 153/300: 100%|████| 26/26 [00:02<00:00, 10.82it/s, v_loss=0.942, v_acc=0.738]\n"
     ]
    },
    {
     "name": "stdout",
     "output_type": "stream",
     "text": [
      "[ Valid | 153/300 ] loss = 0.94185, acc = 0.73764\n",
      "[ Valid | 153/300 ] loss = 0.94185, acc = 0.73764\n"
     ]
    },
    {
     "name": "stderr",
     "output_type": "stream",
     "text": [
      "T: 154/300: 100%|█| 78/78 [00:08<00:00,  9.18it/s, lr=0.000109, b_loss=0.442, b_\n"
     ]
    },
    {
     "name": "stdout",
     "output_type": "stream",
     "text": [
      "[ Train | 154/300 ] loss = 0.34656, acc = 0.88053\n"
     ]
    },
    {
     "name": "stderr",
     "output_type": "stream",
     "text": [
      "V: 154/300: 100%|████| 26/26 [00:02<00:00, 11.59it/s, v_loss=0.799, v_acc=0.773]\n"
     ]
    },
    {
     "name": "stdout",
     "output_type": "stream",
     "text": [
      "[ Valid | 154/300 ] loss = 0.79915, acc = 0.77254\n",
      "[ Valid | 154/300 ] loss = 0.79915, acc = 0.77254\n"
     ]
    },
    {
     "name": "stderr",
     "output_type": "stream",
     "text": [
      "T: 155/300: 100%|█| 78/78 [00:08<00:00,  9.36it/s, lr=8.24e-5, b_loss=0.338, b_a\n"
     ]
    },
    {
     "name": "stdout",
     "output_type": "stream",
     "text": [
      "[ Train | 155/300 ] loss = 0.32321, acc = 0.89129\n"
     ]
    },
    {
     "name": "stderr",
     "output_type": "stream",
     "text": [
      "V: 155/300: 100%|█████| 26/26 [00:02<00:00, 12.17it/s, v_loss=0.805, v_acc=0.77]\n"
     ]
    },
    {
     "name": "stdout",
     "output_type": "stream",
     "text": [
      "[ Valid | 155/300 ] loss = 0.80492, acc = 0.76981\n",
      "[ Valid | 155/300 ] loss = 0.80492, acc = 0.76981\n"
     ]
    },
    {
     "name": "stderr",
     "output_type": "stream",
     "text": [
      "T: 156/300: 100%|█| 78/78 [00:08<00:00,  9.02it/s, lr=5.86e-5, b_loss=0.359, b_a\n"
     ]
    },
    {
     "name": "stdout",
     "output_type": "stream",
     "text": [
      "[ Train | 156/300 ] loss = 0.32001, acc = 0.89136\n"
     ]
    },
    {
     "name": "stderr",
     "output_type": "stream",
     "text": [
      "V: 156/300: 100%|████| 26/26 [00:02<00:00, 11.62it/s, v_loss=0.812, v_acc=0.772]\n"
     ]
    },
    {
     "name": "stdout",
     "output_type": "stream",
     "text": [
      "[ Valid | 156/300 ] loss = 0.81157, acc = 0.77202\n",
      "[ Valid | 156/300 ] loss = 0.81157, acc = 0.77202\n"
     ]
    },
    {
     "name": "stderr",
     "output_type": "stream",
     "text": [
      "T: 157/300: 100%|█| 78/78 [00:08<00:00,  9.16it/s, lr=3.82e-5, b_loss=0.261, b_a\n"
     ]
    },
    {
     "name": "stdout",
     "output_type": "stream",
     "text": [
      "[ Train | 157/300 ] loss = 0.30077, acc = 0.89724\n"
     ]
    },
    {
     "name": "stderr",
     "output_type": "stream",
     "text": [
      "V: 157/300: 100%|█████| 26/26 [00:02<00:00, 12.04it/s, v_loss=0.81, v_acc=0.773]\n"
     ]
    },
    {
     "name": "stdout",
     "output_type": "stream",
     "text": [
      "[ Valid | 157/300 ] loss = 0.81016, acc = 0.77346\n",
      "[ Valid | 157/300 ] loss = 0.81016, acc = 0.77346\n"
     ]
    },
    {
     "name": "stderr",
     "output_type": "stream",
     "text": [
      "T: 158/300: 100%|█| 78/78 [00:08<00:00,  9.15it/s, lr=2.18e-5, b_loss=0.335, b_a\n"
     ]
    },
    {
     "name": "stdout",
     "output_type": "stream",
     "text": [
      "[ Train | 158/300 ] loss = 0.29447, acc = 0.89883\n"
     ]
    },
    {
     "name": "stderr",
     "output_type": "stream",
     "text": [
      "V: 158/300: 100%|████| 26/26 [00:02<00:00, 12.03it/s, v_loss=0.835, v_acc=0.766]\n"
     ]
    },
    {
     "name": "stdout",
     "output_type": "stream",
     "text": [
      "[ Valid | 158/300 ] loss = 0.83529, acc = 0.76593\n",
      "[ Valid | 158/300 ] loss = 0.83529, acc = 0.76593\n"
     ]
    },
    {
     "name": "stderr",
     "output_type": "stream",
     "text": [
      "T: 159/300: 100%|█| 78/78 [00:08<00:00,  9.28it/s, lr=9.79e-6, b_loss=0.16, b_ac\n"
     ]
    },
    {
     "name": "stdout",
     "output_type": "stream",
     "text": [
      "[ Train | 159/300 ] loss = 0.29101, acc = 0.90028\n"
     ]
    },
    {
     "name": "stderr",
     "output_type": "stream",
     "text": [
      "V: 159/300: 100%|████| 26/26 [00:02<00:00, 11.86it/s, v_loss=0.797, v_acc=0.778]"
     ]
    },
    {
     "name": "stdout",
     "output_type": "stream",
     "text": [
      "[ Valid | 159/300 ] loss = 0.79697, acc = 0.77767\n",
      "[ Valid | 159/300 ] loss = 0.79697, acc = 0.77767\n",
      "No improvment 20 consecutive epochs, early stopping\n"
     ]
    },
    {
     "name": "stderr",
     "output_type": "stream",
     "text": [
      "\n"
     ]
    },
    {
     "data": {
      "text/html": [
       "Waiting for W&B process to finish... <strong style=\"color:green\">(success).</strong>"
      ],
      "text/plain": [
       "<IPython.core.display.HTML object>"
      ]
     },
     "metadata": {},
     "output_type": "display_data"
    },
    {
     "data": {
      "text/html": [
       "<style>\n",
       "    table.wandb td:nth-child(1) { padding: 0 10px; text-align: left ; width: auto;} td:nth-child(2) {text-align: left ; width: 100%}\n",
       "    .wandb-row { display: flex; flex-direction: row; flex-wrap: wrap; justify-content: flex-start; width: 100% }\n",
       "    .wandb-col { display: flex; flex-direction: column; flex-basis: 100%; flex: 1; padding: 10px; }\n",
       "    </style>\n",
       "<div class=\"wandb-row\"><div class=\"wandb-col\"><h3>Run history:</h3><br/><table class=\"wandb\"><tr><td>average_training_loss</td><td>█▇▆▅▄▅▅▄▄▃▄▄▃▃▃▄▃▃▂▂▃▃▂▂▂▃▃▂▂▂▃▂▂▂▁▂▂▂▁▁</td></tr><tr><td>average_validation_loss</td><td>█▅▅▄▃▄▃▄▂▂▃▄▂▂▁▃▂▂▁▁▃▂▂▂▁▃▂▁▂▁▂▂▂▁▁▃▄▂▁▁</td></tr><tr><td>learning rate</td><td>█▇▅▃▁█▇▅▃▁█▇▅▃▁█▇▅▃▁█▇▅▃▁█▇▅▃▁█▇▅▃▁█▇▅▃▁</td></tr><tr><td>step_training_accuracy</td><td>▁▂▃▄▄▃▃▅▅▆▄▅▅▅▇▅▅▅▆▇▅▆▆▇▆▇▆▇▇▇▆▆▇▇█▇▇▇▇█</td></tr><tr><td>step_training_loss</td><td>█▇▆▅▄▆▆▄▄▄▅▄▄▃▃▃▃▄▃▂▄▃▂▂▂▃▃▂▁▁▃▂▂▁▁▂▁▁▁▁</td></tr><tr><td>step_validation_accuracy</td><td>▁▁▂▄▅▄▃▅▇▆▆▃▅▇▇▄▆▆▆▇▄▄▅█▇▅▆▇▇█▆▇▇▇█▆▅▇▇▇</td></tr><tr><td>step_validation_loss</td><td>▇█▆▅▄▅▇▅▂▃▃▅▃▂▂▄▃▃▃▂▅▇▄▂▂▅▃▄▂▁▃▂▂▂▁▄▅▄▃▃</td></tr></table><br/></div><div class=\"wandb-col\"><h3>Run summary:</h3><br/><table class=\"wandb\"><tr><td>average_training_loss</td><td>0.29101</td></tr><tr><td>average_validation_loss</td><td>0.79697</td></tr><tr><td>learning rate</td><td>1e-05</td></tr><tr><td>step_training_accuracy</td><td>0.94828</td></tr><tr><td>step_training_loss</td><td>0.16002</td></tr><tr><td>step_validation_accuracy</td><td>0.77419</td></tr><tr><td>step_validation_loss</td><td>0.78205</td></tr></table><br/></div></div>"
      ],
      "text/plain": [
       "<IPython.core.display.HTML object>"
      ]
     },
     "metadata": {},
     "output_type": "display_data"
    },
    {
     "data": {
      "text/html": [
       " View run <strong style=\"color:#cdcd00\">classic-flower-25</strong> at: <a href='https://wandb.ai/nickwkt/Food-11/runs/tbrzhm91' target=\"_blank\">https://wandb.ai/nickwkt/Food-11/runs/tbrzhm91</a><br/>Synced 6 W&B file(s), 0 media file(s), 0 artifact file(s) and 0 other file(s)"
      ],
      "text/plain": [
       "<IPython.core.display.HTML object>"
      ]
     },
     "metadata": {},
     "output_type": "display_data"
    },
    {
     "data": {
      "text/html": [
       "Find logs at: <code>./wandb/run-20230414_173345-tbrzhm91/logs</code>"
      ],
      "text/plain": [
       "<IPython.core.display.HTML object>"
      ]
     },
     "metadata": {},
     "output_type": "display_data"
    }
   ],
   "source": [
    "# \"cuda\" only when GPUs are available.\n",
    "device = \"cuda\" if torch.cuda.is_available() else \"cpu\"\n",
    "print(device)\n",
    "\n",
    "test_fold = k_fold\n",
    "\n",
    "for i in range(test_fold):\n",
    "    fold = i+1\n",
    "    print(f'\\n\\nStarting Fold: {fold} ********************************************')\n",
    "    model = Classifier(Residual_Block, num_layers).to(device)\n",
    "    print(next(model.parameters()).device)\n",
    "    criterion = nn.CrossEntropyLoss()\n",
    "    optimizer = torch.optim.Adam(model.parameters(), lr=0.0004, weight_decay=1e-5) \n",
    "    scheduler = torch.optim.lr_scheduler.CosineAnnealingWarmRestarts(optimizer, T_0=20, T_mult=1)\n",
    "    stale = 0\n",
    "    best_acc = 0\n",
    "    \n",
    "    val_data = total_files[i*num: (i+1)*num]\n",
    "    train_data = total_files[:i*num] + total_files[(i+1)*num:]\n",
    "    \n",
    "    train_set = FoodDataset(tfm=train_tfm, files=train_data)\n",
    "    train_loader = DataLoader(train_set, batch_size=batch_size, shuffle=True, num_workers=num_cpu, pin_memory=True)\n",
    "    \n",
    "    valid_set = FoodDataset(tfm=test_tfm, files=val_data)\n",
    "    valid_loader = DataLoader(valid_set, batch_size=batch_size, shuffle=True, num_workers=num_cpu, pin_memory=True)\n",
    "    \n",
    "    wandb.init(\n",
    "        project=\"Food-11\",\n",
    "        config={\n",
    "            \"learning rate\": 0.0004,\n",
    "            \"architecture\": \"CNN\",\n",
    "            \"epochs\": n_epochs,\n",
    "            \"batch_size\": batch_size,\n",
    "            \"image_dim\": 128,\n",
    "            \"T_0\": 20,\n",
    "            \"T_mult\": 1,\n",
    "        }\n",
    "    )\n",
    "\n",
    "    for epoch in range(n_epochs):\n",
    "    \n",
    "        # ---------- Training ----------\n",
    "        # Make sure the model is in train mode before training.\n",
    "        model.train()\n",
    "    \n",
    "        # These are used to record information in training.\n",
    "        train_loss = []\n",
    "        train_accs = []\n",
    "        lr = optimizer.param_groups[0][\"lr\"]\n",
    "        \n",
    "        pbar = tqdm(train_loader)\n",
    "        pbar.set_description(f'T: {epoch+1:03d}/{n_epochs:03d}')\n",
    "        for batch in pbar:\n",
    "    \n",
    "            # A batch consists of image data and corresponding labels.\n",
    "            imgs, labels = batch\n",
    "            #imgs = imgs.half()\n",
    "            #print(imgs.shape,labels.shape)\n",
    "    \n",
    "            # Forward the data. (Make sure data and model are on the same device.)\n",
    "            logits = model(imgs.to(device))\n",
    "    \n",
    "            # Calculate the cross-entropy loss.\n",
    "            # We don't need to apply softmax before computing cross-entropy as it is done automatically.\n",
    "            loss = criterion(logits, labels.to(device))\n",
    "    \n",
    "            # Gradients stored in the parameters in the previous step should be cleared out first.\n",
    "            optimizer.zero_grad()\n",
    "    \n",
    "            # Compute the gradients for parameters.\n",
    "            loss.backward()\n",
    "    \n",
    "            # Clip the gradient norms for stable training.\n",
    "            grad_norm = nn.utils.clip_grad_norm_(model.parameters(), max_norm=10)\n",
    "    \n",
    "            # Update the parameters with computed gradients.\n",
    "            optimizer.step()\n",
    "    \n",
    "            # Compute the accuracy for current batch.\n",
    "            acc = (logits.argmax(dim=-1) == labels.to(device)).float().mean()\n",
    "    \n",
    "            # Record the loss and accuracy.\n",
    "            wandb.log({\"step_training_loss\": loss.item()})\n",
    "            wandb.log({\"step_training_accuracy\": acc})\n",
    "            train_loss.append(loss.item())\n",
    "            train_accs.append(acc)\n",
    "            pbar.set_postfix({'lr':lr, 'b_loss':loss.item(), 'b_acc':acc.item(),\n",
    "                    'loss':sum(train_loss)/len(train_loss), 'acc': sum(train_accs).item()/len(train_accs)})\n",
    "            \n",
    "        train_loss = sum(train_loss) / len(train_loss)\n",
    "        train_acc = sum(train_accs) / len(train_accs)\n",
    "        # Print the information.\n",
    "        print(f\"[ Train | {epoch + 1:03d}/{n_epochs:03d} ] loss = {train_loss:.5f}, acc = {train_acc:.5f}\")\n",
    "\n",
    "        wandb.log({\"learning rate\": scheduler.get_last_lr()[0]})\n",
    "\n",
    "        scheduler.step()\n",
    "        \n",
    "        \n",
    "        # Make sure the model is in eval mode so that some modules like dropout are disabled and work normally.\n",
    "        model.eval()\n",
    "    \n",
    "        # These are used to record information in validation.\n",
    "        valid_loss = []\n",
    "        valid_accs = []\n",
    "    \n",
    "        # Iterate the validation set by batches.\n",
    "        pbar = tqdm(valid_loader)\n",
    "        pbar.set_description(f'V: {epoch+1:03d}/{n_epochs:03d}')\n",
    "        for batch in pbar:\n",
    "\n",
    "            # A batch consists of image data and corresponding labels.\n",
    "            imgs, labels = batch\n",
    "            #imgs = imgs.half()\n",
    "    \n",
    "            # We don't need gradient in validation.\n",
    "            # Using torch.no_grad() accelerates the forward process.\n",
    "            with torch.no_grad():\n",
    "                logits = model(imgs.to(device))\n",
    "    \n",
    "            # We can still compute the loss (but not the gradient).\n",
    "            loss = criterion(logits, labels.to(device))\n",
    "    \n",
    "            # Compute the accuracy for current batch.\n",
    "            acc = (logits.argmax(dim=-1) == labels.to(device)).float().mean()\n",
    "    \n",
    "            # Record the loss and accuracy.\n",
    "            wandb.log({\"step_validation_loss\": loss.item()})\n",
    "            wandb.log({\"step_validation_accuracy\": acc})\n",
    "            valid_loss.append(loss.item())\n",
    "            valid_accs.append(acc)\n",
    "            pbar.set_postfix({'v_loss':sum(valid_loss)/len(valid_loss), \n",
    "                              'v_acc': sum(valid_accs).item()/len(valid_accs)})\n",
    "        \n",
    "            #break\n",
    "    \n",
    "        # The average loss and accuracy for entire validation set is the average of the recorded values.\n",
    "        valid_loss = sum(valid_loss) / len(valid_loss)\n",
    "        valid_acc = sum(valid_accs) / len(valid_accs)\n",
    "\n",
    "        # Print the information.\n",
    "        print(f\"[ Valid | {epoch + 1:03d}/{n_epochs:03d} ] loss = {valid_loss:.5f}, acc = {valid_acc:.5f}\")\n",
    "\n",
    "        # update logs\n",
    "        if valid_acc > best_acc:\n",
    "            with open(f\"{_exp_name}_fold_{fold}_log.txt\",\"a\") as f:\n",
    "                newline = '\\n'\n",
    "                item = f\"[ Valid | {epoch + 1:03d}/{n_epochs:03d} ] loss = {valid_loss:.5f}, acc = {valid_acc:.5f} -> best{newline}\"\n",
    "                f.write(item)\n",
    "                print(f\"[ Valid | {epoch + 1:03d}/{n_epochs:03d} ] loss = {valid_loss:.5f}, acc = {valid_acc:.5f} -> best\")\n",
    "        else:\n",
    "            with open(f\"{_exp_name}_fold_{fold}_log.txt\",\"a\") as f:\n",
    "                newline = '\\n'\n",
    "                item = f\"[ Valid | {epoch + 1:03d}/{n_epochs:03d} ] loss = {valid_loss:.5f}, acc = {valid_acc:.5f}{newline}\"\n",
    "                f.write(item)\n",
    "                print(f\"[ Valid | {epoch + 1:03d}/{n_epochs:03d} ] loss = {valid_loss:.5f}, acc = {valid_acc:.5f}\")\n",
    "        \n",
    "        wandb.log({\n",
    "            \"average_training_loss\": train_loss,\n",
    "            \"average_validation_loss\": valid_loss,\n",
    "        })\n",
    "\n",
    "        # save models\n",
    "        if valid_acc > best_acc:\n",
    "            print(f\"Best model found at fold {fold} epoch {epoch+1}, acc={valid_acc:.5f}, saving model\")\n",
    "            torch.save(model.state_dict(), f\"Fold_{fold}_best.ckpt\")\n",
    "            # only save best to prevent output memory exceed error\n",
    "            best_acc = valid_acc\n",
    "            stale = 0\n",
    "        else:\n",
    "            stale += 1\n",
    "            if stale > patience:\n",
    "                print(f\"No improvment {patience} consecutive epochs, early stopping\")\n",
    "                break\n",
    "    wandb.finish()"
   ]
  },
  {
   "cell_type": "code",
   "execution_count": 40,
   "metadata": {
    "colab": {
     "base_uri": "https://localhost:8080/"
    },
    "executionInfo": {
     "elapsed": 16,
     "status": "ok",
     "timestamp": 1681160711111,
     "user": {
      "displayName": "Nick Wu",
      "userId": "10283763741837486654"
     },
     "user_tz": -480
    },
    "id": "B9QNdHIXVaVP",
    "outputId": "0d0024e1-07b4-498f-9a3b-ea1815319f95",
    "papermill": {
     "duration": 0.493644,
     "end_time": "2022-02-23T19:10:19.985992",
     "exception": false,
     "start_time": "2022-02-23T19:10:19.492348",
     "status": "completed"
    },
    "tags": []
   },
   "outputs": [],
   "source": [
    "test_dir = \"./food-11/test\"\n",
    "test_set = FoodDataset(test_dir, tfm=test_tfm)\n",
    "test_loader = DataLoader(test_set, batch_size=batch_size, shuffle=False, num_workers=num_cpu, pin_memory=True)"
   ]
  },
  {
   "attachments": {},
   "cell_type": "markdown",
   "metadata": {
    "id": "G31uyjpvVaVP",
    "papermill": {
     "duration": 0.498773,
     "end_time": "2022-02-23T19:10:20.961802",
     "exception": false,
     "start_time": "2022-02-23T19:10:20.463029",
     "status": "completed"
    },
    "tags": []
   },
   "source": [
    "# Testing and generate prediction CSV"
   ]
  },
  {
   "cell_type": "code",
   "execution_count": 41,
   "metadata": {
    "colab": {
     "base_uri": "https://localhost:8080/"
    },
    "executionInfo": {
     "elapsed": 6246,
     "status": "ok",
     "timestamp": 1681160717352,
     "user": {
      "displayName": "Nick Wu",
      "userId": "10283763741837486654"
     },
     "user_tz": -480
    },
    "id": "bpLtxx5FVaVP",
    "outputId": "bf66ac1c-27e3-4097-ac23-457dc0b7ba36",
    "papermill": {
     "duration": 49.157727,
     "end_time": "2022-02-23T19:11:10.61523",
     "exception": false,
     "start_time": "2022-02-23T19:10:21.457503",
     "status": "completed"
    },
    "tags": []
   },
   "outputs": [
    {
     "name": "stdout",
     "output_type": "stream",
     "text": [
      "Test accurary: 0.8427448868751526\n"
     ]
    }
   ],
   "source": [
    "device = \"cuda\" if torch.cuda.is_available() else \"cpu\"\n",
    "\n",
    "test_fold = k_fold\n",
    "\n",
    "models = []\n",
    "for i in range(test_fold):\n",
    "    fold = i + 1\n",
    "    model_best = Classifier(Residual_Block, num_layers).to(device)\n",
    "    model_best.load_state_dict(torch.load(f\"Fold_{fold}_best.ckpt\"))\n",
    "    model_best.eval()\n",
    "    models.append(model_best)\n",
    "\n",
    "prediction = []\n",
    "test_accs = []\n",
    "true_labels = []\n",
    "with torch.no_grad():\n",
    "    for data, labels in test_loader:\n",
    "        test_preds = [] \n",
    "        for model_best in models:\n",
    "            test_preds.append(model_best(data.to(device)).cpu().data.numpy())\n",
    "        \n",
    "        preds = []\n",
    "        for i in range(test_fold):\n",
    "            temp_pred = np.argmax(test_preds[i], axis=1).tolist()\n",
    "            preds.append(temp_pred)\n",
    "        pred = list(zip(*preds))\n",
    "        pred = np.array(pred)\n",
    "        choice = np.apply_along_axis(lambda x: np.bincount(x).argmax(), axis=1, arr=pred)\n",
    "\n",
    "        test_preds = torch.from_numpy(choice).to(device)\n",
    "        acc = (test_preds == labels.to(device)).float().mean()\n",
    "        test_accs.append(acc)\n",
    "        prediction += choice.squeeze().tolist()\n",
    "        true_labels.extend(labels.tolist())\n",
    "\n",
    "test_acc = sum(test_accs) / len(test_accs)\n",
    "print(f\"Test accurary: {test_acc}\")"
   ]
  },
  {
   "cell_type": "code",
   "execution_count": 42,
   "metadata": {
    "id": "fKupB3VUVaVQ",
    "papermill": {
     "duration": 0.554276,
     "end_time": "2022-02-23T19:11:11.870035",
     "exception": false,
     "start_time": "2022-02-23T19:11:11.315759",
     "status": "completed"
    },
    "tags": []
   },
   "outputs": [],
   "source": [
    "#create test csv\n",
    "def pad4(i):\n",
    "    return \"0\"*(4-len(str(i)))+str(i)\n",
    "df = pd.DataFrame()\n",
    "df[\"Id\"] = [pad4(i) for i in range(1,len(test_set)+1)]\n",
    "df[\"Category\"] = prediction\n",
    "df.to_csv(\"prediction_resnet.csv\",index = False)\n",
    "\n",
    "df = pd.DataFrame()\n",
    "df[\"Id\"] = [pad4(i) for i in range(1,len(test_set)+1)]\n",
    "df[\"Category\"] = true_labels\n",
    "df.to_csv(\"true_labels.csv\",index = False)"
   ]
  }
 ],
 "metadata": {
  "accelerator": "GPU",
  "colab": {
   "machine_shape": "hm",
   "provenance": [
    {
     "file_id": "15hMu9YiYjE_6HY99UXon2vKGk2KwugWu",
     "timestamp": 1681142933591
    }
   ]
  },
  "gpuClass": "premium",
  "kernelspec": {
   "display_name": "Python 3 (ipykernel)",
   "language": "python",
   "name": "python3"
  },
  "language_info": {
   "codemirror_mode": {
    "name": "ipython",
    "version": 3
   },
   "file_extension": ".py",
   "mimetype": "text/x-python",
   "name": "python",
   "nbconvert_exporter": "python",
   "pygments_lexer": "ipython3",
   "version": "3.7.16"
  }
 },
 "nbformat": 4,
 "nbformat_minor": 4
}
