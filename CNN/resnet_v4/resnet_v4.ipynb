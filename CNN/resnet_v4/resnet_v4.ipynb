{
 "cells": [
  {
   "cell_type": "markdown",
   "metadata": {
    "id": "jRDuJsGCgxCO"
   },
   "source": [
    "# STAT4012 Project\n",
    "\n",
    "- Implement residual network\n",
    "- 4-fold cross validation\n",
    "- Ensembling\n",
    "- Add lr_scheduler"
   ]
  },
  {
   "cell_type": "code",
   "execution_count": 1,
   "metadata": {
    "colab": {
     "base_uri": "https://localhost:8080/"
    },
    "execution": {
     "iopub.execute_input": "2023-04-11T12:41:06.291240Z",
     "iopub.status.busy": "2023-04-11T12:41:06.290545Z",
     "iopub.status.idle": "2023-04-11T12:41:07.280513Z",
     "shell.execute_reply": "2023-04-11T12:41:07.279388Z",
     "shell.execute_reply.started": "2023-04-11T12:41:06.291203Z"
    },
    "executionInfo": {
     "elapsed": 16,
     "status": "ok",
     "timestamp": 1681163010779,
     "user": {
      "displayName": "Nick Wu",
      "userId": "10283763741837486654"
     },
     "user_tz": -480
    },
    "id": "VOczpMHIjDie",
    "outputId": "391dfbc4-8c44-4ad1-d5ef-972059034649"
   },
   "outputs": [
    {
     "name": "stdout",
     "output_type": "stream",
     "text": [
      "GPU 0: NVIDIA GeForce RTX 3090 (UUID: GPU-72fdbd81-da45-b750-3719-ae5877e26726)\r\n"
     ]
    }
   ],
   "source": [
    "! nvidia-smi -L"
   ]
  },
  {
   "cell_type": "code",
   "execution_count": 2,
   "metadata": {
    "colab": {
     "base_uri": "https://localhost:8080/"
    },
    "execution": {
     "iopub.execute_input": "2023-04-11T12:41:13.145384Z",
     "iopub.status.busy": "2023-04-11T12:41:13.144840Z",
     "iopub.status.idle": "2023-04-11T12:41:13.157905Z",
     "shell.execute_reply": "2023-04-11T12:41:13.156774Z",
     "shell.execute_reply.started": "2023-04-11T12:41:13.145341Z"
    },
    "executionInfo": {
     "elapsed": 9,
     "status": "ok",
     "timestamp": 1681163016035,
     "user": {
      "displayName": "Nick Wu",
      "userId": "10283763741837486654"
     },
     "user_tz": -480
    },
    "id": "cmRFCYn7ng3R",
    "outputId": "cc8e0bb9-9901-46f0-d603-3fec648ffef6"
   },
   "outputs": [
    {
     "data": {
      "text/plain": [
       "12"
      ]
     },
     "execution_count": 2,
     "metadata": {},
     "output_type": "execute_result"
    }
   ],
   "source": [
    "import multiprocessing as mp\n",
    "num_cpu = mp.cpu_count()\n",
    "num_cpu"
   ]
  },
  {
   "cell_type": "code",
   "execution_count": 3,
   "metadata": {
    "execution": {
     "iopub.execute_input": "2023-04-11T12:41:23.966804Z",
     "iopub.status.busy": "2023-04-11T12:41:23.966414Z",
     "iopub.status.idle": "2023-04-11T12:41:23.971223Z",
     "shell.execute_reply": "2023-04-11T12:41:23.970243Z",
     "shell.execute_reply.started": "2023-04-11T12:41:23.966772Z"
    },
    "executionInfo": {
     "elapsed": 482,
     "status": "ok",
     "timestamp": 1681163068589,
     "user": {
      "displayName": "Nick Wu",
      "userId": "10283763741837486654"
     },
     "user_tz": -480
    },
    "id": "ay3WkYnHVaVE",
    "papermill": {
     "duration": 0.0189,
     "end_time": "2022-02-23T10:03:06.279758",
     "exception": false,
     "start_time": "2022-02-23T10:03:06.260858",
     "status": "completed"
    },
    "tags": []
   },
   "outputs": [],
   "source": [
    "_exp_name = \"resnet\""
   ]
  },
  {
   "cell_type": "code",
   "execution_count": 4,
   "metadata": {
    "execution": {
     "iopub.execute_input": "2023-04-11T12:41:26.224108Z",
     "iopub.status.busy": "2023-04-11T12:41:26.223322Z",
     "iopub.status.idle": "2023-04-11T12:41:27.529474Z",
     "shell.execute_reply": "2023-04-11T12:41:27.528373Z",
     "shell.execute_reply.started": "2023-04-11T12:41:26.224062Z"
    },
    "executionInfo": {
     "elapsed": 3801,
     "status": "ok",
     "timestamp": 1681163072385,
     "user": {
      "displayName": "Nick Wu",
      "userId": "10283763741837486654"
     },
     "user_tz": -480
    },
    "id": "CwOGtRWHVaVF",
    "papermill": {
     "duration": 1.654263,
     "end_time": "2022-02-23T10:03:07.947242",
     "exception": false,
     "start_time": "2022-02-23T10:03:06.292979",
     "status": "completed"
    },
    "tags": []
   },
   "outputs": [],
   "source": [
    "# Import necessary packages.\n",
    "import numpy as np\n",
    "import pandas as pd\n",
    "import torch\n",
    "import os\n",
    "import torch.nn as nn\n",
    "import torchvision.transforms as transforms\n",
    "from PIL import Image\n",
    "from torch.utils.data import DataLoader, Dataset\n",
    "from tqdm import tqdm\n",
    "import random\n",
    "import wandb"
   ]
  },
  {
   "cell_type": "code",
   "execution_count": 5,
   "metadata": {
    "execution": {
     "iopub.execute_input": "2023-04-11T12:41:29.044227Z",
     "iopub.status.busy": "2023-04-11T12:41:29.043119Z",
     "iopub.status.idle": "2023-04-11T12:41:29.111363Z",
     "shell.execute_reply": "2023-04-11T12:41:29.110296Z",
     "shell.execute_reply.started": "2023-04-11T12:41:29.044187Z"
    },
    "executionInfo": {
     "elapsed": 6,
     "status": "ok",
     "timestamp": 1681163072385,
     "user": {
      "displayName": "Nick Wu",
      "userId": "10283763741837486654"
     },
     "user_tz": -480
    },
    "id": "8kJm9GekVaVH",
    "papermill": {
     "duration": 0.078771,
     "end_time": "2022-02-23T10:03:08.039428",
     "exception": false,
     "start_time": "2022-02-23T10:03:07.960657",
     "status": "completed"
    },
    "tags": []
   },
   "outputs": [],
   "source": [
    "myseed = 4012  # set a random seed for reproducibility\n",
    "torch.backends.cudnn.deterministic = True\n",
    "torch.backends.cudnn.benchmark = False\n",
    "np.random.seed(myseed)\n",
    "torch.manual_seed(myseed)\n",
    "if torch.cuda.is_available():\n",
    "    torch.cuda.manual_seed_all(myseed)"
   ]
  },
  {
   "cell_type": "markdown",
   "metadata": {
    "id": "d9MVtgbSVaVH",
    "papermill": {
     "duration": 0.01289,
     "end_time": "2022-02-23T10:03:08.065357",
     "exception": false,
     "start_time": "2022-02-23T10:03:08.052467",
     "status": "completed"
    },
    "tags": []
   },
   "source": [
    "## **Transforms**\n",
    "Torchvision provides lots of useful utilities for image preprocessing, data wrapping as well as data augmentation.\n",
    "\n",
    "Please refer to PyTorch official website for details about different transforms."
   ]
  },
  {
   "cell_type": "code",
   "execution_count": 6,
   "metadata": {
    "execution": {
     "iopub.execute_input": "2023-04-11T12:41:31.984491Z",
     "iopub.status.busy": "2023-04-11T12:41:31.983886Z",
     "iopub.status.idle": "2023-04-11T12:41:31.991880Z",
     "shell.execute_reply": "2023-04-11T12:41:31.990669Z",
     "shell.execute_reply.started": "2023-04-11T12:41:31.984446Z"
    },
    "executionInfo": {
     "elapsed": 6,
     "status": "ok",
     "timestamp": 1681163072386,
     "user": {
      "displayName": "Nick Wu",
      "userId": "10283763741837486654"
     },
     "user_tz": -480
    },
    "id": "jvI3Xmq4VaVJ",
    "papermill": {
     "duration": 0.021406,
     "end_time": "2022-02-23T10:03:08.099437",
     "exception": false,
     "start_time": "2022-02-23T10:03:08.078031",
     "status": "completed"
    },
    "tags": []
   },
   "outputs": [],
   "source": [
    "test_tfm = transforms.Compose([\n",
    "    # (height = width = 128)\n",
    "    transforms.Resize((128, 128)),\n",
    "    transforms.ToTensor(),\n",
    "])\n",
    "\n",
    "train_tfm = transforms.Compose([\n",
    "    # (height = width = 128)\n",
    "    #transforms.CenterCrop()\n",
    "    transforms.RandomResizedCrop((128, 128), scale=(0.7, 1.0)),\n",
    "    #transforms.AutoAugment(transforms.AutoAugmentPolicy.IMAGENET),\n",
    "    #transforms.Normalize((0.485, 0.456, 0.406), (0.229, 0.224, 0.225)),\n",
    "    transforms.RandomHorizontalFlip(0.5),\n",
    "    transforms.RandomVerticalFlip(0.5),\n",
    "    transforms.RandomRotation(180),\n",
    "    transforms.RandomAffine(30),\n",
    "    #transforms.RandomInvert(p=0.2),\n",
    "    #transforms.RandomPosterize(bits=2),\n",
    "    #transforms.RandomSolarize(threshold=192.0, p=0.2),\n",
    "    #transforms.RandomEqualize(p=0.2),\n",
    "    transforms.RandomGrayscale(p=0.2),\n",
    "    transforms.ToTensor(),\n",
    "    #transforms.RandomApply(torch.nn.ModuleList([]))\n",
    "])\n"
   ]
  },
  {
   "cell_type": "markdown",
   "metadata": {
    "id": "D0ivMf-jVaVK",
    "papermill": {
     "duration": 0.012739,
     "end_time": "2022-02-23T10:03:08.125181",
     "exception": false,
     "start_time": "2022-02-23T10:03:08.112442",
     "status": "completed"
    },
    "tags": []
   },
   "source": [
    "## **Datasets**\n",
    "The data is labelled by the name, so we load images and label while calling '__getitem__'"
   ]
  },
  {
   "cell_type": "code",
   "execution_count": 7,
   "metadata": {
    "execution": {
     "iopub.execute_input": "2023-04-11T12:41:35.784394Z",
     "iopub.status.busy": "2023-04-11T12:41:35.783680Z",
     "iopub.status.idle": "2023-04-11T12:41:35.792482Z",
     "shell.execute_reply": "2023-04-11T12:41:35.791489Z",
     "shell.execute_reply.started": "2023-04-11T12:41:35.784357Z"
    },
    "executionInfo": {
     "elapsed": 2,
     "status": "ok",
     "timestamp": 1681163435334,
     "user": {
      "displayName": "Nick Wu",
      "userId": "10283763741837486654"
     },
     "user_tz": -480
    },
    "id": "xBdtPhKwVaVL",
    "papermill": {
     "duration": 0.023022,
     "end_time": "2022-02-23T10:03:08.160912",
     "exception": false,
     "start_time": "2022-02-23T10:03:08.13789",
     "status": "completed"
    },
    "tags": []
   },
   "outputs": [],
   "source": [
    "class FoodDataset(Dataset):\n",
    "\n",
    "    def __init__(self,path=None,tfm=test_tfm,files=None):\n",
    "        super(FoodDataset).__init__()\n",
    "        self.path = path\n",
    "        if path:\n",
    "            self.files = sorted([os.path.join(path, x) for x in os.listdir(path) if x.endswith(\".jpg\")])\n",
    "        else:\n",
    "            self.files = files\n",
    "        self.transform = tfm\n",
    "  \n",
    "    def __len__(self):\n",
    "        return len(self.files)\n",
    "  \n",
    "    def __getitem__(self,idx):\n",
    "        fname = self.files[idx]\n",
    "        im = Image.open(fname)\n",
    "        im = self.transform(im)\n",
    "        #im = self.data[idx]\n",
    "        try:\n",
    "            label = int(fname.split(\"/\")[-1].split(\"_\")[0])\n",
    "        except:\n",
    "            label = -1 # test has no label\n",
    "        return im,label"
   ]
  },
  {
   "cell_type": "code",
   "execution_count": 8,
   "metadata": {
    "execution": {
     "iopub.execute_input": "2023-04-11T12:43:00.729889Z",
     "iopub.status.busy": "2023-04-11T12:43:00.728781Z",
     "iopub.status.idle": "2023-04-11T12:43:00.747959Z",
     "shell.execute_reply": "2023-04-11T12:43:00.746833Z",
     "shell.execute_reply.started": "2023-04-11T12:43:00.729848Z"
    },
    "executionInfo": {
     "elapsed": 4,
     "status": "ok",
     "timestamp": 1681163078591,
     "user": {
      "displayName": "Nick Wu",
      "userId": "10283763741837486654"
     },
     "user_tz": -480
    },
    "id": "b_kDECOJVaVL",
    "papermill": {
     "duration": 0.0258,
     "end_time": "2022-02-23T10:03:08.199437",
     "exception": false,
     "start_time": "2022-02-23T10:03:08.173637",
     "status": "completed"
    },
    "tags": []
   },
   "outputs": [],
   "source": [
    "class Residual_Block(nn.Module):\n",
    "    def __init__(self, ic, oc, stride=1):\n",
    "        # torch.nn.Conv2d(in_channels, out_channels, kernel_size, stride, padding)\n",
    "        # torch.nn.MaxPool2d(kernel_size, stride, padding)\n",
    "        super().__init__()\n",
    "        self.conv1 = nn.Sequential(\n",
    "            nn.Conv2d(ic, oc, kernel_size=3, stride=stride, padding=1),\n",
    "            nn.BatchNorm2d(oc),\n",
    "            nn.ReLU(inplace=True)\n",
    "        )\n",
    "        \n",
    "        self.conv2 = nn.Sequential(\n",
    "            nn.Conv2d(oc, oc, kernel_size=3, stride=1, padding=1),\n",
    "            nn.BatchNorm2d(oc),\n",
    "        )\n",
    "        \n",
    "        self.relu = nn.ReLU(inplace=True)\n",
    "    \n",
    "        self.downsample = None\n",
    "        if stride != 1 or (ic != oc):\n",
    "            self.downsample = nn.Sequential(\n",
    "                nn.Conv2d(ic, oc, kernel_size=1, stride=stride),\n",
    "                nn.BatchNorm2d(oc),\n",
    "            )\n",
    "        \n",
    "    def forward(self, x):\n",
    "        residual = x\n",
    "        out = self.conv1(x)\n",
    "        out = self.conv2(out)\n",
    "        \n",
    "        if self.downsample:\n",
    "            residual = self.downsample(x)\n",
    "            \n",
    "        out += residual\n",
    "        return self.relu(out)\n",
    "\n",
    "class Classifier(nn.Module):\n",
    "    def __init__(self, block, num_layers, num_classes=11):\n",
    "        super().__init__()\n",
    "        self.preconv = nn.Sequential(\n",
    "            nn.Conv2d(3, 32, kernel_size=7, stride=2, padding=3, bias=False),\n",
    "            nn.BatchNorm2d(32),\n",
    "            nn.ReLU(inplace=True),\n",
    "        )\n",
    "        \n",
    "        self.layer0 = self.make_residual(block, 32, 64,  num_layers[0], stride=2)\n",
    "        self.layer1 = self.make_residual(block, 64, 128, num_layers[1], stride=2)\n",
    "        self.layer2 = self.make_residual(block, 128, 256, num_layers[2], stride=2)\n",
    "        self.layer3 = self.make_residual(block, 256, 512, num_layers[3], stride=2)\n",
    "        \n",
    "        self.avgpool = nn.AvgPool2d(2)\n",
    "        \n",
    "        self.fc = nn.Sequential(            \n",
    "            nn.Dropout(0.4),\n",
    "            nn.Linear(512*2*2, 512),\n",
    "            nn.BatchNorm1d(512),\n",
    "            nn.ReLU(inplace=True),\n",
    "            nn.Dropout(0.2),\n",
    "            nn.Linear(512, 11),\n",
    "        )\n",
    "        \n",
    "        \n",
    "    def make_residual(self, block, ic, oc, num_layer, stride=1):\n",
    "        layers = []\n",
    "        layers.append(block(ic, oc, stride))\n",
    "        for i in range(1, num_layer):\n",
    "            layers.append(block(oc, oc))\n",
    "        return nn.Sequential(*layers)\n",
    "    \n",
    "    def forward(self, x):\n",
    "        # [3, 128, 128]\n",
    "        out = self.preconv(x)  # [32, 64, 64]\n",
    "        out = self.layer0(out) # [64, 32, 32]\n",
    "        out = self.layer1(out) # [128, 16, 16]\n",
    "        out = self.layer2(out) # [256, 8, 8]\n",
    "        out = self.layer3(out) # [512, 4, 4]\n",
    "        out = self.avgpool(out) # [512, 2, 2]\n",
    "        out = self.fc(out.view(out.size(0), -1)) \n",
    "        return out"
   ]
  },
  {
   "cell_type": "code",
   "execution_count": 9,
   "metadata": {
    "execution": {
     "iopub.execute_input": "2023-04-11T12:43:06.183667Z",
     "iopub.status.busy": "2023-04-11T12:43:06.182615Z",
     "iopub.status.idle": "2023-04-11T12:43:06.190014Z",
     "shell.execute_reply": "2023-04-11T12:43:06.188866Z",
     "shell.execute_reply.started": "2023-04-11T12:43:06.183592Z"
    },
    "executionInfo": {
     "elapsed": 3,
     "status": "ok",
     "timestamp": 1681163090164,
     "user": {
      "displayName": "Nick Wu",
      "userId": "10283763741837486654"
     },
     "user_tz": -480
    },
    "id": "raSJc5-bCtqV"
   },
   "outputs": [],
   "source": [
    "batch_size = 128\n",
    "num_layers = [2, 3, 3, 1] # residual number layers\n",
    "\n",
    "n_epochs = 300\n",
    "patience = 20 # If no improvement in 'patience' epochs, early stop\n",
    "\n",
    "k_fold = 4"
   ]
  },
  {
   "cell_type": "code",
   "execution_count": 10,
   "metadata": {
    "execution": {
     "iopub.execute_input": "2023-04-11T12:43:09.734189Z",
     "iopub.status.busy": "2023-04-11T12:43:09.733174Z",
     "iopub.status.idle": "2023-04-11T12:43:09.778245Z",
     "shell.execute_reply": "2023-04-11T12:43:09.777168Z",
     "shell.execute_reply.started": "2023-04-11T12:43:09.734136Z"
    },
    "executionInfo": {
     "elapsed": 3,
     "status": "ok",
     "timestamp": 1681163295457,
     "user": {
      "displayName": "Nick Wu",
      "userId": "10283763741837486654"
     },
     "user_tz": -480
    },
    "id": "2_OeWtstVaVO",
    "papermill": {
     "duration": 0.054295,
     "end_time": "2022-02-23T10:03:08.266338",
     "exception": false,
     "start_time": "2022-02-23T10:03:08.212043",
     "status": "completed"
    },
    "tags": []
   },
   "outputs": [
    {
     "data": {
      "text/plain": [
       "13296"
      ]
     },
     "execution_count": 10,
     "metadata": {},
     "output_type": "execute_result"
    }
   ],
   "source": [
    "train_dir = \"./food-11/training\"\n",
    "val_dir = \"./food-11/validation\"\n",
    "\n",
    "train_files = [os.path.join(train_dir, x) for x in os.listdir(train_dir) if x.endswith('.jpg')]\n",
    "val_files = [os.path.join(val_dir, x) for x in os.listdir(val_dir) if x.endswith('.jpg')]\n",
    "total_files = train_files + val_files\n",
    "random.seed(myseed)\n",
    "random.shuffle(total_files)\n",
    "\n",
    "num = len(total_files) // k_fold\n",
    "len(total_files)"
   ]
  },
  {
   "cell_type": "code",
   "execution_count": 11,
   "metadata": {
    "colab": {
     "base_uri": "https://localhost:8080/"
    },
    "execution": {
     "iopub.execute_input": "2023-04-11T12:43:12.357181Z",
     "iopub.status.busy": "2023-04-11T12:43:12.356757Z"
    },
    "id": "Lp3y_ITOEUN_",
    "outputId": "3d1b7e03-d1bc-4c0f-abce-26666362f789"
   },
   "outputs": [
    {
     "name": "stdout",
     "output_type": "stream",
     "text": [
      "cuda\n",
      "\n",
      "\n",
      "Starting Fold: 1 ********************************************\n",
      "cuda:0\n"
     ]
    },
    {
     "name": "stderr",
     "output_type": "stream",
     "text": [
      "Failed to detect the name of this notebook, you can set it manually with the WANDB_NOTEBOOK_NAME environment variable to enable code saving.\n",
      "\u001b[34m\u001b[1mwandb\u001b[0m: Currently logged in as: \u001b[33mnickwkt\u001b[0m. Use \u001b[1m`wandb login --relogin`\u001b[0m to force relogin\n"
     ]
    },
    {
     "data": {
      "text/html": [
       "Tracking run with wandb version 0.14.2"
      ],
      "text/plain": [
       "<IPython.core.display.HTML object>"
      ]
     },
     "metadata": {},
     "output_type": "display_data"
    },
    {
     "data": {
      "text/html": [
       "Run data is saved locally in <code>/home/user/jupyter_file/wandb/run-20230416_012546-vezoxjs2</code>"
      ],
      "text/plain": [
       "<IPython.core.display.HTML object>"
      ]
     },
     "metadata": {},
     "output_type": "display_data"
    },
    {
     "data": {
      "text/html": [
       "Syncing run <strong><a href='https://wandb.ai/nickwkt/Food-11/runs/vezoxjs2' target=\"_blank\">scarlet-armadillo-29</a></strong> to <a href='https://wandb.ai/nickwkt/Food-11' target=\"_blank\">Weights & Biases</a> (<a href='https://wandb.me/run' target=\"_blank\">docs</a>)<br/>"
      ],
      "text/plain": [
       "<IPython.core.display.HTML object>"
      ]
     },
     "metadata": {},
     "output_type": "display_data"
    },
    {
     "data": {
      "text/html": [
       " View project at <a href='https://wandb.ai/nickwkt/Food-11' target=\"_blank\">https://wandb.ai/nickwkt/Food-11</a>"
      ],
      "text/plain": [
       "<IPython.core.display.HTML object>"
      ]
     },
     "metadata": {},
     "output_type": "display_data"
    },
    {
     "data": {
      "text/html": [
       " View run at <a href='https://wandb.ai/nickwkt/Food-11/runs/vezoxjs2' target=\"_blank\">https://wandb.ai/nickwkt/Food-11/runs/vezoxjs2</a>"
      ],
      "text/plain": [
       "<IPython.core.display.HTML object>"
      ]
     },
     "metadata": {},
     "output_type": "display_data"
    },
    {
     "name": "stderr",
     "output_type": "stream",
     "text": [
      "T: 001/300: 100%|█| 78/78 [00:18<00:00,  4.13it/s, lr=0.0004, b_loss=2.03, b_acc\n"
     ]
    },
    {
     "name": "stdout",
     "output_type": "stream",
     "text": [
      "[ Train | 001/300 ] loss = 2.12503, acc = 0.24713\n"
     ]
    },
    {
     "name": "stderr",
     "output_type": "stream",
     "text": [
      "V: 001/300: 100%|██████| 26/26 [00:04<00:00,  5.30it/s, v_loss=2.1, v_acc=0.273]\n"
     ]
    },
    {
     "name": "stdout",
     "output_type": "stream",
     "text": [
      "[ Valid | 001/300 ] loss = 2.09640, acc = 0.27255\n",
      "[ Valid | 001/300 ] loss = 2.09640, acc = 0.27255 -> best\n",
      "Best model found at fold 1 epoch 1, acc=0.27255, saving model\n"
     ]
    },
    {
     "name": "stderr",
     "output_type": "stream",
     "text": [
      "T: 002/300: 100%|█| 78/78 [00:17<00:00,  4.44it/s, lr=0.000398, b_loss=1.86, b_a\n"
     ]
    },
    {
     "name": "stdout",
     "output_type": "stream",
     "text": [
      "[ Train | 002/300 ] loss = 1.96007, acc = 0.31028\n"
     ]
    },
    {
     "name": "stderr",
     "output_type": "stream",
     "text": [
      "V: 002/300: 100%|█████| 26/26 [00:04<00:00,  5.24it/s, v_loss=2.44, v_acc=0.208]\n"
     ]
    },
    {
     "name": "stdout",
     "output_type": "stream",
     "text": [
      "[ Valid | 002/300 ] loss = 2.43763, acc = 0.20762\n",
      "[ Valid | 002/300 ] loss = 2.43763, acc = 0.20762\n"
     ]
    },
    {
     "name": "stderr",
     "output_type": "stream",
     "text": [
      "T: 003/300: 100%|█| 78/78 [00:17<00:00,  4.36it/s, lr=0.00039, b_loss=1.67, b_ac\n"
     ]
    },
    {
     "name": "stdout",
     "output_type": "stream",
     "text": [
      "[ Train | 003/300 ] loss = 1.88290, acc = 0.33670\n"
     ]
    },
    {
     "name": "stderr",
     "output_type": "stream",
     "text": [
      "V: 003/300: 100%|█████| 26/26 [00:05<00:00,  4.70it/s, v_loss=2.01, v_acc=0.314]\n"
     ]
    },
    {
     "name": "stdout",
     "output_type": "stream",
     "text": [
      "[ Valid | 003/300 ] loss = 2.01070, acc = 0.31374\n",
      "[ Valid | 003/300 ] loss = 2.01070, acc = 0.31374 -> best\n",
      "Best model found at fold 1 epoch 3, acc=0.31374, saving model\n"
     ]
    },
    {
     "name": "stderr",
     "output_type": "stream",
     "text": [
      "T: 004/300: 100%|█| 78/78 [00:17<00:00,  4.34it/s, lr=0.000378, b_loss=1.79, b_a\n"
     ]
    },
    {
     "name": "stdout",
     "output_type": "stream",
     "text": [
      "[ Train | 004/300 ] loss = 1.82223, acc = 0.35798\n"
     ]
    },
    {
     "name": "stderr",
     "output_type": "stream",
     "text": [
      "V: 004/300: 100%|█████| 26/26 [00:04<00:00,  5.24it/s, v_loss=1.85, v_acc=0.354]\n"
     ]
    },
    {
     "name": "stdout",
     "output_type": "stream",
     "text": [
      "[ Valid | 004/300 ] loss = 1.84506, acc = 0.35377\n",
      "[ Valid | 004/300 ] loss = 1.84506, acc = 0.35377 -> best\n",
      "Best model found at fold 1 epoch 4, acc=0.35377, saving model\n"
     ]
    },
    {
     "name": "stderr",
     "output_type": "stream",
     "text": [
      "T: 005/300: 100%|█| 78/78 [00:18<00:00,  4.33it/s, lr=0.000362, b_loss=1.88, b_a\n"
     ]
    },
    {
     "name": "stdout",
     "output_type": "stream",
     "text": [
      "[ Train | 005/300 ] loss = 1.75903, acc = 0.38605\n"
     ]
    },
    {
     "name": "stderr",
     "output_type": "stream",
     "text": [
      "V: 005/300: 100%|█████| 26/26 [00:04<00:00,  5.38it/s, v_loss=1.69, v_acc=0.409]\n"
     ]
    },
    {
     "name": "stdout",
     "output_type": "stream",
     "text": [
      "[ Valid | 005/300 ] loss = 1.68969, acc = 0.40934\n",
      "[ Valid | 005/300 ] loss = 1.68969, acc = 0.40934 -> best\n",
      "Best model found at fold 1 epoch 5, acc=0.40934, saving model\n"
     ]
    },
    {
     "name": "stderr",
     "output_type": "stream",
     "text": [
      "T: 006/300: 100%|█| 78/78 [00:17<00:00,  4.41it/s, lr=0.000341, b_loss=1.72, b_a\n"
     ]
    },
    {
     "name": "stdout",
     "output_type": "stream",
     "text": [
      "[ Train | 006/300 ] loss = 1.68621, acc = 0.41204\n"
     ]
    },
    {
     "name": "stderr",
     "output_type": "stream",
     "text": [
      "V: 006/300: 100%|█████| 26/26 [00:05<00:00,  4.83it/s, v_loss=1.71, v_acc=0.401]\n"
     ]
    },
    {
     "name": "stdout",
     "output_type": "stream",
     "text": [
      "[ Valid | 006/300 ] loss = 1.71136, acc = 0.40064\n",
      "[ Valid | 006/300 ] loss = 1.71136, acc = 0.40064\n"
     ]
    },
    {
     "name": "stderr",
     "output_type": "stream",
     "text": [
      "T: 007/300: 100%|█| 78/78 [00:18<00:00,  4.13it/s, lr=0.000318, b_loss=1.72, b_a\n"
     ]
    },
    {
     "name": "stdout",
     "output_type": "stream",
     "text": [
      "[ Train | 007/300 ] loss = 1.64173, acc = 0.42989\n"
     ]
    },
    {
     "name": "stderr",
     "output_type": "stream",
     "text": [
      "V: 007/300: 100%|██████| 26/26 [00:05<00:00,  4.85it/s, v_loss=1.9, v_acc=0.362]\n"
     ]
    },
    {
     "name": "stdout",
     "output_type": "stream",
     "text": [
      "[ Valid | 007/300 ] loss = 1.90263, acc = 0.36218\n",
      "[ Valid | 007/300 ] loss = 1.90263, acc = 0.36218\n"
     ]
    },
    {
     "name": "stderr",
     "output_type": "stream",
     "text": [
      "T: 008/300: 100%|█| 78/78 [00:18<00:00,  4.27it/s, lr=0.000291, b_loss=1.6, b_ac\n"
     ]
    },
    {
     "name": "stdout",
     "output_type": "stream",
     "text": [
      "[ Train | 008/300 ] loss = 1.57156, acc = 0.45758\n"
     ]
    },
    {
     "name": "stderr",
     "output_type": "stream",
     "text": [
      "V: 008/300: 100%|█████| 26/26 [00:05<00:00,  4.73it/s, v_loss=1.67, v_acc=0.435]\n"
     ]
    },
    {
     "name": "stdout",
     "output_type": "stream",
     "text": [
      "[ Valid | 008/300 ] loss = 1.66957, acc = 0.43474\n",
      "[ Valid | 008/300 ] loss = 1.66957, acc = 0.43474 -> best\n",
      "Best model found at fold 1 epoch 8, acc=0.43474, saving model\n"
     ]
    },
    {
     "name": "stderr",
     "output_type": "stream",
     "text": [
      "T: 009/300: 100%|█| 78/78 [00:17<00:00,  4.37it/s, lr=0.000262, b_loss=1.42, b_a\n"
     ]
    },
    {
     "name": "stdout",
     "output_type": "stream",
     "text": [
      "[ Train | 009/300 ] loss = 1.50812, acc = 0.47762\n"
     ]
    },
    {
     "name": "stderr",
     "output_type": "stream",
     "text": [
      "V: 009/300: 100%|█████| 26/26 [00:05<00:00,  4.98it/s, v_loss=1.48, v_acc=0.493]\n"
     ]
    },
    {
     "name": "stdout",
     "output_type": "stream",
     "text": [
      "[ Valid | 009/300 ] loss = 1.48263, acc = 0.49339\n",
      "[ Valid | 009/300 ] loss = 1.48263, acc = 0.49339 -> best\n",
      "Best model found at fold 1 epoch 9, acc=0.49339, saving model\n"
     ]
    },
    {
     "name": "stderr",
     "output_type": "stream",
     "text": [
      "T: 010/300: 100%|█| 78/78 [00:17<00:00,  4.45it/s, lr=0.000231, b_loss=1.44, b_a\n"
     ]
    },
    {
     "name": "stdout",
     "output_type": "stream",
     "text": [
      "[ Train | 010/300 ] loss = 1.44693, acc = 0.49623\n"
     ]
    },
    {
     "name": "stderr",
     "output_type": "stream",
     "text": [
      "V: 010/300: 100%|█████| 26/26 [00:05<00:00,  4.94it/s, v_loss=1.48, v_acc=0.502]\n"
     ]
    },
    {
     "name": "stdout",
     "output_type": "stream",
     "text": [
      "[ Valid | 010/300 ] loss = 1.47576, acc = 0.50234\n",
      "[ Valid | 010/300 ] loss = 1.47576, acc = 0.50234 -> best\n",
      "Best model found at fold 1 epoch 10, acc=0.50234, saving model\n"
     ]
    },
    {
     "name": "stderr",
     "output_type": "stream",
     "text": [
      "T: 011/300: 100%|█| 78/78 [00:17<00:00,  4.39it/s, lr=0.0002, b_loss=1.23, b_acc\n"
     ]
    },
    {
     "name": "stdout",
     "output_type": "stream",
     "text": [
      "[ Train | 011/300 ] loss = 1.38342, acc = 0.52459\n"
     ]
    },
    {
     "name": "stderr",
     "output_type": "stream",
     "text": [
      "V: 011/300: 100%|█████| 26/26 [00:05<00:00,  4.80it/s, v_loss=1.37, v_acc=0.524]\n"
     ]
    },
    {
     "name": "stdout",
     "output_type": "stream",
     "text": [
      "[ Valid | 011/300 ] loss = 1.37059, acc = 0.52379\n",
      "[ Valid | 011/300 ] loss = 1.37059, acc = 0.52379 -> best\n",
      "Best model found at fold 1 epoch 11, acc=0.52379, saving model\n"
     ]
    },
    {
     "name": "stderr",
     "output_type": "stream",
     "text": [
      "T: 012/300: 100%|█| 78/78 [00:18<00:00,  4.29it/s, lr=0.000169, b_loss=1.41, b_a\n"
     ]
    },
    {
     "name": "stdout",
     "output_type": "stream",
     "text": [
      "[ Train | 012/300 ] loss = 1.35006, acc = 0.53333\n"
     ]
    },
    {
     "name": "stderr",
     "output_type": "stream",
     "text": [
      "V: 012/300: 100%|█████| 26/26 [00:04<00:00,  5.23it/s, v_loss=1.38, v_acc=0.521]\n"
     ]
    },
    {
     "name": "stdout",
     "output_type": "stream",
     "text": [
      "[ Valid | 012/300 ] loss = 1.37965, acc = 0.52100\n",
      "[ Valid | 012/300 ] loss = 1.37965, acc = 0.52100\n"
     ]
    },
    {
     "name": "stderr",
     "output_type": "stream",
     "text": [
      "T: 013/300: 100%|█| 78/78 [00:17<00:00,  4.44it/s, lr=0.000138, b_loss=1.2, b_ac\n"
     ]
    },
    {
     "name": "stdout",
     "output_type": "stream",
     "text": [
      "[ Train | 013/300 ] loss = 1.28593, acc = 0.55726\n"
     ]
    },
    {
     "name": "stderr",
     "output_type": "stream",
     "text": [
      "V: 013/300: 100%|█████| 26/26 [00:05<00:00,  5.10it/s, v_loss=1.38, v_acc=0.533]\n"
     ]
    },
    {
     "name": "stdout",
     "output_type": "stream",
     "text": [
      "[ Valid | 013/300 ] loss = 1.37537, acc = 0.53340\n",
      "[ Valid | 013/300 ] loss = 1.37537, acc = 0.53340 -> best\n",
      "Best model found at fold 1 epoch 13, acc=0.53340, saving model\n"
     ]
    },
    {
     "name": "stderr",
     "output_type": "stream",
     "text": [
      "T: 014/300: 100%|█| 78/78 [00:17<00:00,  4.37it/s, lr=0.000109, b_loss=1.24, b_a\n"
     ]
    },
    {
     "name": "stdout",
     "output_type": "stream",
     "text": [
      "[ Train | 014/300 ] loss = 1.24956, acc = 0.56725\n"
     ]
    },
    {
     "name": "stderr",
     "output_type": "stream",
     "text": [
      "V: 014/300: 100%|█████| 26/26 [00:04<00:00,  5.24it/s, v_loss=1.31, v_acc=0.551]\n"
     ]
    },
    {
     "name": "stdout",
     "output_type": "stream",
     "text": [
      "[ Valid | 014/300 ] loss = 1.31293, acc = 0.55092\n",
      "[ Valid | 014/300 ] loss = 1.31293, acc = 0.55092 -> best\n",
      "Best model found at fold 1 epoch 14, acc=0.55092, saving model\n"
     ]
    },
    {
     "name": "stderr",
     "output_type": "stream",
     "text": [
      "T: 015/300:  94%|▉| 73/78 [00:16<00:00,  5.69it/s, lr=8.24e-5, b_loss=1.11, b_acwandb: Network error (ReadTimeout), entering retry loop.\n",
      "T: 015/300: 100%|█| 78/78 [00:17<00:00,  4.42it/s, lr=8.24e-5, b_loss=1.36, b_ac\n"
     ]
    },
    {
     "name": "stdout",
     "output_type": "stream",
     "text": [
      "[ Train | 015/300 ] loss = 1.20564, acc = 0.58225\n"
     ]
    },
    {
     "name": "stderr",
     "output_type": "stream",
     "text": [
      "V: 015/300: 100%|█████| 26/26 [00:04<00:00,  5.48it/s, v_loss=1.25, v_acc=0.567]\n"
     ]
    },
    {
     "name": "stdout",
     "output_type": "stream",
     "text": [
      "[ Valid | 015/300 ] loss = 1.25280, acc = 0.56683\n",
      "[ Valid | 015/300 ] loss = 1.25280, acc = 0.56683 -> best\n",
      "Best model found at fold 1 epoch 15, acc=0.56683, saving model\n"
     ]
    },
    {
     "name": "stderr",
     "output_type": "stream",
     "text": [
      "T: 016/300: 100%|█| 78/78 [00:18<00:00,  4.31it/s, lr=5.86e-5, b_loss=1.22, b_ac\n"
     ]
    },
    {
     "name": "stdout",
     "output_type": "stream",
     "text": [
      "[ Train | 016/300 ] loss = 1.17625, acc = 0.59386\n"
     ]
    },
    {
     "name": "stderr",
     "output_type": "stream",
     "text": [
      "V: 016/300: 100%|██████| 26/26 [00:05<00:00,  4.80it/s, v_loss=1.2, v_acc=0.584]\n"
     ]
    },
    {
     "name": "stdout",
     "output_type": "stream",
     "text": [
      "[ Valid | 016/300 ] loss = 1.20000, acc = 0.58445\n",
      "[ Valid | 016/300 ] loss = 1.20000, acc = 0.58445 -> best\n",
      "Best model found at fold 1 epoch 16, acc=0.58445, saving model\n"
     ]
    },
    {
     "name": "stderr",
     "output_type": "stream",
     "text": [
      "T: 017/300: 100%|█| 78/78 [00:17<00:00,  4.39it/s, lr=3.82e-5, b_loss=1.16, b_ac\n"
     ]
    },
    {
     "name": "stdout",
     "output_type": "stream",
     "text": [
      "[ Train | 017/300 ] loss = 1.14263, acc = 0.60640\n"
     ]
    },
    {
     "name": "stderr",
     "output_type": "stream",
     "text": [
      "V: 017/300: 100%|█████| 26/26 [00:05<00:00,  5.03it/s, v_loss=1.11, v_acc=0.617]\n"
     ]
    },
    {
     "name": "stdout",
     "output_type": "stream",
     "text": [
      "[ Valid | 017/300 ] loss = 1.11449, acc = 0.61695\n",
      "[ Valid | 017/300 ] loss = 1.11449, acc = 0.61695 -> best\n",
      "Best model found at fold 1 epoch 17, acc=0.61695, saving model\n"
     ]
    },
    {
     "name": "stderr",
     "output_type": "stream",
     "text": [
      "T: 018/300: 100%|█| 78/78 [00:18<00:00,  4.24it/s, lr=2.18e-5, b_loss=1.22, b_ac\n"
     ]
    },
    {
     "name": "stdout",
     "output_type": "stream",
     "text": [
      "[ Train | 018/300 ] loss = 1.10672, acc = 0.61737\n"
     ]
    },
    {
     "name": "stderr",
     "output_type": "stream",
     "text": [
      "V: 018/300: 100%|█████| 26/26 [00:04<00:00,  5.21it/s, v_loss=1.07, v_acc=0.631]\n"
     ]
    },
    {
     "name": "stdout",
     "output_type": "stream",
     "text": [
      "[ Valid | 018/300 ] loss = 1.07445, acc = 0.63141\n",
      "[ Valid | 018/300 ] loss = 1.07445, acc = 0.63141 -> best\n",
      "Best model found at fold 1 epoch 18, acc=0.63141, saving model\n"
     ]
    },
    {
     "name": "stderr",
     "output_type": "stream",
     "text": [
      "T: 019/300: 100%|█| 78/78 [00:17<00:00,  4.38it/s, lr=9.79e-6, b_loss=1.33, b_ac\n"
     ]
    },
    {
     "name": "stdout",
     "output_type": "stream",
     "text": [
      "[ Train | 019/300 ] loss = 1.09046, acc = 0.62172\n"
     ]
    },
    {
     "name": "stderr",
     "output_type": "stream",
     "text": [
      "V: 019/300: 100%|█████| 26/26 [00:05<00:00,  4.99it/s, v_loss=1.07, v_acc=0.633]\n"
     ]
    },
    {
     "name": "stdout",
     "output_type": "stream",
     "text": [
      "[ Valid | 019/300 ] loss = 1.06999, acc = 0.63265\n",
      "[ Valid | 019/300 ] loss = 1.06999, acc = 0.63265 -> best\n",
      "Best model found at fold 1 epoch 19, acc=0.63265, saving model\n"
     ]
    },
    {
     "name": "stderr",
     "output_type": "stream",
     "text": [
      "T: 020/300: 100%|█| 78/78 [00:18<00:00,  4.28it/s, lr=2.46e-6, b_loss=1.07, b_ac\n"
     ]
    },
    {
     "name": "stdout",
     "output_type": "stream",
     "text": [
      "[ Train | 020/300 ] loss = 1.08251, acc = 0.62548\n"
     ]
    },
    {
     "name": "stderr",
     "output_type": "stream",
     "text": [
      "V: 020/300: 100%|█████| 26/26 [00:05<00:00,  5.12it/s, v_loss=1.07, v_acc=0.624]\n"
     ]
    },
    {
     "name": "stdout",
     "output_type": "stream",
     "text": [
      "[ Valid | 020/300 ] loss = 1.07198, acc = 0.62389\n",
      "[ Valid | 020/300 ] loss = 1.07198, acc = 0.62389\n"
     ]
    },
    {
     "name": "stderr",
     "output_type": "stream",
     "text": [
      "T: 021/300: 100%|█| 78/78 [00:17<00:00,  4.37it/s, lr=0.0004, b_loss=1.43, b_acc\n"
     ]
    },
    {
     "name": "stdout",
     "output_type": "stream",
     "text": [
      "[ Train | 021/300 ] loss = 1.35728, acc = 0.53348\n"
     ]
    },
    {
     "name": "stderr",
     "output_type": "stream",
     "text": [
      "V: 021/300: 100%|██████| 26/26 [00:04<00:00,  5.25it/s, v_loss=1.79, v_acc=0.44]\n"
     ]
    },
    {
     "name": "stdout",
     "output_type": "stream",
     "text": [
      "[ Valid | 021/300 ] loss = 1.79004, acc = 0.44016\n",
      "[ Valid | 021/300 ] loss = 1.79004, acc = 0.44016\n"
     ]
    },
    {
     "name": "stderr",
     "output_type": "stream",
     "text": [
      "T: 022/300: 100%|█| 78/78 [00:18<00:00,  4.33it/s, lr=0.000398, b_loss=1.44, b_a\n"
     ]
    },
    {
     "name": "stdout",
     "output_type": "stream",
     "text": [
      "[ Train | 022/300 ] loss = 1.32455, acc = 0.54520\n"
     ]
    },
    {
     "name": "stderr",
     "output_type": "stream",
     "text": [
      "V: 022/300: 100%|█████| 26/26 [00:05<00:00,  5.08it/s, v_loss=2.14, v_acc=0.359]\n"
     ]
    },
    {
     "name": "stdout",
     "output_type": "stream",
     "text": [
      "[ Valid | 022/300 ] loss = 2.13911, acc = 0.35893\n",
      "[ Valid | 022/300 ] loss = 2.13911, acc = 0.35893\n"
     ]
    },
    {
     "name": "stderr",
     "output_type": "stream",
     "text": [
      "T: 023/300: 100%|█| 78/78 [00:17<00:00,  4.44it/s, lr=0.00039, b_loss=1.27, b_ac\n"
     ]
    },
    {
     "name": "stdout",
     "output_type": "stream",
     "text": [
      "[ Train | 023/300 ] loss = 1.29559, acc = 0.55435\n"
     ]
    },
    {
     "name": "stderr",
     "output_type": "stream",
     "text": [
      "V: 023/300: 100%|█████| 26/26 [00:04<00:00,  5.45it/s, v_loss=1.28, v_acc=0.552]\n"
     ]
    },
    {
     "name": "stdout",
     "output_type": "stream",
     "text": [
      "[ Valid | 023/300 ] loss = 1.28426, acc = 0.55177\n",
      "[ Valid | 023/300 ] loss = 1.28426, acc = 0.55177\n"
     ]
    },
    {
     "name": "stderr",
     "output_type": "stream",
     "text": [
      "T: 024/300: 100%|█| 78/78 [00:18<00:00,  4.23it/s, lr=0.000378, b_loss=1.33, b_a\n"
     ]
    },
    {
     "name": "stdout",
     "output_type": "stream",
     "text": [
      "[ Train | 024/300 ] loss = 1.24528, acc = 0.56995\n"
     ]
    },
    {
     "name": "stderr",
     "output_type": "stream",
     "text": [
      "V: 024/300: 100%|█████| 26/26 [00:05<00:00,  4.97it/s, v_loss=1.31, v_acc=0.545]\n"
     ]
    },
    {
     "name": "stdout",
     "output_type": "stream",
     "text": [
      "[ Valid | 024/300 ] loss = 1.31098, acc = 0.54478\n",
      "[ Valid | 024/300 ] loss = 1.31098, acc = 0.54478\n"
     ]
    },
    {
     "name": "stderr",
     "output_type": "stream",
     "text": [
      "T: 025/300: 100%|█| 78/78 [00:17<00:00,  4.34it/s, lr=0.000362, b_loss=1.04, b_a\n"
     ]
    },
    {
     "name": "stdout",
     "output_type": "stream",
     "text": [
      "[ Train | 025/300 ] loss = 1.23041, acc = 0.57630\n"
     ]
    },
    {
     "name": "stderr",
     "output_type": "stream",
     "text": [
      "V: 025/300: 100%|█████| 26/26 [00:05<00:00,  5.01it/s, v_loss=1.38, v_acc=0.535]\n"
     ]
    },
    {
     "name": "stdout",
     "output_type": "stream",
     "text": [
      "[ Valid | 025/300 ] loss = 1.38455, acc = 0.53511\n",
      "[ Valid | 025/300 ] loss = 1.38455, acc = 0.53511\n"
     ]
    },
    {
     "name": "stderr",
     "output_type": "stream",
     "text": [
      "T: 026/300: 100%|█| 78/78 [00:18<00:00,  4.18it/s, lr=0.000341, b_loss=1.29, b_a\n"
     ]
    },
    {
     "name": "stdout",
     "output_type": "stream",
     "text": [
      "[ Train | 026/300 ] loss = 1.19198, acc = 0.59102\n"
     ]
    },
    {
     "name": "stderr",
     "output_type": "stream",
     "text": [
      "V: 026/300: 100%|█████| 26/26 [00:05<00:00,  4.76it/s, v_loss=1.25, v_acc=0.564]\n"
     ]
    },
    {
     "name": "stdout",
     "output_type": "stream",
     "text": [
      "[ Valid | 026/300 ] loss = 1.25339, acc = 0.56427\n",
      "[ Valid | 026/300 ] loss = 1.25339, acc = 0.56427\n"
     ]
    },
    {
     "name": "stderr",
     "output_type": "stream",
     "text": [
      "T: 027/300: 100%|█| 78/78 [00:18<00:00,  4.32it/s, lr=0.000318, b_loss=1.19, b_a\n"
     ]
    },
    {
     "name": "stdout",
     "output_type": "stream",
     "text": [
      "[ Train | 027/300 ] loss = 1.15227, acc = 0.60777\n"
     ]
    },
    {
     "name": "stderr",
     "output_type": "stream",
     "text": [
      "V: 027/300: 100%|█████| 26/26 [00:05<00:00,  5.18it/s, v_loss=1.39, v_acc=0.532]\n"
     ]
    },
    {
     "name": "stdout",
     "output_type": "stream",
     "text": [
      "[ Valid | 027/300 ] loss = 1.38940, acc = 0.53218\n",
      "[ Valid | 027/300 ] loss = 1.38940, acc = 0.53218\n"
     ]
    },
    {
     "name": "stderr",
     "output_type": "stream",
     "text": [
      "T: 028/300: 100%|█| 78/78 [00:18<00:00,  4.32it/s, lr=0.000291, b_loss=1.09, b_a\n"
     ]
    },
    {
     "name": "stdout",
     "output_type": "stream",
     "text": [
      "[ Train | 028/300 ] loss = 1.10316, acc = 0.61843\n"
     ]
    },
    {
     "name": "stderr",
     "output_type": "stream",
     "text": [
      "V: 028/300: 100%|█████| 26/26 [00:05<00:00,  4.97it/s, v_loss=1.13, v_acc=0.612]\n"
     ]
    },
    {
     "name": "stdout",
     "output_type": "stream",
     "text": [
      "[ Valid | 028/300 ] loss = 1.13135, acc = 0.61224\n",
      "[ Valid | 028/300 ] loss = 1.13135, acc = 0.61224\n"
     ]
    },
    {
     "name": "stderr",
     "output_type": "stream",
     "text": [
      "T: 029/300: 100%|█| 78/78 [00:18<00:00,  4.19it/s, lr=0.000262, b_loss=0.939, b_\n"
     ]
    },
    {
     "name": "stdout",
     "output_type": "stream",
     "text": [
      "[ Train | 029/300 ] loss = 1.07726, acc = 0.62818\n"
     ]
    },
    {
     "name": "stderr",
     "output_type": "stream",
     "text": [
      "V: 029/300: 100%|█████| 26/26 [00:05<00:00,  5.02it/s, v_loss=1.42, v_acc=0.534]\n"
     ]
    },
    {
     "name": "stdout",
     "output_type": "stream",
     "text": [
      "[ Valid | 029/300 ] loss = 1.42168, acc = 0.53369\n",
      "[ Valid | 029/300 ] loss = 1.42168, acc = 0.53369\n"
     ]
    },
    {
     "name": "stderr",
     "output_type": "stream",
     "text": [
      "T: 030/300: 100%|█| 78/78 [00:18<00:00,  4.32it/s, lr=0.000231, b_loss=1.03, b_a\n"
     ]
    },
    {
     "name": "stdout",
     "output_type": "stream",
     "text": [
      "[ Train | 030/300 ] loss = 1.05724, acc = 0.63575\n"
     ]
    },
    {
     "name": "stderr",
     "output_type": "stream",
     "text": [
      "V: 030/300: 100%|█████| 26/26 [00:04<00:00,  5.23it/s, v_loss=1.12, v_acc=0.618]\n"
     ]
    },
    {
     "name": "stdout",
     "output_type": "stream",
     "text": [
      "[ Valid | 030/300 ] loss = 1.12182, acc = 0.61759\n",
      "[ Valid | 030/300 ] loss = 1.12182, acc = 0.61759\n"
     ]
    },
    {
     "name": "stderr",
     "output_type": "stream",
     "text": [
      "T: 031/300: 100%|█| 78/78 [00:17<00:00,  4.47it/s, lr=0.0002, b_loss=1.05, b_acc\n"
     ]
    },
    {
     "name": "stdout",
     "output_type": "stream",
     "text": [
      "[ Train | 031/300 ] loss = 1.00058, acc = 0.65273\n"
     ]
    },
    {
     "name": "stderr",
     "output_type": "stream",
     "text": [
      "V: 031/300: 100%|█████| 26/26 [00:04<00:00,  5.75it/s, v_loss=1.04, v_acc=0.649]\n"
     ]
    },
    {
     "name": "stdout",
     "output_type": "stream",
     "text": [
      "[ Valid | 031/300 ] loss = 1.04056, acc = 0.64858\n",
      "[ Valid | 031/300 ] loss = 1.04056, acc = 0.64858 -> best\n",
      "Best model found at fold 1 epoch 31, acc=0.64858, saving model\n"
     ]
    },
    {
     "name": "stderr",
     "output_type": "stream",
     "text": [
      "T: 032/300: 100%|█| 78/78 [00:18<00:00,  4.33it/s, lr=0.000169, b_loss=0.897, b_\n"
     ]
    },
    {
     "name": "stdout",
     "output_type": "stream",
     "text": [
      "[ Train | 032/300 ] loss = 0.99861, acc = 0.65691\n"
     ]
    },
    {
     "name": "stderr",
     "output_type": "stream",
     "text": [
      "V: 032/300: 100%|█████| 26/26 [00:04<00:00,  5.34it/s, v_loss=1.19, v_acc=0.611]\n"
     ]
    },
    {
     "name": "stdout",
     "output_type": "stream",
     "text": [
      "[ Valid | 032/300 ] loss = 1.18750, acc = 0.61105\n",
      "[ Valid | 032/300 ] loss = 1.18750, acc = 0.61105\n"
     ]
    },
    {
     "name": "stderr",
     "output_type": "stream",
     "text": [
      "T: 033/300: 100%|█| 78/78 [00:18<00:00,  4.29it/s, lr=0.000138, b_loss=0.894, b_\n"
     ]
    },
    {
     "name": "stdout",
     "output_type": "stream",
     "text": [
      "[ Train | 033/300 ] loss = 0.95899, acc = 0.67142\n"
     ]
    },
    {
     "name": "stderr",
     "output_type": "stream",
     "text": [
      "V: 033/300: 100%|█████| 26/26 [00:04<00:00,  5.36it/s, v_loss=1.17, v_acc=0.611]\n"
     ]
    },
    {
     "name": "stdout",
     "output_type": "stream",
     "text": [
      "[ Valid | 033/300 ] loss = 1.16880, acc = 0.61097\n",
      "[ Valid | 033/300 ] loss = 1.16880, acc = 0.61097\n"
     ]
    },
    {
     "name": "stderr",
     "output_type": "stream",
     "text": [
      "T: 034/300: 100%|█| 78/78 [00:17<00:00,  4.43it/s, lr=0.000109, b_loss=0.801, b_\n"
     ]
    },
    {
     "name": "stdout",
     "output_type": "stream",
     "text": [
      "[ Train | 034/300 ] loss = 0.92947, acc = 0.67677\n"
     ]
    },
    {
     "name": "stderr",
     "output_type": "stream",
     "text": [
      "V: 034/300: 100%|█████| 26/26 [00:05<00:00,  5.03it/s, v_loss=0.971, v_acc=0.66]\n"
     ]
    },
    {
     "name": "stdout",
     "output_type": "stream",
     "text": [
      "[ Valid | 034/300 ] loss = 0.97112, acc = 0.66033\n",
      "[ Valid | 034/300 ] loss = 0.97112, acc = 0.66033 -> best\n",
      "Best model found at fold 1 epoch 34, acc=0.66033, saving model\n"
     ]
    },
    {
     "name": "stderr",
     "output_type": "stream",
     "text": [
      "T: 035/300: 100%|█| 78/78 [00:17<00:00,  4.41it/s, lr=8.24e-5, b_loss=0.879, b_a\n"
     ]
    },
    {
     "name": "stdout",
     "output_type": "stream",
     "text": [
      "[ Train | 035/300 ] loss = 0.88978, acc = 0.69636\n"
     ]
    },
    {
     "name": "stderr",
     "output_type": "stream",
     "text": [
      "V: 035/300: 100%|████| 26/26 [00:04<00:00,  5.37it/s, v_loss=0.958, v_acc=0.671]\n"
     ]
    },
    {
     "name": "stdout",
     "output_type": "stream",
     "text": [
      "[ Valid | 035/300 ] loss = 0.95767, acc = 0.67141\n",
      "[ Valid | 035/300 ] loss = 0.95767, acc = 0.67141 -> best\n",
      "Best model found at fold 1 epoch 35, acc=0.67141, saving model\n"
     ]
    },
    {
     "name": "stderr",
     "output_type": "stream",
     "text": [
      "T: 036/300: 100%|█| 78/78 [00:18<00:00,  4.15it/s, lr=5.86e-5, b_loss=0.803, b_a\n"
     ]
    },
    {
     "name": "stdout",
     "output_type": "stream",
     "text": [
      "[ Train | 036/300 ] loss = 0.87782, acc = 0.69677\n"
     ]
    },
    {
     "name": "stderr",
     "output_type": "stream",
     "text": [
      "V: 036/300: 100%|█████| 26/26 [00:05<00:00,  4.59it/s, v_loss=0.92, v_acc=0.691]\n"
     ]
    },
    {
     "name": "stdout",
     "output_type": "stream",
     "text": [
      "[ Valid | 036/300 ] loss = 0.92023, acc = 0.69073\n",
      "[ Valid | 036/300 ] loss = 0.92023, acc = 0.69073 -> best\n",
      "Best model found at fold 1 epoch 36, acc=0.69073, saving model\n"
     ]
    },
    {
     "name": "stderr",
     "output_type": "stream",
     "text": [
      "T: 037/300: 100%|█| 78/78 [00:17<00:00,  4.37it/s, lr=3.82e-5, b_loss=0.911, b_a\n"
     ]
    },
    {
     "name": "stdout",
     "output_type": "stream",
     "text": [
      "[ Train | 037/300 ] loss = 0.85151, acc = 0.70862\n"
     ]
    },
    {
     "name": "stderr",
     "output_type": "stream",
     "text": [
      "V: 037/300: 100%|█████| 26/26 [00:05<00:00,  4.98it/s, v_loss=0.941, v_acc=0.68]\n"
     ]
    },
    {
     "name": "stdout",
     "output_type": "stream",
     "text": [
      "[ Valid | 037/300 ] loss = 0.94113, acc = 0.68040\n",
      "[ Valid | 037/300 ] loss = 0.94113, acc = 0.68040\n"
     ]
    },
    {
     "name": "stderr",
     "output_type": "stream",
     "text": [
      "T: 038/300: 100%|█| 78/78 [00:18<00:00,  4.30it/s, lr=2.18e-5, b_loss=0.796, b_a\n"
     ]
    },
    {
     "name": "stdout",
     "output_type": "stream",
     "text": [
      "[ Train | 038/300 ] loss = 0.83415, acc = 0.71412\n"
     ]
    },
    {
     "name": "stderr",
     "output_type": "stream",
     "text": [
      "V: 038/300: 100%|████| 26/26 [00:04<00:00,  5.36it/s, v_loss=0.907, v_acc=0.691]\n"
     ]
    },
    {
     "name": "stdout",
     "output_type": "stream",
     "text": [
      "[ Valid | 038/300 ] loss = 0.90654, acc = 0.69074\n",
      "[ Valid | 038/300 ] loss = 0.90654, acc = 0.69074 -> best\n",
      "Best model found at fold 1 epoch 38, acc=0.69074, saving model\n"
     ]
    },
    {
     "name": "stderr",
     "output_type": "stream",
     "text": [
      "T: 039/300: 100%|█| 78/78 [00:17<00:00,  4.37it/s, lr=9.79e-6, b_loss=0.883, b_a\n"
     ]
    },
    {
     "name": "stdout",
     "output_type": "stream",
     "text": [
      "[ Train | 039/300 ] loss = 0.82433, acc = 0.71435\n"
     ]
    },
    {
     "name": "stderr",
     "output_type": "stream",
     "text": [
      "V: 039/300: 100%|████| 26/26 [00:05<00:00,  4.98it/s, v_loss=0.888, v_acc=0.697]\n"
     ]
    },
    {
     "name": "stdout",
     "output_type": "stream",
     "text": [
      "[ Valid | 039/300 ] loss = 0.88844, acc = 0.69653\n",
      "[ Valid | 039/300 ] loss = 0.88844, acc = 0.69653 -> best\n",
      "Best model found at fold 1 epoch 39, acc=0.69653, saving model\n"
     ]
    },
    {
     "name": "stderr",
     "output_type": "stream",
     "text": [
      "T: 040/300: 100%|█| 78/78 [00:19<00:00,  4.10it/s, lr=2.46e-6, b_loss=0.779, b_a\n"
     ]
    },
    {
     "name": "stdout",
     "output_type": "stream",
     "text": [
      "[ Train | 040/300 ] loss = 0.82614, acc = 0.71569\n"
     ]
    },
    {
     "name": "stderr",
     "output_type": "stream",
     "text": [
      "V: 040/300: 100%|████| 26/26 [00:05<00:00,  5.04it/s, v_loss=0.887, v_acc=0.694]\n"
     ]
    },
    {
     "name": "stdout",
     "output_type": "stream",
     "text": [
      "[ Valid | 040/300 ] loss = 0.88666, acc = 0.69409\n",
      "[ Valid | 040/300 ] loss = 0.88666, acc = 0.69409\n"
     ]
    },
    {
     "name": "stderr",
     "output_type": "stream",
     "text": [
      "T: 041/300: 100%|█| 78/78 [00:17<00:00,  4.46it/s, lr=0.0004, b_loss=1.16, b_acc\n"
     ]
    },
    {
     "name": "stdout",
     "output_type": "stream",
     "text": [
      "[ Train | 041/300 ] loss = 1.08531, acc = 0.62681\n"
     ]
    },
    {
     "name": "stderr",
     "output_type": "stream",
     "text": [
      "V: 041/300: 100%|██████| 26/26 [00:05<00:00,  4.94it/s, v_loss=1.47, v_acc=0.52]\n"
     ]
    },
    {
     "name": "stdout",
     "output_type": "stream",
     "text": [
      "[ Valid | 041/300 ] loss = 1.47423, acc = 0.51992\n",
      "[ Valid | 041/300 ] loss = 1.47423, acc = 0.51992\n"
     ]
    },
    {
     "name": "stderr",
     "output_type": "stream",
     "text": [
      "T: 042/300: 100%|█| 78/78 [00:17<00:00,  4.36it/s, lr=0.000398, b_loss=0.996, b_\n"
     ]
    },
    {
     "name": "stdout",
     "output_type": "stream",
     "text": [
      "[ Train | 042/300 ] loss = 1.06545, acc = 0.63688\n"
     ]
    },
    {
     "name": "stderr",
     "output_type": "stream",
     "text": [
      "V: 042/300: 100%|█████| 26/26 [00:04<00:00,  5.30it/s, v_loss=1.31, v_acc=0.558]\n"
     ]
    },
    {
     "name": "stdout",
     "output_type": "stream",
     "text": [
      "[ Valid | 042/300 ] loss = 1.31239, acc = 0.55835\n",
      "[ Valid | 042/300 ] loss = 1.31239, acc = 0.55835\n"
     ]
    },
    {
     "name": "stderr",
     "output_type": "stream",
     "text": [
      "T: 043/300: 100%|█| 78/78 [00:17<00:00,  4.43it/s, lr=0.00039, b_loss=0.977, b_a\n"
     ]
    },
    {
     "name": "stdout",
     "output_type": "stream",
     "text": [
      "[ Train | 043/300 ] loss = 1.05381, acc = 0.63083\n"
     ]
    },
    {
     "name": "stderr",
     "output_type": "stream",
     "text": [
      "V: 043/300: 100%|██████| 26/26 [00:05<00:00,  5.15it/s, v_loss=1.25, v_acc=0.58]\n"
     ]
    },
    {
     "name": "stdout",
     "output_type": "stream",
     "text": [
      "[ Valid | 043/300 ] loss = 1.25203, acc = 0.58036\n",
      "[ Valid | 043/300 ] loss = 1.25203, acc = 0.58036\n"
     ]
    },
    {
     "name": "stderr",
     "output_type": "stream",
     "text": [
      "T: 044/300: 100%|█| 78/78 [00:17<00:00,  4.41it/s, lr=0.000378, b_loss=1.16, b_a\n"
     ]
    },
    {
     "name": "stdout",
     "output_type": "stream",
     "text": [
      "[ Train | 044/300 ] loss = 1.02840, acc = 0.64324\n"
     ]
    },
    {
     "name": "stderr",
     "output_type": "stream",
     "text": [
      "V: 044/300: 100%|█████| 26/26 [00:05<00:00,  4.87it/s, v_loss=1.54, v_acc=0.521]\n"
     ]
    },
    {
     "name": "stdout",
     "output_type": "stream",
     "text": [
      "[ Valid | 044/300 ] loss = 1.54140, acc = 0.52103\n",
      "[ Valid | 044/300 ] loss = 1.54140, acc = 0.52103\n"
     ]
    },
    {
     "name": "stderr",
     "output_type": "stream",
     "text": [
      "T: 045/300: 100%|█| 78/78 [00:18<00:00,  4.29it/s, lr=0.000362, b_loss=0.984, b_\n"
     ]
    },
    {
     "name": "stdout",
     "output_type": "stream",
     "text": [
      "[ Train | 045/300 ] loss = 1.01683, acc = 0.64644\n"
     ]
    },
    {
     "name": "stderr",
     "output_type": "stream",
     "text": [
      "V: 045/300: 100%|█████| 26/26 [00:05<00:00,  4.88it/s, v_loss=1.12, v_acc=0.619]\n"
     ]
    },
    {
     "name": "stdout",
     "output_type": "stream",
     "text": [
      "[ Valid | 045/300 ] loss = 1.11865, acc = 0.61909\n",
      "[ Valid | 045/300 ] loss = 1.11865, acc = 0.61909\n"
     ]
    },
    {
     "name": "stderr",
     "output_type": "stream",
     "text": [
      "T: 046/300: 100%|█| 78/78 [00:18<00:00,  4.28it/s, lr=0.000341, b_loss=0.96, b_a\n"
     ]
    },
    {
     "name": "stdout",
     "output_type": "stream",
     "text": [
      "[ Train | 046/300 ] loss = 0.98566, acc = 0.66465\n"
     ]
    },
    {
     "name": "stderr",
     "output_type": "stream",
     "text": [
      "V: 046/300: 100%|█████| 26/26 [00:05<00:00,  4.95it/s, v_loss=1.28, v_acc=0.575]\n"
     ]
    },
    {
     "name": "stdout",
     "output_type": "stream",
     "text": [
      "[ Valid | 046/300 ] loss = 1.27664, acc = 0.57465\n",
      "[ Valid | 046/300 ] loss = 1.27664, acc = 0.57465\n"
     ]
    },
    {
     "name": "stderr",
     "output_type": "stream",
     "text": [
      "T: 047/300: 100%|█| 78/78 [00:17<00:00,  4.37it/s, lr=0.000318, b_loss=1.07, b_a\n"
     ]
    },
    {
     "name": "stdout",
     "output_type": "stream",
     "text": [
      "[ Train | 047/300 ] loss = 0.95670, acc = 0.66774\n"
     ]
    },
    {
     "name": "stderr",
     "output_type": "stream",
     "text": [
      "V: 047/300: 100%|██████| 26/26 [00:05<00:00,  5.00it/s, v_loss=1.08, v_acc=0.64]\n"
     ]
    },
    {
     "name": "stdout",
     "output_type": "stream",
     "text": [
      "[ Valid | 047/300 ] loss = 1.08350, acc = 0.63960\n",
      "[ Valid | 047/300 ] loss = 1.08350, acc = 0.63960\n"
     ]
    },
    {
     "name": "stderr",
     "output_type": "stream",
     "text": [
      "T: 048/300: 100%|█| 78/78 [00:17<00:00,  4.37it/s, lr=0.000291, b_loss=0.785, b_\n"
     ]
    },
    {
     "name": "stdout",
     "output_type": "stream",
     "text": [
      "[ Train | 048/300 ] loss = 0.93044, acc = 0.67994\n"
     ]
    },
    {
     "name": "stderr",
     "output_type": "stream",
     "text": [
      "V: 048/300: 100%|██████| 26/26 [00:04<00:00,  5.36it/s, v_loss=1.02, v_acc=0.65]\n"
     ]
    },
    {
     "name": "stdout",
     "output_type": "stream",
     "text": [
      "[ Valid | 048/300 ] loss = 1.02388, acc = 0.64987\n",
      "[ Valid | 048/300 ] loss = 1.02388, acc = 0.64987\n"
     ]
    },
    {
     "name": "stderr",
     "output_type": "stream",
     "text": [
      "T: 049/300: 100%|█| 78/78 [00:18<00:00,  4.32it/s, lr=0.000262, b_loss=0.812, b_\n"
     ]
    },
    {
     "name": "stdout",
     "output_type": "stream",
     "text": [
      "[ Train | 049/300 ] loss = 0.91275, acc = 0.69277\n"
     ]
    },
    {
     "name": "stderr",
     "output_type": "stream",
     "text": [
      "V: 049/300: 100%|█████| 26/26 [00:05<00:00,  4.86it/s, v_loss=1.12, v_acc=0.617]\n"
     ]
    },
    {
     "name": "stdout",
     "output_type": "stream",
     "text": [
      "[ Valid | 049/300 ] loss = 1.11992, acc = 0.61737\n",
      "[ Valid | 049/300 ] loss = 1.11992, acc = 0.61737\n"
     ]
    },
    {
     "name": "stderr",
     "output_type": "stream",
     "text": [
      "T: 050/300: 100%|█| 78/78 [00:18<00:00,  4.30it/s, lr=0.000231, b_loss=0.777, b_\n"
     ]
    },
    {
     "name": "stdout",
     "output_type": "stream",
     "text": [
      "[ Train | 050/300 ] loss = 0.86360, acc = 0.70452\n"
     ]
    },
    {
     "name": "stderr",
     "output_type": "stream",
     "text": [
      "V: 050/300: 100%|█████| 26/26 [00:05<00:00,  4.82it/s, v_loss=1.02, v_acc=0.656]\n"
     ]
    },
    {
     "name": "stdout",
     "output_type": "stream",
     "text": [
      "[ Valid | 050/300 ] loss = 1.02201, acc = 0.65613\n",
      "[ Valid | 050/300 ] loss = 1.02201, acc = 0.65613\n"
     ]
    },
    {
     "name": "stderr",
     "output_type": "stream",
     "text": [
      "T: 051/300: 100%|█| 78/78 [00:17<00:00,  4.36it/s, lr=0.0002, b_loss=0.97, b_acc\n"
     ]
    },
    {
     "name": "stdout",
     "output_type": "stream",
     "text": [
      "[ Train | 051/300 ] loss = 0.84611, acc = 0.70969\n"
     ]
    },
    {
     "name": "stderr",
     "output_type": "stream",
     "text": [
      "V: 051/300: 100%|█████| 26/26 [00:04<00:00,  5.21it/s, v_loss=1.11, v_acc=0.638]\n"
     ]
    },
    {
     "name": "stdout",
     "output_type": "stream",
     "text": [
      "[ Valid | 051/300 ] loss = 1.11403, acc = 0.63829\n",
      "[ Valid | 051/300 ] loss = 1.11403, acc = 0.63829\n"
     ]
    },
    {
     "name": "stderr",
     "output_type": "stream",
     "text": [
      "T: 052/300: 100%|█| 78/78 [00:19<00:00,  4.10it/s, lr=0.000169, b_loss=1.03, b_a\n"
     ]
    },
    {
     "name": "stdout",
     "output_type": "stream",
     "text": [
      "[ Train | 052/300 ] loss = 0.81545, acc = 0.71872\n"
     ]
    },
    {
     "name": "stderr",
     "output_type": "stream",
     "text": [
      "V: 052/300: 100%|████| 26/26 [00:05<00:00,  5.04it/s, v_loss=0.949, v_acc=0.685]\n"
     ]
    },
    {
     "name": "stdout",
     "output_type": "stream",
     "text": [
      "[ Valid | 052/300 ] loss = 0.94942, acc = 0.68537\n",
      "[ Valid | 052/300 ] loss = 0.94942, acc = 0.68537\n"
     ]
    },
    {
     "name": "stderr",
     "output_type": "stream",
     "text": [
      "T: 053/300: 100%|█| 78/78 [00:18<00:00,  4.29it/s, lr=0.000138, b_loss=0.683, b_\n"
     ]
    },
    {
     "name": "stdout",
     "output_type": "stream",
     "text": [
      "[ Train | 053/300 ] loss = 0.79947, acc = 0.72516\n"
     ]
    },
    {
     "name": "stderr",
     "output_type": "stream",
     "text": [
      "V: 053/300: 100%|█████| 26/26 [00:05<00:00,  4.59it/s, v_loss=1.09, v_acc=0.645]\n"
     ]
    },
    {
     "name": "stdout",
     "output_type": "stream",
     "text": [
      "[ Valid | 053/300 ] loss = 1.08596, acc = 0.64467\n",
      "[ Valid | 053/300 ] loss = 1.08596, acc = 0.64467\n"
     ]
    },
    {
     "name": "stderr",
     "output_type": "stream",
     "text": [
      "T: 054/300: 100%|█| 78/78 [00:17<00:00,  4.45it/s, lr=0.000109, b_loss=0.712, b_\n"
     ]
    },
    {
     "name": "stdout",
     "output_type": "stream",
     "text": [
      "[ Train | 054/300 ] loss = 0.77030, acc = 0.73820\n"
     ]
    },
    {
     "name": "stderr",
     "output_type": "stream",
     "text": [
      "V: 054/300: 100%|████| 26/26 [00:05<00:00,  4.88it/s, v_loss=0.874, v_acc=0.716]\n"
     ]
    },
    {
     "name": "stdout",
     "output_type": "stream",
     "text": [
      "[ Valid | 054/300 ] loss = 0.87363, acc = 0.71597\n",
      "[ Valid | 054/300 ] loss = 0.87363, acc = 0.71597 -> best\n",
      "Best model found at fold 1 epoch 54, acc=0.71597, saving model\n"
     ]
    },
    {
     "name": "stderr",
     "output_type": "stream",
     "text": [
      "T: 055/300: 100%|█| 78/78 [00:18<00:00,  4.20it/s, lr=8.24e-5, b_loss=0.828, b_a\n"
     ]
    },
    {
     "name": "stdout",
     "output_type": "stream",
     "text": [
      "[ Train | 055/300 ] loss = 0.74880, acc = 0.74246\n"
     ]
    },
    {
     "name": "stderr",
     "output_type": "stream",
     "text": [
      "V: 055/300: 100%|████| 26/26 [00:05<00:00,  5.19it/s, v_loss=0.844, v_acc=0.724]\n"
     ]
    },
    {
     "name": "stdout",
     "output_type": "stream",
     "text": [
      "[ Valid | 055/300 ] loss = 0.84393, acc = 0.72383\n",
      "[ Valid | 055/300 ] loss = 0.84393, acc = 0.72383 -> best\n",
      "Best model found at fold 1 epoch 55, acc=0.72383, saving model\n"
     ]
    },
    {
     "name": "stderr",
     "output_type": "stream",
     "text": [
      "T: 056/300: 100%|█| 78/78 [00:18<00:00,  4.22it/s, lr=5.86e-5, b_loss=0.689, b_a\n"
     ]
    },
    {
     "name": "stdout",
     "output_type": "stream",
     "text": [
      "[ Train | 056/300 ] loss = 0.72562, acc = 0.75100\n"
     ]
    },
    {
     "name": "stderr",
     "output_type": "stream",
     "text": [
      "V: 056/300: 100%|████| 26/26 [00:05<00:00,  4.55it/s, v_loss=0.847, v_acc=0.723]\n"
     ]
    },
    {
     "name": "stdout",
     "output_type": "stream",
     "text": [
      "[ Valid | 056/300 ] loss = 0.84697, acc = 0.72261\n",
      "[ Valid | 056/300 ] loss = 0.84697, acc = 0.72261\n"
     ]
    },
    {
     "name": "stderr",
     "output_type": "stream",
     "text": [
      "T: 057/300: 100%|█| 78/78 [00:18<00:00,  4.32it/s, lr=3.82e-5, b_loss=0.646, b_a\n"
     ]
    },
    {
     "name": "stdout",
     "output_type": "stream",
     "text": [
      "[ Train | 057/300 ] loss = 0.70209, acc = 0.75876\n"
     ]
    },
    {
     "name": "stderr",
     "output_type": "stream",
     "text": [
      "V: 057/300: 100%|████| 26/26 [00:05<00:00,  5.15it/s, v_loss=0.799, v_acc=0.731]\n"
     ]
    },
    {
     "name": "stdout",
     "output_type": "stream",
     "text": [
      "[ Valid | 057/300 ] loss = 0.79909, acc = 0.73138\n",
      "[ Valid | 057/300 ] loss = 0.79909, acc = 0.73138 -> best\n",
      "Best model found at fold 1 epoch 57, acc=0.73138, saving model\n"
     ]
    },
    {
     "name": "stderr",
     "output_type": "stream",
     "text": [
      "T: 058/300: 100%|█| 78/78 [00:17<00:00,  4.35it/s, lr=2.18e-5, b_loss=0.777, b_a\n"
     ]
    },
    {
     "name": "stdout",
     "output_type": "stream",
     "text": [
      "[ Train | 058/300 ] loss = 0.69775, acc = 0.76443\n"
     ]
    },
    {
     "name": "stderr",
     "output_type": "stream",
     "text": [
      "V: 058/300: 100%|████| 26/26 [00:05<00:00,  4.98it/s, v_loss=0.815, v_acc=0.732]\n"
     ]
    },
    {
     "name": "stdout",
     "output_type": "stream",
     "text": [
      "[ Valid | 058/300 ] loss = 0.81509, acc = 0.73170\n",
      "[ Valid | 058/300 ] loss = 0.81509, acc = 0.73170 -> best\n",
      "Best model found at fold 1 epoch 58, acc=0.73170, saving model\n"
     ]
    },
    {
     "name": "stderr",
     "output_type": "stream",
     "text": [
      "T: 059/300: 100%|█| 78/78 [00:18<00:00,  4.28it/s, lr=9.79e-6, b_loss=0.588, b_a\n"
     ]
    },
    {
     "name": "stdout",
     "output_type": "stream",
     "text": [
      "[ Train | 059/300 ] loss = 0.69105, acc = 0.76435\n"
     ]
    },
    {
     "name": "stderr",
     "output_type": "stream",
     "text": [
      "V: 059/300: 100%|████| 26/26 [00:05<00:00,  4.74it/s, v_loss=0.794, v_acc=0.739]\n"
     ]
    },
    {
     "name": "stdout",
     "output_type": "stream",
     "text": [
      "[ Valid | 059/300 ] loss = 0.79401, acc = 0.73854\n",
      "[ Valid | 059/300 ] loss = 0.79401, acc = 0.73854 -> best\n",
      "Best model found at fold 1 epoch 59, acc=0.73854, saving model\n"
     ]
    },
    {
     "name": "stderr",
     "output_type": "stream",
     "text": [
      "T: 060/300: 100%|█| 78/78 [00:18<00:00,  4.29it/s, lr=2.46e-6, b_loss=0.946, b_a\n"
     ]
    },
    {
     "name": "stdout",
     "output_type": "stream",
     "text": [
      "[ Train | 060/300 ] loss = 0.68508, acc = 0.76857\n"
     ]
    },
    {
     "name": "stderr",
     "output_type": "stream",
     "text": [
      "V: 060/300: 100%|█████| 26/26 [00:05<00:00,  5.09it/s, v_loss=0.792, v_acc=0.74]\n"
     ]
    },
    {
     "name": "stdout",
     "output_type": "stream",
     "text": [
      "[ Valid | 060/300 ] loss = 0.79249, acc = 0.73974\n",
      "[ Valid | 060/300 ] loss = 0.79249, acc = 0.73974 -> best\n",
      "Best model found at fold 1 epoch 60, acc=0.73974, saving model\n"
     ]
    },
    {
     "name": "stderr",
     "output_type": "stream",
     "text": [
      "T: 061/300: 100%|█| 78/78 [00:19<00:00,  4.06it/s, lr=0.0004, b_loss=1.21, b_acc\n"
     ]
    },
    {
     "name": "stdout",
     "output_type": "stream",
     "text": [
      "[ Train | 061/300 ] loss = 0.93303, acc = 0.67964\n"
     ]
    },
    {
     "name": "stderr",
     "output_type": "stream",
     "text": [
      "V: 061/300: 100%|█████| 26/26 [00:05<00:00,  5.14it/s, v_loss=1.41, v_acc=0.564]\n"
     ]
    },
    {
     "name": "stdout",
     "output_type": "stream",
     "text": [
      "[ Valid | 061/300 ] loss = 1.40784, acc = 0.56439\n",
      "[ Valid | 061/300 ] loss = 1.40784, acc = 0.56439\n"
     ]
    },
    {
     "name": "stderr",
     "output_type": "stream",
     "text": [
      "T: 062/300: 100%|█| 78/78 [00:18<00:00,  4.27it/s, lr=0.000398, b_loss=0.971, b_\n"
     ]
    },
    {
     "name": "stdout",
     "output_type": "stream",
     "text": [
      "[ Train | 062/300 ] loss = 0.92331, acc = 0.67790\n"
     ]
    },
    {
     "name": "stderr",
     "output_type": "stream",
     "text": [
      "V: 062/300: 100%|█████| 26/26 [00:05<00:00,  5.10it/s, v_loss=1.07, v_acc=0.648]\n"
     ]
    },
    {
     "name": "stdout",
     "output_type": "stream",
     "text": [
      "[ Valid | 062/300 ] loss = 1.06850, acc = 0.64802\n",
      "[ Valid | 062/300 ] loss = 1.06850, acc = 0.64802\n"
     ]
    },
    {
     "name": "stderr",
     "output_type": "stream",
     "text": [
      "T: 063/300: 100%|█| 78/78 [00:18<00:00,  4.21it/s, lr=0.00039, b_loss=0.926, b_a\n"
     ]
    },
    {
     "name": "stdout",
     "output_type": "stream",
     "text": [
      "[ Train | 063/300 ] loss = 0.89673, acc = 0.68763\n"
     ]
    },
    {
     "name": "stderr",
     "output_type": "stream",
     "text": [
      "V: 063/300: 100%|██████| 26/26 [00:04<00:00,  5.32it/s, v_loss=1.05, v_acc=0.65]\n"
     ]
    },
    {
     "name": "stdout",
     "output_type": "stream",
     "text": [
      "[ Valid | 063/300 ] loss = 1.05022, acc = 0.65012\n",
      "[ Valid | 063/300 ] loss = 1.05022, acc = 0.65012\n"
     ]
    },
    {
     "name": "stderr",
     "output_type": "stream",
     "text": [
      "T: 064/300: 100%|█| 78/78 [00:18<00:00,  4.12it/s, lr=0.000378, b_loss=0.973, b_\n"
     ]
    },
    {
     "name": "stdout",
     "output_type": "stream",
     "text": [
      "[ Train | 064/300 ] loss = 0.87895, acc = 0.69939\n"
     ]
    },
    {
     "name": "stderr",
     "output_type": "stream",
     "text": [
      "V: 064/300: 100%|█████| 26/26 [00:05<00:00,  5.18it/s, v_loss=0.985, v_acc=0.66]\n"
     ]
    },
    {
     "name": "stdout",
     "output_type": "stream",
     "text": [
      "[ Valid | 064/300 ] loss = 0.98522, acc = 0.66044\n",
      "[ Valid | 064/300 ] loss = 0.98522, acc = 0.66044\n"
     ]
    },
    {
     "name": "stderr",
     "output_type": "stream",
     "text": [
      "T: 065/300: 100%|█| 78/78 [00:18<00:00,  4.12it/s, lr=0.000362, b_loss=0.718, b_\n"
     ]
    },
    {
     "name": "stdout",
     "output_type": "stream",
     "text": [
      "[ Train | 065/300 ] loss = 0.88411, acc = 0.69761\n"
     ]
    },
    {
     "name": "stderr",
     "output_type": "stream",
     "text": [
      "V: 065/300: 100%|█████| 26/26 [00:05<00:00,  5.10it/s, v_loss=1.11, v_acc=0.628]\n"
     ]
    },
    {
     "name": "stdout",
     "output_type": "stream",
     "text": [
      "[ Valid | 065/300 ] loss = 1.10797, acc = 0.62818\n",
      "[ Valid | 065/300 ] loss = 1.10797, acc = 0.62818\n"
     ]
    },
    {
     "name": "stderr",
     "output_type": "stream",
     "text": [
      "T: 066/300: 100%|█| 78/78 [00:17<00:00,  4.34it/s, lr=0.000341, b_loss=0.831, b_\n"
     ]
    },
    {
     "name": "stdout",
     "output_type": "stream",
     "text": [
      "[ Train | 066/300 ] loss = 0.84416, acc = 0.70949\n"
     ]
    },
    {
     "name": "stderr",
     "output_type": "stream",
     "text": [
      "V: 066/300: 100%|█████| 26/26 [00:05<00:00,  4.85it/s, v_loss=1.09, v_acc=0.658]\n"
     ]
    },
    {
     "name": "stdout",
     "output_type": "stream",
     "text": [
      "[ Valid | 066/300 ] loss = 1.08540, acc = 0.65790\n",
      "[ Valid | 066/300 ] loss = 1.08540, acc = 0.65790\n"
     ]
    },
    {
     "name": "stderr",
     "output_type": "stream",
     "text": [
      "T: 067/300: 100%|█| 78/78 [00:18<00:00,  4.32it/s, lr=0.000318, b_loss=0.728, b_\n"
     ]
    },
    {
     "name": "stdout",
     "output_type": "stream",
     "text": [
      "[ Train | 067/300 ] loss = 0.83085, acc = 0.71448\n"
     ]
    },
    {
     "name": "stderr",
     "output_type": "stream",
     "text": [
      "V: 067/300: 100%|████| 26/26 [00:05<00:00,  4.65it/s, v_loss=0.926, v_acc=0.696]\n"
     ]
    },
    {
     "name": "stdout",
     "output_type": "stream",
     "text": [
      "[ Valid | 067/300 ] loss = 0.92579, acc = 0.69643\n",
      "[ Valid | 067/300 ] loss = 0.92579, acc = 0.69643\n"
     ]
    },
    {
     "name": "stderr",
     "output_type": "stream",
     "text": [
      "T: 068/300: 100%|█| 78/78 [00:18<00:00,  4.33it/s, lr=0.000291, b_loss=0.729, b_\n"
     ]
    },
    {
     "name": "stdout",
     "output_type": "stream",
     "text": [
      "[ Train | 068/300 ] loss = 0.79063, acc = 0.73166\n"
     ]
    },
    {
     "name": "stderr",
     "output_type": "stream",
     "text": [
      "V: 068/300: 100%|█████| 26/26 [00:04<00:00,  5.30it/s, v_loss=1.06, v_acc=0.648]\n"
     ]
    },
    {
     "name": "stdout",
     "output_type": "stream",
     "text": [
      "[ Valid | 068/300 ] loss = 1.06393, acc = 0.64802\n",
      "[ Valid | 068/300 ] loss = 1.06393, acc = 0.64802\n"
     ]
    },
    {
     "name": "stderr",
     "output_type": "stream",
     "text": [
      "T: 069/300: 100%|█| 78/78 [00:17<00:00,  4.44it/s, lr=0.000262, b_loss=0.961, b_\n"
     ]
    },
    {
     "name": "stdout",
     "output_type": "stream",
     "text": [
      "[ Train | 069/300 ] loss = 0.77799, acc = 0.73404\n"
     ]
    },
    {
     "name": "stderr",
     "output_type": "stream",
     "text": [
      "V: 069/300: 100%|████| 26/26 [00:05<00:00,  5.04it/s, v_loss=0.993, v_acc=0.672]\n"
     ]
    },
    {
     "name": "stdout",
     "output_type": "stream",
     "text": [
      "[ Valid | 069/300 ] loss = 0.99290, acc = 0.67182\n",
      "[ Valid | 069/300 ] loss = 0.99290, acc = 0.67182\n"
     ]
    },
    {
     "name": "stderr",
     "output_type": "stream",
     "text": [
      "T: 070/300: 100%|█| 78/78 [00:19<00:00,  4.05it/s, lr=0.000231, b_loss=0.796, b_\n"
     ]
    },
    {
     "name": "stdout",
     "output_type": "stream",
     "text": [
      "[ Train | 070/300 ] loss = 0.75081, acc = 0.74023\n"
     ]
    },
    {
     "name": "stderr",
     "output_type": "stream",
     "text": [
      "V: 070/300: 100%|█████| 26/26 [00:04<00:00,  5.21it/s, v_loss=0.974, v_acc=0.69]\n"
     ]
    },
    {
     "name": "stdout",
     "output_type": "stream",
     "text": [
      "[ Valid | 070/300 ] loss = 0.97386, acc = 0.69010\n",
      "[ Valid | 070/300 ] loss = 0.97386, acc = 0.69010\n"
     ]
    },
    {
     "name": "stderr",
     "output_type": "stream",
     "text": [
      "T: 071/300: 100%|█| 78/78 [00:16<00:00,  4.78it/s, lr=0.0002, b_loss=0.664, b_ac\n"
     ]
    },
    {
     "name": "stdout",
     "output_type": "stream",
     "text": [
      "[ Train | 071/300 ] loss = 0.73356, acc = 0.75155\n"
     ]
    },
    {
     "name": "stderr",
     "output_type": "stream",
     "text": [
      "V: 071/300: 100%|████| 26/26 [00:05<00:00,  5.09it/s, v_loss=0.993, v_acc=0.683]\n"
     ]
    },
    {
     "name": "stdout",
     "output_type": "stream",
     "text": [
      "[ Valid | 071/300 ] loss = 0.99345, acc = 0.68264\n",
      "[ Valid | 071/300 ] loss = 0.99345, acc = 0.68264\n"
     ]
    },
    {
     "name": "stderr",
     "output_type": "stream",
     "text": [
      "T: 072/300: 100%|█| 78/78 [00:17<00:00,  4.45it/s, lr=0.000169, b_loss=0.834, b_\n"
     ]
    },
    {
     "name": "stdout",
     "output_type": "stream",
     "text": [
      "[ Train | 072/300 ] loss = 0.69393, acc = 0.76443\n"
     ]
    },
    {
     "name": "stderr",
     "output_type": "stream",
     "text": [
      "V: 072/300: 100%|████| 26/26 [00:04<00:00,  5.21it/s, v_loss=0.861, v_acc=0.725]\n"
     ]
    },
    {
     "name": "stdout",
     "output_type": "stream",
     "text": [
      "[ Valid | 072/300 ] loss = 0.86094, acc = 0.72481\n",
      "[ Valid | 072/300 ] loss = 0.86094, acc = 0.72481\n"
     ]
    },
    {
     "name": "stderr",
     "output_type": "stream",
     "text": [
      "T: 073/300: 100%|█| 78/78 [00:18<00:00,  4.21it/s, lr=0.000138, b_loss=0.576, b_\n"
     ]
    },
    {
     "name": "stdout",
     "output_type": "stream",
     "text": [
      "[ Train | 073/300 ] loss = 0.68187, acc = 0.76463\n"
     ]
    },
    {
     "name": "stderr",
     "output_type": "stream",
     "text": [
      "V: 073/300: 100%|█████| 26/26 [00:05<00:00,  5.09it/s, v_loss=0.87, v_acc=0.715]\n"
     ]
    },
    {
     "name": "stdout",
     "output_type": "stream",
     "text": [
      "[ Valid | 073/300 ] loss = 0.86997, acc = 0.71450\n",
      "[ Valid | 073/300 ] loss = 0.86997, acc = 0.71450\n"
     ]
    },
    {
     "name": "stderr",
     "output_type": "stream",
     "text": [
      "T: 074/300: 100%|█| 78/78 [00:17<00:00,  4.45it/s, lr=0.000109, b_loss=0.617, b_\n"
     ]
    },
    {
     "name": "stdout",
     "output_type": "stream",
     "text": [
      "[ Train | 074/300 ] loss = 0.65487, acc = 0.77286\n"
     ]
    },
    {
     "name": "stderr",
     "output_type": "stream",
     "text": [
      "V: 074/300: 100%|████| 26/26 [00:05<00:00,  5.10it/s, v_loss=0.812, v_acc=0.736]\n"
     ]
    },
    {
     "name": "stdout",
     "output_type": "stream",
     "text": [
      "[ Valid | 074/300 ] loss = 0.81167, acc = 0.73614\n",
      "[ Valid | 074/300 ] loss = 0.81167, acc = 0.73614\n"
     ]
    },
    {
     "name": "stderr",
     "output_type": "stream",
     "text": [
      "T: 075/300: 100%|█| 78/78 [00:17<00:00,  4.39it/s, lr=8.24e-5, b_loss=0.745, b_a\n"
     ]
    },
    {
     "name": "stdout",
     "output_type": "stream",
     "text": [
      "[ Train | 075/300 ] loss = 0.63482, acc = 0.77799\n"
     ]
    },
    {
     "name": "stderr",
     "output_type": "stream",
     "text": [
      "V: 075/300: 100%|████| 26/26 [00:05<00:00,  4.92it/s, v_loss=0.768, v_acc=0.752]\n"
     ]
    },
    {
     "name": "stdout",
     "output_type": "stream",
     "text": [
      "[ Valid | 075/300 ] loss = 0.76791, acc = 0.75179\n",
      "[ Valid | 075/300 ] loss = 0.76791, acc = 0.75179 -> best\n",
      "Best model found at fold 1 epoch 75, acc=0.75179, saving model\n"
     ]
    },
    {
     "name": "stderr",
     "output_type": "stream",
     "text": [
      "T: 076/300: 100%|█| 78/78 [00:18<00:00,  4.29it/s, lr=5.86e-5, b_loss=0.731, b_a\n"
     ]
    },
    {
     "name": "stdout",
     "output_type": "stream",
     "text": [
      "[ Train | 076/300 ] loss = 0.61314, acc = 0.79279\n"
     ]
    },
    {
     "name": "stderr",
     "output_type": "stream",
     "text": [
      "V: 076/300: 100%|████| 26/26 [00:05<00:00,  5.14it/s, v_loss=0.754, v_acc=0.756]\n"
     ]
    },
    {
     "name": "stdout",
     "output_type": "stream",
     "text": [
      "[ Valid | 076/300 ] loss = 0.75385, acc = 0.75572\n",
      "[ Valid | 076/300 ] loss = 0.75385, acc = 0.75572 -> best\n",
      "Best model found at fold 1 epoch 76, acc=0.75572, saving model\n"
     ]
    },
    {
     "name": "stderr",
     "output_type": "stream",
     "text": [
      "T: 077/300: 100%|█| 78/78 [00:17<00:00,  4.35it/s, lr=3.82e-5, b_loss=0.525, b_a\n"
     ]
    },
    {
     "name": "stdout",
     "output_type": "stream",
     "text": [
      "[ Train | 077/300 ] loss = 0.58344, acc = 0.80009\n"
     ]
    },
    {
     "name": "stderr",
     "output_type": "stream",
     "text": [
      "V: 077/300: 100%|████| 26/26 [00:05<00:00,  4.67it/s, v_loss=0.738, v_acc=0.759]\n"
     ]
    },
    {
     "name": "stdout",
     "output_type": "stream",
     "text": [
      "[ Valid | 077/300 ] loss = 0.73786, acc = 0.75866\n",
      "[ Valid | 077/300 ] loss = 0.73786, acc = 0.75866 -> best\n",
      "Best model found at fold 1 epoch 77, acc=0.75866, saving model\n"
     ]
    },
    {
     "name": "stderr",
     "output_type": "stream",
     "text": [
      "T: 078/300: 100%|█| 78/78 [00:18<00:00,  4.30it/s, lr=2.18e-5, b_loss=0.515, b_a\n"
     ]
    },
    {
     "name": "stdout",
     "output_type": "stream",
     "text": [
      "[ Train | 078/300 ] loss = 0.57497, acc = 0.80242\n"
     ]
    },
    {
     "name": "stderr",
     "output_type": "stream",
     "text": [
      "V: 078/300: 100%|████| 26/26 [00:05<00:00,  5.17it/s, v_loss=0.737, v_acc=0.763]\n"
     ]
    },
    {
     "name": "stdout",
     "output_type": "stream",
     "text": [
      "[ Valid | 078/300 ] loss = 0.73667, acc = 0.76263\n",
      "[ Valid | 078/300 ] loss = 0.73667, acc = 0.76263 -> best\n",
      "Best model found at fold 1 epoch 78, acc=0.76263, saving model\n"
     ]
    },
    {
     "name": "stderr",
     "output_type": "stream",
     "text": [
      "T: 079/300: 100%|█| 78/78 [00:18<00:00,  4.32it/s, lr=9.79e-6, b_loss=0.748, b_a\n"
     ]
    },
    {
     "name": "stdout",
     "output_type": "stream",
     "text": [
      "[ Train | 079/300 ] loss = 0.57922, acc = 0.79621\n"
     ]
    },
    {
     "name": "stderr",
     "output_type": "stream",
     "text": [
      "V: 079/300: 100%|████| 26/26 [00:05<00:00,  4.45it/s, v_loss=0.734, v_acc=0.759]\n"
     ]
    },
    {
     "name": "stdout",
     "output_type": "stream",
     "text": [
      "[ Valid | 079/300 ] loss = 0.73380, acc = 0.75930\n",
      "[ Valid | 079/300 ] loss = 0.73380, acc = 0.75930\n"
     ]
    },
    {
     "name": "stderr",
     "output_type": "stream",
     "text": [
      "T: 080/300: 100%|█| 78/78 [00:17<00:00,  4.46it/s, lr=2.46e-6, b_loss=0.635, b_a\n"
     ]
    },
    {
     "name": "stdout",
     "output_type": "stream",
     "text": [
      "[ Train | 080/300 ] loss = 0.56388, acc = 0.80788\n"
     ]
    },
    {
     "name": "stderr",
     "output_type": "stream",
     "text": [
      "V: 080/300: 100%|████| 26/26 [00:04<00:00,  5.21it/s, v_loss=0.737, v_acc=0.762]\n"
     ]
    },
    {
     "name": "stdout",
     "output_type": "stream",
     "text": [
      "[ Valid | 080/300 ] loss = 0.73714, acc = 0.76179\n",
      "[ Valid | 080/300 ] loss = 0.73714, acc = 0.76179\n"
     ]
    },
    {
     "name": "stderr",
     "output_type": "stream",
     "text": [
      "T: 081/300: 100%|█| 78/78 [00:17<00:00,  4.45it/s, lr=0.0004, b_loss=0.957, b_ac\n"
     ]
    },
    {
     "name": "stdout",
     "output_type": "stream",
     "text": [
      "[ Train | 081/300 ] loss = 0.81502, acc = 0.72045\n"
     ]
    },
    {
     "name": "stderr",
     "output_type": "stream",
     "text": [
      "V: 081/300: 100%|█████| 26/26 [00:04<00:00,  5.20it/s, v_loss=1.49, v_acc=0.552]\n"
     ]
    },
    {
     "name": "stdout",
     "output_type": "stream",
     "text": [
      "[ Valid | 081/300 ] loss = 1.49495, acc = 0.55236\n",
      "[ Valid | 081/300 ] loss = 1.49495, acc = 0.55236\n"
     ]
    },
    {
     "name": "stderr",
     "output_type": "stream",
     "text": [
      "T: 082/300: 100%|█| 78/78 [00:17<00:00,  4.35it/s, lr=0.000398, b_loss=0.954, b_\n"
     ]
    },
    {
     "name": "stdout",
     "output_type": "stream",
     "text": [
      "[ Train | 082/300 ] loss = 0.82468, acc = 0.71649\n"
     ]
    },
    {
     "name": "stderr",
     "output_type": "stream",
     "text": [
      "V: 082/300: 100%|█████| 26/26 [00:05<00:00,  5.18it/s, v_loss=1.08, v_acc=0.653]\n"
     ]
    },
    {
     "name": "stdout",
     "output_type": "stream",
     "text": [
      "[ Valid | 082/300 ] loss = 1.07829, acc = 0.65252\n",
      "[ Valid | 082/300 ] loss = 1.07829, acc = 0.65252\n"
     ]
    },
    {
     "name": "stderr",
     "output_type": "stream",
     "text": [
      "T: 083/300: 100%|█| 78/78 [00:18<00:00,  4.30it/s, lr=0.00039, b_loss=0.879, b_a\n"
     ]
    },
    {
     "name": "stdout",
     "output_type": "stream",
     "text": [
      "[ Train | 083/300 ] loss = 0.79070, acc = 0.72546\n"
     ]
    },
    {
     "name": "stderr",
     "output_type": "stream",
     "text": [
      "V: 083/300: 100%|█████| 26/26 [00:05<00:00,  4.77it/s, v_loss=1.17, v_acc=0.632]\n"
     ]
    },
    {
     "name": "stdout",
     "output_type": "stream",
     "text": [
      "[ Valid | 083/300 ] loss = 1.17385, acc = 0.63150\n",
      "[ Valid | 083/300 ] loss = 1.17385, acc = 0.63150\n"
     ]
    },
    {
     "name": "stderr",
     "output_type": "stream",
     "text": [
      "T: 084/300: 100%|█| 78/78 [00:17<00:00,  4.37it/s, lr=0.000378, b_loss=0.714, b_\n"
     ]
    },
    {
     "name": "stdout",
     "output_type": "stream",
     "text": [
      "[ Train | 084/300 ] loss = 0.78795, acc = 0.73165\n"
     ]
    },
    {
     "name": "stderr",
     "output_type": "stream",
     "text": [
      "V: 084/300: 100%|█████| 26/26 [00:05<00:00,  4.71it/s, v_loss=0.912, v_acc=0.69]\n"
     ]
    },
    {
     "name": "stdout",
     "output_type": "stream",
     "text": [
      "[ Valid | 084/300 ] loss = 0.91218, acc = 0.68978\n",
      "[ Valid | 084/300 ] loss = 0.91218, acc = 0.68978\n"
     ]
    },
    {
     "name": "stderr",
     "output_type": "stream",
     "text": [
      "T: 085/300: 100%|█| 78/78 [00:17<00:00,  4.41it/s, lr=0.000362, b_loss=0.755, b_\n"
     ]
    },
    {
     "name": "stdout",
     "output_type": "stream",
     "text": [
      "[ Train | 085/300 ] loss = 0.76130, acc = 0.73691\n"
     ]
    },
    {
     "name": "stderr",
     "output_type": "stream",
     "text": [
      "V: 085/300: 100%|████| 26/26 [00:05<00:00,  4.83it/s, v_loss=0.903, v_acc=0.696]\n"
     ]
    },
    {
     "name": "stdout",
     "output_type": "stream",
     "text": [
      "[ Valid | 085/300 ] loss = 0.90276, acc = 0.69587\n",
      "[ Valid | 085/300 ] loss = 0.90276, acc = 0.69587\n"
     ]
    },
    {
     "name": "stderr",
     "output_type": "stream",
     "text": [
      "T: 086/300: 100%|█| 78/78 [00:17<00:00,  4.38it/s, lr=0.000341, b_loss=0.984, b_\n"
     ]
    },
    {
     "name": "stdout",
     "output_type": "stream",
     "text": [
      "[ Train | 086/300 ] loss = 0.73534, acc = 0.74653\n"
     ]
    },
    {
     "name": "stderr",
     "output_type": "stream",
     "text": [
      "V: 086/300: 100%|████| 26/26 [00:05<00:00,  4.66it/s, v_loss=0.905, v_acc=0.706]\n"
     ]
    },
    {
     "name": "stdout",
     "output_type": "stream",
     "text": [
      "[ Valid | 086/300 ] loss = 0.90480, acc = 0.70611\n",
      "[ Valid | 086/300 ] loss = 0.90480, acc = 0.70611\n"
     ]
    },
    {
     "name": "stderr",
     "output_type": "stream",
     "text": [
      "T: 087/300: 100%|█| 78/78 [00:17<00:00,  4.45it/s, lr=0.000318, b_loss=0.769, b_\n"
     ]
    },
    {
     "name": "stdout",
     "output_type": "stream",
     "text": [
      "[ Train | 087/300 ] loss = 0.71713, acc = 0.75397\n"
     ]
    },
    {
     "name": "stderr",
     "output_type": "stream",
     "text": [
      "V: 087/300: 100%|████| 26/26 [00:04<00:00,  5.20it/s, v_loss=0.884, v_acc=0.724]\n"
     ]
    },
    {
     "name": "stdout",
     "output_type": "stream",
     "text": [
      "[ Valid | 087/300 ] loss = 0.88416, acc = 0.72379\n",
      "[ Valid | 087/300 ] loss = 0.88416, acc = 0.72379\n"
     ]
    },
    {
     "name": "stderr",
     "output_type": "stream",
     "text": [
      "T: 088/300: 100%|█| 78/78 [00:17<00:00,  4.36it/s, lr=0.000291, b_loss=0.63, b_a\n"
     ]
    },
    {
     "name": "stdout",
     "output_type": "stream",
     "text": [
      "[ Train | 088/300 ] loss = 0.69060, acc = 0.76255\n"
     ]
    },
    {
     "name": "stderr",
     "output_type": "stream",
     "text": [
      "V: 088/300: 100%|████| 26/26 [00:04<00:00,  5.27it/s, v_loss=0.915, v_acc=0.703]\n"
     ]
    },
    {
     "name": "stdout",
     "output_type": "stream",
     "text": [
      "[ Valid | 088/300 ] loss = 0.91468, acc = 0.70329\n",
      "[ Valid | 088/300 ] loss = 0.91468, acc = 0.70329\n"
     ]
    },
    {
     "name": "stderr",
     "output_type": "stream",
     "text": [
      "T: 089/300: 100%|█| 78/78 [00:18<00:00,  4.21it/s, lr=0.000262, b_loss=0.662, b_\n"
     ]
    },
    {
     "name": "stdout",
     "output_type": "stream",
     "text": [
      "[ Train | 089/300 ] loss = 0.67693, acc = 0.76497\n"
     ]
    },
    {
     "name": "stderr",
     "output_type": "stream",
     "text": [
      "V: 089/300: 100%|█████| 26/26 [00:05<00:00,  4.97it/s, v_loss=1.08, v_acc=0.656]\n"
     ]
    },
    {
     "name": "stdout",
     "output_type": "stream",
     "text": [
      "[ Valid | 089/300 ] loss = 1.07652, acc = 0.65615\n",
      "[ Valid | 089/300 ] loss = 1.07652, acc = 0.65615\n"
     ]
    },
    {
     "name": "stderr",
     "output_type": "stream",
     "text": [
      "T: 090/300: 100%|█| 78/78 [00:18<00:00,  4.30it/s, lr=0.000231, b_loss=0.699, b_\n"
     ]
    },
    {
     "name": "stdout",
     "output_type": "stream",
     "text": [
      "[ Train | 090/300 ] loss = 0.63572, acc = 0.77797\n"
     ]
    },
    {
     "name": "stderr",
     "output_type": "stream",
     "text": [
      "V: 090/300: 100%|████| 26/26 [00:05<00:00,  5.03it/s, v_loss=0.882, v_acc=0.717]\n"
     ]
    },
    {
     "name": "stdout",
     "output_type": "stream",
     "text": [
      "[ Valid | 090/300 ] loss = 0.88244, acc = 0.71714\n",
      "[ Valid | 090/300 ] loss = 0.88244, acc = 0.71714\n"
     ]
    },
    {
     "name": "stderr",
     "output_type": "stream",
     "text": [
      "T: 091/300: 100%|█| 78/78 [00:17<00:00,  4.42it/s, lr=0.0002, b_loss=0.605, b_ac\n"
     ]
    },
    {
     "name": "stdout",
     "output_type": "stream",
     "text": [
      "[ Train | 091/300 ] loss = 0.62608, acc = 0.78898\n"
     ]
    },
    {
     "name": "stderr",
     "output_type": "stream",
     "text": [
      "V: 091/300: 100%|████| 26/26 [00:05<00:00,  4.95it/s, v_loss=0.792, v_acc=0.743]\n"
     ]
    },
    {
     "name": "stdout",
     "output_type": "stream",
     "text": [
      "[ Valid | 091/300 ] loss = 0.79172, acc = 0.74340\n",
      "[ Valid | 091/300 ] loss = 0.79172, acc = 0.74340\n"
     ]
    },
    {
     "name": "stderr",
     "output_type": "stream",
     "text": [
      "T: 092/300: 100%|█| 78/78 [00:18<00:00,  4.28it/s, lr=0.000169, b_loss=0.646, b_\n"
     ]
    },
    {
     "name": "stdout",
     "output_type": "stream",
     "text": [
      "[ Train | 092/300 ] loss = 0.59717, acc = 0.79459\n"
     ]
    },
    {
     "name": "stderr",
     "output_type": "stream",
     "text": [
      "V: 092/300: 100%|████| 26/26 [00:05<00:00,  5.06it/s, v_loss=0.818, v_acc=0.733]\n"
     ]
    },
    {
     "name": "stdout",
     "output_type": "stream",
     "text": [
      "[ Valid | 092/300 ] loss = 0.81795, acc = 0.73342\n",
      "[ Valid | 092/300 ] loss = 0.81795, acc = 0.73342\n"
     ]
    },
    {
     "name": "stderr",
     "output_type": "stream",
     "text": [
      "T: 093/300: 100%|█| 78/78 [00:18<00:00,  4.25it/s, lr=0.000138, b_loss=0.402, b_\n"
     ]
    },
    {
     "name": "stdout",
     "output_type": "stream",
     "text": [
      "[ Train | 093/300 ] loss = 0.57062, acc = 0.80775\n"
     ]
    },
    {
     "name": "stderr",
     "output_type": "stream",
     "text": [
      "V: 093/300: 100%|█████| 26/26 [00:05<00:00,  5.04it/s, v_loss=0.748, v_acc=0.76]\n"
     ]
    },
    {
     "name": "stdout",
     "output_type": "stream",
     "text": [
      "[ Valid | 093/300 ] loss = 0.74808, acc = 0.75969\n",
      "[ Valid | 093/300 ] loss = 0.74808, acc = 0.75969\n"
     ]
    },
    {
     "name": "stderr",
     "output_type": "stream",
     "text": [
      "T: 094/300: 100%|█| 78/78 [00:17<00:00,  4.38it/s, lr=0.000109, b_loss=0.51, b_a\n"
     ]
    },
    {
     "name": "stdout",
     "output_type": "stream",
     "text": [
      "[ Train | 094/300 ] loss = 0.56411, acc = 0.80718\n"
     ]
    },
    {
     "name": "stderr",
     "output_type": "stream",
     "text": [
      "V: 094/300: 100%|████| 26/26 [00:05<00:00,  5.11it/s, v_loss=0.741, v_acc=0.766]\n"
     ]
    },
    {
     "name": "stdout",
     "output_type": "stream",
     "text": [
      "[ Valid | 094/300 ] loss = 0.74136, acc = 0.76595\n",
      "[ Valid | 094/300 ] loss = 0.74136, acc = 0.76595 -> best\n",
      "Best model found at fold 1 epoch 94, acc=0.76595, saving model\n"
     ]
    },
    {
     "name": "stderr",
     "output_type": "stream",
     "text": [
      "T: 095/300: 100%|█| 78/78 [00:18<00:00,  4.32it/s, lr=8.24e-5, b_loss=0.639, b_a\n"
     ]
    },
    {
     "name": "stdout",
     "output_type": "stream",
     "text": [
      "[ Train | 095/300 ] loss = 0.52891, acc = 0.81988\n"
     ]
    },
    {
     "name": "stderr",
     "output_type": "stream",
     "text": [
      "V: 095/300: 100%|████| 26/26 [00:05<00:00,  4.94it/s, v_loss=0.747, v_acc=0.764]\n"
     ]
    },
    {
     "name": "stdout",
     "output_type": "stream",
     "text": [
      "[ Valid | 095/300 ] loss = 0.74688, acc = 0.76359\n",
      "[ Valid | 095/300 ] loss = 0.74688, acc = 0.76359\n"
     ]
    },
    {
     "name": "stderr",
     "output_type": "stream",
     "text": [
      "T: 096/300: 100%|█| 78/78 [00:18<00:00,  4.21it/s, lr=5.86e-5, b_loss=0.445, b_a\n"
     ]
    },
    {
     "name": "stdout",
     "output_type": "stream",
     "text": [
      "[ Train | 096/300 ] loss = 0.50939, acc = 0.82384\n"
     ]
    },
    {
     "name": "stderr",
     "output_type": "stream",
     "text": [
      "V: 096/300: 100%|████| 26/26 [00:04<00:00,  5.28it/s, v_loss=0.716, v_acc=0.772]\n"
     ]
    },
    {
     "name": "stdout",
     "output_type": "stream",
     "text": [
      "[ Valid | 096/300 ] loss = 0.71647, acc = 0.77196\n",
      "[ Valid | 096/300 ] loss = 0.71647, acc = 0.77196 -> best\n",
      "Best model found at fold 1 epoch 96, acc=0.77196, saving model\n"
     ]
    },
    {
     "name": "stderr",
     "output_type": "stream",
     "text": [
      "T: 097/300: 100%|█| 78/78 [00:17<00:00,  4.36it/s, lr=3.82e-5, b_loss=0.502, b_a\n"
     ]
    },
    {
     "name": "stdout",
     "output_type": "stream",
     "text": [
      "[ Train | 097/300 ] loss = 0.49163, acc = 0.82778\n"
     ]
    },
    {
     "name": "stderr",
     "output_type": "stream",
     "text": [
      "V: 097/300: 100%|████| 26/26 [00:05<00:00,  5.17it/s, v_loss=0.732, v_acc=0.769]\n"
     ]
    },
    {
     "name": "stdout",
     "output_type": "stream",
     "text": [
      "[ Valid | 097/300 ] loss = 0.73245, acc = 0.76893\n",
      "[ Valid | 097/300 ] loss = 0.73245, acc = 0.76893\n"
     ]
    },
    {
     "name": "stderr",
     "output_type": "stream",
     "text": [
      "T: 098/300: 100%|█| 78/78 [00:17<00:00,  4.39it/s, lr=2.18e-5, b_loss=0.477, b_a\n"
     ]
    },
    {
     "name": "stdout",
     "output_type": "stream",
     "text": [
      "[ Train | 098/300 ] loss = 0.47359, acc = 0.83564\n"
     ]
    },
    {
     "name": "stderr",
     "output_type": "stream",
     "text": [
      "V: 098/300: 100%|████| 26/26 [00:05<00:00,  4.92it/s, v_loss=0.707, v_acc=0.775]\n"
     ]
    },
    {
     "name": "stdout",
     "output_type": "stream",
     "text": [
      "[ Valid | 098/300 ] loss = 0.70749, acc = 0.77487\n",
      "[ Valid | 098/300 ] loss = 0.70749, acc = 0.77487 -> best\n",
      "Best model found at fold 1 epoch 98, acc=0.77487, saving model\n"
     ]
    },
    {
     "name": "stderr",
     "output_type": "stream",
     "text": [
      "T: 099/300: 100%|█| 78/78 [00:17<00:00,  4.43it/s, lr=9.79e-6, b_loss=0.539, b_a\n"
     ]
    },
    {
     "name": "stdout",
     "output_type": "stream",
     "text": [
      "[ Train | 099/300 ] loss = 0.48955, acc = 0.83118\n"
     ]
    },
    {
     "name": "stderr",
     "output_type": "stream",
     "text": [
      "V: 099/300: 100%|████| 26/26 [00:05<00:00,  5.15it/s, v_loss=0.708, v_acc=0.776]\n"
     ]
    },
    {
     "name": "stdout",
     "output_type": "stream",
     "text": [
      "[ Valid | 099/300 ] loss = 0.70818, acc = 0.77622\n",
      "[ Valid | 099/300 ] loss = 0.70818, acc = 0.77622 -> best\n",
      "Best model found at fold 1 epoch 99, acc=0.77622, saving model\n"
     ]
    },
    {
     "name": "stderr",
     "output_type": "stream",
     "text": [
      "T: 100/300: 100%|█| 78/78 [00:18<00:00,  4.16it/s, lr=2.46e-6, b_loss=0.497, b_a\n"
     ]
    },
    {
     "name": "stdout",
     "output_type": "stream",
     "text": [
      "[ Train | 100/300 ] loss = 0.46846, acc = 0.84164\n"
     ]
    },
    {
     "name": "stderr",
     "output_type": "stream",
     "text": [
      "V: 100/300: 100%|████| 26/26 [00:05<00:00,  4.77it/s, v_loss=0.705, v_acc=0.776]\n"
     ]
    },
    {
     "name": "stdout",
     "output_type": "stream",
     "text": [
      "[ Valid | 100/300 ] loss = 0.70515, acc = 0.77614\n",
      "[ Valid | 100/300 ] loss = 0.70515, acc = 0.77614\n"
     ]
    },
    {
     "name": "stderr",
     "output_type": "stream",
     "text": [
      "T: 101/300: 100%|█| 78/78 [00:17<00:00,  4.36it/s, lr=0.0004, b_loss=0.888, b_ac\n"
     ]
    },
    {
     "name": "stdout",
     "output_type": "stream",
     "text": [
      "[ Train | 101/300 ] loss = 0.71183, acc = 0.75252\n"
     ]
    },
    {
     "name": "stderr",
     "output_type": "stream",
     "text": [
      "V: 101/300: 100%|█████| 26/26 [00:05<00:00,  4.89it/s, v_loss=1.24, v_acc=0.623]\n"
     ]
    },
    {
     "name": "stdout",
     "output_type": "stream",
     "text": [
      "[ Valid | 101/300 ] loss = 1.24059, acc = 0.62332\n",
      "[ Valid | 101/300 ] loss = 1.24059, acc = 0.62332\n"
     ]
    },
    {
     "name": "stderr",
     "output_type": "stream",
     "text": [
      "T: 102/300: 100%|█| 78/78 [00:18<00:00,  4.23it/s, lr=0.000398, b_loss=0.761, b_\n"
     ]
    },
    {
     "name": "stdout",
     "output_type": "stream",
     "text": [
      "[ Train | 102/300 ] loss = 0.72710, acc = 0.75050\n"
     ]
    },
    {
     "name": "stderr",
     "output_type": "stream",
     "text": [
      "V: 102/300: 100%|███████| 26/26 [00:05<00:00,  4.73it/s, v_loss=0.94, v_acc=0.7]\n"
     ]
    },
    {
     "name": "stdout",
     "output_type": "stream",
     "text": [
      "[ Valid | 102/300 ] loss = 0.93985, acc = 0.70042\n",
      "[ Valid | 102/300 ] loss = 0.93985, acc = 0.70042\n"
     ]
    },
    {
     "name": "stderr",
     "output_type": "stream",
     "text": [
      "T: 103/300: 100%|█| 78/78 [00:17<00:00,  4.41it/s, lr=0.00039, b_loss=0.633, b_a\n"
     ]
    },
    {
     "name": "stdout",
     "output_type": "stream",
     "text": [
      "[ Train | 103/300 ] loss = 0.69252, acc = 0.75733\n"
     ]
    },
    {
     "name": "stderr",
     "output_type": "stream",
     "text": [
      "V: 103/300: 100%|█████| 26/26 [00:04<00:00,  5.24it/s, v_loss=1.12, v_acc=0.644]\n"
     ]
    },
    {
     "name": "stdout",
     "output_type": "stream",
     "text": [
      "[ Valid | 103/300 ] loss = 1.12280, acc = 0.64406\n",
      "[ Valid | 103/300 ] loss = 1.12280, acc = 0.64406\n"
     ]
    },
    {
     "name": "stderr",
     "output_type": "stream",
     "text": [
      "T: 104/300: 100%|█| 78/78 [00:18<00:00,  4.23it/s, lr=0.000378, b_loss=0.584, b_\n"
     ]
    },
    {
     "name": "stdout",
     "output_type": "stream",
     "text": [
      "[ Train | 104/300 ] loss = 0.69575, acc = 0.75980\n"
     ]
    },
    {
     "name": "stderr",
     "output_type": "stream",
     "text": [
      "V: 104/300: 100%|█████| 26/26 [00:05<00:00,  4.70it/s, v_loss=0.97, v_acc=0.695]\n"
     ]
    },
    {
     "name": "stdout",
     "output_type": "stream",
     "text": [
      "[ Valid | 104/300 ] loss = 0.97001, acc = 0.69463\n",
      "[ Valid | 104/300 ] loss = 0.97001, acc = 0.69463\n"
     ]
    },
    {
     "name": "stderr",
     "output_type": "stream",
     "text": [
      "T: 105/300: 100%|█| 78/78 [00:18<00:00,  4.33it/s, lr=0.000362, b_loss=0.669, b_\n"
     ]
    },
    {
     "name": "stdout",
     "output_type": "stream",
     "text": [
      "[ Train | 105/300 ] loss = 0.66297, acc = 0.76685\n"
     ]
    },
    {
     "name": "stderr",
     "output_type": "stream",
     "text": [
      "V: 105/300: 100%|█████| 26/26 [00:05<00:00,  4.56it/s, v_loss=1.03, v_acc=0.676]\n"
     ]
    },
    {
     "name": "stdout",
     "output_type": "stream",
     "text": [
      "[ Valid | 105/300 ] loss = 1.02960, acc = 0.67631\n",
      "[ Valid | 105/300 ] loss = 1.02960, acc = 0.67631\n"
     ]
    },
    {
     "name": "stderr",
     "output_type": "stream",
     "text": [
      "T: 106/300: 100%|█| 78/78 [00:18<00:00,  4.28it/s, lr=0.000341, b_loss=0.558, b_\n"
     ]
    },
    {
     "name": "stdout",
     "output_type": "stream",
     "text": [
      "[ Train | 106/300 ] loss = 0.64652, acc = 0.77622\n"
     ]
    },
    {
     "name": "stderr",
     "output_type": "stream",
     "text": [
      "V: 106/300: 100%|████| 26/26 [00:05<00:00,  4.41it/s, v_loss=0.952, v_acc=0.701]\n"
     ]
    },
    {
     "name": "stdout",
     "output_type": "stream",
     "text": [
      "[ Valid | 106/300 ] loss = 0.95222, acc = 0.70092\n",
      "[ Valid | 106/300 ] loss = 0.95222, acc = 0.70092\n"
     ]
    },
    {
     "name": "stderr",
     "output_type": "stream",
     "text": [
      "T: 107/300: 100%|█| 78/78 [00:17<00:00,  4.39it/s, lr=0.000318, b_loss=0.67, b_a\n"
     ]
    },
    {
     "name": "stdout",
     "output_type": "stream",
     "text": [
      "[ Train | 107/300 ] loss = 0.63285, acc = 0.78318\n"
     ]
    },
    {
     "name": "stderr",
     "output_type": "stream",
     "text": [
      "V: 107/300: 100%|████| 26/26 [00:05<00:00,  4.61it/s, v_loss=0.937, v_acc=0.706]\n"
     ]
    },
    {
     "name": "stdout",
     "output_type": "stream",
     "text": [
      "[ Valid | 107/300 ] loss = 0.93653, acc = 0.70642\n",
      "[ Valid | 107/300 ] loss = 0.93653, acc = 0.70642\n"
     ]
    },
    {
     "name": "stderr",
     "output_type": "stream",
     "text": [
      "T: 108/300: 100%|█| 78/78 [00:17<00:00,  4.34it/s, lr=0.000291, b_loss=0.834, b_\n"
     ]
    },
    {
     "name": "stdout",
     "output_type": "stream",
     "text": [
      "[ Train | 108/300 ] loss = 0.61935, acc = 0.78298\n"
     ]
    },
    {
     "name": "stderr",
     "output_type": "stream",
     "text": [
      "V: 108/300: 100%|████| 26/26 [00:04<00:00,  5.21it/s, v_loss=0.863, v_acc=0.741]\n"
     ]
    },
    {
     "name": "stdout",
     "output_type": "stream",
     "text": [
      "[ Valid | 108/300 ] loss = 0.86299, acc = 0.74100\n",
      "[ Valid | 108/300 ] loss = 0.86299, acc = 0.74100\n"
     ]
    },
    {
     "name": "stderr",
     "output_type": "stream",
     "text": [
      "T: 109/300: 100%|█| 78/78 [00:18<00:00,  4.29it/s, lr=0.000262, b_loss=0.515, b_\n"
     ]
    },
    {
     "name": "stdout",
     "output_type": "stream",
     "text": [
      "[ Train | 109/300 ] loss = 0.59606, acc = 0.79316\n"
     ]
    },
    {
     "name": "stderr",
     "output_type": "stream",
     "text": [
      "V: 109/300: 100%|████| 26/26 [00:05<00:00,  5.12it/s, v_loss=0.851, v_acc=0.721]\n"
     ]
    },
    {
     "name": "stdout",
     "output_type": "stream",
     "text": [
      "[ Valid | 109/300 ] loss = 0.85054, acc = 0.72144\n",
      "[ Valid | 109/300 ] loss = 0.85054, acc = 0.72144\n"
     ]
    },
    {
     "name": "stderr",
     "output_type": "stream",
     "text": [
      "T: 110/300: 100%|█| 78/78 [00:18<00:00,  4.16it/s, lr=0.000231, b_loss=0.453, b_\n"
     ]
    },
    {
     "name": "stdout",
     "output_type": "stream",
     "text": [
      "[ Train | 110/300 ] loss = 0.56239, acc = 0.80762\n"
     ]
    },
    {
     "name": "stderr",
     "output_type": "stream",
     "text": [
      "V: 110/300: 100%|████| 26/26 [00:04<00:00,  5.52it/s, v_loss=0.969, v_acc=0.695]\n"
     ]
    },
    {
     "name": "stdout",
     "output_type": "stream",
     "text": [
      "[ Valid | 110/300 ] loss = 0.96870, acc = 0.69520\n",
      "[ Valid | 110/300 ] loss = 0.96870, acc = 0.69520\n"
     ]
    },
    {
     "name": "stderr",
     "output_type": "stream",
     "text": [
      "T: 111/300: 100%|█| 78/78 [00:18<00:00,  4.27it/s, lr=0.0002, b_loss=0.593, b_ac\n"
     ]
    },
    {
     "name": "stdout",
     "output_type": "stream",
     "text": [
      "[ Train | 111/300 ] loss = 0.54033, acc = 0.81828\n"
     ]
    },
    {
     "name": "stderr",
     "output_type": "stream",
     "text": [
      "V: 111/300: 100%|████| 26/26 [00:05<00:00,  4.85it/s, v_loss=0.829, v_acc=0.746]\n"
     ]
    },
    {
     "name": "stdout",
     "output_type": "stream",
     "text": [
      "[ Valid | 111/300 ] loss = 0.82946, acc = 0.74619\n",
      "[ Valid | 111/300 ] loss = 0.82946, acc = 0.74619\n"
     ]
    },
    {
     "name": "stderr",
     "output_type": "stream",
     "text": [
      "T: 112/300: 100%|█| 78/78 [00:17<00:00,  4.38it/s, lr=0.000169, b_loss=0.447, b_\n"
     ]
    },
    {
     "name": "stdout",
     "output_type": "stream",
     "text": [
      "[ Train | 112/300 ] loss = 0.50926, acc = 0.82334\n"
     ]
    },
    {
     "name": "stderr",
     "output_type": "stream",
     "text": [
      "V: 112/300: 100%|█████| 26/26 [00:05<00:00,  5.14it/s, v_loss=0.83, v_acc=0.746]\n"
     ]
    },
    {
     "name": "stdout",
     "output_type": "stream",
     "text": [
      "[ Valid | 112/300 ] loss = 0.83030, acc = 0.74643\n",
      "[ Valid | 112/300 ] loss = 0.83030, acc = 0.74643\n"
     ]
    },
    {
     "name": "stderr",
     "output_type": "stream",
     "text": [
      "T: 113/300: 100%|█| 78/78 [00:17<00:00,  4.36it/s, lr=0.000138, b_loss=0.496, b_\n"
     ]
    },
    {
     "name": "stdout",
     "output_type": "stream",
     "text": [
      "[ Train | 113/300 ] loss = 0.49350, acc = 0.83351\n"
     ]
    },
    {
     "name": "stderr",
     "output_type": "stream",
     "text": [
      "V: 113/300: 100%|████| 26/26 [00:05<00:00,  5.08it/s, v_loss=0.784, v_acc=0.755]\n"
     ]
    },
    {
     "name": "stdout",
     "output_type": "stream",
     "text": [
      "[ Valid | 113/300 ] loss = 0.78352, acc = 0.75487\n",
      "[ Valid | 113/300 ] loss = 0.78352, acc = 0.75487\n"
     ]
    },
    {
     "name": "stderr",
     "output_type": "stream",
     "text": [
      "T: 114/300: 100%|█| 78/78 [00:18<00:00,  4.28it/s, lr=0.000109, b_loss=0.633, b_\n"
     ]
    },
    {
     "name": "stdout",
     "output_type": "stream",
     "text": [
      "[ Train | 114/300 ] loss = 0.48132, acc = 0.83263\n"
     ]
    },
    {
     "name": "stderr",
     "output_type": "stream",
     "text": [
      "V: 114/300: 100%|█████| 26/26 [00:05<00:00,  4.93it/s, v_loss=0.787, v_acc=0.76]\n"
     ]
    },
    {
     "name": "stdout",
     "output_type": "stream",
     "text": [
      "[ Valid | 114/300 ] loss = 0.78729, acc = 0.75969\n",
      "[ Valid | 114/300 ] loss = 0.78729, acc = 0.75969\n"
     ]
    },
    {
     "name": "stderr",
     "output_type": "stream",
     "text": [
      "T: 115/300: 100%|█| 78/78 [00:18<00:00,  4.33it/s, lr=8.24e-5, b_loss=0.552, b_a\n"
     ]
    },
    {
     "name": "stdout",
     "output_type": "stream",
     "text": [
      "[ Train | 115/300 ] loss = 0.45342, acc = 0.84316\n"
     ]
    },
    {
     "name": "stderr",
     "output_type": "stream",
     "text": [
      "V: 115/300: 100%|████| 26/26 [00:04<00:00,  5.56it/s, v_loss=0.755, v_acc=0.771]\n"
     ]
    },
    {
     "name": "stdout",
     "output_type": "stream",
     "text": [
      "[ Valid | 115/300 ] loss = 0.75508, acc = 0.77069\n",
      "[ Valid | 115/300 ] loss = 0.75508, acc = 0.77069\n"
     ]
    },
    {
     "name": "stderr",
     "output_type": "stream",
     "text": [
      "T: 116/300: 100%|█| 78/78 [00:17<00:00,  4.46it/s, lr=5.86e-5, b_loss=0.464, b_a\n"
     ]
    },
    {
     "name": "stdout",
     "output_type": "stream",
     "text": [
      "[ Train | 116/300 ] loss = 0.44142, acc = 0.85006\n"
     ]
    },
    {
     "name": "stderr",
     "output_type": "stream",
     "text": [
      "V: 116/300: 100%|█████| 26/26 [00:05<00:00,  5.16it/s, v_loss=0.775, v_acc=0.76]\n"
     ]
    },
    {
     "name": "stdout",
     "output_type": "stream",
     "text": [
      "[ Valid | 116/300 ] loss = 0.77534, acc = 0.75964\n",
      "[ Valid | 116/300 ] loss = 0.77534, acc = 0.75964\n"
     ]
    },
    {
     "name": "stderr",
     "output_type": "stream",
     "text": [
      "T: 117/300: 100%|█| 78/78 [00:17<00:00,  4.50it/s, lr=3.82e-5, b_loss=0.452, b_a\n"
     ]
    },
    {
     "name": "stdout",
     "output_type": "stream",
     "text": [
      "[ Train | 117/300 ] loss = 0.41381, acc = 0.85905\n"
     ]
    },
    {
     "name": "stderr",
     "output_type": "stream",
     "text": [
      "V: 117/300: 100%|████| 26/26 [00:04<00:00,  5.24it/s, v_loss=0.708, v_acc=0.784]\n"
     ]
    },
    {
     "name": "stdout",
     "output_type": "stream",
     "text": [
      "[ Valid | 117/300 ] loss = 0.70809, acc = 0.78373\n",
      "[ Valid | 117/300 ] loss = 0.70809, acc = 0.78373 -> best\n",
      "Best model found at fold 1 epoch 117, acc=0.78373, saving model\n"
     ]
    },
    {
     "name": "stderr",
     "output_type": "stream",
     "text": [
      "T: 118/300: 100%|█| 78/78 [00:17<00:00,  4.47it/s, lr=2.18e-5, b_loss=0.357, b_a\n"
     ]
    },
    {
     "name": "stdout",
     "output_type": "stream",
     "text": [
      "[ Train | 118/300 ] loss = 0.41279, acc = 0.85973\n"
     ]
    },
    {
     "name": "stderr",
     "output_type": "stream",
     "text": [
      "V: 118/300: 100%|████| 26/26 [00:05<00:00,  4.77it/s, v_loss=0.708, v_acc=0.783]\n"
     ]
    },
    {
     "name": "stdout",
     "output_type": "stream",
     "text": [
      "[ Valid | 118/300 ] loss = 0.70797, acc = 0.78251\n",
      "[ Valid | 118/300 ] loss = 0.70797, acc = 0.78251\n"
     ]
    },
    {
     "name": "stderr",
     "output_type": "stream",
     "text": [
      "T: 119/300: 100%|█| 78/78 [00:17<00:00,  4.36it/s, lr=9.79e-6, b_loss=0.489, b_a\n"
     ]
    },
    {
     "name": "stdout",
     "output_type": "stream",
     "text": [
      "[ Train | 119/300 ] loss = 0.39923, acc = 0.86025\n"
     ]
    },
    {
     "name": "stderr",
     "output_type": "stream",
     "text": [
      "V: 119/300: 100%|████| 26/26 [00:04<00:00,  5.51it/s, v_loss=0.702, v_acc=0.784]\n"
     ]
    },
    {
     "name": "stdout",
     "output_type": "stream",
     "text": [
      "[ Valid | 119/300 ] loss = 0.70217, acc = 0.78394\n",
      "[ Valid | 119/300 ] loss = 0.70217, acc = 0.78394 -> best\n",
      "Best model found at fold 1 epoch 119, acc=0.78394, saving model\n"
     ]
    },
    {
     "name": "stderr",
     "output_type": "stream",
     "text": [
      "T: 120/300: 100%|█| 78/78 [00:17<00:00,  4.40it/s, lr=2.46e-6, b_loss=0.432, b_a\n"
     ]
    },
    {
     "name": "stdout",
     "output_type": "stream",
     "text": [
      "[ Train | 120/300 ] loss = 0.39970, acc = 0.86189\n"
     ]
    },
    {
     "name": "stderr",
     "output_type": "stream",
     "text": [
      "V: 120/300: 100%|████| 26/26 [00:04<00:00,  5.42it/s, v_loss=0.717, v_acc=0.781]\n"
     ]
    },
    {
     "name": "stdout",
     "output_type": "stream",
     "text": [
      "[ Valid | 120/300 ] loss = 0.71700, acc = 0.78129\n",
      "[ Valid | 120/300 ] loss = 0.71700, acc = 0.78129\n"
     ]
    },
    {
     "name": "stderr",
     "output_type": "stream",
     "text": [
      "T: 121/300: 100%|█| 78/78 [00:17<00:00,  4.42it/s, lr=0.0004, b_loss=0.552, b_ac\n"
     ]
    },
    {
     "name": "stdout",
     "output_type": "stream",
     "text": [
      "[ Train | 121/300 ] loss = 0.65832, acc = 0.77220\n"
     ]
    },
    {
     "name": "stderr",
     "output_type": "stream",
     "text": [
      "V: 121/300: 100%|█████| 26/26 [00:04<00:00,  5.33it/s, v_loss=1.19, v_acc=0.658]\n"
     ]
    },
    {
     "name": "stdout",
     "output_type": "stream",
     "text": [
      "[ Valid | 121/300 ] loss = 1.18527, acc = 0.65770\n",
      "[ Valid | 121/300 ] loss = 1.18527, acc = 0.65770\n"
     ]
    },
    {
     "name": "stderr",
     "output_type": "stream",
     "text": [
      "T: 122/300: 100%|█| 78/78 [00:18<00:00,  4.33it/s, lr=0.000398, b_loss=0.619, b_\n"
     ]
    },
    {
     "name": "stdout",
     "output_type": "stream",
     "text": [
      "[ Train | 122/300 ] loss = 0.64167, acc = 0.77614\n"
     ]
    },
    {
     "name": "stderr",
     "output_type": "stream",
     "text": [
      "V: 122/300: 100%|█████| 26/26 [00:05<00:00,  4.99it/s, v_loss=1.16, v_acc=0.652]\n"
     ]
    },
    {
     "name": "stdout",
     "output_type": "stream",
     "text": [
      "[ Valid | 122/300 ] loss = 1.16036, acc = 0.65196\n",
      "[ Valid | 122/300 ] loss = 1.16036, acc = 0.65196\n"
     ]
    },
    {
     "name": "stderr",
     "output_type": "stream",
     "text": [
      "T: 123/300: 100%|█| 78/78 [00:18<00:00,  4.27it/s, lr=0.00039, b_loss=0.636, b_a\n"
     ]
    },
    {
     "name": "stdout",
     "output_type": "stream",
     "text": [
      "[ Train | 123/300 ] loss = 0.63409, acc = 0.78190\n"
     ]
    },
    {
     "name": "stderr",
     "output_type": "stream",
     "text": [
      "V: 123/300: 100%|████| 26/26 [00:04<00:00,  5.34it/s, v_loss=0.882, v_acc=0.731]\n"
     ]
    },
    {
     "name": "stdout",
     "output_type": "stream",
     "text": [
      "[ Valid | 123/300 ] loss = 0.88214, acc = 0.73136\n",
      "[ Valid | 123/300 ] loss = 0.88214, acc = 0.73136\n"
     ]
    },
    {
     "name": "stderr",
     "output_type": "stream",
     "text": [
      "T: 124/300: 100%|█| 78/78 [00:18<00:00,  4.24it/s, lr=0.000378, b_loss=0.545, b_\n"
     ]
    },
    {
     "name": "stdout",
     "output_type": "stream",
     "text": [
      "[ Train | 124/300 ] loss = 0.62839, acc = 0.78335\n"
     ]
    },
    {
     "name": "stderr",
     "output_type": "stream",
     "text": [
      "V: 124/300: 100%|█████| 26/26 [00:05<00:00,  5.13it/s, v_loss=1.13, v_acc=0.675]\n"
     ]
    },
    {
     "name": "stdout",
     "output_type": "stream",
     "text": [
      "[ Valid | 124/300 ] loss = 1.13111, acc = 0.67472\n",
      "[ Valid | 124/300 ] loss = 1.13111, acc = 0.67472\n"
     ]
    },
    {
     "name": "stderr",
     "output_type": "stream",
     "text": [
      "T: 125/300: 100%|█| 78/78 [00:17<00:00,  4.41it/s, lr=0.000362, b_loss=0.579, b_\n"
     ]
    },
    {
     "name": "stdout",
     "output_type": "stream",
     "text": [
      "[ Train | 125/300 ] loss = 0.61205, acc = 0.78939\n"
     ]
    },
    {
     "name": "stderr",
     "output_type": "stream",
     "text": [
      "V: 125/300: 100%|█████| 26/26 [00:05<00:00,  5.13it/s, v_loss=1.01, v_acc=0.703]\n"
     ]
    },
    {
     "name": "stdout",
     "output_type": "stream",
     "text": [
      "[ Valid | 125/300 ] loss = 1.00690, acc = 0.70338\n",
      "[ Valid | 125/300 ] loss = 1.00690, acc = 0.70338\n"
     ]
    },
    {
     "name": "stderr",
     "output_type": "stream",
     "text": [
      "T: 126/300: 100%|█| 78/78 [00:17<00:00,  4.48it/s, lr=0.000341, b_loss=0.715, b_\n"
     ]
    },
    {
     "name": "stdout",
     "output_type": "stream",
     "text": [
      "[ Train | 126/300 ] loss = 0.57937, acc = 0.80085\n"
     ]
    },
    {
     "name": "stderr",
     "output_type": "stream",
     "text": [
      "V: 126/300: 100%|████| 26/26 [00:04<00:00,  5.31it/s, v_loss=0.969, v_acc=0.718]\n"
     ]
    },
    {
     "name": "stdout",
     "output_type": "stream",
     "text": [
      "[ Valid | 126/300 ] loss = 0.96886, acc = 0.71840\n",
      "[ Valid | 126/300 ] loss = 0.96886, acc = 0.71840\n"
     ]
    },
    {
     "name": "stderr",
     "output_type": "stream",
     "text": [
      "T: 127/300: 100%|█| 78/78 [00:18<00:00,  4.22it/s, lr=0.000318, b_loss=0.509, b_\n"
     ]
    },
    {
     "name": "stdout",
     "output_type": "stream",
     "text": [
      "[ Train | 127/300 ] loss = 0.56452, acc = 0.80735\n"
     ]
    },
    {
     "name": "stderr",
     "output_type": "stream",
     "text": [
      "V: 127/300: 100%|████| 26/26 [00:04<00:00,  5.30it/s, v_loss=0.839, v_acc=0.738]\n"
     ]
    },
    {
     "name": "stdout",
     "output_type": "stream",
     "text": [
      "[ Valid | 127/300 ] loss = 0.83932, acc = 0.73831\n",
      "[ Valid | 127/300 ] loss = 0.83932, acc = 0.73831\n"
     ]
    },
    {
     "name": "stderr",
     "output_type": "stream",
     "text": [
      "T: 128/300: 100%|█| 78/78 [00:18<00:00,  4.31it/s, lr=0.000291, b_loss=0.637, b_\n"
     ]
    },
    {
     "name": "stdout",
     "output_type": "stream",
     "text": [
      "[ Train | 128/300 ] loss = 0.53939, acc = 0.81260\n"
     ]
    },
    {
     "name": "stderr",
     "output_type": "stream",
     "text": [
      "V: 128/300: 100%|████| 26/26 [00:05<00:00,  5.06it/s, v_loss=0.793, v_acc=0.753]\n"
     ]
    },
    {
     "name": "stdout",
     "output_type": "stream",
     "text": [
      "[ Valid | 128/300 ] loss = 0.79253, acc = 0.75305\n",
      "[ Valid | 128/300 ] loss = 0.79253, acc = 0.75305\n"
     ]
    },
    {
     "name": "stderr",
     "output_type": "stream",
     "text": [
      "T: 129/300: 100%|█| 78/78 [00:18<00:00,  4.26it/s, lr=0.000262, b_loss=0.565, b_\n"
     ]
    },
    {
     "name": "stdout",
     "output_type": "stream",
     "text": [
      "[ Train | 129/300 ] loss = 0.51071, acc = 0.82507\n"
     ]
    },
    {
     "name": "stderr",
     "output_type": "stream",
     "text": [
      "V: 129/300: 100%|████| 26/26 [00:05<00:00,  5.07it/s, v_loss=0.839, v_acc=0.743]\n"
     ]
    },
    {
     "name": "stdout",
     "output_type": "stream",
     "text": [
      "[ Valid | 129/300 ] loss = 0.83927, acc = 0.74342\n",
      "[ Valid | 129/300 ] loss = 0.83927, acc = 0.74342\n"
     ]
    },
    {
     "name": "stderr",
     "output_type": "stream",
     "text": [
      "T: 130/300: 100%|█| 78/78 [00:17<00:00,  4.44it/s, lr=0.000231, b_loss=0.547, b_\n"
     ]
    },
    {
     "name": "stdout",
     "output_type": "stream",
     "text": [
      "[ Train | 130/300 ] loss = 0.49189, acc = 0.82889\n"
     ]
    },
    {
     "name": "stderr",
     "output_type": "stream",
     "text": [
      "V: 130/300: 100%|████| 26/26 [00:04<00:00,  5.41it/s, v_loss=0.818, v_acc=0.751]\n"
     ]
    },
    {
     "name": "stdout",
     "output_type": "stream",
     "text": [
      "[ Valid | 130/300 ] loss = 0.81828, acc = 0.75081\n",
      "[ Valid | 130/300 ] loss = 0.81828, acc = 0.75081\n"
     ]
    },
    {
     "name": "stderr",
     "output_type": "stream",
     "text": [
      "T: 131/300: 100%|█| 78/78 [00:17<00:00,  4.38it/s, lr=0.0002, b_loss=0.399, b_ac\n"
     ]
    },
    {
     "name": "stdout",
     "output_type": "stream",
     "text": [
      "[ Train | 131/300 ] loss = 0.45237, acc = 0.84227\n"
     ]
    },
    {
     "name": "stderr",
     "output_type": "stream",
     "text": [
      "V: 131/300: 100%|█████| 26/26 [00:04<00:00,  5.36it/s, v_loss=1.03, v_acc=0.705]\n"
     ]
    },
    {
     "name": "stdout",
     "output_type": "stream",
     "text": [
      "[ Valid | 131/300 ] loss = 1.03359, acc = 0.70548\n",
      "[ Valid | 131/300 ] loss = 1.03359, acc = 0.70548\n"
     ]
    },
    {
     "name": "stderr",
     "output_type": "stream",
     "text": [
      "T: 132/300: 100%|█| 78/78 [00:17<00:00,  4.35it/s, lr=0.000169, b_loss=0.507, b_\n"
     ]
    },
    {
     "name": "stdout",
     "output_type": "stream",
     "text": [
      "[ Train | 132/300 ] loss = 0.45081, acc = 0.84175\n"
     ]
    },
    {
     "name": "stderr",
     "output_type": "stream",
     "text": [
      "V: 132/300: 100%|████| 26/26 [00:04<00:00,  5.22it/s, v_loss=0.824, v_acc=0.756]\n"
     ]
    },
    {
     "name": "stdout",
     "output_type": "stream",
     "text": [
      "[ Valid | 132/300 ] loss = 0.82353, acc = 0.75631\n",
      "[ Valid | 132/300 ] loss = 0.82353, acc = 0.75631\n"
     ]
    },
    {
     "name": "stderr",
     "output_type": "stream",
     "text": [
      "T: 133/300: 100%|█| 78/78 [00:17<00:00,  4.41it/s, lr=0.000138, b_loss=0.36, b_a\n"
     ]
    },
    {
     "name": "stdout",
     "output_type": "stream",
     "text": [
      "[ Train | 133/300 ] loss = 0.42878, acc = 0.85051\n"
     ]
    },
    {
     "name": "stderr",
     "output_type": "stream",
     "text": [
      "V: 133/300: 100%|████| 26/26 [00:05<00:00,  4.99it/s, v_loss=0.731, v_acc=0.771]\n"
     ]
    },
    {
     "name": "stdout",
     "output_type": "stream",
     "text": [
      "[ Valid | 133/300 ] loss = 0.73133, acc = 0.77053\n",
      "[ Valid | 133/300 ] loss = 0.73133, acc = 0.77053\n"
     ]
    },
    {
     "name": "stderr",
     "output_type": "stream",
     "text": [
      "T: 134/300: 100%|█| 78/78 [00:17<00:00,  4.51it/s, lr=0.000109, b_loss=0.481, b_\n"
     ]
    },
    {
     "name": "stdout",
     "output_type": "stream",
     "text": [
      "[ Train | 134/300 ] loss = 0.41499, acc = 0.85706\n"
     ]
    },
    {
     "name": "stderr",
     "output_type": "stream",
     "text": [
      "V: 134/300: 100%|█████| 26/26 [00:04<00:00,  5.47it/s, v_loss=0.757, v_acc=0.77]\n"
     ]
    },
    {
     "name": "stdout",
     "output_type": "stream",
     "text": [
      "[ Valid | 134/300 ] loss = 0.75703, acc = 0.77045\n",
      "[ Valid | 134/300 ] loss = 0.75703, acc = 0.77045\n"
     ]
    },
    {
     "name": "stderr",
     "output_type": "stream",
     "text": [
      "T: 135/300: 100%|█| 78/78 [00:17<00:00,  4.34it/s, lr=8.24e-5, b_loss=0.402, b_a\n"
     ]
    },
    {
     "name": "stdout",
     "output_type": "stream",
     "text": [
      "[ Train | 135/300 ] loss = 0.38743, acc = 0.86610\n"
     ]
    },
    {
     "name": "stderr",
     "output_type": "stream",
     "text": [
      "V: 135/300: 100%|████| 26/26 [00:05<00:00,  4.90it/s, v_loss=0.737, v_acc=0.777]\n"
     ]
    },
    {
     "name": "stdout",
     "output_type": "stream",
     "text": [
      "[ Valid | 135/300 ] loss = 0.73688, acc = 0.77682\n",
      "[ Valid | 135/300 ] loss = 0.73688, acc = 0.77682\n"
     ]
    },
    {
     "name": "stderr",
     "output_type": "stream",
     "text": [
      "T: 136/300: 100%|█| 78/78 [00:17<00:00,  4.48it/s, lr=5.86e-5, b_loss=0.306, b_a\n"
     ]
    },
    {
     "name": "stdout",
     "output_type": "stream",
     "text": [
      "[ Train | 136/300 ] loss = 0.37227, acc = 0.87035\n"
     ]
    },
    {
     "name": "stderr",
     "output_type": "stream",
     "text": [
      "V: 136/300: 100%|████| 26/26 [00:05<00:00,  5.08it/s, v_loss=0.728, v_acc=0.783]\n"
     ]
    },
    {
     "name": "stdout",
     "output_type": "stream",
     "text": [
      "[ Valid | 136/300 ] loss = 0.72752, acc = 0.78281\n",
      "[ Valid | 136/300 ] loss = 0.72752, acc = 0.78281\n"
     ]
    },
    {
     "name": "stderr",
     "output_type": "stream",
     "text": [
      "T: 137/300: 100%|█| 78/78 [00:17<00:00,  4.48it/s, lr=3.82e-5, b_loss=0.418, b_a\n"
     ]
    },
    {
     "name": "stdout",
     "output_type": "stream",
     "text": [
      "[ Train | 137/300 ] loss = 0.35341, acc = 0.87813\n"
     ]
    },
    {
     "name": "stderr",
     "output_type": "stream",
     "text": [
      "V: 137/300: 100%|████| 26/26 [00:05<00:00,  4.94it/s, v_loss=0.714, v_acc=0.788]\n"
     ]
    },
    {
     "name": "stdout",
     "output_type": "stream",
     "text": [
      "[ Valid | 137/300 ] loss = 0.71393, acc = 0.78798\n",
      "[ Valid | 137/300 ] loss = 0.71393, acc = 0.78798 -> best\n",
      "Best model found at fold 1 epoch 137, acc=0.78798, saving model\n"
     ]
    },
    {
     "name": "stderr",
     "output_type": "stream",
     "text": [
      "T: 138/300: 100%|█| 78/78 [00:18<00:00,  4.27it/s, lr=2.18e-5, b_loss=0.489, b_a\n"
     ]
    },
    {
     "name": "stdout",
     "output_type": "stream",
     "text": [
      "[ Train | 138/300 ] loss = 0.35201, acc = 0.88244\n"
     ]
    },
    {
     "name": "stderr",
     "output_type": "stream",
     "text": [
      "V: 138/300: 100%|█████| 26/26 [00:04<00:00,  5.53it/s, v_loss=0.704, v_acc=0.79]\n"
     ]
    },
    {
     "name": "stdout",
     "output_type": "stream",
     "text": [
      "[ Valid | 138/300 ] loss = 0.70399, acc = 0.79036\n",
      "[ Valid | 138/300 ] loss = 0.70399, acc = 0.79036 -> best\n",
      "Best model found at fold 1 epoch 138, acc=0.79036, saving model\n"
     ]
    },
    {
     "name": "stderr",
     "output_type": "stream",
     "text": [
      "T: 139/300: 100%|█| 78/78 [00:17<00:00,  4.42it/s, lr=9.79e-6, b_loss=0.392, b_a\n"
     ]
    },
    {
     "name": "stdout",
     "output_type": "stream",
     "text": [
      "[ Train | 139/300 ] loss = 0.33484, acc = 0.88721\n"
     ]
    },
    {
     "name": "stderr",
     "output_type": "stream",
     "text": [
      "V: 139/300: 100%|█████| 26/26 [00:04<00:00,  5.21it/s, v_loss=0.702, v_acc=0.79]\n"
     ]
    },
    {
     "name": "stdout",
     "output_type": "stream",
     "text": [
      "[ Valid | 139/300 ] loss = 0.70201, acc = 0.79026\n",
      "[ Valid | 139/300 ] loss = 0.70201, acc = 0.79026\n"
     ]
    },
    {
     "name": "stderr",
     "output_type": "stream",
     "text": [
      "T: 140/300: 100%|█| 78/78 [00:17<00:00,  4.38it/s, lr=2.46e-6, b_loss=0.303, b_a\n"
     ]
    },
    {
     "name": "stdout",
     "output_type": "stream",
     "text": [
      "[ Train | 140/300 ] loss = 0.33007, acc = 0.88920\n"
     ]
    },
    {
     "name": "stderr",
     "output_type": "stream",
     "text": [
      "V: 140/300: 100%|████| 26/26 [00:05<00:00,  5.08it/s, v_loss=0.704, v_acc=0.787]\n"
     ]
    },
    {
     "name": "stdout",
     "output_type": "stream",
     "text": [
      "[ Valid | 140/300 ] loss = 0.70434, acc = 0.78739\n",
      "[ Valid | 140/300 ] loss = 0.70434, acc = 0.78739\n"
     ]
    },
    {
     "name": "stderr",
     "output_type": "stream",
     "text": [
      "T: 141/300: 100%|█| 78/78 [00:18<00:00,  4.21it/s, lr=0.0004, b_loss=0.742, b_ac\n"
     ]
    },
    {
     "name": "stdout",
     "output_type": "stream",
     "text": [
      "[ Train | 141/300 ] loss = 0.58692, acc = 0.80311\n"
     ]
    },
    {
     "name": "stderr",
     "output_type": "stream",
     "text": [
      "V: 141/300: 100%|█████| 26/26 [00:05<00:00,  5.15it/s, v_loss=1.27, v_acc=0.642]\n"
     ]
    },
    {
     "name": "stdout",
     "output_type": "stream",
     "text": [
      "[ Valid | 141/300 ] loss = 1.27413, acc = 0.64174\n",
      "[ Valid | 141/300 ] loss = 1.27413, acc = 0.64174\n"
     ]
    },
    {
     "name": "stderr",
     "output_type": "stream",
     "text": [
      "T: 142/300: 100%|█| 78/78 [00:18<00:00,  4.28it/s, lr=0.000398, b_loss=0.669, b_\n"
     ]
    },
    {
     "name": "stdout",
     "output_type": "stream",
     "text": [
      "[ Train | 142/300 ] loss = 0.59833, acc = 0.79193\n"
     ]
    },
    {
     "name": "stderr",
     "output_type": "stream",
     "text": [
      "V: 142/300: 100%|████| 26/26 [00:05<00:00,  4.85it/s, v_loss=0.887, v_acc=0.725]\n"
     ]
    },
    {
     "name": "stdout",
     "output_type": "stream",
     "text": [
      "[ Valid | 142/300 ] loss = 0.88669, acc = 0.72473\n",
      "[ Valid | 142/300 ] loss = 0.88669, acc = 0.72473\n"
     ]
    },
    {
     "name": "stderr",
     "output_type": "stream",
     "text": [
      "T: 143/300: 100%|█| 78/78 [00:18<00:00,  4.22it/s, lr=0.00039, b_loss=0.483, b_a\n"
     ]
    },
    {
     "name": "stdout",
     "output_type": "stream",
     "text": [
      "[ Train | 143/300 ] loss = 0.58002, acc = 0.79907\n"
     ]
    },
    {
     "name": "stderr",
     "output_type": "stream",
     "text": [
      "V: 143/300: 100%|█████| 26/26 [00:05<00:00,  4.88it/s, v_loss=1.01, v_acc=0.711]\n"
     ]
    },
    {
     "name": "stdout",
     "output_type": "stream",
     "text": [
      "[ Valid | 143/300 ] loss = 1.00890, acc = 0.71125\n",
      "[ Valid | 143/300 ] loss = 1.00890, acc = 0.71125\n"
     ]
    },
    {
     "name": "stderr",
     "output_type": "stream",
     "text": [
      "T: 144/300: 100%|█| 78/78 [00:18<00:00,  4.31it/s, lr=0.000378, b_loss=0.621, b_\n"
     ]
    },
    {
     "name": "stdout",
     "output_type": "stream",
     "text": [
      "[ Train | 144/300 ] loss = 0.55086, acc = 0.80567\n"
     ]
    },
    {
     "name": "stderr",
     "output_type": "stream",
     "text": [
      "V: 144/300: 100%|█████| 26/26 [00:05<00:00,  4.93it/s, v_loss=1.04, v_acc=0.706]\n"
     ]
    },
    {
     "name": "stdout",
     "output_type": "stream",
     "text": [
      "[ Valid | 144/300 ] loss = 1.03924, acc = 0.70580\n",
      "[ Valid | 144/300 ] loss = 1.03924, acc = 0.70580\n"
     ]
    },
    {
     "name": "stderr",
     "output_type": "stream",
     "text": [
      "T: 145/300: 100%|█| 78/78 [00:18<00:00,  4.31it/s, lr=0.000362, b_loss=0.561, b_\n"
     ]
    },
    {
     "name": "stdout",
     "output_type": "stream",
     "text": [
      "[ Train | 145/300 ] loss = 0.52894, acc = 0.81615\n"
     ]
    },
    {
     "name": "stderr",
     "output_type": "stream",
     "text": [
      "V: 145/300: 100%|████| 26/26 [00:05<00:00,  5.07it/s, v_loss=0.848, v_acc=0.748]\n"
     ]
    },
    {
     "name": "stdout",
     "output_type": "stream",
     "text": [
      "[ Valid | 145/300 ] loss = 0.84761, acc = 0.74756\n",
      "[ Valid | 145/300 ] loss = 0.84761, acc = 0.74756\n"
     ]
    },
    {
     "name": "stderr",
     "output_type": "stream",
     "text": [
      "T: 146/300: 100%|█| 78/78 [00:17<00:00,  4.39it/s, lr=0.000341, b_loss=0.511, b_\n"
     ]
    },
    {
     "name": "stdout",
     "output_type": "stream",
     "text": [
      "[ Train | 146/300 ] loss = 0.51931, acc = 0.81868\n"
     ]
    },
    {
     "name": "stderr",
     "output_type": "stream",
     "text": [
      "V: 146/300: 100%|████| 26/26 [00:04<00:00,  5.30it/s, v_loss=0.933, v_acc=0.723]\n"
     ]
    },
    {
     "name": "stdout",
     "output_type": "stream",
     "text": [
      "[ Valid | 146/300 ] loss = 0.93277, acc = 0.72294\n",
      "[ Valid | 146/300 ] loss = 0.93277, acc = 0.72294\n"
     ]
    },
    {
     "name": "stderr",
     "output_type": "stream",
     "text": [
      "T: 147/300: 100%|█| 78/78 [00:17<00:00,  4.37it/s, lr=0.000318, b_loss=0.501, b_\n"
     ]
    },
    {
     "name": "stdout",
     "output_type": "stream",
     "text": [
      "[ Train | 147/300 ] loss = 0.49893, acc = 0.82653\n"
     ]
    },
    {
     "name": "stderr",
     "output_type": "stream",
     "text": [
      "V: 147/300: 100%|████| 26/26 [00:05<00:00,  4.57it/s, v_loss=0.986, v_acc=0.715]\n"
     ]
    },
    {
     "name": "stdout",
     "output_type": "stream",
     "text": [
      "[ Valid | 147/300 ] loss = 0.98600, acc = 0.71542\n",
      "[ Valid | 147/300 ] loss = 0.98600, acc = 0.71542\n"
     ]
    },
    {
     "name": "stderr",
     "output_type": "stream",
     "text": [
      "T: 148/300: 100%|█| 78/78 [00:18<00:00,  4.27it/s, lr=0.000291, b_loss=0.551, b_\n"
     ]
    },
    {
     "name": "stdout",
     "output_type": "stream",
     "text": [
      "[ Train | 148/300 ] loss = 0.47615, acc = 0.83361\n"
     ]
    },
    {
     "name": "stderr",
     "output_type": "stream",
     "text": [
      "V: 148/300: 100%|█████| 26/26 [00:05<00:00,  4.93it/s, v_loss=1.04, v_acc=0.706]\n"
     ]
    },
    {
     "name": "stdout",
     "output_type": "stream",
     "text": [
      "[ Valid | 148/300 ] loss = 1.03865, acc = 0.70576\n",
      "[ Valid | 148/300 ] loss = 1.03865, acc = 0.70576\n"
     ]
    },
    {
     "name": "stderr",
     "output_type": "stream",
     "text": [
      "T: 149/300: 100%|█| 78/78 [00:17<00:00,  4.35it/s, lr=0.000262, b_loss=0.528, b_\n"
     ]
    },
    {
     "name": "stdout",
     "output_type": "stream",
     "text": [
      "[ Train | 149/300 ] loss = 0.45457, acc = 0.84184\n"
     ]
    },
    {
     "name": "stderr",
     "output_type": "stream",
     "text": [
      "V: 149/300: 100%|█████| 26/26 [00:05<00:00,  4.97it/s, v_loss=0.82, v_acc=0.754]\n"
     ]
    },
    {
     "name": "stdout",
     "output_type": "stream",
     "text": [
      "[ Valid | 149/300 ] loss = 0.82010, acc = 0.75426\n",
      "[ Valid | 149/300 ] loss = 0.82010, acc = 0.75426\n"
     ]
    },
    {
     "name": "stderr",
     "output_type": "stream",
     "text": [
      "T: 150/300: 100%|█| 78/78 [00:18<00:00,  4.26it/s, lr=0.000231, b_loss=0.475, b_\n"
     ]
    },
    {
     "name": "stdout",
     "output_type": "stream",
     "text": [
      "[ Train | 150/300 ] loss = 0.43858, acc = 0.84562\n"
     ]
    },
    {
     "name": "stderr",
     "output_type": "stream",
     "text": [
      "V: 150/300: 100%|█████| 26/26 [00:04<00:00,  5.58it/s, v_loss=0.84, v_acc=0.759]\n"
     ]
    },
    {
     "name": "stdout",
     "output_type": "stream",
     "text": [
      "[ Valid | 150/300 ] loss = 0.83966, acc = 0.75896\n",
      "[ Valid | 150/300 ] loss = 0.83966, acc = 0.75896\n"
     ]
    },
    {
     "name": "stderr",
     "output_type": "stream",
     "text": [
      "T: 151/300: 100%|█| 78/78 [00:17<00:00,  4.35it/s, lr=0.0002, b_loss=0.379, b_ac\n"
     ]
    },
    {
     "name": "stdout",
     "output_type": "stream",
     "text": [
      "[ Train | 151/300 ] loss = 0.40977, acc = 0.85854\n"
     ]
    },
    {
     "name": "stderr",
     "output_type": "stream",
     "text": [
      "V: 151/300: 100%|█████| 26/26 [00:05<00:00,  4.98it/s, v_loss=0.78, v_acc=0.769]\n"
     ]
    },
    {
     "name": "stdout",
     "output_type": "stream",
     "text": [
      "[ Valid | 151/300 ] loss = 0.77996, acc = 0.76870\n",
      "[ Valid | 151/300 ] loss = 0.77996, acc = 0.76870\n"
     ]
    },
    {
     "name": "stderr",
     "output_type": "stream",
     "text": [
      "T: 152/300: 100%|█| 78/78 [00:17<00:00,  4.34it/s, lr=0.000169, b_loss=0.404, b_\n"
     ]
    },
    {
     "name": "stdout",
     "output_type": "stream",
     "text": [
      "[ Train | 152/300 ] loss = 0.38755, acc = 0.86709\n"
     ]
    },
    {
     "name": "stderr",
     "output_type": "stream",
     "text": [
      "V: 152/300: 100%|████| 26/26 [00:05<00:00,  5.12it/s, v_loss=0.811, v_acc=0.761]\n"
     ]
    },
    {
     "name": "stdout",
     "output_type": "stream",
     "text": [
      "[ Valid | 152/300 ] loss = 0.81066, acc = 0.76084\n",
      "[ Valid | 152/300 ] loss = 0.81066, acc = 0.76084\n"
     ]
    },
    {
     "name": "stderr",
     "output_type": "stream",
     "text": [
      "T: 153/300: 100%|█| 78/78 [00:18<00:00,  4.31it/s, lr=0.000138, b_loss=0.278, b_\n"
     ]
    },
    {
     "name": "stdout",
     "output_type": "stream",
     "text": [
      "[ Train | 153/300 ] loss = 0.36440, acc = 0.87386\n"
     ]
    },
    {
     "name": "stderr",
     "output_type": "stream",
     "text": [
      "V: 153/300: 100%|████| 26/26 [00:05<00:00,  4.68it/s, v_loss=0.756, v_acc=0.783]\n"
     ]
    },
    {
     "name": "stdout",
     "output_type": "stream",
     "text": [
      "[ Valid | 153/300 ] loss = 0.75614, acc = 0.78257\n",
      "[ Valid | 153/300 ] loss = 0.75614, acc = 0.78257\n"
     ]
    },
    {
     "name": "stderr",
     "output_type": "stream",
     "text": [
      "T: 154/300: 100%|█| 78/78 [00:18<00:00,  4.18it/s, lr=0.000109, b_loss=0.308, b_\n"
     ]
    },
    {
     "name": "stdout",
     "output_type": "stream",
     "text": [
      "[ Train | 154/300 ] loss = 0.34283, acc = 0.88229\n"
     ]
    },
    {
     "name": "stderr",
     "output_type": "stream",
     "text": [
      "V: 154/300: 100%|████| 26/26 [00:05<00:00,  4.91it/s, v_loss=0.755, v_acc=0.782]\n"
     ]
    },
    {
     "name": "stdout",
     "output_type": "stream",
     "text": [
      "[ Valid | 154/300 ] loss = 0.75539, acc = 0.78151\n",
      "[ Valid | 154/300 ] loss = 0.75539, acc = 0.78151\n"
     ]
    },
    {
     "name": "stderr",
     "output_type": "stream",
     "text": [
      "T: 155/300: 100%|█| 78/78 [00:18<00:00,  4.28it/s, lr=8.24e-5, b_loss=0.32, b_ac\n"
     ]
    },
    {
     "name": "stdout",
     "output_type": "stream",
     "text": [
      "[ Train | 155/300 ] loss = 0.34010, acc = 0.88400\n"
     ]
    },
    {
     "name": "stderr",
     "output_type": "stream",
     "text": [
      "V: 155/300: 100%|█████| 26/26 [00:05<00:00,  5.07it/s, v_loss=0.76, v_acc=0.781]\n"
     ]
    },
    {
     "name": "stdout",
     "output_type": "stream",
     "text": [
      "[ Valid | 155/300 ] loss = 0.76017, acc = 0.78065\n",
      "[ Valid | 155/300 ] loss = 0.76017, acc = 0.78065\n"
     ]
    },
    {
     "name": "stderr",
     "output_type": "stream",
     "text": [
      "T: 156/300: 100%|█| 78/78 [00:18<00:00,  4.29it/s, lr=5.86e-5, b_loss=0.34, b_ac\n"
     ]
    },
    {
     "name": "stdout",
     "output_type": "stream",
     "text": [
      "[ Train | 156/300 ] loss = 0.31668, acc = 0.89191\n"
     ]
    },
    {
     "name": "stderr",
     "output_type": "stream",
     "text": [
      "V: 156/300: 100%|████| 26/26 [00:05<00:00,  5.10it/s, v_loss=0.743, v_acc=0.786]\n"
     ]
    },
    {
     "name": "stdout",
     "output_type": "stream",
     "text": [
      "[ Valid | 156/300 ] loss = 0.74258, acc = 0.78575\n",
      "[ Valid | 156/300 ] loss = 0.74258, acc = 0.78575\n"
     ]
    },
    {
     "name": "stderr",
     "output_type": "stream",
     "text": [
      "T: 157/300: 100%|█| 78/78 [00:17<00:00,  4.41it/s, lr=3.82e-5, b_loss=0.355, b_a\n"
     ]
    },
    {
     "name": "stdout",
     "output_type": "stream",
     "text": [
      "[ Train | 157/300 ] loss = 0.31708, acc = 0.89157\n"
     ]
    },
    {
     "name": "stderr",
     "output_type": "stream",
     "text": [
      "V: 157/300: 100%|█████| 26/26 [00:05<00:00,  4.89it/s, v_loss=0.731, v_acc=0.79]\n"
     ]
    },
    {
     "name": "stdout",
     "output_type": "stream",
     "text": [
      "[ Valid | 157/300 ] loss = 0.73111, acc = 0.79034\n",
      "[ Valid | 157/300 ] loss = 0.73111, acc = 0.79034\n"
     ]
    },
    {
     "name": "stderr",
     "output_type": "stream",
     "text": [
      "T: 158/300: 100%|█| 78/78 [00:18<00:00,  4.26it/s, lr=2.18e-5, b_loss=0.257, b_a\n"
     ]
    },
    {
     "name": "stdout",
     "output_type": "stream",
     "text": [
      "[ Train | 158/300 ] loss = 0.28485, acc = 0.90533\n"
     ]
    },
    {
     "name": "stderr",
     "output_type": "stream",
     "text": [
      "V: 158/300: 100%|████| 26/26 [00:05<00:00,  4.71it/s, v_loss=0.712, v_acc=0.794]\n"
     ]
    },
    {
     "name": "stdout",
     "output_type": "stream",
     "text": [
      "[ Valid | 158/300 ] loss = 0.71228, acc = 0.79369\n",
      "[ Valid | 158/300 ] loss = 0.71228, acc = 0.79369 -> best\n",
      "Best model found at fold 1 epoch 158, acc=0.79369, saving model\n"
     ]
    },
    {
     "name": "stderr",
     "output_type": "stream",
     "text": [
      "T: 159/300: 100%|█| 78/78 [00:18<00:00,  4.23it/s, lr=9.79e-6, b_loss=0.424, b_a\n"
     ]
    },
    {
     "name": "stdout",
     "output_type": "stream",
     "text": [
      "[ Train | 159/300 ] loss = 0.29334, acc = 0.90208\n"
     ]
    },
    {
     "name": "stderr",
     "output_type": "stream",
     "text": [
      "V: 159/300: 100%|████| 26/26 [00:05<00:00,  4.38it/s, v_loss=0.725, v_acc=0.791]\n"
     ]
    },
    {
     "name": "stdout",
     "output_type": "stream",
     "text": [
      "[ Valid | 159/300 ] loss = 0.72512, acc = 0.79117\n",
      "[ Valid | 159/300 ] loss = 0.72512, acc = 0.79117\n"
     ]
    },
    {
     "name": "stderr",
     "output_type": "stream",
     "text": [
      "T: 160/300: 100%|█| 78/78 [00:18<00:00,  4.17it/s, lr=2.46e-6, b_loss=0.333, b_a\n"
     ]
    },
    {
     "name": "stdout",
     "output_type": "stream",
     "text": [
      "[ Train | 160/300 ] loss = 0.28510, acc = 0.90193\n"
     ]
    },
    {
     "name": "stderr",
     "output_type": "stream",
     "text": [
      "V: 160/300: 100%|████| 26/26 [00:05<00:00,  5.02it/s, v_loss=0.724, v_acc=0.791]\n"
     ]
    },
    {
     "name": "stdout",
     "output_type": "stream",
     "text": [
      "[ Valid | 160/300 ] loss = 0.72389, acc = 0.79068\n",
      "[ Valid | 160/300 ] loss = 0.72389, acc = 0.79068\n"
     ]
    },
    {
     "name": "stderr",
     "output_type": "stream",
     "text": [
      "T: 161/300: 100%|█| 78/78 [00:18<00:00,  4.33it/s, lr=0.0004, b_loss=0.425, b_ac\n"
     ]
    },
    {
     "name": "stdout",
     "output_type": "stream",
     "text": [
      "[ Train | 161/300 ] loss = 0.52295, acc = 0.82004\n"
     ]
    },
    {
     "name": "stderr",
     "output_type": "stream",
     "text": [
      "V: 161/300: 100%|█████| 26/26 [00:05<00:00,  4.67it/s, v_loss=1.31, v_acc=0.664]\n"
     ]
    },
    {
     "name": "stdout",
     "output_type": "stream",
     "text": [
      "[ Valid | 161/300 ] loss = 1.30672, acc = 0.66395\n",
      "[ Valid | 161/300 ] loss = 1.30672, acc = 0.66395\n"
     ]
    },
    {
     "name": "stderr",
     "output_type": "stream",
     "text": [
      "T: 162/300: 100%|█| 78/78 [00:17<00:00,  4.34it/s, lr=0.000398, b_loss=0.581, b_\n"
     ]
    },
    {
     "name": "stdout",
     "output_type": "stream",
     "text": [
      "[ Train | 162/300 ] loss = 0.53311, acc = 0.81586\n"
     ]
    },
    {
     "name": "stderr",
     "output_type": "stream",
     "text": [
      "V: 162/300: 100%|██████| 26/26 [00:05<00:00,  5.19it/s, v_loss=1.3, v_acc=0.668]\n"
     ]
    },
    {
     "name": "stdout",
     "output_type": "stream",
     "text": [
      "[ Valid | 162/300 ] loss = 1.30375, acc = 0.66813\n",
      "[ Valid | 162/300 ] loss = 1.30375, acc = 0.66813\n"
     ]
    },
    {
     "name": "stderr",
     "output_type": "stream",
     "text": [
      "T: 163/300: 100%|█| 78/78 [00:17<00:00,  4.47it/s, lr=0.00039, b_loss=0.615, b_a\n"
     ]
    },
    {
     "name": "stdout",
     "output_type": "stream",
     "text": [
      "[ Train | 163/300 ] loss = 0.49960, acc = 0.82778\n"
     ]
    },
    {
     "name": "stderr",
     "output_type": "stream",
     "text": [
      "V: 163/300: 100%|██████| 26/26 [00:05<00:00,  5.18it/s, v_loss=1.5, v_acc=0.598]\n"
     ]
    },
    {
     "name": "stdout",
     "output_type": "stream",
     "text": [
      "[ Valid | 163/300 ] loss = 1.50227, acc = 0.59776\n",
      "[ Valid | 163/300 ] loss = 1.50227, acc = 0.59776\n"
     ]
    },
    {
     "name": "stderr",
     "output_type": "stream",
     "text": [
      "T: 164/300: 100%|█| 78/78 [00:17<00:00,  4.37it/s, lr=0.000378, b_loss=0.475, b_\n"
     ]
    },
    {
     "name": "stdout",
     "output_type": "stream",
     "text": [
      "[ Train | 164/300 ] loss = 0.48071, acc = 0.83222\n"
     ]
    },
    {
     "name": "stderr",
     "output_type": "stream",
     "text": [
      "V: 164/300: 100%|█████| 26/26 [00:05<00:00,  5.03it/s, v_loss=1.12, v_acc=0.691]\n"
     ]
    },
    {
     "name": "stdout",
     "output_type": "stream",
     "text": [
      "[ Valid | 164/300 ] loss = 1.12489, acc = 0.69099\n",
      "[ Valid | 164/300 ] loss = 1.12489, acc = 0.69099\n"
     ]
    },
    {
     "name": "stderr",
     "output_type": "stream",
     "text": [
      "T: 165/300: 100%|█| 78/78 [00:17<00:00,  4.38it/s, lr=0.000362, b_loss=0.59, b_a\n"
     ]
    },
    {
     "name": "stdout",
     "output_type": "stream",
     "text": [
      "[ Train | 165/300 ] loss = 0.49198, acc = 0.83138\n"
     ]
    },
    {
     "name": "stderr",
     "output_type": "stream",
     "text": [
      "V: 165/300: 100%|████| 26/26 [00:05<00:00,  5.01it/s, v_loss=0.886, v_acc=0.741]\n"
     ]
    },
    {
     "name": "stdout",
     "output_type": "stream",
     "text": [
      "[ Valid | 165/300 ] loss = 0.88640, acc = 0.74058\n",
      "[ Valid | 165/300 ] loss = 0.88640, acc = 0.74058\n"
     ]
    },
    {
     "name": "stderr",
     "output_type": "stream",
     "text": [
      "T: 166/300: 100%|█| 78/78 [00:17<00:00,  4.38it/s, lr=0.000341, b_loss=0.439, b_\n"
     ]
    },
    {
     "name": "stdout",
     "output_type": "stream",
     "text": [
      "[ Train | 166/300 ] loss = 0.47463, acc = 0.83594\n"
     ]
    },
    {
     "name": "stderr",
     "output_type": "stream",
     "text": [
      "V: 166/300: 100%|████| 26/26 [00:05<00:00,  4.63it/s, v_loss=0.848, v_acc=0.758]\n"
     ]
    },
    {
     "name": "stdout",
     "output_type": "stream",
     "text": [
      "[ Valid | 166/300 ] loss = 0.84767, acc = 0.75811\n",
      "[ Valid | 166/300 ] loss = 0.84767, acc = 0.75811\n"
     ]
    },
    {
     "name": "stderr",
     "output_type": "stream",
     "text": [
      "T: 167/300: 100%|█| 78/78 [00:18<00:00,  4.24it/s, lr=0.000318, b_loss=0.523, b_\n"
     ]
    },
    {
     "name": "stdout",
     "output_type": "stream",
     "text": [
      "[ Train | 167/300 ] loss = 0.43905, acc = 0.84714\n"
     ]
    },
    {
     "name": "stderr",
     "output_type": "stream",
     "text": [
      "V: 167/300: 100%|█████| 26/26 [00:05<00:00,  5.04it/s, v_loss=0.951, v_acc=0.73]\n"
     ]
    },
    {
     "name": "stdout",
     "output_type": "stream",
     "text": [
      "[ Valid | 167/300 ] loss = 0.95093, acc = 0.73043\n",
      "[ Valid | 167/300 ] loss = 0.95093, acc = 0.73043\n"
     ]
    },
    {
     "name": "stderr",
     "output_type": "stream",
     "text": [
      "T: 168/300: 100%|█| 78/78 [00:17<00:00,  4.37it/s, lr=0.000291, b_loss=0.356, b_\n"
     ]
    },
    {
     "name": "stdout",
     "output_type": "stream",
     "text": [
      "[ Train | 168/300 ] loss = 0.41163, acc = 0.85579\n"
     ]
    },
    {
     "name": "stderr",
     "output_type": "stream",
     "text": [
      "V: 168/300: 100%|█████| 26/26 [00:05<00:00,  4.94it/s, v_loss=0.93, v_acc=0.747]\n"
     ]
    },
    {
     "name": "stdout",
     "output_type": "stream",
     "text": [
      "[ Valid | 168/300 ] loss = 0.92999, acc = 0.74675\n",
      "[ Valid | 168/300 ] loss = 0.92999, acc = 0.74675\n"
     ]
    },
    {
     "name": "stderr",
     "output_type": "stream",
     "text": [
      "T: 169/300: 100%|█| 78/78 [00:18<00:00,  4.33it/s, lr=0.000262, b_loss=0.395, b_\n"
     ]
    },
    {
     "name": "stdout",
     "output_type": "stream",
     "text": [
      "[ Train | 169/300 ] loss = 0.42353, acc = 0.85694\n"
     ]
    },
    {
     "name": "stderr",
     "output_type": "stream",
     "text": [
      "V: 169/300: 100%|████| 26/26 [00:04<00:00,  5.32it/s, v_loss=0.834, v_acc=0.764]\n"
     ]
    },
    {
     "name": "stdout",
     "output_type": "stream",
     "text": [
      "[ Valid | 169/300 ] loss = 0.83407, acc = 0.76353\n",
      "[ Valid | 169/300 ] loss = 0.83407, acc = 0.76353\n"
     ]
    },
    {
     "name": "stderr",
     "output_type": "stream",
     "text": [
      "T: 170/300: 100%|█| 78/78 [00:18<00:00,  4.31it/s, lr=0.000231, b_loss=0.396, b_\n"
     ]
    },
    {
     "name": "stdout",
     "output_type": "stream",
     "text": [
      "[ Train | 170/300 ] loss = 0.37665, acc = 0.86718\n"
     ]
    },
    {
     "name": "stderr",
     "output_type": "stream",
     "text": [
      "V: 170/300: 100%|█████| 26/26 [00:05<00:00,  4.82it/s, v_loss=0.831, v_acc=0.76]\n"
     ]
    },
    {
     "name": "stdout",
     "output_type": "stream",
     "text": [
      "[ Valid | 170/300 ] loss = 0.83135, acc = 0.75994\n",
      "[ Valid | 170/300 ] loss = 0.83135, acc = 0.75994\n"
     ]
    },
    {
     "name": "stderr",
     "output_type": "stream",
     "text": [
      "T: 171/300: 100%|█| 78/78 [00:18<00:00,  4.27it/s, lr=0.0002, b_loss=0.422, b_ac\n"
     ]
    },
    {
     "name": "stdout",
     "output_type": "stream",
     "text": [
      "[ Train | 171/300 ] loss = 0.35793, acc = 0.87644\n"
     ]
    },
    {
     "name": "stderr",
     "output_type": "stream",
     "text": [
      "V: 171/300: 100%|█████| 26/26 [00:05<00:00,  5.15it/s, v_loss=0.915, v_acc=0.75]\n"
     ]
    },
    {
     "name": "stdout",
     "output_type": "stream",
     "text": [
      "[ Valid | 171/300 ] loss = 0.91524, acc = 0.75031\n",
      "[ Valid | 171/300 ] loss = 0.91524, acc = 0.75031\n"
     ]
    },
    {
     "name": "stderr",
     "output_type": "stream",
     "text": [
      "T: 172/300: 100%|█| 78/78 [00:18<00:00,  4.32it/s, lr=0.000169, b_loss=0.312, b_\n"
     ]
    },
    {
     "name": "stdout",
     "output_type": "stream",
     "text": [
      "[ Train | 172/300 ] loss = 0.35189, acc = 0.87898\n"
     ]
    },
    {
     "name": "stderr",
     "output_type": "stream",
     "text": [
      "V: 172/300: 100%|█████| 26/26 [00:05<00:00,  5.01it/s, v_loss=0.772, v_acc=0.78]\n"
     ]
    },
    {
     "name": "stdout",
     "output_type": "stream",
     "text": [
      "[ Valid | 172/300 ] loss = 0.77212, acc = 0.77973\n",
      "[ Valid | 172/300 ] loss = 0.77212, acc = 0.77973\n"
     ]
    },
    {
     "name": "stderr",
     "output_type": "stream",
     "text": [
      "T: 173/300: 100%|█| 78/78 [00:17<00:00,  4.34it/s, lr=0.000138, b_loss=0.248, b_\n"
     ]
    },
    {
     "name": "stdout",
     "output_type": "stream",
     "text": [
      "[ Train | 173/300 ] loss = 0.32852, acc = 0.89165\n"
     ]
    },
    {
     "name": "stderr",
     "output_type": "stream",
     "text": [
      "V: 173/300: 100%|████| 26/26 [00:04<00:00,  5.25it/s, v_loss=0.795, v_acc=0.784]\n"
     ]
    },
    {
     "name": "stdout",
     "output_type": "stream",
     "text": [
      "[ Valid | 173/300 ] loss = 0.79452, acc = 0.78400\n",
      "[ Valid | 173/300 ] loss = 0.79452, acc = 0.78400\n"
     ]
    },
    {
     "name": "stderr",
     "output_type": "stream",
     "text": [
      "T: 174/300: 100%|█| 78/78 [00:18<00:00,  4.26it/s, lr=0.000109, b_loss=0.259, b_\n"
     ]
    },
    {
     "name": "stdout",
     "output_type": "stream",
     "text": [
      "[ Train | 174/300 ] loss = 0.32123, acc = 0.89038\n"
     ]
    },
    {
     "name": "stderr",
     "output_type": "stream",
     "text": [
      "V: 174/300: 100%|████| 26/26 [00:05<00:00,  5.19it/s, v_loss=0.768, v_acc=0.786]\n"
     ]
    },
    {
     "name": "stdout",
     "output_type": "stream",
     "text": [
      "[ Valid | 174/300 ] loss = 0.76820, acc = 0.78588\n",
      "[ Valid | 174/300 ] loss = 0.76820, acc = 0.78588\n"
     ]
    },
    {
     "name": "stderr",
     "output_type": "stream",
     "text": [
      "T: 175/300: 100%|█| 78/78 [00:18<00:00,  4.28it/s, lr=8.24e-5, b_loss=0.214, b_a\n"
     ]
    },
    {
     "name": "stdout",
     "output_type": "stream",
     "text": [
      "[ Train | 175/300 ] loss = 0.29278, acc = 0.90016\n"
     ]
    },
    {
     "name": "stderr",
     "output_type": "stream",
     "text": [
      "V: 175/300: 100%|██████| 26/26 [00:05<00:00,  4.44it/s, v_loss=0.78, v_acc=0.78]\n"
     ]
    },
    {
     "name": "stdout",
     "output_type": "stream",
     "text": [
      "[ Valid | 175/300 ] loss = 0.77983, acc = 0.78006\n",
      "[ Valid | 175/300 ] loss = 0.77983, acc = 0.78006\n"
     ]
    },
    {
     "name": "stderr",
     "output_type": "stream",
     "text": [
      "T: 176/300: 100%|█| 78/78 [00:18<00:00,  4.25it/s, lr=5.86e-5, b_loss=0.301, b_a\n"
     ]
    },
    {
     "name": "stdout",
     "output_type": "stream",
     "text": [
      "[ Train | 176/300 ] loss = 0.27045, acc = 0.90804\n"
     ]
    },
    {
     "name": "stderr",
     "output_type": "stream",
     "text": [
      "V: 176/300: 100%|████| 26/26 [00:05<00:00,  5.11it/s, v_loss=0.759, v_acc=0.784]\n"
     ]
    },
    {
     "name": "stdout",
     "output_type": "stream",
     "text": [
      "[ Valid | 176/300 ] loss = 0.75893, acc = 0.78407\n",
      "[ Valid | 176/300 ] loss = 0.75893, acc = 0.78407\n"
     ]
    },
    {
     "name": "stderr",
     "output_type": "stream",
     "text": [
      "T: 177/300: 100%|█| 78/78 [00:19<00:00,  3.99it/s, lr=3.82e-5, b_loss=0.232, b_a\n"
     ]
    },
    {
     "name": "stdout",
     "output_type": "stream",
     "text": [
      "[ Train | 177/300 ] loss = 0.25865, acc = 0.90974\n"
     ]
    },
    {
     "name": "stderr",
     "output_type": "stream",
     "text": [
      "V: 177/300: 100%|████| 26/26 [00:05<00:00,  4.64it/s, v_loss=0.747, v_acc=0.794]\n"
     ]
    },
    {
     "name": "stdout",
     "output_type": "stream",
     "text": [
      "[ Valid | 177/300 ] loss = 0.74666, acc = 0.79393\n",
      "[ Valid | 177/300 ] loss = 0.74666, acc = 0.79393 -> best\n",
      "Best model found at fold 1 epoch 177, acc=0.79393, saving model\n"
     ]
    },
    {
     "name": "stderr",
     "output_type": "stream",
     "text": [
      "T: 178/300: 100%|█| 78/78 [00:18<00:00,  4.22it/s, lr=2.18e-5, b_loss=0.259, b_a\n"
     ]
    },
    {
     "name": "stdout",
     "output_type": "stream",
     "text": [
      "[ Train | 178/300 ] loss = 0.25177, acc = 0.91455\n"
     ]
    },
    {
     "name": "stderr",
     "output_type": "stream",
     "text": [
      "V: 178/300: 100%|█████| 26/26 [00:05<00:00,  4.63it/s, v_loss=0.745, v_acc=0.79]\n"
     ]
    },
    {
     "name": "stdout",
     "output_type": "stream",
     "text": [
      "[ Valid | 178/300 ] loss = 0.74471, acc = 0.78998\n",
      "[ Valid | 178/300 ] loss = 0.74471, acc = 0.78998\n"
     ]
    },
    {
     "name": "stderr",
     "output_type": "stream",
     "text": [
      "T: 179/300: 100%|█| 78/78 [00:17<00:00,  4.35it/s, lr=9.79e-6, b_loss=0.226, b_a\n"
     ]
    },
    {
     "name": "stdout",
     "output_type": "stream",
     "text": [
      "[ Train | 179/300 ] loss = 0.25526, acc = 0.91128\n"
     ]
    },
    {
     "name": "stderr",
     "output_type": "stream",
     "text": [
      "V: 179/300: 100%|████| 26/26 [00:04<00:00,  5.56it/s, v_loss=0.742, v_acc=0.795]\n"
     ]
    },
    {
     "name": "stdout",
     "output_type": "stream",
     "text": [
      "[ Valid | 179/300 ] loss = 0.74166, acc = 0.79457\n",
      "[ Valid | 179/300 ] loss = 0.74166, acc = 0.79457 -> best\n",
      "Best model found at fold 1 epoch 179, acc=0.79457, saving model\n"
     ]
    },
    {
     "name": "stderr",
     "output_type": "stream",
     "text": [
      "T: 180/300: 100%|█| 78/78 [00:17<00:00,  4.34it/s, lr=2.46e-6, b_loss=0.284, b_a\n"
     ]
    },
    {
     "name": "stdout",
     "output_type": "stream",
     "text": [
      "[ Train | 180/300 ] loss = 0.25659, acc = 0.91244\n"
     ]
    },
    {
     "name": "stderr",
     "output_type": "stream",
     "text": [
      "V: 180/300: 100%|████| 26/26 [00:04<00:00,  5.33it/s, v_loss=0.749, v_acc=0.793]\n"
     ]
    },
    {
     "name": "stdout",
     "output_type": "stream",
     "text": [
      "[ Valid | 180/300 ] loss = 0.74877, acc = 0.79295\n",
      "[ Valid | 180/300 ] loss = 0.74877, acc = 0.79295\n"
     ]
    },
    {
     "name": "stderr",
     "output_type": "stream",
     "text": [
      "T: 181/300: 100%|█| 78/78 [00:18<00:00,  4.32it/s, lr=0.0004, b_loss=0.53, b_acc\n"
     ]
    },
    {
     "name": "stdout",
     "output_type": "stream",
     "text": [
      "[ Train | 181/300 ] loss = 0.46302, acc = 0.84045\n"
     ]
    },
    {
     "name": "stderr",
     "output_type": "stream",
     "text": [
      "V: 181/300: 100%|██████| 26/26 [00:05<00:00,  4.78it/s, v_loss=1.03, v_acc=0.73]\n"
     ]
    },
    {
     "name": "stdout",
     "output_type": "stream",
     "text": [
      "[ Valid | 181/300 ] loss = 1.02959, acc = 0.73022\n",
      "[ Valid | 181/300 ] loss = 1.02959, acc = 0.73022\n"
     ]
    },
    {
     "name": "stderr",
     "output_type": "stream",
     "text": [
      "T: 182/300: 100%|█| 78/78 [00:17<00:00,  4.43it/s, lr=0.000398, b_loss=0.409, b_\n"
     ]
    },
    {
     "name": "stdout",
     "output_type": "stream",
     "text": [
      "[ Train | 182/300 ] loss = 0.48024, acc = 0.83496\n"
     ]
    },
    {
     "name": "stderr",
     "output_type": "stream",
     "text": [
      "V: 182/300: 100%|████| 26/26 [00:04<00:00,  5.42it/s, v_loss=0.886, v_acc=0.749]\n"
     ]
    },
    {
     "name": "stdout",
     "output_type": "stream",
     "text": [
      "[ Valid | 182/300 ] loss = 0.88624, acc = 0.74937\n",
      "[ Valid | 182/300 ] loss = 0.88624, acc = 0.74937\n"
     ]
    },
    {
     "name": "stderr",
     "output_type": "stream",
     "text": [
      "T: 183/300: 100%|█| 78/78 [00:18<00:00,  4.20it/s, lr=0.00039, b_loss=0.402, b_a\n"
     ]
    },
    {
     "name": "stdout",
     "output_type": "stream",
     "text": [
      "[ Train | 183/300 ] loss = 0.46618, acc = 0.83949\n"
     ]
    },
    {
     "name": "stderr",
     "output_type": "stream",
     "text": [
      "V: 183/300: 100%|████| 26/26 [00:04<00:00,  5.22it/s, v_loss=0.948, v_acc=0.727]\n"
     ]
    },
    {
     "name": "stdout",
     "output_type": "stream",
     "text": [
      "[ Valid | 183/300 ] loss = 0.94806, acc = 0.72743\n",
      "[ Valid | 183/300 ] loss = 0.94806, acc = 0.72743\n"
     ]
    },
    {
     "name": "stderr",
     "output_type": "stream",
     "text": [
      "T: 184/300: 100%|█| 78/78 [00:18<00:00,  4.24it/s, lr=0.000378, b_loss=0.48, b_a\n"
     ]
    },
    {
     "name": "stdout",
     "output_type": "stream",
     "text": [
      "[ Train | 184/300 ] loss = 0.45196, acc = 0.84233\n"
     ]
    },
    {
     "name": "stderr",
     "output_type": "stream",
     "text": [
      "V: 184/300: 100%|█████| 26/26 [00:05<00:00,  4.84it/s, v_loss=1.32, v_acc=0.668]\n"
     ]
    },
    {
     "name": "stdout",
     "output_type": "stream",
     "text": [
      "[ Valid | 184/300 ] loss = 1.31721, acc = 0.66787\n",
      "[ Valid | 184/300 ] loss = 1.31721, acc = 0.66787\n"
     ]
    },
    {
     "name": "stderr",
     "output_type": "stream",
     "text": [
      "T: 185/300: 100%|█| 78/78 [00:18<00:00,  4.33it/s, lr=0.000362, b_loss=0.54, b_a\n"
     ]
    },
    {
     "name": "stdout",
     "output_type": "stream",
     "text": [
      "[ Train | 185/300 ] loss = 0.43847, acc = 0.84682\n"
     ]
    },
    {
     "name": "stderr",
     "output_type": "stream",
     "text": [
      "V: 185/300: 100%|████| 26/26 [00:04<00:00,  5.35it/s, v_loss=0.903, v_acc=0.751]\n"
     ]
    },
    {
     "name": "stdout",
     "output_type": "stream",
     "text": [
      "[ Valid | 185/300 ] loss = 0.90263, acc = 0.75068\n",
      "[ Valid | 185/300 ] loss = 0.90263, acc = 0.75068\n"
     ]
    },
    {
     "name": "stderr",
     "output_type": "stream",
     "text": [
      "T: 186/300: 100%|█| 78/78 [00:17<00:00,  4.39it/s, lr=0.000341, b_loss=0.45, b_a\n"
     ]
    },
    {
     "name": "stdout",
     "output_type": "stream",
     "text": [
      "[ Train | 186/300 ] loss = 0.41365, acc = 0.85537\n"
     ]
    },
    {
     "name": "stderr",
     "output_type": "stream",
     "text": [
      "V: 186/300: 100%|█████| 26/26 [00:04<00:00,  5.41it/s, v_loss=0.96, v_acc=0.735]\n"
     ]
    },
    {
     "name": "stdout",
     "output_type": "stream",
     "text": [
      "[ Valid | 186/300 ] loss = 0.95986, acc = 0.73520\n",
      "[ Valid | 186/300 ] loss = 0.95986, acc = 0.73520\n"
     ]
    },
    {
     "name": "stderr",
     "output_type": "stream",
     "text": [
      "T: 187/300: 100%|█| 78/78 [00:17<00:00,  4.36it/s, lr=0.000318, b_loss=0.423, b_\n"
     ]
    },
    {
     "name": "stdout",
     "output_type": "stream",
     "text": [
      "[ Train | 187/300 ] loss = 0.37551, acc = 0.86732\n"
     ]
    },
    {
     "name": "stderr",
     "output_type": "stream",
     "text": [
      "V: 187/300: 100%|████| 26/26 [00:05<00:00,  4.90it/s, v_loss=0.874, v_acc=0.759]\n"
     ]
    },
    {
     "name": "stdout",
     "output_type": "stream",
     "text": [
      "[ Valid | 187/300 ] loss = 0.87396, acc = 0.75904\n",
      "[ Valid | 187/300 ] loss = 0.87396, acc = 0.75904\n"
     ]
    },
    {
     "name": "stderr",
     "output_type": "stream",
     "text": [
      "T: 188/300: 100%|█| 78/78 [00:18<00:00,  4.32it/s, lr=0.000291, b_loss=0.519, b_\n"
     ]
    },
    {
     "name": "stdout",
     "output_type": "stream",
     "text": [
      "[ Train | 188/300 ] loss = 0.39464, acc = 0.86441\n"
     ]
    },
    {
     "name": "stderr",
     "output_type": "stream",
     "text": [
      "V: 188/300: 100%|████| 26/26 [00:04<00:00,  5.23it/s, v_loss=0.899, v_acc=0.747]\n"
     ]
    },
    {
     "name": "stdout",
     "output_type": "stream",
     "text": [
      "[ Valid | 188/300 ] loss = 0.89870, acc = 0.74699\n",
      "[ Valid | 188/300 ] loss = 0.89870, acc = 0.74699\n"
     ]
    },
    {
     "name": "stderr",
     "output_type": "stream",
     "text": [
      "T: 189/300: 100%|█| 78/78 [00:17<00:00,  4.35it/s, lr=0.000262, b_loss=0.476, b_\n"
     ]
    },
    {
     "name": "stdout",
     "output_type": "stream",
     "text": [
      "[ Train | 189/300 ] loss = 0.34558, acc = 0.88079\n"
     ]
    },
    {
     "name": "stderr",
     "output_type": "stream",
     "text": [
      "V: 189/300: 100%|████| 26/26 [00:05<00:00,  4.80it/s, v_loss=0.882, v_acc=0.767]\n"
     ]
    },
    {
     "name": "stdout",
     "output_type": "stream",
     "text": [
      "[ Valid | 189/300 ] loss = 0.88207, acc = 0.76710\n",
      "[ Valid | 189/300 ] loss = 0.88207, acc = 0.76710\n"
     ]
    },
    {
     "name": "stderr",
     "output_type": "stream",
     "text": [
      "T: 190/300: 100%|█| 78/78 [00:18<00:00,  4.31it/s, lr=0.000231, b_loss=0.285, b_\n"
     ]
    },
    {
     "name": "stdout",
     "output_type": "stream",
     "text": [
      "[ Train | 190/300 ] loss = 0.35293, acc = 0.88052\n"
     ]
    },
    {
     "name": "stderr",
     "output_type": "stream",
     "text": [
      "V: 190/300: 100%|█████| 26/26 [00:04<00:00,  5.26it/s, v_loss=0.83, v_acc=0.773]\n"
     ]
    },
    {
     "name": "stdout",
     "output_type": "stream",
     "text": [
      "[ Valid | 190/300 ] loss = 0.82992, acc = 0.77345\n",
      "[ Valid | 190/300 ] loss = 0.82992, acc = 0.77345\n"
     ]
    },
    {
     "name": "stderr",
     "output_type": "stream",
     "text": [
      "T: 191/300: 100%|█| 78/78 [00:17<00:00,  4.35it/s, lr=0.0002, b_loss=0.346, b_ac\n"
     ]
    },
    {
     "name": "stdout",
     "output_type": "stream",
     "text": [
      "[ Train | 191/300 ] loss = 0.33053, acc = 0.88308\n"
     ]
    },
    {
     "name": "stderr",
     "output_type": "stream",
     "text": [
      "V: 191/300: 100%|████| 26/26 [00:04<00:00,  5.44it/s, v_loss=0.821, v_acc=0.766]\n"
     ]
    },
    {
     "name": "stdout",
     "output_type": "stream",
     "text": [
      "[ Valid | 191/300 ] loss = 0.82117, acc = 0.76562\n",
      "[ Valid | 191/300 ] loss = 0.82117, acc = 0.76562\n"
     ]
    },
    {
     "name": "stderr",
     "output_type": "stream",
     "text": [
      "T: 192/300: 100%|█| 78/78 [00:18<00:00,  4.24it/s, lr=0.000169, b_loss=0.421, b_\n"
     ]
    },
    {
     "name": "stdout",
     "output_type": "stream",
     "text": [
      "[ Train | 192/300 ] loss = 0.29164, acc = 0.89987\n"
     ]
    },
    {
     "name": "stderr",
     "output_type": "stream",
     "text": [
      "V: 192/300: 100%|████| 26/26 [00:04<00:00,  5.34it/s, v_loss=0.796, v_acc=0.783]\n"
     ]
    },
    {
     "name": "stdout",
     "output_type": "stream",
     "text": [
      "[ Valid | 192/300 ] loss = 0.79551, acc = 0.78341\n",
      "[ Valid | 192/300 ] loss = 0.79551, acc = 0.78341\n"
     ]
    },
    {
     "name": "stderr",
     "output_type": "stream",
     "text": [
      "T: 193/300: 100%|█| 78/78 [00:17<00:00,  4.42it/s, lr=0.000138, b_loss=0.255, b_\n"
     ]
    },
    {
     "name": "stdout",
     "output_type": "stream",
     "text": [
      "[ Train | 193/300 ] loss = 0.27301, acc = 0.90707\n"
     ]
    },
    {
     "name": "stderr",
     "output_type": "stream",
     "text": [
      "V: 193/300: 100%|█████| 26/26 [00:04<00:00,  5.51it/s, v_loss=0.79, v_acc=0.787]\n"
     ]
    },
    {
     "name": "stdout",
     "output_type": "stream",
     "text": [
      "[ Valid | 193/300 ] loss = 0.79045, acc = 0.78727\n",
      "[ Valid | 193/300 ] loss = 0.79045, acc = 0.78727\n"
     ]
    },
    {
     "name": "stderr",
     "output_type": "stream",
     "text": [
      "T: 194/300: 100%|█| 78/78 [00:17<00:00,  4.37it/s, lr=0.000109, b_loss=0.337, b_\n"
     ]
    },
    {
     "name": "stdout",
     "output_type": "stream",
     "text": [
      "[ Train | 194/300 ] loss = 0.25614, acc = 0.91272\n"
     ]
    },
    {
     "name": "stderr",
     "output_type": "stream",
     "text": [
      "V: 194/300: 100%|████| 26/26 [00:04<00:00,  5.39it/s, v_loss=0.816, v_acc=0.785]\n"
     ]
    },
    {
     "name": "stdout",
     "output_type": "stream",
     "text": [
      "[ Valid | 194/300 ] loss = 0.81632, acc = 0.78550\n",
      "[ Valid | 194/300 ] loss = 0.81632, acc = 0.78550\n"
     ]
    },
    {
     "name": "stderr",
     "output_type": "stream",
     "text": [
      "T: 195/300: 100%|█| 78/78 [00:17<00:00,  4.44it/s, lr=8.24e-5, b_loss=0.274, b_a\n"
     ]
    },
    {
     "name": "stdout",
     "output_type": "stream",
     "text": [
      "[ Train | 195/300 ] loss = 0.25212, acc = 0.91386\n"
     ]
    },
    {
     "name": "stderr",
     "output_type": "stream",
     "text": [
      "V: 195/300: 100%|████| 26/26 [00:05<00:00,  5.02it/s, v_loss=0.782, v_acc=0.792]\n"
     ]
    },
    {
     "name": "stdout",
     "output_type": "stream",
     "text": [
      "[ Valid | 195/300 ] loss = 0.78173, acc = 0.79206\n",
      "[ Valid | 195/300 ] loss = 0.78173, acc = 0.79206\n"
     ]
    },
    {
     "name": "stderr",
     "output_type": "stream",
     "text": [
      "T: 196/300: 100%|█| 78/78 [00:17<00:00,  4.44it/s, lr=5.86e-5, b_loss=0.198, b_a\n"
     ]
    },
    {
     "name": "stdout",
     "output_type": "stream",
     "text": [
      "[ Train | 196/300 ] loss = 0.24940, acc = 0.91468\n"
     ]
    },
    {
     "name": "stderr",
     "output_type": "stream",
     "text": [
      "V: 196/300: 100%|████| 26/26 [00:05<00:00,  5.01it/s, v_loss=0.789, v_acc=0.788]\n"
     ]
    },
    {
     "name": "stdout",
     "output_type": "stream",
     "text": [
      "[ Valid | 196/300 ] loss = 0.78940, acc = 0.78764\n",
      "[ Valid | 196/300 ] loss = 0.78940, acc = 0.78764\n"
     ]
    },
    {
     "name": "stderr",
     "output_type": "stream",
     "text": [
      "T: 197/300: 100%|█| 78/78 [00:17<00:00,  4.48it/s, lr=3.82e-5, b_loss=0.228, b_a\n"
     ]
    },
    {
     "name": "stdout",
     "output_type": "stream",
     "text": [
      "[ Train | 197/300 ] loss = 0.22217, acc = 0.92419\n"
     ]
    },
    {
     "name": "stderr",
     "output_type": "stream",
     "text": [
      "V: 197/300: 100%|████| 26/26 [00:04<00:00,  5.33it/s, v_loss=0.773, v_acc=0.792]\n"
     ]
    },
    {
     "name": "stdout",
     "output_type": "stream",
     "text": [
      "[ Valid | 197/300 ] loss = 0.77302, acc = 0.79208\n",
      "[ Valid | 197/300 ] loss = 0.77302, acc = 0.79208\n"
     ]
    },
    {
     "name": "stderr",
     "output_type": "stream",
     "text": [
      "T: 198/300: 100%|█| 78/78 [00:18<00:00,  4.31it/s, lr=2.18e-5, b_loss=0.219, b_a\n"
     ]
    },
    {
     "name": "stdout",
     "output_type": "stream",
     "text": [
      "[ Train | 198/300 ] loss = 0.20976, acc = 0.92737\n"
     ]
    },
    {
     "name": "stderr",
     "output_type": "stream",
     "text": [
      "V: 198/300: 100%|████| 26/26 [00:05<00:00,  5.12it/s, v_loss=0.774, v_acc=0.795]\n"
     ]
    },
    {
     "name": "stdout",
     "output_type": "stream",
     "text": [
      "[ Valid | 198/300 ] loss = 0.77396, acc = 0.79483\n",
      "[ Valid | 198/300 ] loss = 0.77396, acc = 0.79483 -> best\n",
      "Best model found at fold 1 epoch 198, acc=0.79483, saving model\n"
     ]
    },
    {
     "name": "stderr",
     "output_type": "stream",
     "text": [
      "T: 199/300: 100%|█| 78/78 [00:17<00:00,  4.37it/s, lr=9.79e-6, b_loss=0.282, b_a\n"
     ]
    },
    {
     "name": "stdout",
     "output_type": "stream",
     "text": [
      "[ Train | 199/300 ] loss = 0.21350, acc = 0.92773\n"
     ]
    },
    {
     "name": "stderr",
     "output_type": "stream",
     "text": [
      "V: 199/300: 100%|████| 26/26 [00:05<00:00,  5.03it/s, v_loss=0.776, v_acc=0.795]\n"
     ]
    },
    {
     "name": "stdout",
     "output_type": "stream",
     "text": [
      "[ Valid | 199/300 ] loss = 0.77588, acc = 0.79453\n",
      "[ Valid | 199/300 ] loss = 0.77588, acc = 0.79453\n"
     ]
    },
    {
     "name": "stderr",
     "output_type": "stream",
     "text": [
      "T: 200/300: 100%|█| 78/78 [00:17<00:00,  4.42it/s, lr=2.46e-6, b_loss=0.271, b_a\n"
     ]
    },
    {
     "name": "stdout",
     "output_type": "stream",
     "text": [
      "[ Train | 200/300 ] loss = 0.21055, acc = 0.92977\n"
     ]
    },
    {
     "name": "stderr",
     "output_type": "stream",
     "text": [
      "V: 200/300: 100%|████| 26/26 [00:04<00:00,  5.52it/s, v_loss=0.765, v_acc=0.796]\n"
     ]
    },
    {
     "name": "stdout",
     "output_type": "stream",
     "text": [
      "[ Valid | 200/300 ] loss = 0.76534, acc = 0.79597\n",
      "[ Valid | 200/300 ] loss = 0.76534, acc = 0.79597 -> best\n",
      "Best model found at fold 1 epoch 200, acc=0.79597, saving model\n"
     ]
    },
    {
     "name": "stderr",
     "output_type": "stream",
     "text": [
      "T: 201/300: 100%|█| 78/78 [00:17<00:00,  4.33it/s, lr=0.0004, b_loss=0.572, b_ac\n"
     ]
    },
    {
     "name": "stdout",
     "output_type": "stream",
     "text": [
      "[ Train | 201/300 ] loss = 0.40805, acc = 0.86005\n"
     ]
    },
    {
     "name": "stderr",
     "output_type": "stream",
     "text": [
      "V: 201/300: 100%|█████| 26/26 [00:04<00:00,  5.57it/s, v_loss=2.77, v_acc=0.481]\n"
     ]
    },
    {
     "name": "stdout",
     "output_type": "stream",
     "text": [
      "[ Valid | 201/300 ] loss = 2.76662, acc = 0.48088\n",
      "[ Valid | 201/300 ] loss = 2.76662, acc = 0.48088\n"
     ]
    },
    {
     "name": "stderr",
     "output_type": "stream",
     "text": [
      "T: 202/300: 100%|█| 78/78 [00:17<00:00,  4.36it/s, lr=0.000398, b_loss=0.412, b_\n"
     ]
    },
    {
     "name": "stdout",
     "output_type": "stream",
     "text": [
      "[ Train | 202/300 ] loss = 0.46546, acc = 0.83706\n"
     ]
    },
    {
     "name": "stderr",
     "output_type": "stream",
     "text": [
      "V: 202/300: 100%|█████| 26/26 [00:04<00:00,  5.54it/s, v_loss=1.39, v_acc=0.671]\n"
     ]
    },
    {
     "name": "stdout",
     "output_type": "stream",
     "text": [
      "[ Valid | 202/300 ] loss = 1.38820, acc = 0.67058\n",
      "[ Valid | 202/300 ] loss = 1.38820, acc = 0.67058\n"
     ]
    },
    {
     "name": "stderr",
     "output_type": "stream",
     "text": [
      "T: 203/300: 100%|█| 78/78 [00:18<00:00,  4.30it/s, lr=0.00039, b_loss=0.529, b_a\n"
     ]
    },
    {
     "name": "stdout",
     "output_type": "stream",
     "text": [
      "[ Train | 203/300 ] loss = 0.42246, acc = 0.85354\n"
     ]
    },
    {
     "name": "stderr",
     "output_type": "stream",
     "text": [
      "V: 203/300: 100%|████| 26/26 [00:04<00:00,  5.30it/s, v_loss=0.978, v_acc=0.728]\n"
     ]
    },
    {
     "name": "stdout",
     "output_type": "stream",
     "text": [
      "[ Valid | 203/300 ] loss = 0.97777, acc = 0.72778\n",
      "[ Valid | 203/300 ] loss = 0.97777, acc = 0.72778\n"
     ]
    },
    {
     "name": "stderr",
     "output_type": "stream",
     "text": [
      "T: 204/300: 100%|█| 78/78 [00:17<00:00,  4.37it/s, lr=0.000378, b_loss=0.546, b_\n"
     ]
    },
    {
     "name": "stdout",
     "output_type": "stream",
     "text": [
      "[ Train | 204/300 ] loss = 0.40325, acc = 0.85715\n"
     ]
    },
    {
     "name": "stderr",
     "output_type": "stream",
     "text": [
      "V: 204/300: 100%|█████| 26/26 [00:04<00:00,  5.25it/s, v_loss=0.978, v_acc=0.73]\n"
     ]
    },
    {
     "name": "stdout",
     "output_type": "stream",
     "text": [
      "[ Valid | 204/300 ] loss = 0.97793, acc = 0.73047\n",
      "[ Valid | 204/300 ] loss = 0.97793, acc = 0.73047\n"
     ]
    },
    {
     "name": "stderr",
     "output_type": "stream",
     "text": [
      "T: 205/300: 100%|█| 78/78 [00:17<00:00,  4.42it/s, lr=0.000362, b_loss=0.444, b_\n"
     ]
    },
    {
     "name": "stdout",
     "output_type": "stream",
     "text": [
      "[ Train | 205/300 ] loss = 0.38508, acc = 0.86521\n"
     ]
    },
    {
     "name": "stderr",
     "output_type": "stream",
     "text": [
      "V: 205/300: 100%|████| 26/26 [00:04<00:00,  5.48it/s, v_loss=0.898, v_acc=0.752]\n"
     ]
    },
    {
     "name": "stdout",
     "output_type": "stream",
     "text": [
      "[ Valid | 205/300 ] loss = 0.89823, acc = 0.75150\n",
      "[ Valid | 205/300 ] loss = 0.89823, acc = 0.75150\n"
     ]
    },
    {
     "name": "stderr",
     "output_type": "stream",
     "text": [
      "T: 206/300: 100%|█| 78/78 [00:17<00:00,  4.37it/s, lr=0.000341, b_loss=0.435, b_\n"
     ]
    },
    {
     "name": "stdout",
     "output_type": "stream",
     "text": [
      "[ Train | 206/300 ] loss = 0.37262, acc = 0.86449\n"
     ]
    },
    {
     "name": "stderr",
     "output_type": "stream",
     "text": [
      "V: 206/300: 100%|████| 26/26 [00:04<00:00,  5.23it/s, v_loss=0.901, v_acc=0.753]\n"
     ]
    },
    {
     "name": "stdout",
     "output_type": "stream",
     "text": [
      "[ Valid | 206/300 ] loss = 0.90096, acc = 0.75301\n",
      "[ Valid | 206/300 ] loss = 0.90096, acc = 0.75301\n"
     ]
    },
    {
     "name": "stderr",
     "output_type": "stream",
     "text": [
      "T: 207/300: 100%|█| 78/78 [00:17<00:00,  4.42it/s, lr=0.000318, b_loss=0.358, b_\n"
     ]
    },
    {
     "name": "stdout",
     "output_type": "stream",
     "text": [
      "[ Train | 207/300 ] loss = 0.35774, acc = 0.87766\n"
     ]
    },
    {
     "name": "stderr",
     "output_type": "stream",
     "text": [
      "V: 207/300: 100%|████| 26/26 [00:04<00:00,  5.46it/s, v_loss=0.937, v_acc=0.751]\n"
     ]
    },
    {
     "name": "stdout",
     "output_type": "stream",
     "text": [
      "[ Valid | 207/300 ] loss = 0.93658, acc = 0.75146\n",
      "[ Valid | 207/300 ] loss = 0.93658, acc = 0.75146\n"
     ]
    },
    {
     "name": "stderr",
     "output_type": "stream",
     "text": [
      "T: 208/300: 100%|█| 78/78 [00:17<00:00,  4.42it/s, lr=0.000291, b_loss=0.47, b_a\n"
     ]
    },
    {
     "name": "stdout",
     "output_type": "stream",
     "text": [
      "[ Train | 208/300 ] loss = 0.33495, acc = 0.88624\n"
     ]
    },
    {
     "name": "stderr",
     "output_type": "stream",
     "text": [
      "V: 208/300: 100%|████| 26/26 [00:04<00:00,  5.21it/s, v_loss=0.891, v_acc=0.759]\n"
     ]
    },
    {
     "name": "stdout",
     "output_type": "stream",
     "text": [
      "[ Valid | 208/300 ] loss = 0.89091, acc = 0.75911\n",
      "[ Valid | 208/300 ] loss = 0.89091, acc = 0.75911\n"
     ]
    },
    {
     "name": "stderr",
     "output_type": "stream",
     "text": [
      "T: 209/300: 100%|█| 78/78 [00:18<00:00,  4.25it/s, lr=0.000262, b_loss=0.241, b_\n"
     ]
    },
    {
     "name": "stdout",
     "output_type": "stream",
     "text": [
      "[ Train | 209/300 ] loss = 0.31497, acc = 0.89051\n"
     ]
    },
    {
     "name": "stderr",
     "output_type": "stream",
     "text": [
      "V: 209/300: 100%|████| 26/26 [00:04<00:00,  5.23it/s, v_loss=0.863, v_acc=0.773]\n"
     ]
    },
    {
     "name": "stdout",
     "output_type": "stream",
     "text": [
      "[ Valid | 209/300 ] loss = 0.86319, acc = 0.77315\n",
      "[ Valid | 209/300 ] loss = 0.86319, acc = 0.77315\n"
     ]
    },
    {
     "name": "stderr",
     "output_type": "stream",
     "text": [
      "T: 210/300: 100%|█| 78/78 [00:17<00:00,  4.40it/s, lr=0.000231, b_loss=0.249, b_\n"
     ]
    },
    {
     "name": "stdout",
     "output_type": "stream",
     "text": [
      "[ Train | 210/300 ] loss = 0.29410, acc = 0.89585\n"
     ]
    },
    {
     "name": "stderr",
     "output_type": "stream",
     "text": [
      "V: 210/300: 100%|████| 26/26 [00:04<00:00,  5.39it/s, v_loss=0.834, v_acc=0.775]\n"
     ]
    },
    {
     "name": "stdout",
     "output_type": "stream",
     "text": [
      "[ Valid | 210/300 ] loss = 0.83393, acc = 0.77526\n",
      "[ Valid | 210/300 ] loss = 0.83393, acc = 0.77526\n"
     ]
    },
    {
     "name": "stderr",
     "output_type": "stream",
     "text": [
      "T: 211/300: 100%|█| 78/78 [00:17<00:00,  4.39it/s, lr=0.0002, b_loss=0.293, b_ac\n"
     ]
    },
    {
     "name": "stdout",
     "output_type": "stream",
     "text": [
      "[ Train | 211/300 ] loss = 0.28512, acc = 0.90284\n"
     ]
    },
    {
     "name": "stderr",
     "output_type": "stream",
     "text": [
      "V: 211/300: 100%|█████| 26/26 [00:04<00:00,  5.64it/s, v_loss=0.86, v_acc=0.774]\n"
     ]
    },
    {
     "name": "stdout",
     "output_type": "stream",
     "text": [
      "[ Valid | 211/300 ] loss = 0.85952, acc = 0.77411\n",
      "[ Valid | 211/300 ] loss = 0.85952, acc = 0.77411\n"
     ]
    },
    {
     "name": "stderr",
     "output_type": "stream",
     "text": [
      "T: 212/300: 100%|█| 78/78 [00:18<00:00,  4.33it/s, lr=0.000169, b_loss=0.204, b_\n"
     ]
    },
    {
     "name": "stdout",
     "output_type": "stream",
     "text": [
      "[ Train | 212/300 ] loss = 0.25234, acc = 0.91437\n"
     ]
    },
    {
     "name": "stderr",
     "output_type": "stream",
     "text": [
      "V: 212/300: 100%|████| 26/26 [00:05<00:00,  4.86it/s, v_loss=0.811, v_acc=0.784]\n"
     ]
    },
    {
     "name": "stdout",
     "output_type": "stream",
     "text": [
      "[ Valid | 212/300 ] loss = 0.81051, acc = 0.78432\n",
      "[ Valid | 212/300 ] loss = 0.81051, acc = 0.78432\n"
     ]
    },
    {
     "name": "stderr",
     "output_type": "stream",
     "text": [
      "T: 213/300: 100%|█| 78/78 [00:17<00:00,  4.34it/s, lr=0.000138, b_loss=0.316, b_\n"
     ]
    },
    {
     "name": "stdout",
     "output_type": "stream",
     "text": [
      "[ Train | 213/300 ] loss = 0.24428, acc = 0.91512\n"
     ]
    },
    {
     "name": "stderr",
     "output_type": "stream",
     "text": [
      "V: 213/300: 100%|████| 26/26 [00:04<00:00,  5.30it/s, v_loss=0.848, v_acc=0.778]\n"
     ]
    },
    {
     "name": "stdout",
     "output_type": "stream",
     "text": [
      "[ Valid | 213/300 ] loss = 0.84769, acc = 0.77803\n",
      "[ Valid | 213/300 ] loss = 0.84769, acc = 0.77803\n"
     ]
    },
    {
     "name": "stderr",
     "output_type": "stream",
     "text": [
      "T: 214/300: 100%|█| 78/78 [00:17<00:00,  4.48it/s, lr=0.000109, b_loss=0.252, b_\n"
     ]
    },
    {
     "name": "stdout",
     "output_type": "stream",
     "text": [
      "[ Train | 214/300 ] loss = 0.21817, acc = 0.92356\n"
     ]
    },
    {
     "name": "stderr",
     "output_type": "stream",
     "text": [
      "V: 214/300: 100%|████| 26/26 [00:05<00:00,  4.67it/s, v_loss=0.835, v_acc=0.786]\n"
     ]
    },
    {
     "name": "stdout",
     "output_type": "stream",
     "text": [
      "[ Valid | 214/300 ] loss = 0.83527, acc = 0.78641\n",
      "[ Valid | 214/300 ] loss = 0.83527, acc = 0.78641\n"
     ]
    },
    {
     "name": "stderr",
     "output_type": "stream",
     "text": [
      "T: 215/300: 100%|█| 78/78 [00:17<00:00,  4.37it/s, lr=8.24e-5, b_loss=0.258, b_a\n"
     ]
    },
    {
     "name": "stdout",
     "output_type": "stream",
     "text": [
      "[ Train | 215/300 ] loss = 0.21376, acc = 0.92597\n"
     ]
    },
    {
     "name": "stderr",
     "output_type": "stream",
     "text": [
      "V: 215/300: 100%|████| 26/26 [00:04<00:00,  5.37it/s, v_loss=0.844, v_acc=0.777]\n"
     ]
    },
    {
     "name": "stdout",
     "output_type": "stream",
     "text": [
      "[ Valid | 215/300 ] loss = 0.84396, acc = 0.77671\n",
      "[ Valid | 215/300 ] loss = 0.84396, acc = 0.77671\n"
     ]
    },
    {
     "name": "stderr",
     "output_type": "stream",
     "text": [
      "T: 216/300: 100%|█| 78/78 [00:17<00:00,  4.41it/s, lr=5.86e-5, b_loss=0.245, b_a\n"
     ]
    },
    {
     "name": "stdout",
     "output_type": "stream",
     "text": [
      "[ Train | 216/300 ] loss = 0.20692, acc = 0.93047\n"
     ]
    },
    {
     "name": "stderr",
     "output_type": "stream",
     "text": [
      "V: 216/300: 100%|████| 26/26 [00:05<00:00,  5.06it/s, v_loss=0.834, v_acc=0.792]\n"
     ]
    },
    {
     "name": "stdout",
     "output_type": "stream",
     "text": [
      "[ Valid | 216/300 ] loss = 0.83409, acc = 0.79153\n",
      "[ Valid | 216/300 ] loss = 0.83409, acc = 0.79153\n"
     ]
    },
    {
     "name": "stderr",
     "output_type": "stream",
     "text": [
      "T: 217/300: 100%|█| 78/78 [00:17<00:00,  4.50it/s, lr=3.82e-5, b_loss=0.204, b_a\n"
     ]
    },
    {
     "name": "stdout",
     "output_type": "stream",
     "text": [
      "[ Train | 217/300 ] loss = 0.18575, acc = 0.93815\n"
     ]
    },
    {
     "name": "stderr",
     "output_type": "stream",
     "text": [
      "V: 217/300: 100%|████| 26/26 [00:05<00:00,  4.94it/s, v_loss=0.816, v_acc=0.794]\n"
     ]
    },
    {
     "name": "stdout",
     "output_type": "stream",
     "text": [
      "[ Valid | 217/300 ] loss = 0.81623, acc = 0.79367\n",
      "[ Valid | 217/300 ] loss = 0.81623, acc = 0.79367\n"
     ]
    },
    {
     "name": "stderr",
     "output_type": "stream",
     "text": [
      "T: 218/300: 100%|█| 78/78 [00:17<00:00,  4.39it/s, lr=2.18e-5, b_loss=0.2, b_acc\n"
     ]
    },
    {
     "name": "stdout",
     "output_type": "stream",
     "text": [
      "[ Train | 218/300 ] loss = 0.18586, acc = 0.93844\n"
     ]
    },
    {
     "name": "stderr",
     "output_type": "stream",
     "text": [
      "V: 218/300: 100%|████| 26/26 [00:04<00:00,  5.65it/s, v_loss=0.819, v_acc=0.792]\n"
     ]
    },
    {
     "name": "stdout",
     "output_type": "stream",
     "text": [
      "[ Valid | 218/300 ] loss = 0.81907, acc = 0.79152\n",
      "[ Valid | 218/300 ] loss = 0.81907, acc = 0.79152\n"
     ]
    },
    {
     "name": "stderr",
     "output_type": "stream",
     "text": [
      "T: 219/300: 100%|█| 78/78 [00:18<00:00,  4.27it/s, lr=9.79e-6, b_loss=0.171, b_a\n"
     ]
    },
    {
     "name": "stdout",
     "output_type": "stream",
     "text": [
      "[ Train | 219/300 ] loss = 0.18206, acc = 0.93972\n"
     ]
    },
    {
     "name": "stderr",
     "output_type": "stream",
     "text": [
      "V: 219/300: 100%|████| 26/26 [00:04<00:00,  5.25it/s, v_loss=0.814, v_acc=0.794]\n"
     ]
    },
    {
     "name": "stdout",
     "output_type": "stream",
     "text": [
      "[ Valid | 219/300 ] loss = 0.81385, acc = 0.79393\n",
      "[ Valid | 219/300 ] loss = 0.81385, acc = 0.79393\n"
     ]
    },
    {
     "name": "stderr",
     "output_type": "stream",
     "text": [
      "T: 220/300: 100%|█| 78/78 [00:17<00:00,  4.43it/s, lr=2.46e-6, b_loss=0.133, b_a\n"
     ]
    },
    {
     "name": "stdout",
     "output_type": "stream",
     "text": [
      "[ Train | 220/300 ] loss = 0.18566, acc = 0.93706\n"
     ]
    },
    {
     "name": "stderr",
     "output_type": "stream",
     "text": [
      "V: 220/300: 100%|████| 26/26 [00:04<00:00,  5.82it/s, v_loss=0.816, v_acc=0.795]\n"
     ]
    },
    {
     "name": "stdout",
     "output_type": "stream",
     "text": [
      "[ Valid | 220/300 ] loss = 0.81635, acc = 0.79519\n",
      "[ Valid | 220/300 ] loss = 0.81635, acc = 0.79519\n"
     ]
    },
    {
     "name": "stderr",
     "output_type": "stream",
     "text": [
      "T: 221/300: 100%|█| 78/78 [00:17<00:00,  4.34it/s, lr=0.0004, b_loss=0.514, b_ac\n"
     ]
    },
    {
     "name": "stdout",
     "output_type": "stream",
     "text": [
      "[ Train | 221/300 ] loss = 0.39107, acc = 0.86276\n"
     ]
    },
    {
     "name": "stderr",
     "output_type": "stream",
     "text": [
      "V: 221/300: 100%|█████| 26/26 [00:04<00:00,  5.50it/s, v_loss=1.34, v_acc=0.696]\n"
     ]
    },
    {
     "name": "stdout",
     "output_type": "stream",
     "text": [
      "[ Valid | 221/300 ] loss = 1.34474, acc = 0.69590\n",
      "[ Valid | 221/300 ] loss = 1.34474, acc = 0.69590\n",
      "No improvment 20 consecutive epochs, early stopping\n"
     ]
    },
    {
     "data": {
      "text/html": [
       "Waiting for W&B process to finish... <strong style=\"color:green\">(success).</strong>"
      ],
      "text/plain": [
       "<IPython.core.display.HTML object>"
      ]
     },
     "metadata": {},
     "output_type": "display_data"
    },
    {
     "data": {
      "text/html": [
       "<style>\n",
       "    table.wandb td:nth-child(1) { padding: 0 10px; text-align: left ; width: auto;} td:nth-child(2) {text-align: left ; width: 100%}\n",
       "    .wandb-row { display: flex; flex-direction: row; flex-wrap: wrap; justify-content: flex-start; width: 100% }\n",
       "    .wandb-col { display: flex; flex-direction: column; flex-basis: 100%; flex: 1; padding: 10px; }\n",
       "    </style>\n",
       "<div class=\"wandb-row\"><div class=\"wandb-col\"><h3>Run history:</h3><br/><table class=\"wandb\"><tr><td>average_training_loss</td><td>█▇▆▅▅▅▄▄▄▃▃▄▃▃▂▃▃▂▃▃▂▂▃▂▂▂▂▂▁▂▂▂▁▂▁▁▂▂▁▁</td></tr><tr><td>average_validation_loss</td><td>█▅▄▂▃▃▂▂▃▂▂▂▂▁▁▂▂▁▂▂▂▁▃▁▁▁▂▁▁▃▂▁▁▂▁▁▄▂▂▁</td></tr><tr><td>learning rate</td><td>█▇▄▁█▆▃▁▇▄▂█▆▃▁█▅▂█▆▄▁█▅▂▁▇▄▁█▆▃▁▇▄▂█▆▃▁</td></tr><tr><td>step_training_accuracy</td><td>▁▂▄▅▄▄▅▆▅▆▆▅▆▆▇▆▆▇▆▆▇▇▆▆█▇▇▇▇▆▇▇▇▆▇█▇▇██</td></tr><tr><td>step_training_loss</td><td>█▇▆▄▅▄▄▃▄▄▃▄▄▂▂▃▃▂▃▃▂▂▃▃▂▂▂▂▂▂▂▂▂▃▁▁▂▂▁▁</td></tr><tr><td>step_validation_accuracy</td><td>▁▂▄▅▅▆▆▆▆▅▆▅▆▇█▆▆▇▆▆▇▆▇▇▇▅▇▆█▆▇▇█▆▇█▇▇▇█</td></tr><tr><td>step_validation_loss</td><td>█▆▅▃▄▄▃▃▃▃▃▃▂▃▁▃▂▂▃▃▁▃▃▂▂▄▂▃▁▄▃▂▁▄▂▁▃▂▄▂</td></tr></table><br/></div><div class=\"wandb-col\"><h3>Run summary:</h3><br/><table class=\"wandb\"><tr><td>average_training_loss</td><td>0.39107</td></tr><tr><td>average_validation_loss</td><td>1.34474</td></tr><tr><td>learning rate</td><td>0.0004</td></tr><tr><td>step_training_accuracy</td><td>0.81897</td></tr><tr><td>step_training_loss</td><td>0.51447</td></tr><tr><td>step_validation_accuracy</td><td>0.74194</td></tr><tr><td>step_validation_loss</td><td>1.31583</td></tr></table><br/></div></div>"
      ],
      "text/plain": [
       "<IPython.core.display.HTML object>"
      ]
     },
     "metadata": {},
     "output_type": "display_data"
    },
    {
     "data": {
      "text/html": [
       " View run <strong style=\"color:#cdcd00\">scarlet-armadillo-29</strong> at: <a href='https://wandb.ai/nickwkt/Food-11/runs/vezoxjs2' target=\"_blank\">https://wandb.ai/nickwkt/Food-11/runs/vezoxjs2</a><br/>Synced 6 W&B file(s), 0 media file(s), 0 artifact file(s) and 0 other file(s)"
      ],
      "text/plain": [
       "<IPython.core.display.HTML object>"
      ]
     },
     "metadata": {},
     "output_type": "display_data"
    },
    {
     "data": {
      "text/html": [
       "Find logs at: <code>./wandb/run-20230416_012546-vezoxjs2/logs</code>"
      ],
      "text/plain": [
       "<IPython.core.display.HTML object>"
      ]
     },
     "metadata": {},
     "output_type": "display_data"
    },
    {
     "name": "stdout",
     "output_type": "stream",
     "text": [
      "\n",
      "\n",
      "Starting Fold: 2 ********************************************\n",
      "cuda:0\n"
     ]
    },
    {
     "data": {
      "text/html": [
       "Tracking run with wandb version 0.14.2"
      ],
      "text/plain": [
       "<IPython.core.display.HTML object>"
      ]
     },
     "metadata": {},
     "output_type": "display_data"
    },
    {
     "data": {
      "text/html": [
       "Run data is saved locally in <code>/home/user/jupyter_file/wandb/run-20230416_025121-7fvc6wqf</code>"
      ],
      "text/plain": [
       "<IPython.core.display.HTML object>"
      ]
     },
     "metadata": {},
     "output_type": "display_data"
    },
    {
     "data": {
      "text/html": [
       "Syncing run <strong><a href='https://wandb.ai/nickwkt/Food-11/runs/7fvc6wqf' target=\"_blank\">fast-energy-30</a></strong> to <a href='https://wandb.ai/nickwkt/Food-11' target=\"_blank\">Weights & Biases</a> (<a href='https://wandb.me/run' target=\"_blank\">docs</a>)<br/>"
      ],
      "text/plain": [
       "<IPython.core.display.HTML object>"
      ]
     },
     "metadata": {},
     "output_type": "display_data"
    },
    {
     "data": {
      "text/html": [
       " View project at <a href='https://wandb.ai/nickwkt/Food-11' target=\"_blank\">https://wandb.ai/nickwkt/Food-11</a>"
      ],
      "text/plain": [
       "<IPython.core.display.HTML object>"
      ]
     },
     "metadata": {},
     "output_type": "display_data"
    },
    {
     "data": {
      "text/html": [
       " View run at <a href='https://wandb.ai/nickwkt/Food-11/runs/7fvc6wqf' target=\"_blank\">https://wandb.ai/nickwkt/Food-11/runs/7fvc6wqf</a>"
      ],
      "text/plain": [
       "<IPython.core.display.HTML object>"
      ]
     },
     "metadata": {},
     "output_type": "display_data"
    },
    {
     "name": "stderr",
     "output_type": "stream",
     "text": [
      "T: 001/300: 100%|█| 78/78 [00:18<00:00,  4.32it/s, lr=0.0004, b_loss=1.96, b_acc\n"
     ]
    },
    {
     "name": "stdout",
     "output_type": "stream",
     "text": [
      "[ Train | 001/300 ] loss = 2.11005, acc = 0.25192\n"
     ]
    },
    {
     "name": "stderr",
     "output_type": "stream",
     "text": [
      "V: 001/300: 100%|█████| 26/26 [00:04<00:00,  5.87it/s, v_loss=2.05, v_acc=0.293]\n"
     ]
    },
    {
     "name": "stdout",
     "output_type": "stream",
     "text": [
      "[ Valid | 001/300 ] loss = 2.04655, acc = 0.29341\n",
      "[ Valid | 001/300 ] loss = 2.04655, acc = 0.29341 -> best\n",
      "Best model found at fold 2 epoch 1, acc=0.29341, saving model\n"
     ]
    },
    {
     "name": "stderr",
     "output_type": "stream",
     "text": [
      "T: 002/300: 100%|█| 78/78 [00:18<00:00,  4.32it/s, lr=0.000398, b_loss=1.97, b_a\n"
     ]
    },
    {
     "name": "stdout",
     "output_type": "stream",
     "text": [
      "[ Train | 002/300 ] loss = 1.94023, acc = 0.31683\n"
     ]
    },
    {
     "name": "stderr",
     "output_type": "stream",
     "text": [
      "V: 002/300: 100%|█████| 26/26 [00:04<00:00,  5.30it/s, v_loss=2.02, v_acc=0.274]\n"
     ]
    },
    {
     "name": "stdout",
     "output_type": "stream",
     "text": [
      "[ Valid | 002/300 ] loss = 2.02260, acc = 0.27431\n",
      "[ Valid | 002/300 ] loss = 2.02260, acc = 0.27431\n"
     ]
    },
    {
     "name": "stderr",
     "output_type": "stream",
     "text": [
      "T: 003/300: 100%|█| 78/78 [00:18<00:00,  4.30it/s, lr=0.00039, b_loss=1.86, b_ac\n"
     ]
    },
    {
     "name": "stdout",
     "output_type": "stream",
     "text": [
      "[ Train | 003/300 ] loss = 1.85297, acc = 0.35383\n"
     ]
    },
    {
     "name": "stderr",
     "output_type": "stream",
     "text": [
      "V: 003/300: 100%|█████| 26/26 [00:04<00:00,  5.34it/s, v_loss=1.95, v_acc=0.328]\n"
     ]
    },
    {
     "name": "stdout",
     "output_type": "stream",
     "text": [
      "[ Valid | 003/300 ] loss = 1.94847, acc = 0.32824\n",
      "[ Valid | 003/300 ] loss = 1.94847, acc = 0.32824 -> best\n",
      "Best model found at fold 2 epoch 3, acc=0.32824, saving model\n"
     ]
    },
    {
     "name": "stderr",
     "output_type": "stream",
     "text": [
      "T: 004/300: 100%|█| 78/78 [00:18<00:00,  4.29it/s, lr=0.000378, b_loss=1.75, b_a\n"
     ]
    },
    {
     "name": "stdout",
     "output_type": "stream",
     "text": [
      "[ Train | 004/300 ] loss = 1.77296, acc = 0.38244\n"
     ]
    },
    {
     "name": "stderr",
     "output_type": "stream",
     "text": [
      "V: 004/300: 100%|██████| 26/26 [00:04<00:00,  5.73it/s, v_loss=1.77, v_acc=0.39]\n"
     ]
    },
    {
     "name": "stdout",
     "output_type": "stream",
     "text": [
      "[ Valid | 004/300 ] loss = 1.76579, acc = 0.39017\n",
      "[ Valid | 004/300 ] loss = 1.76579, acc = 0.39017 -> best\n",
      "Best model found at fold 2 epoch 4, acc=0.39017, saving model\n"
     ]
    },
    {
     "name": "stderr",
     "output_type": "stream",
     "text": [
      "T: 005/300: 100%|█| 78/78 [00:19<00:00,  4.06it/s, lr=0.000362, b_loss=1.69, b_a\n"
     ]
    },
    {
     "name": "stdout",
     "output_type": "stream",
     "text": [
      "[ Train | 005/300 ] loss = 1.69957, acc = 0.41056\n"
     ]
    },
    {
     "name": "stderr",
     "output_type": "stream",
     "text": [
      "V: 005/300: 100%|█████| 26/26 [00:04<00:00,  6.01it/s, v_loss=1.89, v_acc=0.358]\n"
     ]
    },
    {
     "name": "stdout",
     "output_type": "stream",
     "text": [
      "[ Valid | 005/300 ] loss = 1.89203, acc = 0.35827\n",
      "[ Valid | 005/300 ] loss = 1.89203, acc = 0.35827\n"
     ]
    },
    {
     "name": "stderr",
     "output_type": "stream",
     "text": [
      "T: 006/300: 100%|█| 78/78 [00:17<00:00,  4.44it/s, lr=0.000341, b_loss=1.77, b_a\n"
     ]
    },
    {
     "name": "stdout",
     "output_type": "stream",
     "text": [
      "[ Train | 006/300 ] loss = 1.63721, acc = 0.43292\n"
     ]
    },
    {
     "name": "stderr",
     "output_type": "stream",
     "text": [
      "V: 006/300: 100%|██████| 26/26 [00:04<00:00,  5.81it/s, v_loss=2.1, v_acc=0.357]\n"
     ]
    },
    {
     "name": "stdout",
     "output_type": "stream",
     "text": [
      "[ Valid | 006/300 ] loss = 2.10187, acc = 0.35733\n",
      "[ Valid | 006/300 ] loss = 2.10187, acc = 0.35733\n"
     ]
    },
    {
     "name": "stderr",
     "output_type": "stream",
     "text": [
      "T: 007/300: 100%|█| 78/78 [00:18<00:00,  4.32it/s, lr=0.000318, b_loss=1.77, b_a\n"
     ]
    },
    {
     "name": "stdout",
     "output_type": "stream",
     "text": [
      "[ Train | 007/300 ] loss = 1.56413, acc = 0.45284\n"
     ]
    },
    {
     "name": "stderr",
     "output_type": "stream",
     "text": [
      "V: 007/300: 100%|█████| 26/26 [00:05<00:00,  4.75it/s, v_loss=1.59, v_acc=0.455]\n"
     ]
    },
    {
     "name": "stdout",
     "output_type": "stream",
     "text": [
      "[ Valid | 007/300 ] loss = 1.58642, acc = 0.45510\n",
      "[ Valid | 007/300 ] loss = 1.58642, acc = 0.45510 -> best\n",
      "Best model found at fold 2 epoch 7, acc=0.45510, saving model\n"
     ]
    },
    {
     "name": "stderr",
     "output_type": "stream",
     "text": [
      "T: 008/300: 100%|█| 78/78 [00:17<00:00,  4.43it/s, lr=0.000291, b_loss=1.4, b_ac\n"
     ]
    },
    {
     "name": "stdout",
     "output_type": "stream",
     "text": [
      "[ Train | 008/300 ] loss = 1.51061, acc = 0.47217\n"
     ]
    },
    {
     "name": "stderr",
     "output_type": "stream",
     "text": [
      "V: 008/300: 100%|██████| 26/26 [00:04<00:00,  5.46it/s, v_loss=1.5, v_acc=0.494]\n"
     ]
    },
    {
     "name": "stdout",
     "output_type": "stream",
     "text": [
      "[ Valid | 008/300 ] loss = 1.50353, acc = 0.49427\n",
      "[ Valid | 008/300 ] loss = 1.50353, acc = 0.49427 -> best\n",
      "Best model found at fold 2 epoch 8, acc=0.49427, saving model\n"
     ]
    },
    {
     "name": "stderr",
     "output_type": "stream",
     "text": [
      "T: 009/300: 100%|█| 78/78 [00:18<00:00,  4.29it/s, lr=0.000262, b_loss=1.48, b_a\n"
     ]
    },
    {
     "name": "stdout",
     "output_type": "stream",
     "text": [
      "[ Train | 009/300 ] loss = 1.46453, acc = 0.49211\n"
     ]
    },
    {
     "name": "stderr",
     "output_type": "stream",
     "text": [
      "V: 009/300: 100%|█████| 26/26 [00:04<00:00,  5.54it/s, v_loss=1.63, v_acc=0.458]\n"
     ]
    },
    {
     "name": "stdout",
     "output_type": "stream",
     "text": [
      "[ Valid | 009/300 ] loss = 1.63313, acc = 0.45823\n",
      "[ Valid | 009/300 ] loss = 1.63313, acc = 0.45823\n"
     ]
    },
    {
     "name": "stderr",
     "output_type": "stream",
     "text": [
      "T: 010/300: 100%|█| 78/78 [00:18<00:00,  4.27it/s, lr=0.000231, b_loss=1.34, b_a\n"
     ]
    },
    {
     "name": "stdout",
     "output_type": "stream",
     "text": [
      "[ Train | 010/300 ] loss = 1.38065, acc = 0.52071\n"
     ]
    },
    {
     "name": "stderr",
     "output_type": "stream",
     "text": [
      "V: 010/300: 100%|█████| 26/26 [00:04<00:00,  5.44it/s, v_loss=1.63, v_acc=0.443]\n"
     ]
    },
    {
     "name": "stdout",
     "output_type": "stream",
     "text": [
      "[ Valid | 010/300 ] loss = 1.63429, acc = 0.44345\n",
      "[ Valid | 010/300 ] loss = 1.63429, acc = 0.44345\n"
     ]
    },
    {
     "name": "stderr",
     "output_type": "stream",
     "text": [
      "T: 011/300: 100%|█| 78/78 [00:17<00:00,  4.36it/s, lr=0.0002, b_loss=1.22, b_acc\n"
     ]
    },
    {
     "name": "stdout",
     "output_type": "stream",
     "text": [
      "[ Train | 011/300 ] loss = 1.36277, acc = 0.52474\n"
     ]
    },
    {
     "name": "stderr",
     "output_type": "stream",
     "text": [
      "V: 011/300: 100%|█████| 26/26 [00:04<00:00,  5.38it/s, v_loss=1.53, v_acc=0.496]\n"
     ]
    },
    {
     "name": "stdout",
     "output_type": "stream",
     "text": [
      "[ Valid | 011/300 ] loss = 1.53032, acc = 0.49606\n",
      "[ Valid | 011/300 ] loss = 1.53032, acc = 0.49606 -> best\n",
      "Best model found at fold 2 epoch 11, acc=0.49606, saving model\n"
     ]
    },
    {
     "name": "stderr",
     "output_type": "stream",
     "text": [
      "T: 012/300: 100%|█| 78/78 [00:18<00:00,  4.21it/s, lr=0.000169, b_loss=1.35, b_a\n"
     ]
    },
    {
     "name": "stdout",
     "output_type": "stream",
     "text": [
      "[ Train | 012/300 ] loss = 1.30626, acc = 0.55044\n"
     ]
    },
    {
     "name": "stderr",
     "output_type": "stream",
     "text": [
      "V: 012/300: 100%|█████| 26/26 [00:04<00:00,  5.59it/s, v_loss=1.26, v_acc=0.567]\n"
     ]
    },
    {
     "name": "stdout",
     "output_type": "stream",
     "text": [
      "[ Valid | 012/300 ] loss = 1.26079, acc = 0.56743\n",
      "[ Valid | 012/300 ] loss = 1.26079, acc = 0.56743 -> best\n",
      "Best model found at fold 2 epoch 12, acc=0.56743, saving model\n"
     ]
    },
    {
     "name": "stderr",
     "output_type": "stream",
     "text": [
      "T: 013/300: 100%|█| 78/78 [00:17<00:00,  4.37it/s, lr=0.000138, b_loss=1.13, b_a\n"
     ]
    },
    {
     "name": "stdout",
     "output_type": "stream",
     "text": [
      "[ Train | 013/300 ] loss = 1.26381, acc = 0.56824\n"
     ]
    },
    {
     "name": "stderr",
     "output_type": "stream",
     "text": [
      "V: 013/300: 100%|█████| 26/26 [00:04<00:00,  5.58it/s, v_loss=1.27, v_acc=0.568]\n"
     ]
    },
    {
     "name": "stdout",
     "output_type": "stream",
     "text": [
      "[ Valid | 013/300 ] loss = 1.27486, acc = 0.56802\n",
      "[ Valid | 013/300 ] loss = 1.27486, acc = 0.56802 -> best\n",
      "Best model found at fold 2 epoch 13, acc=0.56802, saving model\n"
     ]
    },
    {
     "name": "stderr",
     "output_type": "stream",
     "text": [
      "T: 014/300: 100%|█| 78/78 [00:17<00:00,  4.35it/s, lr=0.000109, b_loss=1.31, b_a\n"
     ]
    },
    {
     "name": "stdout",
     "output_type": "stream",
     "text": [
      "[ Train | 014/300 ] loss = 1.22554, acc = 0.57820\n"
     ]
    },
    {
     "name": "stderr",
     "output_type": "stream",
     "text": [
      "V: 014/300: 100%|██████| 26/26 [00:04<00:00,  5.97it/s, v_loss=1.2, v_acc=0.598]\n"
     ]
    },
    {
     "name": "stdout",
     "output_type": "stream",
     "text": [
      "[ Valid | 014/300 ] loss = 1.20229, acc = 0.59805\n",
      "[ Valid | 014/300 ] loss = 1.20229, acc = 0.59805 -> best\n",
      "Best model found at fold 2 epoch 14, acc=0.59805, saving model\n"
     ]
    },
    {
     "name": "stderr",
     "output_type": "stream",
     "text": [
      "T: 015/300: 100%|█| 78/78 [00:18<00:00,  4.23it/s, lr=8.24e-5, b_loss=1.07, b_ac\n"
     ]
    },
    {
     "name": "stdout",
     "output_type": "stream",
     "text": [
      "[ Train | 015/300 ] loss = 1.18316, acc = 0.58558\n"
     ]
    },
    {
     "name": "stderr",
     "output_type": "stream",
     "text": [
      "V: 015/300: 100%|█████| 26/26 [00:04<00:00,  5.69it/s, v_loss=1.13, v_acc=0.619]\n"
     ]
    },
    {
     "name": "stdout",
     "output_type": "stream",
     "text": [
      "[ Valid | 015/300 ] loss = 1.13370, acc = 0.61916\n",
      "[ Valid | 015/300 ] loss = 1.13370, acc = 0.61916 -> best\n",
      "Best model found at fold 2 epoch 15, acc=0.61916, saving model\n"
     ]
    },
    {
     "name": "stderr",
     "output_type": "stream",
     "text": [
      "T: 016/300: 100%|█| 78/78 [00:18<00:00,  4.26it/s, lr=5.86e-5, b_loss=1.33, b_ac\n"
     ]
    },
    {
     "name": "stdout",
     "output_type": "stream",
     "text": [
      "[ Train | 016/300 ] loss = 1.13920, acc = 0.60805\n"
     ]
    },
    {
     "name": "stderr",
     "output_type": "stream",
     "text": [
      "V: 016/300: 100%|█████| 26/26 [00:04<00:00,  5.75it/s, v_loss=1.14, v_acc=0.617]\n"
     ]
    },
    {
     "name": "stdout",
     "output_type": "stream",
     "text": [
      "[ Valid | 016/300 ] loss = 1.13653, acc = 0.61702\n",
      "[ Valid | 016/300 ] loss = 1.13653, acc = 0.61702\n"
     ]
    },
    {
     "name": "stderr",
     "output_type": "stream",
     "text": [
      "T: 017/300: 100%|█| 78/78 [00:17<00:00,  4.38it/s, lr=3.82e-5, b_loss=1.08, b_ac\n"
     ]
    },
    {
     "name": "stdout",
     "output_type": "stream",
     "text": [
      "[ Train | 017/300 ] loss = 1.11314, acc = 0.61547\n"
     ]
    },
    {
     "name": "stderr",
     "output_type": "stream",
     "text": [
      "V: 017/300: 100%|█████| 26/26 [00:04<00:00,  5.84it/s, v_loss=1.08, v_acc=0.631]\n"
     ]
    },
    {
     "name": "stdout",
     "output_type": "stream",
     "text": [
      "[ Valid | 017/300 ] loss = 1.07811, acc = 0.63060\n",
      "[ Valid | 017/300 ] loss = 1.07811, acc = 0.63060 -> best\n",
      "Best model found at fold 2 epoch 17, acc=0.63060, saving model\n"
     ]
    },
    {
     "name": "stderr",
     "output_type": "stream",
     "text": [
      "T: 018/300: 100%|█| 78/78 [00:17<00:00,  4.40it/s, lr=2.18e-5, b_loss=1.21, b_ac\n"
     ]
    },
    {
     "name": "stdout",
     "output_type": "stream",
     "text": [
      "[ Train | 018/300 ] loss = 1.08501, acc = 0.62346\n"
     ]
    },
    {
     "name": "stderr",
     "output_type": "stream",
     "text": [
      "V: 018/300: 100%|█████| 26/26 [00:04<00:00,  5.95it/s, v_loss=1.07, v_acc=0.641]\n"
     ]
    },
    {
     "name": "stdout",
     "output_type": "stream",
     "text": [
      "[ Valid | 018/300 ] loss = 1.06528, acc = 0.64109\n",
      "[ Valid | 018/300 ] loss = 1.06528, acc = 0.64109 -> best\n",
      "Best model found at fold 2 epoch 18, acc=0.64109, saving model\n"
     ]
    },
    {
     "name": "stderr",
     "output_type": "stream",
     "text": [
      "T: 019/300: 100%|█| 78/78 [00:17<00:00,  4.37it/s, lr=9.79e-6, b_loss=1.06, b_ac\n"
     ]
    },
    {
     "name": "stdout",
     "output_type": "stream",
     "text": [
      "[ Train | 019/300 ] loss = 1.07438, acc = 0.62759\n"
     ]
    },
    {
     "name": "stderr",
     "output_type": "stream",
     "text": [
      "V: 019/300: 100%|█████| 26/26 [00:04<00:00,  5.68it/s, v_loss=1.05, v_acc=0.645]\n"
     ]
    },
    {
     "name": "stdout",
     "output_type": "stream",
     "text": [
      "[ Valid | 019/300 ] loss = 1.04730, acc = 0.64504\n",
      "[ Valid | 019/300 ] loss = 1.04730, acc = 0.64504 -> best\n",
      "Best model found at fold 2 epoch 19, acc=0.64504, saving model\n"
     ]
    },
    {
     "name": "stderr",
     "output_type": "stream",
     "text": [
      "T: 020/300: 100%|█| 78/78 [00:17<00:00,  4.41it/s, lr=2.46e-6, b_loss=0.925, b_a\n"
     ]
    },
    {
     "name": "stdout",
     "output_type": "stream",
     "text": [
      "[ Train | 020/300 ] loss = 1.06826, acc = 0.63364\n"
     ]
    },
    {
     "name": "stderr",
     "output_type": "stream",
     "text": [
      "V: 020/300: 100%|█████| 26/26 [00:04<00:00,  6.09it/s, v_loss=1.04, v_acc=0.652]\n"
     ]
    },
    {
     "name": "stdout",
     "output_type": "stream",
     "text": [
      "[ Valid | 020/300 ] loss = 1.04202, acc = 0.65195\n",
      "[ Valid | 020/300 ] loss = 1.04202, acc = 0.65195 -> best\n",
      "Best model found at fold 2 epoch 20, acc=0.65195, saving model\n"
     ]
    },
    {
     "name": "stderr",
     "output_type": "stream",
     "text": [
      "T: 021/300: 100%|█| 78/78 [00:17<00:00,  4.36it/s, lr=0.0004, b_loss=1.22, b_acc\n"
     ]
    },
    {
     "name": "stdout",
     "output_type": "stream",
     "text": [
      "[ Train | 021/300 ] loss = 1.33772, acc = 0.54094\n"
     ]
    },
    {
     "name": "stderr",
     "output_type": "stream",
     "text": [
      "V: 021/300: 100%|█████| 26/26 [00:04<00:00,  5.62it/s, v_loss=1.86, v_acc=0.443]\n"
     ]
    },
    {
     "name": "stdout",
     "output_type": "stream",
     "text": [
      "[ Valid | 021/300 ] loss = 1.85775, acc = 0.44321\n",
      "[ Valid | 021/300 ] loss = 1.85775, acc = 0.44321\n"
     ]
    },
    {
     "name": "stderr",
     "output_type": "stream",
     "text": [
      "T: 022/300: 100%|█| 78/78 [00:17<00:00,  4.38it/s, lr=0.000398, b_loss=1.3, b_ac\n"
     ]
    },
    {
     "name": "stdout",
     "output_type": "stream",
     "text": [
      "[ Train | 022/300 ] loss = 1.29691, acc = 0.55546\n"
     ]
    },
    {
     "name": "stderr",
     "output_type": "stream",
     "text": [
      "V: 022/300: 100%|█████| 26/26 [00:04<00:00,  5.86it/s, v_loss=1.63, v_acc=0.487]\n"
     ]
    },
    {
     "name": "stdout",
     "output_type": "stream",
     "text": [
      "[ Valid | 022/300 ] loss = 1.63444, acc = 0.48732\n",
      "[ Valid | 022/300 ] loss = 1.63444, acc = 0.48732\n"
     ]
    },
    {
     "name": "stderr",
     "output_type": "stream",
     "text": [
      "T: 023/300: 100%|█| 78/78 [00:18<00:00,  4.26it/s, lr=0.00039, b_loss=1.35, b_ac\n"
     ]
    },
    {
     "name": "stdout",
     "output_type": "stream",
     "text": [
      "[ Train | 023/300 ] loss = 1.26674, acc = 0.56560\n"
     ]
    },
    {
     "name": "stderr",
     "output_type": "stream",
     "text": [
      "V: 023/300: 100%|█████| 26/26 [00:04<00:00,  5.76it/s, v_loss=1.54, v_acc=0.498]\n"
     ]
    },
    {
     "name": "stdout",
     "output_type": "stream",
     "text": [
      "[ Valid | 023/300 ] loss = 1.54047, acc = 0.49819\n",
      "[ Valid | 023/300 ] loss = 1.54047, acc = 0.49819\n"
     ]
    },
    {
     "name": "stderr",
     "output_type": "stream",
     "text": [
      "T: 024/300: 100%|█| 78/78 [00:17<00:00,  4.42it/s, lr=0.000378, b_loss=1.11, b_a\n"
     ]
    },
    {
     "name": "stdout",
     "output_type": "stream",
     "text": [
      "[ Train | 024/300 ] loss = 1.24603, acc = 0.56893\n"
     ]
    },
    {
     "name": "stderr",
     "output_type": "stream",
     "text": [
      "V: 024/300: 100%|█████| 26/26 [00:04<00:00,  5.96it/s, v_loss=1.34, v_acc=0.554]\n"
     ]
    },
    {
     "name": "stdout",
     "output_type": "stream",
     "text": [
      "[ Valid | 024/300 ] loss = 1.33654, acc = 0.55416\n",
      "[ Valid | 024/300 ] loss = 1.33654, acc = 0.55416\n"
     ]
    },
    {
     "name": "stderr",
     "output_type": "stream",
     "text": [
      "T: 025/300: 100%|█| 78/78 [00:17<00:00,  4.38it/s, lr=0.000362, b_loss=1.35, b_a\n"
     ]
    },
    {
     "name": "stdout",
     "output_type": "stream",
     "text": [
      "[ Train | 025/300 ] loss = 1.19740, acc = 0.58688\n"
     ]
    },
    {
     "name": "stderr",
     "output_type": "stream",
     "text": [
      "V: 025/300: 100%|█████| 26/26 [00:04<00:00,  5.42it/s, v_loss=1.52, v_acc=0.502]\n"
     ]
    },
    {
     "name": "stdout",
     "output_type": "stream",
     "text": [
      "[ Valid | 025/300 ] loss = 1.52426, acc = 0.50182\n",
      "[ Valid | 025/300 ] loss = 1.52426, acc = 0.50182\n"
     ]
    },
    {
     "name": "stderr",
     "output_type": "stream",
     "text": [
      "T: 026/300: 100%|█| 78/78 [00:17<00:00,  4.42it/s, lr=0.000341, b_loss=1.15, b_a\n"
     ]
    },
    {
     "name": "stdout",
     "output_type": "stream",
     "text": [
      "[ Train | 026/300 ] loss = 1.18362, acc = 0.59518\n"
     ]
    },
    {
     "name": "stderr",
     "output_type": "stream",
     "text": [
      "V: 026/300: 100%|█████| 26/26 [00:04<00:00,  5.53it/s, v_loss=1.45, v_acc=0.525]\n"
     ]
    },
    {
     "name": "stdout",
     "output_type": "stream",
     "text": [
      "[ Valid | 026/300 ] loss = 1.45217, acc = 0.52521\n",
      "[ Valid | 026/300 ] loss = 1.45217, acc = 0.52521\n"
     ]
    },
    {
     "name": "stderr",
     "output_type": "stream",
     "text": [
      "T: 027/300: 100%|█| 78/78 [00:17<00:00,  4.53it/s, lr=0.000318, b_loss=1.11, b_a\n"
     ]
    },
    {
     "name": "stdout",
     "output_type": "stream",
     "text": [
      "[ Train | 027/300 ] loss = 1.14252, acc = 0.60870\n"
     ]
    },
    {
     "name": "stderr",
     "output_type": "stream",
     "text": [
      "V: 027/300: 100%|█████| 26/26 [00:04<00:00,  5.95it/s, v_loss=1.31, v_acc=0.569]\n"
     ]
    },
    {
     "name": "stdout",
     "output_type": "stream",
     "text": [
      "[ Valid | 027/300 ] loss = 1.30729, acc = 0.56944\n",
      "[ Valid | 027/300 ] loss = 1.30729, acc = 0.56944\n"
     ]
    },
    {
     "name": "stderr",
     "output_type": "stream",
     "text": [
      "T: 028/300: 100%|█| 78/78 [00:17<00:00,  4.54it/s, lr=0.000291, b_loss=0.881, b_\n"
     ]
    },
    {
     "name": "stdout",
     "output_type": "stream",
     "text": [
      "[ Train | 028/300 ] loss = 1.11543, acc = 0.62025\n"
     ]
    },
    {
     "name": "stderr",
     "output_type": "stream",
     "text": [
      "V: 028/300: 100%|█████| 26/26 [00:04<00:00,  5.81it/s, v_loss=1.25, v_acc=0.578]\n"
     ]
    },
    {
     "name": "stdout",
     "output_type": "stream",
     "text": [
      "[ Valid | 028/300 ] loss = 1.25349, acc = 0.57761\n",
      "[ Valid | 028/300 ] loss = 1.25349, acc = 0.57761\n"
     ]
    },
    {
     "name": "stderr",
     "output_type": "stream",
     "text": [
      "T: 029/300: 100%|█| 78/78 [00:18<00:00,  4.24it/s, lr=0.000262, b_loss=1.11, b_a\n"
     ]
    },
    {
     "name": "stdout",
     "output_type": "stream",
     "text": [
      "[ Train | 029/300 ] loss = 1.07926, acc = 0.62719\n"
     ]
    },
    {
     "name": "stderr",
     "output_type": "stream",
     "text": [
      "V: 029/300: 100%|█████| 26/26 [00:04<00:00,  5.93it/s, v_loss=1.17, v_acc=0.608]\n"
     ]
    },
    {
     "name": "stdout",
     "output_type": "stream",
     "text": [
      "[ Valid | 029/300 ] loss = 1.17090, acc = 0.60802\n",
      "[ Valid | 029/300 ] loss = 1.17090, acc = 0.60802\n"
     ]
    },
    {
     "name": "stderr",
     "output_type": "stream",
     "text": [
      "T: 030/300: 100%|█| 78/78 [00:17<00:00,  4.38it/s, lr=0.000231, b_loss=0.958, b_\n"
     ]
    },
    {
     "name": "stdout",
     "output_type": "stream",
     "text": [
      "[ Train | 030/300 ] loss = 1.04027, acc = 0.64326\n"
     ]
    },
    {
     "name": "stderr",
     "output_type": "stream",
     "text": [
      "V: 030/300: 100%|█████| 26/26 [00:04<00:00,  5.60it/s, v_loss=1.15, v_acc=0.621]\n"
     ]
    },
    {
     "name": "stdout",
     "output_type": "stream",
     "text": [
      "[ Valid | 030/300 ] loss = 1.15106, acc = 0.62063\n",
      "[ Valid | 030/300 ] loss = 1.15106, acc = 0.62063\n"
     ]
    },
    {
     "name": "stderr",
     "output_type": "stream",
     "text": [
      "T: 031/300: 100%|█| 78/78 [00:17<00:00,  4.35it/s, lr=0.0002, b_loss=1.03, b_acc\n"
     ]
    },
    {
     "name": "stdout",
     "output_type": "stream",
     "text": [
      "[ Train | 031/300 ] loss = 1.00921, acc = 0.64992\n"
     ]
    },
    {
     "name": "stderr",
     "output_type": "stream",
     "text": [
      "V: 031/300: 100%|█████| 26/26 [00:04<00:00,  5.68it/s, v_loss=1.14, v_acc=0.624]\n"
     ]
    },
    {
     "name": "stdout",
     "output_type": "stream",
     "text": [
      "[ Valid | 031/300 ] loss = 1.13638, acc = 0.62421\n",
      "[ Valid | 031/300 ] loss = 1.13638, acc = 0.62421\n"
     ]
    },
    {
     "name": "stderr",
     "output_type": "stream",
     "text": [
      "T: 032/300: 100%|█| 78/78 [00:17<00:00,  4.40it/s, lr=0.000169, b_loss=1.09, b_a\n"
     ]
    },
    {
     "name": "stdout",
     "output_type": "stream",
     "text": [
      "[ Train | 032/300 ] loss = 0.97222, acc = 0.66402\n"
     ]
    },
    {
     "name": "stderr",
     "output_type": "stream",
     "text": [
      "V: 032/300: 100%|█████| 26/26 [00:04<00:00,  5.28it/s, v_loss=1.07, v_acc=0.638]\n"
     ]
    },
    {
     "name": "stdout",
     "output_type": "stream",
     "text": [
      "[ Valid | 032/300 ] loss = 1.07480, acc = 0.63809\n",
      "[ Valid | 032/300 ] loss = 1.07480, acc = 0.63809\n"
     ]
    },
    {
     "name": "stderr",
     "output_type": "stream",
     "text": [
      "T: 033/300: 100%|█| 78/78 [00:17<00:00,  4.39it/s, lr=0.000138, b_loss=1.13, b_a\n"
     ]
    },
    {
     "name": "stdout",
     "output_type": "stream",
     "text": [
      "[ Train | 033/300 ] loss = 0.95364, acc = 0.67198\n"
     ]
    },
    {
     "name": "stderr",
     "output_type": "stream",
     "text": [
      "V: 033/300: 100%|█████| 26/26 [00:04<00:00,  5.58it/s, v_loss=1.05, v_acc=0.653]\n"
     ]
    },
    {
     "name": "stdout",
     "output_type": "stream",
     "text": [
      "[ Valid | 033/300 ] loss = 1.04778, acc = 0.65347\n",
      "[ Valid | 033/300 ] loss = 1.04778, acc = 0.65347 -> best\n",
      "Best model found at fold 2 epoch 33, acc=0.65347, saving model\n"
     ]
    },
    {
     "name": "stderr",
     "output_type": "stream",
     "text": [
      "T: 034/300: 100%|█| 78/78 [00:18<00:00,  4.32it/s, lr=0.000109, b_loss=1.04, b_a\n"
     ]
    },
    {
     "name": "stdout",
     "output_type": "stream",
     "text": [
      "[ Train | 034/300 ] loss = 0.92856, acc = 0.67383\n"
     ]
    },
    {
     "name": "stderr",
     "output_type": "stream",
     "text": [
      "V: 034/300: 100%|████| 26/26 [00:04<00:00,  5.28it/s, v_loss=0.958, v_acc=0.679]\n"
     ]
    },
    {
     "name": "stdout",
     "output_type": "stream",
     "text": [
      "[ Valid | 034/300 ] loss = 0.95790, acc = 0.67935\n",
      "[ Valid | 034/300 ] loss = 0.95790, acc = 0.67935 -> best\n",
      "Best model found at fold 2 epoch 34, acc=0.67935, saving model\n"
     ]
    },
    {
     "name": "stderr",
     "output_type": "stream",
     "text": [
      "T: 035/300: 100%|█| 78/78 [00:17<00:00,  4.37it/s, lr=8.24e-5, b_loss=0.815, b_a\n"
     ]
    },
    {
     "name": "stdout",
     "output_type": "stream",
     "text": [
      "[ Train | 035/300 ] loss = 0.89309, acc = 0.69595\n"
     ]
    },
    {
     "name": "stderr",
     "output_type": "stream",
     "text": [
      "V: 035/300: 100%|████| 26/26 [00:04<00:00,  5.52it/s, v_loss=0.938, v_acc=0.688]\n"
     ]
    },
    {
     "name": "stdout",
     "output_type": "stream",
     "text": [
      "[ Valid | 035/300 ] loss = 0.93762, acc = 0.68802\n",
      "[ Valid | 035/300 ] loss = 0.93762, acc = 0.68802 -> best\n",
      "Best model found at fold 2 epoch 35, acc=0.68802, saving model\n"
     ]
    },
    {
     "name": "stderr",
     "output_type": "stream",
     "text": [
      "T: 036/300: 100%|█| 78/78 [00:18<00:00,  4.24it/s, lr=5.86e-5, b_loss=0.936, b_a\n"
     ]
    },
    {
     "name": "stdout",
     "output_type": "stream",
     "text": [
      "[ Train | 036/300 ] loss = 0.88354, acc = 0.70074\n"
     ]
    },
    {
     "name": "stderr",
     "output_type": "stream",
     "text": [
      "V: 036/300: 100%|████| 26/26 [00:04<00:00,  5.29it/s, v_loss=0.926, v_acc=0.697]\n"
     ]
    },
    {
     "name": "stdout",
     "output_type": "stream",
     "text": [
      "[ Valid | 036/300 ] loss = 0.92564, acc = 0.69735\n",
      "[ Valid | 036/300 ] loss = 0.92564, acc = 0.69735 -> best\n",
      "Best model found at fold 2 epoch 36, acc=0.69735, saving model\n"
     ]
    },
    {
     "name": "stderr",
     "output_type": "stream",
     "text": [
      "T: 037/300: 100%|█| 78/78 [00:18<00:00,  4.31it/s, lr=3.82e-5, b_loss=0.748, b_a\n"
     ]
    },
    {
     "name": "stdout",
     "output_type": "stream",
     "text": [
      "[ Train | 037/300 ] loss = 0.85050, acc = 0.70513\n"
     ]
    },
    {
     "name": "stderr",
     "output_type": "stream",
     "text": [
      "V: 037/300: 100%|████| 26/26 [00:04<00:00,  5.85it/s, v_loss=0.883, v_acc=0.709]\n"
     ]
    },
    {
     "name": "stdout",
     "output_type": "stream",
     "text": [
      "[ Valid | 037/300 ] loss = 0.88319, acc = 0.70909\n",
      "[ Valid | 037/300 ] loss = 0.88319, acc = 0.70909 -> best\n",
      "Best model found at fold 2 epoch 37, acc=0.70909, saving model\n"
     ]
    },
    {
     "name": "stderr",
     "output_type": "stream",
     "text": [
      "T: 038/300: 100%|█| 78/78 [00:18<00:00,  4.27it/s, lr=2.18e-5, b_loss=0.982, b_a\n"
     ]
    },
    {
     "name": "stdout",
     "output_type": "stream",
     "text": [
      "[ Train | 038/300 ] loss = 0.82651, acc = 0.71356\n"
     ]
    },
    {
     "name": "stderr",
     "output_type": "stream",
     "text": [
      "V: 038/300: 100%|████| 26/26 [00:04<00:00,  5.60it/s, v_loss=0.877, v_acc=0.705]\n"
     ]
    },
    {
     "name": "stdout",
     "output_type": "stream",
     "text": [
      "[ Valid | 038/300 ] loss = 0.87728, acc = 0.70459\n",
      "[ Valid | 038/300 ] loss = 0.87728, acc = 0.70459\n"
     ]
    },
    {
     "name": "stderr",
     "output_type": "stream",
     "text": [
      "T: 039/300: 100%|█| 78/78 [00:17<00:00,  4.38it/s, lr=9.79e-6, b_loss=0.795, b_a\n"
     ]
    },
    {
     "name": "stdout",
     "output_type": "stream",
     "text": [
      "[ Train | 039/300 ] loss = 0.82644, acc = 0.71389\n"
     ]
    },
    {
     "name": "stderr",
     "output_type": "stream",
     "text": [
      "V: 039/300: 100%|████| 26/26 [00:04<00:00,  5.73it/s, v_loss=0.857, v_acc=0.715]\n"
     ]
    },
    {
     "name": "stdout",
     "output_type": "stream",
     "text": [
      "[ Valid | 039/300 ] loss = 0.85690, acc = 0.71478\n",
      "[ Valid | 039/300 ] loss = 0.85690, acc = 0.71478 -> best\n",
      "Best model found at fold 2 epoch 39, acc=0.71478, saving model\n"
     ]
    },
    {
     "name": "stderr",
     "output_type": "stream",
     "text": [
      "T: 040/300: 100%|█| 78/78 [00:17<00:00,  4.35it/s, lr=2.46e-6, b_loss=0.96, b_ac\n"
     ]
    },
    {
     "name": "stdout",
     "output_type": "stream",
     "text": [
      "[ Train | 040/300 ] loss = 0.80499, acc = 0.72389\n"
     ]
    },
    {
     "name": "stderr",
     "output_type": "stream",
     "text": [
      "V: 040/300: 100%|████| 26/26 [00:04<00:00,  5.60it/s, v_loss=0.859, v_acc=0.711]\n"
     ]
    },
    {
     "name": "stdout",
     "output_type": "stream",
     "text": [
      "[ Valid | 040/300 ] loss = 0.85944, acc = 0.71145\n",
      "[ Valid | 040/300 ] loss = 0.85944, acc = 0.71145\n"
     ]
    },
    {
     "name": "stderr",
     "output_type": "stream",
     "text": [
      "T: 041/300: 100%|█| 78/78 [00:18<00:00,  4.24it/s, lr=0.0004, b_loss=1.18, b_acc\n"
     ]
    },
    {
     "name": "stdout",
     "output_type": "stream",
     "text": [
      "[ Train | 041/300 ] loss = 1.08404, acc = 0.62764\n"
     ]
    },
    {
     "name": "stderr",
     "output_type": "stream",
     "text": [
      "V: 041/300: 100%|█████| 26/26 [00:04<00:00,  5.37it/s, v_loss=1.45, v_acc=0.531]\n"
     ]
    },
    {
     "name": "stdout",
     "output_type": "stream",
     "text": [
      "[ Valid | 041/300 ] loss = 1.45157, acc = 0.53135\n",
      "[ Valid | 041/300 ] loss = 1.45157, acc = 0.53135\n"
     ]
    },
    {
     "name": "stderr",
     "output_type": "stream",
     "text": [
      "T: 042/300: 100%|█| 78/78 [00:18<00:00,  4.20it/s, lr=0.000398, b_loss=1.2, b_ac\n"
     ]
    },
    {
     "name": "stdout",
     "output_type": "stream",
     "text": [
      "[ Train | 042/300 ] loss = 1.06955, acc = 0.63207\n"
     ]
    },
    {
     "name": "stderr",
     "output_type": "stream",
     "text": [
      "V: 042/300: 100%|█████| 26/26 [00:04<00:00,  5.53it/s, v_loss=1.27, v_acc=0.585]\n"
     ]
    },
    {
     "name": "stdout",
     "output_type": "stream",
     "text": [
      "[ Valid | 042/300 ] loss = 1.26658, acc = 0.58459\n",
      "[ Valid | 042/300 ] loss = 1.26658, acc = 0.58459\n"
     ]
    },
    {
     "name": "stderr",
     "output_type": "stream",
     "text": [
      "T: 043/300: 100%|█| 78/78 [00:18<00:00,  4.32it/s, lr=0.00039, b_loss=0.989, b_a\n"
     ]
    },
    {
     "name": "stdout",
     "output_type": "stream",
     "text": [
      "[ Train | 043/300 ] loss = 1.03788, acc = 0.63941\n"
     ]
    },
    {
     "name": "stderr",
     "output_type": "stream",
     "text": [
      "V: 043/300: 100%|█████| 26/26 [00:04<00:00,  5.50it/s, v_loss=1.56, v_acc=0.507]\n"
     ]
    },
    {
     "name": "stdout",
     "output_type": "stream",
     "text": [
      "[ Valid | 043/300 ] loss = 1.55723, acc = 0.50726\n",
      "[ Valid | 043/300 ] loss = 1.55723, acc = 0.50726\n"
     ]
    },
    {
     "name": "stderr",
     "output_type": "stream",
     "text": [
      "T: 044/300: 100%|█| 78/78 [00:18<00:00,  4.23it/s, lr=0.000378, b_loss=0.97, b_a\n"
     ]
    },
    {
     "name": "stdout",
     "output_type": "stream",
     "text": [
      "[ Train | 044/300 ] loss = 1.00805, acc = 0.65637\n"
     ]
    },
    {
     "name": "stderr",
     "output_type": "stream",
     "text": [
      "V: 044/300: 100%|█████| 26/26 [00:04<00:00,  5.48it/s, v_loss=1.23, v_acc=0.578]\n"
     ]
    },
    {
     "name": "stdout",
     "output_type": "stream",
     "text": [
      "[ Valid | 044/300 ] loss = 1.23119, acc = 0.57828\n",
      "[ Valid | 044/300 ] loss = 1.23119, acc = 0.57828\n"
     ]
    },
    {
     "name": "stderr",
     "output_type": "stream",
     "text": [
      "T: 045/300: 100%|█| 78/78 [00:17<00:00,  4.43it/s, lr=0.000362, b_loss=1.17, b_a\n"
     ]
    },
    {
     "name": "stdout",
     "output_type": "stream",
     "text": [
      "[ Train | 045/300 ] loss = 0.97224, acc = 0.66530\n"
     ]
    },
    {
     "name": "stderr",
     "output_type": "stream",
     "text": [
      "V: 045/300: 100%|█████| 26/26 [00:04<00:00,  6.03it/s, v_loss=1.02, v_acc=0.664]\n"
     ]
    },
    {
     "name": "stdout",
     "output_type": "stream",
     "text": [
      "[ Valid | 045/300 ] loss = 1.01697, acc = 0.66372\n",
      "[ Valid | 045/300 ] loss = 1.01697, acc = 0.66372\n"
     ]
    },
    {
     "name": "stderr",
     "output_type": "stream",
     "text": [
      "T: 046/300: 100%|█| 78/78 [00:18<00:00,  4.15it/s, lr=0.000341, b_loss=1.05, b_a\n"
     ]
    },
    {
     "name": "stdout",
     "output_type": "stream",
     "text": [
      "[ Train | 046/300 ] loss = 0.96849, acc = 0.66807\n"
     ]
    },
    {
     "name": "stderr",
     "output_type": "stream",
     "text": [
      "V: 046/300: 100%|█████| 26/26 [00:04<00:00,  5.76it/s, v_loss=1.05, v_acc=0.642]\n"
     ]
    },
    {
     "name": "stdout",
     "output_type": "stream",
     "text": [
      "[ Valid | 046/300 ] loss = 1.04974, acc = 0.64169\n",
      "[ Valid | 046/300 ] loss = 1.04974, acc = 0.64169\n"
     ]
    },
    {
     "name": "stderr",
     "output_type": "stream",
     "text": [
      "T: 047/300: 100%|█| 78/78 [00:18<00:00,  4.11it/s, lr=0.000318, b_loss=0.942, b_\n"
     ]
    },
    {
     "name": "stdout",
     "output_type": "stream",
     "text": [
      "[ Train | 047/300 ] loss = 0.92539, acc = 0.68223\n"
     ]
    },
    {
     "name": "stderr",
     "output_type": "stream",
     "text": [
      "V: 047/300: 100%|█████| 26/26 [00:04<00:00,  5.67it/s, v_loss=1.17, v_acc=0.615]\n"
     ]
    },
    {
     "name": "stdout",
     "output_type": "stream",
     "text": [
      "[ Valid | 047/300 ] loss = 1.17198, acc = 0.61494\n",
      "[ Valid | 047/300 ] loss = 1.17198, acc = 0.61494\n"
     ]
    },
    {
     "name": "stderr",
     "output_type": "stream",
     "text": [
      "T: 048/300: 100%|█| 78/78 [00:17<00:00,  4.38it/s, lr=0.000291, b_loss=0.969, b_\n"
     ]
    },
    {
     "name": "stdout",
     "output_type": "stream",
     "text": [
      "[ Train | 048/300 ] loss = 0.92052, acc = 0.67795\n"
     ]
    },
    {
     "name": "stderr",
     "output_type": "stream",
     "text": [
      "V: 048/300: 100%|█████| 26/26 [00:04<00:00,  5.57it/s, v_loss=1.04, v_acc=0.653]\n"
     ]
    },
    {
     "name": "stdout",
     "output_type": "stream",
     "text": [
      "[ Valid | 048/300 ] loss = 1.03754, acc = 0.65257\n",
      "[ Valid | 048/300 ] loss = 1.03754, acc = 0.65257\n"
     ]
    },
    {
     "name": "stderr",
     "output_type": "stream",
     "text": [
      "T: 049/300: 100%|█| 78/78 [00:17<00:00,  4.44it/s, lr=0.000262, b_loss=0.778, b_\n"
     ]
    },
    {
     "name": "stdout",
     "output_type": "stream",
     "text": [
      "[ Train | 049/300 ] loss = 0.89261, acc = 0.69076\n"
     ]
    },
    {
     "name": "stderr",
     "output_type": "stream",
     "text": [
      "V: 049/300: 100%|█████| 26/26 [00:04<00:00,  5.66it/s, v_loss=1.11, v_acc=0.637]\n"
     ]
    },
    {
     "name": "stdout",
     "output_type": "stream",
     "text": [
      "[ Valid | 049/300 ] loss = 1.10993, acc = 0.63663\n",
      "[ Valid | 049/300 ] loss = 1.10993, acc = 0.63663\n"
     ]
    },
    {
     "name": "stderr",
     "output_type": "stream",
     "text": [
      "T: 050/300: 100%|█| 78/78 [00:18<00:00,  4.19it/s, lr=0.000231, b_loss=0.856, b_\n"
     ]
    },
    {
     "name": "stdout",
     "output_type": "stream",
     "text": [
      "[ Train | 050/300 ] loss = 0.85594, acc = 0.70403\n"
     ]
    },
    {
     "name": "stderr",
     "output_type": "stream",
     "text": [
      "V: 050/300: 100%|████| 26/26 [00:04<00:00,  5.39it/s, v_loss=0.994, v_acc=0.672]\n"
     ]
    },
    {
     "name": "stdout",
     "output_type": "stream",
     "text": [
      "[ Valid | 050/300 ] loss = 0.99400, acc = 0.67154\n",
      "[ Valid | 050/300 ] loss = 0.99400, acc = 0.67154\n"
     ]
    },
    {
     "name": "stderr",
     "output_type": "stream",
     "text": [
      "T: 051/300: 100%|█| 78/78 [00:17<00:00,  4.39it/s, lr=0.0002, b_loss=0.893, b_ac\n"
     ]
    },
    {
     "name": "stdout",
     "output_type": "stream",
     "text": [
      "[ Train | 051/300 ] loss = 0.83491, acc = 0.71000\n"
     ]
    },
    {
     "name": "stderr",
     "output_type": "stream",
     "text": [
      "V: 051/300: 100%|█████| 26/26 [00:04<00:00,  6.21it/s, v_loss=1.37, v_acc=0.585]\n"
     ]
    },
    {
     "name": "stdout",
     "output_type": "stream",
     "text": [
      "[ Valid | 051/300 ] loss = 1.36504, acc = 0.58534\n",
      "[ Valid | 051/300 ] loss = 1.36504, acc = 0.58534\n"
     ]
    },
    {
     "name": "stderr",
     "output_type": "stream",
     "text": [
      "T: 052/300: 100%|█| 78/78 [00:17<00:00,  4.39it/s, lr=0.000169, b_loss=0.816, b_\n"
     ]
    },
    {
     "name": "stdout",
     "output_type": "stream",
     "text": [
      "[ Train | 052/300 ] loss = 0.81463, acc = 0.72425\n"
     ]
    },
    {
     "name": "stderr",
     "output_type": "stream",
     "text": [
      "V: 052/300: 100%|████| 26/26 [00:04<00:00,  5.72it/s, v_loss=0.946, v_acc=0.693]\n"
     ]
    },
    {
     "name": "stdout",
     "output_type": "stream",
     "text": [
      "[ Valid | 052/300 ] loss = 0.94618, acc = 0.69287\n",
      "[ Valid | 052/300 ] loss = 0.94618, acc = 0.69287\n"
     ]
    },
    {
     "name": "stderr",
     "output_type": "stream",
     "text": [
      "T: 053/300: 100%|█| 78/78 [00:18<00:00,  4.31it/s, lr=0.000138, b_loss=0.871, b_\n"
     ]
    },
    {
     "name": "stdout",
     "output_type": "stream",
     "text": [
      "[ Train | 053/300 ] loss = 0.77779, acc = 0.73243\n"
     ]
    },
    {
     "name": "stderr",
     "output_type": "stream",
     "text": [
      "V: 053/300: 100%|████| 26/26 [00:04<00:00,  5.78it/s, v_loss=0.883, v_acc=0.706]\n"
     ]
    },
    {
     "name": "stdout",
     "output_type": "stream",
     "text": [
      "[ Valid | 053/300 ] loss = 0.88275, acc = 0.70637\n",
      "[ Valid | 053/300 ] loss = 0.88275, acc = 0.70637\n"
     ]
    },
    {
     "name": "stderr",
     "output_type": "stream",
     "text": [
      "T: 054/300: 100%|█| 78/78 [00:17<00:00,  4.44it/s, lr=0.000109, b_loss=0.803, b_\n"
     ]
    },
    {
     "name": "stdout",
     "output_type": "stream",
     "text": [
      "[ Train | 054/300 ] loss = 0.76606, acc = 0.73684\n"
     ]
    },
    {
     "name": "stderr",
     "output_type": "stream",
     "text": [
      "V: 054/300: 100%|████| 26/26 [00:04<00:00,  5.70it/s, v_loss=0.949, v_acc=0.691]\n"
     ]
    },
    {
     "name": "stdout",
     "output_type": "stream",
     "text": [
      "[ Valid | 054/300 ] loss = 0.94853, acc = 0.69134\n",
      "[ Valid | 054/300 ] loss = 0.94853, acc = 0.69134\n"
     ]
    },
    {
     "name": "stderr",
     "output_type": "stream",
     "text": [
      "T: 055/300: 100%|█| 78/78 [00:17<00:00,  4.42it/s, lr=8.24e-5, b_loss=0.755, b_a\n"
     ]
    },
    {
     "name": "stdout",
     "output_type": "stream",
     "text": [
      "[ Train | 055/300 ] loss = 0.74090, acc = 0.74582\n"
     ]
    },
    {
     "name": "stderr",
     "output_type": "stream",
     "text": [
      "V: 055/300: 100%|████| 26/26 [00:04<00:00,  5.33it/s, v_loss=0.853, v_acc=0.727]\n"
     ]
    },
    {
     "name": "stdout",
     "output_type": "stream",
     "text": [
      "[ Valid | 055/300 ] loss = 0.85288, acc = 0.72684\n",
      "[ Valid | 055/300 ] loss = 0.85288, acc = 0.72684 -> best\n",
      "Best model found at fold 2 epoch 55, acc=0.72684, saving model\n"
     ]
    },
    {
     "name": "stderr",
     "output_type": "stream",
     "text": [
      "T: 056/300: 100%|█| 78/78 [00:18<00:00,  4.28it/s, lr=5.86e-5, b_loss=0.579, b_a\n"
     ]
    },
    {
     "name": "stdout",
     "output_type": "stream",
     "text": [
      "[ Train | 056/300 ] loss = 0.71317, acc = 0.75370\n"
     ]
    },
    {
     "name": "stderr",
     "output_type": "stream",
     "text": [
      "V: 056/300: 100%|████| 26/26 [00:04<00:00,  5.55it/s, v_loss=0.816, v_acc=0.733]\n"
     ]
    },
    {
     "name": "stdout",
     "output_type": "stream",
     "text": [
      "[ Valid | 056/300 ] loss = 0.81602, acc = 0.73283\n",
      "[ Valid | 056/300 ] loss = 0.81602, acc = 0.73283 -> best\n",
      "Best model found at fold 2 epoch 56, acc=0.73283, saving model\n"
     ]
    },
    {
     "name": "stderr",
     "output_type": "stream",
     "text": [
      "T: 057/300: 100%|█| 78/78 [00:18<00:00,  4.30it/s, lr=3.82e-5, b_loss=0.651, b_a\n"
     ]
    },
    {
     "name": "stdout",
     "output_type": "stream",
     "text": [
      "[ Train | 057/300 ] loss = 0.70465, acc = 0.75645\n"
     ]
    },
    {
     "name": "stderr",
     "output_type": "stream",
     "text": [
      "V: 057/300: 100%|████| 26/26 [00:04<00:00,  5.81it/s, v_loss=0.795, v_acc=0.739]\n"
     ]
    },
    {
     "name": "stdout",
     "output_type": "stream",
     "text": [
      "[ Valid | 057/300 ] loss = 0.79464, acc = 0.73850\n",
      "[ Valid | 057/300 ] loss = 0.79464, acc = 0.73850 -> best\n",
      "Best model found at fold 2 epoch 57, acc=0.73850, saving model\n"
     ]
    },
    {
     "name": "stderr",
     "output_type": "stream",
     "text": [
      "T: 058/300: 100%|█| 78/78 [00:18<00:00,  4.32it/s, lr=2.18e-5, b_loss=0.748, b_a\n"
     ]
    },
    {
     "name": "stdout",
     "output_type": "stream",
     "text": [
      "[ Train | 058/300 ] loss = 0.66886, acc = 0.76664\n"
     ]
    },
    {
     "name": "stderr",
     "output_type": "stream",
     "text": [
      "V: 058/300: 100%|█████| 26/26 [00:04<00:00,  6.11it/s, v_loss=0.78, v_acc=0.745]\n"
     ]
    },
    {
     "name": "stdout",
     "output_type": "stream",
     "text": [
      "[ Valid | 058/300 ] loss = 0.77989, acc = 0.74482\n",
      "[ Valid | 058/300 ] loss = 0.77989, acc = 0.74482 -> best\n",
      "Best model found at fold 2 epoch 58, acc=0.74482, saving model\n"
     ]
    },
    {
     "name": "stderr",
     "output_type": "stream",
     "text": [
      "T: 059/300: 100%|█| 78/78 [00:17<00:00,  4.45it/s, lr=9.79e-6, b_loss=0.656, b_a\n"
     ]
    },
    {
     "name": "stdout",
     "output_type": "stream",
     "text": [
      "[ Train | 059/300 ] loss = 0.66971, acc = 0.77240\n"
     ]
    },
    {
     "name": "stderr",
     "output_type": "stream",
     "text": [
      "V: 059/300: 100%|████| 26/26 [00:04<00:00,  5.36it/s, v_loss=0.777, v_acc=0.745]\n"
     ]
    },
    {
     "name": "stdout",
     "output_type": "stream",
     "text": [
      "[ Valid | 059/300 ] loss = 0.77692, acc = 0.74515\n",
      "[ Valid | 059/300 ] loss = 0.77692, acc = 0.74515 -> best\n",
      "Best model found at fold 2 epoch 59, acc=0.74515, saving model\n"
     ]
    },
    {
     "name": "stderr",
     "output_type": "stream",
     "text": [
      "T: 060/300: 100%|█| 78/78 [00:18<00:00,  4.28it/s, lr=2.46e-6, b_loss=0.831, b_a\n"
     ]
    },
    {
     "name": "stdout",
     "output_type": "stream",
     "text": [
      "[ Train | 060/300 ] loss = 0.67422, acc = 0.77232\n"
     ]
    },
    {
     "name": "stderr",
     "output_type": "stream",
     "text": [
      "V: 060/300: 100%|████| 26/26 [00:04<00:00,  5.31it/s, v_loss=0.774, v_acc=0.744]\n"
     ]
    },
    {
     "name": "stdout",
     "output_type": "stream",
     "text": [
      "[ Valid | 060/300 ] loss = 0.77433, acc = 0.74425\n",
      "[ Valid | 060/300 ] loss = 0.77433, acc = 0.74425\n"
     ]
    },
    {
     "name": "stderr",
     "output_type": "stream",
     "text": [
      "T: 061/300: 100%|█| 78/78 [00:17<00:00,  4.42it/s, lr=0.0004, b_loss=1.02, b_acc\n"
     ]
    },
    {
     "name": "stdout",
     "output_type": "stream",
     "text": [
      "[ Train | 061/300 ] loss = 0.90327, acc = 0.69031\n"
     ]
    },
    {
     "name": "stderr",
     "output_type": "stream",
     "text": [
      "V: 061/300: 100%|█████| 26/26 [00:04<00:00,  5.26it/s, v_loss=1.17, v_acc=0.627]\n"
     ]
    },
    {
     "name": "stdout",
     "output_type": "stream",
     "text": [
      "[ Valid | 061/300 ] loss = 1.16983, acc = 0.62722\n",
      "[ Valid | 061/300 ] loss = 1.16983, acc = 0.62722\n"
     ]
    },
    {
     "name": "stderr",
     "output_type": "stream",
     "text": [
      "T: 062/300: 100%|█| 78/78 [00:18<00:00,  4.26it/s, lr=0.000398, b_loss=0.788, b_\n"
     ]
    },
    {
     "name": "stdout",
     "output_type": "stream",
     "text": [
      "[ Train | 062/300 ] loss = 0.90087, acc = 0.68957\n"
     ]
    },
    {
     "name": "stderr",
     "output_type": "stream",
     "text": [
      "V: 062/300: 100%|█████| 26/26 [00:05<00:00,  5.06it/s, v_loss=1.21, v_acc=0.615]\n"
     ]
    },
    {
     "name": "stdout",
     "output_type": "stream",
     "text": [
      "[ Valid | 062/300 ] loss = 1.20521, acc = 0.61497\n",
      "[ Valid | 062/300 ] loss = 1.20521, acc = 0.61497\n"
     ]
    },
    {
     "name": "stderr",
     "output_type": "stream",
     "text": [
      "T: 063/300: 100%|█| 78/78 [00:18<00:00,  4.28it/s, lr=0.00039, b_loss=0.806, b_a\n"
     ]
    },
    {
     "name": "stdout",
     "output_type": "stream",
     "text": [
      "[ Train | 063/300 ] loss = 0.91020, acc = 0.69017\n"
     ]
    },
    {
     "name": "stderr",
     "output_type": "stream",
     "text": [
      "V: 063/300: 100%|█████| 26/26 [00:04<00:00,  5.42it/s, v_loss=1.12, v_acc=0.633]\n"
     ]
    },
    {
     "name": "stdout",
     "output_type": "stream",
     "text": [
      "[ Valid | 063/300 ] loss = 1.12200, acc = 0.63330\n",
      "[ Valid | 063/300 ] loss = 1.12200, acc = 0.63330\n"
     ]
    },
    {
     "name": "stderr",
     "output_type": "stream",
     "text": [
      "T: 064/300: 100%|█| 78/78 [00:18<00:00,  4.27it/s, lr=0.000378, b_loss=0.829, b_\n"
     ]
    },
    {
     "name": "stdout",
     "output_type": "stream",
     "text": [
      "[ Train | 064/300 ] loss = 0.87561, acc = 0.70017\n"
     ]
    },
    {
     "name": "stderr",
     "output_type": "stream",
     "text": [
      "V: 064/300: 100%|█████| 26/26 [00:04<00:00,  5.36it/s, v_loss=1.04, v_acc=0.656]\n"
     ]
    },
    {
     "name": "stdout",
     "output_type": "stream",
     "text": [
      "[ Valid | 064/300 ] loss = 1.03951, acc = 0.65615\n",
      "[ Valid | 064/300 ] loss = 1.03951, acc = 0.65615\n"
     ]
    },
    {
     "name": "stderr",
     "output_type": "stream",
     "text": [
      "T: 065/300: 100%|█| 78/78 [00:18<00:00,  4.22it/s, lr=0.000362, b_loss=0.98, b_a\n"
     ]
    },
    {
     "name": "stdout",
     "output_type": "stream",
     "text": [
      "[ Train | 065/300 ] loss = 0.84747, acc = 0.70928\n"
     ]
    },
    {
     "name": "stderr",
     "output_type": "stream",
     "text": [
      "V: 065/300: 100%|█████| 26/26 [00:05<00:00,  5.15it/s, v_loss=1.14, v_acc=0.627]\n"
     ]
    },
    {
     "name": "stdout",
     "output_type": "stream",
     "text": [
      "[ Valid | 065/300 ] loss = 1.14067, acc = 0.62725\n",
      "[ Valid | 065/300 ] loss = 1.14067, acc = 0.62725\n"
     ]
    },
    {
     "name": "stderr",
     "output_type": "stream",
     "text": [
      "T: 066/300: 100%|█| 78/78 [00:18<00:00,  4.26it/s, lr=0.000341, b_loss=0.964, b_\n"
     ]
    },
    {
     "name": "stdout",
     "output_type": "stream",
     "text": [
      "[ Train | 066/300 ] loss = 0.83747, acc = 0.71234\n"
     ]
    },
    {
     "name": "stderr",
     "output_type": "stream",
     "text": [
      "V: 066/300: 100%|████| 26/26 [00:04<00:00,  5.44it/s, v_loss=0.929, v_acc=0.697]\n"
     ]
    },
    {
     "name": "stdout",
     "output_type": "stream",
     "text": [
      "[ Valid | 066/300 ] loss = 0.92893, acc = 0.69742\n",
      "[ Valid | 066/300 ] loss = 0.92893, acc = 0.69742\n"
     ]
    },
    {
     "name": "stderr",
     "output_type": "stream",
     "text": [
      "T: 067/300: 100%|█| 78/78 [00:18<00:00,  4.24it/s, lr=0.000318, b_loss=0.73, b_a\n"
     ]
    },
    {
     "name": "stdout",
     "output_type": "stream",
     "text": [
      "[ Train | 067/300 ] loss = 0.81470, acc = 0.71782\n"
     ]
    },
    {
     "name": "stderr",
     "output_type": "stream",
     "text": [
      "V: 067/300: 100%|████| 26/26 [00:04<00:00,  5.38it/s, v_loss=0.915, v_acc=0.705]\n"
     ]
    },
    {
     "name": "stdout",
     "output_type": "stream",
     "text": [
      "[ Valid | 067/300 ] loss = 0.91508, acc = 0.70521\n",
      "[ Valid | 067/300 ] loss = 0.91508, acc = 0.70521\n"
     ]
    },
    {
     "name": "stderr",
     "output_type": "stream",
     "text": [
      "T: 068/300: 100%|█| 78/78 [00:18<00:00,  4.30it/s, lr=0.000291, b_loss=0.981, b_\n"
     ]
    },
    {
     "name": "stdout",
     "output_type": "stream",
     "text": [
      "[ Train | 068/300 ] loss = 0.78466, acc = 0.73289\n"
     ]
    },
    {
     "name": "stderr",
     "output_type": "stream",
     "text": [
      "V: 068/300: 100%|████| 26/26 [00:04<00:00,  5.41it/s, v_loss=0.902, v_acc=0.699]\n"
     ]
    },
    {
     "name": "stdout",
     "output_type": "stream",
     "text": [
      "[ Valid | 068/300 ] loss = 0.90193, acc = 0.69894\n",
      "[ Valid | 068/300 ] loss = 0.90193, acc = 0.69894\n"
     ]
    },
    {
     "name": "stderr",
     "output_type": "stream",
     "text": [
      "T: 069/300: 100%|█| 78/78 [00:18<00:00,  4.31it/s, lr=0.000262, b_loss=0.904, b_\n"
     ]
    },
    {
     "name": "stdout",
     "output_type": "stream",
     "text": [
      "[ Train | 069/300 ] loss = 0.75569, acc = 0.74049\n"
     ]
    },
    {
     "name": "stderr",
     "output_type": "stream",
     "text": [
      "V: 069/300: 100%|█████| 26/26 [00:04<00:00,  5.45it/s, v_loss=1.11, v_acc=0.646]\n"
     ]
    },
    {
     "name": "stdout",
     "output_type": "stream",
     "text": [
      "[ Valid | 069/300 ] loss = 1.11328, acc = 0.64619\n",
      "[ Valid | 069/300 ] loss = 1.11328, acc = 0.64619\n"
     ]
    },
    {
     "name": "stderr",
     "output_type": "stream",
     "text": [
      "T: 070/300: 100%|█| 78/78 [00:18<00:00,  4.24it/s, lr=0.000231, b_loss=0.675, b_\n"
     ]
    },
    {
     "name": "stdout",
     "output_type": "stream",
     "text": [
      "[ Train | 070/300 ] loss = 0.74903, acc = 0.74343\n"
     ]
    },
    {
     "name": "stderr",
     "output_type": "stream",
     "text": [
      "V: 070/300: 100%|█████| 26/26 [00:04<00:00,  5.46it/s, v_loss=1.01, v_acc=0.672]\n"
     ]
    },
    {
     "name": "stdout",
     "output_type": "stream",
     "text": [
      "[ Valid | 070/300 ] loss = 1.00648, acc = 0.67234\n",
      "[ Valid | 070/300 ] loss = 1.00648, acc = 0.67234\n"
     ]
    },
    {
     "name": "stderr",
     "output_type": "stream",
     "text": [
      "T: 071/300: 100%|█| 78/78 [00:18<00:00,  4.27it/s, lr=0.0002, b_loss=0.616, b_ac\n"
     ]
    },
    {
     "name": "stdout",
     "output_type": "stream",
     "text": [
      "[ Train | 071/300 ] loss = 0.71886, acc = 0.75156\n"
     ]
    },
    {
     "name": "stderr",
     "output_type": "stream",
     "text": [
      "V: 071/300: 100%|████| 26/26 [00:04<00:00,  5.33it/s, v_loss=0.846, v_acc=0.726]\n"
     ]
    },
    {
     "name": "stdout",
     "output_type": "stream",
     "text": [
      "[ Valid | 071/300 ] loss = 0.84561, acc = 0.72640\n",
      "[ Valid | 071/300 ] loss = 0.84561, acc = 0.72640\n"
     ]
    },
    {
     "name": "stderr",
     "output_type": "stream",
     "text": [
      "T: 072/300: 100%|█| 78/78 [00:17<00:00,  4.46it/s, lr=0.000169, b_loss=0.709, b_\n"
     ]
    },
    {
     "name": "stdout",
     "output_type": "stream",
     "text": [
      "[ Train | 072/300 ] loss = 0.69509, acc = 0.75829\n"
     ]
    },
    {
     "name": "stderr",
     "output_type": "stream",
     "text": [
      "V: 072/300: 100%|████| 26/26 [00:04<00:00,  5.50it/s, v_loss=0.819, v_acc=0.733]\n"
     ]
    },
    {
     "name": "stdout",
     "output_type": "stream",
     "text": [
      "[ Valid | 072/300 ] loss = 0.81913, acc = 0.73281\n",
      "[ Valid | 072/300 ] loss = 0.81913, acc = 0.73281\n"
     ]
    },
    {
     "name": "stderr",
     "output_type": "stream",
     "text": [
      "T: 073/300: 100%|█| 78/78 [00:18<00:00,  4.24it/s, lr=0.000138, b_loss=0.874, b_\n"
     ]
    },
    {
     "name": "stdout",
     "output_type": "stream",
     "text": [
      "[ Train | 073/300 ] loss = 0.66715, acc = 0.77195\n"
     ]
    },
    {
     "name": "stderr",
     "output_type": "stream",
     "text": [
      "V: 073/300: 100%|████| 26/26 [00:04<00:00,  5.67it/s, v_loss=0.832, v_acc=0.728]\n"
     ]
    },
    {
     "name": "stdout",
     "output_type": "stream",
     "text": [
      "[ Valid | 073/300 ] loss = 0.83219, acc = 0.72810\n",
      "[ Valid | 073/300 ] loss = 0.83219, acc = 0.72810\n"
     ]
    },
    {
     "name": "stderr",
     "output_type": "stream",
     "text": [
      "T: 074/300: 100%|█| 78/78 [00:18<00:00,  4.32it/s, lr=0.000109, b_loss=0.683, b_\n"
     ]
    },
    {
     "name": "stdout",
     "output_type": "stream",
     "text": [
      "[ Train | 074/300 ] loss = 0.63604, acc = 0.78484\n"
     ]
    },
    {
     "name": "stderr",
     "output_type": "stream",
     "text": [
      "V: 074/300: 100%|████| 26/26 [00:04<00:00,  6.00it/s, v_loss=0.819, v_acc=0.741]\n"
     ]
    },
    {
     "name": "stdout",
     "output_type": "stream",
     "text": [
      "[ Valid | 074/300 ] loss = 0.81858, acc = 0.74100\n",
      "[ Valid | 074/300 ] loss = 0.81858, acc = 0.74100\n"
     ]
    },
    {
     "name": "stderr",
     "output_type": "stream",
     "text": [
      "T: 075/300: 100%|█| 78/78 [00:17<00:00,  4.38it/s, lr=8.24e-5, b_loss=0.631, b_a\n"
     ]
    },
    {
     "name": "stdout",
     "output_type": "stream",
     "text": [
      "[ Train | 075/300 ] loss = 0.61309, acc = 0.79034\n"
     ]
    },
    {
     "name": "stderr",
     "output_type": "stream",
     "text": [
      "V: 075/300: 100%|████| 26/26 [00:05<00:00,  5.18it/s, v_loss=0.777, v_acc=0.747]\n"
     ]
    },
    {
     "name": "stdout",
     "output_type": "stream",
     "text": [
      "[ Valid | 075/300 ] loss = 0.77676, acc = 0.74722\n",
      "[ Valid | 075/300 ] loss = 0.77676, acc = 0.74722 -> best\n",
      "Best model found at fold 2 epoch 75, acc=0.74722, saving model\n"
     ]
    },
    {
     "name": "stderr",
     "output_type": "stream",
     "text": [
      "T: 076/300: 100%|█| 78/78 [00:18<00:00,  4.31it/s, lr=5.86e-5, b_loss=0.477, b_a\n"
     ]
    },
    {
     "name": "stdout",
     "output_type": "stream",
     "text": [
      "[ Train | 076/300 ] loss = 0.60150, acc = 0.78947\n"
     ]
    },
    {
     "name": "stderr",
     "output_type": "stream",
     "text": [
      "V: 076/300: 100%|████| 26/26 [00:04<00:00,  5.51it/s, v_loss=0.746, v_acc=0.758]\n"
     ]
    },
    {
     "name": "stdout",
     "output_type": "stream",
     "text": [
      "[ Valid | 076/300 ] loss = 0.74588, acc = 0.75757\n",
      "[ Valid | 076/300 ] loss = 0.74588, acc = 0.75757 -> best\n",
      "Best model found at fold 2 epoch 76, acc=0.75757, saving model\n"
     ]
    },
    {
     "name": "stderr",
     "output_type": "stream",
     "text": [
      "T: 077/300: 100%|█| 78/78 [00:17<00:00,  4.41it/s, lr=3.82e-5, b_loss=0.59, b_ac\n"
     ]
    },
    {
     "name": "stdout",
     "output_type": "stream",
     "text": [
      "[ Train | 077/300 ] loss = 0.58983, acc = 0.79876\n"
     ]
    },
    {
     "name": "stderr",
     "output_type": "stream",
     "text": [
      "V: 077/300: 100%|████| 26/26 [00:04<00:00,  5.72it/s, v_loss=0.749, v_acc=0.767]\n"
     ]
    },
    {
     "name": "stdout",
     "output_type": "stream",
     "text": [
      "[ Valid | 077/300 ] loss = 0.74934, acc = 0.76713\n",
      "[ Valid | 077/300 ] loss = 0.74934, acc = 0.76713 -> best\n",
      "Best model found at fold 2 epoch 77, acc=0.76713, saving model\n"
     ]
    },
    {
     "name": "stderr",
     "output_type": "stream",
     "text": [
      "T: 078/300: 100%|█| 78/78 [00:18<00:00,  4.29it/s, lr=2.18e-5, b_loss=0.587, b_a\n"
     ]
    },
    {
     "name": "stdout",
     "output_type": "stream",
     "text": [
      "[ Train | 078/300 ] loss = 0.57608, acc = 0.80133\n"
     ]
    },
    {
     "name": "stderr",
     "output_type": "stream",
     "text": [
      "V: 078/300: 100%|████| 26/26 [00:04<00:00,  5.63it/s, v_loss=0.736, v_acc=0.765]\n"
     ]
    },
    {
     "name": "stdout",
     "output_type": "stream",
     "text": [
      "[ Valid | 078/300 ] loss = 0.73583, acc = 0.76537\n",
      "[ Valid | 078/300 ] loss = 0.73583, acc = 0.76537\n"
     ]
    },
    {
     "name": "stderr",
     "output_type": "stream",
     "text": [
      "T: 079/300: 100%|█| 78/78 [00:18<00:00,  4.32it/s, lr=9.79e-6, b_loss=0.464, b_a\n"
     ]
    },
    {
     "name": "stdout",
     "output_type": "stream",
     "text": [
      "[ Train | 079/300 ] loss = 0.55345, acc = 0.80819\n"
     ]
    },
    {
     "name": "stderr",
     "output_type": "stream",
     "text": [
      "V: 079/300: 100%|████| 26/26 [00:04<00:00,  6.14it/s, v_loss=0.728, v_acc=0.766]\n"
     ]
    },
    {
     "name": "stdout",
     "output_type": "stream",
     "text": [
      "[ Valid | 079/300 ] loss = 0.72825, acc = 0.76563\n",
      "[ Valid | 079/300 ] loss = 0.72825, acc = 0.76563\n"
     ]
    },
    {
     "name": "stderr",
     "output_type": "stream",
     "text": [
      "T: 080/300: 100%|█| 78/78 [00:18<00:00,  4.25it/s, lr=2.46e-6, b_loss=0.571, b_a\n"
     ]
    },
    {
     "name": "stdout",
     "output_type": "stream",
     "text": [
      "[ Train | 080/300 ] loss = 0.55373, acc = 0.81094\n"
     ]
    },
    {
     "name": "stderr",
     "output_type": "stream",
     "text": [
      "V: 080/300: 100%|█████| 26/26 [00:04<00:00,  5.41it/s, v_loss=0.73, v_acc=0.767]\n"
     ]
    },
    {
     "name": "stdout",
     "output_type": "stream",
     "text": [
      "[ Valid | 080/300 ] loss = 0.72999, acc = 0.76679\n",
      "[ Valid | 080/300 ] loss = 0.72999, acc = 0.76679\n"
     ]
    },
    {
     "name": "stderr",
     "output_type": "stream",
     "text": [
      "T: 081/300: 100%|█| 78/78 [00:18<00:00,  4.21it/s, lr=0.0004, b_loss=0.826, b_ac\n"
     ]
    },
    {
     "name": "stdout",
     "output_type": "stream",
     "text": [
      "[ Train | 081/300 ] loss = 0.79667, acc = 0.72991\n"
     ]
    },
    {
     "name": "stderr",
     "output_type": "stream",
     "text": [
      "V: 081/300: 100%|█████| 26/26 [00:04<00:00,  5.65it/s, v_loss=1.12, v_acc=0.634]\n"
     ]
    },
    {
     "name": "stdout",
     "output_type": "stream",
     "text": [
      "[ Valid | 081/300 ] loss = 1.11842, acc = 0.63416\n",
      "[ Valid | 081/300 ] loss = 1.11842, acc = 0.63416\n"
     ]
    },
    {
     "name": "stderr",
     "output_type": "stream",
     "text": [
      "T: 082/300: 100%|█| 78/78 [00:18<00:00,  4.26it/s, lr=0.000398, b_loss=0.728, b_\n"
     ]
    },
    {
     "name": "stdout",
     "output_type": "stream",
     "text": [
      "[ Train | 082/300 ] loss = 0.81316, acc = 0.71776\n"
     ]
    },
    {
     "name": "stderr",
     "output_type": "stream",
     "text": [
      "V: 082/300: 100%|████████| 26/26 [00:04<00:00,  5.28it/s, v_loss=1, v_acc=0.677]\n"
     ]
    },
    {
     "name": "stdout",
     "output_type": "stream",
     "text": [
      "[ Valid | 082/300 ] loss = 1.00238, acc = 0.67693\n",
      "[ Valid | 082/300 ] loss = 1.00238, acc = 0.67693\n"
     ]
    },
    {
     "name": "stderr",
     "output_type": "stream",
     "text": [
      "T: 083/300: 100%|█| 78/78 [00:18<00:00,  4.20it/s, lr=0.00039, b_loss=1.04, b_ac\n"
     ]
    },
    {
     "name": "stdout",
     "output_type": "stream",
     "text": [
      "[ Train | 083/300 ] loss = 0.78553, acc = 0.73437\n"
     ]
    },
    {
     "name": "stderr",
     "output_type": "stream",
     "text": [
      "V: 083/300: 100%|██████| 26/26 [00:04<00:00,  5.42it/s, v_loss=1.08, v_acc=0.66]\n"
     ]
    },
    {
     "name": "stdout",
     "output_type": "stream",
     "text": [
      "[ Valid | 083/300 ] loss = 1.07979, acc = 0.66001\n",
      "[ Valid | 083/300 ] loss = 1.07979, acc = 0.66001\n"
     ]
    },
    {
     "name": "stderr",
     "output_type": "stream",
     "text": [
      "T: 084/300: 100%|█| 78/78 [00:17<00:00,  4.39it/s, lr=0.000378, b_loss=0.707, b_\n"
     ]
    },
    {
     "name": "stdout",
     "output_type": "stream",
     "text": [
      "[ Train | 084/300 ] loss = 0.77241, acc = 0.73344\n"
     ]
    },
    {
     "name": "stderr",
     "output_type": "stream",
     "text": [
      "V: 084/300: 100%|████| 26/26 [00:04<00:00,  5.65it/s, v_loss=0.952, v_acc=0.703]\n"
     ]
    },
    {
     "name": "stdout",
     "output_type": "stream",
     "text": [
      "[ Valid | 084/300 ] loss = 0.95236, acc = 0.70278\n",
      "[ Valid | 084/300 ] loss = 0.95236, acc = 0.70278\n"
     ]
    },
    {
     "name": "stderr",
     "output_type": "stream",
     "text": [
      "T: 085/300: 100%|█| 78/78 [00:18<00:00,  4.26it/s, lr=0.000362, b_loss=0.866, b_\n"
     ]
    },
    {
     "name": "stdout",
     "output_type": "stream",
     "text": [
      "[ Train | 085/300 ] loss = 0.75377, acc = 0.73969\n"
     ]
    },
    {
     "name": "stderr",
     "output_type": "stream",
     "text": [
      "V: 085/300: 100%|██████| 26/26 [00:04<00:00,  5.89it/s, v_loss=1.09, v_acc=0.65]\n"
     ]
    },
    {
     "name": "stdout",
     "output_type": "stream",
     "text": [
      "[ Valid | 085/300 ] loss = 1.09316, acc = 0.64979\n",
      "[ Valid | 085/300 ] loss = 1.09316, acc = 0.64979\n"
     ]
    },
    {
     "name": "stderr",
     "output_type": "stream",
     "text": [
      "T: 086/300: 100%|█| 78/78 [00:18<00:00,  4.21it/s, lr=0.000341, b_loss=0.737, b_\n"
     ]
    },
    {
     "name": "stdout",
     "output_type": "stream",
     "text": [
      "[ Train | 086/300 ] loss = 0.73599, acc = 0.74675\n"
     ]
    },
    {
     "name": "stderr",
     "output_type": "stream",
     "text": [
      "V: 086/300: 100%|████| 26/26 [00:04<00:00,  5.61it/s, v_loss=0.895, v_acc=0.712]\n"
     ]
    },
    {
     "name": "stdout",
     "output_type": "stream",
     "text": [
      "[ Valid | 086/300 ] loss = 0.89456, acc = 0.71239\n",
      "[ Valid | 086/300 ] loss = 0.89456, acc = 0.71239\n"
     ]
    },
    {
     "name": "stderr",
     "output_type": "stream",
     "text": [
      "T: 087/300: 100%|█| 78/78 [00:18<00:00,  4.19it/s, lr=0.000318, b_loss=0.589, b_\n"
     ]
    },
    {
     "name": "stdout",
     "output_type": "stream",
     "text": [
      "[ Train | 087/300 ] loss = 0.71636, acc = 0.75207\n"
     ]
    },
    {
     "name": "stderr",
     "output_type": "stream",
     "text": [
      "V: 087/300: 100%|█████| 26/26 [00:04<00:00,  5.48it/s, v_loss=1.04, v_acc=0.675]\n"
     ]
    },
    {
     "name": "stdout",
     "output_type": "stream",
     "text": [
      "[ Valid | 087/300 ] loss = 1.03886, acc = 0.67452\n",
      "[ Valid | 087/300 ] loss = 1.03886, acc = 0.67452\n"
     ]
    },
    {
     "name": "stderr",
     "output_type": "stream",
     "text": [
      "T: 088/300: 100%|█| 78/78 [00:18<00:00,  4.23it/s, lr=0.000291, b_loss=0.601, b_\n"
     ]
    },
    {
     "name": "stdout",
     "output_type": "stream",
     "text": [
      "[ Train | 088/300 ] loss = 0.69091, acc = 0.76130\n"
     ]
    },
    {
     "name": "stderr",
     "output_type": "stream",
     "text": [
      "V: 088/300: 100%|█████| 26/26 [00:04<00:00,  5.23it/s, v_loss=1.04, v_acc=0.676]\n"
     ]
    },
    {
     "name": "stdout",
     "output_type": "stream",
     "text": [
      "[ Valid | 088/300 ] loss = 1.03942, acc = 0.67596\n",
      "[ Valid | 088/300 ] loss = 1.03942, acc = 0.67596\n"
     ]
    },
    {
     "name": "stderr",
     "output_type": "stream",
     "text": [
      "T: 089/300: 100%|█| 78/78 [00:18<00:00,  4.24it/s, lr=0.000262, b_loss=0.687, b_\n"
     ]
    },
    {
     "name": "stdout",
     "output_type": "stream",
     "text": [
      "[ Train | 089/300 ] loss = 0.66084, acc = 0.77035\n"
     ]
    },
    {
     "name": "stderr",
     "output_type": "stream",
     "text": [
      "V: 089/300: 100%|█████| 26/26 [00:05<00:00,  5.06it/s, v_loss=1.51, v_acc=0.566]\n"
     ]
    },
    {
     "name": "stdout",
     "output_type": "stream",
     "text": [
      "[ Valid | 089/300 ] loss = 1.50914, acc = 0.56590\n",
      "[ Valid | 089/300 ] loss = 1.50914, acc = 0.56590\n"
     ]
    },
    {
     "name": "stderr",
     "output_type": "stream",
     "text": [
      "T: 090/300: 100%|█| 78/78 [00:18<00:00,  4.27it/s, lr=0.000231, b_loss=0.592, b_\n"
     ]
    },
    {
     "name": "stdout",
     "output_type": "stream",
     "text": [
      "[ Train | 090/300 ] loss = 0.63573, acc = 0.78151\n"
     ]
    },
    {
     "name": "stderr",
     "output_type": "stream",
     "text": [
      "V: 090/300: 100%|████| 26/26 [00:04<00:00,  5.43it/s, v_loss=0.884, v_acc=0.725]\n"
     ]
    },
    {
     "name": "stdout",
     "output_type": "stream",
     "text": [
      "[ Valid | 090/300 ] loss = 0.88438, acc = 0.72531\n",
      "[ Valid | 090/300 ] loss = 0.88438, acc = 0.72531\n"
     ]
    },
    {
     "name": "stderr",
     "output_type": "stream",
     "text": [
      "T: 091/300: 100%|█| 78/78 [00:17<00:00,  4.36it/s, lr=0.0002, b_loss=0.467, b_ac\n"
     ]
    },
    {
     "name": "stdout",
     "output_type": "stream",
     "text": [
      "[ Train | 091/300 ] loss = 0.61522, acc = 0.78330\n"
     ]
    },
    {
     "name": "stderr",
     "output_type": "stream",
     "text": [
      "V: 091/300: 100%|████| 26/26 [00:04<00:00,  5.59it/s, v_loss=0.851, v_acc=0.732]\n"
     ]
    },
    {
     "name": "stdout",
     "output_type": "stream",
     "text": [
      "[ Valid | 091/300 ] loss = 0.85077, acc = 0.73186\n",
      "[ Valid | 091/300 ] loss = 0.85077, acc = 0.73186\n"
     ]
    },
    {
     "name": "stderr",
     "output_type": "stream",
     "text": [
      "T: 092/300: 100%|█| 78/78 [00:18<00:00,  4.33it/s, lr=0.000169, b_loss=0.662, b_\n"
     ]
    },
    {
     "name": "stdout",
     "output_type": "stream",
     "text": [
      "[ Train | 092/300 ] loss = 0.59548, acc = 0.79589\n"
     ]
    },
    {
     "name": "stderr",
     "output_type": "stream",
     "text": [
      "V: 092/300: 100%|█████| 26/26 [00:04<00:00,  5.47it/s, v_loss=1.01, v_acc=0.699]\n"
     ]
    },
    {
     "name": "stdout",
     "output_type": "stream",
     "text": [
      "[ Valid | 092/300 ] loss = 1.00501, acc = 0.69909\n",
      "[ Valid | 092/300 ] loss = 1.00501, acc = 0.69909\n"
     ]
    },
    {
     "name": "stderr",
     "output_type": "stream",
     "text": [
      "T: 093/300: 100%|█| 78/78 [00:18<00:00,  4.32it/s, lr=0.000138, b_loss=0.589, b_\n"
     ]
    },
    {
     "name": "stdout",
     "output_type": "stream",
     "text": [
      "[ Train | 093/300 ] loss = 0.56964, acc = 0.80233\n"
     ]
    },
    {
     "name": "stderr",
     "output_type": "stream",
     "text": [
      "V: 093/300: 100%|█████| 26/26 [00:04<00:00,  5.31it/s, v_loss=0.78, v_acc=0.754]\n"
     ]
    },
    {
     "name": "stdout",
     "output_type": "stream",
     "text": [
      "[ Valid | 093/300 ] loss = 0.77965, acc = 0.75415\n",
      "[ Valid | 093/300 ] loss = 0.77965, acc = 0.75415\n"
     ]
    },
    {
     "name": "stderr",
     "output_type": "stream",
     "text": [
      "T: 094/300: 100%|█| 78/78 [00:18<00:00,  4.22it/s, lr=0.000109, b_loss=0.581, b_\n"
     ]
    },
    {
     "name": "stdout",
     "output_type": "stream",
     "text": [
      "[ Train | 094/300 ] loss = 0.54622, acc = 0.81286\n"
     ]
    },
    {
     "name": "stderr",
     "output_type": "stream",
     "text": [
      "V: 094/300: 100%|████| 26/26 [00:05<00:00,  4.98it/s, v_loss=0.776, v_acc=0.759]\n"
     ]
    },
    {
     "name": "stdout",
     "output_type": "stream",
     "text": [
      "[ Valid | 094/300 ] loss = 0.77649, acc = 0.75901\n",
      "[ Valid | 094/300 ] loss = 0.77649, acc = 0.75901\n"
     ]
    },
    {
     "name": "stderr",
     "output_type": "stream",
     "text": [
      "T: 095/300: 100%|█| 78/78 [00:18<00:00,  4.27it/s, lr=8.24e-5, b_loss=0.62, b_ac\n"
     ]
    },
    {
     "name": "stdout",
     "output_type": "stream",
     "text": [
      "[ Train | 095/300 ] loss = 0.52433, acc = 0.81848\n"
     ]
    },
    {
     "name": "stderr",
     "output_type": "stream",
     "text": [
      "V: 095/300: 100%|████| 26/26 [00:05<00:00,  4.90it/s, v_loss=0.757, v_acc=0.763]\n"
     ]
    },
    {
     "name": "stdout",
     "output_type": "stream",
     "text": [
      "[ Valid | 095/300 ] loss = 0.75720, acc = 0.76325\n",
      "[ Valid | 095/300 ] loss = 0.75720, acc = 0.76325\n"
     ]
    },
    {
     "name": "stderr",
     "output_type": "stream",
     "text": [
      "T: 096/300: 100%|█| 78/78 [00:17<00:00,  4.34it/s, lr=5.86e-5, b_loss=0.529, b_a\n"
     ]
    },
    {
     "name": "stdout",
     "output_type": "stream",
     "text": [
      "[ Train | 096/300 ] loss = 0.50516, acc = 0.82670\n"
     ]
    },
    {
     "name": "stderr",
     "output_type": "stream",
     "text": [
      "V: 096/300: 100%|█████| 26/26 [00:05<00:00,  5.09it/s, v_loss=0.72, v_acc=0.772]\n"
     ]
    },
    {
     "name": "stdout",
     "output_type": "stream",
     "text": [
      "[ Valid | 096/300 ] loss = 0.71960, acc = 0.77199\n",
      "[ Valid | 096/300 ] loss = 0.71960, acc = 0.77199 -> best\n",
      "Best model found at fold 2 epoch 96, acc=0.77199, saving model\n"
     ]
    },
    {
     "name": "stderr",
     "output_type": "stream",
     "text": [
      "T: 097/300: 100%|█| 78/78 [00:18<00:00,  4.27it/s, lr=3.82e-5, b_loss=0.503, b_a\n"
     ]
    },
    {
     "name": "stdout",
     "output_type": "stream",
     "text": [
      "[ Train | 097/300 ] loss = 0.46976, acc = 0.83960\n"
     ]
    },
    {
     "name": "stderr",
     "output_type": "stream",
     "text": [
      "V: 097/300: 100%|█████| 26/26 [00:05<00:00,  5.10it/s, v_loss=0.726, v_acc=0.77]\n"
     ]
    },
    {
     "name": "stdout",
     "output_type": "stream",
     "text": [
      "[ Valid | 097/300 ] loss = 0.72618, acc = 0.76956\n",
      "[ Valid | 097/300 ] loss = 0.72618, acc = 0.76956\n"
     ]
    },
    {
     "name": "stderr",
     "output_type": "stream",
     "text": [
      "T: 098/300: 100%|█| 78/78 [00:17<00:00,  4.35it/s, lr=2.18e-5, b_loss=0.28, b_ac\n"
     ]
    },
    {
     "name": "stdout",
     "output_type": "stream",
     "text": [
      "[ Train | 098/300 ] loss = 0.47626, acc = 0.83632\n"
     ]
    },
    {
     "name": "stderr",
     "output_type": "stream",
     "text": [
      "V: 098/300: 100%|████| 26/26 [00:05<00:00,  5.05it/s, v_loss=0.716, v_acc=0.774]\n"
     ]
    },
    {
     "name": "stdout",
     "output_type": "stream",
     "text": [
      "[ Valid | 098/300 ] loss = 0.71576, acc = 0.77444\n",
      "[ Valid | 098/300 ] loss = 0.71576, acc = 0.77444 -> best\n",
      "Best model found at fold 2 epoch 98, acc=0.77444, saving model\n"
     ]
    },
    {
     "name": "stderr",
     "output_type": "stream",
     "text": [
      "T: 099/300: 100%|█| 78/78 [00:18<00:00,  4.22it/s, lr=9.79e-6, b_loss=0.491, b_a\n"
     ]
    },
    {
     "name": "stdout",
     "output_type": "stream",
     "text": [
      "[ Train | 099/300 ] loss = 0.45860, acc = 0.84241\n"
     ]
    },
    {
     "name": "stderr",
     "output_type": "stream",
     "text": [
      "V: 099/300: 100%|████| 26/26 [00:04<00:00,  5.54it/s, v_loss=0.719, v_acc=0.776]\n"
     ]
    },
    {
     "name": "stdout",
     "output_type": "stream",
     "text": [
      "[ Valid | 099/300 ] loss = 0.71859, acc = 0.77623\n",
      "[ Valid | 099/300 ] loss = 0.71859, acc = 0.77623 -> best\n",
      "Best model found at fold 2 epoch 99, acc=0.77623, saving model\n"
     ]
    },
    {
     "name": "stderr",
     "output_type": "stream",
     "text": [
      "T: 100/300: 100%|█| 78/78 [00:18<00:00,  4.30it/s, lr=2.46e-6, b_loss=0.333, b_a\n"
     ]
    },
    {
     "name": "stdout",
     "output_type": "stream",
     "text": [
      "[ Train | 100/300 ] loss = 0.45196, acc = 0.84461\n"
     ]
    },
    {
     "name": "stderr",
     "output_type": "stream",
     "text": [
      "V: 100/300: 100%|████| 26/26 [00:05<00:00,  5.16it/s, v_loss=0.711, v_acc=0.777]\n"
     ]
    },
    {
     "name": "stdout",
     "output_type": "stream",
     "text": [
      "[ Valid | 100/300 ] loss = 0.71106, acc = 0.77655\n",
      "[ Valid | 100/300 ] loss = 0.71106, acc = 0.77655 -> best\n",
      "Best model found at fold 2 epoch 100, acc=0.77655, saving model\n"
     ]
    },
    {
     "name": "stderr",
     "output_type": "stream",
     "text": [
      "T: 101/300: 100%|█| 78/78 [00:18<00:00,  4.29it/s, lr=0.0004, b_loss=0.77, b_acc\n"
     ]
    },
    {
     "name": "stdout",
     "output_type": "stream",
     "text": [
      "[ Train | 101/300 ] loss = 0.72348, acc = 0.75208\n"
     ]
    },
    {
     "name": "stderr",
     "output_type": "stream",
     "text": [
      "V: 101/300: 100%|█████| 26/26 [00:04<00:00,  5.79it/s, v_loss=1.02, v_acc=0.675]\n"
     ]
    },
    {
     "name": "stdout",
     "output_type": "stream",
     "text": [
      "[ Valid | 101/300 ] loss = 1.01980, acc = 0.67458\n",
      "[ Valid | 101/300 ] loss = 1.01980, acc = 0.67458\n"
     ]
    },
    {
     "name": "stderr",
     "output_type": "stream",
     "text": [
      "T: 102/300: 100%|█| 78/78 [00:18<00:00,  4.31it/s, lr=0.000398, b_loss=0.582, b_\n"
     ]
    },
    {
     "name": "stdout",
     "output_type": "stream",
     "text": [
      "[ Train | 102/300 ] loss = 0.71036, acc = 0.75248\n"
     ]
    },
    {
     "name": "stderr",
     "output_type": "stream",
     "text": [
      "V: 102/300: 100%|██████| 26/26 [00:04<00:00,  5.33it/s, v_loss=1.16, v_acc=0.64]\n"
     ]
    },
    {
     "name": "stdout",
     "output_type": "stream",
     "text": [
      "[ Valid | 102/300 ] loss = 1.15869, acc = 0.63966\n",
      "[ Valid | 102/300 ] loss = 1.15869, acc = 0.63966\n"
     ]
    },
    {
     "name": "stderr",
     "output_type": "stream",
     "text": [
      "T: 103/300: 100%|█| 78/78 [00:17<00:00,  4.35it/s, lr=0.00039, b_loss=0.933, b_a\n"
     ]
    },
    {
     "name": "stdout",
     "output_type": "stream",
     "text": [
      "[ Train | 103/300 ] loss = 0.70842, acc = 0.75966\n"
     ]
    },
    {
     "name": "stderr",
     "output_type": "stream",
     "text": [
      "V: 103/300: 100%|█████| 26/26 [00:04<00:00,  5.72it/s, v_loss=1.15, v_acc=0.655]\n"
     ]
    },
    {
     "name": "stdout",
     "output_type": "stream",
     "text": [
      "[ Valid | 103/300 ] loss = 1.15413, acc = 0.65492\n",
      "[ Valid | 103/300 ] loss = 1.15413, acc = 0.65492\n"
     ]
    },
    {
     "name": "stderr",
     "output_type": "stream",
     "text": [
      "T: 104/300: 100%|█| 78/78 [00:18<00:00,  4.26it/s, lr=0.000378, b_loss=0.623, b_\n"
     ]
    },
    {
     "name": "stdout",
     "output_type": "stream",
     "text": [
      "[ Train | 104/300 ] loss = 0.67217, acc = 0.76849\n"
     ]
    },
    {
     "name": "stderr",
     "output_type": "stream",
     "text": [
      "V: 104/300: 100%|█████| 26/26 [00:05<00:00,  5.16it/s, v_loss=1.48, v_acc=0.582]\n"
     ]
    },
    {
     "name": "stdout",
     "output_type": "stream",
     "text": [
      "[ Valid | 104/300 ] loss = 1.48362, acc = 0.58212\n",
      "[ Valid | 104/300 ] loss = 1.48362, acc = 0.58212\n"
     ]
    },
    {
     "name": "stderr",
     "output_type": "stream",
     "text": [
      "T: 105/300: 100%|█| 78/78 [00:17<00:00,  4.36it/s, lr=0.000362, b_loss=0.655, b_\n"
     ]
    },
    {
     "name": "stdout",
     "output_type": "stream",
     "text": [
      "[ Train | 105/300 ] loss = 0.65596, acc = 0.77356\n"
     ]
    },
    {
     "name": "stderr",
     "output_type": "stream",
     "text": [
      "V: 105/300: 100%|█████| 26/26 [00:05<00:00,  5.18it/s, v_loss=1.17, v_acc=0.643]\n"
     ]
    },
    {
     "name": "stdout",
     "output_type": "stream",
     "text": [
      "[ Valid | 105/300 ] loss = 1.16860, acc = 0.64257\n",
      "[ Valid | 105/300 ] loss = 1.16860, acc = 0.64257\n"
     ]
    },
    {
     "name": "stderr",
     "output_type": "stream",
     "text": [
      "T: 106/300: 100%|█| 78/78 [00:18<00:00,  4.13it/s, lr=0.000341, b_loss=0.675, b_\n"
     ]
    },
    {
     "name": "stdout",
     "output_type": "stream",
     "text": [
      "[ Train | 106/300 ] loss = 0.65066, acc = 0.77720\n"
     ]
    },
    {
     "name": "stderr",
     "output_type": "stream",
     "text": [
      "V: 106/300: 100%|████| 26/26 [00:04<00:00,  5.27it/s, v_loss=0.917, v_acc=0.708]\n"
     ]
    },
    {
     "name": "stdout",
     "output_type": "stream",
     "text": [
      "[ Valid | 106/300 ] loss = 0.91745, acc = 0.70815\n",
      "[ Valid | 106/300 ] loss = 0.91745, acc = 0.70815\n"
     ]
    },
    {
     "name": "stderr",
     "output_type": "stream",
     "text": [
      "T: 107/300: 100%|█| 78/78 [00:18<00:00,  4.32it/s, lr=0.000318, b_loss=0.741, b_\n"
     ]
    },
    {
     "name": "stdout",
     "output_type": "stream",
     "text": [
      "[ Train | 107/300 ] loss = 0.61521, acc = 0.79097\n"
     ]
    },
    {
     "name": "stderr",
     "output_type": "stream",
     "text": [
      "V: 107/300: 100%|█████| 26/26 [00:04<00:00,  5.21it/s, v_loss=0.862, v_acc=0.73]\n"
     ]
    },
    {
     "name": "stdout",
     "output_type": "stream",
     "text": [
      "[ Valid | 107/300 ] loss = 0.86151, acc = 0.72987\n",
      "[ Valid | 107/300 ] loss = 0.86151, acc = 0.72987\n"
     ]
    },
    {
     "name": "stderr",
     "output_type": "stream",
     "text": [
      "T: 108/300: 100%|█| 78/78 [00:17<00:00,  4.33it/s, lr=0.000291, b_loss=0.573, b_\n"
     ]
    },
    {
     "name": "stdout",
     "output_type": "stream",
     "text": [
      "[ Train | 108/300 ] loss = 0.59428, acc = 0.79240\n"
     ]
    },
    {
     "name": "stderr",
     "output_type": "stream",
     "text": [
      "V: 108/300: 100%|████| 26/26 [00:04<00:00,  5.27it/s, v_loss=0.898, v_acc=0.727]\n"
     ]
    },
    {
     "name": "stdout",
     "output_type": "stream",
     "text": [
      "[ Valid | 108/300 ] loss = 0.89762, acc = 0.72678\n",
      "[ Valid | 108/300 ] loss = 0.89762, acc = 0.72678\n"
     ]
    },
    {
     "name": "stderr",
     "output_type": "stream",
     "text": [
      "T: 109/300: 100%|█| 78/78 [00:17<00:00,  4.36it/s, lr=0.000262, b_loss=0.584, b_\n"
     ]
    },
    {
     "name": "stdout",
     "output_type": "stream",
     "text": [
      "[ Train | 109/300 ] loss = 0.58670, acc = 0.79806\n"
     ]
    },
    {
     "name": "stderr",
     "output_type": "stream",
     "text": [
      "V: 109/300: 100%|█████| 26/26 [00:04<00:00,  5.53it/s, v_loss=0.88, v_acc=0.717]\n"
     ]
    },
    {
     "name": "stdout",
     "output_type": "stream",
     "text": [
      "[ Valid | 109/300 ] loss = 0.87957, acc = 0.71707\n",
      "[ Valid | 109/300 ] loss = 0.87957, acc = 0.71707\n"
     ]
    },
    {
     "name": "stderr",
     "output_type": "stream",
     "text": [
      "T: 110/300: 100%|█| 78/78 [00:18<00:00,  4.29it/s, lr=0.000231, b_loss=0.759, b_\n"
     ]
    },
    {
     "name": "stdout",
     "output_type": "stream",
     "text": [
      "[ Train | 110/300 ] loss = 0.56091, acc = 0.80738\n"
     ]
    },
    {
     "name": "stderr",
     "output_type": "stream",
     "text": [
      "V: 110/300: 100%|████| 26/26 [00:05<00:00,  5.13it/s, v_loss=0.868, v_acc=0.731]\n"
     ]
    },
    {
     "name": "stdout",
     "output_type": "stream",
     "text": [
      "[ Valid | 110/300 ] loss = 0.86767, acc = 0.73133\n",
      "[ Valid | 110/300 ] loss = 0.86767, acc = 0.73133\n"
     ]
    },
    {
     "name": "stderr",
     "output_type": "stream",
     "text": [
      "T: 111/300: 100%|█| 78/78 [00:18<00:00,  4.32it/s, lr=0.0002, b_loss=0.454, b_ac\n"
     ]
    },
    {
     "name": "stdout",
     "output_type": "stream",
     "text": [
      "[ Train | 111/300 ] loss = 0.54649, acc = 0.81204\n"
     ]
    },
    {
     "name": "stderr",
     "output_type": "stream",
     "text": [
      "V: 111/300: 100%|████| 26/26 [00:04<00:00,  5.27it/s, v_loss=0.864, v_acc=0.732]\n"
     ]
    },
    {
     "name": "stdout",
     "output_type": "stream",
     "text": [
      "[ Valid | 111/300 ] loss = 0.86361, acc = 0.73196\n",
      "[ Valid | 111/300 ] loss = 0.86361, acc = 0.73196\n"
     ]
    },
    {
     "name": "stderr",
     "output_type": "stream",
     "text": [
      "T: 112/300: 100%|█| 78/78 [00:18<00:00,  4.23it/s, lr=0.000169, b_loss=0.42, b_a\n"
     ]
    },
    {
     "name": "stdout",
     "output_type": "stream",
     "text": [
      "[ Train | 112/300 ] loss = 0.51242, acc = 0.82316\n"
     ]
    },
    {
     "name": "stderr",
     "output_type": "stream",
     "text": [
      "V: 112/300: 100%|████| 26/26 [00:04<00:00,  5.36it/s, v_loss=0.783, v_acc=0.759]\n"
     ]
    },
    {
     "name": "stdout",
     "output_type": "stream",
     "text": [
      "[ Valid | 112/300 ] loss = 0.78316, acc = 0.75875\n",
      "[ Valid | 112/300 ] loss = 0.78316, acc = 0.75875\n"
     ]
    },
    {
     "name": "stderr",
     "output_type": "stream",
     "text": [
      "T: 113/300: 100%|█| 78/78 [00:18<00:00,  4.29it/s, lr=0.000138, b_loss=0.554, b_\n"
     ]
    },
    {
     "name": "stdout",
     "output_type": "stream",
     "text": [
      "[ Train | 113/300 ] loss = 0.49445, acc = 0.82796\n"
     ]
    },
    {
     "name": "stderr",
     "output_type": "stream",
     "text": [
      "V: 113/300: 100%|████| 26/26 [00:04<00:00,  6.16it/s, v_loss=0.746, v_acc=0.774]\n"
     ]
    },
    {
     "name": "stdout",
     "output_type": "stream",
     "text": [
      "[ Valid | 113/300 ] loss = 0.74579, acc = 0.77353\n",
      "[ Valid | 113/300 ] loss = 0.74579, acc = 0.77353\n"
     ]
    },
    {
     "name": "stderr",
     "output_type": "stream",
     "text": [
      "T: 114/300: 100%|█| 78/78 [00:18<00:00,  4.30it/s, lr=0.000109, b_loss=0.473, b_\n"
     ]
    },
    {
     "name": "stdout",
     "output_type": "stream",
     "text": [
      "[ Train | 114/300 ] loss = 0.47437, acc = 0.83576\n"
     ]
    },
    {
     "name": "stderr",
     "output_type": "stream",
     "text": [
      "V: 114/300: 100%|█████| 26/26 [00:04<00:00,  5.56it/s, v_loss=0.752, v_acc=0.77]\n"
     ]
    },
    {
     "name": "stdout",
     "output_type": "stream",
     "text": [
      "[ Valid | 114/300 ] loss = 0.75233, acc = 0.77021\n",
      "[ Valid | 114/300 ] loss = 0.75233, acc = 0.77021\n"
     ]
    },
    {
     "name": "stderr",
     "output_type": "stream",
     "text": [
      "T: 115/300: 100%|█| 78/78 [00:17<00:00,  4.41it/s, lr=8.24e-5, b_loss=0.52, b_ac\n"
     ]
    },
    {
     "name": "stdout",
     "output_type": "stream",
     "text": [
      "[ Train | 115/300 ] loss = 0.44649, acc = 0.84657\n"
     ]
    },
    {
     "name": "stderr",
     "output_type": "stream",
     "text": [
      "V: 115/300: 100%|████| 26/26 [00:04<00:00,  5.78it/s, v_loss=0.766, v_acc=0.765]\n"
     ]
    },
    {
     "name": "stdout",
     "output_type": "stream",
     "text": [
      "[ Valid | 115/300 ] loss = 0.76566, acc = 0.76467\n",
      "[ Valid | 115/300 ] loss = 0.76566, acc = 0.76467\n"
     ]
    },
    {
     "name": "stderr",
     "output_type": "stream",
     "text": [
      "T: 116/300: 100%|█| 78/78 [00:18<00:00,  4.31it/s, lr=5.86e-5, b_loss=0.314, b_a\n"
     ]
    },
    {
     "name": "stdout",
     "output_type": "stream",
     "text": [
      "[ Train | 116/300 ] loss = 0.43186, acc = 0.85282\n"
     ]
    },
    {
     "name": "stderr",
     "output_type": "stream",
     "text": [
      "V: 116/300: 100%|█████| 26/26 [00:04<00:00,  5.40it/s, v_loss=0.71, v_acc=0.782]\n"
     ]
    },
    {
     "name": "stdout",
     "output_type": "stream",
     "text": [
      "[ Valid | 116/300 ] loss = 0.71026, acc = 0.78155\n",
      "[ Valid | 116/300 ] loss = 0.71026, acc = 0.78155 -> best\n",
      "Best model found at fold 2 epoch 116, acc=0.78155, saving model\n"
     ]
    },
    {
     "name": "stderr",
     "output_type": "stream",
     "text": [
      "T: 117/300: 100%|█| 78/78 [00:18<00:00,  4.22it/s, lr=3.82e-5, b_loss=0.363, b_a\n"
     ]
    },
    {
     "name": "stdout",
     "output_type": "stream",
     "text": [
      "[ Train | 117/300 ] loss = 0.41975, acc = 0.85911\n"
     ]
    },
    {
     "name": "stderr",
     "output_type": "stream",
     "text": [
      "V: 117/300: 100%|█████| 26/26 [00:05<00:00,  5.00it/s, v_loss=0.75, v_acc=0.768]\n"
     ]
    },
    {
     "name": "stdout",
     "output_type": "stream",
     "text": [
      "[ Valid | 117/300 ] loss = 0.74966, acc = 0.76774\n",
      "[ Valid | 117/300 ] loss = 0.74966, acc = 0.76774\n"
     ]
    },
    {
     "name": "stderr",
     "output_type": "stream",
     "text": [
      "T: 118/300: 100%|█| 78/78 [00:18<00:00,  4.18it/s, lr=2.18e-5, b_loss=0.348, b_a\n"
     ]
    },
    {
     "name": "stdout",
     "output_type": "stream",
     "text": [
      "[ Train | 118/300 ] loss = 0.40150, acc = 0.86364\n"
     ]
    },
    {
     "name": "stderr",
     "output_type": "stream",
     "text": [
      "V: 118/300: 100%|█████| 26/26 [00:04<00:00,  5.21it/s, v_loss=0.706, v_acc=0.78]\n"
     ]
    },
    {
     "name": "stdout",
     "output_type": "stream",
     "text": [
      "[ Valid | 118/300 ] loss = 0.70639, acc = 0.77978\n",
      "[ Valid | 118/300 ] loss = 0.70639, acc = 0.77978\n"
     ]
    },
    {
     "name": "stderr",
     "output_type": "stream",
     "text": [
      "T: 119/300: 100%|█| 78/78 [00:18<00:00,  4.15it/s, lr=9.79e-6, b_loss=0.31, b_ac\n"
     ]
    },
    {
     "name": "stdout",
     "output_type": "stream",
     "text": [
      "[ Train | 119/300 ] loss = 0.40320, acc = 0.86399\n"
     ]
    },
    {
     "name": "stderr",
     "output_type": "stream",
     "text": [
      "V: 119/300: 100%|████| 26/26 [00:04<00:00,  5.34it/s, v_loss=0.704, v_acc=0.782]\n"
     ]
    },
    {
     "name": "stdout",
     "output_type": "stream",
     "text": [
      "[ Valid | 119/300 ] loss = 0.70415, acc = 0.78153\n",
      "[ Valid | 119/300 ] loss = 0.70415, acc = 0.78153\n"
     ]
    },
    {
     "name": "stderr",
     "output_type": "stream",
     "text": [
      "T: 120/300: 100%|█| 78/78 [00:18<00:00,  4.15it/s, lr=2.46e-6, b_loss=0.428, b_a\n"
     ]
    },
    {
     "name": "stdout",
     "output_type": "stream",
     "text": [
      "[ Train | 120/300 ] loss = 0.39992, acc = 0.86169\n"
     ]
    },
    {
     "name": "stderr",
     "output_type": "stream",
     "text": [
      "V: 120/300: 100%|████| 26/26 [00:04<00:00,  5.77it/s, v_loss=0.698, v_acc=0.783]\n"
     ]
    },
    {
     "name": "stdout",
     "output_type": "stream",
     "text": [
      "[ Valid | 120/300 ] loss = 0.69767, acc = 0.78301\n",
      "[ Valid | 120/300 ] loss = 0.69767, acc = 0.78301 -> best\n",
      "Best model found at fold 2 epoch 120, acc=0.78301, saving model\n"
     ]
    },
    {
     "name": "stderr",
     "output_type": "stream",
     "text": [
      "T: 121/300: 100%|█| 78/78 [00:18<00:00,  4.27it/s, lr=0.0004, b_loss=0.528, b_ac\n"
     ]
    },
    {
     "name": "stdout",
     "output_type": "stream",
     "text": [
      "[ Train | 121/300 ] loss = 0.62948, acc = 0.78074\n"
     ]
    },
    {
     "name": "stderr",
     "output_type": "stream",
     "text": [
      "V: 121/300: 100%|██████| 26/26 [00:04<00:00,  5.20it/s, v_loss=1.08, v_acc=0.68]\n"
     ]
    },
    {
     "name": "stdout",
     "output_type": "stream",
     "text": [
      "[ Valid | 121/300 ] loss = 1.08258, acc = 0.67988\n",
      "[ Valid | 121/300 ] loss = 1.08258, acc = 0.67988\n"
     ]
    },
    {
     "name": "stderr",
     "output_type": "stream",
     "text": [
      "T: 122/300: 100%|█| 78/78 [00:18<00:00,  4.25it/s, lr=0.000398, b_loss=0.619, b_\n"
     ]
    },
    {
     "name": "stdout",
     "output_type": "stream",
     "text": [
      "[ Train | 122/300 ] loss = 0.66512, acc = 0.76770\n"
     ]
    },
    {
     "name": "stderr",
     "output_type": "stream",
     "text": [
      "V: 122/300: 100%|█████| 26/26 [00:04<00:00,  5.30it/s, v_loss=1.14, v_acc=0.672]\n"
     ]
    },
    {
     "name": "stdout",
     "output_type": "stream",
     "text": [
      "[ Valid | 122/300 ] loss = 1.14421, acc = 0.67242\n",
      "[ Valid | 122/300 ] loss = 1.14421, acc = 0.67242\n"
     ]
    },
    {
     "name": "stderr",
     "output_type": "stream",
     "text": [
      "T: 123/300: 100%|█| 78/78 [00:18<00:00,  4.32it/s, lr=0.00039, b_loss=0.658, b_a\n"
     ]
    },
    {
     "name": "stdout",
     "output_type": "stream",
     "text": [
      "[ Train | 123/300 ] loss = 0.60592, acc = 0.79157\n"
     ]
    },
    {
     "name": "stderr",
     "output_type": "stream",
     "text": [
      "V: 123/300: 100%|█████| 26/26 [00:04<00:00,  5.69it/s, v_loss=1.07, v_acc=0.682]\n"
     ]
    },
    {
     "name": "stdout",
     "output_type": "stream",
     "text": [
      "[ Valid | 123/300 ] loss = 1.06741, acc = 0.68229\n",
      "[ Valid | 123/300 ] loss = 1.06741, acc = 0.68229\n"
     ]
    },
    {
     "name": "stderr",
     "output_type": "stream",
     "text": [
      "T: 124/300: 100%|█| 78/78 [00:18<00:00,  4.27it/s, lr=0.000378, b_loss=0.553, b_\n"
     ]
    },
    {
     "name": "stdout",
     "output_type": "stream",
     "text": [
      "[ Train | 124/300 ] loss = 0.60892, acc = 0.78780\n"
     ]
    },
    {
     "name": "stderr",
     "output_type": "stream",
     "text": [
      "V: 124/300: 100%|█████| 26/26 [00:05<00:00,  5.03it/s, v_loss=1.15, v_acc=0.673]\n"
     ]
    },
    {
     "name": "stdout",
     "output_type": "stream",
     "text": [
      "[ Valid | 124/300 ] loss = 1.14558, acc = 0.67275\n",
      "[ Valid | 124/300 ] loss = 1.14558, acc = 0.67275\n"
     ]
    },
    {
     "name": "stderr",
     "output_type": "stream",
     "text": [
      "T: 125/300: 100%|█| 78/78 [00:17<00:00,  4.41it/s, lr=0.000362, b_loss=0.657, b_\n"
     ]
    },
    {
     "name": "stdout",
     "output_type": "stream",
     "text": [
      "[ Train | 125/300 ] loss = 0.59684, acc = 0.79172\n"
     ]
    },
    {
     "name": "stderr",
     "output_type": "stream",
     "text": [
      "V: 125/300: 100%|████| 26/26 [00:05<00:00,  5.13it/s, v_loss=0.965, v_acc=0.706]\n"
     ]
    },
    {
     "name": "stdout",
     "output_type": "stream",
     "text": [
      "[ Valid | 125/300 ] loss = 0.96479, acc = 0.70609\n",
      "[ Valid | 125/300 ] loss = 0.96479, acc = 0.70609\n"
     ]
    },
    {
     "name": "stderr",
     "output_type": "stream",
     "text": [
      "T: 126/300: 100%|█| 78/78 [00:17<00:00,  4.37it/s, lr=0.000341, b_loss=0.65, b_a\n"
     ]
    },
    {
     "name": "stdout",
     "output_type": "stream",
     "text": [
      "[ Train | 126/300 ] loss = 0.56561, acc = 0.80553\n"
     ]
    },
    {
     "name": "stderr",
     "output_type": "stream",
     "text": [
      "V: 126/300: 100%|████| 26/26 [00:04<00:00,  5.26it/s, v_loss=0.953, v_acc=0.707]\n"
     ]
    },
    {
     "name": "stdout",
     "output_type": "stream",
     "text": [
      "[ Valid | 126/300 ] loss = 0.95330, acc = 0.70667\n",
      "[ Valid | 126/300 ] loss = 0.95330, acc = 0.70667\n"
     ]
    },
    {
     "name": "stderr",
     "output_type": "stream",
     "text": [
      "T: 127/300: 100%|█| 78/78 [00:18<00:00,  4.20it/s, lr=0.000318, b_loss=0.587, b_\n"
     ]
    },
    {
     "name": "stdout",
     "output_type": "stream",
     "text": [
      "[ Train | 127/300 ] loss = 0.56026, acc = 0.80587\n"
     ]
    },
    {
     "name": "stderr",
     "output_type": "stream",
     "text": [
      "V: 127/300: 100%|████| 26/26 [00:05<00:00,  5.15it/s, v_loss=0.892, v_acc=0.727]\n"
     ]
    },
    {
     "name": "stdout",
     "output_type": "stream",
     "text": [
      "[ Valid | 127/300 ] loss = 0.89175, acc = 0.72714\n",
      "[ Valid | 127/300 ] loss = 0.89175, acc = 0.72714\n"
     ]
    },
    {
     "name": "stderr",
     "output_type": "stream",
     "text": [
      "T: 128/300: 100%|█| 78/78 [00:17<00:00,  4.43it/s, lr=0.000291, b_loss=0.558, b_\n"
     ]
    },
    {
     "name": "stdout",
     "output_type": "stream",
     "text": [
      "[ Train | 128/300 ] loss = 0.52729, acc = 0.81706\n"
     ]
    },
    {
     "name": "stderr",
     "output_type": "stream",
     "text": [
      "V: 128/300: 100%|████| 26/26 [00:04<00:00,  5.53it/s, v_loss=0.842, v_acc=0.739]\n"
     ]
    },
    {
     "name": "stdout",
     "output_type": "stream",
     "text": [
      "[ Valid | 128/300 ] loss = 0.84237, acc = 0.73857\n",
      "[ Valid | 128/300 ] loss = 0.84237, acc = 0.73857\n"
     ]
    },
    {
     "name": "stderr",
     "output_type": "stream",
     "text": [
      "T: 129/300: 100%|█| 78/78 [00:18<00:00,  4.20it/s, lr=0.000262, b_loss=0.616, b_\n"
     ]
    },
    {
     "name": "stdout",
     "output_type": "stream",
     "text": [
      "[ Train | 129/300 ] loss = 0.51617, acc = 0.82473\n"
     ]
    },
    {
     "name": "stderr",
     "output_type": "stream",
     "text": [
      "V: 129/300: 100%|████| 26/26 [00:04<00:00,  5.32it/s, v_loss=0.808, v_acc=0.751]\n"
     ]
    },
    {
     "name": "stdout",
     "output_type": "stream",
     "text": [
      "[ Valid | 129/300 ] loss = 0.80753, acc = 0.75089\n",
      "[ Valid | 129/300 ] loss = 0.80753, acc = 0.75089\n"
     ]
    },
    {
     "name": "stderr",
     "output_type": "stream",
     "text": [
      "T: 130/300: 100%|█| 78/78 [00:18<00:00,  4.24it/s, lr=0.000231, b_loss=0.657, b_\n"
     ]
    },
    {
     "name": "stdout",
     "output_type": "stream",
     "text": [
      "[ Train | 130/300 ] loss = 0.49280, acc = 0.82909\n"
     ]
    },
    {
     "name": "stderr",
     "output_type": "stream",
     "text": [
      "V: 130/300: 100%|████| 26/26 [00:04<00:00,  5.53it/s, v_loss=0.854, v_acc=0.754]\n"
     ]
    },
    {
     "name": "stdout",
     "output_type": "stream",
     "text": [
      "[ Valid | 130/300 ] loss = 0.85431, acc = 0.75393\n",
      "[ Valid | 130/300 ] loss = 0.85431, acc = 0.75393\n"
     ]
    },
    {
     "name": "stderr",
     "output_type": "stream",
     "text": [
      "T: 131/300: 100%|█| 78/78 [00:18<00:00,  4.28it/s, lr=0.0002, b_loss=0.505, b_ac\n"
     ]
    },
    {
     "name": "stdout",
     "output_type": "stream",
     "text": [
      "[ Train | 131/300 ] loss = 0.46441, acc = 0.83887\n"
     ]
    },
    {
     "name": "stderr",
     "output_type": "stream",
     "text": [
      "V: 131/300: 100%|████| 26/26 [00:05<00:00,  5.19it/s, v_loss=0.843, v_acc=0.753]\n"
     ]
    },
    {
     "name": "stdout",
     "output_type": "stream",
     "text": [
      "[ Valid | 131/300 ] loss = 0.84274, acc = 0.75273\n",
      "[ Valid | 131/300 ] loss = 0.84274, acc = 0.75273\n"
     ]
    },
    {
     "name": "stderr",
     "output_type": "stream",
     "text": [
      "T: 132/300: 100%|█| 78/78 [00:18<00:00,  4.30it/s, lr=0.000169, b_loss=0.606, b_\n"
     ]
    },
    {
     "name": "stdout",
     "output_type": "stream",
     "text": [
      "[ Train | 132/300 ] loss = 0.45104, acc = 0.84386\n"
     ]
    },
    {
     "name": "stderr",
     "output_type": "stream",
     "text": [
      "V: 132/300: 100%|█████| 26/26 [00:04<00:00,  5.64it/s, v_loss=0.788, v_acc=0.77]\n"
     ]
    },
    {
     "name": "stdout",
     "output_type": "stream",
     "text": [
      "[ Valid | 132/300 ] loss = 0.78807, acc = 0.77044\n",
      "[ Valid | 132/300 ] loss = 0.78807, acc = 0.77044\n"
     ]
    },
    {
     "name": "stderr",
     "output_type": "stream",
     "text": [
      "T: 133/300: 100%|█| 78/78 [00:18<00:00,  4.21it/s, lr=0.000138, b_loss=0.537, b_\n"
     ]
    },
    {
     "name": "stdout",
     "output_type": "stream",
     "text": [
      "[ Train | 133/300 ] loss = 0.41183, acc = 0.85885\n"
     ]
    },
    {
     "name": "stderr",
     "output_type": "stream",
     "text": [
      "V: 133/300: 100%|████| 26/26 [00:04<00:00,  5.76it/s, v_loss=0.782, v_acc=0.767]\n"
     ]
    },
    {
     "name": "stdout",
     "output_type": "stream",
     "text": [
      "[ Valid | 133/300 ] loss = 0.78185, acc = 0.76745\n",
      "[ Valid | 133/300 ] loss = 0.78185, acc = 0.76745\n"
     ]
    },
    {
     "name": "stderr",
     "output_type": "stream",
     "text": [
      "T: 134/300: 100%|█| 78/78 [00:18<00:00,  4.26it/s, lr=0.000109, b_loss=0.265, b_\n"
     ]
    },
    {
     "name": "stdout",
     "output_type": "stream",
     "text": [
      "[ Train | 134/300 ] loss = 0.41609, acc = 0.85535\n"
     ]
    },
    {
     "name": "stderr",
     "output_type": "stream",
     "text": [
      "V: 134/300: 100%|█████| 26/26 [00:04<00:00,  5.49it/s, v_loss=0.729, v_acc=0.78]\n"
     ]
    },
    {
     "name": "stdout",
     "output_type": "stream",
     "text": [
      "[ Valid | 134/300 ] loss = 0.72890, acc = 0.78043\n",
      "[ Valid | 134/300 ] loss = 0.72890, acc = 0.78043\n"
     ]
    },
    {
     "name": "stderr",
     "output_type": "stream",
     "text": [
      "T: 135/300: 100%|█| 78/78 [00:17<00:00,  4.44it/s, lr=8.24e-5, b_loss=0.487, b_a\n"
     ]
    },
    {
     "name": "stdout",
     "output_type": "stream",
     "text": [
      "[ Train | 135/300 ] loss = 0.38574, acc = 0.86898\n"
     ]
    },
    {
     "name": "stderr",
     "output_type": "stream",
     "text": [
      "V: 135/300: 100%|████| 26/26 [00:04<00:00,  5.22it/s, v_loss=0.755, v_acc=0.773]\n"
     ]
    },
    {
     "name": "stdout",
     "output_type": "stream",
     "text": [
      "[ Valid | 135/300 ] loss = 0.75476, acc = 0.77290\n",
      "[ Valid | 135/300 ] loss = 0.75476, acc = 0.77290\n"
     ]
    },
    {
     "name": "stderr",
     "output_type": "stream",
     "text": [
      "T: 136/300: 100%|█| 78/78 [00:18<00:00,  4.29it/s, lr=5.86e-5, b_loss=0.415, b_a\n"
     ]
    },
    {
     "name": "stdout",
     "output_type": "stream",
     "text": [
      "[ Train | 136/300 ] loss = 0.37510, acc = 0.87107\n"
     ]
    },
    {
     "name": "stderr",
     "output_type": "stream",
     "text": [
      "V: 136/300: 100%|████| 26/26 [00:04<00:00,  5.80it/s, v_loss=0.721, v_acc=0.778]\n"
     ]
    },
    {
     "name": "stdout",
     "output_type": "stream",
     "text": [
      "[ Valid | 136/300 ] loss = 0.72077, acc = 0.77794\n",
      "[ Valid | 136/300 ] loss = 0.72077, acc = 0.77794\n"
     ]
    },
    {
     "name": "stderr",
     "output_type": "stream",
     "text": [
      "T: 137/300: 100%|█| 78/78 [00:18<00:00,  4.27it/s, lr=3.82e-5, b_loss=0.341, b_a\n"
     ]
    },
    {
     "name": "stdout",
     "output_type": "stream",
     "text": [
      "[ Train | 137/300 ] loss = 0.36361, acc = 0.87845\n"
     ]
    },
    {
     "name": "stderr",
     "output_type": "stream",
     "text": [
      "V: 137/300: 100%|█████| 26/26 [00:04<00:00,  5.23it/s, v_loss=0.728, v_acc=0.78]\n"
     ]
    },
    {
     "name": "stdout",
     "output_type": "stream",
     "text": [
      "[ Valid | 137/300 ] loss = 0.72757, acc = 0.77952\n",
      "[ Valid | 137/300 ] loss = 0.72757, acc = 0.77952\n"
     ]
    },
    {
     "name": "stderr",
     "output_type": "stream",
     "text": [
      "T: 138/300: 100%|█| 78/78 [00:17<00:00,  4.35it/s, lr=2.18e-5, b_loss=0.4, b_acc\n"
     ]
    },
    {
     "name": "stdout",
     "output_type": "stream",
     "text": [
      "[ Train | 138/300 ] loss = 0.34585, acc = 0.88177\n"
     ]
    },
    {
     "name": "stderr",
     "output_type": "stream",
     "text": [
      "V: 138/300: 100%|█████| 26/26 [00:04<00:00,  5.42it/s, v_loss=0.72, v_acc=0.785]\n"
     ]
    },
    {
     "name": "stdout",
     "output_type": "stream",
     "text": [
      "[ Valid | 138/300 ] loss = 0.71986, acc = 0.78488\n",
      "[ Valid | 138/300 ] loss = 0.71986, acc = 0.78488 -> best\n",
      "Best model found at fold 2 epoch 138, acc=0.78488, saving model\n"
     ]
    },
    {
     "name": "stderr",
     "output_type": "stream",
     "text": [
      "T: 139/300: 100%|█| 78/78 [00:18<00:00,  4.28it/s, lr=9.79e-6, b_loss=0.363, b_a\n"
     ]
    },
    {
     "name": "stdout",
     "output_type": "stream",
     "text": [
      "[ Train | 139/300 ] loss = 0.33569, acc = 0.88739\n"
     ]
    },
    {
     "name": "stderr",
     "output_type": "stream",
     "text": [
      "V: 139/300: 100%|████| 26/26 [00:04<00:00,  5.27it/s, v_loss=0.709, v_acc=0.786]\n"
     ]
    },
    {
     "name": "stdout",
     "output_type": "stream",
     "text": [
      "[ Valid | 139/300 ] loss = 0.70937, acc = 0.78638\n",
      "[ Valid | 139/300 ] loss = 0.70937, acc = 0.78638 -> best\n",
      "Best model found at fold 2 epoch 139, acc=0.78638, saving model\n"
     ]
    },
    {
     "name": "stderr",
     "output_type": "stream",
     "text": [
      "T: 140/300: 100%|█| 78/78 [00:18<00:00,  4.23it/s, lr=2.46e-6, b_loss=0.317, b_a\n"
     ]
    },
    {
     "name": "stdout",
     "output_type": "stream",
     "text": [
      "[ Train | 140/300 ] loss = 0.34053, acc = 0.88477\n"
     ]
    },
    {
     "name": "stderr",
     "output_type": "stream",
     "text": [
      "V: 140/300: 100%|████| 26/26 [00:04<00:00,  5.38it/s, v_loss=0.706, v_acc=0.785]\n"
     ]
    },
    {
     "name": "stdout",
     "output_type": "stream",
     "text": [
      "[ Valid | 140/300 ] loss = 0.70629, acc = 0.78518\n",
      "[ Valid | 140/300 ] loss = 0.70629, acc = 0.78518\n"
     ]
    },
    {
     "name": "stderr",
     "output_type": "stream",
     "text": [
      "T: 141/300: 100%|█| 78/78 [00:19<00:00,  4.09it/s, lr=0.0004, b_loss=0.459, b_ac\n"
     ]
    },
    {
     "name": "stdout",
     "output_type": "stream",
     "text": [
      "[ Train | 141/300 ] loss = 0.56932, acc = 0.80161\n"
     ]
    },
    {
     "name": "stderr",
     "output_type": "stream",
     "text": [
      "V: 141/300: 100%|█████| 26/26 [00:05<00:00,  5.13it/s, v_loss=1.04, v_acc=0.699]\n"
     ]
    },
    {
     "name": "stdout",
     "output_type": "stream",
     "text": [
      "[ Valid | 141/300 ] loss = 1.04146, acc = 0.69940\n",
      "[ Valid | 141/300 ] loss = 1.04146, acc = 0.69940\n"
     ]
    },
    {
     "name": "stderr",
     "output_type": "stream",
     "text": [
      "T: 142/300: 100%|█| 78/78 [00:18<00:00,  4.18it/s, lr=0.000398, b_loss=0.491, b_\n"
     ]
    },
    {
     "name": "stdout",
     "output_type": "stream",
     "text": [
      "[ Train | 142/300 ] loss = 0.56702, acc = 0.80351\n"
     ]
    },
    {
     "name": "stderr",
     "output_type": "stream",
     "text": [
      "V: 142/300: 100%|██████| 26/26 [00:04<00:00,  5.95it/s, v_loss=1.1, v_acc=0.678]\n"
     ]
    },
    {
     "name": "stdout",
     "output_type": "stream",
     "text": [
      "[ Valid | 142/300 ] loss = 1.09680, acc = 0.67843\n",
      "[ Valid | 142/300 ] loss = 1.09680, acc = 0.67843\n"
     ]
    },
    {
     "name": "stderr",
     "output_type": "stream",
     "text": [
      "T: 143/300: 100%|█| 78/78 [00:18<00:00,  4.17it/s, lr=0.00039, b_loss=0.454, b_a\n"
     ]
    },
    {
     "name": "stdout",
     "output_type": "stream",
     "text": [
      "[ Train | 143/300 ] loss = 0.55877, acc = 0.79886\n"
     ]
    },
    {
     "name": "stderr",
     "output_type": "stream",
     "text": [
      "V: 143/300: 100%|████| 26/26 [00:04<00:00,  5.46it/s, v_loss=0.911, v_acc=0.724]\n"
     ]
    },
    {
     "name": "stdout",
     "output_type": "stream",
     "text": [
      "[ Valid | 143/300 ] loss = 0.91125, acc = 0.72356\n",
      "[ Valid | 143/300 ] loss = 0.91125, acc = 0.72356\n"
     ]
    },
    {
     "name": "stderr",
     "output_type": "stream",
     "text": [
      "T: 144/300: 100%|█| 78/78 [00:18<00:00,  4.28it/s, lr=0.000378, b_loss=0.678, b_\n"
     ]
    },
    {
     "name": "stdout",
     "output_type": "stream",
     "text": [
      "[ Train | 144/300 ] loss = 0.54612, acc = 0.80980\n"
     ]
    },
    {
     "name": "stderr",
     "output_type": "stream",
     "text": [
      "V: 144/300: 100%|█████| 26/26 [00:04<00:00,  5.37it/s, v_loss=1.04, v_acc=0.708]\n"
     ]
    },
    {
     "name": "stdout",
     "output_type": "stream",
     "text": [
      "[ Valid | 144/300 ] loss = 1.03636, acc = 0.70763\n",
      "[ Valid | 144/300 ] loss = 1.03636, acc = 0.70763\n"
     ]
    },
    {
     "name": "stderr",
     "output_type": "stream",
     "text": [
      "T: 145/300: 100%|█| 78/78 [00:18<00:00,  4.22it/s, lr=0.000362, b_loss=0.657, b_\n"
     ]
    },
    {
     "name": "stdout",
     "output_type": "stream",
     "text": [
      "[ Train | 145/300 ] loss = 0.52796, acc = 0.81462\n"
     ]
    },
    {
     "name": "stderr",
     "output_type": "stream",
     "text": [
      "V: 145/300: 100%|█████| 26/26 [00:04<00:00,  5.33it/s, v_loss=1.44, v_acc=0.634]\n"
     ]
    },
    {
     "name": "stdout",
     "output_type": "stream",
     "text": [
      "[ Valid | 145/300 ] loss = 1.43988, acc = 0.63436\n",
      "[ Valid | 145/300 ] loss = 1.43988, acc = 0.63436\n"
     ]
    },
    {
     "name": "stderr",
     "output_type": "stream",
     "text": [
      "T: 146/300: 100%|█| 78/78 [00:18<00:00,  4.28it/s, lr=0.000341, b_loss=0.384, b_\n"
     ]
    },
    {
     "name": "stdout",
     "output_type": "stream",
     "text": [
      "[ Train | 146/300 ] loss = 0.51722, acc = 0.81997\n"
     ]
    },
    {
     "name": "stderr",
     "output_type": "stream",
     "text": [
      "V: 146/300: 100%|█████| 26/26 [00:04<00:00,  5.35it/s, v_loss=1.42, v_acc=0.629]\n"
     ]
    },
    {
     "name": "stdout",
     "output_type": "stream",
     "text": [
      "[ Valid | 146/300 ] loss = 1.42237, acc = 0.62906\n",
      "[ Valid | 146/300 ] loss = 1.42237, acc = 0.62906\n"
     ]
    },
    {
     "name": "stderr",
     "output_type": "stream",
     "text": [
      "T: 147/300: 100%|█| 78/78 [00:18<00:00,  4.24it/s, lr=0.000318, b_loss=0.571, b_\n"
     ]
    },
    {
     "name": "stdout",
     "output_type": "stream",
     "text": [
      "[ Train | 147/300 ] loss = 0.49579, acc = 0.82873\n"
     ]
    },
    {
     "name": "stderr",
     "output_type": "stream",
     "text": [
      "V: 147/300: 100%|████| 26/26 [00:04<00:00,  5.62it/s, v_loss=0.965, v_acc=0.721]\n"
     ]
    },
    {
     "name": "stdout",
     "output_type": "stream",
     "text": [
      "[ Valid | 147/300 ] loss = 0.96518, acc = 0.72083\n",
      "[ Valid | 147/300 ] loss = 0.96518, acc = 0.72083\n"
     ]
    },
    {
     "name": "stderr",
     "output_type": "stream",
     "text": [
      "T: 148/300: 100%|█| 78/78 [00:18<00:00,  4.28it/s, lr=0.000291, b_loss=0.528, b_\n"
     ]
    },
    {
     "name": "stdout",
     "output_type": "stream",
     "text": [
      "[ Train | 148/300 ] loss = 0.49492, acc = 0.83158\n"
     ]
    },
    {
     "name": "stderr",
     "output_type": "stream",
     "text": [
      "V: 148/300: 100%|████| 26/26 [00:05<00:00,  5.11it/s, v_loss=0.814, v_acc=0.755]\n"
     ]
    },
    {
     "name": "stdout",
     "output_type": "stream",
     "text": [
      "[ Valid | 148/300 ] loss = 0.81390, acc = 0.75509\n",
      "[ Valid | 148/300 ] loss = 0.81390, acc = 0.75509\n"
     ]
    },
    {
     "name": "stderr",
     "output_type": "stream",
     "text": [
      "T: 149/300: 100%|█| 78/78 [00:18<00:00,  4.27it/s, lr=0.000262, b_loss=0.408, b_\n"
     ]
    },
    {
     "name": "stdout",
     "output_type": "stream",
     "text": [
      "[ Train | 149/300 ] loss = 0.45688, acc = 0.83772\n"
     ]
    },
    {
     "name": "stderr",
     "output_type": "stream",
     "text": [
      "V: 149/300: 100%|████| 26/26 [00:05<00:00,  4.99it/s, v_loss=0.903, v_acc=0.745]\n"
     ]
    },
    {
     "name": "stdout",
     "output_type": "stream",
     "text": [
      "[ Valid | 149/300 ] loss = 0.90303, acc = 0.74457\n",
      "[ Valid | 149/300 ] loss = 0.90303, acc = 0.74457\n"
     ]
    },
    {
     "name": "stderr",
     "output_type": "stream",
     "text": [
      "T: 150/300: 100%|█| 78/78 [00:18<00:00,  4.23it/s, lr=0.000231, b_loss=0.328, b_\n"
     ]
    },
    {
     "name": "stdout",
     "output_type": "stream",
     "text": [
      "[ Train | 150/300 ] loss = 0.42884, acc = 0.84994\n"
     ]
    },
    {
     "name": "stderr",
     "output_type": "stream",
     "text": [
      "V: 150/300: 100%|████| 26/26 [00:04<00:00,  5.22it/s, v_loss=0.847, v_acc=0.754]\n"
     ]
    },
    {
     "name": "stdout",
     "output_type": "stream",
     "text": [
      "[ Valid | 150/300 ] loss = 0.84721, acc = 0.75425\n",
      "[ Valid | 150/300 ] loss = 0.84721, acc = 0.75425\n"
     ]
    },
    {
     "name": "stderr",
     "output_type": "stream",
     "text": [
      "T: 151/300: 100%|█| 78/78 [00:17<00:00,  4.46it/s, lr=0.0002, b_loss=0.499, b_ac\n"
     ]
    },
    {
     "name": "stdout",
     "output_type": "stream",
     "text": [
      "[ Train | 151/300 ] loss = 0.41614, acc = 0.85443\n"
     ]
    },
    {
     "name": "stderr",
     "output_type": "stream",
     "text": [
      "V: 151/300: 100%|████| 26/26 [00:05<00:00,  4.87it/s, v_loss=0.777, v_acc=0.776]\n"
     ]
    },
    {
     "name": "stdout",
     "output_type": "stream",
     "text": [
      "[ Valid | 151/300 ] loss = 0.77697, acc = 0.77581\n",
      "[ Valid | 151/300 ] loss = 0.77697, acc = 0.77581\n"
     ]
    },
    {
     "name": "stderr",
     "output_type": "stream",
     "text": [
      "T: 152/300: 100%|█| 78/78 [00:18<00:00,  4.24it/s, lr=0.000169, b_loss=0.405, b_\n"
     ]
    },
    {
     "name": "stdout",
     "output_type": "stream",
     "text": [
      "[ Train | 152/300 ] loss = 0.38867, acc = 0.86913\n"
     ]
    },
    {
     "name": "stderr",
     "output_type": "stream",
     "text": [
      "V: 152/300: 100%|████| 26/26 [00:04<00:00,  5.71it/s, v_loss=0.773, v_acc=0.773]\n"
     ]
    },
    {
     "name": "stdout",
     "output_type": "stream",
     "text": [
      "[ Valid | 152/300 ] loss = 0.77250, acc = 0.77259\n",
      "[ Valid | 152/300 ] loss = 0.77250, acc = 0.77259\n"
     ]
    },
    {
     "name": "stderr",
     "output_type": "stream",
     "text": [
      "T: 153/300: 100%|█| 78/78 [00:17<00:00,  4.38it/s, lr=0.000138, b_loss=0.451, b_\n"
     ]
    },
    {
     "name": "stdout",
     "output_type": "stream",
     "text": [
      "[ Train | 153/300 ] loss = 0.37874, acc = 0.86759\n"
     ]
    },
    {
     "name": "stderr",
     "output_type": "stream",
     "text": [
      "V: 153/300: 100%|██████| 26/26 [00:04<00:00,  5.75it/s, v_loss=0.8, v_acc=0.766]\n"
     ]
    },
    {
     "name": "stdout",
     "output_type": "stream",
     "text": [
      "[ Valid | 153/300 ] loss = 0.79992, acc = 0.76598\n",
      "[ Valid | 153/300 ] loss = 0.79992, acc = 0.76598\n"
     ]
    },
    {
     "name": "stderr",
     "output_type": "stream",
     "text": [
      "T: 154/300: 100%|█| 78/78 [00:17<00:00,  4.43it/s, lr=0.000109, b_loss=0.424, b_\n"
     ]
    },
    {
     "name": "stdout",
     "output_type": "stream",
     "text": [
      "[ Train | 154/300 ] loss = 0.34349, acc = 0.87761\n"
     ]
    },
    {
     "name": "stderr",
     "output_type": "stream",
     "text": [
      "V: 154/300: 100%|████| 26/26 [00:04<00:00,  5.68it/s, v_loss=0.722, v_acc=0.789]\n"
     ]
    },
    {
     "name": "stdout",
     "output_type": "stream",
     "text": [
      "[ Valid | 154/300 ] loss = 0.72173, acc = 0.78912\n",
      "[ Valid | 154/300 ] loss = 0.72173, acc = 0.78912 -> best\n",
      "Best model found at fold 2 epoch 154, acc=0.78912, saving model\n"
     ]
    },
    {
     "name": "stderr",
     "output_type": "stream",
     "text": [
      "T: 155/300: 100%|█| 78/78 [00:18<00:00,  4.32it/s, lr=8.24e-5, b_loss=0.345, b_a\n"
     ]
    },
    {
     "name": "stdout",
     "output_type": "stream",
     "text": [
      "[ Train | 155/300 ] loss = 0.33350, acc = 0.88586\n"
     ]
    },
    {
     "name": "stderr",
     "output_type": "stream",
     "text": [
      "V: 155/300: 100%|████| 26/26 [00:04<00:00,  5.59it/s, v_loss=0.734, v_acc=0.786]\n"
     ]
    },
    {
     "name": "stdout",
     "output_type": "stream",
     "text": [
      "[ Valid | 155/300 ] loss = 0.73444, acc = 0.78643\n",
      "[ Valid | 155/300 ] loss = 0.73444, acc = 0.78643\n"
     ]
    },
    {
     "name": "stderr",
     "output_type": "stream",
     "text": [
      "T: 156/300: 100%|█| 78/78 [00:18<00:00,  4.32it/s, lr=5.86e-5, b_loss=0.209, b_a\n"
     ]
    },
    {
     "name": "stdout",
     "output_type": "stream",
     "text": [
      "[ Train | 156/300 ] loss = 0.30974, acc = 0.89382\n"
     ]
    },
    {
     "name": "stderr",
     "output_type": "stream",
     "text": [
      "V: 156/300: 100%|████| 26/26 [00:04<00:00,  5.44it/s, v_loss=0.727, v_acc=0.789]\n"
     ]
    },
    {
     "name": "stdout",
     "output_type": "stream",
     "text": [
      "[ Valid | 156/300 ] loss = 0.72748, acc = 0.78884\n",
      "[ Valid | 156/300 ] loss = 0.72748, acc = 0.78884\n"
     ]
    },
    {
     "name": "stderr",
     "output_type": "stream",
     "text": [
      "T: 157/300: 100%|█| 78/78 [00:18<00:00,  4.31it/s, lr=3.82e-5, b_loss=0.283, b_a\n"
     ]
    },
    {
     "name": "stdout",
     "output_type": "stream",
     "text": [
      "[ Train | 157/300 ] loss = 0.29874, acc = 0.89641\n"
     ]
    },
    {
     "name": "stderr",
     "output_type": "stream",
     "text": [
      "V: 157/300: 100%|████| 26/26 [00:05<00:00,  5.15it/s, v_loss=0.723, v_acc=0.795]\n"
     ]
    },
    {
     "name": "stdout",
     "output_type": "stream",
     "text": [
      "[ Valid | 157/300 ] loss = 0.72281, acc = 0.79543\n",
      "[ Valid | 157/300 ] loss = 0.72281, acc = 0.79543 -> best\n",
      "Best model found at fold 2 epoch 157, acc=0.79543, saving model\n"
     ]
    },
    {
     "name": "stderr",
     "output_type": "stream",
     "text": [
      "T: 158/300: 100%|█| 78/78 [00:18<00:00,  4.33it/s, lr=2.18e-5, b_loss=0.268, b_a\n"
     ]
    },
    {
     "name": "stdout",
     "output_type": "stream",
     "text": [
      "[ Train | 158/300 ] loss = 0.28923, acc = 0.90081\n"
     ]
    },
    {
     "name": "stderr",
     "output_type": "stream",
     "text": [
      "V: 158/300: 100%|████| 26/26 [00:04<00:00,  5.33it/s, v_loss=0.713, v_acc=0.794]\n"
     ]
    },
    {
     "name": "stdout",
     "output_type": "stream",
     "text": [
      "[ Valid | 158/300 ] loss = 0.71297, acc = 0.79419\n",
      "[ Valid | 158/300 ] loss = 0.71297, acc = 0.79419\n"
     ]
    },
    {
     "name": "stderr",
     "output_type": "stream",
     "text": [
      "T: 159/300: 100%|█| 78/78 [00:18<00:00,  4.27it/s, lr=9.79e-6, b_loss=0.271, b_a\n"
     ]
    },
    {
     "name": "stdout",
     "output_type": "stream",
     "text": [
      "[ Train | 159/300 ] loss = 0.28081, acc = 0.90720\n"
     ]
    },
    {
     "name": "stderr",
     "output_type": "stream",
     "text": [
      "V: 159/300: 100%|█████| 26/26 [00:04<00:00,  5.62it/s, v_loss=0.71, v_acc=0.796]\n"
     ]
    },
    {
     "name": "stdout",
     "output_type": "stream",
     "text": [
      "[ Valid | 159/300 ] loss = 0.70995, acc = 0.79632\n",
      "[ Valid | 159/300 ] loss = 0.70995, acc = 0.79632 -> best\n",
      "Best model found at fold 2 epoch 159, acc=0.79632, saving model\n"
     ]
    },
    {
     "name": "stderr",
     "output_type": "stream",
     "text": [
      "T: 160/300: 100%|█| 78/78 [00:18<00:00,  4.29it/s, lr=2.46e-6, b_loss=0.187, b_a\n"
     ]
    },
    {
     "name": "stdout",
     "output_type": "stream",
     "text": [
      "[ Train | 160/300 ] loss = 0.28443, acc = 0.90158\n"
     ]
    },
    {
     "name": "stderr",
     "output_type": "stream",
     "text": [
      "V: 160/300: 100%|█████| 26/26 [00:04<00:00,  5.35it/s, v_loss=0.71, v_acc=0.795]\n"
     ]
    },
    {
     "name": "stdout",
     "output_type": "stream",
     "text": [
      "[ Valid | 160/300 ] loss = 0.71019, acc = 0.79534\n",
      "[ Valid | 160/300 ] loss = 0.71019, acc = 0.79534\n"
     ]
    },
    {
     "name": "stderr",
     "output_type": "stream",
     "text": [
      "T: 161/300: 100%|█| 78/78 [00:17<00:00,  4.37it/s, lr=0.0004, b_loss=0.46, b_acc\n"
     ]
    },
    {
     "name": "stdout",
     "output_type": "stream",
     "text": [
      "[ Train | 161/300 ] loss = 0.51300, acc = 0.82404\n"
     ]
    },
    {
     "name": "stderr",
     "output_type": "stream",
     "text": [
      "V: 161/300: 100%|████| 26/26 [00:04<00:00,  5.99it/s, v_loss=0.981, v_acc=0.726]\n"
     ]
    },
    {
     "name": "stdout",
     "output_type": "stream",
     "text": [
      "[ Valid | 161/300 ] loss = 0.98072, acc = 0.72629\n",
      "[ Valid | 161/300 ] loss = 0.98072, acc = 0.72629\n"
     ]
    },
    {
     "name": "stderr",
     "output_type": "stream",
     "text": [
      "T: 162/300: 100%|█| 78/78 [00:18<00:00,  4.27it/s, lr=0.000398, b_loss=0.513, b_\n"
     ]
    },
    {
     "name": "stdout",
     "output_type": "stream",
     "text": [
      "[ Train | 162/300 ] loss = 0.56204, acc = 0.80689\n"
     ]
    },
    {
     "name": "stderr",
     "output_type": "stream",
     "text": [
      "V: 162/300: 100%|████| 26/26 [00:04<00:00,  6.03it/s, v_loss=0.871, v_acc=0.736]\n"
     ]
    },
    {
     "name": "stdout",
     "output_type": "stream",
     "text": [
      "[ Valid | 162/300 ] loss = 0.87076, acc = 0.73554\n",
      "[ Valid | 162/300 ] loss = 0.87076, acc = 0.73554\n"
     ]
    },
    {
     "name": "stderr",
     "output_type": "stream",
     "text": [
      "T: 163/300: 100%|█| 78/78 [00:17<00:00,  4.41it/s, lr=0.00039, b_loss=0.529, b_a\n"
     ]
    },
    {
     "name": "stdout",
     "output_type": "stream",
     "text": [
      "[ Train | 163/300 ] loss = 0.51914, acc = 0.81920\n"
     ]
    },
    {
     "name": "stderr",
     "output_type": "stream",
     "text": [
      "V: 163/300: 100%|██████| 26/26 [00:04<00:00,  5.66it/s, v_loss=1.1, v_acc=0.702]\n"
     ]
    },
    {
     "name": "stdout",
     "output_type": "stream",
     "text": [
      "[ Valid | 163/300 ] loss = 1.10177, acc = 0.70236\n",
      "[ Valid | 163/300 ] loss = 1.10177, acc = 0.70236\n"
     ]
    },
    {
     "name": "stderr",
     "output_type": "stream",
     "text": [
      "T: 164/300: 100%|█| 78/78 [00:17<00:00,  4.40it/s, lr=0.000378, b_loss=0.403, b_\n"
     ]
    },
    {
     "name": "stdout",
     "output_type": "stream",
     "text": [
      "[ Train | 164/300 ] loss = 0.50739, acc = 0.81997\n"
     ]
    },
    {
     "name": "stderr",
     "output_type": "stream",
     "text": [
      "V: 164/300: 100%|██████| 26/26 [00:04<00:00,  5.89it/s, v_loss=1.09, v_acc=0.68]\n"
     ]
    },
    {
     "name": "stdout",
     "output_type": "stream",
     "text": [
      "[ Valid | 164/300 ] loss = 1.09119, acc = 0.67995\n",
      "[ Valid | 164/300 ] loss = 1.09119, acc = 0.67995\n"
     ]
    },
    {
     "name": "stderr",
     "output_type": "stream",
     "text": [
      "T: 165/300: 100%|█| 78/78 [00:17<00:00,  4.34it/s, lr=0.000362, b_loss=0.436, b_\n"
     ]
    },
    {
     "name": "stdout",
     "output_type": "stream",
     "text": [
      "[ Train | 165/300 ] loss = 0.48332, acc = 0.83345\n"
     ]
    },
    {
     "name": "stderr",
     "output_type": "stream",
     "text": [
      "V: 165/300: 100%|████| 26/26 [00:04<00:00,  5.20it/s, v_loss=0.911, v_acc=0.727]\n"
     ]
    },
    {
     "name": "stdout",
     "output_type": "stream",
     "text": [
      "[ Valid | 165/300 ] loss = 0.91109, acc = 0.72710\n",
      "[ Valid | 165/300 ] loss = 0.91109, acc = 0.72710\n"
     ]
    },
    {
     "name": "stderr",
     "output_type": "stream",
     "text": [
      "T: 166/300: 100%|█| 78/78 [00:17<00:00,  4.37it/s, lr=0.000341, b_loss=0.455, b_\n"
     ]
    },
    {
     "name": "stdout",
     "output_type": "stream",
     "text": [
      "[ Train | 166/300 ] loss = 0.46916, acc = 0.83686\n"
     ]
    },
    {
     "name": "stderr",
     "output_type": "stream",
     "text": [
      "V: 166/300: 100%|████| 26/26 [00:04<00:00,  5.69it/s, v_loss=0.997, v_acc=0.733]\n"
     ]
    },
    {
     "name": "stdout",
     "output_type": "stream",
     "text": [
      "[ Valid | 166/300 ] loss = 0.99655, acc = 0.73295\n",
      "[ Valid | 166/300 ] loss = 0.99655, acc = 0.73295\n"
     ]
    },
    {
     "name": "stderr",
     "output_type": "stream",
     "text": [
      "T: 167/300: 100%|█| 78/78 [00:18<00:00,  4.31it/s, lr=0.000318, b_loss=0.333, b_\n"
     ]
    },
    {
     "name": "stdout",
     "output_type": "stream",
     "text": [
      "[ Train | 167/300 ] loss = 0.42870, acc = 0.85314\n"
     ]
    },
    {
     "name": "stderr",
     "output_type": "stream",
     "text": [
      "V: 167/300: 100%|████| 26/26 [00:04<00:00,  6.01it/s, v_loss=0.839, v_acc=0.753]\n"
     ]
    },
    {
     "name": "stdout",
     "output_type": "stream",
     "text": [
      "[ Valid | 167/300 ] loss = 0.83854, acc = 0.75333\n",
      "[ Valid | 167/300 ] loss = 0.83854, acc = 0.75333\n"
     ]
    },
    {
     "name": "stderr",
     "output_type": "stream",
     "text": [
      "T: 168/300: 100%|█| 78/78 [00:18<00:00,  4.30it/s, lr=0.000291, b_loss=0.44, b_a\n"
     ]
    },
    {
     "name": "stdout",
     "output_type": "stream",
     "text": [
      "[ Train | 168/300 ] loss = 0.41983, acc = 0.85341\n"
     ]
    },
    {
     "name": "stderr",
     "output_type": "stream",
     "text": [
      "V: 168/300: 100%|████| 26/26 [00:04<00:00,  5.62it/s, v_loss=0.875, v_acc=0.753]\n"
     ]
    },
    {
     "name": "stdout",
     "output_type": "stream",
     "text": [
      "[ Valid | 168/300 ] loss = 0.87529, acc = 0.75268\n",
      "[ Valid | 168/300 ] loss = 0.87529, acc = 0.75268\n"
     ]
    },
    {
     "name": "stderr",
     "output_type": "stream",
     "text": [
      "T: 169/300: 100%|█| 78/78 [00:18<00:00,  4.27it/s, lr=0.000262, b_loss=0.481, b_\n"
     ]
    },
    {
     "name": "stdout",
     "output_type": "stream",
     "text": [
      "[ Train | 169/300 ] loss = 0.41005, acc = 0.86007\n"
     ]
    },
    {
     "name": "stderr",
     "output_type": "stream",
     "text": [
      "V: 169/300: 100%|████| 26/26 [00:04<00:00,  5.48it/s, v_loss=0.899, v_acc=0.756]\n"
     ]
    },
    {
     "name": "stdout",
     "output_type": "stream",
     "text": [
      "[ Valid | 169/300 ] loss = 0.89948, acc = 0.75567\n",
      "[ Valid | 169/300 ] loss = 0.89948, acc = 0.75567\n"
     ]
    },
    {
     "name": "stderr",
     "output_type": "stream",
     "text": [
      "T: 170/300: 100%|█| 78/78 [00:18<00:00,  4.29it/s, lr=0.000231, b_loss=0.378, b_\n"
     ]
    },
    {
     "name": "stdout",
     "output_type": "stream",
     "text": [
      "[ Train | 170/300 ] loss = 0.38443, acc = 0.86776\n"
     ]
    },
    {
     "name": "stderr",
     "output_type": "stream",
     "text": [
      "V: 170/300: 100%|████| 26/26 [00:04<00:00,  5.69it/s, v_loss=0.865, v_acc=0.765]\n"
     ]
    },
    {
     "name": "stdout",
     "output_type": "stream",
     "text": [
      "[ Valid | 170/300 ] loss = 0.86518, acc = 0.76471\n",
      "[ Valid | 170/300 ] loss = 0.86518, acc = 0.76471\n"
     ]
    },
    {
     "name": "stderr",
     "output_type": "stream",
     "text": [
      "T: 171/300: 100%|█| 78/78 [00:18<00:00,  4.28it/s, lr=0.0002, b_loss=0.343, b_ac\n"
     ]
    },
    {
     "name": "stdout",
     "output_type": "stream",
     "text": [
      "[ Train | 171/300 ] loss = 0.35565, acc = 0.87425\n"
     ]
    },
    {
     "name": "stderr",
     "output_type": "stream",
     "text": [
      "V: 171/300: 100%|████| 26/26 [00:04<00:00,  5.84it/s, v_loss=0.917, v_acc=0.759]\n"
     ]
    },
    {
     "name": "stdout",
     "output_type": "stream",
     "text": [
      "[ Valid | 171/300 ] loss = 0.91669, acc = 0.75898\n",
      "[ Valid | 171/300 ] loss = 0.91669, acc = 0.75898\n"
     ]
    },
    {
     "name": "stderr",
     "output_type": "stream",
     "text": [
      "T: 172/300: 100%|█| 78/78 [00:18<00:00,  4.31it/s, lr=0.000169, b_loss=0.312, b_\n"
     ]
    },
    {
     "name": "stdout",
     "output_type": "stream",
     "text": [
      "[ Train | 172/300 ] loss = 0.33533, acc = 0.88420\n"
     ]
    },
    {
     "name": "stderr",
     "output_type": "stream",
     "text": [
      "V: 172/300: 100%|████| 26/26 [00:04<00:00,  5.51it/s, v_loss=0.801, v_acc=0.777]\n"
     ]
    },
    {
     "name": "stdout",
     "output_type": "stream",
     "text": [
      "[ Valid | 172/300 ] loss = 0.80116, acc = 0.77677\n",
      "[ Valid | 172/300 ] loss = 0.80116, acc = 0.77677\n"
     ]
    },
    {
     "name": "stderr",
     "output_type": "stream",
     "text": [
      "T: 173/300: 100%|█| 78/78 [00:17<00:00,  4.36it/s, lr=0.000138, b_loss=0.439, b_\n"
     ]
    },
    {
     "name": "stdout",
     "output_type": "stream",
     "text": [
      "[ Train | 173/300 ] loss = 0.32156, acc = 0.88837\n"
     ]
    },
    {
     "name": "stderr",
     "output_type": "stream",
     "text": [
      "V: 173/300: 100%|████| 26/26 [00:04<00:00,  5.81it/s, v_loss=0.864, v_acc=0.765]\n"
     ]
    },
    {
     "name": "stdout",
     "output_type": "stream",
     "text": [
      "[ Valid | 173/300 ] loss = 0.86442, acc = 0.76531\n",
      "[ Valid | 173/300 ] loss = 0.86442, acc = 0.76531\n"
     ]
    },
    {
     "name": "stderr",
     "output_type": "stream",
     "text": [
      "T: 174/300: 100%|█| 78/78 [00:17<00:00,  4.42it/s, lr=0.000109, b_loss=0.201, b_\n"
     ]
    },
    {
     "name": "stdout",
     "output_type": "stream",
     "text": [
      "[ Train | 174/300 ] loss = 0.29717, acc = 0.89838\n"
     ]
    },
    {
     "name": "stderr",
     "output_type": "stream",
     "text": [
      "V: 174/300: 100%|████| 26/26 [00:04<00:00,  6.13it/s, v_loss=0.792, v_acc=0.781]\n"
     ]
    },
    {
     "name": "stdout",
     "output_type": "stream",
     "text": [
      "[ Valid | 174/300 ] loss = 0.79203, acc = 0.78066\n",
      "[ Valid | 174/300 ] loss = 0.79203, acc = 0.78066\n"
     ]
    },
    {
     "name": "stderr",
     "output_type": "stream",
     "text": [
      "T: 175/300: 100%|█| 78/78 [00:17<00:00,  4.43it/s, lr=8.24e-5, b_loss=0.414, b_a\n"
     ]
    },
    {
     "name": "stdout",
     "output_type": "stream",
     "text": [
      "[ Train | 175/300 ] loss = 0.27758, acc = 0.90396\n"
     ]
    },
    {
     "name": "stderr",
     "output_type": "stream",
     "text": [
      "V: 175/300: 100%|█████| 26/26 [00:04<00:00,  5.70it/s, v_loss=0.756, v_acc=0.79]\n"
     ]
    },
    {
     "name": "stdout",
     "output_type": "stream",
     "text": [
      "[ Valid | 175/300 ] loss = 0.75644, acc = 0.79029\n",
      "[ Valid | 175/300 ] loss = 0.75644, acc = 0.79029\n"
     ]
    },
    {
     "name": "stderr",
     "output_type": "stream",
     "text": [
      "T: 176/300: 100%|█| 78/78 [00:17<00:00,  4.39it/s, lr=5.86e-5, b_loss=0.292, b_a\n"
     ]
    },
    {
     "name": "stdout",
     "output_type": "stream",
     "text": [
      "[ Train | 176/300 ] loss = 0.26276, acc = 0.91128\n"
     ]
    },
    {
     "name": "stderr",
     "output_type": "stream",
     "text": [
      "V: 176/300: 100%|████| 26/26 [00:04<00:00,  6.01it/s, v_loss=0.762, v_acc=0.794]\n"
     ]
    },
    {
     "name": "stdout",
     "output_type": "stream",
     "text": [
      "[ Valid | 176/300 ] loss = 0.76198, acc = 0.79419\n",
      "[ Valid | 176/300 ] loss = 0.76198, acc = 0.79419\n"
     ]
    },
    {
     "name": "stderr",
     "output_type": "stream",
     "text": [
      "T: 177/300: 100%|█| 78/78 [00:17<00:00,  4.42it/s, lr=3.82e-5, b_loss=0.237, b_a\n"
     ]
    },
    {
     "name": "stdout",
     "output_type": "stream",
     "text": [
      "[ Train | 177/300 ] loss = 0.26668, acc = 0.90946\n"
     ]
    },
    {
     "name": "stderr",
     "output_type": "stream",
     "text": [
      "V: 177/300: 100%|█████| 26/26 [00:04<00:00,  5.34it/s, v_loss=0.75, v_acc=0.797]\n"
     ]
    },
    {
     "name": "stdout",
     "output_type": "stream",
     "text": [
      "[ Valid | 177/300 ] loss = 0.74970, acc = 0.79695\n",
      "[ Valid | 177/300 ] loss = 0.74970, acc = 0.79695 -> best\n",
      "Best model found at fold 2 epoch 177, acc=0.79695, saving model\n"
     ]
    },
    {
     "name": "stderr",
     "output_type": "stream",
     "text": [
      "T: 178/300: 100%|█| 78/78 [00:17<00:00,  4.33it/s, lr=2.18e-5, b_loss=0.226, b_a\n"
     ]
    },
    {
     "name": "stdout",
     "output_type": "stream",
     "text": [
      "[ Train | 178/300 ] loss = 0.25059, acc = 0.91577\n"
     ]
    },
    {
     "name": "stderr",
     "output_type": "stream",
     "text": [
      "V: 178/300: 100%|████| 26/26 [00:04<00:00,  5.46it/s, v_loss=0.756, v_acc=0.797]\n"
     ]
    },
    {
     "name": "stdout",
     "output_type": "stream",
     "text": [
      "[ Valid | 178/300 ] loss = 0.75620, acc = 0.79688\n",
      "[ Valid | 178/300 ] loss = 0.75620, acc = 0.79688\n"
     ]
    },
    {
     "name": "stderr",
     "output_type": "stream",
     "text": [
      "T: 179/300: 100%|█| 78/78 [00:18<00:00,  4.30it/s, lr=9.79e-6, b_loss=0.347, b_a\n"
     ]
    },
    {
     "name": "stdout",
     "output_type": "stream",
     "text": [
      "[ Train | 179/300 ] loss = 0.24625, acc = 0.91574\n"
     ]
    },
    {
     "name": "stderr",
     "output_type": "stream",
     "text": [
      "V: 179/300: 100%|████| 26/26 [00:04<00:00,  5.60it/s, v_loss=0.751, v_acc=0.798]\n"
     ]
    },
    {
     "name": "stdout",
     "output_type": "stream",
     "text": [
      "[ Valid | 179/300 ] loss = 0.75097, acc = 0.79847\n",
      "[ Valid | 179/300 ] loss = 0.75097, acc = 0.79847 -> best\n",
      "Best model found at fold 2 epoch 179, acc=0.79847, saving model\n"
     ]
    },
    {
     "name": "stderr",
     "output_type": "stream",
     "text": [
      "T: 180/300: 100%|█| 78/78 [00:18<00:00,  4.25it/s, lr=2.46e-6, b_loss=0.204, b_a\n"
     ]
    },
    {
     "name": "stdout",
     "output_type": "stream",
     "text": [
      "[ Train | 180/300 ] loss = 0.24543, acc = 0.91577\n"
     ]
    },
    {
     "name": "stderr",
     "output_type": "stream",
     "text": [
      "V: 180/300: 100%|████| 26/26 [00:04<00:00,  5.85it/s, v_loss=0.749, v_acc=0.798]\n"
     ]
    },
    {
     "name": "stdout",
     "output_type": "stream",
     "text": [
      "[ Valid | 180/300 ] loss = 0.74888, acc = 0.79818\n",
      "[ Valid | 180/300 ] loss = 0.74888, acc = 0.79818\n"
     ]
    },
    {
     "name": "stderr",
     "output_type": "stream",
     "text": [
      "T: 181/300: 100%|█| 78/78 [00:18<00:00,  4.14it/s, lr=0.0004, b_loss=0.582, b_ac\n"
     ]
    },
    {
     "name": "stdout",
     "output_type": "stream",
     "text": [
      "[ Train | 181/300 ] loss = 0.45540, acc = 0.84296\n"
     ]
    },
    {
     "name": "stderr",
     "output_type": "stream",
     "text": [
      "V: 181/300: 100%|█████| 26/26 [00:04<00:00,  5.21it/s, v_loss=1.18, v_acc=0.708]\n"
     ]
    },
    {
     "name": "stdout",
     "output_type": "stream",
     "text": [
      "[ Valid | 181/300 ] loss = 1.18243, acc = 0.70789\n",
      "[ Valid | 181/300 ] loss = 1.18243, acc = 0.70789\n"
     ]
    },
    {
     "name": "stderr",
     "output_type": "stream",
     "text": [
      "T: 182/300: 100%|█| 78/78 [00:18<00:00,  4.29it/s, lr=0.000398, b_loss=0.598, b_\n"
     ]
    },
    {
     "name": "stdout",
     "output_type": "stream",
     "text": [
      "[ Train | 182/300 ] loss = 0.51944, acc = 0.81747\n"
     ]
    },
    {
     "name": "stderr",
     "output_type": "stream",
     "text": [
      "V: 182/300: 100%|█████| 26/26 [00:04<00:00,  5.28it/s, v_loss=1.13, v_acc=0.699]\n"
     ]
    },
    {
     "name": "stdout",
     "output_type": "stream",
     "text": [
      "[ Valid | 182/300 ] loss = 1.12843, acc = 0.69882\n",
      "[ Valid | 182/300 ] loss = 1.12843, acc = 0.69882\n"
     ]
    },
    {
     "name": "stderr",
     "output_type": "stream",
     "text": [
      "T: 183/300: 100%|█| 78/78 [00:17<00:00,  4.39it/s, lr=0.00039, b_loss=0.457, b_a\n"
     ]
    },
    {
     "name": "stdout",
     "output_type": "stream",
     "text": [
      "[ Train | 183/300 ] loss = 0.44303, acc = 0.84707\n"
     ]
    },
    {
     "name": "stderr",
     "output_type": "stream",
     "text": [
      "V: 183/300: 100%|████| 26/26 [00:05<00:00,  5.01it/s, v_loss=0.898, v_acc=0.736]\n"
     ]
    },
    {
     "name": "stdout",
     "output_type": "stream",
     "text": [
      "[ Valid | 183/300 ] loss = 0.89811, acc = 0.73559\n",
      "[ Valid | 183/300 ] loss = 0.89811, acc = 0.73559\n"
     ]
    },
    {
     "name": "stderr",
     "output_type": "stream",
     "text": [
      "T: 184/300: 100%|█| 78/78 [00:18<00:00,  4.27it/s, lr=0.000378, b_loss=0.507, b_\n"
     ]
    },
    {
     "name": "stdout",
     "output_type": "stream",
     "text": [
      "[ Train | 184/300 ] loss = 0.45528, acc = 0.84102\n"
     ]
    },
    {
     "name": "stderr",
     "output_type": "stream",
     "text": [
      "V: 184/300: 100%|████| 26/26 [00:04<00:00,  5.51it/s, v_loss=0.925, v_acc=0.746]\n"
     ]
    },
    {
     "name": "stdout",
     "output_type": "stream",
     "text": [
      "[ Valid | 184/300 ] loss = 0.92496, acc = 0.74550\n",
      "[ Valid | 184/300 ] loss = 0.92496, acc = 0.74550\n"
     ]
    },
    {
     "name": "stderr",
     "output_type": "stream",
     "text": [
      "T: 185/300: 100%|█| 78/78 [00:17<00:00,  4.37it/s, lr=0.000362, b_loss=0.335, b_\n"
     ]
    },
    {
     "name": "stdout",
     "output_type": "stream",
     "text": [
      "[ Train | 185/300 ] loss = 0.43646, acc = 0.84829\n"
     ]
    },
    {
     "name": "stderr",
     "output_type": "stream",
     "text": [
      "V: 185/300: 100%|█████| 26/26 [00:04<00:00,  5.22it/s, v_loss=1.02, v_acc=0.736]\n"
     ]
    },
    {
     "name": "stdout",
     "output_type": "stream",
     "text": [
      "[ Valid | 185/300 ] loss = 1.01929, acc = 0.73617\n",
      "[ Valid | 185/300 ] loss = 1.01929, acc = 0.73617\n"
     ]
    },
    {
     "name": "stderr",
     "output_type": "stream",
     "text": [
      "T: 186/300: 100%|█| 78/78 [00:18<00:00,  4.32it/s, lr=0.000341, b_loss=0.488, b_\n"
     ]
    },
    {
     "name": "stdout",
     "output_type": "stream",
     "text": [
      "[ Train | 186/300 ] loss = 0.41835, acc = 0.85402\n"
     ]
    },
    {
     "name": "stderr",
     "output_type": "stream",
     "text": [
      "V: 186/300: 100%|█████| 26/26 [00:04<00:00,  5.21it/s, v_loss=0.91, v_acc=0.741]\n"
     ]
    },
    {
     "name": "stdout",
     "output_type": "stream",
     "text": [
      "[ Valid | 186/300 ] loss = 0.90995, acc = 0.74123\n",
      "[ Valid | 186/300 ] loss = 0.90995, acc = 0.74123\n"
     ]
    },
    {
     "name": "stderr",
     "output_type": "stream",
     "text": [
      "T: 187/300: 100%|█| 78/78 [00:18<00:00,  4.29it/s, lr=0.000318, b_loss=0.489, b_\n"
     ]
    },
    {
     "name": "stdout",
     "output_type": "stream",
     "text": [
      "[ Train | 187/300 ] loss = 0.38363, acc = 0.86709\n"
     ]
    },
    {
     "name": "stderr",
     "output_type": "stream",
     "text": [
      "V: 187/300: 100%|████| 26/26 [00:04<00:00,  5.32it/s, v_loss=0.992, v_acc=0.732]\n"
     ]
    },
    {
     "name": "stdout",
     "output_type": "stream",
     "text": [
      "[ Valid | 187/300 ] loss = 0.99151, acc = 0.73229\n",
      "[ Valid | 187/300 ] loss = 0.99151, acc = 0.73229\n"
     ]
    },
    {
     "name": "stderr",
     "output_type": "stream",
     "text": [
      "T: 188/300: 100%|█| 78/78 [00:18<00:00,  4.31it/s, lr=0.000291, b_loss=0.468, b_\n"
     ]
    },
    {
     "name": "stdout",
     "output_type": "stream",
     "text": [
      "[ Train | 188/300 ] loss = 0.38440, acc = 0.86550\n"
     ]
    },
    {
     "name": "stderr",
     "output_type": "stream",
     "text": [
      "V: 188/300: 100%|████| 26/26 [00:04<00:00,  5.83it/s, v_loss=0.888, v_acc=0.747]\n"
     ]
    },
    {
     "name": "stdout",
     "output_type": "stream",
     "text": [
      "[ Valid | 188/300 ] loss = 0.88837, acc = 0.74724\n",
      "[ Valid | 188/300 ] loss = 0.88837, acc = 0.74724\n"
     ]
    },
    {
     "name": "stderr",
     "output_type": "stream",
     "text": [
      "T: 189/300: 100%|█| 78/78 [00:18<00:00,  4.33it/s, lr=0.000262, b_loss=0.491, b_\n"
     ]
    },
    {
     "name": "stdout",
     "output_type": "stream",
     "text": [
      "[ Train | 189/300 ] loss = 0.35550, acc = 0.87647\n"
     ]
    },
    {
     "name": "stderr",
     "output_type": "stream",
     "text": [
      "V: 189/300: 100%|████| 26/26 [00:04<00:00,  5.31it/s, v_loss=0.884, v_acc=0.748]\n"
     ]
    },
    {
     "name": "stdout",
     "output_type": "stream",
     "text": [
      "[ Valid | 189/300 ] loss = 0.88409, acc = 0.74790\n",
      "[ Valid | 189/300 ] loss = 0.88409, acc = 0.74790\n"
     ]
    },
    {
     "name": "stderr",
     "output_type": "stream",
     "text": [
      "T: 190/300: 100%|█| 78/78 [00:18<00:00,  4.11it/s, lr=0.000231, b_loss=0.277, b_\n"
     ]
    },
    {
     "name": "stdout",
     "output_type": "stream",
     "text": [
      "[ Train | 190/300 ] loss = 0.34155, acc = 0.88241\n"
     ]
    },
    {
     "name": "stderr",
     "output_type": "stream",
     "text": [
      "V: 190/300: 100%|████| 26/26 [00:04<00:00,  5.48it/s, v_loss=0.851, v_acc=0.767]\n"
     ]
    },
    {
     "name": "stdout",
     "output_type": "stream",
     "text": [
      "[ Valid | 190/300 ] loss = 0.85051, acc = 0.76717\n",
      "[ Valid | 190/300 ] loss = 0.85051, acc = 0.76717\n"
     ]
    },
    {
     "name": "stderr",
     "output_type": "stream",
     "text": [
      "T: 191/300: 100%|█| 78/78 [00:18<00:00,  4.11it/s, lr=0.0002, b_loss=0.367, b_ac\n"
     ]
    },
    {
     "name": "stdout",
     "output_type": "stream",
     "text": [
      "[ Train | 191/300 ] loss = 0.32184, acc = 0.88889\n"
     ]
    },
    {
     "name": "stderr",
     "output_type": "stream",
     "text": [
      "V: 191/300: 100%|████| 26/26 [00:04<00:00,  5.27it/s, v_loss=0.974, v_acc=0.736]\n"
     ]
    },
    {
     "name": "stdout",
     "output_type": "stream",
     "text": [
      "[ Valid | 191/300 ] loss = 0.97443, acc = 0.73618\n",
      "[ Valid | 191/300 ] loss = 0.97443, acc = 0.73618\n"
     ]
    },
    {
     "name": "stderr",
     "output_type": "stream",
     "text": [
      "T: 192/300: 100%|█| 78/78 [00:18<00:00,  4.17it/s, lr=0.000169, b_loss=0.319, b_\n"
     ]
    },
    {
     "name": "stdout",
     "output_type": "stream",
     "text": [
      "[ Train | 192/300 ] loss = 0.29703, acc = 0.89832\n"
     ]
    },
    {
     "name": "stderr",
     "output_type": "stream",
     "text": [
      "V: 192/300: 100%|████| 26/26 [00:04<00:00,  5.39it/s, v_loss=0.831, v_acc=0.775]\n"
     ]
    },
    {
     "name": "stdout",
     "output_type": "stream",
     "text": [
      "[ Valid | 192/300 ] loss = 0.83141, acc = 0.77528\n",
      "[ Valid | 192/300 ] loss = 0.83141, acc = 0.77528\n"
     ]
    },
    {
     "name": "stderr",
     "output_type": "stream",
     "text": [
      "T: 193/300: 100%|█| 78/78 [00:18<00:00,  4.22it/s, lr=0.000138, b_loss=0.217, b_\n"
     ]
    },
    {
     "name": "stdout",
     "output_type": "stream",
     "text": [
      "[ Train | 193/300 ] loss = 0.28978, acc = 0.89953\n"
     ]
    },
    {
     "name": "stderr",
     "output_type": "stream",
     "text": [
      "V: 193/300: 100%|█████| 26/26 [00:04<00:00,  5.23it/s, v_loss=0.874, v_acc=0.77]\n"
     ]
    },
    {
     "name": "stdout",
     "output_type": "stream",
     "text": [
      "[ Valid | 193/300 ] loss = 0.87368, acc = 0.77014\n",
      "[ Valid | 193/300 ] loss = 0.87368, acc = 0.77014\n"
     ]
    },
    {
     "name": "stderr",
     "output_type": "stream",
     "text": [
      "T: 194/300: 100%|█| 78/78 [00:18<00:00,  4.21it/s, lr=0.000109, b_loss=0.338, b_\n"
     ]
    },
    {
     "name": "stdout",
     "output_type": "stream",
     "text": [
      "[ Train | 194/300 ] loss = 0.25850, acc = 0.90991\n"
     ]
    },
    {
     "name": "stderr",
     "output_type": "stream",
     "text": [
      "V: 194/300: 100%|████| 26/26 [00:04<00:00,  5.93it/s, v_loss=0.777, v_acc=0.789]\n"
     ]
    },
    {
     "name": "stdout",
     "output_type": "stream",
     "text": [
      "[ Valid | 194/300 ] loss = 0.77663, acc = 0.78941\n",
      "[ Valid | 194/300 ] loss = 0.77663, acc = 0.78941\n"
     ]
    },
    {
     "name": "stderr",
     "output_type": "stream",
     "text": [
      "T: 195/300: 100%|█| 78/78 [00:18<00:00,  4.30it/s, lr=8.24e-5, b_loss=0.202, b_a\n"
     ]
    },
    {
     "name": "stdout",
     "output_type": "stream",
     "text": [
      "[ Train | 195/300 ] loss = 0.24185, acc = 0.91921\n"
     ]
    },
    {
     "name": "stderr",
     "output_type": "stream",
     "text": [
      "V: 195/300: 100%|████| 26/26 [00:04<00:00,  5.79it/s, v_loss=0.797, v_acc=0.789]\n"
     ]
    },
    {
     "name": "stdout",
     "output_type": "stream",
     "text": [
      "[ Valid | 195/300 ] loss = 0.79749, acc = 0.78946\n",
      "[ Valid | 195/300 ] loss = 0.79749, acc = 0.78946\n"
     ]
    },
    {
     "name": "stderr",
     "output_type": "stream",
     "text": [
      "T: 196/300: 100%|█| 78/78 [00:17<00:00,  4.37it/s, lr=5.86e-5, b_loss=0.269, b_a\n"
     ]
    },
    {
     "name": "stdout",
     "output_type": "stream",
     "text": [
      "[ Train | 196/300 ] loss = 0.24481, acc = 0.91586\n"
     ]
    },
    {
     "name": "stderr",
     "output_type": "stream",
     "text": [
      "V: 196/300: 100%|████| 26/26 [00:04<00:00,  5.55it/s, v_loss=0.779, v_acc=0.795]\n"
     ]
    },
    {
     "name": "stdout",
     "output_type": "stream",
     "text": [
      "[ Valid | 196/300 ] loss = 0.77903, acc = 0.79509\n",
      "[ Valid | 196/300 ] loss = 0.77903, acc = 0.79509\n"
     ]
    },
    {
     "name": "stderr",
     "output_type": "stream",
     "text": [
      "T: 197/300: 100%|█| 78/78 [00:17<00:00,  4.37it/s, lr=3.82e-5, b_loss=0.288, b_a\n"
     ]
    },
    {
     "name": "stdout",
     "output_type": "stream",
     "text": [
      "[ Train | 197/300 ] loss = 0.22493, acc = 0.92138\n"
     ]
    },
    {
     "name": "stderr",
     "output_type": "stream",
     "text": [
      "V: 197/300: 100%|████| 26/26 [00:04<00:00,  5.69it/s, v_loss=0.782, v_acc=0.794]\n"
     ]
    },
    {
     "name": "stdout",
     "output_type": "stream",
     "text": [
      "[ Valid | 197/300 ] loss = 0.78233, acc = 0.79446\n",
      "[ Valid | 197/300 ] loss = 0.78233, acc = 0.79446\n"
     ]
    },
    {
     "name": "stderr",
     "output_type": "stream",
     "text": [
      "T: 198/300: 100%|█| 78/78 [00:18<00:00,  4.33it/s, lr=2.18e-5, b_loss=0.247, b_a\n"
     ]
    },
    {
     "name": "stdout",
     "output_type": "stream",
     "text": [
      "[ Train | 198/300 ] loss = 0.21326, acc = 0.92788\n"
     ]
    },
    {
     "name": "stderr",
     "output_type": "stream",
     "text": [
      "V: 198/300: 100%|████| 26/26 [00:04<00:00,  5.26it/s, v_loss=0.784, v_acc=0.799]\n"
     ]
    },
    {
     "name": "stdout",
     "output_type": "stream",
     "text": [
      "[ Valid | 198/300 ] loss = 0.78385, acc = 0.79941\n",
      "[ Valid | 198/300 ] loss = 0.78385, acc = 0.79941 -> best\n",
      "Best model found at fold 2 epoch 198, acc=0.79941, saving model\n"
     ]
    },
    {
     "name": "stderr",
     "output_type": "stream",
     "text": [
      "T: 199/300: 100%|█| 78/78 [00:18<00:00,  4.31it/s, lr=9.79e-6, b_loss=0.293, b_a\n"
     ]
    },
    {
     "name": "stdout",
     "output_type": "stream",
     "text": [
      "[ Train | 199/300 ] loss = 0.20954, acc = 0.92849\n"
     ]
    },
    {
     "name": "stderr",
     "output_type": "stream",
     "text": [
      "V: 199/300: 100%|████| 26/26 [00:04<00:00,  5.21it/s, v_loss=0.772, v_acc=0.799]\n"
     ]
    },
    {
     "name": "stdout",
     "output_type": "stream",
     "text": [
      "[ Valid | 199/300 ] loss = 0.77182, acc = 0.79905\n",
      "[ Valid | 199/300 ] loss = 0.77182, acc = 0.79905\n"
     ]
    },
    {
     "name": "stderr",
     "output_type": "stream",
     "text": [
      "T: 200/300: 100%|█| 78/78 [00:18<00:00,  4.31it/s, lr=2.46e-6, b_loss=0.185, b_a\n"
     ]
    },
    {
     "name": "stdout",
     "output_type": "stream",
     "text": [
      "[ Train | 200/300 ] loss = 0.20161, acc = 0.93153\n"
     ]
    },
    {
     "name": "stderr",
     "output_type": "stream",
     "text": [
      "V: 200/300: 100%|████| 26/26 [00:04<00:00,  5.83it/s, v_loss=0.777, v_acc=0.796]\n"
     ]
    },
    {
     "name": "stdout",
     "output_type": "stream",
     "text": [
      "[ Valid | 200/300 ] loss = 0.77658, acc = 0.79605\n",
      "[ Valid | 200/300 ] loss = 0.77658, acc = 0.79605\n"
     ]
    },
    {
     "name": "stderr",
     "output_type": "stream",
     "text": [
      "T: 201/300: 100%|█| 78/78 [00:17<00:00,  4.34it/s, lr=0.0004, b_loss=0.423, b_ac\n"
     ]
    },
    {
     "name": "stdout",
     "output_type": "stream",
     "text": [
      "[ Train | 201/300 ] loss = 0.44880, acc = 0.84320\n"
     ]
    },
    {
     "name": "stderr",
     "output_type": "stream",
     "text": [
      "V: 201/300: 100%|█████| 26/26 [00:04<00:00,  5.77it/s, v_loss=1.11, v_acc=0.712]\n"
     ]
    },
    {
     "name": "stdout",
     "output_type": "stream",
     "text": [
      "[ Valid | 201/300 ] loss = 1.10927, acc = 0.71204\n",
      "[ Valid | 201/300 ] loss = 1.10927, acc = 0.71204\n"
     ]
    },
    {
     "name": "stderr",
     "output_type": "stream",
     "text": [
      "T: 202/300: 100%|█| 78/78 [00:18<00:00,  4.31it/s, lr=0.000398, b_loss=0.378, b_\n"
     ]
    },
    {
     "name": "stdout",
     "output_type": "stream",
     "text": [
      "[ Train | 202/300 ] loss = 0.45845, acc = 0.84302\n"
     ]
    },
    {
     "name": "stderr",
     "output_type": "stream",
     "text": [
      "V: 202/300: 100%|█████| 26/26 [00:04<00:00,  5.27it/s, v_loss=0.98, v_acc=0.744]\n"
     ]
    },
    {
     "name": "stdout",
     "output_type": "stream",
     "text": [
      "[ Valid | 202/300 ] loss = 0.98017, acc = 0.74368\n",
      "[ Valid | 202/300 ] loss = 0.98017, acc = 0.74368\n"
     ]
    },
    {
     "name": "stderr",
     "output_type": "stream",
     "text": [
      "T: 203/300: 100%|█| 78/78 [00:18<00:00,  4.11it/s, lr=0.00039, b_loss=0.349, b_a\n"
     ]
    },
    {
     "name": "stdout",
     "output_type": "stream",
     "text": [
      "[ Train | 203/300 ] loss = 0.42650, acc = 0.85381\n"
     ]
    },
    {
     "name": "stderr",
     "output_type": "stream",
     "text": [
      "V: 203/300: 100%|████| 26/26 [00:04<00:00,  5.90it/s, v_loss=0.971, v_acc=0.723]\n"
     ]
    },
    {
     "name": "stdout",
     "output_type": "stream",
     "text": [
      "[ Valid | 203/300 ] loss = 0.97120, acc = 0.72254\n",
      "[ Valid | 203/300 ] loss = 0.97120, acc = 0.72254\n"
     ]
    },
    {
     "name": "stderr",
     "output_type": "stream",
     "text": [
      "T: 204/300: 100%|█| 78/78 [00:18<00:00,  4.21it/s, lr=0.000378, b_loss=0.277, b_\n"
     ]
    },
    {
     "name": "stdout",
     "output_type": "stream",
     "text": [
      "[ Train | 204/300 ] loss = 0.41825, acc = 0.85216\n"
     ]
    },
    {
     "name": "stderr",
     "output_type": "stream",
     "text": [
      "V: 204/300: 100%|████| 26/26 [00:05<00:00,  5.05it/s, v_loss=0.984, v_acc=0.743]\n"
     ]
    },
    {
     "name": "stdout",
     "output_type": "stream",
     "text": [
      "[ Valid | 204/300 ] loss = 0.98374, acc = 0.74305\n",
      "[ Valid | 204/300 ] loss = 0.98374, acc = 0.74305\n"
     ]
    },
    {
     "name": "stderr",
     "output_type": "stream",
     "text": [
      "T: 205/300: 100%|█| 78/78 [00:18<00:00,  4.24it/s, lr=0.000362, b_loss=0.378, b_\n"
     ]
    },
    {
     "name": "stdout",
     "output_type": "stream",
     "text": [
      "[ Train | 205/300 ] loss = 0.40125, acc = 0.86352\n"
     ]
    },
    {
     "name": "stderr",
     "output_type": "stream",
     "text": [
      "V: 205/300: 100%|█████| 26/26 [00:04<00:00,  5.47it/s, v_loss=1.03, v_acc=0.736]\n"
     ]
    },
    {
     "name": "stdout",
     "output_type": "stream",
     "text": [
      "[ Valid | 205/300 ] loss = 1.03133, acc = 0.73618\n",
      "[ Valid | 205/300 ] loss = 1.03133, acc = 0.73618\n"
     ]
    },
    {
     "name": "stderr",
     "output_type": "stream",
     "text": [
      "T: 206/300: 100%|█| 78/78 [00:18<00:00,  4.32it/s, lr=0.000341, b_loss=0.509, b_\n"
     ]
    },
    {
     "name": "stdout",
     "output_type": "stream",
     "text": [
      "[ Train | 206/300 ] loss = 0.38678, acc = 0.86687\n"
     ]
    },
    {
     "name": "stderr",
     "output_type": "stream",
     "text": [
      "V: 206/300: 100%|████| 26/26 [00:04<00:00,  5.50it/s, v_loss=0.842, v_acc=0.759]\n"
     ]
    },
    {
     "name": "stdout",
     "output_type": "stream",
     "text": [
      "[ Valid | 206/300 ] loss = 0.84223, acc = 0.75937\n",
      "[ Valid | 206/300 ] loss = 0.84223, acc = 0.75937\n"
     ]
    },
    {
     "name": "stderr",
     "output_type": "stream",
     "text": [
      "T: 207/300: 100%|█| 78/78 [00:18<00:00,  4.27it/s, lr=0.000318, b_loss=0.303, b_\n"
     ]
    },
    {
     "name": "stdout",
     "output_type": "stream",
     "text": [
      "[ Train | 207/300 ] loss = 0.35535, acc = 0.87739\n"
     ]
    },
    {
     "name": "stderr",
     "output_type": "stream",
     "text": [
      "V: 207/300: 100%|████| 26/26 [00:04<00:00,  5.80it/s, v_loss=0.974, v_acc=0.757]\n"
     ]
    },
    {
     "name": "stdout",
     "output_type": "stream",
     "text": [
      "[ Valid | 207/300 ] loss = 0.97399, acc = 0.75652\n",
      "[ Valid | 207/300 ] loss = 0.97399, acc = 0.75652\n"
     ]
    },
    {
     "name": "stderr",
     "output_type": "stream",
     "text": [
      "T: 208/300: 100%|█| 78/78 [00:18<00:00,  4.21it/s, lr=0.000291, b_loss=0.252, b_\n"
     ]
    },
    {
     "name": "stdout",
     "output_type": "stream",
     "text": [
      "[ Train | 208/300 ] loss = 0.32537, acc = 0.88872\n"
     ]
    },
    {
     "name": "stderr",
     "output_type": "stream",
     "text": [
      "V: 208/300: 100%|████| 26/26 [00:04<00:00,  5.61it/s, v_loss=0.863, v_acc=0.761]\n"
     ]
    },
    {
     "name": "stdout",
     "output_type": "stream",
     "text": [
      "[ Valid | 208/300 ] loss = 0.86288, acc = 0.76109\n",
      "[ Valid | 208/300 ] loss = 0.86288, acc = 0.76109\n"
     ]
    },
    {
     "name": "stderr",
     "output_type": "stream",
     "text": [
      "T: 209/300: 100%|█| 78/78 [00:19<00:00,  4.08it/s, lr=0.000262, b_loss=0.225, b_\n"
     ]
    },
    {
     "name": "stdout",
     "output_type": "stream",
     "text": [
      "[ Train | 209/300 ] loss = 0.31113, acc = 0.89091\n"
     ]
    },
    {
     "name": "stderr",
     "output_type": "stream",
     "text": [
      "V: 209/300: 100%|█████| 26/26 [00:04<00:00,  5.73it/s, v_loss=0.92, v_acc=0.768]\n"
     ]
    },
    {
     "name": "stdout",
     "output_type": "stream",
     "text": [
      "[ Valid | 209/300 ] loss = 0.92020, acc = 0.76801\n",
      "[ Valid | 209/300 ] loss = 0.92020, acc = 0.76801\n"
     ]
    },
    {
     "name": "stderr",
     "output_type": "stream",
     "text": [
      "T: 210/300: 100%|█| 78/78 [00:17<00:00,  4.35it/s, lr=0.000231, b_loss=0.289, b_\n"
     ]
    },
    {
     "name": "stdout",
     "output_type": "stream",
     "text": [
      "[ Train | 210/300 ] loss = 0.28362, acc = 0.90224\n"
     ]
    },
    {
     "name": "stderr",
     "output_type": "stream",
     "text": [
      "V: 210/300: 100%|████| 26/26 [00:04<00:00,  5.41it/s, v_loss=0.971, v_acc=0.755]\n"
     ]
    },
    {
     "name": "stdout",
     "output_type": "stream",
     "text": [
      "[ Valid | 210/300 ] loss = 0.97068, acc = 0.75485\n",
      "[ Valid | 210/300 ] loss = 0.97068, acc = 0.75485\n"
     ]
    },
    {
     "name": "stderr",
     "output_type": "stream",
     "text": [
      "T: 211/300: 100%|█| 78/78 [00:17<00:00,  4.35it/s, lr=0.0002, b_loss=0.276, b_ac\n"
     ]
    },
    {
     "name": "stdout",
     "output_type": "stream",
     "text": [
      "[ Train | 211/300 ] loss = 0.28350, acc = 0.90238\n"
     ]
    },
    {
     "name": "stderr",
     "output_type": "stream",
     "text": [
      "V: 211/300: 100%|████| 26/26 [00:04<00:00,  5.36it/s, v_loss=0.851, v_acc=0.777]\n"
     ]
    },
    {
     "name": "stdout",
     "output_type": "stream",
     "text": [
      "[ Valid | 211/300 ] loss = 0.85109, acc = 0.77679\n",
      "[ Valid | 211/300 ] loss = 0.85109, acc = 0.77679\n"
     ]
    },
    {
     "name": "stderr",
     "output_type": "stream",
     "text": [
      "T: 212/300: 100%|█| 78/78 [00:18<00:00,  4.25it/s, lr=0.000169, b_loss=0.412, b_\n"
     ]
    },
    {
     "name": "stdout",
     "output_type": "stream",
     "text": [
      "[ Train | 212/300 ] loss = 0.26778, acc = 0.90588\n"
     ]
    },
    {
     "name": "stderr",
     "output_type": "stream",
     "text": [
      "V: 212/300: 100%|████| 26/26 [00:05<00:00,  5.19it/s, v_loss=0.837, v_acc=0.782]\n"
     ]
    },
    {
     "name": "stdout",
     "output_type": "stream",
     "text": [
      "[ Valid | 212/300 ] loss = 0.83715, acc = 0.78168\n",
      "[ Valid | 212/300 ] loss = 0.83715, acc = 0.78168\n"
     ]
    },
    {
     "name": "stderr",
     "output_type": "stream",
     "text": [
      "T: 213/300: 100%|█| 78/78 [00:17<00:00,  4.33it/s, lr=0.000138, b_loss=0.258, b_\n"
     ]
    },
    {
     "name": "stdout",
     "output_type": "stream",
     "text": [
      "[ Train | 213/300 ] loss = 0.24460, acc = 0.91847\n"
     ]
    },
    {
     "name": "stderr",
     "output_type": "stream",
     "text": [
      "V: 213/300: 100%|████| 26/26 [00:04<00:00,  5.22it/s, v_loss=0.841, v_acc=0.784]\n"
     ]
    },
    {
     "name": "stdout",
     "output_type": "stream",
     "text": [
      "[ Valid | 213/300 ] loss = 0.84102, acc = 0.78432\n",
      "[ Valid | 213/300 ] loss = 0.84102, acc = 0.78432\n"
     ]
    },
    {
     "name": "stderr",
     "output_type": "stream",
     "text": [
      "T: 214/300: 100%|█| 78/78 [00:17<00:00,  4.34it/s, lr=0.000109, b_loss=0.0955, b\n"
     ]
    },
    {
     "name": "stdout",
     "output_type": "stream",
     "text": [
      "[ Train | 214/300 ] loss = 0.22850, acc = 0.92154\n"
     ]
    },
    {
     "name": "stderr",
     "output_type": "stream",
     "text": [
      "V: 214/300: 100%|█████| 26/26 [00:04<00:00,  5.70it/s, v_loss=0.807, v_acc=0.79]\n"
     ]
    },
    {
     "name": "stdout",
     "output_type": "stream",
     "text": [
      "[ Valid | 214/300 ] loss = 0.80700, acc = 0.79028\n",
      "[ Valid | 214/300 ] loss = 0.80700, acc = 0.79028\n"
     ]
    },
    {
     "name": "stderr",
     "output_type": "stream",
     "text": [
      "T: 215/300: 100%|█| 78/78 [00:17<00:00,  4.34it/s, lr=8.24e-5, b_loss=0.153, b_a\n"
     ]
    },
    {
     "name": "stdout",
     "output_type": "stream",
     "text": [
      "[ Train | 215/300 ] loss = 0.21994, acc = 0.92383\n"
     ]
    },
    {
     "name": "stderr",
     "output_type": "stream",
     "text": [
      "V: 215/300: 100%|████| 26/26 [00:05<00:00,  4.88it/s, v_loss=0.812, v_acc=0.791]\n"
     ]
    },
    {
     "name": "stdout",
     "output_type": "stream",
     "text": [
      "[ Valid | 215/300 ] loss = 0.81239, acc = 0.79057\n",
      "[ Valid | 215/300 ] loss = 0.81239, acc = 0.79057\n"
     ]
    },
    {
     "name": "stderr",
     "output_type": "stream",
     "text": [
      "T: 216/300: 100%|█| 78/78 [00:18<00:00,  4.22it/s, lr=5.86e-5, b_loss=0.178, b_a\n"
     ]
    },
    {
     "name": "stdout",
     "output_type": "stream",
     "text": [
      "[ Train | 216/300 ] loss = 0.20517, acc = 0.93031\n"
     ]
    },
    {
     "name": "stderr",
     "output_type": "stream",
     "text": [
      "V: 216/300: 100%|████| 26/26 [00:04<00:00,  5.96it/s, v_loss=0.825, v_acc=0.794]\n"
     ]
    },
    {
     "name": "stdout",
     "output_type": "stream",
     "text": [
      "[ Valid | 216/300 ] loss = 0.82536, acc = 0.79367\n",
      "[ Valid | 216/300 ] loss = 0.82536, acc = 0.79367\n"
     ]
    },
    {
     "name": "stderr",
     "output_type": "stream",
     "text": [
      "T: 217/300: 100%|█| 78/78 [00:17<00:00,  4.34it/s, lr=3.82e-5, b_loss=0.159, b_a\n"
     ]
    },
    {
     "name": "stdout",
     "output_type": "stream",
     "text": [
      "[ Train | 217/300 ] loss = 0.19789, acc = 0.93434\n"
     ]
    },
    {
     "name": "stderr",
     "output_type": "stream",
     "text": [
      "V: 217/300: 100%|██████| 26/26 [00:05<00:00,  4.92it/s, v_loss=0.801, v_acc=0.8]\n"
     ]
    },
    {
     "name": "stdout",
     "output_type": "stream",
     "text": [
      "[ Valid | 217/300 ] loss = 0.80112, acc = 0.79996\n",
      "[ Valid | 217/300 ] loss = 0.80112, acc = 0.79996 -> best\n",
      "Best model found at fold 2 epoch 217, acc=0.79996, saving model\n"
     ]
    },
    {
     "name": "stderr",
     "output_type": "stream",
     "text": [
      "T: 218/300: 100%|█| 78/78 [00:18<00:00,  4.26it/s, lr=2.18e-5, b_loss=0.177, b_a\n"
     ]
    },
    {
     "name": "stdout",
     "output_type": "stream",
     "text": [
      "[ Train | 218/300 ] loss = 0.19006, acc = 0.93783\n"
     ]
    },
    {
     "name": "stderr",
     "output_type": "stream",
     "text": [
      "V: 218/300: 100%|████| 26/26 [00:04<00:00,  5.25it/s, v_loss=0.795, v_acc=0.803]\n"
     ]
    },
    {
     "name": "stdout",
     "output_type": "stream",
     "text": [
      "[ Valid | 218/300 ] loss = 0.79477, acc = 0.80263\n",
      "[ Valid | 218/300 ] loss = 0.79477, acc = 0.80263 -> best\n",
      "Best model found at fold 2 epoch 218, acc=0.80263, saving model\n"
     ]
    },
    {
     "name": "stderr",
     "output_type": "stream",
     "text": [
      "T: 219/300: 100%|█| 78/78 [00:17<00:00,  4.33it/s, lr=9.79e-6, b_loss=0.236, b_a\n"
     ]
    },
    {
     "name": "stdout",
     "output_type": "stream",
     "text": [
      "[ Train | 219/300 ] loss = 0.18341, acc = 0.93874\n"
     ]
    },
    {
     "name": "stderr",
     "output_type": "stream",
     "text": [
      "V: 219/300: 100%|████| 26/26 [00:04<00:00,  5.51it/s, v_loss=0.802, v_acc=0.798]\n"
     ]
    },
    {
     "name": "stdout",
     "output_type": "stream",
     "text": [
      "[ Valid | 219/300 ] loss = 0.80161, acc = 0.79782\n",
      "[ Valid | 219/300 ] loss = 0.80161, acc = 0.79782\n"
     ]
    },
    {
     "name": "stderr",
     "output_type": "stream",
     "text": [
      "T: 220/300: 100%|█| 78/78 [00:18<00:00,  4.28it/s, lr=2.46e-6, b_loss=0.164, b_a\n"
     ]
    },
    {
     "name": "stdout",
     "output_type": "stream",
     "text": [
      "[ Train | 220/300 ] loss = 0.17945, acc = 0.93714\n"
     ]
    },
    {
     "name": "stderr",
     "output_type": "stream",
     "text": [
      "V: 220/300: 100%|██████| 26/26 [00:04<00:00,  5.57it/s, v_loss=0.806, v_acc=0.8]\n"
     ]
    },
    {
     "name": "stdout",
     "output_type": "stream",
     "text": [
      "[ Valid | 220/300 ] loss = 0.80565, acc = 0.80027\n",
      "[ Valid | 220/300 ] loss = 0.80565, acc = 0.80027\n"
     ]
    },
    {
     "name": "stderr",
     "output_type": "stream",
     "text": [
      "T: 221/300: 100%|█| 78/78 [00:17<00:00,  4.38it/s, lr=0.0004, b_loss=0.452, b_ac\n"
     ]
    },
    {
     "name": "stdout",
     "output_type": "stream",
     "text": [
      "[ Train | 221/300 ] loss = 0.40303, acc = 0.86067\n"
     ]
    },
    {
     "name": "stderr",
     "output_type": "stream",
     "text": [
      "V: 221/300: 100%|█████| 26/26 [00:04<00:00,  5.58it/s, v_loss=1.23, v_acc=0.705]\n"
     ]
    },
    {
     "name": "stdout",
     "output_type": "stream",
     "text": [
      "[ Valid | 221/300 ] loss = 1.23258, acc = 0.70452\n",
      "[ Valid | 221/300 ] loss = 1.23258, acc = 0.70452\n"
     ]
    },
    {
     "name": "stderr",
     "output_type": "stream",
     "text": [
      "T: 222/300: 100%|█| 78/78 [00:17<00:00,  4.47it/s, lr=0.000398, b_loss=0.413, b_\n"
     ]
    },
    {
     "name": "stdout",
     "output_type": "stream",
     "text": [
      "[ Train | 222/300 ] loss = 0.41931, acc = 0.85702\n"
     ]
    },
    {
     "name": "stderr",
     "output_type": "stream",
     "text": [
      "V: 222/300: 100%|█████| 26/26 [00:04<00:00,  5.42it/s, v_loss=1.27, v_acc=0.703]\n"
     ]
    },
    {
     "name": "stdout",
     "output_type": "stream",
     "text": [
      "[ Valid | 222/300 ] loss = 1.27333, acc = 0.70337\n",
      "[ Valid | 222/300 ] loss = 1.27333, acc = 0.70337\n"
     ]
    },
    {
     "name": "stderr",
     "output_type": "stream",
     "text": [
      "T: 223/300: 100%|█| 78/78 [00:17<00:00,  4.34it/s, lr=0.00039, b_loss=0.41, b_ac\n"
     ]
    },
    {
     "name": "stdout",
     "output_type": "stream",
     "text": [
      "[ Train | 223/300 ] loss = 0.38454, acc = 0.86487\n"
     ]
    },
    {
     "name": "stderr",
     "output_type": "stream",
     "text": [
      "V: 223/300: 100%|█████| 26/26 [00:05<00:00,  5.11it/s, v_loss=1.03, v_acc=0.739]\n"
     ]
    },
    {
     "name": "stdout",
     "output_type": "stream",
     "text": [
      "[ Valid | 223/300 ] loss = 1.03111, acc = 0.73914\n",
      "[ Valid | 223/300 ] loss = 1.03111, acc = 0.73914\n"
     ]
    },
    {
     "name": "stderr",
     "output_type": "stream",
     "text": [
      "T: 224/300: 100%|█| 78/78 [00:17<00:00,  4.43it/s, lr=0.000378, b_loss=0.266, b_\n"
     ]
    },
    {
     "name": "stdout",
     "output_type": "stream",
     "text": [
      "[ Train | 224/300 ] loss = 0.37152, acc = 0.87079\n"
     ]
    },
    {
     "name": "stderr",
     "output_type": "stream",
     "text": [
      "V: 224/300: 100%|█████| 26/26 [00:04<00:00,  5.26it/s, v_loss=1.06, v_acc=0.729]\n"
     ]
    },
    {
     "name": "stdout",
     "output_type": "stream",
     "text": [
      "[ Valid | 224/300 ] loss = 1.05508, acc = 0.72861\n",
      "[ Valid | 224/300 ] loss = 1.05508, acc = 0.72861\n"
     ]
    },
    {
     "name": "stderr",
     "output_type": "stream",
     "text": [
      "T: 225/300: 100%|█| 78/78 [00:18<00:00,  4.27it/s, lr=0.000362, b_loss=0.398, b_\n"
     ]
    },
    {
     "name": "stdout",
     "output_type": "stream",
     "text": [
      "[ Train | 225/300 ] loss = 0.36529, acc = 0.87095\n"
     ]
    },
    {
     "name": "stderr",
     "output_type": "stream",
     "text": [
      "V: 225/300: 100%|█████| 26/26 [00:04<00:00,  5.75it/s, v_loss=1.02, v_acc=0.742]\n"
     ]
    },
    {
     "name": "stdout",
     "output_type": "stream",
     "text": [
      "[ Valid | 225/300 ] loss = 1.01744, acc = 0.74208\n",
      "[ Valid | 225/300 ] loss = 1.01744, acc = 0.74208\n"
     ]
    },
    {
     "name": "stderr",
     "output_type": "stream",
     "text": [
      "T: 226/300: 100%|█| 78/78 [00:18<00:00,  4.12it/s, lr=0.000341, b_loss=0.394, b_\n"
     ]
    },
    {
     "name": "stdout",
     "output_type": "stream",
     "text": [
      "[ Train | 226/300 ] loss = 0.36374, acc = 0.87113\n"
     ]
    },
    {
     "name": "stderr",
     "output_type": "stream",
     "text": [
      "V: 226/300: 100%|████| 26/26 [00:04<00:00,  5.33it/s, v_loss=0.918, v_acc=0.759]\n"
     ]
    },
    {
     "name": "stdout",
     "output_type": "stream",
     "text": [
      "[ Valid | 226/300 ] loss = 0.91781, acc = 0.75909\n",
      "[ Valid | 226/300 ] loss = 0.91781, acc = 0.75909\n"
     ]
    },
    {
     "name": "stderr",
     "output_type": "stream",
     "text": [
      "T: 227/300: 100%|█| 78/78 [00:18<00:00,  4.18it/s, lr=0.000318, b_loss=0.322, b_\n"
     ]
    },
    {
     "name": "stdout",
     "output_type": "stream",
     "text": [
      "[ Train | 227/300 ] loss = 0.33399, acc = 0.88348\n"
     ]
    },
    {
     "name": "stderr",
     "output_type": "stream",
     "text": [
      "V: 227/300: 100%|████| 26/26 [00:04<00:00,  5.21it/s, v_loss=0.947, v_acc=0.754]\n"
     ]
    },
    {
     "name": "stdout",
     "output_type": "stream",
     "text": [
      "[ Valid | 227/300 ] loss = 0.94738, acc = 0.75385\n",
      "[ Valid | 227/300 ] loss = 0.94738, acc = 0.75385\n"
     ]
    },
    {
     "name": "stderr",
     "output_type": "stream",
     "text": [
      "T: 228/300: 100%|█| 78/78 [00:18<00:00,  4.30it/s, lr=0.000291, b_loss=0.32, b_a\n"
     ]
    },
    {
     "name": "stdout",
     "output_type": "stream",
     "text": [
      "[ Train | 228/300 ] loss = 0.31360, acc = 0.89163\n"
     ]
    },
    {
     "name": "stderr",
     "output_type": "stream",
     "text": [
      "V: 228/300: 100%|████| 26/26 [00:05<00:00,  5.14it/s, v_loss=0.856, v_acc=0.774]\n"
     ]
    },
    {
     "name": "stdout",
     "output_type": "stream",
     "text": [
      "[ Valid | 228/300 ] loss = 0.85562, acc = 0.77437\n",
      "[ Valid | 228/300 ] loss = 0.85562, acc = 0.77437\n"
     ]
    },
    {
     "name": "stderr",
     "output_type": "stream",
     "text": [
      "T: 229/300: 100%|█| 78/78 [00:17<00:00,  4.36it/s, lr=0.000262, b_loss=0.259, b_\n"
     ]
    },
    {
     "name": "stdout",
     "output_type": "stream",
     "text": [
      "[ Train | 229/300 ] loss = 0.28784, acc = 0.90082\n"
     ]
    },
    {
     "name": "stderr",
     "output_type": "stream",
     "text": [
      "V: 229/300: 100%|████| 26/26 [00:04<00:00,  5.56it/s, v_loss=0.908, v_acc=0.769]\n"
     ]
    },
    {
     "name": "stdout",
     "output_type": "stream",
     "text": [
      "[ Valid | 229/300 ] loss = 0.90815, acc = 0.76925\n",
      "[ Valid | 229/300 ] loss = 0.90815, acc = 0.76925\n"
     ]
    },
    {
     "name": "stderr",
     "output_type": "stream",
     "text": [
      "T: 230/300: 100%|█| 78/78 [00:18<00:00,  4.28it/s, lr=0.000231, b_loss=0.31, b_a\n"
     ]
    },
    {
     "name": "stdout",
     "output_type": "stream",
     "text": [
      "[ Train | 230/300 ] loss = 0.27004, acc = 0.90671\n"
     ]
    },
    {
     "name": "stderr",
     "output_type": "stream",
     "text": [
      "V: 230/300: 100%|██████| 26/26 [00:04<00:00,  5.46it/s, v_loss=0.9, v_acc=0.772]\n"
     ]
    },
    {
     "name": "stdout",
     "output_type": "stream",
     "text": [
      "[ Valid | 230/300 ] loss = 0.89992, acc = 0.77171\n",
      "[ Valid | 230/300 ] loss = 0.89992, acc = 0.77171\n"
     ]
    },
    {
     "name": "stderr",
     "output_type": "stream",
     "text": [
      "T: 231/300: 100%|█| 78/78 [00:18<00:00,  4.27it/s, lr=0.0002, b_loss=0.226, b_ac\n"
     ]
    },
    {
     "name": "stdout",
     "output_type": "stream",
     "text": [
      "[ Train | 231/300 ] loss = 0.24725, acc = 0.91385\n"
     ]
    },
    {
     "name": "stderr",
     "output_type": "stream",
     "text": [
      "V: 231/300: 100%|████| 26/26 [00:04<00:00,  5.56it/s, v_loss=0.832, v_acc=0.784]\n"
     ]
    },
    {
     "name": "stdout",
     "output_type": "stream",
     "text": [
      "[ Valid | 231/300 ] loss = 0.83176, acc = 0.78427\n",
      "[ Valid | 231/300 ] loss = 0.83176, acc = 0.78427\n"
     ]
    },
    {
     "name": "stderr",
     "output_type": "stream",
     "text": [
      "T: 232/300: 100%|█| 78/78 [00:19<00:00,  3.99it/s, lr=0.000169, b_loss=0.19, b_a\n"
     ]
    },
    {
     "name": "stdout",
     "output_type": "stream",
     "text": [
      "[ Train | 232/300 ] loss = 0.23120, acc = 0.92081\n"
     ]
    },
    {
     "name": "stderr",
     "output_type": "stream",
     "text": [
      "V: 232/300: 100%|████| 26/26 [00:04<00:00,  5.40it/s, v_loss=0.829, v_acc=0.789]\n"
     ]
    },
    {
     "name": "stdout",
     "output_type": "stream",
     "text": [
      "[ Valid | 232/300 ] loss = 0.82919, acc = 0.78936\n",
      "[ Valid | 232/300 ] loss = 0.82919, acc = 0.78936\n"
     ]
    },
    {
     "name": "stderr",
     "output_type": "stream",
     "text": [
      "T: 233/300: 100%|█| 78/78 [00:18<00:00,  4.25it/s, lr=0.000138, b_loss=0.238, b_\n"
     ]
    },
    {
     "name": "stdout",
     "output_type": "stream",
     "text": [
      "[ Train | 233/300 ] loss = 0.21353, acc = 0.92759\n"
     ]
    },
    {
     "name": "stderr",
     "output_type": "stream",
     "text": [
      "V: 233/300: 100%|████| 26/26 [00:04<00:00,  5.59it/s, v_loss=0.835, v_acc=0.792]\n"
     ]
    },
    {
     "name": "stdout",
     "output_type": "stream",
     "text": [
      "[ Valid | 233/300 ] loss = 0.83464, acc = 0.79188\n",
      "[ Valid | 233/300 ] loss = 0.83464, acc = 0.79188\n"
     ]
    },
    {
     "name": "stderr",
     "output_type": "stream",
     "text": [
      "T: 234/300: 100%|█| 78/78 [00:18<00:00,  4.31it/s, lr=0.000109, b_loss=0.142, b_\n"
     ]
    },
    {
     "name": "stdout",
     "output_type": "stream",
     "text": [
      "[ Train | 234/300 ] loss = 0.19575, acc = 0.93507\n"
     ]
    },
    {
     "name": "stderr",
     "output_type": "stream",
     "text": [
      "V: 234/300: 100%|████| 26/26 [00:04<00:00,  5.41it/s, v_loss=0.843, v_acc=0.796]\n"
     ]
    },
    {
     "name": "stdout",
     "output_type": "stream",
     "text": [
      "[ Valid | 234/300 ] loss = 0.84344, acc = 0.79573\n",
      "[ Valid | 234/300 ] loss = 0.84344, acc = 0.79573\n"
     ]
    },
    {
     "name": "stderr",
     "output_type": "stream",
     "text": [
      "T: 235/300: 100%|█| 78/78 [00:18<00:00,  4.23it/s, lr=8.24e-5, b_loss=0.189, b_a\n"
     ]
    },
    {
     "name": "stdout",
     "output_type": "stream",
     "text": [
      "[ Train | 235/300 ] loss = 0.17979, acc = 0.93901\n"
     ]
    },
    {
     "name": "stderr",
     "output_type": "stream",
     "text": [
      "V: 235/300: 100%|██████| 26/26 [00:04<00:00,  5.45it/s, v_loss=0.834, v_acc=0.8]\n"
     ]
    },
    {
     "name": "stdout",
     "output_type": "stream",
     "text": [
      "[ Valid | 235/300 ] loss = 0.83372, acc = 0.80027\n",
      "[ Valid | 235/300 ] loss = 0.83372, acc = 0.80027\n"
     ]
    },
    {
     "name": "stderr",
     "output_type": "stream",
     "text": [
      "T: 236/300: 100%|█| 78/78 [00:17<00:00,  4.46it/s, lr=5.86e-5, b_loss=0.146, b_a\n"
     ]
    },
    {
     "name": "stdout",
     "output_type": "stream",
     "text": [
      "[ Train | 236/300 ] loss = 0.18541, acc = 0.93565\n"
     ]
    },
    {
     "name": "stderr",
     "output_type": "stream",
     "text": [
      "V: 236/300: 100%|████| 26/26 [00:04<00:00,  5.79it/s, v_loss=0.814, v_acc=0.798]\n"
     ]
    },
    {
     "name": "stdout",
     "output_type": "stream",
     "text": [
      "[ Valid | 236/300 ] loss = 0.81360, acc = 0.79785\n",
      "[ Valid | 236/300 ] loss = 0.81360, acc = 0.79785\n"
     ]
    },
    {
     "name": "stderr",
     "output_type": "stream",
     "text": [
      "T: 237/300: 100%|█| 78/78 [00:17<00:00,  4.38it/s, lr=3.82e-5, b_loss=0.169, b_a\n"
     ]
    },
    {
     "name": "stdout",
     "output_type": "stream",
     "text": [
      "[ Train | 237/300 ] loss = 0.17127, acc = 0.94484\n"
     ]
    },
    {
     "name": "stderr",
     "output_type": "stream",
     "text": [
      "V: 237/300: 100%|████| 26/26 [00:04<00:00,  5.98it/s, v_loss=0.818, v_acc=0.802]\n"
     ]
    },
    {
     "name": "stdout",
     "output_type": "stream",
     "text": [
      "[ Valid | 237/300 ] loss = 0.81801, acc = 0.80176\n",
      "[ Valid | 237/300 ] loss = 0.81801, acc = 0.80176\n"
     ]
    },
    {
     "name": "stderr",
     "output_type": "stream",
     "text": [
      "T: 238/300: 100%|█| 78/78 [00:18<00:00,  4.32it/s, lr=2.18e-5, b_loss=0.189, b_a\n"
     ]
    },
    {
     "name": "stdout",
     "output_type": "stream",
     "text": [
      "[ Train | 238/300 ] loss = 0.16958, acc = 0.94286\n"
     ]
    },
    {
     "name": "stderr",
     "output_type": "stream",
     "text": [
      "V: 238/300: 100%|████| 26/26 [00:04<00:00,  5.72it/s, v_loss=0.814, v_acc=0.798]\n"
     ]
    },
    {
     "name": "stdout",
     "output_type": "stream",
     "text": [
      "[ Valid | 238/300 ] loss = 0.81414, acc = 0.79777\n",
      "[ Valid | 238/300 ] loss = 0.81414, acc = 0.79777\n"
     ]
    },
    {
     "name": "stderr",
     "output_type": "stream",
     "text": [
      "T: 239/300: 100%|█| 78/78 [00:17<00:00,  4.48it/s, lr=9.79e-6, b_loss=0.134, b_a\n"
     ]
    },
    {
     "name": "stdout",
     "output_type": "stream",
     "text": [
      "[ Train | 239/300 ] loss = 0.16096, acc = 0.94646\n"
     ]
    },
    {
     "name": "stderr",
     "output_type": "stream",
     "text": [
      "V: 239/300: 100%|████| 26/26 [00:04<00:00,  5.86it/s, v_loss=0.814, v_acc=0.799]"
     ]
    },
    {
     "name": "stdout",
     "output_type": "stream",
     "text": [
      "[ Valid | 239/300 ] loss = 0.81435, acc = 0.79934\n",
      "[ Valid | 239/300 ] loss = 0.81435, acc = 0.79934\n",
      "No improvment 20 consecutive epochs, early stopping\n"
     ]
    },
    {
     "name": "stderr",
     "output_type": "stream",
     "text": [
      "\n"
     ]
    },
    {
     "data": {
      "text/html": [
       "Waiting for W&B process to finish... <strong style=\"color:green\">(success).</strong>"
      ],
      "text/plain": [
       "<IPython.core.display.HTML object>"
      ]
     },
     "metadata": {},
     "output_type": "display_data"
    },
    {
     "data": {
      "text/html": [
       "<style>\n",
       "    table.wandb td:nth-child(1) { padding: 0 10px; text-align: left ; width: auto;} td:nth-child(2) {text-align: left ; width: 100%}\n",
       "    .wandb-row { display: flex; flex-direction: row; flex-wrap: wrap; justify-content: flex-start; width: 100% }\n",
       "    .wandb-col { display: flex; flex-direction: column; flex-basis: 100%; flex: 1; padding: 10px; }\n",
       "    </style>\n",
       "<div class=\"wandb-row\"><div class=\"wandb-col\"><h3>Run history:</h3><br/><table class=\"wandb\"><tr><td>average_training_loss</td><td>█▆▅▅▅▄▄▄▄▃▄▃▃▃▃▃▂▃▃▂▃▂▂▂▂▂▁▂▂▁▂▂▁▁▂▁▁▂▁▁</td></tr><tr><td>average_validation_loss</td><td>█▅▄▃▅▃▂▄▃▂▄▂▂▁▂▃▁▅▂▁▃▂▁▁▅▁▁▃▂▁▃▂▁▁▂▂▁▃▂▂</td></tr><tr><td>learning rate</td><td>█▆▃▁▇▄▁█▅▂█▆▃▁▇▄▁█▅▂█▆▃▁▇▄▁█▅▂█▆▃▁▇▄▁█▅▁</td></tr><tr><td>step_training_accuracy</td><td>▁▂▄▃▄▄▅▄▅▆▅▆▆▇▅▅▇▆▆▇▅▆▇▇▅▇▇▇▇█▇▇█▇▇█████</td></tr><tr><td>step_training_loss</td><td>█▇▅▅▅▅▄▅▄▃▄▄▃▂▄▄▂▃▂▂▃▃▂▂▃▂▂▂▂▁▂▂▂▂▂▁▁▁▁▁</td></tr><tr><td>step_validation_accuracy</td><td>▁▃▃▆▄▅▆▆▆▇▅▆█▇▆▆█▅▇▆▆▇█▆▇█▇▇▆▇▇▇▇▇▇▇███▇</td></tr><tr><td>step_validation_loss</td><td>█▆▆▃▆▄▃▄▃▂▅▃▂▃▄▃▂▆▃▄▄▂▁▃▁▂▃▃▄▃▃▃▄▃▄▃▂▃▂▃</td></tr></table><br/></div><div class=\"wandb-col\"><h3>Run summary:</h3><br/><table class=\"wandb\"><tr><td>average_training_loss</td><td>0.16096</td></tr><tr><td>average_validation_loss</td><td>0.81435</td></tr><tr><td>learning rate</td><td>1e-05</td></tr><tr><td>step_training_accuracy</td><td>0.9569</td></tr><tr><td>step_training_loss</td><td>0.13429</td></tr><tr><td>step_validation_accuracy</td><td>0.79839</td></tr><tr><td>step_validation_loss</td><td>0.86057</td></tr></table><br/></div></div>"
      ],
      "text/plain": [
       "<IPython.core.display.HTML object>"
      ]
     },
     "metadata": {},
     "output_type": "display_data"
    },
    {
     "data": {
      "text/html": [
       " View run <strong style=\"color:#cdcd00\">fast-energy-30</strong> at: <a href='https://wandb.ai/nickwkt/Food-11/runs/7fvc6wqf' target=\"_blank\">https://wandb.ai/nickwkt/Food-11/runs/7fvc6wqf</a><br/>Synced 6 W&B file(s), 0 media file(s), 0 artifact file(s) and 0 other file(s)"
      ],
      "text/plain": [
       "<IPython.core.display.HTML object>"
      ]
     },
     "metadata": {},
     "output_type": "display_data"
    },
    {
     "data": {
      "text/html": [
       "Find logs at: <code>./wandb/run-20230416_025121-7fvc6wqf/logs</code>"
      ],
      "text/plain": [
       "<IPython.core.display.HTML object>"
      ]
     },
     "metadata": {},
     "output_type": "display_data"
    },
    {
     "name": "stdout",
     "output_type": "stream",
     "text": [
      "\n",
      "\n",
      "Starting Fold: 3 ********************************************\n",
      "cuda:0\n"
     ]
    },
    {
     "data": {
      "application/vnd.jupyter.widget-view+json": {
       "model_id": "07c7475c2f2a401aa4a479dc4ef4a182",
       "version_major": 2,
       "version_minor": 0
      },
      "text/plain": [
       "VBox(children=(Label(value='Waiting for wandb.init()...\\r'), FloatProgress(value=0.01666853646747768, max=1.0)…"
      ]
     },
     "metadata": {},
     "output_type": "display_data"
    },
    {
     "data": {
      "text/html": [
       "Tracking run with wandb version 0.14.2"
      ],
      "text/plain": [
       "<IPython.core.display.HTML object>"
      ]
     },
     "metadata": {},
     "output_type": "display_data"
    },
    {
     "data": {
      "text/html": [
       "Run data is saved locally in <code>/home/user/jupyter_file/wandb/run-20230416_042248-ob6a9qwq</code>"
      ],
      "text/plain": [
       "<IPython.core.display.HTML object>"
      ]
     },
     "metadata": {},
     "output_type": "display_data"
    },
    {
     "data": {
      "text/html": [
       "Syncing run <strong><a href='https://wandb.ai/nickwkt/Food-11/runs/ob6a9qwq' target=\"_blank\">glowing-night-31</a></strong> to <a href='https://wandb.ai/nickwkt/Food-11' target=\"_blank\">Weights & Biases</a> (<a href='https://wandb.me/run' target=\"_blank\">docs</a>)<br/>"
      ],
      "text/plain": [
       "<IPython.core.display.HTML object>"
      ]
     },
     "metadata": {},
     "output_type": "display_data"
    },
    {
     "data": {
      "text/html": [
       " View project at <a href='https://wandb.ai/nickwkt/Food-11' target=\"_blank\">https://wandb.ai/nickwkt/Food-11</a>"
      ],
      "text/plain": [
       "<IPython.core.display.HTML object>"
      ]
     },
     "metadata": {},
     "output_type": "display_data"
    },
    {
     "data": {
      "text/html": [
       " View run at <a href='https://wandb.ai/nickwkt/Food-11/runs/ob6a9qwq' target=\"_blank\">https://wandb.ai/nickwkt/Food-11/runs/ob6a9qwq</a>"
      ],
      "text/plain": [
       "<IPython.core.display.HTML object>"
      ]
     },
     "metadata": {},
     "output_type": "display_data"
    },
    {
     "name": "stderr",
     "output_type": "stream",
     "text": [
      "T: 001/300: 100%|█| 78/78 [00:17<00:00,  4.37it/s, lr=0.0004, b_loss=2, b_acc=0.\n"
     ]
    },
    {
     "name": "stdout",
     "output_type": "stream",
     "text": [
      "[ Train | 001/300 ] loss = 2.11010, acc = 0.24910\n"
     ]
    },
    {
     "name": "stderr",
     "output_type": "stream",
     "text": [
      "V: 001/300: 100%|█████| 26/26 [00:04<00:00,  5.34it/s, v_loss=1.96, v_acc=0.315]\n"
     ]
    },
    {
     "name": "stdout",
     "output_type": "stream",
     "text": [
      "[ Valid | 001/300 ] loss = 1.95540, acc = 0.31522\n",
      "[ Valid | 001/300 ] loss = 1.95540, acc = 0.31522 -> best\n",
      "Best model found at fold 3 epoch 1, acc=0.31522, saving model\n"
     ]
    },
    {
     "name": "stderr",
     "output_type": "stream",
     "text": [
      "T: 002/300: 100%|█| 78/78 [00:18<00:00,  4.24it/s, lr=0.000398, b_loss=1.85, b_a\n"
     ]
    },
    {
     "name": "stdout",
     "output_type": "stream",
     "text": [
      "[ Train | 002/300 ] loss = 1.94585, acc = 0.31075\n"
     ]
    },
    {
     "name": "stderr",
     "output_type": "stream",
     "text": [
      "V: 002/300: 100%|█████| 26/26 [00:05<00:00,  5.07it/s, v_loss=2.27, v_acc=0.231]\n"
     ]
    },
    {
     "name": "stdout",
     "output_type": "stream",
     "text": [
      "[ Valid | 002/300 ] loss = 2.27016, acc = 0.23128\n",
      "[ Valid | 002/300 ] loss = 2.27016, acc = 0.23128\n"
     ]
    },
    {
     "name": "stderr",
     "output_type": "stream",
     "text": [
      "T: 003/300: 100%|█| 78/78 [00:18<00:00,  4.33it/s, lr=0.00039, b_loss=1.79, b_ac\n"
     ]
    },
    {
     "name": "stdout",
     "output_type": "stream",
     "text": [
      "[ Train | 003/300 ] loss = 1.86580, acc = 0.34852\n"
     ]
    },
    {
     "name": "stderr",
     "output_type": "stream",
     "text": [
      "V: 003/300: 100%|█████| 26/26 [00:04<00:00,  5.42it/s, v_loss=1.84, v_acc=0.342]\n"
     ]
    },
    {
     "name": "stdout",
     "output_type": "stream",
     "text": [
      "[ Valid | 003/300 ] loss = 1.84354, acc = 0.34154\n",
      "[ Valid | 003/300 ] loss = 1.84354, acc = 0.34154 -> best\n",
      "Best model found at fold 3 epoch 3, acc=0.34154, saving model\n"
     ]
    },
    {
     "name": "stderr",
     "output_type": "stream",
     "text": [
      "T: 004/300: 100%|█| 78/78 [00:17<00:00,  4.40it/s, lr=0.000378, b_loss=1.48, b_a\n"
     ]
    },
    {
     "name": "stdout",
     "output_type": "stream",
     "text": [
      "[ Train | 004/300 ] loss = 1.77523, acc = 0.37541\n"
     ]
    },
    {
     "name": "stderr",
     "output_type": "stream",
     "text": [
      "V: 004/300: 100%|█████| 26/26 [00:04<00:00,  5.44it/s, v_loss=2.28, v_acc=0.303]\n"
     ]
    },
    {
     "name": "stdout",
     "output_type": "stream",
     "text": [
      "[ Valid | 004/300 ] loss = 2.27920, acc = 0.30294\n",
      "[ Valid | 004/300 ] loss = 2.27920, acc = 0.30294\n"
     ]
    },
    {
     "name": "stderr",
     "output_type": "stream",
     "text": [
      "T: 005/300: 100%|█| 78/78 [00:17<00:00,  4.43it/s, lr=0.000362, b_loss=1.76, b_a\n"
     ]
    },
    {
     "name": "stdout",
     "output_type": "stream",
     "text": [
      "[ Train | 005/300 ] loss = 1.71132, acc = 0.39849\n"
     ]
    },
    {
     "name": "stderr",
     "output_type": "stream",
     "text": [
      "V: 005/300: 100%|█████| 26/26 [00:04<00:00,  5.78it/s, v_loss=2.31, v_acc=0.277]\n"
     ]
    },
    {
     "name": "stdout",
     "output_type": "stream",
     "text": [
      "[ Valid | 005/300 ] loss = 2.30537, acc = 0.27740\n",
      "[ Valid | 005/300 ] loss = 2.30537, acc = 0.27740\n"
     ]
    },
    {
     "name": "stderr",
     "output_type": "stream",
     "text": [
      "T: 006/300: 100%|█| 78/78 [00:17<00:00,  4.40it/s, lr=0.000341, b_loss=1.63, b_a\n"
     ]
    },
    {
     "name": "stdout",
     "output_type": "stream",
     "text": [
      "[ Train | 006/300 ] loss = 1.63953, acc = 0.42825\n"
     ]
    },
    {
     "name": "stderr",
     "output_type": "stream",
     "text": [
      "V: 006/300: 100%|█████| 26/26 [00:04<00:00,  5.53it/s, v_loss=1.68, v_acc=0.444]\n"
     ]
    },
    {
     "name": "stdout",
     "output_type": "stream",
     "text": [
      "[ Valid | 006/300 ] loss = 1.67999, acc = 0.44377\n",
      "[ Valid | 006/300 ] loss = 1.67999, acc = 0.44377 -> best\n",
      "Best model found at fold 3 epoch 6, acc=0.44377, saving model\n"
     ]
    },
    {
     "name": "stderr",
     "output_type": "stream",
     "text": [
      "T: 007/300: 100%|█| 78/78 [00:17<00:00,  4.37it/s, lr=0.000318, b_loss=1.77, b_a\n"
     ]
    },
    {
     "name": "stdout",
     "output_type": "stream",
     "text": [
      "[ Train | 007/300 ] loss = 1.58836, acc = 0.44572\n"
     ]
    },
    {
     "name": "stderr",
     "output_type": "stream",
     "text": [
      "V: 007/300: 100%|█████| 26/26 [00:05<00:00,  5.12it/s, v_loss=1.81, v_acc=0.388]\n"
     ]
    },
    {
     "name": "stdout",
     "output_type": "stream",
     "text": [
      "[ Valid | 007/300 ] loss = 1.81474, acc = 0.38751\n",
      "[ Valid | 007/300 ] loss = 1.81474, acc = 0.38751\n"
     ]
    },
    {
     "name": "stderr",
     "output_type": "stream",
     "text": [
      "T: 008/300: 100%|█| 78/78 [00:18<00:00,  4.28it/s, lr=0.000291, b_loss=1.31, b_a\n"
     ]
    },
    {
     "name": "stdout",
     "output_type": "stream",
     "text": [
      "[ Train | 008/300 ] loss = 1.50677, acc = 0.47552\n"
     ]
    },
    {
     "name": "stderr",
     "output_type": "stream",
     "text": [
      "V: 008/300: 100%|██████| 26/26 [00:04<00:00,  5.42it/s, v_loss=1.75, v_acc=0.42]\n"
     ]
    },
    {
     "name": "stdout",
     "output_type": "stream",
     "text": [
      "[ Valid | 008/300 ] loss = 1.75359, acc = 0.42027\n",
      "[ Valid | 008/300 ] loss = 1.75359, acc = 0.42027\n"
     ]
    },
    {
     "name": "stderr",
     "output_type": "stream",
     "text": [
      "T: 009/300: 100%|█| 78/78 [00:17<00:00,  4.35it/s, lr=0.000262, b_loss=1.55, b_a\n"
     ]
    },
    {
     "name": "stdout",
     "output_type": "stream",
     "text": [
      "[ Train | 009/300 ] loss = 1.46518, acc = 0.48725\n"
     ]
    },
    {
     "name": "stderr",
     "output_type": "stream",
     "text": [
      "V: 009/300: 100%|█████| 26/26 [00:04<00:00,  5.47it/s, v_loss=1.54, v_acc=0.479]\n"
     ]
    },
    {
     "name": "stdout",
     "output_type": "stream",
     "text": [
      "[ Valid | 009/300 ] loss = 1.54454, acc = 0.47928\n",
      "[ Valid | 009/300 ] loss = 1.54454, acc = 0.47928 -> best\n",
      "Best model found at fold 3 epoch 9, acc=0.47928, saving model\n"
     ]
    },
    {
     "name": "stderr",
     "output_type": "stream",
     "text": [
      "T: 010/300: 100%|█| 78/78 [00:18<00:00,  4.16it/s, lr=0.000231, b_loss=1.6, b_ac\n"
     ]
    },
    {
     "name": "stdout",
     "output_type": "stream",
     "text": [
      "[ Train | 010/300 ] loss = 1.42140, acc = 0.50264\n"
     ]
    },
    {
     "name": "stderr",
     "output_type": "stream",
     "text": [
      "V: 010/300: 100%|█████| 26/26 [00:04<00:00,  5.44it/s, v_loss=1.64, v_acc=0.446]\n"
     ]
    },
    {
     "name": "stdout",
     "output_type": "stream",
     "text": [
      "[ Valid | 010/300 ] loss = 1.64441, acc = 0.44564\n",
      "[ Valid | 010/300 ] loss = 1.64441, acc = 0.44564\n"
     ]
    },
    {
     "name": "stderr",
     "output_type": "stream",
     "text": [
      "T: 011/300: 100%|█| 78/78 [00:17<00:00,  4.37it/s, lr=0.0002, b_loss=1.41, b_acc\n"
     ]
    },
    {
     "name": "stdout",
     "output_type": "stream",
     "text": [
      "[ Train | 011/300 ] loss = 1.36757, acc = 0.53173\n"
     ]
    },
    {
     "name": "stderr",
     "output_type": "stream",
     "text": [
      "V: 011/300: 100%|█████| 26/26 [00:04<00:00,  5.32it/s, v_loss=1.48, v_acc=0.499]\n"
     ]
    },
    {
     "name": "stdout",
     "output_type": "stream",
     "text": [
      "[ Valid | 011/300 ] loss = 1.48113, acc = 0.49912\n",
      "[ Valid | 011/300 ] loss = 1.48113, acc = 0.49912 -> best\n",
      "Best model found at fold 3 epoch 11, acc=0.49912, saving model\n"
     ]
    },
    {
     "name": "stderr",
     "output_type": "stream",
     "text": [
      "T: 012/300: 100%|█| 78/78 [00:17<00:00,  4.38it/s, lr=0.000169, b_loss=1.29, b_a\n"
     ]
    },
    {
     "name": "stdout",
     "output_type": "stream",
     "text": [
      "[ Train | 012/300 ] loss = 1.30247, acc = 0.54805\n"
     ]
    },
    {
     "name": "stderr",
     "output_type": "stream",
     "text": [
      "V: 012/300: 100%|█████| 26/26 [00:04<00:00,  5.61it/s, v_loss=1.68, v_acc=0.449]\n"
     ]
    },
    {
     "name": "stdout",
     "output_type": "stream",
     "text": [
      "[ Valid | 012/300 ] loss = 1.67591, acc = 0.44890\n",
      "[ Valid | 012/300 ] loss = 1.67591, acc = 0.44890\n"
     ]
    },
    {
     "name": "stderr",
     "output_type": "stream",
     "text": [
      "T: 013/300: 100%|█| 78/78 [00:18<00:00,  4.27it/s, lr=0.000138, b_loss=1.24, b_a\n"
     ]
    },
    {
     "name": "stdout",
     "output_type": "stream",
     "text": [
      "[ Train | 013/300 ] loss = 1.26643, acc = 0.56068\n"
     ]
    },
    {
     "name": "stderr",
     "output_type": "stream",
     "text": [
      "V: 013/300: 100%|█████| 26/26 [00:04<00:00,  5.75it/s, v_loss=1.29, v_acc=0.555]\n"
     ]
    },
    {
     "name": "stdout",
     "output_type": "stream",
     "text": [
      "[ Valid | 013/300 ] loss = 1.29068, acc = 0.55469\n",
      "[ Valid | 013/300 ] loss = 1.29068, acc = 0.55469 -> best\n",
      "Best model found at fold 3 epoch 13, acc=0.55469, saving model\n"
     ]
    },
    {
     "name": "stderr",
     "output_type": "stream",
     "text": [
      "T: 014/300: 100%|█| 78/78 [00:17<00:00,  4.38it/s, lr=0.000109, b_loss=1.16, b_a\n"
     ]
    },
    {
     "name": "stdout",
     "output_type": "stream",
     "text": [
      "[ Train | 014/300 ] loss = 1.23568, acc = 0.57115\n"
     ]
    },
    {
     "name": "stderr",
     "output_type": "stream",
     "text": [
      "V: 014/300: 100%|██████| 26/26 [00:05<00:00,  5.03it/s, v_loss=1.2, v_acc=0.602]\n"
     ]
    },
    {
     "name": "stdout",
     "output_type": "stream",
     "text": [
      "[ Valid | 014/300 ] loss = 1.20417, acc = 0.60170\n",
      "[ Valid | 014/300 ] loss = 1.20417, acc = 0.60170 -> best\n",
      "Best model found at fold 3 epoch 14, acc=0.60170, saving model\n"
     ]
    },
    {
     "name": "stderr",
     "output_type": "stream",
     "text": [
      "T: 015/300: 100%|█| 78/78 [00:18<00:00,  4.30it/s, lr=8.24e-5, b_loss=1.15, b_ac\n"
     ]
    },
    {
     "name": "stdout",
     "output_type": "stream",
     "text": [
      "[ Train | 015/300 ] loss = 1.19197, acc = 0.58477\n"
     ]
    },
    {
     "name": "stderr",
     "output_type": "stream",
     "text": [
      "V: 015/300: 100%|█████| 26/26 [00:04<00:00,  5.51it/s, v_loss=1.13, v_acc=0.617]\n"
     ]
    },
    {
     "name": "stdout",
     "output_type": "stream",
     "text": [
      "[ Valid | 015/300 ] loss = 1.12938, acc = 0.61675\n",
      "[ Valid | 015/300 ] loss = 1.12938, acc = 0.61675 -> best\n",
      "Best model found at fold 3 epoch 15, acc=0.61675, saving model\n"
     ]
    },
    {
     "name": "stderr",
     "output_type": "stream",
     "text": [
      "T: 016/300: 100%|█| 78/78 [00:18<00:00,  4.26it/s, lr=5.86e-5, b_loss=1.14, b_ac\n"
     ]
    },
    {
     "name": "stdout",
     "output_type": "stream",
     "text": [
      "[ Train | 016/300 ] loss = 1.13774, acc = 0.60936\n"
     ]
    },
    {
     "name": "stderr",
     "output_type": "stream",
     "text": [
      "V: 016/300: 100%|██████| 26/26 [00:05<00:00,  4.80it/s, v_loss=1.1, v_acc=0.622]\n"
     ]
    },
    {
     "name": "stdout",
     "output_type": "stream",
     "text": [
      "[ Valid | 016/300 ] loss = 1.10483, acc = 0.62160\n",
      "[ Valid | 016/300 ] loss = 1.10483, acc = 0.62160 -> best\n",
      "Best model found at fold 3 epoch 16, acc=0.62160, saving model\n"
     ]
    },
    {
     "name": "stderr",
     "output_type": "stream",
     "text": [
      "T: 017/300: 100%|█| 78/78 [00:17<00:00,  4.41it/s, lr=3.82e-5, b_loss=0.999, b_a\n"
     ]
    },
    {
     "name": "stdout",
     "output_type": "stream",
     "text": [
      "[ Train | 017/300 ] loss = 1.12238, acc = 0.61338\n"
     ]
    },
    {
     "name": "stderr",
     "output_type": "stream",
     "text": [
      "V: 017/300: 100%|█████| 26/26 [00:04<00:00,  5.37it/s, v_loss=1.11, v_acc=0.618]\n"
     ]
    },
    {
     "name": "stdout",
     "output_type": "stream",
     "text": [
      "[ Valid | 017/300 ] loss = 1.11164, acc = 0.61755\n",
      "[ Valid | 017/300 ] loss = 1.11164, acc = 0.61755\n"
     ]
    },
    {
     "name": "stderr",
     "output_type": "stream",
     "text": [
      "T: 018/300: 100%|█| 78/78 [00:18<00:00,  4.28it/s, lr=2.18e-5, b_loss=1.12, b_ac\n"
     ]
    },
    {
     "name": "stdout",
     "output_type": "stream",
     "text": [
      "[ Train | 018/300 ] loss = 1.09938, acc = 0.62648\n"
     ]
    },
    {
     "name": "stderr",
     "output_type": "stream",
     "text": [
      "V: 018/300: 100%|█████| 26/26 [00:04<00:00,  5.24it/s, v_loss=1.07, v_acc=0.641]\n"
     ]
    },
    {
     "name": "stdout",
     "output_type": "stream",
     "text": [
      "[ Valid | 018/300 ] loss = 1.07416, acc = 0.64141\n",
      "[ Valid | 018/300 ] loss = 1.07416, acc = 0.64141 -> best\n",
      "Best model found at fold 3 epoch 18, acc=0.64141, saving model\n"
     ]
    },
    {
     "name": "stderr",
     "output_type": "stream",
     "text": [
      "T: 019/300: 100%|█| 78/78 [00:17<00:00,  4.34it/s, lr=9.79e-6, b_loss=1.04, b_ac\n"
     ]
    },
    {
     "name": "stdout",
     "output_type": "stream",
     "text": [
      "[ Train | 019/300 ] loss = 1.08943, acc = 0.62423\n"
     ]
    },
    {
     "name": "stderr",
     "output_type": "stream",
     "text": [
      "V: 019/300: 100%|█████| 26/26 [00:05<00:00,  4.97it/s, v_loss=1.06, v_acc=0.638]\n"
     ]
    },
    {
     "name": "stdout",
     "output_type": "stream",
     "text": [
      "[ Valid | 019/300 ] loss = 1.06017, acc = 0.63834\n",
      "[ Valid | 019/300 ] loss = 1.06017, acc = 0.63834\n"
     ]
    },
    {
     "name": "stderr",
     "output_type": "stream",
     "text": [
      "T: 020/300: 100%|█| 78/78 [00:17<00:00,  4.45it/s, lr=2.46e-6, b_loss=1, b_acc=0\n"
     ]
    },
    {
     "name": "stdout",
     "output_type": "stream",
     "text": [
      "[ Train | 020/300 ] loss = 1.07022, acc = 0.63372\n"
     ]
    },
    {
     "name": "stderr",
     "output_type": "stream",
     "text": [
      "V: 020/300: 100%|█████| 26/26 [00:04<00:00,  5.47it/s, v_loss=1.05, v_acc=0.639]\n"
     ]
    },
    {
     "name": "stdout",
     "output_type": "stream",
     "text": [
      "[ Valid | 020/300 ] loss = 1.04628, acc = 0.63926\n",
      "[ Valid | 020/300 ] loss = 1.04628, acc = 0.63926\n"
     ]
    },
    {
     "name": "stderr",
     "output_type": "stream",
     "text": [
      "T: 021/300: 100%|█| 78/78 [00:18<00:00,  4.21it/s, lr=0.0004, b_loss=1.18, b_acc\n"
     ]
    },
    {
     "name": "stdout",
     "output_type": "stream",
     "text": [
      "[ Train | 021/300 ] loss = 1.33268, acc = 0.53781\n"
     ]
    },
    {
     "name": "stderr",
     "output_type": "stream",
     "text": [
      "V: 021/300: 100%|█████| 26/26 [00:04<00:00,  5.44it/s, v_loss=1.66, v_acc=0.474]\n"
     ]
    },
    {
     "name": "stdout",
     "output_type": "stream",
     "text": [
      "[ Valid | 021/300 ] loss = 1.66384, acc = 0.47412\n",
      "[ Valid | 021/300 ] loss = 1.66384, acc = 0.47412\n"
     ]
    },
    {
     "name": "stderr",
     "output_type": "stream",
     "text": [
      "T: 022/300: 100%|█| 78/78 [00:18<00:00,  4.29it/s, lr=0.000398, b_loss=1.32, b_a\n"
     ]
    },
    {
     "name": "stdout",
     "output_type": "stream",
     "text": [
      "[ Train | 022/300 ] loss = 1.32321, acc = 0.53905\n"
     ]
    },
    {
     "name": "stderr",
     "output_type": "stream",
     "text": [
      "V: 022/300: 100%|█████| 26/26 [00:04<00:00,  5.59it/s, v_loss=1.92, v_acc=0.415]\n"
     ]
    },
    {
     "name": "stdout",
     "output_type": "stream",
     "text": [
      "[ Valid | 022/300 ] loss = 1.92353, acc = 0.41451\n",
      "[ Valid | 022/300 ] loss = 1.92353, acc = 0.41451\n"
     ]
    },
    {
     "name": "stderr",
     "output_type": "stream",
     "text": [
      "T: 023/300: 100%|█| 78/78 [00:18<00:00,  4.22it/s, lr=0.00039, b_loss=1.26, b_ac\n"
     ]
    },
    {
     "name": "stdout",
     "output_type": "stream",
     "text": [
      "[ Train | 023/300 ] loss = 1.27820, acc = 0.56182\n"
     ]
    },
    {
     "name": "stderr",
     "output_type": "stream",
     "text": [
      "V: 023/300: 100%|█████| 26/26 [00:04<00:00,  5.23it/s, v_loss=1.32, v_acc=0.548]\n"
     ]
    },
    {
     "name": "stdout",
     "output_type": "stream",
     "text": [
      "[ Valid | 023/300 ] loss = 1.31595, acc = 0.54810\n",
      "[ Valid | 023/300 ] loss = 1.31595, acc = 0.54810\n"
     ]
    },
    {
     "name": "stderr",
     "output_type": "stream",
     "text": [
      "T: 024/300: 100%|█| 78/78 [00:18<00:00,  4.24it/s, lr=0.000378, b_loss=1.24, b_a\n"
     ]
    },
    {
     "name": "stdout",
     "output_type": "stream",
     "text": [
      "[ Train | 024/300 ] loss = 1.25771, acc = 0.57159\n"
     ]
    },
    {
     "name": "stderr",
     "output_type": "stream",
     "text": [
      "V: 024/300: 100%|█████| 26/26 [00:05<00:00,  5.19it/s, v_loss=1.39, v_acc=0.529]\n"
     ]
    },
    {
     "name": "stdout",
     "output_type": "stream",
     "text": [
      "[ Valid | 024/300 ] loss = 1.38909, acc = 0.52883\n",
      "[ Valid | 024/300 ] loss = 1.38909, acc = 0.52883\n"
     ]
    },
    {
     "name": "stderr",
     "output_type": "stream",
     "text": [
      "T: 025/300: 100%|█| 78/78 [00:18<00:00,  4.25it/s, lr=0.000362, b_loss=0.908, b_\n"
     ]
    },
    {
     "name": "stdout",
     "output_type": "stream",
     "text": [
      "[ Train | 025/300 ] loss = 1.21425, acc = 0.58293\n"
     ]
    },
    {
     "name": "stderr",
     "output_type": "stream",
     "text": [
      "V: 025/300: 100%|█████| 26/26 [00:04<00:00,  5.55it/s, v_loss=1.47, v_acc=0.521]\n"
     ]
    },
    {
     "name": "stdout",
     "output_type": "stream",
     "text": [
      "[ Valid | 025/300 ] loss = 1.46863, acc = 0.52073\n",
      "[ Valid | 025/300 ] loss = 1.46863, acc = 0.52073\n"
     ]
    },
    {
     "name": "stderr",
     "output_type": "stream",
     "text": [
      "T: 026/300: 100%|█| 78/78 [00:18<00:00,  4.27it/s, lr=0.000341, b_loss=1.11, b_a\n"
     ]
    },
    {
     "name": "stdout",
     "output_type": "stream",
     "text": [
      "[ Train | 026/300 ] loss = 1.16687, acc = 0.59495\n"
     ]
    },
    {
     "name": "stderr",
     "output_type": "stream",
     "text": [
      "V: 026/300: 100%|█████| 26/26 [00:05<00:00,  4.80it/s, v_loss=1.28, v_acc=0.562]\n"
     ]
    },
    {
     "name": "stdout",
     "output_type": "stream",
     "text": [
      "[ Valid | 026/300 ] loss = 1.28084, acc = 0.56174\n",
      "[ Valid | 026/300 ] loss = 1.28084, acc = 0.56174\n"
     ]
    },
    {
     "name": "stderr",
     "output_type": "stream",
     "text": [
      "T: 027/300: 100%|█| 78/78 [00:18<00:00,  4.21it/s, lr=0.000318, b_loss=1.3, b_ac\n"
     ]
    },
    {
     "name": "stdout",
     "output_type": "stream",
     "text": [
      "[ Train | 027/300 ] loss = 1.13872, acc = 0.60906\n"
     ]
    },
    {
     "name": "stderr",
     "output_type": "stream",
     "text": [
      "V: 027/300: 100%|█████| 26/26 [00:05<00:00,  4.95it/s, v_loss=1.43, v_acc=0.522]\n"
     ]
    },
    {
     "name": "stdout",
     "output_type": "stream",
     "text": [
      "[ Valid | 027/300 ] loss = 1.42548, acc = 0.52162\n",
      "[ Valid | 027/300 ] loss = 1.42548, acc = 0.52162\n"
     ]
    },
    {
     "name": "stderr",
     "output_type": "stream",
     "text": [
      "T: 028/300: 100%|█| 78/78 [00:17<00:00,  4.38it/s, lr=0.000291, b_loss=1.29, b_a\n"
     ]
    },
    {
     "name": "stdout",
     "output_type": "stream",
     "text": [
      "[ Train | 028/300 ] loss = 1.12665, acc = 0.61015\n"
     ]
    },
    {
     "name": "stderr",
     "output_type": "stream",
     "text": [
      "V: 028/300: 100%|██████| 26/26 [00:04<00:00,  5.28it/s, v_loss=1.11, v_acc=0.62]\n"
     ]
    },
    {
     "name": "stdout",
     "output_type": "stream",
     "text": [
      "[ Valid | 028/300 ] loss = 1.11090, acc = 0.62032\n",
      "[ Valid | 028/300 ] loss = 1.11090, acc = 0.62032\n"
     ]
    },
    {
     "name": "stderr",
     "output_type": "stream",
     "text": [
      "T: 029/300: 100%|█| 78/78 [00:17<00:00,  4.40it/s, lr=0.000262, b_loss=1.05, b_a\n"
     ]
    },
    {
     "name": "stdout",
     "output_type": "stream",
     "text": [
      "[ Train | 029/300 ] loss = 1.08059, acc = 0.63034\n"
     ]
    },
    {
     "name": "stderr",
     "output_type": "stream",
     "text": [
      "V: 029/300: 100%|█████| 26/26 [00:04<00:00,  5.24it/s, v_loss=1.49, v_acc=0.534]\n"
     ]
    },
    {
     "name": "stdout",
     "output_type": "stream",
     "text": [
      "[ Valid | 029/300 ] loss = 1.49281, acc = 0.53376\n",
      "[ Valid | 029/300 ] loss = 1.49281, acc = 0.53376\n"
     ]
    },
    {
     "name": "stderr",
     "output_type": "stream",
     "text": [
      "T: 030/300: 100%|█| 78/78 [00:17<00:00,  4.48it/s, lr=0.000231, b_loss=0.933, b_\n"
     ]
    },
    {
     "name": "stdout",
     "output_type": "stream",
     "text": [
      "[ Train | 030/300 ] loss = 1.04326, acc = 0.64084\n"
     ]
    },
    {
     "name": "stderr",
     "output_type": "stream",
     "text": [
      "V: 030/300: 100%|█████| 26/26 [00:05<00:00,  5.16it/s, v_loss=1.15, v_acc=0.615]\n"
     ]
    },
    {
     "name": "stdout",
     "output_type": "stream",
     "text": [
      "[ Valid | 030/300 ] loss = 1.14578, acc = 0.61458\n",
      "[ Valid | 030/300 ] loss = 1.14578, acc = 0.61458\n"
     ]
    },
    {
     "name": "stderr",
     "output_type": "stream",
     "text": [
      "T: 031/300: 100%|█| 78/78 [00:17<00:00,  4.35it/s, lr=0.0002, b_loss=1.17, b_acc\n"
     ]
    },
    {
     "name": "stdout",
     "output_type": "stream",
     "text": [
      "[ Train | 031/300 ] loss = 1.01839, acc = 0.65021\n"
     ]
    },
    {
     "name": "stderr",
     "output_type": "stream",
     "text": [
      "V: 031/300: 100%|█████| 26/26 [00:05<00:00,  4.99it/s, v_loss=1.09, v_acc=0.631]\n"
     ]
    },
    {
     "name": "stdout",
     "output_type": "stream",
     "text": [
      "[ Valid | 031/300 ] loss = 1.09129, acc = 0.63082\n",
      "[ Valid | 031/300 ] loss = 1.09129, acc = 0.63082\n"
     ]
    },
    {
     "name": "stderr",
     "output_type": "stream",
     "text": [
      "T: 032/300: 100%|█| 78/78 [00:18<00:00,  4.30it/s, lr=0.000169, b_loss=1.08, b_a\n"
     ]
    },
    {
     "name": "stdout",
     "output_type": "stream",
     "text": [
      "[ Train | 032/300 ] loss = 0.98765, acc = 0.66188\n"
     ]
    },
    {
     "name": "stderr",
     "output_type": "stream",
     "text": [
      "V: 032/300: 100%|█████| 26/26 [00:05<00:00,  4.72it/s, v_loss=1.01, v_acc=0.664]\n"
     ]
    },
    {
     "name": "stdout",
     "output_type": "stream",
     "text": [
      "[ Valid | 032/300 ] loss = 1.00698, acc = 0.66434\n",
      "[ Valid | 032/300 ] loss = 1.00698, acc = 0.66434 -> best\n",
      "Best model found at fold 3 epoch 32, acc=0.66434, saving model\n"
     ]
    },
    {
     "name": "stderr",
     "output_type": "stream",
     "text": [
      "T: 033/300: 100%|█| 78/78 [00:17<00:00,  4.42it/s, lr=0.000138, b_loss=0.939, b_\n"
     ]
    },
    {
     "name": "stdout",
     "output_type": "stream",
     "text": [
      "[ Train | 033/300 ] loss = 0.94531, acc = 0.67830\n"
     ]
    },
    {
     "name": "stderr",
     "output_type": "stream",
     "text": [
      "V: 033/300: 100%|████████| 26/26 [00:05<00:00,  5.00it/s, v_loss=1, v_acc=0.664]\n"
     ]
    },
    {
     "name": "stdout",
     "output_type": "stream",
     "text": [
      "[ Valid | 033/300 ] loss = 1.00276, acc = 0.66397\n",
      "[ Valid | 033/300 ] loss = 1.00276, acc = 0.66397\n"
     ]
    },
    {
     "name": "stderr",
     "output_type": "stream",
     "text": [
      "T: 034/300: 100%|█| 78/78 [00:18<00:00,  4.23it/s, lr=0.000109, b_loss=1.02, b_a\n"
     ]
    },
    {
     "name": "stdout",
     "output_type": "stream",
     "text": [
      "[ Train | 034/300 ] loss = 0.91784, acc = 0.68354\n"
     ]
    },
    {
     "name": "stderr",
     "output_type": "stream",
     "text": [
      "V: 034/300: 100%|████| 26/26 [00:04<00:00,  5.62it/s, v_loss=0.931, v_acc=0.688]\n"
     ]
    },
    {
     "name": "stdout",
     "output_type": "stream",
     "text": [
      "[ Valid | 034/300 ] loss = 0.93122, acc = 0.68803\n",
      "[ Valid | 034/300 ] loss = 0.93122, acc = 0.68803 -> best\n",
      "Best model found at fold 3 epoch 34, acc=0.68803, saving model\n"
     ]
    },
    {
     "name": "stderr",
     "output_type": "stream",
     "text": [
      "T: 035/300: 100%|█| 78/78 [00:18<00:00,  4.20it/s, lr=8.24e-5, b_loss=0.934, b_a\n"
     ]
    },
    {
     "name": "stdout",
     "output_type": "stream",
     "text": [
      "[ Train | 035/300 ] loss = 0.90718, acc = 0.69189\n"
     ]
    },
    {
     "name": "stderr",
     "output_type": "stream",
     "text": [
      "V: 035/300: 100%|████| 26/26 [00:04<00:00,  5.31it/s, v_loss=0.932, v_acc=0.688]\n"
     ]
    },
    {
     "name": "stdout",
     "output_type": "stream",
     "text": [
      "[ Valid | 035/300 ] loss = 0.93221, acc = 0.68835\n",
      "[ Valid | 035/300 ] loss = 0.93221, acc = 0.68835 -> best\n",
      "Best model found at fold 3 epoch 35, acc=0.68835, saving model\n"
     ]
    },
    {
     "name": "stderr",
     "output_type": "stream",
     "text": [
      "T: 036/300: 100%|█| 78/78 [00:18<00:00,  4.25it/s, lr=5.86e-5, b_loss=1.08, b_ac\n"
     ]
    },
    {
     "name": "stdout",
     "output_type": "stream",
     "text": [
      "[ Train | 036/300 ] loss = 0.87158, acc = 0.70210\n"
     ]
    },
    {
     "name": "stderr",
     "output_type": "stream",
     "text": [
      "V: 036/300: 100%|████| 26/26 [00:05<00:00,  5.08it/s, v_loss=0.913, v_acc=0.685]\n"
     ]
    },
    {
     "name": "stdout",
     "output_type": "stream",
     "text": [
      "[ Valid | 036/300 ] loss = 0.91337, acc = 0.68535\n",
      "[ Valid | 036/300 ] loss = 0.91337, acc = 0.68535\n"
     ]
    },
    {
     "name": "stderr",
     "output_type": "stream",
     "text": [
      "T: 037/300: 100%|█| 78/78 [00:18<00:00,  4.21it/s, lr=3.82e-5, b_loss=0.854, b_a\n"
     ]
    },
    {
     "name": "stdout",
     "output_type": "stream",
     "text": [
      "[ Train | 037/300 ] loss = 0.85367, acc = 0.70894\n"
     ]
    },
    {
     "name": "stderr",
     "output_type": "stream",
     "text": [
      "V: 037/300: 100%|████| 26/26 [00:05<00:00,  5.08it/s, v_loss=0.887, v_acc=0.694]\n"
     ]
    },
    {
     "name": "stdout",
     "output_type": "stream",
     "text": [
      "[ Valid | 037/300 ] loss = 0.88677, acc = 0.69439\n",
      "[ Valid | 037/300 ] loss = 0.88677, acc = 0.69439 -> best\n",
      "Best model found at fold 3 epoch 37, acc=0.69439, saving model\n"
     ]
    },
    {
     "name": "stderr",
     "output_type": "stream",
     "text": [
      "T: 038/300: 100%|█| 78/78 [00:17<00:00,  4.40it/s, lr=2.18e-5, b_loss=0.733, b_a\n"
     ]
    },
    {
     "name": "stdout",
     "output_type": "stream",
     "text": [
      "[ Train | 038/300 ] loss = 0.82911, acc = 0.71483\n"
     ]
    },
    {
     "name": "stderr",
     "output_type": "stream",
     "text": [
      "V: 038/300: 100%|████| 26/26 [00:04<00:00,  5.60it/s, v_loss=0.882, v_acc=0.696]\n"
     ]
    },
    {
     "name": "stdout",
     "output_type": "stream",
     "text": [
      "[ Valid | 038/300 ] loss = 0.88202, acc = 0.69584\n",
      "[ Valid | 038/300 ] loss = 0.88202, acc = 0.69584 -> best\n",
      "Best model found at fold 3 epoch 38, acc=0.69584, saving model\n"
     ]
    },
    {
     "name": "stderr",
     "output_type": "stream",
     "text": [
      "T: 039/300: 100%|█| 78/78 [00:17<00:00,  4.35it/s, lr=9.79e-6, b_loss=0.917, b_a\n"
     ]
    },
    {
     "name": "stdout",
     "output_type": "stream",
     "text": [
      "[ Train | 039/300 ] loss = 0.82344, acc = 0.71724\n"
     ]
    },
    {
     "name": "stderr",
     "output_type": "stream",
     "text": [
      "V: 039/300: 100%|██████| 26/26 [00:04<00:00,  5.32it/s, v_loss=0.874, v_acc=0.7]\n"
     ]
    },
    {
     "name": "stdout",
     "output_type": "stream",
     "text": [
      "[ Valid | 039/300 ] loss = 0.87439, acc = 0.70001\n",
      "[ Valid | 039/300 ] loss = 0.87439, acc = 0.70001 -> best\n",
      "Best model found at fold 3 epoch 39, acc=0.70001, saving model\n"
     ]
    },
    {
     "name": "stderr",
     "output_type": "stream",
     "text": [
      "T: 040/300: 100%|█| 78/78 [00:18<00:00,  4.16it/s, lr=2.46e-6, b_loss=0.775, b_a\n"
     ]
    },
    {
     "name": "stdout",
     "output_type": "stream",
     "text": [
      "[ Train | 040/300 ] loss = 0.81974, acc = 0.71678\n"
     ]
    },
    {
     "name": "stderr",
     "output_type": "stream",
     "text": [
      "V: 040/300: 100%|██████| 26/26 [00:04<00:00,  5.21it/s, v_loss=0.866, v_acc=0.7]\n"
     ]
    },
    {
     "name": "stdout",
     "output_type": "stream",
     "text": [
      "[ Valid | 040/300 ] loss = 0.86572, acc = 0.70007\n",
      "[ Valid | 040/300 ] loss = 0.86572, acc = 0.70007 -> best\n",
      "Best model found at fold 3 epoch 40, acc=0.70007, saving model\n"
     ]
    },
    {
     "name": "stderr",
     "output_type": "stream",
     "text": [
      "T: 041/300: 100%|█| 78/78 [00:17<00:00,  4.33it/s, lr=0.0004, b_loss=1.27, b_acc\n"
     ]
    },
    {
     "name": "stdout",
     "output_type": "stream",
     "text": [
      "[ Train | 041/300 ] loss = 1.11731, acc = 0.61836\n"
     ]
    },
    {
     "name": "stderr",
     "output_type": "stream",
     "text": [
      "V: 041/300: 100%|█████| 26/26 [00:05<00:00,  5.11it/s, v_loss=1.47, v_acc=0.539]\n"
     ]
    },
    {
     "name": "stdout",
     "output_type": "stream",
     "text": [
      "[ Valid | 041/300 ] loss = 1.46686, acc = 0.53872\n",
      "[ Valid | 041/300 ] loss = 1.46686, acc = 0.53872\n"
     ]
    },
    {
     "name": "stderr",
     "output_type": "stream",
     "text": [
      "T: 042/300: 100%|█| 78/78 [00:18<00:00,  4.27it/s, lr=0.000398, b_loss=0.984, b_\n"
     ]
    },
    {
     "name": "stdout",
     "output_type": "stream",
     "text": [
      "[ Train | 042/300 ] loss = 1.06291, acc = 0.63782\n"
     ]
    },
    {
     "name": "stderr",
     "output_type": "stream",
     "text": [
      "V: 042/300: 100%|█████| 26/26 [00:05<00:00,  5.11it/s, v_loss=1.26, v_acc=0.584]\n"
     ]
    },
    {
     "name": "stdout",
     "output_type": "stream",
     "text": [
      "[ Valid | 042/300 ] loss = 1.26166, acc = 0.58427\n",
      "[ Valid | 042/300 ] loss = 1.26166, acc = 0.58427\n"
     ]
    },
    {
     "name": "stderr",
     "output_type": "stream",
     "text": [
      "T: 043/300: 100%|█| 78/78 [00:18<00:00,  4.28it/s, lr=0.00039, b_loss=1.09, b_ac\n"
     ]
    },
    {
     "name": "stdout",
     "output_type": "stream",
     "text": [
      "[ Train | 043/300 ] loss = 1.06905, acc = 0.63232\n"
     ]
    },
    {
     "name": "stderr",
     "output_type": "stream",
     "text": [
      "V: 043/300: 100%|█████| 26/26 [00:04<00:00,  5.35it/s, v_loss=1.24, v_acc=0.597]\n"
     ]
    },
    {
     "name": "stdout",
     "output_type": "stream",
     "text": [
      "[ Valid | 043/300 ] loss = 1.23908, acc = 0.59660\n",
      "[ Valid | 043/300 ] loss = 1.23908, acc = 0.59660\n"
     ]
    },
    {
     "name": "stderr",
     "output_type": "stream",
     "text": [
      "T: 044/300: 100%|█| 78/78 [00:18<00:00,  4.27it/s, lr=0.000378, b_loss=1.17, b_a\n"
     ]
    },
    {
     "name": "stdout",
     "output_type": "stream",
     "text": [
      "[ Train | 044/300 ] loss = 1.02171, acc = 0.65057\n"
     ]
    },
    {
     "name": "stderr",
     "output_type": "stream",
     "text": [
      "V: 044/300: 100%|█████| 26/26 [00:04<00:00,  5.41it/s, v_loss=1.27, v_acc=0.585]\n"
     ]
    },
    {
     "name": "stdout",
     "output_type": "stream",
     "text": [
      "[ Valid | 044/300 ] loss = 1.27398, acc = 0.58516\n",
      "[ Valid | 044/300 ] loss = 1.27398, acc = 0.58516\n"
     ]
    },
    {
     "name": "stderr",
     "output_type": "stream",
     "text": [
      "T: 045/300: 100%|█| 78/78 [00:18<00:00,  4.32it/s, lr=0.000362, b_loss=0.92, b_a\n"
     ]
    },
    {
     "name": "stdout",
     "output_type": "stream",
     "text": [
      "[ Train | 045/300 ] loss = 1.02565, acc = 0.64171\n"
     ]
    },
    {
     "name": "stderr",
     "output_type": "stream",
     "text": [
      "V: 045/300: 100%|█████| 26/26 [00:05<00:00,  5.18it/s, v_loss=1.17, v_acc=0.613]\n"
     ]
    },
    {
     "name": "stdout",
     "output_type": "stream",
     "text": [
      "[ Valid | 045/300 ] loss = 1.17190, acc = 0.61345\n",
      "[ Valid | 045/300 ] loss = 1.17190, acc = 0.61345\n"
     ]
    },
    {
     "name": "stderr",
     "output_type": "stream",
     "text": [
      "T: 046/300: 100%|█| 78/78 [00:18<00:00,  4.22it/s, lr=0.000341, b_loss=1.05, b_a\n"
     ]
    },
    {
     "name": "stdout",
     "output_type": "stream",
     "text": [
      "[ Train | 046/300 ] loss = 0.97401, acc = 0.66511\n"
     ]
    },
    {
     "name": "stderr",
     "output_type": "stream",
     "text": [
      "V: 046/300: 100%|██████| 26/26 [00:04<00:00,  5.29it/s, v_loss=1.22, v_acc=0.61]\n"
     ]
    },
    {
     "name": "stdout",
     "output_type": "stream",
     "text": [
      "[ Valid | 046/300 ] loss = 1.21788, acc = 0.61018\n",
      "[ Valid | 046/300 ] loss = 1.21788, acc = 0.61018\n"
     ]
    },
    {
     "name": "stderr",
     "output_type": "stream",
     "text": [
      "T: 047/300: 100%|█| 78/78 [00:18<00:00,  4.20it/s, lr=0.000318, b_loss=0.946, b_\n"
     ]
    },
    {
     "name": "stdout",
     "output_type": "stream",
     "text": [
      "[ Train | 047/300 ] loss = 0.95575, acc = 0.67068\n"
     ]
    },
    {
     "name": "stderr",
     "output_type": "stream",
     "text": [
      "V: 047/300: 100%|█████| 26/26 [00:05<00:00,  4.87it/s, v_loss=1.16, v_acc=0.623]\n"
     ]
    },
    {
     "name": "stdout",
     "output_type": "stream",
     "text": [
      "[ Valid | 047/300 ] loss = 1.15808, acc = 0.62337\n",
      "[ Valid | 047/300 ] loss = 1.15808, acc = 0.62337\n"
     ]
    },
    {
     "name": "stderr",
     "output_type": "stream",
     "text": [
      "T: 048/300: 100%|█| 78/78 [00:17<00:00,  4.36it/s, lr=0.000291, b_loss=0.976, b_\n"
     ]
    },
    {
     "name": "stdout",
     "output_type": "stream",
     "text": [
      "[ Train | 048/300 ] loss = 0.93270, acc = 0.67671\n"
     ]
    },
    {
     "name": "stderr",
     "output_type": "stream",
     "text": [
      "V: 048/300: 100%|█████| 26/26 [00:04<00:00,  5.49it/s, v_loss=1.12, v_acc=0.633]\n"
     ]
    },
    {
     "name": "stdout",
     "output_type": "stream",
     "text": [
      "[ Valid | 048/300 ] loss = 1.12157, acc = 0.63299\n",
      "[ Valid | 048/300 ] loss = 1.12157, acc = 0.63299\n"
     ]
    },
    {
     "name": "stderr",
     "output_type": "stream",
     "text": [
      "T: 049/300: 100%|█| 78/78 [00:17<00:00,  4.35it/s, lr=0.000262, b_loss=0.702, b_\n"
     ]
    },
    {
     "name": "stdout",
     "output_type": "stream",
     "text": [
      "[ Train | 049/300 ] loss = 0.90063, acc = 0.68920\n"
     ]
    },
    {
     "name": "stderr",
     "output_type": "stream",
     "text": [
      "V: 049/300: 100%|█████| 26/26 [00:04<00:00,  5.40it/s, v_loss=1.04, v_acc=0.655]\n"
     ]
    },
    {
     "name": "stdout",
     "output_type": "stream",
     "text": [
      "[ Valid | 049/300 ] loss = 1.03513, acc = 0.65521\n",
      "[ Valid | 049/300 ] loss = 1.03513, acc = 0.65521\n"
     ]
    },
    {
     "name": "stderr",
     "output_type": "stream",
     "text": [
      "T: 050/300: 100%|█| 78/78 [00:18<00:00,  4.30it/s, lr=0.000231, b_loss=0.758, b_\n"
     ]
    },
    {
     "name": "stdout",
     "output_type": "stream",
     "text": [
      "[ Train | 050/300 ] loss = 0.86603, acc = 0.70099\n"
     ]
    },
    {
     "name": "stderr",
     "output_type": "stream",
     "text": [
      "V: 050/300: 100%|█████| 26/26 [00:05<00:00,  5.13it/s, v_loss=1.08, v_acc=0.646]\n"
     ]
    },
    {
     "name": "stdout",
     "output_type": "stream",
     "text": [
      "[ Valid | 050/300 ] loss = 1.08308, acc = 0.64621\n",
      "[ Valid | 050/300 ] loss = 1.08308, acc = 0.64621\n"
     ]
    },
    {
     "name": "stderr",
     "output_type": "stream",
     "text": [
      "T: 051/300: 100%|█| 78/78 [00:17<00:00,  4.35it/s, lr=0.0002, b_loss=0.831, b_ac\n"
     ]
    },
    {
     "name": "stdout",
     "output_type": "stream",
     "text": [
      "[ Train | 051/300 ] loss = 0.85184, acc = 0.70601\n"
     ]
    },
    {
     "name": "stderr",
     "output_type": "stream",
     "text": [
      "V: 051/300: 100%|████| 26/26 [00:04<00:00,  5.50it/s, v_loss=0.973, v_acc=0.675]\n"
     ]
    },
    {
     "name": "stdout",
     "output_type": "stream",
     "text": [
      "[ Valid | 051/300 ] loss = 0.97276, acc = 0.67469\n",
      "[ Valid | 051/300 ] loss = 0.97276, acc = 0.67469\n"
     ]
    },
    {
     "name": "stderr",
     "output_type": "stream",
     "text": [
      "T: 052/300: 100%|█| 78/78 [00:17<00:00,  4.37it/s, lr=0.000169, b_loss=0.822, b_\n"
     ]
    },
    {
     "name": "stdout",
     "output_type": "stream",
     "text": [
      "[ Train | 052/300 ] loss = 0.81985, acc = 0.72093\n"
     ]
    },
    {
     "name": "stderr",
     "output_type": "stream",
     "text": [
      "V: 052/300: 100%|████| 26/26 [00:04<00:00,  5.39it/s, v_loss=0.921, v_acc=0.699]\n"
     ]
    },
    {
     "name": "stdout",
     "output_type": "stream",
     "text": [
      "[ Valid | 052/300 ] loss = 0.92122, acc = 0.69889\n",
      "[ Valid | 052/300 ] loss = 0.92122, acc = 0.69889\n"
     ]
    },
    {
     "name": "stderr",
     "output_type": "stream",
     "text": [
      "T: 053/300: 100%|█| 78/78 [00:17<00:00,  4.36it/s, lr=0.000138, b_loss=0.842, b_\n"
     ]
    },
    {
     "name": "stdout",
     "output_type": "stream",
     "text": [
      "[ Train | 053/300 ] loss = 0.79516, acc = 0.72623\n"
     ]
    },
    {
     "name": "stderr",
     "output_type": "stream",
     "text": [
      "V: 053/300: 100%|████| 26/26 [00:04<00:00,  5.46it/s, v_loss=0.854, v_acc=0.707]\n"
     ]
    },
    {
     "name": "stdout",
     "output_type": "stream",
     "text": [
      "[ Valid | 053/300 ] loss = 0.85384, acc = 0.70733\n",
      "[ Valid | 053/300 ] loss = 0.85384, acc = 0.70733 -> best\n",
      "Best model found at fold 3 epoch 53, acc=0.70733, saving model\n"
     ]
    },
    {
     "name": "stderr",
     "output_type": "stream",
     "text": [
      "T: 054/300: 100%|█| 78/78 [00:18<00:00,  4.21it/s, lr=0.000109, b_loss=0.732, b_\n"
     ]
    },
    {
     "name": "stdout",
     "output_type": "stream",
     "text": [
      "[ Train | 054/300 ] loss = 0.76491, acc = 0.73337\n"
     ]
    },
    {
     "name": "stderr",
     "output_type": "stream",
     "text": [
      "V: 054/300: 100%|█████| 26/26 [00:05<00:00,  5.10it/s, v_loss=0.85, v_acc=0.713]\n"
     ]
    },
    {
     "name": "stdout",
     "output_type": "stream",
     "text": [
      "[ Valid | 054/300 ] loss = 0.85005, acc = 0.71270\n",
      "[ Valid | 054/300 ] loss = 0.85005, acc = 0.71270 -> best\n",
      "Best model found at fold 3 epoch 54, acc=0.71270, saving model\n"
     ]
    },
    {
     "name": "stderr",
     "output_type": "stream",
     "text": [
      "T: 055/300: 100%|█| 78/78 [00:19<00:00,  4.05it/s, lr=8.24e-5, b_loss=0.826, b_a\n"
     ]
    },
    {
     "name": "stdout",
     "output_type": "stream",
     "text": [
      "[ Train | 055/300 ] loss = 0.73923, acc = 0.74818\n"
     ]
    },
    {
     "name": "stderr",
     "output_type": "stream",
     "text": [
      "V: 055/300: 100%|████| 26/26 [00:05<00:00,  4.42it/s, v_loss=0.836, v_acc=0.715]\n"
     ]
    },
    {
     "name": "stdout",
     "output_type": "stream",
     "text": [
      "[ Valid | 055/300 ] loss = 0.83646, acc = 0.71541\n",
      "[ Valid | 055/300 ] loss = 0.83646, acc = 0.71541 -> best\n",
      "Best model found at fold 3 epoch 55, acc=0.71541, saving model\n"
     ]
    },
    {
     "name": "stderr",
     "output_type": "stream",
     "text": [
      "T: 056/300: 100%|█| 78/78 [00:18<00:00,  4.31it/s, lr=5.86e-5, b_loss=0.833, b_a\n"
     ]
    },
    {
     "name": "stdout",
     "output_type": "stream",
     "text": [
      "[ Train | 056/300 ] loss = 0.69756, acc = 0.76304\n"
     ]
    },
    {
     "name": "stderr",
     "output_type": "stream",
     "text": [
      "V: 056/300: 100%|████| 26/26 [00:04<00:00,  5.28it/s, v_loss=0.842, v_acc=0.722]\n"
     ]
    },
    {
     "name": "stdout",
     "output_type": "stream",
     "text": [
      "[ Valid | 056/300 ] loss = 0.84158, acc = 0.72237\n",
      "[ Valid | 056/300 ] loss = 0.84158, acc = 0.72237 -> best\n",
      "Best model found at fold 3 epoch 56, acc=0.72237, saving model\n"
     ]
    },
    {
     "name": "stderr",
     "output_type": "stream",
     "text": [
      "T: 057/300: 100%|█| 78/78 [00:18<00:00,  4.30it/s, lr=3.82e-5, b_loss=0.623, b_a\n"
     ]
    },
    {
     "name": "stdout",
     "output_type": "stream",
     "text": [
      "[ Train | 057/300 ] loss = 0.69965, acc = 0.75790\n"
     ]
    },
    {
     "name": "stderr",
     "output_type": "stream",
     "text": [
      "V: 057/300: 100%|█████| 26/26 [00:05<00:00,  5.19it/s, v_loss=0.788, v_acc=0.73]\n"
     ]
    },
    {
     "name": "stdout",
     "output_type": "stream",
     "text": [
      "[ Valid | 057/300 ] loss = 0.78779, acc = 0.73010\n",
      "[ Valid | 057/300 ] loss = 0.78779, acc = 0.73010 -> best\n",
      "Best model found at fold 3 epoch 57, acc=0.73010, saving model\n"
     ]
    },
    {
     "name": "stderr",
     "output_type": "stream",
     "text": [
      "T: 058/300: 100%|█| 78/78 [00:17<00:00,  4.44it/s, lr=2.18e-5, b_loss=0.676, b_a\n"
     ]
    },
    {
     "name": "stdout",
     "output_type": "stream",
     "text": [
      "[ Train | 058/300 ] loss = 0.67828, acc = 0.76681\n"
     ]
    },
    {
     "name": "stderr",
     "output_type": "stream",
     "text": [
      "V: 058/300: 100%|████| 26/26 [00:05<00:00,  4.74it/s, v_loss=0.782, v_acc=0.735]\n"
     ]
    },
    {
     "name": "stdout",
     "output_type": "stream",
     "text": [
      "[ Valid | 058/300 ] loss = 0.78186, acc = 0.73501\n",
      "[ Valid | 058/300 ] loss = 0.78186, acc = 0.73501 -> best\n",
      "Best model found at fold 3 epoch 58, acc=0.73501, saving model\n"
     ]
    },
    {
     "name": "stderr",
     "output_type": "stream",
     "text": [
      "T: 059/300: 100%|█| 78/78 [00:18<00:00,  4.20it/s, lr=9.79e-6, b_loss=0.777, b_a\n"
     ]
    },
    {
     "name": "stdout",
     "output_type": "stream",
     "text": [
      "[ Train | 059/300 ] loss = 0.68280, acc = 0.76333\n"
     ]
    },
    {
     "name": "stderr",
     "output_type": "stream",
     "text": [
      "V: 059/300: 100%|████| 26/26 [00:05<00:00,  5.07it/s, v_loss=0.781, v_acc=0.733]\n"
     ]
    },
    {
     "name": "stdout",
     "output_type": "stream",
     "text": [
      "[ Valid | 059/300 ] loss = 0.78122, acc = 0.73261\n",
      "[ Valid | 059/300 ] loss = 0.78122, acc = 0.73261\n"
     ]
    },
    {
     "name": "stderr",
     "output_type": "stream",
     "text": [
      "T: 060/300: 100%|█| 78/78 [00:17<00:00,  4.50it/s, lr=2.46e-6, b_loss=0.669, b_a\n"
     ]
    },
    {
     "name": "stdout",
     "output_type": "stream",
     "text": [
      "[ Train | 060/300 ] loss = 0.67141, acc = 0.76859\n"
     ]
    },
    {
     "name": "stderr",
     "output_type": "stream",
     "text": [
      "V: 060/300: 100%|████| 26/26 [00:04<00:00,  5.26it/s, v_loss=0.779, v_acc=0.735]\n"
     ]
    },
    {
     "name": "stdout",
     "output_type": "stream",
     "text": [
      "[ Valid | 060/300 ] loss = 0.77864, acc = 0.73523\n",
      "[ Valid | 060/300 ] loss = 0.77864, acc = 0.73523 -> best\n",
      "Best model found at fold 3 epoch 60, acc=0.73523, saving model\n"
     ]
    },
    {
     "name": "stderr",
     "output_type": "stream",
     "text": [
      "T: 061/300: 100%|█| 78/78 [00:17<00:00,  4.41it/s, lr=0.0004, b_loss=0.775, b_ac\n"
     ]
    },
    {
     "name": "stdout",
     "output_type": "stream",
     "text": [
      "[ Train | 061/300 ] loss = 0.92547, acc = 0.68354\n"
     ]
    },
    {
     "name": "stderr",
     "output_type": "stream",
     "text": [
      "V: 061/300: 100%|██████| 26/26 [00:04<00:00,  5.32it/s, v_loss=1.39, v_acc=0.58]\n"
     ]
    },
    {
     "name": "stdout",
     "output_type": "stream",
     "text": [
      "[ Valid | 061/300 ] loss = 1.38527, acc = 0.58002\n",
      "[ Valid | 061/300 ] loss = 1.38527, acc = 0.58002\n"
     ]
    },
    {
     "name": "stderr",
     "output_type": "stream",
     "text": [
      "T: 062/300: 100%|█| 78/78 [00:17<00:00,  4.35it/s, lr=0.000398, b_loss=0.864, b_\n"
     ]
    },
    {
     "name": "stdout",
     "output_type": "stream",
     "text": [
      "[ Train | 062/300 ] loss = 0.93607, acc = 0.67445\n"
     ]
    },
    {
     "name": "stderr",
     "output_type": "stream",
     "text": [
      "V: 062/300: 100%|█████| 26/26 [00:04<00:00,  5.39it/s, v_loss=1.22, v_acc=0.594]\n"
     ]
    },
    {
     "name": "stdout",
     "output_type": "stream",
     "text": [
      "[ Valid | 062/300 ] loss = 1.21687, acc = 0.59355\n",
      "[ Valid | 062/300 ] loss = 1.21687, acc = 0.59355\n"
     ]
    },
    {
     "name": "stderr",
     "output_type": "stream",
     "text": [
      "T: 063/300: 100%|█| 78/78 [00:18<00:00,  4.20it/s, lr=0.00039, b_loss=0.916, b_a\n"
     ]
    },
    {
     "name": "stdout",
     "output_type": "stream",
     "text": [
      "[ Train | 063/300 ] loss = 0.91056, acc = 0.68826\n"
     ]
    },
    {
     "name": "stderr",
     "output_type": "stream",
     "text": [
      "V: 063/300: 100%|█████| 26/26 [00:04<00:00,  5.29it/s, v_loss=1.03, v_acc=0.651]\n"
     ]
    },
    {
     "name": "stdout",
     "output_type": "stream",
     "text": [
      "[ Valid | 063/300 ] loss = 1.03475, acc = 0.65077\n",
      "[ Valid | 063/300 ] loss = 1.03475, acc = 0.65077\n"
     ]
    },
    {
     "name": "stderr",
     "output_type": "stream",
     "text": [
      "T: 064/300: 100%|█| 78/78 [00:18<00:00,  4.24it/s, lr=0.000378, b_loss=0.683, b_\n"
     ]
    },
    {
     "name": "stdout",
     "output_type": "stream",
     "text": [
      "[ Train | 064/300 ] loss = 0.89429, acc = 0.69065\n"
     ]
    },
    {
     "name": "stderr",
     "output_type": "stream",
     "text": [
      "V: 064/300: 100%|█████| 26/26 [00:04<00:00,  5.48it/s, v_loss=1.18, v_acc=0.605]\n"
     ]
    },
    {
     "name": "stdout",
     "output_type": "stream",
     "text": [
      "[ Valid | 064/300 ] loss = 1.18146, acc = 0.60473\n",
      "[ Valid | 064/300 ] loss = 1.18146, acc = 0.60473\n"
     ]
    },
    {
     "name": "stderr",
     "output_type": "stream",
     "text": [
      "T: 065/300: 100%|█| 78/78 [00:17<00:00,  4.47it/s, lr=0.000362, b_loss=0.872, b_\n"
     ]
    },
    {
     "name": "stdout",
     "output_type": "stream",
     "text": [
      "[ Train | 065/300 ] loss = 0.86755, acc = 0.69593\n"
     ]
    },
    {
     "name": "stderr",
     "output_type": "stream",
     "text": [
      "V: 065/300: 100%|█████| 26/26 [00:05<00:00,  5.01it/s, v_loss=1.14, v_acc=0.632]\n"
     ]
    },
    {
     "name": "stdout",
     "output_type": "stream",
     "text": [
      "[ Valid | 065/300 ] loss = 1.13679, acc = 0.63171\n",
      "[ Valid | 065/300 ] loss = 1.13679, acc = 0.63171\n"
     ]
    },
    {
     "name": "stderr",
     "output_type": "stream",
     "text": [
      "T: 066/300: 100%|█| 78/78 [00:18<00:00,  4.29it/s, lr=0.000341, b_loss=0.828, b_\n"
     ]
    },
    {
     "name": "stdout",
     "output_type": "stream",
     "text": [
      "[ Train | 066/300 ] loss = 0.84026, acc = 0.71163\n"
     ]
    },
    {
     "name": "stderr",
     "output_type": "stream",
     "text": [
      "V: 066/300: 100%|█████| 26/26 [00:05<00:00,  5.15it/s, v_loss=1.21, v_acc=0.595]\n"
     ]
    },
    {
     "name": "stdout",
     "output_type": "stream",
     "text": [
      "[ Valid | 066/300 ] loss = 1.21382, acc = 0.59503\n",
      "[ Valid | 066/300 ] loss = 1.21382, acc = 0.59503\n"
     ]
    },
    {
     "name": "stderr",
     "output_type": "stream",
     "text": [
      "T: 067/300: 100%|█| 78/78 [00:18<00:00,  4.28it/s, lr=0.000318, b_loss=0.768, b_\n"
     ]
    },
    {
     "name": "stdout",
     "output_type": "stream",
     "text": [
      "[ Train | 067/300 ] loss = 0.82390, acc = 0.71291\n"
     ]
    },
    {
     "name": "stderr",
     "output_type": "stream",
     "text": [
      "V: 067/300: 100%|█████| 26/26 [00:05<00:00,  4.90it/s, v_loss=1.23, v_acc=0.594]\n"
     ]
    },
    {
     "name": "stdout",
     "output_type": "stream",
     "text": [
      "[ Valid | 067/300 ] loss = 1.22606, acc = 0.59450\n",
      "[ Valid | 067/300 ] loss = 1.22606, acc = 0.59450\n"
     ]
    },
    {
     "name": "stderr",
     "output_type": "stream",
     "text": [
      "T: 068/300: 100%|█| 78/78 [00:17<00:00,  4.37it/s, lr=0.000291, b_loss=0.978, b_\n"
     ]
    },
    {
     "name": "stdout",
     "output_type": "stream",
     "text": [
      "[ Train | 068/300 ] loss = 0.80054, acc = 0.71960\n"
     ]
    },
    {
     "name": "stderr",
     "output_type": "stream",
     "text": [
      "V: 068/300: 100%|████| 26/26 [00:04<00:00,  5.25it/s, v_loss=0.954, v_acc=0.681]\n"
     ]
    },
    {
     "name": "stdout",
     "output_type": "stream",
     "text": [
      "[ Valid | 068/300 ] loss = 0.95380, acc = 0.68109\n",
      "[ Valid | 068/300 ] loss = 0.95380, acc = 0.68109\n"
     ]
    },
    {
     "name": "stderr",
     "output_type": "stream",
     "text": [
      "T: 069/300: 100%|█| 78/78 [00:17<00:00,  4.35it/s, lr=0.000262, b_loss=0.68, b_a\n"
     ]
    },
    {
     "name": "stdout",
     "output_type": "stream",
     "text": [
      "[ Train | 069/300 ] loss = 0.77096, acc = 0.73753\n"
     ]
    },
    {
     "name": "stderr",
     "output_type": "stream",
     "text": [
      "V: 069/300: 100%|██████| 26/26 [00:04<00:00,  5.63it/s, v_loss=0.894, v_acc=0.7]\n"
     ]
    },
    {
     "name": "stdout",
     "output_type": "stream",
     "text": [
      "[ Valid | 069/300 ] loss = 0.89369, acc = 0.70031\n",
      "[ Valid | 069/300 ] loss = 0.89369, acc = 0.70031\n"
     ]
    },
    {
     "name": "stderr",
     "output_type": "stream",
     "text": [
      "T: 070/300: 100%|█| 78/78 [00:17<00:00,  4.34it/s, lr=0.000231, b_loss=0.87, b_a\n"
     ]
    },
    {
     "name": "stdout",
     "output_type": "stream",
     "text": [
      "[ Train | 070/300 ] loss = 0.73659, acc = 0.74605\n"
     ]
    },
    {
     "name": "stderr",
     "output_type": "stream",
     "text": [
      "V: 070/300: 100%|████| 26/26 [00:04<00:00,  5.36it/s, v_loss=0.926, v_acc=0.689]\n"
     ]
    },
    {
     "name": "stdout",
     "output_type": "stream",
     "text": [
      "[ Valid | 070/300 ] loss = 0.92645, acc = 0.68896\n",
      "[ Valid | 070/300 ] loss = 0.92645, acc = 0.68896\n"
     ]
    },
    {
     "name": "stderr",
     "output_type": "stream",
     "text": [
      "T: 071/300: 100%|█| 78/78 [00:18<00:00,  4.31it/s, lr=0.0002, b_loss=0.806, b_ac\n"
     ]
    },
    {
     "name": "stdout",
     "output_type": "stream",
     "text": [
      "[ Train | 071/300 ] loss = 0.74602, acc = 0.74566\n"
     ]
    },
    {
     "name": "stderr",
     "output_type": "stream",
     "text": [
      "V: 071/300: 100%|████| 26/26 [00:04<00:00,  5.30it/s, v_loss=0.853, v_acc=0.714]\n"
     ]
    },
    {
     "name": "stdout",
     "output_type": "stream",
     "text": [
      "[ Valid | 071/300 ] loss = 0.85327, acc = 0.71391\n",
      "[ Valid | 071/300 ] loss = 0.85327, acc = 0.71391\n"
     ]
    },
    {
     "name": "stderr",
     "output_type": "stream",
     "text": [
      "T: 072/300: 100%|█| 78/78 [00:18<00:00,  4.27it/s, lr=0.000169, b_loss=0.785, b_\n"
     ]
    },
    {
     "name": "stdout",
     "output_type": "stream",
     "text": [
      "[ Train | 072/300 ] loss = 0.70553, acc = 0.75786\n"
     ]
    },
    {
     "name": "stderr",
     "output_type": "stream",
     "text": [
      "V: 072/300: 100%|█████| 26/26 [00:05<00:00,  4.86it/s, v_loss=0.828, v_acc=0.72]\n"
     ]
    },
    {
     "name": "stdout",
     "output_type": "stream",
     "text": [
      "[ Valid | 072/300 ] loss = 0.82837, acc = 0.71988\n",
      "[ Valid | 072/300 ] loss = 0.82837, acc = 0.71988\n"
     ]
    },
    {
     "name": "stderr",
     "output_type": "stream",
     "text": [
      "T: 073/300: 100%|█| 78/78 [00:17<00:00,  4.38it/s, lr=0.000138, b_loss=0.685, b_\n"
     ]
    },
    {
     "name": "stdout",
     "output_type": "stream",
     "text": [
      "[ Train | 073/300 ] loss = 0.67744, acc = 0.76645\n"
     ]
    },
    {
     "name": "stderr",
     "output_type": "stream",
     "text": [
      "V: 073/300: 100%|█████| 26/26 [00:04<00:00,  5.64it/s, v_loss=0.801, v_acc=0.74]\n"
     ]
    },
    {
     "name": "stdout",
     "output_type": "stream",
     "text": [
      "[ Valid | 073/300 ] loss = 0.80117, acc = 0.74003\n",
      "[ Valid | 073/300 ] loss = 0.80117, acc = 0.74003 -> best\n",
      "Best model found at fold 3 epoch 73, acc=0.74003, saving model\n"
     ]
    },
    {
     "name": "stderr",
     "output_type": "stream",
     "text": [
      "T: 074/300: 100%|█| 78/78 [00:17<00:00,  4.41it/s, lr=0.000109, b_loss=0.733, b_\n"
     ]
    },
    {
     "name": "stdout",
     "output_type": "stream",
     "text": [
      "[ Train | 074/300 ] loss = 0.64520, acc = 0.77772\n"
     ]
    },
    {
     "name": "stderr",
     "output_type": "stream",
     "text": [
      "V: 074/300: 100%|█████| 26/26 [00:04<00:00,  5.68it/s, v_loss=0.83, v_acc=0.728]\n"
     ]
    },
    {
     "name": "stdout",
     "output_type": "stream",
     "text": [
      "[ Valid | 074/300 ] loss = 0.83045, acc = 0.72827\n",
      "[ Valid | 074/300 ] loss = 0.83045, acc = 0.72827\n"
     ]
    },
    {
     "name": "stderr",
     "output_type": "stream",
     "text": [
      "T: 075/300: 100%|█| 78/78 [00:18<00:00,  4.30it/s, lr=8.24e-5, b_loss=0.7, b_acc\n"
     ]
    },
    {
     "name": "stdout",
     "output_type": "stream",
     "text": [
      "[ Train | 075/300 ] loss = 0.62620, acc = 0.78517\n"
     ]
    },
    {
     "name": "stderr",
     "output_type": "stream",
     "text": [
      "V: 075/300: 100%|████| 26/26 [00:04<00:00,  5.41it/s, v_loss=0.765, v_acc=0.748]\n"
     ]
    },
    {
     "name": "stdout",
     "output_type": "stream",
     "text": [
      "[ Valid | 075/300 ] loss = 0.76542, acc = 0.74762\n",
      "[ Valid | 075/300 ] loss = 0.76542, acc = 0.74762 -> best\n",
      "Best model found at fold 3 epoch 75, acc=0.74762, saving model\n"
     ]
    },
    {
     "name": "stderr",
     "output_type": "stream",
     "text": [
      "T: 076/300: 100%|█| 78/78 [00:17<00:00,  4.38it/s, lr=5.86e-5, b_loss=0.549, b_a\n"
     ]
    },
    {
     "name": "stdout",
     "output_type": "stream",
     "text": [
      "[ Train | 076/300 ] loss = 0.59749, acc = 0.80107\n"
     ]
    },
    {
     "name": "stderr",
     "output_type": "stream",
     "text": [
      "V: 076/300: 100%|█████| 26/26 [00:04<00:00,  5.78it/s, v_loss=0.765, v_acc=0.75]\n"
     ]
    },
    {
     "name": "stdout",
     "output_type": "stream",
     "text": [
      "[ Valid | 076/300 ] loss = 0.76500, acc = 0.75034\n",
      "[ Valid | 076/300 ] loss = 0.76500, acc = 0.75034 -> best\n",
      "Best model found at fold 3 epoch 76, acc=0.75034, saving model\n"
     ]
    },
    {
     "name": "stderr",
     "output_type": "stream",
     "text": [
      "T: 077/300: 100%|█| 78/78 [00:17<00:00,  4.38it/s, lr=3.82e-5, b_loss=0.682, b_a\n"
     ]
    },
    {
     "name": "stdout",
     "output_type": "stream",
     "text": [
      "[ Train | 077/300 ] loss = 0.58941, acc = 0.79471\n"
     ]
    },
    {
     "name": "stderr",
     "output_type": "stream",
     "text": [
      "V: 077/300: 100%|████| 26/26 [00:05<00:00,  4.87it/s, v_loss=0.747, v_acc=0.753]\n"
     ]
    },
    {
     "name": "stdout",
     "output_type": "stream",
     "text": [
      "[ Valid | 077/300 ] loss = 0.74739, acc = 0.75307\n",
      "[ Valid | 077/300 ] loss = 0.74739, acc = 0.75307 -> best\n",
      "Best model found at fold 3 epoch 77, acc=0.75307, saving model\n"
     ]
    },
    {
     "name": "stderr",
     "output_type": "stream",
     "text": [
      "T: 078/300: 100%|█| 78/78 [00:17<00:00,  4.38it/s, lr=2.18e-5, b_loss=0.587, b_a\n"
     ]
    },
    {
     "name": "stdout",
     "output_type": "stream",
     "text": [
      "[ Train | 078/300 ] loss = 0.56352, acc = 0.80866\n"
     ]
    },
    {
     "name": "stderr",
     "output_type": "stream",
     "text": [
      "V: 078/300: 100%|████| 26/26 [00:04<00:00,  5.77it/s, v_loss=0.745, v_acc=0.754]\n"
     ]
    },
    {
     "name": "stdout",
     "output_type": "stream",
     "text": [
      "[ Valid | 078/300 ] loss = 0.74500, acc = 0.75420\n",
      "[ Valid | 078/300 ] loss = 0.74500, acc = 0.75420 -> best\n",
      "Best model found at fold 3 epoch 78, acc=0.75420, saving model\n"
     ]
    },
    {
     "name": "stderr",
     "output_type": "stream",
     "text": [
      "T: 079/300: 100%|█| 78/78 [00:17<00:00,  4.38it/s, lr=9.79e-6, b_loss=0.565, b_a\n"
     ]
    },
    {
     "name": "stdout",
     "output_type": "stream",
     "text": [
      "[ Train | 079/300 ] loss = 0.56968, acc = 0.80606\n"
     ]
    },
    {
     "name": "stderr",
     "output_type": "stream",
     "text": [
      "V: 079/300: 100%|████| 26/26 [00:04<00:00,  5.27it/s, v_loss=0.735, v_acc=0.755]\n"
     ]
    },
    {
     "name": "stdout",
     "output_type": "stream",
     "text": [
      "[ Valid | 079/300 ] loss = 0.73529, acc = 0.75511\n",
      "[ Valid | 079/300 ] loss = 0.73529, acc = 0.75511 -> best\n",
      "Best model found at fold 3 epoch 79, acc=0.75511, saving model\n"
     ]
    },
    {
     "name": "stderr",
     "output_type": "stream",
     "text": [
      "T: 080/300: 100%|█| 78/78 [00:18<00:00,  4.16it/s, lr=2.46e-6, b_loss=0.607, b_a\n"
     ]
    },
    {
     "name": "stdout",
     "output_type": "stream",
     "text": [
      "[ Train | 080/300 ] loss = 0.56191, acc = 0.80753\n"
     ]
    },
    {
     "name": "stderr",
     "output_type": "stream",
     "text": [
      "V: 080/300: 100%|████| 26/26 [00:05<00:00,  5.13it/s, v_loss=0.737, v_acc=0.758]\n"
     ]
    },
    {
     "name": "stdout",
     "output_type": "stream",
     "text": [
      "[ Valid | 080/300 ] loss = 0.73706, acc = 0.75778\n",
      "[ Valid | 080/300 ] loss = 0.73706, acc = 0.75778 -> best\n",
      "Best model found at fold 3 epoch 80, acc=0.75778, saving model\n"
     ]
    },
    {
     "name": "stderr",
     "output_type": "stream",
     "text": [
      "T: 081/300: 100%|█| 78/78 [00:17<00:00,  4.34it/s, lr=0.0004, b_loss=0.791, b_ac\n"
     ]
    },
    {
     "name": "stdout",
     "output_type": "stream",
     "text": [
      "[ Train | 081/300 ] loss = 0.80699, acc = 0.71702\n"
     ]
    },
    {
     "name": "stderr",
     "output_type": "stream",
     "text": [
      "V: 081/300: 100%|█████| 26/26 [00:05<00:00,  5.19it/s, v_loss=1.23, v_acc=0.621]\n"
     ]
    },
    {
     "name": "stdout",
     "output_type": "stream",
     "text": [
      "[ Valid | 081/300 ] loss = 1.23439, acc = 0.62149\n",
      "[ Valid | 081/300 ] loss = 1.23439, acc = 0.62149\n"
     ]
    },
    {
     "name": "stderr",
     "output_type": "stream",
     "text": [
      "T: 082/300: 100%|█| 78/78 [00:18<00:00,  4.31it/s, lr=0.000398, b_loss=0.955, b_\n"
     ]
    },
    {
     "name": "stdout",
     "output_type": "stream",
     "text": [
      "[ Train | 082/300 ] loss = 0.81440, acc = 0.71752\n"
     ]
    },
    {
     "name": "stderr",
     "output_type": "stream",
     "text": [
      "V: 082/300: 100%|█████| 26/26 [00:04<00:00,  5.29it/s, v_loss=1.34, v_acc=0.577]\n"
     ]
    },
    {
     "name": "stdout",
     "output_type": "stream",
     "text": [
      "[ Valid | 082/300 ] loss = 1.34461, acc = 0.57679\n",
      "[ Valid | 082/300 ] loss = 1.34461, acc = 0.57679\n"
     ]
    },
    {
     "name": "stderr",
     "output_type": "stream",
     "text": [
      "T: 083/300: 100%|█| 78/78 [00:17<00:00,  4.38it/s, lr=0.00039, b_loss=0.559, b_a\n"
     ]
    },
    {
     "name": "stdout",
     "output_type": "stream",
     "text": [
      "[ Train | 083/300 ] loss = 0.79109, acc = 0.72815\n"
     ]
    },
    {
     "name": "stderr",
     "output_type": "stream",
     "text": [
      "V: 083/300: 100%|█████| 26/26 [00:04<00:00,  5.67it/s, v_loss=1.05, v_acc=0.654]\n"
     ]
    },
    {
     "name": "stdout",
     "output_type": "stream",
     "text": [
      "[ Valid | 083/300 ] loss = 1.04772, acc = 0.65402\n",
      "[ Valid | 083/300 ] loss = 1.04772, acc = 0.65402\n"
     ]
    },
    {
     "name": "stderr",
     "output_type": "stream",
     "text": [
      "T: 084/300: 100%|█| 78/78 [00:18<00:00,  4.28it/s, lr=0.000378, b_loss=0.908, b_\n"
     ]
    },
    {
     "name": "stdout",
     "output_type": "stream",
     "text": [
      "[ Train | 084/300 ] loss = 0.77412, acc = 0.73633\n"
     ]
    },
    {
     "name": "stderr",
     "output_type": "stream",
     "text": [
      "V: 084/300: 100%|█████| 26/26 [00:04<00:00,  5.47it/s, v_loss=1.14, v_acc=0.629]\n"
     ]
    },
    {
     "name": "stdout",
     "output_type": "stream",
     "text": [
      "[ Valid | 084/300 ] loss = 1.14183, acc = 0.62882\n",
      "[ Valid | 084/300 ] loss = 1.14183, acc = 0.62882\n"
     ]
    },
    {
     "name": "stderr",
     "output_type": "stream",
     "text": [
      "T: 085/300: 100%|█| 78/78 [00:18<00:00,  4.33it/s, lr=0.000362, b_loss=0.686, b_\n"
     ]
    },
    {
     "name": "stdout",
     "output_type": "stream",
     "text": [
      "[ Train | 085/300 ] loss = 0.76960, acc = 0.73721\n"
     ]
    },
    {
     "name": "stderr",
     "output_type": "stream",
     "text": [
      "V: 085/300: 100%|████| 26/26 [00:05<00:00,  5.07it/s, v_loss=0.983, v_acc=0.674]\n"
     ]
    },
    {
     "name": "stdout",
     "output_type": "stream",
     "text": [
      "[ Valid | 085/300 ] loss = 0.98283, acc = 0.67395\n",
      "[ Valid | 085/300 ] loss = 0.98283, acc = 0.67395\n"
     ]
    },
    {
     "name": "stderr",
     "output_type": "stream",
     "text": [
      "T: 086/300: 100%|█| 78/78 [00:18<00:00,  4.25it/s, lr=0.000341, b_loss=0.817, b_\n"
     ]
    },
    {
     "name": "stdout",
     "output_type": "stream",
     "text": [
      "[ Train | 086/300 ] loss = 0.73793, acc = 0.74587\n"
     ]
    },
    {
     "name": "stderr",
     "output_type": "stream",
     "text": [
      "V: 086/300: 100%|████| 26/26 [00:04<00:00,  5.44it/s, v_loss=0.902, v_acc=0.694]\n"
     ]
    },
    {
     "name": "stdout",
     "output_type": "stream",
     "text": [
      "[ Valid | 086/300 ] loss = 0.90181, acc = 0.69438\n",
      "[ Valid | 086/300 ] loss = 0.90181, acc = 0.69438\n"
     ]
    },
    {
     "name": "stderr",
     "output_type": "stream",
     "text": [
      "T: 087/300: 100%|█| 78/78 [00:17<00:00,  4.42it/s, lr=0.000318, b_loss=0.703, b_\n"
     ]
    },
    {
     "name": "stdout",
     "output_type": "stream",
     "text": [
      "[ Train | 087/300 ] loss = 0.72057, acc = 0.74905\n"
     ]
    },
    {
     "name": "stderr",
     "output_type": "stream",
     "text": [
      "V: 087/300: 100%|█████| 26/26 [00:05<00:00,  5.03it/s, v_loss=1.04, v_acc=0.668]\n"
     ]
    },
    {
     "name": "stdout",
     "output_type": "stream",
     "text": [
      "[ Valid | 087/300 ] loss = 1.03566, acc = 0.66813\n",
      "[ Valid | 087/300 ] loss = 1.03566, acc = 0.66813\n"
     ]
    },
    {
     "name": "stderr",
     "output_type": "stream",
     "text": [
      "T: 088/300: 100%|█| 78/78 [00:18<00:00,  4.19it/s, lr=0.000291, b_loss=0.531, b_\n"
     ]
    },
    {
     "name": "stdout",
     "output_type": "stream",
     "text": [
      "[ Train | 088/300 ] loss = 0.67760, acc = 0.76946\n"
     ]
    },
    {
     "name": "stderr",
     "output_type": "stream",
     "text": [
      "V: 088/300: 100%|████| 26/26 [00:05<00:00,  4.88it/s, v_loss=0.883, v_acc=0.715]\n"
     ]
    },
    {
     "name": "stdout",
     "output_type": "stream",
     "text": [
      "[ Valid | 088/300 ] loss = 0.88338, acc = 0.71509\n",
      "[ Valid | 088/300 ] loss = 0.88338, acc = 0.71509\n"
     ]
    },
    {
     "name": "stderr",
     "output_type": "stream",
     "text": [
      "T: 089/300: 100%|█| 78/78 [00:17<00:00,  4.39it/s, lr=0.000262, b_loss=0.561, b_\n"
     ]
    },
    {
     "name": "stdout",
     "output_type": "stream",
     "text": [
      "[ Train | 089/300 ] loss = 0.67509, acc = 0.77208\n"
     ]
    },
    {
     "name": "stderr",
     "output_type": "stream",
     "text": [
      "V: 089/300: 100%|████| 26/26 [00:05<00:00,  4.87it/s, v_loss=0.969, v_acc=0.692]\n"
     ]
    },
    {
     "name": "stdout",
     "output_type": "stream",
     "text": [
      "[ Valid | 089/300 ] loss = 0.96923, acc = 0.69162\n",
      "[ Valid | 089/300 ] loss = 0.96923, acc = 0.69162\n"
     ]
    },
    {
     "name": "stderr",
     "output_type": "stream",
     "text": [
      "T: 090/300: 100%|█| 78/78 [00:18<00:00,  4.32it/s, lr=0.000231, b_loss=0.612, b_\n"
     ]
    },
    {
     "name": "stdout",
     "output_type": "stream",
     "text": [
      "[ Train | 090/300 ] loss = 0.65831, acc = 0.77127\n"
     ]
    },
    {
     "name": "stderr",
     "output_type": "stream",
     "text": [
      "V: 090/300: 100%|█████| 26/26 [00:05<00:00,  5.07it/s, v_loss=0.804, v_acc=0.74]\n"
     ]
    },
    {
     "name": "stdout",
     "output_type": "stream",
     "text": [
      "[ Valid | 090/300 ] loss = 0.80372, acc = 0.74009\n",
      "[ Valid | 090/300 ] loss = 0.80372, acc = 0.74009\n"
     ]
    },
    {
     "name": "stderr",
     "output_type": "stream",
     "text": [
      "T: 091/300: 100%|█| 78/78 [00:18<00:00,  4.32it/s, lr=0.0002, b_loss=0.556, b_ac\n"
     ]
    },
    {
     "name": "stdout",
     "output_type": "stream",
     "text": [
      "[ Train | 091/300 ] loss = 0.62998, acc = 0.78270\n"
     ]
    },
    {
     "name": "stderr",
     "output_type": "stream",
     "text": [
      "V: 091/300: 100%|█████| 26/26 [00:04<00:00,  5.72it/s, v_loss=0.894, v_acc=0.71]\n"
     ]
    },
    {
     "name": "stdout",
     "output_type": "stream",
     "text": [
      "[ Valid | 091/300 ] loss = 0.89401, acc = 0.71026\n",
      "[ Valid | 091/300 ] loss = 0.89401, acc = 0.71026\n"
     ]
    },
    {
     "name": "stderr",
     "output_type": "stream",
     "text": [
      "T: 092/300: 100%|█| 78/78 [00:17<00:00,  4.40it/s, lr=0.000169, b_loss=0.565, b_\n"
     ]
    },
    {
     "name": "stdout",
     "output_type": "stream",
     "text": [
      "[ Train | 092/300 ] loss = 0.61427, acc = 0.78496\n"
     ]
    },
    {
     "name": "stderr",
     "output_type": "stream",
     "text": [
      "V: 092/300: 100%|█████| 26/26 [00:04<00:00,  5.62it/s, v_loss=0.802, v_acc=0.74]\n"
     ]
    },
    {
     "name": "stdout",
     "output_type": "stream",
     "text": [
      "[ Valid | 092/300 ] loss = 0.80230, acc = 0.74004\n",
      "[ Valid | 092/300 ] loss = 0.80230, acc = 0.74004\n"
     ]
    },
    {
     "name": "stderr",
     "output_type": "stream",
     "text": [
      "T: 093/300: 100%|█| 78/78 [00:17<00:00,  4.34it/s, lr=0.000138, b_loss=0.776, b_\n"
     ]
    },
    {
     "name": "stdout",
     "output_type": "stream",
     "text": [
      "[ Train | 093/300 ] loss = 0.57134, acc = 0.80327\n"
     ]
    },
    {
     "name": "stderr",
     "output_type": "stream",
     "text": [
      "V: 093/300: 100%|████| 26/26 [00:04<00:00,  5.30it/s, v_loss=0.804, v_acc=0.742]\n"
     ]
    },
    {
     "name": "stdout",
     "output_type": "stream",
     "text": [
      "[ Valid | 093/300 ] loss = 0.80368, acc = 0.74224\n",
      "[ Valid | 093/300 ] loss = 0.80368, acc = 0.74224\n"
     ]
    },
    {
     "name": "stderr",
     "output_type": "stream",
     "text": [
      "T: 094/300: 100%|█| 78/78 [00:17<00:00,  4.35it/s, lr=0.000109, b_loss=0.527, b_\n"
     ]
    },
    {
     "name": "stdout",
     "output_type": "stream",
     "text": [
      "[ Train | 094/300 ] loss = 0.55086, acc = 0.81184\n"
     ]
    },
    {
     "name": "stderr",
     "output_type": "stream",
     "text": [
      "V: 094/300: 100%|████| 26/26 [00:05<00:00,  5.06it/s, v_loss=0.783, v_acc=0.759]\n"
     ]
    },
    {
     "name": "stdout",
     "output_type": "stream",
     "text": [
      "[ Valid | 094/300 ] loss = 0.78267, acc = 0.75895\n",
      "[ Valid | 094/300 ] loss = 0.78267, acc = 0.75895 -> best\n",
      "Best model found at fold 3 epoch 94, acc=0.75895, saving model\n"
     ]
    },
    {
     "name": "stderr",
     "output_type": "stream",
     "text": [
      "T: 095/300: 100%|█| 78/78 [00:17<00:00,  4.40it/s, lr=8.24e-5, b_loss=0.586, b_a\n"
     ]
    },
    {
     "name": "stdout",
     "output_type": "stream",
     "text": [
      "[ Train | 095/300 ] loss = 0.52905, acc = 0.81825\n"
     ]
    },
    {
     "name": "stderr",
     "output_type": "stream",
     "text": [
      "V: 095/300: 100%|████| 26/26 [00:04<00:00,  5.32it/s, v_loss=0.737, v_acc=0.756]\n"
     ]
    },
    {
     "name": "stdout",
     "output_type": "stream",
     "text": [
      "[ Valid | 095/300 ] loss = 0.73734, acc = 0.75631\n",
      "[ Valid | 095/300 ] loss = 0.73734, acc = 0.75631\n"
     ]
    },
    {
     "name": "stderr",
     "output_type": "stream",
     "text": [
      "T: 096/300: 100%|█| 78/78 [00:18<00:00,  4.25it/s, lr=5.86e-5, b_loss=0.577, b_a\n"
     ]
    },
    {
     "name": "stdout",
     "output_type": "stream",
     "text": [
      "[ Train | 096/300 ] loss = 0.51906, acc = 0.81905\n"
     ]
    },
    {
     "name": "stderr",
     "output_type": "stream",
     "text": [
      "V: 096/300: 100%|█████| 26/26 [00:04<00:00,  5.62it/s, v_loss=0.75, v_acc=0.764]\n"
     ]
    },
    {
     "name": "stdout",
     "output_type": "stream",
     "text": [
      "[ Valid | 096/300 ] loss = 0.74994, acc = 0.76408\n",
      "[ Valid | 096/300 ] loss = 0.74994, acc = 0.76408 -> best\n",
      "Best model found at fold 3 epoch 96, acc=0.76408, saving model\n"
     ]
    },
    {
     "name": "stderr",
     "output_type": "stream",
     "text": [
      "T: 097/300: 100%|█| 78/78 [00:18<00:00,  4.22it/s, lr=3.82e-5, b_loss=0.607, b_a\n"
     ]
    },
    {
     "name": "stdout",
     "output_type": "stream",
     "text": [
      "[ Train | 097/300 ] loss = 0.49937, acc = 0.82999\n"
     ]
    },
    {
     "name": "stderr",
     "output_type": "stream",
     "text": [
      "V: 097/300: 100%|████| 26/26 [00:04<00:00,  5.72it/s, v_loss=0.725, v_acc=0.767]\n"
     ]
    },
    {
     "name": "stdout",
     "output_type": "stream",
     "text": [
      "[ Valid | 097/300 ] loss = 0.72472, acc = 0.76713\n",
      "[ Valid | 097/300 ] loss = 0.72472, acc = 0.76713 -> best\n",
      "Best model found at fold 3 epoch 97, acc=0.76713, saving model\n"
     ]
    },
    {
     "name": "stderr",
     "output_type": "stream",
     "text": [
      "T: 098/300: 100%|█| 78/78 [00:17<00:00,  4.39it/s, lr=2.18e-5, b_loss=0.371, b_a\n"
     ]
    },
    {
     "name": "stdout",
     "output_type": "stream",
     "text": [
      "[ Train | 098/300 ] loss = 0.47970, acc = 0.83551\n"
     ]
    },
    {
     "name": "stderr",
     "output_type": "stream",
     "text": [
      "V: 098/300: 100%|████| 26/26 [00:04<00:00,  5.53it/s, v_loss=0.717, v_acc=0.771]\n"
     ]
    },
    {
     "name": "stdout",
     "output_type": "stream",
     "text": [
      "[ Valid | 098/300 ] loss = 0.71681, acc = 0.77103\n",
      "[ Valid | 098/300 ] loss = 0.71681, acc = 0.77103 -> best\n",
      "Best model found at fold 3 epoch 98, acc=0.77103, saving model\n"
     ]
    },
    {
     "name": "stderr",
     "output_type": "stream",
     "text": [
      "T: 099/300: 100%|█| 78/78 [00:17<00:00,  4.37it/s, lr=9.79e-6, b_loss=0.461, b_a\n"
     ]
    },
    {
     "name": "stdout",
     "output_type": "stream",
     "text": [
      "[ Train | 099/300 ] loss = 0.46778, acc = 0.84025\n"
     ]
    },
    {
     "name": "stderr",
     "output_type": "stream",
     "text": [
      "V: 099/300: 100%|████| 26/26 [00:05<00:00,  5.08it/s, v_loss=0.719, v_acc=0.774]\n"
     ]
    },
    {
     "name": "stdout",
     "output_type": "stream",
     "text": [
      "[ Valid | 099/300 ] loss = 0.71912, acc = 0.77407\n",
      "[ Valid | 099/300 ] loss = 0.71912, acc = 0.77407 -> best\n",
      "Best model found at fold 3 epoch 99, acc=0.77407, saving model\n"
     ]
    },
    {
     "name": "stderr",
     "output_type": "stream",
     "text": [
      "T: 100/300: 100%|█| 78/78 [00:17<00:00,  4.43it/s, lr=2.46e-6, b_loss=0.548, b_a\n"
     ]
    },
    {
     "name": "stdout",
     "output_type": "stream",
     "text": [
      "[ Train | 100/300 ] loss = 0.48379, acc = 0.83451\n"
     ]
    },
    {
     "name": "stderr",
     "output_type": "stream",
     "text": [
      "V: 100/300: 100%|████| 26/26 [00:04<00:00,  5.53it/s, v_loss=0.717, v_acc=0.774]\n"
     ]
    },
    {
     "name": "stdout",
     "output_type": "stream",
     "text": [
      "[ Valid | 100/300 ] loss = 0.71739, acc = 0.77377\n",
      "[ Valid | 100/300 ] loss = 0.71739, acc = 0.77377\n"
     ]
    },
    {
     "name": "stderr",
     "output_type": "stream",
     "text": [
      "T: 101/300: 100%|█| 78/78 [00:17<00:00,  4.41it/s, lr=0.0004, b_loss=1.09, b_acc\n"
     ]
    },
    {
     "name": "stdout",
     "output_type": "stream",
     "text": [
      "[ Train | 101/300 ] loss = 0.71373, acc = 0.75251\n"
     ]
    },
    {
     "name": "stderr",
     "output_type": "stream",
     "text": [
      "V: 101/300: 100%|█████| 26/26 [00:05<00:00,  5.19it/s, v_loss=1.05, v_acc=0.678]\n"
     ]
    },
    {
     "name": "stdout",
     "output_type": "stream",
     "text": [
      "[ Valid | 101/300 ] loss = 1.04834, acc = 0.67773\n",
      "[ Valid | 101/300 ] loss = 1.04834, acc = 0.67773\n"
     ]
    },
    {
     "name": "stderr",
     "output_type": "stream",
     "text": [
      "T: 102/300: 100%|█| 78/78 [00:17<00:00,  4.45it/s, lr=0.000398, b_loss=0.69, b_a\n"
     ]
    },
    {
     "name": "stdout",
     "output_type": "stream",
     "text": [
      "[ Train | 102/300 ] loss = 0.72108, acc = 0.75300\n"
     ]
    },
    {
     "name": "stderr",
     "output_type": "stream",
     "text": [
      "V: 102/300: 100%|█████| 26/26 [00:05<00:00,  4.81it/s, v_loss=1.09, v_acc=0.667]\n"
     ]
    },
    {
     "name": "stdout",
     "output_type": "stream",
     "text": [
      "[ Valid | 102/300 ] loss = 1.09362, acc = 0.66728\n",
      "[ Valid | 102/300 ] loss = 1.09362, acc = 0.66728\n"
     ]
    },
    {
     "name": "stderr",
     "output_type": "stream",
     "text": [
      "T: 103/300: 100%|█| 78/78 [00:18<00:00,  4.11it/s, lr=0.00039, b_loss=0.526, b_a\n"
     ]
    },
    {
     "name": "stdout",
     "output_type": "stream",
     "text": [
      "[ Train | 103/300 ] loss = 0.70564, acc = 0.75347\n"
     ]
    },
    {
     "name": "stderr",
     "output_type": "stream",
     "text": [
      "V: 103/300: 100%|█████| 26/26 [00:04<00:00,  5.31it/s, v_loss=1.24, v_acc=0.611]\n"
     ]
    },
    {
     "name": "stdout",
     "output_type": "stream",
     "text": [
      "[ Valid | 103/300 ] loss = 1.23946, acc = 0.61069\n",
      "[ Valid | 103/300 ] loss = 1.23946, acc = 0.61069\n"
     ]
    },
    {
     "name": "stderr",
     "output_type": "stream",
     "text": [
      "T: 104/300: 100%|█| 78/78 [00:18<00:00,  4.29it/s, lr=0.000378, b_loss=0.687, b_\n"
     ]
    },
    {
     "name": "stdout",
     "output_type": "stream",
     "text": [
      "[ Train | 104/300 ] loss = 0.68770, acc = 0.76484\n"
     ]
    },
    {
     "name": "stderr",
     "output_type": "stream",
     "text": [
      "V: 104/300: 100%|████| 26/26 [00:04<00:00,  5.42it/s, v_loss=0.945, v_acc=0.703]\n"
     ]
    },
    {
     "name": "stdout",
     "output_type": "stream",
     "text": [
      "[ Valid | 104/300 ] loss = 0.94463, acc = 0.70311\n",
      "[ Valid | 104/300 ] loss = 0.94463, acc = 0.70311\n"
     ]
    },
    {
     "name": "stderr",
     "output_type": "stream",
     "text": [
      "T: 105/300: 100%|█| 78/78 [00:17<00:00,  4.43it/s, lr=0.000362, b_loss=0.802, b_\n"
     ]
    },
    {
     "name": "stdout",
     "output_type": "stream",
     "text": [
      "[ Train | 105/300 ] loss = 0.66030, acc = 0.77114\n"
     ]
    },
    {
     "name": "stderr",
     "output_type": "stream",
     "text": [
      "V: 105/300: 100%|████| 26/26 [00:04<00:00,  5.25it/s, v_loss=0.985, v_acc=0.688]\n"
     ]
    },
    {
     "name": "stdout",
     "output_type": "stream",
     "text": [
      "[ Valid | 105/300 ] loss = 0.98526, acc = 0.68780\n",
      "[ Valid | 105/300 ] loss = 0.98526, acc = 0.68780\n"
     ]
    },
    {
     "name": "stderr",
     "output_type": "stream",
     "text": [
      "T: 106/300: 100%|█| 78/78 [00:17<00:00,  4.42it/s, lr=0.000341, b_loss=0.833, b_\n"
     ]
    },
    {
     "name": "stdout",
     "output_type": "stream",
     "text": [
      "[ Train | 106/300 ] loss = 0.65801, acc = 0.77209\n"
     ]
    },
    {
     "name": "stderr",
     "output_type": "stream",
     "text": [
      "V: 106/300: 100%|█████| 26/26 [00:04<00:00,  5.60it/s, v_loss=1.18, v_acc=0.649]\n"
     ]
    },
    {
     "name": "stdout",
     "output_type": "stream",
     "text": [
      "[ Valid | 106/300 ] loss = 1.18028, acc = 0.64854\n",
      "[ Valid | 106/300 ] loss = 1.18028, acc = 0.64854\n"
     ]
    },
    {
     "name": "stderr",
     "output_type": "stream",
     "text": [
      "T: 107/300: 100%|█| 78/78 [00:17<00:00,  4.40it/s, lr=0.000318, b_loss=0.701, b_\n"
     ]
    },
    {
     "name": "stdout",
     "output_type": "stream",
     "text": [
      "[ Train | 107/300 ] loss = 0.62127, acc = 0.78271\n"
     ]
    },
    {
     "name": "stderr",
     "output_type": "stream",
     "text": [
      "V: 107/300: 100%|████| 26/26 [00:04<00:00,  5.47it/s, v_loss=0.868, v_acc=0.721]\n"
     ]
    },
    {
     "name": "stdout",
     "output_type": "stream",
     "text": [
      "[ Valid | 107/300 ] loss = 0.86777, acc = 0.72110\n",
      "[ Valid | 107/300 ] loss = 0.86777, acc = 0.72110\n"
     ]
    },
    {
     "name": "stderr",
     "output_type": "stream",
     "text": [
      "T: 108/300: 100%|█| 78/78 [00:18<00:00,  4.29it/s, lr=0.000291, b_loss=0.787, b_\n"
     ]
    },
    {
     "name": "stdout",
     "output_type": "stream",
     "text": [
      "[ Train | 108/300 ] loss = 0.61219, acc = 0.79234\n"
     ]
    },
    {
     "name": "stderr",
     "output_type": "stream",
     "text": [
      "V: 108/300: 100%|████| 26/26 [00:04<00:00,  5.51it/s, v_loss=0.896, v_acc=0.723]\n"
     ]
    },
    {
     "name": "stdout",
     "output_type": "stream",
     "text": [
      "[ Valid | 108/300 ] loss = 0.89628, acc = 0.72295\n",
      "[ Valid | 108/300 ] loss = 0.89628, acc = 0.72295\n"
     ]
    },
    {
     "name": "stderr",
     "output_type": "stream",
     "text": [
      "T: 109/300: 100%|█| 78/78 [00:17<00:00,  4.43it/s, lr=0.000262, b_loss=0.616, b_\n"
     ]
    },
    {
     "name": "stdout",
     "output_type": "stream",
     "text": [
      "[ Train | 109/300 ] loss = 0.57626, acc = 0.80433\n"
     ]
    },
    {
     "name": "stderr",
     "output_type": "stream",
     "text": [
      "V: 109/300: 100%|█████| 26/26 [00:04<00:00,  5.29it/s, v_loss=0.86, v_acc=0.735]\n"
     ]
    },
    {
     "name": "stdout",
     "output_type": "stream",
     "text": [
      "[ Valid | 109/300 ] loss = 0.86018, acc = 0.73527\n",
      "[ Valid | 109/300 ] loss = 0.86018, acc = 0.73527\n"
     ]
    },
    {
     "name": "stderr",
     "output_type": "stream",
     "text": [
      "T: 110/300: 100%|█| 78/78 [00:17<00:00,  4.37it/s, lr=0.000231, b_loss=0.556, b_\n"
     ]
    },
    {
     "name": "stdout",
     "output_type": "stream",
     "text": [
      "[ Train | 110/300 ] loss = 0.55880, acc = 0.80640\n"
     ]
    },
    {
     "name": "stderr",
     "output_type": "stream",
     "text": [
      "V: 110/300: 100%|████| 26/26 [00:04<00:00,  5.61it/s, v_loss=0.953, v_acc=0.703]\n"
     ]
    },
    {
     "name": "stdout",
     "output_type": "stream",
     "text": [
      "[ Valid | 110/300 ] loss = 0.95308, acc = 0.70332\n",
      "[ Valid | 110/300 ] loss = 0.95308, acc = 0.70332\n"
     ]
    },
    {
     "name": "stderr",
     "output_type": "stream",
     "text": [
      "T: 111/300: 100%|█| 78/78 [00:17<00:00,  4.42it/s, lr=0.0002, b_loss=0.497, b_ac\n"
     ]
    },
    {
     "name": "stdout",
     "output_type": "stream",
     "text": [
      "[ Train | 111/300 ] loss = 0.53070, acc = 0.81611\n"
     ]
    },
    {
     "name": "stderr",
     "output_type": "stream",
     "text": [
      "V: 111/300: 100%|████| 26/26 [00:04<00:00,  5.37it/s, v_loss=0.787, v_acc=0.748]\n"
     ]
    },
    {
     "name": "stdout",
     "output_type": "stream",
     "text": [
      "[ Valid | 111/300 ] loss = 0.78727, acc = 0.74761\n",
      "[ Valid | 111/300 ] loss = 0.78727, acc = 0.74761\n"
     ]
    },
    {
     "name": "stderr",
     "output_type": "stream",
     "text": [
      "T: 112/300: 100%|█| 78/78 [00:19<00:00,  4.10it/s, lr=0.000169, b_loss=0.49, b_a\n"
     ]
    },
    {
     "name": "stdout",
     "output_type": "stream",
     "text": [
      "[ Train | 112/300 ] loss = 0.51694, acc = 0.81984\n"
     ]
    },
    {
     "name": "stderr",
     "output_type": "stream",
     "text": [
      "V: 112/300: 100%|████| 26/26 [00:04<00:00,  5.38it/s, v_loss=0.846, v_acc=0.736]\n"
     ]
    },
    {
     "name": "stdout",
     "output_type": "stream",
     "text": [
      "[ Valid | 112/300 ] loss = 0.84612, acc = 0.73612\n",
      "[ Valid | 112/300 ] loss = 0.84612, acc = 0.73612\n"
     ]
    },
    {
     "name": "stderr",
     "output_type": "stream",
     "text": [
      "T: 113/300: 100%|█| 78/78 [00:17<00:00,  4.35it/s, lr=0.000138, b_loss=0.446, b_\n"
     ]
    },
    {
     "name": "stdout",
     "output_type": "stream",
     "text": [
      "[ Train | 113/300 ] loss = 0.48945, acc = 0.82948\n"
     ]
    },
    {
     "name": "stderr",
     "output_type": "stream",
     "text": [
      "V: 113/300: 100%|████| 26/26 [00:05<00:00,  5.14it/s, v_loss=0.813, v_acc=0.749]\n"
     ]
    },
    {
     "name": "stdout",
     "output_type": "stream",
     "text": [
      "[ Valid | 113/300 ] loss = 0.81262, acc = 0.74944\n",
      "[ Valid | 113/300 ] loss = 0.81262, acc = 0.74944\n"
     ]
    },
    {
     "name": "stderr",
     "output_type": "stream",
     "text": [
      "T: 114/300: 100%|█| 78/78 [00:18<00:00,  4.23it/s, lr=0.000109, b_loss=0.596, b_\n"
     ]
    },
    {
     "name": "stdout",
     "output_type": "stream",
     "text": [
      "[ Train | 114/300 ] loss = 0.47096, acc = 0.83725\n"
     ]
    },
    {
     "name": "stderr",
     "output_type": "stream",
     "text": [
      "V: 114/300: 100%|████| 26/26 [00:05<00:00,  4.95it/s, v_loss=0.775, v_acc=0.767]\n"
     ]
    },
    {
     "name": "stdout",
     "output_type": "stream",
     "text": [
      "[ Valid | 114/300 ] loss = 0.77472, acc = 0.76688\n",
      "[ Valid | 114/300 ] loss = 0.77472, acc = 0.76688\n"
     ]
    },
    {
     "name": "stderr",
     "output_type": "stream",
     "text": [
      "T: 115/300: 100%|█| 78/78 [00:18<00:00,  4.30it/s, lr=8.24e-5, b_loss=0.433, b_a\n"
     ]
    },
    {
     "name": "stdout",
     "output_type": "stream",
     "text": [
      "[ Train | 115/300 ] loss = 0.44807, acc = 0.84619\n"
     ]
    },
    {
     "name": "stderr",
     "output_type": "stream",
     "text": [
      "V: 115/300: 100%|████| 26/26 [00:05<00:00,  5.00it/s, v_loss=0.762, v_acc=0.763]\n"
     ]
    },
    {
     "name": "stdout",
     "output_type": "stream",
     "text": [
      "[ Valid | 115/300 ] loss = 0.76167, acc = 0.76292\n",
      "[ Valid | 115/300 ] loss = 0.76167, acc = 0.76292\n"
     ]
    },
    {
     "name": "stderr",
     "output_type": "stream",
     "text": [
      "T: 116/300: 100%|█| 78/78 [00:18<00:00,  4.30it/s, lr=5.86e-5, b_loss=0.383, b_a\n"
     ]
    },
    {
     "name": "stdout",
     "output_type": "stream",
     "text": [
      "[ Train | 116/300 ] loss = 0.43299, acc = 0.85236\n"
     ]
    },
    {
     "name": "stderr",
     "output_type": "stream",
     "text": [
      "V: 116/300: 100%|████| 26/26 [00:04<00:00,  5.53it/s, v_loss=0.793, v_acc=0.759]\n"
     ]
    },
    {
     "name": "stdout",
     "output_type": "stream",
     "text": [
      "[ Valid | 116/300 ] loss = 0.79267, acc = 0.75873\n",
      "[ Valid | 116/300 ] loss = 0.79267, acc = 0.75873\n"
     ]
    },
    {
     "name": "stderr",
     "output_type": "stream",
     "text": [
      "T: 117/300: 100%|█| 78/78 [00:17<00:00,  4.36it/s, lr=3.82e-5, b_loss=0.365, b_a\n"
     ]
    },
    {
     "name": "stdout",
     "output_type": "stream",
     "text": [
      "[ Train | 117/300 ] loss = 0.41796, acc = 0.85634\n"
     ]
    },
    {
     "name": "stderr",
     "output_type": "stream",
     "text": [
      "V: 117/300: 100%|█████| 26/26 [00:05<00:00,  5.13it/s, v_loss=0.728, v_acc=0.77]\n"
     ]
    },
    {
     "name": "stdout",
     "output_type": "stream",
     "text": [
      "[ Valid | 117/300 ] loss = 0.72782, acc = 0.77048\n",
      "[ Valid | 117/300 ] loss = 0.72782, acc = 0.77048\n"
     ]
    },
    {
     "name": "stderr",
     "output_type": "stream",
     "text": [
      "T: 118/300: 100%|█| 78/78 [00:18<00:00,  4.22it/s, lr=2.18e-5, b_loss=0.437, b_a\n"
     ]
    },
    {
     "name": "stdout",
     "output_type": "stream",
     "text": [
      "[ Train | 118/300 ] loss = 0.40586, acc = 0.86120\n"
     ]
    },
    {
     "name": "stderr",
     "output_type": "stream",
     "text": [
      "V: 118/300: 100%|█████| 26/26 [00:04<00:00,  5.57it/s, v_loss=0.74, v_acc=0.767]\n"
     ]
    },
    {
     "name": "stdout",
     "output_type": "stream",
     "text": [
      "[ Valid | 118/300 ] loss = 0.74034, acc = 0.76746\n",
      "[ Valid | 118/300 ] loss = 0.74034, acc = 0.76746\n"
     ]
    },
    {
     "name": "stderr",
     "output_type": "stream",
     "text": [
      "T: 119/300: 100%|█| 78/78 [00:17<00:00,  4.52it/s, lr=9.79e-6, b_loss=0.501, b_a\n"
     ]
    },
    {
     "name": "stdout",
     "output_type": "stream",
     "text": [
      "[ Train | 119/300 ] loss = 0.39759, acc = 0.86677\n"
     ]
    },
    {
     "name": "stderr",
     "output_type": "stream",
     "text": [
      "V: 119/300: 100%|████| 26/26 [00:04<00:00,  5.46it/s, v_loss=0.733, v_acc=0.771]\n"
     ]
    },
    {
     "name": "stdout",
     "output_type": "stream",
     "text": [
      "[ Valid | 119/300 ] loss = 0.73343, acc = 0.77131\n",
      "[ Valid | 119/300 ] loss = 0.73343, acc = 0.77131\n"
     ]
    },
    {
     "name": "stderr",
     "output_type": "stream",
     "text": [
      "T: 120/300: 100%|█| 78/78 [00:18<00:00,  4.31it/s, lr=2.46e-6, b_loss=0.293, b_a\n"
     ]
    },
    {
     "name": "stdout",
     "output_type": "stream",
     "text": [
      "[ Train | 120/300 ] loss = 0.38654, acc = 0.87019\n"
     ]
    },
    {
     "name": "stderr",
     "output_type": "stream",
     "text": [
      "V: 120/300: 100%|████| 26/26 [00:04<00:00,  5.44it/s, v_loss=0.726, v_acc=0.773]"
     ]
    },
    {
     "name": "stdout",
     "output_type": "stream",
     "text": [
      "[ Valid | 120/300 ] loss = 0.72644, acc = 0.77340\n",
      "[ Valid | 120/300 ] loss = 0.72644, acc = 0.77340\n",
      "No improvment 20 consecutive epochs, early stopping\n"
     ]
    },
    {
     "name": "stderr",
     "output_type": "stream",
     "text": [
      "\n"
     ]
    },
    {
     "data": {
      "text/html": [
       "Waiting for W&B process to finish... <strong style=\"color:green\">(success).</strong>"
      ],
      "text/plain": [
       "<IPython.core.display.HTML object>"
      ]
     },
     "metadata": {},
     "output_type": "display_data"
    },
    {
     "data": {
      "text/html": [
       "<style>\n",
       "    table.wandb td:nth-child(1) { padding: 0 10px; text-align: left ; width: auto;} td:nth-child(2) {text-align: left ; width: 100%}\n",
       "    .wandb-row { display: flex; flex-direction: row; flex-wrap: wrap; justify-content: flex-start; width: 100% }\n",
       "    .wandb-col { display: flex; flex-direction: column; flex-basis: 100%; flex: 1; padding: 10px; }\n",
       "    </style>\n",
       "<div class=\"wandb-row\"><div class=\"wandb-col\"><h3>Run history:</h3><br/><table class=\"wandb\"><tr><td>average_training_loss</td><td>█▇▆▅▅▄▄▅▄▄▄▃▃▃▄▃▃▃▂▂▃▃▃▂▂▂▂▃▂▂▂▂▁▂▂▂▂▁▁▁</td></tr><tr><td>average_validation_loss</td><td>▇█▆▅▄▃▃▆▄▃▃▂▂▂▃▃▂▂▂▁▃▃▂▂▂▁▁▂▂▂▁▁▁▂▂▂▂▁▁▁</td></tr><tr><td>learning rate</td><td>██▇▅▃▂▁█▇▆▄▃▂▁█▇▆▄▂▁█▇▆▄▃▂▁█▇▆▄▂▁██▇▅▃▂▁</td></tr><tr><td>step_training_accuracy</td><td>▁▁▂▃▃▅▅▄▄▄▅▅▆▅▄▅▅▆▆▇▅▇▇▆▆▆▆▆▆▆▇▆▇▇▇▇▇███</td></tr><tr><td>step_training_loss</td><td>██▇▆▅▅▄▅▅▅▅▄▃▄▄▄▄▃▃▂▄▃▃▃▃▃▃▃▃▃▂▃▁▂▃▂▂▁▁▁</td></tr><tr><td>step_validation_accuracy</td><td>▁▂▂▄▆▆▆▅▄▅▅▇▇▄▆▆▆▇▇█▆▆▆▆▇▇▇▇▆▇▆▇▇▆▇▇▇█▇▇</td></tr><tr><td>step_validation_loss</td><td>█▆▆▅▃▃▃▄▄▅▄▂▂▅▃▄▃▂▃▁▃▃▃▂▂▁▂▃▃▃▃▂▁▄▃▃▂▁▂▂</td></tr></table><br/></div><div class=\"wandb-col\"><h3>Run summary:</h3><br/><table class=\"wandb\"><tr><td>average_training_loss</td><td>0.38654</td></tr><tr><td>average_validation_loss</td><td>0.72644</td></tr><tr><td>learning rate</td><td>0.0</td></tr><tr><td>step_training_accuracy</td><td>0.91379</td></tr><tr><td>step_training_loss</td><td>0.29329</td></tr><tr><td>step_validation_accuracy</td><td>0.71774</td></tr><tr><td>step_validation_loss</td><td>0.64284</td></tr></table><br/></div></div>"
      ],
      "text/plain": [
       "<IPython.core.display.HTML object>"
      ]
     },
     "metadata": {},
     "output_type": "display_data"
    },
    {
     "data": {
      "text/html": [
       " View run <strong style=\"color:#cdcd00\">glowing-night-31</strong> at: <a href='https://wandb.ai/nickwkt/Food-11/runs/ob6a9qwq' target=\"_blank\">https://wandb.ai/nickwkt/Food-11/runs/ob6a9qwq</a><br/>Synced 6 W&B file(s), 0 media file(s), 0 artifact file(s) and 0 other file(s)"
      ],
      "text/plain": [
       "<IPython.core.display.HTML object>"
      ]
     },
     "metadata": {},
     "output_type": "display_data"
    },
    {
     "data": {
      "text/html": [
       "Find logs at: <code>./wandb/run-20230416_042248-ob6a9qwq/logs</code>"
      ],
      "text/plain": [
       "<IPython.core.display.HTML object>"
      ]
     },
     "metadata": {},
     "output_type": "display_data"
    },
    {
     "name": "stdout",
     "output_type": "stream",
     "text": [
      "\n",
      "\n",
      "Starting Fold: 4 ********************************************\n",
      "cuda:0\n"
     ]
    },
    {
     "data": {
      "text/html": [
       "Tracking run with wandb version 0.14.2"
      ],
      "text/plain": [
       "<IPython.core.display.HTML object>"
      ]
     },
     "metadata": {},
     "output_type": "display_data"
    },
    {
     "data": {
      "text/html": [
       "Run data is saved locally in <code>/home/user/jupyter_file/wandb/run-20230416_050903-74f3cmm1</code>"
      ],
      "text/plain": [
       "<IPython.core.display.HTML object>"
      ]
     },
     "metadata": {},
     "output_type": "display_data"
    },
    {
     "data": {
      "text/html": [
       "Syncing run <strong><a href='https://wandb.ai/nickwkt/Food-11/runs/74f3cmm1' target=\"_blank\">stoic-star-32</a></strong> to <a href='https://wandb.ai/nickwkt/Food-11' target=\"_blank\">Weights & Biases</a> (<a href='https://wandb.me/run' target=\"_blank\">docs</a>)<br/>"
      ],
      "text/plain": [
       "<IPython.core.display.HTML object>"
      ]
     },
     "metadata": {},
     "output_type": "display_data"
    },
    {
     "data": {
      "text/html": [
       " View project at <a href='https://wandb.ai/nickwkt/Food-11' target=\"_blank\">https://wandb.ai/nickwkt/Food-11</a>"
      ],
      "text/plain": [
       "<IPython.core.display.HTML object>"
      ]
     },
     "metadata": {},
     "output_type": "display_data"
    },
    {
     "data": {
      "text/html": [
       " View run at <a href='https://wandb.ai/nickwkt/Food-11/runs/74f3cmm1' target=\"_blank\">https://wandb.ai/nickwkt/Food-11/runs/74f3cmm1</a>"
      ],
      "text/plain": [
       "<IPython.core.display.HTML object>"
      ]
     },
     "metadata": {},
     "output_type": "display_data"
    },
    {
     "name": "stderr",
     "output_type": "stream",
     "text": [
      "T: 001/300: 100%|█| 78/78 [00:18<00:00,  4.25it/s, lr=0.0004, b_loss=1.88, b_acc\n"
     ]
    },
    {
     "name": "stdout",
     "output_type": "stream",
     "text": [
      "[ Train | 001/300 ] loss = 2.09695, acc = 0.25531\n"
     ]
    },
    {
     "name": "stderr",
     "output_type": "stream",
     "text": [
      "V: 001/300: 100%|███████| 26/26 [00:04<00:00,  5.22it/s, v_loss=2.1, v_acc=0.27]\n"
     ]
    },
    {
     "name": "stdout",
     "output_type": "stream",
     "text": [
      "[ Valid | 001/300 ] loss = 2.09913, acc = 0.27045\n",
      "[ Valid | 001/300 ] loss = 2.09913, acc = 0.27045 -> best\n",
      "Best model found at fold 4 epoch 1, acc=0.27045, saving model\n"
     ]
    },
    {
     "name": "stderr",
     "output_type": "stream",
     "text": [
      "T: 002/300: 100%|█| 78/78 [00:18<00:00,  4.21it/s, lr=0.000398, b_loss=2, b_acc=\n"
     ]
    },
    {
     "name": "stdout",
     "output_type": "stream",
     "text": [
      "[ Train | 002/300 ] loss = 1.94486, acc = 0.31113\n"
     ]
    },
    {
     "name": "stderr",
     "output_type": "stream",
     "text": [
      "V: 002/300: 100%|█████| 26/26 [00:05<00:00,  5.05it/s, v_loss=2.02, v_acc=0.322]\n"
     ]
    },
    {
     "name": "stdout",
     "output_type": "stream",
     "text": [
      "[ Valid | 002/300 ] loss = 2.02350, acc = 0.32151\n",
      "[ Valid | 002/300 ] loss = 2.02350, acc = 0.32151 -> best\n",
      "Best model found at fold 4 epoch 2, acc=0.32151, saving model\n"
     ]
    },
    {
     "name": "stderr",
     "output_type": "stream",
     "text": [
      "T: 003/300: 100%|█| 78/78 [00:17<00:00,  4.36it/s, lr=0.00039, b_loss=2.03, b_ac\n"
     ]
    },
    {
     "name": "stdout",
     "output_type": "stream",
     "text": [
      "[ Train | 003/300 ] loss = 1.86851, acc = 0.33891\n"
     ]
    },
    {
     "name": "stderr",
     "output_type": "stream",
     "text": [
      "V: 003/300: 100%|█████| 26/26 [00:04<00:00,  5.69it/s, v_loss=2.15, v_acc=0.301]\n"
     ]
    },
    {
     "name": "stdout",
     "output_type": "stream",
     "text": [
      "[ Valid | 003/300 ] loss = 2.14678, acc = 0.30140\n",
      "[ Valid | 003/300 ] loss = 2.14678, acc = 0.30140\n"
     ]
    },
    {
     "name": "stderr",
     "output_type": "stream",
     "text": [
      "T: 004/300: 100%|█| 78/78 [00:18<00:00,  4.24it/s, lr=0.000378, b_loss=1.78, b_a\n"
     ]
    },
    {
     "name": "stdout",
     "output_type": "stream",
     "text": [
      "[ Train | 004/300 ] loss = 1.78333, acc = 0.37344\n"
     ]
    },
    {
     "name": "stderr",
     "output_type": "stream",
     "text": [
      "V: 004/300: 100%|█████| 26/26 [00:04<00:00,  5.26it/s, v_loss=1.81, v_acc=0.357]\n"
     ]
    },
    {
     "name": "stdout",
     "output_type": "stream",
     "text": [
      "[ Valid | 004/300 ] loss = 1.80831, acc = 0.35652\n",
      "[ Valid | 004/300 ] loss = 1.80831, acc = 0.35652 -> best\n",
      "Best model found at fold 4 epoch 4, acc=0.35652, saving model\n"
     ]
    },
    {
     "name": "stderr",
     "output_type": "stream",
     "text": [
      "T: 005/300: 100%|█| 78/78 [00:18<00:00,  4.29it/s, lr=0.000362, b_loss=1.64, b_a\n"
     ]
    },
    {
     "name": "stdout",
     "output_type": "stream",
     "text": [
      "[ Train | 005/300 ] loss = 1.74322, acc = 0.38119\n"
     ]
    },
    {
     "name": "stderr",
     "output_type": "stream",
     "text": [
      "V: 005/300: 100%|█████| 26/26 [00:04<00:00,  5.51it/s, v_loss=2.33, v_acc=0.289]\n"
     ]
    },
    {
     "name": "stdout",
     "output_type": "stream",
     "text": [
      "[ Valid | 005/300 ] loss = 2.32789, acc = 0.28850\n",
      "[ Valid | 005/300 ] loss = 2.32789, acc = 0.28850\n"
     ]
    },
    {
     "name": "stderr",
     "output_type": "stream",
     "text": [
      "T: 006/300: 100%|█| 78/78 [00:18<00:00,  4.32it/s, lr=0.000341, b_loss=1.58, b_a\n"
     ]
    },
    {
     "name": "stdout",
     "output_type": "stream",
     "text": [
      "[ Train | 006/300 ] loss = 1.68197, acc = 0.40566\n"
     ]
    },
    {
     "name": "stderr",
     "output_type": "stream",
     "text": [
      "V: 006/300: 100%|█████| 26/26 [00:04<00:00,  5.46it/s, v_loss=1.84, v_acc=0.359]\n"
     ]
    },
    {
     "name": "stdout",
     "output_type": "stream",
     "text": [
      "[ Valid | 006/300 ] loss = 1.83782, acc = 0.35864\n",
      "[ Valid | 006/300 ] loss = 1.83782, acc = 0.35864 -> best\n",
      "Best model found at fold 4 epoch 6, acc=0.35864, saving model\n"
     ]
    },
    {
     "name": "stderr",
     "output_type": "stream",
     "text": [
      "T: 007/300: 100%|█| 78/78 [00:18<00:00,  4.20it/s, lr=0.000318, b_loss=1.55, b_a\n"
     ]
    },
    {
     "name": "stdout",
     "output_type": "stream",
     "text": [
      "[ Train | 007/300 ] loss = 1.60305, acc = 0.43762\n"
     ]
    },
    {
     "name": "stderr",
     "output_type": "stream",
     "text": [
      "V: 007/300: 100%|█████| 26/26 [00:05<00:00,  5.14it/s, v_loss=1.64, v_acc=0.422]\n"
     ]
    },
    {
     "name": "stdout",
     "output_type": "stream",
     "text": [
      "[ Valid | 007/300 ] loss = 1.64069, acc = 0.42211\n",
      "[ Valid | 007/300 ] loss = 1.64069, acc = 0.42211 -> best\n",
      "Best model found at fold 4 epoch 7, acc=0.42211, saving model\n"
     ]
    },
    {
     "name": "stderr",
     "output_type": "stream",
     "text": [
      "T: 008/300: 100%|█| 78/78 [00:17<00:00,  4.35it/s, lr=0.000291, b_loss=1.5, b_ac\n"
     ]
    },
    {
     "name": "stdout",
     "output_type": "stream",
     "text": [
      "[ Train | 008/300 ] loss = 1.53504, acc = 0.46541\n"
     ]
    },
    {
     "name": "stderr",
     "output_type": "stream",
     "text": [
      "V: 008/300: 100%|█████| 26/26 [00:04<00:00,  5.50it/s, v_loss=1.57, v_acc=0.459]\n"
     ]
    },
    {
     "name": "stdout",
     "output_type": "stream",
     "text": [
      "[ Valid | 008/300 ] loss = 1.56525, acc = 0.45876\n",
      "[ Valid | 008/300 ] loss = 1.56525, acc = 0.45876 -> best\n",
      "Best model found at fold 4 epoch 8, acc=0.45876, saving model\n"
     ]
    },
    {
     "name": "stderr",
     "output_type": "stream",
     "text": [
      "T: 009/300: 100%|█| 78/78 [00:17<00:00,  4.40it/s, lr=0.000262, b_loss=1.47, b_a\n"
     ]
    },
    {
     "name": "stdout",
     "output_type": "stream",
     "text": [
      "[ Train | 009/300 ] loss = 1.48440, acc = 0.48287\n"
     ]
    },
    {
     "name": "stderr",
     "output_type": "stream",
     "text": [
      "V: 009/300: 100%|█████| 26/26 [00:05<00:00,  5.16it/s, v_loss=1.49, v_acc=0.478]\n"
     ]
    },
    {
     "name": "stdout",
     "output_type": "stream",
     "text": [
      "[ Valid | 009/300 ] loss = 1.49268, acc = 0.47831\n",
      "[ Valid | 009/300 ] loss = 1.49268, acc = 0.47831 -> best\n",
      "Best model found at fold 4 epoch 9, acc=0.47831, saving model\n"
     ]
    },
    {
     "name": "stderr",
     "output_type": "stream",
     "text": [
      "T: 010/300: 100%|█| 78/78 [00:17<00:00,  4.44it/s, lr=0.000231, b_loss=1.23, b_a\n"
     ]
    },
    {
     "name": "stdout",
     "output_type": "stream",
     "text": [
      "[ Train | 010/300 ] loss = 1.42676, acc = 0.50216\n"
     ]
    },
    {
     "name": "stderr",
     "output_type": "stream",
     "text": [
      "V: 010/300: 100%|█████| 26/26 [00:05<00:00,  4.96it/s, v_loss=1.47, v_acc=0.486]\n"
     ]
    },
    {
     "name": "stdout",
     "output_type": "stream",
     "text": [
      "[ Valid | 010/300 ] loss = 1.47112, acc = 0.48617\n",
      "[ Valid | 010/300 ] loss = 1.47112, acc = 0.48617 -> best\n",
      "Best model found at fold 4 epoch 10, acc=0.48617, saving model\n"
     ]
    },
    {
     "name": "stderr",
     "output_type": "stream",
     "text": [
      "T: 011/300: 100%|█| 78/78 [00:18<00:00,  4.15it/s, lr=0.0002, b_loss=1.28, b_acc\n"
     ]
    },
    {
     "name": "stdout",
     "output_type": "stream",
     "text": [
      "[ Train | 011/300 ] loss = 1.37824, acc = 0.52284\n"
     ]
    },
    {
     "name": "stderr",
     "output_type": "stream",
     "text": [
      "V: 011/300: 100%|█████| 26/26 [00:05<00:00,  5.15it/s, v_loss=1.76, v_acc=0.434]\n"
     ]
    },
    {
     "name": "stdout",
     "output_type": "stream",
     "text": [
      "[ Valid | 011/300 ] loss = 1.75763, acc = 0.43380\n",
      "[ Valid | 011/300 ] loss = 1.75763, acc = 0.43380\n"
     ]
    },
    {
     "name": "stderr",
     "output_type": "stream",
     "text": [
      "T: 012/300: 100%|█| 78/78 [00:18<00:00,  4.29it/s, lr=0.000169, b_loss=1.28, b_a\n"
     ]
    },
    {
     "name": "stdout",
     "output_type": "stream",
     "text": [
      "[ Train | 012/300 ] loss = 1.32709, acc = 0.53982\n"
     ]
    },
    {
     "name": "stderr",
     "output_type": "stream",
     "text": [
      "V: 012/300: 100%|█████| 26/26 [00:04<00:00,  5.29it/s, v_loss=1.57, v_acc=0.467]\n"
     ]
    },
    {
     "name": "stdout",
     "output_type": "stream",
     "text": [
      "[ Valid | 012/300 ] loss = 1.56798, acc = 0.46724\n",
      "[ Valid | 012/300 ] loss = 1.56798, acc = 0.46724\n"
     ]
    },
    {
     "name": "stderr",
     "output_type": "stream",
     "text": [
      "T: 013/300: 100%|█| 78/78 [00:17<00:00,  4.39it/s, lr=0.000138, b_loss=1.22, b_a\n"
     ]
    },
    {
     "name": "stdout",
     "output_type": "stream",
     "text": [
      "[ Train | 013/300 ] loss = 1.29237, acc = 0.55295\n"
     ]
    },
    {
     "name": "stderr",
     "output_type": "stream",
     "text": [
      "V: 013/300: 100%|█████| 26/26 [00:05<00:00,  4.76it/s, v_loss=1.29, v_acc=0.566]\n"
     ]
    },
    {
     "name": "stdout",
     "output_type": "stream",
     "text": [
      "[ Valid | 013/300 ] loss = 1.28990, acc = 0.56611\n",
      "[ Valid | 013/300 ] loss = 1.28990, acc = 0.56611 -> best\n",
      "Best model found at fold 4 epoch 13, acc=0.56611, saving model\n"
     ]
    },
    {
     "name": "stderr",
     "output_type": "stream",
     "text": [
      "T: 014/300: 100%|█| 78/78 [00:18<00:00,  4.29it/s, lr=0.000109, b_loss=1.17, b_a\n"
     ]
    },
    {
     "name": "stdout",
     "output_type": "stream",
     "text": [
      "[ Train | 014/300 ] loss = 1.23210, acc = 0.57760\n"
     ]
    },
    {
     "name": "stderr",
     "output_type": "stream",
     "text": [
      "V: 014/300: 100%|█████| 26/26 [00:05<00:00,  5.16it/s, v_loss=1.22, v_acc=0.577]\n"
     ]
    },
    {
     "name": "stdout",
     "output_type": "stream",
     "text": [
      "[ Valid | 014/300 ] loss = 1.22186, acc = 0.57725\n",
      "[ Valid | 014/300 ] loss = 1.22186, acc = 0.57725 -> best\n",
      "Best model found at fold 4 epoch 14, acc=0.57725, saving model\n"
     ]
    },
    {
     "name": "stderr",
     "output_type": "stream",
     "text": [
      "T: 015/300: 100%|█| 78/78 [00:17<00:00,  4.49it/s, lr=8.24e-5, b_loss=1.43, b_ac\n"
     ]
    },
    {
     "name": "stdout",
     "output_type": "stream",
     "text": [
      "[ Train | 015/300 ] loss = 1.18485, acc = 0.58722\n"
     ]
    },
    {
     "name": "stderr",
     "output_type": "stream",
     "text": [
      "V: 015/300: 100%|██████| 26/26 [00:05<00:00,  4.48it/s, v_loss=1.2, v_acc=0.585]\n"
     ]
    },
    {
     "name": "stdout",
     "output_type": "stream",
     "text": [
      "[ Valid | 015/300 ] loss = 1.20287, acc = 0.58517\n",
      "[ Valid | 015/300 ] loss = 1.20287, acc = 0.58517 -> best\n",
      "Best model found at fold 4 epoch 15, acc=0.58517, saving model\n"
     ]
    },
    {
     "name": "stderr",
     "output_type": "stream",
     "text": [
      "T: 016/300: 100%|█| 78/78 [00:17<00:00,  4.37it/s, lr=5.86e-5, b_loss=1.05, b_ac\n"
     ]
    },
    {
     "name": "stdout",
     "output_type": "stream",
     "text": [
      "[ Train | 016/300 ] loss = 1.15215, acc = 0.59936\n"
     ]
    },
    {
     "name": "stderr",
     "output_type": "stream",
     "text": [
      "V: 016/300: 100%|█████| 26/26 [00:04<00:00,  5.26it/s, v_loss=1.15, v_acc=0.606]\n"
     ]
    },
    {
     "name": "stdout",
     "output_type": "stream",
     "text": [
      "[ Valid | 016/300 ] loss = 1.14532, acc = 0.60620\n",
      "[ Valid | 016/300 ] loss = 1.14532, acc = 0.60620 -> best\n",
      "Best model found at fold 4 epoch 16, acc=0.60620, saving model\n"
     ]
    },
    {
     "name": "stderr",
     "output_type": "stream",
     "text": [
      "T: 017/300: 100%|█| 78/78 [00:18<00:00,  4.33it/s, lr=3.82e-5, b_loss=1.12, b_ac\n"
     ]
    },
    {
     "name": "stdout",
     "output_type": "stream",
     "text": [
      "[ Train | 017/300 ] loss = 1.12923, acc = 0.60802\n"
     ]
    },
    {
     "name": "stderr",
     "output_type": "stream",
     "text": [
      "V: 017/300: 100%|█████| 26/26 [00:04<00:00,  5.63it/s, v_loss=1.11, v_acc=0.617]\n"
     ]
    },
    {
     "name": "stdout",
     "output_type": "stream",
     "text": [
      "[ Valid | 017/300 ] loss = 1.10850, acc = 0.61699\n",
      "[ Valid | 017/300 ] loss = 1.10850, acc = 0.61699 -> best\n",
      "Best model found at fold 4 epoch 17, acc=0.61699, saving model\n"
     ]
    },
    {
     "name": "stderr",
     "output_type": "stream",
     "text": [
      "T: 018/300: 100%|█| 78/78 [00:17<00:00,  4.37it/s, lr=2.18e-5, b_loss=1.07, b_ac\n"
     ]
    },
    {
     "name": "stdout",
     "output_type": "stream",
     "text": [
      "[ Train | 018/300 ] loss = 1.09887, acc = 0.62083\n"
     ]
    },
    {
     "name": "stderr",
     "output_type": "stream",
     "text": [
      "V: 018/300: 100%|█████| 26/26 [00:04<00:00,  5.41it/s, v_loss=1.07, v_acc=0.636]\n"
     ]
    },
    {
     "name": "stdout",
     "output_type": "stream",
     "text": [
      "[ Valid | 018/300 ] loss = 1.06670, acc = 0.63595\n",
      "[ Valid | 018/300 ] loss = 1.06670, acc = 0.63595 -> best\n",
      "Best model found at fold 4 epoch 18, acc=0.63595, saving model\n"
     ]
    },
    {
     "name": "stderr",
     "output_type": "stream",
     "text": [
      "T: 019/300: 100%|█| 78/78 [00:17<00:00,  4.34it/s, lr=9.79e-6, b_loss=0.967, b_a\n"
     ]
    },
    {
     "name": "stdout",
     "output_type": "stream",
     "text": [
      "[ Train | 019/300 ] loss = 1.08039, acc = 0.62694\n"
     ]
    },
    {
     "name": "stderr",
     "output_type": "stream",
     "text": [
      "V: 019/300: 100%|█████| 26/26 [00:05<00:00,  4.87it/s, v_loss=1.06, v_acc=0.632]\n"
     ]
    },
    {
     "name": "stdout",
     "output_type": "stream",
     "text": [
      "[ Valid | 019/300 ] loss = 1.05511, acc = 0.63170\n",
      "[ Valid | 019/300 ] loss = 1.05511, acc = 0.63170\n"
     ]
    },
    {
     "name": "stderr",
     "output_type": "stream",
     "text": [
      "T: 020/300: 100%|█| 78/78 [00:17<00:00,  4.43it/s, lr=2.46e-6, b_loss=1.09, b_ac\n"
     ]
    },
    {
     "name": "stdout",
     "output_type": "stream",
     "text": [
      "[ Train | 020/300 ] loss = 1.06762, acc = 0.63316\n"
     ]
    },
    {
     "name": "stderr",
     "output_type": "stream",
     "text": [
      "V: 020/300: 100%|██████| 26/26 [00:04<00:00,  5.23it/s, v_loss=1.05, v_acc=0.63]\n"
     ]
    },
    {
     "name": "stdout",
     "output_type": "stream",
     "text": [
      "[ Valid | 020/300 ] loss = 1.05465, acc = 0.62990\n",
      "[ Valid | 020/300 ] loss = 1.05465, acc = 0.62990\n"
     ]
    },
    {
     "name": "stderr",
     "output_type": "stream",
     "text": [
      "T: 021/300: 100%|█| 78/78 [00:18<00:00,  4.30it/s, lr=0.0004, b_loss=1.15, b_acc\n"
     ]
    },
    {
     "name": "stdout",
     "output_type": "stream",
     "text": [
      "[ Train | 021/300 ] loss = 1.36613, acc = 0.52421\n"
     ]
    },
    {
     "name": "stderr",
     "output_type": "stream",
     "text": [
      "V: 021/300: 100%|█████| 26/26 [00:04<00:00,  6.04it/s, v_loss=1.54, v_acc=0.485]\n"
     ]
    },
    {
     "name": "stdout",
     "output_type": "stream",
     "text": [
      "[ Valid | 021/300 ] loss = 1.53698, acc = 0.48459\n",
      "[ Valid | 021/300 ] loss = 1.53698, acc = 0.48459\n"
     ]
    },
    {
     "name": "stderr",
     "output_type": "stream",
     "text": [
      "T: 022/300: 100%|█| 78/78 [00:17<00:00,  4.40it/s, lr=0.000398, b_loss=1.16, b_a\n"
     ]
    },
    {
     "name": "stdout",
     "output_type": "stream",
     "text": [
      "[ Train | 022/300 ] loss = 1.32474, acc = 0.53711\n"
     ]
    },
    {
     "name": "stderr",
     "output_type": "stream",
     "text": [
      "V: 022/300: 100%|█████| 26/26 [00:05<00:00,  5.10it/s, v_loss=1.38, v_acc=0.535]\n"
     ]
    },
    {
     "name": "stdout",
     "output_type": "stream",
     "text": [
      "[ Valid | 022/300 ] loss = 1.38138, acc = 0.53459\n",
      "[ Valid | 022/300 ] loss = 1.38138, acc = 0.53459\n"
     ]
    },
    {
     "name": "stderr",
     "output_type": "stream",
     "text": [
      "T: 023/300: 100%|█| 78/78 [00:17<00:00,  4.42it/s, lr=0.00039, b_loss=1.42, b_ac\n"
     ]
    },
    {
     "name": "stdout",
     "output_type": "stream",
     "text": [
      "[ Train | 023/300 ] loss = 1.26369, acc = 0.56262\n"
     ]
    },
    {
     "name": "stderr",
     "output_type": "stream",
     "text": [
      "V: 023/300: 100%|█████| 26/26 [00:05<00:00,  5.10it/s, v_loss=1.52, v_acc=0.495]\n"
     ]
    },
    {
     "name": "stdout",
     "output_type": "stream",
     "text": [
      "[ Valid | 023/300 ] loss = 1.52377, acc = 0.49492\n",
      "[ Valid | 023/300 ] loss = 1.52377, acc = 0.49492\n"
     ]
    },
    {
     "name": "stderr",
     "output_type": "stream",
     "text": [
      "T: 024/300: 100%|█| 78/78 [00:18<00:00,  4.30it/s, lr=0.000378, b_loss=1.33, b_a\n"
     ]
    },
    {
     "name": "stdout",
     "output_type": "stream",
     "text": [
      "[ Train | 024/300 ] loss = 1.24440, acc = 0.57288\n"
     ]
    },
    {
     "name": "stderr",
     "output_type": "stream",
     "text": [
      "V: 024/300: 100%|█████| 26/26 [00:05<00:00,  5.11it/s, v_loss=1.45, v_acc=0.518]\n"
     ]
    },
    {
     "name": "stdout",
     "output_type": "stream",
     "text": [
      "[ Valid | 024/300 ] loss = 1.44828, acc = 0.51829\n",
      "[ Valid | 024/300 ] loss = 1.44828, acc = 0.51829\n"
     ]
    },
    {
     "name": "stderr",
     "output_type": "stream",
     "text": [
      "T: 025/300: 100%|█| 78/78 [00:17<00:00,  4.37it/s, lr=0.000362, b_loss=1.31, b_a\n"
     ]
    },
    {
     "name": "stdout",
     "output_type": "stream",
     "text": [
      "[ Train | 025/300 ] loss = 1.22667, acc = 0.57563\n"
     ]
    },
    {
     "name": "stderr",
     "output_type": "stream",
     "text": [
      "V: 025/300: 100%|█████| 26/26 [00:04<00:00,  5.82it/s, v_loss=1.43, v_acc=0.523]\n"
     ]
    },
    {
     "name": "stdout",
     "output_type": "stream",
     "text": [
      "[ Valid | 025/300 ] loss = 1.42670, acc = 0.52320\n",
      "[ Valid | 025/300 ] loss = 1.42670, acc = 0.52320\n"
     ]
    },
    {
     "name": "stderr",
     "output_type": "stream",
     "text": [
      "T: 026/300: 100%|█| 78/78 [00:17<00:00,  4.40it/s, lr=0.000341, b_loss=1.11, b_a\n"
     ]
    },
    {
     "name": "stdout",
     "output_type": "stream",
     "text": [
      "[ Train | 026/300 ] loss = 1.17368, acc = 0.59274\n"
     ]
    },
    {
     "name": "stderr",
     "output_type": "stream",
     "text": [
      "V: 026/300: 100%|█████| 26/26 [00:05<00:00,  4.61it/s, v_loss=1.37, v_acc=0.542]\n"
     ]
    },
    {
     "name": "stdout",
     "output_type": "stream",
     "text": [
      "[ Valid | 026/300 ] loss = 1.36772, acc = 0.54241\n",
      "[ Valid | 026/300 ] loss = 1.36772, acc = 0.54241\n"
     ]
    },
    {
     "name": "stderr",
     "output_type": "stream",
     "text": [
      "T: 027/300: 100%|█| 78/78 [00:18<00:00,  4.26it/s, lr=0.000318, b_loss=1.16, b_a\n"
     ]
    },
    {
     "name": "stdout",
     "output_type": "stream",
     "text": [
      "[ Train | 027/300 ] loss = 1.14575, acc = 0.60608\n"
     ]
    },
    {
     "name": "stderr",
     "output_type": "stream",
     "text": [
      "V: 027/300: 100%|█████| 26/26 [00:05<00:00,  4.85it/s, v_loss=1.24, v_acc=0.576]\n"
     ]
    },
    {
     "name": "stdout",
     "output_type": "stream",
     "text": [
      "[ Valid | 027/300 ] loss = 1.24344, acc = 0.57647\n",
      "[ Valid | 027/300 ] loss = 1.24344, acc = 0.57647\n"
     ]
    },
    {
     "name": "stderr",
     "output_type": "stream",
     "text": [
      "T: 028/300: 100%|█| 78/78 [00:18<00:00,  4.30it/s, lr=0.000291, b_loss=0.93, b_a\n"
     ]
    },
    {
     "name": "stdout",
     "output_type": "stream",
     "text": [
      "[ Train | 028/300 ] loss = 1.11184, acc = 0.61410\n"
     ]
    },
    {
     "name": "stderr",
     "output_type": "stream",
     "text": [
      "V: 028/300: 100%|█████| 26/26 [00:04<00:00,  5.47it/s, v_loss=1.26, v_acc=0.576]\n"
     ]
    },
    {
     "name": "stdout",
     "output_type": "stream",
     "text": [
      "[ Valid | 028/300 ] loss = 1.25988, acc = 0.57645\n",
      "[ Valid | 028/300 ] loss = 1.25988, acc = 0.57645\n"
     ]
    },
    {
     "name": "stderr",
     "output_type": "stream",
     "text": [
      "T: 029/300: 100%|█| 78/78 [00:17<00:00,  4.40it/s, lr=0.000262, b_loss=1.2, b_ac\n"
     ]
    },
    {
     "name": "stdout",
     "output_type": "stream",
     "text": [
      "[ Train | 029/300 ] loss = 1.06539, acc = 0.63542\n"
     ]
    },
    {
     "name": "stderr",
     "output_type": "stream",
     "text": [
      "V: 029/300: 100%|█████| 26/26 [00:05<00:00,  4.95it/s, v_loss=1.22, v_acc=0.599]\n"
     ]
    },
    {
     "name": "stdout",
     "output_type": "stream",
     "text": [
      "[ Valid | 029/300 ] loss = 1.21773, acc = 0.59871\n",
      "[ Valid | 029/300 ] loss = 1.21773, acc = 0.59871\n"
     ]
    },
    {
     "name": "stderr",
     "output_type": "stream",
     "text": [
      "T: 030/300: 100%|█| 78/78 [00:18<00:00,  4.31it/s, lr=0.000231, b_loss=0.912, b_\n"
     ]
    },
    {
     "name": "stdout",
     "output_type": "stream",
     "text": [
      "[ Train | 030/300 ] loss = 1.04468, acc = 0.63859\n"
     ]
    },
    {
     "name": "stderr",
     "output_type": "stream",
     "text": [
      "V: 030/300: 100%|█████| 26/26 [00:04<00:00,  5.31it/s, v_loss=1.11, v_acc=0.631]\n"
     ]
    },
    {
     "name": "stdout",
     "output_type": "stream",
     "text": [
      "[ Valid | 030/300 ] loss = 1.10511, acc = 0.63066\n",
      "[ Valid | 030/300 ] loss = 1.10511, acc = 0.63066\n"
     ]
    },
    {
     "name": "stderr",
     "output_type": "stream",
     "text": [
      "T: 031/300: 100%|█| 78/78 [00:18<00:00,  4.27it/s, lr=0.0002, b_loss=1.18, b_acc\n"
     ]
    },
    {
     "name": "stdout",
     "output_type": "stream",
     "text": [
      "[ Train | 031/300 ] loss = 1.03049, acc = 0.64150\n"
     ]
    },
    {
     "name": "stderr",
     "output_type": "stream",
     "text": [
      "V: 031/300: 100%|██████| 26/26 [00:04<00:00,  5.21it/s, v_loss=1.07, v_acc=0.64]\n"
     ]
    },
    {
     "name": "stdout",
     "output_type": "stream",
     "text": [
      "[ Valid | 031/300 ] loss = 1.07241, acc = 0.63998\n",
      "[ Valid | 031/300 ] loss = 1.07241, acc = 0.63998 -> best\n",
      "Best model found at fold 4 epoch 31, acc=0.63998, saving model\n"
     ]
    },
    {
     "name": "stderr",
     "output_type": "stream",
     "text": [
      "T: 032/300: 100%|█| 78/78 [00:18<00:00,  4.25it/s, lr=0.000169, b_loss=0.953, b_\n"
     ]
    },
    {
     "name": "stdout",
     "output_type": "stream",
     "text": [
      "[ Train | 032/300 ] loss = 0.98968, acc = 0.65601\n"
     ]
    },
    {
     "name": "stderr",
     "output_type": "stream",
     "text": [
      "V: 032/300: 100%|█████| 26/26 [00:05<00:00,  4.52it/s, v_loss=1.26, v_acc=0.574]\n"
     ]
    },
    {
     "name": "stdout",
     "output_type": "stream",
     "text": [
      "[ Valid | 032/300 ] loss = 1.25645, acc = 0.57401\n",
      "[ Valid | 032/300 ] loss = 1.25645, acc = 0.57401\n"
     ]
    },
    {
     "name": "stderr",
     "output_type": "stream",
     "text": [
      "T: 033/300: 100%|█| 78/78 [00:19<00:00,  4.07it/s, lr=0.000138, b_loss=1.03, b_a\n"
     ]
    },
    {
     "name": "stdout",
     "output_type": "stream",
     "text": [
      "[ Train | 033/300 ] loss = 0.96392, acc = 0.66857\n"
     ]
    },
    {
     "name": "stderr",
     "output_type": "stream",
     "text": [
      "V: 033/300: 100%|█████| 26/26 [00:05<00:00,  4.70it/s, v_loss=1.06, v_acc=0.645]\n"
     ]
    },
    {
     "name": "stdout",
     "output_type": "stream",
     "text": [
      "[ Valid | 033/300 ] loss = 1.05922, acc = 0.64504\n",
      "[ Valid | 033/300 ] loss = 1.05922, acc = 0.64504 -> best\n",
      "Best model found at fold 4 epoch 33, acc=0.64504, saving model\n"
     ]
    },
    {
     "name": "stderr",
     "output_type": "stream",
     "text": [
      "T: 034/300: 100%|█| 78/78 [00:18<00:00,  4.26it/s, lr=0.000109, b_loss=0.988, b_\n"
     ]
    },
    {
     "name": "stdout",
     "output_type": "stream",
     "text": [
      "[ Train | 034/300 ] loss = 0.93133, acc = 0.67950\n"
     ]
    },
    {
     "name": "stderr",
     "output_type": "stream",
     "text": [
      "V: 034/300: 100%|████| 26/26 [00:05<00:00,  5.07it/s, v_loss=0.948, v_acc=0.679]\n"
     ]
    },
    {
     "name": "stdout",
     "output_type": "stream",
     "text": [
      "[ Valid | 034/300 ] loss = 0.94810, acc = 0.67868\n",
      "[ Valid | 034/300 ] loss = 0.94810, acc = 0.67868 -> best\n",
      "Best model found at fold 4 epoch 34, acc=0.67868, saving model\n"
     ]
    },
    {
     "name": "stderr",
     "output_type": "stream",
     "text": [
      "T: 035/300: 100%|█| 78/78 [00:18<00:00,  4.21it/s, lr=8.24e-5, b_loss=0.931, b_a\n"
     ]
    },
    {
     "name": "stdout",
     "output_type": "stream",
     "text": [
      "[ Train | 035/300 ] loss = 0.89615, acc = 0.69158\n"
     ]
    },
    {
     "name": "stderr",
     "output_type": "stream",
     "text": [
      "V: 035/300: 100%|█████| 26/26 [00:05<00:00,  4.93it/s, v_loss=0.91, v_acc=0.686]\n"
     ]
    },
    {
     "name": "stdout",
     "output_type": "stream",
     "text": [
      "[ Valid | 035/300 ] loss = 0.91010, acc = 0.68571\n",
      "[ Valid | 035/300 ] loss = 0.91010, acc = 0.68571 -> best\n",
      "Best model found at fold 4 epoch 35, acc=0.68571, saving model\n"
     ]
    },
    {
     "name": "stderr",
     "output_type": "stream",
     "text": [
      "T: 036/300: 100%|█| 78/78 [00:18<00:00,  4.29it/s, lr=5.86e-5, b_loss=0.823, b_a\n"
     ]
    },
    {
     "name": "stdout",
     "output_type": "stream",
     "text": [
      "[ Train | 036/300 ] loss = 0.87384, acc = 0.70074\n"
     ]
    },
    {
     "name": "stderr",
     "output_type": "stream",
     "text": [
      "V: 036/300: 100%|████| 26/26 [00:04<00:00,  5.77it/s, v_loss=0.937, v_acc=0.683]\n"
     ]
    },
    {
     "name": "stdout",
     "output_type": "stream",
     "text": [
      "[ Valid | 036/300 ] loss = 0.93697, acc = 0.68291\n",
      "[ Valid | 036/300 ] loss = 0.93697, acc = 0.68291\n"
     ]
    },
    {
     "name": "stderr",
     "output_type": "stream",
     "text": [
      "T: 037/300: 100%|█| 78/78 [00:17<00:00,  4.38it/s, lr=3.82e-5, b_loss=0.961, b_a\n"
     ]
    },
    {
     "name": "stdout",
     "output_type": "stream",
     "text": [
      "[ Train | 037/300 ] loss = 0.85958, acc = 0.70413\n"
     ]
    },
    {
     "name": "stderr",
     "output_type": "stream",
     "text": [
      "V: 037/300: 100%|████| 26/26 [00:04<00:00,  5.35it/s, v_loss=0.911, v_acc=0.687]\n"
     ]
    },
    {
     "name": "stdout",
     "output_type": "stream",
     "text": [
      "[ Valid | 037/300 ] loss = 0.91105, acc = 0.68721\n",
      "[ Valid | 037/300 ] loss = 0.91105, acc = 0.68721 -> best\n",
      "Best model found at fold 4 epoch 37, acc=0.68721, saving model\n"
     ]
    },
    {
     "name": "stderr",
     "output_type": "stream",
     "text": [
      "T: 038/300: 100%|█| 78/78 [00:18<00:00,  4.26it/s, lr=2.18e-5, b_loss=0.806, b_a\n"
     ]
    },
    {
     "name": "stdout",
     "output_type": "stream",
     "text": [
      "[ Train | 038/300 ] loss = 0.84371, acc = 0.70818\n"
     ]
    },
    {
     "name": "stderr",
     "output_type": "stream",
     "text": [
      "V: 038/300: 100%|████| 26/26 [00:05<00:00,  4.80it/s, v_loss=0.885, v_acc=0.699]\n"
     ]
    },
    {
     "name": "stdout",
     "output_type": "stream",
     "text": [
      "[ Valid | 038/300 ] loss = 0.88542, acc = 0.69919\n",
      "[ Valid | 038/300 ] loss = 0.88542, acc = 0.69919 -> best\n",
      "Best model found at fold 4 epoch 38, acc=0.69919, saving model\n"
     ]
    },
    {
     "name": "stderr",
     "output_type": "stream",
     "text": [
      "T: 039/300: 100%|█| 78/78 [00:18<00:00,  4.20it/s, lr=9.79e-6, b_loss=0.712, b_a\n"
     ]
    },
    {
     "name": "stdout",
     "output_type": "stream",
     "text": [
      "[ Train | 039/300 ] loss = 0.83160, acc = 0.71218\n"
     ]
    },
    {
     "name": "stderr",
     "output_type": "stream",
     "text": [
      "V: 039/300: 100%|████| 26/26 [00:05<00:00,  4.86it/s, v_loss=0.885, v_acc=0.696]\n"
     ]
    },
    {
     "name": "stdout",
     "output_type": "stream",
     "text": [
      "[ Valid | 039/300 ] loss = 0.88483, acc = 0.69614\n",
      "[ Valid | 039/300 ] loss = 0.88483, acc = 0.69614\n"
     ]
    },
    {
     "name": "stderr",
     "output_type": "stream",
     "text": [
      "T: 040/300: 100%|█| 78/78 [00:18<00:00,  4.18it/s, lr=2.46e-6, b_loss=0.72, b_ac\n"
     ]
    },
    {
     "name": "stdout",
     "output_type": "stream",
     "text": [
      "[ Train | 040/300 ] loss = 0.82437, acc = 0.71551\n"
     ]
    },
    {
     "name": "stderr",
     "output_type": "stream",
     "text": [
      "V: 040/300: 100%|█████| 26/26 [00:05<00:00,  4.77it/s, v_loss=0.88, v_acc=0.698]\n"
     ]
    },
    {
     "name": "stdout",
     "output_type": "stream",
     "text": [
      "[ Valid | 040/300 ] loss = 0.87958, acc = 0.69791\n",
      "[ Valid | 040/300 ] loss = 0.87958, acc = 0.69791\n"
     ]
    },
    {
     "name": "stderr",
     "output_type": "stream",
     "text": [
      "T: 041/300: 100%|█| 78/78 [00:18<00:00,  4.29it/s, lr=0.0004, b_loss=1.25, b_acc\n"
     ]
    },
    {
     "name": "stdout",
     "output_type": "stream",
     "text": [
      "[ Train | 041/300 ] loss = 1.08869, acc = 0.62170\n"
     ]
    },
    {
     "name": "stderr",
     "output_type": "stream",
     "text": [
      "V: 041/300: 100%|██████| 26/26 [00:05<00:00,  5.04it/s, v_loss=1.21, v_acc=0.59]\n"
     ]
    },
    {
     "name": "stdout",
     "output_type": "stream",
     "text": [
      "[ Valid | 041/300 ] loss = 1.21404, acc = 0.58961\n",
      "[ Valid | 041/300 ] loss = 1.21404, acc = 0.58961\n"
     ]
    },
    {
     "name": "stderr",
     "output_type": "stream",
     "text": [
      "T: 042/300: 100%|█| 78/78 [00:18<00:00,  4.26it/s, lr=0.000398, b_loss=0.886, b_\n"
     ]
    },
    {
     "name": "stdout",
     "output_type": "stream",
     "text": [
      "[ Train | 042/300 ] loss = 1.07073, acc = 0.63378\n"
     ]
    },
    {
     "name": "stderr",
     "output_type": "stream",
     "text": [
      "V: 042/300: 100%|██████| 26/26 [00:04<00:00,  5.43it/s, v_loss=1.47, v_acc=0.55]\n"
     ]
    },
    {
     "name": "stdout",
     "output_type": "stream",
     "text": [
      "[ Valid | 042/300 ] loss = 1.47352, acc = 0.54983\n",
      "[ Valid | 042/300 ] loss = 1.47352, acc = 0.54983\n"
     ]
    },
    {
     "name": "stderr",
     "output_type": "stream",
     "text": [
      "T: 043/300: 100%|█| 78/78 [00:18<00:00,  4.14it/s, lr=0.00039, b_loss=1.03, b_ac\n"
     ]
    },
    {
     "name": "stdout",
     "output_type": "stream",
     "text": [
      "[ Train | 043/300 ] loss = 1.04403, acc = 0.63688\n"
     ]
    },
    {
     "name": "stderr",
     "output_type": "stream",
     "text": [
      "V: 043/300: 100%|█████| 26/26 [00:05<00:00,  4.95it/s, v_loss=1.37, v_acc=0.556]\n"
     ]
    },
    {
     "name": "stdout",
     "output_type": "stream",
     "text": [
      "[ Valid | 043/300 ] loss = 1.36824, acc = 0.55596\n",
      "[ Valid | 043/300 ] loss = 1.36824, acc = 0.55596\n"
     ]
    },
    {
     "name": "stderr",
     "output_type": "stream",
     "text": [
      "T: 044/300: 100%|█| 78/78 [00:17<00:00,  4.42it/s, lr=0.000378, b_loss=1.09, b_a\n"
     ]
    },
    {
     "name": "stdout",
     "output_type": "stream",
     "text": [
      "[ Train | 044/300 ] loss = 1.01257, acc = 0.64852\n"
     ]
    },
    {
     "name": "stderr",
     "output_type": "stream",
     "text": [
      "V: 044/300: 100%|█████| 26/26 [00:05<00:00,  4.99it/s, v_loss=1.37, v_acc=0.548]\n"
     ]
    },
    {
     "name": "stdout",
     "output_type": "stream",
     "text": [
      "[ Valid | 044/300 ] loss = 1.37154, acc = 0.54809\n",
      "[ Valid | 044/300 ] loss = 1.37154, acc = 0.54809\n"
     ]
    },
    {
     "name": "stderr",
     "output_type": "stream",
     "text": [
      "T: 045/300: 100%|█| 78/78 [00:17<00:00,  4.36it/s, lr=0.000362, b_loss=0.94, b_a\n"
     ]
    },
    {
     "name": "stdout",
     "output_type": "stream",
     "text": [
      "[ Train | 045/300 ] loss = 1.01220, acc = 0.65007\n"
     ]
    },
    {
     "name": "stderr",
     "output_type": "stream",
     "text": [
      "V: 045/300: 100%|█████| 26/26 [00:05<00:00,  5.00it/s, v_loss=1.21, v_acc=0.589]\n"
     ]
    },
    {
     "name": "stdout",
     "output_type": "stream",
     "text": [
      "[ Valid | 045/300 ] loss = 1.21275, acc = 0.58873\n",
      "[ Valid | 045/300 ] loss = 1.21275, acc = 0.58873\n"
     ]
    },
    {
     "name": "stderr",
     "output_type": "stream",
     "text": [
      "T: 046/300: 100%|█| 78/78 [00:18<00:00,  4.19it/s, lr=0.000341, b_loss=0.846, b_\n"
     ]
    },
    {
     "name": "stdout",
     "output_type": "stream",
     "text": [
      "[ Train | 046/300 ] loss = 0.98276, acc = 0.66480\n"
     ]
    },
    {
     "name": "stderr",
     "output_type": "stream",
     "text": [
      "V: 046/300: 100%|█████| 26/26 [00:04<00:00,  5.39it/s, v_loss=1.53, v_acc=0.501]\n"
     ]
    },
    {
     "name": "stdout",
     "output_type": "stream",
     "text": [
      "[ Valid | 046/300 ] loss = 1.53227, acc = 0.50089\n",
      "[ Valid | 046/300 ] loss = 1.53227, acc = 0.50089\n"
     ]
    },
    {
     "name": "stderr",
     "output_type": "stream",
     "text": [
      "T: 047/300: 100%|█| 78/78 [00:18<00:00,  4.16it/s, lr=0.000318, b_loss=0.847, b_\n"
     ]
    },
    {
     "name": "stdout",
     "output_type": "stream",
     "text": [
      "[ Train | 047/300 ] loss = 0.94483, acc = 0.67707\n"
     ]
    },
    {
     "name": "stderr",
     "output_type": "stream",
     "text": [
      "V: 047/300: 100%|████| 26/26 [00:05<00:00,  5.01it/s, v_loss=0.992, v_acc=0.672]\n"
     ]
    },
    {
     "name": "stdout",
     "output_type": "stream",
     "text": [
      "[ Valid | 047/300 ] loss = 0.99183, acc = 0.67151\n",
      "[ Valid | 047/300 ] loss = 0.99183, acc = 0.67151\n"
     ]
    },
    {
     "name": "stderr",
     "output_type": "stream",
     "text": [
      "T: 048/300: 100%|█| 78/78 [00:18<00:00,  4.16it/s, lr=0.000291, b_loss=0.944, b_\n"
     ]
    },
    {
     "name": "stdout",
     "output_type": "stream",
     "text": [
      "[ Train | 048/300 ] loss = 0.92799, acc = 0.68137\n"
     ]
    },
    {
     "name": "stderr",
     "output_type": "stream",
     "text": [
      "V: 048/300: 100%|█████| 26/26 [00:05<00:00,  4.63it/s, v_loss=1.38, v_acc=0.544]\n"
     ]
    },
    {
     "name": "stdout",
     "output_type": "stream",
     "text": [
      "[ Valid | 048/300 ] loss = 1.38258, acc = 0.54359\n",
      "[ Valid | 048/300 ] loss = 1.38258, acc = 0.54359\n"
     ]
    },
    {
     "name": "stderr",
     "output_type": "stream",
     "text": [
      "T: 049/300: 100%|█| 78/78 [00:18<00:00,  4.16it/s, lr=0.000262, b_loss=1.06, b_a\n"
     ]
    },
    {
     "name": "stdout",
     "output_type": "stream",
     "text": [
      "[ Train | 049/300 ] loss = 0.89076, acc = 0.69214\n"
     ]
    },
    {
     "name": "stderr",
     "output_type": "stream",
     "text": [
      "V: 049/300: 100%|██████| 26/26 [00:05<00:00,  4.70it/s, v_loss=1.01, v_acc=0.68]\n"
     ]
    },
    {
     "name": "stdout",
     "output_type": "stream",
     "text": [
      "[ Valid | 049/300 ] loss = 1.01397, acc = 0.68021\n",
      "[ Valid | 049/300 ] loss = 1.01397, acc = 0.68021\n"
     ]
    },
    {
     "name": "stderr",
     "output_type": "stream",
     "text": [
      "T: 050/300: 100%|█| 78/78 [00:18<00:00,  4.21it/s, lr=0.000231, b_loss=0.885, b_\n"
     ]
    },
    {
     "name": "stdout",
     "output_type": "stream",
     "text": [
      "[ Train | 050/300 ] loss = 0.87017, acc = 0.69916\n"
     ]
    },
    {
     "name": "stderr",
     "output_type": "stream",
     "text": [
      "V: 050/300: 100%|█████| 26/26 [00:05<00:00,  4.69it/s, v_loss=1.02, v_acc=0.671]\n"
     ]
    },
    {
     "name": "stdout",
     "output_type": "stream",
     "text": [
      "[ Valid | 050/300 ] loss = 1.02012, acc = 0.67122\n",
      "[ Valid | 050/300 ] loss = 1.02012, acc = 0.67122\n"
     ]
    },
    {
     "name": "stderr",
     "output_type": "stream",
     "text": [
      "T: 051/300: 100%|█| 78/78 [00:18<00:00,  4.33it/s, lr=0.0002, b_loss=0.849, b_ac\n"
     ]
    },
    {
     "name": "stdout",
     "output_type": "stream",
     "text": [
      "[ Train | 051/300 ] loss = 0.85191, acc = 0.69944\n"
     ]
    },
    {
     "name": "stderr",
     "output_type": "stream",
     "text": [
      "V: 051/300: 100%|████| 26/26 [00:05<00:00,  4.92it/s, v_loss=0.944, v_acc=0.681]\n"
     ]
    },
    {
     "name": "stdout",
     "output_type": "stream",
     "text": [
      "[ Valid | 051/300 ] loss = 0.94416, acc = 0.68112\n",
      "[ Valid | 051/300 ] loss = 0.94416, acc = 0.68112\n"
     ]
    },
    {
     "name": "stderr",
     "output_type": "stream",
     "text": [
      "T: 052/300: 100%|█| 78/78 [00:18<00:00,  4.32it/s, lr=0.000169, b_loss=0.73, b_a\n"
     ]
    },
    {
     "name": "stdout",
     "output_type": "stream",
     "text": [
      "[ Train | 052/300 ] loss = 0.81059, acc = 0.71767\n"
     ]
    },
    {
     "name": "stderr",
     "output_type": "stream",
     "text": [
      "V: 052/300: 100%|████| 26/26 [00:05<00:00,  4.92it/s, v_loss=0.909, v_acc=0.705]\n"
     ]
    },
    {
     "name": "stdout",
     "output_type": "stream",
     "text": [
      "[ Valid | 052/300 ] loss = 0.90903, acc = 0.70490\n",
      "[ Valid | 052/300 ] loss = 0.90903, acc = 0.70490 -> best\n",
      "Best model found at fold 4 epoch 52, acc=0.70490, saving model\n"
     ]
    },
    {
     "name": "stderr",
     "output_type": "stream",
     "text": [
      "T: 053/300: 100%|█| 78/78 [00:18<00:00,  4.25it/s, lr=0.000138, b_loss=0.816, b_\n"
     ]
    },
    {
     "name": "stdout",
     "output_type": "stream",
     "text": [
      "[ Train | 053/300 ] loss = 0.78671, acc = 0.72973\n"
     ]
    },
    {
     "name": "stderr",
     "output_type": "stream",
     "text": [
      "V: 053/300: 100%|████| 26/26 [00:05<00:00,  4.83it/s, v_loss=0.872, v_acc=0.715]\n"
     ]
    },
    {
     "name": "stdout",
     "output_type": "stream",
     "text": [
      "[ Valid | 053/300 ] loss = 0.87188, acc = 0.71539\n",
      "[ Valid | 053/300 ] loss = 0.87188, acc = 0.71539 -> best\n",
      "Best model found at fold 4 epoch 53, acc=0.71539, saving model\n"
     ]
    },
    {
     "name": "stderr",
     "output_type": "stream",
     "text": [
      "T: 054/300: 100%|█| 78/78 [00:19<00:00,  4.08it/s, lr=0.000109, b_loss=0.848, b_\n"
     ]
    },
    {
     "name": "stdout",
     "output_type": "stream",
     "text": [
      "[ Train | 054/300 ] loss = 0.76828, acc = 0.73343\n"
     ]
    },
    {
     "name": "stderr",
     "output_type": "stream",
     "text": [
      "V: 054/300: 100%|████| 26/26 [00:05<00:00,  4.68it/s, v_loss=0.848, v_acc=0.722]\n"
     ]
    },
    {
     "name": "stdout",
     "output_type": "stream",
     "text": [
      "[ Valid | 054/300 ] loss = 0.84760, acc = 0.72199\n",
      "[ Valid | 054/300 ] loss = 0.84760, acc = 0.72199 -> best\n",
      "Best model found at fold 4 epoch 54, acc=0.72199, saving model\n"
     ]
    },
    {
     "name": "stderr",
     "output_type": "stream",
     "text": [
      "T: 055/300: 100%|█| 78/78 [00:18<00:00,  4.21it/s, lr=8.24e-5, b_loss=0.829, b_a\n"
     ]
    },
    {
     "name": "stdout",
     "output_type": "stream",
     "text": [
      "[ Train | 055/300 ] loss = 0.74361, acc = 0.74150\n"
     ]
    },
    {
     "name": "stderr",
     "output_type": "stream",
     "text": [
      "V: 055/300: 100%|████| 26/26 [00:05<00:00,  4.72it/s, v_loss=0.851, v_acc=0.713]\n"
     ]
    },
    {
     "name": "stdout",
     "output_type": "stream",
     "text": [
      "[ Valid | 055/300 ] loss = 0.85137, acc = 0.71299\n",
      "[ Valid | 055/300 ] loss = 0.85137, acc = 0.71299\n"
     ]
    },
    {
     "name": "stderr",
     "output_type": "stream",
     "text": [
      "T: 056/300: 100%|█| 78/78 [00:18<00:00,  4.31it/s, lr=5.86e-5, b_loss=0.753, b_a\n"
     ]
    },
    {
     "name": "stdout",
     "output_type": "stream",
     "text": [
      "[ Train | 056/300 ] loss = 0.71613, acc = 0.75428\n"
     ]
    },
    {
     "name": "stderr",
     "output_type": "stream",
     "text": [
      "V: 056/300: 100%|████| 26/26 [00:05<00:00,  4.77it/s, v_loss=0.817, v_acc=0.732]\n"
     ]
    },
    {
     "name": "stdout",
     "output_type": "stream",
     "text": [
      "[ Valid | 056/300 ] loss = 0.81697, acc = 0.73197\n",
      "[ Valid | 056/300 ] loss = 0.81697, acc = 0.73197 -> best\n",
      "Best model found at fold 4 epoch 56, acc=0.73197, saving model\n"
     ]
    },
    {
     "name": "stderr",
     "output_type": "stream",
     "text": [
      "T: 057/300: 100%|█| 78/78 [00:18<00:00,  4.27it/s, lr=3.82e-5, b_loss=0.694, b_a\n"
     ]
    },
    {
     "name": "stdout",
     "output_type": "stream",
     "text": [
      "[ Train | 057/300 ] loss = 0.70117, acc = 0.75639\n"
     ]
    },
    {
     "name": "stderr",
     "output_type": "stream",
     "text": [
      "V: 057/300: 100%|████| 26/26 [00:05<00:00,  5.03it/s, v_loss=0.799, v_acc=0.737]\n"
     ]
    },
    {
     "name": "stdout",
     "output_type": "stream",
     "text": [
      "[ Valid | 057/300 ] loss = 0.79915, acc = 0.73709\n",
      "[ Valid | 057/300 ] loss = 0.79915, acc = 0.73709 -> best\n",
      "Best model found at fold 4 epoch 57, acc=0.73709, saving model\n"
     ]
    },
    {
     "name": "stderr",
     "output_type": "stream",
     "text": [
      "T: 058/300: 100%|█| 78/78 [00:17<00:00,  4.39it/s, lr=2.18e-5, b_loss=0.607, b_a\n"
     ]
    },
    {
     "name": "stdout",
     "output_type": "stream",
     "text": [
      "[ Train | 058/300 ] loss = 0.68615, acc = 0.76244\n"
     ]
    },
    {
     "name": "stderr",
     "output_type": "stream",
     "text": [
      "V: 058/300: 100%|████| 26/26 [00:05<00:00,  4.75it/s, v_loss=0.794, v_acc=0.747]\n"
     ]
    },
    {
     "name": "stdout",
     "output_type": "stream",
     "text": [
      "[ Valid | 058/300 ] loss = 0.79428, acc = 0.74702\n",
      "[ Valid | 058/300 ] loss = 0.79428, acc = 0.74702 -> best\n",
      "Best model found at fold 4 epoch 58, acc=0.74702, saving model\n"
     ]
    },
    {
     "name": "stderr",
     "output_type": "stream",
     "text": [
      "T: 059/300: 100%|█| 78/78 [00:17<00:00,  4.37it/s, lr=9.79e-6, b_loss=0.781, b_a\n"
     ]
    },
    {
     "name": "stdout",
     "output_type": "stream",
     "text": [
      "[ Train | 059/300 ] loss = 0.67482, acc = 0.77132\n"
     ]
    },
    {
     "name": "stderr",
     "output_type": "stream",
     "text": [
      "V: 059/300: 100%|████| 26/26 [00:05<00:00,  5.17it/s, v_loss=0.786, v_acc=0.748]\n"
     ]
    },
    {
     "name": "stdout",
     "output_type": "stream",
     "text": [
      "[ Valid | 059/300 ] loss = 0.78575, acc = 0.74790\n",
      "[ Valid | 059/300 ] loss = 0.78575, acc = 0.74790 -> best\n",
      "Best model found at fold 4 epoch 59, acc=0.74790, saving model\n"
     ]
    },
    {
     "name": "stderr",
     "output_type": "stream",
     "text": [
      "T: 060/300: 100%|█| 78/78 [00:18<00:00,  4.24it/s, lr=2.46e-6, b_loss=0.713, b_a\n"
     ]
    },
    {
     "name": "stdout",
     "output_type": "stream",
     "text": [
      "[ Train | 060/300 ] loss = 0.67205, acc = 0.76844\n"
     ]
    },
    {
     "name": "stderr",
     "output_type": "stream",
     "text": [
      "V: 060/300: 100%|████| 26/26 [00:05<00:00,  4.92it/s, v_loss=0.785, v_acc=0.748]\n"
     ]
    },
    {
     "name": "stdout",
     "output_type": "stream",
     "text": [
      "[ Valid | 060/300 ] loss = 0.78492, acc = 0.74785\n",
      "[ Valid | 060/300 ] loss = 0.78492, acc = 0.74785\n"
     ]
    },
    {
     "name": "stderr",
     "output_type": "stream",
     "text": [
      "T: 061/300: 100%|█| 78/78 [00:18<00:00,  4.28it/s, lr=0.0004, b_loss=0.805, b_ac\n"
     ]
    },
    {
     "name": "stdout",
     "output_type": "stream",
     "text": [
      "[ Train | 061/300 ] loss = 0.92301, acc = 0.68668\n"
     ]
    },
    {
     "name": "stderr",
     "output_type": "stream",
     "text": [
      "V: 061/300: 100%|██████| 26/26 [00:04<00:00,  5.30it/s, v_loss=1.87, v_acc=0.46]\n"
     ]
    },
    {
     "name": "stdout",
     "output_type": "stream",
     "text": [
      "[ Valid | 061/300 ] loss = 1.86697, acc = 0.45958\n",
      "[ Valid | 061/300 ] loss = 1.86697, acc = 0.45958\n"
     ]
    },
    {
     "name": "stderr",
     "output_type": "stream",
     "text": [
      "T: 062/300: 100%|█| 78/78 [00:18<00:00,  4.27it/s, lr=0.000398, b_loss=0.859, b_\n"
     ]
    },
    {
     "name": "stdout",
     "output_type": "stream",
     "text": [
      "[ Train | 062/300 ] loss = 0.88745, acc = 0.69322\n"
     ]
    },
    {
     "name": "stderr",
     "output_type": "stream",
     "text": [
      "V: 062/300: 100%|█████| 26/26 [00:05<00:00,  4.86it/s, v_loss=1.26, v_acc=0.601]\n"
     ]
    },
    {
     "name": "stdout",
     "output_type": "stream",
     "text": [
      "[ Valid | 062/300 ] loss = 1.25981, acc = 0.60082\n",
      "[ Valid | 062/300 ] loss = 1.25981, acc = 0.60082\n"
     ]
    },
    {
     "name": "stderr",
     "output_type": "stream",
     "text": [
      "T: 063/300: 100%|█| 78/78 [00:18<00:00,  4.31it/s, lr=0.00039, b_loss=0.998, b_a\n"
     ]
    },
    {
     "name": "stdout",
     "output_type": "stream",
     "text": [
      "[ Train | 063/300 ] loss = 0.90593, acc = 0.68932\n"
     ]
    },
    {
     "name": "stderr",
     "output_type": "stream",
     "text": [
      "V: 063/300: 100%|█████| 26/26 [00:05<00:00,  4.83it/s, v_loss=1.28, v_acc=0.571]\n"
     ]
    },
    {
     "name": "stdout",
     "output_type": "stream",
     "text": [
      "[ Valid | 063/300 ] loss = 1.28427, acc = 0.57061\n",
      "[ Valid | 063/300 ] loss = 1.28427, acc = 0.57061\n"
     ]
    },
    {
     "name": "stderr",
     "output_type": "stream",
     "text": [
      "T: 064/300: 100%|█| 78/78 [00:18<00:00,  4.18it/s, lr=0.000378, b_loss=0.973, b_\n"
     ]
    },
    {
     "name": "stdout",
     "output_type": "stream",
     "text": [
      "[ Train | 064/300 ] loss = 0.88116, acc = 0.69744\n"
     ]
    },
    {
     "name": "stderr",
     "output_type": "stream",
     "text": [
      "V: 064/300: 100%|█████| 26/26 [00:05<00:00,  4.36it/s, v_loss=1.16, v_acc=0.618]\n"
     ]
    },
    {
     "name": "stdout",
     "output_type": "stream",
     "text": [
      "[ Valid | 064/300 ] loss = 1.15582, acc = 0.61792\n",
      "[ Valid | 064/300 ] loss = 1.15582, acc = 0.61792\n"
     ]
    },
    {
     "name": "stderr",
     "output_type": "stream",
     "text": [
      "T: 065/300: 100%|█| 78/78 [00:18<00:00,  4.23it/s, lr=0.000362, b_loss=0.952, b_\n"
     ]
    },
    {
     "name": "stdout",
     "output_type": "stream",
     "text": [
      "[ Train | 065/300 ] loss = 0.86458, acc = 0.70139\n"
     ]
    },
    {
     "name": "stderr",
     "output_type": "stream",
     "text": [
      "V: 065/300: 100%|█████| 26/26 [00:05<00:00,  5.07it/s, v_loss=1.08, v_acc=0.649]\n"
     ]
    },
    {
     "name": "stdout",
     "output_type": "stream",
     "text": [
      "[ Valid | 065/300 ] loss = 1.08164, acc = 0.64854\n",
      "[ Valid | 065/300 ] loss = 1.08164, acc = 0.64854\n"
     ]
    },
    {
     "name": "stderr",
     "output_type": "stream",
     "text": [
      "T: 066/300: 100%|█| 78/78 [00:18<00:00,  4.25it/s, lr=0.000341, b_loss=1.1, b_ac\n"
     ]
    },
    {
     "name": "stdout",
     "output_type": "stream",
     "text": [
      "[ Train | 066/300 ] loss = 0.82218, acc = 0.71480\n"
     ]
    },
    {
     "name": "stderr",
     "output_type": "stream",
     "text": [
      "V: 066/300: 100%|█████| 26/26 [00:05<00:00,  4.41it/s, v_loss=1.08, v_acc=0.644]\n"
     ]
    },
    {
     "name": "stdout",
     "output_type": "stream",
     "text": [
      "[ Valid | 066/300 ] loss = 1.08010, acc = 0.64373\n",
      "[ Valid | 066/300 ] loss = 1.08010, acc = 0.64373\n"
     ]
    },
    {
     "name": "stderr",
     "output_type": "stream",
     "text": [
      "T: 067/300: 100%|█| 78/78 [00:18<00:00,  4.14it/s, lr=0.000318, b_loss=0.804, b_\n"
     ]
    },
    {
     "name": "stdout",
     "output_type": "stream",
     "text": [
      "[ Train | 067/300 ] loss = 0.81846, acc = 0.71596\n"
     ]
    },
    {
     "name": "stderr",
     "output_type": "stream",
     "text": [
      "V: 067/300: 100%|██████| 26/26 [00:05<00:00,  5.00it/s, v_loss=1.02, v_acc=0.66]\n"
     ]
    },
    {
     "name": "stdout",
     "output_type": "stream",
     "text": [
      "[ Valid | 067/300 ] loss = 1.01644, acc = 0.66014\n",
      "[ Valid | 067/300 ] loss = 1.01644, acc = 0.66014\n"
     ]
    },
    {
     "name": "stderr",
     "output_type": "stream",
     "text": [
      "T: 068/300: 100%|█| 78/78 [00:18<00:00,  4.23it/s, lr=0.000291, b_loss=0.858, b_\n"
     ]
    },
    {
     "name": "stdout",
     "output_type": "stream",
     "text": [
      "[ Train | 068/300 ] loss = 0.79955, acc = 0.72593\n"
     ]
    },
    {
     "name": "stderr",
     "output_type": "stream",
     "text": [
      "V: 068/300: 100%|████| 26/26 [00:05<00:00,  4.85it/s, v_loss=0.898, v_acc=0.702]\n"
     ]
    },
    {
     "name": "stdout",
     "output_type": "stream",
     "text": [
      "[ Valid | 068/300 ] loss = 0.89771, acc = 0.70247\n",
      "[ Valid | 068/300 ] loss = 0.89771, acc = 0.70247\n"
     ]
    },
    {
     "name": "stderr",
     "output_type": "stream",
     "text": [
      "T: 069/300: 100%|█| 78/78 [00:18<00:00,  4.21it/s, lr=0.000262, b_loss=0.803, b_\n"
     ]
    },
    {
     "name": "stdout",
     "output_type": "stream",
     "text": [
      "[ Train | 069/300 ] loss = 0.78596, acc = 0.72822\n"
     ]
    },
    {
     "name": "stderr",
     "output_type": "stream",
     "text": [
      "V: 069/300: 100%|█████| 26/26 [00:05<00:00,  5.16it/s, v_loss=1.16, v_acc=0.632]\n"
     ]
    },
    {
     "name": "stdout",
     "output_type": "stream",
     "text": [
      "[ Valid | 069/300 ] loss = 1.15562, acc = 0.63217\n",
      "[ Valid | 069/300 ] loss = 1.15562, acc = 0.63217\n"
     ]
    },
    {
     "name": "stderr",
     "output_type": "stream",
     "text": [
      "T: 070/300: 100%|█| 78/78 [00:17<00:00,  4.36it/s, lr=0.000231, b_loss=0.705, b_\n"
     ]
    },
    {
     "name": "stdout",
     "output_type": "stream",
     "text": [
      "[ Train | 070/300 ] loss = 0.74147, acc = 0.74599\n"
     ]
    },
    {
     "name": "stderr",
     "output_type": "stream",
     "text": [
      "V: 070/300: 100%|████| 26/26 [00:04<00:00,  5.26it/s, v_loss=0.925, v_acc=0.701]\n"
     ]
    },
    {
     "name": "stdout",
     "output_type": "stream",
     "text": [
      "[ Valid | 070/300 ] loss = 0.92453, acc = 0.70099\n",
      "[ Valid | 070/300 ] loss = 0.92453, acc = 0.70099\n"
     ]
    },
    {
     "name": "stderr",
     "output_type": "stream",
     "text": [
      "T: 071/300: 100%|█| 78/78 [00:17<00:00,  4.40it/s, lr=0.0002, b_loss=0.728, b_ac\n"
     ]
    },
    {
     "name": "stdout",
     "output_type": "stream",
     "text": [
      "[ Train | 071/300 ] loss = 0.73072, acc = 0.74842\n"
     ]
    },
    {
     "name": "stderr",
     "output_type": "stream",
     "text": [
      "V: 071/300: 100%|█████| 26/26 [00:04<00:00,  5.72it/s, v_loss=0.93, v_acc=0.702]\n"
     ]
    },
    {
     "name": "stdout",
     "output_type": "stream",
     "text": [
      "[ Valid | 071/300 ] loss = 0.92963, acc = 0.70179\n",
      "[ Valid | 071/300 ] loss = 0.92963, acc = 0.70179\n"
     ]
    },
    {
     "name": "stderr",
     "output_type": "stream",
     "text": [
      "T: 072/300: 100%|█| 78/78 [00:17<00:00,  4.43it/s, lr=0.000169, b_loss=0.786, b_\n"
     ]
    },
    {
     "name": "stdout",
     "output_type": "stream",
     "text": [
      "[ Train | 072/300 ] loss = 0.69923, acc = 0.76098\n"
     ]
    },
    {
     "name": "stderr",
     "output_type": "stream",
     "text": [
      "V: 072/300: 100%|████| 26/26 [00:04<00:00,  5.25it/s, v_loss=0.831, v_acc=0.729]\n"
     ]
    },
    {
     "name": "stdout",
     "output_type": "stream",
     "text": [
      "[ Valid | 072/300 ] loss = 0.83100, acc = 0.72924\n",
      "[ Valid | 072/300 ] loss = 0.83100, acc = 0.72924\n"
     ]
    },
    {
     "name": "stderr",
     "output_type": "stream",
     "text": [
      "T: 073/300: 100%|█| 78/78 [00:17<00:00,  4.37it/s, lr=0.000138, b_loss=0.532, b_\n"
     ]
    },
    {
     "name": "stdout",
     "output_type": "stream",
     "text": [
      "[ Train | 073/300 ] loss = 0.66667, acc = 0.77383\n"
     ]
    },
    {
     "name": "stderr",
     "output_type": "stream",
     "text": [
      "V: 073/300: 100%|█████| 26/26 [00:05<00:00,  5.05it/s, v_loss=0.84, v_acc=0.729]\n"
     ]
    },
    {
     "name": "stdout",
     "output_type": "stream",
     "text": [
      "[ Valid | 073/300 ] loss = 0.83981, acc = 0.72924\n",
      "[ Valid | 073/300 ] loss = 0.83981, acc = 0.72924\n"
     ]
    },
    {
     "name": "stderr",
     "output_type": "stream",
     "text": [
      "T: 074/300: 100%|█| 78/78 [00:18<00:00,  4.33it/s, lr=0.000109, b_loss=0.628, b_\n"
     ]
    },
    {
     "name": "stdout",
     "output_type": "stream",
     "text": [
      "[ Train | 074/300 ] loss = 0.64033, acc = 0.77951\n"
     ]
    },
    {
     "name": "stderr",
     "output_type": "stream",
     "text": [
      "V: 074/300: 100%|████| 26/26 [00:05<00:00,  4.94it/s, v_loss=0.828, v_acc=0.727]\n"
     ]
    },
    {
     "name": "stdout",
     "output_type": "stream",
     "text": [
      "[ Valid | 074/300 ] loss = 0.82804, acc = 0.72679\n",
      "[ Valid | 074/300 ] loss = 0.82804, acc = 0.72679\n"
     ]
    },
    {
     "name": "stderr",
     "output_type": "stream",
     "text": [
      "T: 075/300: 100%|█| 78/78 [00:18<00:00,  4.21it/s, lr=8.24e-5, b_loss=0.596, b_a\n"
     ]
    },
    {
     "name": "stdout",
     "output_type": "stream",
     "text": [
      "[ Train | 075/300 ] loss = 0.61381, acc = 0.79003\n"
     ]
    },
    {
     "name": "stderr",
     "output_type": "stream",
     "text": [
      "V: 075/300: 100%|████| 26/26 [00:05<00:00,  4.83it/s, v_loss=0.813, v_acc=0.739]\n"
     ]
    },
    {
     "name": "stdout",
     "output_type": "stream",
     "text": [
      "[ Valid | 075/300 ] loss = 0.81345, acc = 0.73887\n",
      "[ Valid | 075/300 ] loss = 0.81345, acc = 0.73887\n"
     ]
    },
    {
     "name": "stderr",
     "output_type": "stream",
     "text": [
      "T: 076/300: 100%|█| 78/78 [00:18<00:00,  4.22it/s, lr=5.86e-5, b_loss=0.586, b_a\n"
     ]
    },
    {
     "name": "stdout",
     "output_type": "stream",
     "text": [
      "[ Train | 076/300 ] loss = 0.59993, acc = 0.79267\n"
     ]
    },
    {
     "name": "stderr",
     "output_type": "stream",
     "text": [
      "V: 076/300: 100%|█████| 26/26 [00:05<00:00,  5.13it/s, v_loss=0.78, v_acc=0.745]\n"
     ]
    },
    {
     "name": "stdout",
     "output_type": "stream",
     "text": [
      "[ Valid | 076/300 ] loss = 0.77957, acc = 0.74463\n",
      "[ Valid | 076/300 ] loss = 0.77957, acc = 0.74463\n"
     ]
    },
    {
     "name": "stderr",
     "output_type": "stream",
     "text": [
      "T: 077/300: 100%|█| 78/78 [00:18<00:00,  4.28it/s, lr=3.82e-5, b_loss=0.639, b_a\n"
     ]
    },
    {
     "name": "stdout",
     "output_type": "stream",
     "text": [
      "[ Train | 077/300 ] loss = 0.58748, acc = 0.79402\n"
     ]
    },
    {
     "name": "stderr",
     "output_type": "stream",
     "text": [
      "V: 077/300: 100%|████| 26/26 [00:05<00:00,  5.06it/s, v_loss=0.771, v_acc=0.749]\n"
     ]
    },
    {
     "name": "stdout",
     "output_type": "stream",
     "text": [
      "[ Valid | 077/300 ] loss = 0.77100, acc = 0.74937\n",
      "[ Valid | 077/300 ] loss = 0.77100, acc = 0.74937 -> best\n",
      "Best model found at fold 4 epoch 77, acc=0.74937, saving model\n"
     ]
    },
    {
     "name": "stderr",
     "output_type": "stream",
     "text": [
      "T: 078/300: 100%|█| 78/78 [00:17<00:00,  4.37it/s, lr=2.18e-5, b_loss=0.611, b_a\n"
     ]
    },
    {
     "name": "stdout",
     "output_type": "stream",
     "text": [
      "[ Train | 078/300 ] loss = 0.56140, acc = 0.81024\n"
     ]
    },
    {
     "name": "stderr",
     "output_type": "stream",
     "text": [
      "V: 078/300: 100%|████| 26/26 [00:04<00:00,  5.57it/s, v_loss=0.757, v_acc=0.758]\n"
     ]
    },
    {
     "name": "stdout",
     "output_type": "stream",
     "text": [
      "[ Valid | 078/300 ] loss = 0.75736, acc = 0.75807\n",
      "[ Valid | 078/300 ] loss = 0.75736, acc = 0.75807 -> best\n",
      "Best model found at fold 4 epoch 78, acc=0.75807, saving model\n"
     ]
    },
    {
     "name": "stderr",
     "output_type": "stream",
     "text": [
      "T: 079/300: 100%|█| 78/78 [00:17<00:00,  4.38it/s, lr=9.79e-6, b_loss=0.504, b_a\n"
     ]
    },
    {
     "name": "stdout",
     "output_type": "stream",
     "text": [
      "[ Train | 079/300 ] loss = 0.55437, acc = 0.80898\n"
     ]
    },
    {
     "name": "stderr",
     "output_type": "stream",
     "text": [
      "V: 079/300: 100%|█████| 26/26 [00:04<00:00,  5.25it/s, v_loss=0.75, v_acc=0.761]\n"
     ]
    },
    {
     "name": "stdout",
     "output_type": "stream",
     "text": [
      "[ Valid | 079/300 ] loss = 0.75019, acc = 0.76051\n",
      "[ Valid | 079/300 ] loss = 0.75019, acc = 0.76051 -> best\n",
      "Best model found at fold 4 epoch 79, acc=0.76051, saving model\n"
     ]
    },
    {
     "name": "stderr",
     "output_type": "stream",
     "text": [
      "T: 080/300: 100%|█| 78/78 [00:17<00:00,  4.40it/s, lr=2.46e-6, b_loss=0.599, b_a\n"
     ]
    },
    {
     "name": "stdout",
     "output_type": "stream",
     "text": [
      "[ Train | 080/300 ] loss = 0.55571, acc = 0.81325\n"
     ]
    },
    {
     "name": "stderr",
     "output_type": "stream",
     "text": [
      "V: 080/300: 100%|████| 26/26 [00:05<00:00,  4.75it/s, v_loss=0.757, v_acc=0.757]\n"
     ]
    },
    {
     "name": "stdout",
     "output_type": "stream",
     "text": [
      "[ Valid | 080/300 ] loss = 0.75654, acc = 0.75688\n",
      "[ Valid | 080/300 ] loss = 0.75654, acc = 0.75688\n"
     ]
    },
    {
     "name": "stderr",
     "output_type": "stream",
     "text": [
      "T: 081/300: 100%|█| 78/78 [00:17<00:00,  4.36it/s, lr=0.0004, b_loss=0.886, b_ac\n"
     ]
    },
    {
     "name": "stdout",
     "output_type": "stream",
     "text": [
      "[ Train | 081/300 ] loss = 0.81246, acc = 0.71748\n"
     ]
    },
    {
     "name": "stderr",
     "output_type": "stream",
     "text": [
      "V: 081/300: 100%|█████| 26/26 [00:05<00:00,  5.06it/s, v_loss=1.26, v_acc=0.606]\n"
     ]
    },
    {
     "name": "stdout",
     "output_type": "stream",
     "text": [
      "[ Valid | 081/300 ] loss = 1.25775, acc = 0.60592\n",
      "[ Valid | 081/300 ] loss = 1.25775, acc = 0.60592\n"
     ]
    },
    {
     "name": "stderr",
     "output_type": "stream",
     "text": [
      "T: 082/300: 100%|█| 78/78 [00:17<00:00,  4.39it/s, lr=0.000398, b_loss=0.961, b_\n"
     ]
    },
    {
     "name": "stdout",
     "output_type": "stream",
     "text": [
      "[ Train | 082/300 ] loss = 0.80828, acc = 0.72103\n"
     ]
    },
    {
     "name": "stderr",
     "output_type": "stream",
     "text": [
      "V: 082/300: 100%|█████| 26/26 [00:05<00:00,  4.95it/s, v_loss=1.04, v_acc=0.657]\n"
     ]
    },
    {
     "name": "stdout",
     "output_type": "stream",
     "text": [
      "[ Valid | 082/300 ] loss = 1.03729, acc = 0.65677\n",
      "[ Valid | 082/300 ] loss = 1.03729, acc = 0.65677\n"
     ]
    },
    {
     "name": "stderr",
     "output_type": "stream",
     "text": [
      "T: 083/300: 100%|█| 78/78 [00:18<00:00,  4.23it/s, lr=0.00039, b_loss=0.588, b_a\n"
     ]
    },
    {
     "name": "stdout",
     "output_type": "stream",
     "text": [
      "[ Train | 083/300 ] loss = 0.77258, acc = 0.73300\n"
     ]
    },
    {
     "name": "stderr",
     "output_type": "stream",
     "text": [
      "V: 083/300: 100%|█████| 26/26 [00:04<00:00,  5.26it/s, v_loss=1.03, v_acc=0.661]\n"
     ]
    },
    {
     "name": "stdout",
     "output_type": "stream",
     "text": [
      "[ Valid | 083/300 ] loss = 1.03249, acc = 0.66131\n",
      "[ Valid | 083/300 ] loss = 1.03249, acc = 0.66131\n"
     ]
    },
    {
     "name": "stderr",
     "output_type": "stream",
     "text": [
      "T: 084/300: 100%|█| 78/78 [00:17<00:00,  4.40it/s, lr=0.000378, b_loss=0.929, b_\n"
     ]
    },
    {
     "name": "stdout",
     "output_type": "stream",
     "text": [
      "[ Train | 084/300 ] loss = 0.77671, acc = 0.73323\n"
     ]
    },
    {
     "name": "stderr",
     "output_type": "stream",
     "text": [
      "V: 084/300: 100%|█████| 26/26 [00:05<00:00,  5.05it/s, v_loss=1.04, v_acc=0.667]\n"
     ]
    },
    {
     "name": "stdout",
     "output_type": "stream",
     "text": [
      "[ Valid | 084/300 ] loss = 1.03728, acc = 0.66728\n",
      "[ Valid | 084/300 ] loss = 1.03728, acc = 0.66728\n"
     ]
    },
    {
     "name": "stderr",
     "output_type": "stream",
     "text": [
      "T: 085/300: 100%|█| 78/78 [00:18<00:00,  4.14it/s, lr=0.000362, b_loss=0.663, b_\n"
     ]
    },
    {
     "name": "stdout",
     "output_type": "stream",
     "text": [
      "[ Train | 085/300 ] loss = 0.75841, acc = 0.73820\n"
     ]
    },
    {
     "name": "stderr",
     "output_type": "stream",
     "text": [
      "V: 085/300: 100%|████| 26/26 [00:05<00:00,  4.91it/s, v_loss=0.942, v_acc=0.688]\n"
     ]
    },
    {
     "name": "stdout",
     "output_type": "stream",
     "text": [
      "[ Valid | 085/300 ] loss = 0.94198, acc = 0.68842\n",
      "[ Valid | 085/300 ] loss = 0.94198, acc = 0.68842\n"
     ]
    },
    {
     "name": "stderr",
     "output_type": "stream",
     "text": [
      "T: 086/300: 100%|█| 78/78 [00:18<00:00,  4.26it/s, lr=0.000341, b_loss=0.627, b_\n"
     ]
    },
    {
     "name": "stdout",
     "output_type": "stream",
     "text": [
      "[ Train | 086/300 ] loss = 0.73242, acc = 0.74602\n"
     ]
    },
    {
     "name": "stderr",
     "output_type": "stream",
     "text": [
      "V: 086/300: 100%|█████| 26/26 [00:04<00:00,  5.22it/s, v_loss=1.34, v_acc=0.589]\n"
     ]
    },
    {
     "name": "stdout",
     "output_type": "stream",
     "text": [
      "[ Valid | 086/300 ] loss = 1.34211, acc = 0.58905\n",
      "[ Valid | 086/300 ] loss = 1.34211, acc = 0.58905\n"
     ]
    },
    {
     "name": "stderr",
     "output_type": "stream",
     "text": [
      "T: 087/300: 100%|█| 78/78 [00:18<00:00,  4.17it/s, lr=0.000318, b_loss=0.83, b_a\n"
     ]
    },
    {
     "name": "stdout",
     "output_type": "stream",
     "text": [
      "[ Train | 087/300 ] loss = 0.70467, acc = 0.75887\n"
     ]
    },
    {
     "name": "stderr",
     "output_type": "stream",
     "text": [
      "V: 087/300: 100%|█████| 26/26 [00:04<00:00,  5.30it/s, v_loss=1.29, v_acc=0.594]\n"
     ]
    },
    {
     "name": "stdout",
     "output_type": "stream",
     "text": [
      "[ Valid | 087/300 ] loss = 1.29120, acc = 0.59382\n",
      "[ Valid | 087/300 ] loss = 1.29120, acc = 0.59382\n"
     ]
    },
    {
     "name": "stderr",
     "output_type": "stream",
     "text": [
      "T: 088/300: 100%|█| 78/78 [00:18<00:00,  4.31it/s, lr=0.000291, b_loss=0.667, b_\n"
     ]
    },
    {
     "name": "stdout",
     "output_type": "stream",
     "text": [
      "[ Train | 088/300 ] loss = 0.69328, acc = 0.76160\n"
     ]
    },
    {
     "name": "stderr",
     "output_type": "stream",
     "text": [
      "V: 088/300: 100%|████| 26/26 [00:05<00:00,  4.65it/s, v_loss=0.906, v_acc=0.711]\n"
     ]
    },
    {
     "name": "stdout",
     "output_type": "stream",
     "text": [
      "[ Valid | 088/300 ] loss = 0.90615, acc = 0.71119\n",
      "[ Valid | 088/300 ] loss = 0.90615, acc = 0.71119\n"
     ]
    },
    {
     "name": "stderr",
     "output_type": "stream",
     "text": [
      "T: 089/300: 100%|█| 78/78 [00:18<00:00,  4.15it/s, lr=0.000262, b_loss=0.871, b_\n"
     ]
    },
    {
     "name": "stdout",
     "output_type": "stream",
     "text": [
      "[ Train | 089/300 ] loss = 0.67772, acc = 0.76807\n"
     ]
    },
    {
     "name": "stderr",
     "output_type": "stream",
     "text": [
      "V: 089/300: 100%|████| 26/26 [00:05<00:00,  5.02it/s, v_loss=0.842, v_acc=0.731]\n"
     ]
    },
    {
     "name": "stdout",
     "output_type": "stream",
     "text": [
      "[ Valid | 089/300 ] loss = 0.84162, acc = 0.73139\n",
      "[ Valid | 089/300 ] loss = 0.84162, acc = 0.73139\n"
     ]
    },
    {
     "name": "stderr",
     "output_type": "stream",
     "text": [
      "T: 090/300: 100%|█| 78/78 [00:18<00:00,  4.20it/s, lr=0.000231, b_loss=0.569, b_\n"
     ]
    },
    {
     "name": "stdout",
     "output_type": "stream",
     "text": [
      "[ Train | 090/300 ] loss = 0.64984, acc = 0.77500\n"
     ]
    },
    {
     "name": "stderr",
     "output_type": "stream",
     "text": [
      "V: 090/300: 100%|█████| 26/26 [00:05<00:00,  4.72it/s, v_loss=0.89, v_acc=0.712]\n"
     ]
    },
    {
     "name": "stdout",
     "output_type": "stream",
     "text": [
      "[ Valid | 090/300 ] loss = 0.88993, acc = 0.71239\n",
      "[ Valid | 090/300 ] loss = 0.88993, acc = 0.71239\n"
     ]
    },
    {
     "name": "stderr",
     "output_type": "stream",
     "text": [
      "T: 091/300: 100%|█| 78/78 [00:17<00:00,  4.40it/s, lr=0.0002, b_loss=0.75, b_acc\n"
     ]
    },
    {
     "name": "stdout",
     "output_type": "stream",
     "text": [
      "[ Train | 091/300 ] loss = 0.62441, acc = 0.78382\n"
     ]
    },
    {
     "name": "stderr",
     "output_type": "stream",
     "text": [
      "V: 091/300: 100%|█████| 26/26 [00:04<00:00,  5.28it/s, v_loss=0.781, v_acc=0.75]\n"
     ]
    },
    {
     "name": "stdout",
     "output_type": "stream",
     "text": [
      "[ Valid | 091/300 ] loss = 0.78150, acc = 0.75029\n",
      "[ Valid | 091/300 ] loss = 0.78150, acc = 0.75029\n"
     ]
    },
    {
     "name": "stderr",
     "output_type": "stream",
     "text": [
      "T: 092/300: 100%|█| 78/78 [00:17<00:00,  4.39it/s, lr=0.000169, b_loss=0.627, b_\n"
     ]
    },
    {
     "name": "stdout",
     "output_type": "stream",
     "text": [
      "[ Train | 092/300 ] loss = 0.59387, acc = 0.79695\n"
     ]
    },
    {
     "name": "stderr",
     "output_type": "stream",
     "text": [
      "V: 092/300: 100%|████| 26/26 [00:04<00:00,  5.22it/s, v_loss=0.809, v_acc=0.737]\n"
     ]
    },
    {
     "name": "stdout",
     "output_type": "stream",
     "text": [
      "[ Valid | 092/300 ] loss = 0.80886, acc = 0.73653\n",
      "[ Valid | 092/300 ] loss = 0.80886, acc = 0.73653\n"
     ]
    },
    {
     "name": "stderr",
     "output_type": "stream",
     "text": [
      "T: 093/300: 100%|█| 78/78 [00:18<00:00,  4.27it/s, lr=0.000138, b_loss=0.514, b_\n"
     ]
    },
    {
     "name": "stdout",
     "output_type": "stream",
     "text": [
      "[ Train | 093/300 ] loss = 0.57195, acc = 0.80339\n"
     ]
    },
    {
     "name": "stderr",
     "output_type": "stream",
     "text": [
      "V: 093/300: 100%|████| 26/26 [00:05<00:00,  4.99it/s, v_loss=0.802, v_acc=0.744]\n"
     ]
    },
    {
     "name": "stdout",
     "output_type": "stream",
     "text": [
      "[ Valid | 093/300 ] loss = 0.80190, acc = 0.74432\n",
      "[ Valid | 093/300 ] loss = 0.80190, acc = 0.74432\n"
     ]
    },
    {
     "name": "stderr",
     "output_type": "stream",
     "text": [
      "T: 094/300: 100%|█| 78/78 [00:18<00:00,  4.15it/s, lr=0.000109, b_loss=0.462, b_\n"
     ]
    },
    {
     "name": "stdout",
     "output_type": "stream",
     "text": [
      "[ Train | 094/300 ] loss = 0.55876, acc = 0.80678\n"
     ]
    },
    {
     "name": "stderr",
     "output_type": "stream",
     "text": [
      "V: 094/300: 100%|████| 26/26 [00:05<00:00,  5.14it/s, v_loss=0.737, v_acc=0.765]\n"
     ]
    },
    {
     "name": "stdout",
     "output_type": "stream",
     "text": [
      "[ Valid | 094/300 ] loss = 0.73673, acc = 0.76482\n",
      "[ Valid | 094/300 ] loss = 0.73673, acc = 0.76482 -> best\n",
      "Best model found at fold 4 epoch 94, acc=0.76482, saving model\n"
     ]
    },
    {
     "name": "stderr",
     "output_type": "stream",
     "text": [
      "T: 095/300: 100%|█| 78/78 [00:18<00:00,  4.29it/s, lr=8.24e-5, b_loss=0.573, b_a\n"
     ]
    },
    {
     "name": "stdout",
     "output_type": "stream",
     "text": [
      "[ Train | 095/300 ] loss = 0.52526, acc = 0.81774\n"
     ]
    },
    {
     "name": "stderr",
     "output_type": "stream",
     "text": [
      "V: 095/300: 100%|████| 26/26 [00:05<00:00,  4.56it/s, v_loss=0.753, v_acc=0.759]\n"
     ]
    },
    {
     "name": "stdout",
     "output_type": "stream",
     "text": [
      "[ Valid | 095/300 ] loss = 0.75312, acc = 0.75901\n",
      "[ Valid | 095/300 ] loss = 0.75312, acc = 0.75901\n"
     ]
    },
    {
     "name": "stderr",
     "output_type": "stream",
     "text": [
      "T: 096/300: 100%|█| 78/78 [00:18<00:00,  4.31it/s, lr=5.86e-5, b_loss=0.505, b_a\n"
     ]
    },
    {
     "name": "stdout",
     "output_type": "stream",
     "text": [
      "[ Train | 096/300 ] loss = 0.50955, acc = 0.82299\n"
     ]
    },
    {
     "name": "stderr",
     "output_type": "stream",
     "text": [
      "V: 096/300: 100%|████| 26/26 [00:05<00:00,  4.66it/s, v_loss=0.746, v_acc=0.765]\n"
     ]
    },
    {
     "name": "stdout",
     "output_type": "stream",
     "text": [
      "[ Valid | 096/300 ] loss = 0.74578, acc = 0.76474\n",
      "[ Valid | 096/300 ] loss = 0.74578, acc = 0.76474\n"
     ]
    },
    {
     "name": "stderr",
     "output_type": "stream",
     "text": [
      "T: 097/300: 100%|█| 78/78 [00:17<00:00,  4.38it/s, lr=3.82e-5, b_loss=0.427, b_a\n"
     ]
    },
    {
     "name": "stdout",
     "output_type": "stream",
     "text": [
      "[ Train | 097/300 ] loss = 0.48186, acc = 0.83546\n"
     ]
    },
    {
     "name": "stderr",
     "output_type": "stream",
     "text": [
      "V: 097/300: 100%|████| 26/26 [00:05<00:00,  4.92it/s, v_loss=0.732, v_acc=0.773]\n"
     ]
    },
    {
     "name": "stdout",
     "output_type": "stream",
     "text": [
      "[ Valid | 097/300 ] loss = 0.73167, acc = 0.77348\n",
      "[ Valid | 097/300 ] loss = 0.73167, acc = 0.77348 -> best\n",
      "Best model found at fold 4 epoch 97, acc=0.77348, saving model\n"
     ]
    },
    {
     "name": "stderr",
     "output_type": "stream",
     "text": [
      "T: 098/300: 100%|█| 78/78 [00:18<00:00,  4.30it/s, lr=2.18e-5, b_loss=0.588, b_a\n"
     ]
    },
    {
     "name": "stdout",
     "output_type": "stream",
     "text": [
      "[ Train | 098/300 ] loss = 0.47750, acc = 0.83641\n"
     ]
    },
    {
     "name": "stderr",
     "output_type": "stream",
     "text": [
      "V: 098/300: 100%|████| 26/26 [00:05<00:00,  5.01it/s, v_loss=0.738, v_acc=0.771]\n"
     ]
    },
    {
     "name": "stdout",
     "output_type": "stream",
     "text": [
      "[ Valid | 098/300 ] loss = 0.73767, acc = 0.77135\n",
      "[ Valid | 098/300 ] loss = 0.73767, acc = 0.77135\n"
     ]
    },
    {
     "name": "stderr",
     "output_type": "stream",
     "text": [
      "T: 099/300: 100%|█| 78/78 [00:17<00:00,  4.36it/s, lr=9.79e-6, b_loss=0.449, b_a\n"
     ]
    },
    {
     "name": "stdout",
     "output_type": "stream",
     "text": [
      "[ Train | 099/300 ] loss = 0.47963, acc = 0.83605\n"
     ]
    },
    {
     "name": "stderr",
     "output_type": "stream",
     "text": [
      "V: 099/300: 100%|████| 26/26 [00:05<00:00,  4.75it/s, v_loss=0.725, v_acc=0.779]\n"
     ]
    },
    {
     "name": "stdout",
     "output_type": "stream",
     "text": [
      "[ Valid | 099/300 ] loss = 0.72521, acc = 0.77923\n",
      "[ Valid | 099/300 ] loss = 0.72521, acc = 0.77923 -> best\n",
      "Best model found at fold 4 epoch 99, acc=0.77923, saving model\n"
     ]
    },
    {
     "name": "stderr",
     "output_type": "stream",
     "text": [
      "T: 100/300: 100%|█| 78/78 [00:17<00:00,  4.38it/s, lr=2.46e-6, b_loss=0.488, b_a\n"
     ]
    },
    {
     "name": "stdout",
     "output_type": "stream",
     "text": [
      "[ Train | 100/300 ] loss = 0.47298, acc = 0.83842\n"
     ]
    },
    {
     "name": "stderr",
     "output_type": "stream",
     "text": [
      "V: 100/300: 100%|████| 26/26 [00:05<00:00,  4.58it/s, v_loss=0.723, v_acc=0.777]\n"
     ]
    },
    {
     "name": "stdout",
     "output_type": "stream",
     "text": [
      "[ Valid | 100/300 ] loss = 0.72329, acc = 0.77737\n",
      "[ Valid | 100/300 ] loss = 0.72329, acc = 0.77737\n"
     ]
    },
    {
     "name": "stderr",
     "output_type": "stream",
     "text": [
      "T: 101/300: 100%|█| 78/78 [00:18<00:00,  4.27it/s, lr=0.0004, b_loss=0.54, b_acc\n"
     ]
    },
    {
     "name": "stdout",
     "output_type": "stream",
     "text": [
      "[ Train | 101/300 ] loss = 0.72411, acc = 0.75104\n"
     ]
    },
    {
     "name": "stderr",
     "output_type": "stream",
     "text": [
      "V: 101/300: 100%|█████| 26/26 [00:05<00:00,  4.77it/s, v_loss=1.07, v_acc=0.669]\n"
     ]
    },
    {
     "name": "stdout",
     "output_type": "stream",
     "text": [
      "[ Valid | 101/300 ] loss = 1.07396, acc = 0.66903\n",
      "[ Valid | 101/300 ] loss = 1.07396, acc = 0.66903\n"
     ]
    },
    {
     "name": "stderr",
     "output_type": "stream",
     "text": [
      "T: 102/300: 100%|█| 78/78 [00:18<00:00,  4.13it/s, lr=0.000398, b_loss=0.668, b_\n"
     ]
    },
    {
     "name": "stdout",
     "output_type": "stream",
     "text": [
      "[ Train | 102/300 ] loss = 0.71183, acc = 0.75405\n"
     ]
    },
    {
     "name": "stderr",
     "output_type": "stream",
     "text": [
      "V: 102/300: 100%|██████| 26/26 [00:05<00:00,  4.84it/s, v_loss=1.09, v_acc=0.66]\n"
     ]
    },
    {
     "name": "stdout",
     "output_type": "stream",
     "text": [
      "[ Valid | 102/300 ] loss = 1.08683, acc = 0.66008\n",
      "[ Valid | 102/300 ] loss = 1.08683, acc = 0.66008\n"
     ]
    },
    {
     "name": "stderr",
     "output_type": "stream",
     "text": [
      "T: 103/300: 100%|█| 78/78 [00:18<00:00,  4.21it/s, lr=0.00039, b_loss=0.652, b_a\n"
     ]
    },
    {
     "name": "stdout",
     "output_type": "stream",
     "text": [
      "[ Train | 103/300 ] loss = 0.71528, acc = 0.74984\n"
     ]
    },
    {
     "name": "stderr",
     "output_type": "stream",
     "text": [
      "V: 103/300: 100%|████| 26/26 [00:05<00:00,  4.57it/s, v_loss=0.923, v_acc=0.702]\n"
     ]
    },
    {
     "name": "stdout",
     "output_type": "stream",
     "text": [
      "[ Valid | 103/300 ] loss = 0.92291, acc = 0.70184\n",
      "[ Valid | 103/300 ] loss = 0.92291, acc = 0.70184\n"
     ]
    },
    {
     "name": "stderr",
     "output_type": "stream",
     "text": [
      "T: 104/300: 100%|█| 78/78 [00:18<00:00,  4.28it/s, lr=0.000378, b_loss=0.682, b_\n"
     ]
    },
    {
     "name": "stdout",
     "output_type": "stream",
     "text": [
      "[ Train | 104/300 ] loss = 0.67708, acc = 0.76581\n"
     ]
    },
    {
     "name": "stderr",
     "output_type": "stream",
     "text": [
      "V: 104/300: 100%|████| 26/26 [00:05<00:00,  4.85it/s, v_loss=0.899, v_acc=0.714]\n"
     ]
    },
    {
     "name": "stdout",
     "output_type": "stream",
     "text": [
      "[ Valid | 104/300 ] loss = 0.89857, acc = 0.71361\n",
      "[ Valid | 104/300 ] loss = 0.89857, acc = 0.71361\n"
     ]
    },
    {
     "name": "stderr",
     "output_type": "stream",
     "text": [
      "T: 105/300: 100%|█| 78/78 [00:18<00:00,  4.29it/s, lr=0.000362, b_loss=0.715, b_\n"
     ]
    },
    {
     "name": "stdout",
     "output_type": "stream",
     "text": [
      "[ Train | 105/300 ] loss = 0.65915, acc = 0.77520\n"
     ]
    },
    {
     "name": "stderr",
     "output_type": "stream",
     "text": [
      "V: 105/300: 100%|█████| 26/26 [00:05<00:00,  4.95it/s, v_loss=0.99, v_acc=0.692]\n"
     ]
    },
    {
     "name": "stdout",
     "output_type": "stream",
     "text": [
      "[ Valid | 105/300 ] loss = 0.99028, acc = 0.69194\n",
      "[ Valid | 105/300 ] loss = 0.99028, acc = 0.69194\n"
     ]
    },
    {
     "name": "stderr",
     "output_type": "stream",
     "text": [
      "T: 106/300: 100%|█| 78/78 [00:18<00:00,  4.25it/s, lr=0.000341, b_loss=0.617, b_\n"
     ]
    },
    {
     "name": "stdout",
     "output_type": "stream",
     "text": [
      "[ Train | 106/300 ] loss = 0.65500, acc = 0.77271\n"
     ]
    },
    {
     "name": "stderr",
     "output_type": "stream",
     "text": [
      "V: 106/300: 100%|████| 26/26 [00:04<00:00,  5.69it/s, v_loss=0.976, v_acc=0.696]\n"
     ]
    },
    {
     "name": "stdout",
     "output_type": "stream",
     "text": [
      "[ Valid | 106/300 ] loss = 0.97602, acc = 0.69555\n",
      "[ Valid | 106/300 ] loss = 0.97602, acc = 0.69555\n"
     ]
    },
    {
     "name": "stderr",
     "output_type": "stream",
     "text": [
      "T: 107/300: 100%|█| 78/78 [00:18<00:00,  4.31it/s, lr=0.000318, b_loss=0.596, b_\n"
     ]
    },
    {
     "name": "stdout",
     "output_type": "stream",
     "text": [
      "[ Train | 107/300 ] loss = 0.61890, acc = 0.78357\n"
     ]
    },
    {
     "name": "stderr",
     "output_type": "stream",
     "text": [
      "V: 107/300: 100%|████| 26/26 [00:05<00:00,  4.71it/s, v_loss=0.912, v_acc=0.709]\n"
     ]
    },
    {
     "name": "stdout",
     "output_type": "stream",
     "text": [
      "[ Valid | 107/300 ] loss = 0.91159, acc = 0.70915\n",
      "[ Valid | 107/300 ] loss = 0.91159, acc = 0.70915\n"
     ]
    },
    {
     "name": "stderr",
     "output_type": "stream",
     "text": [
      "T: 108/300: 100%|█| 78/78 [00:18<00:00,  4.25it/s, lr=0.000291, b_loss=0.546, b_\n"
     ]
    },
    {
     "name": "stdout",
     "output_type": "stream",
     "text": [
      "[ Train | 108/300 ] loss = 0.59863, acc = 0.79409\n"
     ]
    },
    {
     "name": "stderr",
     "output_type": "stream",
     "text": [
      "V: 108/300: 100%|██████| 26/26 [00:05<00:00,  5.02it/s, v_loss=1.2, v_acc=0.644]\n"
     ]
    },
    {
     "name": "stdout",
     "output_type": "stream",
     "text": [
      "[ Valid | 108/300 ] loss = 1.19700, acc = 0.64380\n",
      "[ Valid | 108/300 ] loss = 1.19700, acc = 0.64380\n"
     ]
    },
    {
     "name": "stderr",
     "output_type": "stream",
     "text": [
      "T: 109/300: 100%|█| 78/78 [00:17<00:00,  4.40it/s, lr=0.000262, b_loss=0.561, b_\n"
     ]
    },
    {
     "name": "stdout",
     "output_type": "stream",
     "text": [
      "[ Train | 109/300 ] loss = 0.59100, acc = 0.79558\n"
     ]
    },
    {
     "name": "stderr",
     "output_type": "stream",
     "text": [
      "V: 109/300: 100%|████| 26/26 [00:05<00:00,  5.19it/s, v_loss=0.871, v_acc=0.729]\n"
     ]
    },
    {
     "name": "stdout",
     "output_type": "stream",
     "text": [
      "[ Valid | 109/300 ] loss = 0.87149, acc = 0.72926\n",
      "[ Valid | 109/300 ] loss = 0.87149, acc = 0.72926\n"
     ]
    },
    {
     "name": "stderr",
     "output_type": "stream",
     "text": [
      "T: 110/300: 100%|█| 78/78 [00:18<00:00,  4.26it/s, lr=0.000231, b_loss=0.564, b_\n"
     ]
    },
    {
     "name": "stdout",
     "output_type": "stream",
     "text": [
      "[ Train | 110/300 ] loss = 0.55629, acc = 0.80979\n"
     ]
    },
    {
     "name": "stderr",
     "output_type": "stream",
     "text": [
      "V: 110/300: 100%|████| 26/26 [00:04<00:00,  5.36it/s, v_loss=0.867, v_acc=0.738]\n"
     ]
    },
    {
     "name": "stdout",
     "output_type": "stream",
     "text": [
      "[ Valid | 110/300 ] loss = 0.86657, acc = 0.73801\n",
      "[ Valid | 110/300 ] loss = 0.86657, acc = 0.73801\n"
     ]
    },
    {
     "name": "stderr",
     "output_type": "stream",
     "text": [
      "T: 111/300: 100%|█| 78/78 [00:17<00:00,  4.42it/s, lr=0.0002, b_loss=0.537, b_ac\n"
     ]
    },
    {
     "name": "stdout",
     "output_type": "stream",
     "text": [
      "[ Train | 111/300 ] loss = 0.54015, acc = 0.81599\n"
     ]
    },
    {
     "name": "stderr",
     "output_type": "stream",
     "text": [
      "V: 111/300: 100%|████| 26/26 [00:05<00:00,  4.99it/s, v_loss=0.816, v_acc=0.739]\n"
     ]
    },
    {
     "name": "stdout",
     "output_type": "stream",
     "text": [
      "[ Valid | 111/300 ] loss = 0.81616, acc = 0.73885\n",
      "[ Valid | 111/300 ] loss = 0.81616, acc = 0.73885\n"
     ]
    },
    {
     "name": "stderr",
     "output_type": "stream",
     "text": [
      "T: 112/300: 100%|█| 78/78 [00:18<00:00,  4.22it/s, lr=0.000169, b_loss=0.556, b_\n"
     ]
    },
    {
     "name": "stdout",
     "output_type": "stream",
     "text": [
      "[ Train | 112/300 ] loss = 0.51218, acc = 0.82331\n"
     ]
    },
    {
     "name": "stderr",
     "output_type": "stream",
     "text": [
      "V: 112/300: 100%|████| 26/26 [00:05<00:00,  4.82it/s, v_loss=0.797, v_acc=0.758]\n"
     ]
    },
    {
     "name": "stdout",
     "output_type": "stream",
     "text": [
      "[ Valid | 112/300 ] loss = 0.79669, acc = 0.75843\n",
      "[ Valid | 112/300 ] loss = 0.79669, acc = 0.75843\n"
     ]
    },
    {
     "name": "stderr",
     "output_type": "stream",
     "text": [
      "T: 113/300: 100%|█| 78/78 [00:18<00:00,  4.27it/s, lr=0.000138, b_loss=0.406, b_\n"
     ]
    },
    {
     "name": "stdout",
     "output_type": "stream",
     "text": [
      "[ Train | 113/300 ] loss = 0.49982, acc = 0.82467\n"
     ]
    },
    {
     "name": "stderr",
     "output_type": "stream",
     "text": [
      "V: 113/300: 100%|████| 26/26 [00:04<00:00,  5.37it/s, v_loss=0.755, v_acc=0.765]\n"
     ]
    },
    {
     "name": "stdout",
     "output_type": "stream",
     "text": [
      "[ Valid | 113/300 ] loss = 0.75506, acc = 0.76502\n",
      "[ Valid | 113/300 ] loss = 0.75506, acc = 0.76502\n"
     ]
    },
    {
     "name": "stderr",
     "output_type": "stream",
     "text": [
      "T: 114/300: 100%|█| 78/78 [00:18<00:00,  4.23it/s, lr=0.000109, b_loss=0.406, b_\n"
     ]
    },
    {
     "name": "stdout",
     "output_type": "stream",
     "text": [
      "[ Train | 114/300 ] loss = 0.48475, acc = 0.83537\n"
     ]
    },
    {
     "name": "stderr",
     "output_type": "stream",
     "text": [
      "V: 114/300: 100%|████| 26/26 [00:05<00:00,  4.55it/s, v_loss=0.749, v_acc=0.772]\n"
     ]
    },
    {
     "name": "stdout",
     "output_type": "stream",
     "text": [
      "[ Valid | 114/300 ] loss = 0.74948, acc = 0.77200\n",
      "[ Valid | 114/300 ] loss = 0.74948, acc = 0.77200\n"
     ]
    },
    {
     "name": "stderr",
     "output_type": "stream",
     "text": [
      "T: 115/300: 100%|█| 78/78 [00:18<00:00,  4.16it/s, lr=8.24e-5, b_loss=0.458, b_a\n"
     ]
    },
    {
     "name": "stdout",
     "output_type": "stream",
     "text": [
      "[ Train | 115/300 ] loss = 0.44803, acc = 0.84666\n"
     ]
    },
    {
     "name": "stderr",
     "output_type": "stream",
     "text": [
      "V: 115/300: 100%|████| 26/26 [00:04<00:00,  5.22it/s, v_loss=0.768, v_acc=0.769]\n"
     ]
    },
    {
     "name": "stdout",
     "output_type": "stream",
     "text": [
      "[ Valid | 115/300 ] loss = 0.76800, acc = 0.76928\n",
      "[ Valid | 115/300 ] loss = 0.76800, acc = 0.76928\n"
     ]
    },
    {
     "name": "stderr",
     "output_type": "stream",
     "text": [
      "T: 116/300: 100%|█| 78/78 [00:17<00:00,  4.39it/s, lr=5.86e-5, b_loss=0.531, b_a\n"
     ]
    },
    {
     "name": "stdout",
     "output_type": "stream",
     "text": [
      "[ Train | 116/300 ] loss = 0.43264, acc = 0.85215\n"
     ]
    },
    {
     "name": "stderr",
     "output_type": "stream",
     "text": [
      "V: 116/300: 100%|█████| 26/26 [00:05<00:00,  4.84it/s, v_loss=0.75, v_acc=0.774]\n"
     ]
    },
    {
     "name": "stdout",
     "output_type": "stream",
     "text": [
      "[ Valid | 116/300 ] loss = 0.75029, acc = 0.77383\n",
      "[ Valid | 116/300 ] loss = 0.75029, acc = 0.77383\n"
     ]
    },
    {
     "name": "stderr",
     "output_type": "stream",
     "text": [
      "T: 117/300: 100%|█| 78/78 [00:17<00:00,  4.44it/s, lr=3.82e-5, b_loss=0.436, b_a\n"
     ]
    },
    {
     "name": "stdout",
     "output_type": "stream",
     "text": [
      "[ Train | 117/300 ] loss = 0.42301, acc = 0.85598\n"
     ]
    },
    {
     "name": "stderr",
     "output_type": "stream",
     "text": [
      "V: 117/300: 100%|████| 26/26 [00:05<00:00,  4.88it/s, v_loss=0.728, v_acc=0.776]\n"
     ]
    },
    {
     "name": "stdout",
     "output_type": "stream",
     "text": [
      "[ Valid | 117/300 ] loss = 0.72797, acc = 0.77612\n",
      "[ Valid | 117/300 ] loss = 0.72797, acc = 0.77612\n"
     ]
    },
    {
     "name": "stderr",
     "output_type": "stream",
     "text": [
      "T: 118/300: 100%|█| 78/78 [00:17<00:00,  4.41it/s, lr=2.18e-5, b_loss=0.388, b_a\n"
     ]
    },
    {
     "name": "stdout",
     "output_type": "stream",
     "text": [
      "[ Train | 118/300 ] loss = 0.40623, acc = 0.86261\n"
     ]
    },
    {
     "name": "stderr",
     "output_type": "stream",
     "text": [
      "V: 118/300: 100%|████| 26/26 [00:05<00:00,  4.74it/s, v_loss=0.737, v_acc=0.776]\n"
     ]
    },
    {
     "name": "stdout",
     "output_type": "stream",
     "text": [
      "[ Valid | 118/300 ] loss = 0.73735, acc = 0.77617\n",
      "[ Valid | 118/300 ] loss = 0.73735, acc = 0.77617\n"
     ]
    },
    {
     "name": "stderr",
     "output_type": "stream",
     "text": [
      "T: 119/300: 100%|█| 78/78 [00:18<00:00,  4.18it/s, lr=9.79e-6, b_loss=0.476, b_a\n"
     ]
    },
    {
     "name": "stdout",
     "output_type": "stream",
     "text": [
      "[ Train | 119/300 ] loss = 0.39087, acc = 0.86748\n"
     ]
    },
    {
     "name": "stderr",
     "output_type": "stream",
     "text": [
      "V: 119/300: 100%|████| 26/26 [00:04<00:00,  5.24it/s, v_loss=0.728, v_acc=0.779]\n"
     ]
    },
    {
     "name": "stdout",
     "output_type": "stream",
     "text": [
      "[ Valid | 119/300 ] loss = 0.72846, acc = 0.77921\n",
      "[ Valid | 119/300 ] loss = 0.72846, acc = 0.77921\n"
     ]
    },
    {
     "name": "stderr",
     "output_type": "stream",
     "text": [
      "T: 120/300: 100%|█| 78/78 [00:18<00:00,  4.29it/s, lr=2.46e-6, b_loss=0.361, b_a\n"
     ]
    },
    {
     "name": "stdout",
     "output_type": "stream",
     "text": [
      "[ Train | 120/300 ] loss = 0.39321, acc = 0.86737\n"
     ]
    },
    {
     "name": "stderr",
     "output_type": "stream",
     "text": [
      "V: 120/300: 100%|████| 26/26 [00:05<00:00,  4.89it/s, v_loss=0.733, v_acc=0.778]"
     ]
    },
    {
     "name": "stdout",
     "output_type": "stream",
     "text": [
      "[ Valid | 120/300 ] loss = 0.73289, acc = 0.77764\n",
      "[ Valid | 120/300 ] loss = 0.73289, acc = 0.77764\n",
      "No improvment 20 consecutive epochs, early stopping\n"
     ]
    },
    {
     "name": "stderr",
     "output_type": "stream",
     "text": [
      "\n"
     ]
    },
    {
     "data": {
      "text/html": [
       "Waiting for W&B process to finish... <strong style=\"color:green\">(success).</strong>"
      ],
      "text/plain": [
       "<IPython.core.display.HTML object>"
      ]
     },
     "metadata": {},
     "output_type": "display_data"
    },
    {
     "data": {
      "text/html": [
       "<style>\n",
       "    table.wandb td:nth-child(1) { padding: 0 10px; text-align: left ; width: auto;} td:nth-child(2) {text-align: left ; width: 100%}\n",
       "    .wandb-row { display: flex; flex-direction: row; flex-wrap: wrap; justify-content: flex-start; width: 100% }\n",
       "    .wandb-col { display: flex; flex-direction: column; flex-basis: 100%; flex: 1; padding: 10px; }\n",
       "    </style>\n",
       "<div class=\"wandb-row\"><div class=\"wandb-col\"><h3>Run history:</h3><br/><table class=\"wandb\"><tr><td>average_training_loss</td><td>█▇▆▅▅▄▄▅▄▄▄▃▃▃▄▃▃▃▂▂▃▃▃▂▂▂▂▃▂▂▂▂▁▂▂▂▂▁▁▁</td></tr><tr><td>average_validation_loss</td><td>█▇▆▅▄▃▃▄▅▄▃▂▂▂▄▅▂▂▂▁▄▃▂▂▁▁▁▃▄▂▁▁▁▃▂▂▂▁▁▁</td></tr><tr><td>learning rate</td><td>██▇▅▃▂▁█▇▆▄▃▂▁█▇▆▄▂▁█▇▆▄▃▂▁█▇▆▄▂▁██▇▅▃▂▁</td></tr><tr><td>step_training_accuracy</td><td>▁▁▃▄▅▅▅▄▆▅▅▆▆▆▅▆▆▆▇▆▆▆▆▆▆▇▆▆▇▇▆█▇▇▆█▇███</td></tr><tr><td>step_training_loss</td><td>██▇▆▅▄▅▆▄▄▄▄▃▄▄▃▃▃▃▃▃▄▃▃▂▂▃▃▂▂▃▁▂▂▂▂▂▁▁▁</td></tr><tr><td>step_validation_accuracy</td><td>▁▁▂▂▂▅▆▃▃▅▅▇▇▄▃▄▅▆▇▇▄▅▅▆▇▆▇▆▇█▆▇▇▇▆▅▇▆██</td></tr><tr><td>step_validation_loss</td><td>██▆▇▆▄▃▆▇▃▄▂▂▄▆▆▄▂▁▃▅▄▃▃▂▂▂▃▁▁▃▂▁▂▂▄▄▃▃▁</td></tr></table><br/></div><div class=\"wandb-col\"><h3>Run summary:</h3><br/><table class=\"wandb\"><tr><td>average_training_loss</td><td>0.39321</td></tr><tr><td>average_validation_loss</td><td>0.73289</td></tr><tr><td>learning rate</td><td>0.0</td></tr><tr><td>step_training_accuracy</td><td>0.90517</td></tr><tr><td>step_training_loss</td><td>0.36137</td></tr><tr><td>step_validation_accuracy</td><td>0.75</td></tr><tr><td>step_validation_loss</td><td>0.83132</td></tr></table><br/></div></div>"
      ],
      "text/plain": [
       "<IPython.core.display.HTML object>"
      ]
     },
     "metadata": {},
     "output_type": "display_data"
    },
    {
     "data": {
      "text/html": [
       " View run <strong style=\"color:#cdcd00\">stoic-star-32</strong> at: <a href='https://wandb.ai/nickwkt/Food-11/runs/74f3cmm1' target=\"_blank\">https://wandb.ai/nickwkt/Food-11/runs/74f3cmm1</a><br/>Synced 6 W&B file(s), 0 media file(s), 0 artifact file(s) and 0 other file(s)"
      ],
      "text/plain": [
       "<IPython.core.display.HTML object>"
      ]
     },
     "metadata": {},
     "output_type": "display_data"
    },
    {
     "data": {
      "text/html": [
       "Find logs at: <code>./wandb/run-20230416_050903-74f3cmm1/logs</code>"
      ],
      "text/plain": [
       "<IPython.core.display.HTML object>"
      ]
     },
     "metadata": {},
     "output_type": "display_data"
    }
   ],
   "source": [
    "# \"cuda\" only when GPUs are available.\n",
    "device = \"cuda\" if torch.cuda.is_available() else \"cpu\"\n",
    "print(device)\n",
    "\n",
    "test_fold = k_fold\n",
    "\n",
    "for i in range(test_fold):\n",
    "    fold = i+1\n",
    "    print(f'\\n\\nStarting Fold: {fold} ********************************************')\n",
    "    model = Classifier(Residual_Block, num_layers).to(device)\n",
    "    print(next(model.parameters()).device)\n",
    "    criterion = nn.CrossEntropyLoss()\n",
    "    optimizer = torch.optim.Adam(model.parameters(), lr=0.0004, weight_decay=1e-5) \n",
    "    scheduler = torch.optim.lr_scheduler.CosineAnnealingWarmRestarts(optimizer, T_0=20, T_mult=1)\n",
    "    stale = 0\n",
    "    best_acc = 0\n",
    "    \n",
    "    val_data = total_files[i*num: (i+1)*num]\n",
    "    train_data = total_files[:i*num] + total_files[(i+1)*num:]\n",
    "    \n",
    "    train_set = FoodDataset(tfm=train_tfm, files=train_data)\n",
    "    train_loader = DataLoader(train_set, batch_size=batch_size, shuffle=True, num_workers=num_cpu, pin_memory=True)\n",
    "    \n",
    "    valid_set = FoodDataset(tfm=test_tfm, files=val_data)\n",
    "    valid_loader = DataLoader(valid_set, batch_size=batch_size, shuffle=True, num_workers=num_cpu, pin_memory=True)\n",
    "    \n",
    "    wandb.init(\n",
    "        project=\"Food-11\",\n",
    "        config={\n",
    "            \"learning rate\": 0.0004,\n",
    "            \"architecture\": \"CNN\",\n",
    "            \"epochs\": n_epochs,\n",
    "            \"batch_size\": batch_size,\n",
    "            \"image_dim\": 128,\n",
    "        }\n",
    "    )\n",
    "\n",
    "    for epoch in range(n_epochs):\n",
    "    \n",
    "        # ---------- Training ----------\n",
    "        # Make sure the model is in train mode before training.\n",
    "        model.train()\n",
    "    \n",
    "        # These are used to record information in training.\n",
    "        train_loss = []\n",
    "        train_accs = []\n",
    "        lr = optimizer.param_groups[0][\"lr\"]\n",
    "        \n",
    "        pbar = tqdm(train_loader)\n",
    "        pbar.set_description(f'T: {epoch+1:03d}/{n_epochs:03d}')\n",
    "        for batch in pbar:\n",
    "    \n",
    "            # A batch consists of image data and corresponding labels.\n",
    "            imgs, labels = batch\n",
    "            #imgs = imgs.half()\n",
    "            #print(imgs.shape,labels.shape)\n",
    "    \n",
    "            # Forward the data. (Make sure data and model are on the same device.)\n",
    "            logits = model(imgs.to(device))\n",
    "    \n",
    "            # Calculate the cross-entropy loss.\n",
    "            # We don't need to apply softmax before computing cross-entropy as it is done automatically.\n",
    "            loss = criterion(logits, labels.to(device))\n",
    "    \n",
    "            # Gradients stored in the parameters in the previous step should be cleared out first.\n",
    "            optimizer.zero_grad()\n",
    "    \n",
    "            # Compute the gradients for parameters.\n",
    "            loss.backward()\n",
    "    \n",
    "            # Clip the gradient norms for stable training.\n",
    "            grad_norm = nn.utils.clip_grad_norm_(model.parameters(), max_norm=10)\n",
    "    \n",
    "            # Update the parameters with computed gradients.\n",
    "            optimizer.step()\n",
    "    \n",
    "            # Compute the accuracy for current batch.\n",
    "            acc = (logits.argmax(dim=-1) == labels.to(device)).float().mean()\n",
    "    \n",
    "            # Record the loss and accuracy.\n",
    "            wandb.log({\"step_training_loss\": loss.item()})\n",
    "            wandb.log({\"step_training_accuracy\": acc})\n",
    "            train_loss.append(loss.item())\n",
    "            train_accs.append(acc)\n",
    "            pbar.set_postfix({'lr':lr, 'b_loss':loss.item(), 'b_acc':acc.item(),\n",
    "                    'loss':sum(train_loss)/len(train_loss), 'acc': sum(train_accs).item()/len(train_accs)})\n",
    "            \n",
    "        train_loss = sum(train_loss) / len(train_loss)\n",
    "        train_acc = sum(train_accs) / len(train_accs)\n",
    "        # Print the information.\n",
    "        print(f\"[ Train | {epoch + 1:03d}/{n_epochs:03d} ] loss = {train_loss:.5f}, acc = {train_acc:.5f}\")\n",
    "\n",
    "        wandb.log({\"learning rate\": scheduler.get_last_lr()[0]})\n",
    "\n",
    "        scheduler.step()\n",
    "        \n",
    "        \n",
    "        # Make sure the model is in eval mode so that some modules like dropout are disabled and work normally.\n",
    "        model.eval()\n",
    "    \n",
    "        # These are used to record information in validation.\n",
    "        valid_loss = []\n",
    "        valid_accs = []\n",
    "    \n",
    "        # Iterate the validation set by batches.\n",
    "        pbar = tqdm(valid_loader)\n",
    "        pbar.set_description(f'V: {epoch+1:03d}/{n_epochs:03d}')\n",
    "        for batch in pbar:\n",
    "\n",
    "            # A batch consists of image data and corresponding labels.\n",
    "            imgs, labels = batch\n",
    "            #imgs = imgs.half()\n",
    "    \n",
    "            # We don't need gradient in validation.\n",
    "            # Using torch.no_grad() accelerates the forward process.\n",
    "            with torch.no_grad():\n",
    "                logits = model(imgs.to(device))\n",
    "    \n",
    "            # We can still compute the loss (but not the gradient).\n",
    "            loss = criterion(logits, labels.to(device))\n",
    "    \n",
    "            # Compute the accuracy for current batch.\n",
    "            acc = (logits.argmax(dim=-1) == labels.to(device)).float().mean()\n",
    "    \n",
    "            # Record the loss and accuracy.\n",
    "            wandb.log({\"step_validation_loss\": loss.item()})\n",
    "            wandb.log({\"step_validation_accuracy\": acc})\n",
    "            valid_loss.append(loss.item())\n",
    "            valid_accs.append(acc)\n",
    "            pbar.set_postfix({'v_loss':sum(valid_loss)/len(valid_loss), \n",
    "                              'v_acc': sum(valid_accs).item()/len(valid_accs)})\n",
    "        \n",
    "            #break\n",
    "    \n",
    "        # The average loss and accuracy for entire validation set is the average of the recorded values.\n",
    "        valid_loss = sum(valid_loss) / len(valid_loss)\n",
    "        valid_acc = sum(valid_accs) / len(valid_accs)\n",
    "\n",
    "        # Print the information.\n",
    "        print(f\"[ Valid | {epoch + 1:03d}/{n_epochs:03d} ] loss = {valid_loss:.5f}, acc = {valid_acc:.5f}\")\n",
    "\n",
    "        # update logs\n",
    "        if valid_acc > best_acc:\n",
    "            with open(f\"{_exp_name}_fold_{fold}_log.txt\",\"a\") as f:\n",
    "                newline = '\\n'\n",
    "                item = f\"[ Valid | {epoch + 1:03d}/{n_epochs:03d} ] loss = {valid_loss:.5f}, acc = {valid_acc:.5f} -> best{newline}\"\n",
    "                f.write(item)\n",
    "                print(f\"[ Valid | {epoch + 1:03d}/{n_epochs:03d} ] loss = {valid_loss:.5f}, acc = {valid_acc:.5f} -> best\")\n",
    "        else:\n",
    "            with open(f\"{_exp_name}_fold_{fold}_log.txt\",\"a\") as f:\n",
    "                newline = '\\n'\n",
    "                item = f\"[ Valid | {epoch + 1:03d}/{n_epochs:03d} ] loss = {valid_loss:.5f}, acc = {valid_acc:.5f}{newline}\"\n",
    "                f.write(item)\n",
    "                print(f\"[ Valid | {epoch + 1:03d}/{n_epochs:03d} ] loss = {valid_loss:.5f}, acc = {valid_acc:.5f}\")\n",
    "        \n",
    "        wandb.log({\n",
    "            \"average_training_loss\": train_loss,\n",
    "            \"average_validation_loss\": valid_loss,\n",
    "        })\n",
    "\n",
    "        # save models\n",
    "        if valid_acc > best_acc:\n",
    "            print(f\"Best model found at fold {fold} epoch {epoch+1}, acc={valid_acc:.5f}, saving model\")\n",
    "            torch.save(model.state_dict(), f\"Fold_{fold}_best.ckpt\")\n",
    "            # only save best to prevent output memory exceed error\n",
    "            best_acc = valid_acc\n",
    "            stale = 0\n",
    "        else:\n",
    "            stale += 1\n",
    "            if stale > patience:\n",
    "                print(f\"No improvment {patience} consecutive epochs, early stopping\")\n",
    "                break\n",
    "    wandb.finish()"
   ]
  },
  {
   "cell_type": "code",
   "execution_count": 12,
   "metadata": {
    "colab": {
     "base_uri": "https://localhost:8080/"
    },
    "executionInfo": {
     "elapsed": 16,
     "status": "ok",
     "timestamp": 1681160711111,
     "user": {
      "displayName": "Nick Wu",
      "userId": "10283763741837486654"
     },
     "user_tz": -480
    },
    "id": "B9QNdHIXVaVP",
    "outputId": "0d0024e1-07b4-498f-9a3b-ea1815319f95",
    "papermill": {
     "duration": 0.493644,
     "end_time": "2022-02-23T19:10:19.985992",
     "exception": false,
     "start_time": "2022-02-23T19:10:19.492348",
     "status": "completed"
    },
    "tags": []
   },
   "outputs": [],
   "source": [
    "test_dir = \"./food-11/test\"\n",
    "test_set = FoodDataset(test_dir, tfm=test_tfm)\n",
    "test_loader = DataLoader(test_set, batch_size=batch_size, shuffle=False, num_workers=num_cpu, pin_memory=True)"
   ]
  },
  {
   "cell_type": "markdown",
   "metadata": {
    "id": "G31uyjpvVaVP",
    "papermill": {
     "duration": 0.498773,
     "end_time": "2022-02-23T19:10:20.961802",
     "exception": false,
     "start_time": "2022-02-23T19:10:20.463029",
     "status": "completed"
    },
    "tags": []
   },
   "source": [
    "# Testing and generate prediction CSV"
   ]
  },
  {
   "cell_type": "code",
   "execution_count": 13,
   "metadata": {
    "colab": {
     "base_uri": "https://localhost:8080/"
    },
    "executionInfo": {
     "elapsed": 6246,
     "status": "ok",
     "timestamp": 1681160717352,
     "user": {
      "displayName": "Nick Wu",
      "userId": "10283763741837486654"
     },
     "user_tz": -480
    },
    "id": "bpLtxx5FVaVP",
    "outputId": "bf66ac1c-27e3-4097-ac23-457dc0b7ba36",
    "papermill": {
     "duration": 49.157727,
     "end_time": "2022-02-23T19:11:10.61523",
     "exception": false,
     "start_time": "2022-02-23T19:10:21.457503",
     "status": "completed"
    },
    "tags": []
   },
   "outputs": [
    {
     "name": "stdout",
     "output_type": "stream",
     "text": [
      "Test accurary: 0.8356634378433228\n"
     ]
    }
   ],
   "source": [
    "device = \"cuda\" if torch.cuda.is_available() else \"cpu\"\n",
    "\n",
    "test_fold = k_fold\n",
    "\n",
    "models = []\n",
    "for i in range(test_fold):\n",
    "    fold = i + 1\n",
    "    model_best = Classifier(Residual_Block, num_layers).to(device)\n",
    "    model_best.load_state_dict(torch.load(f\"Fold_{fold}_best.ckpt\"))\n",
    "    model_best.eval()\n",
    "    models.append(model_best)\n",
    "\n",
    "prediction = []\n",
    "test_accs = []\n",
    "true_labels = []\n",
    "with torch.no_grad():\n",
    "    for data, labels in test_loader:\n",
    "        test_preds = [] \n",
    "        for model_best in models:\n",
    "            test_preds.append(model_best(data.to(device)).cpu().data.numpy())\n",
    "        \n",
    "        preds = []\n",
    "        for i in range(test_fold):\n",
    "            temp_pred = np.argmax(test_preds[i], axis=1).tolist()\n",
    "            preds.append(temp_pred)\n",
    "        pred = list(zip(*preds))\n",
    "        pred = np.array(pred)\n",
    "        choice = np.apply_along_axis(lambda x: np.bincount(x).argmax(), axis=1, arr=pred)\n",
    "\n",
    "        test_preds = torch.from_numpy(choice).to(device)\n",
    "        acc = (test_preds == labels.to(device)).float().mean()\n",
    "        test_accs.append(acc)\n",
    "        prediction += choice.squeeze().tolist()\n",
    "        true_labels.extend(labels.tolist())\n",
    "\n",
    "test_acc = sum(test_accs) / len(test_accs)\n",
    "print(f\"Test accurary: {test_acc}\")"
   ]
  },
  {
   "cell_type": "code",
   "execution_count": 14,
   "metadata": {
    "id": "fKupB3VUVaVQ",
    "papermill": {
     "duration": 0.554276,
     "end_time": "2022-02-23T19:11:11.870035",
     "exception": false,
     "start_time": "2022-02-23T19:11:11.315759",
     "status": "completed"
    },
    "tags": []
   },
   "outputs": [],
   "source": [
    "#create test csv\n",
    "def pad4(i):\n",
    "    return \"0\"*(4-len(str(i)))+str(i)\n",
    "df = pd.DataFrame()\n",
    "df[\"Id\"] = [pad4(i) for i in range(1,len(test_set)+1)]\n",
    "df[\"Category\"] = prediction\n",
    "df.to_csv(\"prediction_resnet.csv\",index = False)\n",
    "\n",
    "df = pd.DataFrame()\n",
    "df[\"Id\"] = [pad4(i) for i in range(1,len(test_set)+1)]\n",
    "df[\"Category\"] = true_labels\n",
    "df.to_csv(\"true_labels.csv\",index = False)"
   ]
  }
 ],
 "metadata": {
  "accelerator": "GPU",
  "colab": {
   "machine_shape": "hm",
   "provenance": [
    {
     "file_id": "15hMu9YiYjE_6HY99UXon2vKGk2KwugWu",
     "timestamp": 1681142933591
    }
   ]
  },
  "gpuClass": "premium",
  "kernelspec": {
   "display_name": "Python 3 (ipykernel)",
   "language": "python",
   "name": "python3"
  },
  "language_info": {
   "codemirror_mode": {
    "name": "ipython",
    "version": 3
   },
   "file_extension": ".py",
   "mimetype": "text/x-python",
   "name": "python",
   "nbconvert_exporter": "python",
   "pygments_lexer": "ipython3",
   "version": "3.7.16"
  }
 },
 "nbformat": 4,
 "nbformat_minor": 4
}
